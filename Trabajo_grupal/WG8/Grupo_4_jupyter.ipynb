{
 "cells": [
  {
   "cell_type": "code",
   "execution_count": 11,
   "id": "453e2023",
   "metadata": {},
   "outputs": [
    {
     "data": {
      "text/html": [
       "\n",
       "<style>\n",
       "    div#notebook-container    { width: 80%; }\n",
       "    div#menubar-container     { width: 65%; }\n",
       "    div#maintoolbar-container { width: 80%; }a\n",
       "</style>\n"
      ],
      "text/plain": [
       "<IPython.core.display.HTML object>"
      ]
     },
     "metadata": {},
     "output_type": "display_data"
    }
   ],
   "source": [
    "from IPython.display import display, HTML\n",
    "\n",
    "display(HTML(data=\"\"\"\n",
    "<style>\n",
    "    div#notebook-container    { width: 80%; }\n",
    "    div#menubar-container     { width: 65%; }\n",
    "    div#maintoolbar-container { width: 80%; }a\n",
    "</style>\n",
    "\"\"\"))"
   ]
  },
  {
   "cell_type": "markdown",
   "id": "edb60089",
   "metadata": {},
   "source": [
    "# Tarea 8 - Grupo 4: \n",
    "\n",
    "### Gráficos en Jupyter Notebook : Encuesta de población - EE. UU. (2015)\n",
    "\n",
    "#### Integrantes:\n",
    "- Luana Morales\n",
    "- Marcela Quintero\n",
    "- Seidy Ascencios\n",
    "- Flavia Oré"
   ]
  },
  {
   "cell_type": "code",
   "execution_count": 127,
   "id": "e78bb8fc",
   "metadata": {},
   "outputs": [],
   "source": [
    "import numpy as np   \n",
    "import pandas as pd\n",
    "from pandas import Series, DataFrame\n",
    "import matplotlib.pyplot as plt  # libreria de gráficos \n",
    "import seaborn as sns  # libreria 2 para gráficos \n",
    "import datetime as dt # manejar fechas \n",
    "import warnings\n",
    "warnings.filterwarnings('ignore') # eliminar warning messages "
   ]
  },
  {
   "cell_type": "markdown",
   "id": "00d28e17",
   "metadata": {},
   "source": [
    "Cargamos la base de datos"
   ]
  },
  {
   "cell_type": "code",
   "execution_count": 128,
   "id": "ab9708de",
   "metadata": {
    "scrolled": true
   },
   "outputs": [
    {
     "name": "stdout",
     "output_type": "stream",
     "text": [
      "Requirement already satisfied: pyreadr in c:\\users\\marcela quintero\\anaconda3\\lib\\site-packages (0.4.7)\n",
      "Requirement already satisfied: pandas>=1.2.0 in c:\\users\\marcela quintero\\anaconda3\\lib\\site-packages (from pyreadr) (1.4.2)\n",
      "Requirement already satisfied: numpy>=1.18.5 in c:\\users\\marcela quintero\\anaconda3\\lib\\site-packages (from pandas>=1.2.0->pyreadr) (1.21.5)\n",
      "Requirement already satisfied: pytz>=2020.1 in c:\\users\\marcela quintero\\anaconda3\\lib\\site-packages (from pandas>=1.2.0->pyreadr) (2021.3)\n",
      "Requirement already satisfied: python-dateutil>=2.8.1 in c:\\users\\marcela quintero\\anaconda3\\lib\\site-packages (from pandas>=1.2.0->pyreadr) (2.8.2)\n",
      "Requirement already satisfied: six>=1.5 in c:\\users\\marcela quintero\\anaconda3\\lib\\site-packages (from python-dateutil>=2.8.1->pandas>=1.2.0->pyreadr) (1.16.0)\n"
     ]
    }
   ],
   "source": [
    "!pip install pyreadr\n",
    "\n",
    "import pyreadr"
   ]
  },
  {
   "cell_type": "code",
   "execution_count": 129,
   "id": "563f4a63",
   "metadata": {
    "scrolled": true
   },
   "outputs": [
    {
     "data": {
      "text/plain": [
       "OrderedDict([('data',\n",
       "                             wage     lwage  sex  shs  hsg  scl  clg   ad   mw   so   we  \\\n",
       "              rownames                                                                     \n",
       "              10         9.615385  2.263364  1.0  0.0  0.0  0.0  1.0  0.0  0.0  0.0  0.0   \n",
       "              12        48.076923  3.872802  0.0  0.0  0.0  0.0  1.0  0.0  0.0  0.0  0.0   \n",
       "              15        11.057692  2.403126  0.0  0.0  1.0  0.0  0.0  0.0  0.0  0.0  0.0   \n",
       "              18        13.942308  2.634928  1.0  0.0  0.0  0.0  0.0  1.0  0.0  0.0  0.0   \n",
       "              19        28.846154  3.361977  1.0  0.0  0.0  0.0  1.0  0.0  0.0  0.0  0.0   \n",
       "              ...             ...       ...  ...  ...  ...  ...  ...  ...  ...  ...  ...   \n",
       "              32620     14.769231  2.692546  0.0  0.0  0.0  0.0  1.0  0.0  0.0  0.0  1.0   \n",
       "              32624     23.076923  3.138833  1.0  0.0  0.0  1.0  0.0  0.0  0.0  0.0  1.0   \n",
       "              32626     38.461538  3.649659  0.0  0.0  0.0  0.0  0.0  1.0  0.0  0.0  1.0   \n",
       "              32631     32.967033  3.495508  0.0  0.0  1.0  0.0  0.0  0.0  0.0  0.0  1.0   \n",
       "              32643     17.307692  2.851151  0.0  0.0  0.0  0.0  0.0  1.0  0.0  0.0  1.0   \n",
       "              \n",
       "                         ne  exp1  exp2    exp3     exp4   occ occ2   ind ind2  \n",
       "              rownames                                                          \n",
       "              10        1.0   7.0  0.49   0.343   0.2401  3600   11  8370   18  \n",
       "              12        1.0  31.0  9.61  29.791  92.3521  3050   10  5070    9  \n",
       "              15        1.0  18.0  3.24   5.832  10.4976  6260   19   770    4  \n",
       "              18        1.0  25.0  6.25  15.625  39.0625   420    1  6990   12  \n",
       "              19        1.0  22.0  4.84  10.648  23.4256  2015    6  9470   22  \n",
       "              ...       ...   ...   ...     ...      ...   ...  ...   ...  ...  \n",
       "              32620     0.0   9.0  0.81   0.729   0.6561  4700   16  4970    9  \n",
       "              32624     0.0  12.0  1.44   1.728   2.0736  4110   13  8680   20  \n",
       "              32626     0.0  11.0  1.21   1.331   1.4641  1550    4  3680    6  \n",
       "              32631     0.0  10.0  1.00   1.000   1.0000  2920    9  6570   11  \n",
       "              32643     0.0  14.0  1.96   2.744   3.8416  1610    5  7460   14  \n",
       "              \n",
       "              [5150 rows x 20 columns])])"
      ]
     },
     "execution_count": 129,
     "metadata": {},
     "output_type": "execute_result"
    }
   ],
   "source": [
    "encuesta = pyreadr.read_r(\"../1ECO35_2022_2/data/wage2015_subsample_inference.RData\")\n",
    "encuesta"
   ]
  },
  {
   "cell_type": "code",
   "execution_count": 130,
   "id": "48b35ca7",
   "metadata": {
    "scrolled": false
   },
   "outputs": [
    {
     "data": {
      "text/plain": [
       "collections.OrderedDict"
      ]
     },
     "execution_count": 130,
     "metadata": {},
     "output_type": "execute_result"
    }
   ],
   "source": [
    "type (encuesta)"
   ]
  },
  {
   "cell_type": "code",
   "execution_count": 131,
   "id": "f4a261e2",
   "metadata": {
    "scrolled": true
   },
   "outputs": [
    {
     "data": {
      "text/html": [
       "<div>\n",
       "<style scoped>\n",
       "    .dataframe tbody tr th:only-of-type {\n",
       "        vertical-align: middle;\n",
       "    }\n",
       "\n",
       "    .dataframe tbody tr th {\n",
       "        vertical-align: top;\n",
       "    }\n",
       "\n",
       "    .dataframe thead th {\n",
       "        text-align: right;\n",
       "    }\n",
       "</style>\n",
       "<table border=\"1\" class=\"dataframe\">\n",
       "  <thead>\n",
       "    <tr style=\"text-align: right;\">\n",
       "      <th></th>\n",
       "      <th>wage</th>\n",
       "      <th>lwage</th>\n",
       "      <th>sex</th>\n",
       "      <th>shs</th>\n",
       "      <th>hsg</th>\n",
       "      <th>scl</th>\n",
       "      <th>clg</th>\n",
       "      <th>ad</th>\n",
       "      <th>mw</th>\n",
       "      <th>so</th>\n",
       "      <th>we</th>\n",
       "      <th>ne</th>\n",
       "      <th>exp1</th>\n",
       "      <th>exp2</th>\n",
       "      <th>exp3</th>\n",
       "      <th>exp4</th>\n",
       "      <th>occ</th>\n",
       "      <th>occ2</th>\n",
       "      <th>ind</th>\n",
       "      <th>ind2</th>\n",
       "    </tr>\n",
       "    <tr>\n",
       "      <th>rownames</th>\n",
       "      <th></th>\n",
       "      <th></th>\n",
       "      <th></th>\n",
       "      <th></th>\n",
       "      <th></th>\n",
       "      <th></th>\n",
       "      <th></th>\n",
       "      <th></th>\n",
       "      <th></th>\n",
       "      <th></th>\n",
       "      <th></th>\n",
       "      <th></th>\n",
       "      <th></th>\n",
       "      <th></th>\n",
       "      <th></th>\n",
       "      <th></th>\n",
       "      <th></th>\n",
       "      <th></th>\n",
       "      <th></th>\n",
       "      <th></th>\n",
       "    </tr>\n",
       "  </thead>\n",
       "  <tbody>\n",
       "    <tr>\n",
       "      <th>10</th>\n",
       "      <td>9.615385</td>\n",
       "      <td>2.263364</td>\n",
       "      <td>1.0</td>\n",
       "      <td>0.0</td>\n",
       "      <td>0.0</td>\n",
       "      <td>0.0</td>\n",
       "      <td>1.0</td>\n",
       "      <td>0.0</td>\n",
       "      <td>0.0</td>\n",
       "      <td>0.0</td>\n",
       "      <td>0.0</td>\n",
       "      <td>1.0</td>\n",
       "      <td>7.0</td>\n",
       "      <td>0.49</td>\n",
       "      <td>0.343</td>\n",
       "      <td>0.2401</td>\n",
       "      <td>3600</td>\n",
       "      <td>11</td>\n",
       "      <td>8370</td>\n",
       "      <td>18</td>\n",
       "    </tr>\n",
       "    <tr>\n",
       "      <th>12</th>\n",
       "      <td>48.076923</td>\n",
       "      <td>3.872802</td>\n",
       "      <td>0.0</td>\n",
       "      <td>0.0</td>\n",
       "      <td>0.0</td>\n",
       "      <td>0.0</td>\n",
       "      <td>1.0</td>\n",
       "      <td>0.0</td>\n",
       "      <td>0.0</td>\n",
       "      <td>0.0</td>\n",
       "      <td>0.0</td>\n",
       "      <td>1.0</td>\n",
       "      <td>31.0</td>\n",
       "      <td>9.61</td>\n",
       "      <td>29.791</td>\n",
       "      <td>92.3521</td>\n",
       "      <td>3050</td>\n",
       "      <td>10</td>\n",
       "      <td>5070</td>\n",
       "      <td>9</td>\n",
       "    </tr>\n",
       "    <tr>\n",
       "      <th>15</th>\n",
       "      <td>11.057692</td>\n",
       "      <td>2.403126</td>\n",
       "      <td>0.0</td>\n",
       "      <td>0.0</td>\n",
       "      <td>1.0</td>\n",
       "      <td>0.0</td>\n",
       "      <td>0.0</td>\n",
       "      <td>0.0</td>\n",
       "      <td>0.0</td>\n",
       "      <td>0.0</td>\n",
       "      <td>0.0</td>\n",
       "      <td>1.0</td>\n",
       "      <td>18.0</td>\n",
       "      <td>3.24</td>\n",
       "      <td>5.832</td>\n",
       "      <td>10.4976</td>\n",
       "      <td>6260</td>\n",
       "      <td>19</td>\n",
       "      <td>770</td>\n",
       "      <td>4</td>\n",
       "    </tr>\n",
       "    <tr>\n",
       "      <th>18</th>\n",
       "      <td>13.942308</td>\n",
       "      <td>2.634928</td>\n",
       "      <td>1.0</td>\n",
       "      <td>0.0</td>\n",
       "      <td>0.0</td>\n",
       "      <td>0.0</td>\n",
       "      <td>0.0</td>\n",
       "      <td>1.0</td>\n",
       "      <td>0.0</td>\n",
       "      <td>0.0</td>\n",
       "      <td>0.0</td>\n",
       "      <td>1.0</td>\n",
       "      <td>25.0</td>\n",
       "      <td>6.25</td>\n",
       "      <td>15.625</td>\n",
       "      <td>39.0625</td>\n",
       "      <td>420</td>\n",
       "      <td>1</td>\n",
       "      <td>6990</td>\n",
       "      <td>12</td>\n",
       "    </tr>\n",
       "    <tr>\n",
       "      <th>19</th>\n",
       "      <td>28.846154</td>\n",
       "      <td>3.361977</td>\n",
       "      <td>1.0</td>\n",
       "      <td>0.0</td>\n",
       "      <td>0.0</td>\n",
       "      <td>0.0</td>\n",
       "      <td>1.0</td>\n",
       "      <td>0.0</td>\n",
       "      <td>0.0</td>\n",
       "      <td>0.0</td>\n",
       "      <td>0.0</td>\n",
       "      <td>1.0</td>\n",
       "      <td>22.0</td>\n",
       "      <td>4.84</td>\n",
       "      <td>10.648</td>\n",
       "      <td>23.4256</td>\n",
       "      <td>2015</td>\n",
       "      <td>6</td>\n",
       "      <td>9470</td>\n",
       "      <td>22</td>\n",
       "    </tr>\n",
       "    <tr>\n",
       "      <th>...</th>\n",
       "      <td>...</td>\n",
       "      <td>...</td>\n",
       "      <td>...</td>\n",
       "      <td>...</td>\n",
       "      <td>...</td>\n",
       "      <td>...</td>\n",
       "      <td>...</td>\n",
       "      <td>...</td>\n",
       "      <td>...</td>\n",
       "      <td>...</td>\n",
       "      <td>...</td>\n",
       "      <td>...</td>\n",
       "      <td>...</td>\n",
       "      <td>...</td>\n",
       "      <td>...</td>\n",
       "      <td>...</td>\n",
       "      <td>...</td>\n",
       "      <td>...</td>\n",
       "      <td>...</td>\n",
       "      <td>...</td>\n",
       "    </tr>\n",
       "    <tr>\n",
       "      <th>32620</th>\n",
       "      <td>14.769231</td>\n",
       "      <td>2.692546</td>\n",
       "      <td>0.0</td>\n",
       "      <td>0.0</td>\n",
       "      <td>0.0</td>\n",
       "      <td>0.0</td>\n",
       "      <td>1.0</td>\n",
       "      <td>0.0</td>\n",
       "      <td>0.0</td>\n",
       "      <td>0.0</td>\n",
       "      <td>1.0</td>\n",
       "      <td>0.0</td>\n",
       "      <td>9.0</td>\n",
       "      <td>0.81</td>\n",
       "      <td>0.729</td>\n",
       "      <td>0.6561</td>\n",
       "      <td>4700</td>\n",
       "      <td>16</td>\n",
       "      <td>4970</td>\n",
       "      <td>9</td>\n",
       "    </tr>\n",
       "    <tr>\n",
       "      <th>32624</th>\n",
       "      <td>23.076923</td>\n",
       "      <td>3.138833</td>\n",
       "      <td>1.0</td>\n",
       "      <td>0.0</td>\n",
       "      <td>0.0</td>\n",
       "      <td>1.0</td>\n",
       "      <td>0.0</td>\n",
       "      <td>0.0</td>\n",
       "      <td>0.0</td>\n",
       "      <td>0.0</td>\n",
       "      <td>1.0</td>\n",
       "      <td>0.0</td>\n",
       "      <td>12.0</td>\n",
       "      <td>1.44</td>\n",
       "      <td>1.728</td>\n",
       "      <td>2.0736</td>\n",
       "      <td>4110</td>\n",
       "      <td>13</td>\n",
       "      <td>8680</td>\n",
       "      <td>20</td>\n",
       "    </tr>\n",
       "    <tr>\n",
       "      <th>32626</th>\n",
       "      <td>38.461538</td>\n",
       "      <td>3.649659</td>\n",
       "      <td>0.0</td>\n",
       "      <td>0.0</td>\n",
       "      <td>0.0</td>\n",
       "      <td>0.0</td>\n",
       "      <td>0.0</td>\n",
       "      <td>1.0</td>\n",
       "      <td>0.0</td>\n",
       "      <td>0.0</td>\n",
       "      <td>1.0</td>\n",
       "      <td>0.0</td>\n",
       "      <td>11.0</td>\n",
       "      <td>1.21</td>\n",
       "      <td>1.331</td>\n",
       "      <td>1.4641</td>\n",
       "      <td>1550</td>\n",
       "      <td>4</td>\n",
       "      <td>3680</td>\n",
       "      <td>6</td>\n",
       "    </tr>\n",
       "    <tr>\n",
       "      <th>32631</th>\n",
       "      <td>32.967033</td>\n",
       "      <td>3.495508</td>\n",
       "      <td>0.0</td>\n",
       "      <td>0.0</td>\n",
       "      <td>1.0</td>\n",
       "      <td>0.0</td>\n",
       "      <td>0.0</td>\n",
       "      <td>0.0</td>\n",
       "      <td>0.0</td>\n",
       "      <td>0.0</td>\n",
       "      <td>1.0</td>\n",
       "      <td>0.0</td>\n",
       "      <td>10.0</td>\n",
       "      <td>1.00</td>\n",
       "      <td>1.000</td>\n",
       "      <td>1.0000</td>\n",
       "      <td>2920</td>\n",
       "      <td>9</td>\n",
       "      <td>6570</td>\n",
       "      <td>11</td>\n",
       "    </tr>\n",
       "    <tr>\n",
       "      <th>32643</th>\n",
       "      <td>17.307692</td>\n",
       "      <td>2.851151</td>\n",
       "      <td>0.0</td>\n",
       "      <td>0.0</td>\n",
       "      <td>0.0</td>\n",
       "      <td>0.0</td>\n",
       "      <td>0.0</td>\n",
       "      <td>1.0</td>\n",
       "      <td>0.0</td>\n",
       "      <td>0.0</td>\n",
       "      <td>1.0</td>\n",
       "      <td>0.0</td>\n",
       "      <td>14.0</td>\n",
       "      <td>1.96</td>\n",
       "      <td>2.744</td>\n",
       "      <td>3.8416</td>\n",
       "      <td>1610</td>\n",
       "      <td>5</td>\n",
       "      <td>7460</td>\n",
       "      <td>14</td>\n",
       "    </tr>\n",
       "  </tbody>\n",
       "</table>\n",
       "<p>5150 rows × 20 columns</p>\n",
       "</div>"
      ],
      "text/plain": [
       "               wage     lwage  sex  shs  hsg  scl  clg   ad   mw   so   we  \\\n",
       "rownames                                                                     \n",
       "10         9.615385  2.263364  1.0  0.0  0.0  0.0  1.0  0.0  0.0  0.0  0.0   \n",
       "12        48.076923  3.872802  0.0  0.0  0.0  0.0  1.0  0.0  0.0  0.0  0.0   \n",
       "15        11.057692  2.403126  0.0  0.0  1.0  0.0  0.0  0.0  0.0  0.0  0.0   \n",
       "18        13.942308  2.634928  1.0  0.0  0.0  0.0  0.0  1.0  0.0  0.0  0.0   \n",
       "19        28.846154  3.361977  1.0  0.0  0.0  0.0  1.0  0.0  0.0  0.0  0.0   \n",
       "...             ...       ...  ...  ...  ...  ...  ...  ...  ...  ...  ...   \n",
       "32620     14.769231  2.692546  0.0  0.0  0.0  0.0  1.0  0.0  0.0  0.0  1.0   \n",
       "32624     23.076923  3.138833  1.0  0.0  0.0  1.0  0.0  0.0  0.0  0.0  1.0   \n",
       "32626     38.461538  3.649659  0.0  0.0  0.0  0.0  0.0  1.0  0.0  0.0  1.0   \n",
       "32631     32.967033  3.495508  0.0  0.0  1.0  0.0  0.0  0.0  0.0  0.0  1.0   \n",
       "32643     17.307692  2.851151  0.0  0.0  0.0  0.0  0.0  1.0  0.0  0.0  1.0   \n",
       "\n",
       "           ne  exp1  exp2    exp3     exp4   occ occ2   ind ind2  \n",
       "rownames                                                          \n",
       "10        1.0   7.0  0.49   0.343   0.2401  3600   11  8370   18  \n",
       "12        1.0  31.0  9.61  29.791  92.3521  3050   10  5070    9  \n",
       "15        1.0  18.0  3.24   5.832  10.4976  6260   19   770    4  \n",
       "18        1.0  25.0  6.25  15.625  39.0625   420    1  6990   12  \n",
       "19        1.0  22.0  4.84  10.648  23.4256  2015    6  9470   22  \n",
       "...       ...   ...   ...     ...      ...   ...  ...   ...  ...  \n",
       "32620     0.0   9.0  0.81   0.729   0.6561  4700   16  4970    9  \n",
       "32624     0.0  12.0  1.44   1.728   2.0736  4110   13  8680   20  \n",
       "32626     0.0  11.0  1.21   1.331   1.4641  1550    4  3680    6  \n",
       "32631     0.0  10.0  1.00   1.000   1.0000  2920    9  6570   11  \n",
       "32643     0.0  14.0  1.96   2.744   3.8416  1610    5  7460   14  \n",
       "\n",
       "[5150 rows x 20 columns]"
      ]
     },
     "execution_count": 131,
     "metadata": {},
     "output_type": "execute_result"
    }
   ],
   "source": [
    "encuesta_eu = encuesta['data']\n",
    "encuesta_eu"
   ]
  },
  {
   "cell_type": "code",
   "execution_count": 132,
   "id": "d9a1b0a9",
   "metadata": {
    "scrolled": true
   },
   "outputs": [
    {
     "data": {
      "text/plain": [
       "pandas.core.frame.DataFrame"
      ]
     },
     "execution_count": 132,
     "metadata": {},
     "output_type": "execute_result"
    }
   ],
   "source": [
    "type(encuesta_eu)"
   ]
  },
  {
   "cell_type": "markdown",
   "id": "705a3514",
   "metadata": {
    "scrolled": false
   },
   "source": [
    "## 1) Histograma del salario"
   ]
  },
  {
   "cell_type": "code",
   "execution_count": 133,
   "id": "0d9a01b1",
   "metadata": {},
   "outputs": [],
   "source": [
    "# Frecuencia absoluta del salario"
   ]
  },
  {
   "cell_type": "code",
   "execution_count": 134,
   "id": "86b3a0d5",
   "metadata": {},
   "outputs": [
    {
     "data": {
      "text/plain": [
       "rownames\n",
       "10        9.615385\n",
       "12       48.076923\n",
       "15       11.057692\n",
       "18       13.942308\n",
       "19       28.846154\n",
       "           ...    \n",
       "32620    14.769231\n",
       "32624    23.076923\n",
       "32626    38.461538\n",
       "32631    32.967033\n",
       "32643    17.307692\n",
       "Name: wage, Length: 5150, dtype: float64"
      ]
     },
     "execution_count": 134,
     "metadata": {},
     "output_type": "execute_result"
    }
   ],
   "source": [
    "encuesta_eu['wage']"
   ]
  },
  {
   "cell_type": "code",
   "execution_count": 135,
   "id": "32cc6e34",
   "metadata": {
    "scrolled": false
   },
   "outputs": [
    {
     "data": {
      "image/png": "[encoded data removed]",
      "text/plain": [
       "<Figure size 360x360 with 1 Axes>"
      ]
     },
     "metadata": {
      "needs_background": "light"
     },
     "output_type": "display_data"
    }
   ],
   "source": [
    "fig, ax = plt.subplots( figsize=(5,5) ) # objeto figura\n",
    "\n",
    "encuesta_eu['wage'].plot(kind = 'hist', bins = 30) # cantidad de barras, dividir el rango de la variable en 30 \n",
    "plt.title('Salario por hora')\n",
    "\n",
    "# kind= hist es un histograma de frecuencias absolutas \n",
    "\n",
    "txt=\"Elboración propia de Encuesta de población - EE. UU. (2015)\"  \n",
    "plt.figtext(0.5, 0.01, txt, wrap=True, horizontalalignment='center', fontsize=5)\n",
    "plt.show()"
   ]
  },
  {
   "cell_type": "code",
   "execution_count": 136,
   "id": "cb83f32f",
   "metadata": {},
   "outputs": [],
   "source": [
    "# Logaritmo del salario"
   ]
  },
  {
   "cell_type": "code",
   "execution_count": 137,
   "id": "3349fc0a",
   "metadata": {},
   "outputs": [
    {
     "data": {
      "text/plain": [
       "rownames\n",
       "10       2.263364\n",
       "12       3.872802\n",
       "15       2.403126\n",
       "18       2.634928\n",
       "19       3.361977\n",
       "           ...   \n",
       "32620    2.692546\n",
       "32624    3.138833\n",
       "32626    3.649659\n",
       "32631    3.495508\n",
       "32643    2.851151\n",
       "Name: lwage, Length: 5150, dtype: float64"
      ]
     },
     "execution_count": 137,
     "metadata": {},
     "output_type": "execute_result"
    }
   ],
   "source": [
    "encuesta_eu['lwage']"
   ]
  },
  {
   "cell_type": "code",
   "execution_count": 138,
   "id": "adf7966f",
   "metadata": {
    "scrolled": false
   },
   "outputs": [
    {
     "data": {
      "image/png": "[encoded data removed]",
      "text/plain": [
       "<Figure size 360x360 with 1 Axes>"
      ]
     },
     "metadata": {
      "needs_background": "light"
     },
     "output_type": "display_data"
    }
   ],
   "source": [
    "fig, ax = plt.subplots( figsize=(5,5) ) # objeto figura\n",
    "\n",
    "encuesta_eu['lwage'].plot(kind = 'hist', bins = 50) # cantidad de barras, dividir el rango de la variable en 30 \n",
    "plt.title('Logaritmo del salario por hora')\n",
    "\n",
    "# kind= hist es un histograma de frecuencias absolutas \n",
    "\n",
    "txt=\"Elboración propia de Encuesta de población - EE. UU. (2015)\"  \n",
    "plt.figtext(0.5, 0.01, txt, wrap=True, horizontalalignment='center', fontsize=5)\n",
    "plt.show()"
   ]
  },
  {
   "cell_type": "markdown",
   "id": "127c5201",
   "metadata": {},
   "source": [
    "Cuando vemos el histograma de los valores del salario, notamos que hay una gran parte de la población estodounidense que se recibe menos de 50 dolares por hora de trabajo. La distribución de los datos, nos podría llevar a pensar que la variable está censurada o truncada, ya que está concentrada en la cola izquierda. Por otro lado, cuando vemos el logaritmo del salario,notamos una distribución más parecida a una normal, ha disminuido la variabilidad, además se ha acortado el rango del salario en una cantidad más pequeña que la original. El log salario reduce la sensibilidad de las estimaciones a las observaciones extremas o atípicas."
   ]
  },
  {
   "cell_type": "markdown",
   "id": "e6140450",
   "metadata": {},
   "source": [
    "## 2) Gráfico de densidad\n",
    "###     Salario de mujeres y hombres que terminaron la universidad\n",
    "\n"
   ]
  },
  {
   "cell_type": "code",
   "execution_count": 139,
   "id": "96c90564",
   "metadata": {},
   "outputs": [],
   "source": [
    "# Para mujeres cig = 1 y sex = 0 \n",
    "# Para hombres cig = 1 y sex = 1"
   ]
  },
  {
   "cell_type": "code",
   "execution_count": 140,
   "id": "e47dc574",
   "metadata": {
    "scrolled": false
   },
   "outputs": [],
   "source": [
    "base_muj_uni = encuesta_eu[(encuesta_eu[\"sex\"] == 0.0) ^ (encuesta_eu[\"clg\"] == 1.0)]\n",
    "base_hom_uni = encuesta_eu[(encuesta_eu[\"sex\"] == 1.0) ^ (encuesta_eu[\"clg\"] == 1.0)]                                    "
   ]
  },
  {
   "cell_type": "code",
   "execution_count": 141,
   "id": "fe7edeb0",
   "metadata": {},
   "outputs": [
    {
     "data": {
      "image/png": "[encoded data removed]",
      "text/plain": [
       "<Figure size 288x288 with 1 Axes>"
      ]
     },
     "metadata": {
      "needs_background": "light"
     },
     "output_type": "display_data"
    }
   ],
   "source": [
    "plt.figure(figsize=(4, 4))\n",
    "\n",
    "sns.kdeplot(base_muj_uni['lwage'], label = \"Densidad mujer\", color = 'red', shade=True) \n",
    "sns.kdeplot(base_hom_uni['lwage'], label = \"Densidad hombre\", color = 'blue', shade=True) \n",
    "plt.title('Densidad del salario por sexo')\n",
    "plt.xlabel(' ')\n",
    "plt.show()"
   ]
  },
  {
   "cell_type": "markdown",
   "id": "b05edfd3",
   "metadata": {},
   "source": [
    "## 3) Gráfico Pie \n",
    "###     Porcentaje de personas según nivel educativo \n"
   ]
  },
  {
   "cell_type": "code",
   "execution_count": 142,
   "id": "c3315db4",
   "metadata": {},
   "outputs": [
    {
     "data": {
      "text/plain": [
       "shs  hsg  scl  clg  ad \n",
       "0.0  0.0  0.0  0.0  1.0     706\n",
       "               1.0  0.0    1636\n",
       "          1.0  0.0  0.0    1432\n",
       "     1.0  0.0  0.0  0.0    1256\n",
       "1.0  0.0  0.0  0.0  0.0     120\n",
       "dtype: int64"
      ]
     },
     "execution_count": 142,
     "metadata": {},
     "output_type": "execute_result"
    }
   ],
   "source": [
    "# Creamos una base que cuente los valores de cada categoría de nivel educativo\n",
    "\n",
    "base_ne=encuesta_eu.groupby( [ 'shs', 'hsg','scl','clg','ad' ] ).size()\n",
    "base_ne"
   ]
  },
  {
   "cell_type": "code",
   "execution_count": 143,
   "id": "708861a1",
   "metadata": {},
   "outputs": [
    {
     "data": {
      "image/png": "[encoded data removed]",
      "text/plain": [
       "<Figure size 720x720 with 1 Axes>"
      ]
     },
     "metadata": {},
     "output_type": "display_data"
    }
   ],
   "source": [
    "#Cambiamos los labels \n",
    "\n",
    "labels=['Secundaria incompleta','Secundaria completa' , 'Universitaria incompleta', 'Universitaria completa', 'Advanced degree']\n",
    "\n",
    "#Realizamos el gráfico pie para los niveles educativos\n",
    "\n",
    "plt.figure(figsize=(10,10)) # tamaño de gráfico \n",
    "\n",
    "ax = plt.pie(base_ne, labels=labels, autopct='%.1f %%')\n",
    "plt.title('Niveles educativos')\n",
    "plt.show()\n"
   ]
  },
  {
   "cell_type": "markdown",
   "id": "ec3a6aa1",
   "metadata": {},
   "source": [
    "## 4) Box - Plot"
   ]
  },
  {
   "cell_type": "code",
   "execution_count": 144,
   "id": "341811f3",
   "metadata": {},
   "outputs": [
    {
     "data": {
      "text/plain": [
       "rownames\n",
       "10       0\n",
       "12       0\n",
       "15       0\n",
       "18       1\n",
       "19       0\n",
       "        ..\n",
       "32620    0\n",
       "32624    0\n",
       "32626    1\n",
       "32631    0\n",
       "32643    1\n",
       "Name: dummyad, Length: 5150, dtype: int32"
      ]
     },
     "execution_count": 144,
     "metadata": {},
     "output_type": "execute_result"
    }
   ],
   "source": [
    "# Para realizar el diagrama de cajas (box-plot), empezamos por crear una variable dummy asociada a un mayor nivel educativo (ad)\n",
    "\n",
    "encuesta_eu['dummyad']=np.where(encuesta_eu['ad']> 0.0,1,0)\n",
    "\n",
    "encuesta_eu['dummyad']"
   ]
  },
  {
   "cell_type": "code",
   "execution_count": 145,
   "id": "3e17cf7e",
   "metadata": {},
   "outputs": [
    {
     "data": {
      "text/plain": [
       "[Text(0, 0, 'Hombre'), Text(1, 0, 'Mujer')]"
      ]
     },
     "execution_count": 145,
     "metadata": {},
     "output_type": "execute_result"
    },
    {
     "data": {
      "image/png": "[encoded data removed]",
      "text/plain": [
       "<Figure size 720x432 with 1 Axes>"
      ]
     },
     "metadata": {
      "needs_background": "light"
     },
     "output_type": "display_data"
    }
   ],
   "source": [
    "#Luego, procedemos a crear el box plot usando la dummy para seleccionar a las personas con mayor nivel educativo (ad) según género.\n",
    "\n",
    "fig, ax = plt.subplots(figsize=(10,6))\n",
    "\n",
    "box = sns.boxplot(data=encuesta_eu[encuesta_eu.dummyad == 1], x='sex', y='lwage', palette='pastel')\n",
    "plt.xlabel('Individuos con mayor nivel educativo')\n",
    "plt.ylabel('ln del salario por hora')\n",
    "(box.set_xticklabels([\"Hombre\",\"Mujer\"]))"
   ]
  }
 ],
 "metadata": {
  "kernelspec": {
   "display_name": "Python 3 (ipykernel)",
   "language": "python",
   "name": "python3"
  },
  "language_info": {
   "codemirror_mode": {
    "name": "ipython",
    "version": 3
   },
   "file_extension": ".py",
   "mimetype": "text/x-python",
   "name": "python",
   "nbconvert_exporter": "python",
   "pygments_lexer": "ipython3",
   "version": "3.9.12"
  }
 },
 "nbformat": 4,
 "nbformat_minor": 5
}
