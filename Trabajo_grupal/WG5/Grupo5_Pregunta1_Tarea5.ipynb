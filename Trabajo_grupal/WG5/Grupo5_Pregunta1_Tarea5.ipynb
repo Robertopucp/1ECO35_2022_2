{
 "cells": [
  {
   "cell_type": "code",
   "execution_count": 23,
   "id": "537fcac7",
   "metadata": {},
   "outputs": [
    {
     "name": "stdout",
     "output_type": "stream",
     "text": [
      "Usuario\n"
     ]
    }
   ],
   "source": [
    "import numpy as np\n",
    "import pandas as pd\n",
    "from pandas import DataFrame, Series\n",
    "import statistics\n",
    "import inspect \n",
    "from scipy.stats import t # t - student \n",
    "import os\n",
    "import pyreadr\n",
    "user = os.getlogin()   # Username\n",
    "print(user)"
   ]
  },
  {
   "cell_type": "code",
   "execution_count": 24,
   "id": "56611994",
   "metadata": {},
   "outputs": [],
   "source": [
    "os.chdir(f\"C:/Users/{user}/Documents/GitHub/1ECO35_2022_2/Lab6\")\n",
    "cps2012_env = pyreadr.read_r(\"../data/cps2012.Rdata\")\n",
    "#cps2012_env = cps2012_env['data'] #Pasamos a data frame"
   ]
  },
  {
   "cell_type": "code",
   "execution_count": 36,
   "id": "5a22c071",
   "metadata": {},
   "outputs": [],
   "source": [
    "#Para crear W hay que hacer algo con listas\n",
    "#W = ['lnw','female','widowed', 'divorced', 'separated', 'nevermarried', 'hsd08', 'hsd911', 'hsg', 'cg', 'ad', 'mw', 'so', 'we', 'exp1', 'exp2', 'exp3', 'exp4', 'weight', 'ne', 'sc']\n",
    "#W = [1.2.3]\n",
    "\n",
    "class OLS(object):\n",
    "    #Definimos X como data frame, Y como serie, W como lista para seleccionar las variables de X y el booleano para errores robustos.\n",
    "    \n",
    "   # __slots__ = ['__X',  'Y',  'W', 'robust_sd', 'n', 'X1',  'Y1',  'beta', 'nk', 'y_est'. 'error', 'Var', 'sd', 'límite_inferior', 'límite_superior', 'SCR', 'rmse', 'R2']\n",
    "    \n",
    "    def __init__(self, __X:pd.DataFrame ,Y:pd.Series , W, robust_sd=False):\n",
    "        \n",
    "\n",
    "        self.__X = X\n",
    "        self.__X[ 'Intercept' ] = 1 #Puede generar un error en el data frame\n",
    "        self.Y = Y\n",
    "        self.robust_sd = robust_sd\n",
    "        self.W = W  #['lnw','female','widowed', 'divorced', 'separated', 'nevermarried', 'hsd08', 'hsd911', 'hsg', 'cg', 'ad', 'mw', 'so', 'we', 'exp1', 'exp2', 'exp3', 'exp4', 'weight', 'ne', 'sc']\n",
    "        #Método 1\n",
    "    def Determinarcoeficientes(self): #Método 1\n",
    "        \n",
    "        #self.W = [self.X.columns.tolist()] # nombre de la base de datos como objeto lista\n",
    "        \n",
    "        self.n = self.__X.shape[0] # numero de observaciones, # self.n \"Se crea un nuevo atributo\"\n",
    "        k = self.__X.shape[1] + 1 #numero de variables y el intercepto\n",
    "        self.X1 = self.__X.to_numpy()  # self.X.to_numpy()  # DataFrame to numpy #np.column_stack((np.ones(self.n ), self.X.to_numpy() ))\n",
    "        self.Y1 = self.Y.to_numpy().reshape(self.n  ,1)  #reshape(-1  ,1)\n",
    "        \n",
    "        self.beta = np.linalg.inv(self.X1.T @ self.X1) @ ((self.X1.T) @ self.Y1 )\n",
    "        self.nk = self.n - k \n",
    "        \n",
    "        #Método 2\n",
    "    def Errorvarcovintcof(self):              \n",
    "        \n",
    "        if self.robust_sd:\n",
    "            \n",
    "            self.y_est =  self.X1 @ self.beta\n",
    "            self.error = self.Y1 - self.y_est \n",
    "            sigma_1 =  sum(list( map( lambda x: x**2 , self.error)   )) / self.nk \n",
    "            self.Var = sigma_1*np.linalg.inv(self.__X.T @ self.__X) #Matríz de varianzas y covarianzas caso no robusto\n",
    "            self.sd = np.sqrt( np.diag(self.Var) ) #Desviación estandar o errores estandar\n",
    "            #self.sd_1 = self.sd.to_numpy()\n",
    "            self.límite_inferior = self.beta-1.96*self.sd #Tenemos problemas generando el límite inferior y superior\n",
    "            self.límite_superior = self.beta+1.96*self.sd\n",
    "        \n",
    "            #Método 3\n",
    "        else:\n",
    "            \n",
    "            self.y_est =  self.X1 @ self.beta\n",
    "            self.error = self.Y1 - self.y_est\n",
    "            matrix_robust = np.diag(list( map( lambda x: x**2 , self.error)))  \n",
    "            self.Var = np.linalg.inv(self.__X.T @ self.__X) @ self.__X.T @ matrix_robust @ self.__X @ np.linalg.inv(self.__X.T @ self.__X)\n",
    "            self.sd = np.sqrt( np.diag(self.Var) )\n",
    "            #self.sd_1 = self.sd.to_numpy()\n",
    "            self.límite_inferior = self.beta-1.96*self.sd\n",
    "            self.límite_superior = self.beta+1.96*self.sd\n",
    "\n",
    "        #Método 4\n",
    "    def R2yMSE(self):\n",
    "        \n",
    "        self.Determinarcoeficientes()  # run function\n",
    "        self.Errorvarcovintcof()\n",
    "        \n",
    "        #SCR = sum(list( map( lambda x: x**2 , self.error)))\n",
    "        #SCT = sum(list( map( lambda x: x**2 , self.Y - np.mean(self.y_est))))\n",
    "        #R2 = 1 - self.SCR/self.SCT\n",
    "\n",
    "        #y_est =  self.y_est\n",
    "        #error = self.error\n",
    "        self.SCR = np.sum(np.square(self.error))\n",
    "        self.rmse = (self.SCR/self.n)**0.5\n",
    "        SCT = np.sum(np.square(self.Y1 - np.mean(self.Y1))) \n",
    "\n",
    "        self.R2 = 1 - self.SCR/SCT\n",
    "\n",
    "        return self.R2           \n",
    "\n",
    "        #Método 5\n",
    "    def __Table(self, **Kargs):\n",
    "        \n",
    "        #W = ['lnw','female','widowed', 'divorced', 'separated', 'nevermarried', 'hsd08', 'hsd911', 'hsg', 'cg', 'ad', 'mw', 'so', 'we', 'exp1', 'exp2', 'exp3', 'exp4', 'weight', 'ne', 'sc']\n",
    "        # Lo agregamos, pero no lo usamos. Lo lamento Roberto, se nos acababa el tiempo. \n",
    "        \n",
    "        self.R2yMSE()\n",
    "        self.Determinarcoeficientes()\n",
    "        self.Errorvarcovintcof()\n",
    "        \n",
    "        r2= self.R2\n",
    "        scr = self.SCR\n",
    "        sigma =  scr / self.nk\n",
    "        Var = self.Var #sigma*np.linalg.inv(self.X1.T @ self.X1)\n",
    "        sd = self.sd #np.sqrt( np.diag(Var) )\n",
    "        #lower_bound = self.límite_inferior\n",
    "        #upper_bound = self.límite_superior\n",
    "        rmse = self.rmse #(scr/self.n)**0.5\n",
    "    \n",
    "        if (Kargs['Output'] == \"DataFrame\"):\n",
    "\n",
    "               resultados_df = {\"OLS\": self.beta.flatten() ,\n",
    "                                \"standar_error\": self.sd.flatten() ,\n",
    "                                \"Lower_bound\": self.límite_inferior.flatten() ,\n",
    "                                \"Upper_bound\": self.límite_superior.flatten() \n",
    "                    } \n",
    "               \n",
    "               index_names = self.W\n",
    "                                             #['Resultados'] +\n",
    "               \n",
    "               ResultadosdeOLS = pd.DataFrame(resultados_df, index = index_names)\n",
    "    \n",
    "           #self.beta.flatten() # multy-array a simple array \n",
    "            \n",
    "        elif (Kargs['Output'] == \"Diccionario\"):\n",
    "\n",
    "            df = pd.DataFrame({\"OLS\": self.beta.flatten() , \"standar_error\": self.sd.flatten() , \"Lower_bound\": self.límite_inferior.flatten() , \"Upper_bound\":self.límite_superior.flatten() }) \n",
    "            \n",
    "            df_1 = { \"Root_MSE\":rmse.flatten() } #R2\"R2\": R2.flatten()\n",
    "            \n",
    "            df_2 = { \"R2\": r2.flatten() } \n",
    "            \n",
    "            ResultadosdeOLS = pd.DataFrame(df, df_1, df_2)\n",
    "\n",
    "        return ResultadosdeOLS"
   ]
  },
  {
   "cell_type": "code",
   "execution_count": 41,
   "id": "d7056717",
   "metadata": {},
   "outputs": [],
   "source": [
    "cps2012_env  # es un diccionario. En la llave \"data\" está la base de datos \n",
    "cps2012 = cps2012_env[ 'data' ] # extrae información almacenada en la llave data del diccionario cps2012_env\n",
    "dt = cps2012.describe()\n",
    "cps2012.shape\n",
    "\n",
    "variance_cols = cps2012.var().to_numpy() # to numpy\n",
    "\n",
    "Dataset = cps2012.iloc[ : ,  np.where( variance_cols != 0   )[0] ]\n",
    "__X = Dataset.iloc[:,1:10]\n",
    "Y = Dataset[['lnw']]\n",
    "W = X.columns.tolist()\n",
    "Reg1 = OLS(X, Y, W, robust_sd=True)"
   ]
  },
  {
   "cell_type": "code",
   "execution_count": 42,
   "id": "8222822b",
   "metadata": {
    "scrolled": false
   },
   "outputs": [],
   "source": [
    "A = OLS(__X, Y, W)"
   ]
  },
  {
   "cell_type": "code",
   "execution_count": 44,
   "id": "d908d2dd",
   "metadata": {},
   "outputs": [
    {
     "ename": "AttributeError",
     "evalue": "'OLS' object has no attribute '__X'",
     "output_type": "error",
     "traceback": [
      "\u001b[1;31m---------------------------------------------------------------------------\u001b[0m",
      "\u001b[1;31mAttributeError\u001b[0m                            Traceback (most recent call last)",
      "\u001b[1;32m<ipython-input-44-ace235b425df>\u001b[0m in \u001b[0;36m<module>\u001b[1;34m\u001b[0m\n\u001b[1;32m----> 1\u001b[1;33m \u001b[0mA\u001b[0m\u001b[1;33m.\u001b[0m\u001b[0m__X\u001b[0m\u001b[1;33m\u001b[0m\u001b[1;33m\u001b[0m\u001b[0m\n\u001b[0m",
      "\u001b[1;31mAttributeError\u001b[0m: 'OLS' object has no attribute '__X'"
     ]
    }
   ],
   "source": [
    "A.__X"
   ]
  },
  {
   "cell_type": "code",
   "execution_count": 46,
   "id": "b1353b9c",
   "metadata": {},
   "outputs": [
    {
     "ename": "SyntaxError",
     "evalue": "cannot assign to function call (<ipython-input-46-0da80f1c6148>, line 1)",
     "output_type": "error",
     "traceback": [
      "\u001b[1;36m  File \u001b[1;32m\"<ipython-input-46-0da80f1c6148>\"\u001b[1;36m, line \u001b[1;32m1\u001b[0m\n\u001b[1;33m    A.__Table('Output') = \"DataFrame\"\u001b[0m\n\u001b[1;37m    ^\u001b[0m\n\u001b[1;31mSyntaxError\u001b[0m\u001b[1;31m:\u001b[0m cannot assign to function call\n"
     ]
    }
   ],
   "source": [
    "A.__Table('Output') = \"DataFrame\""
   ]
  }
 ],
 "metadata": {
  "kernelspec": {
   "display_name": "Python 3",
   "language": "python",
   "name": "python3"
  },
  "language_info": {
   "codemirror_mode": {
    "name": "ipython",
    "version": 3
   },
   "file_extension": ".py",
   "mimetype": "text/x-python",
   "name": "python",
   "nbconvert_exporter": "python",
   "pygments_lexer": "ipython3",
   "version": "3.8.8"
  }
 },
 "nbformat": 4,
 "nbformat_minor": 5
}
