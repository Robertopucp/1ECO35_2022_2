{
 "cells": [
  {
   "cell_type": "code",
   "execution_count": 10,
   "id": "8dbddfd2",
   "metadata": {},
   "outputs": [],
   "source": [
    "# Importar las galerías\n",
    "import random\n",
    "import numpy as np\n",
    "import math"
   ]
  },
  {
   "cell_type": "markdown",
   "id": "dd982c4a",
   "metadata": {},
   "source": [
    "# Ej.2"
   ]
  },
  {
   "cell_type": "code",
   "execution_count": 11,
   "id": "be798af7",
   "metadata": {},
   "outputs": [
    {
     "name": "stdout",
     "output_type": "stream",
     "text": [
      "(100,)\n"
     ]
    }
   ],
   "source": [
    "#Crear una función para reescalar los datos de un vector y de las columnas de una matriz. Use map y apply_along_axis en Python \n",
    "\n",
    "#generar vector con 100 observaciones\n",
    "v=np.random.randint(1,101,100)\n",
    "\n",
    "#comprobar número de filas\n",
    "print(v.shape) "
   ]
  },
  {
   "cell_type": "code",
   "execution_count": 12,
   "id": "22160de2",
   "metadata": {},
   "outputs": [
    {
     "data": {
      "text/plain": [
       "[0.6,\n",
       " 0.06,\n",
       " 0.59,\n",
       " 0.16,\n",
       " 0.67,\n",
       " 0.0,\n",
       " 0.21,\n",
       " 0.54,\n",
       " 0.62,\n",
       " 0.58,\n",
       " 0.67,\n",
       " 0.03,\n",
       " 0.11,\n",
       " 0.13,\n",
       " 0.52,\n",
       " 0.18,\n",
       " 0.06,\n",
       " 0.4,\n",
       " 0.61,\n",
       " 0.49,\n",
       " 0.66,\n",
       " 0.23,\n",
       " 0.66,\n",
       " 0.02,\n",
       " 1.0,\n",
       " 0.55,\n",
       " 0.35,\n",
       " 0.54,\n",
       " 0.57,\n",
       " 0.49,\n",
       " 0.86,\n",
       " 0.46,\n",
       " 0.75,\n",
       " 0.28,\n",
       " 0.33,\n",
       " 0.75,\n",
       " 0.01,\n",
       " 0.56,\n",
       " 0.15,\n",
       " 0.6,\n",
       " 0.11,\n",
       " 0.12,\n",
       " 0.65,\n",
       " 0.27,\n",
       " 0.56,\n",
       " 0.47,\n",
       " 0.03,\n",
       " 0.47,\n",
       " 0.9,\n",
       " 0.9,\n",
       " 0.17,\n",
       " 0.33,\n",
       " 0.66,\n",
       " 0.29,\n",
       " 0.15,\n",
       " 0.42,\n",
       " 0.75,\n",
       " 0.09,\n",
       " 0.25,\n",
       " 0.76,\n",
       " 0.7,\n",
       " 0.63,\n",
       " 0.86,\n",
       " 0.11,\n",
       " 0.06,\n",
       " 0.25,\n",
       " 0.05,\n",
       " 0.87,\n",
       " 0.66,\n",
       " 0.61,\n",
       " 0.41,\n",
       " 0.73,\n",
       " 0.32,\n",
       " 0.37,\n",
       " 0.38,\n",
       " 0.59,\n",
       " 0.03,\n",
       " 0.29,\n",
       " 0.14,\n",
       " 0.07,\n",
       " 0.02,\n",
       " 0.19,\n",
       " 0.06,\n",
       " 0.31,\n",
       " 0.91,\n",
       " 0.62,\n",
       " 0.87,\n",
       " 0.01,\n",
       " 0.44,\n",
       " 0.74,\n",
       " 0.0,\n",
       " 0.92,\n",
       " 0.4,\n",
       " 0.43,\n",
       " 0.36,\n",
       " 0.03,\n",
       " 0.91,\n",
       " 0.06,\n",
       " 0.63,\n",
       " 0.59]"
      ]
     },
     "execution_count": 12,
     "metadata": {},
     "output_type": "execute_result"
    }
   ],
   "source": [
    "#escalar el vector\n",
    "def fescalar(x,a,b):\n",
    "    \n",
    "    out = (x-a)/(b-a)\n",
    "    \n",
    "    return round(out,2) #redondear a 2 decimales\n",
    "\n",
    "#usar map\n",
    "list( map( lambda x, a = np.ndarray.min(v), b = np.ndarray.max(v): fescalar(x,a,b) , v)  ) \n"
   ]
  },
  {
   "cell_type": "code",
   "execution_count": 13,
   "id": "b6b7efe0",
   "metadata": {},
   "outputs": [
    {
     "name": "stdout",
     "output_type": "stream",
     "text": [
      "(100, 50)\n"
     ]
    }
   ],
   "source": [
    "#generar matriz 100 x 50.\n",
    "M=np.random.randint(1,100, size=(100,50))\n",
    "\n",
    "#comprobar número de filas y columnas\n",
    "print(M.shape) "
   ]
  },
  {
   "cell_type": "code",
   "execution_count": 14,
   "id": "62b97320",
   "metadata": {},
   "outputs": [
    {
     "data": {
      "text/plain": [
       "array([[0.89, 0.55, 0.24, ..., 0.54, 0.61, 0.39],\n",
       "       [0.36, 0.35, 0.15, ..., 0.7 , 0.39, 0.28],\n",
       "       [0.54, 0.46, 0.58, ..., 0.  , 0.61, 0.37],\n",
       "       ...,\n",
       "       [0.01, 0.65, 0.92, ..., 0.3 , 0.93, 0.01],\n",
       "       [0.94, 0.49, 0.27, ..., 0.85, 0.96, 0.12],\n",
       "       [0.23, 0.55, 0.49, ..., 0.83, 0.32, 0.82]])"
      ]
     },
     "execution_count": 14,
     "metadata": {},
     "output_type": "execute_result"
    }
   ],
   "source": [
    "#escalar la matriz con apply_along_axis\n",
    "\n",
    "#opción 0 para aplicar a columnas\n",
    "#redondea a 2 decimales con np.around\n",
    "M_scalar = np.apply_along_axis(lambda x: np.around((x-x.min())/(x.max()-x.min()),2),0, M)\n",
    "M_scalar\n"
   ]
  },
  {
   "cell_type": "markdown",
   "id": "e8169fb9",
   "metadata": {},
   "source": [
    "# Ej.3"
   ]
  },
  {
   "cell_type": "code",
   "execution_count": 15,
   "id": "e021735f",
   "metadata": {},
   "outputs": [],
   "source": [
    "# Pregunta 3\n",
    "# Construya una función que permite realizar las siguientes operaciones a un vector: estandarizar y reescalar.\n",
    "# Use **kwargs para definir estas operaciones y *args para el vector.\n",
    "\n",
    "#3.2. Definir funciones \n",
    "    # a. Función de estandarización\n",
    "def sdv(x,mean,sd):\n",
    "    out = (x-mean)/sd\n",
    "    return out \n",
    "    # b. Función de reescalar\n",
    "def resc(x,mx,mn):\n",
    "    out= (x-mx)/(mx-mn)\n",
    "    return out"
   ]
  },
  {
   "cell_type": "code",
   "execution_count": 16,
   "id": "f7d22b62",
   "metadata": {},
   "outputs": [],
   "source": [
    "#3.3 Construir función \n",
    "def calculator( *list_vars, **kwargs):               #1. Usando *args y *kwargs     \n",
    "    \n",
    "    if   ( kwargs[ 'function' ] == \"estandarizar\" ): #2. si la funcion es 'estandarizar', mostrar:\n",
    "        \n",
    "        result =list(map(lambda x=list_vars,mean=np.mean(list_vars),std=np.std(list_vars):sdv(x,mean,std),list_vars))     \n",
    "    \n",
    "    elif ( kwargs[ 'function' ] == \"reescalar\" ) :   #2. si la funcion es 'reescalar', mostrar:\n",
    "\n",
    "        result =list(map(lambda x=list_vars,mx=np.max(list_vars),mn=np.min(list_vars):resc(x,mx,mn),list_vars))                   \n",
    "    else:\n",
    "        raise ValueError( f\"The function argument {kwargs[ 'function' ]} is not supported.\" )\n",
    "\n",
    "    return result"
   ]
  },
  {
   "cell_type": "code",
   "execution_count": 17,
   "id": "4db9920c",
   "metadata": {},
   "outputs": [
    {
     "name": "stdout",
     "output_type": "stream",
     "text": [
      "[-1.414213562373095, -0.7071067811865475, 0.0, 0.7071067811865475, 1.414213562373095]\n"
     ]
    }
   ],
   "source": [
    "# 3.4. Comprobar resultados\n",
    "print(calculator( 4, 5, 6, 7, 8, function = \"estandarizar\" ))"
   ]
  },
  {
   "cell_type": "code",
   "execution_count": 18,
   "id": "c5deea20",
   "metadata": {},
   "outputs": [
    {
     "data": {
      "text/plain": [
       "[-1.0, -0.75, -0.5, -0.25, 0.0]"
      ]
     },
     "execution_count": 18,
     "metadata": {},
     "output_type": "execute_result"
    }
   ],
   "source": [
    "calculator( 4, 5, 6, 7, 8, function = \"reescalar\" )"
   ]
  },
  {
   "cell_type": "code",
   "execution_count": null,
   "id": "ec3ae1b6",
   "metadata": {},
   "outputs": [],
   "source": []
  }
 ],
 "metadata": {
  "kernelspec": {
   "display_name": "Python 3 (ipykernel)",
   "language": "python",
   "name": "python3"
  },
  "language_info": {
   "codemirror_mode": {
    "name": "ipython",
    "version": 3
   },
   "file_extension": ".py",
   "mimetype": "text/x-python",
   "name": "python",
   "nbconvert_exporter": "python",
   "pygments_lexer": "ipython3",
   "version": "3.9.12"
  }
 },
 "nbformat": 4,
 "nbformat_minor": 5
}
