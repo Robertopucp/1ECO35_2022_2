{
 "cells": [
  {
   "cell_type": "markdown",
   "id": "97c0c30a",
   "metadata": {},
   "source": [
    "## TAREA 3_ GRUPO 10"
   ]
  },
  {
   "cell_type": "code",
   "execution_count": 12,
   "id": "892e1457",
   "metadata": {},
   "outputs": [],
   "source": [
    "import numpy as np\n",
    "import pandas as pd\n",
    "from pandas import DataFrame,Series"
   ]
  },
  {
   "cell_type": "code",
   "execution_count": 13,
   "id": "1fbf42ce",
   "metadata": {},
   "outputs": [],
   "source": [
    "junin_data = pd.read_excel(\"../data/Region_Junin.xlsx\")"
   ]
  },
  {
   "cell_type": "code",
   "execution_count": 18,
   "id": "a656fe84",
   "metadata": {
    "scrolled": true
   },
   "outputs": [
    {
     "data": {
      "text/html": [
       "<div>\n",
       "<style scoped>\n",
       "    .dataframe tbody tr th:only-of-type {\n",
       "        vertical-align: middle;\n",
       "    }\n",
       "\n",
       "    .dataframe tbody tr th {\n",
       "        vertical-align: top;\n",
       "    }\n",
       "\n",
       "    .dataframe thead th {\n",
       "        text-align: right;\n",
       "    }\n",
       "</style>\n",
       "<table border=\"1\" class=\"dataframe\">\n",
       "  <thead>\n",
       "    <tr style=\"text-align: right;\">\n",
       "      <th></th>\n",
       "      <th>Unnamed: 0</th>\n",
       "      <th>Region</th>\n",
       "      <th>District</th>\n",
       "      <th>Place</th>\n",
       "      <th>4_6_years_men</th>\n",
       "      <th>4_6_years_women</th>\n",
       "      <th>4_6_years_total</th>\n",
       "      <th>6_14_years_men</th>\n",
       "      <th>6_14_years_women</th>\n",
       "      <th>6_14_years_total</th>\n",
       "      <th>...</th>\n",
       "      <th>not_finished_instr_women</th>\n",
       "      <th>not_finished_instr_total</th>\n",
       "      <th>peruvian_men</th>\n",
       "      <th>peruvian_women</th>\n",
       "      <th>foreign_men</th>\n",
       "      <th>foreign_women</th>\n",
       "      <th>whites</th>\n",
       "      <th>natives</th>\n",
       "      <th>mestizos</th>\n",
       "      <th>blacks</th>\n",
       "    </tr>\n",
       "  </thead>\n",
       "  <tbody>\n",
       "    <tr>\n",
       "      <th>0</th>\n",
       "      <td>0</td>\n",
       "      <td>JUNIN</td>\n",
       "      <td>CIUDAD DEL CERRO</td>\n",
       "      <td>C.CIUDAD DEL CERRO</td>\n",
       "      <td>65</td>\n",
       "      <td>46</td>\n",
       "      <td>111</td>\n",
       "      <td>297.0</td>\n",
       "      <td>171</td>\n",
       "      <td>468</td>\n",
       "      <td>...</td>\n",
       "      <td>209.0</td>\n",
       "      <td>544.0</td>\n",
       "      <td>361.0</td>\n",
       "      <td>216.0</td>\n",
       "      <td>1.0</td>\n",
       "      <td>1.0</td>\n",
       "      <td>4.0</td>\n",
       "      <td>284.0</td>\n",
       "      <td>290.0</td>\n",
       "      <td>1</td>\n",
       "    </tr>\n",
       "    <tr>\n",
       "      <th>1</th>\n",
       "      <td>1</td>\n",
       "      <td>JUNIN</td>\n",
       "      <td>CIUDAD DEL CERRO</td>\n",
       "      <td>P.YANACANCHA</td>\n",
       "      <td>1</td>\n",
       "      <td>3</td>\n",
       "      <td>4</td>\n",
       "      <td>49.0</td>\n",
       "      <td>47</td>\n",
       "      <td>96</td>\n",
       "      <td>...</td>\n",
       "      <td>50.0</td>\n",
       "      <td>100.0</td>\n",
       "      <td>50.0</td>\n",
       "      <td>50.0</td>\n",
       "      <td>0.0</td>\n",
       "      <td>0.0</td>\n",
       "      <td>0.0</td>\n",
       "      <td>100.0</td>\n",
       "      <td>0.0</td>\n",
       "      <td>0</td>\n",
       "    </tr>\n",
       "    <tr>\n",
       "      <th>2</th>\n",
       "      <td>2</td>\n",
       "      <td>JUNIN</td>\n",
       "      <td>CIUDAD DEL CERRO</td>\n",
       "      <td>VICO</td>\n",
       "      <td>1</td>\n",
       "      <td>0</td>\n",
       "      <td>1</td>\n",
       "      <td>46.0</td>\n",
       "      <td>25</td>\n",
       "      <td>71</td>\n",
       "      <td>...</td>\n",
       "      <td>25.0</td>\n",
       "      <td>72.0</td>\n",
       "      <td>47.0</td>\n",
       "      <td>25.0</td>\n",
       "      <td>0.0</td>\n",
       "      <td>0.0</td>\n",
       "      <td>0.0</td>\n",
       "      <td>69.0</td>\n",
       "      <td>3.0</td>\n",
       "      <td>0</td>\n",
       "    </tr>\n",
       "    <tr>\n",
       "      <th>3</th>\n",
       "      <td>3</td>\n",
       "      <td>JUNIN</td>\n",
       "      <td>CIUDAD DEL CERRO</td>\n",
       "      <td>RANCA</td>\n",
       "      <td>0</td>\n",
       "      <td>6</td>\n",
       "      <td>6</td>\n",
       "      <td>25.0</td>\n",
       "      <td>19</td>\n",
       "      <td>44</td>\n",
       "      <td>...</td>\n",
       "      <td>25.0</td>\n",
       "      <td>50.0</td>\n",
       "      <td>25.0</td>\n",
       "      <td>25.0</td>\n",
       "      <td>0.0</td>\n",
       "      <td>0.0</td>\n",
       "      <td>0.0</td>\n",
       "      <td>25.0</td>\n",
       "      <td>25.0</td>\n",
       "      <td>0</td>\n",
       "    </tr>\n",
       "    <tr>\n",
       "      <th>4</th>\n",
       "      <td>4</td>\n",
       "      <td>JUNIN</td>\n",
       "      <td>CIUDAD DEL CERRO</td>\n",
       "      <td>PASCO</td>\n",
       "      <td>4</td>\n",
       "      <td>4</td>\n",
       "      <td>8</td>\n",
       "      <td>21.0</td>\n",
       "      <td>21</td>\n",
       "      <td>42</td>\n",
       "      <td>...</td>\n",
       "      <td>25.0</td>\n",
       "      <td>50.0</td>\n",
       "      <td>25.0</td>\n",
       "      <td>25.0</td>\n",
       "      <td>0.0</td>\n",
       "      <td>0.0</td>\n",
       "      <td>0.0</td>\n",
       "      <td>37.0</td>\n",
       "      <td>13.0</td>\n",
       "      <td>0</td>\n",
       "    </tr>\n",
       "  </tbody>\n",
       "</table>\n",
       "<p>5 rows × 42 columns</p>\n",
       "</div>"
      ],
      "text/plain": [
       "   Unnamed: 0 Region          District               Place  4_6_years_men  \\\n",
       "0           0  JUNIN  CIUDAD DEL CERRO  C.CIUDAD DEL CERRO             65   \n",
       "1           1  JUNIN  CIUDAD DEL CERRO        P.YANACANCHA              1   \n",
       "2           2  JUNIN  CIUDAD DEL CERRO                VICO              1   \n",
       "3           3  JUNIN  CIUDAD DEL CERRO               RANCA              0   \n",
       "4           4  JUNIN  CIUDAD DEL CERRO               PASCO              4   \n",
       "\n",
       "   4_6_years_women  4_6_years_total  6_14_years_men  6_14_years_women  \\\n",
       "0               46              111           297.0               171   \n",
       "1                3                4            49.0                47   \n",
       "2                0                1            46.0                25   \n",
       "3                6                6            25.0                19   \n",
       "4                4                8            21.0                21   \n",
       "\n",
       "   6_14_years_total  ...  not_finished_instr_women  not_finished_instr_total  \\\n",
       "0               468  ...                     209.0                     544.0   \n",
       "1                96  ...                      50.0                     100.0   \n",
       "2                71  ...                      25.0                      72.0   \n",
       "3                44  ...                      25.0                      50.0   \n",
       "4                42  ...                      25.0                      50.0   \n",
       "\n",
       "   peruvian_men  peruvian_women  foreign_men  foreign_women  whites  natives  \\\n",
       "0         361.0           216.0          1.0            1.0     4.0    284.0   \n",
       "1          50.0            50.0          0.0            0.0     0.0    100.0   \n",
       "2          47.0            25.0          0.0            0.0     0.0     69.0   \n",
       "3          25.0            25.0          0.0            0.0     0.0     25.0   \n",
       "4          25.0            25.0          0.0            0.0     0.0     37.0   \n",
       "\n",
       "   mestizos  blacks  \n",
       "0     290.0       1  \n",
       "1       0.0       0  \n",
       "2       3.0       0  \n",
       "3      25.0       0  \n",
       "4      13.0       0  \n",
       "\n",
       "[5 rows x 42 columns]"
      ]
     },
     "execution_count": 18,
     "metadata": {},
     "output_type": "execute_result"
    }
   ],
   "source": [
    "#Pregunta 1: Obtener el nombre de todas las variables\n",
    "junin_data.head() "
   ]
  },
  {
   "cell_type": "code",
   "execution_count": 21,
   "id": "d962ef22",
   "metadata": {
    "scrolled": true
   },
   "outputs": [
    {
     "name": "stdout",
     "output_type": "stream",
     "text": [
      "<class 'pandas.core.frame.DataFrame'>\n",
      "RangeIndex: 197 entries, 0 to 196\n",
      "Data columns (total 42 columns):\n",
      " #   Column                    Non-Null Count  Dtype  \n",
      "---  ------                    --------------  -----  \n",
      " 0   Unnamed: 0                197 non-null    int64  \n",
      " 1   Region                    197 non-null    object \n",
      " 2   District                  197 non-null    object \n",
      " 3   Place                     186 non-null    object \n",
      " 4   4_6_years_men             197 non-null    int64  \n",
      " 5   4_6_years_women           197 non-null    int64  \n",
      " 6   4_6_years_total           197 non-null    int64  \n",
      " 7   6_14_years_men            196 non-null    float64\n",
      " 8   6_14_years_women          197 non-null    int64  \n",
      " 9   6_14_years_total          197 non-null    int64  \n",
      " 10  man_read                  197 non-null    int64  \n",
      " 11  women_read                193 non-null    float64\n",
      " 12  total_read                197 non-null    int64  \n",
      " 13  men_not_read              197 non-null    int64  \n",
      " 14  women_not_read            197 non-null    int64  \n",
      " 15  total_not_read            196 non-null    float64\n",
      " 16  man_write                 196 non-null    float64\n",
      " 17  women_write               196 non-null    float64\n",
      " 18  total_write               192 non-null    float64\n",
      " 19  men_not_write             191 non-null    float64\n",
      " 20  women_not_write           197 non-null    int64  \n",
      " 21  total_not_write           194 non-null    float64\n",
      " 22  instruction_men           197 non-null    int64  \n",
      " 23  instruction_women         195 non-null    float64\n",
      " 24  instruction_total         195 non-null    float64\n",
      " 25  no_instruction_men        194 non-null    float64\n",
      " 26  no_instruction_women      197 non-null    int64  \n",
      " 27  no_instruction_total      197 non-null    int64  \n",
      " 28  finished_instr_men        194 non-null    float64\n",
      " 29  finished_instr_women      192 non-null    float64\n",
      " 30  finished_instr_total      196 non-null    float64\n",
      " 31  not_finished_instr_men    196 non-null    float64\n",
      " 32  not_finished_instr_women  196 non-null    float64\n",
      " 33  not_finished_instr_total  196 non-null    float64\n",
      " 34  peruvian_men              196 non-null    float64\n",
      " 35  peruvian_women            196 non-null    float64\n",
      " 36  foreign_men               196 non-null    float64\n",
      " 37  foreign_women             195 non-null    float64\n",
      " 38  whites                    196 non-null    float64\n",
      " 39  natives                   191 non-null    float64\n",
      " 40  mestizos                  195 non-null    float64\n",
      " 41  blacks                    197 non-null    int64  \n",
      "dtypes: float64(24), int64(15), object(3)\n",
      "memory usage: 64.8+ KB\n"
     ]
    }
   ],
   "source": [
    "#Pregunta 2: Mostrar el tipo de variables (type) así como presentar los principales estadísticos.\n",
    "junin_data.info() "
   ]
  },
  {
   "cell_type": "code",
   "execution_count": 23,
   "id": "1cb1774c",
   "metadata": {},
   "outputs": [
    {
     "name": "stdout",
     "output_type": "stream",
     "text": [
      "Unnamed: 0                   0\n",
      "Region                       0\n",
      "District                     0\n",
      "Place                       11\n",
      "4_6_years_men                0\n",
      "4_6_years_women              0\n",
      "4_6_years_total              0\n",
      "6_14_years_men               1\n",
      "6_14_years_women             0\n",
      "6_14_years_total             0\n",
      "man_read                     0\n",
      "women_read                   4\n",
      "total_read                   0\n",
      "men_not_read                 0\n",
      "women_not_read               0\n",
      "total_not_read               1\n",
      "man_write                    1\n",
      "women_write                  1\n",
      "total_write                  5\n",
      "men_not_write                6\n",
      "women_not_write              0\n",
      "total_not_write              3\n",
      "instruction_men              0\n",
      "instruction_women            2\n",
      "instruction_total            2\n",
      "no_instruction_men           3\n",
      "no_instruction_women         0\n",
      "no_instruction_total         0\n",
      "finished_instr_men           3\n",
      "finished_instr_women         5\n",
      "finished_instr_total         1\n",
      "not_finished_instr_men       1\n",
      "not_finished_instr_women     1\n",
      "not_finished_instr_total     1\n",
      "peruvian_men                 1\n",
      "peruvian_women               1\n",
      "foreign_men                  1\n",
      "foreign_women                2\n",
      "whites                       1\n",
      "natives                      6\n",
      "mestizos                     2\n",
      "blacks                       0\n",
      "dtype: int64\n"
     ]
    }
   ],
   "source": [
    "#Pregunta 3: Verifique si las columnas presentan valores faltantes\n",
    "print(junin_data.isna().sum())"
   ]
  },
  {
   "cell_type": "code",
   "execution_count": 32,
   "id": "e1287d92",
   "metadata": {},
   "outputs": [],
   "source": [
    "#Pregunta 4: Cambie el nombre de las siguientes variables\n",
    "junin_data.rename(columns = {'Place':'comunidad', 'men_not_read':'homxlee', 'women_not_read':'mujerxlee', 'total_not_read':'totalxlee'}, inplace = True)"
   ]
  },
  {
   "cell_type": "code",
   "execution_count": 34,
   "id": "5e9b5a0f",
   "metadata": {},
   "outputs": [
    {
     "name": "stdout",
     "output_type": "stream",
     "text": [
      "['C.CIUDAD DEL CERRO' 'P.YANACANCHA' 'VICO' 'RANCA' 'PASCO' nan\n",
      " 'CAJAMARQUILLA' 'CAICO' 'ROCO' 'P.QUINUA' 'H.PARIAHUANCA' 'P.SULLUMARCA'\n",
      " 'H.SAN ANDRÉS' 'P.HUALLAY' 'C.HUAYCHAO' 'COCHAMARCA' 'P.CHACAYÁN'\n",
      " 'VILCABAMBA' 'CUCHES' 'CHANGO' 'MITO' 'ANTAPIRCA' 'P.CAYNA' 'A. COLPAS'\n",
      " 'C.MASQUIN' 'P.YAMOR' 'TANGOR' 'QUIO' 'CAURY' 'CHUCCHUC' 'COQUIN'\n",
      " 'A.YAPOC' 'P.YANAHUANCA' 'HUAYLACIRCA' 'HUARANTAMBO' 'ANDUCHACA' 'VILLO'\n",
      " 'MICHIVILCA' 'PILLAO' 'YACÁN' 'TÁPUC' 'CHAUPIMARCA' 'P.OXAPAMPA'\n",
      " 'P.JAUJA' 'A.CHUNÁN' 'C.PACAPACHA' 'HUANCAS' 'A.HUERTAS' 'PACA' 'MASMA'\n",
      " 'ATAURA' 'HUALÁ' 'JULCÁN' 'P.RICRÁN' 'A.PAUCÁN' 'P.APATA' 'HUAMALÍ'\n",
      " 'A.SAN LORENZO' 'PACUCHO' 'P.ORCOTUNA' 'A.VICSO' 'TISTES' 'P.HUARIPAMPA'\n",
      " 'A.PARCO' 'PACCHA' 'CANCHAPUNCO' 'C.ULLUSCA' 'CANCHAS' 'P.MUQUIYAUYO'\n",
      " 'MUQUI' 'P.ACOLLA' 'MARCO' 'TRAGADERO' 'ACAYA' 'YAUJAILLO' 'CURICACA'\n",
      " 'C.LLACUARI' 'P.HUANCARÍ' 'C.CHALHUAS' 'ARAMACHAY' 'P.MITO' 'A.CHAMBARÁ'\n",
      " 'C.QUICHA' 'HUACHAC' 'A.ACO' 'P.LLOCLLAPAMPA' 'VISCAS ESPERANZA'\n",
      " 'CONCHAILLO' 'MATA-CHICO' 'MATA-GRANDE' 'P.CONCEPCIÓN'\n",
      " 'SANTA ROSA DE OCOPA' 'HUANTAR' 'A.ALAYO' 'C.SAN ANTONIO DE CARICANCHO'\n",
      " 'SANTO DOMINGO' 'P.CÓMAS' 'C.CHUPA' 'COCHAS' 'P.MATAHUASI' 'P.HUANCAYO'\n",
      " 'CAJAS' 'P.CHUPACA' 'A.ISCOS' 'ANTAPAMPA' 'HUAUSCA GRANDE'\n",
      " 'SAN JUAN DE TARPA' 'COPCA' 'HUAYAN' 'HUAMANCACA' 'PILCOMAYO' 'AHUAC'\n",
      " 'ACAC' 'P.SAN GERÓNIMO' 'HUALHUAS' 'SAN PEDRO DE SAÑO' 'QUICHUAY'\n",
      " 'CASACANCHA' 'A.INGENIO' 'P.SANTA CRUZ DE QUILCAY' 'RANGRA'\n",
      " 'P.SAPALLANGA' 'A.LA PUNTA' 'P.PUCARÁ' 'C.PATALÁ' 'MARCAVALLE'\n",
      " 'COCHARCAS' 'P.CHONGOS' 'C.TURPAC Y TINYARI' 'SOCOS' 'PUMPUNGA' 'CHUPURO'\n",
      " 'CARHUAPACHA' 'A.HUAMANCACA' 'P.SICAYA' 'A.HUANCHAC' 'C.CACHICAMARCA'\n",
      " 'P.COLCA' 'A.CHACAPAMPA' 'HUASICANCHA' 'CUCHO' 'CHILIAY' 'POTACA' 'LARIA'\n",
      " 'CHONGOS ALTO' 'P.HUAYUCACHI' 'HUAMANMARCA' 'CACAS' 'HUARAPUQUIO'\n",
      " 'CULLHUAS' 'RETAMA' 'PACHA' 'P.TARMA' 'MACO' 'MULLUERO' 'CHANCHA'\n",
      " 'TARMATAMBO' 'P.JUNÍN' 'HUASAHUASY' 'PARI' 'YANEC' 'CHUPÁN' 'ACONCOCHA'\n",
      " 'ONDORES' 'P.ACOBAMBA' 'PICOY' 'C.HUARACAYO' 'A.PALCA' 'C.HUAILAHUICHÁN'\n",
      " 'P.PALCAMAYO' 'P.OROYA' 'HUAYNACANCHA' 'HUAYHUAY' 'P.CARHUAMAYO'\n",
      " 'ULCUMAYO' 'P.SAN RAMÓN' 'P.VISCATÁN' 'PAN DE AZÚCAR' 'SUITUCANCHA'\n",
      " 'CHACAPALCA' 'P.POMACOCHA' 'YAULI' 'MINAS DE MOROCOCHA']\n",
      "['CIUDAD DEL CERRO' 'HUAYLLAY' 'CHACAYÁN' 'CAYNA' 'YANAHUANCA' 'NINACACA'\n",
      " 'JAUJA' 'APATA' 'ORCOTUNA' 'HUARIPAMPA' 'MUQUIYAUYO' 'ACOLLA' 'CINCOS'\n",
      " 'MITO' 'LLOCLLAPAMPA' 'CONCEPCIÓN' 'COCHAS' 'MATAHUASI' 'HUANCAYO'\n",
      " 'CHUPACA' 'SAN GERÓNIMO' 'SAPALLANGA' 'CHONGOS' 'SICAYA' 'COLCA'\n",
      " 'HUAYUCACHI' 'TARMA' 'JUNÍN' 'ACOBAMBA' 'OROYA' 'CARHUAMAYO'\n",
      " 'CHANCHAMAYO' 'VITOC' 'CHACAPALCA' 'YAULI']\n"
     ]
    }
   ],
   "source": [
    "#Pregunta 5: Muestre los valores únicos de las siguientes variables ( comunidad , District)\n",
    "print(junin_data.comunidad.unique())\n",
    "print(junin_data.District.unique())"
   ]
  },
  {
   "cell_type": "code",
   "execution_count": 38,
   "id": "cd1c6430",
   "metadata": {
    "scrolled": true
   },
   "outputs": [
    {
     "name": "stdout",
     "output_type": "stream",
     "text": [
      "183\n",
      "35\n"
     ]
    }
   ],
   "source": [
    "# pregunta 5: total de valores únicos\n",
    "print (len(junin_data.comunidad.unique()))\n",
    "print (len(junin_data.District.unique()))\n"
   ]
  },
  {
   "cell_type": "code",
   "execution_count": 50,
   "id": "7515e39f",
   "metadata": {},
   "outputs": [
    {
     "data": {
      "text/plain": [
       "0      143\n",
       "1       50\n",
       "2       25\n",
       "3       25\n",
       "4       25\n",
       "      ... \n",
       "192      0\n",
       "193      7\n",
       "194      7\n",
       "195     22\n",
       "196     30\n",
       "Name: mujerxlee, Length: 197, dtype: int64"
      ]
     },
     "execution_count": 50,
     "metadata": {},
     "output_type": "execute_result"
    }
   ],
   "source": [
    "junin_data['mujerxlee']"
   ]
  },
  {
   "cell_type": "code",
   "execution_count": 56,
   "id": "d92fed8f",
   "metadata": {},
   "outputs": [
    {
     "ename": "SyntaxError",
     "evalue": "cannot assign to operator (2283918028.py, line 8)",
     "output_type": "error",
     "traceback": [
      "\u001b[1;36m  Input \u001b[1;32mIn [56]\u001b[1;36m\u001b[0m\n\u001b[1;33m    mujerxlee /totalxlee = junin_data['% de mujeres del que no escriben ni leen']\u001b[0m\n\u001b[1;37m    ^\u001b[0m\n\u001b[1;31mSyntaxError\u001b[0m\u001b[1;31m:\u001b[0m cannot assign to operator\n"
     ]
    }
   ],
   "source": [
    "# Pregunta 6: Crear columnas con las siguiente información: el % de mujeres del que no escriben\n",
    "#ni leen (mujerxlee/totalxlee) % de varones que no escriben ni leen (homxlee/totalxlee) y % de \n",
    "#nativos respecto al total de la población. Para el total de la población sumar (peruvian_men +\n",
    "#peruvian_women + foreign_men + foreign_women) \n",
    "\n",
    "mujerxlee /totalxlee = junin_data['% de mujeres del que no escriben ni leen']\n"
   ]
  },
  {
   "cell_type": "code",
   "execution_count": 40,
   "id": "ac849f70",
   "metadata": {},
   "outputs": [
    {
     "data": {
      "text/plain": [
       "197"
      ]
     },
     "execution_count": 40,
     "metadata": {},
     "output_type": "execute_result"
    }
   ],
   "source": [
    "junin_data.shape[0]"
   ]
  },
  {
   "cell_type": "code",
   "execution_count": null,
   "id": "57c59b32",
   "metadata": {},
   "outputs": [],
   "source": [
    "np.arange(0, junin_data.shape[0\n",
    "junin_data['% de mujeres del que no escriben ni leen'] = ['mujerxlee'] / ['totalxlee']"
   ]
  },
  {
   "cell_type": "code",
   "execution_count": null,
   "id": "36e27511",
   "metadata": {},
   "outputs": [],
   "source": []
  },
  {
   "cell_type": "code",
   "execution_count": null,
   "id": "e778ec75",
   "metadata": {},
   "outputs": [],
   "source": []
  },
  {
   "cell_type": "code",
   "execution_count": null,
   "id": "a90b7748",
   "metadata": {},
   "outputs": [],
   "source": []
  },
  {
   "cell_type": "code",
   "execution_count": null,
   "id": "e0a260f9",
   "metadata": {},
   "outputs": [],
   "source": []
  },
  {
   "cell_type": "code",
   "execution_count": null,
   "id": "806b490a",
   "metadata": {},
   "outputs": [],
   "source": []
  }
 ],
 "metadata": {
  "kernelspec": {
   "display_name": "Python 3 (ipykernel)",
   "language": "python",
   "name": "python3"
  },
  "language_info": {
   "codemirror_mode": {
    "name": "ipython",
    "version": 3
   },
   "file_extension": ".py",
   "mimetype": "text/x-python",
   "name": "python",
   "nbconvert_exporter": "python",
   "pygments_lexer": "ipython3",
   "version": "3.9.12"
  }
 },
 "nbformat": 4,
 "nbformat_minor": 5
}
