{
 "cells": [
  {
   "cell_type": "markdown",
   "id": "5f0bed43",
   "metadata": {},
   "source": [
    "#### Work Group 4:\n",
    "#### Integrantes:\n",
    "#### Ascencios, Seidy - 20191622\n",
    "#### Morales, Luana - 2019120\n",
    "#### Oré, Flavia - 20191215\n",
    "#### Quintero, Marcela - 20191445\n"
   ]
  },
  {
   "cell_type": "code",
   "execution_count": 1,
   "id": "e364be64",
   "metadata": {},
   "outputs": [
    {
     "name": "stdout",
     "output_type": "stream",
     "text": [
      "Requirement already satisfied: pyreadr in d:\\anaconda\\lib\\site-packages (0.4.6)\n",
      "Requirement already satisfied: pandas>=1.2.0 in d:\\anaconda\\lib\\site-packages (from pyreadr) (1.2.4)\n",
      "Requirement already satisfied: numpy>=1.16.5 in d:\\anaconda\\lib\\site-packages (from pandas>=1.2.0->pyreadr) (1.20.1)\n",
      "Requirement already satisfied: pytz>=2017.3 in d:\\anaconda\\lib\\site-packages (from pandas>=1.2.0->pyreadr) (2021.1)\n",
      "Requirement already satisfied: python-dateutil>=2.7.3 in d:\\anaconda\\lib\\site-packages (from pandas>=1.2.0->pyreadr) (2.8.1)\n",
      "Requirement already satisfied: six>=1.5 in d:\\anaconda\\lib\\site-packages (from python-dateutil>=2.7.3->pandas>=1.2.0->pyreadr) (1.15.0)\n"
     ]
    }
   ],
   "source": [
    "import pandas as pd\n",
    "import numpy as np\n",
    "import scipy.stats as stats\n",
    "from scipy.stats import t # t - student \n",
    "import os\n",
    "!pip install pyreadr\n",
    "import pyreadr as pyreadr"
   ]
  },
  {
   "cell_type": "markdown",
   "id": "93746510",
   "metadata": {},
   "source": [
    "Crear una Clase OLS con las siguientes características:\n",
    "Los atributos:\n",
    "DataFrame de variables explicativas.\n",
    "El vector de la variable Y\n",
    "Una lista que permita seleccionar las variables del DataFrame (puede ser posiciones o no nombre de variables)\n",
    "Una variable booleana para errores estándar robustas"
   ]
  },
  {
   "cell_type": "code",
   "execution_count": 2,
   "id": "a0669c08",
   "metadata": {},
   "outputs": [],
   "source": [
    "# Cargamos la base de datos: \n",
    "user = os.getlogin()   # Username\n",
    "\n",
    "\n",
    "os.chdir(f\"C:/Users/{user}/Documents/GitHub/1ECO35_2022_2/Lab4\") \n",
    "\n",
    "cps2012_env = pyreadr.read_r(\"../data/cps2012.Rdata\") \n",
    "\n",
    "# Y debemos extraer la información de la base de datos del diccionario:\n",
    "cps2012 = cps2012_dict['data']\n",
    "dt = cps2012.describe()"
   ]
  },
  {
   "cell_type": "code",
   "execution_count": 3,
   "id": "18d79381",
   "metadata": {
    "scrolled": false
   },
   "outputs": [
    {
     "name": "stdout",
     "output_type": "stream",
     "text": [
      "         year       lnw  female  widowed  divorced  separated  nevermarried  \\\n",
      "0      2012.0  1.909543     1.0      0.0       0.0        0.0           0.0   \n",
      "1      2012.0  1.365773     1.0      0.0       0.0        0.0           0.0   \n",
      "2      2012.0  2.540223     0.0      0.0       0.0        0.0           0.0   \n",
      "3      2012.0  1.801091     1.0      0.0       0.0        0.0           0.0   \n",
      "4      2012.0  3.349904     0.0      0.0       0.0        0.0           0.0   \n",
      "...       ...       ...     ...      ...       ...        ...           ...   \n",
      "29212  2012.0  3.978513     0.0      0.0       0.0        0.0           1.0   \n",
      "29213  2012.0  3.142265     1.0      0.0       0.0        0.0           1.0   \n",
      "29214  2012.0  2.725619     1.0      0.0       0.0        0.0           0.0   \n",
      "29215  2012.0  3.142265     0.0      0.0       0.0        0.0           0.0   \n",
      "29216  2012.0  2.433613     1.0      0.0       0.0        0.0           0.0   \n",
      "\n",
      "       hsd08  hsd911  hsg  ...   so   we  exp1  exp2    exp3     exp4  weight  \\\n",
      "0        0.0     0.0  0.0  ...  0.0  0.0  22.0  4.84  10.648  23.4256  569.43   \n",
      "1        0.0     1.0  0.0  ...  0.0  0.0  30.0  9.00  27.000  81.0000  625.96   \n",
      "2        0.0     0.0  1.0  ...  0.0  0.0  19.0  3.61   6.859  13.0321  264.22   \n",
      "3        0.0     0.0  1.0  ...  0.0  0.0  14.0  1.96   2.744   3.8416  256.81   \n",
      "4        0.0     0.0  0.0  ...  0.0  0.0  15.0  2.25   3.375   5.0625  256.81   \n",
      "...      ...     ...  ...  ...  ...  ...   ...   ...     ...      ...     ...   \n",
      "29212    0.0     0.0  0.0  ...  0.0  1.0  27.0  7.29  19.683  53.1441  301.43   \n",
      "29213    0.0     0.0  0.0  ...  0.0  1.0  16.0  2.56   4.096   6.5536  206.36   \n",
      "29214    0.0     0.0  0.0  ...  0.0  1.0  21.0  4.41   9.261  19.4481  272.35   \n",
      "29215    0.0     0.0  0.0  ...  0.0  1.0   2.0  0.04   0.008   0.0016  282.87   \n",
      "29216    0.0     0.0  0.0  ...  0.0  1.0   2.0  0.04   0.008   0.0016  282.87   \n",
      "\n",
      "       married     ne     sc  \n",
      "0         True   True   True  \n",
      "1         True   True  False  \n",
      "2         True   True  False  \n",
      "3         True   True  False  \n",
      "4         True   True  False  \n",
      "...        ...    ...    ...  \n",
      "29212    False  False  False  \n",
      "29213    False  False  False  \n",
      "29214     True  False   True  \n",
      "29215     True  False  False  \n",
      "29216     True  False  False  \n",
      "\n",
      "[29217 rows x 23 columns]\n"
     ]
    }
   ],
   "source": [
    "# Así, la base de datos es:\n",
    "print(cps2012)"
   ]
  },
  {
   "cell_type": "code",
   "execution_count": 23,
   "id": "f61b0503",
   "metadata": {},
   "outputs": [],
   "source": [
    "# Creamos la clase OLS:\n",
    "\n",
    "class OLS_G4:\n",
    "    \n",
    "    def __init__(self, X,Y):\n",
    "        \n",
    "        self.X = X\n",
    "        self.Y = Y\n",
    "        \n",
    "    def coeficientes(self):\n",
    "        \n",
    "        self.n = self.X.shape[0] # numero de observaciones, # self.n \"Se crea un nuevo atributo\"\n",
    "        k = self.X.shape[1]\n",
    "        X1 = np.column_stack((np.ones(self.n ), self.X.to_numpy() ))  # self.X.to_numpy()  # DataFrame to numpy\n",
    "        Y1 = self.Y.to_numpy().reshape(self.n  ,1)  #reshape(-1  ,1)\n",
    "        self.X1 = X1\n",
    "        self.Y1 = Y1\n",
    "        self.beta = np.linalg.inv(X1.T @ X1) @ ((X1.T) @ Y1 )\n",
    "        self.nk = self.n - k \n",
    "        self.Y_est =  self.X1 @ self.beta\n",
    "        \n",
    "           \n",
    "    def estandar(self):\n",
    "    \n",
    "        self.coeficientes()\n",
    "        \n",
    "        y_est =  self.X1 @ self.beta\n",
    "        sigma =  sum(list( map( lambda x: x**2 , self.Y1 - y_est)   )) / self.nk \n",
    "        Var1 = sigma*np.linalg.inv(self.X1.T @ self.X1)\n",
    "        self.sd1 = np.sqrt( np.diag(Var1) )\n",
    "        self.lower_bound1 = self.beta-1.96*self.sd1\n",
    "        self.upper_bound1 = self.beta+1.96*self.sd1\n",
    "        \n",
    "    def robust(self):\n",
    "    \n",
    "        self.coeficientes()\n",
    "        \n",
    "        y_est =  self.X1 @ self.beta\n",
    "        matrix_robust = np.diag(list( map( lambda x: x**2 , self.Y1 - y_est)))\n",
    "        Var2 = np.linalg.inv(self.X1.T @ self.X1) @ self.X1.T @ matrix_robust @ self.X1 @ np.linalg.inv(self.X1.T @ self.X1)\n",
    "        sd2 = np.sqrt( np.diag(Var2) )\n",
    "        lower_bound2 = self.beta-1.96*sd2\n",
    "        upper_bound2 = self.beta+1.96*sd2\n",
    "\n",
    "    def R2_RMSE(self):\n",
    "            \n",
    "         self.coeficientes() # run function \n",
    "         \n",
    "         y_est =  self.X1 @ self.beta\n",
    "         error = self.Y1 - y_est\n",
    "         self.SCR = np.sum(np.square(error))\n",
    "         SCT = np.sum(np.square(self.Y1 - np.mean(self.Y1))) \n",
    "         self.R2 = 1 - self.SCR/SCT\n",
    "         self.rmse = (self.SCR/self.n)**0.5\n",
    "        \n",
    "  def Table(self,**Kargs):\n",
    "        \n",
    "        self.R2_RMSE()\n",
    "        self.robust\n",
    "        self.estándar()\n",
    "        self.coeficientes()\n",
    "        scr = self.SCR\n",
    "        sigma =  scr / self.nk\n",
    "        Var = sigma*np.linalg.inv(self.X1.T @ self.X1)\n",
    "        sd = np.sqrt( np.diag(Var) )\n",
    "        t_est = np.absolute(self.beta/sd)\n",
    "        \n",
    "        if (Kargs['Output'] == \"DataFrame\"):\n",
    "        \n",
    "           df = pd.DataFrame( {\"coeficientes\": self.beta.flatten()  , \"error-estandar\" : self.sd1.flatten(), \"límite-superior\": self.upper_bound1.flatten(), \"límite-inferior\": self.lower_bound1.flatten() } )\n",
    "                              \n",
    "           \n",
    "        elif (Kargs['Output'] == \"Diccionario\"):\n",
    "            \n",
    "           df = {\"R^2\": self.R2.flatten() ,\"Root-MSE\": self.rmse.flatten()}\n",
    "           \n",
    "        \n",
    "        return df\n",
    "                                  \n",
    "            \n",
    "            "
   ]
  },
  {
   "cell_type": "code",
   "execution_count": 27,
   "id": "f5363d61",
   "metadata": {},
   "outputs": [],
   "source": [
    "#flatten():  De multi array a simple array \n",
    "cps2012.shape\n",
    "\n",
    "variance_cols = cps2012.var().to_numpy() # to numpy\n",
    "\n",
    "Dataset = cps2012.iloc[ : ,  np.where( variance_cols != 0   )[0] ]\n",
    "\n",
    "X = Dataset.iloc[:,1:3]\n",
    "Y = Dataset[['lnw']]"
   ]
  },
  {
   "cell_type": "code",
   "execution_count": 36,
   "id": "7af7ac7b",
   "metadata": {},
   "outputs": [
    {
     "data": {
      "text/plain": [
       "0.6495008509803024"
      ]
     },
     "execution_count": 36,
     "metadata": {},
     "output_type": "execute_result"
    }
   ],
   "source": [
    "Reg1 = OLS_G4(X,Y)\n",
    "Reg1.X\n",
    "\n",
    "Reg1.coeficientes()\n",
    "Reg1.beta\n",
    "\n",
    "Reg1.R2_RMSE()\n",
    "Reg1.R2\n",
    "\n",
    "Reg1.R2_RMSE()\n",
    "Reg1.rmse "
   ]
  },
  {
   "cell_type": "code",
   "execution_count": 34,
   "id": "bf6ef86c",
   "metadata": {},
   "outputs": [
    {
     "name": "stdout",
     "output_type": "stream",
     "text": [
      "[[ 2.9094181 ]\n",
      " [-0.25887621]\n",
      " [-0.17751519]]\n"
     ]
    }
   ],
   "source": [
    "Reg1.Table(Output = \"DataFrame\")\n",
    "Reg1.Table(Output = \"R2_result\")"
   ]
  }
 ],
 "metadata": {
  "kernelspec": {
   "display_name": "Python 3 (ipykernel)",
   "language": "python",
   "name": "python3"
  },
  "language_info": {
   "codemirror_mode": {
    "name": "ipython",
    "version": 3
   },
   "file_extension": ".py",
   "mimetype": "text/x-python",
   "name": "python",
   "nbconvert_exporter": "python",
   "pygments_lexer": "ipython3",
   "version": "3.9.12"
  }
 },
 "nbformat": 4,
 "nbformat_minor": 5
}
