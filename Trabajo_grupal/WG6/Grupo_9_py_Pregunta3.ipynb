{
 "cells": [
  {
   "cell_type": "markdown",
   "id": "fa727825",
   "metadata": {},
   "source": [
    "## Groupby (Python y R)\n",
    "En primer lugar, en términos generales, el programa pensión 65 se focaliza en hogares pobres con algún miembro del hogar mayor a 65 años. Usted debe crear una dummy si el hogar cumple tales características. Para ello use el módulo 2 (características de los miembros del hogar).\n",
    "\n",
    "Primero, aplique groupby , luego realice un merge con el modulo 34, y finalmente, debe crear la variable dummy."
   ]
  },
  {
   "cell_type": "markdown",
   "id": "bf8097f1",
   "metadata": {},
   "source": [
    "### \"1.0 Set Directorio\""
   ]
  },
  {
   "cell_type": "code",
   "execution_count": 1,
   "id": "bab72a2e",
   "metadata": {},
   "outputs": [],
   "source": [
    "import pandas as pd\n",
    "import numpy as np\n",
    "import os # for usernanme y set directorio"
   ]
  },
  {
   "cell_type": "markdown",
   "id": "64c78b2a",
   "metadata": {},
   "source": [
    "### \"2.0 Cargar dataset de ENAHO\""
   ]
  },
  {
   "cell_type": "code",
   "execution_count": 2,
   "id": "3c3b3f46",
   "metadata": {
    "scrolled": true
   },
   "outputs": [],
   "source": [
    "enaho_02 = pd.read_stata(r\"../../enaho/2020/737-Modulo02/737-Modulo02/enaho01-2020-200.dta\")\n",
    "sumaria = pd.read_stata(r\"../../enaho/2020/737-Modulo34/737-Modulo34/sumaria-2020.dta\", convert_categoricals=False)"
   ]
  },
  {
   "cell_type": "markdown",
   "id": "f912be72",
   "metadata": {},
   "source": [
    "### \"3.0 Mantener variables de interes\""
   ]
  },
  {
   "cell_type": "code",
   "execution_count": 3,
   "id": "0f1f281b",
   "metadata": {},
   "outputs": [],
   "source": [
    "enaho_02=enaho_02[['conglome','vivienda','hogar','p208a']]\n",
    "sumaria=sumaria[['conglome','vivienda','hogar','pobreza','linea']]"
   ]
  },
  {
   "cell_type": "markdown",
   "id": "418d1673",
   "metadata": {},
   "source": [
    "### \"4.0 Group_by\""
   ]
  },
  {
   "cell_type": "code",
   "execution_count": 4,
   "id": "148a6d2b",
   "metadata": {
    "scrolled": true
   },
   "outputs": [
    {
     "data": {
      "text/html": [
       "<div>\n",
       "<style scoped>\n",
       "    .dataframe tbody tr th:only-of-type {\n",
       "        vertical-align: middle;\n",
       "    }\n",
       "\n",
       "    .dataframe tbody tr th {\n",
       "        vertical-align: top;\n",
       "    }\n",
       "\n",
       "    .dataframe thead th {\n",
       "        text-align: right;\n",
       "    }\n",
       "</style>\n",
       "<table border=\"1\" class=\"dataframe\">\n",
       "  <thead>\n",
       "    <tr style=\"text-align: right;\">\n",
       "      <th></th>\n",
       "      <th>conglome</th>\n",
       "      <th>vivienda</th>\n",
       "      <th>hogar</th>\n",
       "      <th>p208a</th>\n",
       "    </tr>\n",
       "  </thead>\n",
       "  <tbody>\n",
       "    <tr>\n",
       "      <th>0</th>\n",
       "      <td>005002</td>\n",
       "      <td>011</td>\n",
       "      <td>11</td>\n",
       "      <td>66.0</td>\n",
       "    </tr>\n",
       "    <tr>\n",
       "      <th>1</th>\n",
       "      <td>005002</td>\n",
       "      <td>023</td>\n",
       "      <td>11</td>\n",
       "      <td>62.0</td>\n",
       "    </tr>\n",
       "    <tr>\n",
       "      <th>2</th>\n",
       "      <td>005002</td>\n",
       "      <td>049</td>\n",
       "      <td>11</td>\n",
       "      <td>74.0</td>\n",
       "    </tr>\n",
       "    <tr>\n",
       "      <th>3</th>\n",
       "      <td>005002</td>\n",
       "      <td>073</td>\n",
       "      <td>11</td>\n",
       "      <td>60.0</td>\n",
       "    </tr>\n",
       "    <tr>\n",
       "      <th>4</th>\n",
       "      <td>005002</td>\n",
       "      <td>097</td>\n",
       "      <td>11</td>\n",
       "      <td>80.0</td>\n",
       "    </tr>\n",
       "    <tr>\n",
       "      <th>...</th>\n",
       "      <td>...</td>\n",
       "      <td>...</td>\n",
       "      <td>...</td>\n",
       "      <td>...</td>\n",
       "    </tr>\n",
       "    <tr>\n",
       "      <th>34485</th>\n",
       "      <td>020353</td>\n",
       "      <td>023</td>\n",
       "      <td>11</td>\n",
       "      <td>42.0</td>\n",
       "    </tr>\n",
       "    <tr>\n",
       "      <th>34486</th>\n",
       "      <td>020353</td>\n",
       "      <td>030</td>\n",
       "      <td>11</td>\n",
       "      <td>32.0</td>\n",
       "    </tr>\n",
       "    <tr>\n",
       "      <th>34487</th>\n",
       "      <td>020353</td>\n",
       "      <td>049</td>\n",
       "      <td>11</td>\n",
       "      <td>59.0</td>\n",
       "    </tr>\n",
       "    <tr>\n",
       "      <th>34488</th>\n",
       "      <td>020353</td>\n",
       "      <td>055</td>\n",
       "      <td>11</td>\n",
       "      <td>47.0</td>\n",
       "    </tr>\n",
       "    <tr>\n",
       "      <th>34489</th>\n",
       "      <td>020353</td>\n",
       "      <td>062</td>\n",
       "      <td>11</td>\n",
       "      <td>31.0</td>\n",
       "    </tr>\n",
       "  </tbody>\n",
       "</table>\n",
       "<p>34490 rows × 4 columns</p>\n",
       "</div>"
      ],
      "text/plain": [
       "      conglome vivienda hogar  p208a\n",
       "0       005002      011    11   66.0\n",
       "1       005002      023    11   62.0\n",
       "2       005002      049    11   74.0\n",
       "3       005002      073    11   60.0\n",
       "4       005002      097    11   80.0\n",
       "...        ...      ...   ...    ...\n",
       "34485   020353      023    11   42.0\n",
       "34486   020353      030    11   32.0\n",
       "34487   020353      049    11   59.0\n",
       "34488   020353      055    11   47.0\n",
       "34489   020353      062    11   31.0\n",
       "\n",
       "[34490 rows x 4 columns]"
      ]
     },
     "execution_count": 4,
     "metadata": {},
     "output_type": "execute_result"
    }
   ],
   "source": [
    "enaho_02=enaho_02.groupby(['conglome','vivienda','hogar'],as_index = False)[['p208a']].max()\n",
    "enaho_02\n"
   ]
  },
  {
   "cell_type": "markdown",
   "id": "9e79c777",
   "metadata": {},
   "source": [
    "#### Mantener la observación del adulto de mayor edad por hogar.\n",
    "#### La lógica es que, si el individuo no es mayor de 65, entonces, ningún otro individuo del hogar lo será. \n",
    "#### Luego, si este individuo es mayor 65, el hogar ya puede ser clasificado en este requisito como 'apto' (pudiendo haber otras personas del hogar que también son mayores a 65 o no)."
   ]
  },
  {
   "cell_type": "code",
   "execution_count": 5,
   "id": "64efd738",
   "metadata": {},
   "outputs": [
    {
     "data": {
      "text/plain": [
       "Index(['conglome', 'vivienda', 'hogar', 'pobreza', 'linea'], dtype='object')"
      ]
     },
     "execution_count": 5,
     "metadata": {},
     "output_type": "execute_result"
    }
   ],
   "source": [
    "sumaria.keys() #confirmar cuáles variables python lee como tales para el merge"
   ]
  },
  {
   "cell_type": "code",
   "execution_count": 6,
   "id": "b70b6c01",
   "metadata": {},
   "outputs": [
    {
     "data": {
      "text/plain": [
       "Index(['conglome', 'vivienda', 'hogar', 'p208a'], dtype='object')"
      ]
     },
     "execution_count": 6,
     "metadata": {},
     "output_type": "execute_result"
    }
   ],
   "source": [
    "enaho_02.keys() #confirmar cuáles variables python lee como tales para el merge"
   ]
  },
  {
   "cell_type": "markdown",
   "id": "0877e012",
   "metadata": {},
   "source": [
    "### \"5.0 Juntar bases\""
   ]
  },
  {
   "cell_type": "code",
   "execution_count": 7,
   "id": "25c9ea62",
   "metadata": {
    "scrolled": false
   },
   "outputs": [
    {
     "data": {
      "text/html": [
       "<div>\n",
       "<style scoped>\n",
       "    .dataframe tbody tr th:only-of-type {\n",
       "        vertical-align: middle;\n",
       "    }\n",
       "\n",
       "    .dataframe tbody tr th {\n",
       "        vertical-align: top;\n",
       "    }\n",
       "\n",
       "    .dataframe thead th {\n",
       "        text-align: right;\n",
       "    }\n",
       "</style>\n",
       "<table border=\"1\" class=\"dataframe\">\n",
       "  <thead>\n",
       "    <tr style=\"text-align: right;\">\n",
       "      <th></th>\n",
       "      <th>conglome</th>\n",
       "      <th>vivienda</th>\n",
       "      <th>hogar</th>\n",
       "      <th>p208a</th>\n",
       "      <th>pobreza</th>\n",
       "      <th>linea</th>\n",
       "    </tr>\n",
       "  </thead>\n",
       "  <tbody>\n",
       "    <tr>\n",
       "      <th>0</th>\n",
       "      <td>005002</td>\n",
       "      <td>011</td>\n",
       "      <td>11</td>\n",
       "      <td>66.0</td>\n",
       "      <td>3</td>\n",
       "      <td>303.520996</td>\n",
       "    </tr>\n",
       "    <tr>\n",
       "      <th>1</th>\n",
       "      <td>005002</td>\n",
       "      <td>023</td>\n",
       "      <td>11</td>\n",
       "      <td>62.0</td>\n",
       "      <td>3</td>\n",
       "      <td>303.520996</td>\n",
       "    </tr>\n",
       "    <tr>\n",
       "      <th>2</th>\n",
       "      <td>005002</td>\n",
       "      <td>049</td>\n",
       "      <td>11</td>\n",
       "      <td>74.0</td>\n",
       "      <td>3</td>\n",
       "      <td>303.520996</td>\n",
       "    </tr>\n",
       "    <tr>\n",
       "      <th>3</th>\n",
       "      <td>005002</td>\n",
       "      <td>073</td>\n",
       "      <td>11</td>\n",
       "      <td>60.0</td>\n",
       "      <td>3</td>\n",
       "      <td>303.520996</td>\n",
       "    </tr>\n",
       "    <tr>\n",
       "      <th>4</th>\n",
       "      <td>005002</td>\n",
       "      <td>097</td>\n",
       "      <td>11</td>\n",
       "      <td>80.0</td>\n",
       "      <td>3</td>\n",
       "      <td>303.520996</td>\n",
       "    </tr>\n",
       "    <tr>\n",
       "      <th>...</th>\n",
       "      <td>...</td>\n",
       "      <td>...</td>\n",
       "      <td>...</td>\n",
       "      <td>...</td>\n",
       "      <td>...</td>\n",
       "      <td>...</td>\n",
       "    </tr>\n",
       "    <tr>\n",
       "      <th>34485</th>\n",
       "      <td>020353</td>\n",
       "      <td>023</td>\n",
       "      <td>11</td>\n",
       "      <td>42.0</td>\n",
       "      <td>3</td>\n",
       "      <td>254.304962</td>\n",
       "    </tr>\n",
       "    <tr>\n",
       "      <th>34486</th>\n",
       "      <td>020353</td>\n",
       "      <td>030</td>\n",
       "      <td>11</td>\n",
       "      <td>32.0</td>\n",
       "      <td>3</td>\n",
       "      <td>254.304962</td>\n",
       "    </tr>\n",
       "    <tr>\n",
       "      <th>34487</th>\n",
       "      <td>020353</td>\n",
       "      <td>049</td>\n",
       "      <td>11</td>\n",
       "      <td>59.0</td>\n",
       "      <td>3</td>\n",
       "      <td>254.304962</td>\n",
       "    </tr>\n",
       "    <tr>\n",
       "      <th>34488</th>\n",
       "      <td>020353</td>\n",
       "      <td>055</td>\n",
       "      <td>11</td>\n",
       "      <td>47.0</td>\n",
       "      <td>3</td>\n",
       "      <td>254.304962</td>\n",
       "    </tr>\n",
       "    <tr>\n",
       "      <th>34489</th>\n",
       "      <td>020353</td>\n",
       "      <td>062</td>\n",
       "      <td>11</td>\n",
       "      <td>31.0</td>\n",
       "      <td>3</td>\n",
       "      <td>254.304962</td>\n",
       "    </tr>\n",
       "  </tbody>\n",
       "</table>\n",
       "<p>34490 rows × 6 columns</p>\n",
       "</div>"
      ],
      "text/plain": [
       "      conglome vivienda hogar  p208a  pobreza       linea\n",
       "0       005002      011    11   66.0        3  303.520996\n",
       "1       005002      023    11   62.0        3  303.520996\n",
       "2       005002      049    11   74.0        3  303.520996\n",
       "3       005002      073    11   60.0        3  303.520996\n",
       "4       005002      097    11   80.0        3  303.520996\n",
       "...        ...      ...   ...    ...      ...         ...\n",
       "34485   020353      023    11   42.0        3  254.304962\n",
       "34486   020353      030    11   32.0        3  254.304962\n",
       "34487   020353      049    11   59.0        3  254.304962\n",
       "34488   020353      055    11   47.0        3  254.304962\n",
       "34489   020353      062    11   31.0        3  254.304962\n",
       "\n",
       "[34490 rows x 6 columns]"
      ]
     },
     "execution_count": 7,
     "metadata": {},
     "output_type": "execute_result"
    }
   ],
   "source": [
    "enaho_2020=pd.merge(enaho_02,sumaria)\n",
    "enaho_2020"
   ]
  },
  {
   "cell_type": "markdown",
   "id": "408f7123",
   "metadata": {},
   "source": [
    "### \"6.0 Crear dummy que cumpla ambos requisitos\"\n",
    "    # Requisito 1: ser un hogar con adulto mayor a 65\n",
    "        # p208a >= 65\n",
    "\n",
    "    # Requisito 2: ser hogar pobre (o extremo pobre)\n",
    "        # pobreza < 3 ==> pues 1 = extremo pobre y 2 = pobre"
   ]
  },
  {
   "cell_type": "code",
   "execution_count": 8,
   "id": "7b03b1af",
   "metadata": {},
   "outputs": [],
   "source": [
    "#si se cumplen esos 2 requisitos, poner 1 (candidato al programa); si no, 0\n",
    "enaho_2020[\"accesitario\"] = np.where((enaho_2020['p208a']>=65) & (enaho_2020['pobreza'] < 3),1,0)"
   ]
  },
  {
   "cell_type": "code",
   "execution_count": 9,
   "id": "954cbcb0",
   "metadata": {},
   "outputs": [
    {
     "data": {
      "text/plain": [
       "0    32816\n",
       "1     1674\n",
       "Name: accesitario, dtype: int64"
      ]
     },
     "execution_count": 9,
     "metadata": {},
     "output_type": "execute_result"
    }
   ],
   "source": [
    "enaho_2020[\"accesitario\"].value_counts() #ver cantidad para cada uno de los valores de la dummy de accesitario"
   ]
  },
  {
   "cell_type": "code",
   "execution_count": 10,
   "id": "d0dd711c",
   "metadata": {
    "scrolled": true
   },
   "outputs": [
    {
     "data": {
      "text/plain": [
       "0        0\n",
       "1        0\n",
       "2        0\n",
       "3        0\n",
       "4        0\n",
       "        ..\n",
       "34485    0\n",
       "34486    0\n",
       "34487    0\n",
       "34488    0\n",
       "34489    0\n",
       "Name: accesitario, Length: 34490, dtype: int32"
      ]
     },
     "execution_count": 10,
     "metadata": {},
     "output_type": "execute_result"
    }
   ],
   "source": [
    "enaho_2020.accesitario"
   ]
  },
  {
   "cell_type": "code",
   "execution_count": null,
   "id": "abd66ac0",
   "metadata": {},
   "outputs": [],
   "source": []
  }
 ],
 "metadata": {
  "kernelspec": {
   "display_name": "Python 3 (ipykernel)",
   "language": "python",
   "name": "python3"
  },
  "language_info": {
   "codemirror_mode": {
    "name": "ipython",
    "version": 3
   },
   "file_extension": ".py",
   "mimetype": "text/x-python",
   "name": "python",
   "nbconvert_exporter": "python",
   "pygments_lexer": "ipython3",
   "version": "3.9.12"
  }
 },
 "nbformat": 4,
 "nbformat_minor": 5
}
