{
 "cells": [
  {
   "cell_type": "markdown",
   "id": "9b79f1c3",
   "metadata": {},
   "source": [
    "### Trabaje con el modulo de empleo (modulo 05, enaho01a-2020-500), el ingreso anual del principal y segundo empleo del trabajador dependiente son i524e1 i538e1 respectivamente. Sume estos montos. Luego sume la cantidad de horas trabajados en el principal y segundo empleo en la semana, i513t i518 respectivamente. \n",
    "\n",
    "### Luego realice lo siguiente: salario por hora del trabajador dependiente: suma de i524e1 i538e1/ ( ( suma i513t i518)*52) \n",
    "\n",
    "### Se divide por 52, pues el año tiene 52 semanas, con ello se obtiene el salario por semana, y al dividirse por la cantidad de horas trabajadas por semana, se obtiene el salario por hora."
   ]
  },
  {
   "cell_type": "code",
   "execution_count": 1,
   "id": "f3900f2b",
   "metadata": {},
   "outputs": [],
   "source": [
    "###### Pregunta 2 ###### Grupo 9 #######\n",
    "\n",
    "import pandas as pd\n",
    "import numpy as np\n",
    "import os              # for usernanme y set directorio\n",
    "\n",
    "enaho_2020 = pd.read_stata(r\"../../enaho/2020/737-Modulo05/737-Modulo05/enaho01a-2020-500.dta\") #leer la base de datos"
   ]
  },
  {
   "cell_type": "code",
   "execution_count": 2,
   "id": "d326aaf6",
   "metadata": {
    "scrolled": true
   },
   "outputs": [
    {
     "data": {
      "text/html": [
       "<div>\n",
       "<style scoped>\n",
       "    .dataframe tbody tr th:only-of-type {\n",
       "        vertical-align: middle;\n",
       "    }\n",
       "\n",
       "    .dataframe tbody tr th {\n",
       "        vertical-align: top;\n",
       "    }\n",
       "\n",
       "    .dataframe thead th {\n",
       "        text-align: right;\n",
       "    }\n",
       "</style>\n",
       "<table border=\"1\" class=\"dataframe\">\n",
       "  <thead>\n",
       "    <tr style=\"text-align: right;\">\n",
       "      <th></th>\n",
       "      <th>i524e1</th>\n",
       "      <th>i538e1</th>\n",
       "      <th>i513t</th>\n",
       "      <th>i518</th>\n",
       "    </tr>\n",
       "  </thead>\n",
       "  <tbody>\n",
       "    <tr>\n",
       "      <th>0</th>\n",
       "      <td>NaN</td>\n",
       "      <td>NaN</td>\n",
       "      <td>70.0</td>\n",
       "      <td>NaN</td>\n",
       "    </tr>\n",
       "    <tr>\n",
       "      <th>1</th>\n",
       "      <td>NaN</td>\n",
       "      <td>NaN</td>\n",
       "      <td>70.0</td>\n",
       "      <td>NaN</td>\n",
       "    </tr>\n",
       "    <tr>\n",
       "      <th>2</th>\n",
       "      <td>NaN</td>\n",
       "      <td>NaN</td>\n",
       "      <td>84.0</td>\n",
       "      <td>NaN</td>\n",
       "    </tr>\n",
       "    <tr>\n",
       "      <th>3</th>\n",
       "      <td>2433.0</td>\n",
       "      <td>NaN</td>\n",
       "      <td>12.0</td>\n",
       "      <td>70.0</td>\n",
       "    </tr>\n",
       "    <tr>\n",
       "      <th>4</th>\n",
       "      <td>NaN</td>\n",
       "      <td>NaN</td>\n",
       "      <td>NaN</td>\n",
       "      <td>NaN</td>\n",
       "    </tr>\n",
       "    <tr>\n",
       "      <th>...</th>\n",
       "      <td>...</td>\n",
       "      <td>...</td>\n",
       "      <td>...</td>\n",
       "      <td>...</td>\n",
       "    </tr>\n",
       "    <tr>\n",
       "      <th>91310</th>\n",
       "      <td>10761.0</td>\n",
       "      <td>NaN</td>\n",
       "      <td>53.0</td>\n",
       "      <td>NaN</td>\n",
       "    </tr>\n",
       "    <tr>\n",
       "      <th>91311</th>\n",
       "      <td>14202.0</td>\n",
       "      <td>NaN</td>\n",
       "      <td>48.0</td>\n",
       "      <td>NaN</td>\n",
       "    </tr>\n",
       "    <tr>\n",
       "      <th>91312</th>\n",
       "      <td>NaN</td>\n",
       "      <td>NaN</td>\n",
       "      <td>NaN</td>\n",
       "      <td>NaN</td>\n",
       "    </tr>\n",
       "    <tr>\n",
       "      <th>91313</th>\n",
       "      <td>7680.0</td>\n",
       "      <td>NaN</td>\n",
       "      <td>34.0</td>\n",
       "      <td>NaN</td>\n",
       "    </tr>\n",
       "    <tr>\n",
       "      <th>91314</th>\n",
       "      <td>7680.0</td>\n",
       "      <td>NaN</td>\n",
       "      <td>70.0</td>\n",
       "      <td>NaN</td>\n",
       "    </tr>\n",
       "  </tbody>\n",
       "</table>\n",
       "<p>91315 rows × 4 columns</p>\n",
       "</div>"
      ],
      "text/plain": [
       "        i524e1  i538e1  i513t  i518\n",
       "0          NaN     NaN   70.0   NaN\n",
       "1          NaN     NaN   70.0   NaN\n",
       "2          NaN     NaN   84.0   NaN\n",
       "3       2433.0     NaN   12.0  70.0\n",
       "4          NaN     NaN    NaN   NaN\n",
       "...        ...     ...    ...   ...\n",
       "91310  10761.0     NaN   53.0   NaN\n",
       "91311  14202.0     NaN   48.0   NaN\n",
       "91312      NaN     NaN    NaN   NaN\n",
       "91313   7680.0     NaN   34.0   NaN\n",
       "91314   7680.0     NaN   70.0   NaN\n",
       "\n",
       "[91315 rows x 4 columns]"
      ]
     },
     "execution_count": 2,
     "metadata": {},
     "output_type": "execute_result"
    }
   ],
   "source": [
    "enaho_2020[['i524e1','i538e1','i513t','i518']] #ver las observaciones de las variables"
   ]
  },
  {
   "cell_type": "markdown",
   "id": "d101c685",
   "metadata": {},
   "source": [
    "### Nota: pasos para el cálculo del salario por hora\n",
    "\n",
    "#### Todos los NA reemplazar por 0:"
   ]
  },
  {
   "cell_type": "code",
   "execution_count": 3,
   "id": "ebd0f501",
   "metadata": {},
   "outputs": [
    {
     "data": {
      "text/html": [
       "<div>\n",
       "<style scoped>\n",
       "    .dataframe tbody tr th:only-of-type {\n",
       "        vertical-align: middle;\n",
       "    }\n",
       "\n",
       "    .dataframe tbody tr th {\n",
       "        vertical-align: top;\n",
       "    }\n",
       "\n",
       "    .dataframe thead th {\n",
       "        text-align: right;\n",
       "    }\n",
       "</style>\n",
       "<table border=\"1\" class=\"dataframe\">\n",
       "  <thead>\n",
       "    <tr style=\"text-align: right;\">\n",
       "      <th></th>\n",
       "      <th>i524e1</th>\n",
       "      <th>i538e1</th>\n",
       "      <th>i513t</th>\n",
       "      <th>i518</th>\n",
       "    </tr>\n",
       "  </thead>\n",
       "  <tbody>\n",
       "    <tr>\n",
       "      <th>0</th>\n",
       "      <td>0.0</td>\n",
       "      <td>0.0</td>\n",
       "      <td>70.0</td>\n",
       "      <td>0.0</td>\n",
       "    </tr>\n",
       "    <tr>\n",
       "      <th>1</th>\n",
       "      <td>0.0</td>\n",
       "      <td>0.0</td>\n",
       "      <td>70.0</td>\n",
       "      <td>0.0</td>\n",
       "    </tr>\n",
       "    <tr>\n",
       "      <th>2</th>\n",
       "      <td>0.0</td>\n",
       "      <td>0.0</td>\n",
       "      <td>84.0</td>\n",
       "      <td>0.0</td>\n",
       "    </tr>\n",
       "    <tr>\n",
       "      <th>3</th>\n",
       "      <td>2433.0</td>\n",
       "      <td>0.0</td>\n",
       "      <td>12.0</td>\n",
       "      <td>70.0</td>\n",
       "    </tr>\n",
       "    <tr>\n",
       "      <th>4</th>\n",
       "      <td>0.0</td>\n",
       "      <td>0.0</td>\n",
       "      <td>0.0</td>\n",
       "      <td>0.0</td>\n",
       "    </tr>\n",
       "    <tr>\n",
       "      <th>...</th>\n",
       "      <td>...</td>\n",
       "      <td>...</td>\n",
       "      <td>...</td>\n",
       "      <td>...</td>\n",
       "    </tr>\n",
       "    <tr>\n",
       "      <th>91310</th>\n",
       "      <td>10761.0</td>\n",
       "      <td>0.0</td>\n",
       "      <td>53.0</td>\n",
       "      <td>0.0</td>\n",
       "    </tr>\n",
       "    <tr>\n",
       "      <th>91311</th>\n",
       "      <td>14202.0</td>\n",
       "      <td>0.0</td>\n",
       "      <td>48.0</td>\n",
       "      <td>0.0</td>\n",
       "    </tr>\n",
       "    <tr>\n",
       "      <th>91312</th>\n",
       "      <td>0.0</td>\n",
       "      <td>0.0</td>\n",
       "      <td>0.0</td>\n",
       "      <td>0.0</td>\n",
       "    </tr>\n",
       "    <tr>\n",
       "      <th>91313</th>\n",
       "      <td>7680.0</td>\n",
       "      <td>0.0</td>\n",
       "      <td>34.0</td>\n",
       "      <td>0.0</td>\n",
       "    </tr>\n",
       "    <tr>\n",
       "      <th>91314</th>\n",
       "      <td>7680.0</td>\n",
       "      <td>0.0</td>\n",
       "      <td>70.0</td>\n",
       "      <td>0.0</td>\n",
       "    </tr>\n",
       "  </tbody>\n",
       "</table>\n",
       "<p>91315 rows × 4 columns</p>\n",
       "</div>"
      ],
      "text/plain": [
       "        i524e1  i538e1  i513t  i518\n",
       "0          0.0     0.0   70.0   0.0\n",
       "1          0.0     0.0   70.0   0.0\n",
       "2          0.0     0.0   84.0   0.0\n",
       "3       2433.0     0.0   12.0  70.0\n",
       "4          0.0     0.0    0.0   0.0\n",
       "...        ...     ...    ...   ...\n",
       "91310  10761.0     0.0   53.0   0.0\n",
       "91311  14202.0     0.0   48.0   0.0\n",
       "91312      0.0     0.0    0.0   0.0\n",
       "91313   7680.0     0.0   34.0   0.0\n",
       "91314   7680.0     0.0   70.0   0.0\n",
       "\n",
       "[91315 rows x 4 columns]"
      ]
     },
     "execution_count": 3,
     "metadata": {},
     "output_type": "execute_result"
    }
   ],
   "source": [
    "enaho_2020.i524e1=enaho_2020.i524e1.fillna(0)\n",
    "enaho_2020.i538e1=enaho_2020.i538e1.fillna(0)\n",
    "enaho_2020.i513t=enaho_2020.i513t.fillna(0)\n",
    "enaho_2020.i518=enaho_2020.i518.fillna(0)\n",
    "enaho_2020[['i524e1','i538e1','i513t','i518']] #observar si efectivamente se cambiaron los valores"
   ]
  },
  {
   "cell_type": "code",
   "execution_count": 4,
   "id": "7fe9b846",
   "metadata": {
    "scrolled": true
   },
   "outputs": [
    {
     "name": "stdout",
     "output_type": "stream",
     "text": [
      "0\n",
      "0\n",
      "0\n",
      "0\n"
     ]
    }
   ],
   "source": [
    "#Comprobación de que ya no hya missings values\n",
    "print( enaho_2020.i524e1.isna().sum() ) \n",
    "print( enaho_2020.i538e1.isna().sum() ) \n",
    "print( enaho_2020.i513t.isna().sum() )  \n",
    "print( enaho_2020.i518.isna().sum() )   "
   ]
  },
  {
   "cell_type": "markdown",
   "id": "5dc3763a",
   "metadata": {},
   "source": [
    "#### Realizar el cálculo del salario por hora:"
   ]
  },
  {
   "cell_type": "code",
   "execution_count": 6,
   "id": "b21657f2",
   "metadata": {
    "scrolled": false
   },
   "outputs": [
    {
     "data": {
      "text/plain": [
       "0        0.000000\n",
       "1        0.000000\n",
       "2        0.000000\n",
       "3        0.570591\n",
       "4             NaN\n",
       "           ...   \n",
       "91310    3.904572\n",
       "91311    5.689904\n",
       "91312         NaN\n",
       "91313    4.343891\n",
       "91314    2.109890\n",
       "Length: 91315, dtype: float64"
      ]
     },
     "execution_count": 6,
     "metadata": {},
     "output_type": "execute_result"
    }
   ],
   "source": [
    "sum_ing=enaho_2020.i524e1 +enaho_2020.i538e1 #el ingreso anual del principal y el segundo empleo del trabajador dependiente \n",
    "sum_hrs=enaho_2020.i513t +enaho_2020.i518    #cantidad de horas trabajados en el principal y segundo empleo en la semana\n",
    "wxhr= sum_ing / (sum_hrs*52)             #salario por hora del trabajador dependiente\n",
    "wxhr "
   ]
  },
  {
   "cell_type": "markdown",
   "id": "c655a665",
   "metadata": {},
   "source": [
    "#### Si un salario por hora resulta 0, convertir a missing:"
   ]
  },
  {
   "cell_type": "code",
   "execution_count": 7,
   "id": "e6187e24",
   "metadata": {},
   "outputs": [
    {
     "data": {
      "text/plain": [
       "0             NaN\n",
       "1             NaN\n",
       "2             NaN\n",
       "3        0.570591\n",
       "4             NaN\n",
       "           ...   \n",
       "91310    3.904572\n",
       "91311    5.689904\n",
       "91312         NaN\n",
       "91313    4.343891\n",
       "91314    2.109890\n",
       "Length: 91315, dtype: float64"
      ]
     },
     "execution_count": 7,
     "metadata": {},
     "output_type": "execute_result"
    }
   ],
   "source": [
    "wxhr.replace(to_replace = 0, value = np.NaN, inplace=True) #reemplaza el 0 por NaN en la misma variable\n",
    "wxhr #observar el salario por hora del trabajador dependiente, ya con los valores cambiados a NaN"
   ]
  },
  {
   "cell_type": "code",
   "execution_count": null,
   "id": "b0ae050c",
   "metadata": {},
   "outputs": [],
   "source": []
  }
 ],
 "metadata": {
  "kernelspec": {
   "display_name": "Python 3 (ipykernel)",
   "language": "python",
   "name": "python3"
  },
  "language_info": {
   "codemirror_mode": {
    "name": "ipython",
    "version": 3
   },
   "file_extension": ".py",
   "mimetype": "text/x-python",
   "name": "python",
   "nbconvert_exporter": "python",
   "pygments_lexer": "ipython3",
   "version": "3.9.12"
  }
 },
 "nbformat": 4,
 "nbformat_minor": 5
}
