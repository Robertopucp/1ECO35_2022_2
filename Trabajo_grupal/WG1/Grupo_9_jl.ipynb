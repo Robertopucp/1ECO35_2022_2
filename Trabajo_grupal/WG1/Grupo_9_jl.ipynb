{
 "cells": [
  {
   "cell_type": "code",
   "execution_count": 11,
   "id": "a6d8d6ea",
   "metadata": {},
   "outputs": [],
   "source": [
    "# 5- Julia replicar la función OLS presentada en clase (ultima función del laboratorio de R y python)\n",
    "\n",
    "# 20180783\tRomina Garibay\n",
    "# 20183566\tMarissa Vergara\n",
    "# 20163164\tLisbeth Morales"
   ]
  },
  {
   "cell_type": "code",
   "execution_count": 2,
   "id": "20021894",
   "metadata": {},
   "outputs": [],
   "source": [
    "# import Pkg\n",
    "# Pkg.add(\"LinearAlgebra\")\n",
    "# Pkg.add(\"Random\")\n",
    "# Pkg.add(\"Distributions\")\n",
    "# Pkg.add(\"Statistics\")\n",
    "# Pkg.add(\"DataFrames\")"
   ]
  },
  {
   "cell_type": "code",
   "execution_count": 3,
   "id": "144f1c78",
   "metadata": {},
   "outputs": [],
   "source": [
    "using Random  \n",
    "using Statistics \n",
    "using Distributions, LinearAlgebra\n",
    "using DataFrames"
   ]
  },
  {
   "cell_type": "code",
   "execution_count": 4,
   "id": "6aefe286",
   "metadata": {},
   "outputs": [
    {
     "data": {
      "text/plain": [
       "500-element Vector{Float64}:\n",
       " 3.651760111637669\n",
       " 2.179257931872106\n",
       " 2.692229249483935\n",
       " 3.3469728701923085\n",
       " 3.5588447837576\n",
       " 2.276211694590222\n",
       " 4.829946629006251\n",
       " 4.093224741375721\n",
       " 3.619062546112381\n",
       " 3.626039311588756\n",
       " 3.6295199167710184\n",
       " 4.699162411600479\n",
       " 2.97187185098835\n",
       " ⋮\n",
       " 2.143054993101037\n",
       " 5.156448840518553\n",
       " 5.552718346568406\n",
       " 4.509710634153028\n",
       " 2.8803764549617084\n",
       " 1.4650621858976582\n",
       " 5.2641481243982975\n",
       " 2.856488034023155\n",
       " 2.118228555438558\n",
       " 2.7524244417837345\n",
       " 2.530006799870474\n",
       " 2.7102224930461163"
      ]
     },
     "execution_count": 4,
     "metadata": {},
     "output_type": "execute_result"
    }
   ],
   "source": [
    "using Random\n",
    "using Distributions\n",
    "Random.seed!(756)\n",
    "\n",
    "x1 = rand(500)  # uniform distribution\n",
    "x2 = rand(500) # uniform distribution\n",
    "x3 = rand(500) # uniform distribution\n",
    "x4 = rand(500) # uniform distribution\n",
    "\n",
    "e = randn(500) # normal dsitribution mean = 0 y sd = 1\n",
    "\n",
    "# DGP\n",
    "\n",
    "Y = ones(500) + 0.8.*x1 + 1.2.*x2 + 0.5.*x3 + 1.5.*x4 + e"
   ]
  },
  {
   "cell_type": "code",
   "execution_count": 5,
   "id": "29b3bf83",
   "metadata": {},
   "outputs": [
    {
     "data": {
      "text/plain": [
       "500×5 Matrix{Float64}:\n",
       " 1.0  0.838562    0.818703  0.873998   0.307697\n",
       " 1.0  0.35974     0.857487  0.321217   0.402396\n",
       " 1.0  0.866428    0.376773  0.116841   0.01289\n",
       " 1.0  0.620758    0.110184  0.773056   0.473527\n",
       " 1.0  0.790826    0.380551  0.3113     0.576488\n",
       " 1.0  0.814543    0.165241  0.826491   0.912464\n",
       " 1.0  0.294621    0.987889  0.372204   0.312046\n",
       " 1.0  0.991318    0.493014  0.852898   0.471054\n",
       " 1.0  0.660835    0.318123  0.639298   0.921224\n",
       " 1.0  0.776585    0.137327  0.939525   0.927768\n",
       " 1.0  0.735151    0.57674   0.892356   0.729053\n",
       " 1.0  0.265968    0.882513  0.977335   0.78393\n",
       " 1.0  0.805829    0.638077  0.0594682  0.51971\n",
       " ⋮                                     \n",
       " 1.0  0.0733076   0.216207  0.810691   0.545487\n",
       " 1.0  0.752575    0.556695  0.833254   0.364712\n",
       " 1.0  0.991432    0.772759  0.717453   0.780103\n",
       " 1.0  0.704278    0.528964  0.0236845  0.876592\n",
       " 1.0  0.426315    0.628536  0.906187   0.265348\n",
       " 1.0  0.947555    0.561127  0.392688   0.658197\n",
       " 1.0  0.86817     0.969904  0.475238   0.746418\n",
       " 1.0  0.49457     0.875023  0.0308353  0.346219\n",
       " 1.0  0.427537    0.477586  0.0987869  0.668626\n",
       " 1.0  0.384708    0.838875  0.507085   0.444398\n",
       " 1.0  0.00908538  0.563433  0.79617    0.0125414\n",
       " 1.0  0.252992    0.373577  0.390401   0.481368"
      ]
     },
     "execution_count": 5,
     "metadata": {},
     "output_type": "execute_result"
    }
   ],
   "source": [
    "X = hcat(ones(500),x1,x2,x3,x4)"
   ]
  },
  {
   "cell_type": "code",
   "execution_count": 6,
   "id": "85722bf1",
   "metadata": {},
   "outputs": [
    {
     "data": {
      "text/plain": [
       "ols (generic function with 5 methods)"
      ]
     },
     "execution_count": 6,
     "metadata": {},
     "output_type": "execute_result"
    }
   ],
   "source": [
    "function ols(M,Y, standar = true, Pvalue::Bool = true , instrumento = nothing, index = nothing)\n",
    "\n",
    "    if standar && Pvalue && isnothing(instrumento) && isnothing(index)     #2. si se cumple todo, mostrar\n",
    "        \n",
    "        \n",
    "        beta = inv(transpose(X) * X) * (transpose(X) * Y)                        #2.a. estimar beta\n",
    "        \n",
    "        y_est =  X * beta                                                        #2.b. Y estimado = vector \n",
    "        \n",
    "        n  = size(X,1)                                                           #2.c. numero de observaciones\n",
    "        \n",
    "        k  = size(X,2)  - 1                                                      #2.d. numeros de x - unos (grados de libertad)\n",
    "        \n",
    "        nk = n - k                                                               #2.e. grados de libertad\n",
    "        \n",
    "        ee= Y - y_est\n",
    "        \n",
    "        sigma =  sum(ee.^2 ) / nk                                                #2.f. SCR/ (n-k) = e'e /(n-k) = s^2 =sigma^2\n",
    "        \n",
    "        Var   = sigma*inv(transpose(X) * X)                                      #2.g. Var_Cov(betas) = s^2 * (X'X)-1\n",
    "        sd    = Var[diagind(Var)].*(1/2)                                         #2.h. desv(betas)=var(betas)^1/2 , solo diag\n",
    "         \n",
    "        t_est = abs.(beta./sd)                                                   #2.i. t_est = |beta-0|/sd ==> para cada beta \n",
    "        dist= TDist(nk)\n",
    "        \n",
    "        pvalue= (1 .- cdf(dist, t_est) ).*2\n",
    "        df    = DataFrame(OLS= beta , standar_error= sd, P_value=pvalue )    \n",
    "\n",
    "    \n",
    "    elseif !isnothing(instrumento) && !isnothing(index)            #2. Si el instrumento no es None   &\n",
    "                                                                                      #   el índice no es None\n",
    "        \n",
    "        beta = inv(transpose(X) * X) * (transpose(X) * Y)                  #2.a. estimar beta sin corregir endogeneidad\n",
    "        \n",
    "        index = index  - 1                                                 #2.b. xk con endogeneidad está en fila index\n",
    "                                                                           #     que sería index - 1\n",
    "        Z = X\n",
    "        Z[:,index] = z                                                     #2.c. reemplazar toda la columna de xk endogena con z\n",
    "    \n",
    "        \n",
    "        \n",
    "        beta_x = inv(transpose(Z) * Z) * (Transpose(Z) * X[:,index] )            #2.d. estimar beta de xk con Z (= demas Xs + instrumento)          \n",
    "        x_est  = Z * beta_x                                                #2.e. estimar xk_estimado\n",
    "        \n",
    "        \n",
    "        X[:,index] = x_est                                                 #2.f. reemplazar la variable xk por su estimado xk_estimado \n",
    "        beta_iv = inv(transpose(X) * X) * (transpose(X) * Y )                    #2.a. estimar beta corrigiendo endogeneidad\n",
    "        \n",
    "        \n",
    "        df = DataFrame(OLS= beta , OLS_IV= beta_iv)  \n",
    "\n",
    "    return df\n",
    "    end\n",
    "end"
   ]
  },
  {
   "cell_type": "code",
   "execution_count": 7,
   "id": "8ef9b528",
   "metadata": {},
   "outputs": [
    {
     "data": {
      "text/html": [
       "<div class=\"data-frame\"><p>5 rows × 3 columns</p><table class=\"data-frame\"><thead><tr><th></th><th>OLS</th><th>standar_error</th><th>P_value</th></tr><tr><th></th><th title=\"Float64\">Float64</th><th title=\"Float64\">Float64</th><th title=\"Float64\">Float64</th></tr></thead><tbody><tr><th>1</th><td>0.63834</td><td>0.0135565</td><td>0.0</td></tr><tr><th>2</th><td>0.846653</td><td>0.0131005</td><td>0.0</td></tr><tr><th>3</th><td>1.55048</td><td>0.0123729</td><td>0.0</td></tr><tr><th>4</th><td>0.743114</td><td>0.0131288</td><td>0.0</td></tr><tr><th>5</th><td>1.78192</td><td>0.0122803</td><td>0.0</td></tr></tbody></table></div>"
      ],
      "text/latex": [
       "\\begin{tabular}{r|ccc}\n",
       "\t& OLS & standar\\_error & P\\_value\\\\\n",
       "\t\\hline\n",
       "\t& Float64 & Float64 & Float64\\\\\n",
       "\t\\hline\n",
       "\t1 & 0.63834 & 0.0135565 & 0.0 \\\\\n",
       "\t2 & 0.846653 & 0.0131005 & 0.0 \\\\\n",
       "\t3 & 1.55048 & 0.0123729 & 0.0 \\\\\n",
       "\t4 & 0.743114 & 0.0131288 & 0.0 \\\\\n",
       "\t5 & 1.78192 & 0.0122803 & 0.0 \\\\\n",
       "\\end{tabular}\n"
      ],
      "text/plain": [
       "\u001b[1m5×3 DataFrame\u001b[0m\n",
       "\u001b[1m Row \u001b[0m│\u001b[1m OLS      \u001b[0m\u001b[1m standar_error \u001b[0m\u001b[1m P_value \u001b[0m\n",
       "\u001b[1m     \u001b[0m│\u001b[90m Float64  \u001b[0m\u001b[90m Float64       \u001b[0m\u001b[90m Float64 \u001b[0m\n",
       "─────┼──────────────────────────────────\n",
       "   1 │ 0.63834       0.0135565      0.0\n",
       "   2 │ 0.846653      0.0131005      0.0\n",
       "   3 │ 1.55048       0.0123729      0.0\n",
       "   4 │ 0.743114      0.0131288      0.0\n",
       "   5 │ 1.78192       0.0122803      0.0"
      ]
     },
     "execution_count": 7,
     "metadata": {},
     "output_type": "execute_result"
    }
   ],
   "source": [
    "ols(X,Y)"
   ]
  }
 ],
 "metadata": {
  "kernelspec": {
   "display_name": "Julia 1.6.7",
   "language": "julia",
   "name": "julia-1.6"
  },
  "language_info": {
   "file_extension": ".jl",
   "mimetype": "application/julia",
   "name": "julia",
   "version": "1.6.7"
  }
 },
 "nbformat": 4,
 "nbformat_minor": 5
}
