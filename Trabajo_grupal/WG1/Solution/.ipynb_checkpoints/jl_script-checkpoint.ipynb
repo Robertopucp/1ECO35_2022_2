{
 "cells": [
  {
   "cell_type": "markdown",
   "id": "ac9e0bdb",
   "metadata": {},
   "source": [
    "\n",
    "\" Homework 1 - solution  \"\n",
    "\" @author: Roberto Mendoza \"\n",
    "\" @date: 12/09/2020 \"\n"
   ]
  },
  {
   "cell_type": "code",
   "execution_count": 2,
   "id": "4fa96757",
   "metadata": {},
   "outputs": [
    {
     "ename": "LoadError",
     "evalue": "ArgumentError: Package Dataframe not found in current path:\n- Run `import Pkg; Pkg.add(\"Dataframe\")` to install the Dataframe package.\n",
     "output_type": "error",
     "traceback": [
      "ArgumentError: Package Dataframe not found in current path:\n- Run `import Pkg; Pkg.add(\"Dataframe\")` to install the Dataframe package.\n",
      "",
      "Stacktrace:",
      " [1] require(into::Module, mod::Symbol)",
      "   @ Base .\\loading.jl:967",
      " [2] eval",
      "   @ .\\boot.jl:373 [inlined]",
      " [3] include_string(mapexpr::typeof(REPL.softscope), mod::Module, code::String, filename::String)",
      "   @ Base .\\loading.jl:1196"
     ]
    }
   ],
   "source": [
    "using Random\n",
    "using Distributions\n",
    "using Dataframe"
   ]
  },
  {
   "cell_type": "code",
   "execution_count": null,
   "id": "d79d1ee9",
   "metadata": {},
   "outputs": [],
   "source": [
    "\n",
    "Random.seed!(756)\n",
    "\n",
    "x1 = rand(500)  # uniform distribution\n",
    "x2 = rand(500) # uniform distribution\n",
    "x3 = rand(500) # uniform distribution\n",
    "x4 = rand(500) # uniform distribution\n",
    "\n",
    "e = randn(500) # normal dsitribution mean = 0 y sd = 1"
   ]
  },
  {
   "cell_type": "code",
   "execution_count": null,
   "id": "bb2e7a1e",
   "metadata": {},
   "outputs": [],
   "source": []
  }
 ],
 "metadata": {
  "kernelspec": {
   "display_name": "Julia 1.7.3",
   "language": "julia",
   "name": "julia-1.7"
  },
  "language_info": {
   "file_extension": ".jl",
   "mimetype": "application/julia",
   "name": "julia",
   "version": "1.7.3"
  }
 },
 "nbformat": 4,
 "nbformat_minor": 5
}
