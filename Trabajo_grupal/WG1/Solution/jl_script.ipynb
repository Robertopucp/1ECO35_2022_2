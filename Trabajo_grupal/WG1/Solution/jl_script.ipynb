{
 "cells": [
  {
   "cell_type": "markdown",
   "id": "baaee402",
   "metadata": {},
   "source": [
    "\n",
    "\" Homework 1 - solution  \"\n",
    "\" @author: Roberto Mendoza \"\n",
    "\" @date: 12/09/2020 \"\n"
   ]
  },
  {
   "cell_type": "code",
   "execution_count": 43,
   "id": "146e33eb",
   "metadata": {},
   "outputs": [],
   "source": [
    "using Random\n",
    "using Distributions\n",
    "using DataFrames\n",
    "using Statistics \n",
    "using LinearAlgebra"
   ]
  },
  {
   "cell_type": "code",
   "execution_count": 147,
   "id": "0af57a6e",
   "metadata": {},
   "outputs": [
    {
     "data": {
      "text/plain": [
       "500-element Vector{Float64}:\n",
       "  1.2161218700987348\n",
       " -0.9926126764602828\n",
       "  0.19191592562045984\n",
       " -0.15086947966621472\n",
       " -0.6389125810461639\n",
       " -1.3942144444104163\n",
       " -0.705889215799248\n",
       "  0.37351476592213184\n",
       "  1.1746314413492067\n",
       " -0.9545887894895217\n",
       "  0.39410363435252194\n",
       "  2.7466082381229593\n",
       " -1.0373997619198814\n",
       "  ⋮\n",
       "  0.13025908043652165\n",
       " -0.12163806225317268\n",
       "  0.43155933378570865\n",
       " -0.2831212753900742\n",
       " -0.30073565141764164\n",
       "  1.935178430836171\n",
       " -0.11737482834931355\n",
       " -1.034540049333148\n",
       "  0.25990723232112944\n",
       "  0.5935131458905702\n",
       "  0.20677712273119342\n",
       "  1.0340990198372546"
      ]
     },
     "execution_count": 147,
     "metadata": {},
     "output_type": "execute_result"
    }
   ],
   "source": [
    "\n",
    "Random.seed!(756)\n",
    "\n",
    "x1 = rand(500)  # uniform distribution\n",
    "x2 = rand(500) # uniform distribution\n",
    "x3 = rand(500) # uniform distribution\n",
    "x4 = rand(500) # uniform distribution\n",
    "\n",
    "e = randn(500) # normal dsitribution mean = 0 y sd = 1\n",
    "Y = ones(500) + 0.8.*x1 + 1.2.*x2 + 0.5.*x3 + 1.5.*x4 + e\n",
    "X = hcat(ones(500),x1,x2,x3,x4)\n",
    "\n",
    "z = randn(500)"
   ]
  },
  {
   "cell_type": "code",
   "execution_count": 162,
   "id": "b698c95c",
   "metadata": {},
   "outputs": [
    {
     "data": {
      "text/plain": [
       "ols (generic function with 5 methods)"
      ]
     },
     "execution_count": 162,
     "metadata": {},
     "output_type": "execute_result"
    }
   ],
   "source": [
    "function ols(X, Y , standar::Bool = true, Pvalue::Bool = true , instrumento=nothing, index=nothing)\n",
    "    \n",
    "    if standar && Pvalue && isnothing(instrumento) && isnothing(index)\n",
    "        \n",
    "        beta = inv(transpose(X) * X) * (transpose(X) * Y)\n",
    "        \n",
    "        \n",
    "        \n",
    "        y_est = X*beta\n",
    "        n = size(X)[1]\n",
    "        k = size(X)[2]\n",
    "        df = n-k\n",
    "        error_vector = Y-y_est\n",
    "        sigma = sum(error_vector.^(2))/df\n",
    "        Var = sigma*inv(transpose(X) * X)\n",
    "        sd = Var[diagind(Var)].^(0.5)\n",
    "        t_test = abs.(beta./sd)\n",
    "        dist = TDist(df)\n",
    "        pvalue = 2*(1 .- cdf(dist, t_test)) \n",
    "        table = DataFrame(Coeff =beta, Standar_error =sd , P_value = pvalue)\n",
    "        \n",
    "    elseif !isnothing(instrumento) && !isnothing(index)\n",
    "        \n",
    "        beta = inv(transpose(X) * X) * (transpose(X) * Y)\n",
    "        \n",
    "        index = index +1\n",
    "        Z = X\n",
    "        Z[:,index] = z\n",
    "        \n",
    "        beta_x = inv(transpose(Z) * Z) * (transpose(Z) * X[:,index])\n",
    "        x_est = Z * beta_x\n",
    "        X[:,index] = x_est\n",
    "        \n",
    "        beta_iv = inv(transpose(X) * X) * (transpose(X) * Y)\n",
    "        \n",
    "        table = DataFrame(OLS= beta,  \n",
    "                       OLS_IV = beta_iv)\n",
    "    end\n",
    "    \n",
    "    return table\n",
    "end"
   ]
  },
  {
   "cell_type": "code",
   "execution_count": 171,
   "id": "6e9827ff",
   "metadata": {},
   "outputs": [
    {
     "data": {
      "text/html": [
       "<div class=\"data-frame\"><p>5 rows × 3 columns</p><table class=\"data-frame\"><thead><tr><th></th><th>Coeff</th><th>Standar_error</th><th>P_value</th></tr><tr><th></th><th title=\"Float64\">Float64</th><th title=\"Float64\">Float64</th><th title=\"Float64\">Float64</th></tr></thead><tbody><tr><th>1</th><td>1.39969</td><td>0.14981</td><td>0.0</td></tr><tr><th>2</th><td>0.0235243</td><td>0.0470551</td><td>0.617347</td></tr><tr><th>3</th><td>1.38447</td><td>0.165582</td><td>6.66134e-16</td></tr><tr><th>4</th><td>0.565652</td><td>0.161536</td><td>0.000504135</td></tr><tr><th>5</th><td>1.33924</td><td>0.163545</td><td>2.22045e-15</td></tr></tbody></table></div>"
      ],
      "text/latex": [
       "\\begin{tabular}{r|ccc}\n",
       "\t& Coeff & Standar\\_error & P\\_value\\\\\n",
       "\t\\hline\n",
       "\t& Float64 & Float64 & Float64\\\\\n",
       "\t\\hline\n",
       "\t1 & 1.39969 & 0.14981 & 0.0 \\\\\n",
       "\t2 & 0.0235243 & 0.0470551 & 0.617347 \\\\\n",
       "\t3 & 1.38447 & 0.165582 & 6.66134e-16 \\\\\n",
       "\t4 & 0.565652 & 0.161536 & 0.000504135 \\\\\n",
       "\t5 & 1.33924 & 0.163545 & 2.22045e-15 \\\\\n",
       "\\end{tabular}\n"
      ],
      "text/plain": [
       "\u001b[1m5×3 DataFrame\u001b[0m\n",
       "\u001b[1m Row \u001b[0m│\u001b[1m Coeff     \u001b[0m\u001b[1m Standar_error \u001b[0m\u001b[1m P_value     \u001b[0m\n",
       "\u001b[1m     \u001b[0m│\u001b[90m Float64   \u001b[0m\u001b[90m Float64       \u001b[0m\u001b[90m Float64     \u001b[0m\n",
       "─────┼───────────────────────────────────────\n",
       "   1 │ 1.39969        0.14981    0.0\n",
       "   2 │ 0.0235243      0.0470551  0.617347\n",
       "   3 │ 1.38447        0.165582   6.66134e-16\n",
       "   4 │ 0.565652       0.161536   0.000504135\n",
       "   5 │ 1.33924        0.163545   2.22045e-15"
      ]
     },
     "execution_count": 171,
     "metadata": {},
     "output_type": "execute_result"
    }
   ],
   "source": [
    " ols(X,Y)\n"
   ]
  },
  {
   "cell_type": "code",
   "execution_count": 172,
   "id": "4e38ef0c",
   "metadata": {},
   "outputs": [
    {
     "data": {
      "text/html": [
       "<div class=\"data-frame\"><p>5 rows × 2 columns</p><table class=\"data-frame\"><thead><tr><th></th><th>OLS</th><th>OLS_IV</th></tr><tr><th></th><th title=\"Float64\">Float64</th><th title=\"Float64\">Float64</th></tr></thead><tbody><tr><th>1</th><td>1.39969</td><td>1.39969</td></tr><tr><th>2</th><td>0.0235243</td><td>0.0235243</td></tr><tr><th>3</th><td>1.38447</td><td>1.38447</td></tr><tr><th>4</th><td>0.565652</td><td>0.565652</td></tr><tr><th>5</th><td>1.33924</td><td>1.33924</td></tr></tbody></table></div>"
      ],
      "text/latex": [
       "\\begin{tabular}{r|cc}\n",
       "\t& OLS & OLS\\_IV\\\\\n",
       "\t\\hline\n",
       "\t& Float64 & Float64\\\\\n",
       "\t\\hline\n",
       "\t1 & 1.39969 & 1.39969 \\\\\n",
       "\t2 & 0.0235243 & 0.0235243 \\\\\n",
       "\t3 & 1.38447 & 1.38447 \\\\\n",
       "\t4 & 0.565652 & 0.565652 \\\\\n",
       "\t5 & 1.33924 & 1.33924 \\\\\n",
       "\\end{tabular}\n"
      ],
      "text/plain": [
       "\u001b[1m5×2 DataFrame\u001b[0m\n",
       "\u001b[1m Row \u001b[0m│\u001b[1m OLS       \u001b[0m\u001b[1m OLS_IV    \u001b[0m\n",
       "\u001b[1m     \u001b[0m│\u001b[90m Float64   \u001b[0m\u001b[90m Float64   \u001b[0m\n",
       "─────┼──────────────────────\n",
       "   1 │ 1.39969    1.39969\n",
       "   2 │ 0.0235243  0.0235243\n",
       "   3 │ 1.38447    1.38447\n",
       "   4 │ 0.565652   0.565652\n",
       "   5 │ 1.33924    1.33924"
      ]
     },
     "execution_count": 172,
     "metadata": {},
     "output_type": "execute_result"
    }
   ],
   "source": [
    " ols(X,Y,false,false, z,1)"
   ]
  }
 ],
 "metadata": {
  "kernelspec": {
   "display_name": "Julia 1.7.3",
   "language": "julia",
   "name": "julia-1.7"
  },
  "language_info": {
   "file_extension": ".jl",
   "mimetype": "application/julia",
   "name": "julia",
   "version": "1.7.3"
  }
 },
 "nbformat": 4,
 "nbformat_minor": 5
}
