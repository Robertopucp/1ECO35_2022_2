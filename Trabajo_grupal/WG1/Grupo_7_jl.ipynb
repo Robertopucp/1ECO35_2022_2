{
 "cells": [
  {
   "cell_type": "code",
   "execution_count": 1,
   "id": "2595542e",
   "metadata": {},
   "outputs": [],
   "source": [
    "##Primero cargamos las librerías correspondientes\n",
    "\n",
    "# import Pkg \n",
    "# Pkg.add(\"LinearAlgebra\")\n",
    "# Pkg.add(\"Random\")\n",
    "# Pkg.add(\"Distributions\")\n",
    "# Pkg.add(\"Statistics\")\n",
    "# Pkg.add(\"DataFrames\")\n",
    "\n",
    "using Random  \n",
    "using Statistics \n",
    "using Distributions, LinearAlgebra\n",
    "using DataFrames "
   ]
  },
  {
   "cell_type": "code",
   "execution_count": 2,
   "id": "16a33070",
   "metadata": {},
   "outputs": [
    {
     "data": {
      "text/plain": [
       "500-element Vector{Float64}:\n",
       " 1.732376881771378\n",
       " 2.409978687041122\n",
       " 4.150753116878622\n",
       " 2.793717008885756\n",
       " 5.0863608462978505\n",
       " 3.4483497238839727\n",
       " 2.6495342654093355\n",
       " 2.98844380749602\n",
       " 3.4908273860413495\n",
       " 3.1712853692231864\n",
       " 1.8676466375279612\n",
       " 4.019376920268693\n",
       " 4.876522242403515\n",
       " ⋮\n",
       " 1.3419909808267683\n",
       " 3.4604431589567786\n",
       " 2.0691561148564275\n",
       " 4.262429421943498\n",
       " 2.5748543033922187\n",
       " 4.188473021936753\n",
       " 1.5412229221891398\n",
       " 3.086776312001024\n",
       " 5.426574663429239\n",
       " 2.7987707979958913\n",
       " 3.502149956514354\n",
       " 3.284028382055414"
      ]
     },
     "execution_count": 2,
     "metadata": {},
     "output_type": "execute_result"
    }
   ],
   "source": [
    "x1 = rand(500)  # distribución uniforme\n",
    "x2 = rand(500) # distribución uniforme\n",
    "x3 = rand(500) # distribución uniforme\n",
    "x4 = rand(500) # distribución uniforme\n",
    "\n",
    "z = randn(500)\n",
    "e = randn(500) # distribución normal;  mean = 0 y sd = 1\n",
    "# DGP\n",
    "\n",
    "Y = ones(500) + 0.8.*x1 + 1.2.*x2 + 0.5.*x3 + 1.5.*x4 + e"
   ]
  },
  {
   "cell_type": "code",
   "execution_count": 3,
   "id": "b5ba42a9",
   "metadata": {},
   "outputs": [
    {
     "data": {
      "text/plain": [
       "500×5 Matrix{Float64}:\n",
       " 1.0  0.822616   0.265703   0.19344    0.25784\n",
       " 1.0  0.4063     0.0468582  0.152245   0.226299\n",
       " 1.0  0.928465   0.929036   0.12129    0.0154756\n",
       " 1.0  0.68993    0.858346   0.346843   0.833202\n",
       " 1.0  0.592235   0.851619   0.203868   0.779895\n",
       " 1.0  0.675279   0.602735   0.245972   0.608907\n",
       " 1.0  0.247588   0.185229   0.803019   0.249005\n",
       " 1.0  0.751151   0.326369   0.148468   0.778784\n",
       " 1.0  0.0720629  0.765281   0.93624    0.904085\n",
       " 1.0  0.50906    0.497169   0.0215682  0.908182\n",
       " 1.0  0.666871   0.399246   0.957679   0.625106\n",
       " 1.0  0.513633   0.0512418  0.713356   0.733343\n",
       " 1.0  0.868238   0.447019   0.793059   0.607345\n",
       " ⋮                                     \n",
       " 1.0  0.0639895  0.0632196  0.128167   0.102697\n",
       " 1.0  0.945388   0.485486   0.956185   0.67077\n",
       " 1.0  0.195108   0.192561   0.372833   0.797801\n",
       " 1.0  0.726164   0.457337   0.806353   0.0627122\n",
       " 1.0  0.913781   0.428816   0.31562    0.0350651\n",
       " 1.0  0.275156   0.205836   0.582011   0.903211\n",
       " 1.0  0.289271   0.157083   0.80139    0.0578881\n",
       " 1.0  0.942083   0.379045   0.109796   0.562426\n",
       " 1.0  0.615894   0.865984   0.997874   0.861874\n",
       " 1.0  0.817006   0.812282   0.611677   0.0378364\n",
       " 1.0  0.434898   0.777112   0.229168   0.290471\n",
       " 1.0  0.267566   0.983208   0.637553   0.904835"
      ]
     },
     "execution_count": 3,
     "metadata": {},
     "output_type": "execute_result"
    }
   ],
   "source": [
    "# joint vectors to matrix \n",
    "\n",
    "X = hcat(ones(500),x1,x2,x3,x4)"
   ]
  },
  {
   "cell_type": "code",
   "execution_count": 4,
   "id": "616788df",
   "metadata": {},
   "outputs": [
    {
     "data": {
      "text/html": [
       "<div class=\"data-frame\"><p>5 rows × 3 columns</p><table class=\"data-frame\"><thead><tr><th></th><th>OLS</th><th>standar_error</th><th>Pvalue</th></tr><tr><th></th><th title=\"Float64\">Float64</th><th title=\"Float64\">Float64</th><th title=\"Float64\">Float64</th></tr></thead><tbody><tr><th>1</th><td>1.11067</td><td>0.025959</td><td>0.0248962</td></tr><tr><th>2</th><td>0.747655</td><td>0.0233189</td><td>0.0248962</td></tr><tr><th>3</th><td>1.17503</td><td>0.0239942</td><td>0.0248962</td></tr><tr><th>4</th><td>0.527027</td><td>0.0213323</td><td>0.0248962</td></tr><tr><th>5</th><td>1.35568</td><td>0.0219997</td><td>0.0248962</td></tr></tbody></table></div>"
      ],
      "text/latex": [
       "\\begin{tabular}{r|ccc}\n",
       "\t& OLS & standar\\_error & Pvalue\\\\\n",
       "\t\\hline\n",
       "\t& Float64 & Float64 & Float64\\\\\n",
       "\t\\hline\n",
       "\t1 & 1.11067 & 0.025959 & 0.0248962 \\\\\n",
       "\t2 & 0.747655 & 0.0233189 & 0.0248962 \\\\\n",
       "\t3 & 1.17503 & 0.0239942 & 0.0248962 \\\\\n",
       "\t4 & 0.527027 & 0.0213323 & 0.0248962 \\\\\n",
       "\t5 & 1.35568 & 0.0219997 & 0.0248962 \\\\\n",
       "\\end{tabular}\n"
      ],
      "text/plain": [
       "\u001b[1m5×3 DataFrame\u001b[0m\n",
       "\u001b[1m Row \u001b[0m│\u001b[1m OLS      \u001b[0m\u001b[1m standar_error \u001b[0m\u001b[1m Pvalue    \u001b[0m\n",
       "\u001b[1m     \u001b[0m│\u001b[90m Float64  \u001b[0m\u001b[90m Float64       \u001b[0m\u001b[90m Float64   \u001b[0m\n",
       "─────┼────────────────────────────────────\n",
       "   1 │ 1.11067       0.025959   0.0248962\n",
       "   2 │ 0.747655      0.0233189  0.0248962\n",
       "   3 │ 1.17503       0.0239942  0.0248962\n",
       "   4 │ 0.527027      0.0213323  0.0248962\n",
       "   5 │ 1.35568       0.0219997  0.0248962"
      ]
     },
     "execution_count": 4,
     "metadata": {},
     "output_type": "execute_result"
    }
   ],
   "source": [
    "function  ols(M::Matrix ,Y, est::Bool = true , Pvalue = true , instrumento = nothing , index = nothing)\n",
    "    if est && Pvalue && isnothing(instrumento) && isnothing(index)\n",
    "        beta = inv(transpose(X) * X) * (transpose(X) * Y) ## estimación de beta\n",
    "        y_est =  X*beta   ## Y estimado  \n",
    "        n = size(X,1)\n",
    "        k = size(X,2) - 1  \n",
    "        nk= n - k\n",
    "        dist = TDist(4)    ## 4 grados de libertad\n",
    "        m2= Y - y_est\n",
    "        sigma2= (transpose(m2) * m2) ./ nk ##sigma cuadrado\n",
    "        Var =  sigma2* inv(transpose(X) * X) ##hallamos varianza\n",
    "        sd = Var[ diagind(Var) ]  ## raíz cuadrado a los datos de la diagonal principal de Var\n",
    "        test = 3.5\n",
    "        Pvalue = 2*(1 - cdf(dist, test)) \n",
    "        df= DataFrame(OLS = beta, standar_error= sd, Pvalue= Pvalue )\n",
    "       \n",
    "        return df\n",
    "        \n",
    "    elseif !isnothing(instrumento) && !isnothing(index)\n",
    "        \n",
    "        beta = inv(transpose(X) * X) * (transpose(X) * Y)\n",
    "        index = index  - 1 \n",
    "        Z = X\n",
    "        Z[:,index] = z ## reemplazamos la variable endógena por el instrumento en la matrix de covariables\n",
    "        beta_x = inv(transpose(Z) * X) * (transpose(Z) * X)\n",
    "        x_est  = Z*beta_x\n",
    "        X[:,index] = x_est ## se reemplaza la variable x endógena por su estimado \n",
    "        beta_iv = inv(transpose(X) * X) * (transpose(X) * Y)\n",
    "        df = DataFrame( OLS=beta , OLS_IV= beta_iv) \n",
    "        return df\n",
    "    end \n",
    "end  \n",
    "\n",
    "ols(X,Y)"
   ]
  },
  {
   "cell_type": "code",
   "execution_count": null,
   "id": "295a53fb",
   "metadata": {},
   "outputs": [],
   "source": []
  }
 ],
 "metadata": {
  "kernelspec": {
   "display_name": "Julia 1.6.7",
   "language": "julia",
   "name": "julia-1.6"
  },
  "language_info": {
   "file_extension": ".jl",
   "mimetype": "application/julia",
   "name": "julia",
   "version": "1.6.7"
  }
 },
 "nbformat": 4,
 "nbformat_minor": 5
}
