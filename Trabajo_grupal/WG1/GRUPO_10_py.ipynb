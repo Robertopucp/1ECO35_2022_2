{
 "cells": [
  {
   "cell_type": "code",
   "execution_count": 1,
   "id": "0e05a4b9",
   "metadata": {},
   "outputs": [
    {
     "name": "stdout",
     "output_type": "stream",
     "text": [
      "num=10\n",
      "num=50\n",
      "num=80\n",
      "num=90\n",
      "num=100\n",
      "num=120\n",
      "num=200\n",
      "num=270\n",
      "num=400\n",
      "num=378\n",
      "num=456\n",
      "num=12\n",
      "num=156\n",
      "num=245\n",
      "num=347\n",
      "num=321\n",
      "num=153\n",
      "num=164\n",
      "num=171\n",
      "num=160\n",
      "[  3.16227766   7.07106781   8.94427191   9.48683298  95.\n",
      " 115.         195.         265.          50.          50.\n",
      "  50.           3.46410162 151.         240.          50.\n",
      "  50.         148.         159.         166.         155.        ]\n"
     ]
    }
   ],
   "source": [
    "##PREGUNTA 1##\n",
    "import numpy as np\n",
    "m=20\n",
    "f_x=np.zeros(m)\n",
    "for i in range (m):\n",
    "    x=int(input('num='))\n",
    "    while x<0 or x>500:\n",
    "        x=int(input('vuelva a digitar num='))\n",
    "    if x<100:\n",
    "        f_x[i]=x**(1/2)\n",
    "    elif x<300:\n",
    "        f_x[i]=x-5\n",
    "    else:\n",
    "        f_x[i]=50\n",
    "print(f_x)"
   ]
  },
  {
   "cell_type": "code",
   "execution_count": null,
   "id": "73e4ce2c",
   "metadata": {},
   "outputs": [],
   "source": [
    "# PREGUNTA 2: \n",
    "\n",
    "import numpy as np\n",
    "np.random.seed(101)\n",
    "x=np.random.randint(0,100,size=101)\n",
    "print(x)\n",
    "[95 11 81 70 63 87 75  9 77 40  4 63 40 60 92 64  5 12 93 40 49 83  8 29\n",
    " 59 34 44 72 19 10 76 95 87  0 73  8 62 36 83 99 28 63  7 10 52 56 38 73\n",
    " 52 18 71 15 44  0 12 17 75 79 97 93 24 36 63 19 35 30 10 60 20 27  8 86\n",
    " 26 87 46 47 54 86  9 45  2 18 58 92 11 10 94 35 28  3 83 84 47 14 69 60\n",
    " 69 51  6 88] \n"
   ]
  }
 ],
 "metadata": {
  "kernelspec": {
   "display_name": "Python 3 (ipykernel)",
   "language": "python",
   "name": "python3"
  },
  "language_info": {
   "codemirror_mode": {
    "name": "ipython",
    "version": 3
   },
   "file_extension": ".py",
   "mimetype": "text/x-python",
   "name": "python",
   "nbconvert_exporter": "python",
   "pygments_lexer": "ipython3",
   "version": "3.9.12"
  }
 },
 "nbformat": 4,
 "nbformat_minor": 5
}
