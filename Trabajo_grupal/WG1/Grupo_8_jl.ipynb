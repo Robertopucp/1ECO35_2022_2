{
 "cells": [
  {
   "cell_type": "code",
   "execution_count": 68,
   "id": "af44231c",
   "metadata": {},
   "outputs": [
    {
     "ename": "LoadError",
     "evalue": "syntax: missing comma or ) in argument list",
     "output_type": "error",
     "traceback": [
      "syntax: missing comma or ) in argument list",
      "",
      "Stacktrace:",
      " [1] top-level scope",
      "   @ In[68]:27",
      " [2] eval",
      "   @ .\\boot.jl:368 [inlined]",
      " [3] include_string(mapexpr::typeof(REPL.softscope), mod::Module, code::String, filename::String)",
      "   @ Base .\\loading.jl:1428"
     ]
    }
   ],
   "source": [
    "#Ejercicio 5\n",
    "using Random\n",
    "using Distributions\n",
    "using DataFrames\n",
    "Random.seed!(756)\n",
    "\n",
    "x1 = rand(500)  # uniform distribution\n",
    "x2 = rand(500) # uniform distribution\n",
    "x3 = rand(500) # uniform distribution\n",
    "x4 = rand(500) # uniform distribution\n",
    "\n",
    "e = randn(500) # normal dsitribution mean = 0 y sd = 1\n",
    "\n",
    "Y = ones(500) + 0.8.*x1 + 1.2.*x2 + 0.5.*x3 + 1.5.*x4 + e\n",
    "X = hcat(ones(500),x1,x2,x3,x4)\n",
    "\n",
    "function ols(M::Matrix, Y, standar = true, Pvalue = true, instrumento = nothing, index = nothing)\n",
    "\n",
    "     if standar && Pvalue && isnothing(instrumento) && isnothing(index)\n",
    "        \n",
    "        beta = inv(transpose(X) * X) * (transpose(X) * Y)\n",
    "        \n",
    "        y_est =  X * beta\n",
    "        n = X.shape[0]\n",
    "        k = X.shape[1] - 1 \n",
    "        nk = n - k \n",
    "        sigma =  sum(list( map( lambda x: x**2 , Y - y_est)   )) / nk\n",
    "        Var = sigma*inv(transpose(X) * X)\n",
    "        sd = np.sqrt( np.diag(Var) )\n",
    "        t_est = np.absolute(beta/sd)\n",
    "        test = 3.5\n",
    "        dist = TDist(4)  # 4 grados de libertad\n",
    "        Pvalue = 2*(1 - cdf(dist, test))\n",
    "        df = pd.DataFrame( {\"OLS\": beta , \"standar_error\" : sd ,\n",
    "                             \"Pvalue\" : pvalue} )\n",
    "        \n",
    "    elseif !isnothing(index) && !isnothing(instrumento)\n",
    "        \n",
    "        beta = inv(transpose(X) * X) * (transpose(X) * Y)\n",
    "        index = index  - 1 \n",
    "        Z = X\n",
    "        Z[:,index] = z\n",
    "        beta_x = inv(transpose(Z) * Z) * (transpose(Z) * X[:,index])\n",
    "        x_est  = Z * beta_x\n",
    "        X[:,index] = x_est\n",
    "        beta_iv= inv(transpose(X) * X) * (transpose(X) * Y)\n",
    "        df = pd.DataFrame( {\"OLS\": beta , \"OLS_IV\" : beta_iv})\n",
    "        \n",
    "    end\n",
    "    \n",
    "ols(X,Y)\n",
    "\n",
    "ols(X,Y,instrumento = z, index = 2)\n",
    "    \n",
    "    "
   ]
  },
  {
   "cell_type": "code",
   "execution_count": null,
   "id": "57db53a3",
   "metadata": {},
   "outputs": [],
   "source": []
  }
 ],
 "metadata": {
  "kernelspec": {
   "display_name": "Julia 1.8.0",
   "language": "julia",
   "name": "julia-1.8"
  },
  "language_info": {
   "file_extension": ".jl",
   "mimetype": "application/julia",
   "name": "julia",
   "version": "1.8.0"
  }
 },
 "nbformat": 4,
 "nbformat_minor": 5
}
