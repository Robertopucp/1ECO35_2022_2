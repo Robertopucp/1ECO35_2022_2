{
  "metadata": {
    "kernelspec": {
      "language": "python",
      "display_name": "Python 3",
      "name": "python3"
    },
    "language_info": {
      "pygments_lexer": "ipython3",
      "nbconvert_exporter": "python",
      "version": "3.6.4",
      "file_extension": ".py",
      "codemirror_mode": {
        "name": "ipython",
        "version": 3
      },
      "name": "python",
      "mimetype": "text/x-python"
    },
    "colab": {
      "name": "qs_world_university_rankings_eda_visualization.ipynb",
      "provenance": []
    }
  },
  "nbformat_minor": 0,
  "nbformat": 4,
  "cells": [
    {
      "cell_type": "markdown",
      "source": [
        "<div style=\"font-size: 30pt; font-family: cursive; color: #FA6E4F\"> \n",
        "    <b> <center> Visualizing QS World University Rankings from 2017 to 2022 </center> </b>\n",
        "</div>"
      ],
      "metadata": {
        "id": "H5IsZTzIT0AI"
      }
    },
    {
      "cell_type": "markdown",
      "source": [
        "<div style=\"text-align: center;\">\n",
        "<img src=\"https://www.qs.com/wp-content/uploads/2020/06/WUR-2021.jpg\" width=\"260\" height=\"200\">\n",
        "</div>"
      ],
      "metadata": {
        "id": "J083av2bT0AN"
      }
    },
    {
      "cell_type": "markdown",
      "source": [
        "<div style=\"font-size: 13pt; font-family: verdana; color: #08415C\"> \n",
        "    QS World University Rankings is an annual publication of global university rankings by Quacquarelli Symonds. The QS ranking receives approval from the International Ranking Expert Group (IREG), and is viewed as one of the three most-widely read university rankings in the world, along with Academic Ranking of World Universities and Times Higher Education World University Rankings. Quacquarelli Symonds (QS) is a UK company specialising in the analysis of higher education institutions around the world. In December 2003, Richard Lambert's review of university-industry collaboration in Britain for HM Treasury, the finance ministry of the United Kingdom recommended the need for world university rankings which Lambert said would help the UK to gauge the global standing of its universities. So, the first issue of QS World Rankings was released in 2004 in partnership with Times Higher Education (THE) as <i style=\"color: #FB8E7E\">Times Higher Education - QS World University Rankings.</i> In 2009, <i>THE</i> split with QS and went ahead to publish its own version of rankings. QS has been publishing its university rankings in partnership with Elsevier.\n",
        "</div>\n",
        "<br/>\n",
        "<h2 style=\"font-family: verdana; color: #FA6E4F\"> Methodology </h2>\n",
        "<div style=\"font-size: 13pt; font-family: verdana; color: #08415C\"> \n",
        "    QS designed its rankings to assess performance according to what it believes to be key aspects of a university's mission: teaching, research, nurturing employability, and internationalisation. The methodological framework it follows assess universities based on six metrics,\n",
        "    <ul>\n",
        "        <li> Academic Reputation (40%)</li>\n",
        "        <li> Employer Reputation (10%)</li>\n",
        "        <li> Faculty/Student Ratio (20%)</li>    \n",
        "        <li> Citations per faculty (20%)</li>\n",
        "        <li> International Faculty Ratio (5%)</li>\n",
        "        <li> International Student Ratio (5%)</li>\n",
        "    </ul>\n",
        "    More information about the methodology can be found <a href=\"https://www.topuniversities.com/qs-world-university-rankings/methodology\">here</a>.\n",
        "</div>\n"
      ],
      "metadata": {
        "id": "7H2cQUZXT0AO"
      }
    },
    {
      "cell_type": "markdown",
      "source": [
        "<div class='alert alert-block alert-warning' style=\"font-size: 20pt; font-family: cursive; color: #08415C\"> \n",
        "    <b> <center> About Data 📊🔎 </center> </b>\n",
        "</div>"
      ],
      "metadata": {
        "id": "I_lB5s3aT0AP"
      }
    },
    {
      "cell_type": "markdown",
      "source": [
        "<div style=\"font-size: 13pt; font-family: verdana; color: #08415C\"> \n",
        "    The dataset was obtained by scraping the <a href=\"https://www.topuniversities.com/university-rankings/world-university-rankings/2022\">QS World University Rankings website</a>  with Python and Selenium.\n",
        "</div>\n",
        "<h2 style=\"font-family: verdana; color: #FA6E4F\"> Feature Description </h2>\n",
        "<div style=\"font-size: 13pt; font-family: verdana; color: #08415C\"> \n",
        "    The dataset has a total of 15 columns.\n",
        "    <ul>\n",
        "        <li>university - name of the university</li>\n",
        "        <li>year - year of ranking</li>\n",
        "        <li>rank_display - rank given to the university</li>    \n",
        "        <li>score - score of the university based on the six key metrics mentioned above</li>\n",
        "        <li>link - link to the university profile page on QS website</li>\n",
        "        <li>country - country in which the university is located</li>\n",
        "        <li>city - city in which the university is located</li>\n",
        "        <li>region - continent in which the university is located</li>\n",
        "        <li>logo - link to the logo of the university</li>\n",
        "        <li>type - type of university (public or private)</li>\n",
        "        <li>research_output - quality of research at the university</li>\n",
        "        <li>student_faculty_ratio - number of students assigned to per faculty</li>\n",
        "        <li>international_students - number of international students enrolled at the university</li>\n",
        "        <li>size - size of the university in terms of area</li>\n",
        "        <li>faculty_count - number of faculty or academic staff at the university</li>\n",
        "    </ul>\n",
        "</div>"
      ],
      "metadata": {
        "id": "ilcxj-2VT0AQ"
      }
    },
    {
      "cell_type": "code",
      "source": [
        "pip install geopandas"
      ],
      "metadata": {
        "colab": {
          "base_uri": "https://localhost:8080/"
        },
        "id": "OZt-kcVkf1UN",
        "outputId": "7c89e231-925e-4b78-9817-119842b48ba8"
      },
      "execution_count": null,
      "outputs": [
        {
          "output_type": "stream",
          "name": "stdout",
          "text": [
            "Looking in indexes: https://pypi.org/simple, https://us-python.pkg.dev/colab-wheels/public/simple/\n",
            "Collecting geopandas\n",
            "  Downloading geopandas-0.10.2-py2.py3-none-any.whl (1.0 MB)\n",
            "\u001b[K     |████████████████████████████████| 1.0 MB 13.5 MB/s \n",
            "\u001b[?25hCollecting pyproj>=2.2.0\n",
            "  Downloading pyproj-3.2.1-cp37-cp37m-manylinux2010_x86_64.whl (6.3 MB)\n",
            "\u001b[K     |████████████████████████████████| 6.3 MB 37.6 MB/s \n",
            "\u001b[?25hCollecting fiona>=1.8\n",
            "  Downloading Fiona-1.8.21-cp37-cp37m-manylinux2014_x86_64.whl (16.7 MB)\n",
            "\u001b[K     |████████████████████████████████| 16.7 MB 63.2 MB/s \n",
            "\u001b[?25hRequirement already satisfied: pandas>=0.25.0 in /usr/local/lib/python3.7/dist-packages (from geopandas) (1.3.5)\n",
            "Requirement already satisfied: shapely>=1.6 in /usr/local/lib/python3.7/dist-packages (from geopandas) (1.8.2)\n",
            "Requirement already satisfied: six>=1.7 in /usr/local/lib/python3.7/dist-packages (from fiona>=1.8->geopandas) (1.15.0)\n",
            "Collecting munch\n",
            "  Downloading munch-2.5.0-py2.py3-none-any.whl (10 kB)\n",
            "Collecting click-plugins>=1.0\n",
            "  Downloading click_plugins-1.1.1-py2.py3-none-any.whl (7.5 kB)\n",
            "Requirement already satisfied: attrs>=17 in /usr/local/lib/python3.7/dist-packages (from fiona>=1.8->geopandas) (22.1.0)\n",
            "Requirement already satisfied: setuptools in /usr/local/lib/python3.7/dist-packages (from fiona>=1.8->geopandas) (57.4.0)\n",
            "Requirement already satisfied: click>=4.0 in /usr/local/lib/python3.7/dist-packages (from fiona>=1.8->geopandas) (7.1.2)\n",
            "Requirement already satisfied: certifi in /usr/local/lib/python3.7/dist-packages (from fiona>=1.8->geopandas) (2022.6.15)\n",
            "Collecting cligj>=0.5\n",
            "  Downloading cligj-0.7.2-py3-none-any.whl (7.1 kB)\n",
            "Requirement already satisfied: pytz>=2017.3 in /usr/local/lib/python3.7/dist-packages (from pandas>=0.25.0->geopandas) (2022.1)\n",
            "Requirement already satisfied: python-dateutil>=2.7.3 in /usr/local/lib/python3.7/dist-packages (from pandas>=0.25.0->geopandas) (2.8.2)\n",
            "Requirement already satisfied: numpy>=1.17.3 in /usr/local/lib/python3.7/dist-packages (from pandas>=0.25.0->geopandas) (1.21.6)\n",
            "Installing collected packages: munch, cligj, click-plugins, pyproj, fiona, geopandas\n",
            "Successfully installed click-plugins-1.1.1 cligj-0.7.2 fiona-1.8.21 geopandas-0.10.2 munch-2.5.0 pyproj-3.2.1\n"
          ]
        }
      ]
    },
    {
      "cell_type": "markdown",
      "source": [
        "<div class='alert alert-block alert-warning' style=\"font-size: 20pt; font-family: cursive; color: #08415C\"> \n",
        "    <b> <center> Import Libraries 📚 </center> </b>\n",
        "</div>"
      ],
      "metadata": {
        "id": "cR7RKWZ9T0AR"
      }
    },
    {
      "cell_type": "code",
      "source": [
        "# import necessary libraries\n",
        "import numpy as np \n",
        "import pandas as pd \n",
        "import matplotlib.pyplot as plt\n",
        "from matplotlib.colors import ListedColormap\n",
        "plt.rcParams['axes.edgecolor']='#FA6E4F'\n",
        "plt.rcParams['font.family'] = 'monospace'\n",
        "import seaborn as sns\n",
        "import geopandas as gpd\n",
        "import missingno as msno\n",
        "import re\n",
        "\n",
        "import warnings\n",
        "warnings.filterwarnings(\"ignore\")\n",
        "\n",
        "import os\n",
        "for dirname, _, filenames in os.walk('/kaggle/input'):\n",
        "    for filename in filenames:\n",
        "        print(os.path.join(dirname, filename))"
      ],
      "metadata": {
        "_uuid": "8f2839f25d086af736a60e9eeb907d3b93b6e0e5",
        "_cell_guid": "b1076dfc-b9ad-4769-8c92-a6c4dae69d19",
        "execution": {
          "iopub.status.busy": "2022-02-08T19:32:44.374082Z",
          "iopub.execute_input": "2022-02-08T19:32:44.37435Z",
          "iopub.status.idle": "2022-02-08T19:32:44.385692Z",
          "shell.execute_reply.started": "2022-02-08T19:32:44.374311Z",
          "shell.execute_reply": "2022-02-08T19:32:44.384766Z"
        },
        "_kg_hide-output": true,
        "trusted": true,
        "id": "FhJnwNMIT0AS"
      },
      "execution_count": null,
      "outputs": []
    },
    {
      "cell_type": "markdown",
      "source": [
        "<div class='alert alert-block alert-warning' style=\"font-size: 20pt; font-family: cursive; color: #08415C\"> \n",
        "    <b> <center> Custom Color Palette 🎨 </center> </b>\n",
        "</div>"
      ],
      "metadata": {
        "id": "Xf68GbR-T0AT"
      }
    },
    {
      "cell_type": "code",
      "source": [
        "long_palette = [\"#FA6E4F\", \"#F2CF59\", \"#FB8E7E\", \"#C5D7C0\", \"#8EC9BB\", \"#F8CA9D\", '#F69EAF', '#8F8CBC', '#7C5396', '#EA6382', '#6BEAF3', '#5A9DE2', '#DDAD64', '#EA876B', '#B98174', '#357866', '#625586', '#647B99']\n",
        "custom_palette1 = sns.color_palette(long_palette)\n",
        "\n",
        "short_palette = [\"#FA6E4F\", \"#F2CF59\", \"#FB8E7E\", \"#C5D7C0\", \"#8EC9BB\", \"#F8CA9D\"]\n",
        "custom_palette2 = sns.color_palette(short_palette)\n",
        "\n",
        "watermelon_colors = ['#84e3c8', '#a8e6cf', '#dcedc1', '#ffd3b6', '#ffaaa5', '#ff8b94', '#ff7480']\n",
        "custom_palette3 = sns.color_palette(watermelon_colors)\n",
        "\n",
        "research_palette = ['#FA6E4F','#8EC9BB']\n",
        "\n",
        "student_faculty_palette = ['#003f5c','#ff6361']\n",
        "\n",
        "international_palette = ['#ffcf6a','#628d82']"
      ],
      "metadata": {
        "_kg_hide-input": true,
        "execution": {
          "iopub.status.busy": "2022-02-08T19:32:45.991765Z",
          "iopub.execute_input": "2022-02-08T19:32:45.992023Z",
          "iopub.status.idle": "2022-02-08T19:32:45.997765Z",
          "shell.execute_reply.started": "2022-02-08T19:32:45.991994Z",
          "shell.execute_reply": "2022-02-08T19:32:45.996908Z"
        },
        "trusted": true,
        "id": "B8CV4e2PT0AU"
      },
      "execution_count": null,
      "outputs": []
    },
    {
      "cell_type": "code",
      "source": [
        "sns.palplot(sns.color_palette(long_palette))\n",
        "sns.palplot(sns.color_palette(short_palette))\n",
        "sns.palplot(sns.color_palette(watermelon_colors))"
      ],
      "metadata": {
        "_kg_hide-input": true,
        "execution": {
          "iopub.status.busy": "2022-02-08T19:32:46.48021Z",
          "iopub.execute_input": "2022-02-08T19:32:46.480496Z",
          "iopub.status.idle": "2022-02-08T19:32:46.747692Z",
          "shell.execute_reply.started": "2022-02-08T19:32:46.480462Z",
          "shell.execute_reply": "2022-02-08T19:32:46.746676Z"
        },
        "trusted": true,
        "id": "pd5MxA6GT0AV",
        "colab": {
          "base_uri": "https://localhost:8080/",
          "height": 233
        },
        "outputId": "0f1980e6-dfe4-447a-ddce-068664ddad6d"
      },
      "execution_count": null,
      "outputs": [
        {
          "output_type": "display_data",
          "data": {
            "text/plain": [
              "<Figure size 1296x72 with 1 Axes>"
            ],
            "image/png": "[encoded data removed]"
          },
          "metadata": {
            "needs_background": "light"
          }
        },
        {
          "output_type": "display_data",
          "data": {
            "text/plain": [
              "<Figure size 432x72 with 1 Axes>"
            ],
            "image/png": "[encoded data removed]"
          },
          "metadata": {
            "needs_background": "light"
          }
        },
        {
          "output_type": "display_data",
          "data": {
            "text/plain": [
              "<Figure size 504x72 with 1 Axes>"
            ],
            "image/png": "[encoded data removed]"
          },
          "metadata": {
            "needs_background": "light"
          }
        }
      ]
    },
    {
      "cell_type": "markdown",
      "source": [
        "<div class='alert alert-block alert-warning' style=\"font-size: 20pt; font-family: cursive; color: #08415C\"> \n",
        "    <b> <center> Load and Explore data 🕵🏻‍♀️ </center> </b>\n",
        "</div>"
      ],
      "metadata": {
        "id": "NCsB4P8zT0AW"
      }
    },
    {
      "cell_type": "code",
      "source": [
        "university_df = pd.read_excel(\"/content/drive/MyDrive/DAE-PUCP/Docentes - policy paper/Base de datos/data2017_2022.xlsx\")"
      ],
      "metadata": {
        "execution": {
          "iopub.status.busy": "2022-02-08T19:32:47.539858Z",
          "iopub.execute_input": "2022-02-08T19:32:47.54011Z",
          "iopub.status.idle": "2022-02-08T19:32:47.576092Z",
          "shell.execute_reply.started": "2022-02-08T19:32:47.540082Z",
          "shell.execute_reply": "2022-02-08T19:32:47.575387Z"
        },
        "trusted": true,
        "colab": {
          "base_uri": "https://localhost:8080/",
          "height": 311
        },
        "id": "VzKaV1lDT0AW",
        "outputId": "a8919347-2210-463c-ae95-63dde82a49a9"
      },
      "execution_count": null,
      "outputs": [
        {
          "output_type": "error",
          "ename": "FileNotFoundError",
          "evalue": "ignored",
          "traceback": [
            "\u001b[0;31m---------------------------------------------------------------------------\u001b[0m",
            "\u001b[0;31mFileNotFoundError\u001b[0m                         Traceback (most recent call last)",
            "\u001b[0;32m<ipython-input-6-446ab81f94af>\u001b[0m in \u001b[0;36m<module>\u001b[0;34m\u001b[0m\n\u001b[0;32m----> 1\u001b[0;31m \u001b[0muniversity_df\u001b[0m \u001b[0;34m=\u001b[0m \u001b[0mpd\u001b[0m\u001b[0;34m.\u001b[0m\u001b[0mread_excel\u001b[0m\u001b[0;34m(\u001b[0m\u001b[0;34m\"/content/drive/MyDrive/DAE-PUCP/Docentes - policy paper/Base de datos/data2017_2022.xlsx\"\u001b[0m\u001b[0;34m)\u001b[0m\u001b[0;34m\u001b[0m\u001b[0;34m\u001b[0m\u001b[0m\n\u001b[0m",
            "\u001b[0;32m/usr/local/lib/python3.7/dist-packages/pandas/util/_decorators.py\u001b[0m in \u001b[0;36mwrapper\u001b[0;34m(*args, **kwargs)\u001b[0m\n\u001b[1;32m    309\u001b[0m                     \u001b[0mstacklevel\u001b[0m\u001b[0;34m=\u001b[0m\u001b[0mstacklevel\u001b[0m\u001b[0;34m,\u001b[0m\u001b[0;34m\u001b[0m\u001b[0;34m\u001b[0m\u001b[0m\n\u001b[1;32m    310\u001b[0m                 )\n\u001b[0;32m--> 311\u001b[0;31m             \u001b[0;32mreturn\u001b[0m \u001b[0mfunc\u001b[0m\u001b[0;34m(\u001b[0m\u001b[0;34m*\u001b[0m\u001b[0margs\u001b[0m\u001b[0;34m,\u001b[0m \u001b[0;34m**\u001b[0m\u001b[0mkwargs\u001b[0m\u001b[0;34m)\u001b[0m\u001b[0;34m\u001b[0m\u001b[0;34m\u001b[0m\u001b[0m\n\u001b[0m\u001b[1;32m    312\u001b[0m \u001b[0;34m\u001b[0m\u001b[0m\n\u001b[1;32m    313\u001b[0m         \u001b[0;32mreturn\u001b[0m \u001b[0mwrapper\u001b[0m\u001b[0;34m\u001b[0m\u001b[0;34m\u001b[0m\u001b[0m\n",
            "\u001b[0;32m/usr/local/lib/python3.7/dist-packages/pandas/io/excel/_base.py\u001b[0m in \u001b[0;36mread_excel\u001b[0;34m(io, sheet_name, header, names, index_col, usecols, squeeze, dtype, engine, converters, true_values, false_values, skiprows, nrows, na_values, keep_default_na, na_filter, verbose, parse_dates, date_parser, thousands, comment, skipfooter, convert_float, mangle_dupe_cols, storage_options)\u001b[0m\n\u001b[1;32m    362\u001b[0m     \u001b[0;32mif\u001b[0m \u001b[0;32mnot\u001b[0m \u001b[0misinstance\u001b[0m\u001b[0;34m(\u001b[0m\u001b[0mio\u001b[0m\u001b[0;34m,\u001b[0m \u001b[0mExcelFile\u001b[0m\u001b[0;34m)\u001b[0m\u001b[0;34m:\u001b[0m\u001b[0;34m\u001b[0m\u001b[0;34m\u001b[0m\u001b[0m\n\u001b[1;32m    363\u001b[0m         \u001b[0mshould_close\u001b[0m \u001b[0;34m=\u001b[0m \u001b[0;32mTrue\u001b[0m\u001b[0;34m\u001b[0m\u001b[0;34m\u001b[0m\u001b[0m\n\u001b[0;32m--> 364\u001b[0;31m         \u001b[0mio\u001b[0m \u001b[0;34m=\u001b[0m \u001b[0mExcelFile\u001b[0m\u001b[0;34m(\u001b[0m\u001b[0mio\u001b[0m\u001b[0;34m,\u001b[0m \u001b[0mstorage_options\u001b[0m\u001b[0;34m=\u001b[0m\u001b[0mstorage_options\u001b[0m\u001b[0;34m,\u001b[0m \u001b[0mengine\u001b[0m\u001b[0;34m=\u001b[0m\u001b[0mengine\u001b[0m\u001b[0;34m)\u001b[0m\u001b[0;34m\u001b[0m\u001b[0;34m\u001b[0m\u001b[0m\n\u001b[0m\u001b[1;32m    365\u001b[0m     \u001b[0;32melif\u001b[0m \u001b[0mengine\u001b[0m \u001b[0;32mand\u001b[0m \u001b[0mengine\u001b[0m \u001b[0;34m!=\u001b[0m \u001b[0mio\u001b[0m\u001b[0;34m.\u001b[0m\u001b[0mengine\u001b[0m\u001b[0;34m:\u001b[0m\u001b[0;34m\u001b[0m\u001b[0;34m\u001b[0m\u001b[0m\n\u001b[1;32m    366\u001b[0m         raise ValueError(\n",
            "\u001b[0;32m/usr/local/lib/python3.7/dist-packages/pandas/io/excel/_base.py\u001b[0m in \u001b[0;36m__init__\u001b[0;34m(self, path_or_buffer, engine, storage_options)\u001b[0m\n\u001b[1;32m   1190\u001b[0m             \u001b[0;32melse\u001b[0m\u001b[0;34m:\u001b[0m\u001b[0;34m\u001b[0m\u001b[0;34m\u001b[0m\u001b[0m\n\u001b[1;32m   1191\u001b[0m                 ext = inspect_excel_format(\n\u001b[0;32m-> 1192\u001b[0;31m                     \u001b[0mcontent_or_path\u001b[0m\u001b[0;34m=\u001b[0m\u001b[0mpath_or_buffer\u001b[0m\u001b[0;34m,\u001b[0m \u001b[0mstorage_options\u001b[0m\u001b[0;34m=\u001b[0m\u001b[0mstorage_options\u001b[0m\u001b[0;34m\u001b[0m\u001b[0;34m\u001b[0m\u001b[0m\n\u001b[0m\u001b[1;32m   1193\u001b[0m                 )\n\u001b[1;32m   1194\u001b[0m                 \u001b[0;32mif\u001b[0m \u001b[0mext\u001b[0m \u001b[0;32mis\u001b[0m \u001b[0;32mNone\u001b[0m\u001b[0;34m:\u001b[0m\u001b[0;34m\u001b[0m\u001b[0;34m\u001b[0m\u001b[0m\n",
            "\u001b[0;32m/usr/local/lib/python3.7/dist-packages/pandas/io/excel/_base.py\u001b[0m in \u001b[0;36minspect_excel_format\u001b[0;34m(content_or_path, storage_options)\u001b[0m\n\u001b[1;32m   1069\u001b[0m \u001b[0;34m\u001b[0m\u001b[0m\n\u001b[1;32m   1070\u001b[0m     with get_handle(\n\u001b[0;32m-> 1071\u001b[0;31m         \u001b[0mcontent_or_path\u001b[0m\u001b[0;34m,\u001b[0m \u001b[0;34m\"rb\"\u001b[0m\u001b[0;34m,\u001b[0m \u001b[0mstorage_options\u001b[0m\u001b[0;34m=\u001b[0m\u001b[0mstorage_options\u001b[0m\u001b[0;34m,\u001b[0m \u001b[0mis_text\u001b[0m\u001b[0;34m=\u001b[0m\u001b[0;32mFalse\u001b[0m\u001b[0;34m\u001b[0m\u001b[0;34m\u001b[0m\u001b[0m\n\u001b[0m\u001b[1;32m   1072\u001b[0m     ) as handle:\n\u001b[1;32m   1073\u001b[0m         \u001b[0mstream\u001b[0m \u001b[0;34m=\u001b[0m \u001b[0mhandle\u001b[0m\u001b[0;34m.\u001b[0m\u001b[0mhandle\u001b[0m\u001b[0;34m\u001b[0m\u001b[0;34m\u001b[0m\u001b[0m\n",
            "\u001b[0;32m/usr/local/lib/python3.7/dist-packages/pandas/io/common.py\u001b[0m in \u001b[0;36mget_handle\u001b[0;34m(path_or_buf, mode, encoding, compression, memory_map, is_text, errors, storage_options)\u001b[0m\n\u001b[1;32m    709\u001b[0m         \u001b[0;32melse\u001b[0m\u001b[0;34m:\u001b[0m\u001b[0;34m\u001b[0m\u001b[0;34m\u001b[0m\u001b[0m\n\u001b[1;32m    710\u001b[0m             \u001b[0;31m# Binary mode\u001b[0m\u001b[0;34m\u001b[0m\u001b[0;34m\u001b[0m\u001b[0;34m\u001b[0m\u001b[0m\n\u001b[0;32m--> 711\u001b[0;31m             \u001b[0mhandle\u001b[0m \u001b[0;34m=\u001b[0m \u001b[0mopen\u001b[0m\u001b[0;34m(\u001b[0m\u001b[0mhandle\u001b[0m\u001b[0;34m,\u001b[0m \u001b[0mioargs\u001b[0m\u001b[0;34m.\u001b[0m\u001b[0mmode\u001b[0m\u001b[0;34m)\u001b[0m\u001b[0;34m\u001b[0m\u001b[0;34m\u001b[0m\u001b[0m\n\u001b[0m\u001b[1;32m    712\u001b[0m         \u001b[0mhandles\u001b[0m\u001b[0;34m.\u001b[0m\u001b[0mappend\u001b[0m\u001b[0;34m(\u001b[0m\u001b[0mhandle\u001b[0m\u001b[0;34m)\u001b[0m\u001b[0;34m\u001b[0m\u001b[0;34m\u001b[0m\u001b[0m\n\u001b[1;32m    713\u001b[0m \u001b[0;34m\u001b[0m\u001b[0m\n",
            "\u001b[0;31mFileNotFoundError\u001b[0m: [Errno 2] No such file or directory: '/content/drive/MyDrive/DAE-PUCP/Docentes - policy paper/Base de datos/data2017_2022.xlsx'"
          ]
        }
      ]
    },
    {
      "cell_type": "code",
      "source": [
        "university_df.head()"
      ],
      "metadata": {
        "execution": {
          "iopub.status.busy": "2022-02-08T19:32:47.909669Z",
          "iopub.execute_input": "2022-02-08T19:32:47.909957Z",
          "iopub.status.idle": "2022-02-08T19:32:47.928887Z",
          "shell.execute_reply.started": "2022-02-08T19:32:47.909922Z",
          "shell.execute_reply": "2022-02-08T19:32:47.928137Z"
        },
        "trusted": true,
        "id": "mOqM1SUZT0AW"
      },
      "execution_count": null,
      "outputs": []
    },
    {
      "cell_type": "code",
      "source": [
        "university_df.shape"
      ],
      "metadata": {
        "execution": {
          "iopub.status.busy": "2022-02-08T19:32:48.384158Z",
          "iopub.execute_input": "2022-02-08T19:32:48.384707Z",
          "iopub.status.idle": "2022-02-08T19:32:48.391297Z",
          "shell.execute_reply.started": "2022-02-08T19:32:48.384668Z",
          "shell.execute_reply": "2022-02-08T19:32:48.390267Z"
        },
        "trusted": true,
        "id": "jCQhAYEOT0AX"
      },
      "execution_count": null,
      "outputs": []
    },
    {
      "cell_type": "code",
      "source": [
        "university_df.info()"
      ],
      "metadata": {
        "execution": {
          "iopub.status.busy": "2022-02-08T19:32:48.80277Z",
          "iopub.execute_input": "2022-02-08T19:32:48.803273Z",
          "iopub.status.idle": "2022-02-08T19:32:48.819202Z",
          "shell.execute_reply.started": "2022-02-08T19:32:48.803236Z",
          "shell.execute_reply": "2022-02-08T19:32:48.81804Z"
        },
        "trusted": true,
        "id": "SkucXnPCT0AX"
      },
      "execution_count": null,
      "outputs": []
    },
    {
      "cell_type": "markdown",
      "source": [
        "<div class='alert alert-block alert-warning' style=\"font-size: 20pt; font-family: cursive; color: #08415C\"> \n",
        "    <b> <center> Data Cleaning and Preprocessing 🧹🔨 </center> </b>\n",
        "</div>"
      ],
      "metadata": {
        "id": "JcpccfwfT0AY"
      }
    },
    {
      "cell_type": "markdown",
      "source": [
        "<div style=\"font-size: 13pt; font-family: verdana; color: #08415C\"> \n",
        "        We can see from the dataset info() method that there are many null values across multiple columns. Let's take a look at the number of null values.\n",
        "</div>"
      ],
      "metadata": {
        "id": "upxCRYNPT0AY"
      }
    },
    {
      "cell_type": "code",
      "source": [
        "pd.DataFrame(university_df.isnull().sum(), columns=['No. of Missing values'])"
      ],
      "metadata": {
        "_kg_hide-input": true,
        "execution": {
          "iopub.status.busy": "2022-02-08T19:32:50.119856Z",
          "iopub.execute_input": "2022-02-08T19:32:50.120536Z",
          "iopub.status.idle": "2022-02-08T19:32:50.14077Z",
          "shell.execute_reply.started": "2022-02-08T19:32:50.120487Z",
          "shell.execute_reply": "2022-02-08T19:32:50.139883Z"
        },
        "trusted": true,
        "id": "vM2TbZwVT0AY"
      },
      "execution_count": null,
      "outputs": []
    },
    {
      "cell_type": "code",
      "source": [
        "missing_percent = round(university_df.isna().mean() * 100, 1)\n",
        "pd.DataFrame(missing_percent[missing_percent > 0], columns=['% of Missing Values'])"
      ],
      "metadata": {
        "_kg_hide-input": true,
        "execution": {
          "iopub.status.busy": "2022-02-08T19:32:50.546067Z",
          "iopub.execute_input": "2022-02-08T19:32:50.546337Z",
          "iopub.status.idle": "2022-02-08T19:32:50.562248Z",
          "shell.execute_reply.started": "2022-02-08T19:32:50.546293Z",
          "shell.execute_reply": "2022-02-08T19:32:50.561603Z"
        },
        "trusted": true,
        "id": "QJF4GKyIT0AZ"
      },
      "execution_count": null,
      "outputs": []
    },
    {
      "cell_type": "markdown",
      "source": [
        "<div style=\"font-size: 13pt; font-family: verdana; color: #08415C\"> \n",
        "        Before handling the null values, let's see if there is any correlation between the missing values. I have used the <i style=\"color: #FB8E7E\">missingno</i> package. It's a simple python package that can be used for missing data visualization. Visualizing correlation between missing values can give better insights about the missingness of data. Learn more about missingness types <a href=\"https://towardsdev.com/how-to-identify-missingness-types-with-missingno-61cfe0449ad9\">here.</a>\n",
        "</div>"
      ],
      "metadata": {
        "id": "T0yuHijiT0AZ"
      }
    },
    {
      "cell_type": "code",
      "source": [
        "cmap = ListedColormap(custom_palette3, name='cmap1')\n",
        "msno.heatmap(university_df, cmap=cmap, figsize=(13, 6), fontsize=14);"
      ],
      "metadata": {
        "execution": {
          "iopub.status.busy": "2022-02-08T19:32:51.493041Z",
          "iopub.execute_input": "2022-02-08T19:32:51.493432Z",
          "iopub.status.idle": "2022-02-08T19:32:51.942002Z",
          "shell.execute_reply.started": "2022-02-08T19:32:51.493394Z",
          "shell.execute_reply": "2022-02-08T19:32:51.94108Z"
        },
        "trusted": true,
        "id": "aVmlrALpT0AZ"
      },
      "execution_count": null,
      "outputs": []
    },
    {
      "cell_type": "markdown",
      "source": [
        "<div style=\"font-size: 13pt; font-family: verdana; color: #08415C\"> \n",
        "    The correlation heatmap includes only the columns with missing values. The higher the correlation, the higher the missing values in one column are dependent on the missing values with another column. We can see 'faculty_count' has significant correlation with 'student_faculty_ratio' and 'international_students'. Other columns have little or no significant correlation.\n",
        "</div>"
      ],
      "metadata": {
        "id": "rdkwdI19T0Aa"
      }
    },
    {
      "cell_type": "markdown",
      "source": [
        "<div style=\"font-size: 13pt; font-family: verdana; color: #08415C\"> \n",
        "    Since multiple columns have missing values, let's drop rows that have more than 4 missing values because we can't work with a university that's missing a lot of its attributes.\n",
        "</div>"
      ],
      "metadata": {
        "id": "4TxxYuPzT0Aa"
      }
    },
    {
      "cell_type": "code",
      "source": [
        "print(len(university_df[university_df.isnull().sum(axis=1) > 4]))\n",
        "drop_index = university_df[university_df.isnull().sum(axis=1) > 4].index.tolist()\n",
        "university_df.drop(drop_index, inplace=True)\n",
        "print('Rows which have more than 4 null values have been dropped!')"
      ],
      "metadata": {
        "execution": {
          "iopub.status.busy": "2022-02-08T19:32:53.351871Z",
          "iopub.execute_input": "2022-02-08T19:32:53.352141Z",
          "iopub.status.idle": "2022-02-08T19:32:53.370379Z",
          "shell.execute_reply.started": "2022-02-08T19:32:53.352113Z",
          "shell.execute_reply": "2022-02-08T19:32:53.369744Z"
        },
        "trusted": true,
        "id": "sMX2K5K4T0Aa"
      },
      "execution_count": null,
      "outputs": []
    },
    {
      "cell_type": "markdown",
      "source": [
        "<div style=\"font-size: 13pt; font-family: verdana; color: #08415C\"> \n",
        "    Let's drop 'link' and 'logo' column as they are hyperlinks. Although 'score' column can be very useful for analysis, its missing nearly 56% values. When I looked for these values on the QS website, I could see they have given a score only for the top 500 universities although 1000+ universities have been ranked. So, I'm ignoring this column as well.\n",
        "</div>"
      ],
      "metadata": {
        "id": "_j199cRzT0Ab"
      }
    },
    {
      "cell_type": "code",
      "source": [
        "university_df.drop(['link', 'logo', 'score'], axis=1, inplace=True)"
      ],
      "metadata": {
        "execution": {
          "iopub.status.busy": "2022-02-08T19:32:54.597181Z",
          "iopub.execute_input": "2022-02-08T19:32:54.597791Z",
          "iopub.status.idle": "2022-02-08T19:32:54.603129Z",
          "shell.execute_reply.started": "2022-02-08T19:32:54.597753Z",
          "shell.execute_reply": "2022-02-08T19:32:54.602557Z"
        },
        "trusted": true,
        "id": "QeOoyaHtT0Ab"
      },
      "execution_count": null,
      "outputs": []
    },
    {
      "cell_type": "markdown",
      "source": [
        "<div style=\"font-size: 13pt; font-family: verdana; color: #08415C\"> \n",
        "    Converting the 'international_students', 'faculty_count' and 'rank_display' column to numerical by removing all the special characters in them. \n",
        "</div>"
      ],
      "metadata": {
        "id": "Av9llM-eT0Ab"
      }
    },
    {
      "cell_type": "code",
      "source": [
        "university_df['research_output'] = university_df['research_output'].replace('Very high', 'Very High')\n",
        "university_df['international_students'] = university_df['international_students'].apply(lambda x: float(str(x).replace(',','')))\n",
        "university_df['faculty_count'] = university_df['faculty_count'].apply(lambda x: float(str(x).replace(',','')))\n",
        "university_df['rank_display'] = university_df['rank_display'].apply(lambda x: float(re.sub(r'\\W+', '', str(x))))"
      ],
      "metadata": {
        "execution": {
          "iopub.status.busy": "2022-02-08T19:32:58.195938Z",
          "iopub.execute_input": "2022-02-08T19:32:58.196665Z",
          "iopub.status.idle": "2022-02-08T19:32:58.227663Z",
          "shell.execute_reply.started": "2022-02-08T19:32:58.196618Z",
          "shell.execute_reply": "2022-02-08T19:32:58.226706Z"
        },
        "trusted": true,
        "id": "mITO91pVT0Ac"
      },
      "execution_count": null,
      "outputs": []
    },
    {
      "cell_type": "markdown",
      "source": [
        "<div class='alert alert-block alert-warning' style=\"font-size: 20pt; font-family: cursive; color: #08415C\"> \n",
        "    <b> <center> Visualizing universities by year and type </center> </b>\n",
        "</div>"
      ],
      "metadata": {
        "id": "0PkkESM-T0Ac"
      }
    },
    {
      "cell_type": "code",
      "source": [
        "year_df = university_df['year'].value_counts().sort_values()\n",
        "fig, ax = plt.subplots(figsize=(10,4), dpi=90)\n",
        "ax.spines['top'].set_visible(False)\n",
        "ax.spines['right'].set_visible(False)\n",
        "ax.spines['left'].set_visible(False)\n",
        "ax.tick_params(bottom=False)\n",
        "ax.get_yaxis().set_visible(False)\n",
        "\n",
        "sns.countplot(data=university_df, x='year', palette=custom_palette1);\n",
        "\n",
        "# add values on top of each bar\n",
        "ax.bar_label(ax.containers[0])\n",
        "\n",
        "ax.set_xlabel('Year', fontsize=13, color = '#ff4800');\n",
        "fig.suptitle('Number of universities ranked over the years', fontsize=15, color = '#ff4800');"
      ],
      "metadata": {
        "_kg_hide-input": true,
        "execution": {
          "iopub.status.busy": "2022-02-08T19:32:59.36318Z",
          "iopub.execute_input": "2022-02-08T19:32:59.363506Z",
          "iopub.status.idle": "2022-02-08T19:32:59.590367Z",
          "shell.execute_reply.started": "2022-02-08T19:32:59.363471Z",
          "shell.execute_reply": "2022-02-08T19:32:59.589743Z"
        },
        "trusted": true,
        "id": "Ze3CY5TST0Ac"
      },
      "execution_count": null,
      "outputs": []
    },
    {
      "cell_type": "markdown",
      "source": [
        "<div style=\"font-size: 13pt; font-family: verdana; color: #08415C\"> \n",
        "    With each year, more and more universities are considered for the rankings and 2022 has the highest number of universities.\n",
        "</div>"
      ],
      "metadata": {
        "id": "-XppKEQ7T0Ad"
      }
    },
    {
      "cell_type": "code",
      "source": [
        "type_df = university_df['type'].value_counts()\n",
        "fig, (ax1, ax2) = plt.subplots(1, 2, figsize=(10,5))\n",
        "\n",
        "pie_bar_colors = ['#FB8E7E','#8EC9BB']\n",
        "explode = [0,0.1]\n",
        "ax1.pie(university_df['type'].value_counts().values, labels = university_df['type'].value_counts().index, explode=explode, colors=pie_bar_colors, autopct='%1.1f%%') \n",
        "ax1.axis('equal')\n",
        "\n",
        "ax2.bar(university_df['type'].value_counts().index, university_df['type'].value_counts().values, color=pie_bar_colors) \n",
        "ax2.spines['top'].set_visible(False)\n",
        "ax2.spines['right'].set_visible(False)\n",
        "ax2.spines['left'].set_visible(False)\n",
        "ax2.tick_params(axis='both', which='both', labelsize=10, left=False, bottom=False)\n",
        "ax2.get_yaxis().set_visible(False)\n",
        "plt.title(\"University Types\", fontsize=15, color = '#ff4800');\n",
        "\n",
        "ax2.bar_label(ax2.containers[0])\n",
        "\n",
        "fig.tight_layout()\n",
        "fig.subplots_adjust(wspace=0.7)"
      ],
      "metadata": {
        "execution": {
          "iopub.status.busy": "2022-02-08T19:33:00.180807Z",
          "iopub.execute_input": "2022-02-08T19:33:00.181204Z",
          "iopub.status.idle": "2022-02-08T19:33:00.444046Z",
          "shell.execute_reply.started": "2022-02-08T19:33:00.181175Z",
          "shell.execute_reply": "2022-02-08T19:33:00.443403Z"
        },
        "_kg_hide-input": true,
        "trusted": true,
        "id": "AUb-d8PfT0Ad"
      },
      "execution_count": null,
      "outputs": []
    },
    {
      "cell_type": "markdown",
      "source": [
        "<div style=\"font-size: 13pt; font-family: verdana; color: #08415C\"> \n",
        "    If you do a simple google search, you can find many websites claiming that private universities are better than public universities because they tend to have better rankings. Well, that's not the case here. More than 80% of the universities ranked are public.\n",
        "</div>"
      ],
      "metadata": {
        "id": "hHitxyqWT0Ae"
      }
    },
    {
      "cell_type": "markdown",
      "source": [
        "<div class='alert alert-block alert-warning' style=\"font-size: 20pt; font-family: cursive; color: #08415C\"> \n",
        "    <b> <center> Distribution of universities across the world 🌏 </center> </b>\n",
        "</div>"
      ],
      "metadata": {
        "id": "ZUeSZ3qQT0Ae"
      }
    },
    {
      "cell_type": "markdown",
      "source": [
        "<div style=\"font-size: 13pt; font-family: verdana; color: #08415C\"> \n",
        "    Now, let's take a look at the geography of the universities.\n",
        "</div>"
      ],
      "metadata": {
        "id": "nPN23J9zT0Af"
      }
    },
    {
      "cell_type": "markdown",
      "source": [
        "<div class='alert alert-block alert-info' style=\"font-size: 15pt; font-family: cursive; color: #08415C\"> \n",
        "    <b> <center> Universities by Continents 🗺</center> </b>\n",
        "</div>"
      ],
      "metadata": {
        "id": "X2gE-3iDT0Af"
      }
    },
    {
      "cell_type": "code",
      "source": [
        "university_df['region'] = university_df['region'].apply(lambda x: x.replace('Latin America', 'South America'))\n",
        "region_sum = pd.DataFrame(university_df['region'].value_counts().reset_index())\n",
        "\n",
        "# define colors\n",
        "colors = ['#f8e3ca','#f8d1b4','#f7bf9e','#f6ad88','#f69b72','#f5895c']\n",
        "cmap = ListedColormap(colors)\n",
        "\n",
        "fig, (ax1, ax2) = plt.subplots(2, 1, figsize=(10, 10), dpi=150, gridspec_kw={'height_ratios': [1, 2]})\n",
        "\n",
        "# create barplot\n",
        "ax1.bar(region_sum['index'], region_sum['region'], color=colors[::-1])\n",
        "ax1.spines['top'].set_visible(False)\n",
        "ax1.spines['right'].set_visible(False)\n",
        "ax1.spines['left'].set_visible(False)\n",
        "ax1.tick_params(bottom=False)\n",
        "ax1.get_yaxis().set_visible(False)\n",
        "ax1.bar_label(ax1.containers[0])\n",
        "\n",
        "fig.suptitle('Distribution of universities across continents', fontsize=13, color = '#ff4800');\n",
        "\n",
        "# create worldmap\n",
        "world = gpd.read_file(gpd.datasets.get_path('naturalearth_lowres'))\n",
        "worldmap_df = world.set_index('continent').join(region_sum.set_index('index')).reset_index()\n",
        "to_be_mapped = 'region'\n",
        "legend_labels = region_sum['index'].tolist()[::-1]\n",
        "\n",
        "worldmap_df.plot(column=to_be_mapped, \n",
        "            cmap=cmap, \n",
        "            linewidth=0.8, \n",
        "            ax=ax2, \n",
        "            edgecolors='0.8', \n",
        "            legend=True, \n",
        "            categorical=True,\n",
        "           )\n",
        "\n",
        "leg = ax2.get_legend()\n",
        "for text, label in zip(leg.get_texts(), legend_labels):\n",
        "    text.set_text(label)\n",
        "\n",
        "leg.set_bbox_to_anchor((1.15,0.5))\n",
        "# leg.edgecolors('#ff4800')\n",
        "frame = leg.get_frame()\n",
        "frame.set_edgecolor('#ff4800')\n",
        "ax2.set_axis_off()\n",
        "plt.subplots_adjust(wspace=0, hspace=0)"
      ],
      "metadata": {
        "execution": {
          "iopub.status.busy": "2022-02-08T19:12:01.5522Z",
          "iopub.execute_input": "2022-02-08T19:12:01.552469Z",
          "iopub.status.idle": "2022-02-08T19:12:02.236953Z",
          "shell.execute_reply.started": "2022-02-08T19:12:01.552442Z",
          "shell.execute_reply": "2022-02-08T19:12:02.235429Z"
        },
        "_kg_hide-input": true,
        "trusted": true,
        "id": "-3uGYoCHT0Af"
      },
      "execution_count": null,
      "outputs": []
    },
    {
      "cell_type": "markdown",
      "source": [
        "<div style=\"font-size: 13pt; font-family: verdana; color: #08415C\"> \n",
        "    Europe tends to be the continent with more number of universities though we have to consider the fact that they have included Russia in Europe although it belongs to both Europe and Asia. It is followed by Asia and North America.\n",
        "</div>"
      ],
      "metadata": {
        "id": "9p_JQuckT0Ag"
      }
    },
    {
      "cell_type": "markdown",
      "source": [
        "<div class='alert alert-block alert-info' style=\"font-size: 15pt; font-family: cursive; color: #08415C\"> \n",
        "    <b> <center> Universities by Countries 🏫</center> </b>\n",
        "</div>"
      ],
      "metadata": {
        "id": "ICEQx6WCT0Ag"
      }
    },
    {
      "cell_type": "code",
      "source": [
        "print('Number of countries with ranked universities: ',university_df['country'].nunique())"
      ],
      "metadata": {
        "execution": {
          "iopub.status.busy": "2022-02-08T19:17:47.029625Z",
          "iopub.execute_input": "2022-02-08T19:17:47.029879Z",
          "iopub.status.idle": "2022-02-08T19:17:47.035159Z",
          "shell.execute_reply.started": "2022-02-08T19:17:47.029852Z",
          "shell.execute_reply": "2022-02-08T19:17:47.034363Z"
        },
        "_kg_hide-input": true,
        "trusted": true,
        "id": "ih_n8UGgT0Ag"
      },
      "execution_count": null,
      "outputs": []
    },
    {
      "cell_type": "markdown",
      "source": [
        "<div style=\"font-size: 13pt; font-family: verdana; color: #08415C\"> \n",
        "    Out of the 195 countries in the world, only 97 countries have universities that are ranked.\n",
        "</div>"
      ],
      "metadata": {
        "id": "5UtD6JxtT0Ag"
      }
    },
    {
      "cell_type": "code",
      "source": [
        "uni_df = university_df['university'].value_counts()\n",
        "\n",
        "fig, ax = plt.subplots(figsize=(10,20), dpi=150)\n",
        "\n",
        "sns.countplot(data=university_df, y='country', order=university_df.country.value_counts().index, palette=custom_palette1);\n",
        "plt.xlabel('Number of universities', fontsize=12, color = '#ff4800')\n",
        "plt.ylabel('Country', fontsize=12, color = '#ff4800')\n",
        "plt.title(\"Distribution of universities across countries\", fontsize=14, color = '#ff4800');\n",
        "\n",
        "# plt.savefig('countrywise.png')"
      ],
      "metadata": {
        "execution": {
          "iopub.status.busy": "2022-02-08T19:18:00.298077Z",
          "iopub.execute_input": "2022-02-08T19:18:00.298404Z",
          "iopub.status.idle": "2022-02-08T19:18:02.098448Z",
          "shell.execute_reply.started": "2022-02-08T19:18:00.298369Z",
          "shell.execute_reply": "2022-02-08T19:18:02.09747Z"
        },
        "_kg_hide-input": true,
        "trusted": true,
        "id": "6PD_mMTZT0Ah"
      },
      "execution_count": null,
      "outputs": []
    },
    {
      "cell_type": "markdown",
      "source": [
        "<div style=\"font-size: 13pt; font-family: verdana; color: #08415C\"> \n",
        "    United States consists of more number of universities that have been ranked over the years followed by United Kingdom and Germany. \n",
        "</div>"
      ],
      "metadata": {
        "id": "ninGK4E2T0Ah"
      }
    },
    {
      "cell_type": "markdown",
      "source": [
        "<div class='alert alert-block alert-info' style=\"font-size: 15pt; font-family: cursive; color: #08415C\"> \n",
        "    <b> <center> Universities by Cities 🌃</center> </b>\n",
        "</div>"
      ],
      "metadata": {
        "id": "PG7RTK8zT0Ah"
      }
    },
    {
      "cell_type": "code",
      "source": [
        "sorted_df = university_df.sort_values(by='rank_display').drop_duplicates('university')\n",
        "sorted_df = pd.DataFrame(sorted_df['city'].value_counts()[:20])"
      ],
      "metadata": {
        "execution": {
          "iopub.status.busy": "2022-02-08T19:35:57.493825Z",
          "iopub.execute_input": "2022-02-08T19:35:57.494117Z",
          "iopub.status.idle": "2022-02-08T19:35:57.506793Z",
          "shell.execute_reply.started": "2022-02-08T19:35:57.494084Z",
          "shell.execute_reply": "2022-02-08T19:35:57.505864Z"
        },
        "_kg_hide-input": true,
        "trusted": true,
        "id": "KvZQN823T0Ah"
      },
      "execution_count": null,
      "outputs": []
    },
    {
      "cell_type": "code",
      "source": [
        "fig, ax = plt.subplots(figsize=(14,5), dpi=100)\n",
        "\n",
        "ax.spines['top'].set_visible(False)\n",
        "ax.spines['right'].set_visible(False)\n",
        "ax.spines['left'].set_visible(False)\n",
        "ax.tick_params(bottom=False)\n",
        "ax.get_yaxis().set_visible(False)\n",
        "\n",
        "sns.barplot(data=sorted_df, y='city', x=sorted_df.index, palette=custom_palette2)\n",
        "plt.xticks(rotation=90);\n",
        "\n",
        "ax.bar_label(ax.containers[0])\n",
        "\n",
        "ax.set_xlabel('City Name', fontsize=13, color = '#ff4800');\n",
        "fig.suptitle('Distribution of universities across cities', fontsize=15, color = '#ff4800');\n",
        "\n",
        "# plt.savefig('countrywise.png')"
      ],
      "metadata": {
        "execution": {
          "iopub.status.busy": "2022-02-08T19:35:59.189053Z",
          "iopub.execute_input": "2022-02-08T19:35:59.189536Z",
          "iopub.status.idle": "2022-02-08T19:35:59.649356Z",
          "shell.execute_reply.started": "2022-02-08T19:35:59.189501Z",
          "shell.execute_reply": "2022-02-08T19:35:59.648504Z"
        },
        "_kg_hide-input": true,
        "trusted": true,
        "id": "Lp1IqzdGT0Ai"
      },
      "execution_count": null,
      "outputs": []
    },
    {
      "cell_type": "markdown",
      "source": [
        "<div style=\"font-size: 13pt; font-family: verdana; color: #08415C\"> \n",
        "    The above graph considers the top 20 cities with high number of unique universities. London is an academic hotspot with a whooping 19 universities that are ranked globally!\n",
        "</div>"
      ],
      "metadata": {
        "id": "0hZSRcBqT0Ai"
      }
    },
    {
      "cell_type": "markdown",
      "source": [
        "<div class='alert alert-block alert-warning' style=\"font-size: 20pt; font-family: cursive; color: #08415C\"> \n",
        "    <b> <center> Ranking of Top 10 Universities 🔝</center> </b>\n",
        "</div>"
      ],
      "metadata": {
        "id": "zHrQwREIT0Ai"
      }
    },
    {
      "cell_type": "code",
      "source": [
        "# university_df.sort_values('rank_display')[:60]\n",
        "top_unis = ['Massachusetts Institute of Technology (MIT) ', 'Stanford University', 'University of Oxford', 'Harvard University', 'University of Cambridge', 'California Institute of Technology (Caltech)', 'ETH Zurich - Swiss Federal Institute of Technology', 'Imperial College London', 'UCL', 'University of Chicago']\n",
        "topunis_df = university_df[university_df['university'].isin(top_unis)][['year','university','rank_display']].reset_index(drop=True)"
      ],
      "metadata": {
        "execution": {
          "iopub.status.busy": "2022-02-08T19:49:29.269173Z",
          "iopub.execute_input": "2022-02-08T19:49:29.269794Z",
          "iopub.status.idle": "2022-02-08T19:49:29.276632Z",
          "shell.execute_reply.started": "2022-02-08T19:49:29.269746Z",
          "shell.execute_reply": "2022-02-08T19:49:29.275835Z"
        },
        "_kg_hide-input": true,
        "jupyter": {
          "source_hidden": true
        },
        "trusted": true,
        "id": "u6bh8ANVT0Ai"
      },
      "execution_count": null,
      "outputs": []
    },
    {
      "cell_type": "code",
      "source": [
        "fig = plt.figure(figsize=(15,15), dpi=100)\n",
        "\n",
        "for uni, i in zip(top_unis, range(1, 11)):\n",
        "    new_df = topunis_df[topunis_df['university'] == uni]\n",
        "    ax = fig.add_subplot(5, 2, i)\n",
        "    ax.plot(new_df['year'], new_df['rank_display'], color='#003f5c', linewidth=1.5)\n",
        "    plt.gca().invert_yaxis()\n",
        "    ax.set_title(uni, color='#ff4800')\n",
        "    \n",
        "fig.subplots_adjust(wspace=0.2, hspace=0.6, top=0.92)\n",
        "fig.suptitle('Ranking of top 10 universities from 2017 to 2022', fontsize=15, color = '#ff4800');"
      ],
      "metadata": {
        "execution": {
          "iopub.status.busy": "2022-02-08T19:49:39.058902Z",
          "iopub.execute_input": "2022-02-08T19:49:39.059187Z",
          "iopub.status.idle": "2022-02-08T19:49:40.558347Z",
          "shell.execute_reply.started": "2022-02-08T19:49:39.059154Z",
          "shell.execute_reply": "2022-02-08T19:49:40.557698Z"
        },
        "_kg_hide-input": true,
        "jupyter": {
          "source_hidden": true
        },
        "trusted": true,
        "id": "e_jmQIHMT0Ai"
      },
      "execution_count": null,
      "outputs": []
    },
    {
      "cell_type": "markdown",
      "source": [
        "<div style=\"font-size: 13pt; font-family: verdana; color: #08415C\"> \n",
        "    By taking a quick look at the dataframe, I have made a list of the top 10 universities ranked over the years. These 10 universities have a tendency to occupy the top 10 positions consistently.\n",
        "    <ul>\n",
        "        <li>MIT tends to be undisputed king in terms of QS Rankings, ranked number 1 always.</li>\n",
        "        <li>Stanford and Harvard have dropped down this year for the first time since 2017.</li>\n",
        "        <li>University of Oxford, the oldest university in the English-speaking world, has jumped from Rank 6 to Rank 2.</li>\n",
        "        <li>On an overall scale, universities from UK have spiked up on their rankings compared to the US universities most of which have dropped down this year (2022).</li>\n",
        "        <li>Out of the top 10, Only one university, ETH Zurich (Switzerland), is from a country other than US or UK.</li>\n",
        "    </ul>    \n",
        "</div>"
      ],
      "metadata": {
        "id": "6wAWCL7ST0Aj"
      }
    },
    {
      "cell_type": "markdown",
      "source": [
        "<div class='alert alert-block alert-warning' style=\"font-size: 20pt; font-family: cursive; color: #08415C\"> \n",
        "    <b> <center> QS World Rankings - Contributing Factors ⚖️ </center> </b>\n",
        "</div>"
      ],
      "metadata": {
        "id": "-bLGSjBdT0Aj"
      }
    },
    {
      "cell_type": "markdown",
      "source": [
        "<div style=\"font-size: 13pt; font-family: verdana; color: #08415C\"> \n",
        "    Let's explore the metrics used to gauge the universities. Out of the 6 metrics that have been used, only 3 are present in this dataset. \n",
        "    <ul>\n",
        "        <li>Research output - 20%</li>\n",
        "        <li>Student Faculty ratio - 20%</li>\n",
        "        <li>International students - 5%</li>\n",
        "    </ul>    \n",
        "    So, our analysis will account only for 45% of the survey methodology. \n",
        "</div>"
      ],
      "metadata": {
        "id": "ffo64belT0Aj"
      }
    },
    {
      "cell_type": "markdown",
      "source": [
        "<div class='alert alert-block alert-info' style=\"font-size: 15pt; font-family: cursive; color: #08415C\"> \n",
        "    <b> <center> Research Output 🔬</center> </b>\n",
        "</div>"
      ],
      "metadata": {
        "id": "3XmtlbuET0Aj"
      }
    },
    {
      "cell_type": "markdown",
      "source": [
        "<div style=\"font-size: 13pt; font-family: verdana; color: #08415C\"> \n",
        "    Next to teaching, Academic research is viewed as a very important factor. Understanding research output can give us insights about how the top universities prioritize them.\n",
        "</div>"
      ],
      "metadata": {
        "id": "WY2_s8z0T0Aj"
      }
    },
    {
      "cell_type": "code",
      "source": [
        "fig, ax = plt.subplots(figsize=(8,4), dpi=90)\n",
        "ax.spines['top'].set_visible(False)\n",
        "ax.spines['right'].set_visible(False)\n",
        "ax.spines['left'].set_visible(False)\n",
        "\n",
        "ax.tick_params(bottom=False)\n",
        "ax.get_yaxis().set_visible(False)\n",
        "\n",
        "sns.countplot(data=university_df, x='research_output', hue='type', palette=research_palette);\n",
        "\n",
        "for container in ax.containers:\n",
        "    ax.bar_label(container)\n",
        "\n",
        "plt.legend(edgecolor='#ff4800');\n",
        "ax.set_xlabel('Research Output', fontsize=13, color = '#ff4800');\n",
        "fig.suptitle('Research output of universities', fontsize=15, color = '#ff4800');"
      ],
      "metadata": {
        "execution": {
          "iopub.status.busy": "2022-02-08T20:11:15.863332Z",
          "iopub.execute_input": "2022-02-08T20:11:15.864848Z",
          "iopub.status.idle": "2022-02-08T20:11:16.144632Z",
          "shell.execute_reply.started": "2022-02-08T20:11:15.864794Z",
          "shell.execute_reply": "2022-02-08T20:11:16.143978Z"
        },
        "_kg_hide-input": true,
        "jupyter": {
          "source_hidden": true
        },
        "trusted": true,
        "id": "s3rbmR1hT0Ak"
      },
      "execution_count": null,
      "outputs": []
    },
    {
      "cell_type": "markdown",
      "source": [
        "<div style=\"font-size: 13pt; font-family: verdana; color: #08415C\"> \n",
        "    Clearly, most number of universities under consideration have \"Very High\" research output. Public universities outperform private universities in terms of research. \n",
        "</div>"
      ],
      "metadata": {
        "id": "CjqTvYBNT0Ak"
      }
    },
    {
      "cell_type": "code",
      "source": [
        "fig, ax = plt.subplots(figsize=(8,4), dpi=90)\n",
        "\n",
        "sns.barplot(data=university_df, x='research_output', y='faculty_count', hue='type', ci=None, palette=research_palette)\n",
        "ax.spines['top'].set_visible(False)\n",
        "ax.spines['right'].set_visible(False)\n",
        "ax.tick_params(bottom=False)\n",
        "ax.set_xlabel('Research Output', fontsize=13, color = '#ff4800')\n",
        "ax.set_ylabel('Faculty Count', fontsize=13, color = '#ff4800')\n",
        "\n",
        "ax.legend(edgecolor='#ff4800',bbox_to_anchor=(1.05, 1), loc=2, borderaxespad=0.)\n",
        "fig.suptitle('Research output Vs Faculty Count', fontsize=15, color = '#ff4800');"
      ],
      "metadata": {
        "execution": {
          "iopub.status.busy": "2022-02-08T20:22:11.735434Z",
          "iopub.execute_input": "2022-02-08T20:22:11.73573Z",
          "iopub.status.idle": "2022-02-08T20:22:12.022353Z",
          "shell.execute_reply.started": "2022-02-08T20:22:11.735699Z",
          "shell.execute_reply": "2022-02-08T20:22:12.02133Z"
        },
        "_kg_hide-input": true,
        "jupyter": {
          "source_hidden": true
        },
        "trusted": true,
        "id": "S8lJNu_4T0Ak"
      },
      "execution_count": null,
      "outputs": []
    },
    {
      "cell_type": "markdown",
      "source": [
        "<div style=\"font-size: 13pt; font-family: verdana; color: #08415C\"> \n",
        "    As far as the number of faculty are concerned, \n",
        "    <ul>\n",
        "        <li>Universities with \"Very High\" research output have more staffs.</li>\n",
        "            <i style=\"color: #FB8E7E\">So, does this mean universities with higher number of faculty do better research? Not necessarily. Universities with \"Very High\" research output may attract more accomplished academics and researchers because of their reputation along with many other factors.</i>\n",
        "        <li>We can see public universities with research output as \"Very High\" and \"Low\" have nearly equal number of staffs.</li>\n",
        "        <li>Also, private universities with \"Low\" research output have more staffs than \"High\" output.</li>\n",
        "            <i style=\"color: #FB8E7E\">This can mean that, not every university puts an emphasis on research although they have more number of academic staff.</i>\n",
        "    </ul>\n",
        "</div>"
      ],
      "metadata": {
        "id": "ki3e3GKfT0Ak"
      }
    },
    {
      "cell_type": "code",
      "source": [
        "research_size = pd.DataFrame(university_df.groupby(['research_output']).apply(lambda df: df['size'].value_counts()))"
      ],
      "metadata": {
        "execution": {
          "iopub.status.busy": "2022-02-08T20:29:06.727962Z",
          "iopub.execute_input": "2022-02-08T20:29:06.72829Z",
          "iopub.status.idle": "2022-02-08T20:29:06.743272Z",
          "shell.execute_reply.started": "2022-02-08T20:29:06.728239Z",
          "shell.execute_reply": "2022-02-08T20:29:06.742293Z"
        },
        "_kg_hide-input": true,
        "jupyter": {
          "source_hidden": true
        },
        "trusted": true,
        "id": "kUNYlo3LT0Al"
      },
      "execution_count": null,
      "outputs": []
    },
    {
      "cell_type": "code",
      "source": [
        "research_size"
      ],
      "metadata": {
        "execution": {
          "iopub.status.busy": "2022-02-08T20:29:07.805202Z",
          "iopub.execute_input": "2022-02-08T20:29:07.805494Z",
          "iopub.status.idle": "2022-02-08T20:29:07.815652Z",
          "shell.execute_reply.started": "2022-02-08T20:29:07.805461Z",
          "shell.execute_reply": "2022-02-08T20:29:07.814887Z"
        },
        "_kg_hide-input": true,
        "jupyter": {
          "source_hidden": true
        },
        "trusted": true,
        "id": "DhyXWOS1T0Al"
      },
      "execution_count": null,
      "outputs": []
    },
    {
      "cell_type": "code",
      "source": [
        "research_size = research_size.reset_index().rename(columns={'level_1': 'size', 'size': 'count'})"
      ],
      "metadata": {
        "_kg_hide-input": true,
        "execution": {
          "iopub.status.busy": "2022-02-08T20:42:23.102468Z",
          "iopub.execute_input": "2022-02-08T20:42:23.102808Z",
          "iopub.status.idle": "2022-02-08T20:42:23.110348Z",
          "shell.execute_reply.started": "2022-02-08T20:42:23.102762Z",
          "shell.execute_reply": "2022-02-08T20:42:23.109365Z"
        },
        "jupyter": {
          "source_hidden": true
        },
        "trusted": true,
        "id": "bVI0vZ0YT0Al"
      },
      "execution_count": null,
      "outputs": []
    },
    {
      "cell_type": "markdown",
      "source": [
        "<div class='alert alert-block alert-success' style=\"font-size: 18pt; font-family: cursive; color: #08415C\"> \n",
        "    <b> <center> 💡 A quick intro on how to interpret pointplot. </center> </b>\n",
        "    <p style=\"font-size: 13pt; font-family: verdana; color: #08415C\"> A pointplot shows an estimate of mean value for a numeric variable by using scatter plot points. This can be particularly useful for comparing different levels of a categorical variable. The lines joining the pointplot can be used to judge the differences between slopes easily. For more info, refer <a href=\"https://seaborn.pydata.org/generated/seaborn.pointplot.html\">here</a></p>\n",
        "</div>"
      ],
      "metadata": {
        "id": "WVmO8kkrT0Al"
      }
    },
    {
      "cell_type": "code",
      "source": [
        "sns.catplot(x=\"research_output\", y=\"count\", kind=\"point\", data=research_size, hue='size', palette=custom_palette1);\n",
        "plt.xlabel('Research Output', fontsize=13, color = '#ff4800')\n",
        "plt.ylabel('Count', fontsize=13, color = '#ff4800')\n",
        "plt.title('Research output Vs Size of university', fontsize=15, color = '#ff4800');"
      ],
      "metadata": {
        "execution": {
          "iopub.status.busy": "2022-02-08T20:29:09.562251Z",
          "iopub.execute_input": "2022-02-08T20:29:09.562564Z",
          "iopub.status.idle": "2022-02-08T20:29:10.006066Z",
          "shell.execute_reply.started": "2022-02-08T20:29:09.562529Z",
          "shell.execute_reply": "2022-02-08T20:29:10.005161Z"
        },
        "_kg_hide-input": true,
        "jupyter": {
          "source_hidden": true
        },
        "trusted": true,
        "id": "IYC9ShQ4T0Am"
      },
      "execution_count": null,
      "outputs": []
    },
    {
      "cell_type": "markdown",
      "source": [
        "<div style=\"font-size: 13pt; font-family: verdana; color: #08415C\"> \n",
        "    The relationship between the size of the university and research output is pretty candid. Universities with \"Very High\" and \"High\" research output are larger in size comapare to \"Medium\" and \"Low\".\n",
        "</div>"
      ],
      "metadata": {
        "id": "W6iTHuN0T0Am"
      }
    },
    {
      "cell_type": "markdown",
      "source": [
        "<div class='alert alert-block alert-info' style=\"font-size: 15pt; font-family: cursive; color: #08415C\"> \n",
        "    <b> <center> Student Faculty Ratio 👩🏻‍🎓→🧑🏻‍🏫</center> </b>\n",
        "</div>"
      ],
      "metadata": {
        "id": "i2uRDqtnT0Am"
      }
    },
    {
      "cell_type": "markdown",
      "source": [
        "<div style=\"font-size: 13pt; font-family: verdana; color: #08415C\"> \n",
        "    Student Faculty Ratio is an interesting measure. According to QS, \"It is usually cited by students as a metric of highest importance to them\". Lesser the ratio, higher the performance. A faculty with less number of students assigned to them can dedicate more focus and attention on each individual.\n",
        "</div>"
      ],
      "metadata": {
        "id": "PxlOh9wxT0Am"
      }
    },
    {
      "cell_type": "code",
      "source": [
        "university_df['student_faculty_ratio'].describe()"
      ],
      "metadata": {
        "_kg_hide-input": true,
        "execution": {
          "iopub.status.busy": "2022-02-08T21:17:15.162908Z",
          "iopub.execute_input": "2022-02-08T21:17:15.163198Z",
          "iopub.status.idle": "2022-02-08T21:17:15.172928Z",
          "shell.execute_reply.started": "2022-02-08T21:17:15.16317Z",
          "shell.execute_reply": "2022-02-08T21:17:15.172359Z"
        },
        "jupyter": {
          "source_hidden": true
        },
        "trusted": true,
        "id": "qnM5-gwUT0Am"
      },
      "execution_count": null,
      "outputs": []
    },
    {
      "cell_type": "markdown",
      "source": [
        "<div style=\"font-size: 13pt; font-family: verdana; color: #08415C\"> \n",
        "    <ul>\n",
        "        <li>On average, universities tend to have 13 students per faculty.</li>\n",
        "        <li>There are universities that have as low as 1 student per faculty.</li>\n",
        "        <li>While there are universities that have 67 students per faculty.</li>\n",
        "    </ul>\n",
        "</div>"
      ],
      "metadata": {
        "id": "X-t8WwEQT0An"
      }
    },
    {
      "cell_type": "code",
      "source": [
        "plt.figure(figsize=(10,3), dpi=100)\n",
        "sns.histplot(data=university_df, x='student_faculty_ratio', bins=60, color=student_faculty_palette[1]);\n",
        "plt.xlabel('Student Faculty Ratio', color = '#ff4800')\n",
        "plt.ylabel('Count', color = '#ff4800')\n",
        "plt.title('Distribution of Student Faculty Ratio', fontsize=15, color = '#ff4800');"
      ],
      "metadata": {
        "execution": {
          "iopub.status.busy": "2022-02-08T21:18:20.08475Z",
          "iopub.execute_input": "2022-02-08T21:18:20.085183Z",
          "iopub.status.idle": "2022-02-08T21:18:20.4213Z",
          "shell.execute_reply.started": "2022-02-08T21:18:20.085152Z",
          "shell.execute_reply": "2022-02-08T21:18:20.420309Z"
        },
        "_kg_hide-input": true,
        "jupyter": {
          "source_hidden": true
        },
        "trusted": true,
        "id": "0_ZufKCYT0An"
      },
      "execution_count": null,
      "outputs": []
    },
    {
      "cell_type": "markdown",
      "source": [
        "<div style=\"font-size: 13pt; font-family: verdana; color: #08415C\"> \n",
        "    We have a right skewed distribution. The outliers doesn't seem to affect the mean much. Most of the universities have somewhere between 5 to 20 students per faculty. \n",
        "</div>"
      ],
      "metadata": {
        "id": "-UBZS4yAT0An"
      }
    },
    {
      "cell_type": "code",
      "source": [
        "plt.figure(figsize=(8,4), dpi=100)\n",
        "sns.boxplot(data=university_df, y='student_faculty_ratio', x='research_output', hue='type', palette=student_faculty_palette);\n",
        "plt.xlabel('Research Output', fontsize=11, color = '#ff4800')\n",
        "plt.ylabel('Student Faculty Ratio',color = '#ff4800')\n",
        "plt.title('Student Faculty Ratio vs Research Output', color = '#ff4800');"
      ],
      "metadata": {
        "execution": {
          "iopub.status.busy": "2022-02-08T21:21:55.22187Z",
          "iopub.execute_input": "2022-02-08T21:21:55.222184Z",
          "iopub.status.idle": "2022-02-08T21:21:55.58764Z",
          "shell.execute_reply.started": "2022-02-08T21:21:55.222151Z",
          "shell.execute_reply": "2022-02-08T21:21:55.586814Z"
        },
        "_kg_hide-input": true,
        "jupyter": {
          "source_hidden": true
        },
        "trusted": true,
        "id": "RtigaPdjT0An"
      },
      "execution_count": null,
      "outputs": []
    },
    {
      "cell_type": "markdown",
      "source": [
        "<div style=\"font-size: 13pt; font-family: verdana; color: #08415C\"> \n",
        "    Obviously, universities with \"Very High\" research output have very less \"student faculty ratio\" compared to the rest of them.\n",
        "</div>"
      ],
      "metadata": {
        "id": "DliVAnsCT0An"
      }
    },
    {
      "cell_type": "code",
      "source": [
        "sns.catplot(x=\"size\", y=\"student_faculty_ratio\", kind=\"point\", data=university_df, hue='type', palette=student_faculty_palette);\n",
        "plt.xlabel('Size', color = '#ff4800')\n",
        "plt.ylabel('Student Faculty Ratio', color = '#ff4800')\n",
        "plt.title('Student Faculty Ratio Vs Size of university', fontsize=15, color = '#ff4800');"
      ],
      "metadata": {
        "execution": {
          "iopub.status.busy": "2022-02-08T21:27:41.681089Z",
          "iopub.execute_input": "2022-02-08T21:27:41.681422Z",
          "iopub.status.idle": "2022-02-08T21:27:42.406271Z",
          "shell.execute_reply.started": "2022-02-08T21:27:41.681387Z",
          "shell.execute_reply": "2022-02-08T21:27:42.405403Z"
        },
        "_kg_hide-input": true,
        "jupyter": {
          "source_hidden": true
        },
        "trusted": true,
        "id": "oAe5IHWrT0Ao"
      },
      "execution_count": null,
      "outputs": []
    },
    {
      "cell_type": "markdown",
      "source": [
        "<div style=\"font-size: 13pt; font-family: verdana; color: #08415C\"> \n",
        "    Private universities have very less \"student faculty ratio\" compared to the public universities when it comes to the size. Another interesting observation is that the average \"student faculty ratio\" seems to increase with increase in the \"size\" of the university.\n",
        "</div>"
      ],
      "metadata": {
        "id": "cV8tB_crT0Ao"
      }
    },
    {
      "cell_type": "markdown",
      "source": [
        "<div class='alert alert-block alert-info' style=\"font-size: 15pt; font-family: cursive; color: #08415C\"> \n",
        "    <b> <center> International Students 🌐</center> </b>\n",
        "</div>"
      ],
      "metadata": {
        "id": "AcissUHLT0Ao"
      }
    },
    {
      "cell_type": "markdown",
      "source": [
        "<div style=\"font-size: 13pt; font-family: verdana; color: #08415C\"> \n",
        "    A university that attracts students from across the world demonstrates a global outlook and possess a multicultural diversity in its campus.\n",
        "</div>"
      ],
      "metadata": {
        "id": "avzhXFejT0Ao"
      }
    },
    {
      "cell_type": "code",
      "source": [
        "university_df['international_students'].describe()"
      ],
      "metadata": {
        "execution": {
          "iopub.status.busy": "2022-02-08T21:35:03.4229Z",
          "iopub.execute_input": "2022-02-08T21:35:03.423244Z",
          "iopub.status.idle": "2022-02-08T21:35:03.43402Z",
          "shell.execute_reply.started": "2022-02-08T21:35:03.423191Z",
          "shell.execute_reply": "2022-02-08T21:35:03.433172Z"
        },
        "_kg_hide-input": true,
        "jupyter": {
          "source_hidden": true
        },
        "trusted": true,
        "id": "qXe8MuLyT0Ao"
      },
      "execution_count": null,
      "outputs": []
    },
    {
      "cell_type": "markdown",
      "source": [
        "<div style=\"font-size: 13pt; font-family: verdana; color: #08415C\"> \n",
        "    <ul>\n",
        "        <li>On average, universities tend to have 1900+ international students.</li>\n",
        "        <li>There is a university with its international students intake as high as 31,000+. Let's take a look at it.</li>\n",
        "    </ul>\n",
        "</div>"
      ],
      "metadata": {
        "id": "GP2QSE6eT0Ap"
      }
    },
    {
      "cell_type": "code",
      "source": [
        "university_df.iloc[university_df['international_students'].idxmax()]"
      ],
      "metadata": {
        "execution": {
          "iopub.status.busy": "2022-02-08T21:41:19.195418Z",
          "iopub.execute_input": "2022-02-08T21:41:19.195973Z",
          "iopub.status.idle": "2022-02-08T21:41:19.202989Z",
          "shell.execute_reply.started": "2022-02-08T21:41:19.195936Z",
          "shell.execute_reply": "2022-02-08T21:41:19.20241Z"
        },
        "_kg_hide-input": true,
        "jupyter": {
          "source_hidden": true
        },
        "trusted": true,
        "id": "OXb8TlZjT0Ap"
      },
      "execution_count": null,
      "outputs": []
    },
    {
      "cell_type": "code",
      "source": [
        "plt.figure(figsize=(10,3), dpi=100)\n",
        "sns.histplot(data=university_df, x='international_students', bins=50, color=international_palette[0]);\n",
        "plt.xlabel('International Students', color = '#ff4800')\n",
        "plt.ylabel('Count', color = '#ff4800')\n",
        "plt.title('Distribution of International Students', fontsize=15, color = '#ff4800');"
      ],
      "metadata": {
        "execution": {
          "iopub.status.busy": "2022-02-08T21:43:51.069059Z",
          "iopub.execute_input": "2022-02-08T21:43:51.069404Z",
          "iopub.status.idle": "2022-02-08T21:43:51.396479Z",
          "shell.execute_reply.started": "2022-02-08T21:43:51.069364Z",
          "shell.execute_reply": "2022-02-08T21:43:51.395626Z"
        },
        "_kg_hide-input": true,
        "jupyter": {
          "source_hidden": true
        },
        "trusted": true,
        "id": "5n-1G1V3T0Ap"
      },
      "execution_count": null,
      "outputs": []
    },
    {
      "cell_type": "markdown",
      "source": [
        "<div style=\"font-size: 13pt; font-family: verdana; color: #08415C\"> \n",
        "    We have a right skewed distribution here as well. There are very few outliers. Most of the universities have an intake between 0 to 5000.\n",
        "</div>"
      ],
      "metadata": {
        "id": "yWxyNJMQT0Ap"
      }
    },
    {
      "cell_type": "code",
      "source": [
        "sns.catplot(kind='point', data=university_df, x='research_output', y='international_students', order=university_df['research_output'].value_counts().index, ci=None, hue='type', palette=international_palette);\n",
        "plt.xlabel('Research Output', color = '#ff4800')\n",
        "plt.ylabel('International Students', color = '#ff4800')\n",
        "plt.title('International Students Vs Research Output', fontsize=15, color = '#ff4800');"
      ],
      "metadata": {
        "execution": {
          "iopub.status.busy": "2022-02-08T21:45:03.06719Z",
          "iopub.execute_input": "2022-02-08T21:45:03.067505Z",
          "iopub.status.idle": "2022-02-08T21:45:03.474835Z",
          "shell.execute_reply.started": "2022-02-08T21:45:03.067472Z",
          "shell.execute_reply": "2022-02-08T21:45:03.472667Z"
        },
        "_kg_hide-input": true,
        "jupyter": {
          "source_hidden": true
        },
        "trusted": true,
        "id": "3XVd2oH_T0Ap"
      },
      "execution_count": null,
      "outputs": []
    },
    {
      "cell_type": "markdown",
      "source": [
        "<div style=\"font-size: 13pt; font-family: verdana; color: #08415C\"> \n",
        "    International students tend to prefer public universities with \"Very High\" research output. Due to lesser tuition fees compared to private ones? 🤔 Maybe. 🤷🏻‍♀️\n",
        "</div>"
      ],
      "metadata": {
        "id": "aWxT9A8_T0Aq"
      }
    },
    {
      "cell_type": "markdown",
      "source": [
        "<div class='alert alert-block alert-warning' style=\"font-size: 20pt; font-family: cursive; color: #08415C\"> \n",
        "    <b> <center> Most popular country of choice for International Students ✅ </center> </b>\n",
        "</div>"
      ],
      "metadata": {
        "id": "SIU1n2NjT0Aq"
      }
    },
    {
      "cell_type": "markdown",
      "source": [
        "<div style=\"font-size: 13pt; font-family: verdana; color: #08415C\"> \n",
        "    And for the last part, which country is most popular among international students? Can you guess before going down?\n",
        "</div>"
      ],
      "metadata": {
        "id": "YGhlcJhET0Aq"
      }
    },
    {
      "cell_type": "code",
      "source": [
        "intstu_country = pd.DataFrame(university_df.groupby(['country'], sort=False)['international_students'].sum().sort_values(ascending=False)[:10])"
      ],
      "metadata": {
        "_kg_hide-input": true,
        "execution": {
          "iopub.status.busy": "2022-02-08T21:52:00.168184Z",
          "iopub.execute_input": "2022-02-08T21:52:00.168485Z",
          "iopub.status.idle": "2022-02-08T21:52:00.176176Z",
          "shell.execute_reply.started": "2022-02-08T21:52:00.168454Z",
          "shell.execute_reply": "2022-02-08T21:52:00.175273Z"
        },
        "jupyter": {
          "source_hidden": true
        },
        "trusted": true,
        "id": "GHZE-iGtT0Aq"
      },
      "execution_count": null,
      "outputs": []
    },
    {
      "cell_type": "code",
      "source": [
        "fig, ax = plt.subplots(figsize=(10,4), dpi=100)\n",
        "\n",
        "ax.spines['top'].set_visible(False)\n",
        "ax.spines['right'].set_visible(False)\n",
        "ax.spines['bottom'].set_visible(False)\n",
        "ax.tick_params(left=False)\n",
        "ax.get_xaxis().set_visible(False)\n",
        "\n",
        "sns.barplot(data=intstu_country, x='international_students', y=intstu_country.index, palette=custom_palette1);\n",
        "\n",
        "ax.bar_label(ax.containers[0], fmt = '%d')\n",
        "\n",
        "ax.set_ylabel('Country', fontsize=13, color = '#ff4800');\n",
        "fig.suptitle('Country of choice for International Students from 2017 - 2022', fontsize=15, color = '#ff4800');"
      ],
      "metadata": {
        "_kg_hide-input": true,
        "execution": {
          "iopub.status.busy": "2022-02-08T21:52:28.055916Z",
          "iopub.execute_input": "2022-02-08T21:52:28.056694Z",
          "iopub.status.idle": "2022-02-08T21:52:28.32747Z",
          "shell.execute_reply.started": "2022-02-08T21:52:28.056653Z",
          "shell.execute_reply": "2022-02-08T21:52:28.326606Z"
        },
        "jupyter": {
          "source_hidden": true
        },
        "trusted": true,
        "id": "S-mN7W64T0Ar"
      },
      "execution_count": null,
      "outputs": []
    },
    {
      "cell_type": "markdown",
      "source": [
        "<div style=\"text-align: center;\">\n",
        "<img src=\"https://media3.giphy.com/media/3o6Mbdr0AHyzqCTgHK/giphy.gif?cid=790b76116c15bea23752d227e2eaa731d82ec9435321d3d0&rid=giphy.gif&ct=g\">\n",
        "</div>"
      ],
      "metadata": {
        "id": "DZ1gps9kT0Ar"
      }
    },
    {
      "cell_type": "markdown",
      "source": [
        "<div style=\"font-size: 13pt; font-family: verdana; color: #08415C\"> \n",
        "    It's USA 🇺🇸 closely followed by UK 🇬🇧!\n",
        "</div>"
      ],
      "metadata": {
        "id": "Abt9WSDZT0Ar"
      }
    },
    {
      "cell_type": "markdown",
      "source": [
        "<div style=\"font-size: 13pt; font-family: verdana; color: #08415C\"> \n",
        "    If you've come down this far, \"THANK YOU!\". Let me know in the comments if you have any feedback, criticisms or concerns.\n",
        "</div>"
      ],
      "metadata": {
        "id": "sSqLNy5lT0Ar"
      }
    },
    {
      "cell_type": "markdown",
      "source": [
        "<div style=\"font-size: 14pt; font-family: verdana; color: #08415C\"> \n",
        "    Credits and Acknowledgement\n",
        "    <ul>\n",
        "        <li style=\"font-size: 12pt\"><a href=\"href=\"https://www.qs.com/wp-content/uploads/2020/06/WUR-2021.jpg\"\">Cover Image</a></li>\n",
        "        <li style=\"font-size: 12pt\"><a href=\"https://giphy.com/gifs/season-17-the-simpsons-17x4-3o6Mbdr0AHyzqCTgHK\">American Dream Gif</a></li>\n",
        "    </ul>\n",
        "</div>"
      ],
      "metadata": {
        "id": "xoRsJoSkT0Ar"
      }
    },
    {
      "cell_type": "markdown",
      "source": [
        "Did I say those words? <strike>If you like my work, do hit the upvote button!</strike> No, I didn't. 😁"
      ],
      "metadata": {
        "id": "fo-fJYLBT0As"
      }
    }
  ]
}