{
 "cells": [
  {
   "cell_type": "markdown",
   "id": "10eb509b",
   "metadata": {},
   "source": [
    "## Fuzzy match \n",
    "\n",
    "## autor: Roberto Mendoza "
   ]
  },
  {
   "cell_type": "code",
   "execution_count": 2,
   "id": "74a50ed7",
   "metadata": {},
   "outputs": [],
   "source": [
    "# !pip install fuzzywuzzy\n",
    "# !pip install python-Levenshtein"
   ]
  },
  {
   "cell_type": "code",
   "execution_count": 9,
   "id": "92ac7155",
   "metadata": {},
   "outputs": [],
   "source": [
    "from fuzzywuzzy import fuzz\n",
    "from fuzzywuzzy import process\n",
    "import re"
   ]
  },
  {
   "cell_type": "code",
   "execution_count": 27,
   "id": "687be6a3",
   "metadata": {},
   "outputs": [
    {
     "name": "stdout",
     "output_type": "stream",
     "text": [
      "False\n",
      "False\n"
     ]
    }
   ],
   "source": [
    "# Comparamos nombres \n",
    "# Caso 1\n",
    "\n",
    "name1 = \"Juan Pablo Villanueva Melcochita\"\n",
    "name2 = \"juan pablo! villanueva 5 melcochita..\"\n",
    "\n",
    "print(name1 is name2)\n",
    "print(name1 == name2)"
   ]
  },
  {
   "cell_type": "code",
   "execution_count": 28,
   "id": "18a1bc72",
   "metadata": {},
   "outputs": [
    {
     "data": {
      "text/plain": [
       "81"
      ]
     },
     "execution_count": 28,
     "metadata": {},
     "output_type": "execute_result"
    }
   ],
   "source": [
    "fuzz.ratio(name1,name2)"
   ]
  },
  {
   "cell_type": "code",
   "execution_count": 17,
   "id": "252a18a0",
   "metadata": {},
   "outputs": [
    {
     "data": {
      "text/plain": [
       "98"
      ]
     },
     "execution_count": 17,
     "metadata": {},
     "output_type": "execute_result"
    }
   ],
   "source": [
    "# Se necesita en pre-procesamiento\n",
    "\n",
    "fuzz.ratio(name1.lower(), re.sub('[^a-zA-Z\\\\s]', '',name2).lower() )"
   ]
  },
  {
   "cell_type": "code",
   "execution_count": 21,
   "id": "ec59a451",
   "metadata": {},
   "outputs": [
    {
     "name": "stdout",
     "output_type": "stream",
     "text": [
      "juan pablo villanueva melcochita\n",
      "juan pablo villanueva  melcochita\n",
      "False\n"
     ]
    }
   ],
   "source": [
    "print(name1.lower())\n",
    "print( re.sub('[^a-zA-Z\\\\s]', '',name2).lower() )\n",
    "\n",
    "print(name1.lower() is re.sub('[^a-zA-Z\\\\s]', '', name2).lower())"
   ]
  },
  {
   "cell_type": "code",
   "execution_count": 36,
   "id": "0772feed",
   "metadata": {},
   "outputs": [],
   "source": [
    "# Caso 2: ausencia de palabras\n",
    "\n",
    "name1 = \"Juan Pablo Villanueva Melcochita\"\n",
    "name2 = \"Juan melcochita\""
   ]
  },
  {
   "cell_type": "code",
   "execution_count": 38,
   "id": "128b32f6",
   "metadata": {},
   "outputs": [
    {
     "name": "stdout",
     "output_type": "stream",
     "text": [
      "60\n",
      "87\n"
     ]
    }
   ],
   "source": [
    "print(fuzz.ratio(name1,name2))\n",
    "\n",
    "# partial_ratio analiza ambos string y elige el string de menor longitud para compararlo con el otro string\n",
    "# En efecto, partial_ratio elige name2 y, a aprtir de ello, se compara con name1\n",
    "print(fuzz.partial_ratio(name1.lower(),name2.lower()))"
   ]
  },
  {
   "cell_type": "code",
   "execution_count": 41,
   "id": "62cd5736",
   "metadata": {},
   "outputs": [
    {
     "name": "stdout",
     "output_type": "stream",
     "text": [
      "48\n",
      "51\n"
     ]
    },
    {
     "data": {
      "text/plain": [
       "100"
      ]
     },
     "execution_count": 41,
     "metadata": {},
     "output_type": "execute_result"
    }
   ],
   "source": [
    "# Caso 3: ordenamiento diferentes\n",
    "\n",
    "# token preprocesa los strings: minuscula, elimina puntuaciones (,.?\"$\")\n",
    "\n",
    "name1 = \"Juan Pablo Villanueva\"\n",
    "name2 = \"Villanueva Juan Pablo\"\n",
    "\n",
    "print(fuzz.ratio(name1.lower(),name2.lower()))\n",
    "print(fuzz.partial_ratio(name1.lower(),name2.lower()))\n",
    "\n",
    "fuzz.token_sort_ratio(name1.lower(),name2.lower())"
   ]
  },
  {
   "cell_type": "code",
   "execution_count": 43,
   "id": "65c0077d",
   "metadata": {},
   "outputs": [
    {
     "name": "stdout",
     "output_type": "stream",
     "text": [
      "47\n",
      "67\n",
      "71\n",
      "100\n"
     ]
    }
   ],
   "source": [
    "# Caso4: Repitición de palabras\n",
    "\n",
    "name1 = \"Juan Pablo Villanueva\"\n",
    "name2 = \"Villanueva Villanueva Juan Pablo PABLO\"\n",
    "\n",
    "print(fuzz.ratio(name1.lower(),name2.lower()))\n",
    "print(fuzz.partial_ratio(name1.lower(),name2.lower()))\n",
    "print( fuzz.token_sort_ratio(name1.lower(),name2.lower()) )\n",
    "\n",
    "print( fuzz.token_set_ratio(name1.lower(),name2.lower()) )"
   ]
  },
  {
   "cell_type": "code",
   "execution_count": 139,
   "id": "833baedb",
   "metadata": {},
   "outputs": [
    {
     "name": "stdout",
     "output_type": "stream",
     "text": [
      "68\n",
      "52\n",
      "47\n",
      "47\n"
     ]
    }
   ],
   "source": [
    "name1 = \"Juan Pablo Villanueva\"\n",
    "name3 = \"JuUan Po..%?+ 435, illanuevA$\"\n",
    "\n",
    "print(fuzz.ratio(name1.lower(),name3.lower()))\n",
    "print(fuzz.partial_ratio(name1,name3))\n",
    "print( fuzz.token_sort_ratio(name1,name3))\n",
    "print( fuzz.token_set_ratio(name1,  name3 ) )"
   ]
  },
  {
   "cell_type": "code",
   "execution_count": 138,
   "id": "7d1e4cf9",
   "metadata": {},
   "outputs": [],
   "source": [
    "# Comparación \n",
    "\n"
   ]
  }
 ],
 "metadata": {
  "kernelspec": {
   "display_name": "Python 3 (ipykernel)",
   "language": "python",
   "name": "python3"
  },
  "language_info": {
   "codemirror_mode": {
    "name": "ipython",
    "version": 3
   },
   "file_extension": ".py",
   "mimetype": "text/x-python",
   "name": "python",
   "nbconvert_exporter": "python",
   "pygments_lexer": "ipython3",
   "version": "3.9.7"
  }
 },
 "nbformat": 4,
 "nbformat_minor": 5
}
