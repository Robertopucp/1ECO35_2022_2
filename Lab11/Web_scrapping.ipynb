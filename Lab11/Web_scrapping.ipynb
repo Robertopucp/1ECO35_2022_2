{
 "cells": [
  {
   "cell_type": "code",
   "execution_count": 2,
   "metadata": {},
   "outputs": [
    {
     "data": {
      "text/html": [
       "\n",
       "<style>\n",
       "    div#notebook-container    { width: 85%; }\n",
       "    div#menubar-container     { width: 65%; }\n",
       "    div#maintoolbar-container { width: 80%; }a\n",
       "</style>\n"
      ],
      "text/plain": [
       "<IPython.core.display.HTML object>"
      ]
     },
     "metadata": {},
     "output_type": "display_data"
    }
   ],
   "source": [
    "from IPython.display import display, HTML\n",
    "\n",
    "display(HTML(data=\"\"\"\n",
    "<style>\n",
    "    div#notebook-container    { width: 85%; }\n",
    "    div#menubar-container     { width: 65%; }\n",
    "    div#maintoolbar-container { width: 80%; }a\n",
    "</style>\n",
    "\"\"\"))"
   ]
  },
  {
   "cell_type": "markdown",
   "metadata": {},
   "source": [
    "# 7. Web Scraping"
   ]
  },
  {
   "cell_type": "markdown",
   "metadata": {},
   "source": [
    "Web  scraping  is  the  practice  of  gathering  data  through  any  means  otherthan a program interacting with an API (or, obviously, through a human using a webbrowser).  This  is  most  commonly  accomplished  by  writing  an  automated  programthat queries a web server, requests data (usually in the form of the HTML and otherfiles  that  comprise  web  pages),  and  then  parses  that  data  to  extract  needed  information."
   ]
  },
  {
   "cell_type": "markdown",
   "metadata": {},
   "source": [
    "# 7.1 Selenium\n",
    "Selenium automates browsers. That's it! <br>\n",
    "Selenium is a Python library and tool used for automating web browsers to do a number of tasks. One of such is web-scraping to extract useful data and information that may be otherwise unavailable. <br>\n",
    "**For this course, we use Chrome.**"
   ]
  },
  {
   "cell_type": "markdown",
   "metadata": {},
   "source": [
    "## 7.1 Installing Libraries\n",
    "We need to install these two libraries"
   ]
  },
  {
   "cell_type": "code",
   "execution_count": 1,
   "metadata": {},
   "outputs": [],
   "source": [
    "#!pip install selenium\n",
    "#!pip install webdriver-manager"
   ]
  },
  {
   "cell_type": "markdown",
   "metadata": {},
   "source": [
    "- Libreria Selenium\n",
    "\n",
    "[LINK](https://www.selenium.dev/documentation/webdriver/interactions/)\n",
    "\n",
    "- url para conocer la versión de Chrome de su computadora \n",
    "\n",
    "chrome://version\n",
    "\n",
    "- Link para descaragar Chromedrive\n",
    "\n",
    "[LINK](https://chromedriver.chromium.org/downloads)"
   ]
  },
  {
   "cell_type": "markdown",
   "metadata": {},
   "source": [
    "## 7.2 Calling Libraries"
   ]
  },
  {
   "cell_type": "code",
   "execution_count": 188,
   "metadata": {},
   "outputs": [],
   "source": [
    "\n",
    "from selenium import webdriver  # manipulación de driver \n",
    "from webdriver_manager.chrome import ChromeDriverManager # manejar diferentes versiones del driver\n",
    "\n",
    "\n",
    "\n",
    "\n",
    "\n",
    "import re # expresiones regulares \n",
    "import time # time \n",
    "from selenium.webdriver.support.ui import Select  # Trabaja con el tag <select></select>\n",
    "import os\n",
    "import sys\n",
    "from selenium.webdriver.common.by import By  # permite seleccionar los elementos en un html\n",
    "import warnings\n",
    "warnings.filterwarnings('ignore') # eliminar warning messages \n",
    "\n",
    "from selenium.webdriver.common.keys import Keys  # ingresar información a la página web (nombres, fechas)\n",
    "from selenium.common.exceptions import NoSuchElementException\n",
    "from selenium.webdriver import ActionChains # movilizarnos en la página web \n",
    "import pandas as pd\n",
    "import numpy as np \n",
    "import unidecode  # usaremos para retirar tildes \n",
    "from tqdm import tqdm"
   ]
  },
  {
   "cell_type": "markdown",
   "metadata": {},
   "source": [
    "## Unicode \n",
    "\n",
    "<a> https://pypi.org/project/Unidecode/ </a> "
   ]
  },
  {
   "cell_type": "markdown",
   "metadata": {},
   "source": [
    "## 7.3 Launch/Set the Driver\n",
    "Este código abre un controlador Chrome. Lo vamos a usar para navegar en la web."
   ]
  },
  {
   "cell_type": "code",
   "execution_count": 268,
   "metadata": {},
   "outputs": [],
   "source": [
    "# Case 1 - Download the driver\n",
    "\n",
    "driver = webdriver.Chrome(\"chromedriver.exe\")\n",
    "driver.maximize_window()\n",
    "\n",
    "url = 'https://resultadoshistorico.onpe.gob.pe/EG2021/'\n",
    "\n",
    "driver.get( url ) # ingresar el url al browser "
   ]
  },
  {
   "cell_type": "markdown",
   "metadata": {},
   "source": [
    "## Chrome está siendo controlado por un software de prueba automatizado !!!"
   ]
  },
  {
   "cell_type": "code",
   "execution_count": 9,
   "metadata": {},
   "outputs": [
    {
     "name": "stdout",
     "output_type": "stream",
     "text": [
      "Title:  Presentación de Resultados Elecciones Generales y Parlamento Andino 2021\n"
     ]
    }
   ],
   "source": [
    "# Acceso al contenido del tag <title></title>\n",
    "print('Title: ', driver.title)"
   ]
  },
  {
   "cell_type": "code",
   "execution_count": 10,
   "metadata": {},
   "outputs": [
    {
     "name": "stdout",
     "output_type": "stream",
     "text": [
      "Current Page URL:  https://resultadoshistorico.onpe.gob.pe/EG2021/\n"
     ]
    }
   ],
   "source": [
    "# Access al url\n",
    "\n",
    "print('Current Page URL: ', driver.current_url)"
   ]
  },
  {
   "cell_type": "code",
   "execution_count": 12,
   "metadata": {},
   "outputs": [
    {
     "data": {
      "text/plain": [
       "True"
      ]
     },
     "execution_count": 12,
     "metadata": {},
     "output_type": "execute_result"
    }
   ],
   "source": [
    "# Screenshot \n",
    "driver.save_screenshot('resultados_presidenciales.png')"
   ]
  },
  {
   "cell_type": "code",
   "execution_count": 14,
   "metadata": {},
   "outputs": [
    {
     "data": {
      "text/plain": [
       "selenium.webdriver.chrome.webdriver.WebDriver"
      ]
     },
     "execution_count": 14,
     "metadata": {},
     "output_type": "execute_result"
    }
   ],
   "source": [
    "type(driver)"
   ]
  },
  {
   "cell_type": "code",
   "execution_count": 15,
   "metadata": {},
   "outputs": [
    {
     "data": {
      "text/plain": [
       "['__abstractmethods__',\n",
       " '__class__',\n",
       " '__delattr__',\n",
       " '__dict__',\n",
       " '__dir__',\n",
       " '__doc__',\n",
       " '__enter__',\n",
       " '__eq__',\n",
       " '__exit__',\n",
       " '__format__',\n",
       " '__ge__',\n",
       " '__getattribute__',\n",
       " '__gt__',\n",
       " '__hash__',\n",
       " '__init__',\n",
       " '__init_subclass__',\n",
       " '__le__',\n",
       " '__lt__',\n",
       " '__module__',\n",
       " '__ne__',\n",
       " '__new__',\n",
       " '__reduce__',\n",
       " '__reduce_ex__',\n",
       " '__repr__',\n",
       " '__setattr__',\n",
       " '__sizeof__',\n",
       " '__str__',\n",
       " '__subclasshook__',\n",
       " '__weakref__',\n",
       " '_abc_impl',\n",
       " '_authenticator_id',\n",
       " '_file_detector',\n",
       " '_get_cdp_details',\n",
       " '_is_remote',\n",
       " '_mobile',\n",
       " '_shadowroot_cls',\n",
       " '_switch_to',\n",
       " '_unwrap_value',\n",
       " '_web_element_cls',\n",
       " '_wrap_value',\n",
       " 'add_cookie',\n",
       " 'add_credential',\n",
       " 'add_virtual_authenticator',\n",
       " 'application_cache',\n",
       " 'back',\n",
       " 'bidi_connection',\n",
       " 'capabilities',\n",
       " 'caps',\n",
       " 'close',\n",
       " 'command_executor',\n",
       " 'create_options',\n",
       " 'create_web_element',\n",
       " 'current_url',\n",
       " 'current_window_handle',\n",
       " 'delete_all_cookies',\n",
       " 'delete_cookie',\n",
       " 'delete_network_conditions',\n",
       " 'desired_capabilities',\n",
       " 'error_handler',\n",
       " 'execute',\n",
       " 'execute_async_script',\n",
       " 'execute_cdp_cmd',\n",
       " 'execute_script',\n",
       " 'file_detector',\n",
       " 'file_detector_context',\n",
       " 'find_element',\n",
       " 'find_element_by_class_name',\n",
       " 'find_element_by_css_selector',\n",
       " 'find_element_by_id',\n",
       " 'find_element_by_link_text',\n",
       " 'find_element_by_name',\n",
       " 'find_element_by_partial_link_text',\n",
       " 'find_element_by_tag_name',\n",
       " 'find_element_by_xpath',\n",
       " 'find_elements',\n",
       " 'find_elements_by_class_name',\n",
       " 'find_elements_by_css_selector',\n",
       " 'find_elements_by_id',\n",
       " 'find_elements_by_link_text',\n",
       " 'find_elements_by_name',\n",
       " 'find_elements_by_partial_link_text',\n",
       " 'find_elements_by_tag_name',\n",
       " 'find_elements_by_xpath',\n",
       " 'forward',\n",
       " 'fullscreen_window',\n",
       " 'get',\n",
       " 'get_cookie',\n",
       " 'get_cookies',\n",
       " 'get_credentials',\n",
       " 'get_issue_message',\n",
       " 'get_log',\n",
       " 'get_network_conditions',\n",
       " 'get_pinned_scripts',\n",
       " 'get_screenshot_as_base64',\n",
       " 'get_screenshot_as_file',\n",
       " 'get_screenshot_as_png',\n",
       " 'get_sinks',\n",
       " 'get_window_position',\n",
       " 'get_window_rect',\n",
       " 'get_window_size',\n",
       " 'implicitly_wait',\n",
       " 'launch_app',\n",
       " 'log_types',\n",
       " 'maximize_window',\n",
       " 'minimize_window',\n",
       " 'mobile',\n",
       " 'name',\n",
       " 'orientation',\n",
       " 'page_source',\n",
       " 'pin_script',\n",
       " 'pinned_scripts',\n",
       " 'port',\n",
       " 'print_page',\n",
       " 'quit',\n",
       " 'refresh',\n",
       " 'remove_all_credentials',\n",
       " 'remove_credential',\n",
       " 'remove_virtual_authenticator',\n",
       " 'save_screenshot',\n",
       " 'service',\n",
       " 'session_id',\n",
       " 'set_network_conditions',\n",
       " 'set_page_load_timeout',\n",
       " 'set_permissions',\n",
       " 'set_script_timeout',\n",
       " 'set_sink_to_use',\n",
       " 'set_user_verified',\n",
       " 'set_window_position',\n",
       " 'set_window_rect',\n",
       " 'set_window_size',\n",
       " 'start_client',\n",
       " 'start_desktop_mirroring',\n",
       " 'start_session',\n",
       " 'start_tab_mirroring',\n",
       " 'stop_casting',\n",
       " 'stop_client',\n",
       " 'switch_to',\n",
       " 'timeouts',\n",
       " 'title',\n",
       " 'unpin',\n",
       " 'vendor_prefix',\n",
       " 'virtual_authenticator_id',\n",
       " 'window_handles']"
      ]
     },
     "execution_count": 15,
     "metadata": {},
     "output_type": "execute_result"
    }
   ],
   "source": [
    "dir(driver) #observamos los métodos y atributos del objeto "
   ]
  },
  {
   "cell_type": "markdown",
   "metadata": {},
   "source": [
    "`driver` is an `selenium.webdriver.chrome.webdriver.WebDriver` object. This object has some attributes that will help us to navigate on the web."
   ]
  },
  {
   "cell_type": "markdown",
   "metadata": {},
   "source": [
    "### 7.4.1. HTML\n",
    "HTML stands for HyperText Markup Language. You can deduce that it’s a language for creating web pages. It’s not a programming language like Python or Java, but it’s a markup language. It describes the elements of a page through tags characterized by angle brackets.\n",
    "\n",
    "1. The document always begins and ends using `<html>` and `</html>`.\n",
    "2. `<body></body>` constitutes the visible part of HTML document.\n",
    "3. `<h1>` to `<h3>` tags are defined for the headings."
   ]
  },
  {
   "cell_type": "markdown",
   "metadata": {},
   "source": [
    "#### 7.4.1.1. HTML Headings\n",
    "HTML headings are defined with the `<h1>` to `<h6>` tags.\n",
    "`<h1>` defines the most important heading. `<h6>` defines the least important heading.\n",
    "\n",
    "We can use text cells since markdown reads html tags."
   ]
  },
  {
   "cell_type": "markdown",
   "metadata": {},
   "source": [
    "<h1>This is heading 1</h1>\n",
    "<h2>This is heading 2</h2>\n",
    "<h3>This is heading 3</h3>"
   ]
  },
  {
   "cell_type": "markdown",
   "metadata": {},
   "source": [
    "#### 7.4.1.2. HTML Paragraphs\n",
    "HTML paragraphs are defined with the `<p>` tag.\n",
    "`<br>` tag is similar to `\"\\n\"`."
   ]
  },
  {
   "cell_type": "markdown",
   "metadata": {},
   "source": [
    "<br>\n",
    "<p>My first paragraph.</p> <br>\n",
    "<p>This is another paragraph for this text cell.</p>"
   ]
  },
  {
   "cell_type": "markdown",
   "metadata": {},
   "source": [
    "#### 7.4.1.3. HTML Links\n",
    "HTML links are defined with the <a> tag:"
   ]
  },
  {
   "cell_type": "markdown",
   "metadata": {},
   "source": [
    "<a href=\"http://bayes.cs.ucla.edu/jp_home.html\">This is a link for Judea Pearl Website</a> "
   ]
  },
  {
   "cell_type": "markdown",
   "metadata": {},
   "source": [
    "#### 7.4.1.3. Unordered HTML List\n",
    "An unordered list starts with the `<ul>` tag. Each list item starts with the `<li>` tag."
   ]
  },
  {
   "cell_type": "markdown",
   "metadata": {},
   "source": [
    "<ul>\n",
    "  <li>Coffee</li>\n",
    "  <li>Tea</li>\n",
    "  <li>Milk</li>\n",
    "</ul>"
   ]
  },
  {
   "cell_type": "markdown",
   "metadata": {},
   "source": [
    "#### 7.4.1.4. Ordered HTML List\n",
    "An ordered list starts with the `<ol>` tag. Each list item starts with the `<li>` tag."
   ]
  },
  {
   "cell_type": "markdown",
   "metadata": {},
   "source": [
    "<ol>\n",
    "  <li>Coffee</li>\n",
    "  <li>Tea</li>\n",
    "  <li>Milk</li>\n",
    "</ol>"
   ]
  },
  {
   "cell_type": "markdown",
   "metadata": {},
   "source": [
    "#### 7.4.1.4. HTML Tables\n",
    "\n",
    "A table in HTML consists of table cells inside rows and columns. Each table cell is defined by a `<td>` and a `</td>` tag. Each table row starts with a `<tr>` and end with a `</tr>` tag."
   ]
  },
  {
   "cell_type": "markdown",
   "metadata": {},
   "source": [
    "<table>\n",
    "  <tr>\n",
    "    <th>Manager</th>\n",
    "    <th>Club</th>\n",
    "    <th>Nationality</th>\n",
    "  </tr>\n",
    "    \n",
    "  <tr>\n",
    "    <td>Mikel Arteta</td>\n",
    "    <td>Arsenal</td>\n",
    "    <td>Spain</td>\n",
    "  </tr>\n",
    "    \n",
    "  <tr>\n",
    "    <td>Thomas Tuchel</td>\n",
    "    <td>Chelsea</td>\n",
    "    <td>Germany</td>\n",
    "  </tr>\n",
    "</table>"
   ]
  },
  {
   "cell_type": "markdown",
   "metadata": {},
   "source": [
    "#### 7.4.1.5. HTML Iframes\n",
    "\n",
    "An HTML iframe is used to display a web page within a web page."
   ]
  },
  {
   "cell_type": "markdown",
   "metadata": {},
   "source": [
    "\n",
    "<!DOCTYPE html>\n",
    "<html>\n",
    "  \n",
    "<head>\n",
    "    <title>1.0 HTML adrres </title>\n",
    "</head>\n",
    "  \n",
    "<body> style=\"text-align: center\">\n",
    "    <h1>Diploma</h1>\n",
    "    <h2>HTML iframe</h2>\n",
    "   \n",
    "   <p> Add personal information </p> \n",
    "   \n",
    " <address>\n",
    "     \n",
    "Written by <a href=\"mailto:webmaster@example.com\">Jon Doe</a>.<br> \n",
    "Visit us at:<br>\n",
    "Example.com<br>\n",
    "Box 564, Disneyland<br>\n",
    "USA\n",
    "</address>\n",
    "    \n",
    "</body>\n",
    "  \n",
    "</html>"
   ]
  },
  {
   "cell_type": "markdown",
   "metadata": {},
   "source": [
    "<!DOCTYPE html>\n",
    "<html>\n",
    "<head>\n",
    "<style>\n",
    "table, th, td {\n",
    "  border: 1px solid black;\n",
    "}\n",
    "</style>\n",
    "</head>\n",
    "<body>\n",
    "\n",
    "<h1>2.0 The td element</h1>\n",
    "\n",
    "<p>The td element defines a cell in a table:</p>\n",
    "\n",
    "<table>\n",
    "  <tr>\n",
    "    <td>Cell A</td>\n",
    "    <td>Cell B</td>\n",
    "  </tr>\n",
    "  <tr>\n",
    "    <td>Cell C</td>\n",
    "    <td>Cell D</td>\n",
    "  </tr>\n",
    "</table>\n",
    "\n",
    "</body>\n",
    "</html>\n"
   ]
  },
  {
   "cell_type": "markdown",
   "metadata": {},
   "source": [
    "<!DOCTYPE html>\n",
    "<html>\n",
    "<body>\n",
    "\n",
    "<h1>3.0 Bottom </h1>\n",
    "\n",
    "<p>Click the button below to display the hidden content from the template element.</p>\n",
    "\n",
    "<button onclick=\"showContent()\">Click here</button>\n",
    "\n"
   ]
  },
  {
   "cell_type": "markdown",
   "metadata": {},
   "source": [
    "<!DOCTYPE html>\n",
    "<html>\n",
    "<body>\n",
    "\n",
    "<h1>4.0 The form element</h1>\n",
    "\n",
    "<form action=\"/action_page.php\">\n",
    "  <label for=\"fname\">First name:</label>\n",
    "  <input type=\"text\" id=\"fname\" name=\"fname\"><br><br>\n",
    "  <label for=\"lname\">Last name:</label>\n",
    "  <input type=\"text\" id=\"lname\" name=\"lname\"><br><br>\n",
    "  <button onclick=\"showContent()\">Submit</button>\n",
    "</form>\n",
    "\n",
    "<p>Click the \"Submit\" button and the form-data will be sent to a page on the \n",
    "server called \"action_page.php\".</p>\n",
    "\n",
    "</body>\n",
    "</html>\n"
   ]
  },
  {
   "cell_type": "markdown",
   "metadata": {},
   "source": [
    "<!DOCTYPE html>\n",
    "<html>\n",
    "<body>\n",
    "\n",
    "<h1> 5.0 The label element</h1>\n",
    "\n",
    "<p>Click on one of the text labels to toggle the related radio button:</p>\n",
    "\n",
    "<form action=\"/action_page.php\">\n",
    "  <input type=\"radio\" id=\"html\" name=\"fav_language\" value=\"HTML\">\n",
    "  <label for=\"html\">HTML</label><br>\n",
    "  <input type=\"radio\" id=\"css\" name=\"fav_language\" value=\"CSS\">\n",
    "  <label for=\"css\">CSS</label><br>\n",
    "  <input type=\"radio\" id=\"javascript\" name=\"fav_language\" value=\"JavaScript\">\n",
    "  <label for=\"javascript\">JavaScript</label><br><br>\n",
    "\n",
    "  <button onclick=\"showContent()\">Submit</button>\n",
    "    \n",
    "</form>\n",
    "\n",
    "</body>\n",
    "</html>\n"
   ]
  },
  {
   "cell_type": "markdown",
   "metadata": {},
   "source": [
    "<!DOCTYPE html>\n",
    "<html>\n",
    "<body>\n",
    "\n",
    "<h1>6.0 The select element</h1>\n",
    "\n",
    "<p>The select element is used to create a drop-down list.</p>\n",
    "\n",
    "<form action=\"/action_page.php\">\n",
    "  <label for=\"cars\">Choose a car:</label>\n",
    "  <select name=\"cars\" id=\"cars\">\n",
    "    <option value=\"volvo\">Volvo</option>\n",
    "    <option value=\"saab\">Saab</option>\n",
    "    <option value=\"opel\">Opel</option>\n",
    "    <option value=\"audi\">Audi</option>\n",
    "  </select>\n",
    "  <br><br>\n",
    "</form>\n",
    "\n",
    "<button onclick=\"showContent()\">Show hidden content</button>\n",
    "    \n",
    "<p>Click the \"Submit\" button and the form-data will be sent to a page on the \n",
    "server called \"action_page.php\".</p>\n",
    "\n",
    "</body>\n",
    "</html>"
   ]
  },
  {
   "cell_type": "markdown",
   "metadata": {},
   "source": [
    "<!DOCTYPE html>\n",
    "<html>\n",
    " \n",
    "<h1>7.0 Class atribute</h1>    \n",
    "    \n",
    "<head>\n",
    "    <style>\n",
    "        .country {\n",
    "            background-color: black;\n",
    "            color: white;\n",
    "            padding: 8px;\n",
    "        }\n",
    "    </style>\n",
    "</head>\n",
    " \n",
    "<body>\n",
    " \n",
    "<h2 class=\"country\">CHINA</h2>\n",
    "     \n",
    "<p>China has the largest population\n",
    "       in the world.</p>\n",
    " \n",
    " \n",
    "<h2 class=\"country\">INDIA</h2>\n",
    "     \n",
    "<p>India has the second largest\n",
    "       population in the world.</p>\n",
    " \n",
    " \n",
    "<h2 class=\"country\">UNITED STATES</h2>\n",
    "     \n",
    "<p>United States has the third largest\n",
    "       population in the world.</p>\n",
    " \n",
    " \n",
    "</body>\n",
    " \n",
    "</html>\n"
   ]
  },
  {
   "cell_type": "markdown",
   "metadata": {},
   "source": [
    "<!DOCTYPE html>\n",
    "<html>\n",
    "    \n",
    "<h1> 8.0 Style</h1>   \n",
    "    \n",
    "<head>\n",
    "<style>\n",
    "h1 {color:red;}\n",
    "p {color:blue;}\n",
    "</style>\n",
    "</head>\n",
    "<body>\n",
    "\n",
    "<h1>This is a heading</h1>\n",
    "<p>This is a paragraph.</p>\n",
    "\n",
    "</body>\n",
    "</html>\n"
   ]
  },
  {
   "cell_type": "markdown",
   "metadata": {},
   "source": [
    "<!DOCTYPE html>\n",
    "<html>\n",
    "<head>\n",
    "<style>\n",
    "#myHeader {\n",
    "  background-color: lightblue;\n",
    "  color: black;\n",
    "  padding: 40px;\n",
    "  text-align: center;\n",
    "} \n",
    "</style>\n",
    "</head>\n",
    "<body>\n",
    "\n",
    "<h2> 9.0 The id Attribute</h2>\n",
    "<p>Use CSS to style an element with the id \"myHeader\":</p>\n",
    "\n",
    "<h1 id=\"myHeader\">My Header</h1>\n",
    "\n",
    "</body>\n",
    "</html>\n",
    "\n"
   ]
  },
  {
   "cell_type": "markdown",
   "metadata": {},
   "source": [
    "<html>\n",
    "<head>\n",
    "    \n",
    "<h1> 10.0 Div tagname </h1>   \n",
    "    \n",
    "<style>\n",
    ".myDiv {\n",
    "  border: 5px outset red;\n",
    "  background-color: lightblue;\n",
    "  text-align: center;\n",
    "}\n",
    "</style>\n",
    "</head>\n",
    "<body>\n",
    "\n",
    "<div class=\"myDiv\">\n",
    "  <h2>This is a heading in a div element</h2>\n",
    "  <p>This is some text in a div element.</p>\n",
    "</div>\n",
    "\n",
    "</body>\n",
    "</html>"
   ]
  },
  {
   "cell_type": "markdown",
   "metadata": {},
   "source": [
    "#### 7.4.1.6. HTML Tags - Key"
   ]
  },
  {
   "cell_type": "markdown",
   "metadata": {},
   "source": [
    "|Tag|Description|\n",
    "|---|---|\n",
    "|`<h1>` to `<h6>`|\tDefines HTML headings|\n",
    "|`<ul>`|\tDefines an unordered list|\n",
    "|`<ol>`|\tDefines an ordered list|\n",
    "|`<p>`|\tDefines a paragraph|\n",
    "|`<a>`|\tIt is termed as anchor tag and it creates a hyperlink or link.|\n",
    "|`<div>`|\tIt defines a division or section within HTML document.|\n",
    "|`<strong>`|\tIt is used to define important text.|\n",
    "|`<table>`|\tIt is used to present data in tabular form or to create a table within HTML document.|\n",
    "|`<td>`|\tIt is used to define cells of an HTML table which contains table data|\n",
    "|`<iframe>`|\tDefines an inline frame|"
   ]
  },
  {
   "cell_type": "markdown",
   "metadata": {},
   "source": [
    "### 7.4. Identifying elements in a web page\n",
    "\n",
    "To identify elements of a webpage, we need to inspect the webpage. Open the driver and press `Ctrl`+ `Shift` + `I`."
   ]
  },
  {
   "cell_type": "markdown",
   "metadata": {},
   "source": [
    "#### One Element\n",
    "|Method|Description|\n",
    "|---|---|\n",
    "|find_element_by_id| Use id.|\n",
    "|find_element_by_name| Use name.|\n",
    "|find_element_by_xpath| Use Xpath.|\n",
    "|find_element_by_tag_name| Use HTML tag.|\n",
    "|find_element_by_class_name| Use class name.|\n",
    "|find_element_by_css_selector| Use css selector.|"
   ]
  },
  {
   "cell_type": "markdown",
   "metadata": {},
   "source": [
    "#### Multiple  elements\n",
    "|Method|Description|\n",
    "|---|---|\n",
    "|find_elements_by_id| Use id.|\n",
    "|find_elements_by_name| Use name.|\n",
    "|find_elements_by_xpath| Use Xpath.|\n",
    "|find_elements_by_tag_name| Use HTML tag.|\n",
    "|find_elements_by_class_name| Use class name.|\n",
    "|find_elements_by_css_selector| Use css selector.|"
   ]
  },
  {
   "cell_type": "markdown",
   "metadata": {},
   "source": [
    "### 7.4.1. Xpath\n",
    "XPath in Selenium is an XML path used for navigation through the HTML structure of the page. It is a syntax or language for finding any element on a web page using XML path expression.\n",
    "\n",
    "The basic format of XPath in selenium is explained below with screen shot.\n",
    "<img src=\"../../_images/x_path.png\">"
   ]
  },
  {
   "cell_type": "markdown",
   "metadata": {},
   "source": [
    "**DO NOT COMPLICATE!**\n",
    "Finding the XPath of a element:\n",
    "1. Go to the element\n",
    "2. Right click\n",
    "3. Inspect - You may have to do it twice.\n",
    "4. Go to the selected line\n",
    "5. Right click\n",
    "7. Copy \n",
    "8. Copy Full Xpath"
   ]
  },
  {
   "cell_type": "markdown",
   "metadata": {},
   "source": [
    "**Example**\n",
    "\n",
    "Use `find_element_by_xpath` and click."
   ]
  },
  {
   "cell_type": "markdown",
   "metadata": {},
   "source": [
    "### <a id='2.'>1.0. Uso de path completo (FULL PATH) para encontrar elementos HTML </a> "
   ]
  },
  {
   "cell_type": "code",
   "execution_count": 235,
   "metadata": {},
   "outputs": [],
   "source": [
    "driver = webdriver.Chrome(\"chromedriver.exe\")\n",
    "driver.maximize_window()\n",
    "\n",
    "url = 'https://resultadoshistorico.onpe.gob.pe/EG2021/'\n",
    "\n",
    "driver.get( url ) # ingresar el url al browser "
   ]
  },
  {
   "cell_type": "code",
   "execution_count": 236,
   "metadata": {},
   "outputs": [],
   "source": [
    "\n",
    "time.sleep(4) # tiempo de espera\n",
    "\n",
    "driver.refresh() #reload or refresh the browser"
   ]
  },
  {
   "cell_type": "markdown",
   "metadata": {},
   "source": [
    "### Me interesa hacer click en la opción de Resumen general \n",
    "\n",
    "- Para ello hago click derecho y selecciono inspeccionar (Hacer click dos veces)\n",
    "- Luego identifcar el elemento HTML corrrespondiente a la image. Click derecho y copiar el path y Listo. "
   ]
  },
  {
   "cell_type": "code",
   "execution_count": 66,
   "metadata": {
    "scrolled": true
   },
   "outputs": [],
   "source": [
    "# Elegimos la imagen de resumen general \n",
    "\n",
    "results = driver.find_element_by_xpath('/html/body/onpe-root/onpe-home-onpe/div[1]/div/div/div/div[2]/div[1]/div/div/a/div[1]/img')"
   ]
  },
  {
   "cell_type": "code",
   "execution_count": 67,
   "metadata": {},
   "outputs": [],
   "source": [
    "# click en la imagen \n",
    "results.click()"
   ]
  },
  {
   "cell_type": "code",
   "execution_count": 68,
   "metadata": {},
   "outputs": [],
   "source": [
    "time.sleep(4) # tiempo de espera\n",
    "driver.back() # retroceder"
   ]
  },
  {
   "cell_type": "markdown",
   "metadata": {},
   "source": [
    "#### Full Xpath extenso es sensible a cambios, por ello es preferible otros métodos "
   ]
  },
  {
   "cell_type": "markdown",
   "metadata": {},
   "source": [
    "### <a id='1.'>1.1. Usando Relative path (Xpath)</a> "
   ]
  },
  {
   "cell_type": "markdown",
   "metadata": {},
   "source": [
    "## Class es el atributo más común de un elemento html \n",
    "\n",
    "- class asigna diseño (letra, color, tamaño, forma, espacios, etc) \n",
    "- Recuerde que el propósito es encontrar la forma de identificar al elemento html.\n",
    "- No obsatante, más de un elemento html pueden compartir los mismos diseños, lo cual hara compliado identificar el elemento HTML. \n",
    "- Recuerde que HTML no es un pseudocódigo de programción como python o R, sino solo entrega el diseño de la página web. \n"
   ]
  },
  {
   "cell_type": "code",
   "execution_count": 69,
   "metadata": {},
   "outputs": [],
   "source": [
    "# veamos cuantos html tiene el diseño class = \"pci\"\n",
    "# Para ello debemos usar by que nos permite hallar elementos html"
   ]
  },
  {
   "cell_type": "code",
   "execution_count": null,
   "metadata": {},
   "outputs": [],
   "source": [
    "### El elemento del icono de Resumen General \n",
    "\n",
    "<div _ngcontent-ejv-c64=\"\" class=\"pic\">\n",
    "<img _ngcontent-ejv-c64=\"\" src=\"./assets/imagenes/resumen_general.jpg\">  # inner html \n",
    "</div>\n"
   ]
  },
  {
   "cell_type": "markdown",
   "metadata": {},
   "source": [
    "### 7.4.1. Xpath\n",
    "XPath in Selenium is an XML path used for navigation through the HTML structure of the page. It is a syntax or language for finding any element on a web page using XML path expression.\n",
    "\n",
    "The basic format of XPath in selenium is explained below with screen shot.\n",
    "<img src=\"../_images/x_path.png\">"
   ]
  },
  {
   "cell_type": "markdown",
   "metadata": {},
   "source": [
    "- 1. El tag es div \n",
    "- nombre del atributo: class\n",
    "- valor del atributo: pic\n",
    "\n",
    "### El xpath resulta \"//div[@class = 'pic']\"\n",
    "\n",
    "# No osbante habrá otros elementos html con el mismo atributo class = \"pic\"\n",
    "# Esperemos que no sino hará más complicado identificar el elemento html"
   ]
  },
  {
   "cell_type": "code",
   "execution_count": 237,
   "metadata": {},
   "outputs": [],
   "source": [
    "# Usaremos el método find_element del objeto driver que hemos definido para el browser \n",
    "\n",
    "opciones = driver.find_elements(By.XPATH, \"//div[@class='pic']\")\n",
    "\n",
    "# Observe que es el resultado es una lista "
   ]
  },
  {
   "cell_type": "code",
   "execution_count": 238,
   "metadata": {},
   "outputs": [
    {
     "data": {
      "text/plain": [
       "[<selenium.webdriver.remote.webelement.WebElement (session=\"b5a230f4c5749e1bf5a18a8c61b67008\", element=\"f8b9c79f-8b08-4f79-9bc8-6c5dcf5d2f0d\")>,\n",
       " <selenium.webdriver.remote.webelement.WebElement (session=\"b5a230f4c5749e1bf5a18a8c61b67008\", element=\"bb5065e5-920c-4ebb-bdf7-51ffc77120fb\")>,\n",
       " <selenium.webdriver.remote.webelement.WebElement (session=\"b5a230f4c5749e1bf5a18a8c61b67008\", element=\"77416960-49bb-4627-ab8a-0956dde2f8e9\")>,\n",
       " <selenium.webdriver.remote.webelement.WebElement (session=\"b5a230f4c5749e1bf5a18a8c61b67008\", element=\"0ff6a22e-3750-4a8d-badc-8845b2bcec99\")>,\n",
       " <selenium.webdriver.remote.webelement.WebElement (session=\"b5a230f4c5749e1bf5a18a8c61b67008\", element=\"a6bcc2ee-67a6-4f9e-b7d8-92d9fce8c3d2\")>,\n",
       " <selenium.webdriver.remote.webelement.WebElement (session=\"b5a230f4c5749e1bf5a18a8c61b67008\", element=\"33e61681-5f48-4d0a-8773-104c775dd4dd\")>]"
      ]
     },
     "execution_count": 238,
     "metadata": {},
     "output_type": "execute_result"
    }
   ],
   "source": [
    "opciones"
   ]
  },
  {
   "cell_type": "markdown",
   "metadata": {},
   "source": [
    "# !!! No tenemos 6 elementos html con las mismos atributos \n",
    "# Estas son las 6 opciones cuadros de imagen \n",
    "### Entonces debe tener cuidado y elegir el elemento que me interesa. En este ejemplo la opción inicial de Resumen general "
   ]
  },
  {
   "cell_type": "code",
   "execution_count": 141,
   "metadata": {},
   "outputs": [
    {
     "data": {
      "text/plain": [
       "['__abstractmethods__',\n",
       " '__class__',\n",
       " '__delattr__',\n",
       " '__dict__',\n",
       " '__dir__',\n",
       " '__doc__',\n",
       " '__eq__',\n",
       " '__format__',\n",
       " '__ge__',\n",
       " '__getattribute__',\n",
       " '__gt__',\n",
       " '__hash__',\n",
       " '__init__',\n",
       " '__init_subclass__',\n",
       " '__le__',\n",
       " '__lt__',\n",
       " '__module__',\n",
       " '__ne__',\n",
       " '__new__',\n",
       " '__reduce__',\n",
       " '__reduce_ex__',\n",
       " '__repr__',\n",
       " '__setattr__',\n",
       " '__sizeof__',\n",
       " '__str__',\n",
       " '__subclasshook__',\n",
       " '__weakref__',\n",
       " '_abc_impl',\n",
       " '_execute',\n",
       " '_id',\n",
       " '_parent',\n",
       " '_upload',\n",
       " 'accessible_name',\n",
       " 'aria_role',\n",
       " 'clear',\n",
       " 'click',\n",
       " 'find_element',\n",
       " 'find_element_by_class_name',\n",
       " 'find_element_by_css_selector',\n",
       " 'find_element_by_id',\n",
       " 'find_element_by_link_text',\n",
       " 'find_element_by_name',\n",
       " 'find_element_by_partial_link_text',\n",
       " 'find_element_by_tag_name',\n",
       " 'find_element_by_xpath',\n",
       " 'find_elements',\n",
       " 'find_elements_by_class_name',\n",
       " 'find_elements_by_css_selector',\n",
       " 'find_elements_by_id',\n",
       " 'find_elements_by_link_text',\n",
       " 'find_elements_by_name',\n",
       " 'find_elements_by_partial_link_text',\n",
       " 'find_elements_by_tag_name',\n",
       " 'find_elements_by_xpath',\n",
       " 'get_attribute',\n",
       " 'get_dom_attribute',\n",
       " 'get_property',\n",
       " 'id',\n",
       " 'is_displayed',\n",
       " 'is_enabled',\n",
       " 'is_selected',\n",
       " 'location',\n",
       " 'location_once_scrolled_into_view',\n",
       " 'parent',\n",
       " 'rect',\n",
       " 'screenshot',\n",
       " 'screenshot_as_base64',\n",
       " 'screenshot_as_png',\n",
       " 'send_keys',\n",
       " 'shadow_root',\n",
       " 'size',\n",
       " 'submit',\n",
       " 'tag_name',\n",
       " 'text',\n",
       " 'value_of_css_property']"
      ]
     },
     "execution_count": 141,
     "metadata": {},
     "output_type": "execute_result"
    }
   ],
   "source": [
    "# elegimos el primer elemento dela lista\n",
    "\n",
    "dir(opciones[0] ) # podemos observar los atributos y métodos "
   ]
  },
  {
   "cell_type": "code",
   "execution_count": 142,
   "metadata": {},
   "outputs": [
    {
     "data": {
      "text/plain": [
       "''"
      ]
     },
     "execution_count": 142,
     "metadata": {},
     "output_type": "execute_result"
    }
   ],
   "source": [
    "# exploremos sus atributos \n",
    "\n",
    "opciones[0].text # No hay texto "
   ]
  },
  {
   "cell_type": "code",
   "execution_count": 143,
   "metadata": {},
   "outputs": [
    {
     "data": {
      "text/plain": [
       "'div'"
      ]
     },
     "execution_count": 143,
     "metadata": {},
     "output_type": "execute_result"
    }
   ],
   "source": [
    "opciones[0].tag_name # exgraemos el nombre del tag usado para referenciar el elemento html"
   ]
  },
  {
   "cell_type": "code",
   "execution_count": 144,
   "metadata": {},
   "outputs": [
    {
     "data": {
      "text/plain": [
       "{'height': 119, 'width': 230}"
      ]
     },
     "execution_count": 144,
     "metadata": {},
     "output_type": "execute_result"
    }
   ],
   "source": [
    "opciones[0].size  # tamaño (largo y ancho del elemento div)"
   ]
  },
  {
   "cell_type": "code",
   "execution_count": 145,
   "metadata": {},
   "outputs": [
    {
     "data": {
      "text/plain": [
       "{'x': 210, 'y': 390}"
      ]
     },
     "execution_count": 145,
     "metadata": {},
     "output_type": "execute_result"
    }
   ],
   "source": [
    "opciones[0].location  # ubocación en terminos de coordenadas "
   ]
  },
  {
   "cell_type": "code",
   "execution_count": 146,
   "metadata": {
    "scrolled": true
   },
   "outputs": [
    {
     "data": {
      "text/plain": [
       "{'height': 119, 'width': 230, 'x': 209.87265014648438, 'y': 389.8302001953125}"
      ]
     },
     "execution_count": 146,
     "metadata": {},
     "output_type": "execute_result"
    }
   ],
   "source": [
    "opciones[0].rect  # ancho, largo y coordenadas "
   ]
  },
  {
   "cell_type": "code",
   "execution_count": 126,
   "metadata": {},
   "outputs": [
    {
     "data": {
      "text/plain": [
       "''"
      ]
     },
     "execution_count": 126,
     "metadata": {},
     "output_type": "execute_result"
    }
   ],
   "source": [
    "opciones[0].value_of_css_property"
   ]
  },
  {
   "cell_type": "code",
   "execution_count": 147,
   "metadata": {},
   "outputs": [
    {
     "data": {
      "text/plain": [
       "'<img _ngcontent-ejv-c64=\"\" src=\"./assets/imagenes/resumen_general.jpg\">'"
      ]
     },
     "execution_count": 147,
     "metadata": {},
     "output_type": "execute_result"
    }
   ],
   "source": [
    "opciones[0].get_attribute('innerHTML')  # devuelve lo que contiene el tag div "
   ]
  },
  {
   "cell_type": "code",
   "execution_count": 154,
   "metadata": {},
   "outputs": [
    {
     "name": "stdout",
     "output_type": "stream",
     "text": [
      "\n",
      "None\n",
      "None\n",
      "pic\n"
     ]
    }
   ],
   "source": [
    "print(opciones[0].get_attribute('id')) # No hau un identificador unico (id es un atributo que permite identificar un elemento html)\n",
    "print(opciones[0].get_attribute('name'))\n",
    "print(opciones[0].get_attribute('value'))\n",
    "print(opciones[0].get_attribute('class')) # value del atributo classs"
   ]
  },
  {
   "cell_type": "code",
   "execution_count": 239,
   "metadata": {},
   "outputs": [],
   "source": [
    "# Apliquemos el método Click en la opción de resultados presidenciales \n",
    "\n",
    "opciones[1].click()"
   ]
  },
  {
   "cell_type": "markdown",
   "metadata": {},
   "source": [
    "![Web Element](../_images/Web_Elementpng.png)"
   ]
  },
  {
   "cell_type": "markdown",
   "metadata": {},
   "source": [
    "### Seleccionamos el ámbito. Este tiene 3 alternativas: TODOS, PERU Y EXTRANJERO \n",
    "\n"
   ]
  },
  {
   "cell_type": "code",
   "execution_count": 111,
   "metadata": {},
   "outputs": [
    {
     "ename": "SyntaxError",
     "evalue": "invalid syntax (1181864698.py, line 8)",
     "output_type": "error",
     "traceback": [
      "\u001b[1;36m  Input \u001b[1;32mIn [111]\u001b[1;36m\u001b[0m\n\u001b[1;33m    //*[@id=\"select_ambito\"]\u001b[0m\n\u001b[1;37m    ^\u001b[0m\n\u001b[1;31mSyntaxError\u001b[0m\u001b[1;31m:\u001b[0m invalid syntax\n"
     ]
    }
   ],
   "source": [
    "# Full path\n",
    "\n",
    "/html/body/onpe-root/onpe-layout-container/onpe-onpe-rgen-rsgr/div/div[2]/div[1]/div[1]/div/div/div/select\n",
    "\n",
    "\n",
    "# Relative path\n",
    "\n",
    "//*[@id=\"select_ambito\"]\n",
    "\n",
    "# EUREKA: select ambito tiene in ID (identificado único), podremos unicar a este elemento con su identificador"
   ]
  },
  {
   "cell_type": "code",
   "execution_count": null,
   "metadata": {},
   "outputs": [],
   "source": [
    "<select _ngcontent-ejv-c105=\"\" id=\"select_ambito\" name=\"cod_ambito\" class=\"select_ubigeo ng-pristine ng-valid ng-touched\">\n",
    "<option _ngcontent-ejv-c105=\"\" value=\"T\">TODOS</option>\n",
    "<option _ngcontent-ejv-c105=\"\" value=\"P\">PERÚ</option>\n",
    "<option _ngcontent-ejv-c105=\"\" value=\"E\">EXTRANJERO</option>\n",
    "<!---->\n",
    "</select>\n",
    "\n",
    "# Los atributos son id, name, classs y value dentro de cada opción "
   ]
  },
  {
   "cell_type": "code",
   "execution_count": 240,
   "metadata": {},
   "outputs": [
    {
     "data": {
      "text/plain": [
       "<selenium.webdriver.remote.webelement.WebElement (session=\"b5a230f4c5749e1bf5a18a8c61b67008\", element=\"4471d3fd-f687-4413-980a-e3e4666ca990\")>"
      ]
     },
     "execution_count": 240,
     "metadata": {},
     "output_type": "execute_result"
    }
   ],
   "source": [
    "# Examenos si tiene atributos que hagan al tag <select></select> unico\n",
    "\n",
    "#  \"//select[@name='cod_ambito']\"\n",
    "\n",
    "driver.find_elements(By.XPATH, \"//select[@name='cod_ambito']\") \n",
    "\n",
    "\n",
    "# !!! Perfecto, tambien pudo identficar al elemento select por al atributo nombre\n",
    "# Usemos entonces solo find_element\n",
    "driver.find_element(By.XPATH, \"//select[@name='cod_ambito']\") \n",
    "\n",
    "# Alternativas \n",
    "\n",
    "# podemos usar by.NAME en este caso \n",
    "driver.find_element(By.NAME, \"cod_ambito\") "
   ]
  },
  {
   "cell_type": "code",
   "execution_count": 241,
   "metadata": {},
   "outputs": [
    {
     "data": {
      "text/plain": [
       "<selenium.webdriver.remote.webelement.WebElement (session=\"b5a230f4c5749e1bf5a18a8c61b67008\", element=\"4471d3fd-f687-4413-980a-e3e4666ca990\")>"
      ]
     },
     "execution_count": 241,
     "metadata": {},
     "output_type": "execute_result"
    }
   ],
   "source": [
    "driver.find_elements(By.CLASS_NAME, \"select_ubigeo\") \n",
    "\n",
    "# Si deseas usar By.CLASS_NAME solo usar el primer nombre no todo el texto \n",
    "\n",
    "driver.find_element(By.CLASS_NAME, \"select_ubigeo\") # es unico"
   ]
  },
  {
   "cell_type": "code",
   "execution_count": 242,
   "metadata": {
    "scrolled": true
   },
   "outputs": [
    {
     "data": {
      "text/plain": [
       "[<selenium.webdriver.remote.webelement.WebElement (session=\"b5a230f4c5749e1bf5a18a8c61b67008\", element=\"f2c35b31-ee80-4429-a907-04a70c11669a\")>,\n",
       " <selenium.webdriver.remote.webelement.WebElement (session=\"b5a230f4c5749e1bf5a18a8c61b67008\", element=\"ffa9c82c-56a2-4be2-9491-e237212c89e5\")>,\n",
       " <selenium.webdriver.remote.webelement.WebElement (session=\"b5a230f4c5749e1bf5a18a8c61b67008\", element=\"4f456b44-9804-414c-8b0a-b670aad5d249\")>,\n",
       " <selenium.webdriver.remote.webelement.WebElement (session=\"b5a230f4c5749e1bf5a18a8c61b67008\", element=\"90bd73c1-bd05-4c43-b478-486249b98b79\")>,\n",
       " <selenium.webdriver.remote.webelement.WebElement (session=\"b5a230f4c5749e1bf5a18a8c61b67008\", element=\"1f6c39d9-96f3-4a82-9f85-89148f9ce633\")>,\n",
       " <selenium.webdriver.remote.webelement.WebElement (session=\"b5a230f4c5749e1bf5a18a8c61b67008\", element=\"cf1a0068-0fe6-4266-8acc-3fcf676ddcae\")>,\n",
       " <selenium.webdriver.remote.webelement.WebElement (session=\"b5a230f4c5749e1bf5a18a8c61b67008\", element=\"7fd25db2-cbc8-4ee4-b348-87e0ba7b982d\")>,\n",
       " <selenium.webdriver.remote.webelement.WebElement (session=\"b5a230f4c5749e1bf5a18a8c61b67008\", element=\"1f558db5-4d4e-41fb-a9b8-0ff4d6ee61fe\")>,\n",
       " <selenium.webdriver.remote.webelement.WebElement (session=\"b5a230f4c5749e1bf5a18a8c61b67008\", element=\"158a1988-5045-442b-b76d-f32fc8a69c4d\")>,\n",
       " <selenium.webdriver.remote.webelement.WebElement (session=\"b5a230f4c5749e1bf5a18a8c61b67008\", element=\"31400c3b-c92e-4fda-ad8a-238f6903c6c7\")>,\n",
       " <selenium.webdriver.remote.webelement.WebElement (session=\"b5a230f4c5749e1bf5a18a8c61b67008\", element=\"986ef5b7-ef29-45ec-8a33-c759d915e2f4\")>]"
      ]
     },
     "execution_count": 242,
     "metadata": {},
     "output_type": "execute_result"
    }
   ],
   "source": [
    "driver.find_elements(By.CLASS_NAME, \"row\") # usamos el nombre del atributo class, tambien es unico"
   ]
  },
  {
   "cell_type": "code",
   "execution_count": 256,
   "metadata": {},
   "outputs": [],
   "source": [
    "# creamos el objeto de la lsita despegable \n",
    "\n",
    "bottom = driver.find_element(By.ID, 'select_ambito')"
   ]
  },
  {
   "cell_type": "code",
   "execution_count": 244,
   "metadata": {},
   "outputs": [
    {
     "data": {
      "text/plain": [
       "'TODOS\\nPERÚ\\nEXTRANJERO'"
      ]
     },
     "execution_count": 244,
     "metadata": {},
     "output_type": "execute_result"
    }
   ],
   "source": [
    "bottom.text  # las opciones "
   ]
  },
  {
   "cell_type": "code",
   "execution_count": 245,
   "metadata": {
    "scrolled": true
   },
   "outputs": [
    {
     "data": {
      "text/plain": [
       "'select'"
      ]
     },
     "execution_count": 245,
     "metadata": {},
     "output_type": "execute_result"
    }
   ],
   "source": [
    "bottom.tag_name"
   ]
  },
  {
   "cell_type": "code",
   "execution_count": 246,
   "metadata": {},
   "outputs": [
    {
     "data": {
      "text/plain": [
       "'<option _ngcontent-pyn-c101=\"\" value=\"T\">TODOS</option><option _ngcontent-pyn-c101=\"\" value=\"P\">PERÚ</option><option _ngcontent-pyn-c101=\"\" value=\"E\">EXTRANJERO</option><!---->'"
      ]
     },
     "execution_count": 246,
     "metadata": {},
     "output_type": "execute_result"
    }
   ],
   "source": [
    "bottom.get_attribute('innerHTML')  # inner html "
   ]
  },
  {
   "cell_type": "code",
   "execution_count": 247,
   "metadata": {},
   "outputs": [
    {
     "data": {
      "text/plain": [
       "'T'"
      ]
     },
     "execution_count": 247,
     "metadata": {},
     "output_type": "execute_result"
    }
   ],
   "source": [
    "bottom.get_attribute('value')  # de todos por el resultado inicial o por default "
   ]
  },
  {
   "cell_type": "code",
   "execution_count": 209,
   "metadata": {},
   "outputs": [
    {
     "ename": "SyntaxError",
     "evalue": "invalid syntax (647810126.py, line 3)",
     "output_type": "error",
     "traceback": [
      "\u001b[1;36m  Input \u001b[1;32mIn [209]\u001b[1;36m\u001b[0m\n\u001b[1;33m    - <option _ngcontent-ejv-c105=\"\" value=\"T\">TODOS</option>\u001b[0m\n\u001b[1;37m      ^\u001b[0m\n\u001b[1;31mSyntaxError\u001b[0m\u001b[1;31m:\u001b[0m invalid syntax\n"
     ]
    }
   ],
   "source": [
    "# podemos observar los tags optiones que siempre estarán dentro de la lista depegable \n",
    "# Un tag opcion para cada opción\n",
    "- <option _ngcontent-ejv-c105=\"\" value=\"T\">TODOS</option>\n",
    "- <option _ngcontent-ejv-c105=\"\" value=\"P\">PERÚ</option>\n",
    "- <option _ngcontent-ejv-c105=\"\" value=\"E\">EXTRANJERO</option>"
   ]
  },
  {
   "cell_type": "code",
   "execution_count": 248,
   "metadata": {
    "scrolled": false
   },
   "outputs": [
    {
     "data": {
      "text/plain": [
       "'TODOS\\nPERÚ\\nEXTRANJERO'"
      ]
     },
     "execution_count": 248,
     "metadata": {},
     "output_type": "execute_result"
    }
   ],
   "source": [
    "bottom.text"
   ]
  },
  {
   "cell_type": "code",
   "execution_count": 249,
   "metadata": {},
   "outputs": [
    {
     "data": {
      "text/plain": [
       "'select'"
      ]
     },
     "execution_count": 249,
     "metadata": {},
     "output_type": "execute_result"
    }
   ],
   "source": [
    "bottom.tag_name"
   ]
  },
  {
   "cell_type": "code",
   "execution_count": 250,
   "metadata": {},
   "outputs": [
    {
     "data": {
      "text/plain": [
       "'T'"
      ]
     },
     "execution_count": 250,
     "metadata": {},
     "output_type": "execute_result"
    }
   ],
   "source": [
    "bottom.get_attribute('value')"
   ]
  },
  {
   "cell_type": "code",
   "execution_count": 251,
   "metadata": {},
   "outputs": [
    {
     "name": "stdout",
     "output_type": "stream",
     "text": [
      "select_ambito\n",
      "cod_ambito\n",
      "T\n",
      "select_ubigeo ng-untouched ng-pristine ng-valid\n"
     ]
    }
   ],
   "source": [
    "print(bottom.get_attribute('id')) # No hau un identificador unico (id es un atributo que permite identificar un elemento html)\n",
    "print(bottom.get_attribute('name'))\n",
    "print(bottom.get_attribute('value'))\n",
    "print(bottom.get_attribute('class')) # value del atributo classs"
   ]
  },
  {
   "cell_type": "code",
   "execution_count": 252,
   "metadata": {},
   "outputs": [
    {
     "name": "stdout",
     "output_type": "stream",
     "text": [
      "TODOS\n",
      "PERÚ\n"
     ]
    },
    {
     "data": {
      "text/plain": [
       "'EXTRANJERO'"
      ]
     },
     "execution_count": 252,
     "metadata": {},
     "output_type": "execute_result"
    }
   ],
   "source": [
    "# Accedemos a cada opción \n",
    "\n",
    "bottom.find_elements(By.TAG_NAME, 'option') # podemso hacer esto pues el objeto bottom tiene en su inner-html a elementos html \n",
    "\n",
    "# Tres, uno por cada opción (Todos, Perú, Extranjero)\n",
    "\n",
    "print(bottom.find_elements(By.TAG_NAME, 'option')[0].text)\n",
    "\n",
    "print(bottom.find_elements(By.TAG_NAME, 'option')[1].text)\n",
    "\n",
    "bottom.find_elements(By.TAG_NAME, 'option')[2].text"
   ]
  },
  {
   "cell_type": "code",
   "execution_count": 253,
   "metadata": {},
   "outputs": [],
   "source": [
    "bottom.find_elements(By.TAG_NAME, 'option')[1].click() # click en Perú \n",
    "\n",
    "# Aparecieron opciones para departamentos, provincia y distrito.\n",
    "# La lógica es la misma para entrar sacar información de cada distrito \n"
   ]
  },
  {
   "cell_type": "code",
   "execution_count": 257,
   "metadata": {},
   "outputs": [
    {
     "data": {
      "text/plain": [
       "<selenium.webdriver.remote.webelement.WebElement (session=\"b5a230f4c5749e1bf5a18a8c61b67008\", element=\"2c01b473-4d39-4a1c-ae67-2691f518f313\")>"
      ]
     },
     "execution_count": 257,
     "metadata": {},
     "output_type": "execute_result"
    }
   ],
   "source": [
    "# Usemos Select para un mejor manejo de los opciones dentro del tag <select></select>\n",
    "\n",
    "ambito = Select(bottom)\n",
    "\n",
    "ambito.options[0] # podemos acceder a cada opción del tag <select></select>"
   ]
  },
  {
   "cell_type": "code",
   "execution_count": 258,
   "metadata": {},
   "outputs": [
    {
     "data": {
      "text/plain": [
       "<selenium.webdriver.remote.webelement.WebElement (session=\"b5a230f4c5749e1bf5a18a8c61b67008\", element=\"01fcc312-f92b-45d2-a974-2c6989de6c57\")>"
      ]
     },
     "execution_count": 258,
     "metadata": {},
     "output_type": "execute_result"
    }
   ],
   "source": [
    "ambito.options[1] # Perú"
   ]
  },
  {
   "cell_type": "code",
   "execution_count": 259,
   "metadata": {},
   "outputs": [
    {
     "data": {
      "text/plain": [
       "<selenium.webdriver.remote.webelement.WebElement (session=\"b5a230f4c5749e1bf5a18a8c61b67008\", element=\"712c21b0-434e-4565-8567-372df896f045\")>"
      ]
     },
     "execution_count": 259,
     "metadata": {},
     "output_type": "execute_result"
    }
   ],
   "source": [
    "ambito.options[2]"
   ]
  },
  {
   "cell_type": "code",
   "execution_count": 260,
   "metadata": {},
   "outputs": [],
   "source": [
    "# click Perú\n",
    "ambito.options[1].click()"
   ]
  },
  {
   "cell_type": "code",
   "execution_count": 261,
   "metadata": {},
   "outputs": [],
   "source": [
    "# diccionario vacío para guardar las tablas \n",
    "\n",
    "all_tables = {}"
   ]
  },
  {
   "cell_type": "code",
   "execution_count": 263,
   "metadata": {
    "scrolled": false
   },
   "outputs": [
    {
     "name": "stdout",
     "output_type": "stream",
     "text": [
      "--TODOS--\n",
      "AMAZONAS\n",
      "ANCASH\n",
      "APURIMAC\n"
     ]
    }
   ],
   "source": [
    "# tres iteraciones uno para cada departamento \n",
    "\n",
    "for dpt_idx in tqdm(range( 4 )):\n",
    "    \n",
    "    # Get again all departments since HTML is refreshing\n",
    "    # all elements\n",
    "    # Click on one specific department\n",
    "    dpt = Select( driver.find_element(By.ID, \"select_departamento\" ) ) # seleción de la lista de departamentos\n",
    "    department = dpt.options[ dpt_idx ]  # seleccioanmos un departamento \n",
    "    \n",
    "    # extrate text (nombre del departamento)\n",
    "    dpt_name = department.text\n",
    "    \n",
    "    print(dpt_name)\n",
    "    \n",
    "    # filtramos la primera opción que es --TODOS--\n",
    "    \n",
    "    if dpt_name != \"--TODOS--\" :\n",
    "        \n",
    "        # click en departamento\n",
    "        \n",
    "        department.click()\n",
    "        \n",
    "        time.sleep(1)  # esperar que carque la iformación\n",
    "        prov = Select( driver.find_element(By.ID, \"cod_prov\" ) )  # seleción de la lista de provincias\n",
    "        num_prov_options = len( prov.options )  # se contabiliza el total de provincias \n",
    "        \n",
    "        for prov_idx in range( num_prov_options ): # por cada provincia vamos a extraer los datos de distritos \n",
    "            \n",
    "            # Get again all districts since HTML is refreshing\n",
    "            # all elements\n",
    "            \n",
    "            prov = Select( driver.find_element(By.ID, \"cod_prov\" ) ) # seleccionamos cada provincia \n",
    "            province = prov.options[ prov_idx ] # seleccionamos una provincia \n",
    "                \n",
    "            # Get province name\n",
    "            prov_name = province.text\n",
    "            \n",
    "            if prov_name != \"--TODOS--\" :\n",
    "                \n",
    "                # click on province\n",
    "                province.click()\n",
    "                \n",
    "                time.sleep(1)  # esperar que carque la iformación\n",
    "                \n",
    "                # Get all elements from district\n",
    "                dist = Select( driver.find_element_by_id( \"cod_dist\" ) )\n",
    "                num_dist_options = len( dist.options )\n",
    "                \n",
    "                for dist_idx in range( num_dist_options ):\n",
    "                    \n",
    "                    # Get again all districts since HTML is refreshing\n",
    "                    # all elements\n",
    "                    dist = Select( driver.find_element_by_id( \"cod_dist\" ) ) # lista de dstritos\n",
    "                    district = dist.options[ dist_idx ] # seleccionamos un distrito \n",
    "                    \n",
    "                    # Get district name\n",
    "                    dist_name = district.text\n",
    "                    \n",
    "                    if dist_name != \"-- SELECCIONE --\" :\n",
    "                        \n",
    "                        # click on district\n",
    "                        district.click()\n",
    "                        \n",
    "                        time.sleep(1)  # esperar que carque la iformación\n",
    "                        \n",
    "                        # Get UBIGEO\n",
    "                        ubigeo = driver.current_url.split(\"/\")[ -1 ]\n",
    "                        \n",
    "                        ## Extracciónd e tabla de elecciones presidenciales \n",
    "\n",
    "                        table_path = driver.find_element( By.ID, \"table-scroll\" )\n",
    "                        table_html = table_path.get_attribute( 'innerHTML' ) # extrae los tags de html\n",
    "                        # read_html permite leer las tablas <table></table>\n",
    "                        table = pd.read_html( table_html )\n",
    "                        \n",
    "                        #/html/body/onpe-root/onpe-layout-container/onpe-onpe-epres-re/div[1]/div[4]/div[1]/div[3]/div\n",
    "                        \n",
    "                        # selecicón del nombre de variables \n",
    "                        row_new_columns = table[ 0 ].iloc[ 0 , 2: ] # seleecionamos de la posición 3 de la primera fila \n",
    "                        clean_columns = row_new_columns \\\n",
    "                                              .str.replace( \" \", \"_\") \\\n",
    "                                              .str.lower().str.replace( \"%\", \"share_\") \\\n",
    "                                              .apply( lambda x : unidecode.unidecode( x ) ) \\\n",
    "                                              .tolist()\n",
    "                        \n",
    "                        # Seleccionamos columnas con información relevante \n",
    "                        table_clean = table[0].iloc[ 1:, 2: ].copy() # solo seleccioanmos desde la fila posicón 2 y columns posición 3 \n",
    "                        \n",
    "                        # rename columns\n",
    "                        table_clean.columns = clean_columns\n",
    "                        \n",
    "                        # se crea columnas con información del departamento, provincia, distrito y ubigeo \n",
    "                        table_clean[ 'department' ] = dpt_name\n",
    "                        table_clean[ 'province' ]   = prov_name\n",
    "                        table_clean[ 'district' ]   = dist_name\n",
    "                        table_clean[ 'ubigeo' ]     = ubigeo\n",
    "                        \n",
    "                        # Se guarda cada tabla en el diccionario\n",
    "                        all_tables[ ubigeo ] = table_clean\n",
    "                        \n",
    "                        # se usa como llave al ubigeo, {\"010203\": tabla1, \"030201\": tabla2 } tabla1, tabla2 son dataframes "
   ]
  },
  {
   "cell_type": "code",
   "execution_count": 233,
   "metadata": {},
   "outputs": [
    {
     "data": {
      "text/plain": [
       "['https:',\n",
       " '',\n",
       " 'resultadoshistorico.onpe.gob.pe',\n",
       " 'EG2021',\n",
       " 'ResumenGeneral',\n",
       " '10',\n",
       " 'P',\n",
       " '010000',\n",
       " '010200',\n",
       " '010202']"
      ]
     },
     "execution_count": 233,
     "metadata": {},
     "output_type": "execute_result"
    }
   ],
   "source": [
    "a = \"https://resultadoshistorico.onpe.gob.pe/EG2021/ResumenGeneral/10/P/010000/010200/010202\"\n",
    "    \n",
    "a.split(\"/\") # separa por /"
   ]
  },
  {
   "cell_type": "code",
   "execution_count": 234,
   "metadata": {},
   "outputs": [
    {
     "data": {
      "text/plain": [
       "'010202'"
      ]
     },
     "execution_count": 234,
     "metadata": {},
     "output_type": "execute_result"
    }
   ],
   "source": [
    "a.split(\"/\")[-1] # ubigeo "
   ]
  },
  {
   "cell_type": "markdown",
   "metadata": {},
   "source": [
    "/html/body/onpe-root/onpe-layout-container/onpe-onpe-epres-re/div[1]/div[4]/div[1]/div[3]/div"
   ]
  },
  {
   "cell_type": "code",
   "execution_count": 109,
   "metadata": {},
   "outputs": [
    {
     "data": {
      "text/html": [
       "<div>\n",
       "<style scoped>\n",
       "    .dataframe tbody tr th:only-of-type {\n",
       "        vertical-align: middle;\n",
       "    }\n",
       "\n",
       "    .dataframe tbody tr th {\n",
       "        vertical-align: top;\n",
       "    }\n",
       "\n",
       "    .dataframe thead th {\n",
       "        text-align: right;\n",
       "    }\n",
       "</style>\n",
       "<table border=\"1\" class=\"dataframe\">\n",
       "  <thead>\n",
       "    <tr style=\"text-align: right;\">\n",
       "      <th></th>\n",
       "      <th>organizaciones_politicas</th>\n",
       "      <th>total</th>\n",
       "      <th>share_validos</th>\n",
       "      <th>share_emitidos</th>\n",
       "      <th>department</th>\n",
       "      <th>province</th>\n",
       "      <th>district</th>\n",
       "      <th>ubigeo</th>\n",
       "    </tr>\n",
       "  </thead>\n",
       "  <tbody>\n",
       "    <tr>\n",
       "      <th>1</th>\n",
       "      <td>PARTIDO NACIONALISTA PERUANO</td>\n",
       "      <td>356</td>\n",
       "      <td>9.327%</td>\n",
       "      <td>6.389%</td>\n",
       "      <td>AMAZONAS</td>\n",
       "      <td>BAGUA</td>\n",
       "      <td>ARAMANGO</td>\n",
       "      <td>010202</td>\n",
       "    </tr>\n",
       "    <tr>\n",
       "      <th>2</th>\n",
       "      <td>EL FRENTE AMPLIO POR JUSTICIA, VIDA Y LIBERTAD</td>\n",
       "      <td>13</td>\n",
       "      <td>0.341%</td>\n",
       "      <td>0.233%</td>\n",
       "      <td>AMAZONAS</td>\n",
       "      <td>BAGUA</td>\n",
       "      <td>ARAMANGO</td>\n",
       "      <td>010202</td>\n",
       "    </tr>\n",
       "    <tr>\n",
       "      <th>3</th>\n",
       "      <td>PARTIDO MORADO</td>\n",
       "      <td>41</td>\n",
       "      <td>1.074%</td>\n",
       "      <td>0.736%</td>\n",
       "      <td>AMAZONAS</td>\n",
       "      <td>BAGUA</td>\n",
       "      <td>ARAMANGO</td>\n",
       "      <td>010202</td>\n",
       "    </tr>\n",
       "    <tr>\n",
       "      <th>4</th>\n",
       "      <td>PERU PATRIA SEGURA</td>\n",
       "      <td>4</td>\n",
       "      <td>0.105%</td>\n",
       "      <td>0.072%</td>\n",
       "      <td>AMAZONAS</td>\n",
       "      <td>BAGUA</td>\n",
       "      <td>ARAMANGO</td>\n",
       "      <td>010202</td>\n",
       "    </tr>\n",
       "    <tr>\n",
       "      <th>5</th>\n",
       "      <td>VICTORIA NACIONAL</td>\n",
       "      <td>151</td>\n",
       "      <td>3.956%</td>\n",
       "      <td>2.710%</td>\n",
       "      <td>AMAZONAS</td>\n",
       "      <td>BAGUA</td>\n",
       "      <td>ARAMANGO</td>\n",
       "      <td>010202</td>\n",
       "    </tr>\n",
       "    <tr>\n",
       "      <th>6</th>\n",
       "      <td>ACCION POPULAR</td>\n",
       "      <td>267</td>\n",
       "      <td>6.995%</td>\n",
       "      <td>4.792%</td>\n",
       "      <td>AMAZONAS</td>\n",
       "      <td>BAGUA</td>\n",
       "      <td>ARAMANGO</td>\n",
       "      <td>010202</td>\n",
       "    </tr>\n",
       "    <tr>\n",
       "      <th>7</th>\n",
       "      <td>AVANZA PAIS - PARTIDO DE INTEGRACION SOCIAL</td>\n",
       "      <td>69</td>\n",
       "      <td>1.808%</td>\n",
       "      <td>1.238%</td>\n",
       "      <td>AMAZONAS</td>\n",
       "      <td>BAGUA</td>\n",
       "      <td>ARAMANGO</td>\n",
       "      <td>010202</td>\n",
       "    </tr>\n",
       "    <tr>\n",
       "      <th>8</th>\n",
       "      <td>PODEMOS PERU</td>\n",
       "      <td>265</td>\n",
       "      <td>6.943%</td>\n",
       "      <td>4.756%</td>\n",
       "      <td>AMAZONAS</td>\n",
       "      <td>BAGUA</td>\n",
       "      <td>ARAMANGO</td>\n",
       "      <td>010202</td>\n",
       "    </tr>\n",
       "    <tr>\n",
       "      <th>9</th>\n",
       "      <td>JUNTOS POR EL PERU</td>\n",
       "      <td>105</td>\n",
       "      <td>2.751%</td>\n",
       "      <td>1.884%</td>\n",
       "      <td>AMAZONAS</td>\n",
       "      <td>BAGUA</td>\n",
       "      <td>ARAMANGO</td>\n",
       "      <td>010202</td>\n",
       "    </tr>\n",
       "    <tr>\n",
       "      <th>10</th>\n",
       "      <td>PARTIDO POPULAR CRISTIANO - PPC</td>\n",
       "      <td>8</td>\n",
       "      <td>0.210%</td>\n",
       "      <td>0.144%</td>\n",
       "      <td>AMAZONAS</td>\n",
       "      <td>BAGUA</td>\n",
       "      <td>ARAMANGO</td>\n",
       "      <td>010202</td>\n",
       "    </tr>\n",
       "    <tr>\n",
       "      <th>11</th>\n",
       "      <td>FUERZA POPULAR</td>\n",
       "      <td>673</td>\n",
       "      <td>17.632%</td>\n",
       "      <td>12.078%</td>\n",
       "      <td>AMAZONAS</td>\n",
       "      <td>BAGUA</td>\n",
       "      <td>ARAMANGO</td>\n",
       "      <td>010202</td>\n",
       "    </tr>\n",
       "    <tr>\n",
       "      <th>12</th>\n",
       "      <td>UNION POR EL PERU</td>\n",
       "      <td>45</td>\n",
       "      <td>1.179%</td>\n",
       "      <td>0.808%</td>\n",
       "      <td>AMAZONAS</td>\n",
       "      <td>BAGUA</td>\n",
       "      <td>ARAMANGO</td>\n",
       "      <td>010202</td>\n",
       "    </tr>\n",
       "    <tr>\n",
       "      <th>13</th>\n",
       "      <td>RENOVACION POPULAR</td>\n",
       "      <td>252</td>\n",
       "      <td>6.602%</td>\n",
       "      <td>4.523%</td>\n",
       "      <td>AMAZONAS</td>\n",
       "      <td>BAGUA</td>\n",
       "      <td>ARAMANGO</td>\n",
       "      <td>010202</td>\n",
       "    </tr>\n",
       "    <tr>\n",
       "      <th>14</th>\n",
       "      <td>RENACIMIENTO UNIDO NACIONAL</td>\n",
       "      <td>42</td>\n",
       "      <td>1.100%</td>\n",
       "      <td>0.754%</td>\n",
       "      <td>AMAZONAS</td>\n",
       "      <td>BAGUA</td>\n",
       "      <td>ARAMANGO</td>\n",
       "      <td>010202</td>\n",
       "    </tr>\n",
       "    <tr>\n",
       "      <th>15</th>\n",
       "      <td>PARTIDO DEMOCRATICO SOMOS PERU</td>\n",
       "      <td>27</td>\n",
       "      <td>0.707%</td>\n",
       "      <td>0.485%</td>\n",
       "      <td>AMAZONAS</td>\n",
       "      <td>BAGUA</td>\n",
       "      <td>ARAMANGO</td>\n",
       "      <td>010202</td>\n",
       "    </tr>\n",
       "    <tr>\n",
       "      <th>16</th>\n",
       "      <td>PARTIDO POLITICO NACIONAL PERU LIBRE</td>\n",
       "      <td>1250</td>\n",
       "      <td>32.748%</td>\n",
       "      <td>22.434%</td>\n",
       "      <td>AMAZONAS</td>\n",
       "      <td>BAGUA</td>\n",
       "      <td>ARAMANGO</td>\n",
       "      <td>010202</td>\n",
       "    </tr>\n",
       "    <tr>\n",
       "      <th>17</th>\n",
       "      <td>DEMOCRACIA DIRECTA</td>\n",
       "      <td>8</td>\n",
       "      <td>0.210%</td>\n",
       "      <td>0.144%</td>\n",
       "      <td>AMAZONAS</td>\n",
       "      <td>BAGUA</td>\n",
       "      <td>ARAMANGO</td>\n",
       "      <td>010202</td>\n",
       "    </tr>\n",
       "    <tr>\n",
       "      <th>18</th>\n",
       "      <td>ALIANZA PARA EL PROGRESO</td>\n",
       "      <td>241</td>\n",
       "      <td>6.314%</td>\n",
       "      <td>4.325%</td>\n",
       "      <td>AMAZONAS</td>\n",
       "      <td>BAGUA</td>\n",
       "      <td>ARAMANGO</td>\n",
       "      <td>010202</td>\n",
       "    </tr>\n",
       "    <tr>\n",
       "      <th>19</th>\n",
       "      <td>TOTAL DE VOTOS VÁLIDOS</td>\n",
       "      <td>3817</td>\n",
       "      <td>100.000%</td>\n",
       "      <td>68.503%</td>\n",
       "      <td>AMAZONAS</td>\n",
       "      <td>BAGUA</td>\n",
       "      <td>ARAMANGO</td>\n",
       "      <td>010202</td>\n",
       "    </tr>\n",
       "    <tr>\n",
       "      <th>20</th>\n",
       "      <td>VOTOS EN BLANCO</td>\n",
       "      <td>1326</td>\n",
       "      <td>NaN</td>\n",
       "      <td>23.798%</td>\n",
       "      <td>AMAZONAS</td>\n",
       "      <td>BAGUA</td>\n",
       "      <td>ARAMANGO</td>\n",
       "      <td>010202</td>\n",
       "    </tr>\n",
       "    <tr>\n",
       "      <th>21</th>\n",
       "      <td>VOTOS NULOS</td>\n",
       "      <td>429</td>\n",
       "      <td>NaN</td>\n",
       "      <td>7.699%</td>\n",
       "      <td>AMAZONAS</td>\n",
       "      <td>BAGUA</td>\n",
       "      <td>ARAMANGO</td>\n",
       "      <td>010202</td>\n",
       "    </tr>\n",
       "    <tr>\n",
       "      <th>22</th>\n",
       "      <td>TOTAL DE VOTOS EMITIDOS</td>\n",
       "      <td>5572</td>\n",
       "      <td>NaN</td>\n",
       "      <td>100.000%</td>\n",
       "      <td>AMAZONAS</td>\n",
       "      <td>BAGUA</td>\n",
       "      <td>ARAMANGO</td>\n",
       "      <td>010202</td>\n",
       "    </tr>\n",
       "  </tbody>\n",
       "</table>\n",
       "</div>"
      ],
      "text/plain": [
       "                          organizaciones_politicas total share_validos  \\\n",
       "1                     PARTIDO NACIONALISTA PERUANO   356        9.327%   \n",
       "2   EL FRENTE AMPLIO POR JUSTICIA, VIDA Y LIBERTAD    13        0.341%   \n",
       "3                                   PARTIDO MORADO    41        1.074%   \n",
       "4                               PERU PATRIA SEGURA     4        0.105%   \n",
       "5                                VICTORIA NACIONAL   151        3.956%   \n",
       "6                                   ACCION POPULAR   267        6.995%   \n",
       "7      AVANZA PAIS - PARTIDO DE INTEGRACION SOCIAL    69        1.808%   \n",
       "8                                     PODEMOS PERU   265        6.943%   \n",
       "9                               JUNTOS POR EL PERU   105        2.751%   \n",
       "10                 PARTIDO POPULAR CRISTIANO - PPC     8        0.210%   \n",
       "11                                  FUERZA POPULAR   673       17.632%   \n",
       "12                               UNION POR EL PERU    45        1.179%   \n",
       "13                              RENOVACION POPULAR   252        6.602%   \n",
       "14                     RENACIMIENTO UNIDO NACIONAL    42        1.100%   \n",
       "15                  PARTIDO DEMOCRATICO SOMOS PERU    27        0.707%   \n",
       "16            PARTIDO POLITICO NACIONAL PERU LIBRE  1250       32.748%   \n",
       "17                              DEMOCRACIA DIRECTA     8        0.210%   \n",
       "18                        ALIANZA PARA EL PROGRESO   241        6.314%   \n",
       "19                          TOTAL DE VOTOS VÁLIDOS  3817      100.000%   \n",
       "20                                 VOTOS EN BLANCO  1326           NaN   \n",
       "21                                     VOTOS NULOS   429           NaN   \n",
       "22                         TOTAL DE VOTOS EMITIDOS  5572           NaN   \n",
       "\n",
       "   share_emitidos department province  district  ubigeo  \n",
       "1          6.389%   AMAZONAS    BAGUA  ARAMANGO  010202  \n",
       "2          0.233%   AMAZONAS    BAGUA  ARAMANGO  010202  \n",
       "3          0.736%   AMAZONAS    BAGUA  ARAMANGO  010202  \n",
       "4          0.072%   AMAZONAS    BAGUA  ARAMANGO  010202  \n",
       "5          2.710%   AMAZONAS    BAGUA  ARAMANGO  010202  \n",
       "6          4.792%   AMAZONAS    BAGUA  ARAMANGO  010202  \n",
       "7          1.238%   AMAZONAS    BAGUA  ARAMANGO  010202  \n",
       "8          4.756%   AMAZONAS    BAGUA  ARAMANGO  010202  \n",
       "9          1.884%   AMAZONAS    BAGUA  ARAMANGO  010202  \n",
       "10         0.144%   AMAZONAS    BAGUA  ARAMANGO  010202  \n",
       "11        12.078%   AMAZONAS    BAGUA  ARAMANGO  010202  \n",
       "12         0.808%   AMAZONAS    BAGUA  ARAMANGO  010202  \n",
       "13         4.523%   AMAZONAS    BAGUA  ARAMANGO  010202  \n",
       "14         0.754%   AMAZONAS    BAGUA  ARAMANGO  010202  \n",
       "15         0.485%   AMAZONAS    BAGUA  ARAMANGO  010202  \n",
       "16        22.434%   AMAZONAS    BAGUA  ARAMANGO  010202  \n",
       "17         0.144%   AMAZONAS    BAGUA  ARAMANGO  010202  \n",
       "18         4.325%   AMAZONAS    BAGUA  ARAMANGO  010202  \n",
       "19        68.503%   AMAZONAS    BAGUA  ARAMANGO  010202  \n",
       "20        23.798%   AMAZONAS    BAGUA  ARAMANGO  010202  \n",
       "21         7.699%   AMAZONAS    BAGUA  ARAMANGO  010202  \n",
       "22       100.000%   AMAZONAS    BAGUA  ARAMANGO  010202  "
      ]
     },
     "execution_count": 109,
     "metadata": {},
     "output_type": "execute_result"
    }
   ],
   "source": [
    "all_tables['010202']"
   ]
  },
  {
   "cell_type": "code",
   "execution_count": 110,
   "metadata": {},
   "outputs": [],
   "source": [
    "# concatenamos todos las tablas\n",
    "# all_tables.values() estrae dataframe de cada llave del diccionario \n",
    "final_data = pd.concat( all_tables.values() ).reset_index( drop = True )"
   ]
  },
  {
   "cell_type": "code",
   "execution_count": 111,
   "metadata": {},
   "outputs": [
    {
     "data": {
      "text/html": [
       "<div>\n",
       "<style scoped>\n",
       "    .dataframe tbody tr th:only-of-type {\n",
       "        vertical-align: middle;\n",
       "    }\n",
       "\n",
       "    .dataframe tbody tr th {\n",
       "        vertical-align: top;\n",
       "    }\n",
       "\n",
       "    .dataframe thead th {\n",
       "        text-align: right;\n",
       "    }\n",
       "</style>\n",
       "<table border=\"1\" class=\"dataframe\">\n",
       "  <thead>\n",
       "    <tr style=\"text-align: right;\">\n",
       "      <th></th>\n",
       "      <th>organizaciones_politicas</th>\n",
       "      <th>total</th>\n",
       "      <th>share_validos</th>\n",
       "      <th>share_emitidos</th>\n",
       "      <th>department</th>\n",
       "      <th>province</th>\n",
       "      <th>district</th>\n",
       "      <th>ubigeo</th>\n",
       "    </tr>\n",
       "  </thead>\n",
       "  <tbody>\n",
       "    <tr>\n",
       "      <th>0</th>\n",
       "      <td>PARTIDO NACIONALISTA PERUANO</td>\n",
       "      <td>356</td>\n",
       "      <td>9.327%</td>\n",
       "      <td>6.389%</td>\n",
       "      <td>AMAZONAS</td>\n",
       "      <td>BAGUA</td>\n",
       "      <td>ARAMANGO</td>\n",
       "      <td>010202</td>\n",
       "    </tr>\n",
       "    <tr>\n",
       "      <th>1</th>\n",
       "      <td>EL FRENTE AMPLIO POR JUSTICIA, VIDA Y LIBERTAD</td>\n",
       "      <td>13</td>\n",
       "      <td>0.341%</td>\n",
       "      <td>0.233%</td>\n",
       "      <td>AMAZONAS</td>\n",
       "      <td>BAGUA</td>\n",
       "      <td>ARAMANGO</td>\n",
       "      <td>010202</td>\n",
       "    </tr>\n",
       "    <tr>\n",
       "      <th>2</th>\n",
       "      <td>PARTIDO MORADO</td>\n",
       "      <td>41</td>\n",
       "      <td>1.074%</td>\n",
       "      <td>0.736%</td>\n",
       "      <td>AMAZONAS</td>\n",
       "      <td>BAGUA</td>\n",
       "      <td>ARAMANGO</td>\n",
       "      <td>010202</td>\n",
       "    </tr>\n",
       "    <tr>\n",
       "      <th>3</th>\n",
       "      <td>PERU PATRIA SEGURA</td>\n",
       "      <td>4</td>\n",
       "      <td>0.105%</td>\n",
       "      <td>0.072%</td>\n",
       "      <td>AMAZONAS</td>\n",
       "      <td>BAGUA</td>\n",
       "      <td>ARAMANGO</td>\n",
       "      <td>010202</td>\n",
       "    </tr>\n",
       "    <tr>\n",
       "      <th>4</th>\n",
       "      <td>VICTORIA NACIONAL</td>\n",
       "      <td>151</td>\n",
       "      <td>3.956%</td>\n",
       "      <td>2.710%</td>\n",
       "      <td>AMAZONAS</td>\n",
       "      <td>BAGUA</td>\n",
       "      <td>ARAMANGO</td>\n",
       "      <td>010202</td>\n",
       "    </tr>\n",
       "    <tr>\n",
       "      <th>...</th>\n",
       "      <td>...</td>\n",
       "      <td>...</td>\n",
       "      <td>...</td>\n",
       "      <td>...</td>\n",
       "      <td>...</td>\n",
       "      <td>...</td>\n",
       "      <td>...</td>\n",
       "      <td>...</td>\n",
       "    </tr>\n",
       "    <tr>\n",
       "      <th>1843</th>\n",
       "      <td>ALIANZA PARA EL PROGRESO</td>\n",
       "      <td>66</td>\n",
       "      <td>6.414%</td>\n",
       "      <td>4.622%</td>\n",
       "      <td>AMAZONAS</td>\n",
       "      <td>UTCUBAMBA</td>\n",
       "      <td>YAMON</td>\n",
       "      <td>010707</td>\n",
       "    </tr>\n",
       "    <tr>\n",
       "      <th>1844</th>\n",
       "      <td>TOTAL DE VOTOS VÁLIDOS</td>\n",
       "      <td>1029</td>\n",
       "      <td>100.000%</td>\n",
       "      <td>72.059%</td>\n",
       "      <td>AMAZONAS</td>\n",
       "      <td>UTCUBAMBA</td>\n",
       "      <td>YAMON</td>\n",
       "      <td>010707</td>\n",
       "    </tr>\n",
       "    <tr>\n",
       "      <th>1845</th>\n",
       "      <td>VOTOS EN BLANCO</td>\n",
       "      <td>318</td>\n",
       "      <td>NaN</td>\n",
       "      <td>22.269%</td>\n",
       "      <td>AMAZONAS</td>\n",
       "      <td>UTCUBAMBA</td>\n",
       "      <td>YAMON</td>\n",
       "      <td>010707</td>\n",
       "    </tr>\n",
       "    <tr>\n",
       "      <th>1846</th>\n",
       "      <td>VOTOS NULOS</td>\n",
       "      <td>81</td>\n",
       "      <td>NaN</td>\n",
       "      <td>5.672%</td>\n",
       "      <td>AMAZONAS</td>\n",
       "      <td>UTCUBAMBA</td>\n",
       "      <td>YAMON</td>\n",
       "      <td>010707</td>\n",
       "    </tr>\n",
       "    <tr>\n",
       "      <th>1847</th>\n",
       "      <td>TOTAL DE VOTOS EMITIDOS</td>\n",
       "      <td>1428</td>\n",
       "      <td>NaN</td>\n",
       "      <td>100.000%</td>\n",
       "      <td>AMAZONAS</td>\n",
       "      <td>UTCUBAMBA</td>\n",
       "      <td>YAMON</td>\n",
       "      <td>010707</td>\n",
       "    </tr>\n",
       "  </tbody>\n",
       "</table>\n",
       "<p>1848 rows × 8 columns</p>\n",
       "</div>"
      ],
      "text/plain": [
       "                            organizaciones_politicas total share_validos  \\\n",
       "0                       PARTIDO NACIONALISTA PERUANO   356        9.327%   \n",
       "1     EL FRENTE AMPLIO POR JUSTICIA, VIDA Y LIBERTAD    13        0.341%   \n",
       "2                                     PARTIDO MORADO    41        1.074%   \n",
       "3                                 PERU PATRIA SEGURA     4        0.105%   \n",
       "4                                  VICTORIA NACIONAL   151        3.956%   \n",
       "...                                              ...   ...           ...   \n",
       "1843                        ALIANZA PARA EL PROGRESO    66        6.414%   \n",
       "1844                          TOTAL DE VOTOS VÁLIDOS  1029      100.000%   \n",
       "1845                                 VOTOS EN BLANCO   318           NaN   \n",
       "1846                                     VOTOS NULOS    81           NaN   \n",
       "1847                         TOTAL DE VOTOS EMITIDOS  1428           NaN   \n",
       "\n",
       "     share_emitidos department   province  district  ubigeo  \n",
       "0            6.389%   AMAZONAS      BAGUA  ARAMANGO  010202  \n",
       "1            0.233%   AMAZONAS      BAGUA  ARAMANGO  010202  \n",
       "2            0.736%   AMAZONAS      BAGUA  ARAMANGO  010202  \n",
       "3            0.072%   AMAZONAS      BAGUA  ARAMANGO  010202  \n",
       "4            2.710%   AMAZONAS      BAGUA  ARAMANGO  010202  \n",
       "...             ...        ...        ...       ...     ...  \n",
       "1843         4.622%   AMAZONAS  UTCUBAMBA     YAMON  010707  \n",
       "1844        72.059%   AMAZONAS  UTCUBAMBA     YAMON  010707  \n",
       "1845        22.269%   AMAZONAS  UTCUBAMBA     YAMON  010707  \n",
       "1846         5.672%   AMAZONAS  UTCUBAMBA     YAMON  010707  \n",
       "1847       100.000%   AMAZONAS  UTCUBAMBA     YAMON  010707  \n",
       "\n",
       "[1848 rows x 8 columns]"
      ]
     },
     "execution_count": 111,
     "metadata": {},
     "output_type": "execute_result"
    }
   ],
   "source": [
    "final_data"
   ]
  },
  {
   "cell_type": "code",
   "execution_count": 113,
   "metadata": {},
   "outputs": [],
   "source": [
    "final_data.to_excel( r'first_round.xlsx' , index = False ) # se exporta a excel "
   ]
  },
  {
   "cell_type": "code",
   "execution_count": 264,
   "metadata": {},
   "outputs": [
    {
     "data": {
      "text/html": [
       "<div>\n",
       "<style scoped>\n",
       "    .dataframe tbody tr th:only-of-type {\n",
       "        vertical-align: middle;\n",
       "    }\n",
       "\n",
       "    .dataframe tbody tr th {\n",
       "        vertical-align: top;\n",
       "    }\n",
       "\n",
       "    .dataframe thead th {\n",
       "        text-align: right;\n",
       "    }\n",
       "</style>\n",
       "<table border=\"1\" class=\"dataframe\">\n",
       "  <thead>\n",
       "    <tr style=\"text-align: right;\">\n",
       "      <th></th>\n",
       "      <th>organizaciones_politicas</th>\n",
       "      <th>total</th>\n",
       "      <th>share_validos</th>\n",
       "      <th>share_emitidos</th>\n",
       "      <th>department</th>\n",
       "      <th>province</th>\n",
       "      <th>district</th>\n",
       "      <th>ubigeo</th>\n",
       "    </tr>\n",
       "  </thead>\n",
       "  <tbody>\n",
       "    <tr>\n",
       "      <th>1</th>\n",
       "      <td>PARTIDO NACIONALISTA PERUANO</td>\n",
       "      <td>356</td>\n",
       "      <td>9.327%</td>\n",
       "      <td>6.389%</td>\n",
       "      <td>AMAZONAS</td>\n",
       "      <td>BAGUA</td>\n",
       "      <td>ARAMANGO</td>\n",
       "      <td>010202</td>\n",
       "    </tr>\n",
       "    <tr>\n",
       "      <th>2</th>\n",
       "      <td>EL FRENTE AMPLIO POR JUSTICIA, VIDA Y LIBERTAD</td>\n",
       "      <td>13</td>\n",
       "      <td>0.341%</td>\n",
       "      <td>0.233%</td>\n",
       "      <td>AMAZONAS</td>\n",
       "      <td>BAGUA</td>\n",
       "      <td>ARAMANGO</td>\n",
       "      <td>010202</td>\n",
       "    </tr>\n",
       "    <tr>\n",
       "      <th>3</th>\n",
       "      <td>PARTIDO MORADO</td>\n",
       "      <td>41</td>\n",
       "      <td>1.074%</td>\n",
       "      <td>0.736%</td>\n",
       "      <td>AMAZONAS</td>\n",
       "      <td>BAGUA</td>\n",
       "      <td>ARAMANGO</td>\n",
       "      <td>010202</td>\n",
       "    </tr>\n",
       "    <tr>\n",
       "      <th>4</th>\n",
       "      <td>PERU PATRIA SEGURA</td>\n",
       "      <td>4</td>\n",
       "      <td>0.105%</td>\n",
       "      <td>0.072%</td>\n",
       "      <td>AMAZONAS</td>\n",
       "      <td>BAGUA</td>\n",
       "      <td>ARAMANGO</td>\n",
       "      <td>010202</td>\n",
       "    </tr>\n",
       "    <tr>\n",
       "      <th>5</th>\n",
       "      <td>VICTORIA NACIONAL</td>\n",
       "      <td>151</td>\n",
       "      <td>3.956%</td>\n",
       "      <td>2.710%</td>\n",
       "      <td>AMAZONAS</td>\n",
       "      <td>BAGUA</td>\n",
       "      <td>ARAMANGO</td>\n",
       "      <td>010202</td>\n",
       "    </tr>\n",
       "    <tr>\n",
       "      <th>6</th>\n",
       "      <td>ACCION POPULAR</td>\n",
       "      <td>267</td>\n",
       "      <td>6.995%</td>\n",
       "      <td>4.792%</td>\n",
       "      <td>AMAZONAS</td>\n",
       "      <td>BAGUA</td>\n",
       "      <td>ARAMANGO</td>\n",
       "      <td>010202</td>\n",
       "    </tr>\n",
       "    <tr>\n",
       "      <th>7</th>\n",
       "      <td>AVANZA PAIS - PARTIDO DE INTEGRACION SOCIAL</td>\n",
       "      <td>69</td>\n",
       "      <td>1.808%</td>\n",
       "      <td>1.238%</td>\n",
       "      <td>AMAZONAS</td>\n",
       "      <td>BAGUA</td>\n",
       "      <td>ARAMANGO</td>\n",
       "      <td>010202</td>\n",
       "    </tr>\n",
       "    <tr>\n",
       "      <th>8</th>\n",
       "      <td>PODEMOS PERU</td>\n",
       "      <td>265</td>\n",
       "      <td>6.943%</td>\n",
       "      <td>4.756%</td>\n",
       "      <td>AMAZONAS</td>\n",
       "      <td>BAGUA</td>\n",
       "      <td>ARAMANGO</td>\n",
       "      <td>010202</td>\n",
       "    </tr>\n",
       "    <tr>\n",
       "      <th>9</th>\n",
       "      <td>JUNTOS POR EL PERU</td>\n",
       "      <td>105</td>\n",
       "      <td>2.751%</td>\n",
       "      <td>1.884%</td>\n",
       "      <td>AMAZONAS</td>\n",
       "      <td>BAGUA</td>\n",
       "      <td>ARAMANGO</td>\n",
       "      <td>010202</td>\n",
       "    </tr>\n",
       "    <tr>\n",
       "      <th>10</th>\n",
       "      <td>PARTIDO POPULAR CRISTIANO - PPC</td>\n",
       "      <td>8</td>\n",
       "      <td>0.210%</td>\n",
       "      <td>0.144%</td>\n",
       "      <td>AMAZONAS</td>\n",
       "      <td>BAGUA</td>\n",
       "      <td>ARAMANGO</td>\n",
       "      <td>010202</td>\n",
       "    </tr>\n",
       "    <tr>\n",
       "      <th>11</th>\n",
       "      <td>FUERZA POPULAR</td>\n",
       "      <td>673</td>\n",
       "      <td>17.632%</td>\n",
       "      <td>12.078%</td>\n",
       "      <td>AMAZONAS</td>\n",
       "      <td>BAGUA</td>\n",
       "      <td>ARAMANGO</td>\n",
       "      <td>010202</td>\n",
       "    </tr>\n",
       "    <tr>\n",
       "      <th>12</th>\n",
       "      <td>UNION POR EL PERU</td>\n",
       "      <td>45</td>\n",
       "      <td>1.179%</td>\n",
       "      <td>0.808%</td>\n",
       "      <td>AMAZONAS</td>\n",
       "      <td>BAGUA</td>\n",
       "      <td>ARAMANGO</td>\n",
       "      <td>010202</td>\n",
       "    </tr>\n",
       "    <tr>\n",
       "      <th>13</th>\n",
       "      <td>RENOVACION POPULAR</td>\n",
       "      <td>252</td>\n",
       "      <td>6.602%</td>\n",
       "      <td>4.523%</td>\n",
       "      <td>AMAZONAS</td>\n",
       "      <td>BAGUA</td>\n",
       "      <td>ARAMANGO</td>\n",
       "      <td>010202</td>\n",
       "    </tr>\n",
       "    <tr>\n",
       "      <th>14</th>\n",
       "      <td>RENACIMIENTO UNIDO NACIONAL</td>\n",
       "      <td>42</td>\n",
       "      <td>1.100%</td>\n",
       "      <td>0.754%</td>\n",
       "      <td>AMAZONAS</td>\n",
       "      <td>BAGUA</td>\n",
       "      <td>ARAMANGO</td>\n",
       "      <td>010202</td>\n",
       "    </tr>\n",
       "    <tr>\n",
       "      <th>15</th>\n",
       "      <td>PARTIDO DEMOCRATICO SOMOS PERU</td>\n",
       "      <td>27</td>\n",
       "      <td>0.707%</td>\n",
       "      <td>0.485%</td>\n",
       "      <td>AMAZONAS</td>\n",
       "      <td>BAGUA</td>\n",
       "      <td>ARAMANGO</td>\n",
       "      <td>010202</td>\n",
       "    </tr>\n",
       "    <tr>\n",
       "      <th>16</th>\n",
       "      <td>PARTIDO POLITICO NACIONAL PERU LIBRE</td>\n",
       "      <td>1250</td>\n",
       "      <td>32.748%</td>\n",
       "      <td>22.434%</td>\n",
       "      <td>AMAZONAS</td>\n",
       "      <td>BAGUA</td>\n",
       "      <td>ARAMANGO</td>\n",
       "      <td>010202</td>\n",
       "    </tr>\n",
       "    <tr>\n",
       "      <th>17</th>\n",
       "      <td>DEMOCRACIA DIRECTA</td>\n",
       "      <td>8</td>\n",
       "      <td>0.210%</td>\n",
       "      <td>0.144%</td>\n",
       "      <td>AMAZONAS</td>\n",
       "      <td>BAGUA</td>\n",
       "      <td>ARAMANGO</td>\n",
       "      <td>010202</td>\n",
       "    </tr>\n",
       "    <tr>\n",
       "      <th>18</th>\n",
       "      <td>ALIANZA PARA EL PROGRESO</td>\n",
       "      <td>241</td>\n",
       "      <td>6.314%</td>\n",
       "      <td>4.325%</td>\n",
       "      <td>AMAZONAS</td>\n",
       "      <td>BAGUA</td>\n",
       "      <td>ARAMANGO</td>\n",
       "      <td>010202</td>\n",
       "    </tr>\n",
       "    <tr>\n",
       "      <th>19</th>\n",
       "      <td>TOTAL DE VOTOS VÁLIDOS</td>\n",
       "      <td>3817</td>\n",
       "      <td>100.000%</td>\n",
       "      <td>68.503%</td>\n",
       "      <td>AMAZONAS</td>\n",
       "      <td>BAGUA</td>\n",
       "      <td>ARAMANGO</td>\n",
       "      <td>010202</td>\n",
       "    </tr>\n",
       "    <tr>\n",
       "      <th>20</th>\n",
       "      <td>VOTOS EN BLANCO</td>\n",
       "      <td>1326</td>\n",
       "      <td>NaN</td>\n",
       "      <td>23.798%</td>\n",
       "      <td>AMAZONAS</td>\n",
       "      <td>BAGUA</td>\n",
       "      <td>ARAMANGO</td>\n",
       "      <td>010202</td>\n",
       "    </tr>\n",
       "    <tr>\n",
       "      <th>21</th>\n",
       "      <td>VOTOS NULOS</td>\n",
       "      <td>429</td>\n",
       "      <td>NaN</td>\n",
       "      <td>7.699%</td>\n",
       "      <td>AMAZONAS</td>\n",
       "      <td>BAGUA</td>\n",
       "      <td>ARAMANGO</td>\n",
       "      <td>010202</td>\n",
       "    </tr>\n",
       "    <tr>\n",
       "      <th>22</th>\n",
       "      <td>TOTAL DE VOTOS EMITIDOS</td>\n",
       "      <td>5572</td>\n",
       "      <td>NaN</td>\n",
       "      <td>100.000%</td>\n",
       "      <td>AMAZONAS</td>\n",
       "      <td>BAGUA</td>\n",
       "      <td>ARAMANGO</td>\n",
       "      <td>010202</td>\n",
       "    </tr>\n",
       "  </tbody>\n",
       "</table>\n",
       "</div>"
      ],
      "text/plain": [
       "                          organizaciones_politicas total share_validos  \\\n",
       "1                     PARTIDO NACIONALISTA PERUANO   356        9.327%   \n",
       "2   EL FRENTE AMPLIO POR JUSTICIA, VIDA Y LIBERTAD    13        0.341%   \n",
       "3                                   PARTIDO MORADO    41        1.074%   \n",
       "4                               PERU PATRIA SEGURA     4        0.105%   \n",
       "5                                VICTORIA NACIONAL   151        3.956%   \n",
       "6                                   ACCION POPULAR   267        6.995%   \n",
       "7      AVANZA PAIS - PARTIDO DE INTEGRACION SOCIAL    69        1.808%   \n",
       "8                                     PODEMOS PERU   265        6.943%   \n",
       "9                               JUNTOS POR EL PERU   105        2.751%   \n",
       "10                 PARTIDO POPULAR CRISTIANO - PPC     8        0.210%   \n",
       "11                                  FUERZA POPULAR   673       17.632%   \n",
       "12                               UNION POR EL PERU    45        1.179%   \n",
       "13                              RENOVACION POPULAR   252        6.602%   \n",
       "14                     RENACIMIENTO UNIDO NACIONAL    42        1.100%   \n",
       "15                  PARTIDO DEMOCRATICO SOMOS PERU    27        0.707%   \n",
       "16            PARTIDO POLITICO NACIONAL PERU LIBRE  1250       32.748%   \n",
       "17                              DEMOCRACIA DIRECTA     8        0.210%   \n",
       "18                        ALIANZA PARA EL PROGRESO   241        6.314%   \n",
       "19                          TOTAL DE VOTOS VÁLIDOS  3817      100.000%   \n",
       "20                                 VOTOS EN BLANCO  1326           NaN   \n",
       "21                                     VOTOS NULOS   429           NaN   \n",
       "22                         TOTAL DE VOTOS EMITIDOS  5572           NaN   \n",
       "\n",
       "   share_emitidos department province  district  ubigeo  \n",
       "1          6.389%   AMAZONAS    BAGUA  ARAMANGO  010202  \n",
       "2          0.233%   AMAZONAS    BAGUA  ARAMANGO  010202  \n",
       "3          0.736%   AMAZONAS    BAGUA  ARAMANGO  010202  \n",
       "4          0.072%   AMAZONAS    BAGUA  ARAMANGO  010202  \n",
       "5          2.710%   AMAZONAS    BAGUA  ARAMANGO  010202  \n",
       "6          4.792%   AMAZONAS    BAGUA  ARAMANGO  010202  \n",
       "7          1.238%   AMAZONAS    BAGUA  ARAMANGO  010202  \n",
       "8          4.756%   AMAZONAS    BAGUA  ARAMANGO  010202  \n",
       "9          1.884%   AMAZONAS    BAGUA  ARAMANGO  010202  \n",
       "10         0.144%   AMAZONAS    BAGUA  ARAMANGO  010202  \n",
       "11        12.078%   AMAZONAS    BAGUA  ARAMANGO  010202  \n",
       "12         0.808%   AMAZONAS    BAGUA  ARAMANGO  010202  \n",
       "13         4.523%   AMAZONAS    BAGUA  ARAMANGO  010202  \n",
       "14         0.754%   AMAZONAS    BAGUA  ARAMANGO  010202  \n",
       "15         0.485%   AMAZONAS    BAGUA  ARAMANGO  010202  \n",
       "16        22.434%   AMAZONAS    BAGUA  ARAMANGO  010202  \n",
       "17         0.144%   AMAZONAS    BAGUA  ARAMANGO  010202  \n",
       "18         4.325%   AMAZONAS    BAGUA  ARAMANGO  010202  \n",
       "19        68.503%   AMAZONAS    BAGUA  ARAMANGO  010202  \n",
       "20        23.798%   AMAZONAS    BAGUA  ARAMANGO  010202  \n",
       "21         7.699%   AMAZONAS    BAGUA  ARAMANGO  010202  \n",
       "22       100.000%   AMAZONAS    BAGUA  ARAMANGO  010202  "
      ]
     },
     "execution_count": 264,
     "metadata": {},
     "output_type": "execute_result"
    }
   ],
   "source": [
    "all_tables['010202']"
   ]
  },
  {
   "cell_type": "code",
   "execution_count": 266,
   "metadata": {},
   "outputs": [
    {
     "data": {
      "text/html": [
       "<div>\n",
       "<style scoped>\n",
       "    .dataframe tbody tr th:only-of-type {\n",
       "        vertical-align: middle;\n",
       "    }\n",
       "\n",
       "    .dataframe tbody tr th {\n",
       "        vertical-align: top;\n",
       "    }\n",
       "\n",
       "    .dataframe thead th {\n",
       "        text-align: right;\n",
       "    }\n",
       "</style>\n",
       "<table border=\"1\" class=\"dataframe\">\n",
       "  <thead>\n",
       "    <tr style=\"text-align: right;\">\n",
       "      <th></th>\n",
       "      <th>TOTAL DE VOTOS</th>\n",
       "      <th>TOTAL DE VOTOS.1</th>\n",
       "      <th>TOTAL DE VOTOS.2</th>\n",
       "      <th>TOTAL DE VOTOS.3</th>\n",
       "      <th>TOTAL DE VOTOS.4</th>\n",
       "      <th>TOTAL DE VOTOS.5</th>\n",
       "    </tr>\n",
       "  </thead>\n",
       "  <tbody>\n",
       "    <tr>\n",
       "      <th>0</th>\n",
       "      <td>ORGANIZACIONES POLÍTICAS</td>\n",
       "      <td>ORGANIZACIONES POLÍTICAS</td>\n",
       "      <td>ORGANIZACIONES POLÍTICAS</td>\n",
       "      <td>TOTAL</td>\n",
       "      <td>%VÁLIDOS</td>\n",
       "      <td>%EMITIDOS</td>\n",
       "    </tr>\n",
       "    <tr>\n",
       "      <th>1</th>\n",
       "      <td>NaN</td>\n",
       "      <td>NaN</td>\n",
       "      <td>PARTIDO NACIONALISTA PERUANO</td>\n",
       "      <td>15</td>\n",
       "      <td>4.144%</td>\n",
       "      <td>3.061%</td>\n",
       "    </tr>\n",
       "    <tr>\n",
       "      <th>2</th>\n",
       "      <td>NaN</td>\n",
       "      <td>NaN</td>\n",
       "      <td>EL FRENTE AMPLIO POR JUSTICIA, VIDA Y LIBERTAD</td>\n",
       "      <td>2</td>\n",
       "      <td>0.552%</td>\n",
       "      <td>0.408%</td>\n",
       "    </tr>\n",
       "    <tr>\n",
       "      <th>3</th>\n",
       "      <td>NaN</td>\n",
       "      <td>NaN</td>\n",
       "      <td>PARTIDO MORADO</td>\n",
       "      <td>0</td>\n",
       "      <td>0.000%</td>\n",
       "      <td>0.000%</td>\n",
       "    </tr>\n",
       "    <tr>\n",
       "      <th>4</th>\n",
       "      <td>NaN</td>\n",
       "      <td>NaN</td>\n",
       "      <td>PERU PATRIA SEGURA</td>\n",
       "      <td>3</td>\n",
       "      <td>0.829%</td>\n",
       "      <td>0.612%</td>\n",
       "    </tr>\n",
       "    <tr>\n",
       "      <th>5</th>\n",
       "      <td>NaN</td>\n",
       "      <td>NaN</td>\n",
       "      <td>VICTORIA NACIONAL</td>\n",
       "      <td>0</td>\n",
       "      <td>0.000%</td>\n",
       "      <td>0.000%</td>\n",
       "    </tr>\n",
       "    <tr>\n",
       "      <th>6</th>\n",
       "      <td>NaN</td>\n",
       "      <td>NaN</td>\n",
       "      <td>ACCION POPULAR</td>\n",
       "      <td>50</td>\n",
       "      <td>13.812%</td>\n",
       "      <td>10.204%</td>\n",
       "    </tr>\n",
       "    <tr>\n",
       "      <th>7</th>\n",
       "      <td>NaN</td>\n",
       "      <td>NaN</td>\n",
       "      <td>AVANZA PAIS - PARTIDO DE INTEGRACION SOCIAL</td>\n",
       "      <td>6</td>\n",
       "      <td>1.657%</td>\n",
       "      <td>1.224%</td>\n",
       "    </tr>\n",
       "    <tr>\n",
       "      <th>8</th>\n",
       "      <td>NaN</td>\n",
       "      <td>NaN</td>\n",
       "      <td>PODEMOS PERU</td>\n",
       "      <td>2</td>\n",
       "      <td>0.552%</td>\n",
       "      <td>0.408%</td>\n",
       "    </tr>\n",
       "    <tr>\n",
       "      <th>9</th>\n",
       "      <td>NaN</td>\n",
       "      <td>NaN</td>\n",
       "      <td>JUNTOS POR EL PERU</td>\n",
       "      <td>36</td>\n",
       "      <td>9.945%</td>\n",
       "      <td>7.347%</td>\n",
       "    </tr>\n",
       "    <tr>\n",
       "      <th>10</th>\n",
       "      <td>NaN</td>\n",
       "      <td>NaN</td>\n",
       "      <td>PARTIDO POPULAR CRISTIANO - PPC</td>\n",
       "      <td>0</td>\n",
       "      <td>0.000%</td>\n",
       "      <td>0.000%</td>\n",
       "    </tr>\n",
       "    <tr>\n",
       "      <th>11</th>\n",
       "      <td>NaN</td>\n",
       "      <td>NaN</td>\n",
       "      <td>FUERZA POPULAR</td>\n",
       "      <td>19</td>\n",
       "      <td>5.249%</td>\n",
       "      <td>3.878%</td>\n",
       "    </tr>\n",
       "    <tr>\n",
       "      <th>12</th>\n",
       "      <td>NaN</td>\n",
       "      <td>NaN</td>\n",
       "      <td>UNION POR EL PERU</td>\n",
       "      <td>2</td>\n",
       "      <td>0.552%</td>\n",
       "      <td>0.408%</td>\n",
       "    </tr>\n",
       "    <tr>\n",
       "      <th>13</th>\n",
       "      <td>NaN</td>\n",
       "      <td>NaN</td>\n",
       "      <td>RENOVACION POPULAR</td>\n",
       "      <td>4</td>\n",
       "      <td>1.105%</td>\n",
       "      <td>0.816%</td>\n",
       "    </tr>\n",
       "    <tr>\n",
       "      <th>14</th>\n",
       "      <td>NaN</td>\n",
       "      <td>NaN</td>\n",
       "      <td>RENACIMIENTO UNIDO NACIONAL</td>\n",
       "      <td>11</td>\n",
       "      <td>3.039%</td>\n",
       "      <td>2.245%</td>\n",
       "    </tr>\n",
       "    <tr>\n",
       "      <th>15</th>\n",
       "      <td>NaN</td>\n",
       "      <td>NaN</td>\n",
       "      <td>PARTIDO DEMOCRATICO SOMOS PERU</td>\n",
       "      <td>1</td>\n",
       "      <td>0.276%</td>\n",
       "      <td>0.204%</td>\n",
       "    </tr>\n",
       "    <tr>\n",
       "      <th>16</th>\n",
       "      <td>NaN</td>\n",
       "      <td>NaN</td>\n",
       "      <td>PARTIDO POLITICO NACIONAL PERU LIBRE</td>\n",
       "      <td>210</td>\n",
       "      <td>58.011%</td>\n",
       "      <td>42.857%</td>\n",
       "    </tr>\n",
       "    <tr>\n",
       "      <th>17</th>\n",
       "      <td>NaN</td>\n",
       "      <td>NaN</td>\n",
       "      <td>DEMOCRACIA DIRECTA</td>\n",
       "      <td>1</td>\n",
       "      <td>0.276%</td>\n",
       "      <td>0.204%</td>\n",
       "    </tr>\n",
       "    <tr>\n",
       "      <th>18</th>\n",
       "      <td>NaN</td>\n",
       "      <td>NaN</td>\n",
       "      <td>ALIANZA PARA EL PROGRESO</td>\n",
       "      <td>0</td>\n",
       "      <td>0.000%</td>\n",
       "      <td>0.000%</td>\n",
       "    </tr>\n",
       "    <tr>\n",
       "      <th>19</th>\n",
       "      <td>NaN</td>\n",
       "      <td>NaN</td>\n",
       "      <td>TOTAL DE VOTOS VÁLIDOS</td>\n",
       "      <td>362</td>\n",
       "      <td>100.000%</td>\n",
       "      <td>73.878%</td>\n",
       "    </tr>\n",
       "    <tr>\n",
       "      <th>20</th>\n",
       "      <td>NaN</td>\n",
       "      <td>NaN</td>\n",
       "      <td>VOTOS EN BLANCO</td>\n",
       "      <td>102</td>\n",
       "      <td>NaN</td>\n",
       "      <td>20.816%</td>\n",
       "    </tr>\n",
       "    <tr>\n",
       "      <th>21</th>\n",
       "      <td>NaN</td>\n",
       "      <td>NaN</td>\n",
       "      <td>VOTOS NULOS</td>\n",
       "      <td>26</td>\n",
       "      <td>NaN</td>\n",
       "      <td>5.306%</td>\n",
       "    </tr>\n",
       "    <tr>\n",
       "      <th>22</th>\n",
       "      <td>NaN</td>\n",
       "      <td>NaN</td>\n",
       "      <td>TOTAL DE VOTOS EMITIDOS</td>\n",
       "      <td>490</td>\n",
       "      <td>NaN</td>\n",
       "      <td>100.000%</td>\n",
       "    </tr>\n",
       "  </tbody>\n",
       "</table>\n",
       "</div>"
      ],
      "text/plain": [
       "              TOTAL DE VOTOS          TOTAL DE VOTOS.1  \\\n",
       "0   ORGANIZACIONES POLÍTICAS  ORGANIZACIONES POLÍTICAS   \n",
       "1                        NaN                       NaN   \n",
       "2                        NaN                       NaN   \n",
       "3                        NaN                       NaN   \n",
       "4                        NaN                       NaN   \n",
       "5                        NaN                       NaN   \n",
       "6                        NaN                       NaN   \n",
       "7                        NaN                       NaN   \n",
       "8                        NaN                       NaN   \n",
       "9                        NaN                       NaN   \n",
       "10                       NaN                       NaN   \n",
       "11                       NaN                       NaN   \n",
       "12                       NaN                       NaN   \n",
       "13                       NaN                       NaN   \n",
       "14                       NaN                       NaN   \n",
       "15                       NaN                       NaN   \n",
       "16                       NaN                       NaN   \n",
       "17                       NaN                       NaN   \n",
       "18                       NaN                       NaN   \n",
       "19                       NaN                       NaN   \n",
       "20                       NaN                       NaN   \n",
       "21                       NaN                       NaN   \n",
       "22                       NaN                       NaN   \n",
       "\n",
       "                                  TOTAL DE VOTOS.2 TOTAL DE VOTOS.3  \\\n",
       "0                         ORGANIZACIONES POLÍTICAS            TOTAL   \n",
       "1                     PARTIDO NACIONALISTA PERUANO               15   \n",
       "2   EL FRENTE AMPLIO POR JUSTICIA, VIDA Y LIBERTAD                2   \n",
       "3                                   PARTIDO MORADO                0   \n",
       "4                               PERU PATRIA SEGURA                3   \n",
       "5                                VICTORIA NACIONAL                0   \n",
       "6                                   ACCION POPULAR               50   \n",
       "7      AVANZA PAIS - PARTIDO DE INTEGRACION SOCIAL                6   \n",
       "8                                     PODEMOS PERU                2   \n",
       "9                               JUNTOS POR EL PERU               36   \n",
       "10                 PARTIDO POPULAR CRISTIANO - PPC                0   \n",
       "11                                  FUERZA POPULAR               19   \n",
       "12                               UNION POR EL PERU                2   \n",
       "13                              RENOVACION POPULAR                4   \n",
       "14                     RENACIMIENTO UNIDO NACIONAL               11   \n",
       "15                  PARTIDO DEMOCRATICO SOMOS PERU                1   \n",
       "16            PARTIDO POLITICO NACIONAL PERU LIBRE              210   \n",
       "17                              DEMOCRACIA DIRECTA                1   \n",
       "18                        ALIANZA PARA EL PROGRESO                0   \n",
       "19                          TOTAL DE VOTOS VÁLIDOS              362   \n",
       "20                                 VOTOS EN BLANCO              102   \n",
       "21                                     VOTOS NULOS               26   \n",
       "22                         TOTAL DE VOTOS EMITIDOS              490   \n",
       "\n",
       "   TOTAL DE VOTOS.4 TOTAL DE VOTOS.5  \n",
       "0          %VÁLIDOS        %EMITIDOS  \n",
       "1            4.144%           3.061%  \n",
       "2            0.552%           0.408%  \n",
       "3            0.000%           0.000%  \n",
       "4            0.829%           0.612%  \n",
       "5            0.000%           0.000%  \n",
       "6           13.812%          10.204%  \n",
       "7            1.657%           1.224%  \n",
       "8            0.552%           0.408%  \n",
       "9            9.945%           7.347%  \n",
       "10           0.000%           0.000%  \n",
       "11           5.249%           3.878%  \n",
       "12           0.552%           0.408%  \n",
       "13           1.105%           0.816%  \n",
       "14           3.039%           2.245%  \n",
       "15           0.276%           0.204%  \n",
       "16          58.011%          42.857%  \n",
       "17           0.276%           0.204%  \n",
       "18           0.000%           0.000%  \n",
       "19         100.000%          73.878%  \n",
       "20              NaN          20.816%  \n",
       "21              NaN           5.306%  \n",
       "22              NaN         100.000%  "
      ]
     },
     "execution_count": 266,
     "metadata": {},
     "output_type": "execute_result"
    }
   ],
   "source": [
    "# pd.html nos devuelve en una lsita todas las tablas dentro del inner html.\n",
    "\n",
    "table[0]"
   ]
  },
  {
   "cell_type": "code",
   "execution_count": 267,
   "metadata": {},
   "outputs": [
    {
     "ename": "IndexError",
     "evalue": "list index out of range",
     "output_type": "error",
     "traceback": [
      "\u001b[1;31m---------------------------------------------------------------------------\u001b[0m",
      "\u001b[1;31mIndexError\u001b[0m                                Traceback (most recent call last)",
      "Input \u001b[1;32mIn [267]\u001b[0m, in \u001b[0;36m<cell line: 1>\u001b[1;34m()\u001b[0m\n\u001b[1;32m----> 1\u001b[0m \u001b[43mtable\u001b[49m\u001b[43m[\u001b[49m\u001b[38;5;241;43m1\u001b[39;49m\u001b[43m]\u001b[49m\n",
      "\u001b[1;31mIndexError\u001b[0m: list index out of range"
     ]
    }
   ],
   "source": [
    "table[1] # Solo hay una tabla , claro está"
   ]
  },
  {
   "cell_type": "markdown",
   "metadata": {},
   "source": [
    "# References \n",
    "\n",
    "https://pypi.org/project/webdriver-manager/\n",
    "\n",
    "https://selenium-python.readthedocs.io/installation.html#drivers\n",
    "\n",
    "### simulador HTML\n",
    "\n",
    "https://www.w3schools.com/tags/tryit.asp?filename=tryhtml_button_test\n",
    "\n",
    "### Class - HTML\n",
    "\n",
    "https://www.geeksforgeeks.org/html-class-attribute/#:~:text=Class%20in%20html%3A,with%20the%20specified%20class%20name."
   ]
  }
 ],
 "metadata": {
  "hide_input": false,
  "kernelspec": {
   "display_name": "Python 3 (ipykernel)",
   "language": "python",
   "name": "python3"
  },
  "language_info": {
   "codemirror_mode": {
    "name": "ipython",
    "version": 3
   },
   "file_extension": ".py",
   "mimetype": "text/x-python",
   "name": "python",
   "nbconvert_exporter": "python",
   "pygments_lexer": "ipython3",
   "version": "3.10.4"
  }
 },
 "nbformat": 4,
 "nbformat_minor": 4
}
