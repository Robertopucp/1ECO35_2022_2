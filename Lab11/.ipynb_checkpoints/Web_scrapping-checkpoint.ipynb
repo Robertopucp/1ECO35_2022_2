{
 "cells": [
  {
   "cell_type": "code",
   "execution_count": 1,
   "metadata": {},
   "outputs": [
    {
     "data": {
      "text/html": [
       "\n",
       "<style>\n",
       "    div#notebook-container    { width: 95%; }\n",
       "    div#menubar-container     { width: 65%; }\n",
       "    div#maintoolbar-container { width: 99%; }a\n",
       "</style>\n"
      ],
      "text/plain": [
       "<IPython.core.display.HTML object>"
      ]
     },
     "metadata": {},
     "output_type": "display_data"
    }
   ],
   "source": [
    "from IPython.display import display, HTML\n",
    "\n",
    "display(HTML(data=\"\"\"\n",
    "<style>\n",
    "    div#notebook-container    { width: 95%; }\n",
    "    div#menubar-container     { width: 65%; }\n",
    "    div#maintoolbar-container { width: 99%; }a\n",
    "</style>\n",
    "\"\"\"))"
   ]
  },
  {
   "cell_type": "markdown",
   "metadata": {},
   "source": [
    "# 7. Web Scraping"
   ]
  },
  {
   "cell_type": "markdown",
   "metadata": {},
   "source": [
    "Web  scraping  is  the  practice  of  gathering  data  through  any  means  otherthan a program interacting with an API (or, obviously, through a human using a webbrowser).  This  is  most  commonly  accomplished  by  writing  an  automated  programthat queries a web server, requests data (usually in the form of the HTML and otherfiles  that  comprise  web  pages),  and  then  parses  that  data  to  extract  needed  information."
   ]
  },
  {
   "cell_type": "markdown",
   "metadata": {},
   "source": [
    "# 7.1 Selenium\n",
    "Selenium automates browsers. That's it! <br>\n",
    "Selenium is a Python library and tool used for automating web browsers to do a number of tasks. One of such is web-scraping to extract useful data and information that may be otherwise unavailable. <br>\n",
    "**For this course, we use Chrome.**"
   ]
  },
  {
   "cell_type": "markdown",
   "metadata": {},
   "source": [
    "## 7.1 Installing Libraries\n",
    "We need to install these two libraries"
   ]
  },
  {
   "cell_type": "code",
   "execution_count": 1,
   "metadata": {},
   "outputs": [],
   "source": [
    "#!pip install selenium\n",
    "#!pip install webdriver-manager"
   ]
  },
  {
   "cell_type": "markdown",
   "metadata": {},
   "source": [
    "## 7.2 Calling Libraries"
   ]
  },
  {
   "cell_type": "code",
   "execution_count": 2,
   "metadata": {},
   "outputs": [],
   "source": [
    "# this library is to manipulate browser\n",
    "from selenium import webdriver  # Es\n",
    "\n",
    "# it allows you to work with differen versions of drivers\n",
    "# We call ChromeDriver\n",
    "from webdriver_manager.chrome import ChromeDriverManager\n",
    "import re\n",
    "import time \n",
    "from selenium.webdriver.support.ui import Select"
   ]
  },
  {
   "cell_type": "markdown",
   "metadata": {},
   "source": [
    "## 7.3 Launch/Set the Driver\n",
    "This code opens a Chrome Driver. We are going to use it to go navigate on the web."
   ]
  },
  {
   "cell_type": "code",
   "execution_count": 3,
   "metadata": {},
   "outputs": [],
   "source": [
    "import os\n",
    "import sys"
   ]
  },
  {
   "cell_type": "code",
   "execution_count": 4,
   "metadata": {},
   "outputs": [
    {
     "name": "stderr",
     "output_type": "stream",
     "text": [
      "C:\\Users\\Roberto\\AppData\\Local\\Temp\\ipykernel_16324\\1202734277.py:3: DeprecationWarning: executable_path has been deprecated, please pass in a Service object\n",
      "  driver = webdriver.Chrome(\"chromedriver.exe\")\n"
     ]
    },
    {
     "ename": "SessionNotCreatedException",
     "evalue": "Message: session not created: This version of ChromeDriver only supports Chrome version 101\nCurrent browser version is 103.0.5060.114 with binary path C:\\Program Files\\Google\\Chrome\\Application\\chrome.exe\nStacktrace:\nBacktrace:\n\tOrdinal0 [0x0084B8F3+2406643]\n\tOrdinal0 [0x007DAF31+1945393]\n\tOrdinal0 [0x006CC748+837448]\n\tOrdinal0 [0x006EC8B3+968883]\n\tOrdinal0 [0x006E84BA+951482]\n\tOrdinal0 [0x006E5D71+941425]\n\tOrdinal0 [0x00718EE0+1150688]\n\tOrdinal0 [0x00718B3A+1149754]\n\tOrdinal0 [0x00714096+1130646]\n\tOrdinal0 [0x006EE636+976438]\n\tOrdinal0 [0x006EF546+980294]\n\tGetHandleVerifier [0x00AB9612+2498066]\n\tGetHandleVerifier [0x00AAC920+2445600]\n\tGetHandleVerifier [0x008E4F2A+579370]\n\tGetHandleVerifier [0x008E3D36+574774]\n\tOrdinal0 [0x007E1C0B+1973259]\n\tOrdinal0 [0x007E6688+1992328]\n\tOrdinal0 [0x007E6775+1992565]\n\tOrdinal0 [0x007EF8D1+2029777]\n\tBaseThreadInitThunk [0x76CF6739+25]\n\tRtlGetFullPathName_UEx [0x77B38FEF+1215]\n\tRtlGetFullPathName_UEx [0x77B38FBD+1165]\n",
     "output_type": "error",
     "traceback": [
      "\u001b[1;31m---------------------------------------------------------------------------\u001b[0m",
      "\u001b[1;31mSessionNotCreatedException\u001b[0m                Traceback (most recent call last)",
      "Input \u001b[1;32mIn [4]\u001b[0m, in \u001b[0;36m<cell line: 3>\u001b[1;34m()\u001b[0m\n\u001b[0;32m      1\u001b[0m \u001b[38;5;66;03m# Case 1 - Download the driver\u001b[39;00m\n\u001b[1;32m----> 3\u001b[0m driver \u001b[38;5;241m=\u001b[39m \u001b[43mwebdriver\u001b[49m\u001b[38;5;241;43m.\u001b[39;49m\u001b[43mChrome\u001b[49m\u001b[43m(\u001b[49m\u001b[38;5;124;43m\"\u001b[39;49m\u001b[38;5;124;43mchromedriver.exe\u001b[39;49m\u001b[38;5;124;43m\"\u001b[39;49m\u001b[43m)\u001b[49m\n\u001b[0;32m      4\u001b[0m driver\u001b[38;5;241m.\u001b[39mmaximize_window()\n\u001b[0;32m      6\u001b[0m url \u001b[38;5;241m=\u001b[39m \u001b[38;5;124m'\u001b[39m\u001b[38;5;124mhttps://resultadoshistorico.onpe.gob.pe/EG2021/\u001b[39m\u001b[38;5;124m'\u001b[39m\n",
      "File \u001b[1;32m~\\anaconda3\\lib\\site-packages\\selenium\\webdriver\\chrome\\webdriver.py:70\u001b[0m, in \u001b[0;36mWebDriver.__init__\u001b[1;34m(self, executable_path, port, options, service_args, desired_capabilities, service_log_path, chrome_options, service, keep_alive)\u001b[0m\n\u001b[0;32m     67\u001b[0m \u001b[38;5;28;01mif\u001b[39;00m \u001b[38;5;129;01mnot\u001b[39;00m service:\n\u001b[0;32m     68\u001b[0m     service \u001b[38;5;241m=\u001b[39m Service(executable_path, port, service_args, service_log_path)\n\u001b[1;32m---> 70\u001b[0m \u001b[38;5;28;43msuper\u001b[39;49m\u001b[43m(\u001b[49m\u001b[43mWebDriver\u001b[49m\u001b[43m,\u001b[49m\u001b[43m \u001b[49m\u001b[38;5;28;43mself\u001b[39;49m\u001b[43m)\u001b[49m\u001b[38;5;241;43m.\u001b[39;49m\u001b[38;5;21;43m__init__\u001b[39;49m\u001b[43m(\u001b[49m\u001b[43mDesiredCapabilities\u001b[49m\u001b[38;5;241;43m.\u001b[39;49m\u001b[43mCHROME\u001b[49m\u001b[43m[\u001b[49m\u001b[38;5;124;43m'\u001b[39;49m\u001b[38;5;124;43mbrowserName\u001b[39;49m\u001b[38;5;124;43m'\u001b[39;49m\u001b[43m]\u001b[49m\u001b[43m,\u001b[49m\u001b[43m \u001b[49m\u001b[38;5;124;43m\"\u001b[39;49m\u001b[38;5;124;43mgoog\u001b[39;49m\u001b[38;5;124;43m\"\u001b[39;49m\u001b[43m,\u001b[49m\n\u001b[0;32m     71\u001b[0m \u001b[43m                                \u001b[49m\u001b[43mport\u001b[49m\u001b[43m,\u001b[49m\u001b[43m \u001b[49m\u001b[43moptions\u001b[49m\u001b[43m,\u001b[49m\n\u001b[0;32m     72\u001b[0m \u001b[43m                                \u001b[49m\u001b[43mservice_args\u001b[49m\u001b[43m,\u001b[49m\u001b[43m \u001b[49m\u001b[43mdesired_capabilities\u001b[49m\u001b[43m,\u001b[49m\n\u001b[0;32m     73\u001b[0m \u001b[43m                                \u001b[49m\u001b[43mservice_log_path\u001b[49m\u001b[43m,\u001b[49m\u001b[43m \u001b[49m\u001b[43mservice\u001b[49m\u001b[43m,\u001b[49m\u001b[43m \u001b[49m\u001b[43mkeep_alive\u001b[49m\u001b[43m)\u001b[49m\n",
      "File \u001b[1;32m~\\anaconda3\\lib\\site-packages\\selenium\\webdriver\\chromium\\webdriver.py:92\u001b[0m, in \u001b[0;36mChromiumDriver.__init__\u001b[1;34m(self, browser_name, vendor_prefix, port, options, service_args, desired_capabilities, service_log_path, service, keep_alive)\u001b[0m\n\u001b[0;32m     89\u001b[0m \u001b[38;5;28mself\u001b[39m\u001b[38;5;241m.\u001b[39mservice\u001b[38;5;241m.\u001b[39mstart()\n\u001b[0;32m     91\u001b[0m \u001b[38;5;28;01mtry\u001b[39;00m:\n\u001b[1;32m---> 92\u001b[0m     \u001b[43mRemoteWebDriver\u001b[49m\u001b[38;5;241;43m.\u001b[39;49m\u001b[38;5;21;43m__init__\u001b[39;49m\u001b[43m(\u001b[49m\n\u001b[0;32m     93\u001b[0m \u001b[43m        \u001b[49m\u001b[38;5;28;43mself\u001b[39;49m\u001b[43m,\u001b[49m\n\u001b[0;32m     94\u001b[0m \u001b[43m        \u001b[49m\u001b[43mcommand_executor\u001b[49m\u001b[38;5;241;43m=\u001b[39;49m\u001b[43mChromiumRemoteConnection\u001b[49m\u001b[43m(\u001b[49m\n\u001b[0;32m     95\u001b[0m \u001b[43m            \u001b[49m\u001b[43mremote_server_addr\u001b[49m\u001b[38;5;241;43m=\u001b[39;49m\u001b[38;5;28;43mself\u001b[39;49m\u001b[38;5;241;43m.\u001b[39;49m\u001b[43mservice\u001b[49m\u001b[38;5;241;43m.\u001b[39;49m\u001b[43mservice_url\u001b[49m\u001b[43m,\u001b[49m\n\u001b[0;32m     96\u001b[0m \u001b[43m            \u001b[49m\u001b[43mbrowser_name\u001b[49m\u001b[38;5;241;43m=\u001b[39;49m\u001b[43mbrowser_name\u001b[49m\u001b[43m,\u001b[49m\u001b[43m \u001b[49m\u001b[43mvendor_prefix\u001b[49m\u001b[38;5;241;43m=\u001b[39;49m\u001b[43mvendor_prefix\u001b[49m\u001b[43m,\u001b[49m\n\u001b[0;32m     97\u001b[0m \u001b[43m            \u001b[49m\u001b[43mkeep_alive\u001b[49m\u001b[38;5;241;43m=\u001b[39;49m\u001b[43mkeep_alive\u001b[49m\u001b[43m,\u001b[49m\u001b[43m \u001b[49m\u001b[43mignore_proxy\u001b[49m\u001b[38;5;241;43m=\u001b[39;49m\u001b[43m_ignore_proxy\u001b[49m\u001b[43m)\u001b[49m\u001b[43m,\u001b[49m\n\u001b[0;32m     98\u001b[0m \u001b[43m        \u001b[49m\u001b[43moptions\u001b[49m\u001b[38;5;241;43m=\u001b[39;49m\u001b[43moptions\u001b[49m\u001b[43m)\u001b[49m\n\u001b[0;32m     99\u001b[0m \u001b[38;5;28;01mexcept\u001b[39;00m \u001b[38;5;167;01mException\u001b[39;00m:\n\u001b[0;32m    100\u001b[0m     \u001b[38;5;28mself\u001b[39m\u001b[38;5;241m.\u001b[39mquit()\n",
      "File \u001b[1;32m~\\anaconda3\\lib\\site-packages\\selenium\\webdriver\\remote\\webdriver.py:275\u001b[0m, in \u001b[0;36mWebDriver.__init__\u001b[1;34m(self, command_executor, desired_capabilities, browser_profile, proxy, keep_alive, file_detector, options)\u001b[0m\n\u001b[0;32m    273\u001b[0m \u001b[38;5;28mself\u001b[39m\u001b[38;5;241m.\u001b[39m_authenticator_id \u001b[38;5;241m=\u001b[39m \u001b[38;5;28;01mNone\u001b[39;00m\n\u001b[0;32m    274\u001b[0m \u001b[38;5;28mself\u001b[39m\u001b[38;5;241m.\u001b[39mstart_client()\n\u001b[1;32m--> 275\u001b[0m \u001b[38;5;28;43mself\u001b[39;49m\u001b[38;5;241;43m.\u001b[39;49m\u001b[43mstart_session\u001b[49m\u001b[43m(\u001b[49m\u001b[43mcapabilities\u001b[49m\u001b[43m,\u001b[49m\u001b[43m \u001b[49m\u001b[43mbrowser_profile\u001b[49m\u001b[43m)\u001b[49m\n",
      "File \u001b[1;32m~\\anaconda3\\lib\\site-packages\\selenium\\webdriver\\remote\\webdriver.py:365\u001b[0m, in \u001b[0;36mWebDriver.start_session\u001b[1;34m(self, capabilities, browser_profile)\u001b[0m\n\u001b[0;32m    363\u001b[0m w3c_caps \u001b[38;5;241m=\u001b[39m _make_w3c_caps(capabilities)\n\u001b[0;32m    364\u001b[0m parameters \u001b[38;5;241m=\u001b[39m {\u001b[38;5;124m\"\u001b[39m\u001b[38;5;124mcapabilities\u001b[39m\u001b[38;5;124m\"\u001b[39m: w3c_caps}\n\u001b[1;32m--> 365\u001b[0m response \u001b[38;5;241m=\u001b[39m \u001b[38;5;28;43mself\u001b[39;49m\u001b[38;5;241;43m.\u001b[39;49m\u001b[43mexecute\u001b[49m\u001b[43m(\u001b[49m\u001b[43mCommand\u001b[49m\u001b[38;5;241;43m.\u001b[39;49m\u001b[43mNEW_SESSION\u001b[49m\u001b[43m,\u001b[49m\u001b[43m \u001b[49m\u001b[43mparameters\u001b[49m\u001b[43m)\u001b[49m\n\u001b[0;32m    366\u001b[0m \u001b[38;5;28;01mif\u001b[39;00m \u001b[38;5;124m'\u001b[39m\u001b[38;5;124msessionId\u001b[39m\u001b[38;5;124m'\u001b[39m \u001b[38;5;129;01mnot\u001b[39;00m \u001b[38;5;129;01min\u001b[39;00m response:\n\u001b[0;32m    367\u001b[0m     response \u001b[38;5;241m=\u001b[39m response[\u001b[38;5;124m'\u001b[39m\u001b[38;5;124mvalue\u001b[39m\u001b[38;5;124m'\u001b[39m]\n",
      "File \u001b[1;32m~\\anaconda3\\lib\\site-packages\\selenium\\webdriver\\remote\\webdriver.py:430\u001b[0m, in \u001b[0;36mWebDriver.execute\u001b[1;34m(self, driver_command, params)\u001b[0m\n\u001b[0;32m    428\u001b[0m response \u001b[38;5;241m=\u001b[39m \u001b[38;5;28mself\u001b[39m\u001b[38;5;241m.\u001b[39mcommand_executor\u001b[38;5;241m.\u001b[39mexecute(driver_command, params)\n\u001b[0;32m    429\u001b[0m \u001b[38;5;28;01mif\u001b[39;00m response:\n\u001b[1;32m--> 430\u001b[0m     \u001b[38;5;28;43mself\u001b[39;49m\u001b[38;5;241;43m.\u001b[39;49m\u001b[43merror_handler\u001b[49m\u001b[38;5;241;43m.\u001b[39;49m\u001b[43mcheck_response\u001b[49m\u001b[43m(\u001b[49m\u001b[43mresponse\u001b[49m\u001b[43m)\u001b[49m\n\u001b[0;32m    431\u001b[0m     response[\u001b[38;5;124m'\u001b[39m\u001b[38;5;124mvalue\u001b[39m\u001b[38;5;124m'\u001b[39m] \u001b[38;5;241m=\u001b[39m \u001b[38;5;28mself\u001b[39m\u001b[38;5;241m.\u001b[39m_unwrap_value(\n\u001b[0;32m    432\u001b[0m         response\u001b[38;5;241m.\u001b[39mget(\u001b[38;5;124m'\u001b[39m\u001b[38;5;124mvalue\u001b[39m\u001b[38;5;124m'\u001b[39m, \u001b[38;5;28;01mNone\u001b[39;00m))\n\u001b[0;32m    433\u001b[0m     \u001b[38;5;28;01mreturn\u001b[39;00m response\n",
      "File \u001b[1;32m~\\anaconda3\\lib\\site-packages\\selenium\\webdriver\\remote\\errorhandler.py:247\u001b[0m, in \u001b[0;36mErrorHandler.check_response\u001b[1;34m(self, response)\u001b[0m\n\u001b[0;32m    245\u001b[0m         alert_text \u001b[38;5;241m=\u001b[39m value[\u001b[38;5;124m'\u001b[39m\u001b[38;5;124malert\u001b[39m\u001b[38;5;124m'\u001b[39m]\u001b[38;5;241m.\u001b[39mget(\u001b[38;5;124m'\u001b[39m\u001b[38;5;124mtext\u001b[39m\u001b[38;5;124m'\u001b[39m)\n\u001b[0;32m    246\u001b[0m     \u001b[38;5;28;01mraise\u001b[39;00m exception_class(message, screen, stacktrace, alert_text)  \u001b[38;5;66;03m# type: ignore[call-arg]  # mypy is not smart enough here\u001b[39;00m\n\u001b[1;32m--> 247\u001b[0m \u001b[38;5;28;01mraise\u001b[39;00m exception_class(message, screen, stacktrace)\n",
      "\u001b[1;31mSessionNotCreatedException\u001b[0m: Message: session not created: This version of ChromeDriver only supports Chrome version 101\nCurrent browser version is 103.0.5060.114 with binary path C:\\Program Files\\Google\\Chrome\\Application\\chrome.exe\nStacktrace:\nBacktrace:\n\tOrdinal0 [0x0084B8F3+2406643]\n\tOrdinal0 [0x007DAF31+1945393]\n\tOrdinal0 [0x006CC748+837448]\n\tOrdinal0 [0x006EC8B3+968883]\n\tOrdinal0 [0x006E84BA+951482]\n\tOrdinal0 [0x006E5D71+941425]\n\tOrdinal0 [0x00718EE0+1150688]\n\tOrdinal0 [0x00718B3A+1149754]\n\tOrdinal0 [0x00714096+1130646]\n\tOrdinal0 [0x006EE636+976438]\n\tOrdinal0 [0x006EF546+980294]\n\tGetHandleVerifier [0x00AB9612+2498066]\n\tGetHandleVerifier [0x00AAC920+2445600]\n\tGetHandleVerifier [0x008E4F2A+579370]\n\tGetHandleVerifier [0x008E3D36+574774]\n\tOrdinal0 [0x007E1C0B+1973259]\n\tOrdinal0 [0x007E6688+1992328]\n\tOrdinal0 [0x007E6775+1992565]\n\tOrdinal0 [0x007EF8D1+2029777]\n\tBaseThreadInitThunk [0x76CF6739+25]\n\tRtlGetFullPathName_UEx [0x77B38FEF+1215]\n\tRtlGetFullPathName_UEx [0x77B38FBD+1165]\n"
     ]
    }
   ],
   "source": [
    "# Case 1 - Download the driver\n",
    "\n",
    "driver = webdriver.Chrome(\"chromedriver.exe\")\n",
    "driver.maximize_window()\n",
    "\n",
    "url = 'https://resultadoshistorico.onpe.gob.pe/EG2021/'\n",
    "\n",
    "driver.get( url )"
   ]
  },
  {
   "cell_type": "markdown",
   "metadata": {},
   "source": [
    "### Check and download Chrome drive [link](https://chromedriver.chromium.org/downloads)\n"
   ]
  },
  {
   "cell_type": "code",
   "execution_count": 9,
   "metadata": {},
   "outputs": [
    {
     "name": "stdout",
     "output_type": "stream",
     "text": [
      "\n"
     ]
    },
    {
     "name": "stderr",
     "output_type": "stream",
     "text": [
      "[WDM] - ====== WebDriver manager ======\n",
      "[WDM] - Current google-chrome version is 102.0.5005\n",
      "[WDM] - Get LATEST chromedriver version for 102.0.5005 google-chrome\n",
      "[WDM] - Driver [C:\\Users\\Roberto\\.wdm\\drivers\\chromedriver\\win32\\102.0.5005.61\\chromedriver.exe] found in cache\n",
      "C:\\Users\\Roberto\\AppData\\Local\\Temp\\ipykernel_25236\\700475719.py:3: DeprecationWarning: executable_path has been deprecated, please pass in a Service object\n",
      "  driver = webdriver.Chrome( ChromeDriverManager().install() )\n"
     ]
    }
   ],
   "source": [
    "# Case 2 - ChromeDriverManager\n",
    "\n",
    "driver = webdriver.Chrome( ChromeDriverManager().install() )\n",
    "\n",
    "time.sleep(5)\n",
    "\n",
    "driver.maximize_window()\n",
    "\n",
    "\n",
    "# open web page\n",
    "\n",
    "url = 'https://resultadoshistorico.onpe.gob.pe/EG2021/'\n",
    "\n",
    "driver.get( url )"
   ]
  },
  {
   "cell_type": "markdown",
   "metadata": {},
   "source": [
    "## Chrome is being controlled by automated test software"
   ]
  },
  {
   "cell_type": "markdown",
   "metadata": {},
   "source": [
    "![Chrome is controlled by automated software](Images/chrome_automated.png)"
   ]
  },
  {
   "cell_type": "code",
   "execution_count": 10,
   "metadata": {},
   "outputs": [
    {
     "name": "stdout",
     "output_type": "stream",
     "text": [
      "Title:  Presentación de Resultados Elecciones Generales y Parlamento Andino 2021\n"
     ]
    }
   ],
   "source": [
    "# Access to the title\n",
    "print('Title: ', driver.title)"
   ]
  },
  {
   "cell_type": "code",
   "execution_count": 11,
   "metadata": {},
   "outputs": [
    {
     "name": "stdout",
     "output_type": "stream",
     "text": [
      "Current Page URL:  https://resultadoshistorico.onpe.gob.pe/EG2021/\n"
     ]
    }
   ],
   "source": [
    "# Access to the curent url \n",
    "print('Current Page URL: ', driver.current_url)"
   ]
  },
  {
   "cell_type": "code",
   "execution_count": 12,
   "metadata": {},
   "outputs": [
    {
     "data": {
      "text/plain": [
       "True"
      ]
     },
     "execution_count": 12,
     "metadata": {},
     "output_type": "execute_result"
    }
   ],
   "source": [
    "# Make screenshot of the webpage\n",
    "driver.save_screenshot('Images/resultados_presidenciales.png')"
   ]
  },
  {
   "cell_type": "code",
   "execution_count": 13,
   "metadata": {},
   "outputs": [],
   "source": [
    "if re.search(r'ResumenGeneral', driver.current_url):\n",
    "    driver.save_screenshot('Images/resultados_presidenciales1.png') #save screenshot with provided name\n",
    "    print('Resultados Presidenciales saved!')"
   ]
  },
  {
   "cell_type": "code",
   "execution_count": 14,
   "metadata": {},
   "outputs": [
    {
     "name": "stdout",
     "output_type": "stream",
     "text": [
      "Cookies obtained from resultados_presidenciales\n",
      "[{'domain': 'resultadoshistorico.onpe.gob.pe', 'httpOnly': True, 'name': 'web_server_iron', 'path': '/', 'secure': True, 'value': '!sBU0QmKKNrOgNDrmXqVss7ZgpjThif4ATEn0hFdNgnqjxTvFX94PyFpjmIAWvQlcv/Vs97/IihS8KaM='}, {'domain': '.onpe.gob.pe', 'expiry': 1654995356, 'httpOnly': False, 'name': '_gid', 'path': '/', 'secure': False, 'value': 'GA1.3.890511373.1654908956'}, {'domain': '.onpe.gob.pe', 'expiry': 1717980956, 'httpOnly': False, 'name': '_ga', 'path': '/', 'secure': False, 'value': 'GA1.3.1689915470.1654908956'}]\n"
     ]
    }
   ],
   "source": [
    "#get cookie information\n",
    "cookies = driver.get_cookies() \n",
    "print('Cookies obtained from resultados_presidenciales')\n",
    "print(cookies)"
   ]
  },
  {
   "cell_type": "code",
   "execution_count": 15,
   "metadata": {},
   "outputs": [
    {
     "data": {
      "text/plain": [
       "'<html lang=\"en\" class=\"hydrated\"><head><style>\\n    :root {\\n      /* Typography */\\n      --amplify-font-family: \\'Amazon Ember\\', \\'Helvetica Neue\\', \\'Helvetica\\', \\'Arial\\', sans-serif;\\n\\n      --amplify-text-xxs: 0.75rem;\\n      --amplify-text-xs: 0.81rem;\\n      --amplify-text-sm: 0.875rem;\\n      --amplify-text-md: 1rem;\\n      --amplify-text-md-sub: 1.15rem;\\n      --amplify-text-lg: 1.5rem;\\n      --amplify-text-xl: 2rem;\\n      --amplify-text-xxl: 2.5rem;\\n\\n      /* Colors */\\n      --amplify-primary-color: #ff9900;\\n      --amplify-primary-contrast: var(--amplify-white);\\n      --amplify-primary-tint: #ffac31;\\n      --amplify-primary-shade: #e88b01;\\n\\n      --amplify-secondary-color: #152939;\\n      --amplify-secondary-contrast: var(--amplify-white);\\n      --amplify-secondary-tint: #31465f;\\n      --amplify-secondary-shade: #1F2A37;\\n\\n      --amplify-tertiary-color: #5d8aff;\\n      --amplify-tertiary-contrast: var(--amplify-white);\\n      --amplify-tertiary-tint: #7da1ff;\\n      --amplify-tertiary-shade: #537BE5;\\n\\n      --amplify-background-color: var(--amplify-white);\\n\\n      /* Neutral */\\n      --amplify-grey: #828282;\\n      --amplify-light-grey: #c4c4c4;\\n      --amplify-white: #ffffff;\\n      --amplify-smoke-white: #f5f5f5;\\n      --amplify-red: #dd3f5b;\\n      --amplify-blue: #099ac8;\\n    }\\n  </style>\\n  <meta charset=\"utf-8\"><style data-styles=\"\">amplify-icon,amplify-authenticator,amplify-federated-sign-in,amplify-select-mfa-type,amplify-s3-image-picker,amplify-chatbot,amplify-greetings,amplify-s3-album,amplify-s3-text-picker,amplify-tooltip,amplify-icon-button,amplify-checkbox,amplify-container,amplify-link,amplify-photo-picker,amplify-s3-image,amplify-s3-text,amplify-loading-spinner,amplify-section,amplify-button,amplify-sign-out,amplify-nav,amplify-toast,amplify-picker,amplify-form-field,amplify-hint,amplify-input,amplify-label,amplify-totp-setup,amplify-radio-button,amplify-sign-in-button,amplify-amazon-button,amplify-auth0-button,amplify-facebook-button,amplify-google-button,amplify-oauth-button,amplify-strike,amplify-federated-buttons,amplify-auth-fields,amplify-phone-field,amplify-code-field,amplify-email-field,amplify-password-field,amplify-username-field,amplify-country-dial-code,amplify-select,amplify-form-section,amplify-sign-in,amplify-confirm-sign-in,amplify-confirm-sign-up,amplify-forgot-password,amplify-require-new-password,amplify-sign-up,amplify-verify-contact{visibility:hidden}.hydrated{visibility:inherit}</style>\\n  <meta name=\"google\" content=\"notranslate\">\\n  <title>Presentación de Resultados Elecciones Generales y Parlamento Andino 2021</title>\\n  <base href=\"/EG2021/\">\\n  <script type=\"text/javascript\" src=\"https://bam.nr-data.net/1/df67590f5e?a=507167406&amp;sa=1&amp;v=1158.afc605b&amp;t=Unnamed%20Transaction&amp;rst=2803&amp;ref=https://resultadoshistorico.onpe.gob.pe/EG2021/&amp;be=760&amp;fe=2605&amp;dc=989&amp;af=err,xhr,stn,ins,spa&amp;perf=%7B%22timing%22:%7B%22of%22:1654908954412,%22n%22:0,%22f%22:2,%22dn%22:8,%22dne%22:8,%22c%22:8,%22s%22:42,%22ce%22:187,%22rq%22:187,%22rp%22:330,%22rpe%22:332,%22dl%22:338,%22di%22:779,%22ds%22:989,%22de%22:990,%22dc%22:2604,%22l%22:2604,%22le%22:2607%7D,%22navigation%22:%7B%7D%7D&amp;fp=1248&amp;fcp=1248&amp;jsonp=NREUM.setToken\"></script><script src=\"https://js-agent.newrelic.com/nr-spa-1158.min.js\"></script><script type=\"text/javascript\" async=\"\" src=\"https://www.google-analytics.com/analytics.js\"></script><script src=\"./assets/lib/amcharts/amcharts.js\" type=\"text/javascript\"></script>\\n  <script src=\"./assets/lib/amcharts/serial.js\" type=\"text/javascript\"></script>\\n  <script src=\"./assets/lib/amcharts/pie.js\" type=\"text/javascript\"></script>\\n  <script src=\"./assets/lib/ammap/ammap.js\" type=\"text/javascript\"></script>\\n  <script src=\"./assets/js/scripts.js\" type=\"text/javascript\"></script>\\n  <!-- Global  -->\\n  <script async=\"\" src=\"https://www.googletagmanager.com/gtag/js?id=UA-184811717-4\"></script>\\n  <script>\\n    window.dataLayer = window.dataLayer || [];\\n    function gtag(){dataLayer.push(arguments);}\\n    gtag(\\'js\\', new Date());\\n    gtag(\\'config\\',\\'UA-184811717-4\\');\\n  </script>\\n\\n  <meta name=\"viewport\" content=\"width=device-width, initial-scale=1\">\\n  <meta name=\"google\" content=\"notranslate\">\\n  <link rel=\"icon\" type=\"image/x-icon\" href=\"favicon.ico\">  \\n  <style>\\n    @media (max-width: 1366px) {\\n      svg g g.amcharts-category-axis text.amcharts-axis-label tspan {\\n        font-weight: bold; \\n        font-size: 8px;   \\n      }\\n    }\\n    </style>\\n<link rel=\"stylesheet\" href=\"styles.bd7c35172284dda8da0f.css\"><script charset=\"utf-8\" src=\"common-es2015.f2fb729fa304a53b955b.js\"></script><script charset=\"utf-8\" src=\"6-es2015.f76683b054d851f58f21.js\"></script><style>@font-face{font-family:Glyphicons Halflings;src:url(glyphicons-halflings-regular.5be1347c682810f199c7.eot);src:url(glyphicons-halflings-regular.5be1347c682810f199c7.eot?#iefix) format(\"embedded-opentype\"),url(glyphicons-halflings-regular.be810be3a3e14c682a25.woff2) format(\"woff2\"),url(glyphicons-halflings-regular.82b1212e45a2bc35dd73.woff) format(\"truetype\"),url(glyphicons-halflings-regular.9a17786234899efcc963.svg#glyphicons_halflingsregular) format(\"svg\")}.amcharts-category-axis[_ngcontent-bbq-c64]   .amcharts-axis-label[_ngcontent-bbq-c64]:first-child   tspan[_ngcontent-bbq-c64]{font-weight:700;font-size:500px}.glyphicon[_ngcontent-bbq-c64]{position:relative;top:1px;display:inline-block;font-family:Glyphicons Halflings;font-style:normal;font-weight:400;line-height:1;-webkit-font-smoothing:antialiased;-moz-osx-font-smoothing:grayscale}.glyphicon-asterisk[_ngcontent-bbq-c64]:before{content:\"\\\\2a\"}.glyphicon-plus[_ngcontent-bbq-c64]:before{content:\"\\\\2b\"}.glyphicon-eur[_ngcontent-bbq-c64]:before, .glyphicon-euro[_ngcontent-bbq-c64]:before{content:\"\\\\20ac\"}.glyphicon-minus[_ngcontent-bbq-c64]:before{content:\"\\\\2212\"}.glyphicon-cloud[_ngcontent-bbq-c64]:before{content:\"\\\\2601\"}.glyphicon-envelope[_ngcontent-bbq-c64]:before{content:\"\\\\2709\"}.glyphicon-pencil[_ngcontent-bbq-c64]:before{content:\"\\\\270f\"}.glyphicon-glass[_ngcontent-bbq-c64]:before{content:\"\\\\e001\"}.glyphicon-music[_ngcontent-bbq-c64]:before{content:\"\\\\e002\"}.glyphicon-search[_ngcontent-bbq-c64]:before{content:\"\\\\e003\"}.glyphicon-heart[_ngcontent-bbq-c64]:before{content:\"\\\\e005\"}.glyphicon-star[_ngcontent-bbq-c64]:before{content:\"\\\\e006\"}.glyphicon-star-empty[_ngcontent-bbq-c64]:before{content:\"\\\\e007\"}.glyphicon-user[_ngcontent-bbq-c64]:before{content:\"\\\\e008\"}.glyphicon-film[_ngcontent-bbq-c64]:before{content:\"\\\\e009\"}.glyphicon-th-large[_ngcontent-bbq-c64]:before{content:\"\\\\e010\"}.glyphicon-th[_ngcontent-bbq-c64]:before{content:\"\\\\e011\"}.glyphicon-th-list[_ngcontent-bbq-c64]:before{content:\"\\\\e012\"}.glyphicon-ok[_ngcontent-bbq-c64]:before{content:\"\\\\e013\"}.glyphicon-remove[_ngcontent-bbq-c64]:before{content:\"\\\\e014\"}.glyphicon-zoom-in[_ngcontent-bbq-c64]:before{content:\"\\\\e015\"}.glyphicon-zoom-out[_ngcontent-bbq-c64]:before{content:\"\\\\e016\"}.glyphicon-off[_ngcontent-bbq-c64]:before{content:\"\\\\e017\"}.glyphicon-signal[_ngcontent-bbq-c64]:before{content:\"\\\\e018\"}.glyphicon-cog[_ngcontent-bbq-c64]:before{content:\"\\\\e019\"}.glyphicon-trash[_ngcontent-bbq-c64]:before{content:\"\\\\e020\"}.glyphicon-home[_ngcontent-bbq-c64]:before{content:\"\\\\e021\"}.glyphicon-file[_ngcontent-bbq-c64]:before{content:\"\\\\e022\"}.glyphicon-time[_ngcontent-bbq-c64]:before{content:\"\\\\e023\"}.glyphicon-road[_ngcontent-bbq-c64]:before{content:\"\\\\e024\"}.glyphicon-download-alt[_ngcontent-bbq-c64]:before{content:\"\\\\e025\"}.glyphicon-download[_ngcontent-bbq-c64]:before{content:\"\\\\e026\"}.glyphicon-upload[_ngcontent-bbq-c64]:before{content:\"\\\\e027\"}.glyphicon-inbox[_ngcontent-bbq-c64]:before{content:\"\\\\e028\"}.glyphicon-play-circle[_ngcontent-bbq-c64]:before{content:\"\\\\e029\"}.glyphicon-repeat[_ngcontent-bbq-c64]:before{content:\"\\\\e030\"}.glyphicon-refresh[_ngcontent-bbq-c64]:before{content:\"\\\\e031\"}.glyphicon-list-alt[_ngcontent-bbq-c64]:before{content:\"\\\\e032\"}.glyphicon-lock[_ngcontent-bbq-c64]:before{content:\"\\\\e033\"}.glyphicon-flag[_ngcontent-bbq-c64]:before{content:\"\\\\e034\"}.glyphicon-headphones[_ngcontent-bbq-c64]:before{content:\"\\\\e035\"}.glyphicon-volume-off[_ngcontent-bbq-c64]:before{content:\"\\\\e036\"}.glyphicon-volume-down[_ngcontent-bbq-c64]:before{content:\"\\\\e037\"}.glyphicon-volume-up[_ngcontent-bbq-c64]:before{content:\"\\\\e038\"}.glyphicon-qrcode[_ngcontent-bbq-c64]:before{content:\"\\\\e039\"}.glyphicon-barcode[_ngcontent-bbq-c64]:before{content:\"\\\\e040\"}.glyphicon-tag[_ngcontent-bbq-c64]:before{content:\"\\\\e041\"}.glyphicon-tags[_ngcontent-bbq-c64]:before{content:\"\\\\e042\"}.glyphicon-book[_ngcontent-bbq-c64]:before{content:\"\\\\e043\"}.glyphicon-bookmark[_ngcontent-bbq-c64]:before{content:\"\\\\e044\"}.glyphicon-print[_ngcontent-bbq-c64]:before{content:\"\\\\e045\"}.glyphicon-camera[_ngcontent-bbq-c64]:before{content:\"\\\\e046\"}.glyphicon-font[_ngcontent-bbq-c64]:before{content:\"\\\\e047\"}.glyphicon-bold[_ngcontent-bbq-c64]:before{content:\"\\\\e048\"}.glyphicon-italic[_ngcontent-bbq-c64]:before{content:\"\\\\e049\"}.glyphicon-text-height[_ngcontent-bbq-c64]:before{content:\"\\\\e050\"}.glyphicon-text-width[_ngcontent-bbq-c64]:before{content:\"\\\\e051\"}.glyphicon-align-left[_ngcontent-bbq-c64]:before{content:\"\\\\e052\"}.glyphicon-align-center[_ngcontent-bbq-c64]:before{content:\"\\\\e053\"}.glyphicon-align-right[_ngcontent-bbq-c64]:before{content:\"\\\\e054\"}.glyphicon-align-justify[_ngcontent-bbq-c64]:before{content:\"\\\\e055\"}.glyphicon-list[_ngcontent-bbq-c64]:before{content:\"\\\\e056\"}.glyphicon-indent-left[_ngcontent-bbq-c64]:before{content:\"\\\\e057\"}.glyphicon-indent-right[_ngcontent-bbq-c64]:before{content:\"\\\\e058\"}.glyphicon-facetime-video[_ngcontent-bbq-c64]:before{content:\"\\\\e059\"}.glyphicon-picture[_ngcontent-bbq-c64]:before{content:\"\\\\e060\"}.glyphicon-map-marker[_ngcontent-bbq-c64]:before{content:\"\\\\e062\"}.glyphicon-adjust[_ngcontent-bbq-c64]:before{content:\"\\\\e063\"}.glyphicon-tint[_ngcontent-bbq-c64]:before{content:\"\\\\e064\"}.glyphicon-edit[_ngcontent-bbq-c64]:before{content:\"\\\\e065\"}.glyphicon-share[_ngcontent-bbq-c64]:before{content:\"\\\\e066\"}.glyphicon-check[_ngcontent-bbq-c64]:before{content:\"\\\\e067\"}.glyphicon-move[_ngcontent-bbq-c64]:before{content:\"\\\\e068\"}.glyphicon-step-backward[_ngcontent-bbq-c64]:before{content:\"\\\\e069\"}.glyphicon-fast-backward[_ngcontent-bbq-c64]:before{content:\"\\\\e070\"}.glyphicon-backward[_ngcontent-bbq-c64]:before{content:\"\\\\e071\"}.glyphicon-play[_ngcontent-bbq-c64]:before{content:\"\\\\e072\"}.glyphicon-pause[_ngcontent-bbq-c64]:before{content:\"\\\\e073\"}.glyphicon-stop[_ngcontent-bbq-c64]:before{content:\"\\\\e074\"}.glyphicon-forward[_ngcontent-bbq-c64]:before{content:\"\\\\e075\"}.glyphicon-fast-forward[_ngcontent-bbq-c64]:before{content:\"\\\\e076\"}.glyphicon-step-forward[_ngcontent-bbq-c64]:before{content:\"\\\\e077\"}.glyphicon-eject[_ngcontent-bbq-c64]:before{content:\"\\\\e078\"}.glyphicon-chevron-left[_ngcontent-bbq-c64]:before{content:\"\\\\e079\"}.glyphicon-chevron-right[_ngcontent-bbq-c64]:before{content:\"\\\\e080\"}.glyphicon-plus-sign[_ngcontent-bbq-c64]:before{content:\"\\\\e081\"}.glyphicon-minus-sign[_ngcontent-bbq-c64]:before{content:\"\\\\e082\"}.glyphicon-remove-sign[_ngcontent-bbq-c64]:before{content:\"\\\\e083\"}.glyphicon-ok-sign[_ngcontent-bbq-c64]:before{content:\"\\\\e084\"}.glyphicon-question-sign[_ngcontent-bbq-c64]:before{content:\"\\\\e085\"}.glyphicon-info-sign[_ngcontent-bbq-c64]:before{content:\"\\\\e086\"}.glyphicon-screenshot[_ngcontent-bbq-c64]:before{content:\"\\\\e087\"}.glyphicon-remove-circle[_ngcontent-bbq-c64]:before{content:\"\\\\e088\"}.glyphicon-ok-circle[_ngcontent-bbq-c64]:before{content:\"\\\\e089\"}.glyphicon-ban-circle[_ngcontent-bbq-c64]:before{content:\"\\\\e090\"}.glyphicon-arrow-left[_ngcontent-bbq-c64]:before{content:\"\\\\e091\"}.glyphicon-arrow-right[_ngcontent-bbq-c64]:before{content:\"\\\\e092\"}.glyphicon-arrow-up[_ngcontent-bbq-c64]:before{content:\"\\\\e093\"}.glyphicon-arrow-down[_ngcontent-bbq-c64]:before{content:\"\\\\e094\"}.glyphicon-share-alt[_ngcontent-bbq-c64]:before{content:\"\\\\e095\"}.glyphicon-resize-full[_ngcontent-bbq-c64]:before{content:\"\\\\e096\"}.glyphicon-resize-small[_ngcontent-bbq-c64]:before{content:\"\\\\e097\"}.glyphicon-exclamation-sign[_ngcontent-bbq-c64]:before{content:\"\\\\e101\"}.glyphicon-gift[_ngcontent-bbq-c64]:before{content:\"\\\\e102\"}.glyphicon-leaf[_ngcontent-bbq-c64]:before{content:\"\\\\e103\"}.glyphicon-fire[_ngcontent-bbq-c64]:before{content:\"\\\\e104\"}.glyphicon-eye-open[_ngcontent-bbq-c64]:before{content:\"\\\\e105\"}.glyphicon-eye-close[_ngcontent-bbq-c64]:before{content:\"\\\\e106\"}.glyphicon-warning-sign[_ngcontent-bbq-c64]:before{content:\"\\\\e107\"}.glyphicon-plane[_ngcontent-bbq-c64]:before{content:\"\\\\e108\"}.glyphicon-calendar[_ngcontent-bbq-c64]:before{content:\"\\\\e109\"}.glyphicon-random[_ngcontent-bbq-c64]:before{content:\"\\\\e110\"}.glyphicon-comment[_ngcontent-bbq-c64]:before{content:\"\\\\e111\"}.glyphicon-magnet[_ngcontent-bbq-c64]:before{content:\"\\\\e112\"}.glyphicon-chevron-up[_ngcontent-bbq-c64]:before{content:\"\\\\e113\"}.glyphicon-chevron-down[_ngcontent-bbq-c64]:before{content:\"\\\\e114\"}.glyphicon-retweet[_ngcontent-bbq-c64]:before{content:\"\\\\e115\"}.glyphicon-shopping-cart[_ngcontent-bbq-c64]:before{content:\"\\\\e116\"}.glyphicon-folder-close[_ngcontent-bbq-c64]:before{content:\"\\\\e117\"}.glyphicon-folder-open[_ngcontent-bbq-c64]:before{content:\"\\\\e118\"}.glyphicon-resize-vertical[_ngcontent-bbq-c64]:before{content:\"\\\\e119\"}.glyphicon-resize-horizontal[_ngcontent-bbq-c64]:before{content:\"\\\\e120\"}.glyphicon-hdd[_ngcontent-bbq-c64]:before{content:\"\\\\e121\"}.glyphicon-bullhorn[_ngcontent-bbq-c64]:before{content:\"\\\\e122\"}.glyphicon-bell[_ngcontent-bbq-c64]:before{content:\"\\\\e123\"}.glyphicon-certificate[_ngcontent-bbq-c64]:before{content:\"\\\\e124\"}.glyphicon-thumbs-up[_ngcontent-bbq-c64]:before{content:\"\\\\e125\"}.glyphicon-thumbs-down[_ngcontent-bbq-c64]:before{content:\"\\\\e126\"}.glyphicon-hand-right[_ngcontent-bbq-c64]:before{content:\"\\\\e127\"}.glyphicon-hand-left[_ngcontent-bbq-c64]:before{content:\"\\\\e128\"}.glyphicon-hand-up[_ngcontent-bbq-c64]:before{content:\"\\\\e129\"}.glyphicon-hand-down[_ngcontent-bbq-c64]:before{content:\"\\\\e130\"}.glyphicon-circle-arrow-right[_ngcontent-bbq-c64]:before{content:\"\\\\e131\"}.glyphicon-circle-arrow-left[_ngcontent-bbq-c64]:before{content:\"\\\\e132\"}.glyphicon-circle-arrow-up[_ngcontent-bbq-c64]:before{content:\"\\\\e133\"}.glyphicon-circle-arrow-down[_ngcontent-bbq-c64]:before{content:\"\\\\e134\"}.glyphicon-globe[_ngcontent-bbq-c64]:before{content:\"\\\\e135\"}.glyphicon-wrench[_ngcontent-bbq-c64]:before{content:\"\\\\e136\"}.glyphicon-tasks[_ngcontent-bbq-c64]:before{content:\"\\\\e137\"}.glyphicon-filter[_ngcontent-bbq-c64]:before{content:\"\\\\e138\"}.glyphicon-briefcase[_ngcontent-bbq-c64]:before{content:\"\\\\e139\"}.glyphicon-fullscreen[_ngcontent-bbq-c64]:before{content:\"\\\\e140\"}.glyphicon-dashboard[_ngcontent-bbq-c64]:before{content:\"\\\\e141\"}.glyphicon-paperclip[_ngcontent-bbq-c64]:before{content:\"\\\\e142\"}.glyphicon-heart-empty[_ngcontent-bbq-c64]:before{content:\"\\\\e143\"}.glyphicon-link[_ngcontent-bbq-c64]:before{content:\"\\\\e144\"}.glyphicon-phone[_ngcontent-bbq-c64]:before{content:\"\\\\e145\"}.glyphicon-pushpin[_ngcontent-bbq-c64]:before{content:\"\\\\e146\"}.glyphicon-usd[_ngcontent-bbq-c64]:before{content:\"\\\\e148\"}.glyphicon-gbp[_ngcontent-bbq-c64]:before{content:\"\\\\e149\"}.glyphicon-sort[_ngcontent-bbq-c64]:before{content:\"\\\\e150\"}.glyphicon-sort-by-alphabet[_ngcontent-bbq-c64]:before{content:\"\\\\e151\"}.glyphicon-sort-by-alphabet-alt[_ngcontent-bbq-c64]:before{content:\"\\\\e152\"}.glyphicon-sort-by-order[_ngcontent-bbq-c64]:before{content:\"\\\\e153\"}.glyphicon-sort-by-order-alt[_ngcontent-bbq-c64]:before{content:\"\\\\e154\"}.glyphicon-sort-by-attributes[_ngcontent-bbq-c64]:before{content:\"\\\\e155\"}.glyphicon-sort-by-attributes-alt[_ngcontent-bbq-c64]:before{content:\"\\\\e156\"}.glyphicon-unchecked[_ngcontent-bbq-c64]:before{content:\"\\\\e157\"}.glyphicon-expand[_ngcontent-bbq-c64]:before{content:\"\\\\e158\"}.glyphicon-collapse-down[_ngcontent-bbq-c64]:before{content:\"\\\\e159\"}.glyphicon-collapse-up[_ngcontent-bbq-c64]:before{content:\"\\\\e160\"}.glyphicon-log-in[_ngcontent-bbq-c64]:before{content:\"\\\\e161\"}.glyphicon-flash[_ngcontent-bbq-c64]:before{content:\"\\\\e162\"}.glyphicon-log-out[_ngcontent-bbq-c64]:before{content:\"\\\\e163\"}.glyphicon-new-window[_ngcontent-bbq-c64]:before{content:\"\\\\e164\"}.glyphicon-record[_ngcontent-bbq-c64]:before{content:\"\\\\e165\"}.glyphicon-save[_ngcontent-bbq-c64]:before{content:\"\\\\e166\"}.glyphicon-open[_ngcontent-bbq-c64]:before{content:\"\\\\e167\"}.glyphicon-saved[_ngcontent-bbq-c64]:before{content:\"\\\\e168\"}.glyphicon-import[_ngcontent-bbq-c64]:before{content:\"\\\\e169\"}.glyphicon-export[_ngcontent-bbq-c64]:before{content:\"\\\\e170\"}.glyphicon-send[_ngcontent-bbq-c64]:before{content:\"\\\\e171\"}.glyphicon-floppy-disk[_ngcontent-bbq-c64]:before{content:\"\\\\e172\"}.glyphicon-floppy-saved[_ngcontent-bbq-c64]:before{content:\"\\\\e173\"}.glyphicon-floppy-remove[_ngcontent-bbq-c64]:before{content:\"\\\\e174\"}.glyphicon-floppy-save[_ngcontent-bbq-c64]:before{content:\"\\\\e175\"}.glyphicon-floppy-open[_ngcontent-bbq-c64]:before{content:\"\\\\e176\"}.glyphicon-credit-card[_ngcontent-bbq-c64]:before{content:\"\\\\e177\"}.glyphicon-transfer[_ngcontent-bbq-c64]:before{content:\"\\\\e178\"}.glyphicon-cutlery[_ngcontent-bbq-c64]:before{content:\"\\\\e179\"}.glyphicon-header[_ngcontent-bbq-c64]:before{content:\"\\\\e180\"}.glyphicon-compressed[_ngcontent-bbq-c64]:before{content:\"\\\\e181\"}.glyphicon-earphone[_ngcontent-bbq-c64]:before{content:\"\\\\e182\"}.glyphicon-phone-alt[_ngcontent-bbq-c64]:before{content:\"\\\\e183\"}.glyphicon-tower[_ngcontent-bbq-c64]:before{content:\"\\\\e184\"}.glyphicon-stats[_ngcontent-bbq-c64]:before{content:\"\\\\e185\"}.glyphicon-sd-video[_ngcontent-bbq-c64]:before{content:\"\\\\e186\"}.glyphicon-hd-video[_ngcontent-bbq-c64]:before{content:\"\\\\e187\"}.glyphicon-subtitles[_ngcontent-bbq-c64]:before{content:\"\\\\e188\"}.glyphicon-sound-stereo[_ngcontent-bbq-c64]:before{content:\"\\\\e189\"}.glyphicon-sound-dolby[_ngcontent-bbq-c64]:before{content:\"\\\\e190\"}.glyphicon-sound-5-1[_ngcontent-bbq-c64]:before{content:\"\\\\e191\"}.glyphicon-sound-6-1[_ngcontent-bbq-c64]:before{content:\"\\\\e192\"}.glyphicon-sound-7-1[_ngcontent-bbq-c64]:before{content:\"\\\\e193\"}.glyphicon-copyright-mark[_ngcontent-bbq-c64]:before{content:\"\\\\e194\"}.glyphicon-registration-mark[_ngcontent-bbq-c64]:before{content:\"\\\\e195\"}.glyphicon-cloud-download[_ngcontent-bbq-c64]:before{content:\"\\\\e197\"}.glyphicon-cloud-upload[_ngcontent-bbq-c64]:before{content:\"\\\\e198\"}.glyphicon-tree-conifer[_ngcontent-bbq-c64]:before{content:\"\\\\e199\"}.glyphicon-tree-deciduous[_ngcontent-bbq-c64]:before{content:\"\\\\e200\"}.glyphicon-cd[_ngcontent-bbq-c64]:before{content:\"\\\\e201\"}.glyphicon-save-file[_ngcontent-bbq-c64]:before{content:\"\\\\e202\"}.glyphicon-open-file[_ngcontent-bbq-c64]:before{content:\"\\\\e203\"}.glyphicon-level-up[_ngcontent-bbq-c64]:before{content:\"\\\\e204\"}.glyphicon-copy[_ngcontent-bbq-c64]:before{content:\"\\\\e205\"}.glyphicon-paste[_ngcontent-bbq-c64]:before{content:\"\\\\e206\"}.glyphicon-alert[_ngcontent-bbq-c64]:before{content:\"\\\\e209\"}.glyphicon-equalizer[_ngcontent-bbq-c64]:before{content:\"\\\\e210\"}.glyphicon-king[_ngcontent-bbq-c64]:before{content:\"\\\\e211\"}.glyphicon-queen[_ngcontent-bbq-c64]:before{content:\"\\\\e212\"}.glyphicon-pawn[_ngcontent-bbq-c64]:before{content:\"\\\\e213\"}.glyphicon-bishop[_ngcontent-bbq-c64]:before{content:\"\\\\e214\"}.glyphicon-knight[_ngcontent-bbq-c64]:before{content:\"\\\\e215\"}.glyphicon-baby-formula[_ngcontent-bbq-c64]:before{content:\"\\\\e216\"}.glyphicon-tent[_ngcontent-bbq-c64]:before{content:\"\\\\26fa\"}.glyphicon-blackboard[_ngcontent-bbq-c64]:before{content:\"\\\\e218\"}.glyphicon-bed[_ngcontent-bbq-c64]:before{content:\"\\\\e219\"}.glyphicon-apple[_ngcontent-bbq-c64]:before{content:\"\\\\f8ff\"}.glyphicon-erase[_ngcontent-bbq-c64]:before{content:\"\\\\e221\"}.glyphicon-hourglass[_ngcontent-bbq-c64]:before{content:\"\\\\231b\"}.glyphicon-lamp[_ngcontent-bbq-c64]:before{content:\"\\\\e223\"}.glyphicon-duplicate[_ngcontent-bbq-c64]:before{content:\"\\\\e224\"}.glyphicon-piggy-bank[_ngcontent-bbq-c64]:before{content:\"\\\\e225\"}.glyphicon-scissors[_ngcontent-bbq-c64]:before{content:\"\\\\e226\"}.glyphicon-bitcoin[_ngcontent-bbq-c64]:before, .glyphicon-btc[_ngcontent-bbq-c64]:before, .glyphicon-xbt[_ngcontent-bbq-c64]:before{content:\"\\\\e227\"}.glyphicon-jpy[_ngcontent-bbq-c64]:before, .glyphicon-yen[_ngcontent-bbq-c64]:before{content:\"\\\\00a5\"}.glyphicon-rub[_ngcontent-bbq-c64]:before, .glyphicon-ruble[_ngcontent-bbq-c64]:before{content:\"\\\\20bd\"}.glyphicon-scale[_ngcontent-bbq-c64]:before{content:\"\\\\e230\"}.glyphicon-ice-lolly[_ngcontent-bbq-c64]:before{content:\"\\\\e231\"}.glyphicon-ice-lolly-tasted[_ngcontent-bbq-c64]:before{content:\"\\\\e232\"}.glyphicon-education[_ngcontent-bbq-c64]:before{content:\"\\\\e233\"}.glyphicon-option-horizontal[_ngcontent-bbq-c64]:before{content:\"\\\\e234\"}.glyphicon-option-vertical[_ngcontent-bbq-c64]:before{content:\"\\\\e235\"}.glyphicon-menu-hamburger[_ngcontent-bbq-c64]:before{content:\"\\\\e236\"}.glyphicon-modal-window[_ngcontent-bbq-c64]:before{content:\"\\\\e237\"}.glyphicon-oil[_ngcontent-bbq-c64]:before{content:\"\\\\e238\"}.glyphicon-grain[_ngcontent-bbq-c64]:before{content:\"\\\\e239\"}.glyphicon-sunglasses[_ngcontent-bbq-c64]:before{content:\"\\\\e240\"}.glyphicon-text-size[_ngcontent-bbq-c64]:before{content:\"\\\\e241\"}.glyphicon-text-color[_ngcontent-bbq-c64]:before{content:\"\\\\e242\"}.glyphicon-text-background[_ngcontent-bbq-c64]:before{content:\"\\\\e243\"}.glyphicon-object-align-top[_ngcontent-bbq-c64]:before{content:\"\\\\e244\"}.glyphicon-object-align-bottom[_ngcontent-bbq-c64]:before{content:\"\\\\e245\"}.glyphicon-object-align-horizontal[_ngcontent-bbq-c64]:before{content:\"\\\\e246\"}.glyphicon-object-align-left[_ngcontent-bbq-c64]:before{content:\"\\\\e247\"}.glyphicon-object-align-vertical[_ngcontent-bbq-c64]:before{content:\"\\\\e248\"}.glyphicon-object-align-right[_ngcontent-bbq-c64]:before{content:\"\\\\e249\"}.glyphicon-triangle-right[_ngcontent-bbq-c64]:before{content:\"\\\\e250\"}.glyphicon-triangle-left[_ngcontent-bbq-c64]:before{content:\"\\\\e251\"}.glyphicon-triangle-bottom[_ngcontent-bbq-c64]:before{content:\"\\\\e252\"}.glyphicon-triangle-top[_ngcontent-bbq-c64]:before{content:\"\\\\e253\"}.glyphicon-console[_ngcontent-bbq-c64]:before{content:\"\\\\e254\"}.glyphicon-superscript[_ngcontent-bbq-c64]:before{content:\"\\\\e255\"}.glyphicon-subscript[_ngcontent-bbq-c64]:before{content:\"\\\\e256\"}.glyphicon-menu-left[_ngcontent-bbq-c64]:before{content:\"\\\\e257\"}.glyphicon-menu-right[_ngcontent-bbq-c64]:before{content:\"\\\\e258\"}.glyphicon-menu-down[_ngcontent-bbq-c64]:before{content:\"\\\\e259\"}.glyphicon-menu-up[_ngcontent-bbq-c64]:before{content:\"\\\\e260\"}</style><style>@font-face{font-family:onpe;src:url(onpe.cfae7b7aa6df056a16b4.eot?cjgfmj);src:url(onpe.cfae7b7aa6df056a16b4.eot?cjgfmj#iefix) format(\"embedded-opentype\"),url(onpe.dbdf35b27707f916328f.woff?cjgfmj) format(\"woff\"),url(onpe.98aa4bed3b925268dde6.svg?cjgfmj#onpe) format(\"svg\");font-weight:400;font-style:normal}@font-face{font-family:Michroma;src:url(Michroma.ace9ad8efc608262b70a.eot);src:url(Michroma.ace9ad8efc608262b70a.eot?#iefix) format(\"embedded-opentype\"),url(Michroma.712d9237b077a63586be.woff) format(\"woff\"),url(Michroma.30c88f7bd134d7118404.svg#Michroma) format(\"svg\");font-weight:400;font-style:normal}@font-face{font-family:Harabara;src:url(Harabara_3.ca41fa74d8a3e15854eb.eot);src:url(Harabara_3.ca41fa74d8a3e15854eb.eot?#iefix) format(\"embedded-opentype\"),url(Harabara_3.0d6c56aaeea115e76557.woff) format(\"woff\"),url(Harabara_3.422515099ebc1b30aac5.svg#Harabara_3) format(\"svg\");font-weight:400;font-style:normal}@font-face{font-family:GillSansMT;src:url(GillSansMT.b843c4e837c3cba8aa70.eot);src:url(GillSansMT.b843c4e837c3cba8aa70.eot?#iefix) format(\"embedded-opentype\"),url(GillSansMT.efa8f71cfc96580a44a3.woff) format(\"woff\"),url(GillSansMT.7b4c4c1d788468fdf68b.svg#GillSansMT) format(\"svg\");font-weight:400;font-style:normal}@font-face{font-family:GillSansMT;src:url(GillSansMT-Bold.0ee4780f0ba20d53521c.eot);src:url(GillSansMT-Bold.b57772d306ac9bb42ff6.woff) format(\"woff\"),url(GillSansMT-Bold.9dde853d1ef428e613ee.svg#GillSansMT-Bold) format(\"svg\");font-weight:700;font-style:normal}.tabla_resumen_pc[_ngcontent-bbq-c64]{display:block}.tabla_resumen_movil[_ngcontent-bbq-c64]{display:none}.bg_departamentos[_ngcontent-bbq-c64]{height:333px;width:100%;background-image:url(lima.a759ad236074c903551f.jpg);position:relative;margin-bottom:20px;background-size:cover}.bg_departamentos[_ngcontent-bbq-c64]   .tabla_distritoelecoral[_ngcontent-bbq-c64]{width:calc(100% - 20px);background-color:rgba(0,0,0,.6);color:#fff;position:absolute;bottom:10px;margin-bottom:0;margin-left:10px}.bg_departamentos[_ngcontent-bbq-c64]   .tabla_distritoelecoral[_ngcontent-bbq-c64]   td[_ngcontent-bbq-c64]{border-top:none}.bg_departamentos[_ngcontent-bbq-c64]   .tabla_distritoelecoral[_ngcontent-bbq-c64]   .borde_blanco[_ngcontent-bbq-c64]{border-left:1px solid #fff}.bg_sin_departamentos[_ngcontent-bbq-c64]   td[_ngcontent-bbq-c64]{border-right:1px solid #dee2e6;border-bottom:1px solid #dee2e6}[class*=\" icon-\"][_ngcontent-bbq-c64], [class^=icon-][_ngcontent-bbq-c64]{font-family:onpe!important;speak:none;font-style:normal;font-weight:400;font-variant:normal;text-transform:none;line-height:1;-webkit-font-smoothing:antialiased;-moz-osx-font-smoothing:grayscale}select[_ngcontent-bbq-c64]{border:1px solid #8ea3a6}.icon-resumengeneral[_ngcontent-bbq-c64]:before{content:\"\\\\e909\"}.icon-elec_regional[_ngcontent-bbq-c64]:before{content:\"\\\\e901\"}.icon-elec_municipal[_ngcontent-bbq-c64]:before{content:\"\\\\e902\"}.icon-actas[_ngcontent-bbq-c64]:before{content:\"\\\\e900\"}.icon-participacion[_ngcontent-bbq-c64]:before{content:\"\\\\e903\"}.icon-impresora[_ngcontent-bbq-c64]:before{content:\"\\\\e904\"}.icon-barras[_ngcontent-bbq-c64]:before{content:\"\\\\e905\"}.icon-info[_ngcontent-bbq-c64]:before{content:\"\\\\e906\"}.icon-regresar[_ngcontent-bbq-c64]:before{content:\"\\\\e907\"}.icon-buscar[_ngcontent-bbq-c64]:before{content:\"\\\\e908\"}.icon-excel[_ngcontent-bbq-c64]:before{content:\"\\\\e910\"}.icon-pdf[_ngcontent-bbq-c64]:before{content:\"\\\\e911\"}.icon-ico_face[_ngcontent-bbq-c64]:before{content:\"\\\\e912\"}.icon-ico_twitter[_ngcontent-bbq-c64]:before{content:\"\\\\e913\"}.icon-ico_youtube[_ngcontent-bbq-c64]:before{content:\"\\\\e914\"}.icon-ico_google[_ngcontent-bbq-c64]:before{content:\"\\\\e915\"}.icon-ico_flickr[_ngcontent-bbq-c64]:before{content:\"\\\\e916\"}.icon-ico_instagram[_ngcontent-bbq-c64]:before{content:\"\\\\e917\"}.icon-ico_presidencial[_ngcontent-bbq-c64]:before{content:\"\\\\e918\"}.icon-ico_d[_ngcontent-bbq-c64]:before{content:\"\\\\e919\"}.icon-ico_congresal[_ngcontent-bbq-c64]:before{content:\"\\\\e920\"}@font-face{font-family:Roboto;src:url(Roboto-Regular.18b9c674e55e6a14cfc3.eot);src:url(Roboto-Regular.18b9c674e55e6a14cfc3.eot?#iefix) format(\"embedded-opentype\"),url(Roboto-Regular.33a606d57e602ee71cbf.woff) format(\"woff\"),url(Roboto-Regular.3c73f832eb8eea27f132.svg#Roboto-Regular) format(\"svg\");font-weight:400;font-style:normal}@font-face{font-family:Roboto Condensed;src:url(RobotoCondensed-Regular_1.03817afbc5a5cb4cbb0f.eot);src:url(RobotoCondensed-Regular_1.03817afbc5a5cb4cbb0f.eot?#iefix) format(\"embedded-opentype\"),url(RobotoCondensed-Regular_1.98ef0e4f12856e641bf4.woff) format(\"woff\"),url(RobotoCondensed-Regular_1.86d0a588cf68a1147863.svg#RobotoCondensed-Regular_1) format(\"svg\");font-weight:400;font-style:normal}body[_ngcontent-bbq-c64]{font-family:Roboto,sans-serif!important;font-size:16px}a[_ngcontent-bbq-c64]:hover{cursor:pointer}.body_404[_ngcontent-bbq-c64]{padding-bottom:180px}.body_404[_ngcontent-bbq-c64], header[_ngcontent-bbq-c64]{position:relative}header[_ngcontent-bbq-c64]{text-align:center;background:#374e91;color:#fff;margin-bottom:20px}header[_ngcontent-bbq-c64]   h1[_ngcontent-bbq-c64]{width:100%;font-family:Roboto;font-size:1.5em;margin:0 0 .3em}header[_ngcontent-bbq-c64]   h2[_ngcontent-bbq-c64]{width:100%;margin:0;font-family:GillSansMT,sans-serif!important;line-height:1em;font-size:2.1em;font-weight:700}header[_ngcontent-bbq-c64]   .logo_eg2021[_ngcontent-bbq-c64]{width:auto;height:150px}.bg_home[_ngcontent-bbq-c64]{background:url(bg_home.f7464546728ba82408dc.jpg);margin-top:190px;z-index:-2}.col-60[_ngcontent-bbq-c64]{width:60%;float:left}.col-40[_ngcontent-bbq-c64]{width:40%;float:right;position:relative}.conte_botones[_ngcontent-bbq-c64]{width:100%;float:right;border-radius:15px;overflow:hidden;margin-bottom:20px}.conte_botones[_ngcontent-bbq-c64]   a[_ngcontent-bbq-c64]{color:#fff}.conte_botones[_ngcontent-bbq-c64]   a[_ngcontent-bbq-c64]   .glyphicon[_ngcontent-bbq-c64]{transition:all .3s}.conte_botones[_ngcontent-bbq-c64]   a[_ngcontent-bbq-c64]   .linea1[_ngcontent-bbq-c64]{margin-top:10px}.conte_botones[_ngcontent-bbq-c64]   a[_ngcontent-bbq-c64]   .bg_municipales[_ngcontent-bbq-c64]{width:100%;height:300px;background:url(municipales.767f5449163bfa91dcf1.jpg) no-repeat;background-size:100% auto;transition:all .7s}.conte_botones[_ngcontent-bbq-c64]   a[_ngcontent-bbq-c64]:hover{color:#fff;text-decoration:none}.conte_botones[_ngcontent-bbq-c64]   a[_ngcontent-bbq-c64]:hover   .glyphicon[_ngcontent-bbq-c64]{margin-left:5px}.conte_botones[_ngcontent-bbq-c64]   a[_ngcontent-bbq-c64]:hover   .bg_municipales[_ngcontent-bbq-c64]{width:100%;height:300px;background:url(municipales.767f5449163bfa91dcf1.jpg) no-repeat;background-size:130% auto}.home_botonera[_ngcontent-bbq-c64]{width:100%;padding:20px 10px 10px;overflow:hidden}.home_botonera[_ngcontent-bbq-c64]   .conte_botones[_ngcontent-bbq-c64]{width:50%;float:left;padding:0 10px;margin-bottom:20px}.home_botonera[_ngcontent-bbq-c64]   .conte_botones[_ngcontent-bbq-c64]   a[_ngcontent-bbq-c64]{color:#fff}.home_botonera[_ngcontent-bbq-c64]   .conte_botones[_ngcontent-bbq-c64]   a[_ngcontent-bbq-c64]   .glyphicon[_ngcontent-bbq-c64]{transition:all .3s}.home_botonera[_ngcontent-bbq-c64]   .conte_botones[_ngcontent-bbq-c64]   a[_ngcontent-bbq-c64]   .linea1[_ngcontent-bbq-c64]{margin-top:10px}.home_botonera[_ngcontent-bbq-c64]   .conte_botones[_ngcontent-bbq-c64]   a[_ngcontent-bbq-c64]   .bg_municipales[_ngcontent-bbq-c64]{width:100%;height:300px;background:url(municipales.767f5449163bfa91dcf1.jpg) no-repeat;background-size:100% auto;transition:all .7s}.home_botonera[_ngcontent-bbq-c64]   .conte_botones[_ngcontent-bbq-c64]   a[_ngcontent-bbq-c64]:hover{color:#fff;text-decoration:none}.home_botonera[_ngcontent-bbq-c64]   .conte_botones[_ngcontent-bbq-c64]   a[_ngcontent-bbq-c64]:hover   .glyphicon[_ngcontent-bbq-c64]{margin-top:5px}.home_botonera[_ngcontent-bbq-c64]   .conte_botones[_ngcontent-bbq-c64]   a[_ngcontent-bbq-c64]:hover   .bg_municipales[_ngcontent-bbq-c64]{width:100%;height:300px;background:url(municipales.767f5449163bfa91dcf1.jpg) no-repeat;background-size:130% auto}.banner_home[_ngcontent-bbq-c64]{background:url(banner.d2ba41d4355ce6692e52.jpg) #444c61 no-repeat;background-size:100% auto;min-height:267px;margin-bottom:20px;text-align:center;position:relative}.banner_home[_ngcontent-bbq-c64]   h3[_ngcontent-bbq-c64]{display:inline-block;font-size:2.5em;color:#fff;margin-top:-.1em;width:100%;left:0;text-align:center;text-shadow:0 0 8px #000;font-family:GillSansMT;font-weight:700}.banner_erm[_ngcontent-bbq-c64]{width:70%;float:left;background:url(bg_01.563097fd994657699033.jpg) #e2e2e2 no-repeat;background-size:100% auto;padding-bottom:4.5%;position:relative;margin-bottom:20px}.banner_erm[_ngcontent-bbq-c64]   .mapa_inicio[_ngcontent-bbq-c64]{width:40%;height:auto;margin-top:10%;margin-left:10%;padding-bottom:3%}.banner_homeeg2021[_ngcontent-bbq-c64]{margin-top:-170px;margin-bottom:20px;position:relative}.banner_homeeg2021[_ngcontent-bbq-c64]   .bg_bannereg2021[_ngcontent-bbq-c64]{width:100%;max-width:100%}.banner_homeeg2021[_ngcontent-bbq-c64]   .conte_btns_home_banner[_ngcontent-bbq-c64]{width:28%;position:absolute;left:36%;bottom:8%}.banner_homeeg2021[_ngcontent-bbq-c64]   .conte_btns_home_banner[_ngcontent-bbq-c64]   a[_ngcontent-bbq-c64]{width:100%;display:block;color:#fff;margin-bottom:10px}.banner_homeeg2021[_ngcontent-bbq-c64]   .conte_btns_home_banner[_ngcontent-bbq-c64]   a[_ngcontent-bbq-c64]   .btn_informativa[_ngcontent-bbq-c64]{padding-top:15px;padding-bottom:15px;padding-left:30px;text-align:center;position:relative}.banner_homeeg2021[_ngcontent-bbq-c64]   .conte_btns_home_banner[_ngcontent-bbq-c64]   a[_ngcontent-bbq-c64]   .glyphicon[_ngcontent-bbq-c64]{transition:all .3s}.banner_homeeg2021[_ngcontent-bbq-c64]   .conte_btns_home_banner[_ngcontent-bbq-c64]   a[_ngcontent-bbq-c64]:hover{color:#fff;text-decoration:none}.banner_homeeg2021[_ngcontent-bbq-c64]   .conte_btns_home_banner[_ngcontent-bbq-c64]   a[_ngcontent-bbq-c64]:hover   .glyphicon[_ngcontent-bbq-c64]{margin-left:5px}.banner_homeeg2021[_ngcontent-bbq-c64]   .conte_btns_home_banner[_ngcontent-bbq-c64]   .btn01[_ngcontent-bbq-c64]{background:#374e91}.banner_homeeg2021[_ngcontent-bbq-c64]   .conte_btns_home_banner[_ngcontent-bbq-c64]   .btn02[_ngcontent-bbq-c64]{background:#8d9dc3}.banner_emc[_ngcontent-bbq-c64]{width:100%;float:left;background:url(bg_01.563097fd994657699033.jpg) #e2e2e2 no-repeat;background-size:100% auto;padding-bottom:0;position:relative;margin-bottom:20px}.banner_emc[_ngcontent-bbq-c64]   .mapa_inicio[_ngcontent-bbq-c64]{width:39.4%;height:auto;margin-top:.1%;margin-left:0;padding-bottom:0}.banner_emc[_ngcontent-bbq-c64]   .transparente[_ngcontent-bbq-c64]{width:.87%;height:auto;margin-left:0;padding-bottom:0}.banner_emc[_ngcontent-bbq-c64]   .btn_informativa[_ngcontent-bbq-c64]{width:30%;position:absolute;right:3%;bottom:5%}.banner_emc[_ngcontent-bbq-c64]   .btn_informativa[_ngcontent-bbq-c64]   a[_ngcontent-bbq-c64]{color:#fff;margin-bottom:.5em}.banner_emc[_ngcontent-bbq-c64]   .btn_informativa[_ngcontent-bbq-c64]   a[_ngcontent-bbq-c64]   .btn01[_ngcontent-bbq-c64]{margin-top:1em}.banner_emc[_ngcontent-bbq-c64]   .btn_informativa[_ngcontent-bbq-c64]   a[_ngcontent-bbq-c64]   .glyphicon[_ngcontent-bbq-c64]{transition:all .3s}.banner_emc[_ngcontent-bbq-c64]   .btn_informativa[_ngcontent-bbq-c64]   a[_ngcontent-bbq-c64]:hover{color:#fff;text-decoration:none}.banner_emc[_ngcontent-bbq-c64]   .btn_informativa[_ngcontent-bbq-c64]   a[_ngcontent-bbq-c64]:hover   .glyphicon[_ngcontent-bbq-c64]{margin-top:5px}.btn_home[_ngcontent-bbq-c64]{display:block;clear:both;min-height:50px;text-align:center;padding:15px 10px 15px 20px;color:#fff;position:relative}.btn01[_ngcontent-bbq-c64]{background-color:#374e91}.btn02[_ngcontent-bbq-c64]{background-color:maroon}.btn03[_ngcontent-bbq-c64]{background-color:#8d9dc3}.btn04[_ngcontent-bbq-c64]{background-color:grey}.btn05[_ngcontent-bbq-c64]{background-color:#b38320}.btn06[_ngcontent-bbq-c64]{background-color:#832c31}.flechita_botones[_ngcontent-bbq-c64]{position:absolute;left:10px;top:20px}.pic[_ngcontent-bbq-c64]{width:100%;padding-top:52%;position:relative;overflow:hidden;float:left}.pic[_ngcontent-bbq-c64]   img[_ngcontent-bbq-c64]{width:100%;height:auto;position:absolute;top:0;left:0;bottom:0;right:0;transition:all .7s ease}.pic[_ngcontent-bbq-c64]:hover{cursor:pointer}.pic[_ngcontent-bbq-c64]:hover   img[_ngcontent-bbq-c64]{width:110%;height:auto}.logo_home[_ngcontent-bbq-c64]{width:50%;height:auto;margin-left:auto;margin-right:auto}.bottom20[_ngcontent-bbq-c64]{margin-bottom:20px}.negrita[_ngcontent-bbq-c64]{font-weight:700}.logo_onpe[_ngcontent-bbq-c64]{float:right}.logo_onpe[_ngcontent-bbq-c64]   img[_ngcontent-bbq-c64]{width:125px;height:auto}.logo_eleccion[_ngcontent-bbq-c64]{float:left;margin-left:-15px}.menuprincipal[_ngcontent-bbq-c64]{text-align:center}.menuprincipal[_ngcontent-bbq-c64]   .navbar[_ngcontent-bbq-c64]{float:right}.menuprincipal[_ngcontent-bbq-c64]   .icono_togglemenu[_ngcontent-bbq-c64]{display:none}.menuprincipal[_ngcontent-bbq-c64]   a[_ngcontent-bbq-c64]{display:block;width:100%;background:#fff;color:#374e91;min-height:69px;line-height:66px;margin-bottom:20px;font-size:1em;border-bottom:6px solid #be372e}.menuprincipal[_ngcontent-bbq-c64]   a[_ngcontent-bbq-c64]   .ico_menu[_ngcontent-bbq-c64]{font-size:2.2em;margin-right:10px}.menuprincipal[_ngcontent-bbq-c64]   a[_ngcontent-bbq-c64]   .texto_menu[_ngcontent-bbq-c64]{display:inline-block;line-height:1em;max-width:calc(100% - 63px)}.menuprincipal[_ngcontent-bbq-c64]   .btn_azul[_ngcontent-bbq-c64]{border-left:10px solid #374e91;transition:all .3s}.menuprincipal[_ngcontent-bbq-c64]   .azul_activo[_ngcontent-bbq-c64], .menuprincipal[_ngcontent-bbq-c64]   .btn_azul[_ngcontent-bbq-c64]:active, .menuprincipal[_ngcontent-bbq-c64]   .btn_azul[_ngcontent-bbq-c64]:hover{background:#374e91;color:#fff;text-decoration:none}.menuprincipal[_ngcontent-bbq-c64]   .azul_activo[_ngcontent-bbq-c64]   .ico_menu[_ngcontent-bbq-c64], .menuprincipal[_ngcontent-bbq-c64]   .btn_azul[_ngcontent-bbq-c64]:active   .ico_menu[_ngcontent-bbq-c64], .menuprincipal[_ngcontent-bbq-c64]   .btn_azul[_ngcontent-bbq-c64]:hover   .ico_menu[_ngcontent-bbq-c64]{fill:#fff}.menuprincipal[_ngcontent-bbq-c64]   .btn_acero[_ngcontent-bbq-c64]{border-left:10px solid #5f7a98;transition:all .3s}.menuprincipal[_ngcontent-bbq-c64]   .acero_activo[_ngcontent-bbq-c64], .menuprincipal[_ngcontent-bbq-c64]   .btn_acero[_ngcontent-bbq-c64]:active, .menuprincipal[_ngcontent-bbq-c64]   .btn_acero[_ngcontent-bbq-c64]:hover{background:#5f7a98;color:#fff;text-decoration:none}.menuprincipal[_ngcontent-bbq-c64]   .acero_activo[_ngcontent-bbq-c64]   .ico_menu[_ngcontent-bbq-c64], .menuprincipal[_ngcontent-bbq-c64]   .btn_acero[_ngcontent-bbq-c64]:active   .ico_menu[_ngcontent-bbq-c64], .menuprincipal[_ngcontent-bbq-c64]   .btn_acero[_ngcontent-bbq-c64]:hover   .ico_menu[_ngcontent-bbq-c64]{fill:#fff}.menuprincipal[_ngcontent-bbq-c64]   .btn_dorado[_ngcontent-bbq-c64]{border-left:10px solid #b38320;transition:all .3s}.menuprincipal[_ngcontent-bbq-c64]   .btn_dorado[_ngcontent-bbq-c64]:active, .menuprincipal[_ngcontent-bbq-c64]   .btn_dorado[_ngcontent-bbq-c64]:hover, .menuprincipal[_ngcontent-bbq-c64]   .dorado_activo[_ngcontent-bbq-c64]{background:#b38320;color:#fff;text-decoration:none}.menuprincipal[_ngcontent-bbq-c64]   .btn_dorado[_ngcontent-bbq-c64]:active   .ico_menu[_ngcontent-bbq-c64], .menuprincipal[_ngcontent-bbq-c64]   .btn_dorado[_ngcontent-bbq-c64]:hover   .ico_menu[_ngcontent-bbq-c64], .menuprincipal[_ngcontent-bbq-c64]   .dorado_activo[_ngcontent-bbq-c64]   .ico_menu[_ngcontent-bbq-c64]{fill:#fff}.menuprincipal[_ngcontent-bbq-c64]   .btn_celeste[_ngcontent-bbq-c64]{border-left:10px solid #3471a6;transition:all .3s}.menuprincipal[_ngcontent-bbq-c64]   .btn_celeste[_ngcontent-bbq-c64]:active, .menuprincipal[_ngcontent-bbq-c64]   .btn_celeste[_ngcontent-bbq-c64]:hover, .menuprincipal[_ngcontent-bbq-c64]   .celeste_activo[_ngcontent-bbq-c64]{background:#3471a6;color:#fff;text-decoration:none}.menuprincipal[_ngcontent-bbq-c64]   .btn_celeste[_ngcontent-bbq-c64]:active   .ico_menu[_ngcontent-bbq-c64], .menuprincipal[_ngcontent-bbq-c64]   .btn_celeste[_ngcontent-bbq-c64]:hover   .ico_menu[_ngcontent-bbq-c64], .menuprincipal[_ngcontent-bbq-c64]   .celeste_activo[_ngcontent-bbq-c64]   .ico_menu[_ngcontent-bbq-c64]{fill:#fff}.menuprincipal[_ngcontent-bbq-c64]   .btn_rojo[_ngcontent-bbq-c64]{transition:all .3s}.menuprincipal[_ngcontent-bbq-c64]   .btn_rojo[_ngcontent-bbq-c64]:active, .menuprincipal[_ngcontent-bbq-c64]   .btn_rojo[_ngcontent-bbq-c64]:hover, .menuprincipal[_ngcontent-bbq-c64]   .rojo_activo[_ngcontent-bbq-c64]{background:#be372e;color:#fff;text-decoration:none}.menuprincipal[_ngcontent-bbq-c64]   .btn_rojo[_ngcontent-bbq-c64]:active   .ico_menu[_ngcontent-bbq-c64], .menuprincipal[_ngcontent-bbq-c64]   .btn_rojo[_ngcontent-bbq-c64]:hover   .ico_menu[_ngcontent-bbq-c64], .menuprincipal[_ngcontent-bbq-c64]   .rojo_activo[_ngcontent-bbq-c64]   .ico_menu[_ngcontent-bbq-c64]{fill:#fff}.tabs_submenu[_ngcontent-bbq-c64]{border-bottom:6px solid #8d9dc3}.nav-item[_ngcontent-bbq-c64], .nav-itemactas[_ngcontent-bbq-c64]{margin-right:3px;margin-bottom:0!important}.nav-tabs[_ngcontent-bbq-c64]   .nav-link[_ngcontent-bbq-c64]{background:#e2e2e2;color:#0f2241}.nav-tabs[_ngcontent-bbq-c64]   .active[_ngcontent-bbq-c64], .nav-tabs[_ngcontent-bbq-c64]   .nav-link[_ngcontent-bbq-c64]:hover{background:#8d9dc3!important;border:1px solid #8d9dc3!important;color:#fff!important}.subtitulo[_ngcontent-bbq-c64]{display:flex;align-items:center;background:#3e679b;color:#fff;min-height:47px;margin-bottom:20px;border-left:14px solid #8aa3c2;padding-left:30px;position:relative}.subtitulo[_ngcontent-bbq-c64]   h2[_ngcontent-bbq-c64]{margin:0;padding:0;font-size:2.125em;font-family:Roboto Condensed,sans-serif}.subtitulo[_ngcontent-bbq-c64]   span[_ngcontent-bbq-c64]{display:block}.subtitulo[_ngcontent-bbq-c64]   .botonera_print[_ngcontent-bbq-c64]{position:absolute;bottom:10px;right:10px}.subtitulo[_ngcontent-bbq-c64]   .btn_print[_ngcontent-bbq-c64]{border:1px solid #fff;color:#fff;margin-left:7px;padding:2px 10px 0}.subtitulo[_ngcontent-bbq-c64]   .btn_print[_ngcontent-bbq-c64]   .icon-excel[_ngcontent-bbq-c64], .subtitulo[_ngcontent-bbq-c64]   .btn_print[_ngcontent-bbq-c64]   .icon-impresora[_ngcontent-bbq-c64], .subtitulo[_ngcontent-bbq-c64]   .btn_print[_ngcontent-bbq-c64]   .icon-pdf[_ngcontent-bbq-c64]{display:inline-block;margin-right:5px}.subtitulo[_ngcontent-bbq-c64]   .btn_print[_ngcontent-bbq-c64]:hover{background:#fff!important;color:#3e679b!important;text-decoration:none}.subtitulo_azul[_ngcontent-bbq-c64]{display:flex;align-items:center;background:#3e679b;color:#fff;margin-bottom:20px;border-left:14px solid #8aa3c2;padding-left:30px;padding-top:10px;padding-bottom:10px;position:relative}.subtitulo_azul[_ngcontent-bbq-c64]   h2[_ngcontent-bbq-c64]{margin:0;padding:0;font-size:2.125em;font-family:Roboto Condensed,sans-serif}.subtitulo_detalle_candidato[_ngcontent-bbq-c64]{display:block;align-items:center;background:#3e679b;color:#fff;margin-bottom:20px;border-left:14px solid #8aa3c2;padding-left:30px;padding-top:10px;padding-bottom:10px;position:relative}.subtitulo_detalle_candidato[_ngcontent-bbq-c64]   h3[_ngcontent-bbq-c64]{margin:0;padding:0;font-size:1.4em;text-align:center;font-family:Roboto Condensed,sans-serif}.centrar_vertical[_ngcontent-bbq-c64]{vertical-align:middle}.lista_resoluciones[_ngcontent-bbq-c64]{color:#0f2241}.lista_resoluciones[_ngcontent-bbq-c64]   ul[_ngcontent-bbq-c64]{list-style:none}.lista_resoluciones[_ngcontent-bbq-c64]   .glyphicon[_ngcontent-bbq-c64]{color:#3e679b;font-size:1.5em;padding-right:.3em}.borde_gris[_ngcontent-bbq-c64]{padding:10px;margin-bottom:20px;border:1px solid #8ea3a6}.input_mesas[_ngcontent-bbq-c64]{width:calc(100% - 130px);border-radius:4px;border:1px solid #cacaca;text-align:center;display:inline-block;height:auto;padding:0 5px}.btn_buscar[_ngcontent-bbq-c64]{background:#03618a;color:#fff!important;display:inline-block;padding:4px 20px;border:none;float:right;margin-top:-2px}.btn_buscar[_ngcontent-bbq-c64]   .icon-buscar[_ngcontent-bbq-c64]{display:inline-block;margin-right:10px}.btn_buscar[_ngcontent-bbq-c64]:hover{background:#0083c3;color:#fff}.btn_detalle[_ngcontent-bbq-c64]{background:#03618a;color:#fff!important;padding:6px 8px 3px;text-align:center}.btn_detalle[_ngcontent-bbq-c64], .btn_detalle[_ngcontent-bbq-c64]   .icon-buscar[_ngcontent-bbq-c64]{display:inline-block}.btn_detalle[_ngcontent-bbq-c64]:hover{background:#0083c3;color:#fff}.btn_regresar[_ngcontent-bbq-c64]{background:#03618a;color:#fff!important;display:inline-block;padding:4px 20px;float:right;margin-bottom:20px}.btn_regresar[_ngcontent-bbq-c64]   .icon-regresar[_ngcontent-bbq-c64]{display:inline-block;margin-right:10px}.btn_regresar[_ngcontent-bbq-c64]:hover{background:#0083c3;color:#fff}.conte_mesas[_ngcontent-bbq-c64]{width:calc(100% + 2px);display:flex;flex-wrap:wrap;margin:-1px -1px 20px;justify-content:flex-start}.conte_mesas[_ngcontent-bbq-c64]   .mesas[_ngcontent-bbq-c64]{width:calc(20% - 2px);border:none;margin:1px;text-align:center;padding-top:8px;padding-bottom:6px}.procesada_con[_ngcontent-bbq-c64]{background:#b6cdf6}.procesada_con[_ngcontent-bbq-c64]   a[_ngcontent-bbq-c64]{color:#104d82}.procesada_sin[_ngcontent-bbq-c64]{background:#c1c1c1}.procesada_sin[_ngcontent-bbq-c64]   a[_ngcontent-bbq-c64]{color:#252525}.sin_procesar[_ngcontent-bbq-c64]{background:#efd2a8}.sin_procesar[_ngcontent-bbq-c64]   a[_ngcontent-bbq-c64]{color:#8a6d3b}.procesada_con[_ngcontent-bbq-c64]:hover, .procesada_sinn[_ngcontent-bbq-c64]:hover, .sin_procesar[_ngcontent-bbq-c64]:hover{text-decoration:underline}.leyenda_mesas[_ngcontent-bbq-c64]{padding:10px;margin-bottom:20px;border:1px solid #8ea3a6}.leyenda_mesas[_ngcontent-bbq-c64]   .icoleyend[_ngcontent-bbq-c64]{width:20px;height:20px;display:inline-block;margin-top:4px}.leyenda_mesas[_ngcontent-bbq-c64]   span[_ngcontent-bbq-c64]{display:inline-block}.centrar[_ngcontent-bbq-c64]{width:100%;height:100%;text-align:center;display:table-cell}.foto_agrupacion[_ngcontent-bbq-c64]{width:50px;height:50px}.foto_agrupacion_titulo[_ngcontent-bbq-c64]{width:100px;height:100px}.conte_paginador[_ngcontent-bbq-c64]{display:inline-block;margin-top:5px;margin-bottom:25px}.pagination[_ngcontent-bbq-c64]{display:inline-block;padding-left:0;margin:-14px 0;border-radius:4px}.pagination[_ngcontent-bbq-c64] > li[_ngcontent-bbq-c64]{display:inline}.pagination[_ngcontent-bbq-c64] > li[_ngcontent-bbq-c64] > a[_ngcontent-bbq-c64], .pagination[_ngcontent-bbq-c64] > li[_ngcontent-bbq-c64] > span[_ngcontent-bbq-c64]{position:relative;float:left;padding:6px 12px;margin-left:-1px;line-height:1.42857143;color:#337ab7;text-decoration:none;background-color:#fff;border:1px solid #ddd}.pagination[_ngcontent-bbq-c64] > li[_ngcontent-bbq-c64]:first-child > a[_ngcontent-bbq-c64], .pagination[_ngcontent-bbq-c64] > li[_ngcontent-bbq-c64]:first-child > span[_ngcontent-bbq-c64]{margin-left:0;border-top-left-radius:4px;border-bottom-left-radius:4px}.pagination[_ngcontent-bbq-c64] > li[_ngcontent-bbq-c64]:last-child > a[_ngcontent-bbq-c64], .pagination[_ngcontent-bbq-c64] > li[_ngcontent-bbq-c64]:last-child > span[_ngcontent-bbq-c64]{border-top-right-radius:4px;border-bottom-right-radius:4px}.pagination[_ngcontent-bbq-c64] > .active[_ngcontent-bbq-c64] > a[_ngcontent-bbq-c64], .pagination[_ngcontent-bbq-c64] > .active[_ngcontent-bbq-c64] > a[_ngcontent-bbq-c64]:focus, .pagination[_ngcontent-bbq-c64] > .active[_ngcontent-bbq-c64] > a[_ngcontent-bbq-c64]:hover, .pagination[_ngcontent-bbq-c64] > .active[_ngcontent-bbq-c64] > span[_ngcontent-bbq-c64], .pagination[_ngcontent-bbq-c64] > .active[_ngcontent-bbq-c64] > span[_ngcontent-bbq-c64]:focus, .pagination[_ngcontent-bbq-c64] > .active[_ngcontent-bbq-c64] > span[_ngcontent-bbq-c64]:hover{z-index:3;color:#fff;cursor:default;background-color:#337ab7;border-color:#337ab7}.mapa[_ngcontent-bbq-c64]{width:100%;background-color:#eee;border:1px solid #8ea3a6;height:450px}.texto_centrado[_ngcontent-bbq-c64]{text-align:center}.tabla_datos[_ngcontent-bbq-c64]{font-family:Roboto Condensed,sans-serif}.tabla_datos[_ngcontent-bbq-c64]   td[_ngcontent-bbq-c64]{vertical-align:middle}.tabla_datos[_ngcontent-bbq-c64]   td[_ngcontent-bbq-c64]   h1[_ngcontent-bbq-c64]{font-size:2.125em}.tabla_datos[_ngcontent-bbq-c64]   td[_ngcontent-bbq-c64]   h1[_ngcontent-bbq-c64], .tabla_datos[_ngcontent-bbq-c64]   td[_ngcontent-bbq-c64]   h2[_ngcontent-bbq-c64]{padding:0;margin:0;line-height:1em}.tabla_datos[_ngcontent-bbq-c64]   td[_ngcontent-bbq-c64]   h3[_ngcontent-bbq-c64]{padding:0;margin:0;font-size:1.125em}.tabla_datos[_ngcontent-bbq-c64]   span[_ngcontent-bbq-c64]{font-size:.875em;display:inline-block;line-height:1em}.tabla_datos[_ngcontent-bbq-c64]   .col_azul[_ngcontent-bbq-c64]{background-color:#366288;color:#fff}.tabla_datos[_ngcontent-bbq-c64]   .glyphicon[_ngcontent-bbq-c64]{color:#afbccb}.tabla_pc[_ngcontent-bbq-c64]{display:block}.tabla_movil[_ngcontent-bbq-c64]{display:none}.borde_acero[_ngcontent-bbq-c64]{border-left:14px solid #afbccb}.cont_selects_ubigeo[_ngcontent-bbq-c64]{background:#e2e2e2;margin-bottom:20px;padding:15px 25px}.cont_selects_ubigeo[_ngcontent-bbq-c64]   .linea_der[_ngcontent-bbq-c64]{border-right:1px solid #959595}.cont_selects_ubigeo[_ngcontent-bbq-c64]   label[_ngcontent-bbq-c64]{margin:0}.cont_selects_ubigeo[_ngcontent-bbq-c64]   .select_ubigeo[_ngcontent-bbq-c64]{width:100%;box-sizing:border-box;border-radius:4px;padding:2px}.conte_bordeazul[_ngcontent-bbq-c64]{border:1px solid #dee2e6;border-left:14px solid #afbccb;margin-bottom:15px}.conte_bordeazul[_ngcontent-bbq-c64]   .conte_selects[_ngcontent-bbq-c64]{padding:15px 30px}.conte_bordeazul[_ngcontent-bbq-c64]   .conte_cabecera[_ngcontent-bbq-c64]{padding:12px 15px;font-family:Roboto Condensed,sans-serif}.conte_bordeazul[_ngcontent-bbq-c64]   .conte_cabecera[_ngcontent-bbq-c64]   h1[_ngcontent-bbq-c64]{padding:0;margin:0;font-size:2.125em;line-height:1em}.conte_bordeazul[_ngcontent-bbq-c64]   .conte_cabecera[_ngcontent-bbq-c64]   h3[_ngcontent-bbq-c64]{padding:0;margin:0;font-size:1.125em}.conte_bordeazul[_ngcontent-bbq-c64]   .glyphicon[_ngcontent-bbq-c64]{color:#afbccb}.conte_bordeazul[_ngcontent-bbq-c64]   label[_ngcontent-bbq-c64]{width:100%;margin:0}.conte_bordeazul[_ngcontent-bbq-c64]   select[_ngcontent-bbq-c64]{width:100%;box-sizing:border-box;border-radius:4px;padding:2px}.conte_bordeazul[_ngcontent-bbq-c64]   span[_ngcontent-bbq-c64]{font-size:.875em}.conte_select_region[_ngcontent-bbq-c64]{width:100%;box-sizing:border-box;border-radius:4px;padding:2px}.graficos_resultados[_ngcontent-bbq-c64]{width:100%;height:310px;border:1px solid #8ea3a6}.graficos_resultados_totales[_ngcontent-bbq-c64]{width:100%;height:358px;border:1px solid #8ea3a6}.graficos_barras_resultados[_ngcontent-bbq-c64]{width:100%;height:335px;border:1px solid #8ea3a6}.graficos_dist_electoral[_ngcontent-bbq-c64]{width:100%;height:900px;border:1px solid #8ea3a6}.graficos_resumen[_ngcontent-bbq-c64]{width:100%;height:648px;border:1px solid #8ea3a6}.graficos_candidatos[_ngcontent-bbq-c64]{width:100%;background:url(bg_candidatos.340f1821c488e4ebf7c9.jpg) no-repeat;background-size:cover;border:1px solid #8ea3a6}.graficos_candidatos[_ngcontent-bbq-c64]   ul[_ngcontent-bbq-c64]{width:100%;height:100%;display:flex;justify-content:center;align-items:center;margin-bottom:10px;margin-top:10px;padding:0 0 0 15px}.graficos_candidatos[_ngcontent-bbq-c64]   ul[_ngcontent-bbq-c64]   li[_ngcontent-bbq-c64]{display:inline-flex;position:relative;max-width:16.66%}.graficos_candidatos[_ngcontent-bbq-c64]   .bg_foto_candidato[_ngcontent-bbq-c64]{width:100%;height:auto;max-width:100%;margin-left:-10px;margin-right:-10px}.graficos_candidatos[_ngcontent-bbq-c64]   .bg_foto_candidato[_ngcontent-bbq-c64]   img[_ngcontent-bbq-c64]{max-width:100%}.graficos_candidatos[_ngcontent-bbq-c64]   .porcetaje_votos[_ngcontent-bbq-c64]{font-family:Roboto,sans-serif;width:100%;padding-right:15%;position:absolute;bottom:-5px;text-align:center;font-size:1.4vw;color:#fff;font-style:italic}.gutters-20[_ngcontent-bbq-c64]{margin-right:-10px;margin-left:-10px}.gutters-20[_ngcontent-bbq-c64] > .col[_ngcontent-bbq-c64], .gutters-20[_ngcontent-bbq-c64] > [class*=col-][_ngcontent-bbq-c64]{padding-right:10px;padding-left:10px}.leyend_crema[_ngcontent-bbq-c64]{display:block;background:#8d9dc3;color:#fff;text-align:center;padding:10px;margin-bottom:20px}.leyend_crema[_ngcontent-bbq-c64]   .formula[_ngcontent-bbq-c64]{display:inline-block;margin-left:10px}.leyend_crema[_ngcontent-bbq-c64]   .formula[_ngcontent-bbq-c64]   hr[_ngcontent-bbq-c64]{border:1px solid #fff;margin:0}.subtitulo_dorado[_ngcontent-bbq-c64]{background:#b38320;color:#fff;margin-top:10px;font-size:1.125em;padding:10px}.centrar_conteleyend[_ngcontent-bbq-c64]{display:inline-block}.centrar_conteleyend[_ngcontent-bbq-c64]   .datos_leyend[_ngcontent-bbq-c64]{display:inline-block;list-style:none;margin:0 0 0 20px;padding:0;color:#fff;font-size:1em;text-align:left}.centrar_conteleyend[_ngcontent-bbq-c64]   .simbolo_leyend[_ngcontent-bbq-c64]{display:inline-block}.leyenda[_ngcontent-bbq-c64]{padding:0;margin:0 0 20px;list-style:none;font-size:1em}.tablas[_ngcontent-bbq-c64], .tablas[_ngcontent-bbq-c64]   th[_ngcontent-bbq-c64]{border:1px solid #cacaca}.tablas[_ngcontent-bbq-c64]   th[_ngcontent-bbq-c64]{background:#374e91;color:#fff;text-align:center;font-weight:400}.tablas[_ngcontent-bbq-c64]   td[_ngcontent-bbq-c64]{border:1px solid #cacaca;padding-top:.5em;padding-bottom:.5em}.tablas[_ngcontent-bbq-c64]   .pad_lef40[_ngcontent-bbq-c64]{padding-left:40px}.tablas[_ngcontent-bbq-c64]   .td_totales[_ngcontent-bbq-c64]   td[_ngcontent-bbq-c64]{background:#fff6c4;color:#5c3500;font-weight:700}.tabla_resultado[_ngcontent-bbq-c64]   th[_ngcontent-bbq-c64]{text-align:center;border:1px solid #cacaca}.tabla_resultado[_ngcontent-bbq-c64]   td[_ngcontent-bbq-c64]{padding-top:.2em;padding-bottom:.2em;border:1px solid #cacaca;vertical-align:middle}.tabla_resultado[_ngcontent-bbq-c64]   .datos_voto[_ngcontent-bbq-c64]   td[_ngcontent-bbq-c64]{padding:.5em}.tabla_resultado[_ngcontent-bbq-c64]   .tabla_fijo[_ngcontent-bbq-c64]{table-layout:fixed}.table-scroll1[_ngcontent-bbq-c64], .table-wrap[_ngcontent-bbq-c64]{width:100%;overflow-x:scroll;overflow-y:hidden}.table-scroll1[_ngcontent-bbq-c64]{height:20px;margin-bottom:10px}.table-scroll[_ngcontent-bbq-c64]{position:relative;max-width:100%;margin:auto;overflow:hidden}.table-wrap[_ngcontent-bbq-c64]{width:100%;overflow:auto;padding-bottom:20px}.table-scroll[_ngcontent-bbq-c64]   table[_ngcontent-bbq-c64]{width:100%;margin:auto;border-spacing:0}.table-scroll[_ngcontent-bbq-c64]   tfoot[_ngcontent-bbq-c64], .table-scroll[_ngcontent-bbq-c64]   thead[_ngcontent-bbq-c64]{background:#f9f9f9}.clone[_ngcontent-bbq-c64]{position:absolute;top:0;left:0;pointer-events:none}.clone[_ngcontent-bbq-c64]   td[_ngcontent-bbq-c64], .clone[_ngcontent-bbq-c64]   th[_ngcontent-bbq-c64]{visibility:hidden;border-color:transparent}.clone[_ngcontent-bbq-c64]   tbody[_ngcontent-bbq-c64]   th[_ngcontent-bbq-c64]{visibility:visible}.clone[_ngcontent-bbq-c64]   .fixed-side[_ngcontent-bbq-c64]{border:1px solid #cacaca;background:#fff;visibility:visible}.clone[_ngcontent-bbq-c64]   tfoot[_ngcontent-bbq-c64], .clone[_ngcontent-bbq-c64]   thead[_ngcontent-bbq-c64]{background:transparent}.clone[_ngcontent-bbq-c64]   tr[_ngcontent-bbq-c64]:nth-of-type(odd)   td[_ngcontent-bbq-c64], .clone[_ngcontent-bbq-c64]   tr[_ngcontent-bbq-c64]:nth-of-type(odd)   th[_ngcontent-bbq-c64]{background-color:#f2f2f2}.titulo_td[_ngcontent-bbq-c64]{padding:.75rem!important}.tabla_participacion[_ngcontent-bbq-c64]   th[_ngcontent-bbq-c64]{text-align:center;border:1px solid #969696;padding-top:1.1em;padding-bottom:1.1em;background:#d1d1d1}.tabla_participacion[_ngcontent-bbq-c64]   .cabeceradorada[_ngcontent-bbq-c64]   th[_ngcontent-bbq-c64]{background:#374e91;border-left:1px solid #fff;border-right:1px solid #fff;color:#fff}.tabla_participacion[_ngcontent-bbq-c64]   td[_ngcontent-bbq-c64]{padding-top:.7em;padding-bottom:.7em;border:1px solid #cacaca;vertical-align:middle}.tabla_participacion[_ngcontent-bbq-c64]   .datos_voto[_ngcontent-bbq-c64]   td[_ngcontent-bbq-c64]{padding:.5em}.datos_participacion[_ngcontent-bbq-c64]   .leyend_crema[_ngcontent-bbq-c64]{padding:17px 10px}.cabecera_dorada[_ngcontent-bbq-c64]{background:#374e91;color:#fff;padding:.75rem;border-left:14px solid #8d9dc3}.img_acta[_ngcontent-bbq-c64]{max-width:100%;height:auto}.top20[_ngcontent-bbq-c64]{margin-top:20px}footer[_ngcontent-bbq-c64]{clear:both;background:#374e91;color:#fff;text-align:center;padding:1.2em 0;font-size:.8em;overflow:hidden;font-family:GillSansMT}footer[_ngcontent-bbq-c64]   .centrar_footer[_ngcontent-bbq-c64]{width:100%;margin:0 auto;display:flex;align-content:center;justify-content:center;align-items:center}footer[_ngcontent-bbq-c64]   .titulo_footer[_ngcontent-bbq-c64]{color:#fff;font-size:1.5em;margin:.2em 0;float:left;padding-right:1em;text-align:right;font-weight:700}footer[_ngcontent-bbq-c64]   .datos_footer[_ngcontent-bbq-c64]{float:right;padding-left:3em;text-align:center}footer[_ngcontent-bbq-c64]   .separador_footer[_ngcontent-bbq-c64]{margin-left:1em;margin-right:1em}footer[_ngcontent-bbq-c64]   .correo[_ngcontent-bbq-c64]{color:#fff}footer[_ngcontent-bbq-c64]   .correo[_ngcontent-bbq-c64]:hover{text-decoration:underline;color:#fff}footer[_ngcontent-bbq-c64]   a[_ngcontent-bbq-c64]{color:#fff;margin-right:.2em}footer[_ngcontent-bbq-c64]   a[_ngcontent-bbq-c64]:hover{color:#677796;text-decoration:none}footer[_ngcontent-bbq-c64]   p[_ngcontent-bbq-c64]{margin:0;padding:0;font-weight:400;font-size:1.2em;text-align:center}footer[_ngcontent-bbq-c64]   .social_medias[_ngcontent-bbq-c64]{color:#fff;font-size:2.5em}.footer_404[_ngcontent-bbq-c64]{width:100%;position:fixed;bottom:0}.p404[_ngcontent-bbq-c64]{margin-top:100px;margin-bottom:200px}.barra_noencontrada1[_ngcontent-bbq-c64]{background:#3471a3;font-size:26px}.barra_noencontrada1[_ngcontent-bbq-c64], .barra_noencontrada2[_ngcontent-bbq-c64]{color:#fff;text-align:center;height:60px;line-height:60px}.barra_noencontrada2[_ngcontent-bbq-c64]{background:#8aa3c2;font-size:50px;font-weight:lighter}.conte_btn_irinicio[_ngcontent-bbq-c64]{text-align:center;border-left:5px solid #3471a3}.btn_irinicio[_ngcontent-bbq-c64]{font-family:Roboto,sans-serif;font-weight:700;background:url(btn_irinicio.5762a127ebd33031b0e2.png) no-repeat;width:296px;height:78px;border:none;color:#fff;box-sizing:border-box;padding-left:80px;font-size:25px;line-height:25px;margin-top:40px}.img_404[_ngcontent-bbq-c64]{width:164px;height:160px}.cont_img_404[_ngcontent-bbq-c64]{width:35%;float:left;text-align:right}.txt_pag404[_ngcontent-bbq-c64]{font-family:Roboto,sans-serif;width:65%;color:#3471a3;font-size:50px;line-height:50px;font-weight:700;float:left;padding-top:60px}.bottom_404[_ngcontent-bbq-c64]{margin-top:20px}.laptop_mantenimiento[_ngcontent-bbq-c64]{width:307px;height:240px}.barra_mantenimiento[_ngcontent-bbq-c64]{width:306px;height:43px;margin-top:4px}.txt_mantenimiento[_ngcontent-bbq-c64]{font-family:Roboto,sans-serif;color:#3471a3;font-size:38px;line-height:38px;text-align:left;font-weight:700;float:left;padding-top:60px}.conte_mantenimiento[_ngcontent-bbq-c64]{text-align:left;border-left:5px solid #3471a3;padding-left:80px;box-sizing:border-box}.centrar_laptop[_ngcontent-bbq-c64]{text-align:center}@media (max-width:1730px){.txt_pag404[_ngcontent-bbq-c64]{font-size:40px;line-height:40px}.img_404[_ngcontent-bbq-c64]{width:140px;height:137px}}@media (max-width:1600px){.btn_irinicio[_ngcontent-bbq-c64]{width:250px;height:66px;background-size:contain;padding-left:60px;font-size:16px;line-height:16px}.txt_pag404[_ngcontent-bbq-c64]{font-size:36px;line-height:36px}.barra_noencontrada1[_ngcontent-bbq-c64]{font-size:22px}}@media (max-width:1200px){.banner_home[_ngcontent-bbq-c64]   h3[_ngcontent-bbq-c64]{font-size:1.6em}.item_menu[_ngcontent-bbq-c64]{flex:0 0 33.333333%;max-width:33.333333%}}@media (max-width:1450px){.menuprincipal[_ngcontent-bbq-c64]   a[_ngcontent-bbq-c64]{font-size:.9em}.menuprincipal[_ngcontent-bbq-c64]   a[_ngcontent-bbq-c64]   .ico_menu[_ngcontent-bbq-c64]{font-size:2.1em}.conte_mantenimiento[_ngcontent-bbq-c64]{border-left:5px solid #3471a3;padding-left:50px}.laptop_mantenimiento[_ngcontent-bbq-c64]{width:231px;height:181px}.barra_mantenimiento[_ngcontent-bbq-c64]{width:231px;height:32px;margin-top:4px}.txt_mantenimiento[_ngcontent-bbq-c64]{font-size:26px;line-height:26px;padding-top:40px}}@media (max-width:1366px){.menuprincipal[_ngcontent-bbq-c64]   a[_ngcontent-bbq-c64]{font-size:.95em}.menuprincipal[_ngcontent-bbq-c64]   a[_ngcontent-bbq-c64]   .ico_menu[_ngcontent-bbq-c64]{font-size:2.2em}.banner_home[_ngcontent-bbq-c64]   h3[_ngcontent-bbq-c64]{font-size:2.1em}.home_iz[_ngcontent-bbq-c64]   .conte_botones[_ngcontent-bbq-c64]   a[_ngcontent-bbq-c64]   .pic[_ngcontent-bbq-c64]{padding-top:127.6%}.banner_erm[_ngcontent-bbq-c64]   .logo_erm2018[_ngcontent-bbq-c64]{margin-top:52.4%}.tabla_datos[_ngcontent-bbq-c64]   td[_ngcontent-bbq-c64]{padding:.4em}.tabla_datos[_ngcontent-bbq-c64]   td[_ngcontent-bbq-c64]   h2[_ngcontent-bbq-c64]{font-size:1.9em}.txt_pag404[_ngcontent-bbq-c64]{font-size:35px;line-height:35px;padding-top:48px}.img_404[_ngcontent-bbq-c64]{width:117px;height:114px}.btn_irinicio[_ngcontent-bbq-c64]{width:210px;height:55px;background-size:contain;padding-left:55px;font-size:16px;line-height:16px}.barra_noencontrada1[_ngcontent-bbq-c64]{font-size:18px}.conte_mantenimiento[_ngcontent-bbq-c64]{border-left:5px solid #3471a3;padding-left:40px}.laptop_mantenimiento[_ngcontent-bbq-c64]{width:219px;height:171px}.barra_mantenimiento[_ngcontent-bbq-c64]{width:218px;height:30px;margin-top:4px}.txt_mantenimiento[_ngcontent-bbq-c64]{font-size:27px;line-height:27px;padding-top:40px}}@media (max-width:1130px){body[_ngcontent-bbq-c64]{font-size:14px}header[_ngcontent-bbq-c64]   h1[_ngcontent-bbq-c64]{font-size:1.2em}header[_ngcontent-bbq-c64]   h2[_ngcontent-bbq-c64]{font-size:1.6em}.menuprincipal[_ngcontent-bbq-c64]   a[_ngcontent-bbq-c64]{padding-left:10px;padding-right:10px;font-size:1em;min-height:70px;line-height:68px}.menuprincipal[_ngcontent-bbq-c64]   a[_ngcontent-bbq-c64]   .ico_menu[_ngcontent-bbq-c64]{font-size:2em}.logo_onpe[_ngcontent-bbq-c64]   img[_ngcontent-bbq-c64]{width:120px;height:auto}.logo_eleccion[_ngcontent-bbq-c64]   img[_ngcontent-bbq-c64]{width:207px;height:auto}.subtitulo[_ngcontent-bbq-c64]{min-height:110px;font-size:.84em}.tabla_pc[_ngcontent-bbq-c64]{display:none}.tabla_movil[_ngcontent-bbq-c64]{display:block}}@media screen and (min-width:993px) and (max-width:1050px){.tablas[_ngcontent-bbq-c64]   th[_ngcontent-bbq-c64]{line-height:1em;padding-left:.5em;padding-right:.5em}.tablas[_ngcontent-bbq-c64]   td[_ngcontent-bbq-c64], .tablas[_ngcontent-bbq-c64]   th[_ngcontent-bbq-c64]{font-size:1em}.tabla_datos[_ngcontent-bbq-c64]   td[_ngcontent-bbq-c64]{padding:.4em}.tabla_datos[_ngcontent-bbq-c64]   td[_ngcontent-bbq-c64]   h2[_ngcontent-bbq-c64]{font-size:1.6em}.home_iz[_ngcontent-bbq-c64]   .conte_botones[_ngcontent-bbq-c64]   a[_ngcontent-bbq-c64]   .pic[_ngcontent-bbq-c64]{padding-top:115.4%}}@media (max-width:992px){header[_ngcontent-bbq-c64]   h1[_ngcontent-bbq-c64]{font-size:.96em}header[_ngcontent-bbq-c64]   h2[_ngcontent-bbq-c64]{font-size:1.28em}.banner_home[_ngcontent-bbq-c64]   h3[_ngcontent-bbq-c64]{font-size:1.6em}.graficos_candidatos[_ngcontent-bbq-c64]{margin-bottom:20px}.graficos_candidatos[_ngcontent-bbq-c64]   .porcetaje_votos[_ngcontent-bbq-c64]{font-size:2.2vw}.item_menu[_ngcontent-bbq-c64]{flex:0 0 50%;max-width:50%}.pie_municipales[_ngcontent-bbq-c64], .pie_regionales[_ngcontent-bbq-c64]{order:1;margin-bottom:20px}.barras_municipales[_ngcontent-bbq-c64], .barras_regionales[_ngcontent-bbq-c64]{order:2}.graficos_barras_resultados[_ngcontent-bbq-c64], .graficos_resultados[_ngcontent-bbq-c64], .graficos_resultados_totales[_ngcontent-bbq-c64]{margin-bottom:20px}.menuprincipal[_ngcontent-bbq-c64]   a[_ngcontent-bbq-c64]{margin-bottom:10px}.btn_buscar[_ngcontent-bbq-c64]{margin-bottom:20px}.tabs_submenu[_ngcontent-bbq-c64]{display:flex}.tabs_submenu[_ngcontent-bbq-c64]   li[_ngcontent-bbq-c64]{width:50%;margin-right:0}.nav-tabs[_ngcontent-bbq-c64]   .nav-item[_ngcontent-bbq-c64]{padding-left:5px;padding-right:5px}.nav-tabs[_ngcontent-bbq-c64]   .nav-item[_ngcontent-bbq-c64]   .nav-link[_ngcontent-bbq-c64]{width:100%;border-radius:5px;background:none;border:1px solid #b38320;margin-bottom:10px}.footer_404[_ngcontent-bbq-c64]   p[_ngcontent-bbq-c64]{padding:0;margin:0;display:inline-block}.footer_404[_ngcontent-bbq-c64]   span[_ngcontent-bbq-c64]{margin:4px 0;width:100%}}@media (max-width:768px){.col-40[_ngcontent-bbq-c64], .col-60[_ngcontent-bbq-c64]{width:100%}.tabla_resumen_pc[_ngcontent-bbq-c64]{display:none}.tabla_resumen_movil[_ngcontent-bbq-c64]{display:block}.menuprincipal[_ngcontent-bbq-c64]   .icono_togglemenu[_ngcontent-bbq-c64]{display:block;width:100%}.logo_onpe[_ngcontent-bbq-c64]   img[_ngcontent-bbq-c64]{width:90px;height:auto}.logo_eleccion[_ngcontent-bbq-c64]   img[_ngcontent-bbq-c64]{width:156px;height:auto}header[_ngcontent-bbq-c64]   h1[_ngcontent-bbq-c64]{font-size:.75em}header[_ngcontent-bbq-c64]   h2[_ngcontent-bbq-c64]{font-size:1em}.subtitulo[_ngcontent-bbq-c64]{padding-bottom:60px}.subtitulo[_ngcontent-bbq-c64]   h2[_ngcontent-bbq-c64]{margin-bottom:10px}.subtitulo[_ngcontent-bbq-c64]   .botonera_print[_ngcontent-bbq-c64]{margin-top:10px}.subtitulo[_ngcontent-bbq-c64]   .btn_print[_ngcontent-bbq-c64]{display:inline-block;margin-top:5px}.tabs_submenu[_ngcontent-bbq-c64]   li[_ngcontent-bbq-c64]{width:100%}.conte_btn_irinicio[_ngcontent-bbq-c64], .conte_mantenimiento[_ngcontent-bbq-c64]{border-left:none}.barra_mantenimiento[_ngcontent-bbq-c64]{width:60%;height:auto;margin-left:20%;margin-top:4px}.txt_mantenimiento[_ngcontent-bbq-c64]{font-size:27px;line-height:27px;padding-left:20%;padding-top:40px}footer[_ngcontent-bbq-c64]   .centrar_footer[_ngcontent-bbq-c64]{width:90%;display:block}footer[_ngcontent-bbq-c64]   .titulo_footer[_ngcontent-bbq-c64]{width:100%;text-align:center}footer[_ngcontent-bbq-c64]   .datos_footer[_ngcontent-bbq-c64]{width:100%}}@media (min-width:769px){.menuprincipal[_ngcontent-bbq-c64]   #navbarToggleExternalContent[_ngcontent-bbq-c64]{display:block}}@media (max-width:576px){header[_ngcontent-bbq-c64]   h1[_ngcontent-bbq-c64]{font-size:1.5em}footer[_ngcontent-bbq-c64]   .titulo_footer[_ngcontent-bbq-c64]{font-size:1em}.subtitulo[_ngcontent-bbq-c64]{padding-top:20px;padding-left:20px;padding-bottom:60px}.banner_home[_ngcontent-bbq-c64]{text-align:center}.banner_home[_ngcontent-bbq-c64]   .logo_home[_ngcontent-bbq-c64]{width:100%;margin-left:0}.banner_home[_ngcontent-bbq-c64]   h3[_ngcontent-bbq-c64]{width:100%;position:relative;margin-top:20px}.banner_erm[_ngcontent-bbq-c64]   .logo_erm2018[_ngcontent-bbq-c64]{width:70%;margin-top:25%}.logo_onpe[_ngcontent-bbq-c64]{float:none;margin:0 auto;padding-bottom:20px}.logo_onpe[_ngcontent-bbq-c64]   img[_ngcontent-bbq-c64]{width:45%;margin-top:.5em}.banner_homeeg2021[_ngcontent-bbq-c64]   .conte_btns_home_banner[_ngcontent-bbq-c64]{width:50%;position:absolute;left:30%;bottom:8%;font-size:.8em}.banner_homeeg2021[_ngcontent-bbq-c64]   .conte_btns_home_banner[_ngcontent-bbq-c64]   a[_ngcontent-bbq-c64]   .btn_informativa[_ngcontent-bbq-c64]{padding-left:15px}.logo_eleccion[_ngcontent-bbq-c64]{float:none;margin:20px auto 10px}.logo_eleccion[_ngcontent-bbq-c64]   img[_ngcontent-bbq-c64]{width:100%}.barra_noencontrada1[_ngcontent-bbq-c64]{height:auto;line-height:1em;padding-top:10px;padding-bottom:10px}.item_menu[_ngcontent-bbq-c64]{flex:0 0 100%;max-width:100%}}@media (max-width:380px){header[_ngcontent-bbq-c64]   div[_ngcontent-bbq-c64]{margin:0;padding:0}header[_ngcontent-bbq-c64]   .logo_eleccion[_ngcontent-bbq-c64]{width:100%;margin-bottom:20px}header[_ngcontent-bbq-c64]   .logo_onpe[_ngcontent-bbq-c64]{margin-bottom:20px}.banner_erm[_ngcontent-bbq-c64]{width:100%}.home_iz[_ngcontent-bbq-c64]   .conte_botones[_ngcontent-bbq-c64]{width:calc(100% - 40px);margin-right:20px}}</style><script charset=\"utf-8\" src=\"1-es2015.65d9db47af7cbce23a96.js\"></script><script charset=\"utf-8\" src=\"2-es2015.48fdd034d97cf4b480b1.js\"></script><script charset=\"utf-8\" src=\"3-es2015.c4133b40f01ed7798373.js\"></script><script charset=\"utf-8\" src=\"4-es2015.23fa71a96528baa7632f.js\"></script><script charset=\"utf-8\" src=\"14-es2015.ac1e5a83e17429c5b258.js\"></script><style>.swal2-popup.swal2-toast{flex-direction:row;align-items:center;width:auto;padding:.625em;overflow-y:hidden;background:#fff;box-shadow:0 0 .625em #d9d9d9}.swal2-popup.swal2-toast .swal2-header{flex-direction:row;padding:0}.swal2-popup.swal2-toast .swal2-title{flex-grow:1;justify-content:flex-start;margin:0 .6em;font-size:1em}.swal2-popup.swal2-toast .swal2-footer{margin:.5em 0 0;padding:.5em 0 0;font-size:.8em}.swal2-popup.swal2-toast .swal2-close{position:static;width:.8em;height:.8em;line-height:.8}.swal2-popup.swal2-toast .swal2-content{justify-content:flex-start;padding:0;font-size:1em}.swal2-popup.swal2-toast .swal2-icon{width:2em;min-width:2em;height:2em;margin:0}.swal2-popup.swal2-toast .swal2-icon .swal2-icon-content{display:flex;align-items:center;font-size:1.8em;font-weight:700}@media all and (-ms-high-contrast:none),(-ms-high-contrast:active){.swal2-popup.swal2-toast .swal2-icon .swal2-icon-content{font-size:.25em}}.swal2-popup.swal2-toast .swal2-icon.swal2-success .swal2-success-ring{width:2em;height:2em}.swal2-popup.swal2-toast .swal2-icon.swal2-error [class^=swal2-x-mark-line]{top:.875em;width:1.375em}.swal2-popup.swal2-toast .swal2-icon.swal2-error [class^=swal2-x-mark-line][class$=left]{left:.3125em}.swal2-popup.swal2-toast .swal2-icon.swal2-error [class^=swal2-x-mark-line][class$=right]{right:.3125em}.swal2-popup.swal2-toast .swal2-actions{flex-basis:auto!important;width:auto;height:auto;margin:0 .3125em;padding:0}.swal2-popup.swal2-toast .swal2-styled{margin:.125em .3125em;padding:.3125em .625em;font-size:1em}.swal2-popup.swal2-toast .swal2-styled:focus{box-shadow:0 0 0 1px #fff,0 0 0 3px rgba(100,150,200,.5)}.swal2-popup.swal2-toast .swal2-success{border-color:#a5dc86}.swal2-popup.swal2-toast .swal2-success [class^=swal2-success-circular-line]{position:absolute;width:1.6em;height:3em;transform:rotate(45deg);border-radius:50%}.swal2-popup.swal2-toast .swal2-success [class^=swal2-success-circular-line][class$=left]{top:-.8em;left:-.5em;transform:rotate(-45deg);transform-origin:2em 2em;border-radius:4em 0 0 4em}.swal2-popup.swal2-toast .swal2-success [class^=swal2-success-circular-line][class$=right]{top:-.25em;left:.9375em;transform-origin:0 1.5em;border-radius:0 4em 4em 0}.swal2-popup.swal2-toast .swal2-success .swal2-success-ring{width:2em;height:2em}.swal2-popup.swal2-toast .swal2-success .swal2-success-fix{top:0;left:.4375em;width:.4375em;height:2.6875em}.swal2-popup.swal2-toast .swal2-success [class^=swal2-success-line]{height:.3125em}.swal2-popup.swal2-toast .swal2-success [class^=swal2-success-line][class$=tip]{top:1.125em;left:.1875em;width:.75em}.swal2-popup.swal2-toast .swal2-success [class^=swal2-success-line][class$=long]{top:.9375em;right:.1875em;width:1.375em}.swal2-popup.swal2-toast .swal2-success.swal2-icon-show .swal2-success-line-tip{-webkit-animation:swal2-toast-animate-success-line-tip .75s;animation:swal2-toast-animate-success-line-tip .75s}.swal2-popup.swal2-toast .swal2-success.swal2-icon-show .swal2-success-line-long{-webkit-animation:swal2-toast-animate-success-line-long .75s;animation:swal2-toast-animate-success-line-long .75s}.swal2-popup.swal2-toast.swal2-show{-webkit-animation:swal2-toast-show .5s;animation:swal2-toast-show .5s}.swal2-popup.swal2-toast.swal2-hide{-webkit-animation:swal2-toast-hide .1s forwards;animation:swal2-toast-hide .1s forwards}.swal2-container{display:flex;position:fixed;z-index:1060;top:0;right:0;bottom:0;left:0;flex-direction:row;align-items:center;justify-content:center;padding:.625em;overflow-x:hidden;transition:background-color .1s;-webkit-overflow-scrolling:touch}.swal2-container.swal2-backdrop-show,.swal2-container.swal2-noanimation{background:rgba(0,0,0,.4)}.swal2-container.swal2-backdrop-hide{background:0 0!important}.swal2-container.swal2-top{align-items:flex-start}.swal2-container.swal2-top-left,.swal2-container.swal2-top-start{align-items:flex-start;justify-content:flex-start}.swal2-container.swal2-top-end,.swal2-container.swal2-top-right{align-items:flex-start;justify-content:flex-end}.swal2-container.swal2-center{align-items:center}.swal2-container.swal2-center-left,.swal2-container.swal2-center-start{align-items:center;justify-content:flex-start}.swal2-container.swal2-center-end,.swal2-container.swal2-center-right{align-items:center;justify-content:flex-end}.swal2-container.swal2-bottom{align-items:flex-end}.swal2-container.swal2-bottom-left,.swal2-container.swal2-bottom-start{align-items:flex-end;justify-content:flex-start}.swal2-container.swal2-bottom-end,.swal2-container.swal2-bottom-right{align-items:flex-end;justify-content:flex-end}.swal2-container.swal2-bottom-end>:first-child,.swal2-container.swal2-bottom-left>:first-child,.swal2-container.swal2-bottom-right>:first-child,.swal2-container.swal2-bottom-start>:first-child,.swal2-container.swal2-bottom>:first-child{margin-top:auto}.swal2-container.swal2-grow-fullscreen>.swal2-modal{display:flex!important;flex:1;align-self:stretch;justify-content:center}.swal2-container.swal2-grow-row>.swal2-modal{display:flex!important;flex:1;align-content:center;justify-content:center}.swal2-container.swal2-grow-column{flex:1;flex-direction:column}.swal2-container.swal2-grow-column.swal2-bottom,.swal2-container.swal2-grow-column.swal2-center,.swal2-container.swal2-grow-column.swal2-top{align-items:center}.swal2-container.swal2-grow-column.swal2-bottom-left,.swal2-container.swal2-grow-column.swal2-bottom-start,.swal2-container.swal2-grow-column.swal2-center-left,.swal2-container.swal2-grow-column.swal2-center-start,.swal2-container.swal2-grow-column.swal2-top-left,.swal2-container.swal2-grow-column.swal2-top-start{align-items:flex-start}.swal2-container.swal2-grow-column.swal2-bottom-end,.swal2-container.swal2-grow-column.swal2-bottom-right,.swal2-container.swal2-grow-column.swal2-center-end,.swal2-container.swal2-grow-column.swal2-center-right,.swal2-container.swal2-grow-column.swal2-top-end,.swal2-container.swal2-grow-column.swal2-top-right{align-items:flex-end}.swal2-container.swal2-grow-column>.swal2-modal{display:flex!important;flex:1;align-content:center;justify-content:center}.swal2-container.swal2-no-transition{transition:none!important}.swal2-container:not(.swal2-top):not(.swal2-top-start):not(.swal2-top-end):not(.swal2-top-left):not(.swal2-top-right):not(.swal2-center-start):not(.swal2-center-end):not(.swal2-center-left):not(.swal2-center-right):not(.swal2-bottom):not(.swal2-bottom-start):not(.swal2-bottom-end):not(.swal2-bottom-left):not(.swal2-bottom-right):not(.swal2-grow-fullscreen)>.swal2-modal{margin:auto}@media all and (-ms-high-contrast:none),(-ms-high-contrast:active){.swal2-container .swal2-modal{margin:0!important}}.swal2-popup{display:none;position:relative;box-sizing:border-box;flex-direction:column;justify-content:center;width:32em;max-width:100%;padding:1.25em;border:none;border-radius:5px;background:#fff;font-family:inherit;font-size:1rem}.swal2-popup:focus{outline:0}.swal2-popup.swal2-loading{overflow-y:hidden}.swal2-header{display:flex;flex-direction:column;align-items:center;padding:0 1.8em}.swal2-title{position:relative;max-width:100%;margin:0 0 .4em;padding:0;color:#595959;font-size:1.875em;font-weight:600;text-align:center;text-transform:none;word-wrap:break-word}.swal2-actions{display:flex;z-index:1;box-sizing:border-box;flex-wrap:wrap;align-items:center;justify-content:center;width:100%;margin:1.25em auto 0;padding:0 1.6em}.swal2-actions:not(.swal2-loading) .swal2-styled[disabled]{opacity:.4}.swal2-actions:not(.swal2-loading) .swal2-styled:hover{background-image:linear-gradient(rgba(0,0,0,.1),rgba(0,0,0,.1))}.swal2-actions:not(.swal2-loading) .swal2-styled:active{background-image:linear-gradient(rgba(0,0,0,.2),rgba(0,0,0,.2))}.swal2-loader{display:none;align-items:center;justify-content:center;width:2.2em;height:2.2em;margin:0 1.875em;-webkit-animation:swal2-rotate-loading 1.5s linear 0s infinite normal;animation:swal2-rotate-loading 1.5s linear 0s infinite normal;border-width:.25em;border-style:solid;border-radius:100%;border-color:#2778c4 transparent #2778c4 transparent}.swal2-styled{margin:.3125em;padding:.625em 1.1em;box-shadow:none;font-weight:500}.swal2-styled:not([disabled]){cursor:pointer}.swal2-styled.swal2-confirm{border:0;border-radius:.25em;background:initial;background-color:#2778c4;color:#fff;font-size:1.0625em}.swal2-styled.swal2-deny{border:0;border-radius:.25em;background:initial;background-color:#d14529;color:#fff;font-size:1.0625em}.swal2-styled.swal2-cancel{border:0;border-radius:.25em;background:initial;background-color:#757575;color:#fff;font-size:1.0625em}.swal2-styled:focus{outline:0;box-shadow:0 0 0 3px rgba(100,150,200,.5)}.swal2-styled::-moz-focus-inner{border:0}.swal2-footer{justify-content:center;margin:1.25em 0 0;padding:1em 0 0;border-top:1px solid #eee;color:#545454;font-size:1em}.swal2-timer-progress-bar-container{position:absolute;right:0;bottom:0;left:0;height:.25em;overflow:hidden;border-bottom-right-radius:5px;border-bottom-left-radius:5px}.swal2-timer-progress-bar{width:100%;height:.25em;background:rgba(0,0,0,.2)}.swal2-image{max-width:100%;margin:1.25em auto}.swal2-close{position:absolute;z-index:2;top:0;right:0;align-items:center;justify-content:center;width:1.2em;height:1.2em;padding:0;overflow:hidden;transition:color .1s ease-out;border:none;border-radius:5px;background:0 0;color:#ccc;font-family:serif;font-size:2.5em;line-height:1.2;cursor:pointer}.swal2-close:hover{transform:none;background:0 0;color:#f27474}.swal2-close:focus{outline:0;box-shadow:inset 0 0 0 3px rgba(100,150,200,.5)}.swal2-close::-moz-focus-inner{border:0}.swal2-content{z-index:1;justify-content:center;margin:0;padding:0 1.6em;color:#545454;font-size:1.125em;font-weight:400;line-height:normal;text-align:center;word-wrap:break-word}.swal2-checkbox,.swal2-file,.swal2-input,.swal2-radio,.swal2-select,.swal2-textarea{margin:1em auto}.swal2-file,.swal2-input,.swal2-textarea{box-sizing:border-box;width:100%;transition:border-color .3s,box-shadow .3s;border:1px solid #d9d9d9;border-radius:.1875em;background:inherit;box-shadow:inset 0 1px 1px rgba(0,0,0,.06);color:inherit;font-size:1.125em}.swal2-file.swal2-inputerror,.swal2-input.swal2-inputerror,.swal2-textarea.swal2-inputerror{border-color:#f27474!important;box-shadow:0 0 2px #f27474!important}.swal2-file:focus,.swal2-input:focus,.swal2-textarea:focus{border:1px solid #b4dbed;outline:0;box-shadow:0 0 0 3px rgba(100,150,200,.5)}.swal2-file::-moz-placeholder,.swal2-input::-moz-placeholder,.swal2-textarea::-moz-placeholder{color:#ccc}.swal2-file:-ms-input-placeholder,.swal2-input:-ms-input-placeholder,.swal2-textarea:-ms-input-placeholder{color:#ccc}.swal2-file::placeholder,.swal2-input::placeholder,.swal2-textarea::placeholder{color:#ccc}.swal2-range{margin:1em auto;background:#fff}.swal2-range input{width:80%}.swal2-range output{width:20%;color:inherit;font-weight:600;text-align:center}.swal2-range input,.swal2-range output{height:2.625em;padding:0;font-size:1.125em;line-height:2.625em}.swal2-input{height:2.625em;padding:0 .75em}.swal2-input[type=number]{max-width:10em}.swal2-file{background:inherit;font-size:1.125em}.swal2-textarea{height:6.75em;padding:.75em}.swal2-select{min-width:50%;max-width:100%;padding:.375em .625em;background:inherit;color:inherit;font-size:1.125em}.swal2-checkbox,.swal2-radio{align-items:center;justify-content:center;background:#fff;color:inherit}.swal2-checkbox label,.swal2-radio label{margin:0 .6em;font-size:1.125em}.swal2-checkbox input,.swal2-radio input{margin:0 .4em}.swal2-input-label{display:flex;justify-content:center;margin:1em auto}.swal2-validation-message{display:none;align-items:center;justify-content:center;margin:0 -2.7em;padding:.625em;overflow:hidden;background:#f0f0f0;color:#666;font-size:1em;font-weight:300}.swal2-validation-message::before{content:\"!\";display:inline-block;width:1.5em;min-width:1.5em;height:1.5em;margin:0 .625em;border-radius:50%;background-color:#f27474;color:#fff;font-weight:600;line-height:1.5em;text-align:center}.swal2-icon{position:relative;box-sizing:content-box;justify-content:center;width:5em;height:5em;margin:1.25em auto 1.875em;border:.25em solid transparent;border-radius:50%;border-color:#000;font-family:inherit;line-height:5em;cursor:default;-webkit-user-select:none;-moz-user-select:none;-ms-user-select:none;user-select:none}.swal2-icon .swal2-icon-content{display:flex;align-items:center;font-size:3.75em}.swal2-icon.swal2-error{border-color:#f27474;color:#f27474}.swal2-icon.swal2-error .swal2-x-mark{position:relative;flex-grow:1}.swal2-icon.swal2-error [class^=swal2-x-mark-line]{display:block;position:absolute;top:2.3125em;width:2.9375em;height:.3125em;border-radius:.125em;background-color:#f27474}.swal2-icon.swal2-error [class^=swal2-x-mark-line][class$=left]{left:1.0625em;transform:rotate(45deg)}.swal2-icon.swal2-error [class^=swal2-x-mark-line][class$=right]{right:1em;transform:rotate(-45deg)}.swal2-icon.swal2-error.swal2-icon-show{-webkit-animation:swal2-animate-error-icon .5s;animation:swal2-animate-error-icon .5s}.swal2-icon.swal2-error.swal2-icon-show .swal2-x-mark{-webkit-animation:swal2-animate-error-x-mark .5s;animation:swal2-animate-error-x-mark .5s}.swal2-icon.swal2-warning{border-color:#facea8;color:#f8bb86}.swal2-icon.swal2-info{border-color:#9de0f6;color:#3fc3ee}.swal2-icon.swal2-question{border-color:#c9dae1;color:#87adbd}.swal2-icon.swal2-success{border-color:#a5dc86;color:#a5dc86}.swal2-icon.swal2-success [class^=swal2-success-circular-line]{position:absolute;width:3.75em;height:7.5em;transform:rotate(45deg);border-radius:50%}.swal2-icon.swal2-success [class^=swal2-success-circular-line][class$=left]{top:-.4375em;left:-2.0635em;transform:rotate(-45deg);transform-origin:3.75em 3.75em;border-radius:7.5em 0 0 7.5em}.swal2-icon.swal2-success [class^=swal2-success-circular-line][class$=right]{top:-.6875em;left:1.875em;transform:rotate(-45deg);transform-origin:0 3.75em;border-radius:0 7.5em 7.5em 0}.swal2-icon.swal2-success .swal2-success-ring{position:absolute;z-index:2;top:-.25em;left:-.25em;box-sizing:content-box;width:100%;height:100%;border:.25em solid rgba(165,220,134,.3);border-radius:50%}.swal2-icon.swal2-success .swal2-success-fix{position:absolute;z-index:1;top:.5em;left:1.625em;width:.4375em;height:5.625em;transform:rotate(-45deg)}.swal2-icon.swal2-success [class^=swal2-success-line]{display:block;position:absolute;z-index:2;height:.3125em;border-radius:.125em;background-color:#a5dc86}.swal2-icon.swal2-success [class^=swal2-success-line][class$=tip]{top:2.875em;left:.8125em;width:1.5625em;transform:rotate(45deg)}.swal2-icon.swal2-success [class^=swal2-success-line][class$=long]{top:2.375em;right:.5em;width:2.9375em;transform:rotate(-45deg)}.swal2-icon.swal2-success.swal2-icon-show .swal2-success-line-tip{-webkit-animation:swal2-animate-success-line-tip .75s;animation:swal2-animate-success-line-tip .75s}.swal2-icon.swal2-success.swal2-icon-show .swal2-success-line-long{-webkit-animation:swal2-animate-success-line-long .75s;animation:swal2-animate-success-line-long .75s}.swal2-icon.swal2-success.swal2-icon-show .swal2-success-circular-line-right{-webkit-animation:swal2-rotate-success-circular-line 4.25s ease-in;animation:swal2-rotate-success-circular-line 4.25s ease-in}.swal2-progress-steps{flex-wrap:wrap;align-items:center;max-width:100%;margin:0 0 1.25em;padding:0;background:inherit;font-weight:600}.swal2-progress-steps li{display:inline-block;position:relative}.swal2-progress-steps .swal2-progress-step{z-index:20;flex-shrink:0;width:2em;height:2em;border-radius:2em;background:#2778c4;color:#fff;line-height:2em;text-align:center}.swal2-progress-steps .swal2-progress-step.swal2-active-progress-step{background:#2778c4}.swal2-progress-steps .swal2-progress-step.swal2-active-progress-step~.swal2-progress-step{background:#add8e6;color:#fff}.swal2-progress-steps .swal2-progress-step.swal2-active-progress-step~.swal2-progress-step-line{background:#add8e6}.swal2-progress-steps .swal2-progress-step-line{z-index:10;flex-shrink:0;width:2.5em;height:.4em;margin:0 -1px;background:#2778c4}[class^=swal2]{-webkit-tap-highlight-color:transparent}.swal2-show{-webkit-animation:swal2-show .3s;animation:swal2-show .3s}.swal2-hide{-webkit-animation:swal2-hide .15s forwards;animation:swal2-hide .15s forwards}.swal2-noanimation{transition:none}.swal2-scrollbar-measure{position:absolute;top:-9999px;width:50px;height:50px;overflow:scroll}.swal2-rtl .swal2-close{right:auto;left:0}.swal2-rtl .swal2-timer-progress-bar{right:0;left:auto}@supports (-ms-accelerator:true){.swal2-range input{width:100%!important}.swal2-range output{display:none}}@media all and (-ms-high-contrast:none),(-ms-high-contrast:active){.swal2-range input{width:100%!important}.swal2-range output{display:none}}@-webkit-keyframes swal2-toast-show{0%{transform:translateY(-.625em) rotateZ(2deg)}33%{transform:translateY(0) rotateZ(-2deg)}66%{transform:translateY(.3125em) rotateZ(2deg)}100%{transform:translateY(0) rotateZ(0)}}@keyframes swal2-toast-show{0%{transform:translateY(-.625em) rotateZ(2deg)}33%{transform:translateY(0) rotateZ(-2deg)}66%{transform:translateY(.3125em) rotateZ(2deg)}100%{transform:translateY(0) rotateZ(0)}}@-webkit-keyframes swal2-toast-hide{100%{transform:rotateZ(1deg);opacity:0}}@keyframes swal2-toast-hide{100%{transform:rotateZ(1deg);opacity:0}}@-webkit-keyframes swal2-toast-animate-success-line-tip{0%{top:.5625em;left:.0625em;width:0}54%{top:.125em;left:.125em;width:0}70%{top:.625em;left:-.25em;width:1.625em}84%{top:1.0625em;left:.75em;width:.5em}100%{top:1.125em;left:.1875em;width:.75em}}@keyframes swal2-toast-animate-success-line-tip{0%{top:.5625em;left:.0625em;width:0}54%{top:.125em;left:.125em;width:0}70%{top:.625em;left:-.25em;width:1.625em}84%{top:1.0625em;left:.75em;width:.5em}100%{top:1.125em;left:.1875em;width:.75em}}@-webkit-keyframes swal2-toast-animate-success-line-long{0%{top:1.625em;right:1.375em;width:0}65%{top:1.25em;right:.9375em;width:0}84%{top:.9375em;right:0;width:1.125em}100%{top:.9375em;right:.1875em;width:1.375em}}@keyframes swal2-toast-animate-success-line-long{0%{top:1.625em;right:1.375em;width:0}65%{top:1.25em;right:.9375em;width:0}84%{top:.9375em;right:0;width:1.125em}100%{top:.9375em;right:.1875em;width:1.375em}}@-webkit-keyframes swal2-show{0%{transform:scale(.7)}45%{transform:scale(1.05)}80%{transform:scale(.95)}100%{transform:scale(1)}}@keyframes swal2-show{0%{transform:scale(.7)}45%{transform:scale(1.05)}80%{transform:scale(.95)}100%{transform:scale(1)}}@-webkit-keyframes swal2-hide{0%{transform:scale(1);opacity:1}100%{transform:scale(.5);opacity:0}}@keyframes swal2-hide{0%{transform:scale(1);opacity:1}100%{transform:scale(.5);opacity:0}}@-webkit-keyframes swal2-animate-success-line-tip{0%{top:1.1875em;left:.0625em;width:0}54%{top:1.0625em;left:.125em;width:0}70%{top:2.1875em;left:-.375em;width:3.125em}84%{top:3em;left:1.3125em;width:1.0625em}100%{top:2.8125em;left:.8125em;width:1.5625em}}@keyframes swal2-animate-success-line-tip{0%{top:1.1875em;left:.0625em;width:0}54%{top:1.0625em;left:.125em;width:0}70%{top:2.1875em;left:-.375em;width:3.125em}84%{top:3em;left:1.3125em;width:1.0625em}100%{top:2.8125em;left:.8125em;width:1.5625em}}@-webkit-keyframes swal2-animate-success-line-long{0%{top:3.375em;right:2.875em;width:0}65%{top:3.375em;right:2.875em;width:0}84%{top:2.1875em;right:0;width:3.4375em}100%{top:2.375em;right:.5em;width:2.9375em}}@keyframes swal2-animate-success-line-long{0%{top:3.375em;right:2.875em;width:0}65%{top:3.375em;right:2.875em;width:0}84%{top:2.1875em;right:0;width:3.4375em}100%{top:2.375em;right:.5em;width:2.9375em}}@-webkit-keyframes swal2-rotate-success-circular-line{0%{transform:rotate(-45deg)}5%{transform:rotate(-45deg)}12%{transform:rotate(-405deg)}100%{transform:rotate(-405deg)}}@keyframes swal2-rotate-success-circular-line{0%{transform:rotate(-45deg)}5%{transform:rotate(-45deg)}12%{transform:rotate(-405deg)}100%{transform:rotate(-405deg)}}@-webkit-keyframes swal2-animate-error-x-mark{0%{margin-top:1.625em;transform:scale(.4);opacity:0}50%{margin-top:1.625em;transform:scale(.4);opacity:0}80%{margin-top:-.375em;transform:scale(1.15)}100%{margin-top:0;transform:scale(1);opacity:1}}@keyframes swal2-animate-error-x-mark{0%{margin-top:1.625em;transform:scale(.4);opacity:0}50%{margin-top:1.625em;transform:scale(.4);opacity:0}80%{margin-top:-.375em;transform:scale(1.15)}100%{margin-top:0;transform:scale(1);opacity:1}}@-webkit-keyframes swal2-animate-error-icon{0%{transform:rotateX(100deg);opacity:0}100%{transform:rotateX(0);opacity:1}}@keyframes swal2-animate-error-icon{0%{transform:rotateX(100deg);opacity:0}100%{transform:rotateX(0);opacity:1}}@-webkit-keyframes swal2-rotate-loading{0%{transform:rotate(0)}100%{transform:rotate(360deg)}}@keyframes swal2-rotate-loading{0%{transform:rotate(0)}100%{transform:rotate(360deg)}}body.swal2-shown:not(.swal2-no-backdrop):not(.swal2-toast-shown){overflow:hidden}body.swal2-height-auto{height:auto!important}body.swal2-no-backdrop .swal2-container{top:auto;right:auto;bottom:auto;left:auto;max-width:calc(100% - .625em * 2);background-color:transparent!important}body.swal2-no-backdrop .swal2-container>.swal2-modal{box-shadow:0 0 10px rgba(0,0,0,.4)}body.swal2-no-backdrop .swal2-container.swal2-top{top:0;left:50%;transform:translateX(-50%)}body.swal2-no-backdrop .swal2-container.swal2-top-left,body.swal2-no-backdrop .swal2-container.swal2-top-start{top:0;left:0}body.swal2-no-backdrop .swal2-container.swal2-top-end,body.swal2-no-backdrop .swal2-container.swal2-top-right{top:0;right:0}body.swal2-no-backdrop .swal2-container.swal2-center{top:50%;left:50%;transform:translate(-50%,-50%)}body.swal2-no-backdrop .swal2-container.swal2-center-left,body.swal2-no-backdrop .swal2-container.swal2-center-start{top:50%;left:0;transform:translateY(-50%)}body.swal2-no-backdrop .swal2-container.swal2-center-end,body.swal2-no-backdrop .swal2-container.swal2-center-right{top:50%;right:0;transform:translateY(-50%)}body.swal2-no-backdrop .swal2-container.swal2-bottom{bottom:0;left:50%;transform:translateX(-50%)}body.swal2-no-backdrop .swal2-container.swal2-bottom-left,body.swal2-no-backdrop .swal2-container.swal2-bottom-start{bottom:0;left:0}body.swal2-no-backdrop .swal2-container.swal2-bottom-end,body.swal2-no-backdrop .swal2-container.swal2-bottom-right{right:0;bottom:0}@media print{body.swal2-shown:not(.swal2-no-backdrop):not(.swal2-toast-shown){overflow-y:scroll!important}body.swal2-shown:not(.swal2-no-backdrop):not(.swal2-toast-shown)>[aria-hidden=true]{display:none}body.swal2-shown:not(.swal2-no-backdrop):not(.swal2-toast-shown) .swal2-container{position:static!important}}body.swal2-toast-shown .swal2-container{background-color:transparent}body.swal2-toast-shown .swal2-container.swal2-top{top:0;right:auto;bottom:auto;left:50%;transform:translateX(-50%)}body.swal2-toast-shown .swal2-container.swal2-top-end,body.swal2-toast-shown .swal2-container.swal2-top-right{top:0;right:0;bottom:auto;left:auto}body.swal2-toast-shown .swal2-container.swal2-top-left,body.swal2-toast-shown .swal2-container.swal2-top-start{top:0;right:auto;bottom:auto;left:0}body.swal2-toast-shown .swal2-container.swal2-center-left,body.swal2-toast-shown .swal2-container.swal2-center-start{top:50%;right:auto;bottom:auto;left:0;transform:translateY(-50%)}body.swal2-toast-shown .swal2-container.swal2-center{top:50%;right:auto;bottom:auto;left:50%;transform:translate(-50%,-50%)}body.swal2-toast-shown .swal2-container.swal2-center-end,body.swal2-toast-shown .swal2-container.swal2-center-right{top:50%;right:0;bottom:auto;left:auto;transform:translateY(-50%)}body.swal2-toast-shown .swal2-container.swal2-bottom-left,body.swal2-toast-shown .swal2-container.swal2-bottom-start{top:auto;right:auto;bottom:0;left:0}body.swal2-toast-shown .swal2-container.swal2-bottom{top:auto;right:auto;bottom:0;left:50%;transform:translateX(-50%)}body.swal2-toast-shown .swal2-container.swal2-bottom-end,body.swal2-toast-shown .swal2-container.swal2-bottom-right{top:auto;right:0;bottom:0;left:auto}body.swal2-toast-column .swal2-toast{flex-direction:column;align-items:stretch}body.swal2-toast-column .swal2-toast .swal2-actions{flex:1;align-self:stretch;height:2.2em;margin-top:.3125em}body.swal2-toast-column .swal2-toast .swal2-loading{justify-content:center}body.swal2-toast-column .swal2-toast .swal2-input{height:2em;margin:.3125em auto;font-size:1em}body.swal2-toast-column .swal2-toast .swal2-validation-message{font-size:1em}</style><style>@font-face{font-family:Glyphicons Halflings;src:url(glyphicons-halflings-regular.5be1347c682810f199c7.eot);src:url(glyphicons-halflings-regular.5be1347c682810f199c7.eot?#iefix) format(\"embedded-opentype\"),url(glyphicons-halflings-regular.be810be3a3e14c682a25.woff2) format(\"woff2\"),url(glyphicons-halflings-regular.82b1212e45a2bc35dd73.woff) format(\"truetype\"),url(glyphicons-halflings-regular.9a17786234899efcc963.svg#glyphicons_halflingsregular) format(\"svg\")}.amcharts-category-axis[_ngcontent-bbq-c67]   .amcharts-axis-label[_ngcontent-bbq-c67]:first-child   tspan[_ngcontent-bbq-c67]{font-weight:700;font-size:500px}.glyphicon[_ngcontent-bbq-c67]{position:relative;top:1px;display:inline-block;font-family:Glyphicons Halflings;font-style:normal;font-weight:400;line-height:1;-webkit-font-smoothing:antialiased;-moz-osx-font-smoothing:grayscale}.glyphicon-asterisk[_ngcontent-bbq-c67]:before{content:\"\\\\2a\"}.glyphicon-plus[_ngcontent-bbq-c67]:before{content:\"\\\\2b\"}.glyphicon-eur[_ngcontent-bbq-c67]:before, .glyphicon-euro[_ngcontent-bbq-c67]:before{content:\"\\\\20ac\"}.glyphicon-minus[_ngcontent-bbq-c67]:before{content:\"\\\\2212\"}.glyphicon-cloud[_ngcontent-bbq-c67]:before{content:\"\\\\2601\"}.glyphicon-envelope[_ngcontent-bbq-c67]:before{content:\"\\\\2709\"}.glyphicon-pencil[_ngcontent-bbq-c67]:before{content:\"\\\\270f\"}.glyphicon-glass[_ngcontent-bbq-c67]:before{content:\"\\\\e001\"}.glyphicon-music[_ngcontent-bbq-c67]:before{content:\"\\\\e002\"}.glyphicon-search[_ngcontent-bbq-c67]:before{content:\"\\\\e003\"}.glyphicon-heart[_ngcontent-bbq-c67]:before{content:\"\\\\e005\"}.glyphicon-star[_ngcontent-bbq-c67]:before{content:\"\\\\e006\"}.glyphicon-star-empty[_ngcontent-bbq-c67]:before{content:\"\\\\e007\"}.glyphicon-user[_ngcontent-bbq-c67]:before{content:\"\\\\e008\"}.glyphicon-film[_ngcontent-bbq-c67]:before{content:\"\\\\e009\"}.glyphicon-th-large[_ngcontent-bbq-c67]:before{content:\"\\\\e010\"}.glyphicon-th[_ngcontent-bbq-c67]:before{content:\"\\\\e011\"}.glyphicon-th-list[_ngcontent-bbq-c67]:before{content:\"\\\\e012\"}.glyphicon-ok[_ngcontent-bbq-c67]:before{content:\"\\\\e013\"}.glyphicon-remove[_ngcontent-bbq-c67]:before{content:\"\\\\e014\"}.glyphicon-zoom-in[_ngcontent-bbq-c67]:before{content:\"\\\\e015\"}.glyphicon-zoom-out[_ngcontent-bbq-c67]:before{content:\"\\\\e016\"}.glyphicon-off[_ngcontent-bbq-c67]:before{content:\"\\\\e017\"}.glyphicon-signal[_ngcontent-bbq-c67]:before{content:\"\\\\e018\"}.glyphicon-cog[_ngcontent-bbq-c67]:before{content:\"\\\\e019\"}.glyphicon-trash[_ngcontent-bbq-c67]:before{content:\"\\\\e020\"}.glyphicon-home[_ngcontent-bbq-c67]:before{content:\"\\\\e021\"}.glyphicon-file[_ngcontent-bbq-c67]:before{content:\"\\\\e022\"}.glyphicon-time[_ngcontent-bbq-c67]:before{content:\"\\\\e023\"}.glyphicon-road[_ngcontent-bbq-c67]:before{content:\"\\\\e024\"}.glyphicon-download-alt[_ngcontent-bbq-c67]:before{content:\"\\\\e025\"}.glyphicon-download[_ngcontent-bbq-c67]:before{content:\"\\\\e026\"}.glyphicon-upload[_ngcontent-bbq-c67]:before{content:\"\\\\e027\"}.glyphicon-inbox[_ngcontent-bbq-c67]:before{content:\"\\\\e028\"}.glyphicon-play-circle[_ngcontent-bbq-c67]:before{content:\"\\\\e029\"}.glyphicon-repeat[_ngcontent-bbq-c67]:before{content:\"\\\\e030\"}.glyphicon-refresh[_ngcontent-bbq-c67]:before{content:\"\\\\e031\"}.glyphicon-list-alt[_ngcontent-bbq-c67]:before{content:\"\\\\e032\"}.glyphicon-lock[_ngcontent-bbq-c67]:before{content:\"\\\\e033\"}.glyphicon-flag[_ngcontent-bbq-c67]:before{content:\"\\\\e034\"}.glyphicon-headphones[_ngcontent-bbq-c67]:before{content:\"\\\\e035\"}.glyphicon-volume-off[_ngcontent-bbq-c67]:before{content:\"\\\\e036\"}.glyphicon-volume-down[_ngcontent-bbq-c67]:before{content:\"\\\\e037\"}.glyphicon-volume-up[_ngcontent-bbq-c67]:before{content:\"\\\\e038\"}.glyphicon-qrcode[_ngcontent-bbq-c67]:before{content:\"\\\\e039\"}.glyphicon-barcode[_ngcontent-bbq-c67]:before{content:\"\\\\e040\"}.glyphicon-tag[_ngcontent-bbq-c67]:before{content:\"\\\\e041\"}.glyphicon-tags[_ngcontent-bbq-c67]:before{content:\"\\\\e042\"}.glyphicon-book[_ngcontent-bbq-c67]:before{content:\"\\\\e043\"}.glyphicon-bookmark[_ngcontent-bbq-c67]:before{content:\"\\\\e044\"}.glyphicon-print[_ngcontent-bbq-c67]:before{content:\"\\\\e045\"}.glyphicon-camera[_ngcontent-bbq-c67]:before{content:\"\\\\e046\"}.glyphicon-font[_ngcontent-bbq-c67]:before{content:\"\\\\e047\"}.glyphicon-bold[_ngcontent-bbq-c67]:before{content:\"\\\\e048\"}.glyphicon-italic[_ngcontent-bbq-c67]:before{content:\"\\\\e049\"}.glyphicon-text-height[_ngcontent-bbq-c67]:before{content:\"\\\\e050\"}.glyphicon-text-width[_ngcontent-bbq-c67]:before{content:\"\\\\e051\"}.glyphicon-align-left[_ngcontent-bbq-c67]:before{content:\"\\\\e052\"}.glyphicon-align-center[_ngcontent-bbq-c67]:before{content:\"\\\\e053\"}.glyphicon-align-right[_ngcontent-bbq-c67]:before{content:\"\\\\e054\"}.glyphicon-align-justify[_ngcontent-bbq-c67]:before{content:\"\\\\e055\"}.glyphicon-list[_ngcontent-bbq-c67]:before{content:\"\\\\e056\"}.glyphicon-indent-left[_ngcontent-bbq-c67]:before{content:\"\\\\e057\"}.glyphicon-indent-right[_ngcontent-bbq-c67]:before{content:\"\\\\e058\"}.glyphicon-facetime-video[_ngcontent-bbq-c67]:before{content:\"\\\\e059\"}.glyphicon-picture[_ngcontent-bbq-c67]:before{content:\"\\\\e060\"}.glyphicon-map-marker[_ngcontent-bbq-c67]:before{content:\"\\\\e062\"}.glyphicon-adjust[_ngcontent-bbq-c67]:before{content:\"\\\\e063\"}.glyphicon-tint[_ngcontent-bbq-c67]:before{content:\"\\\\e064\"}.glyphicon-edit[_ngcontent-bbq-c67]:before{content:\"\\\\e065\"}.glyphicon-share[_ngcontent-bbq-c67]:before{content:\"\\\\e066\"}.glyphicon-check[_ngcontent-bbq-c67]:before{content:\"\\\\e067\"}.glyphicon-move[_ngcontent-bbq-c67]:before{content:\"\\\\e068\"}.glyphicon-step-backward[_ngcontent-bbq-c67]:before{content:\"\\\\e069\"}.glyphicon-fast-backward[_ngcontent-bbq-c67]:before{content:\"\\\\e070\"}.glyphicon-backward[_ngcontent-bbq-c67]:before{content:\"\\\\e071\"}.glyphicon-play[_ngcontent-bbq-c67]:before{content:\"\\\\e072\"}.glyphicon-pause[_ngcontent-bbq-c67]:before{content:\"\\\\e073\"}.glyphicon-stop[_ngcontent-bbq-c67]:before{content:\"\\\\e074\"}.glyphicon-forward[_ngcontent-bbq-c67]:before{content:\"\\\\e075\"}.glyphicon-fast-forward[_ngcontent-bbq-c67]:before{content:\"\\\\e076\"}.glyphicon-step-forward[_ngcontent-bbq-c67]:before{content:\"\\\\e077\"}.glyphicon-eject[_ngcontent-bbq-c67]:before{content:\"\\\\e078\"}.glyphicon-chevron-left[_ngcontent-bbq-c67]:before{content:\"\\\\e079\"}.glyphicon-chevron-right[_ngcontent-bbq-c67]:before{content:\"\\\\e080\"}.glyphicon-plus-sign[_ngcontent-bbq-c67]:before{content:\"\\\\e081\"}.glyphicon-minus-sign[_ngcontent-bbq-c67]:before{content:\"\\\\e082\"}.glyphicon-remove-sign[_ngcontent-bbq-c67]:before{content:\"\\\\e083\"}.glyphicon-ok-sign[_ngcontent-bbq-c67]:before{content:\"\\\\e084\"}.glyphicon-question-sign[_ngcontent-bbq-c67]:before{content:\"\\\\e085\"}.glyphicon-info-sign[_ngcontent-bbq-c67]:before{content:\"\\\\e086\"}.glyphicon-screenshot[_ngcontent-bbq-c67]:before{content:\"\\\\e087\"}.glyphicon-remove-circle[_ngcontent-bbq-c67]:before{content:\"\\\\e088\"}.glyphicon-ok-circle[_ngcontent-bbq-c67]:before{content:\"\\\\e089\"}.glyphicon-ban-circle[_ngcontent-bbq-c67]:before{content:\"\\\\e090\"}.glyphicon-arrow-left[_ngcontent-bbq-c67]:before{content:\"\\\\e091\"}.glyphicon-arrow-right[_ngcontent-bbq-c67]:before{content:\"\\\\e092\"}.glyphicon-arrow-up[_ngcontent-bbq-c67]:before{content:\"\\\\e093\"}.glyphicon-arrow-down[_ngcontent-bbq-c67]:before{content:\"\\\\e094\"}.glyphicon-share-alt[_ngcontent-bbq-c67]:before{content:\"\\\\e095\"}.glyphicon-resize-full[_ngcontent-bbq-c67]:before{content:\"\\\\e096\"}.glyphicon-resize-small[_ngcontent-bbq-c67]:before{content:\"\\\\e097\"}.glyphicon-exclamation-sign[_ngcontent-bbq-c67]:before{content:\"\\\\e101\"}.glyphicon-gift[_ngcontent-bbq-c67]:before{content:\"\\\\e102\"}.glyphicon-leaf[_ngcontent-bbq-c67]:before{content:\"\\\\e103\"}.glyphicon-fire[_ngcontent-bbq-c67]:before{content:\"\\\\e104\"}.glyphicon-eye-open[_ngcontent-bbq-c67]:before{content:\"\\\\e105\"}.glyphicon-eye-close[_ngcontent-bbq-c67]:before{content:\"\\\\e106\"}.glyphicon-warning-sign[_ngcontent-bbq-c67]:before{content:\"\\\\e107\"}.glyphicon-plane[_ngcontent-bbq-c67]:before{content:\"\\\\e108\"}.glyphicon-calendar[_ngcontent-bbq-c67]:before{content:\"\\\\e109\"}.glyphicon-random[_ngcontent-bbq-c67]:before{content:\"\\\\e110\"}.glyphicon-comment[_ngcontent-bbq-c67]:before{content:\"\\\\e111\"}.glyphicon-magnet[_ngcontent-bbq-c67]:before{content:\"\\\\e112\"}.glyphicon-chevron-up[_ngcontent-bbq-c67]:before{content:\"\\\\e113\"}.glyphicon-chevron-down[_ngcontent-bbq-c67]:before{content:\"\\\\e114\"}.glyphicon-retweet[_ngcontent-bbq-c67]:before{content:\"\\\\e115\"}.glyphicon-shopping-cart[_ngcontent-bbq-c67]:before{content:\"\\\\e116\"}.glyphicon-folder-close[_ngcontent-bbq-c67]:before{content:\"\\\\e117\"}.glyphicon-folder-open[_ngcontent-bbq-c67]:before{content:\"\\\\e118\"}.glyphicon-resize-vertical[_ngcontent-bbq-c67]:before{content:\"\\\\e119\"}.glyphicon-resize-horizontal[_ngcontent-bbq-c67]:before{content:\"\\\\e120\"}.glyphicon-hdd[_ngcontent-bbq-c67]:before{content:\"\\\\e121\"}.glyphicon-bullhorn[_ngcontent-bbq-c67]:before{content:\"\\\\e122\"}.glyphicon-bell[_ngcontent-bbq-c67]:before{content:\"\\\\e123\"}.glyphicon-certificate[_ngcontent-bbq-c67]:before{content:\"\\\\e124\"}.glyphicon-thumbs-up[_ngcontent-bbq-c67]:before{content:\"\\\\e125\"}.glyphicon-thumbs-down[_ngcontent-bbq-c67]:before{content:\"\\\\e126\"}.glyphicon-hand-right[_ngcontent-bbq-c67]:before{content:\"\\\\e127\"}.glyphicon-hand-left[_ngcontent-bbq-c67]:before{content:\"\\\\e128\"}.glyphicon-hand-up[_ngcontent-bbq-c67]:before{content:\"\\\\e129\"}.glyphicon-hand-down[_ngcontent-bbq-c67]:before{content:\"\\\\e130\"}.glyphicon-circle-arrow-right[_ngcontent-bbq-c67]:before{content:\"\\\\e131\"}.glyphicon-circle-arrow-left[_ngcontent-bbq-c67]:before{content:\"\\\\e132\"}.glyphicon-circle-arrow-up[_ngcontent-bbq-c67]:before{content:\"\\\\e133\"}.glyphicon-circle-arrow-down[_ngcontent-bbq-c67]:before{content:\"\\\\e134\"}.glyphicon-globe[_ngcontent-bbq-c67]:before{content:\"\\\\e135\"}.glyphicon-wrench[_ngcontent-bbq-c67]:before{content:\"\\\\e136\"}.glyphicon-tasks[_ngcontent-bbq-c67]:before{content:\"\\\\e137\"}.glyphicon-filter[_ngcontent-bbq-c67]:before{content:\"\\\\e138\"}.glyphicon-briefcase[_ngcontent-bbq-c67]:before{content:\"\\\\e139\"}.glyphicon-fullscreen[_ngcontent-bbq-c67]:before{content:\"\\\\e140\"}.glyphicon-dashboard[_ngcontent-bbq-c67]:before{content:\"\\\\e141\"}.glyphicon-paperclip[_ngcontent-bbq-c67]:before{content:\"\\\\e142\"}.glyphicon-heart-empty[_ngcontent-bbq-c67]:before{content:\"\\\\e143\"}.glyphicon-link[_ngcontent-bbq-c67]:before{content:\"\\\\e144\"}.glyphicon-phone[_ngcontent-bbq-c67]:before{content:\"\\\\e145\"}.glyphicon-pushpin[_ngcontent-bbq-c67]:before{content:\"\\\\e146\"}.glyphicon-usd[_ngcontent-bbq-c67]:before{content:\"\\\\e148\"}.glyphicon-gbp[_ngcontent-bbq-c67]:before{content:\"\\\\e149\"}.glyphicon-sort[_ngcontent-bbq-c67]:before{content:\"\\\\e150\"}.glyphicon-sort-by-alphabet[_ngcontent-bbq-c67]:before{content:\"\\\\e151\"}.glyphicon-sort-by-alphabet-alt[_ngcontent-bbq-c67]:before{content:\"\\\\e152\"}.glyphicon-sort-by-order[_ngcontent-bbq-c67]:before{content:\"\\\\e153\"}.glyphicon-sort-by-order-alt[_ngcontent-bbq-c67]:before{content:\"\\\\e154\"}.glyphicon-sort-by-attributes[_ngcontent-bbq-c67]:before{content:\"\\\\e155\"}.glyphicon-sort-by-attributes-alt[_ngcontent-bbq-c67]:before{content:\"\\\\e156\"}.glyphicon-unchecked[_ngcontent-bbq-c67]:before{content:\"\\\\e157\"}.glyphicon-expand[_ngcontent-bbq-c67]:before{content:\"\\\\e158\"}.glyphicon-collapse-down[_ngcontent-bbq-c67]:before{content:\"\\\\e159\"}.glyphicon-collapse-up[_ngcontent-bbq-c67]:before{content:\"\\\\e160\"}.glyphicon-log-in[_ngcontent-bbq-c67]:before{content:\"\\\\e161\"}.glyphicon-flash[_ngcontent-bbq-c67]:before{content:\"\\\\e162\"}.glyphicon-log-out[_ngcontent-bbq-c67]:before{content:\"\\\\e163\"}.glyphicon-new-window[_ngcontent-bbq-c67]:before{content:\"\\\\e164\"}.glyphicon-record[_ngcontent-bbq-c67]:before{content:\"\\\\e165\"}.glyphicon-save[_ngcontent-bbq-c67]:before{content:\"\\\\e166\"}.glyphicon-open[_ngcontent-bbq-c67]:before{content:\"\\\\e167\"}.glyphicon-saved[_ngcontent-bbq-c67]:before{content:\"\\\\e168\"}.glyphicon-import[_ngcontent-bbq-c67]:before{content:\"\\\\e169\"}.glyphicon-export[_ngcontent-bbq-c67]:before{content:\"\\\\e170\"}.glyphicon-send[_ngcontent-bbq-c67]:before{content:\"\\\\e171\"}.glyphicon-floppy-disk[_ngcontent-bbq-c67]:before{content:\"\\\\e172\"}.glyphicon-floppy-saved[_ngcontent-bbq-c67]:before{content:\"\\\\e173\"}.glyphicon-floppy-remove[_ngcontent-bbq-c67]:before{content:\"\\\\e174\"}.glyphicon-floppy-save[_ngcontent-bbq-c67]:before{content:\"\\\\e175\"}.glyphicon-floppy-open[_ngcontent-bbq-c67]:before{content:\"\\\\e176\"}.glyphicon-credit-card[_ngcontent-bbq-c67]:before{content:\"\\\\e177\"}.glyphicon-transfer[_ngcontent-bbq-c67]:before{content:\"\\\\e178\"}.glyphicon-cutlery[_ngcontent-bbq-c67]:before{content:\"\\\\e179\"}.glyphicon-header[_ngcontent-bbq-c67]:before{content:\"\\\\e180\"}.glyphicon-compressed[_ngcontent-bbq-c67]:before{content:\"\\\\e181\"}.glyphicon-earphone[_ngcontent-bbq-c67]:before{content:\"\\\\e182\"}.glyphicon-phone-alt[_ngcontent-bbq-c67]:before{content:\"\\\\e183\"}.glyphicon-tower[_ngcontent-bbq-c67]:before{content:\"\\\\e184\"}.glyphicon-stats[_ngcontent-bbq-c67]:before{content:\"\\\\e185\"}.glyphicon-sd-video[_ngcontent-bbq-c67]:before{content:\"\\\\e186\"}.glyphicon-hd-video[_ngcontent-bbq-c67]:before{content:\"\\\\e187\"}.glyphicon-subtitles[_ngcontent-bbq-c67]:before{content:\"\\\\e188\"}.glyphicon-sound-stereo[_ngcontent-bbq-c67]:before{content:\"\\\\e189\"}.glyphicon-sound-dolby[_ngcontent-bbq-c67]:before{content:\"\\\\e190\"}.glyphicon-sound-5-1[_ngcontent-bbq-c67]:before{content:\"\\\\e191\"}.glyphicon-sound-6-1[_ngcontent-bbq-c67]:before{content:\"\\\\e192\"}.glyphicon-sound-7-1[_ngcontent-bbq-c67]:before{content:\"\\\\e193\"}.glyphicon-copyright-mark[_ngcontent-bbq-c67]:before{content:\"\\\\e194\"}.glyphicon-registration-mark[_ngcontent-bbq-c67]:before{content:\"\\\\e195\"}.glyphicon-cloud-download[_ngcontent-bbq-c67]:before{content:\"\\\\e197\"}.glyphicon-cloud-upload[_ngcontent-bbq-c67]:before{content:\"\\\\e198\"}.glyphicon-tree-conifer[_ngcontent-bbq-c67]:before{content:\"\\\\e199\"}.glyphicon-tree-deciduous[_ngcontent-bbq-c67]:before{content:\"\\\\e200\"}.glyphicon-cd[_ngcontent-bbq-c67]:before{content:\"\\\\e201\"}.glyphicon-save-file[_ngcontent-bbq-c67]:before{content:\"\\\\e202\"}.glyphicon-open-file[_ngcontent-bbq-c67]:before{content:\"\\\\e203\"}.glyphicon-level-up[_ngcontent-bbq-c67]:before{content:\"\\\\e204\"}.glyphicon-copy[_ngcontent-bbq-c67]:before{content:\"\\\\e205\"}.glyphicon-paste[_ngcontent-bbq-c67]:before{content:\"\\\\e206\"}.glyphicon-alert[_ngcontent-bbq-c67]:before{content:\"\\\\e209\"}.glyphicon-equalizer[_ngcontent-bbq-c67]:before{content:\"\\\\e210\"}.glyphicon-king[_ngcontent-bbq-c67]:before{content:\"\\\\e211\"}.glyphicon-queen[_ngcontent-bbq-c67]:before{content:\"\\\\e212\"}.glyphicon-pawn[_ngcontent-bbq-c67]:before{content:\"\\\\e213\"}.glyphicon-bishop[_ngcontent-bbq-c67]:before{content:\"\\\\e214\"}.glyphicon-knight[_ngcontent-bbq-c67]:before{content:\"\\\\e215\"}.glyphicon-baby-formula[_ngcontent-bbq-c67]:before{content:\"\\\\e216\"}.glyphicon-tent[_ngcontent-bbq-c67]:before{content:\"\\\\26fa\"}.glyphicon-blackboard[_ngcontent-bbq-c67]:before{content:\"\\\\e218\"}.glyphicon-bed[_ngcontent-bbq-c67]:before{content:\"\\\\e219\"}.glyphicon-apple[_ngcontent-bbq-c67]:before{content:\"\\\\f8ff\"}.glyphicon-erase[_ngcontent-bbq-c67]:before{content:\"\\\\e221\"}.glyphicon-hourglass[_ngcontent-bbq-c67]:before{content:\"\\\\231b\"}.glyphicon-lamp[_ngcontent-bbq-c67]:before{content:\"\\\\e223\"}.glyphicon-duplicate[_ngcontent-bbq-c67]:before{content:\"\\\\e224\"}.glyphicon-piggy-bank[_ngcontent-bbq-c67]:before{content:\"\\\\e225\"}.glyphicon-scissors[_ngcontent-bbq-c67]:before{content:\"\\\\e226\"}.glyphicon-bitcoin[_ngcontent-bbq-c67]:before, .glyphicon-btc[_ngcontent-bbq-c67]:before, .glyphicon-xbt[_ngcontent-bbq-c67]:before{content:\"\\\\e227\"}.glyphicon-jpy[_ngcontent-bbq-c67]:before, .glyphicon-yen[_ngcontent-bbq-c67]:before{content:\"\\\\00a5\"}.glyphicon-rub[_ngcontent-bbq-c67]:before, .glyphicon-ruble[_ngcontent-bbq-c67]:before{content:\"\\\\20bd\"}.glyphicon-scale[_ngcontent-bbq-c67]:before{content:\"\\\\e230\"}.glyphicon-ice-lolly[_ngcontent-bbq-c67]:before{content:\"\\\\e231\"}.glyphicon-ice-lolly-tasted[_ngcontent-bbq-c67]:before{content:\"\\\\e232\"}.glyphicon-education[_ngcontent-bbq-c67]:before{content:\"\\\\e233\"}.glyphicon-option-horizontal[_ngcontent-bbq-c67]:before{content:\"\\\\e234\"}.glyphicon-option-vertical[_ngcontent-bbq-c67]:before{content:\"\\\\e235\"}.glyphicon-menu-hamburger[_ngcontent-bbq-c67]:before{content:\"\\\\e236\"}.glyphicon-modal-window[_ngcontent-bbq-c67]:before{content:\"\\\\e237\"}.glyphicon-oil[_ngcontent-bbq-c67]:before{content:\"\\\\e238\"}.glyphicon-grain[_ngcontent-bbq-c67]:before{content:\"\\\\e239\"}.glyphicon-sunglasses[_ngcontent-bbq-c67]:before{content:\"\\\\e240\"}.glyphicon-text-size[_ngcontent-bbq-c67]:before{content:\"\\\\e241\"}.glyphicon-text-color[_ngcontent-bbq-c67]:before{content:\"\\\\e242\"}.glyphicon-text-background[_ngcontent-bbq-c67]:before{content:\"\\\\e243\"}.glyphicon-object-align-top[_ngcontent-bbq-c67]:before{content:\"\\\\e244\"}.glyphicon-object-align-bottom[_ngcontent-bbq-c67]:before{content:\"\\\\e245\"}.glyphicon-object-align-horizontal[_ngcontent-bbq-c67]:before{content:\"\\\\e246\"}.glyphicon-object-align-left[_ngcontent-bbq-c67]:before{content:\"\\\\e247\"}.glyphicon-object-align-vertical[_ngcontent-bbq-c67]:before{content:\"\\\\e248\"}.glyphicon-object-align-right[_ngcontent-bbq-c67]:before{content:\"\\\\e249\"}.glyphicon-triangle-right[_ngcontent-bbq-c67]:before{content:\"\\\\e250\"}.glyphicon-triangle-left[_ngcontent-bbq-c67]:before{content:\"\\\\e251\"}.glyphicon-triangle-bottom[_ngcontent-bbq-c67]:before{content:\"\\\\e252\"}.glyphicon-triangle-top[_ngcontent-bbq-c67]:before{content:\"\\\\e253\"}.glyphicon-console[_ngcontent-bbq-c67]:before{content:\"\\\\e254\"}.glyphicon-superscript[_ngcontent-bbq-c67]:before{content:\"\\\\e255\"}.glyphicon-subscript[_ngcontent-bbq-c67]:before{content:\"\\\\e256\"}.glyphicon-menu-left[_ngcontent-bbq-c67]:before{content:\"\\\\e257\"}.glyphicon-menu-right[_ngcontent-bbq-c67]:before{content:\"\\\\e258\"}.glyphicon-menu-down[_ngcontent-bbq-c67]:before{content:\"\\\\e259\"}.glyphicon-menu-up[_ngcontent-bbq-c67]:before{content:\"\\\\e260\"}</style><style>@font-face{font-family:onpe;src:url(onpe.cfae7b7aa6df056a16b4.eot?cjgfmj);src:url(onpe.cfae7b7aa6df056a16b4.eot?cjgfmj#iefix) format(\"embedded-opentype\"),url(onpe.dbdf35b27707f916328f.woff?cjgfmj) format(\"woff\"),url(onpe.98aa4bed3b925268dde6.svg?cjgfmj#onpe) format(\"svg\");font-weight:400;font-style:normal}@font-face{font-family:Michroma;src:url(Michroma.ace9ad8efc608262b70a.eot);src:url(Michroma.ace9ad8efc608262b70a.eot?#iefix) format(\"embedded-opentype\"),url(Michroma.712d9237b077a63586be.woff) format(\"woff\"),url(Michroma.30c88f7bd134d7118404.svg#Michroma) format(\"svg\");font-weight:400;font-style:normal}@font-face{font-family:Harabara;src:url(Harabara_3.ca41fa74d8a3e15854eb.eot);src:url(Harabara_3.ca41fa74d8a3e15854eb.eot?#iefix) format(\"embedded-opentype\"),url(Harabara_3.0d6c56aaeea115e76557.woff) format(\"woff\"),url(Harabara_3.422515099ebc1b30aac5.svg#Harabara_3) format(\"svg\");font-weight:400;font-style:normal}@font-face{font-family:GillSansMT;src:url(GillSansMT.b843c4e837c3cba8aa70.eot);src:url(GillSansMT.b843c4e837c3cba8aa70.eot?#iefix) format(\"embedded-opentype\"),url(GillSansMT.efa8f71cfc96580a44a3.woff) format(\"woff\"),url(GillSansMT.7b4c4c1d788468fdf68b.svg#GillSansMT) format(\"svg\");font-weight:400;font-style:normal}@font-face{font-family:GillSansMT;src:url(GillSansMT-Bold.0ee4780f0ba20d53521c.eot);src:url(GillSansMT-Bold.b57772d306ac9bb42ff6.woff) format(\"woff\"),url(GillSansMT-Bold.9dde853d1ef428e613ee.svg#GillSansMT-Bold) format(\"svg\");font-weight:700;font-style:normal}.tabla_resumen_pc[_ngcontent-bbq-c67]{display:block}.tabla_resumen_movil[_ngcontent-bbq-c67]{display:none}.bg_departamentos[_ngcontent-bbq-c67]{height:333px;width:100%;background-image:url(lima.a759ad236074c903551f.jpg);position:relative;margin-bottom:20px;background-size:cover}.bg_departamentos[_ngcontent-bbq-c67]   .tabla_distritoelecoral[_ngcontent-bbq-c67]{width:calc(100% - 20px);background-color:rgba(0,0,0,.6);color:#fff;position:absolute;bottom:10px;margin-bottom:0;margin-left:10px}.bg_departamentos[_ngcontent-bbq-c67]   .tabla_distritoelecoral[_ngcontent-bbq-c67]   td[_ngcontent-bbq-c67]{border-top:none}.bg_departamentos[_ngcontent-bbq-c67]   .tabla_distritoelecoral[_ngcontent-bbq-c67]   .borde_blanco[_ngcontent-bbq-c67]{border-left:1px solid #fff}.bg_sin_departamentos[_ngcontent-bbq-c67]   td[_ngcontent-bbq-c67]{border-right:1px solid #dee2e6;border-bottom:1px solid #dee2e6}[class*=\" icon-\"][_ngcontent-bbq-c67], [class^=icon-][_ngcontent-bbq-c67]{font-family:onpe!important;speak:none;font-style:normal;font-weight:400;font-variant:normal;text-transform:none;line-height:1;-webkit-font-smoothing:antialiased;-moz-osx-font-smoothing:grayscale}select[_ngcontent-bbq-c67]{border:1px solid #8ea3a6}.icon-resumengeneral[_ngcontent-bbq-c67]:before{content:\"\\\\e909\"}.icon-elec_regional[_ngcontent-bbq-c67]:before{content:\"\\\\e901\"}.icon-elec_municipal[_ngcontent-bbq-c67]:before{content:\"\\\\e902\"}.icon-actas[_ngcontent-bbq-c67]:before{content:\"\\\\e900\"}.icon-participacion[_ngcontent-bbq-c67]:before{content:\"\\\\e903\"}.icon-impresora[_ngcontent-bbq-c67]:before{content:\"\\\\e904\"}.icon-barras[_ngcontent-bbq-c67]:before{content:\"\\\\e905\"}.icon-info[_ngcontent-bbq-c67]:before{content:\"\\\\e906\"}.icon-regresar[_ngcontent-bbq-c67]:before{content:\"\\\\e907\"}.icon-buscar[_ngcontent-bbq-c67]:before{content:\"\\\\e908\"}.icon-excel[_ngcontent-bbq-c67]:before{content:\"\\\\e910\"}.icon-pdf[_ngcontent-bbq-c67]:before{content:\"\\\\e911\"}.icon-ico_face[_ngcontent-bbq-c67]:before{content:\"\\\\e912\"}.icon-ico_twitter[_ngcontent-bbq-c67]:before{content:\"\\\\e913\"}.icon-ico_youtube[_ngcontent-bbq-c67]:before{content:\"\\\\e914\"}.icon-ico_google[_ngcontent-bbq-c67]:before{content:\"\\\\e915\"}.icon-ico_flickr[_ngcontent-bbq-c67]:before{content:\"\\\\e916\"}.icon-ico_instagram[_ngcontent-bbq-c67]:before{content:\"\\\\e917\"}.icon-ico_presidencial[_ngcontent-bbq-c67]:before{content:\"\\\\e918\"}.icon-ico_d[_ngcontent-bbq-c67]:before{content:\"\\\\e919\"}.icon-ico_congresal[_ngcontent-bbq-c67]:before{content:\"\\\\e920\"}@font-face{font-family:Roboto;src:url(Roboto-Regular.18b9c674e55e6a14cfc3.eot);src:url(Roboto-Regular.18b9c674e55e6a14cfc3.eot?#iefix) format(\"embedded-opentype\"),url(Roboto-Regular.33a606d57e602ee71cbf.woff) format(\"woff\"),url(Roboto-Regular.3c73f832eb8eea27f132.svg#Roboto-Regular) format(\"svg\");font-weight:400;font-style:normal}@font-face{font-family:Roboto Condensed;src:url(RobotoCondensed-Regular_1.03817afbc5a5cb4cbb0f.eot);src:url(RobotoCondensed-Regular_1.03817afbc5a5cb4cbb0f.eot?#iefix) format(\"embedded-opentype\"),url(RobotoCondensed-Regular_1.98ef0e4f12856e641bf4.woff) format(\"woff\"),url(RobotoCondensed-Regular_1.86d0a588cf68a1147863.svg#RobotoCondensed-Regular_1) format(\"svg\");font-weight:400;font-style:normal}body[_ngcontent-bbq-c67]{font-family:Roboto,sans-serif!important;font-size:16px}a[_ngcontent-bbq-c67]:hover{cursor:pointer}.body_404[_ngcontent-bbq-c67]{padding-bottom:180px}.body_404[_ngcontent-bbq-c67], header[_ngcontent-bbq-c67]{position:relative}header[_ngcontent-bbq-c67]{text-align:center;background:#374e91;color:#fff;margin-bottom:20px}header[_ngcontent-bbq-c67]   h1[_ngcontent-bbq-c67]{width:100%;font-family:Roboto;font-size:1.5em;margin:0 0 .3em}header[_ngcontent-bbq-c67]   h2[_ngcontent-bbq-c67]{width:100%;margin:0;font-family:GillSansMT,sans-serif!important;line-height:1em;font-size:2.1em;font-weight:700}header[_ngcontent-bbq-c67]   .logo_eg2021[_ngcontent-bbq-c67]{width:auto;height:150px}.bg_home[_ngcontent-bbq-c67]{background:url(bg_home.f7464546728ba82408dc.jpg);margin-top:190px;z-index:-2}.col-60[_ngcontent-bbq-c67]{width:60%;float:left}.col-40[_ngcontent-bbq-c67]{width:40%;float:right;position:relative}.conte_botones[_ngcontent-bbq-c67]{width:100%;float:right;border-radius:15px;overflow:hidden;margin-bottom:20px}.conte_botones[_ngcontent-bbq-c67]   a[_ngcontent-bbq-c67]{color:#fff}.conte_botones[_ngcontent-bbq-c67]   a[_ngcontent-bbq-c67]   .glyphicon[_ngcontent-bbq-c67]{transition:all .3s}.conte_botones[_ngcontent-bbq-c67]   a[_ngcontent-bbq-c67]   .linea1[_ngcontent-bbq-c67]{margin-top:10px}.conte_botones[_ngcontent-bbq-c67]   a[_ngcontent-bbq-c67]   .bg_municipales[_ngcontent-bbq-c67]{width:100%;height:300px;background:url(municipales.767f5449163bfa91dcf1.jpg) no-repeat;background-size:100% auto;transition:all .7s}.conte_botones[_ngcontent-bbq-c67]   a[_ngcontent-bbq-c67]:hover{color:#fff;text-decoration:none}.conte_botones[_ngcontent-bbq-c67]   a[_ngcontent-bbq-c67]:hover   .glyphicon[_ngcontent-bbq-c67]{margin-left:5px}.conte_botones[_ngcontent-bbq-c67]   a[_ngcontent-bbq-c67]:hover   .bg_municipales[_ngcontent-bbq-c67]{width:100%;height:300px;background:url(municipales.767f5449163bfa91dcf1.jpg) no-repeat;background-size:130% auto}.home_botonera[_ngcontent-bbq-c67]{width:100%;padding:20px 10px 10px;overflow:hidden}.home_botonera[_ngcontent-bbq-c67]   .conte_botones[_ngcontent-bbq-c67]{width:50%;float:left;padding:0 10px;margin-bottom:20px}.home_botonera[_ngcontent-bbq-c67]   .conte_botones[_ngcontent-bbq-c67]   a[_ngcontent-bbq-c67]{color:#fff}.home_botonera[_ngcontent-bbq-c67]   .conte_botones[_ngcontent-bbq-c67]   a[_ngcontent-bbq-c67]   .glyphicon[_ngcontent-bbq-c67]{transition:all .3s}.home_botonera[_ngcontent-bbq-c67]   .conte_botones[_ngcontent-bbq-c67]   a[_ngcontent-bbq-c67]   .linea1[_ngcontent-bbq-c67]{margin-top:10px}.home_botonera[_ngcontent-bbq-c67]   .conte_botones[_ngcontent-bbq-c67]   a[_ngcontent-bbq-c67]   .bg_municipales[_ngcontent-bbq-c67]{width:100%;height:300px;background:url(municipales.767f5449163bfa91dcf1.jpg) no-repeat;background-size:100% auto;transition:all .7s}.home_botonera[_ngcontent-bbq-c67]   .conte_botones[_ngcontent-bbq-c67]   a[_ngcontent-bbq-c67]:hover{color:#fff;text-decoration:none}.home_botonera[_ngcontent-bbq-c67]   .conte_botones[_ngcontent-bbq-c67]   a[_ngcontent-bbq-c67]:hover   .glyphicon[_ngcontent-bbq-c67]{margin-top:5px}.home_botonera[_ngcontent-bbq-c67]   .conte_botones[_ngcontent-bbq-c67]   a[_ngcontent-bbq-c67]:hover   .bg_municipales[_ngcontent-bbq-c67]{width:100%;height:300px;background:url(municipales.767f5449163bfa91dcf1.jpg) no-repeat;background-size:130% auto}.banner_home[_ngcontent-bbq-c67]{background:url(banner.d2ba41d4355ce6692e52.jpg) #444c61 no-repeat;background-size:100% auto;min-height:267px;margin-bottom:20px;text-align:center;position:relative}.banner_home[_ngcontent-bbq-c67]   h3[_ngcontent-bbq-c67]{display:inline-block;font-size:2.5em;color:#fff;margin-top:-.1em;width:100%;left:0;text-align:center;text-shadow:0 0 8px #000;font-family:GillSansMT;font-weight:700}.banner_erm[_ngcontent-bbq-c67]{width:70%;float:left;background:url(bg_01.563097fd994657699033.jpg) #e2e2e2 no-repeat;background-size:100% auto;padding-bottom:4.5%;position:relative;margin-bottom:20px}.banner_erm[_ngcontent-bbq-c67]   .mapa_inicio[_ngcontent-bbq-c67]{width:40%;height:auto;margin-top:10%;margin-left:10%;padding-bottom:3%}.banner_homeeg2021[_ngcontent-bbq-c67]{margin-top:-170px;margin-bottom:20px;position:relative}.banner_homeeg2021[_ngcontent-bbq-c67]   .bg_bannereg2021[_ngcontent-bbq-c67]{width:100%;max-width:100%}.banner_homeeg2021[_ngcontent-bbq-c67]   .conte_btns_home_banner[_ngcontent-bbq-c67]{width:28%;position:absolute;left:36%;bottom:8%}.banner_homeeg2021[_ngcontent-bbq-c67]   .conte_btns_home_banner[_ngcontent-bbq-c67]   a[_ngcontent-bbq-c67]{width:100%;display:block;color:#fff;margin-bottom:10px}.banner_homeeg2021[_ngcontent-bbq-c67]   .conte_btns_home_banner[_ngcontent-bbq-c67]   a[_ngcontent-bbq-c67]   .btn_informativa[_ngcontent-bbq-c67]{padding-top:15px;padding-bottom:15px;padding-left:30px;text-align:center;position:relative}.banner_homeeg2021[_ngcontent-bbq-c67]   .conte_btns_home_banner[_ngcontent-bbq-c67]   a[_ngcontent-bbq-c67]   .glyphicon[_ngcontent-bbq-c67]{transition:all .3s}.banner_homeeg2021[_ngcontent-bbq-c67]   .conte_btns_home_banner[_ngcontent-bbq-c67]   a[_ngcontent-bbq-c67]:hover{color:#fff;text-decoration:none}.banner_homeeg2021[_ngcontent-bbq-c67]   .conte_btns_home_banner[_ngcontent-bbq-c67]   a[_ngcontent-bbq-c67]:hover   .glyphicon[_ngcontent-bbq-c67]{margin-left:5px}.banner_homeeg2021[_ngcontent-bbq-c67]   .conte_btns_home_banner[_ngcontent-bbq-c67]   .btn01[_ngcontent-bbq-c67]{background:#374e91}.banner_homeeg2021[_ngcontent-bbq-c67]   .conte_btns_home_banner[_ngcontent-bbq-c67]   .btn02[_ngcontent-bbq-c67]{background:#8d9dc3}.banner_emc[_ngcontent-bbq-c67]{width:100%;float:left;background:url(bg_01.563097fd994657699033.jpg) #e2e2e2 no-repeat;background-size:100% auto;padding-bottom:0;position:relative;margin-bottom:20px}.banner_emc[_ngcontent-bbq-c67]   .mapa_inicio[_ngcontent-bbq-c67]{width:39.4%;height:auto;margin-top:.1%;margin-left:0;padding-bottom:0}.banner_emc[_ngcontent-bbq-c67]   .transparente[_ngcontent-bbq-c67]{width:.87%;height:auto;margin-left:0;padding-bottom:0}.banner_emc[_ngcontent-bbq-c67]   .btn_informativa[_ngcontent-bbq-c67]{width:30%;position:absolute;right:3%;bottom:5%}.banner_emc[_ngcontent-bbq-c67]   .btn_informativa[_ngcontent-bbq-c67]   a[_ngcontent-bbq-c67]{color:#fff;margin-bottom:.5em}.banner_emc[_ngcontent-bbq-c67]   .btn_informativa[_ngcontent-bbq-c67]   a[_ngcontent-bbq-c67]   .btn01[_ngcontent-bbq-c67]{margin-top:1em}.banner_emc[_ngcontent-bbq-c67]   .btn_informativa[_ngcontent-bbq-c67]   a[_ngcontent-bbq-c67]   .glyphicon[_ngcontent-bbq-c67]{transition:all .3s}.banner_emc[_ngcontent-bbq-c67]   .btn_informativa[_ngcontent-bbq-c67]   a[_ngcontent-bbq-c67]:hover{color:#fff;text-decoration:none}.banner_emc[_ngcontent-bbq-c67]   .btn_informativa[_ngcontent-bbq-c67]   a[_ngcontent-bbq-c67]:hover   .glyphicon[_ngcontent-bbq-c67]{margin-top:5px}.btn_home[_ngcontent-bbq-c67]{display:block;clear:both;min-height:50px;text-align:center;padding:15px 10px 15px 20px;color:#fff;position:relative}.btn01[_ngcontent-bbq-c67]{background-color:#374e91}.btn02[_ngcontent-bbq-c67]{background-color:maroon}.btn03[_ngcontent-bbq-c67]{background-color:#8d9dc3}.btn04[_ngcontent-bbq-c67]{background-color:grey}.btn05[_ngcontent-bbq-c67]{background-color:#b38320}.btn06[_ngcontent-bbq-c67]{background-color:#832c31}.flechita_botones[_ngcontent-bbq-c67]{position:absolute;left:10px;top:20px}.pic[_ngcontent-bbq-c67]{width:100%;padding-top:52%;position:relative;overflow:hidden;float:left}.pic[_ngcontent-bbq-c67]   img[_ngcontent-bbq-c67]{width:100%;height:auto;position:absolute;top:0;left:0;bottom:0;right:0;transition:all .7s ease}.pic[_ngcontent-bbq-c67]:hover{cursor:pointer}.pic[_ngcontent-bbq-c67]:hover   img[_ngcontent-bbq-c67]{width:110%;height:auto}.logo_home[_ngcontent-bbq-c67]{width:50%;height:auto;margin-left:auto;margin-right:auto}.bottom20[_ngcontent-bbq-c67]{margin-bottom:20px}.negrita[_ngcontent-bbq-c67]{font-weight:700}.logo_onpe[_ngcontent-bbq-c67]{float:right}.logo_onpe[_ngcontent-bbq-c67]   img[_ngcontent-bbq-c67]{width:125px;height:auto}.logo_eleccion[_ngcontent-bbq-c67]{float:left;margin-left:-15px}.menuprincipal[_ngcontent-bbq-c67]{text-align:center}.menuprincipal[_ngcontent-bbq-c67]   .navbar[_ngcontent-bbq-c67]{float:right}.menuprincipal[_ngcontent-bbq-c67]   .icono_togglemenu[_ngcontent-bbq-c67]{display:none}.menuprincipal[_ngcontent-bbq-c67]   a[_ngcontent-bbq-c67]{display:block;width:100%;background:#fff;color:#374e91;min-height:69px;line-height:66px;margin-bottom:20px;font-size:1em;border-bottom:6px solid #be372e}.menuprincipal[_ngcontent-bbq-c67]   a[_ngcontent-bbq-c67]   .ico_menu[_ngcontent-bbq-c67]{font-size:2.2em;margin-right:10px}.menuprincipal[_ngcontent-bbq-c67]   a[_ngcontent-bbq-c67]   .texto_menu[_ngcontent-bbq-c67]{display:inline-block;line-height:1em;max-width:calc(100% - 63px)}.menuprincipal[_ngcontent-bbq-c67]   .btn_azul[_ngcontent-bbq-c67]{border-left:10px solid #374e91;transition:all .3s}.menuprincipal[_ngcontent-bbq-c67]   .azul_activo[_ngcontent-bbq-c67], .menuprincipal[_ngcontent-bbq-c67]   .btn_azul[_ngcontent-bbq-c67]:active, .menuprincipal[_ngcontent-bbq-c67]   .btn_azul[_ngcontent-bbq-c67]:hover{background:#374e91;color:#fff;text-decoration:none}.menuprincipal[_ngcontent-bbq-c67]   .azul_activo[_ngcontent-bbq-c67]   .ico_menu[_ngcontent-bbq-c67], .menuprincipal[_ngcontent-bbq-c67]   .btn_azul[_ngcontent-bbq-c67]:active   .ico_menu[_ngcontent-bbq-c67], .menuprincipal[_ngcontent-bbq-c67]   .btn_azul[_ngcontent-bbq-c67]:hover   .ico_menu[_ngcontent-bbq-c67]{fill:#fff}.menuprincipal[_ngcontent-bbq-c67]   .btn_acero[_ngcontent-bbq-c67]{border-left:10px solid #5f7a98;transition:all .3s}.menuprincipal[_ngcontent-bbq-c67]   .acero_activo[_ngcontent-bbq-c67], .menuprincipal[_ngcontent-bbq-c67]   .btn_acero[_ngcontent-bbq-c67]:active, .menuprincipal[_ngcontent-bbq-c67]   .btn_acero[_ngcontent-bbq-c67]:hover{background:#5f7a98;color:#fff;text-decoration:none}.menuprincipal[_ngcontent-bbq-c67]   .acero_activo[_ngcontent-bbq-c67]   .ico_menu[_ngcontent-bbq-c67], .menuprincipal[_ngcontent-bbq-c67]   .btn_acero[_ngcontent-bbq-c67]:active   .ico_menu[_ngcontent-bbq-c67], .menuprincipal[_ngcontent-bbq-c67]   .btn_acero[_ngcontent-bbq-c67]:hover   .ico_menu[_ngcontent-bbq-c67]{fill:#fff}.menuprincipal[_ngcontent-bbq-c67]   .btn_dorado[_ngcontent-bbq-c67]{border-left:10px solid #b38320;transition:all .3s}.menuprincipal[_ngcontent-bbq-c67]   .btn_dorado[_ngcontent-bbq-c67]:active, .menuprincipal[_ngcontent-bbq-c67]   .btn_dorado[_ngcontent-bbq-c67]:hover, .menuprincipal[_ngcontent-bbq-c67]   .dorado_activo[_ngcontent-bbq-c67]{background:#b38320;color:#fff;text-decoration:none}.menuprincipal[_ngcontent-bbq-c67]   .btn_dorado[_ngcontent-bbq-c67]:active   .ico_menu[_ngcontent-bbq-c67], .menuprincipal[_ngcontent-bbq-c67]   .btn_dorado[_ngcontent-bbq-c67]:hover   .ico_menu[_ngcontent-bbq-c67], .menuprincipal[_ngcontent-bbq-c67]   .dorado_activo[_ngcontent-bbq-c67]   .ico_menu[_ngcontent-bbq-c67]{fill:#fff}.menuprincipal[_ngcontent-bbq-c67]   .btn_celeste[_ngcontent-bbq-c67]{border-left:10px solid #3471a6;transition:all .3s}.menuprincipal[_ngcontent-bbq-c67]   .btn_celeste[_ngcontent-bbq-c67]:active, .menuprincipal[_ngcontent-bbq-c67]   .btn_celeste[_ngcontent-bbq-c67]:hover, .menuprincipal[_ngcontent-bbq-c67]   .celeste_activo[_ngcontent-bbq-c67]{background:#3471a6;color:#fff;text-decoration:none}.menuprincipal[_ngcontent-bbq-c67]   .btn_celeste[_ngcontent-bbq-c67]:active   .ico_menu[_ngcontent-bbq-c67], .menuprincipal[_ngcontent-bbq-c67]   .btn_celeste[_ngcontent-bbq-c67]:hover   .ico_menu[_ngcontent-bbq-c67], .menuprincipal[_ngcontent-bbq-c67]   .celeste_activo[_ngcontent-bbq-c67]   .ico_menu[_ngcontent-bbq-c67]{fill:#fff}.menuprincipal[_ngcontent-bbq-c67]   .btn_rojo[_ngcontent-bbq-c67]{transition:all .3s}.menuprincipal[_ngcontent-bbq-c67]   .btn_rojo[_ngcontent-bbq-c67]:active, .menuprincipal[_ngcontent-bbq-c67]   .btn_rojo[_ngcontent-bbq-c67]:hover, .menuprincipal[_ngcontent-bbq-c67]   .rojo_activo[_ngcontent-bbq-c67]{background:#be372e;color:#fff;text-decoration:none}.menuprincipal[_ngcontent-bbq-c67]   .btn_rojo[_ngcontent-bbq-c67]:active   .ico_menu[_ngcontent-bbq-c67], .menuprincipal[_ngcontent-bbq-c67]   .btn_rojo[_ngcontent-bbq-c67]:hover   .ico_menu[_ngcontent-bbq-c67], .menuprincipal[_ngcontent-bbq-c67]   .rojo_activo[_ngcontent-bbq-c67]   .ico_menu[_ngcontent-bbq-c67]{fill:#fff}.tabs_submenu[_ngcontent-bbq-c67]{border-bottom:6px solid #8d9dc3}.nav-item[_ngcontent-bbq-c67], .nav-itemactas[_ngcontent-bbq-c67]{margin-right:3px;margin-bottom:0!important}.nav-tabs[_ngcontent-bbq-c67]   .nav-link[_ngcontent-bbq-c67]{background:#e2e2e2;color:#0f2241}.nav-tabs[_ngcontent-bbq-c67]   .active[_ngcontent-bbq-c67], .nav-tabs[_ngcontent-bbq-c67]   .nav-link[_ngcontent-bbq-c67]:hover{background:#8d9dc3!important;border:1px solid #8d9dc3!important;color:#fff!important}.subtitulo[_ngcontent-bbq-c67]{display:flex;align-items:center;background:#3e679b;color:#fff;min-height:47px;margin-bottom:20px;border-left:14px solid #8aa3c2;padding-left:30px;position:relative}.subtitulo[_ngcontent-bbq-c67]   h2[_ngcontent-bbq-c67]{margin:0;padding:0;font-size:2.125em;font-family:Roboto Condensed,sans-serif}.subtitulo[_ngcontent-bbq-c67]   span[_ngcontent-bbq-c67]{display:block}.subtitulo[_ngcontent-bbq-c67]   .botonera_print[_ngcontent-bbq-c67]{position:absolute;bottom:10px;right:10px}.subtitulo[_ngcontent-bbq-c67]   .btn_print[_ngcontent-bbq-c67]{border:1px solid #fff;color:#fff;margin-left:7px;padding:2px 10px 0}.subtitulo[_ngcontent-bbq-c67]   .btn_print[_ngcontent-bbq-c67]   .icon-excel[_ngcontent-bbq-c67], .subtitulo[_ngcontent-bbq-c67]   .btn_print[_ngcontent-bbq-c67]   .icon-impresora[_ngcontent-bbq-c67], .subtitulo[_ngcontent-bbq-c67]   .btn_print[_ngcontent-bbq-c67]   .icon-pdf[_ngcontent-bbq-c67]{display:inline-block;margin-right:5px}.subtitulo[_ngcontent-bbq-c67]   .btn_print[_ngcontent-bbq-c67]:hover{background:#fff!important;color:#3e679b!important;text-decoration:none}.subtitulo_azul[_ngcontent-bbq-c67]{display:flex;align-items:center;background:#3e679b;color:#fff;margin-bottom:20px;border-left:14px solid #8aa3c2;padding-left:30px;padding-top:10px;padding-bottom:10px;position:relative}.subtitulo_azul[_ngcontent-bbq-c67]   h2[_ngcontent-bbq-c67]{margin:0;padding:0;font-size:2.125em;font-family:Roboto Condensed,sans-serif}.subtitulo_detalle_candidato[_ngcontent-bbq-c67]{display:block;align-items:center;background:#3e679b;color:#fff;margin-bottom:20px;border-left:14px solid #8aa3c2;padding-left:30px;padding-top:10px;padding-bottom:10px;position:relative}.subtitulo_detalle_candidato[_ngcontent-bbq-c67]   h3[_ngcontent-bbq-c67]{margin:0;padding:0;font-size:1.4em;text-align:center;font-family:Roboto Condensed,sans-serif}.centrar_vertical[_ngcontent-bbq-c67]{vertical-align:middle}.lista_resoluciones[_ngcontent-bbq-c67]{color:#0f2241}.lista_resoluciones[_ngcontent-bbq-c67]   ul[_ngcontent-bbq-c67]{list-style:none}.lista_resoluciones[_ngcontent-bbq-c67]   .glyphicon[_ngcontent-bbq-c67]{color:#3e679b;font-size:1.5em;padding-right:.3em}.borde_gris[_ngcontent-bbq-c67]{padding:10px;margin-bottom:20px;border:1px solid #8ea3a6}.input_mesas[_ngcontent-bbq-c67]{width:calc(100% - 130px);border-radius:4px;border:1px solid #cacaca;text-align:center;display:inline-block;height:auto;padding:0 5px}.btn_buscar[_ngcontent-bbq-c67]{background:#03618a;color:#fff!important;display:inline-block;padding:4px 20px;border:none;float:right;margin-top:-2px}.btn_buscar[_ngcontent-bbq-c67]   .icon-buscar[_ngcontent-bbq-c67]{display:inline-block;margin-right:10px}.btn_buscar[_ngcontent-bbq-c67]:hover{background:#0083c3;color:#fff}.btn_detalle[_ngcontent-bbq-c67]{background:#03618a;color:#fff!important;padding:6px 8px 3px;text-align:center}.btn_detalle[_ngcontent-bbq-c67], .btn_detalle[_ngcontent-bbq-c67]   .icon-buscar[_ngcontent-bbq-c67]{display:inline-block}.btn_detalle[_ngcontent-bbq-c67]:hover{background:#0083c3;color:#fff}.btn_regresar[_ngcontent-bbq-c67]{background:#03618a;color:#fff!important;display:inline-block;padding:4px 20px;float:right;margin-bottom:20px}.btn_regresar[_ngcontent-bbq-c67]   .icon-regresar[_ngcontent-bbq-c67]{display:inline-block;margin-right:10px}.btn_regresar[_ngcontent-bbq-c67]:hover{background:#0083c3;color:#fff}.conte_mesas[_ngcontent-bbq-c67]{width:calc(100% + 2px);display:flex;flex-wrap:wrap;margin:-1px -1px 20px;justify-content:flex-start}.conte_mesas[_ngcontent-bbq-c67]   .mesas[_ngcontent-bbq-c67]{width:calc(20% - 2px);border:none;margin:1px;text-align:center;padding-top:8px;padding-bottom:6px}.procesada_con[_ngcontent-bbq-c67]{background:#b6cdf6}.procesada_con[_ngcontent-bbq-c67]   a[_ngcontent-bbq-c67]{color:#104d82}.procesada_sin[_ngcontent-bbq-c67]{background:#c1c1c1}.procesada_sin[_ngcontent-bbq-c67]   a[_ngcontent-bbq-c67]{color:#252525}.sin_procesar[_ngcontent-bbq-c67]{background:#efd2a8}.sin_procesar[_ngcontent-bbq-c67]   a[_ngcontent-bbq-c67]{color:#8a6d3b}.procesada_con[_ngcontent-bbq-c67]:hover, .procesada_sinn[_ngcontent-bbq-c67]:hover, .sin_procesar[_ngcontent-bbq-c67]:hover{text-decoration:underline}.leyenda_mesas[_ngcontent-bbq-c67]{padding:10px;margin-bottom:20px;border:1px solid #8ea3a6}.leyenda_mesas[_ngcontent-bbq-c67]   .icoleyend[_ngcontent-bbq-c67]{width:20px;height:20px;display:inline-block;margin-top:4px}.leyenda_mesas[_ngcontent-bbq-c67]   span[_ngcontent-bbq-c67]{display:inline-block}.centrar[_ngcontent-bbq-c67]{width:100%;height:100%;text-align:center;display:table-cell}.foto_agrupacion[_ngcontent-bbq-c67]{width:50px;height:50px}.foto_agrupacion_titulo[_ngcontent-bbq-c67]{width:100px;height:100px}.conte_paginador[_ngcontent-bbq-c67]{display:inline-block;margin-top:5px;margin-bottom:25px}.pagination[_ngcontent-bbq-c67]{display:inline-block;padding-left:0;margin:-14px 0;border-radius:4px}.pagination[_ngcontent-bbq-c67] > li[_ngcontent-bbq-c67]{display:inline}.pagination[_ngcontent-bbq-c67] > li[_ngcontent-bbq-c67] > a[_ngcontent-bbq-c67], .pagination[_ngcontent-bbq-c67] > li[_ngcontent-bbq-c67] > span[_ngcontent-bbq-c67]{position:relative;float:left;padding:6px 12px;margin-left:-1px;line-height:1.42857143;color:#337ab7;text-decoration:none;background-color:#fff;border:1px solid #ddd}.pagination[_ngcontent-bbq-c67] > li[_ngcontent-bbq-c67]:first-child > a[_ngcontent-bbq-c67], .pagination[_ngcontent-bbq-c67] > li[_ngcontent-bbq-c67]:first-child > span[_ngcontent-bbq-c67]{margin-left:0;border-top-left-radius:4px;border-bottom-left-radius:4px}.pagination[_ngcontent-bbq-c67] > li[_ngcontent-bbq-c67]:last-child > a[_ngcontent-bbq-c67], .pagination[_ngcontent-bbq-c67] > li[_ngcontent-bbq-c67]:last-child > span[_ngcontent-bbq-c67]{border-top-right-radius:4px;border-bottom-right-radius:4px}.pagination[_ngcontent-bbq-c67] > .active[_ngcontent-bbq-c67] > a[_ngcontent-bbq-c67], .pagination[_ngcontent-bbq-c67] > .active[_ngcontent-bbq-c67] > a[_ngcontent-bbq-c67]:focus, .pagination[_ngcontent-bbq-c67] > .active[_ngcontent-bbq-c67] > a[_ngcontent-bbq-c67]:hover, .pagination[_ngcontent-bbq-c67] > .active[_ngcontent-bbq-c67] > span[_ngcontent-bbq-c67], .pagination[_ngcontent-bbq-c67] > .active[_ngcontent-bbq-c67] > span[_ngcontent-bbq-c67]:focus, .pagination[_ngcontent-bbq-c67] > .active[_ngcontent-bbq-c67] > span[_ngcontent-bbq-c67]:hover{z-index:3;color:#fff;cursor:default;background-color:#337ab7;border-color:#337ab7}.mapa[_ngcontent-bbq-c67]{width:100%;background-color:#eee;border:1px solid #8ea3a6;height:450px}.texto_centrado[_ngcontent-bbq-c67]{text-align:center}.tabla_datos[_ngcontent-bbq-c67]{font-family:Roboto Condensed,sans-serif}.tabla_datos[_ngcontent-bbq-c67]   td[_ngcontent-bbq-c67]{vertical-align:middle}.tabla_datos[_ngcontent-bbq-c67]   td[_ngcontent-bbq-c67]   h1[_ngcontent-bbq-c67]{font-size:2.125em}.tabla_datos[_ngcontent-bbq-c67]   td[_ngcontent-bbq-c67]   h1[_ngcontent-bbq-c67], .tabla_datos[_ngcontent-bbq-c67]   td[_ngcontent-bbq-c67]   h2[_ngcontent-bbq-c67]{padding:0;margin:0;line-height:1em}.tabla_datos[_ngcontent-bbq-c67]   td[_ngcontent-bbq-c67]   h3[_ngcontent-bbq-c67]{padding:0;margin:0;font-size:1.125em}.tabla_datos[_ngcontent-bbq-c67]   span[_ngcontent-bbq-c67]{font-size:.875em;display:inline-block;line-height:1em}.tabla_datos[_ngcontent-bbq-c67]   .col_azul[_ngcontent-bbq-c67]{background-color:#366288;color:#fff}.tabla_datos[_ngcontent-bbq-c67]   .glyphicon[_ngcontent-bbq-c67]{color:#afbccb}.tabla_pc[_ngcontent-bbq-c67]{display:block}.tabla_movil[_ngcontent-bbq-c67]{display:none}.borde_acero[_ngcontent-bbq-c67]{border-left:14px solid #afbccb}.cont_selects_ubigeo[_ngcontent-bbq-c67]{background:#e2e2e2;margin-bottom:20px;padding:15px 25px}.cont_selects_ubigeo[_ngcontent-bbq-c67]   .linea_der[_ngcontent-bbq-c67]{border-right:1px solid #959595}.cont_selects_ubigeo[_ngcontent-bbq-c67]   label[_ngcontent-bbq-c67]{margin:0}.cont_selects_ubigeo[_ngcontent-bbq-c67]   .select_ubigeo[_ngcontent-bbq-c67]{width:100%;box-sizing:border-box;border-radius:4px;padding:2px}.conte_bordeazul[_ngcontent-bbq-c67]{border:1px solid #dee2e6;border-left:14px solid #afbccb;margin-bottom:15px}.conte_bordeazul[_ngcontent-bbq-c67]   .conte_selects[_ngcontent-bbq-c67]{padding:15px 30px}.conte_bordeazul[_ngcontent-bbq-c67]   .conte_cabecera[_ngcontent-bbq-c67]{padding:12px 15px;font-family:Roboto Condensed,sans-serif}.conte_bordeazul[_ngcontent-bbq-c67]   .conte_cabecera[_ngcontent-bbq-c67]   h1[_ngcontent-bbq-c67]{padding:0;margin:0;font-size:2.125em;line-height:1em}.conte_bordeazul[_ngcontent-bbq-c67]   .conte_cabecera[_ngcontent-bbq-c67]   h3[_ngcontent-bbq-c67]{padding:0;margin:0;font-size:1.125em}.conte_bordeazul[_ngcontent-bbq-c67]   .glyphicon[_ngcontent-bbq-c67]{color:#afbccb}.conte_bordeazul[_ngcontent-bbq-c67]   label[_ngcontent-bbq-c67]{width:100%;margin:0}.conte_bordeazul[_ngcontent-bbq-c67]   select[_ngcontent-bbq-c67]{width:100%;box-sizing:border-box;border-radius:4px;padding:2px}.conte_bordeazul[_ngcontent-bbq-c67]   span[_ngcontent-bbq-c67]{font-size:.875em}.conte_select_region[_ngcontent-bbq-c67]{width:100%;box-sizing:border-box;border-radius:4px;padding:2px}.graficos_resultados[_ngcontent-bbq-c67]{width:100%;height:310px;border:1px solid #8ea3a6}.graficos_resultados_totales[_ngcontent-bbq-c67]{width:100%;height:358px;border:1px solid #8ea3a6}.graficos_barras_resultados[_ngcontent-bbq-c67]{width:100%;height:335px;border:1px solid #8ea3a6}.graficos_dist_electoral[_ngcontent-bbq-c67]{width:100%;height:900px;border:1px solid #8ea3a6}.graficos_resumen[_ngcontent-bbq-c67]{width:100%;height:648px;border:1px solid #8ea3a6}.graficos_candidatos[_ngcontent-bbq-c67]{width:100%;background:url(bg_candidatos.340f1821c488e4ebf7c9.jpg) no-repeat;background-size:cover;border:1px solid #8ea3a6}.graficos_candidatos[_ngcontent-bbq-c67]   ul[_ngcontent-bbq-c67]{width:100%;height:100%;display:flex;justify-content:center;align-items:center;margin-bottom:10px;margin-top:10px;padding:0 0 0 15px}.graficos_candidatos[_ngcontent-bbq-c67]   ul[_ngcontent-bbq-c67]   li[_ngcontent-bbq-c67]{display:inline-flex;position:relative;max-width:16.66%}.graficos_candidatos[_ngcontent-bbq-c67]   .bg_foto_candidato[_ngcontent-bbq-c67]{width:100%;height:auto;max-width:100%;margin-left:-10px;margin-right:-10px}.graficos_candidatos[_ngcontent-bbq-c67]   .bg_foto_candidato[_ngcontent-bbq-c67]   img[_ngcontent-bbq-c67]{max-width:100%}.graficos_candidatos[_ngcontent-bbq-c67]   .porcetaje_votos[_ngcontent-bbq-c67]{font-family:Roboto,sans-serif;width:100%;padding-right:15%;position:absolute;bottom:-5px;text-align:center;font-size:1.4vw;color:#fff;font-style:italic}.gutters-20[_ngcontent-bbq-c67]{margin-right:-10px;margin-left:-10px}.gutters-20[_ngcontent-bbq-c67] > .col[_ngcontent-bbq-c67], .gutters-20[_ngcontent-bbq-c67] > [class*=col-][_ngcontent-bbq-c67]{padding-right:10px;padding-left:10px}.leyend_crema[_ngcontent-bbq-c67]{display:block;background:#8d9dc3;color:#fff;text-align:center;padding:10px;margin-bottom:20px}.leyend_crema[_ngcontent-bbq-c67]   .formula[_ngcontent-bbq-c67]{display:inline-block;margin-left:10px}.leyend_crema[_ngcontent-bbq-c67]   .formula[_ngcontent-bbq-c67]   hr[_ngcontent-bbq-c67]{border:1px solid #fff;margin:0}.subtitulo_dorado[_ngcontent-bbq-c67]{background:#b38320;color:#fff;margin-top:10px;font-size:1.125em;padding:10px}.centrar_conteleyend[_ngcontent-bbq-c67]{display:inline-block}.centrar_conteleyend[_ngcontent-bbq-c67]   .datos_leyend[_ngcontent-bbq-c67]{display:inline-block;list-style:none;margin:0 0 0 20px;padding:0;color:#fff;font-size:1em;text-align:left}.centrar_conteleyend[_ngcontent-bbq-c67]   .simbolo_leyend[_ngcontent-bbq-c67]{display:inline-block}.leyenda[_ngcontent-bbq-c67]{padding:0;margin:0 0 20px;list-style:none;font-size:1em}.tablas[_ngcontent-bbq-c67], .tablas[_ngcontent-bbq-c67]   th[_ngcontent-bbq-c67]{border:1px solid #cacaca}.tablas[_ngcontent-bbq-c67]   th[_ngcontent-bbq-c67]{background:#374e91;color:#fff;text-align:center;font-weight:400}.tablas[_ngcontent-bbq-c67]   td[_ngcontent-bbq-c67]{border:1px solid #cacaca;padding-top:.5em;padding-bottom:.5em}.tablas[_ngcontent-bbq-c67]   .pad_lef40[_ngcontent-bbq-c67]{padding-left:40px}.tablas[_ngcontent-bbq-c67]   .td_totales[_ngcontent-bbq-c67]   td[_ngcontent-bbq-c67]{background:#fff6c4;color:#5c3500;font-weight:700}.tabla_resultado[_ngcontent-bbq-c67]   th[_ngcontent-bbq-c67]{text-align:center;border:1px solid #cacaca}.tabla_resultado[_ngcontent-bbq-c67]   td[_ngcontent-bbq-c67]{padding-top:.2em;padding-bottom:.2em;border:1px solid #cacaca;vertical-align:middle}.tabla_resultado[_ngcontent-bbq-c67]   .datos_voto[_ngcontent-bbq-c67]   td[_ngcontent-bbq-c67]{padding:.5em}.tabla_resultado[_ngcontent-bbq-c67]   .tabla_fijo[_ngcontent-bbq-c67]{table-layout:fixed}.table-scroll1[_ngcontent-bbq-c67], .table-wrap[_ngcontent-bbq-c67]{width:100%;overflow-x:scroll;overflow-y:hidden}.table-scroll1[_ngcontent-bbq-c67]{height:20px;margin-bottom:10px}.table-scroll[_ngcontent-bbq-c67]{position:relative;max-width:100%;margin:auto;overflow:hidden}.table-wrap[_ngcontent-bbq-c67]{width:100%;overflow:auto;padding-bottom:20px}.table-scroll[_ngcontent-bbq-c67]   table[_ngcontent-bbq-c67]{width:100%;margin:auto;border-spacing:0}.table-scroll[_ngcontent-bbq-c67]   tfoot[_ngcontent-bbq-c67], .table-scroll[_ngcontent-bbq-c67]   thead[_ngcontent-bbq-c67]{background:#f9f9f9}.clone[_ngcontent-bbq-c67]{position:absolute;top:0;left:0;pointer-events:none}.clone[_ngcontent-bbq-c67]   td[_ngcontent-bbq-c67], .clone[_ngcontent-bbq-c67]   th[_ngcontent-bbq-c67]{visibility:hidden;border-color:transparent}.clone[_ngcontent-bbq-c67]   tbody[_ngcontent-bbq-c67]   th[_ngcontent-bbq-c67]{visibility:visible}.clone[_ngcontent-bbq-c67]   .fixed-side[_ngcontent-bbq-c67]{border:1px solid #cacaca;background:#fff;visibility:visible}.clone[_ngcontent-bbq-c67]   tfoot[_ngcontent-bbq-c67], .clone[_ngcontent-bbq-c67]   thead[_ngcontent-bbq-c67]{background:transparent}.clone[_ngcontent-bbq-c67]   tr[_ngcontent-bbq-c67]:nth-of-type(odd)   td[_ngcontent-bbq-c67], .clone[_ngcontent-bbq-c67]   tr[_ngcontent-bbq-c67]:nth-of-type(odd)   th[_ngcontent-bbq-c67]{background-color:#f2f2f2}.titulo_td[_ngcontent-bbq-c67]{padding:.75rem!important}.tabla_participacion[_ngcontent-bbq-c67]   th[_ngcontent-bbq-c67]{text-align:center;border:1px solid #969696;padding-top:1.1em;padding-bottom:1.1em;background:#d1d1d1}.tabla_participacion[_ngcontent-bbq-c67]   .cabeceradorada[_ngcontent-bbq-c67]   th[_ngcontent-bbq-c67]{background:#374e91;border-left:1px solid #fff;border-right:1px solid #fff;color:#fff}.tabla_participacion[_ngcontent-bbq-c67]   td[_ngcontent-bbq-c67]{padding-top:.7em;padding-bottom:.7em;border:1px solid #cacaca;vertical-align:middle}.tabla_participacion[_ngcontent-bbq-c67]   .datos_voto[_ngcontent-bbq-c67]   td[_ngcontent-bbq-c67]{padding:.5em}.datos_participacion[_ngcontent-bbq-c67]   .leyend_crema[_ngcontent-bbq-c67]{padding:17px 10px}.cabecera_dorada[_ngcontent-bbq-c67]{background:#374e91;color:#fff;padding:.75rem;border-left:14px solid #8d9dc3}.img_acta[_ngcontent-bbq-c67]{max-width:100%;height:auto}.top20[_ngcontent-bbq-c67]{margin-top:20px}footer[_ngcontent-bbq-c67]{clear:both;background:#374e91;color:#fff;text-align:center;padding:1.2em 0;font-size:.8em;overflow:hidden;font-family:GillSansMT}footer[_ngcontent-bbq-c67]   .centrar_footer[_ngcontent-bbq-c67]{width:100%;margin:0 auto;display:flex;align-content:center;justify-content:center;align-items:center}footer[_ngcontent-bbq-c67]   .titulo_footer[_ngcontent-bbq-c67]{color:#fff;font-size:1.5em;margin:.2em 0;float:left;padding-right:1em;text-align:right;font-weight:700}footer[_ngcontent-bbq-c67]   .datos_footer[_ngcontent-bbq-c67]{float:right;padding-left:3em;text-align:center}footer[_ngcontent-bbq-c67]   .separador_footer[_ngcontent-bbq-c67]{margin-left:1em;margin-right:1em}footer[_ngcontent-bbq-c67]   .correo[_ngcontent-bbq-c67]{color:#fff}footer[_ngcontent-bbq-c67]   .correo[_ngcontent-bbq-c67]:hover{text-decoration:underline;color:#fff}footer[_ngcontent-bbq-c67]   a[_ngcontent-bbq-c67]{color:#fff;margin-right:.2em}footer[_ngcontent-bbq-c67]   a[_ngcontent-bbq-c67]:hover{color:#677796;text-decoration:none}footer[_ngcontent-bbq-c67]   p[_ngcontent-bbq-c67]{margin:0;padding:0;font-weight:400;font-size:1.2em;text-align:center}footer[_ngcontent-bbq-c67]   .social_medias[_ngcontent-bbq-c67]{color:#fff;font-size:2.5em}.footer_404[_ngcontent-bbq-c67]{width:100%;position:fixed;bottom:0}.p404[_ngcontent-bbq-c67]{margin-top:100px;margin-bottom:200px}.barra_noencontrada1[_ngcontent-bbq-c67]{background:#3471a3;font-size:26px}.barra_noencontrada1[_ngcontent-bbq-c67], .barra_noencontrada2[_ngcontent-bbq-c67]{color:#fff;text-align:center;height:60px;line-height:60px}.barra_noencontrada2[_ngcontent-bbq-c67]{background:#8aa3c2;font-size:50px;font-weight:lighter}.conte_btn_irinicio[_ngcontent-bbq-c67]{text-align:center;border-left:5px solid #3471a3}.btn_irinicio[_ngcontent-bbq-c67]{font-family:Roboto,sans-serif;font-weight:700;background:url(btn_irinicio.5762a127ebd33031b0e2.png) no-repeat;width:296px;height:78px;border:none;color:#fff;box-sizing:border-box;padding-left:80px;font-size:25px;line-height:25px;margin-top:40px}.img_404[_ngcontent-bbq-c67]{width:164px;height:160px}.cont_img_404[_ngcontent-bbq-c67]{width:35%;float:left;text-align:right}.txt_pag404[_ngcontent-bbq-c67]{font-family:Roboto,sans-serif;width:65%;color:#3471a3;font-size:50px;line-height:50px;font-weight:700;float:left;padding-top:60px}.bottom_404[_ngcontent-bbq-c67]{margin-top:20px}.laptop_mantenimiento[_ngcontent-bbq-c67]{width:307px;height:240px}.barra_mantenimiento[_ngcontent-bbq-c67]{width:306px;height:43px;margin-top:4px}.txt_mantenimiento[_ngcontent-bbq-c67]{font-family:Roboto,sans-serif;color:#3471a3;font-size:38px;line-height:38px;text-align:left;font-weight:700;float:left;padding-top:60px}.conte_mantenimiento[_ngcontent-bbq-c67]{text-align:left;border-left:5px solid #3471a3;padding-left:80px;box-sizing:border-box}.centrar_laptop[_ngcontent-bbq-c67]{text-align:center}@media (max-width:1730px){.txt_pag404[_ngcontent-bbq-c67]{font-size:40px;line-height:40px}.img_404[_ngcontent-bbq-c67]{width:140px;height:137px}}@media (max-width:1600px){.btn_irinicio[_ngcontent-bbq-c67]{width:250px;height:66px;background-size:contain;padding-left:60px;font-size:16px;line-height:16px}.txt_pag404[_ngcontent-bbq-c67]{font-size:36px;line-height:36px}.barra_noencontrada1[_ngcontent-bbq-c67]{font-size:22px}}@media (max-width:1200px){.banner_home[_ngcontent-bbq-c67]   h3[_ngcontent-bbq-c67]{font-size:1.6em}.item_menu[_ngcontent-bbq-c67]{flex:0 0 33.333333%;max-width:33.333333%}}@media (max-width:1450px){.menuprincipal[_ngcontent-bbq-c67]   a[_ngcontent-bbq-c67]{font-size:.9em}.menuprincipal[_ngcontent-bbq-c67]   a[_ngcontent-bbq-c67]   .ico_menu[_ngcontent-bbq-c67]{font-size:2.1em}.conte_mantenimiento[_ngcontent-bbq-c67]{border-left:5px solid #3471a3;padding-left:50px}.laptop_mantenimiento[_ngcontent-bbq-c67]{width:231px;height:181px}.barra_mantenimiento[_ngcontent-bbq-c67]{width:231px;height:32px;margin-top:4px}.txt_mantenimiento[_ngcontent-bbq-c67]{font-size:26px;line-height:26px;padding-top:40px}}@media (max-width:1366px){.menuprincipal[_ngcontent-bbq-c67]   a[_ngcontent-bbq-c67]{font-size:.95em}.menuprincipal[_ngcontent-bbq-c67]   a[_ngcontent-bbq-c67]   .ico_menu[_ngcontent-bbq-c67]{font-size:2.2em}.banner_home[_ngcontent-bbq-c67]   h3[_ngcontent-bbq-c67]{font-size:2.1em}.home_iz[_ngcontent-bbq-c67]   .conte_botones[_ngcontent-bbq-c67]   a[_ngcontent-bbq-c67]   .pic[_ngcontent-bbq-c67]{padding-top:127.6%}.banner_erm[_ngcontent-bbq-c67]   .logo_erm2018[_ngcontent-bbq-c67]{margin-top:52.4%}.tabla_datos[_ngcontent-bbq-c67]   td[_ngcontent-bbq-c67]{padding:.4em}.tabla_datos[_ngcontent-bbq-c67]   td[_ngcontent-bbq-c67]   h2[_ngcontent-bbq-c67]{font-size:1.9em}.txt_pag404[_ngcontent-bbq-c67]{font-size:35px;line-height:35px;padding-top:48px}.img_404[_ngcontent-bbq-c67]{width:117px;height:114px}.btn_irinicio[_ngcontent-bbq-c67]{width:210px;height:55px;background-size:contain;padding-left:55px;font-size:16px;line-height:16px}.barra_noencontrada1[_ngcontent-bbq-c67]{font-size:18px}.conte_mantenimiento[_ngcontent-bbq-c67]{border-left:5px solid #3471a3;padding-left:40px}.laptop_mantenimiento[_ngcontent-bbq-c67]{width:219px;height:171px}.barra_mantenimiento[_ngcontent-bbq-c67]{width:218px;height:30px;margin-top:4px}.txt_mantenimiento[_ngcontent-bbq-c67]{font-size:27px;line-height:27px;padding-top:40px}}@media (max-width:1130px){body[_ngcontent-bbq-c67]{font-size:14px}header[_ngcontent-bbq-c67]   h1[_ngcontent-bbq-c67]{font-size:1.2em}header[_ngcontent-bbq-c67]   h2[_ngcontent-bbq-c67]{font-size:1.6em}.menuprincipal[_ngcontent-bbq-c67]   a[_ngcontent-bbq-c67]{padding-left:10px;padding-right:10px;font-size:1em;min-height:70px;line-height:68px}.menuprincipal[_ngcontent-bbq-c67]   a[_ngcontent-bbq-c67]   .ico_menu[_ngcontent-bbq-c67]{font-size:2em}.logo_onpe[_ngcontent-bbq-c67]   img[_ngcontent-bbq-c67]{width:120px;height:auto}.logo_eleccion[_ngcontent-bbq-c67]   img[_ngcontent-bbq-c67]{width:207px;height:auto}.subtitulo[_ngcontent-bbq-c67]{min-height:110px;font-size:.84em}.tabla_pc[_ngcontent-bbq-c67]{display:none}.tabla_movil[_ngcontent-bbq-c67]{display:block}}@media screen and (min-width:993px) and (max-width:1050px){.tablas[_ngcontent-bbq-c67]   th[_ngcontent-bbq-c67]{line-height:1em;padding-left:.5em;padding-right:.5em}.tablas[_ngcontent-bbq-c67]   td[_ngcontent-bbq-c67], .tablas[_ngcontent-bbq-c67]   th[_ngcontent-bbq-c67]{font-size:1em}.tabla_datos[_ngcontent-bbq-c67]   td[_ngcontent-bbq-c67]{padding:.4em}.tabla_datos[_ngcontent-bbq-c67]   td[_ngcontent-bbq-c67]   h2[_ngcontent-bbq-c67]{font-size:1.6em}.home_iz[_ngcontent-bbq-c67]   .conte_botones[_ngcontent-bbq-c67]   a[_ngcontent-bbq-c67]   .pic[_ngcontent-bbq-c67]{padding-top:115.4%}}@media (max-width:992px){header[_ngcontent-bbq-c67]   h1[_ngcontent-bbq-c67]{font-size:.96em}header[_ngcontent-bbq-c67]   h2[_ngcontent-bbq-c67]{font-size:1.28em}.banner_home[_ngcontent-bbq-c67]   h3[_ngcontent-bbq-c67]{font-size:1.6em}.graficos_candidatos[_ngcontent-bbq-c67]{margin-bottom:20px}.graficos_candidatos[_ngcontent-bbq-c67]   .porcetaje_votos[_ngcontent-bbq-c67]{font-size:2.2vw}.item_menu[_ngcontent-bbq-c67]{flex:0 0 50%;max-width:50%}.pie_municipales[_ngcontent-bbq-c67], .pie_regionales[_ngcontent-bbq-c67]{order:1;margin-bottom:20px}.barras_municipales[_ngcontent-bbq-c67], .barras_regionales[_ngcontent-bbq-c67]{order:2}.graficos_barras_resultados[_ngcontent-bbq-c67], .graficos_resultados[_ngcontent-bbq-c67], .graficos_resultados_totales[_ngcontent-bbq-c67]{margin-bottom:20px}.menuprincipal[_ngcontent-bbq-c67]   a[_ngcontent-bbq-c67]{margin-bottom:10px}.btn_buscar[_ngcontent-bbq-c67]{margin-bottom:20px}.tabs_submenu[_ngcontent-bbq-c67]{display:flex}.tabs_submenu[_ngcontent-bbq-c67]   li[_ngcontent-bbq-c67]{width:50%;margin-right:0}.nav-tabs[_ngcontent-bbq-c67]   .nav-item[_ngcontent-bbq-c67]{padding-left:5px;padding-right:5px}.nav-tabs[_ngcontent-bbq-c67]   .nav-item[_ngcontent-bbq-c67]   .nav-link[_ngcontent-bbq-c67]{width:100%;border-radius:5px;background:none;border:1px solid #b38320;margin-bottom:10px}.footer_404[_ngcontent-bbq-c67]   p[_ngcontent-bbq-c67]{padding:0;margin:0;display:inline-block}.footer_404[_ngcontent-bbq-c67]   span[_ngcontent-bbq-c67]{margin:4px 0;width:100%}}@media (max-width:768px){.col-40[_ngcontent-bbq-c67], .col-60[_ngcontent-bbq-c67]{width:100%}.tabla_resumen_pc[_ngcontent-bbq-c67]{display:none}.tabla_resumen_movil[_ngcontent-bbq-c67]{display:block}.menuprincipal[_ngcontent-bbq-c67]   .icono_togglemenu[_ngcontent-bbq-c67]{display:block;width:100%}.logo_onpe[_ngcontent-bbq-c67]   img[_ngcontent-bbq-c67]{width:90px;height:auto}.logo_eleccion[_ngcontent-bbq-c67]   img[_ngcontent-bbq-c67]{width:156px;height:auto}header[_ngcontent-bbq-c67]   h1[_ngcontent-bbq-c67]{font-size:.75em}header[_ngcontent-bbq-c67]   h2[_ngcontent-bbq-c67]{font-size:1em}.subtitulo[_ngcontent-bbq-c67]{padding-bottom:60px}.subtitulo[_ngcontent-bbq-c67]   h2[_ngcontent-bbq-c67]{margin-bottom:10px}.subtitulo[_ngcontent-bbq-c67]   .botonera_print[_ngcontent-bbq-c67]{margin-top:10px}.subtitulo[_ngcontent-bbq-c67]   .btn_print[_ngcontent-bbq-c67]{display:inline-block;margin-top:5px}.tabs_submenu[_ngcontent-bbq-c67]   li[_ngcontent-bbq-c67]{width:100%}.conte_btn_irinicio[_ngcontent-bbq-c67], .conte_mantenimiento[_ngcontent-bbq-c67]{border-left:none}.barra_mantenimiento[_ngcontent-bbq-c67]{width:60%;height:auto;margin-left:20%;margin-top:4px}.txt_mantenimiento[_ngcontent-bbq-c67]{font-size:27px;line-height:27px;padding-left:20%;padding-top:40px}footer[_ngcontent-bbq-c67]   .centrar_footer[_ngcontent-bbq-c67]{width:90%;display:block}footer[_ngcontent-bbq-c67]   .titulo_footer[_ngcontent-bbq-c67]{width:100%;text-align:center}footer[_ngcontent-bbq-c67]   .datos_footer[_ngcontent-bbq-c67]{width:100%}}@media (min-width:769px){.menuprincipal[_ngcontent-bbq-c67]   #navbarToggleExternalContent[_ngcontent-bbq-c67]{display:block}}@media (max-width:576px){header[_ngcontent-bbq-c67]   h1[_ngcontent-bbq-c67]{font-size:1.5em}footer[_ngcontent-bbq-c67]   .titulo_footer[_ngcontent-bbq-c67]{font-size:1em}.subtitulo[_ngcontent-bbq-c67]{padding-top:20px;padding-left:20px;padding-bottom:60px}.banner_home[_ngcontent-bbq-c67]{text-align:center}.banner_home[_ngcontent-bbq-c67]   .logo_home[_ngcontent-bbq-c67]{width:100%;margin-left:0}.banner_home[_ngcontent-bbq-c67]   h3[_ngcontent-bbq-c67]{width:100%;position:relative;margin-top:20px}.banner_erm[_ngcontent-bbq-c67]   .logo_erm2018[_ngcontent-bbq-c67]{width:70%;margin-top:25%}.logo_onpe[_ngcontent-bbq-c67]{float:none;margin:0 auto;padding-bottom:20px}.logo_onpe[_ngcontent-bbq-c67]   img[_ngcontent-bbq-c67]{width:45%;margin-top:.5em}.banner_homeeg2021[_ngcontent-bbq-c67]   .conte_btns_home_banner[_ngcontent-bbq-c67]{width:50%;position:absolute;left:30%;bottom:8%;font-size:.8em}.banner_homeeg2021[_ngcontent-bbq-c67]   .conte_btns_home_banner[_ngcontent-bbq-c67]   a[_ngcontent-bbq-c67]   .btn_informativa[_ngcontent-bbq-c67]{padding-left:15px}.logo_eleccion[_ngcontent-bbq-c67]{float:none;margin:20px auto 10px}.logo_eleccion[_ngcontent-bbq-c67]   img[_ngcontent-bbq-c67]{width:100%}.barra_noencontrada1[_ngcontent-bbq-c67]{height:auto;line-height:1em;padding-top:10px;padding-bottom:10px}.item_menu[_ngcontent-bbq-c67]{flex:0 0 100%;max-width:100%}}@media (max-width:380px){header[_ngcontent-bbq-c67]   div[_ngcontent-bbq-c67]{margin:0;padding:0}header[_ngcontent-bbq-c67]   .logo_eleccion[_ngcontent-bbq-c67]{width:100%;margin-bottom:20px}header[_ngcontent-bbq-c67]   .logo_onpe[_ngcontent-bbq-c67]{margin-bottom:20px}.banner_erm[_ngcontent-bbq-c67]{width:100%}.home_iz[_ngcontent-bbq-c67]   .conte_botones[_ngcontent-bbq-c67]{width:calc(100% - 40px);margin-right:20px}}</style><style>@font-face{font-family:Glyphicons Halflings;src:url(glyphicons-halflings-regular.5be1347c682810f199c7.eot);src:url(glyphicons-halflings-regular.5be1347c682810f199c7.eot?#iefix) format(\"embedded-opentype\"),url(glyphicons-halflings-regular.be810be3a3e14c682a25.woff2) format(\"woff2\"),url(glyphicons-halflings-regular.82b1212e45a2bc35dd73.woff) format(\"truetype\"),url(glyphicons-halflings-regular.9a17786234899efcc963.svg#glyphicons_halflingsregular) format(\"svg\")}.amcharts-category-axis[_ngcontent-bbq-c68]   .amcharts-axis-label[_ngcontent-bbq-c68]:first-child   tspan[_ngcontent-bbq-c68]{font-weight:700;font-size:500px}.glyphicon[_ngcontent-bbq-c68]{position:relative;top:1px;display:inline-block;font-family:Glyphicons Halflings;font-style:normal;font-weight:400;line-height:1;-webkit-font-smoothing:antialiased;-moz-osx-font-smoothing:grayscale}.glyphicon-asterisk[_ngcontent-bbq-c68]:before{content:\"\\\\2a\"}.glyphicon-plus[_ngcontent-bbq-c68]:before{content:\"\\\\2b\"}.glyphicon-eur[_ngcontent-bbq-c68]:before, .glyphicon-euro[_ngcontent-bbq-c68]:before{content:\"\\\\20ac\"}.glyphicon-minus[_ngcontent-bbq-c68]:before{content:\"\\\\2212\"}.glyphicon-cloud[_ngcontent-bbq-c68]:before{content:\"\\\\2601\"}.glyphicon-envelope[_ngcontent-bbq-c68]:before{content:\"\\\\2709\"}.glyphicon-pencil[_ngcontent-bbq-c68]:before{content:\"\\\\270f\"}.glyphicon-glass[_ngcontent-bbq-c68]:before{content:\"\\\\e001\"}.glyphicon-music[_ngcontent-bbq-c68]:before{content:\"\\\\e002\"}.glyphicon-search[_ngcontent-bbq-c68]:before{content:\"\\\\e003\"}.glyphicon-heart[_ngcontent-bbq-c68]:before{content:\"\\\\e005\"}.glyphicon-star[_ngcontent-bbq-c68]:before{content:\"\\\\e006\"}.glyphicon-star-empty[_ngcontent-bbq-c68]:before{content:\"\\\\e007\"}.glyphicon-user[_ngcontent-bbq-c68]:before{content:\"\\\\e008\"}.glyphicon-film[_ngcontent-bbq-c68]:before{content:\"\\\\e009\"}.glyphicon-th-large[_ngcontent-bbq-c68]:before{content:\"\\\\e010\"}.glyphicon-th[_ngcontent-bbq-c68]:before{content:\"\\\\e011\"}.glyphicon-th-list[_ngcontent-bbq-c68]:before{content:\"\\\\e012\"}.glyphicon-ok[_ngcontent-bbq-c68]:before{content:\"\\\\e013\"}.glyphicon-remove[_ngcontent-bbq-c68]:before{content:\"\\\\e014\"}.glyphicon-zoom-in[_ngcontent-bbq-c68]:before{content:\"\\\\e015\"}.glyphicon-zoom-out[_ngcontent-bbq-c68]:before{content:\"\\\\e016\"}.glyphicon-off[_ngcontent-bbq-c68]:before{content:\"\\\\e017\"}.glyphicon-signal[_ngcontent-bbq-c68]:before{content:\"\\\\e018\"}.glyphicon-cog[_ngcontent-bbq-c68]:before{content:\"\\\\e019\"}.glyphicon-trash[_ngcontent-bbq-c68]:before{content:\"\\\\e020\"}.glyphicon-home[_ngcontent-bbq-c68]:before{content:\"\\\\e021\"}.glyphicon-file[_ngcontent-bbq-c68]:before{content:\"\\\\e022\"}.glyphicon-time[_ngcontent-bbq-c68]:before{content:\"\\\\e023\"}.glyphicon-road[_ngcontent-bbq-c68]:before{content:\"\\\\e024\"}.glyphicon-download-alt[_ngcontent-bbq-c68]:before{content:\"\\\\e025\"}.glyphicon-download[_ngcontent-bbq-c68]:before{content:\"\\\\e026\"}.glyphicon-upload[_ngcontent-bbq-c68]:before{content:\"\\\\e027\"}.glyphicon-inbox[_ngcontent-bbq-c68]:before{content:\"\\\\e028\"}.glyphicon-play-circle[_ngcontent-bbq-c68]:before{content:\"\\\\e029\"}.glyphicon-repeat[_ngcontent-bbq-c68]:before{content:\"\\\\e030\"}.glyphicon-refresh[_ngcontent-bbq-c68]:before{content:\"\\\\e031\"}.glyphicon-list-alt[_ngcontent-bbq-c68]:before{content:\"\\\\e032\"}.glyphicon-lock[_ngcontent-bbq-c68]:before{content:\"\\\\e033\"}.glyphicon-flag[_ngcontent-bbq-c68]:before{content:\"\\\\e034\"}.glyphicon-headphones[_ngcontent-bbq-c68]:before{content:\"\\\\e035\"}.glyphicon-volume-off[_ngcontent-bbq-c68]:before{content:\"\\\\e036\"}.glyphicon-volume-down[_ngcontent-bbq-c68]:before{content:\"\\\\e037\"}.glyphicon-volume-up[_ngcontent-bbq-c68]:before{content:\"\\\\e038\"}.glyphicon-qrcode[_ngcontent-bbq-c68]:before{content:\"\\\\e039\"}.glyphicon-barcode[_ngcontent-bbq-c68]:before{content:\"\\\\e040\"}.glyphicon-tag[_ngcontent-bbq-c68]:before{content:\"\\\\e041\"}.glyphicon-tags[_ngcontent-bbq-c68]:before{content:\"\\\\e042\"}.glyphicon-book[_ngcontent-bbq-c68]:before{content:\"\\\\e043\"}.glyphicon-bookmark[_ngcontent-bbq-c68]:before{content:\"\\\\e044\"}.glyphicon-print[_ngcontent-bbq-c68]:before{content:\"\\\\e045\"}.glyphicon-camera[_ngcontent-bbq-c68]:before{content:\"\\\\e046\"}.glyphicon-font[_ngcontent-bbq-c68]:before{content:\"\\\\e047\"}.glyphicon-bold[_ngcontent-bbq-c68]:before{content:\"\\\\e048\"}.glyphicon-italic[_ngcontent-bbq-c68]:before{content:\"\\\\e049\"}.glyphicon-text-height[_ngcontent-bbq-c68]:before{content:\"\\\\e050\"}.glyphicon-text-width[_ngcontent-bbq-c68]:before{content:\"\\\\e051\"}.glyphicon-align-left[_ngcontent-bbq-c68]:before{content:\"\\\\e052\"}.glyphicon-align-center[_ngcontent-bbq-c68]:before{content:\"\\\\e053\"}.glyphicon-align-right[_ngcontent-bbq-c68]:before{content:\"\\\\e054\"}.glyphicon-align-justify[_ngcontent-bbq-c68]:before{content:\"\\\\e055\"}.glyphicon-list[_ngcontent-bbq-c68]:before{content:\"\\\\e056\"}.glyphicon-indent-left[_ngcontent-bbq-c68]:before{content:\"\\\\e057\"}.glyphicon-indent-right[_ngcontent-bbq-c68]:before{content:\"\\\\e058\"}.glyphicon-facetime-video[_ngcontent-bbq-c68]:before{content:\"\\\\e059\"}.glyphicon-picture[_ngcontent-bbq-c68]:before{content:\"\\\\e060\"}.glyphicon-map-marker[_ngcontent-bbq-c68]:before{content:\"\\\\e062\"}.glyphicon-adjust[_ngcontent-bbq-c68]:before{content:\"\\\\e063\"}.glyphicon-tint[_ngcontent-bbq-c68]:before{content:\"\\\\e064\"}.glyphicon-edit[_ngcontent-bbq-c68]:before{content:\"\\\\e065\"}.glyphicon-share[_ngcontent-bbq-c68]:before{content:\"\\\\e066\"}.glyphicon-check[_ngcontent-bbq-c68]:before{content:\"\\\\e067\"}.glyphicon-move[_ngcontent-bbq-c68]:before{content:\"\\\\e068\"}.glyphicon-step-backward[_ngcontent-bbq-c68]:before{content:\"\\\\e069\"}.glyphicon-fast-backward[_ngcontent-bbq-c68]:before{content:\"\\\\e070\"}.glyphicon-backward[_ngcontent-bbq-c68]:before{content:\"\\\\e071\"}.glyphicon-play[_ngcontent-bbq-c68]:before{content:\"\\\\e072\"}.glyphicon-pause[_ngcontent-bbq-c68]:before{content:\"\\\\e073\"}.glyphicon-stop[_ngcontent-bbq-c68]:before{content:\"\\\\e074\"}.glyphicon-forward[_ngcontent-bbq-c68]:before{content:\"\\\\e075\"}.glyphicon-fast-forward[_ngcontent-bbq-c68]:before{content:\"\\\\e076\"}.glyphicon-step-forward[_ngcontent-bbq-c68]:before{content:\"\\\\e077\"}.glyphicon-eject[_ngcontent-bbq-c68]:before{content:\"\\\\e078\"}.glyphicon-chevron-left[_ngcontent-bbq-c68]:before{content:\"\\\\e079\"}.glyphicon-chevron-right[_ngcontent-bbq-c68]:before{content:\"\\\\e080\"}.glyphicon-plus-sign[_ngcontent-bbq-c68]:before{content:\"\\\\e081\"}.glyphicon-minus-sign[_ngcontent-bbq-c68]:before{content:\"\\\\e082\"}.glyphicon-remove-sign[_ngcontent-bbq-c68]:before{content:\"\\\\e083\"}.glyphicon-ok-sign[_ngcontent-bbq-c68]:before{content:\"\\\\e084\"}.glyphicon-question-sign[_ngcontent-bbq-c68]:before{content:\"\\\\e085\"}.glyphicon-info-sign[_ngcontent-bbq-c68]:before{content:\"\\\\e086\"}.glyphicon-screenshot[_ngcontent-bbq-c68]:before{content:\"\\\\e087\"}.glyphicon-remove-circle[_ngcontent-bbq-c68]:before{content:\"\\\\e088\"}.glyphicon-ok-circle[_ngcontent-bbq-c68]:before{content:\"\\\\e089\"}.glyphicon-ban-circle[_ngcontent-bbq-c68]:before{content:\"\\\\e090\"}.glyphicon-arrow-left[_ngcontent-bbq-c68]:before{content:\"\\\\e091\"}.glyphicon-arrow-right[_ngcontent-bbq-c68]:before{content:\"\\\\e092\"}.glyphicon-arrow-up[_ngcontent-bbq-c68]:before{content:\"\\\\e093\"}.glyphicon-arrow-down[_ngcontent-bbq-c68]:before{content:\"\\\\e094\"}.glyphicon-share-alt[_ngcontent-bbq-c68]:before{content:\"\\\\e095\"}.glyphicon-resize-full[_ngcontent-bbq-c68]:before{content:\"\\\\e096\"}.glyphicon-resize-small[_ngcontent-bbq-c68]:before{content:\"\\\\e097\"}.glyphicon-exclamation-sign[_ngcontent-bbq-c68]:before{content:\"\\\\e101\"}.glyphicon-gift[_ngcontent-bbq-c68]:before{content:\"\\\\e102\"}.glyphicon-leaf[_ngcontent-bbq-c68]:before{content:\"\\\\e103\"}.glyphicon-fire[_ngcontent-bbq-c68]:before{content:\"\\\\e104\"}.glyphicon-eye-open[_ngcontent-bbq-c68]:before{content:\"\\\\e105\"}.glyphicon-eye-close[_ngcontent-bbq-c68]:before{content:\"\\\\e106\"}.glyphicon-warning-sign[_ngcontent-bbq-c68]:before{content:\"\\\\e107\"}.glyphicon-plane[_ngcontent-bbq-c68]:before{content:\"\\\\e108\"}.glyphicon-calendar[_ngcontent-bbq-c68]:before{content:\"\\\\e109\"}.glyphicon-random[_ngcontent-bbq-c68]:before{content:\"\\\\e110\"}.glyphicon-comment[_ngcontent-bbq-c68]:before{content:\"\\\\e111\"}.glyphicon-magnet[_ngcontent-bbq-c68]:before{content:\"\\\\e112\"}.glyphicon-chevron-up[_ngcontent-bbq-c68]:before{content:\"\\\\e113\"}.glyphicon-chevron-down[_ngcontent-bbq-c68]:before{content:\"\\\\e114\"}.glyphicon-retweet[_ngcontent-bbq-c68]:before{content:\"\\\\e115\"}.glyphicon-shopping-cart[_ngcontent-bbq-c68]:before{content:\"\\\\e116\"}.glyphicon-folder-close[_ngcontent-bbq-c68]:before{content:\"\\\\e117\"}.glyphicon-folder-open[_ngcontent-bbq-c68]:before{content:\"\\\\e118\"}.glyphicon-resize-vertical[_ngcontent-bbq-c68]:before{content:\"\\\\e119\"}.glyphicon-resize-horizontal[_ngcontent-bbq-c68]:before{content:\"\\\\e120\"}.glyphicon-hdd[_ngcontent-bbq-c68]:before{content:\"\\\\e121\"}.glyphicon-bullhorn[_ngcontent-bbq-c68]:before{content:\"\\\\e122\"}.glyphicon-bell[_ngcontent-bbq-c68]:before{content:\"\\\\e123\"}.glyphicon-certificate[_ngcontent-bbq-c68]:before{content:\"\\\\e124\"}.glyphicon-thumbs-up[_ngcontent-bbq-c68]:before{content:\"\\\\e125\"}.glyphicon-thumbs-down[_ngcontent-bbq-c68]:before{content:\"\\\\e126\"}.glyphicon-hand-right[_ngcontent-bbq-c68]:before{content:\"\\\\e127\"}.glyphicon-hand-left[_ngcontent-bbq-c68]:before{content:\"\\\\e128\"}.glyphicon-hand-up[_ngcontent-bbq-c68]:before{content:\"\\\\e129\"}.glyphicon-hand-down[_ngcontent-bbq-c68]:before{content:\"\\\\e130\"}.glyphicon-circle-arrow-right[_ngcontent-bbq-c68]:before{content:\"\\\\e131\"}.glyphicon-circle-arrow-left[_ngcontent-bbq-c68]:before{content:\"\\\\e132\"}.glyphicon-circle-arrow-up[_ngcontent-bbq-c68]:before{content:\"\\\\e133\"}.glyphicon-circle-arrow-down[_ngcontent-bbq-c68]:before{content:\"\\\\e134\"}.glyphicon-globe[_ngcontent-bbq-c68]:before{content:\"\\\\e135\"}.glyphicon-wrench[_ngcontent-bbq-c68]:before{content:\"\\\\e136\"}.glyphicon-tasks[_ngcontent-bbq-c68]:before{content:\"\\\\e137\"}.glyphicon-filter[_ngcontent-bbq-c68]:before{content:\"\\\\e138\"}.glyphicon-briefcase[_ngcontent-bbq-c68]:before{content:\"\\\\e139\"}.glyphicon-fullscreen[_ngcontent-bbq-c68]:before{content:\"\\\\e140\"}.glyphicon-dashboard[_ngcontent-bbq-c68]:before{content:\"\\\\e141\"}.glyphicon-paperclip[_ngcontent-bbq-c68]:before{content:\"\\\\e142\"}.glyphicon-heart-empty[_ngcontent-bbq-c68]:before{content:\"\\\\e143\"}.glyphicon-link[_ngcontent-bbq-c68]:before{content:\"\\\\e144\"}.glyphicon-phone[_ngcontent-bbq-c68]:before{content:\"\\\\e145\"}.glyphicon-pushpin[_ngcontent-bbq-c68]:before{content:\"\\\\e146\"}.glyphicon-usd[_ngcontent-bbq-c68]:before{content:\"\\\\e148\"}.glyphicon-gbp[_ngcontent-bbq-c68]:before{content:\"\\\\e149\"}.glyphicon-sort[_ngcontent-bbq-c68]:before{content:\"\\\\e150\"}.glyphicon-sort-by-alphabet[_ngcontent-bbq-c68]:before{content:\"\\\\e151\"}.glyphicon-sort-by-alphabet-alt[_ngcontent-bbq-c68]:before{content:\"\\\\e152\"}.glyphicon-sort-by-order[_ngcontent-bbq-c68]:before{content:\"\\\\e153\"}.glyphicon-sort-by-order-alt[_ngcontent-bbq-c68]:before{content:\"\\\\e154\"}.glyphicon-sort-by-attributes[_ngcontent-bbq-c68]:before{content:\"\\\\e155\"}.glyphicon-sort-by-attributes-alt[_ngcontent-bbq-c68]:before{content:\"\\\\e156\"}.glyphicon-unchecked[_ngcontent-bbq-c68]:before{content:\"\\\\e157\"}.glyphicon-expand[_ngcontent-bbq-c68]:before{content:\"\\\\e158\"}.glyphicon-collapse-down[_ngcontent-bbq-c68]:before{content:\"\\\\e159\"}.glyphicon-collapse-up[_ngcontent-bbq-c68]:before{content:\"\\\\e160\"}.glyphicon-log-in[_ngcontent-bbq-c68]:before{content:\"\\\\e161\"}.glyphicon-flash[_ngcontent-bbq-c68]:before{content:\"\\\\e162\"}.glyphicon-log-out[_ngcontent-bbq-c68]:before{content:\"\\\\e163\"}.glyphicon-new-window[_ngcontent-bbq-c68]:before{content:\"\\\\e164\"}.glyphicon-record[_ngcontent-bbq-c68]:before{content:\"\\\\e165\"}.glyphicon-save[_ngcontent-bbq-c68]:before{content:\"\\\\e166\"}.glyphicon-open[_ngcontent-bbq-c68]:before{content:\"\\\\e167\"}.glyphicon-saved[_ngcontent-bbq-c68]:before{content:\"\\\\e168\"}.glyphicon-import[_ngcontent-bbq-c68]:before{content:\"\\\\e169\"}.glyphicon-export[_ngcontent-bbq-c68]:before{content:\"\\\\e170\"}.glyphicon-send[_ngcontent-bbq-c68]:before{content:\"\\\\e171\"}.glyphicon-floppy-disk[_ngcontent-bbq-c68]:before{content:\"\\\\e172\"}.glyphicon-floppy-saved[_ngcontent-bbq-c68]:before{content:\"\\\\e173\"}.glyphicon-floppy-remove[_ngcontent-bbq-c68]:before{content:\"\\\\e174\"}.glyphicon-floppy-save[_ngcontent-bbq-c68]:before{content:\"\\\\e175\"}.glyphicon-floppy-open[_ngcontent-bbq-c68]:before{content:\"\\\\e176\"}.glyphicon-credit-card[_ngcontent-bbq-c68]:before{content:\"\\\\e177\"}.glyphicon-transfer[_ngcontent-bbq-c68]:before{content:\"\\\\e178\"}.glyphicon-cutlery[_ngcontent-bbq-c68]:before{content:\"\\\\e179\"}.glyphicon-header[_ngcontent-bbq-c68]:before{content:\"\\\\e180\"}.glyphicon-compressed[_ngcontent-bbq-c68]:before{content:\"\\\\e181\"}.glyphicon-earphone[_ngcontent-bbq-c68]:before{content:\"\\\\e182\"}.glyphicon-phone-alt[_ngcontent-bbq-c68]:before{content:\"\\\\e183\"}.glyphicon-tower[_ngcontent-bbq-c68]:before{content:\"\\\\e184\"}.glyphicon-stats[_ngcontent-bbq-c68]:before{content:\"\\\\e185\"}.glyphicon-sd-video[_ngcontent-bbq-c68]:before{content:\"\\\\e186\"}.glyphicon-hd-video[_ngcontent-bbq-c68]:before{content:\"\\\\e187\"}.glyphicon-subtitles[_ngcontent-bbq-c68]:before{content:\"\\\\e188\"}.glyphicon-sound-stereo[_ngcontent-bbq-c68]:before{content:\"\\\\e189\"}.glyphicon-sound-dolby[_ngcontent-bbq-c68]:before{content:\"\\\\e190\"}.glyphicon-sound-5-1[_ngcontent-bbq-c68]:before{content:\"\\\\e191\"}.glyphicon-sound-6-1[_ngcontent-bbq-c68]:before{content:\"\\\\e192\"}.glyphicon-sound-7-1[_ngcontent-bbq-c68]:before{content:\"\\\\e193\"}.glyphicon-copyright-mark[_ngcontent-bbq-c68]:before{content:\"\\\\e194\"}.glyphicon-registration-mark[_ngcontent-bbq-c68]:before{content:\"\\\\e195\"}.glyphicon-cloud-download[_ngcontent-bbq-c68]:before{content:\"\\\\e197\"}.glyphicon-cloud-upload[_ngcontent-bbq-c68]:before{content:\"\\\\e198\"}.glyphicon-tree-conifer[_ngcontent-bbq-c68]:before{content:\"\\\\e199\"}.glyphicon-tree-deciduous[_ngcontent-bbq-c68]:before{content:\"\\\\e200\"}.glyphicon-cd[_ngcontent-bbq-c68]:before{content:\"\\\\e201\"}.glyphicon-save-file[_ngcontent-bbq-c68]:before{content:\"\\\\e202\"}.glyphicon-open-file[_ngcontent-bbq-c68]:before{content:\"\\\\e203\"}.glyphicon-level-up[_ngcontent-bbq-c68]:before{content:\"\\\\e204\"}.glyphicon-copy[_ngcontent-bbq-c68]:before{content:\"\\\\e205\"}.glyphicon-paste[_ngcontent-bbq-c68]:before{content:\"\\\\e206\"}.glyphicon-alert[_ngcontent-bbq-c68]:before{content:\"\\\\e209\"}.glyphicon-equalizer[_ngcontent-bbq-c68]:before{content:\"\\\\e210\"}.glyphicon-king[_ngcontent-bbq-c68]:before{content:\"\\\\e211\"}.glyphicon-queen[_ngcontent-bbq-c68]:before{content:\"\\\\e212\"}.glyphicon-pawn[_ngcontent-bbq-c68]:before{content:\"\\\\e213\"}.glyphicon-bishop[_ngcontent-bbq-c68]:before{content:\"\\\\e214\"}.glyphicon-knight[_ngcontent-bbq-c68]:before{content:\"\\\\e215\"}.glyphicon-baby-formula[_ngcontent-bbq-c68]:before{content:\"\\\\e216\"}.glyphicon-tent[_ngcontent-bbq-c68]:before{content:\"\\\\26fa\"}.glyphicon-blackboard[_ngcontent-bbq-c68]:before{content:\"\\\\e218\"}.glyphicon-bed[_ngcontent-bbq-c68]:before{content:\"\\\\e219\"}.glyphicon-apple[_ngcontent-bbq-c68]:before{content:\"\\\\f8ff\"}.glyphicon-erase[_ngcontent-bbq-c68]:before{content:\"\\\\e221\"}.glyphicon-hourglass[_ngcontent-bbq-c68]:before{content:\"\\\\231b\"}.glyphicon-lamp[_ngcontent-bbq-c68]:before{content:\"\\\\e223\"}.glyphicon-duplicate[_ngcontent-bbq-c68]:before{content:\"\\\\e224\"}.glyphicon-piggy-bank[_ngcontent-bbq-c68]:before{content:\"\\\\e225\"}.glyphicon-scissors[_ngcontent-bbq-c68]:before{content:\"\\\\e226\"}.glyphicon-bitcoin[_ngcontent-bbq-c68]:before, .glyphicon-btc[_ngcontent-bbq-c68]:before, .glyphicon-xbt[_ngcontent-bbq-c68]:before{content:\"\\\\e227\"}.glyphicon-jpy[_ngcontent-bbq-c68]:before, .glyphicon-yen[_ngcontent-bbq-c68]:before{content:\"\\\\00a5\"}.glyphicon-rub[_ngcontent-bbq-c68]:before, .glyphicon-ruble[_ngcontent-bbq-c68]:before{content:\"\\\\20bd\"}.glyphicon-scale[_ngcontent-bbq-c68]:before{content:\"\\\\e230\"}.glyphicon-ice-lolly[_ngcontent-bbq-c68]:before{content:\"\\\\e231\"}.glyphicon-ice-lolly-tasted[_ngcontent-bbq-c68]:before{content:\"\\\\e232\"}.glyphicon-education[_ngcontent-bbq-c68]:before{content:\"\\\\e233\"}.glyphicon-option-horizontal[_ngcontent-bbq-c68]:before{content:\"\\\\e234\"}.glyphicon-option-vertical[_ngcontent-bbq-c68]:before{content:\"\\\\e235\"}.glyphicon-menu-hamburger[_ngcontent-bbq-c68]:before{content:\"\\\\e236\"}.glyphicon-modal-window[_ngcontent-bbq-c68]:before{content:\"\\\\e237\"}.glyphicon-oil[_ngcontent-bbq-c68]:before{content:\"\\\\e238\"}.glyphicon-grain[_ngcontent-bbq-c68]:before{content:\"\\\\e239\"}.glyphicon-sunglasses[_ngcontent-bbq-c68]:before{content:\"\\\\e240\"}.glyphicon-text-size[_ngcontent-bbq-c68]:before{content:\"\\\\e241\"}.glyphicon-text-color[_ngcontent-bbq-c68]:before{content:\"\\\\e242\"}.glyphicon-text-background[_ngcontent-bbq-c68]:before{content:\"\\\\e243\"}.glyphicon-object-align-top[_ngcontent-bbq-c68]:before{content:\"\\\\e244\"}.glyphicon-object-align-bottom[_ngcontent-bbq-c68]:before{content:\"\\\\e245\"}.glyphicon-object-align-horizontal[_ngcontent-bbq-c68]:before{content:\"\\\\e246\"}.glyphicon-object-align-left[_ngcontent-bbq-c68]:before{content:\"\\\\e247\"}.glyphicon-object-align-vertical[_ngcontent-bbq-c68]:before{content:\"\\\\e248\"}.glyphicon-object-align-right[_ngcontent-bbq-c68]:before{content:\"\\\\e249\"}.glyphicon-triangle-right[_ngcontent-bbq-c68]:before{content:\"\\\\e250\"}.glyphicon-triangle-left[_ngcontent-bbq-c68]:before{content:\"\\\\e251\"}.glyphicon-triangle-bottom[_ngcontent-bbq-c68]:before{content:\"\\\\e252\"}.glyphicon-triangle-top[_ngcontent-bbq-c68]:before{content:\"\\\\e253\"}.glyphicon-console[_ngcontent-bbq-c68]:before{content:\"\\\\e254\"}.glyphicon-superscript[_ngcontent-bbq-c68]:before{content:\"\\\\e255\"}.glyphicon-subscript[_ngcontent-bbq-c68]:before{content:\"\\\\e256\"}.glyphicon-menu-left[_ngcontent-bbq-c68]:before{content:\"\\\\e257\"}.glyphicon-menu-right[_ngcontent-bbq-c68]:before{content:\"\\\\e258\"}.glyphicon-menu-down[_ngcontent-bbq-c68]:before{content:\"\\\\e259\"}.glyphicon-menu-up[_ngcontent-bbq-c68]:before{content:\"\\\\e260\"}</style><style>@font-face{font-family:onpe;src:url(onpe.cfae7b7aa6df056a16b4.eot?cjgfmj);src:url(onpe.cfae7b7aa6df056a16b4.eot?cjgfmj#iefix) format(\"embedded-opentype\"),url(onpe.dbdf35b27707f916328f.woff?cjgfmj) format(\"woff\"),url(onpe.98aa4bed3b925268dde6.svg?cjgfmj#onpe) format(\"svg\");font-weight:400;font-style:normal}@font-face{font-family:Michroma;src:url(Michroma.ace9ad8efc608262b70a.eot);src:url(Michroma.ace9ad8efc608262b70a.eot?#iefix) format(\"embedded-opentype\"),url(Michroma.712d9237b077a63586be.woff) format(\"woff\"),url(Michroma.30c88f7bd134d7118404.svg#Michroma) format(\"svg\");font-weight:400;font-style:normal}@font-face{font-family:Harabara;src:url(Harabara_3.ca41fa74d8a3e15854eb.eot);src:url(Harabara_3.ca41fa74d8a3e15854eb.eot?#iefix) format(\"embedded-opentype\"),url(Harabara_3.0d6c56aaeea115e76557.woff) format(\"woff\"),url(Harabara_3.422515099ebc1b30aac5.svg#Harabara_3) format(\"svg\");font-weight:400;font-style:normal}@font-face{font-family:GillSansMT;src:url(GillSansMT.b843c4e837c3cba8aa70.eot);src:url(GillSansMT.b843c4e837c3cba8aa70.eot?#iefix) format(\"embedded-opentype\"),url(GillSansMT.efa8f71cfc96580a44a3.woff) format(\"woff\"),url(GillSansMT.7b4c4c1d788468fdf68b.svg#GillSansMT) format(\"svg\");font-weight:400;font-style:normal}@font-face{font-family:GillSansMT;src:url(GillSansMT-Bold.0ee4780f0ba20d53521c.eot);src:url(GillSansMT-Bold.b57772d306ac9bb42ff6.woff) format(\"woff\"),url(GillSansMT-Bold.9dde853d1ef428e613ee.svg#GillSansMT-Bold) format(\"svg\");font-weight:700;font-style:normal}.tabla_resumen_pc[_ngcontent-bbq-c68]{display:block}.tabla_resumen_movil[_ngcontent-bbq-c68]{display:none}.bg_departamentos[_ngcontent-bbq-c68]{height:333px;width:100%;background-image:url(lima.a759ad236074c903551f.jpg);position:relative;margin-bottom:20px;background-size:cover}.bg_departamentos[_ngcontent-bbq-c68]   .tabla_distritoelecoral[_ngcontent-bbq-c68]{width:calc(100% - 20px);background-color:rgba(0,0,0,.6);color:#fff;position:absolute;bottom:10px;margin-bottom:0;margin-left:10px}.bg_departamentos[_ngcontent-bbq-c68]   .tabla_distritoelecoral[_ngcontent-bbq-c68]   td[_ngcontent-bbq-c68]{border-top:none}.bg_departamentos[_ngcontent-bbq-c68]   .tabla_distritoelecoral[_ngcontent-bbq-c68]   .borde_blanco[_ngcontent-bbq-c68]{border-left:1px solid #fff}.bg_sin_departamentos[_ngcontent-bbq-c68]   td[_ngcontent-bbq-c68]{border-right:1px solid #dee2e6;border-bottom:1px solid #dee2e6}[class*=\" icon-\"][_ngcontent-bbq-c68], [class^=icon-][_ngcontent-bbq-c68]{font-family:onpe!important;speak:none;font-style:normal;font-weight:400;font-variant:normal;text-transform:none;line-height:1;-webkit-font-smoothing:antialiased;-moz-osx-font-smoothing:grayscale}select[_ngcontent-bbq-c68]{border:1px solid #8ea3a6}.icon-resumengeneral[_ngcontent-bbq-c68]:before{content:\"\\\\e909\"}.icon-elec_regional[_ngcontent-bbq-c68]:before{content:\"\\\\e901\"}.icon-elec_municipal[_ngcontent-bbq-c68]:before{content:\"\\\\e902\"}.icon-actas[_ngcontent-bbq-c68]:before{content:\"\\\\e900\"}.icon-participacion[_ngcontent-bbq-c68]:before{content:\"\\\\e903\"}.icon-impresora[_ngcontent-bbq-c68]:before{content:\"\\\\e904\"}.icon-barras[_ngcontent-bbq-c68]:before{content:\"\\\\e905\"}.icon-info[_ngcontent-bbq-c68]:before{content:\"\\\\e906\"}.icon-regresar[_ngcontent-bbq-c68]:before{content:\"\\\\e907\"}.icon-buscar[_ngcontent-bbq-c68]:before{content:\"\\\\e908\"}.icon-excel[_ngcontent-bbq-c68]:before{content:\"\\\\e910\"}.icon-pdf[_ngcontent-bbq-c68]:before{content:\"\\\\e911\"}.icon-ico_face[_ngcontent-bbq-c68]:before{content:\"\\\\e912\"}.icon-ico_twitter[_ngcontent-bbq-c68]:before{content:\"\\\\e913\"}.icon-ico_youtube[_ngcontent-bbq-c68]:before{content:\"\\\\e914\"}.icon-ico_google[_ngcontent-bbq-c68]:before{content:\"\\\\e915\"}.icon-ico_flickr[_ngcontent-bbq-c68]:before{content:\"\\\\e916\"}.icon-ico_instagram[_ngcontent-bbq-c68]:before{content:\"\\\\e917\"}.icon-ico_presidencial[_ngcontent-bbq-c68]:before{content:\"\\\\e918\"}.icon-ico_d[_ngcontent-bbq-c68]:before{content:\"\\\\e919\"}.icon-ico_congresal[_ngcontent-bbq-c68]:before{content:\"\\\\e920\"}@font-face{font-family:Roboto;src:url(Roboto-Regular.18b9c674e55e6a14cfc3.eot);src:url(Roboto-Regular.18b9c674e55e6a14cfc3.eot?#iefix) format(\"embedded-opentype\"),url(Roboto-Regular.33a606d57e602ee71cbf.woff) format(\"woff\"),url(Roboto-Regular.3c73f832eb8eea27f132.svg#Roboto-Regular) format(\"svg\");font-weight:400;font-style:normal}@font-face{font-family:Roboto Condensed;src:url(RobotoCondensed-Regular_1.03817afbc5a5cb4cbb0f.eot);src:url(RobotoCondensed-Regular_1.03817afbc5a5cb4cbb0f.eot?#iefix) format(\"embedded-opentype\"),url(RobotoCondensed-Regular_1.98ef0e4f12856e641bf4.woff) format(\"woff\"),url(RobotoCondensed-Regular_1.86d0a588cf68a1147863.svg#RobotoCondensed-Regular_1) format(\"svg\");font-weight:400;font-style:normal}body[_ngcontent-bbq-c68]{font-family:Roboto,sans-serif!important;font-size:16px}a[_ngcontent-bbq-c68]:hover{cursor:pointer}.body_404[_ngcontent-bbq-c68]{padding-bottom:180px}.body_404[_ngcontent-bbq-c68], header[_ngcontent-bbq-c68]{position:relative}header[_ngcontent-bbq-c68]{text-align:center;background:#374e91;color:#fff;margin-bottom:20px}header[_ngcontent-bbq-c68]   h1[_ngcontent-bbq-c68]{width:100%;font-family:Roboto;font-size:1.5em;margin:0 0 .3em}header[_ngcontent-bbq-c68]   h2[_ngcontent-bbq-c68]{width:100%;margin:0;font-family:GillSansMT,sans-serif!important;line-height:1em;font-size:2.1em;font-weight:700}header[_ngcontent-bbq-c68]   .logo_eg2021[_ngcontent-bbq-c68]{width:auto;height:150px}.bg_home[_ngcontent-bbq-c68]{background:url(bg_home.f7464546728ba82408dc.jpg);margin-top:190px;z-index:-2}.col-60[_ngcontent-bbq-c68]{width:60%;float:left}.col-40[_ngcontent-bbq-c68]{width:40%;float:right;position:relative}.conte_botones[_ngcontent-bbq-c68]{width:100%;float:right;border-radius:15px;overflow:hidden;margin-bottom:20px}.conte_botones[_ngcontent-bbq-c68]   a[_ngcontent-bbq-c68]{color:#fff}.conte_botones[_ngcontent-bbq-c68]   a[_ngcontent-bbq-c68]   .glyphicon[_ngcontent-bbq-c68]{transition:all .3s}.conte_botones[_ngcontent-bbq-c68]   a[_ngcontent-bbq-c68]   .linea1[_ngcontent-bbq-c68]{margin-top:10px}.conte_botones[_ngcontent-bbq-c68]   a[_ngcontent-bbq-c68]   .bg_municipales[_ngcontent-bbq-c68]{width:100%;height:300px;background:url(municipales.767f5449163bfa91dcf1.jpg) no-repeat;background-size:100% auto;transition:all .7s}.conte_botones[_ngcontent-bbq-c68]   a[_ngcontent-bbq-c68]:hover{color:#fff;text-decoration:none}.conte_botones[_ngcontent-bbq-c68]   a[_ngcontent-bbq-c68]:hover   .glyphicon[_ngcontent-bbq-c68]{margin-left:5px}.conte_botones[_ngcontent-bbq-c68]   a[_ngcontent-bbq-c68]:hover   .bg_municipales[_ngcontent-bbq-c68]{width:100%;height:300px;background:url(municipales.767f5449163bfa91dcf1.jpg) no-repeat;background-size:130% auto}.home_botonera[_ngcontent-bbq-c68]{width:100%;padding:20px 10px 10px;overflow:hidden}.home_botonera[_ngcontent-bbq-c68]   .conte_botones[_ngcontent-bbq-c68]{width:50%;float:left;padding:0 10px;margin-bottom:20px}.home_botonera[_ngcontent-bbq-c68]   .conte_botones[_ngcontent-bbq-c68]   a[_ngcontent-bbq-c68]{color:#fff}.home_botonera[_ngcontent-bbq-c68]   .conte_botones[_ngcontent-bbq-c68]   a[_ngcontent-bbq-c68]   .glyphicon[_ngcontent-bbq-c68]{transition:all .3s}.home_botonera[_ngcontent-bbq-c68]   .conte_botones[_ngcontent-bbq-c68]   a[_ngcontent-bbq-c68]   .linea1[_ngcontent-bbq-c68]{margin-top:10px}.home_botonera[_ngcontent-bbq-c68]   .conte_botones[_ngcontent-bbq-c68]   a[_ngcontent-bbq-c68]   .bg_municipales[_ngcontent-bbq-c68]{width:100%;height:300px;background:url(municipales.767f5449163bfa91dcf1.jpg) no-repeat;background-size:100% auto;transition:all .7s}.home_botonera[_ngcontent-bbq-c68]   .conte_botones[_ngcontent-bbq-c68]   a[_ngcontent-bbq-c68]:hover{color:#fff;text-decoration:none}.home_botonera[_ngcontent-bbq-c68]   .conte_botones[_ngcontent-bbq-c68]   a[_ngcontent-bbq-c68]:hover   .glyphicon[_ngcontent-bbq-c68]{margin-top:5px}.home_botonera[_ngcontent-bbq-c68]   .conte_botones[_ngcontent-bbq-c68]   a[_ngcontent-bbq-c68]:hover   .bg_municipales[_ngcontent-bbq-c68]{width:100%;height:300px;background:url(municipales.767f5449163bfa91dcf1.jpg) no-repeat;background-size:130% auto}.banner_home[_ngcontent-bbq-c68]{background:url(banner.d2ba41d4355ce6692e52.jpg) #444c61 no-repeat;background-size:100% auto;min-height:267px;margin-bottom:20px;text-align:center;position:relative}.banner_home[_ngcontent-bbq-c68]   h3[_ngcontent-bbq-c68]{display:inline-block;font-size:2.5em;color:#fff;margin-top:-.1em;width:100%;left:0;text-align:center;text-shadow:0 0 8px #000;font-family:GillSansMT;font-weight:700}.banner_erm[_ngcontent-bbq-c68]{width:70%;float:left;background:url(bg_01.563097fd994657699033.jpg) #e2e2e2 no-repeat;background-size:100% auto;padding-bottom:4.5%;position:relative;margin-bottom:20px}.banner_erm[_ngcontent-bbq-c68]   .mapa_inicio[_ngcontent-bbq-c68]{width:40%;height:auto;margin-top:10%;margin-left:10%;padding-bottom:3%}.banner_homeeg2021[_ngcontent-bbq-c68]{margin-top:-170px;margin-bottom:20px;position:relative}.banner_homeeg2021[_ngcontent-bbq-c68]   .bg_bannereg2021[_ngcontent-bbq-c68]{width:100%;max-width:100%}.banner_homeeg2021[_ngcontent-bbq-c68]   .conte_btns_home_banner[_ngcontent-bbq-c68]{width:28%;position:absolute;left:36%;bottom:8%}.banner_homeeg2021[_ngcontent-bbq-c68]   .conte_btns_home_banner[_ngcontent-bbq-c68]   a[_ngcontent-bbq-c68]{width:100%;display:block;color:#fff;margin-bottom:10px}.banner_homeeg2021[_ngcontent-bbq-c68]   .conte_btns_home_banner[_ngcontent-bbq-c68]   a[_ngcontent-bbq-c68]   .btn_informativa[_ngcontent-bbq-c68]{padding-top:15px;padding-bottom:15px;padding-left:30px;text-align:center;position:relative}.banner_homeeg2021[_ngcontent-bbq-c68]   .conte_btns_home_banner[_ngcontent-bbq-c68]   a[_ngcontent-bbq-c68]   .glyphicon[_ngcontent-bbq-c68]{transition:all .3s}.banner_homeeg2021[_ngcontent-bbq-c68]   .conte_btns_home_banner[_ngcontent-bbq-c68]   a[_ngcontent-bbq-c68]:hover{color:#fff;text-decoration:none}.banner_homeeg2021[_ngcontent-bbq-c68]   .conte_btns_home_banner[_ngcontent-bbq-c68]   a[_ngcontent-bbq-c68]:hover   .glyphicon[_ngcontent-bbq-c68]{margin-left:5px}.banner_homeeg2021[_ngcontent-bbq-c68]   .conte_btns_home_banner[_ngcontent-bbq-c68]   .btn01[_ngcontent-bbq-c68]{background:#374e91}.banner_homeeg2021[_ngcontent-bbq-c68]   .conte_btns_home_banner[_ngcontent-bbq-c68]   .btn02[_ngcontent-bbq-c68]{background:#8d9dc3}.banner_emc[_ngcontent-bbq-c68]{width:100%;float:left;background:url(bg_01.563097fd994657699033.jpg) #e2e2e2 no-repeat;background-size:100% auto;padding-bottom:0;position:relative;margin-bottom:20px}.banner_emc[_ngcontent-bbq-c68]   .mapa_inicio[_ngcontent-bbq-c68]{width:39.4%;height:auto;margin-top:.1%;margin-left:0;padding-bottom:0}.banner_emc[_ngcontent-bbq-c68]   .transparente[_ngcontent-bbq-c68]{width:.87%;height:auto;margin-left:0;padding-bottom:0}.banner_emc[_ngcontent-bbq-c68]   .btn_informativa[_ngcontent-bbq-c68]{width:30%;position:absolute;right:3%;bottom:5%}.banner_emc[_ngcontent-bbq-c68]   .btn_informativa[_ngcontent-bbq-c68]   a[_ngcontent-bbq-c68]{color:#fff;margin-bottom:.5em}.banner_emc[_ngcontent-bbq-c68]   .btn_informativa[_ngcontent-bbq-c68]   a[_ngcontent-bbq-c68]   .btn01[_ngcontent-bbq-c68]{margin-top:1em}.banner_emc[_ngcontent-bbq-c68]   .btn_informativa[_ngcontent-bbq-c68]   a[_ngcontent-bbq-c68]   .glyphicon[_ngcontent-bbq-c68]{transition:all .3s}.banner_emc[_ngcontent-bbq-c68]   .btn_informativa[_ngcontent-bbq-c68]   a[_ngcontent-bbq-c68]:hover{color:#fff;text-decoration:none}.banner_emc[_ngcontent-bbq-c68]   .btn_informativa[_ngcontent-bbq-c68]   a[_ngcontent-bbq-c68]:hover   .glyphicon[_ngcontent-bbq-c68]{margin-top:5px}.btn_home[_ngcontent-bbq-c68]{display:block;clear:both;min-height:50px;text-align:center;padding:15px 10px 15px 20px;color:#fff;position:relative}.btn01[_ngcontent-bbq-c68]{background-color:#374e91}.btn02[_ngcontent-bbq-c68]{background-color:maroon}.btn03[_ngcontent-bbq-c68]{background-color:#8d9dc3}.btn04[_ngcontent-bbq-c68]{background-color:grey}.btn05[_ngcontent-bbq-c68]{background-color:#b38320}.btn06[_ngcontent-bbq-c68]{background-color:#832c31}.flechita_botones[_ngcontent-bbq-c68]{position:absolute;left:10px;top:20px}.pic[_ngcontent-bbq-c68]{width:100%;padding-top:52%;position:relative;overflow:hidden;float:left}.pic[_ngcontent-bbq-c68]   img[_ngcontent-bbq-c68]{width:100%;height:auto;position:absolute;top:0;left:0;bottom:0;right:0;transition:all .7s ease}.pic[_ngcontent-bbq-c68]:hover{cursor:pointer}.pic[_ngcontent-bbq-c68]:hover   img[_ngcontent-bbq-c68]{width:110%;height:auto}.logo_home[_ngcontent-bbq-c68]{width:50%;height:auto;margin-left:auto;margin-right:auto}.bottom20[_ngcontent-bbq-c68]{margin-bottom:20px}.negrita[_ngcontent-bbq-c68]{font-weight:700}.logo_onpe[_ngcontent-bbq-c68]{float:right}.logo_onpe[_ngcontent-bbq-c68]   img[_ngcontent-bbq-c68]{width:125px;height:auto}.logo_eleccion[_ngcontent-bbq-c68]{float:left;margin-left:-15px}.menuprincipal[_ngcontent-bbq-c68]{text-align:center}.menuprincipal[_ngcontent-bbq-c68]   .navbar[_ngcontent-bbq-c68]{float:right}.menuprincipal[_ngcontent-bbq-c68]   .icono_togglemenu[_ngcontent-bbq-c68]{display:none}.menuprincipal[_ngcontent-bbq-c68]   a[_ngcontent-bbq-c68]{display:block;width:100%;background:#fff;color:#374e91;min-height:69px;line-height:66px;margin-bottom:20px;font-size:1em;border-bottom:6px solid #be372e}.menuprincipal[_ngcontent-bbq-c68]   a[_ngcontent-bbq-c68]   .ico_menu[_ngcontent-bbq-c68]{font-size:2.2em;margin-right:10px}.menuprincipal[_ngcontent-bbq-c68]   a[_ngcontent-bbq-c68]   .texto_menu[_ngcontent-bbq-c68]{display:inline-block;line-height:1em;max-width:calc(100% - 63px)}.menuprincipal[_ngcontent-bbq-c68]   .btn_azul[_ngcontent-bbq-c68]{border-left:10px solid #374e91;transition:all .3s}.menuprincipal[_ngcontent-bbq-c68]   .azul_activo[_ngcontent-bbq-c68], .menuprincipal[_ngcontent-bbq-c68]   .btn_azul[_ngcontent-bbq-c68]:active, .menuprincipal[_ngcontent-bbq-c68]   .btn_azul[_ngcontent-bbq-c68]:hover{background:#374e91;color:#fff;text-decoration:none}.menuprincipal[_ngcontent-bbq-c68]   .azul_activo[_ngcontent-bbq-c68]   .ico_menu[_ngcontent-bbq-c68], .menuprincipal[_ngcontent-bbq-c68]   .btn_azul[_ngcontent-bbq-c68]:active   .ico_menu[_ngcontent-bbq-c68], .menuprincipal[_ngcontent-bbq-c68]   .btn_azul[_ngcontent-bbq-c68]:hover   .ico_menu[_ngcontent-bbq-c68]{fill:#fff}.menuprincipal[_ngcontent-bbq-c68]   .btn_acero[_ngcontent-bbq-c68]{border-left:10px solid #5f7a98;transition:all .3s}.menuprincipal[_ngcontent-bbq-c68]   .acero_activo[_ngcontent-bbq-c68], .menuprincipal[_ngcontent-bbq-c68]   .btn_acero[_ngcontent-bbq-c68]:active, .menuprincipal[_ngcontent-bbq-c68]   .btn_acero[_ngcontent-bbq-c68]:hover{background:#5f7a98;color:#fff;text-decoration:none}.menuprincipal[_ngcontent-bbq-c68]   .acero_activo[_ngcontent-bbq-c68]   .ico_menu[_ngcontent-bbq-c68], .menuprincipal[_ngcontent-bbq-c68]   .btn_acero[_ngcontent-bbq-c68]:active   .ico_menu[_ngcontent-bbq-c68], .menuprincipal[_ngcontent-bbq-c68]   .btn_acero[_ngcontent-bbq-c68]:hover   .ico_menu[_ngcontent-bbq-c68]{fill:#fff}.menuprincipal[_ngcontent-bbq-c68]   .btn_dorado[_ngcontent-bbq-c68]{border-left:10px solid #b38320;transition:all .3s}.menuprincipal[_ngcontent-bbq-c68]   .btn_dorado[_ngcontent-bbq-c68]:active, .menuprincipal[_ngcontent-bbq-c68]   .btn_dorado[_ngcontent-bbq-c68]:hover, .menuprincipal[_ngcontent-bbq-c68]   .dorado_activo[_ngcontent-bbq-c68]{background:#b38320;color:#fff;text-decoration:none}.menuprincipal[_ngcontent-bbq-c68]   .btn_dorado[_ngcontent-bbq-c68]:active   .ico_menu[_ngcontent-bbq-c68], .menuprincipal[_ngcontent-bbq-c68]   .btn_dorado[_ngcontent-bbq-c68]:hover   .ico_menu[_ngcontent-bbq-c68], .menuprincipal[_ngcontent-bbq-c68]   .dorado_activo[_ngcontent-bbq-c68]   .ico_menu[_ngcontent-bbq-c68]{fill:#fff}.menuprincipal[_ngcontent-bbq-c68]   .btn_celeste[_ngcontent-bbq-c68]{border-left:10px solid #3471a6;transition:all .3s}.menuprincipal[_ngcontent-bbq-c68]   .btn_celeste[_ngcontent-bbq-c68]:active, .menuprincipal[_ngcontent-bbq-c68]   .btn_celeste[_ngcontent-bbq-c68]:hover, .menuprincipal[_ngcontent-bbq-c68]   .celeste_activo[_ngcontent-bbq-c68]{background:#3471a6;color:#fff;text-decoration:none}.menuprincipal[_ngcontent-bbq-c68]   .btn_celeste[_ngcontent-bbq-c68]:active   .ico_menu[_ngcontent-bbq-c68], .menuprincipal[_ngcontent-bbq-c68]   .btn_celeste[_ngcontent-bbq-c68]:hover   .ico_menu[_ngcontent-bbq-c68], .menuprincipal[_ngcontent-bbq-c68]   .celeste_activo[_ngcontent-bbq-c68]   .ico_menu[_ngcontent-bbq-c68]{fill:#fff}.menuprincipal[_ngcontent-bbq-c68]   .btn_rojo[_ngcontent-bbq-c68]{transition:all .3s}.menuprincipal[_ngcontent-bbq-c68]   .btn_rojo[_ngcontent-bbq-c68]:active, .menuprincipal[_ngcontent-bbq-c68]   .btn_rojo[_ngcontent-bbq-c68]:hover, .menuprincipal[_ngcontent-bbq-c68]   .rojo_activo[_ngcontent-bbq-c68]{background:#be372e;color:#fff;text-decoration:none}.menuprincipal[_ngcontent-bbq-c68]   .btn_rojo[_ngcontent-bbq-c68]:active   .ico_menu[_ngcontent-bbq-c68], .menuprincipal[_ngcontent-bbq-c68]   .btn_rojo[_ngcontent-bbq-c68]:hover   .ico_menu[_ngcontent-bbq-c68], .menuprincipal[_ngcontent-bbq-c68]   .rojo_activo[_ngcontent-bbq-c68]   .ico_menu[_ngcontent-bbq-c68]{fill:#fff}.tabs_submenu[_ngcontent-bbq-c68]{border-bottom:6px solid #8d9dc3}.nav-item[_ngcontent-bbq-c68], .nav-itemactas[_ngcontent-bbq-c68]{margin-right:3px;margin-bottom:0!important}.nav-tabs[_ngcontent-bbq-c68]   .nav-link[_ngcontent-bbq-c68]{background:#e2e2e2;color:#0f2241}.nav-tabs[_ngcontent-bbq-c68]   .active[_ngcontent-bbq-c68], .nav-tabs[_ngcontent-bbq-c68]   .nav-link[_ngcontent-bbq-c68]:hover{background:#8d9dc3!important;border:1px solid #8d9dc3!important;color:#fff!important}.subtitulo[_ngcontent-bbq-c68]{display:flex;align-items:center;background:#3e679b;color:#fff;min-height:47px;margin-bottom:20px;border-left:14px solid #8aa3c2;padding-left:30px;position:relative}.subtitulo[_ngcontent-bbq-c68]   h2[_ngcontent-bbq-c68]{margin:0;padding:0;font-size:2.125em;font-family:Roboto Condensed,sans-serif}.subtitulo[_ngcontent-bbq-c68]   span[_ngcontent-bbq-c68]{display:block}.subtitulo[_ngcontent-bbq-c68]   .botonera_print[_ngcontent-bbq-c68]{position:absolute;bottom:10px;right:10px}.subtitulo[_ngcontent-bbq-c68]   .btn_print[_ngcontent-bbq-c68]{border:1px solid #fff;color:#fff;margin-left:7px;padding:2px 10px 0}.subtitulo[_ngcontent-bbq-c68]   .btn_print[_ngcontent-bbq-c68]   .icon-excel[_ngcontent-bbq-c68], .subtitulo[_ngcontent-bbq-c68]   .btn_print[_ngcontent-bbq-c68]   .icon-impresora[_ngcontent-bbq-c68], .subtitulo[_ngcontent-bbq-c68]   .btn_print[_ngcontent-bbq-c68]   .icon-pdf[_ngcontent-bbq-c68]{display:inline-block;margin-right:5px}.subtitulo[_ngcontent-bbq-c68]   .btn_print[_ngcontent-bbq-c68]:hover{background:#fff!important;color:#3e679b!important;text-decoration:none}.subtitulo_azul[_ngcontent-bbq-c68]{display:flex;align-items:center;background:#3e679b;color:#fff;margin-bottom:20px;border-left:14px solid #8aa3c2;padding-left:30px;padding-top:10px;padding-bottom:10px;position:relative}.subtitulo_azul[_ngcontent-bbq-c68]   h2[_ngcontent-bbq-c68]{margin:0;padding:0;font-size:2.125em;font-family:Roboto Condensed,sans-serif}.subtitulo_detalle_candidato[_ngcontent-bbq-c68]{display:block;align-items:center;background:#3e679b;color:#fff;margin-bottom:20px;border-left:14px solid #8aa3c2;padding-left:30px;padding-top:10px;padding-bottom:10px;position:relative}.subtitulo_detalle_candidato[_ngcontent-bbq-c68]   h3[_ngcontent-bbq-c68]{margin:0;padding:0;font-size:1.4em;text-align:center;font-family:Roboto Condensed,sans-serif}.centrar_vertical[_ngcontent-bbq-c68]{vertical-align:middle}.lista_resoluciones[_ngcontent-bbq-c68]{color:#0f2241}.lista_resoluciones[_ngcontent-bbq-c68]   ul[_ngcontent-bbq-c68]{list-style:none}.lista_resoluciones[_ngcontent-bbq-c68]   .glyphicon[_ngcontent-bbq-c68]{color:#3e679b;font-size:1.5em;padding-right:.3em}.borde_gris[_ngcontent-bbq-c68]{padding:10px;margin-bottom:20px;border:1px solid #8ea3a6}.input_mesas[_ngcontent-bbq-c68]{width:calc(100% - 130px);border-radius:4px;border:1px solid #cacaca;text-align:center;display:inline-block;height:auto;padding:0 5px}.btn_buscar[_ngcontent-bbq-c68]{background:#03618a;color:#fff!important;display:inline-block;padding:4px 20px;border:none;float:right;margin-top:-2px}.btn_buscar[_ngcontent-bbq-c68]   .icon-buscar[_ngcontent-bbq-c68]{display:inline-block;margin-right:10px}.btn_buscar[_ngcontent-bbq-c68]:hover{background:#0083c3;color:#fff}.btn_detalle[_ngcontent-bbq-c68]{background:#03618a;color:#fff!important;padding:6px 8px 3px;text-align:center}.btn_detalle[_ngcontent-bbq-c68], .btn_detalle[_ngcontent-bbq-c68]   .icon-buscar[_ngcontent-bbq-c68]{display:inline-block}.btn_detalle[_ngcontent-bbq-c68]:hover{background:#0083c3;color:#fff}.btn_regresar[_ngcontent-bbq-c68]{background:#03618a;color:#fff!important;display:inline-block;padding:4px 20px;float:right;margin-bottom:20px}.btn_regresar[_ngcontent-bbq-c68]   .icon-regresar[_ngcontent-bbq-c68]{display:inline-block;margin-right:10px}.btn_regresar[_ngcontent-bbq-c68]:hover{background:#0083c3;color:#fff}.conte_mesas[_ngcontent-bbq-c68]{width:calc(100% + 2px);display:flex;flex-wrap:wrap;margin:-1px -1px 20px;justify-content:flex-start}.conte_mesas[_ngcontent-bbq-c68]   .mesas[_ngcontent-bbq-c68]{width:calc(20% - 2px);border:none;margin:1px;text-align:center;padding-top:8px;padding-bottom:6px}.procesada_con[_ngcontent-bbq-c68]{background:#b6cdf6}.procesada_con[_ngcontent-bbq-c68]   a[_ngcontent-bbq-c68]{color:#104d82}.procesada_sin[_ngcontent-bbq-c68]{background:#c1c1c1}.procesada_sin[_ngcontent-bbq-c68]   a[_ngcontent-bbq-c68]{color:#252525}.sin_procesar[_ngcontent-bbq-c68]{background:#efd2a8}.sin_procesar[_ngcontent-bbq-c68]   a[_ngcontent-bbq-c68]{color:#8a6d3b}.procesada_con[_ngcontent-bbq-c68]:hover, .procesada_sinn[_ngcontent-bbq-c68]:hover, .sin_procesar[_ngcontent-bbq-c68]:hover{text-decoration:underline}.leyenda_mesas[_ngcontent-bbq-c68]{padding:10px;margin-bottom:20px;border:1px solid #8ea3a6}.leyenda_mesas[_ngcontent-bbq-c68]   .icoleyend[_ngcontent-bbq-c68]{width:20px;height:20px;display:inline-block;margin-top:4px}.leyenda_mesas[_ngcontent-bbq-c68]   span[_ngcontent-bbq-c68]{display:inline-block}.centrar[_ngcontent-bbq-c68]{width:100%;height:100%;text-align:center;display:table-cell}.foto_agrupacion[_ngcontent-bbq-c68]{width:50px;height:50px}.foto_agrupacion_titulo[_ngcontent-bbq-c68]{width:100px;height:100px}.conte_paginador[_ngcontent-bbq-c68]{display:inline-block;margin-top:5px;margin-bottom:25px}.pagination[_ngcontent-bbq-c68]{display:inline-block;padding-left:0;margin:-14px 0;border-radius:4px}.pagination[_ngcontent-bbq-c68] > li[_ngcontent-bbq-c68]{display:inline}.pagination[_ngcontent-bbq-c68] > li[_ngcontent-bbq-c68] > a[_ngcontent-bbq-c68], .pagination[_ngcontent-bbq-c68] > li[_ngcontent-bbq-c68] > span[_ngcontent-bbq-c68]{position:relative;float:left;padding:6px 12px;margin-left:-1px;line-height:1.42857143;color:#337ab7;text-decoration:none;background-color:#fff;border:1px solid #ddd}.pagination[_ngcontent-bbq-c68] > li[_ngcontent-bbq-c68]:first-child > a[_ngcontent-bbq-c68], .pagination[_ngcontent-bbq-c68] > li[_ngcontent-bbq-c68]:first-child > span[_ngcontent-bbq-c68]{margin-left:0;border-top-left-radius:4px;border-bottom-left-radius:4px}.pagination[_ngcontent-bbq-c68] > li[_ngcontent-bbq-c68]:last-child > a[_ngcontent-bbq-c68], .pagination[_ngcontent-bbq-c68] > li[_ngcontent-bbq-c68]:last-child > span[_ngcontent-bbq-c68]{border-top-right-radius:4px;border-bottom-right-radius:4px}.pagination[_ngcontent-bbq-c68] > .active[_ngcontent-bbq-c68] > a[_ngcontent-bbq-c68], .pagination[_ngcontent-bbq-c68] > .active[_ngcontent-bbq-c68] > a[_ngcontent-bbq-c68]:focus, .pagination[_ngcontent-bbq-c68] > .active[_ngcontent-bbq-c68] > a[_ngcontent-bbq-c68]:hover, .pagination[_ngcontent-bbq-c68] > .active[_ngcontent-bbq-c68] > span[_ngcontent-bbq-c68], .pagination[_ngcontent-bbq-c68] > .active[_ngcontent-bbq-c68] > span[_ngcontent-bbq-c68]:focus, .pagination[_ngcontent-bbq-c68] > .active[_ngcontent-bbq-c68] > span[_ngcontent-bbq-c68]:hover{z-index:3;color:#fff;cursor:default;background-color:#337ab7;border-color:#337ab7}.mapa[_ngcontent-bbq-c68]{width:100%;background-color:#eee;border:1px solid #8ea3a6;height:450px}.texto_centrado[_ngcontent-bbq-c68]{text-align:center}.tabla_datos[_ngcontent-bbq-c68]{font-family:Roboto Condensed,sans-serif}.tabla_datos[_ngcontent-bbq-c68]   td[_ngcontent-bbq-c68]{vertical-align:middle}.tabla_datos[_ngcontent-bbq-c68]   td[_ngcontent-bbq-c68]   h1[_ngcontent-bbq-c68]{font-size:2.125em}.tabla_datos[_ngcontent-bbq-c68]   td[_ngcontent-bbq-c68]   h1[_ngcontent-bbq-c68], .tabla_datos[_ngcontent-bbq-c68]   td[_ngcontent-bbq-c68]   h2[_ngcontent-bbq-c68]{padding:0;margin:0;line-height:1em}.tabla_datos[_ngcontent-bbq-c68]   td[_ngcontent-bbq-c68]   h3[_ngcontent-bbq-c68]{padding:0;margin:0;font-size:1.125em}.tabla_datos[_ngcontent-bbq-c68]   span[_ngcontent-bbq-c68]{font-size:.875em;display:inline-block;line-height:1em}.tabla_datos[_ngcontent-bbq-c68]   .col_azul[_ngcontent-bbq-c68]{background-color:#366288;color:#fff}.tabla_datos[_ngcontent-bbq-c68]   .glyphicon[_ngcontent-bbq-c68]{color:#afbccb}.tabla_pc[_ngcontent-bbq-c68]{display:block}.tabla_movil[_ngcontent-bbq-c68]{display:none}.borde_acero[_ngcontent-bbq-c68]{border-left:14px solid #afbccb}.cont_selects_ubigeo[_ngcontent-bbq-c68]{background:#e2e2e2;margin-bottom:20px;padding:15px 25px}.cont_selects_ubigeo[_ngcontent-bbq-c68]   .linea_der[_ngcontent-bbq-c68]{border-right:1px solid #959595}.cont_selects_ubigeo[_ngcontent-bbq-c68]   label[_ngcontent-bbq-c68]{margin:0}.cont_selects_ubigeo[_ngcontent-bbq-c68]   .select_ubigeo[_ngcontent-bbq-c68]{width:100%;box-sizing:border-box;border-radius:4px;padding:2px}.conte_bordeazul[_ngcontent-bbq-c68]{border:1px solid #dee2e6;border-left:14px solid #afbccb;margin-bottom:15px}.conte_bordeazul[_ngcontent-bbq-c68]   .conte_selects[_ngcontent-bbq-c68]{padding:15px 30px}.conte_bordeazul[_ngcontent-bbq-c68]   .conte_cabecera[_ngcontent-bbq-c68]{padding:12px 15px;font-family:Roboto Condensed,sans-serif}.conte_bordeazul[_ngcontent-bbq-c68]   .conte_cabecera[_ngcontent-bbq-c68]   h1[_ngcontent-bbq-c68]{padding:0;margin:0;font-size:2.125em;line-height:1em}.conte_bordeazul[_ngcontent-bbq-c68]   .conte_cabecera[_ngcontent-bbq-c68]   h3[_ngcontent-bbq-c68]{padding:0;margin:0;font-size:1.125em}.conte_bordeazul[_ngcontent-bbq-c68]   .glyphicon[_ngcontent-bbq-c68]{color:#afbccb}.conte_bordeazul[_ngcontent-bbq-c68]   label[_ngcontent-bbq-c68]{width:100%;margin:0}.conte_bordeazul[_ngcontent-bbq-c68]   select[_ngcontent-bbq-c68]{width:100%;box-sizing:border-box;border-radius:4px;padding:2px}.conte_bordeazul[_ngcontent-bbq-c68]   span[_ngcontent-bbq-c68]{font-size:.875em}.conte_select_region[_ngcontent-bbq-c68]{width:100%;box-sizing:border-box;border-radius:4px;padding:2px}.graficos_resultados[_ngcontent-bbq-c68]{width:100%;height:310px;border:1px solid #8ea3a6}.graficos_resultados_totales[_ngcontent-bbq-c68]{width:100%;height:358px;border:1px solid #8ea3a6}.graficos_barras_resultados[_ngcontent-bbq-c68]{width:100%;height:335px;border:1px solid #8ea3a6}.graficos_dist_electoral[_ngcontent-bbq-c68]{width:100%;height:900px;border:1px solid #8ea3a6}.graficos_resumen[_ngcontent-bbq-c68]{width:100%;height:648px;border:1px solid #8ea3a6}.graficos_candidatos[_ngcontent-bbq-c68]{width:100%;background:url(bg_candidatos.340f1821c488e4ebf7c9.jpg) no-repeat;background-size:cover;border:1px solid #8ea3a6}.graficos_candidatos[_ngcontent-bbq-c68]   ul[_ngcontent-bbq-c68]{width:100%;height:100%;display:flex;justify-content:center;align-items:center;margin-bottom:10px;margin-top:10px;padding:0 0 0 15px}.graficos_candidatos[_ngcontent-bbq-c68]   ul[_ngcontent-bbq-c68]   li[_ngcontent-bbq-c68]{display:inline-flex;position:relative;max-width:16.66%}.graficos_candidatos[_ngcontent-bbq-c68]   .bg_foto_candidato[_ngcontent-bbq-c68]{width:100%;height:auto;max-width:100%;margin-left:-10px;margin-right:-10px}.graficos_candidatos[_ngcontent-bbq-c68]   .bg_foto_candidato[_ngcontent-bbq-c68]   img[_ngcontent-bbq-c68]{max-width:100%}.graficos_candidatos[_ngcontent-bbq-c68]   .porcetaje_votos[_ngcontent-bbq-c68]{font-family:Roboto,sans-serif;width:100%;padding-right:15%;position:absolute;bottom:-5px;text-align:center;font-size:1.4vw;color:#fff;font-style:italic}.gutters-20[_ngcontent-bbq-c68]{margin-right:-10px;margin-left:-10px}.gutters-20[_ngcontent-bbq-c68] > .col[_ngcontent-bbq-c68], .gutters-20[_ngcontent-bbq-c68] > [class*=col-][_ngcontent-bbq-c68]{padding-right:10px;padding-left:10px}.leyend_crema[_ngcontent-bbq-c68]{display:block;background:#8d9dc3;color:#fff;text-align:center;padding:10px;margin-bottom:20px}.leyend_crema[_ngcontent-bbq-c68]   .formula[_ngcontent-bbq-c68]{display:inline-block;margin-left:10px}.leyend_crema[_ngcontent-bbq-c68]   .formula[_ngcontent-bbq-c68]   hr[_ngcontent-bbq-c68]{border:1px solid #fff;margin:0}.subtitulo_dorado[_ngcontent-bbq-c68]{background:#b38320;color:#fff;margin-top:10px;font-size:1.125em;padding:10px}.centrar_conteleyend[_ngcontent-bbq-c68]{display:inline-block}.centrar_conteleyend[_ngcontent-bbq-c68]   .datos_leyend[_ngcontent-bbq-c68]{display:inline-block;list-style:none;margin:0 0 0 20px;padding:0;color:#fff;font-size:1em;text-align:left}.centrar_conteleyend[_ngcontent-bbq-c68]   .simbolo_leyend[_ngcontent-bbq-c68]{display:inline-block}.leyenda[_ngcontent-bbq-c68]{padding:0;margin:0 0 20px;list-style:none;font-size:1em}.tablas[_ngcontent-bbq-c68], .tablas[_ngcontent-bbq-c68]   th[_ngcontent-bbq-c68]{border:1px solid #cacaca}.tablas[_ngcontent-bbq-c68]   th[_ngcontent-bbq-c68]{background:#374e91;color:#fff;text-align:center;font-weight:400}.tablas[_ngcontent-bbq-c68]   td[_ngcontent-bbq-c68]{border:1px solid #cacaca;padding-top:.5em;padding-bottom:.5em}.tablas[_ngcontent-bbq-c68]   .pad_lef40[_ngcontent-bbq-c68]{padding-left:40px}.tablas[_ngcontent-bbq-c68]   .td_totales[_ngcontent-bbq-c68]   td[_ngcontent-bbq-c68]{background:#fff6c4;color:#5c3500;font-weight:700}.tabla_resultado[_ngcontent-bbq-c68]   th[_ngcontent-bbq-c68]{text-align:center;border:1px solid #cacaca}.tabla_resultado[_ngcontent-bbq-c68]   td[_ngcontent-bbq-c68]{padding-top:.2em;padding-bottom:.2em;border:1px solid #cacaca;vertical-align:middle}.tabla_resultado[_ngcontent-bbq-c68]   .datos_voto[_ngcontent-bbq-c68]   td[_ngcontent-bbq-c68]{padding:.5em}.tabla_resultado[_ngcontent-bbq-c68]   .tabla_fijo[_ngcontent-bbq-c68]{table-layout:fixed}.table-scroll1[_ngcontent-bbq-c68], .table-wrap[_ngcontent-bbq-c68]{width:100%;overflow-x:scroll;overflow-y:hidden}.table-scroll1[_ngcontent-bbq-c68]{height:20px;margin-bottom:10px}.table-scroll[_ngcontent-bbq-c68]{position:relative;max-width:100%;margin:auto;overflow:hidden}.table-wrap[_ngcontent-bbq-c68]{width:100%;overflow:auto;padding-bottom:20px}.table-scroll[_ngcontent-bbq-c68]   table[_ngcontent-bbq-c68]{width:100%;margin:auto;border-spacing:0}.table-scroll[_ngcontent-bbq-c68]   tfoot[_ngcontent-bbq-c68], .table-scroll[_ngcontent-bbq-c68]   thead[_ngcontent-bbq-c68]{background:#f9f9f9}.clone[_ngcontent-bbq-c68]{position:absolute;top:0;left:0;pointer-events:none}.clone[_ngcontent-bbq-c68]   td[_ngcontent-bbq-c68], .clone[_ngcontent-bbq-c68]   th[_ngcontent-bbq-c68]{visibility:hidden;border-color:transparent}.clone[_ngcontent-bbq-c68]   tbody[_ngcontent-bbq-c68]   th[_ngcontent-bbq-c68]{visibility:visible}.clone[_ngcontent-bbq-c68]   .fixed-side[_ngcontent-bbq-c68]{border:1px solid #cacaca;background:#fff;visibility:visible}.clone[_ngcontent-bbq-c68]   tfoot[_ngcontent-bbq-c68], .clone[_ngcontent-bbq-c68]   thead[_ngcontent-bbq-c68]{background:transparent}.clone[_ngcontent-bbq-c68]   tr[_ngcontent-bbq-c68]:nth-of-type(odd)   td[_ngcontent-bbq-c68], .clone[_ngcontent-bbq-c68]   tr[_ngcontent-bbq-c68]:nth-of-type(odd)   th[_ngcontent-bbq-c68]{background-color:#f2f2f2}.titulo_td[_ngcontent-bbq-c68]{padding:.75rem!important}.tabla_participacion[_ngcontent-bbq-c68]   th[_ngcontent-bbq-c68]{text-align:center;border:1px solid #969696;padding-top:1.1em;padding-bottom:1.1em;background:#d1d1d1}.tabla_participacion[_ngcontent-bbq-c68]   .cabeceradorada[_ngcontent-bbq-c68]   th[_ngcontent-bbq-c68]{background:#374e91;border-left:1px solid #fff;border-right:1px solid #fff;color:#fff}.tabla_participacion[_ngcontent-bbq-c68]   td[_ngcontent-bbq-c68]{padding-top:.7em;padding-bottom:.7em;border:1px solid #cacaca;vertical-align:middle}.tabla_participacion[_ngcontent-bbq-c68]   .datos_voto[_ngcontent-bbq-c68]   td[_ngcontent-bbq-c68]{padding:.5em}.datos_participacion[_ngcontent-bbq-c68]   .leyend_crema[_ngcontent-bbq-c68]{padding:17px 10px}.cabecera_dorada[_ngcontent-bbq-c68]{background:#374e91;color:#fff;padding:.75rem;border-left:14px solid #8d9dc3}.img_acta[_ngcontent-bbq-c68]{max-width:100%;height:auto}.top20[_ngcontent-bbq-c68]{margin-top:20px}footer[_ngcontent-bbq-c68]{clear:both;background:#374e91;color:#fff;text-align:center;padding:1.2em 0;font-size:.8em;overflow:hidden;font-family:GillSansMT}footer[_ngcontent-bbq-c68]   .centrar_footer[_ngcontent-bbq-c68]{width:100%;margin:0 auto;display:flex;align-content:center;justify-content:center;align-items:center}footer[_ngcontent-bbq-c68]   .titulo_footer[_ngcontent-bbq-c68]{color:#fff;font-size:1.5em;margin:.2em 0;float:left;padding-right:1em;text-align:right;font-weight:700}footer[_ngcontent-bbq-c68]   .datos_footer[_ngcontent-bbq-c68]{float:right;padding-left:3em;text-align:center}footer[_ngcontent-bbq-c68]   .separador_footer[_ngcontent-bbq-c68]{margin-left:1em;margin-right:1em}footer[_ngcontent-bbq-c68]   .correo[_ngcontent-bbq-c68]{color:#fff}footer[_ngcontent-bbq-c68]   .correo[_ngcontent-bbq-c68]:hover{text-decoration:underline;color:#fff}footer[_ngcontent-bbq-c68]   a[_ngcontent-bbq-c68]{color:#fff;margin-right:.2em}footer[_ngcontent-bbq-c68]   a[_ngcontent-bbq-c68]:hover{color:#677796;text-decoration:none}footer[_ngcontent-bbq-c68]   p[_ngcontent-bbq-c68]{margin:0;padding:0;font-weight:400;font-size:1.2em;text-align:center}footer[_ngcontent-bbq-c68]   .social_medias[_ngcontent-bbq-c68]{color:#fff;font-size:2.5em}.footer_404[_ngcontent-bbq-c68]{width:100%;position:fixed;bottom:0}.p404[_ngcontent-bbq-c68]{margin-top:100px;margin-bottom:200px}.barra_noencontrada1[_ngcontent-bbq-c68]{background:#3471a3;font-size:26px}.barra_noencontrada1[_ngcontent-bbq-c68], .barra_noencontrada2[_ngcontent-bbq-c68]{color:#fff;text-align:center;height:60px;line-height:60px}.barra_noencontrada2[_ngcontent-bbq-c68]{background:#8aa3c2;font-size:50px;font-weight:lighter}.conte_btn_irinicio[_ngcontent-bbq-c68]{text-align:center;border-left:5px solid #3471a3}.btn_irinicio[_ngcontent-bbq-c68]{font-family:Roboto,sans-serif;font-weight:700;background:url(btn_irinicio.5762a127ebd33031b0e2.png) no-repeat;width:296px;height:78px;border:none;color:#fff;box-sizing:border-box;padding-left:80px;font-size:25px;line-height:25px;margin-top:40px}.img_404[_ngcontent-bbq-c68]{width:164px;height:160px}.cont_img_404[_ngcontent-bbq-c68]{width:35%;float:left;text-align:right}.txt_pag404[_ngcontent-bbq-c68]{font-family:Roboto,sans-serif;width:65%;color:#3471a3;font-size:50px;line-height:50px;font-weight:700;float:left;padding-top:60px}.bottom_404[_ngcontent-bbq-c68]{margin-top:20px}.laptop_mantenimiento[_ngcontent-bbq-c68]{width:307px;height:240px}.barra_mantenimiento[_ngcontent-bbq-c68]{width:306px;height:43px;margin-top:4px}.txt_mantenimiento[_ngcontent-bbq-c68]{font-family:Roboto,sans-serif;color:#3471a3;font-size:38px;line-height:38px;text-align:left;font-weight:700;float:left;padding-top:60px}.conte_mantenimiento[_ngcontent-bbq-c68]{text-align:left;border-left:5px solid #3471a3;padding-left:80px;box-sizing:border-box}.centrar_laptop[_ngcontent-bbq-c68]{text-align:center}@media (max-width:1730px){.txt_pag404[_ngcontent-bbq-c68]{font-size:40px;line-height:40px}.img_404[_ngcontent-bbq-c68]{width:140px;height:137px}}@media (max-width:1600px){.btn_irinicio[_ngcontent-bbq-c68]{width:250px;height:66px;background-size:contain;padding-left:60px;font-size:16px;line-height:16px}.txt_pag404[_ngcontent-bbq-c68]{font-size:36px;line-height:36px}.barra_noencontrada1[_ngcontent-bbq-c68]{font-size:22px}}@media (max-width:1200px){.banner_home[_ngcontent-bbq-c68]   h3[_ngcontent-bbq-c68]{font-size:1.6em}.item_menu[_ngcontent-bbq-c68]{flex:0 0 33.333333%;max-width:33.333333%}}@media (max-width:1450px){.menuprincipal[_ngcontent-bbq-c68]   a[_ngcontent-bbq-c68]{font-size:.9em}.menuprincipal[_ngcontent-bbq-c68]   a[_ngcontent-bbq-c68]   .ico_menu[_ngcontent-bbq-c68]{font-size:2.1em}.conte_mantenimiento[_ngcontent-bbq-c68]{border-left:5px solid #3471a3;padding-left:50px}.laptop_mantenimiento[_ngcontent-bbq-c68]{width:231px;height:181px}.barra_mantenimiento[_ngcontent-bbq-c68]{width:231px;height:32px;margin-top:4px}.txt_mantenimiento[_ngcontent-bbq-c68]{font-size:26px;line-height:26px;padding-top:40px}}@media (max-width:1366px){.menuprincipal[_ngcontent-bbq-c68]   a[_ngcontent-bbq-c68]{font-size:.95em}.menuprincipal[_ngcontent-bbq-c68]   a[_ngcontent-bbq-c68]   .ico_menu[_ngcontent-bbq-c68]{font-size:2.2em}.banner_home[_ngcontent-bbq-c68]   h3[_ngcontent-bbq-c68]{font-size:2.1em}.home_iz[_ngcontent-bbq-c68]   .conte_botones[_ngcontent-bbq-c68]   a[_ngcontent-bbq-c68]   .pic[_ngcontent-bbq-c68]{padding-top:127.6%}.banner_erm[_ngcontent-bbq-c68]   .logo_erm2018[_ngcontent-bbq-c68]{margin-top:52.4%}.tabla_datos[_ngcontent-bbq-c68]   td[_ngcontent-bbq-c68]{padding:.4em}.tabla_datos[_ngcontent-bbq-c68]   td[_ngcontent-bbq-c68]   h2[_ngcontent-bbq-c68]{font-size:1.9em}.txt_pag404[_ngcontent-bbq-c68]{font-size:35px;line-height:35px;padding-top:48px}.img_404[_ngcontent-bbq-c68]{width:117px;height:114px}.btn_irinicio[_ngcontent-bbq-c68]{width:210px;height:55px;background-size:contain;padding-left:55px;font-size:16px;line-height:16px}.barra_noencontrada1[_ngcontent-bbq-c68]{font-size:18px}.conte_mantenimiento[_ngcontent-bbq-c68]{border-left:5px solid #3471a3;padding-left:40px}.laptop_mantenimiento[_ngcontent-bbq-c68]{width:219px;height:171px}.barra_mantenimiento[_ngcontent-bbq-c68]{width:218px;height:30px;margin-top:4px}.txt_mantenimiento[_ngcontent-bbq-c68]{font-size:27px;line-height:27px;padding-top:40px}}@media (max-width:1130px){body[_ngcontent-bbq-c68]{font-size:14px}header[_ngcontent-bbq-c68]   h1[_ngcontent-bbq-c68]{font-size:1.2em}header[_ngcontent-bbq-c68]   h2[_ngcontent-bbq-c68]{font-size:1.6em}.menuprincipal[_ngcontent-bbq-c68]   a[_ngcontent-bbq-c68]{padding-left:10px;padding-right:10px;font-size:1em;min-height:70px;line-height:68px}.menuprincipal[_ngcontent-bbq-c68]   a[_ngcontent-bbq-c68]   .ico_menu[_ngcontent-bbq-c68]{font-size:2em}.logo_onpe[_ngcontent-bbq-c68]   img[_ngcontent-bbq-c68]{width:120px;height:auto}.logo_eleccion[_ngcontent-bbq-c68]   img[_ngcontent-bbq-c68]{width:207px;height:auto}.subtitulo[_ngcontent-bbq-c68]{min-height:110px;font-size:.84em}.tabla_pc[_ngcontent-bbq-c68]{display:none}.tabla_movil[_ngcontent-bbq-c68]{display:block}}@media screen and (min-width:993px) and (max-width:1050px){.tablas[_ngcontent-bbq-c68]   th[_ngcontent-bbq-c68]{line-height:1em;padding-left:.5em;padding-right:.5em}.tablas[_ngcontent-bbq-c68]   td[_ngcontent-bbq-c68], .tablas[_ngcontent-bbq-c68]   th[_ngcontent-bbq-c68]{font-size:1em}.tabla_datos[_ngcontent-bbq-c68]   td[_ngcontent-bbq-c68]{padding:.4em}.tabla_datos[_ngcontent-bbq-c68]   td[_ngcontent-bbq-c68]   h2[_ngcontent-bbq-c68]{font-size:1.6em}.home_iz[_ngcontent-bbq-c68]   .conte_botones[_ngcontent-bbq-c68]   a[_ngcontent-bbq-c68]   .pic[_ngcontent-bbq-c68]{padding-top:115.4%}}@media (max-width:992px){header[_ngcontent-bbq-c68]   h1[_ngcontent-bbq-c68]{font-size:.96em}header[_ngcontent-bbq-c68]   h2[_ngcontent-bbq-c68]{font-size:1.28em}.banner_home[_ngcontent-bbq-c68]   h3[_ngcontent-bbq-c68]{font-size:1.6em}.graficos_candidatos[_ngcontent-bbq-c68]{margin-bottom:20px}.graficos_candidatos[_ngcontent-bbq-c68]   .porcetaje_votos[_ngcontent-bbq-c68]{font-size:2.2vw}.item_menu[_ngcontent-bbq-c68]{flex:0 0 50%;max-width:50%}.pie_municipales[_ngcontent-bbq-c68], .pie_regionales[_ngcontent-bbq-c68]{order:1;margin-bottom:20px}.barras_municipales[_ngcontent-bbq-c68], .barras_regionales[_ngcontent-bbq-c68]{order:2}.graficos_barras_resultados[_ngcontent-bbq-c68], .graficos_resultados[_ngcontent-bbq-c68], .graficos_resultados_totales[_ngcontent-bbq-c68]{margin-bottom:20px}.menuprincipal[_ngcontent-bbq-c68]   a[_ngcontent-bbq-c68]{margin-bottom:10px}.btn_buscar[_ngcontent-bbq-c68]{margin-bottom:20px}.tabs_submenu[_ngcontent-bbq-c68]{display:flex}.tabs_submenu[_ngcontent-bbq-c68]   li[_ngcontent-bbq-c68]{width:50%;margin-right:0}.nav-tabs[_ngcontent-bbq-c68]   .nav-item[_ngcontent-bbq-c68]{padding-left:5px;padding-right:5px}.nav-tabs[_ngcontent-bbq-c68]   .nav-item[_ngcontent-bbq-c68]   .nav-link[_ngcontent-bbq-c68]{width:100%;border-radius:5px;background:none;border:1px solid #b38320;margin-bottom:10px}.footer_404[_ngcontent-bbq-c68]   p[_ngcontent-bbq-c68]{padding:0;margin:0;display:inline-block}.footer_404[_ngcontent-bbq-c68]   span[_ngcontent-bbq-c68]{margin:4px 0;width:100%}}@media (max-width:768px){.col-40[_ngcontent-bbq-c68], .col-60[_ngcontent-bbq-c68]{width:100%}.tabla_resumen_pc[_ngcontent-bbq-c68]{display:none}.tabla_resumen_movil[_ngcontent-bbq-c68]{display:block}.menuprincipal[_ngcontent-bbq-c68]   .icono_togglemenu[_ngcontent-bbq-c68]{display:block;width:100%}.logo_onpe[_ngcontent-bbq-c68]   img[_ngcontent-bbq-c68]{width:90px;height:auto}.logo_eleccion[_ngcontent-bbq-c68]   img[_ngcontent-bbq-c68]{width:156px;height:auto}header[_ngcontent-bbq-c68]   h1[_ngcontent-bbq-c68]{font-size:.75em}header[_ngcontent-bbq-c68]   h2[_ngcontent-bbq-c68]{font-size:1em}.subtitulo[_ngcontent-bbq-c68]{padding-bottom:60px}.subtitulo[_ngcontent-bbq-c68]   h2[_ngcontent-bbq-c68]{margin-bottom:10px}.subtitulo[_ngcontent-bbq-c68]   .botonera_print[_ngcontent-bbq-c68]{margin-top:10px}.subtitulo[_ngcontent-bbq-c68]   .btn_print[_ngcontent-bbq-c68]{display:inline-block;margin-top:5px}.tabs_submenu[_ngcontent-bbq-c68]   li[_ngcontent-bbq-c68]{width:100%}.conte_btn_irinicio[_ngcontent-bbq-c68], .conte_mantenimiento[_ngcontent-bbq-c68]{border-left:none}.barra_mantenimiento[_ngcontent-bbq-c68]{width:60%;height:auto;margin-left:20%;margin-top:4px}.txt_mantenimiento[_ngcontent-bbq-c68]{font-size:27px;line-height:27px;padding-left:20%;padding-top:40px}footer[_ngcontent-bbq-c68]   .centrar_footer[_ngcontent-bbq-c68]{width:90%;display:block}footer[_ngcontent-bbq-c68]   .titulo_footer[_ngcontent-bbq-c68]{width:100%;text-align:center}footer[_ngcontent-bbq-c68]   .datos_footer[_ngcontent-bbq-c68]{width:100%}}@media (min-width:769px){.menuprincipal[_ngcontent-bbq-c68]   #navbarToggleExternalContent[_ngcontent-bbq-c68]{display:block}}@media (max-width:576px){header[_ngcontent-bbq-c68]   h1[_ngcontent-bbq-c68]{font-size:1.5em}footer[_ngcontent-bbq-c68]   .titulo_footer[_ngcontent-bbq-c68]{font-size:1em}.subtitulo[_ngcontent-bbq-c68]{padding-top:20px;padding-left:20px;padding-bottom:60px}.banner_home[_ngcontent-bbq-c68]{text-align:center}.banner_home[_ngcontent-bbq-c68]   .logo_home[_ngcontent-bbq-c68]{width:100%;margin-left:0}.banner_home[_ngcontent-bbq-c68]   h3[_ngcontent-bbq-c68]{width:100%;position:relative;margin-top:20px}.banner_erm[_ngcontent-bbq-c68]   .logo_erm2018[_ngcontent-bbq-c68]{width:70%;margin-top:25%}.logo_onpe[_ngcontent-bbq-c68]{float:none;margin:0 auto;padding-bottom:20px}.logo_onpe[_ngcontent-bbq-c68]   img[_ngcontent-bbq-c68]{width:45%;margin-top:.5em}.banner_homeeg2021[_ngcontent-bbq-c68]   .conte_btns_home_banner[_ngcontent-bbq-c68]{width:50%;position:absolute;left:30%;bottom:8%;font-size:.8em}.banner_homeeg2021[_ngcontent-bbq-c68]   .conte_btns_home_banner[_ngcontent-bbq-c68]   a[_ngcontent-bbq-c68]   .btn_informativa[_ngcontent-bbq-c68]{padding-left:15px}.logo_eleccion[_ngcontent-bbq-c68]{float:none;margin:20px auto 10px}.logo_eleccion[_ngcontent-bbq-c68]   img[_ngcontent-bbq-c68]{width:100%}.barra_noencontrada1[_ngcontent-bbq-c68]{height:auto;line-height:1em;padding-top:10px;padding-bottom:10px}.item_menu[_ngcontent-bbq-c68]{flex:0 0 100%;max-width:100%}}@media (max-width:380px){header[_ngcontent-bbq-c68]   div[_ngcontent-bbq-c68]{margin:0;padding:0}header[_ngcontent-bbq-c68]   .logo_eleccion[_ngcontent-bbq-c68]{width:100%;margin-bottom:20px}header[_ngcontent-bbq-c68]   .logo_onpe[_ngcontent-bbq-c68]{margin-bottom:20px}.banner_erm[_ngcontent-bbq-c68]{width:100%}.home_iz[_ngcontent-bbq-c68]   .conte_botones[_ngcontent-bbq-c68]{width:calc(100% - 40px);margin-right:20px}}</style><style>@font-face{font-family:Glyphicons Halflings;src:url(glyphicons-halflings-regular.5be1347c682810f199c7.eot);src:url(glyphicons-halflings-regular.5be1347c682810f199c7.eot?#iefix) format(\"embedded-opentype\"),url(glyphicons-halflings-regular.be810be3a3e14c682a25.woff2) format(\"woff2\"),url(glyphicons-halflings-regular.82b1212e45a2bc35dd73.woff) format(\"truetype\"),url(glyphicons-halflings-regular.9a17786234899efcc963.svg#glyphicons_halflingsregular) format(\"svg\")}.amcharts-category-axis[_ngcontent-bbq-c69]   .amcharts-axis-label[_ngcontent-bbq-c69]:first-child   tspan[_ngcontent-bbq-c69]{font-weight:700;font-size:500px}.glyphicon[_ngcontent-bbq-c69]{position:relative;top:1px;display:inline-block;font-family:Glyphicons Halflings;font-style:normal;font-weight:400;line-height:1;-webkit-font-smoothing:antialiased;-moz-osx-font-smoothing:grayscale}.glyphicon-asterisk[_ngcontent-bbq-c69]:before{content:\"\\\\2a\"}.glyphicon-plus[_ngcontent-bbq-c69]:before{content:\"\\\\2b\"}.glyphicon-eur[_ngcontent-bbq-c69]:before, .glyphicon-euro[_ngcontent-bbq-c69]:before{content:\"\\\\20ac\"}.glyphicon-minus[_ngcontent-bbq-c69]:before{content:\"\\\\2212\"}.glyphicon-cloud[_ngcontent-bbq-c69]:before{content:\"\\\\2601\"}.glyphicon-envelope[_ngcontent-bbq-c69]:before{content:\"\\\\2709\"}.glyphicon-pencil[_ngcontent-bbq-c69]:before{content:\"\\\\270f\"}.glyphicon-glass[_ngcontent-bbq-c69]:before{content:\"\\\\e001\"}.glyphicon-music[_ngcontent-bbq-c69]:before{content:\"\\\\e002\"}.glyphicon-search[_ngcontent-bbq-c69]:before{content:\"\\\\e003\"}.glyphicon-heart[_ngcontent-bbq-c69]:before{content:\"\\\\e005\"}.glyphicon-star[_ngcontent-bbq-c69]:before{content:\"\\\\e006\"}.glyphicon-star-empty[_ngcontent-bbq-c69]:before{content:\"\\\\e007\"}.glyphicon-user[_ngcontent-bbq-c69]:before{content:\"\\\\e008\"}.glyphicon-film[_ngcontent-bbq-c69]:before{content:\"\\\\e009\"}.glyphicon-th-large[_ngcontent-bbq-c69]:before{content:\"\\\\e010\"}.glyphicon-th[_ngcontent-bbq-c69]:before{content:\"\\\\e011\"}.glyphicon-th-list[_ngcontent-bbq-c69]:before{content:\"\\\\e012\"}.glyphicon-ok[_ngcontent-bbq-c69]:before{content:\"\\\\e013\"}.glyphicon-remove[_ngcontent-bbq-c69]:before{content:\"\\\\e014\"}.glyphicon-zoom-in[_ngcontent-bbq-c69]:before{content:\"\\\\e015\"}.glyphicon-zoom-out[_ngcontent-bbq-c69]:before{content:\"\\\\e016\"}.glyphicon-off[_ngcontent-bbq-c69]:before{content:\"\\\\e017\"}.glyphicon-signal[_ngcontent-bbq-c69]:before{content:\"\\\\e018\"}.glyphicon-cog[_ngcontent-bbq-c69]:before{content:\"\\\\e019\"}.glyphicon-trash[_ngcontent-bbq-c69]:before{content:\"\\\\e020\"}.glyphicon-home[_ngcontent-bbq-c69]:before{content:\"\\\\e021\"}.glyphicon-file[_ngcontent-bbq-c69]:before{content:\"\\\\e022\"}.glyphicon-time[_ngcontent-bbq-c69]:before{content:\"\\\\e023\"}.glyphicon-road[_ngcontent-bbq-c69]:before{content:\"\\\\e024\"}.glyphicon-download-alt[_ngcontent-bbq-c69]:before{content:\"\\\\e025\"}.glyphicon-download[_ngcontent-bbq-c69]:before{content:\"\\\\e026\"}.glyphicon-upload[_ngcontent-bbq-c69]:before{content:\"\\\\e027\"}.glyphicon-inbox[_ngcontent-bbq-c69]:before{content:\"\\\\e028\"}.glyphicon-play-circle[_ngcontent-bbq-c69]:before{content:\"\\\\e029\"}.glyphicon-repeat[_ngcontent-bbq-c69]:before{content:\"\\\\e030\"}.glyphicon-refresh[_ngcontent-bbq-c69]:before{content:\"\\\\e031\"}.glyphicon-list-alt[_ngcontent-bbq-c69]:before{content:\"\\\\e032\"}.glyphicon-lock[_ngcontent-bbq-c69]:before{content:\"\\\\e033\"}.glyphicon-flag[_ngcontent-bbq-c69]:before{content:\"\\\\e034\"}.glyphicon-headphones[_ngcontent-bbq-c69]:before{content:\"\\\\e035\"}.glyphicon-volume-off[_ngcontent-bbq-c69]:before{content:\"\\\\e036\"}.glyphicon-volume-down[_ngcontent-bbq-c69]:before{content:\"\\\\e037\"}.glyphicon-volume-up[_ngcontent-bbq-c69]:before{content:\"\\\\e038\"}.glyphicon-qrcode[_ngcontent-bbq-c69]:before{content:\"\\\\e039\"}.glyphicon-barcode[_ngcontent-bbq-c69]:before{content:\"\\\\e040\"}.glyphicon-tag[_ngcontent-bbq-c69]:before{content:\"\\\\e041\"}.glyphicon-tags[_ngcontent-bbq-c69]:before{content:\"\\\\e042\"}.glyphicon-book[_ngcontent-bbq-c69]:before{content:\"\\\\e043\"}.glyphicon-bookmark[_ngcontent-bbq-c69]:before{content:\"\\\\e044\"}.glyphicon-print[_ngcontent-bbq-c69]:before{content:\"\\\\e045\"}.glyphicon-camera[_ngcontent-bbq-c69]:before{content:\"\\\\e046\"}.glyphicon-font[_ngcontent-bbq-c69]:before{content:\"\\\\e047\"}.glyphicon-bold[_ngcontent-bbq-c69]:before{content:\"\\\\e048\"}.glyphicon-italic[_ngcontent-bbq-c69]:before{content:\"\\\\e049\"}.glyphicon-text-height[_ngcontent-bbq-c69]:before{content:\"\\\\e050\"}.glyphicon-text-width[_ngcontent-bbq-c69]:before{content:\"\\\\e051\"}.glyphicon-align-left[_ngcontent-bbq-c69]:before{content:\"\\\\e052\"}.glyphicon-align-center[_ngcontent-bbq-c69]:before{content:\"\\\\e053\"}.glyphicon-align-right[_ngcontent-bbq-c69]:before{content:\"\\\\e054\"}.glyphicon-align-justify[_ngcontent-bbq-c69]:before{content:\"\\\\e055\"}.glyphicon-list[_ngcontent-bbq-c69]:before{content:\"\\\\e056\"}.glyphicon-indent-left[_ngcontent-bbq-c69]:before{content:\"\\\\e057\"}.glyphicon-indent-right[_ngcontent-bbq-c69]:before{content:\"\\\\e058\"}.glyphicon-facetime-video[_ngcontent-bbq-c69]:before{content:\"\\\\e059\"}.glyphicon-picture[_ngcontent-bbq-c69]:before{content:\"\\\\e060\"}.glyphicon-map-marker[_ngcontent-bbq-c69]:before{content:\"\\\\e062\"}.glyphicon-adjust[_ngcontent-bbq-c69]:before{content:\"\\\\e063\"}.glyphicon-tint[_ngcontent-bbq-c69]:before{content:\"\\\\e064\"}.glyphicon-edit[_ngcontent-bbq-c69]:before{content:\"\\\\e065\"}.glyphicon-share[_ngcontent-bbq-c69]:before{content:\"\\\\e066\"}.glyphicon-check[_ngcontent-bbq-c69]:before{content:\"\\\\e067\"}.glyphicon-move[_ngcontent-bbq-c69]:before{content:\"\\\\e068\"}.glyphicon-step-backward[_ngcontent-bbq-c69]:before{content:\"\\\\e069\"}.glyphicon-fast-backward[_ngcontent-bbq-c69]:before{content:\"\\\\e070\"}.glyphicon-backward[_ngcontent-bbq-c69]:before{content:\"\\\\e071\"}.glyphicon-play[_ngcontent-bbq-c69]:before{content:\"\\\\e072\"}.glyphicon-pause[_ngcontent-bbq-c69]:before{content:\"\\\\e073\"}.glyphicon-stop[_ngcontent-bbq-c69]:before{content:\"\\\\e074\"}.glyphicon-forward[_ngcontent-bbq-c69]:before{content:\"\\\\e075\"}.glyphicon-fast-forward[_ngcontent-bbq-c69]:before{content:\"\\\\e076\"}.glyphicon-step-forward[_ngcontent-bbq-c69]:before{content:\"\\\\e077\"}.glyphicon-eject[_ngcontent-bbq-c69]:before{content:\"\\\\e078\"}.glyphicon-chevron-left[_ngcontent-bbq-c69]:before{content:\"\\\\e079\"}.glyphicon-chevron-right[_ngcontent-bbq-c69]:before{content:\"\\\\e080\"}.glyphicon-plus-sign[_ngcontent-bbq-c69]:before{content:\"\\\\e081\"}.glyphicon-minus-sign[_ngcontent-bbq-c69]:before{content:\"\\\\e082\"}.glyphicon-remove-sign[_ngcontent-bbq-c69]:before{content:\"\\\\e083\"}.glyphicon-ok-sign[_ngcontent-bbq-c69]:before{content:\"\\\\e084\"}.glyphicon-question-sign[_ngcontent-bbq-c69]:before{content:\"\\\\e085\"}.glyphicon-info-sign[_ngcontent-bbq-c69]:before{content:\"\\\\e086\"}.glyphicon-screenshot[_ngcontent-bbq-c69]:before{content:\"\\\\e087\"}.glyphicon-remove-circle[_ngcontent-bbq-c69]:before{content:\"\\\\e088\"}.glyphicon-ok-circle[_ngcontent-bbq-c69]:before{content:\"\\\\e089\"}.glyphicon-ban-circle[_ngcontent-bbq-c69]:before{content:\"\\\\e090\"}.glyphicon-arrow-left[_ngcontent-bbq-c69]:before{content:\"\\\\e091\"}.glyphicon-arrow-right[_ngcontent-bbq-c69]:before{content:\"\\\\e092\"}.glyphicon-arrow-up[_ngcontent-bbq-c69]:before{content:\"\\\\e093\"}.glyphicon-arrow-down[_ngcontent-bbq-c69]:before{content:\"\\\\e094\"}.glyphicon-share-alt[_ngcontent-bbq-c69]:before{content:\"\\\\e095\"}.glyphicon-resize-full[_ngcontent-bbq-c69]:before{content:\"\\\\e096\"}.glyphicon-resize-small[_ngcontent-bbq-c69]:before{content:\"\\\\e097\"}.glyphicon-exclamation-sign[_ngcontent-bbq-c69]:before{content:\"\\\\e101\"}.glyphicon-gift[_ngcontent-bbq-c69]:before{content:\"\\\\e102\"}.glyphicon-leaf[_ngcontent-bbq-c69]:before{content:\"\\\\e103\"}.glyphicon-fire[_ngcontent-bbq-c69]:before{content:\"\\\\e104\"}.glyphicon-eye-open[_ngcontent-bbq-c69]:before{content:\"\\\\e105\"}.glyphicon-eye-close[_ngcontent-bbq-c69]:before{content:\"\\\\e106\"}.glyphicon-warning-sign[_ngcontent-bbq-c69]:before{content:\"\\\\e107\"}.glyphicon-plane[_ngcontent-bbq-c69]:before{content:\"\\\\e108\"}.glyphicon-calendar[_ngcontent-bbq-c69]:before{content:\"\\\\e109\"}.glyphicon-random[_ngcontent-bbq-c69]:before{content:\"\\\\e110\"}.glyphicon-comment[_ngcontent-bbq-c69]:before{content:\"\\\\e111\"}.glyphicon-magnet[_ngcontent-bbq-c69]:before{content:\"\\\\e112\"}.glyphicon-chevron-up[_ngcontent-bbq-c69]:before{content:\"\\\\e113\"}.glyphicon-chevron-down[_ngcontent-bbq-c69]:before{content:\"\\\\e114\"}.glyphicon-retweet[_ngcontent-bbq-c69]:before{content:\"\\\\e115\"}.glyphicon-shopping-cart[_ngcontent-bbq-c69]:before{content:\"\\\\e116\"}.glyphicon-folder-close[_ngcontent-bbq-c69]:before{content:\"\\\\e117\"}.glyphicon-folder-open[_ngcontent-bbq-c69]:before{content:\"\\\\e118\"}.glyphicon-resize-vertical[_ngcontent-bbq-c69]:before{content:\"\\\\e119\"}.glyphicon-resize-horizontal[_ngcontent-bbq-c69]:before{content:\"\\\\e120\"}.glyphicon-hdd[_ngcontent-bbq-c69]:before{content:\"\\\\e121\"}.glyphicon-bullhorn[_ngcontent-bbq-c69]:before{content:\"\\\\e122\"}.glyphicon-bell[_ngcontent-bbq-c69]:before{content:\"\\\\e123\"}.glyphicon-certificate[_ngcontent-bbq-c69]:before{content:\"\\\\e124\"}.glyphicon-thumbs-up[_ngcontent-bbq-c69]:before{content:\"\\\\e125\"}.glyphicon-thumbs-down[_ngcontent-bbq-c69]:before{content:\"\\\\e126\"}.glyphicon-hand-right[_ngcontent-bbq-c69]:before{content:\"\\\\e127\"}.glyphicon-hand-left[_ngcontent-bbq-c69]:before{content:\"\\\\e128\"}.glyphicon-hand-up[_ngcontent-bbq-c69]:before{content:\"\\\\e129\"}.glyphicon-hand-down[_ngcontent-bbq-c69]:before{content:\"\\\\e130\"}.glyphicon-circle-arrow-right[_ngcontent-bbq-c69]:before{content:\"\\\\e131\"}.glyphicon-circle-arrow-left[_ngcontent-bbq-c69]:before{content:\"\\\\e132\"}.glyphicon-circle-arrow-up[_ngcontent-bbq-c69]:before{content:\"\\\\e133\"}.glyphicon-circle-arrow-down[_ngcontent-bbq-c69]:before{content:\"\\\\e134\"}.glyphicon-globe[_ngcontent-bbq-c69]:before{content:\"\\\\e135\"}.glyphicon-wrench[_ngcontent-bbq-c69]:before{content:\"\\\\e136\"}.glyphicon-tasks[_ngcontent-bbq-c69]:before{content:\"\\\\e137\"}.glyphicon-filter[_ngcontent-bbq-c69]:before{content:\"\\\\e138\"}.glyphicon-briefcase[_ngcontent-bbq-c69]:before{content:\"\\\\e139\"}.glyphicon-fullscreen[_ngcontent-bbq-c69]:before{content:\"\\\\e140\"}.glyphicon-dashboard[_ngcontent-bbq-c69]:before{content:\"\\\\e141\"}.glyphicon-paperclip[_ngcontent-bbq-c69]:before{content:\"\\\\e142\"}.glyphicon-heart-empty[_ngcontent-bbq-c69]:before{content:\"\\\\e143\"}.glyphicon-link[_ngcontent-bbq-c69]:before{content:\"\\\\e144\"}.glyphicon-phone[_ngcontent-bbq-c69]:before{content:\"\\\\e145\"}.glyphicon-pushpin[_ngcontent-bbq-c69]:before{content:\"\\\\e146\"}.glyphicon-usd[_ngcontent-bbq-c69]:before{content:\"\\\\e148\"}.glyphicon-gbp[_ngcontent-bbq-c69]:before{content:\"\\\\e149\"}.glyphicon-sort[_ngcontent-bbq-c69]:before{content:\"\\\\e150\"}.glyphicon-sort-by-alphabet[_ngcontent-bbq-c69]:before{content:\"\\\\e151\"}.glyphicon-sort-by-alphabet-alt[_ngcontent-bbq-c69]:before{content:\"\\\\e152\"}.glyphicon-sort-by-order[_ngcontent-bbq-c69]:before{content:\"\\\\e153\"}.glyphicon-sort-by-order-alt[_ngcontent-bbq-c69]:before{content:\"\\\\e154\"}.glyphicon-sort-by-attributes[_ngcontent-bbq-c69]:before{content:\"\\\\e155\"}.glyphicon-sort-by-attributes-alt[_ngcontent-bbq-c69]:before{content:\"\\\\e156\"}.glyphicon-unchecked[_ngcontent-bbq-c69]:before{content:\"\\\\e157\"}.glyphicon-expand[_ngcontent-bbq-c69]:before{content:\"\\\\e158\"}.glyphicon-collapse-down[_ngcontent-bbq-c69]:before{content:\"\\\\e159\"}.glyphicon-collapse-up[_ngcontent-bbq-c69]:before{content:\"\\\\e160\"}.glyphicon-log-in[_ngcontent-bbq-c69]:before{content:\"\\\\e161\"}.glyphicon-flash[_ngcontent-bbq-c69]:before{content:\"\\\\e162\"}.glyphicon-log-out[_ngcontent-bbq-c69]:before{content:\"\\\\e163\"}.glyphicon-new-window[_ngcontent-bbq-c69]:before{content:\"\\\\e164\"}.glyphicon-record[_ngcontent-bbq-c69]:before{content:\"\\\\e165\"}.glyphicon-save[_ngcontent-bbq-c69]:before{content:\"\\\\e166\"}.glyphicon-open[_ngcontent-bbq-c69]:before{content:\"\\\\e167\"}.glyphicon-saved[_ngcontent-bbq-c69]:before{content:\"\\\\e168\"}.glyphicon-import[_ngcontent-bbq-c69]:before{content:\"\\\\e169\"}.glyphicon-export[_ngcontent-bbq-c69]:before{content:\"\\\\e170\"}.glyphicon-send[_ngcontent-bbq-c69]:before{content:\"\\\\e171\"}.glyphicon-floppy-disk[_ngcontent-bbq-c69]:before{content:\"\\\\e172\"}.glyphicon-floppy-saved[_ngcontent-bbq-c69]:before{content:\"\\\\e173\"}.glyphicon-floppy-remove[_ngcontent-bbq-c69]:before{content:\"\\\\e174\"}.glyphicon-floppy-save[_ngcontent-bbq-c69]:before{content:\"\\\\e175\"}.glyphicon-floppy-open[_ngcontent-bbq-c69]:before{content:\"\\\\e176\"}.glyphicon-credit-card[_ngcontent-bbq-c69]:before{content:\"\\\\e177\"}.glyphicon-transfer[_ngcontent-bbq-c69]:before{content:\"\\\\e178\"}.glyphicon-cutlery[_ngcontent-bbq-c69]:before{content:\"\\\\e179\"}.glyphicon-header[_ngcontent-bbq-c69]:before{content:\"\\\\e180\"}.glyphicon-compressed[_ngcontent-bbq-c69]:before{content:\"\\\\e181\"}.glyphicon-earphone[_ngcontent-bbq-c69]:before{content:\"\\\\e182\"}.glyphicon-phone-alt[_ngcontent-bbq-c69]:before{content:\"\\\\e183\"}.glyphicon-tower[_ngcontent-bbq-c69]:before{content:\"\\\\e184\"}.glyphicon-stats[_ngcontent-bbq-c69]:before{content:\"\\\\e185\"}.glyphicon-sd-video[_ngcontent-bbq-c69]:before{content:\"\\\\e186\"}.glyphicon-hd-video[_ngcontent-bbq-c69]:before{content:\"\\\\e187\"}.glyphicon-subtitles[_ngcontent-bbq-c69]:before{content:\"\\\\e188\"}.glyphicon-sound-stereo[_ngcontent-bbq-c69]:before{content:\"\\\\e189\"}.glyphicon-sound-dolby[_ngcontent-bbq-c69]:before{content:\"\\\\e190\"}.glyphicon-sound-5-1[_ngcontent-bbq-c69]:before{content:\"\\\\e191\"}.glyphicon-sound-6-1[_ngcontent-bbq-c69]:before{content:\"\\\\e192\"}.glyphicon-sound-7-1[_ngcontent-bbq-c69]:before{content:\"\\\\e193\"}.glyphicon-copyright-mark[_ngcontent-bbq-c69]:before{content:\"\\\\e194\"}.glyphicon-registration-mark[_ngcontent-bbq-c69]:before{content:\"\\\\e195\"}.glyphicon-cloud-download[_ngcontent-bbq-c69]:before{content:\"\\\\e197\"}.glyphicon-cloud-upload[_ngcontent-bbq-c69]:before{content:\"\\\\e198\"}.glyphicon-tree-conifer[_ngcontent-bbq-c69]:before{content:\"\\\\e199\"}.glyphicon-tree-deciduous[_ngcontent-bbq-c69]:before{content:\"\\\\e200\"}.glyphicon-cd[_ngcontent-bbq-c69]:before{content:\"\\\\e201\"}.glyphicon-save-file[_ngcontent-bbq-c69]:before{content:\"\\\\e202\"}.glyphicon-open-file[_ngcontent-bbq-c69]:before{content:\"\\\\e203\"}.glyphicon-level-up[_ngcontent-bbq-c69]:before{content:\"\\\\e204\"}.glyphicon-copy[_ngcontent-bbq-c69]:before{content:\"\\\\e205\"}.glyphicon-paste[_ngcontent-bbq-c69]:before{content:\"\\\\e206\"}.glyphicon-alert[_ngcontent-bbq-c69]:before{content:\"\\\\e209\"}.glyphicon-equalizer[_ngcontent-bbq-c69]:before{content:\"\\\\e210\"}.glyphicon-king[_ngcontent-bbq-c69]:before{content:\"\\\\e211\"}.glyphicon-queen[_ngcontent-bbq-c69]:before{content:\"\\\\e212\"}.glyphicon-pawn[_ngcontent-bbq-c69]:before{content:\"\\\\e213\"}.glyphicon-bishop[_ngcontent-bbq-c69]:before{content:\"\\\\e214\"}.glyphicon-knight[_ngcontent-bbq-c69]:before{content:\"\\\\e215\"}.glyphicon-baby-formula[_ngcontent-bbq-c69]:before{content:\"\\\\e216\"}.glyphicon-tent[_ngcontent-bbq-c69]:before{content:\"\\\\26fa\"}.glyphicon-blackboard[_ngcontent-bbq-c69]:before{content:\"\\\\e218\"}.glyphicon-bed[_ngcontent-bbq-c69]:before{content:\"\\\\e219\"}.glyphicon-apple[_ngcontent-bbq-c69]:before{content:\"\\\\f8ff\"}.glyphicon-erase[_ngcontent-bbq-c69]:before{content:\"\\\\e221\"}.glyphicon-hourglass[_ngcontent-bbq-c69]:before{content:\"\\\\231b\"}.glyphicon-lamp[_ngcontent-bbq-c69]:before{content:\"\\\\e223\"}.glyphicon-duplicate[_ngcontent-bbq-c69]:before{content:\"\\\\e224\"}.glyphicon-piggy-bank[_ngcontent-bbq-c69]:before{content:\"\\\\e225\"}.glyphicon-scissors[_ngcontent-bbq-c69]:before{content:\"\\\\e226\"}.glyphicon-bitcoin[_ngcontent-bbq-c69]:before, .glyphicon-btc[_ngcontent-bbq-c69]:before, .glyphicon-xbt[_ngcontent-bbq-c69]:before{content:\"\\\\e227\"}.glyphicon-jpy[_ngcontent-bbq-c69]:before, .glyphicon-yen[_ngcontent-bbq-c69]:before{content:\"\\\\00a5\"}.glyphicon-rub[_ngcontent-bbq-c69]:before, .glyphicon-ruble[_ngcontent-bbq-c69]:before{content:\"\\\\20bd\"}.glyphicon-scale[_ngcontent-bbq-c69]:before{content:\"\\\\e230\"}.glyphicon-ice-lolly[_ngcontent-bbq-c69]:before{content:\"\\\\e231\"}.glyphicon-ice-lolly-tasted[_ngcontent-bbq-c69]:before{content:\"\\\\e232\"}.glyphicon-education[_ngcontent-bbq-c69]:before{content:\"\\\\e233\"}.glyphicon-option-horizontal[_ngcontent-bbq-c69]:before{content:\"\\\\e234\"}.glyphicon-option-vertical[_ngcontent-bbq-c69]:before{content:\"\\\\e235\"}.glyphicon-menu-hamburger[_ngcontent-bbq-c69]:before{content:\"\\\\e236\"}.glyphicon-modal-window[_ngcontent-bbq-c69]:before{content:\"\\\\e237\"}.glyphicon-oil[_ngcontent-bbq-c69]:before{content:\"\\\\e238\"}.glyphicon-grain[_ngcontent-bbq-c69]:before{content:\"\\\\e239\"}.glyphicon-sunglasses[_ngcontent-bbq-c69]:before{content:\"\\\\e240\"}.glyphicon-text-size[_ngcontent-bbq-c69]:before{content:\"\\\\e241\"}.glyphicon-text-color[_ngcontent-bbq-c69]:before{content:\"\\\\e242\"}.glyphicon-text-background[_ngcontent-bbq-c69]:before{content:\"\\\\e243\"}.glyphicon-object-align-top[_ngcontent-bbq-c69]:before{content:\"\\\\e244\"}.glyphicon-object-align-bottom[_ngcontent-bbq-c69]:before{content:\"\\\\e245\"}.glyphicon-object-align-horizontal[_ngcontent-bbq-c69]:before{content:\"\\\\e246\"}.glyphicon-object-align-left[_ngcontent-bbq-c69]:before{content:\"\\\\e247\"}.glyphicon-object-align-vertical[_ngcontent-bbq-c69]:before{content:\"\\\\e248\"}.glyphicon-object-align-right[_ngcontent-bbq-c69]:before{content:\"\\\\e249\"}.glyphicon-triangle-right[_ngcontent-bbq-c69]:before{content:\"\\\\e250\"}.glyphicon-triangle-left[_ngcontent-bbq-c69]:before{content:\"\\\\e251\"}.glyphicon-triangle-bottom[_ngcontent-bbq-c69]:before{content:\"\\\\e252\"}.glyphicon-triangle-top[_ngcontent-bbq-c69]:before{content:\"\\\\e253\"}.glyphicon-console[_ngcontent-bbq-c69]:before{content:\"\\\\e254\"}.glyphicon-superscript[_ngcontent-bbq-c69]:before{content:\"\\\\e255\"}.glyphicon-subscript[_ngcontent-bbq-c69]:before{content:\"\\\\e256\"}.glyphicon-menu-left[_ngcontent-bbq-c69]:before{content:\"\\\\e257\"}.glyphicon-menu-right[_ngcontent-bbq-c69]:before{content:\"\\\\e258\"}.glyphicon-menu-down[_ngcontent-bbq-c69]:before{content:\"\\\\e259\"}.glyphicon-menu-up[_ngcontent-bbq-c69]:before{content:\"\\\\e260\"}</style><style>@font-face{font-family:onpe;src:url(onpe.cfae7b7aa6df056a16b4.eot?cjgfmj);src:url(onpe.cfae7b7aa6df056a16b4.eot?cjgfmj#iefix) format(\"embedded-opentype\"),url(onpe.dbdf35b27707f916328f.woff?cjgfmj) format(\"woff\"),url(onpe.98aa4bed3b925268dde6.svg?cjgfmj#onpe) format(\"svg\");font-weight:400;font-style:normal}@font-face{font-family:Michroma;src:url(Michroma.ace9ad8efc608262b70a.eot);src:url(Michroma.ace9ad8efc608262b70a.eot?#iefix) format(\"embedded-opentype\"),url(Michroma.712d9237b077a63586be.woff) format(\"woff\"),url(Michroma.30c88f7bd134d7118404.svg#Michroma) format(\"svg\");font-weight:400;font-style:normal}@font-face{font-family:Harabara;src:url(Harabara_3.ca41fa74d8a3e15854eb.eot);src:url(Harabara_3.ca41fa74d8a3e15854eb.eot?#iefix) format(\"embedded-opentype\"),url(Harabara_3.0d6c56aaeea115e76557.woff) format(\"woff\"),url(Harabara_3.422515099ebc1b30aac5.svg#Harabara_3) format(\"svg\");font-weight:400;font-style:normal}@font-face{font-family:GillSansMT;src:url(GillSansMT.b843c4e837c3cba8aa70.eot);src:url(GillSansMT.b843c4e837c3cba8aa70.eot?#iefix) format(\"embedded-opentype\"),url(GillSansMT.efa8f71cfc96580a44a3.woff) format(\"woff\"),url(GillSansMT.7b4c4c1d788468fdf68b.svg#GillSansMT) format(\"svg\");font-weight:400;font-style:normal}@font-face{font-family:GillSansMT;src:url(GillSansMT-Bold.0ee4780f0ba20d53521c.eot);src:url(GillSansMT-Bold.b57772d306ac9bb42ff6.woff) format(\"woff\"),url(GillSansMT-Bold.9dde853d1ef428e613ee.svg#GillSansMT-Bold) format(\"svg\");font-weight:700;font-style:normal}.tabla_resumen_pc[_ngcontent-bbq-c69]{display:block}.tabla_resumen_movil[_ngcontent-bbq-c69]{display:none}.bg_departamentos[_ngcontent-bbq-c69]{height:333px;width:100%;background-image:url(lima.a759ad236074c903551f.jpg);position:relative;margin-bottom:20px;background-size:cover}.bg_departamentos[_ngcontent-bbq-c69]   .tabla_distritoelecoral[_ngcontent-bbq-c69]{width:calc(100% - 20px);background-color:rgba(0,0,0,.6);color:#fff;position:absolute;bottom:10px;margin-bottom:0;margin-left:10px}.bg_departamentos[_ngcontent-bbq-c69]   .tabla_distritoelecoral[_ngcontent-bbq-c69]   td[_ngcontent-bbq-c69]{border-top:none}.bg_departamentos[_ngcontent-bbq-c69]   .tabla_distritoelecoral[_ngcontent-bbq-c69]   .borde_blanco[_ngcontent-bbq-c69]{border-left:1px solid #fff}.bg_sin_departamentos[_ngcontent-bbq-c69]   td[_ngcontent-bbq-c69]{border-right:1px solid #dee2e6;border-bottom:1px solid #dee2e6}[class*=\" icon-\"][_ngcontent-bbq-c69], [class^=icon-][_ngcontent-bbq-c69]{font-family:onpe!important;speak:none;font-style:normal;font-weight:400;font-variant:normal;text-transform:none;line-height:1;-webkit-font-smoothing:antialiased;-moz-osx-font-smoothing:grayscale}select[_ngcontent-bbq-c69]{border:1px solid #8ea3a6}.icon-resumengeneral[_ngcontent-bbq-c69]:before{content:\"\\\\e909\"}.icon-elec_regional[_ngcontent-bbq-c69]:before{content:\"\\\\e901\"}.icon-elec_municipal[_ngcontent-bbq-c69]:before{content:\"\\\\e902\"}.icon-actas[_ngcontent-bbq-c69]:before{content:\"\\\\e900\"}.icon-participacion[_ngcontent-bbq-c69]:before{content:\"\\\\e903\"}.icon-impresora[_ngcontent-bbq-c69]:before{content:\"\\\\e904\"}.icon-barras[_ngcontent-bbq-c69]:before{content:\"\\\\e905\"}.icon-info[_ngcontent-bbq-c69]:before{content:\"\\\\e906\"}.icon-regresar[_ngcontent-bbq-c69]:before{content:\"\\\\e907\"}.icon-buscar[_ngcontent-bbq-c69]:before{content:\"\\\\e908\"}.icon-excel[_ngcontent-bbq-c69]:before{content:\"\\\\e910\"}.icon-pdf[_ngcontent-bbq-c69]:before{content:\"\\\\e911\"}.icon-ico_face[_ngcontent-bbq-c69]:before{content:\"\\\\e912\"}.icon-ico_twitter[_ngcontent-bbq-c69]:before{content:\"\\\\e913\"}.icon-ico_youtube[_ngcontent-bbq-c69]:before{content:\"\\\\e914\"}.icon-ico_google[_ngcontent-bbq-c69]:before{content:\"\\\\e915\"}.icon-ico_flickr[_ngcontent-bbq-c69]:before{content:\"\\\\e916\"}.icon-ico_instagram[_ngcontent-bbq-c69]:before{content:\"\\\\e917\"}.icon-ico_presidencial[_ngcontent-bbq-c69]:before{content:\"\\\\e918\"}.icon-ico_d[_ngcontent-bbq-c69]:before{content:\"\\\\e919\"}.icon-ico_congresal[_ngcontent-bbq-c69]:before{content:\"\\\\e920\"}@font-face{font-family:Roboto;src:url(Roboto-Regular.18b9c674e55e6a14cfc3.eot);src:url(Roboto-Regular.18b9c674e55e6a14cfc3.eot?#iefix) format(\"embedded-opentype\"),url(Roboto-Regular.33a606d57e602ee71cbf.woff) format(\"woff\"),url(Roboto-Regular.3c73f832eb8eea27f132.svg#Roboto-Regular) format(\"svg\");font-weight:400;font-style:normal}@font-face{font-family:Roboto Condensed;src:url(RobotoCondensed-Regular_1.03817afbc5a5cb4cbb0f.eot);src:url(RobotoCondensed-Regular_1.03817afbc5a5cb4cbb0f.eot?#iefix) format(\"embedded-opentype\"),url(RobotoCondensed-Regular_1.98ef0e4f12856e641bf4.woff) format(\"woff\"),url(RobotoCondensed-Regular_1.86d0a588cf68a1147863.svg#RobotoCondensed-Regular_1) format(\"svg\");font-weight:400;font-style:normal}body[_ngcontent-bbq-c69]{font-family:Roboto,sans-serif!important;font-size:16px}a[_ngcontent-bbq-c69]:hover{cursor:pointer}.body_404[_ngcontent-bbq-c69]{padding-bottom:180px}.body_404[_ngcontent-bbq-c69], header[_ngcontent-bbq-c69]{position:relative}header[_ngcontent-bbq-c69]{text-align:center;background:#374e91;color:#fff;margin-bottom:20px}header[_ngcontent-bbq-c69]   h1[_ngcontent-bbq-c69]{width:100%;font-family:Roboto;font-size:1.5em;margin:0 0 .3em}header[_ngcontent-bbq-c69]   h2[_ngcontent-bbq-c69]{width:100%;margin:0;font-family:GillSansMT,sans-serif!important;line-height:1em;font-size:2.1em;font-weight:700}header[_ngcontent-bbq-c69]   .logo_eg2021[_ngcontent-bbq-c69]{width:auto;height:150px}.bg_home[_ngcontent-bbq-c69]{background:url(bg_home.f7464546728ba82408dc.jpg);margin-top:190px;z-index:-2}.col-60[_ngcontent-bbq-c69]{width:60%;float:left}.col-40[_ngcontent-bbq-c69]{width:40%;float:right;position:relative}.conte_botones[_ngcontent-bbq-c69]{width:100%;float:right;border-radius:15px;overflow:hidden;margin-bottom:20px}.conte_botones[_ngcontent-bbq-c69]   a[_ngcontent-bbq-c69]{color:#fff}.conte_botones[_ngcontent-bbq-c69]   a[_ngcontent-bbq-c69]   .glyphicon[_ngcontent-bbq-c69]{transition:all .3s}.conte_botones[_ngcontent-bbq-c69]   a[_ngcontent-bbq-c69]   .linea1[_ngcontent-bbq-c69]{margin-top:10px}.conte_botones[_ngcontent-bbq-c69]   a[_ngcontent-bbq-c69]   .bg_municipales[_ngcontent-bbq-c69]{width:100%;height:300px;background:url(municipales.767f5449163bfa91dcf1.jpg) no-repeat;background-size:100% auto;transition:all .7s}.conte_botones[_ngcontent-bbq-c69]   a[_ngcontent-bbq-c69]:hover{color:#fff;text-decoration:none}.conte_botones[_ngcontent-bbq-c69]   a[_ngcontent-bbq-c69]:hover   .glyphicon[_ngcontent-bbq-c69]{margin-left:5px}.conte_botones[_ngcontent-bbq-c69]   a[_ngcontent-bbq-c69]:hover   .bg_municipales[_ngcontent-bbq-c69]{width:100%;height:300px;background:url(municipales.767f5449163bfa91dcf1.jpg) no-repeat;background-size:130% auto}.home_botonera[_ngcontent-bbq-c69]{width:100%;padding:20px 10px 10px;overflow:hidden}.home_botonera[_ngcontent-bbq-c69]   .conte_botones[_ngcontent-bbq-c69]{width:50%;float:left;padding:0 10px;margin-bottom:20px}.home_botonera[_ngcontent-bbq-c69]   .conte_botones[_ngcontent-bbq-c69]   a[_ngcontent-bbq-c69]{color:#fff}.home_botonera[_ngcontent-bbq-c69]   .conte_botones[_ngcontent-bbq-c69]   a[_ngcontent-bbq-c69]   .glyphicon[_ngcontent-bbq-c69]{transition:all .3s}.home_botonera[_ngcontent-bbq-c69]   .conte_botones[_ngcontent-bbq-c69]   a[_ngcontent-bbq-c69]   .linea1[_ngcontent-bbq-c69]{margin-top:10px}.home_botonera[_ngcontent-bbq-c69]   .conte_botones[_ngcontent-bbq-c69]   a[_ngcontent-bbq-c69]   .bg_municipales[_ngcontent-bbq-c69]{width:100%;height:300px;background:url(municipales.767f5449163bfa91dcf1.jpg) no-repeat;background-size:100% auto;transition:all .7s}.home_botonera[_ngcontent-bbq-c69]   .conte_botones[_ngcontent-bbq-c69]   a[_ngcontent-bbq-c69]:hover{color:#fff;text-decoration:none}.home_botonera[_ngcontent-bbq-c69]   .conte_botones[_ngcontent-bbq-c69]   a[_ngcontent-bbq-c69]:hover   .glyphicon[_ngcontent-bbq-c69]{margin-top:5px}.home_botonera[_ngcontent-bbq-c69]   .conte_botones[_ngcontent-bbq-c69]   a[_ngcontent-bbq-c69]:hover   .bg_municipales[_ngcontent-bbq-c69]{width:100%;height:300px;background:url(municipales.767f5449163bfa91dcf1.jpg) no-repeat;background-size:130% auto}.banner_home[_ngcontent-bbq-c69]{background:url(banner.d2ba41d4355ce6692e52.jpg) #444c61 no-repeat;background-size:100% auto;min-height:267px;margin-bottom:20px;text-align:center;position:relative}.banner_home[_ngcontent-bbq-c69]   h3[_ngcontent-bbq-c69]{display:inline-block;font-size:2.5em;color:#fff;margin-top:-.1em;width:100%;left:0;text-align:center;text-shadow:0 0 8px #000;font-family:GillSansMT;font-weight:700}.banner_erm[_ngcontent-bbq-c69]{width:70%;float:left;background:url(bg_01.563097fd994657699033.jpg) #e2e2e2 no-repeat;background-size:100% auto;padding-bottom:4.5%;position:relative;margin-bottom:20px}.banner_erm[_ngcontent-bbq-c69]   .mapa_inicio[_ngcontent-bbq-c69]{width:40%;height:auto;margin-top:10%;margin-left:10%;padding-bottom:3%}.banner_homeeg2021[_ngcontent-bbq-c69]{margin-top:-170px;margin-bottom:20px;position:relative}.banner_homeeg2021[_ngcontent-bbq-c69]   .bg_bannereg2021[_ngcontent-bbq-c69]{width:100%;max-width:100%}.banner_homeeg2021[_ngcontent-bbq-c69]   .conte_btns_home_banner[_ngcontent-bbq-c69]{width:28%;position:absolute;left:36%;bottom:8%}.banner_homeeg2021[_ngcontent-bbq-c69]   .conte_btns_home_banner[_ngcontent-bbq-c69]   a[_ngcontent-bbq-c69]{width:100%;display:block;color:#fff;margin-bottom:10px}.banner_homeeg2021[_ngcontent-bbq-c69]   .conte_btns_home_banner[_ngcontent-bbq-c69]   a[_ngcontent-bbq-c69]   .btn_informativa[_ngcontent-bbq-c69]{padding-top:15px;padding-bottom:15px;padding-left:30px;text-align:center;position:relative}.banner_homeeg2021[_ngcontent-bbq-c69]   .conte_btns_home_banner[_ngcontent-bbq-c69]   a[_ngcontent-bbq-c69]   .glyphicon[_ngcontent-bbq-c69]{transition:all .3s}.banner_homeeg2021[_ngcontent-bbq-c69]   .conte_btns_home_banner[_ngcontent-bbq-c69]   a[_ngcontent-bbq-c69]:hover{color:#fff;text-decoration:none}.banner_homeeg2021[_ngcontent-bbq-c69]   .conte_btns_home_banner[_ngcontent-bbq-c69]   a[_ngcontent-bbq-c69]:hover   .glyphicon[_ngcontent-bbq-c69]{margin-left:5px}.banner_homeeg2021[_ngcontent-bbq-c69]   .conte_btns_home_banner[_ngcontent-bbq-c69]   .btn01[_ngcontent-bbq-c69]{background:#374e91}.banner_homeeg2021[_ngcontent-bbq-c69]   .conte_btns_home_banner[_ngcontent-bbq-c69]   .btn02[_ngcontent-bbq-c69]{background:#8d9dc3}.banner_emc[_ngcontent-bbq-c69]{width:100%;float:left;background:url(bg_01.563097fd994657699033.jpg) #e2e2e2 no-repeat;background-size:100% auto;padding-bottom:0;position:relative;margin-bottom:20px}.banner_emc[_ngcontent-bbq-c69]   .mapa_inicio[_ngcontent-bbq-c69]{width:39.4%;height:auto;margin-top:.1%;margin-left:0;padding-bottom:0}.banner_emc[_ngcontent-bbq-c69]   .transparente[_ngcontent-bbq-c69]{width:.87%;height:auto;margin-left:0;padding-bottom:0}.banner_emc[_ngcontent-bbq-c69]   .btn_informativa[_ngcontent-bbq-c69]{width:30%;position:absolute;right:3%;bottom:5%}.banner_emc[_ngcontent-bbq-c69]   .btn_informativa[_ngcontent-bbq-c69]   a[_ngcontent-bbq-c69]{color:#fff;margin-bottom:.5em}.banner_emc[_ngcontent-bbq-c69]   .btn_informativa[_ngcontent-bbq-c69]   a[_ngcontent-bbq-c69]   .btn01[_ngcontent-bbq-c69]{margin-top:1em}.banner_emc[_ngcontent-bbq-c69]   .btn_informativa[_ngcontent-bbq-c69]   a[_ngcontent-bbq-c69]   .glyphicon[_ngcontent-bbq-c69]{transition:all .3s}.banner_emc[_ngcontent-bbq-c69]   .btn_informativa[_ngcontent-bbq-c69]   a[_ngcontent-bbq-c69]:hover{color:#fff;text-decoration:none}.banner_emc[_ngcontent-bbq-c69]   .btn_informativa[_ngcontent-bbq-c69]   a[_ngcontent-bbq-c69]:hover   .glyphicon[_ngcontent-bbq-c69]{margin-top:5px}.btn_home[_ngcontent-bbq-c69]{display:block;clear:both;min-height:50px;text-align:center;padding:15px 10px 15px 20px;color:#fff;position:relative}.btn01[_ngcontent-bbq-c69]{background-color:#374e91}.btn02[_ngcontent-bbq-c69]{background-color:maroon}.btn03[_ngcontent-bbq-c69]{background-color:#8d9dc3}.btn04[_ngcontent-bbq-c69]{background-color:grey}.btn05[_ngcontent-bbq-c69]{background-color:#b38320}.btn06[_ngcontent-bbq-c69]{background-color:#832c31}.flechita_botones[_ngcontent-bbq-c69]{position:absolute;left:10px;top:20px}.pic[_ngcontent-bbq-c69]{width:100%;padding-top:52%;position:relative;overflow:hidden;float:left}.pic[_ngcontent-bbq-c69]   img[_ngcontent-bbq-c69]{width:100%;height:auto;position:absolute;top:0;left:0;bottom:0;right:0;transition:all .7s ease}.pic[_ngcontent-bbq-c69]:hover{cursor:pointer}.pic[_ngcontent-bbq-c69]:hover   img[_ngcontent-bbq-c69]{width:110%;height:auto}.logo_home[_ngcontent-bbq-c69]{width:50%;height:auto;margin-left:auto;margin-right:auto}.bottom20[_ngcontent-bbq-c69]{margin-bottom:20px}.negrita[_ngcontent-bbq-c69]{font-weight:700}.logo_onpe[_ngcontent-bbq-c69]{float:right}.logo_onpe[_ngcontent-bbq-c69]   img[_ngcontent-bbq-c69]{width:125px;height:auto}.logo_eleccion[_ngcontent-bbq-c69]{float:left;margin-left:-15px}.menuprincipal[_ngcontent-bbq-c69]{text-align:center}.menuprincipal[_ngcontent-bbq-c69]   .navbar[_ngcontent-bbq-c69]{float:right}.menuprincipal[_ngcontent-bbq-c69]   .icono_togglemenu[_ngcontent-bbq-c69]{display:none}.menuprincipal[_ngcontent-bbq-c69]   a[_ngcontent-bbq-c69]{display:block;width:100%;background:#fff;color:#374e91;min-height:69px;line-height:66px;margin-bottom:20px;font-size:1em;border-bottom:6px solid #be372e}.menuprincipal[_ngcontent-bbq-c69]   a[_ngcontent-bbq-c69]   .ico_menu[_ngcontent-bbq-c69]{font-size:2.2em;margin-right:10px}.menuprincipal[_ngcontent-bbq-c69]   a[_ngcontent-bbq-c69]   .texto_menu[_ngcontent-bbq-c69]{display:inline-block;line-height:1em;max-width:calc(100% - 63px)}.menuprincipal[_ngcontent-bbq-c69]   .btn_azul[_ngcontent-bbq-c69]{border-left:10px solid #374e91;transition:all .3s}.menuprincipal[_ngcontent-bbq-c69]   .azul_activo[_ngcontent-bbq-c69], .menuprincipal[_ngcontent-bbq-c69]   .btn_azul[_ngcontent-bbq-c69]:active, .menuprincipal[_ngcontent-bbq-c69]   .btn_azul[_ngcontent-bbq-c69]:hover{background:#374e91;color:#fff;text-decoration:none}.menuprincipal[_ngcontent-bbq-c69]   .azul_activo[_ngcontent-bbq-c69]   .ico_menu[_ngcontent-bbq-c69], .menuprincipal[_ngcontent-bbq-c69]   .btn_azul[_ngcontent-bbq-c69]:active   .ico_menu[_ngcontent-bbq-c69], .menuprincipal[_ngcontent-bbq-c69]   .btn_azul[_ngcontent-bbq-c69]:hover   .ico_menu[_ngcontent-bbq-c69]{fill:#fff}.menuprincipal[_ngcontent-bbq-c69]   .btn_acero[_ngcontent-bbq-c69]{border-left:10px solid #5f7a98;transition:all .3s}.menuprincipal[_ngcontent-bbq-c69]   .acero_activo[_ngcontent-bbq-c69], .menuprincipal[_ngcontent-bbq-c69]   .btn_acero[_ngcontent-bbq-c69]:active, .menuprincipal[_ngcontent-bbq-c69]   .btn_acero[_ngcontent-bbq-c69]:hover{background:#5f7a98;color:#fff;text-decoration:none}.menuprincipal[_ngcontent-bbq-c69]   .acero_activo[_ngcontent-bbq-c69]   .ico_menu[_ngcontent-bbq-c69], .menuprincipal[_ngcontent-bbq-c69]   .btn_acero[_ngcontent-bbq-c69]:active   .ico_menu[_ngcontent-bbq-c69], .menuprincipal[_ngcontent-bbq-c69]   .btn_acero[_ngcontent-bbq-c69]:hover   .ico_menu[_ngcontent-bbq-c69]{fill:#fff}.menuprincipal[_ngcontent-bbq-c69]   .btn_dorado[_ngcontent-bbq-c69]{border-left:10px solid #b38320;transition:all .3s}.menuprincipal[_ngcontent-bbq-c69]   .btn_dorado[_ngcontent-bbq-c69]:active, .menuprincipal[_ngcontent-bbq-c69]   .btn_dorado[_ngcontent-bbq-c69]:hover, .menuprincipal[_ngcontent-bbq-c69]   .dorado_activo[_ngcontent-bbq-c69]{background:#b38320;color:#fff;text-decoration:none}.menuprincipal[_ngcontent-bbq-c69]   .btn_dorado[_ngcontent-bbq-c69]:active   .ico_menu[_ngcontent-bbq-c69], .menuprincipal[_ngcontent-bbq-c69]   .btn_dorado[_ngcontent-bbq-c69]:hover   .ico_menu[_ngcontent-bbq-c69], .menuprincipal[_ngcontent-bbq-c69]   .dorado_activo[_ngcontent-bbq-c69]   .ico_menu[_ngcontent-bbq-c69]{fill:#fff}.menuprincipal[_ngcontent-bbq-c69]   .btn_celeste[_ngcontent-bbq-c69]{border-left:10px solid #3471a6;transition:all .3s}.menuprincipal[_ngcontent-bbq-c69]   .btn_celeste[_ngcontent-bbq-c69]:active, .menuprincipal[_ngcontent-bbq-c69]   .btn_celeste[_ngcontent-bbq-c69]:hover, .menuprincipal[_ngcontent-bbq-c69]   .celeste_activo[_ngcontent-bbq-c69]{background:#3471a6;color:#fff;text-decoration:none}.menuprincipal[_ngcontent-bbq-c69]   .btn_celeste[_ngcontent-bbq-c69]:active   .ico_menu[_ngcontent-bbq-c69], .menuprincipal[_ngcontent-bbq-c69]   .btn_celeste[_ngcontent-bbq-c69]:hover   .ico_menu[_ngcontent-bbq-c69], .menuprincipal[_ngcontent-bbq-c69]   .celeste_activo[_ngcontent-bbq-c69]   .ico_menu[_ngcontent-bbq-c69]{fill:#fff}.menuprincipal[_ngcontent-bbq-c69]   .btn_rojo[_ngcontent-bbq-c69]{transition:all .3s}.menuprincipal[_ngcontent-bbq-c69]   .btn_rojo[_ngcontent-bbq-c69]:active, .menuprincipal[_ngcontent-bbq-c69]   .btn_rojo[_ngcontent-bbq-c69]:hover, .menuprincipal[_ngcontent-bbq-c69]   .rojo_activo[_ngcontent-bbq-c69]{background:#be372e;color:#fff;text-decoration:none}.menuprincipal[_ngcontent-bbq-c69]   .btn_rojo[_ngcontent-bbq-c69]:active   .ico_menu[_ngcontent-bbq-c69], .menuprincipal[_ngcontent-bbq-c69]   .btn_rojo[_ngcontent-bbq-c69]:hover   .ico_menu[_ngcontent-bbq-c69], .menuprincipal[_ngcontent-bbq-c69]   .rojo_activo[_ngcontent-bbq-c69]   .ico_menu[_ngcontent-bbq-c69]{fill:#fff}.tabs_submenu[_ngcontent-bbq-c69]{border-bottom:6px solid #8d9dc3}.nav-item[_ngcontent-bbq-c69], .nav-itemactas[_ngcontent-bbq-c69]{margin-right:3px;margin-bottom:0!important}.nav-tabs[_ngcontent-bbq-c69]   .nav-link[_ngcontent-bbq-c69]{background:#e2e2e2;color:#0f2241}.nav-tabs[_ngcontent-bbq-c69]   .active[_ngcontent-bbq-c69], .nav-tabs[_ngcontent-bbq-c69]   .nav-link[_ngcontent-bbq-c69]:hover{background:#8d9dc3!important;border:1px solid #8d9dc3!important;color:#fff!important}.subtitulo[_ngcontent-bbq-c69]{display:flex;align-items:center;background:#3e679b;color:#fff;min-height:47px;margin-bottom:20px;border-left:14px solid #8aa3c2;padding-left:30px;position:relative}.subtitulo[_ngcontent-bbq-c69]   h2[_ngcontent-bbq-c69]{margin:0;padding:0;font-size:2.125em;font-family:Roboto Condensed,sans-serif}.subtitulo[_ngcontent-bbq-c69]   span[_ngcontent-bbq-c69]{display:block}.subtitulo[_ngcontent-bbq-c69]   .botonera_print[_ngcontent-bbq-c69]{position:absolute;bottom:10px;right:10px}.subtitulo[_ngcontent-bbq-c69]   .btn_print[_ngcontent-bbq-c69]{border:1px solid #fff;color:#fff;margin-left:7px;padding:2px 10px 0}.subtitulo[_ngcontent-bbq-c69]   .btn_print[_ngcontent-bbq-c69]   .icon-excel[_ngcontent-bbq-c69], .subtitulo[_ngcontent-bbq-c69]   .btn_print[_ngcontent-bbq-c69]   .icon-impresora[_ngcontent-bbq-c69], .subtitulo[_ngcontent-bbq-c69]   .btn_print[_ngcontent-bbq-c69]   .icon-pdf[_ngcontent-bbq-c69]{display:inline-block;margin-right:5px}.subtitulo[_ngcontent-bbq-c69]   .btn_print[_ngcontent-bbq-c69]:hover{background:#fff!important;color:#3e679b!important;text-decoration:none}.subtitulo_azul[_ngcontent-bbq-c69]{display:flex;align-items:center;background:#3e679b;color:#fff;margin-bottom:20px;border-left:14px solid #8aa3c2;padding-left:30px;padding-top:10px;padding-bottom:10px;position:relative}.subtitulo_azul[_ngcontent-bbq-c69]   h2[_ngcontent-bbq-c69]{margin:0;padding:0;font-size:2.125em;font-family:Roboto Condensed,sans-serif}.subtitulo_detalle_candidato[_ngcontent-bbq-c69]{display:block;align-items:center;background:#3e679b;color:#fff;margin-bottom:20px;border-left:14px solid #8aa3c2;padding-left:30px;padding-top:10px;padding-bottom:10px;position:relative}.subtitulo_detalle_candidato[_ngcontent-bbq-c69]   h3[_ngcontent-bbq-c69]{margin:0;padding:0;font-size:1.4em;text-align:center;font-family:Roboto Condensed,sans-serif}.centrar_vertical[_ngcontent-bbq-c69]{vertical-align:middle}.lista_resoluciones[_ngcontent-bbq-c69]{color:#0f2241}.lista_resoluciones[_ngcontent-bbq-c69]   ul[_ngcontent-bbq-c69]{list-style:none}.lista_resoluciones[_ngcontent-bbq-c69]   .glyphicon[_ngcontent-bbq-c69]{color:#3e679b;font-size:1.5em;padding-right:.3em}.borde_gris[_ngcontent-bbq-c69]{padding:10px;margin-bottom:20px;border:1px solid #8ea3a6}.input_mesas[_ngcontent-bbq-c69]{width:calc(100% - 130px);border-radius:4px;border:1px solid #cacaca;text-align:center;display:inline-block;height:auto;padding:0 5px}.btn_buscar[_ngcontent-bbq-c69]{background:#03618a;color:#fff!important;display:inline-block;padding:4px 20px;border:none;float:right;margin-top:-2px}.btn_buscar[_ngcontent-bbq-c69]   .icon-buscar[_ngcontent-bbq-c69]{display:inline-block;margin-right:10px}.btn_buscar[_ngcontent-bbq-c69]:hover{background:#0083c3;color:#fff}.btn_detalle[_ngcontent-bbq-c69]{background:#03618a;color:#fff!important;padding:6px 8px 3px;text-align:center}.btn_detalle[_ngcontent-bbq-c69], .btn_detalle[_ngcontent-bbq-c69]   .icon-buscar[_ngcontent-bbq-c69]{display:inline-block}.btn_detalle[_ngcontent-bbq-c69]:hover{background:#0083c3;color:#fff}.btn_regresar[_ngcontent-bbq-c69]{background:#03618a;color:#fff!important;display:inline-block;padding:4px 20px;float:right;margin-bottom:20px}.btn_regresar[_ngcontent-bbq-c69]   .icon-regresar[_ngcontent-bbq-c69]{display:inline-block;margin-right:10px}.btn_regresar[_ngcontent-bbq-c69]:hover{background:#0083c3;color:#fff}.conte_mesas[_ngcontent-bbq-c69]{width:calc(100% + 2px);display:flex;flex-wrap:wrap;margin:-1px -1px 20px;justify-content:flex-start}.conte_mesas[_ngcontent-bbq-c69]   .mesas[_ngcontent-bbq-c69]{width:calc(20% - 2px);border:none;margin:1px;text-align:center;padding-top:8px;padding-bottom:6px}.procesada_con[_ngcontent-bbq-c69]{background:#b6cdf6}.procesada_con[_ngcontent-bbq-c69]   a[_ngcontent-bbq-c69]{color:#104d82}.procesada_sin[_ngcontent-bbq-c69]{background:#c1c1c1}.procesada_sin[_ngcontent-bbq-c69]   a[_ngcontent-bbq-c69]{color:#252525}.sin_procesar[_ngcontent-bbq-c69]{background:#efd2a8}.sin_procesar[_ngcontent-bbq-c69]   a[_ngcontent-bbq-c69]{color:#8a6d3b}.procesada_con[_ngcontent-bbq-c69]:hover, .procesada_sinn[_ngcontent-bbq-c69]:hover, .sin_procesar[_ngcontent-bbq-c69]:hover{text-decoration:underline}.leyenda_mesas[_ngcontent-bbq-c69]{padding:10px;margin-bottom:20px;border:1px solid #8ea3a6}.leyenda_mesas[_ngcontent-bbq-c69]   .icoleyend[_ngcontent-bbq-c69]{width:20px;height:20px;display:inline-block;margin-top:4px}.leyenda_mesas[_ngcontent-bbq-c69]   span[_ngcontent-bbq-c69]{display:inline-block}.centrar[_ngcontent-bbq-c69]{width:100%;height:100%;text-align:center;display:table-cell}.foto_agrupacion[_ngcontent-bbq-c69]{width:50px;height:50px}.foto_agrupacion_titulo[_ngcontent-bbq-c69]{width:100px;height:100px}.conte_paginador[_ngcontent-bbq-c69]{display:inline-block;margin-top:5px;margin-bottom:25px}.pagination[_ngcontent-bbq-c69]{display:inline-block;padding-left:0;margin:-14px 0;border-radius:4px}.pagination[_ngcontent-bbq-c69] > li[_ngcontent-bbq-c69]{display:inline}.pagination[_ngcontent-bbq-c69] > li[_ngcontent-bbq-c69] > a[_ngcontent-bbq-c69], .pagination[_ngcontent-bbq-c69] > li[_ngcontent-bbq-c69] > span[_ngcontent-bbq-c69]{position:relative;float:left;padding:6px 12px;margin-left:-1px;line-height:1.42857143;color:#337ab7;text-decoration:none;background-color:#fff;border:1px solid #ddd}.pagination[_ngcontent-bbq-c69] > li[_ngcontent-bbq-c69]:first-child > a[_ngcontent-bbq-c69], .pagination[_ngcontent-bbq-c69] > li[_ngcontent-bbq-c69]:first-child > span[_ngcontent-bbq-c69]{margin-left:0;border-top-left-radius:4px;border-bottom-left-radius:4px}.pagination[_ngcontent-bbq-c69] > li[_ngcontent-bbq-c69]:last-child > a[_ngcontent-bbq-c69], .pagination[_ngcontent-bbq-c69] > li[_ngcontent-bbq-c69]:last-child > span[_ngcontent-bbq-c69]{border-top-right-radius:4px;border-bottom-right-radius:4px}.pagination[_ngcontent-bbq-c69] > .active[_ngcontent-bbq-c69] > a[_ngcontent-bbq-c69], .pagination[_ngcontent-bbq-c69] > .active[_ngcontent-bbq-c69] > a[_ngcontent-bbq-c69]:focus, .pagination[_ngcontent-bbq-c69] > .active[_ngcontent-bbq-c69] > a[_ngcontent-bbq-c69]:hover, .pagination[_ngcontent-bbq-c69] > .active[_ngcontent-bbq-c69] > span[_ngcontent-bbq-c69], .pagination[_ngcontent-bbq-c69] > .active[_ngcontent-bbq-c69] > span[_ngcontent-bbq-c69]:focus, .pagination[_ngcontent-bbq-c69] > .active[_ngcontent-bbq-c69] > span[_ngcontent-bbq-c69]:hover{z-index:3;color:#fff;cursor:default;background-color:#337ab7;border-color:#337ab7}.mapa[_ngcontent-bbq-c69]{width:100%;background-color:#eee;border:1px solid #8ea3a6;height:450px}.texto_centrado[_ngcontent-bbq-c69]{text-align:center}.tabla_datos[_ngcontent-bbq-c69]{font-family:Roboto Condensed,sans-serif}.tabla_datos[_ngcontent-bbq-c69]   td[_ngcontent-bbq-c69]{vertical-align:middle}.tabla_datos[_ngcontent-bbq-c69]   td[_ngcontent-bbq-c69]   h1[_ngcontent-bbq-c69]{font-size:2.125em}.tabla_datos[_ngcontent-bbq-c69]   td[_ngcontent-bbq-c69]   h1[_ngcontent-bbq-c69], .tabla_datos[_ngcontent-bbq-c69]   td[_ngcontent-bbq-c69]   h2[_ngcontent-bbq-c69]{padding:0;margin:0;line-height:1em}.tabla_datos[_ngcontent-bbq-c69]   td[_ngcontent-bbq-c69]   h3[_ngcontent-bbq-c69]{padding:0;margin:0;font-size:1.125em}.tabla_datos[_ngcontent-bbq-c69]   span[_ngcontent-bbq-c69]{font-size:.875em;display:inline-block;line-height:1em}.tabla_datos[_ngcontent-bbq-c69]   .col_azul[_ngcontent-bbq-c69]{background-color:#366288;color:#fff}.tabla_datos[_ngcontent-bbq-c69]   .glyphicon[_ngcontent-bbq-c69]{color:#afbccb}.tabla_pc[_ngcontent-bbq-c69]{display:block}.tabla_movil[_ngcontent-bbq-c69]{display:none}.borde_acero[_ngcontent-bbq-c69]{border-left:14px solid #afbccb}.cont_selects_ubigeo[_ngcontent-bbq-c69]{background:#e2e2e2;margin-bottom:20px;padding:15px 25px}.cont_selects_ubigeo[_ngcontent-bbq-c69]   .linea_der[_ngcontent-bbq-c69]{border-right:1px solid #959595}.cont_selects_ubigeo[_ngcontent-bbq-c69]   label[_ngcontent-bbq-c69]{margin:0}.cont_selects_ubigeo[_ngcontent-bbq-c69]   .select_ubigeo[_ngcontent-bbq-c69]{width:100%;box-sizing:border-box;border-radius:4px;padding:2px}.conte_bordeazul[_ngcontent-bbq-c69]{border:1px solid #dee2e6;border-left:14px solid #afbccb;margin-bottom:15px}.conte_bordeazul[_ngcontent-bbq-c69]   .conte_selects[_ngcontent-bbq-c69]{padding:15px 30px}.conte_bordeazul[_ngcontent-bbq-c69]   .conte_cabecera[_ngcontent-bbq-c69]{padding:12px 15px;font-family:Roboto Condensed,sans-serif}.conte_bordeazul[_ngcontent-bbq-c69]   .conte_cabecera[_ngcontent-bbq-c69]   h1[_ngcontent-bbq-c69]{padding:0;margin:0;font-size:2.125em;line-height:1em}.conte_bordeazul[_ngcontent-bbq-c69]   .conte_cabecera[_ngcontent-bbq-c69]   h3[_ngcontent-bbq-c69]{padding:0;margin:0;font-size:1.125em}.conte_bordeazul[_ngcontent-bbq-c69]   .glyphicon[_ngcontent-bbq-c69]{color:#afbccb}.conte_bordeazul[_ngcontent-bbq-c69]   label[_ngcontent-bbq-c69]{width:100%;margin:0}.conte_bordeazul[_ngcontent-bbq-c69]   select[_ngcontent-bbq-c69]{width:100%;box-sizing:border-box;border-radius:4px;padding:2px}.conte_bordeazul[_ngcontent-bbq-c69]   span[_ngcontent-bbq-c69]{font-size:.875em}.conte_select_region[_ngcontent-bbq-c69]{width:100%;box-sizing:border-box;border-radius:4px;padding:2px}.graficos_resultados[_ngcontent-bbq-c69]{width:100%;height:310px;border:1px solid #8ea3a6}.graficos_resultados_totales[_ngcontent-bbq-c69]{width:100%;height:358px;border:1px solid #8ea3a6}.graficos_barras_resultados[_ngcontent-bbq-c69]{width:100%;height:335px;border:1px solid #8ea3a6}.graficos_dist_electoral[_ngcontent-bbq-c69]{width:100%;height:900px;border:1px solid #8ea3a6}.graficos_resumen[_ngcontent-bbq-c69]{width:100%;height:648px;border:1px solid #8ea3a6}.graficos_candidatos[_ngcontent-bbq-c69]{width:100%;background:url(bg_candidatos.340f1821c488e4ebf7c9.jpg) no-repeat;background-size:cover;border:1px solid #8ea3a6}.graficos_candidatos[_ngcontent-bbq-c69]   ul[_ngcontent-bbq-c69]{width:100%;height:100%;display:flex;justify-content:center;align-items:center;margin-bottom:10px;margin-top:10px;padding:0 0 0 15px}.graficos_candidatos[_ngcontent-bbq-c69]   ul[_ngcontent-bbq-c69]   li[_ngcontent-bbq-c69]{display:inline-flex;position:relative;max-width:16.66%}.graficos_candidatos[_ngcontent-bbq-c69]   .bg_foto_candidato[_ngcontent-bbq-c69]{width:100%;height:auto;max-width:100%;margin-left:-10px;margin-right:-10px}.graficos_candidatos[_ngcontent-bbq-c69]   .bg_foto_candidato[_ngcontent-bbq-c69]   img[_ngcontent-bbq-c69]{max-width:100%}.graficos_candidatos[_ngcontent-bbq-c69]   .porcetaje_votos[_ngcontent-bbq-c69]{font-family:Roboto,sans-serif;width:100%;padding-right:15%;position:absolute;bottom:-5px;text-align:center;font-size:1.4vw;color:#fff;font-style:italic}.gutters-20[_ngcontent-bbq-c69]{margin-right:-10px;margin-left:-10px}.gutters-20[_ngcontent-bbq-c69] > .col[_ngcontent-bbq-c69], .gutters-20[_ngcontent-bbq-c69] > [class*=col-][_ngcontent-bbq-c69]{padding-right:10px;padding-left:10px}.leyend_crema[_ngcontent-bbq-c69]{display:block;background:#8d9dc3;color:#fff;text-align:center;padding:10px;margin-bottom:20px}.leyend_crema[_ngcontent-bbq-c69]   .formula[_ngcontent-bbq-c69]{display:inline-block;margin-left:10px}.leyend_crema[_ngcontent-bbq-c69]   .formula[_ngcontent-bbq-c69]   hr[_ngcontent-bbq-c69]{border:1px solid #fff;margin:0}.subtitulo_dorado[_ngcontent-bbq-c69]{background:#b38320;color:#fff;margin-top:10px;font-size:1.125em;padding:10px}.centrar_conteleyend[_ngcontent-bbq-c69]{display:inline-block}.centrar_conteleyend[_ngcontent-bbq-c69]   .datos_leyend[_ngcontent-bbq-c69]{display:inline-block;list-style:none;margin:0 0 0 20px;padding:0;color:#fff;font-size:1em;text-align:left}.centrar_conteleyend[_ngcontent-bbq-c69]   .simbolo_leyend[_ngcontent-bbq-c69]{display:inline-block}.leyenda[_ngcontent-bbq-c69]{padding:0;margin:0 0 20px;list-style:none;font-size:1em}.tablas[_ngcontent-bbq-c69], .tablas[_ngcontent-bbq-c69]   th[_ngcontent-bbq-c69]{border:1px solid #cacaca}.tablas[_ngcontent-bbq-c69]   th[_ngcontent-bbq-c69]{background:#374e91;color:#fff;text-align:center;font-weight:400}.tablas[_ngcontent-bbq-c69]   td[_ngcontent-bbq-c69]{border:1px solid #cacaca;padding-top:.5em;padding-bottom:.5em}.tablas[_ngcontent-bbq-c69]   .pad_lef40[_ngcontent-bbq-c69]{padding-left:40px}.tablas[_ngcontent-bbq-c69]   .td_totales[_ngcontent-bbq-c69]   td[_ngcontent-bbq-c69]{background:#fff6c4;color:#5c3500;font-weight:700}.tabla_resultado[_ngcontent-bbq-c69]   th[_ngcontent-bbq-c69]{text-align:center;border:1px solid #cacaca}.tabla_resultado[_ngcontent-bbq-c69]   td[_ngcontent-bbq-c69]{padding-top:.2em;padding-bottom:.2em;border:1px solid #cacaca;vertical-align:middle}.tabla_resultado[_ngcontent-bbq-c69]   .datos_voto[_ngcontent-bbq-c69]   td[_ngcontent-bbq-c69]{padding:.5em}.tabla_resultado[_ngcontent-bbq-c69]   .tabla_fijo[_ngcontent-bbq-c69]{table-layout:fixed}.table-scroll1[_ngcontent-bbq-c69], .table-wrap[_ngcontent-bbq-c69]{width:100%;overflow-x:scroll;overflow-y:hidden}.table-scroll1[_ngcontent-bbq-c69]{height:20px;margin-bottom:10px}.table-scroll[_ngcontent-bbq-c69]{position:relative;max-width:100%;margin:auto;overflow:hidden}.table-wrap[_ngcontent-bbq-c69]{width:100%;overflow:auto;padding-bottom:20px}.table-scroll[_ngcontent-bbq-c69]   table[_ngcontent-bbq-c69]{width:100%;margin:auto;border-spacing:0}.table-scroll[_ngcontent-bbq-c69]   tfoot[_ngcontent-bbq-c69], .table-scroll[_ngcontent-bbq-c69]   thead[_ngcontent-bbq-c69]{background:#f9f9f9}.clone[_ngcontent-bbq-c69]{position:absolute;top:0;left:0;pointer-events:none}.clone[_ngcontent-bbq-c69]   td[_ngcontent-bbq-c69], .clone[_ngcontent-bbq-c69]   th[_ngcontent-bbq-c69]{visibility:hidden;border-color:transparent}.clone[_ngcontent-bbq-c69]   tbody[_ngcontent-bbq-c69]   th[_ngcontent-bbq-c69]{visibility:visible}.clone[_ngcontent-bbq-c69]   .fixed-side[_ngcontent-bbq-c69]{border:1px solid #cacaca;background:#fff;visibility:visible}.clone[_ngcontent-bbq-c69]   tfoot[_ngcontent-bbq-c69], .clone[_ngcontent-bbq-c69]   thead[_ngcontent-bbq-c69]{background:transparent}.clone[_ngcontent-bbq-c69]   tr[_ngcontent-bbq-c69]:nth-of-type(odd)   td[_ngcontent-bbq-c69], .clone[_ngcontent-bbq-c69]   tr[_ngcontent-bbq-c69]:nth-of-type(odd)   th[_ngcontent-bbq-c69]{background-color:#f2f2f2}.titulo_td[_ngcontent-bbq-c69]{padding:.75rem!important}.tabla_participacion[_ngcontent-bbq-c69]   th[_ngcontent-bbq-c69]{text-align:center;border:1px solid #969696;padding-top:1.1em;padding-bottom:1.1em;background:#d1d1d1}.tabla_participacion[_ngcontent-bbq-c69]   .cabeceradorada[_ngcontent-bbq-c69]   th[_ngcontent-bbq-c69]{background:#374e91;border-left:1px solid #fff;border-right:1px solid #fff;color:#fff}.tabla_participacion[_ngcontent-bbq-c69]   td[_ngcontent-bbq-c69]{padding-top:.7em;padding-bottom:.7em;border:1px solid #cacaca;vertical-align:middle}.tabla_participacion[_ngcontent-bbq-c69]   .datos_voto[_ngcontent-bbq-c69]   td[_ngcontent-bbq-c69]{padding:.5em}.datos_participacion[_ngcontent-bbq-c69]   .leyend_crema[_ngcontent-bbq-c69]{padding:17px 10px}.cabecera_dorada[_ngcontent-bbq-c69]{background:#374e91;color:#fff;padding:.75rem;border-left:14px solid #8d9dc3}.img_acta[_ngcontent-bbq-c69]{max-width:100%;height:auto}.top20[_ngcontent-bbq-c69]{margin-top:20px}footer[_ngcontent-bbq-c69]{clear:both;background:#374e91;color:#fff;text-align:center;padding:1.2em 0;font-size:.8em;overflow:hidden;font-family:GillSansMT}footer[_ngcontent-bbq-c69]   .centrar_footer[_ngcontent-bbq-c69]{width:100%;margin:0 auto;display:flex;align-content:center;justify-content:center;align-items:center}footer[_ngcontent-bbq-c69]   .titulo_footer[_ngcontent-bbq-c69]{color:#fff;font-size:1.5em;margin:.2em 0;float:left;padding-right:1em;text-align:right;font-weight:700}footer[_ngcontent-bbq-c69]   .datos_footer[_ngcontent-bbq-c69]{float:right;padding-left:3em;text-align:center}footer[_ngcontent-bbq-c69]   .separador_footer[_ngcontent-bbq-c69]{margin-left:1em;margin-right:1em}footer[_ngcontent-bbq-c69]   .correo[_ngcontent-bbq-c69]{color:#fff}footer[_ngcontent-bbq-c69]   .correo[_ngcontent-bbq-c69]:hover{text-decoration:underline;color:#fff}footer[_ngcontent-bbq-c69]   a[_ngcontent-bbq-c69]{color:#fff;margin-right:.2em}footer[_ngcontent-bbq-c69]   a[_ngcontent-bbq-c69]:hover{color:#677796;text-decoration:none}footer[_ngcontent-bbq-c69]   p[_ngcontent-bbq-c69]{margin:0;padding:0;font-weight:400;font-size:1.2em;text-align:center}footer[_ngcontent-bbq-c69]   .social_medias[_ngcontent-bbq-c69]{color:#fff;font-size:2.5em}.footer_404[_ngcontent-bbq-c69]{width:100%;position:fixed;bottom:0}.p404[_ngcontent-bbq-c69]{margin-top:100px;margin-bottom:200px}.barra_noencontrada1[_ngcontent-bbq-c69]{background:#3471a3;font-size:26px}.barra_noencontrada1[_ngcontent-bbq-c69], .barra_noencontrada2[_ngcontent-bbq-c69]{color:#fff;text-align:center;height:60px;line-height:60px}.barra_noencontrada2[_ngcontent-bbq-c69]{background:#8aa3c2;font-size:50px;font-weight:lighter}.conte_btn_irinicio[_ngcontent-bbq-c69]{text-align:center;border-left:5px solid #3471a3}.btn_irinicio[_ngcontent-bbq-c69]{font-family:Roboto,sans-serif;font-weight:700;background:url(btn_irinicio.5762a127ebd33031b0e2.png) no-repeat;width:296px;height:78px;border:none;color:#fff;box-sizing:border-box;padding-left:80px;font-size:25px;line-height:25px;margin-top:40px}.img_404[_ngcontent-bbq-c69]{width:164px;height:160px}.cont_img_404[_ngcontent-bbq-c69]{width:35%;float:left;text-align:right}.txt_pag404[_ngcontent-bbq-c69]{font-family:Roboto,sans-serif;width:65%;color:#3471a3;font-size:50px;line-height:50px;font-weight:700;float:left;padding-top:60px}.bottom_404[_ngcontent-bbq-c69]{margin-top:20px}.laptop_mantenimiento[_ngcontent-bbq-c69]{width:307px;height:240px}.barra_mantenimiento[_ngcontent-bbq-c69]{width:306px;height:43px;margin-top:4px}.txt_mantenimiento[_ngcontent-bbq-c69]{font-family:Roboto,sans-serif;color:#3471a3;font-size:38px;line-height:38px;text-align:left;font-weight:700;float:left;padding-top:60px}.conte_mantenimiento[_ngcontent-bbq-c69]{text-align:left;border-left:5px solid #3471a3;padding-left:80px;box-sizing:border-box}.centrar_laptop[_ngcontent-bbq-c69]{text-align:center}@media (max-width:1730px){.txt_pag404[_ngcontent-bbq-c69]{font-size:40px;line-height:40px}.img_404[_ngcontent-bbq-c69]{width:140px;height:137px}}@media (max-width:1600px){.btn_irinicio[_ngcontent-bbq-c69]{width:250px;height:66px;background-size:contain;padding-left:60px;font-size:16px;line-height:16px}.txt_pag404[_ngcontent-bbq-c69]{font-size:36px;line-height:36px}.barra_noencontrada1[_ngcontent-bbq-c69]{font-size:22px}}@media (max-width:1200px){.banner_home[_ngcontent-bbq-c69]   h3[_ngcontent-bbq-c69]{font-size:1.6em}.item_menu[_ngcontent-bbq-c69]{flex:0 0 33.333333%;max-width:33.333333%}}@media (max-width:1450px){.menuprincipal[_ngcontent-bbq-c69]   a[_ngcontent-bbq-c69]{font-size:.9em}.menuprincipal[_ngcontent-bbq-c69]   a[_ngcontent-bbq-c69]   .ico_menu[_ngcontent-bbq-c69]{font-size:2.1em}.conte_mantenimiento[_ngcontent-bbq-c69]{border-left:5px solid #3471a3;padding-left:50px}.laptop_mantenimiento[_ngcontent-bbq-c69]{width:231px;height:181px}.barra_mantenimiento[_ngcontent-bbq-c69]{width:231px;height:32px;margin-top:4px}.txt_mantenimiento[_ngcontent-bbq-c69]{font-size:26px;line-height:26px;padding-top:40px}}@media (max-width:1366px){.menuprincipal[_ngcontent-bbq-c69]   a[_ngcontent-bbq-c69]{font-size:.95em}.menuprincipal[_ngcontent-bbq-c69]   a[_ngcontent-bbq-c69]   .ico_menu[_ngcontent-bbq-c69]{font-size:2.2em}.banner_home[_ngcontent-bbq-c69]   h3[_ngcontent-bbq-c69]{font-size:2.1em}.home_iz[_ngcontent-bbq-c69]   .conte_botones[_ngcontent-bbq-c69]   a[_ngcontent-bbq-c69]   .pic[_ngcontent-bbq-c69]{padding-top:127.6%}.banner_erm[_ngcontent-bbq-c69]   .logo_erm2018[_ngcontent-bbq-c69]{margin-top:52.4%}.tabla_datos[_ngcontent-bbq-c69]   td[_ngcontent-bbq-c69]{padding:.4em}.tabla_datos[_ngcontent-bbq-c69]   td[_ngcontent-bbq-c69]   h2[_ngcontent-bbq-c69]{font-size:1.9em}.txt_pag404[_ngcontent-bbq-c69]{font-size:35px;line-height:35px;padding-top:48px}.img_404[_ngcontent-bbq-c69]{width:117px;height:114px}.btn_irinicio[_ngcontent-bbq-c69]{width:210px;height:55px;background-size:contain;padding-left:55px;font-size:16px;line-height:16px}.barra_noencontrada1[_ngcontent-bbq-c69]{font-size:18px}.conte_mantenimiento[_ngcontent-bbq-c69]{border-left:5px solid #3471a3;padding-left:40px}.laptop_mantenimiento[_ngcontent-bbq-c69]{width:219px;height:171px}.barra_mantenimiento[_ngcontent-bbq-c69]{width:218px;height:30px;margin-top:4px}.txt_mantenimiento[_ngcontent-bbq-c69]{font-size:27px;line-height:27px;padding-top:40px}}@media (max-width:1130px){body[_ngcontent-bbq-c69]{font-size:14px}header[_ngcontent-bbq-c69]   h1[_ngcontent-bbq-c69]{font-size:1.2em}header[_ngcontent-bbq-c69]   h2[_ngcontent-bbq-c69]{font-size:1.6em}.menuprincipal[_ngcontent-bbq-c69]   a[_ngcontent-bbq-c69]{padding-left:10px;padding-right:10px;font-size:1em;min-height:70px;line-height:68px}.menuprincipal[_ngcontent-bbq-c69]   a[_ngcontent-bbq-c69]   .ico_menu[_ngcontent-bbq-c69]{font-size:2em}.logo_onpe[_ngcontent-bbq-c69]   img[_ngcontent-bbq-c69]{width:120px;height:auto}.logo_eleccion[_ngcontent-bbq-c69]   img[_ngcontent-bbq-c69]{width:207px;height:auto}.subtitulo[_ngcontent-bbq-c69]{min-height:110px;font-size:.84em}.tabla_pc[_ngcontent-bbq-c69]{display:none}.tabla_movil[_ngcontent-bbq-c69]{display:block}}@media screen and (min-width:993px) and (max-width:1050px){.tablas[_ngcontent-bbq-c69]   th[_ngcontent-bbq-c69]{line-height:1em;padding-left:.5em;padding-right:.5em}.tablas[_ngcontent-bbq-c69]   td[_ngcontent-bbq-c69], .tablas[_ngcontent-bbq-c69]   th[_ngcontent-bbq-c69]{font-size:1em}.tabla_datos[_ngcontent-bbq-c69]   td[_ngcontent-bbq-c69]{padding:.4em}.tabla_datos[_ngcontent-bbq-c69]   td[_ngcontent-bbq-c69]   h2[_ngcontent-bbq-c69]{font-size:1.6em}.home_iz[_ngcontent-bbq-c69]   .conte_botones[_ngcontent-bbq-c69]   a[_ngcontent-bbq-c69]   .pic[_ngcontent-bbq-c69]{padding-top:115.4%}}@media (max-width:992px){header[_ngcontent-bbq-c69]   h1[_ngcontent-bbq-c69]{font-size:.96em}header[_ngcontent-bbq-c69]   h2[_ngcontent-bbq-c69]{font-size:1.28em}.banner_home[_ngcontent-bbq-c69]   h3[_ngcontent-bbq-c69]{font-size:1.6em}.graficos_candidatos[_ngcontent-bbq-c69]{margin-bottom:20px}.graficos_candidatos[_ngcontent-bbq-c69]   .porcetaje_votos[_ngcontent-bbq-c69]{font-size:2.2vw}.item_menu[_ngcontent-bbq-c69]{flex:0 0 50%;max-width:50%}.pie_municipales[_ngcontent-bbq-c69], .pie_regionales[_ngcontent-bbq-c69]{order:1;margin-bottom:20px}.barras_municipales[_ngcontent-bbq-c69], .barras_regionales[_ngcontent-bbq-c69]{order:2}.graficos_barras_resultados[_ngcontent-bbq-c69], .graficos_resultados[_ngcontent-bbq-c69], .graficos_resultados_totales[_ngcontent-bbq-c69]{margin-bottom:20px}.menuprincipal[_ngcontent-bbq-c69]   a[_ngcontent-bbq-c69]{margin-bottom:10px}.btn_buscar[_ngcontent-bbq-c69]{margin-bottom:20px}.tabs_submenu[_ngcontent-bbq-c69]{display:flex}.tabs_submenu[_ngcontent-bbq-c69]   li[_ngcontent-bbq-c69]{width:50%;margin-right:0}.nav-tabs[_ngcontent-bbq-c69]   .nav-item[_ngcontent-bbq-c69]{padding-left:5px;padding-right:5px}.nav-tabs[_ngcontent-bbq-c69]   .nav-item[_ngcontent-bbq-c69]   .nav-link[_ngcontent-bbq-c69]{width:100%;border-radius:5px;background:none;border:1px solid #b38320;margin-bottom:10px}.footer_404[_ngcontent-bbq-c69]   p[_ngcontent-bbq-c69]{padding:0;margin:0;display:inline-block}.footer_404[_ngcontent-bbq-c69]   span[_ngcontent-bbq-c69]{margin:4px 0;width:100%}}@media (max-width:768px){.col-40[_ngcontent-bbq-c69], .col-60[_ngcontent-bbq-c69]{width:100%}.tabla_resumen_pc[_ngcontent-bbq-c69]{display:none}.tabla_resumen_movil[_ngcontent-bbq-c69]{display:block}.menuprincipal[_ngcontent-bbq-c69]   .icono_togglemenu[_ngcontent-bbq-c69]{display:block;width:100%}.logo_onpe[_ngcontent-bbq-c69]   img[_ngcontent-bbq-c69]{width:90px;height:auto}.logo_eleccion[_ngcontent-bbq-c69]   img[_ngcontent-bbq-c69]{width:156px;height:auto}header[_ngcontent-bbq-c69]   h1[_ngcontent-bbq-c69]{font-size:.75em}header[_ngcontent-bbq-c69]   h2[_ngcontent-bbq-c69]{font-size:1em}.subtitulo[_ngcontent-bbq-c69]{padding-bottom:60px}.subtitulo[_ngcontent-bbq-c69]   h2[_ngcontent-bbq-c69]{margin-bottom:10px}.subtitulo[_ngcontent-bbq-c69]   .botonera_print[_ngcontent-bbq-c69]{margin-top:10px}.subtitulo[_ngcontent-bbq-c69]   .btn_print[_ngcontent-bbq-c69]{display:inline-block;margin-top:5px}.tabs_submenu[_ngcontent-bbq-c69]   li[_ngcontent-bbq-c69]{width:100%}.conte_btn_irinicio[_ngcontent-bbq-c69], .conte_mantenimiento[_ngcontent-bbq-c69]{border-left:none}.barra_mantenimiento[_ngcontent-bbq-c69]{width:60%;height:auto;margin-left:20%;margin-top:4px}.txt_mantenimiento[_ngcontent-bbq-c69]{font-size:27px;line-height:27px;padding-left:20%;padding-top:40px}footer[_ngcontent-bbq-c69]   .centrar_footer[_ngcontent-bbq-c69]{width:90%;display:block}footer[_ngcontent-bbq-c69]   .titulo_footer[_ngcontent-bbq-c69]{width:100%;text-align:center}footer[_ngcontent-bbq-c69]   .datos_footer[_ngcontent-bbq-c69]{width:100%}}@media (min-width:769px){.menuprincipal[_ngcontent-bbq-c69]   #navbarToggleExternalContent[_ngcontent-bbq-c69]{display:block}}@media (max-width:576px){header[_ngcontent-bbq-c69]   h1[_ngcontent-bbq-c69]{font-size:1.5em}footer[_ngcontent-bbq-c69]   .titulo_footer[_ngcontent-bbq-c69]{font-size:1em}.subtitulo[_ngcontent-bbq-c69]{padding-top:20px;padding-left:20px;padding-bottom:60px}.banner_home[_ngcontent-bbq-c69]{text-align:center}.banner_home[_ngcontent-bbq-c69]   .logo_home[_ngcontent-bbq-c69]{width:100%;margin-left:0}.banner_home[_ngcontent-bbq-c69]   h3[_ngcontent-bbq-c69]{width:100%;position:relative;margin-top:20px}.banner_erm[_ngcontent-bbq-c69]   .logo_erm2018[_ngcontent-bbq-c69]{width:70%;margin-top:25%}.logo_onpe[_ngcontent-bbq-c69]{float:none;margin:0 auto;padding-bottom:20px}.logo_onpe[_ngcontent-bbq-c69]   img[_ngcontent-bbq-c69]{width:45%;margin-top:.5em}.banner_homeeg2021[_ngcontent-bbq-c69]   .conte_btns_home_banner[_ngcontent-bbq-c69]{width:50%;position:absolute;left:30%;bottom:8%;font-size:.8em}.banner_homeeg2021[_ngcontent-bbq-c69]   .conte_btns_home_banner[_ngcontent-bbq-c69]   a[_ngcontent-bbq-c69]   .btn_informativa[_ngcontent-bbq-c69]{padding-left:15px}.logo_eleccion[_ngcontent-bbq-c69]{float:none;margin:20px auto 10px}.logo_eleccion[_ngcontent-bbq-c69]   img[_ngcontent-bbq-c69]{width:100%}.barra_noencontrada1[_ngcontent-bbq-c69]{height:auto;line-height:1em;padding-top:10px;padding-bottom:10px}.item_menu[_ngcontent-bbq-c69]{flex:0 0 100%;max-width:100%}}@media (max-width:380px){header[_ngcontent-bbq-c69]   div[_ngcontent-bbq-c69]{margin:0;padding:0}header[_ngcontent-bbq-c69]   .logo_eleccion[_ngcontent-bbq-c69]{width:100%;margin-bottom:20px}header[_ngcontent-bbq-c69]   .logo_onpe[_ngcontent-bbq-c69]{margin-bottom:20px}.banner_erm[_ngcontent-bbq-c69]{width:100%}.home_iz[_ngcontent-bbq-c69]   .conte_botones[_ngcontent-bbq-c69]{width:calc(100% - 40px);margin-right:20px}}</style><style>@font-face{font-family:Glyphicons Halflings;src:url(glyphicons-halflings-regular.5be1347c682810f199c7.eot);src:url(glyphicons-halflings-regular.5be1347c682810f199c7.eot?#iefix) format(\"embedded-opentype\"),url(glyphicons-halflings-regular.be810be3a3e14c682a25.woff2) format(\"woff2\"),url(glyphicons-halflings-regular.82b1212e45a2bc35dd73.woff) format(\"truetype\"),url(glyphicons-halflings-regular.9a17786234899efcc963.svg#glyphicons_halflingsregular) format(\"svg\")}.amcharts-category-axis[_ngcontent-bbq-c105]   .amcharts-axis-label[_ngcontent-bbq-c105]:first-child   tspan[_ngcontent-bbq-c105]{font-weight:700;font-size:500px}.glyphicon[_ngcontent-bbq-c105]{position:relative;top:1px;display:inline-block;font-family:Glyphicons Halflings;font-style:normal;font-weight:400;line-height:1;-webkit-font-smoothing:antialiased;-moz-osx-font-smoothing:grayscale}.glyphicon-asterisk[_ngcontent-bbq-c105]:before{content:\"\\\\2a\"}.glyphicon-plus[_ngcontent-bbq-c105]:before{content:\"\\\\2b\"}.glyphicon-eur[_ngcontent-bbq-c105]:before, .glyphicon-euro[_ngcontent-bbq-c105]:before{content:\"\\\\20ac\"}.glyphicon-minus[_ngcontent-bbq-c105]:before{content:\"\\\\2212\"}.glyphicon-cloud[_ngcontent-bbq-c105]:before{content:\"\\\\2601\"}.glyphicon-envelope[_ngcontent-bbq-c105]:before{content:\"\\\\2709\"}.glyphicon-pencil[_ngcontent-bbq-c105]:before{content:\"\\\\270f\"}.glyphicon-glass[_ngcontent-bbq-c105]:before{content:\"\\\\e001\"}.glyphicon-music[_ngcontent-bbq-c105]:before{content:\"\\\\e002\"}.glyphicon-search[_ngcontent-bbq-c105]:before{content:\"\\\\e003\"}.glyphicon-heart[_ngcontent-bbq-c105]:before{content:\"\\\\e005\"}.glyphicon-star[_ngcontent-bbq-c105]:before{content:\"\\\\e006\"}.glyphicon-star-empty[_ngcontent-bbq-c105]:before{content:\"\\\\e007\"}.glyphicon-user[_ngcontent-bbq-c105]:before{content:\"\\\\e008\"}.glyphicon-film[_ngcontent-bbq-c105]:before{content:\"\\\\e009\"}.glyphicon-th-large[_ngcontent-bbq-c105]:before{content:\"\\\\e010\"}.glyphicon-th[_ngcontent-bbq-c105]:before{content:\"\\\\e011\"}.glyphicon-th-list[_ngcontent-bbq-c105]:before{content:\"\\\\e012\"}.glyphicon-ok[_ngcontent-bbq-c105]:before{content:\"\\\\e013\"}.glyphicon-remove[_ngcontent-bbq-c105]:before{content:\"\\\\e014\"}.glyphicon-zoom-in[_ngcontent-bbq-c105]:before{content:\"\\\\e015\"}.glyphicon-zoom-out[_ngcontent-bbq-c105]:before{content:\"\\\\e016\"}.glyphicon-off[_ngcontent-bbq-c105]:before{content:\"\\\\e017\"}.glyphicon-signal[_ngcontent-bbq-c105]:before{content:\"\\\\e018\"}.glyphicon-cog[_ngcontent-bbq-c105]:before{content:\"\\\\e019\"}.glyphicon-trash[_ngcontent-bbq-c105]:before{content:\"\\\\e020\"}.glyphicon-home[_ngcontent-bbq-c105]:before{content:\"\\\\e021\"}.glyphicon-file[_ngcontent-bbq-c105]:before{content:\"\\\\e022\"}.glyphicon-time[_ngcontent-bbq-c105]:before{content:\"\\\\e023\"}.glyphicon-road[_ngcontent-bbq-c105]:before{content:\"\\\\e024\"}.glyphicon-download-alt[_ngcontent-bbq-c105]:before{content:\"\\\\e025\"}.glyphicon-download[_ngcontent-bbq-c105]:before{content:\"\\\\e026\"}.glyphicon-upload[_ngcontent-bbq-c105]:before{content:\"\\\\e027\"}.glyphicon-inbox[_ngcontent-bbq-c105]:before{content:\"\\\\e028\"}.glyphicon-play-circle[_ngcontent-bbq-c105]:before{content:\"\\\\e029\"}.glyphicon-repeat[_ngcontent-bbq-c105]:before{content:\"\\\\e030\"}.glyphicon-refresh[_ngcontent-bbq-c105]:before{content:\"\\\\e031\"}.glyphicon-list-alt[_ngcontent-bbq-c105]:before{content:\"\\\\e032\"}.glyphicon-lock[_ngcontent-bbq-c105]:before{content:\"\\\\e033\"}.glyphicon-flag[_ngcontent-bbq-c105]:before{content:\"\\\\e034\"}.glyphicon-headphones[_ngcontent-bbq-c105]:before{content:\"\\\\e035\"}.glyphicon-volume-off[_ngcontent-bbq-c105]:before{content:\"\\\\e036\"}.glyphicon-volume-down[_ngcontent-bbq-c105]:before{content:\"\\\\e037\"}.glyphicon-volume-up[_ngcontent-bbq-c105]:before{content:\"\\\\e038\"}.glyphicon-qrcode[_ngcontent-bbq-c105]:before{content:\"\\\\e039\"}.glyphicon-barcode[_ngcontent-bbq-c105]:before{content:\"\\\\e040\"}.glyphicon-tag[_ngcontent-bbq-c105]:before{content:\"\\\\e041\"}.glyphicon-tags[_ngcontent-bbq-c105]:before{content:\"\\\\e042\"}.glyphicon-book[_ngcontent-bbq-c105]:before{content:\"\\\\e043\"}.glyphicon-bookmark[_ngcontent-bbq-c105]:before{content:\"\\\\e044\"}.glyphicon-print[_ngcontent-bbq-c105]:before{content:\"\\\\e045\"}.glyphicon-camera[_ngcontent-bbq-c105]:before{content:\"\\\\e046\"}.glyphicon-font[_ngcontent-bbq-c105]:before{content:\"\\\\e047\"}.glyphicon-bold[_ngcontent-bbq-c105]:before{content:\"\\\\e048\"}.glyphicon-italic[_ngcontent-bbq-c105]:before{content:\"\\\\e049\"}.glyphicon-text-height[_ngcontent-bbq-c105]:before{content:\"\\\\e050\"}.glyphicon-text-width[_ngcontent-bbq-c105]:before{content:\"\\\\e051\"}.glyphicon-align-left[_ngcontent-bbq-c105]:before{content:\"\\\\e052\"}.glyphicon-align-center[_ngcontent-bbq-c105]:before{content:\"\\\\e053\"}.glyphicon-align-right[_ngcontent-bbq-c105]:before{content:\"\\\\e054\"}.glyphicon-align-justify[_ngcontent-bbq-c105]:before{content:\"\\\\e055\"}.glyphicon-list[_ngcontent-bbq-c105]:before{content:\"\\\\e056\"}.glyphicon-indent-left[_ngcontent-bbq-c105]:before{content:\"\\\\e057\"}.glyphicon-indent-right[_ngcontent-bbq-c105]:before{content:\"\\\\e058\"}.glyphicon-facetime-video[_ngcontent-bbq-c105]:before{content:\"\\\\e059\"}.glyphicon-picture[_ngcontent-bbq-c105]:before{content:\"\\\\e060\"}.glyphicon-map-marker[_ngcontent-bbq-c105]:before{content:\"\\\\e062\"}.glyphicon-adjust[_ngcontent-bbq-c105]:before{content:\"\\\\e063\"}.glyphicon-tint[_ngcontent-bbq-c105]:before{content:\"\\\\e064\"}.glyphicon-edit[_ngcontent-bbq-c105]:before{content:\"\\\\e065\"}.glyphicon-share[_ngcontent-bbq-c105]:before{content:\"\\\\e066\"}.glyphicon-check[_ngcontent-bbq-c105]:before{content:\"\\\\e067\"}.glyphicon-move[_ngcontent-bbq-c105]:before{content:\"\\\\e068\"}.glyphicon-step-backward[_ngcontent-bbq-c105]:before{content:\"\\\\e069\"}.glyphicon-fast-backward[_ngcontent-bbq-c105]:before{content:\"\\\\e070\"}.glyphicon-backward[_ngcontent-bbq-c105]:before{content:\"\\\\e071\"}.glyphicon-play[_ngcontent-bbq-c105]:before{content:\"\\\\e072\"}.glyphicon-pause[_ngcontent-bbq-c105]:before{content:\"\\\\e073\"}.glyphicon-stop[_ngcontent-bbq-c105]:before{content:\"\\\\e074\"}.glyphicon-forward[_ngcontent-bbq-c105]:before{content:\"\\\\e075\"}.glyphicon-fast-forward[_ngcontent-bbq-c105]:before{content:\"\\\\e076\"}.glyphicon-step-forward[_ngcontent-bbq-c105]:before{content:\"\\\\e077\"}.glyphicon-eject[_ngcontent-bbq-c105]:before{content:\"\\\\e078\"}.glyphicon-chevron-left[_ngcontent-bbq-c105]:before{content:\"\\\\e079\"}.glyphicon-chevron-right[_ngcontent-bbq-c105]:before{content:\"\\\\e080\"}.glyphicon-plus-sign[_ngcontent-bbq-c105]:before{content:\"\\\\e081\"}.glyphicon-minus-sign[_ngcontent-bbq-c105]:before{content:\"\\\\e082\"}.glyphicon-remove-sign[_ngcontent-bbq-c105]:before{content:\"\\\\e083\"}.glyphicon-ok-sign[_ngcontent-bbq-c105]:before{content:\"\\\\e084\"}.glyphicon-question-sign[_ngcontent-bbq-c105]:before{content:\"\\\\e085\"}.glyphicon-info-sign[_ngcontent-bbq-c105]:before{content:\"\\\\e086\"}.glyphicon-screenshot[_ngcontent-bbq-c105]:before{content:\"\\\\e087\"}.glyphicon-remove-circle[_ngcontent-bbq-c105]:before{content:\"\\\\e088\"}.glyphicon-ok-circle[_ngcontent-bbq-c105]:before{content:\"\\\\e089\"}.glyphicon-ban-circle[_ngcontent-bbq-c105]:before{content:\"\\\\e090\"}.glyphicon-arrow-left[_ngcontent-bbq-c105]:before{content:\"\\\\e091\"}.glyphicon-arrow-right[_ngcontent-bbq-c105]:before{content:\"\\\\e092\"}.glyphicon-arrow-up[_ngcontent-bbq-c105]:before{content:\"\\\\e093\"}.glyphicon-arrow-down[_ngcontent-bbq-c105]:before{content:\"\\\\e094\"}.glyphicon-share-alt[_ngcontent-bbq-c105]:before{content:\"\\\\e095\"}.glyphicon-resize-full[_ngcontent-bbq-c105]:before{content:\"\\\\e096\"}.glyphicon-resize-small[_ngcontent-bbq-c105]:before{content:\"\\\\e097\"}.glyphicon-exclamation-sign[_ngcontent-bbq-c105]:before{content:\"\\\\e101\"}.glyphicon-gift[_ngcontent-bbq-c105]:before{content:\"\\\\e102\"}.glyphicon-leaf[_ngcontent-bbq-c105]:before{content:\"\\\\e103\"}.glyphicon-fire[_ngcontent-bbq-c105]:before{content:\"\\\\e104\"}.glyphicon-eye-open[_ngcontent-bbq-c105]:before{content:\"\\\\e105\"}.glyphicon-eye-close[_ngcontent-bbq-c105]:before{content:\"\\\\e106\"}.glyphicon-warning-sign[_ngcontent-bbq-c105]:before{content:\"\\\\e107\"}.glyphicon-plane[_ngcontent-bbq-c105]:before{content:\"\\\\e108\"}.glyphicon-calendar[_ngcontent-bbq-c105]:before{content:\"\\\\e109\"}.glyphicon-random[_ngcontent-bbq-c105]:before{content:\"\\\\e110\"}.glyphicon-comment[_ngcontent-bbq-c105]:before{content:\"\\\\e111\"}.glyphicon-magnet[_ngcontent-bbq-c105]:before{content:\"\\\\e112\"}.glyphicon-chevron-up[_ngcontent-bbq-c105]:before{content:\"\\\\e113\"}.glyphicon-chevron-down[_ngcontent-bbq-c105]:before{content:\"\\\\e114\"}.glyphicon-retweet[_ngcontent-bbq-c105]:before{content:\"\\\\e115\"}.glyphicon-shopping-cart[_ngcontent-bbq-c105]:before{content:\"\\\\e116\"}.glyphicon-folder-close[_ngcontent-bbq-c105]:before{content:\"\\\\e117\"}.glyphicon-folder-open[_ngcontent-bbq-c105]:before{content:\"\\\\e118\"}.glyphicon-resize-vertical[_ngcontent-bbq-c105]:before{content:\"\\\\e119\"}.glyphicon-resize-horizontal[_ngcontent-bbq-c105]:before{content:\"\\\\e120\"}.glyphicon-hdd[_ngcontent-bbq-c105]:before{content:\"\\\\e121\"}.glyphicon-bullhorn[_ngcontent-bbq-c105]:before{content:\"\\\\e122\"}.glyphicon-bell[_ngcontent-bbq-c105]:before{content:\"\\\\e123\"}.glyphicon-certificate[_ngcontent-bbq-c105]:before{content:\"\\\\e124\"}.glyphicon-thumbs-up[_ngcontent-bbq-c105]:before{content:\"\\\\e125\"}.glyphicon-thumbs-down[_ngcontent-bbq-c105]:before{content:\"\\\\e126\"}.glyphicon-hand-right[_ngcontent-bbq-c105]:before{content:\"\\\\e127\"}.glyphicon-hand-left[_ngcontent-bbq-c105]:before{content:\"\\\\e128\"}.glyphicon-hand-up[_ngcontent-bbq-c105]:before{content:\"\\\\e129\"}.glyphicon-hand-down[_ngcontent-bbq-c105]:before{content:\"\\\\e130\"}.glyphicon-circle-arrow-right[_ngcontent-bbq-c105]:before{content:\"\\\\e131\"}.glyphicon-circle-arrow-left[_ngcontent-bbq-c105]:before{content:\"\\\\e132\"}.glyphicon-circle-arrow-up[_ngcontent-bbq-c105]:before{content:\"\\\\e133\"}.glyphicon-circle-arrow-down[_ngcontent-bbq-c105]:before{content:\"\\\\e134\"}.glyphicon-globe[_ngcontent-bbq-c105]:before{content:\"\\\\e135\"}.glyphicon-wrench[_ngcontent-bbq-c105]:before{content:\"\\\\e136\"}.glyphicon-tasks[_ngcontent-bbq-c105]:before{content:\"\\\\e137\"}.glyphicon-filter[_ngcontent-bbq-c105]:before{content:\"\\\\e138\"}.glyphicon-briefcase[_ngcontent-bbq-c105]:before{content:\"\\\\e139\"}.glyphicon-fullscreen[_ngcontent-bbq-c105]:before{content:\"\\\\e140\"}.glyphicon-dashboard[_ngcontent-bbq-c105]:before{content:\"\\\\e141\"}.glyphicon-paperclip[_ngcontent-bbq-c105]:before{content:\"\\\\e142\"}.glyphicon-heart-empty[_ngcontent-bbq-c105]:before{content:\"\\\\e143\"}.glyphicon-link[_ngcontent-bbq-c105]:before{content:\"\\\\e144\"}.glyphicon-phone[_ngcontent-bbq-c105]:before{content:\"\\\\e145\"}.glyphicon-pushpin[_ngcontent-bbq-c105]:before{content:\"\\\\e146\"}.glyphicon-usd[_ngcontent-bbq-c105]:before{content:\"\\\\e148\"}.glyphicon-gbp[_ngcontent-bbq-c105]:before{content:\"\\\\e149\"}.glyphicon-sort[_ngcontent-bbq-c105]:before{content:\"\\\\e150\"}.glyphicon-sort-by-alphabet[_ngcontent-bbq-c105]:before{content:\"\\\\e151\"}.glyphicon-sort-by-alphabet-alt[_ngcontent-bbq-c105]:before{content:\"\\\\e152\"}.glyphicon-sort-by-order[_ngcontent-bbq-c105]:before{content:\"\\\\e153\"}.glyphicon-sort-by-order-alt[_ngcontent-bbq-c105]:before{content:\"\\\\e154\"}.glyphicon-sort-by-attributes[_ngcontent-bbq-c105]:before{content:\"\\\\e155\"}.glyphicon-sort-by-attributes-alt[_ngcontent-bbq-c105]:before{content:\"\\\\e156\"}.glyphicon-unchecked[_ngcontent-bbq-c105]:before{content:\"\\\\e157\"}.glyphicon-expand[_ngcontent-bbq-c105]:before{content:\"\\\\e158\"}.glyphicon-collapse-down[_ngcontent-bbq-c105]:before{content:\"\\\\e159\"}.glyphicon-collapse-up[_ngcontent-bbq-c105]:before{content:\"\\\\e160\"}.glyphicon-log-in[_ngcontent-bbq-c105]:before{content:\"\\\\e161\"}.glyphicon-flash[_ngcontent-bbq-c105]:before{content:\"\\\\e162\"}.glyphicon-log-out[_ngcontent-bbq-c105]:before{content:\"\\\\e163\"}.glyphicon-new-window[_ngcontent-bbq-c105]:before{content:\"\\\\e164\"}.glyphicon-record[_ngcontent-bbq-c105]:before{content:\"\\\\e165\"}.glyphicon-save[_ngcontent-bbq-c105]:before{content:\"\\\\e166\"}.glyphicon-open[_ngcontent-bbq-c105]:before{content:\"\\\\e167\"}.glyphicon-saved[_ngcontent-bbq-c105]:before{content:\"\\\\e168\"}.glyphicon-import[_ngcontent-bbq-c105]:before{content:\"\\\\e169\"}.glyphicon-export[_ngcontent-bbq-c105]:before{content:\"\\\\e170\"}.glyphicon-send[_ngcontent-bbq-c105]:before{content:\"\\\\e171\"}.glyphicon-floppy-disk[_ngcontent-bbq-c105]:before{content:\"\\\\e172\"}.glyphicon-floppy-saved[_ngcontent-bbq-c105]:before{content:\"\\\\e173\"}.glyphicon-floppy-remove[_ngcontent-bbq-c105]:before{content:\"\\\\e174\"}.glyphicon-floppy-save[_ngcontent-bbq-c105]:before{content:\"\\\\e175\"}.glyphicon-floppy-open[_ngcontent-bbq-c105]:before{content:\"\\\\e176\"}.glyphicon-credit-card[_ngcontent-bbq-c105]:before{content:\"\\\\e177\"}.glyphicon-transfer[_ngcontent-bbq-c105]:before{content:\"\\\\e178\"}.glyphicon-cutlery[_ngcontent-bbq-c105]:before{content:\"\\\\e179\"}.glyphicon-header[_ngcontent-bbq-c105]:before{content:\"\\\\e180\"}.glyphicon-compressed[_ngcontent-bbq-c105]:before{content:\"\\\\e181\"}.glyphicon-earphone[_ngcontent-bbq-c105]:before{content:\"\\\\e182\"}.glyphicon-phone-alt[_ngcontent-bbq-c105]:before{content:\"\\\\e183\"}.glyphicon-tower[_ngcontent-bbq-c105]:before{content:\"\\\\e184\"}.glyphicon-stats[_ngcontent-bbq-c105]:before{content:\"\\\\e185\"}.glyphicon-sd-video[_ngcontent-bbq-c105]:before{content:\"\\\\e186\"}.glyphicon-hd-video[_ngcontent-bbq-c105]:before{content:\"\\\\e187\"}.glyphicon-subtitles[_ngcontent-bbq-c105]:before{content:\"\\\\e188\"}.glyphicon-sound-stereo[_ngcontent-bbq-c105]:before{content:\"\\\\e189\"}.glyphicon-sound-dolby[_ngcontent-bbq-c105]:before{content:\"\\\\e190\"}.glyphicon-sound-5-1[_ngcontent-bbq-c105]:before{content:\"\\\\e191\"}.glyphicon-sound-6-1[_ngcontent-bbq-c105]:before{content:\"\\\\e192\"}.glyphicon-sound-7-1[_ngcontent-bbq-c105]:before{content:\"\\\\e193\"}.glyphicon-copyright-mark[_ngcontent-bbq-c105]:before{content:\"\\\\e194\"}.glyphicon-registration-mark[_ngcontent-bbq-c105]:before{content:\"\\\\e195\"}.glyphicon-cloud-download[_ngcontent-bbq-c105]:before{content:\"\\\\e197\"}.glyphicon-cloud-upload[_ngcontent-bbq-c105]:before{content:\"\\\\e198\"}.glyphicon-tree-conifer[_ngcontent-bbq-c105]:before{content:\"\\\\e199\"}.glyphicon-tree-deciduous[_ngcontent-bbq-c105]:before{content:\"\\\\e200\"}.glyphicon-cd[_ngcontent-bbq-c105]:before{content:\"\\\\e201\"}.glyphicon-save-file[_ngcontent-bbq-c105]:before{content:\"\\\\e202\"}.glyphicon-open-file[_ngcontent-bbq-c105]:before{content:\"\\\\e203\"}.glyphicon-level-up[_ngcontent-bbq-c105]:before{content:\"\\\\e204\"}.glyphicon-copy[_ngcontent-bbq-c105]:before{content:\"\\\\e205\"}.glyphicon-paste[_ngcontent-bbq-c105]:before{content:\"\\\\e206\"}.glyphicon-alert[_ngcontent-bbq-c105]:before{content:\"\\\\e209\"}.glyphicon-equalizer[_ngcontent-bbq-c105]:before{content:\"\\\\e210\"}.glyphicon-king[_ngcontent-bbq-c105]:before{content:\"\\\\e211\"}.glyphicon-queen[_ngcontent-bbq-c105]:before{content:\"\\\\e212\"}.glyphicon-pawn[_ngcontent-bbq-c105]:before{content:\"\\\\e213\"}.glyphicon-bishop[_ngcontent-bbq-c105]:before{content:\"\\\\e214\"}.glyphicon-knight[_ngcontent-bbq-c105]:before{content:\"\\\\e215\"}.glyphicon-baby-formula[_ngcontent-bbq-c105]:before{content:\"\\\\e216\"}.glyphicon-tent[_ngcontent-bbq-c105]:before{content:\"\\\\26fa\"}.glyphicon-blackboard[_ngcontent-bbq-c105]:before{content:\"\\\\e218\"}.glyphicon-bed[_ngcontent-bbq-c105]:before{content:\"\\\\e219\"}.glyphicon-apple[_ngcontent-bbq-c105]:before{content:\"\\\\f8ff\"}.glyphicon-erase[_ngcontent-bbq-c105]:before{content:\"\\\\e221\"}.glyphicon-hourglass[_ngcontent-bbq-c105]:before{content:\"\\\\231b\"}.glyphicon-lamp[_ngcontent-bbq-c105]:before{content:\"\\\\e223\"}.glyphicon-duplicate[_ngcontent-bbq-c105]:before{content:\"\\\\e224\"}.glyphicon-piggy-bank[_ngcontent-bbq-c105]:before{content:\"\\\\e225\"}.glyphicon-scissors[_ngcontent-bbq-c105]:before{content:\"\\\\e226\"}.glyphicon-bitcoin[_ngcontent-bbq-c105]:before, .glyphicon-btc[_ngcontent-bbq-c105]:before, .glyphicon-xbt[_ngcontent-bbq-c105]:before{content:\"\\\\e227\"}.glyphicon-jpy[_ngcontent-bbq-c105]:before, .glyphicon-yen[_ngcontent-bbq-c105]:before{content:\"\\\\00a5\"}.glyphicon-rub[_ngcontent-bbq-c105]:before, .glyphicon-ruble[_ngcontent-bbq-c105]:before{content:\"\\\\20bd\"}.glyphicon-scale[_ngcontent-bbq-c105]:before{content:\"\\\\e230\"}.glyphicon-ice-lolly[_ngcontent-bbq-c105]:before{content:\"\\\\e231\"}.glyphicon-ice-lolly-tasted[_ngcontent-bbq-c105]:before{content:\"\\\\e232\"}.glyphicon-education[_ngcontent-bbq-c105]:before{content:\"\\\\e233\"}.glyphicon-option-horizontal[_ngcontent-bbq-c105]:before{content:\"\\\\e234\"}.glyphicon-option-vertical[_ngcontent-bbq-c105]:before{content:\"\\\\e235\"}.glyphicon-menu-hamburger[_ngcontent-bbq-c105]:before{content:\"\\\\e236\"}.glyphicon-modal-window[_ngcontent-bbq-c105]:before{content:\"\\\\e237\"}.glyphicon-oil[_ngcontent-bbq-c105]:before{content:\"\\\\e238\"}.glyphicon-grain[_ngcontent-bbq-c105]:before{content:\"\\\\e239\"}.glyphicon-sunglasses[_ngcontent-bbq-c105]:before{content:\"\\\\e240\"}.glyphicon-text-size[_ngcontent-bbq-c105]:before{content:\"\\\\e241\"}.glyphicon-text-color[_ngcontent-bbq-c105]:before{content:\"\\\\e242\"}.glyphicon-text-background[_ngcontent-bbq-c105]:before{content:\"\\\\e243\"}.glyphicon-object-align-top[_ngcontent-bbq-c105]:before{content:\"\\\\e244\"}.glyphicon-object-align-bottom[_ngcontent-bbq-c105]:before{content:\"\\\\e245\"}.glyphicon-object-align-horizontal[_ngcontent-bbq-c105]:before{content:\"\\\\e246\"}.glyphicon-object-align-left[_ngcontent-bbq-c105]:before{content:\"\\\\e247\"}.glyphicon-object-align-vertical[_ngcontent-bbq-c105]:before{content:\"\\\\e248\"}.glyphicon-object-align-right[_ngcontent-bbq-c105]:before{content:\"\\\\e249\"}.glyphicon-triangle-right[_ngcontent-bbq-c105]:before{content:\"\\\\e250\"}.glyphicon-triangle-left[_ngcontent-bbq-c105]:before{content:\"\\\\e251\"}.glyphicon-triangle-bottom[_ngcontent-bbq-c105]:before{content:\"\\\\e252\"}.glyphicon-triangle-top[_ngcontent-bbq-c105]:before{content:\"\\\\e253\"}.glyphicon-console[_ngcontent-bbq-c105]:before{content:\"\\\\e254\"}.glyphicon-superscript[_ngcontent-bbq-c105]:before{content:\"\\\\e255\"}.glyphicon-subscript[_ngcontent-bbq-c105]:before{content:\"\\\\e256\"}.glyphicon-menu-left[_ngcontent-bbq-c105]:before{content:\"\\\\e257\"}.glyphicon-menu-right[_ngcontent-bbq-c105]:before{content:\"\\\\e258\"}.glyphicon-menu-down[_ngcontent-bbq-c105]:before{content:\"\\\\e259\"}.glyphicon-menu-up[_ngcontent-bbq-c105]:before{content:\"\\\\e260\"}</style><style>@font-face{font-family:onpe;src:url(onpe.cfae7b7aa6df056a16b4.eot?cjgfmj);src:url(onpe.cfae7b7aa6df056a16b4.eot?cjgfmj#iefix) format(\"embedded-opentype\"),url(onpe.dbdf35b27707f916328f.woff?cjgfmj) format(\"woff\"),url(onpe.98aa4bed3b925268dde6.svg?cjgfmj#onpe) format(\"svg\");font-weight:400;font-style:normal}@font-face{font-family:Michroma;src:url(Michroma.ace9ad8efc608262b70a.eot);src:url(Michroma.ace9ad8efc608262b70a.eot?#iefix) format(\"embedded-opentype\"),url(Michroma.712d9237b077a63586be.woff) format(\"woff\"),url(Michroma.30c88f7bd134d7118404.svg#Michroma) format(\"svg\");font-weight:400;font-style:normal}@font-face{font-family:Harabara;src:url(Harabara_3.ca41fa74d8a3e15854eb.eot);src:url(Harabara_3.ca41fa74d8a3e15854eb.eot?#iefix) format(\"embedded-opentype\"),url(Harabara_3.0d6c56aaeea115e76557.woff) format(\"woff\"),url(Harabara_3.422515099ebc1b30aac5.svg#Harabara_3) format(\"svg\");font-weight:400;font-style:normal}@font-face{font-family:GillSansMT;src:url(GillSansMT.b843c4e837c3cba8aa70.eot);src:url(GillSansMT.b843c4e837c3cba8aa70.eot?#iefix) format(\"embedded-opentype\"),url(GillSansMT.efa8f71cfc96580a44a3.woff) format(\"woff\"),url(GillSansMT.7b4c4c1d788468fdf68b.svg#GillSansMT) format(\"svg\");font-weight:400;font-style:normal}@font-face{font-family:GillSansMT;src:url(GillSansMT-Bold.0ee4780f0ba20d53521c.eot);src:url(GillSansMT-Bold.b57772d306ac9bb42ff6.woff) format(\"woff\"),url(GillSansMT-Bold.9dde853d1ef428e613ee.svg#GillSansMT-Bold) format(\"svg\");font-weight:700;font-style:normal}.tabla_resumen_pc[_ngcontent-bbq-c105]{display:block}.tabla_resumen_movil[_ngcontent-bbq-c105]{display:none}.bg_departamentos[_ngcontent-bbq-c105]{height:333px;width:100%;background-image:url(lima.a759ad236074c903551f.jpg);position:relative;margin-bottom:20px;background-size:cover}.bg_departamentos[_ngcontent-bbq-c105]   .tabla_distritoelecoral[_ngcontent-bbq-c105]{width:calc(100% - 20px);background-color:rgba(0,0,0,.6);color:#fff;position:absolute;bottom:10px;margin-bottom:0;margin-left:10px}.bg_departamentos[_ngcontent-bbq-c105]   .tabla_distritoelecoral[_ngcontent-bbq-c105]   td[_ngcontent-bbq-c105]{border-top:none}.bg_departamentos[_ngcontent-bbq-c105]   .tabla_distritoelecoral[_ngcontent-bbq-c105]   .borde_blanco[_ngcontent-bbq-c105]{border-left:1px solid #fff}.bg_sin_departamentos[_ngcontent-bbq-c105]   td[_ngcontent-bbq-c105]{border-right:1px solid #dee2e6;border-bottom:1px solid #dee2e6}[class*=\" icon-\"][_ngcontent-bbq-c105], [class^=icon-][_ngcontent-bbq-c105]{font-family:onpe!important;speak:none;font-style:normal;font-weight:400;font-variant:normal;text-transform:none;line-height:1;-webkit-font-smoothing:antialiased;-moz-osx-font-smoothing:grayscale}select[_ngcontent-bbq-c105]{border:1px solid #8ea3a6}.icon-resumengeneral[_ngcontent-bbq-c105]:before{content:\"\\\\e909\"}.icon-elec_regional[_ngcontent-bbq-c105]:before{content:\"\\\\e901\"}.icon-elec_municipal[_ngcontent-bbq-c105]:before{content:\"\\\\e902\"}.icon-actas[_ngcontent-bbq-c105]:before{content:\"\\\\e900\"}.icon-participacion[_ngcontent-bbq-c105]:before{content:\"\\\\e903\"}.icon-impresora[_ngcontent-bbq-c105]:before{content:\"\\\\e904\"}.icon-barras[_ngcontent-bbq-c105]:before{content:\"\\\\e905\"}.icon-info[_ngcontent-bbq-c105]:before{content:\"\\\\e906\"}.icon-regresar[_ngcontent-bbq-c105]:before{content:\"\\\\e907\"}.icon-buscar[_ngcontent-bbq-c105]:before{content:\"\\\\e908\"}.icon-excel[_ngcontent-bbq-c105]:before{content:\"\\\\e910\"}.icon-pdf[_ngcontent-bbq-c105]:before{content:\"\\\\e911\"}.icon-ico_face[_ngcontent-bbq-c105]:before{content:\"\\\\e912\"}.icon-ico_twitter[_ngcontent-bbq-c105]:before{content:\"\\\\e913\"}.icon-ico_youtube[_ngcontent-bbq-c105]:before{content:\"\\\\e914\"}.icon-ico_google[_ngcontent-bbq-c105]:before{content:\"\\\\e915\"}.icon-ico_flickr[_ngcontent-bbq-c105]:before{content:\"\\\\e916\"}.icon-ico_instagram[_ngcontent-bbq-c105]:before{content:\"\\\\e917\"}.icon-ico_presidencial[_ngcontent-bbq-c105]:before{content:\"\\\\e918\"}.icon-ico_d[_ngcontent-bbq-c105]:before{content:\"\\\\e919\"}.icon-ico_congresal[_ngcontent-bbq-c105]:before{content:\"\\\\e920\"}@font-face{font-family:Roboto;src:url(Roboto-Regular.18b9c674e55e6a14cfc3.eot);src:url(Roboto-Regular.18b9c674e55e6a14cfc3.eot?#iefix) format(\"embedded-opentype\"),url(Roboto-Regular.33a606d57e602ee71cbf.woff) format(\"woff\"),url(Roboto-Regular.3c73f832eb8eea27f132.svg#Roboto-Regular) format(\"svg\");font-weight:400;font-style:normal}@font-face{font-family:Roboto Condensed;src:url(RobotoCondensed-Regular_1.03817afbc5a5cb4cbb0f.eot);src:url(RobotoCondensed-Regular_1.03817afbc5a5cb4cbb0f.eot?#iefix) format(\"embedded-opentype\"),url(RobotoCondensed-Regular_1.98ef0e4f12856e641bf4.woff) format(\"woff\"),url(RobotoCondensed-Regular_1.86d0a588cf68a1147863.svg#RobotoCondensed-Regular_1) format(\"svg\");font-weight:400;font-style:normal}body[_ngcontent-bbq-c105]{font-family:Roboto,sans-serif!important;font-size:16px}a[_ngcontent-bbq-c105]:hover{cursor:pointer}.body_404[_ngcontent-bbq-c105]{padding-bottom:180px}.body_404[_ngcontent-bbq-c105], header[_ngcontent-bbq-c105]{position:relative}header[_ngcontent-bbq-c105]{text-align:center;background:#374e91;color:#fff;margin-bottom:20px}header[_ngcontent-bbq-c105]   h1[_ngcontent-bbq-c105]{width:100%;font-family:Roboto;font-size:1.5em;margin:0 0 .3em}header[_ngcontent-bbq-c105]   h2[_ngcontent-bbq-c105]{width:100%;margin:0;font-family:GillSansMT,sans-serif!important;line-height:1em;font-size:2.1em;font-weight:700}header[_ngcontent-bbq-c105]   .logo_eg2021[_ngcontent-bbq-c105]{width:auto;height:150px}.bg_home[_ngcontent-bbq-c105]{background:url(bg_home.f7464546728ba82408dc.jpg);margin-top:190px;z-index:-2}.col-60[_ngcontent-bbq-c105]{width:60%;float:left}.col-40[_ngcontent-bbq-c105]{width:40%;float:right;position:relative}.conte_botones[_ngcontent-bbq-c105]{width:100%;float:right;border-radius:15px;overflow:hidden;margin-bottom:20px}.conte_botones[_ngcontent-bbq-c105]   a[_ngcontent-bbq-c105]{color:#fff}.conte_botones[_ngcontent-bbq-c105]   a[_ngcontent-bbq-c105]   .glyphicon[_ngcontent-bbq-c105]{transition:all .3s}.conte_botones[_ngcontent-bbq-c105]   a[_ngcontent-bbq-c105]   .linea1[_ngcontent-bbq-c105]{margin-top:10px}.conte_botones[_ngcontent-bbq-c105]   a[_ngcontent-bbq-c105]   .bg_municipales[_ngcontent-bbq-c105]{width:100%;height:300px;background:url(municipales.767f5449163bfa91dcf1.jpg) no-repeat;background-size:100% auto;transition:all .7s}.conte_botones[_ngcontent-bbq-c105]   a[_ngcontent-bbq-c105]:hover{color:#fff;text-decoration:none}.conte_botones[_ngcontent-bbq-c105]   a[_ngcontent-bbq-c105]:hover   .glyphicon[_ngcontent-bbq-c105]{margin-left:5px}.conte_botones[_ngcontent-bbq-c105]   a[_ngcontent-bbq-c105]:hover   .bg_municipales[_ngcontent-bbq-c105]{width:100%;height:300px;background:url(municipales.767f5449163bfa91dcf1.jpg) no-repeat;background-size:130% auto}.home_botonera[_ngcontent-bbq-c105]{width:100%;padding:20px 10px 10px;overflow:hidden}.home_botonera[_ngcontent-bbq-c105]   .conte_botones[_ngcontent-bbq-c105]{width:50%;float:left;padding:0 10px;margin-bottom:20px}.home_botonera[_ngcontent-bbq-c105]   .conte_botones[_ngcontent-bbq-c105]   a[_ngcontent-bbq-c105]{color:#fff}.home_botonera[_ngcontent-bbq-c105]   .conte_botones[_ngcontent-bbq-c105]   a[_ngcontent-bbq-c105]   .glyphicon[_ngcontent-bbq-c105]{transition:all .3s}.home_botonera[_ngcontent-bbq-c105]   .conte_botones[_ngcontent-bbq-c105]   a[_ngcontent-bbq-c105]   .linea1[_ngcontent-bbq-c105]{margin-top:10px}.home_botonera[_ngcontent-bbq-c105]   .conte_botones[_ngcontent-bbq-c105]   a[_ngcontent-bbq-c105]   .bg_municipales[_ngcontent-bbq-c105]{width:100%;height:300px;background:url(municipales.767f5449163bfa91dcf1.jpg) no-repeat;background-size:100% auto;transition:all .7s}.home_botonera[_ngcontent-bbq-c105]   .conte_botones[_ngcontent-bbq-c105]   a[_ngcontent-bbq-c105]:hover{color:#fff;text-decoration:none}.home_botonera[_ngcontent-bbq-c105]   .conte_botones[_ngcontent-bbq-c105]   a[_ngcontent-bbq-c105]:hover   .glyphicon[_ngcontent-bbq-c105]{margin-top:5px}.home_botonera[_ngcontent-bbq-c105]   .conte_botones[_ngcontent-bbq-c105]   a[_ngcontent-bbq-c105]:hover   .bg_municipales[_ngcontent-bbq-c105]{width:100%;height:300px;background:url(municipales.767f5449163bfa91dcf1.jpg) no-repeat;background-size:130% auto}.banner_home[_ngcontent-bbq-c105]{background:url(banner.d2ba41d4355ce6692e52.jpg) #444c61 no-repeat;background-size:100% auto;min-height:267px;margin-bottom:20px;text-align:center;position:relative}.banner_home[_ngcontent-bbq-c105]   h3[_ngcontent-bbq-c105]{display:inline-block;font-size:2.5em;color:#fff;margin-top:-.1em;width:100%;left:0;text-align:center;text-shadow:0 0 8px #000;font-family:GillSansMT;font-weight:700}.banner_erm[_ngcontent-bbq-c105]{width:70%;float:left;background:url(bg_01.563097fd994657699033.jpg) #e2e2e2 no-repeat;background-size:100% auto;padding-bottom:4.5%;position:relative;margin-bottom:20px}.banner_erm[_ngcontent-bbq-c105]   .mapa_inicio[_ngcontent-bbq-c105]{width:40%;height:auto;margin-top:10%;margin-left:10%;padding-bottom:3%}.banner_homeeg2021[_ngcontent-bbq-c105]{margin-top:-170px;margin-bottom:20px;position:relative}.banner_homeeg2021[_ngcontent-bbq-c105]   .bg_bannereg2021[_ngcontent-bbq-c105]{width:100%;max-width:100%}.banner_homeeg2021[_ngcontent-bbq-c105]   .conte_btns_home_banner[_ngcontent-bbq-c105]{width:28%;position:absolute;left:36%;bottom:8%}.banner_homeeg2021[_ngcontent-bbq-c105]   .conte_btns_home_banner[_ngcontent-bbq-c105]   a[_ngcontent-bbq-c105]{width:100%;display:block;color:#fff;margin-bottom:10px}.banner_homeeg2021[_ngcontent-bbq-c105]   .conte_btns_home_banner[_ngcontent-bbq-c105]   a[_ngcontent-bbq-c105]   .btn_informativa[_ngcontent-bbq-c105]{padding-top:15px;padding-bottom:15px;padding-left:30px;text-align:center;position:relative}.banner_homeeg2021[_ngcontent-bbq-c105]   .conte_btns_home_banner[_ngcontent-bbq-c105]   a[_ngcontent-bbq-c105]   .glyphicon[_ngcontent-bbq-c105]{transition:all .3s}.banner_homeeg2021[_ngcontent-bbq-c105]   .conte_btns_home_banner[_ngcontent-bbq-c105]   a[_ngcontent-bbq-c105]:hover{color:#fff;text-decoration:none}.banner_homeeg2021[_ngcontent-bbq-c105]   .conte_btns_home_banner[_ngcontent-bbq-c105]   a[_ngcontent-bbq-c105]:hover   .glyphicon[_ngcontent-bbq-c105]{margin-left:5px}.banner_homeeg2021[_ngcontent-bbq-c105]   .conte_btns_home_banner[_ngcontent-bbq-c105]   .btn01[_ngcontent-bbq-c105]{background:#374e91}.banner_homeeg2021[_ngcontent-bbq-c105]   .conte_btns_home_banner[_ngcontent-bbq-c105]   .btn02[_ngcontent-bbq-c105]{background:#8d9dc3}.banner_emc[_ngcontent-bbq-c105]{width:100%;float:left;background:url(bg_01.563097fd994657699033.jpg) #e2e2e2 no-repeat;background-size:100% auto;padding-bottom:0;position:relative;margin-bottom:20px}.banner_emc[_ngcontent-bbq-c105]   .mapa_inicio[_ngcontent-bbq-c105]{width:39.4%;height:auto;margin-top:.1%;margin-left:0;padding-bottom:0}.banner_emc[_ngcontent-bbq-c105]   .transparente[_ngcontent-bbq-c105]{width:.87%;height:auto;margin-left:0;padding-bottom:0}.banner_emc[_ngcontent-bbq-c105]   .btn_informativa[_ngcontent-bbq-c105]{width:30%;position:absolute;right:3%;bottom:5%}.banner_emc[_ngcontent-bbq-c105]   .btn_informativa[_ngcontent-bbq-c105]   a[_ngcontent-bbq-c105]{color:#fff;margin-bottom:.5em}.banner_emc[_ngcontent-bbq-c105]   .btn_informativa[_ngcontent-bbq-c105]   a[_ngcontent-bbq-c105]   .btn01[_ngcontent-bbq-c105]{margin-top:1em}.banner_emc[_ngcontent-bbq-c105]   .btn_informativa[_ngcontent-bbq-c105]   a[_ngcontent-bbq-c105]   .glyphicon[_ngcontent-bbq-c105]{transition:all .3s}.banner_emc[_ngcontent-bbq-c105]   .btn_informativa[_ngcontent-bbq-c105]   a[_ngcontent-bbq-c105]:hover{color:#fff;text-decoration:none}.banner_emc[_ngcontent-bbq-c105]   .btn_informativa[_ngcontent-bbq-c105]   a[_ngcontent-bbq-c105]:hover   .glyphicon[_ngcontent-bbq-c105]{margin-top:5px}.btn_home[_ngcontent-bbq-c105]{display:block;clear:both;min-height:50px;text-align:center;padding:15px 10px 15px 20px;color:#fff;position:relative}.btn01[_ngcontent-bbq-c105]{background-color:#374e91}.btn02[_ngcontent-bbq-c105]{background-color:maroon}.btn03[_ngcontent-bbq-c105]{background-color:#8d9dc3}.btn04[_ngcontent-bbq-c105]{background-color:grey}.btn05[_ngcontent-bbq-c105]{background-color:#b38320}.btn06[_ngcontent-bbq-c105]{background-color:#832c31}.flechita_botones[_ngcontent-bbq-c105]{position:absolute;left:10px;top:20px}.pic[_ngcontent-bbq-c105]{width:100%;padding-top:52%;position:relative;overflow:hidden;float:left}.pic[_ngcontent-bbq-c105]   img[_ngcontent-bbq-c105]{width:100%;height:auto;position:absolute;top:0;left:0;bottom:0;right:0;transition:all .7s ease}.pic[_ngcontent-bbq-c105]:hover{cursor:pointer}.pic[_ngcontent-bbq-c105]:hover   img[_ngcontent-bbq-c105]{width:110%;height:auto}.logo_home[_ngcontent-bbq-c105]{width:50%;height:auto;margin-left:auto;margin-right:auto}.bottom20[_ngcontent-bbq-c105]{margin-bottom:20px}.negrita[_ngcontent-bbq-c105]{font-weight:700}.logo_onpe[_ngcontent-bbq-c105]{float:right}.logo_onpe[_ngcontent-bbq-c105]   img[_ngcontent-bbq-c105]{width:125px;height:auto}.logo_eleccion[_ngcontent-bbq-c105]{float:left;margin-left:-15px}.menuprincipal[_ngcontent-bbq-c105]{text-align:center}.menuprincipal[_ngcontent-bbq-c105]   .navbar[_ngcontent-bbq-c105]{float:right}.menuprincipal[_ngcontent-bbq-c105]   .icono_togglemenu[_ngcontent-bbq-c105]{display:none}.menuprincipal[_ngcontent-bbq-c105]   a[_ngcontent-bbq-c105]{display:block;width:100%;background:#fff;color:#374e91;min-height:69px;line-height:66px;margin-bottom:20px;font-size:1em;border-bottom:6px solid #be372e}.menuprincipal[_ngcontent-bbq-c105]   a[_ngcontent-bbq-c105]   .ico_menu[_ngcontent-bbq-c105]{font-size:2.2em;margin-right:10px}.menuprincipal[_ngcontent-bbq-c105]   a[_ngcontent-bbq-c105]   .texto_menu[_ngcontent-bbq-c105]{display:inline-block;line-height:1em;max-width:calc(100% - 63px)}.menuprincipal[_ngcontent-bbq-c105]   .btn_azul[_ngcontent-bbq-c105]{border-left:10px solid #374e91;transition:all .3s}.menuprincipal[_ngcontent-bbq-c105]   .azul_activo[_ngcontent-bbq-c105], .menuprincipal[_ngcontent-bbq-c105]   .btn_azul[_ngcontent-bbq-c105]:active, .menuprincipal[_ngcontent-bbq-c105]   .btn_azul[_ngcontent-bbq-c105]:hover{background:#374e91;color:#fff;text-decoration:none}.menuprincipal[_ngcontent-bbq-c105]   .azul_activo[_ngcontent-bbq-c105]   .ico_menu[_ngcontent-bbq-c105], .menuprincipal[_ngcontent-bbq-c105]   .btn_azul[_ngcontent-bbq-c105]:active   .ico_menu[_ngcontent-bbq-c105], .menuprincipal[_ngcontent-bbq-c105]   .btn_azul[_ngcontent-bbq-c105]:hover   .ico_menu[_ngcontent-bbq-c105]{fill:#fff}.menuprincipal[_ngcontent-bbq-c105]   .btn_acero[_ngcontent-bbq-c105]{border-left:10px solid #5f7a98;transition:all .3s}.menuprincipal[_ngcontent-bbq-c105]   .acero_activo[_ngcontent-bbq-c105], .menuprincipal[_ngcontent-bbq-c105]   .btn_acero[_ngcontent-bbq-c105]:active, .menuprincipal[_ngcontent-bbq-c105]   .btn_acero[_ngcontent-bbq-c105]:hover{background:#5f7a98;color:#fff;text-decoration:none}.menuprincipal[_ngcontent-bbq-c105]   .acero_activo[_ngcontent-bbq-c105]   .ico_menu[_ngcontent-bbq-c105], .menuprincipal[_ngcontent-bbq-c105]   .btn_acero[_ngcontent-bbq-c105]:active   .ico_menu[_ngcontent-bbq-c105], .menuprincipal[_ngcontent-bbq-c105]   .btn_acero[_ngcontent-bbq-c105]:hover   .ico_menu[_ngcontent-bbq-c105]{fill:#fff}.menuprincipal[_ngcontent-bbq-c105]   .btn_dorado[_ngcontent-bbq-c105]{border-left:10px solid #b38320;transition:all .3s}.menuprincipal[_ngcontent-bbq-c105]   .btn_dorado[_ngcontent-bbq-c105]:active, .menuprincipal[_ngcontent-bbq-c105]   .btn_dorado[_ngcontent-bbq-c105]:hover, .menuprincipal[_ngcontent-bbq-c105]   .dorado_activo[_ngcontent-bbq-c105]{background:#b38320;color:#fff;text-decoration:none}.menuprincipal[_ngcontent-bbq-c105]   .btn_dorado[_ngcontent-bbq-c105]:active   .ico_menu[_ngcontent-bbq-c105], .menuprincipal[_ngcontent-bbq-c105]   .btn_dorado[_ngcontent-bbq-c105]:hover   .ico_menu[_ngcontent-bbq-c105], .menuprincipal[_ngcontent-bbq-c105]   .dorado_activo[_ngcontent-bbq-c105]   .ico_menu[_ngcontent-bbq-c105]{fill:#fff}.menuprincipal[_ngcontent-bbq-c105]   .btn_celeste[_ngcontent-bbq-c105]{border-left:10px solid #3471a6;transition:all .3s}.menuprincipal[_ngcontent-bbq-c105]   .btn_celeste[_ngcontent-bbq-c105]:active, .menuprincipal[_ngcontent-bbq-c105]   .btn_celeste[_ngcontent-bbq-c105]:hover, .menuprincipal[_ngcontent-bbq-c105]   .celeste_activo[_ngcontent-bbq-c105]{background:#3471a6;color:#fff;text-decoration:none}.menuprincipal[_ngcontent-bbq-c105]   .btn_celeste[_ngcontent-bbq-c105]:active   .ico_menu[_ngcontent-bbq-c105], .menuprincipal[_ngcontent-bbq-c105]   .btn_celeste[_ngcontent-bbq-c105]:hover   .ico_menu[_ngcontent-bbq-c105], .menuprincipal[_ngcontent-bbq-c105]   .celeste_activo[_ngcontent-bbq-c105]   .ico_menu[_ngcontent-bbq-c105]{fill:#fff}.menuprincipal[_ngcontent-bbq-c105]   .btn_rojo[_ngcontent-bbq-c105]{transition:all .3s}.menuprincipal[_ngcontent-bbq-c105]   .btn_rojo[_ngcontent-bbq-c105]:active, .menuprincipal[_ngcontent-bbq-c105]   .btn_rojo[_ngcontent-bbq-c105]:hover, .menuprincipal[_ngcontent-bbq-c105]   .rojo_activo[_ngcontent-bbq-c105]{background:#be372e;color:#fff;text-decoration:none}.menuprincipal[_ngcontent-bbq-c105]   .btn_rojo[_ngcontent-bbq-c105]:active   .ico_menu[_ngcontent-bbq-c105], .menuprincipal[_ngcontent-bbq-c105]   .btn_rojo[_ngcontent-bbq-c105]:hover   .ico_menu[_ngcontent-bbq-c105], .menuprincipal[_ngcontent-bbq-c105]   .rojo_activo[_ngcontent-bbq-c105]   .ico_menu[_ngcontent-bbq-c105]{fill:#fff}.tabs_submenu[_ngcontent-bbq-c105]{border-bottom:6px solid #8d9dc3}.nav-item[_ngcontent-bbq-c105], .nav-itemactas[_ngcontent-bbq-c105]{margin-right:3px;margin-bottom:0!important}.nav-tabs[_ngcontent-bbq-c105]   .nav-link[_ngcontent-bbq-c105]{background:#e2e2e2;color:#0f2241}.nav-tabs[_ngcontent-bbq-c105]   .active[_ngcontent-bbq-c105], .nav-tabs[_ngcontent-bbq-c105]   .nav-link[_ngcontent-bbq-c105]:hover{background:#8d9dc3!important;border:1px solid #8d9dc3!important;color:#fff!important}.subtitulo[_ngcontent-bbq-c105]{display:flex;align-items:center;background:#3e679b;color:#fff;min-height:47px;margin-bottom:20px;border-left:14px solid #8aa3c2;padding-left:30px;position:relative}.subtitulo[_ngcontent-bbq-c105]   h2[_ngcontent-bbq-c105]{margin:0;padding:0;font-size:2.125em;font-family:Roboto Condensed,sans-serif}.subtitulo[_ngcontent-bbq-c105]   span[_ngcontent-bbq-c105]{display:block}.subtitulo[_ngcontent-bbq-c105]   .botonera_print[_ngcontent-bbq-c105]{position:absolute;bottom:10px;right:10px}.subtitulo[_ngcontent-bbq-c105]   .btn_print[_ngcontent-bbq-c105]{border:1px solid #fff;color:#fff;margin-left:7px;padding:2px 10px 0}.subtitulo[_ngcontent-bbq-c105]   .btn_print[_ngcontent-bbq-c105]   .icon-excel[_ngcontent-bbq-c105], .subtitulo[_ngcontent-bbq-c105]   .btn_print[_ngcontent-bbq-c105]   .icon-impresora[_ngcontent-bbq-c105], .subtitulo[_ngcontent-bbq-c105]   .btn_print[_ngcontent-bbq-c105]   .icon-pdf[_ngcontent-bbq-c105]{display:inline-block;margin-right:5px}.subtitulo[_ngcontent-bbq-c105]   .btn_print[_ngcontent-bbq-c105]:hover{background:#fff!important;color:#3e679b!important;text-decoration:none}.subtitulo_azul[_ngcontent-bbq-c105]{display:flex;align-items:center;background:#3e679b;color:#fff;margin-bottom:20px;border-left:14px solid #8aa3c2;padding-left:30px;padding-top:10px;padding-bottom:10px;position:relative}.subtitulo_azul[_ngcontent-bbq-c105]   h2[_ngcontent-bbq-c105]{margin:0;padding:0;font-size:2.125em;font-family:Roboto Condensed,sans-serif}.subtitulo_detalle_candidato[_ngcontent-bbq-c105]{display:block;align-items:center;background:#3e679b;color:#fff;margin-bottom:20px;border-left:14px solid #8aa3c2;padding-left:30px;padding-top:10px;padding-bottom:10px;position:relative}.subtitulo_detalle_candidato[_ngcontent-bbq-c105]   h3[_ngcontent-bbq-c105]{margin:0;padding:0;font-size:1.4em;text-align:center;font-family:Roboto Condensed,sans-serif}.centrar_vertical[_ngcontent-bbq-c105]{vertical-align:middle}.lista_resoluciones[_ngcontent-bbq-c105]{color:#0f2241}.lista_resoluciones[_ngcontent-bbq-c105]   ul[_ngcontent-bbq-c105]{list-style:none}.lista_resoluciones[_ngcontent-bbq-c105]   .glyphicon[_ngcontent-bbq-c105]{color:#3e679b;font-size:1.5em;padding-right:.3em}.borde_gris[_ngcontent-bbq-c105]{padding:10px;margin-bottom:20px;border:1px solid #8ea3a6}.input_mesas[_ngcontent-bbq-c105]{width:calc(100% - 130px);border-radius:4px;border:1px solid #cacaca;text-align:center;display:inline-block;height:auto;padding:0 5px}.btn_buscar[_ngcontent-bbq-c105]{background:#03618a;color:#fff!important;display:inline-block;padding:4px 20px;border:none;float:right;margin-top:-2px}.btn_buscar[_ngcontent-bbq-c105]   .icon-buscar[_ngcontent-bbq-c105]{display:inline-block;margin-right:10px}.btn_buscar[_ngcontent-bbq-c105]:hover{background:#0083c3;color:#fff}.btn_detalle[_ngcontent-bbq-c105]{background:#03618a;color:#fff!important;padding:6px 8px 3px;text-align:center}.btn_detalle[_ngcontent-bbq-c105], .btn_detalle[_ngcontent-bbq-c105]   .icon-buscar[_ngcontent-bbq-c105]{display:inline-block}.btn_detalle[_ngcontent-bbq-c105]:hover{background:#0083c3;color:#fff}.btn_regresar[_ngcontent-bbq-c105]{background:#03618a;color:#fff!important;display:inline-block;padding:4px 20px;float:right;margin-bottom:20px}.btn_regresar[_ngcontent-bbq-c105]   .icon-regresar[_ngcontent-bbq-c105]{display:inline-block;margin-right:10px}.btn_regresar[_ngcontent-bbq-c105]:hover{background:#0083c3;color:#fff}.conte_mesas[_ngcontent-bbq-c105]{width:calc(100% + 2px);display:flex;flex-wrap:wrap;margin:-1px -1px 20px;justify-content:flex-start}.conte_mesas[_ngcontent-bbq-c105]   .mesas[_ngcontent-bbq-c105]{width:calc(20% - 2px);border:none;margin:1px;text-align:center;padding-top:8px;padding-bottom:6px}.procesada_con[_ngcontent-bbq-c105]{background:#b6cdf6}.procesada_con[_ngcontent-bbq-c105]   a[_ngcontent-bbq-c105]{color:#104d82}.procesada_sin[_ngcontent-bbq-c105]{background:#c1c1c1}.procesada_sin[_ngcontent-bbq-c105]   a[_ngcontent-bbq-c105]{color:#252525}.sin_procesar[_ngcontent-bbq-c105]{background:#efd2a8}.sin_procesar[_ngcontent-bbq-c105]   a[_ngcontent-bbq-c105]{color:#8a6d3b}.procesada_con[_ngcontent-bbq-c105]:hover, .procesada_sinn[_ngcontent-bbq-c105]:hover, .sin_procesar[_ngcontent-bbq-c105]:hover{text-decoration:underline}.leyenda_mesas[_ngcontent-bbq-c105]{padding:10px;margin-bottom:20px;border:1px solid #8ea3a6}.leyenda_mesas[_ngcontent-bbq-c105]   .icoleyend[_ngcontent-bbq-c105]{width:20px;height:20px;display:inline-block;margin-top:4px}.leyenda_mesas[_ngcontent-bbq-c105]   span[_ngcontent-bbq-c105]{display:inline-block}.centrar[_ngcontent-bbq-c105]{width:100%;height:100%;text-align:center;display:table-cell}.foto_agrupacion[_ngcontent-bbq-c105]{width:50px;height:50px}.foto_agrupacion_titulo[_ngcontent-bbq-c105]{width:100px;height:100px}.conte_paginador[_ngcontent-bbq-c105]{display:inline-block;margin-top:5px;margin-bottom:25px}.pagination[_ngcontent-bbq-c105]{display:inline-block;padding-left:0;margin:-14px 0;border-radius:4px}.pagination[_ngcontent-bbq-c105] > li[_ngcontent-bbq-c105]{display:inline}.pagination[_ngcontent-bbq-c105] > li[_ngcontent-bbq-c105] > a[_ngcontent-bbq-c105], .pagination[_ngcontent-bbq-c105] > li[_ngcontent-bbq-c105] > span[_ngcontent-bbq-c105]{position:relative;float:left;padding:6px 12px;margin-left:-1px;line-height:1.42857143;color:#337ab7;text-decoration:none;background-color:#fff;border:1px solid #ddd}.pagination[_ngcontent-bbq-c105] > li[_ngcontent-bbq-c105]:first-child > a[_ngcontent-bbq-c105], .pagination[_ngcontent-bbq-c105] > li[_ngcontent-bbq-c105]:first-child > span[_ngcontent-bbq-c105]{margin-left:0;border-top-left-radius:4px;border-bottom-left-radius:4px}.pagination[_ngcontent-bbq-c105] > li[_ngcontent-bbq-c105]:last-child > a[_ngcontent-bbq-c105], .pagination[_ngcontent-bbq-c105] > li[_ngcontent-bbq-c105]:last-child > span[_ngcontent-bbq-c105]{border-top-right-radius:4px;border-bottom-right-radius:4px}.pagination[_ngcontent-bbq-c105] > .active[_ngcontent-bbq-c105] > a[_ngcontent-bbq-c105], .pagination[_ngcontent-bbq-c105] > .active[_ngcontent-bbq-c105] > a[_ngcontent-bbq-c105]:focus, .pagination[_ngcontent-bbq-c105] > .active[_ngcontent-bbq-c105] > a[_ngcontent-bbq-c105]:hover, .pagination[_ngcontent-bbq-c105] > .active[_ngcontent-bbq-c105] > span[_ngcontent-bbq-c105], .pagination[_ngcontent-bbq-c105] > .active[_ngcontent-bbq-c105] > span[_ngcontent-bbq-c105]:focus, .pagination[_ngcontent-bbq-c105] > .active[_ngcontent-bbq-c105] > span[_ngcontent-bbq-c105]:hover{z-index:3;color:#fff;cursor:default;background-color:#337ab7;border-color:#337ab7}.mapa[_ngcontent-bbq-c105]{width:100%;background-color:#eee;border:1px solid #8ea3a6;height:450px}.texto_centrado[_ngcontent-bbq-c105]{text-align:center}.tabla_datos[_ngcontent-bbq-c105]{font-family:Roboto Condensed,sans-serif}.tabla_datos[_ngcontent-bbq-c105]   td[_ngcontent-bbq-c105]{vertical-align:middle}.tabla_datos[_ngcontent-bbq-c105]   td[_ngcontent-bbq-c105]   h1[_ngcontent-bbq-c105]{font-size:2.125em}.tabla_datos[_ngcontent-bbq-c105]   td[_ngcontent-bbq-c105]   h1[_ngcontent-bbq-c105], .tabla_datos[_ngcontent-bbq-c105]   td[_ngcontent-bbq-c105]   h2[_ngcontent-bbq-c105]{padding:0;margin:0;line-height:1em}.tabla_datos[_ngcontent-bbq-c105]   td[_ngcontent-bbq-c105]   h3[_ngcontent-bbq-c105]{padding:0;margin:0;font-size:1.125em}.tabla_datos[_ngcontent-bbq-c105]   span[_ngcontent-bbq-c105]{font-size:.875em;display:inline-block;line-height:1em}.tabla_datos[_ngcontent-bbq-c105]   .col_azul[_ngcontent-bbq-c105]{background-color:#366288;color:#fff}.tabla_datos[_ngcontent-bbq-c105]   .glyphicon[_ngcontent-bbq-c105]{color:#afbccb}.tabla_pc[_ngcontent-bbq-c105]{display:block}.tabla_movil[_ngcontent-bbq-c105]{display:none}.borde_acero[_ngcontent-bbq-c105]{border-left:14px solid #afbccb}.cont_selects_ubigeo[_ngcontent-bbq-c105]{background:#e2e2e2;margin-bottom:20px;padding:15px 25px}.cont_selects_ubigeo[_ngcontent-bbq-c105]   .linea_der[_ngcontent-bbq-c105]{border-right:1px solid #959595}.cont_selects_ubigeo[_ngcontent-bbq-c105]   label[_ngcontent-bbq-c105]{margin:0}.cont_selects_ubigeo[_ngcontent-bbq-c105]   .select_ubigeo[_ngcontent-bbq-c105]{width:100%;box-sizing:border-box;border-radius:4px;padding:2px}.conte_bordeazul[_ngcontent-bbq-c105]{border:1px solid #dee2e6;border-left:14px solid #afbccb;margin-bottom:15px}.conte_bordeazul[_ngcontent-bbq-c105]   .conte_selects[_ngcontent-bbq-c105]{padding:15px 30px}.conte_bordeazul[_ngcontent-bbq-c105]   .conte_cabecera[_ngcontent-bbq-c105]{padding:12px 15px;font-family:Roboto Condensed,sans-serif}.conte_bordeazul[_ngcontent-bbq-c105]   .conte_cabecera[_ngcontent-bbq-c105]   h1[_ngcontent-bbq-c105]{padding:0;margin:0;font-size:2.125em;line-height:1em}.conte_bordeazul[_ngcontent-bbq-c105]   .conte_cabecera[_ngcontent-bbq-c105]   h3[_ngcontent-bbq-c105]{padding:0;margin:0;font-size:1.125em}.conte_bordeazul[_ngcontent-bbq-c105]   .glyphicon[_ngcontent-bbq-c105]{color:#afbccb}.conte_bordeazul[_ngcontent-bbq-c105]   label[_ngcontent-bbq-c105]{width:100%;margin:0}.conte_bordeazul[_ngcontent-bbq-c105]   select[_ngcontent-bbq-c105]{width:100%;box-sizing:border-box;border-radius:4px;padding:2px}.conte_bordeazul[_ngcontent-bbq-c105]   span[_ngcontent-bbq-c105]{font-size:.875em}.conte_select_region[_ngcontent-bbq-c105]{width:100%;box-sizing:border-box;border-radius:4px;padding:2px}.graficos_resultados[_ngcontent-bbq-c105]{width:100%;height:310px;border:1px solid #8ea3a6}.graficos_resultados_totales[_ngcontent-bbq-c105]{width:100%;height:358px;border:1px solid #8ea3a6}.graficos_barras_resultados[_ngcontent-bbq-c105]{width:100%;height:335px;border:1px solid #8ea3a6}.graficos_dist_electoral[_ngcontent-bbq-c105]{width:100%;height:900px;border:1px solid #8ea3a6}.graficos_resumen[_ngcontent-bbq-c105]{width:100%;height:648px;border:1px solid #8ea3a6}.graficos_candidatos[_ngcontent-bbq-c105]{width:100%;background:url(bg_candidatos.340f1821c488e4ebf7c9.jpg) no-repeat;background-size:cover;border:1px solid #8ea3a6}.graficos_candidatos[_ngcontent-bbq-c105]   ul[_ngcontent-bbq-c105]{width:100%;height:100%;display:flex;justify-content:center;align-items:center;margin-bottom:10px;margin-top:10px;padding:0 0 0 15px}.graficos_candidatos[_ngcontent-bbq-c105]   ul[_ngcontent-bbq-c105]   li[_ngcontent-bbq-c105]{display:inline-flex;position:relative;max-width:16.66%}.graficos_candidatos[_ngcontent-bbq-c105]   .bg_foto_candidato[_ngcontent-bbq-c105]{width:100%;height:auto;max-width:100%;margin-left:-10px;margin-right:-10px}.graficos_candidatos[_ngcontent-bbq-c105]   .bg_foto_candidato[_ngcontent-bbq-c105]   img[_ngcontent-bbq-c105]{max-width:100%}.graficos_candidatos[_ngcontent-bbq-c105]   .porcetaje_votos[_ngcontent-bbq-c105]{font-family:Roboto,sans-serif;width:100%;padding-right:15%;position:absolute;bottom:-5px;text-align:center;font-size:1.4vw;color:#fff;font-style:italic}.gutters-20[_ngcontent-bbq-c105]{margin-right:-10px;margin-left:-10px}.gutters-20[_ngcontent-bbq-c105] > .col[_ngcontent-bbq-c105], .gutters-20[_ngcontent-bbq-c105] > [class*=col-][_ngcontent-bbq-c105]{padding-right:10px;padding-left:10px}.leyend_crema[_ngcontent-bbq-c105]{display:block;background:#8d9dc3;color:#fff;text-align:center;padding:10px;margin-bottom:20px}.leyend_crema[_ngcontent-bbq-c105]   .formula[_ngcontent-bbq-c105]{display:inline-block;margin-left:10px}.leyend_crema[_ngcontent-bbq-c105]   .formula[_ngcontent-bbq-c105]   hr[_ngcontent-bbq-c105]{border:1px solid #fff;margin:0}.subtitulo_dorado[_ngcontent-bbq-c105]{background:#b38320;color:#fff;margin-top:10px;font-size:1.125em;padding:10px}.centrar_conteleyend[_ngcontent-bbq-c105]{display:inline-block}.centrar_conteleyend[_ngcontent-bbq-c105]   .datos_leyend[_ngcontent-bbq-c105]{display:inline-block;list-style:none;margin:0 0 0 20px;padding:0;color:#fff;font-size:1em;text-align:left}.centrar_conteleyend[_ngcontent-bbq-c105]   .simbolo_leyend[_ngcontent-bbq-c105]{display:inline-block}.leyenda[_ngcontent-bbq-c105]{padding:0;margin:0 0 20px;list-style:none;font-size:1em}.tablas[_ngcontent-bbq-c105], .tablas[_ngcontent-bbq-c105]   th[_ngcontent-bbq-c105]{border:1px solid #cacaca}.tablas[_ngcontent-bbq-c105]   th[_ngcontent-bbq-c105]{background:#374e91;color:#fff;text-align:center;font-weight:400}.tablas[_ngcontent-bbq-c105]   td[_ngcontent-bbq-c105]{border:1px solid #cacaca;padding-top:.5em;padding-bottom:.5em}.tablas[_ngcontent-bbq-c105]   .pad_lef40[_ngcontent-bbq-c105]{padding-left:40px}.tablas[_ngcontent-bbq-c105]   .td_totales[_ngcontent-bbq-c105]   td[_ngcontent-bbq-c105]{background:#fff6c4;color:#5c3500;font-weight:700}.tabla_resultado[_ngcontent-bbq-c105]   th[_ngcontent-bbq-c105]{text-align:center;border:1px solid #cacaca}.tabla_resultado[_ngcontent-bbq-c105]   td[_ngcontent-bbq-c105]{padding-top:.2em;padding-bottom:.2em;border:1px solid #cacaca;vertical-align:middle}.tabla_resultado[_ngcontent-bbq-c105]   .datos_voto[_ngcontent-bbq-c105]   td[_ngcontent-bbq-c105]{padding:.5em}.tabla_resultado[_ngcontent-bbq-c105]   .tabla_fijo[_ngcontent-bbq-c105]{table-layout:fixed}.table-scroll1[_ngcontent-bbq-c105], .table-wrap[_ngcontent-bbq-c105]{width:100%;overflow-x:scroll;overflow-y:hidden}.table-scroll1[_ngcontent-bbq-c105]{height:20px;margin-bottom:10px}.table-scroll[_ngcontent-bbq-c105]{position:relative;max-width:100%;margin:auto;overflow:hidden}.table-wrap[_ngcontent-bbq-c105]{width:100%;overflow:auto;padding-bottom:20px}.table-scroll[_ngcontent-bbq-c105]   table[_ngcontent-bbq-c105]{width:100%;margin:auto;border-spacing:0}.table-scroll[_ngcontent-bbq-c105]   tfoot[_ngcontent-bbq-c105], .table-scroll[_ngcontent-bbq-c105]   thead[_ngcontent-bbq-c105]{background:#f9f9f9}.clone[_ngcontent-bbq-c105]{position:absolute;top:0;left:0;pointer-events:none}.clone[_ngcontent-bbq-c105]   td[_ngcontent-bbq-c105], .clone[_ngcontent-bbq-c105]   th[_ngcontent-bbq-c105]{visibility:hidden;border-color:transparent}.clone[_ngcontent-bbq-c105]   tbody[_ngcontent-bbq-c105]   th[_ngcontent-bbq-c105]{visibility:visible}.clone[_ngcontent-bbq-c105]   .fixed-side[_ngcontent-bbq-c105]{border:1px solid #cacaca;background:#fff;visibility:visible}.clone[_ngcontent-bbq-c105]   tfoot[_ngcontent-bbq-c105], .clone[_ngcontent-bbq-c105]   thead[_ngcontent-bbq-c105]{background:transparent}.clone[_ngcontent-bbq-c105]   tr[_ngcontent-bbq-c105]:nth-of-type(odd)   td[_ngcontent-bbq-c105], .clone[_ngcontent-bbq-c105]   tr[_ngcontent-bbq-c105]:nth-of-type(odd)   th[_ngcontent-bbq-c105]{background-color:#f2f2f2}.titulo_td[_ngcontent-bbq-c105]{padding:.75rem!important}.tabla_participacion[_ngcontent-bbq-c105]   th[_ngcontent-bbq-c105]{text-align:center;border:1px solid #969696;padding-top:1.1em;padding-bottom:1.1em;background:#d1d1d1}.tabla_participacion[_ngcontent-bbq-c105]   .cabeceradorada[_ngcontent-bbq-c105]   th[_ngcontent-bbq-c105]{background:#374e91;border-left:1px solid #fff;border-right:1px solid #fff;color:#fff}.tabla_participacion[_ngcontent-bbq-c105]   td[_ngcontent-bbq-c105]{padding-top:.7em;padding-bottom:.7em;border:1px solid #cacaca;vertical-align:middle}.tabla_participacion[_ngcontent-bbq-c105]   .datos_voto[_ngcontent-bbq-c105]   td[_ngcontent-bbq-c105]{padding:.5em}.datos_participacion[_ngcontent-bbq-c105]   .leyend_crema[_ngcontent-bbq-c105]{padding:17px 10px}.cabecera_dorada[_ngcontent-bbq-c105]{background:#374e91;color:#fff;padding:.75rem;border-left:14px solid #8d9dc3}.img_acta[_ngcontent-bbq-c105]{max-width:100%;height:auto}.top20[_ngcontent-bbq-c105]{margin-top:20px}footer[_ngcontent-bbq-c105]{clear:both;background:#374e91;color:#fff;text-align:center;padding:1.2em 0;font-size:.8em;overflow:hidden;font-family:GillSansMT}footer[_ngcontent-bbq-c105]   .centrar_footer[_ngcontent-bbq-c105]{width:100%;margin:0 auto;display:flex;align-content:center;justify-content:center;align-items:center}footer[_ngcontent-bbq-c105]   .titulo_footer[_ngcontent-bbq-c105]{color:#fff;font-size:1.5em;margin:.2em 0;float:left;padding-right:1em;text-align:right;font-weight:700}footer[_ngcontent-bbq-c105]   .datos_footer[_ngcontent-bbq-c105]{float:right;padding-left:3em;text-align:center}footer[_ngcontent-bbq-c105]   .separador_footer[_ngcontent-bbq-c105]{margin-left:1em;margin-right:1em}footer[_ngcontent-bbq-c105]   .correo[_ngcontent-bbq-c105]{color:#fff}footer[_ngcontent-bbq-c105]   .correo[_ngcontent-bbq-c105]:hover{text-decoration:underline;color:#fff}footer[_ngcontent-bbq-c105]   a[_ngcontent-bbq-c105]{color:#fff;margin-right:.2em}footer[_ngcontent-bbq-c105]   a[_ngcontent-bbq-c105]:hover{color:#677796;text-decoration:none}footer[_ngcontent-bbq-c105]   p[_ngcontent-bbq-c105]{margin:0;padding:0;font-weight:400;font-size:1.2em;text-align:center}footer[_ngcontent-bbq-c105]   .social_medias[_ngcontent-bbq-c105]{color:#fff;font-size:2.5em}.footer_404[_ngcontent-bbq-c105]{width:100%;position:fixed;bottom:0}.p404[_ngcontent-bbq-c105]{margin-top:100px;margin-bottom:200px}.barra_noencontrada1[_ngcontent-bbq-c105]{background:#3471a3;font-size:26px}.barra_noencontrada1[_ngcontent-bbq-c105], .barra_noencontrada2[_ngcontent-bbq-c105]{color:#fff;text-align:center;height:60px;line-height:60px}.barra_noencontrada2[_ngcontent-bbq-c105]{background:#8aa3c2;font-size:50px;font-weight:lighter}.conte_btn_irinicio[_ngcontent-bbq-c105]{text-align:center;border-left:5px solid #3471a3}.btn_irinicio[_ngcontent-bbq-c105]{font-family:Roboto,sans-serif;font-weight:700;background:url(btn_irinicio.5762a127ebd33031b0e2.png) no-repeat;width:296px;height:78px;border:none;color:#fff;box-sizing:border-box;padding-left:80px;font-size:25px;line-height:25px;margin-top:40px}.img_404[_ngcontent-bbq-c105]{width:164px;height:160px}.cont_img_404[_ngcontent-bbq-c105]{width:35%;float:left;text-align:right}.txt_pag404[_ngcontent-bbq-c105]{font-family:Roboto,sans-serif;width:65%;color:#3471a3;font-size:50px;line-height:50px;font-weight:700;float:left;padding-top:60px}.bottom_404[_ngcontent-bbq-c105]{margin-top:20px}.laptop_mantenimiento[_ngcontent-bbq-c105]{width:307px;height:240px}.barra_mantenimiento[_ngcontent-bbq-c105]{width:306px;height:43px;margin-top:4px}.txt_mantenimiento[_ngcontent-bbq-c105]{font-family:Roboto,sans-serif;color:#3471a3;font-size:38px;line-height:38px;text-align:left;font-weight:700;float:left;padding-top:60px}.conte_mantenimiento[_ngcontent-bbq-c105]{text-align:left;border-left:5px solid #3471a3;padding-left:80px;box-sizing:border-box}.centrar_laptop[_ngcontent-bbq-c105]{text-align:center}@media (max-width:1730px){.txt_pag404[_ngcontent-bbq-c105]{font-size:40px;line-height:40px}.img_404[_ngcontent-bbq-c105]{width:140px;height:137px}}@media (max-width:1600px){.btn_irinicio[_ngcontent-bbq-c105]{width:250px;height:66px;background-size:contain;padding-left:60px;font-size:16px;line-height:16px}.txt_pag404[_ngcontent-bbq-c105]{font-size:36px;line-height:36px}.barra_noencontrada1[_ngcontent-bbq-c105]{font-size:22px}}@media (max-width:1200px){.banner_home[_ngcontent-bbq-c105]   h3[_ngcontent-bbq-c105]{font-size:1.6em}.item_menu[_ngcontent-bbq-c105]{flex:0 0 33.333333%;max-width:33.333333%}}@media (max-width:1450px){.menuprincipal[_ngcontent-bbq-c105]   a[_ngcontent-bbq-c105]{font-size:.9em}.menuprincipal[_ngcontent-bbq-c105]   a[_ngcontent-bbq-c105]   .ico_menu[_ngcontent-bbq-c105]{font-size:2.1em}.conte_mantenimiento[_ngcontent-bbq-c105]{border-left:5px solid #3471a3;padding-left:50px}.laptop_mantenimiento[_ngcontent-bbq-c105]{width:231px;height:181px}.barra_mantenimiento[_ngcontent-bbq-c105]{width:231px;height:32px;margin-top:4px}.txt_mantenimiento[_ngcontent-bbq-c105]{font-size:26px;line-height:26px;padding-top:40px}}@media (max-width:1366px){.menuprincipal[_ngcontent-bbq-c105]   a[_ngcontent-bbq-c105]{font-size:.95em}.menuprincipal[_ngcontent-bbq-c105]   a[_ngcontent-bbq-c105]   .ico_menu[_ngcontent-bbq-c105]{font-size:2.2em}.banner_home[_ngcontent-bbq-c105]   h3[_ngcontent-bbq-c105]{font-size:2.1em}.home_iz[_ngcontent-bbq-c105]   .conte_botones[_ngcontent-bbq-c105]   a[_ngcontent-bbq-c105]   .pic[_ngcontent-bbq-c105]{padding-top:127.6%}.banner_erm[_ngcontent-bbq-c105]   .logo_erm2018[_ngcontent-bbq-c105]{margin-top:52.4%}.tabla_datos[_ngcontent-bbq-c105]   td[_ngcontent-bbq-c105]{padding:.4em}.tabla_datos[_ngcontent-bbq-c105]   td[_ngcontent-bbq-c105]   h2[_ngcontent-bbq-c105]{font-size:1.9em}.txt_pag404[_ngcontent-bbq-c105]{font-size:35px;line-height:35px;padding-top:48px}.img_404[_ngcontent-bbq-c105]{width:117px;height:114px}.btn_irinicio[_ngcontent-bbq-c105]{width:210px;height:55px;background-size:contain;padding-left:55px;font-size:16px;line-height:16px}.barra_noencontrada1[_ngcontent-bbq-c105]{font-size:18px}.conte_mantenimiento[_ngcontent-bbq-c105]{border-left:5px solid #3471a3;padding-left:40px}.laptop_mantenimiento[_ngcontent-bbq-c105]{width:219px;height:171px}.barra_mantenimiento[_ngcontent-bbq-c105]{width:218px;height:30px;margin-top:4px}.txt_mantenimiento[_ngcontent-bbq-c105]{font-size:27px;line-height:27px;padding-top:40px}}@media (max-width:1130px){body[_ngcontent-bbq-c105]{font-size:14px}header[_ngcontent-bbq-c105]   h1[_ngcontent-bbq-c105]{font-size:1.2em}header[_ngcontent-bbq-c105]   h2[_ngcontent-bbq-c105]{font-size:1.6em}.menuprincipal[_ngcontent-bbq-c105]   a[_ngcontent-bbq-c105]{padding-left:10px;padding-right:10px;font-size:1em;min-height:70px;line-height:68px}.menuprincipal[_ngcontent-bbq-c105]   a[_ngcontent-bbq-c105]   .ico_menu[_ngcontent-bbq-c105]{font-size:2em}.logo_onpe[_ngcontent-bbq-c105]   img[_ngcontent-bbq-c105]{width:120px;height:auto}.logo_eleccion[_ngcontent-bbq-c105]   img[_ngcontent-bbq-c105]{width:207px;height:auto}.subtitulo[_ngcontent-bbq-c105]{min-height:110px;font-size:.84em}.tabla_pc[_ngcontent-bbq-c105]{display:none}.tabla_movil[_ngcontent-bbq-c105]{display:block}}@media screen and (min-width:993px) and (max-width:1050px){.tablas[_ngcontent-bbq-c105]   th[_ngcontent-bbq-c105]{line-height:1em;padding-left:.5em;padding-right:.5em}.tablas[_ngcontent-bbq-c105]   td[_ngcontent-bbq-c105], .tablas[_ngcontent-bbq-c105]   th[_ngcontent-bbq-c105]{font-size:1em}.tabla_datos[_ngcontent-bbq-c105]   td[_ngcontent-bbq-c105]{padding:.4em}.tabla_datos[_ngcontent-bbq-c105]   td[_ngcontent-bbq-c105]   h2[_ngcontent-bbq-c105]{font-size:1.6em}.home_iz[_ngcontent-bbq-c105]   .conte_botones[_ngcontent-bbq-c105]   a[_ngcontent-bbq-c105]   .pic[_ngcontent-bbq-c105]{padding-top:115.4%}}@media (max-width:992px){header[_ngcontent-bbq-c105]   h1[_ngcontent-bbq-c105]{font-size:.96em}header[_ngcontent-bbq-c105]   h2[_ngcontent-bbq-c105]{font-size:1.28em}.banner_home[_ngcontent-bbq-c105]   h3[_ngcontent-bbq-c105]{font-size:1.6em}.graficos_candidatos[_ngcontent-bbq-c105]{margin-bottom:20px}.graficos_candidatos[_ngcontent-bbq-c105]   .porcetaje_votos[_ngcontent-bbq-c105]{font-size:2.2vw}.item_menu[_ngcontent-bbq-c105]{flex:0 0 50%;max-width:50%}.pie_municipales[_ngcontent-bbq-c105], .pie_regionales[_ngcontent-bbq-c105]{order:1;margin-bottom:20px}.barras_municipales[_ngcontent-bbq-c105], .barras_regionales[_ngcontent-bbq-c105]{order:2}.graficos_barras_resultados[_ngcontent-bbq-c105], .graficos_resultados[_ngcontent-bbq-c105], .graficos_resultados_totales[_ngcontent-bbq-c105]{margin-bottom:20px}.menuprincipal[_ngcontent-bbq-c105]   a[_ngcontent-bbq-c105]{margin-bottom:10px}.btn_buscar[_ngcontent-bbq-c105]{margin-bottom:20px}.tabs_submenu[_ngcontent-bbq-c105]{display:flex}.tabs_submenu[_ngcontent-bbq-c105]   li[_ngcontent-bbq-c105]{width:50%;margin-right:0}.nav-tabs[_ngcontent-bbq-c105]   .nav-item[_ngcontent-bbq-c105]{padding-left:5px;padding-right:5px}.nav-tabs[_ngcontent-bbq-c105]   .nav-item[_ngcontent-bbq-c105]   .nav-link[_ngcontent-bbq-c105]{width:100%;border-radius:5px;background:none;border:1px solid #b38320;margin-bottom:10px}.footer_404[_ngcontent-bbq-c105]   p[_ngcontent-bbq-c105]{padding:0;margin:0;display:inline-block}.footer_404[_ngcontent-bbq-c105]   span[_ngcontent-bbq-c105]{margin:4px 0;width:100%}}@media (max-width:768px){.col-40[_ngcontent-bbq-c105], .col-60[_ngcontent-bbq-c105]{width:100%}.tabla_resumen_pc[_ngcontent-bbq-c105]{display:none}.tabla_resumen_movil[_ngcontent-bbq-c105]{display:block}.menuprincipal[_ngcontent-bbq-c105]   .icono_togglemenu[_ngcontent-bbq-c105]{display:block;width:100%}.logo_onpe[_ngcontent-bbq-c105]   img[_ngcontent-bbq-c105]{width:90px;height:auto}.logo_eleccion[_ngcontent-bbq-c105]   img[_ngcontent-bbq-c105]{width:156px;height:auto}header[_ngcontent-bbq-c105]   h1[_ngcontent-bbq-c105]{font-size:.75em}header[_ngcontent-bbq-c105]   h2[_ngcontent-bbq-c105]{font-size:1em}.subtitulo[_ngcontent-bbq-c105]{padding-bottom:60px}.subtitulo[_ngcontent-bbq-c105]   h2[_ngcontent-bbq-c105]{margin-bottom:10px}.subtitulo[_ngcontent-bbq-c105]   .botonera_print[_ngcontent-bbq-c105]{margin-top:10px}.subtitulo[_ngcontent-bbq-c105]   .btn_print[_ngcontent-bbq-c105]{display:inline-block;margin-top:5px}.tabs_submenu[_ngcontent-bbq-c105]   li[_ngcontent-bbq-c105]{width:100%}.conte_btn_irinicio[_ngcontent-bbq-c105], .conte_mantenimiento[_ngcontent-bbq-c105]{border-left:none}.barra_mantenimiento[_ngcontent-bbq-c105]{width:60%;height:auto;margin-left:20%;margin-top:4px}.txt_mantenimiento[_ngcontent-bbq-c105]{font-size:27px;line-height:27px;padding-left:20%;padding-top:40px}footer[_ngcontent-bbq-c105]   .centrar_footer[_ngcontent-bbq-c105]{width:90%;display:block}footer[_ngcontent-bbq-c105]   .titulo_footer[_ngcontent-bbq-c105]{width:100%;text-align:center}footer[_ngcontent-bbq-c105]   .datos_footer[_ngcontent-bbq-c105]{width:100%}}@media (min-width:769px){.menuprincipal[_ngcontent-bbq-c105]   #navbarToggleExternalContent[_ngcontent-bbq-c105]{display:block}}@media (max-width:576px){header[_ngcontent-bbq-c105]   h1[_ngcontent-bbq-c105]{font-size:1.5em}footer[_ngcontent-bbq-c105]   .titulo_footer[_ngcontent-bbq-c105]{font-size:1em}.subtitulo[_ngcontent-bbq-c105]{padding-top:20px;padding-left:20px;padding-bottom:60px}.banner_home[_ngcontent-bbq-c105]{text-align:center}.banner_home[_ngcontent-bbq-c105]   .logo_home[_ngcontent-bbq-c105]{width:100%;margin-left:0}.banner_home[_ngcontent-bbq-c105]   h3[_ngcontent-bbq-c105]{width:100%;position:relative;margin-top:20px}.banner_erm[_ngcontent-bbq-c105]   .logo_erm2018[_ngcontent-bbq-c105]{width:70%;margin-top:25%}.logo_onpe[_ngcontent-bbq-c105]{float:none;margin:0 auto;padding-bottom:20px}.logo_onpe[_ngcontent-bbq-c105]   img[_ngcontent-bbq-c105]{width:45%;margin-top:.5em}.banner_homeeg2021[_ngcontent-bbq-c105]   .conte_btns_home_banner[_ngcontent-bbq-c105]{width:50%;position:absolute;left:30%;bottom:8%;font-size:.8em}.banner_homeeg2021[_ngcontent-bbq-c105]   .conte_btns_home_banner[_ngcontent-bbq-c105]   a[_ngcontent-bbq-c105]   .btn_informativa[_ngcontent-bbq-c105]{padding-left:15px}.logo_eleccion[_ngcontent-bbq-c105]{float:none;margin:20px auto 10px}.logo_eleccion[_ngcontent-bbq-c105]   img[_ngcontent-bbq-c105]{width:100%}.barra_noencontrada1[_ngcontent-bbq-c105]{height:auto;line-height:1em;padding-top:10px;padding-bottom:10px}.item_menu[_ngcontent-bbq-c105]{flex:0 0 100%;max-width:100%}}@media (max-width:380px){header[_ngcontent-bbq-c105]   div[_ngcontent-bbq-c105]{margin:0;padding:0}header[_ngcontent-bbq-c105]   .logo_eleccion[_ngcontent-bbq-c105]{width:100%;margin-bottom:20px}header[_ngcontent-bbq-c105]   .logo_onpe[_ngcontent-bbq-c105]{margin-bottom:20px}.banner_erm[_ngcontent-bbq-c105]{width:100%}.home_iz[_ngcontent-bbq-c105]   .conte_botones[_ngcontent-bbq-c105]{width:calc(100% - 40px);margin-right:20px}}</style><script src=\"./assets/lib/ammap/maps/js/worldLowPeruSpanish.js\" type=\"text/javascript\"></script></head>\\n<body> \\n  <onpe-root ng-version=\"11.0.9\"><router-outlet></router-outlet><onpe-home-onpe _nghost-bbq-c64=\"\"><header _ngcontent-bbq-c64=\"\"><div _ngcontent-bbq-c64=\"\" class=\"container-fluid\"><div _ngcontent-bbq-c64=\"\" class=\"row no-gutters\"><div _ngcontent-bbq-c64=\"\" class=\"col-sm-3 d-flex\"><div _ngcontent-bbq-c64=\"\" class=\"logo_eleccion\"><a _ngcontent-bbq-c64=\"\" routerlink=\"/Home\" href=\"/EG2021/Home\"><img _ngcontent-bbq-c64=\"\" src=\"./assets/imagenes/logo_eg2021.svg\" alt=\"\" class=\"logo_eg2021\"></a></div></div><div _ngcontent-bbq-c64=\"\" class=\"col-sm-6 align-self-center\"><h2 _ngcontent-bbq-c64=\"\">PRESENTACIÓN DE RESULTADOS</h2><h1 _ngcontent-bbq-c64=\"\">ELECCIONES GENERALES Y PARLAMENTO ANDINO 2021</h1></div><div _ngcontent-bbq-c64=\"\" class=\"col-sm-3 align-self-center\"><div _ngcontent-bbq-c64=\"\" class=\"logo_onpe\"><a _ngcontent-bbq-c64=\"\" href=\"https://www.onpe.gob.pe/\"><img _ngcontent-bbq-c64=\"\" src=\"./assets/imagenes/logo_onpe_blanco.svg\" alt=\"ONPE\" class=\"d-print-none\"><img _ngcontent-bbq-c64=\"\" src=\"./assets/imagenes/logo_onpe_imprimir.svg\" alt=\"ONPE\" class=\"d-none d-print-block\"></a></div></div></div></div></header><div _ngcontent-bbq-c64=\"\" class=\"bg_home\"><div _ngcontent-bbq-c64=\"\" class=\"container-fluid\"><div _ngcontent-bbq-c64=\"\" class=\"row justify-content-md-center\"><div _ngcontent-bbq-c64=\"\" class=\"col col-lg-8\"><div _ngcontent-bbq-c64=\"\" class=\"banner_homeeg2021\"><img _ngcontent-bbq-c64=\"\" src=\"./assets/imagenes/banner_eg2021.jpg\" alt=\"\" class=\"bg_bannereg2021\"><div _ngcontent-bbq-c64=\"\" class=\"conte_btns_home_banner\"><a _ngcontent-bbq-c64=\"\" href=\"https://www.onpe.gob.pe/modElecciones/elecciones/2021/EEGG/\" target=\"_blank\"><div _ngcontent-bbq-c64=\"\" class=\"btn_informativa btn01\"><span _ngcontent-bbq-c64=\"\" aria-hidden=\"true\" class=\"glyphicon glyphicon-chevron-right flechita_botones\"></span> Web Informativa EG2021</div></a></div></div><div _ngcontent-bbq-c64=\"\" class=\"row\"><div _ngcontent-bbq-c64=\"\" class=\"col-lg-4\"><div _ngcontent-bbq-c64=\"\" class=\"conte_botones\"><div _ngcontent-bbq-c64=\"\" class=\"pull-left pd02 ancho-ie\"><a _ngcontent-bbq-c64=\"\"><div _ngcontent-bbq-c64=\"\" class=\"pic\"><img _ngcontent-bbq-c64=\"\" src=\"./assets/imagenes/resumen_general.jpg\"></div><div _ngcontent-bbq-c64=\"\" class=\"btn_home btn01\"><div _ngcontent-bbq-c64=\"\"><span _ngcontent-bbq-c64=\"\" aria-hidden=\"true\" class=\"glyphicon glyphicon-chevron-right flechita_botones\"></span> Resumen General</div></div></a></div></div></div><div _ngcontent-bbq-c64=\"\" class=\"col-lg-4\"><div _ngcontent-bbq-c64=\"\" class=\"conte_botones\"><div _ngcontent-bbq-c64=\"\" class=\"pull-left pd02 ancho-ie\"><a _ngcontent-bbq-c64=\"\"><div _ngcontent-bbq-c64=\"\" class=\"pic\"><img _ngcontent-bbq-c64=\"\" src=\"./assets/imagenes/presidencial.jpg\"></div><div _ngcontent-bbq-c64=\"\" class=\"btn_home btn02\"><span _ngcontent-bbq-c64=\"\" aria-hidden=\"true\" class=\"glyphicon glyphicon-chevron-right flechita_botones\"></span> Elecciones Presidenciales </div></a></div></div></div><div _ngcontent-bbq-c64=\"\" class=\"col-lg-4\"><div _ngcontent-bbq-c64=\"\" class=\"conte_botones\"><div _ngcontent-bbq-c64=\"\" class=\"pull-left pd02 ancho-ie\"><a _ngcontent-bbq-c64=\"\"><div _ngcontent-bbq-c64=\"\" class=\"pic\"><img _ngcontent-bbq-c64=\"\" src=\"./assets/imagenes/congresales.jpg\"></div><div _ngcontent-bbq-c64=\"\" class=\"btn_home btn03\"><span _ngcontent-bbq-c64=\"\" aria-hidden=\"true\" class=\"glyphicon glyphicon-chevron-right flechita_botones\"></span> Elecciones Congresales </div></a></div></div></div><div _ngcontent-bbq-c64=\"\" class=\"col-lg-4\"><div _ngcontent-bbq-c64=\"\" class=\"conte_botones\"><div _ngcontent-bbq-c64=\"\" class=\"pull-left pd02 ancho-ie\"><a _ngcontent-bbq-c64=\"\"><div _ngcontent-bbq-c64=\"\" class=\"pic\"><img _ngcontent-bbq-c64=\"\" src=\"./assets/imagenes/parlamento_andino.jpg\"></div><div _ngcontent-bbq-c64=\"\" class=\"btn_home btn04\"><span _ngcontent-bbq-c64=\"\" aria-hidden=\"true\" class=\"glyphicon glyphicon-chevron-right flechita_botones\"></span> Elecciones Parlamento Andino </div></a></div></div></div><div _ngcontent-bbq-c64=\"\" class=\"col-lg-4\"><div _ngcontent-bbq-c64=\"\" class=\"conte_botones\"><div _ngcontent-bbq-c64=\"\" class=\"pull-left pd02 ancho-ie\"><a _ngcontent-bbq-c64=\"\"><div _ngcontent-bbq-c64=\"\" class=\"pic\"><img _ngcontent-bbq-c64=\"\" src=\"./assets/imagenes/actas.jpg\"></div><div _ngcontent-bbq-c64=\"\" class=\"btn_home btn05\"><span _ngcontent-bbq-c64=\"\" aria-hidden=\"true\" class=\"glyphicon glyphicon-chevron-right flechita_botones\"></span> Actas </div></a></div></div></div><div _ngcontent-bbq-c64=\"\" class=\"col-lg-4\"><div _ngcontent-bbq-c64=\"\" class=\"conte_botones\"><div _ngcontent-bbq-c64=\"\" class=\"pull-left pd02 ancho-ie\"><a _ngcontent-bbq-c64=\"\"><div _ngcontent-bbq-c64=\"\" class=\"pic\"><img _ngcontent-bbq-c64=\"\" src=\"./assets/imagenes/participacion.jpg\"></div><div _ngcontent-bbq-c64=\"\" class=\"btn_home btn06\"><span _ngcontent-bbq-c64=\"\" aria-hidden=\"true\" class=\"glyphicon glyphicon-chevron-right flechita_botones\"></span> Participación Ciudadana </div></a></div></div></div></div></div></div></div></div><div _ngcontent-bbq-c64=\"\" id=\"candidatoModalLong\" tabindex=\"-1\" role=\"dialog\" aria-labelledby=\"exampleModalLongTitle\" aria-hidden=\"true\" class=\"modal fade\"><div _ngcontent-bbq-c64=\"\" role=\"document\" class=\"modal-dialog modal-lg\"><div _ngcontent-bbq-c64=\"\" class=\"modal-content\"></div></div></div><footer _ngcontent-bbq-c64=\"\"><div _ngcontent-bbq-c64=\"\" class=\"centrar_footer\"><div _ngcontent-bbq-c64=\"\" class=\"titulo_footer\"><p _ngcontent-bbq-c64=\"\">Fono ONPE (01) 417-0630 <span _ngcontent-bbq-c64=\"\" class=\"separador_footer\">|</span><a _ngcontent-bbq-c64=\"\" href=\"mailto:informes@onpe.gob.pe\">informes@onpe.gob.pe</a><span _ngcontent-bbq-c64=\"\" class=\"separador_footer\">|</span> Jr. Washington 1894, Cercado de Lima </p></div><div _ngcontent-bbq-c64=\"\" class=\"datos_footer\"><a _ngcontent-bbq-c64=\"\" href=\"https://www.facebook.com/ONPEoficial?fref=ts\" target=\"_blank\"><img _ngcontent-bbq-c64=\"\" src=\"./assets/imagenes/logo_facebook.png\" alt=\"facebook\" class=\"ico_footer\"></a><a _ngcontent-bbq-c64=\"\" href=\"https://twitter.com/ONPE_oficial\" target=\"_blank\"><img _ngcontent-bbq-c64=\"\" src=\"./assets/imagenes/logo_twitter.png\" alt=\"twitter\" class=\"ico_footer\"></a><a _ngcontent-bbq-c64=\"\" href=\"https://www.youtube.com/user/onpeprensa/featured\" target=\"_blank\"><img _ngcontent-bbq-c64=\"\" src=\"./assets/imagenes/logo_youtube.png\" alt=\"youtube\" class=\"ico_footer\"></a><a _ngcontent-bbq-c64=\"\" href=\"https://www.instagram.com/onpe_oficial/?hl=es-la\" target=\"_blank\"><img _ngcontent-bbq-c64=\"\" src=\"./assets/imagenes/logo_instagram.png\" alt=\"instagram\" class=\"ico_footer\"></a><a _ngcontent-bbq-c64=\"\" href=\"https://www.flickr.com/photos/onpeprensa/\" target=\"_blank\"><img _ngcontent-bbq-c64=\"\" src=\"./assets/imagenes/logo_flickr.png\" alt=\"flickr\" class=\"ico_footer\"></a></div></div></footer></onpe-home-onpe><!----></onpe-root>\\n<script src=\"runtime-es2015.ab9953ec2e465abae7bb.js\" type=\"module\"></script><script src=\"runtime-es5.ab9953ec2e465abae7bb.js\" nomodule=\"\" defer=\"\"></script><script src=\"polyfills-es5.57927b3b209714c5472b.js\" nomodule=\"\" defer=\"\"></script><script src=\"polyfills-es2015.52509035a41bfa93766e.js\" type=\"module\"></script><script src=\"scripts.70faf5a86a90ac363714.js\" defer=\"\"></script><script src=\"main-es2015.a63fb5fd5e0b78be7c8f.js\" type=\"module\"></script><script src=\"main-es5.a63fb5fd5e0b78be7c8f.js\" nomodule=\"\" defer=\"\"></script>\\n<script>\\n    window.NREUM||(NREUM={}),__nr_require=function(t,e,n){function r(n){if(!e[n]){var o=e[n]={exports:{}};t[n][0].call(o.exports,function(e){var o=t[n][1][e];return r(o||e)},o,o.exports)}return e[n].exports}if(\"function\"==typeof __nr_require)return __nr_require;for(var o=0;o<n.length;o++)r(n[o]);return r}({1:[function(t,e,n){function r(t){try{s.console&&console.log(t)}catch(e){}}var o,i=t(\"ee\"),a=t(24),s={};try{o=localStorage.getItem(\"__nr_flags\").split(\",\"),console&&\"function\"==typeof console.log&&(s.console=!0,o.indexOf(\"dev\")!==-1&&(s.dev=!0),o.indexOf(\"nr_dev\")!==-1&&(s.nrDev=!0))}catch(c){}s.nrDev&&i.on(\"internal-error\",function(t){r(t.stack)}),s.dev&&i.on(\"fn-err\",function(t,e,n){r(n.stack)}),s.dev&&(r(\"NR AGENT IN DEVELOPMENT MODE\"),r(\"flags: \"+a(s,function(t,e){return t}).join(\", \")))},{}],2:[function(t,e,n){function r(t,e,n,r,s){try{l?l-=1:o(s||new UncaughtException(t,e,n),!0)}catch(f){try{i(\"ierr\",[f,c.now(),!0])}catch(d){}}return\"function\"==typeof u&&u.apply(this,a(arguments))}function UncaughtException(t,e,n){this.message=t||\"Uncaught error with no additional information\",this.sourceURL=e,this.line=n}function o(t,e){var n=e?null:c.now();i(\"err\",[t,n])}var i=t(\"handle\"),a=t(25),s=t(\"ee\"),c=t(\"loader\"),f=t(\"gos\"),u=window.onerror,d=!1,p=\"nr@seenError\",l=0;c.features.err=!0,t(1),window.onerror=r;try{throw new Error}catch(h){\"stack\"in h&&(t(13),t(12),\"addEventListener\"in window&&t(6),c.xhrWrappable&&t(14),d=!0)}s.on(\"fn-start\",function(t,e,n){d&&(l+=1)}),s.on(\"fn-err\",function(t,e,n){d&&!n[p]&&(f(n,p,function(){return!0}),this.thrown=!0,o(n))}),s.on(\"fn-end\",function(){d&&!this.thrown&&l>0&&(l-=1)}),s.on(\"internal-error\",function(t){i(\"ierr\",[t,c.now(),!0])})},{}],3:[function(t,e,n){t(\"loader\").features.ins=!0},{}],4:[function(t,e,n){function r(){L++,C=g.hash,this[u]=y.now()}function o(){L--,g.hash!==C&&i(0,!0);var t=y.now();this[h]=~~this[h]+t-this[u],this[d]=t}function i(t,e){E.emit(\"newURL\",[\"\"+g,e])}function a(t,e){t.on(e,function(){this[e]=y.now()})}var s=\"-start\",c=\"-end\",f=\"-body\",u=\"fn\"+s,d=\"fn\"+c,p=\"cb\"+s,l=\"cb\"+c,h=\"jsTime\",m=\"fetch\",v=\"addEventListener\",w=window,g=w.location,y=t(\"loader\");if(w[v]&&y.xhrWrappable){var x=t(10),b=t(11),E=t(8),O=t(6),R=t(13),P=t(7),N=t(14),T=t(9),M=t(\"ee\"),S=M.get(\"tracer\");t(16),y.features.spa=!0;var C,L=0;M.on(u,r),M.on(p,r),M.on(d,o),M.on(l,o),M.buffer([u,d,\"xhr-done\",\"xhr-resolved\"]),O.buffer([u]),R.buffer([\"setTimeout\"+c,\"clearTimeout\"+s,u]),N.buffer([u,\"new-xhr\",\"send-xhr\"+s]),P.buffer([m+s,m+\"-done\",m+f+s,m+f+c]),E.buffer([\"newURL\"]),x.buffer([u]),b.buffer([\"propagate\",p,l,\"executor-err\",\"resolve\"+s]),S.buffer([u,\"no-\"+u]),T.buffer([\"new-jsonp\",\"cb-start\",\"jsonp-error\",\"jsonp-end\"]),a(N,\"send-xhr\"+s),a(M,\"xhr-resolved\"),a(M,\"xhr-done\"),a(P,m+s),a(P,m+\"-done\"),a(T,\"new-jsonp\"),a(T,\"jsonp-end\"),a(T,\"cb-start\"),E.on(\"pushState-end\",i),E.on(\"replaceState-end\",i),w[v](\"hashchange\",i,!0),w[v](\"load\",i,!0),w[v](\"popstate\",function(){i(0,L>1)},!0)}},{}],5:[function(t,e,n){function r(t){}if(window.performance&&window.performance.timing&&window.performance.getEntriesByType){var o=t(\"ee\"),i=t(\"handle\"),a=t(13),s=t(12),c=\"learResourceTimings\",f=\"addEventListener\",u=\"resourcetimingbufferfull\",d=\"bstResource\",p=\"resource\",l=\"-start\",h=\"-end\",m=\"fn\"+l,v=\"fn\"+h,w=\"bstTimer\",g=\"pushState\",y=t(\"loader\");y.features.stn=!0,t(8),\"addEventListener\"in window&&t(6);var x=NREUM.o.EV;o.on(m,function(t,e){var n=t[0];n instanceof x&&(this.bstStart=y.now())}),o.on(v,function(t,e){var n=t[0];n instanceof x&&i(\"bst\",[n,e,this.bstStart,y.now()])}),a.on(m,function(t,e,n){this.bstStart=y.now(),this.bstType=n}),a.on(v,function(t,e){i(w,[e,this.bstStart,y.now(),this.bstType])}),s.on(m,function(){this.bstStart=y.now()}),s.on(v,function(t,e){i(w,[e,this.bstStart,y.now(),\"requestAnimationFrame\"])}),o.on(g+l,function(t){this.time=y.now(),this.startPath=location.pathname+location.hash}),o.on(g+h,function(t){i(\"bstHist\",[location.pathname+location.hash,this.startPath,this.time])}),f in window.performance&&(window.performance[\"c\"+c]?window.performance[f](u,function(t){i(d,[window.performance.getEntriesByType(p)]),window.performance[\"c\"+c]()},!1):window.performance[f](\"webkit\"+u,function(t){i(d,[window.performance.getEntriesByType(p)]),window.performance[\"webkitC\"+c]()},!1)),document[f](\"scroll\",r,{passive:!0}),document[f](\"keypress\",r,!1),document[f](\"click\",r,!1)}},{}],6:[function(t,e,n){function r(t){for(var e=t;e&&!e.hasOwnProperty(u);)e=Object.getPrototypeOf(e);e&&o(e)}function o(t){s.inPlace(t,[u,d],\"-\",i)}function i(t,e){return t[1]}var a=t(\"ee\").get(\"events\"),s=t(\"wrap-function\")(a,!0),c=t(\"gos\"),f=XMLHttpRequest,u=\"addEventListener\",d=\"removeEventListener\";e.exports=a,\"getPrototypeOf\"in Object?(r(document),r(window),r(f.prototype)):f.prototype.hasOwnProperty(u)&&(o(window),o(f.prototype)),a.on(u+\"-start\",function(t,e){var n=t[1],r=c(n,\"nr@wrapped\",function(){function t(){if(\"function\"==typeof n.handleEvent)return n.handleEvent.apply(n,arguments)}var e={object:t,\"function\":n}[typeof n];return e?s(e,\"fn-\",null,e.name||\"anonymous\"):n});this.wrapped=t[1]=r}),a.on(d+\"-start\",function(t){t[1]=this.wrapped||t[1]})},{}],7:[function(t,e,n){function r(t,e,n){var r=t[e];\"function\"==typeof r&&(t[e]=function(){var t=i(arguments),e={};o.emit(n+\"before-start\",[t],e);var a;e[m]&&e[m].dt&&(a=e[m].dt);var s=r.apply(this,t);return o.emit(n+\"start\",[t,a],s),s.then(function(t){return o.emit(n+\"end\",[null,t],s),t},function(t){throw o.emit(n+\"end\",[t],s),t})})}var o=t(\"ee\").get(\"fetch\"),i=t(25),a=t(24);e.exports=o;var s=window,c=\"fetch-\",f=c+\"body-\",u=[\"arrayBuffer\",\"blob\",\"json\",\"text\",\"formData\"],d=s.Request,p=s.Response,l=s.fetch,h=\"prototype\",m=\"nr@context\";d&&p&&l&&(a(u,function(t,e){r(d[h],e,f),r(p[h],e,f)}),r(s,\"fetch\",c),o.on(c+\"end\",function(t,e){var n=this;if(e){var r=e.headers.get(\"content-length\");null!==r&&(n.rxSize=r),o.emit(c+\"done\",[null,e],n)}else o.emit(c+\"done\",[t],n)}))},{}],8:[function(t,e,n){var r=t(\"ee\").get(\"history\"),o=t(\"wrap-function\")(r);e.exports=r;var i=window.history&&window.history.constructor&&window.history.constructor.prototype,a=window.history;i&&i.pushState&&i.replaceState&&(a=i),o.inPlace(a,[\"pushState\",\"replaceState\"],\"-\")},{}],9:[function(t,e,n){function r(t){function e(){c.emit(\"jsonp-end\",[],p),t.removeEventListener(\"load\",e,!1),t.removeEventListener(\"error\",n,!1)}function n(){c.emit(\"jsonp-error\",[],p),c.emit(\"jsonp-end\",[],p),t.removeEventListener(\"load\",e,!1),t.removeEventListener(\"error\",n,!1)}var r=t&&\"string\"==typeof t.nodeName&&\"script\"===t.nodeName.toLowerCase();if(r){var o=\"function\"==typeof t.addEventListener;if(o){var a=i(t.src);if(a){var u=s(a),d=\"function\"==typeof u.parent[u.key];if(d){var p={};f.inPlace(u.parent,[u.key],\"cb-\",p),t.addEventListener(\"load\",e,!1),t.addEventListener(\"error\",n,!1),c.emit(\"new-jsonp\",[t.src],p)}}}}}function o(){return\"addEventListener\"in window}function i(t){var e=t.match(u);return e?e[1]:null}function a(t,e){var n=t.match(p),r=n[1],o=n[3];return o?a(o,e[r]):e[r]}function s(t){var e=t.match(d);return e&&e.length>=3?{key:e[2],parent:a(e[1],window)}:{key:t,parent:window}}var c=t(\"ee\").get(\"jsonp\"),f=t(\"wrap-function\")(c);if(e.exports=c,o()){var u=/[?&](?:callback|cb)=([^&#]+)/,d=/(.*)\\\\.([^.]+)/,p=/^(\\\\w+)(\\\\.|$)(.*)$/,l=[\"appendChild\",\"insertBefore\",\"replaceChild\"];Node&&Node.prototype&&Node.prototype.appendChild?f.inPlace(Node.prototype,l,\"dom-\"):(f.inPlace(HTMLElement.prototype,l,\"dom-\"),f.inPlace(HTMLHeadElement.prototype,l,\"dom-\"),f.inPlace(HTMLBodyElement.prototype,l,\"dom-\")),c.on(\"dom-start\",function(t){r(t[0])})}},{}],10:[function(t,e,n){var r=t(\"ee\").get(\"mutation\"),o=t(\"wrap-function\")(r),i=NREUM.o.MO;e.exports=r,i&&(window.MutationObserver=function(t){return this instanceof i?new i(o(t,\"fn-\")):i.apply(this,arguments)},MutationObserver.prototype=i.prototype)},{}],11:[function(t,e,n){function r(t){var e=a.context(),n=s(t,\"executor-\",e),r=new f(n);return a.context(r).getCtx=function(){return e},a.emit(\"new-promise\",[r,e],e),r}function o(t,e){return e}var i=t(\"wrap-function\"),a=t(\"ee\").get(\"promise\"),s=i(a),c=t(24),f=NREUM.o.PR;e.exports=a,f&&(window.Promise=r,[\"all\",\"race\"].forEach(function(t){var e=f[t];f[t]=function(n){function r(t){return function(){a.emit(\"propagate\",[null,!o],i),o=o||!t}}var o=!1;c(n,function(e,n){Promise.resolve(n).then(r(\"all\"===t),r(!1))});var i=e.apply(f,arguments),s=f.resolve(i);return s}}),[\"resolve\",\"reject\"].forEach(function(t){var e=f[t];f[t]=function(t){var n=e.apply(f,arguments);return t!==n&&a.emit(\"propagate\",[t,!0],n),n}}),f.prototype[\"catch\"]=function(t){return this.then(null,t)},f.prototype=Object.create(f.prototype,{constructor:{value:r}}),c(Object.getOwnPropertyNames(f),function(t,e){try{r[e]=f[e]}catch(n){}}),a.on(\"executor-start\",function(t){t[0]=s(t[0],\"resolve-\",this),t[1]=s(t[1],\"resolve-\",this)}),a.on(\"executor-err\",function(t,e,n){t[1](n)}),s.inPlace(f.prototype,[\"then\"],\"then-\",o),a.on(\"then-start\",function(t,e){this.promise=e,t[0]=s(t[0],\"cb-\",this),t[1]=s(t[1],\"cb-\",this)}),a.on(\"then-end\",function(t,e,n){this.nextPromise=n;var r=this.promise;a.emit(\"propagate\",[r,!0],n)}),a.on(\"cb-end\",function(t,e,n){a.emit(\"propagate\",[n,!0],this.nextPromise)}),a.on(\"propagate\",function(t,e,n){this.getCtx&&!e||(this.getCtx=function(){if(t instanceof Promise)var e=a.context(t);return e&&e.getCtx?e.getCtx():this})}),r.toString=function(){return\"\"+f})},{}],12:[function(t,e,n){var r=t(\"ee\").get(\"raf\"),o=t(\"wrap-function\")(r),i=\"equestAnimationFrame\";e.exports=r,o.inPlace(window,[\"r\"+i,\"mozR\"+i,\"webkitR\"+i,\"msR\"+i],\"raf-\"),r.on(\"raf-start\",function(t){t[0]=o(t[0],\"fn-\")})},{}],13:[function(t,e,n){function r(t,e,n){t[0]=a(t[0],\"fn-\",null,n)}function o(t,e,n){this.method=n,this.timerDuration=isNaN(t[1])?0:+t[1],t[0]=a(t[0],\"fn-\",this,n)}var i=t(\"ee\").get(\"timer\"),a=t(\"wrap-function\")(i),s=\"setTimeout\",c=\"setInterval\",f=\"clearTimeout\",u=\"-start\",d=\"-\";e.exports=i,a.inPlace(window,[s,\"setImmediate\"],s+d),a.inPlace(window,[c],c+d),a.inPlace(window,[f,\"clearImmediate\"],f+d),i.on(c+u,r),i.on(s+u,o)},{}],14:[function(t,e,n){function r(t,e){d.inPlace(e,[\"onreadystatechange\"],\"fn-\",s)}function o(){var t=this,e=u.context(t);t.readyState>3&&!e.resolved&&(e.resolved=!0,u.emit(\"xhr-resolved\",[],t)),d.inPlace(t,g,\"fn-\",s)}function i(t){y.push(t),h&&(b?b.then(a):v?v(a):(E=-E,O.data=E))}function a(){for(var t=0;t<y.length;t++)r([],y[t]);y.length&&(y=[])}function s(t,e){return e}function c(t,e){for(var n in t)e[n]=t[n];return e}t(6);var f=t(\"ee\"),u=f.get(\"xhr\"),d=t(\"wrap-function\")(u),p=NREUM.o,l=p.XHR,h=p.MO,m=p.PR,v=p.SI,w=\"readystatechange\",g=[\"onload\",\"onerror\",\"onabort\",\"onloadstart\",\"onloadend\",\"onprogress\",\"ontimeout\"],y=[];e.exports=u;var x=window.XMLHttpRequest=function(t){var e=new l(t);try{u.emit(\"new-xhr\",[e],e),e.addEventListener(w,o,!1)}catch(n){try{u.emit(\"internal-error\",[n])}catch(r){}}return e};if(c(l,x),x.prototype=l.prototype,d.inPlace(x.prototype,[\"open\",\"send\"],\"-xhr-\",s),u.on(\"send-xhr-start\",function(t,e){r(t,e),i(e)}),u.on(\"open-xhr-start\",r),h){var b=m&&m.resolve();if(!v&&!m){var E=1,O=document.createTextNode(E);new h(a).observe(O,{characterData:!0})}}else f.on(\"fn-end\",function(t){t[0]&&t[0].type===w||a()})},{}],15:[function(t,e,n){function r(t){if(!i(t))return null;var e=window.NREUM;if(!e.loader_config)return null;var n=(e.loader_config.accountID||\"\").toString()||null,r=(e.loader_config.agentID||\"\").toString()||null,s=(e.loader_config.trustKey||\"\").toString()||null;if(!n||!r)return null;var c=a.generateCatId(),f=a.generateCatId(),u=Date.now(),d=o(c,f,u,n,r,s);return{header:d,guid:c,traceId:f,timestamp:u}}function o(t,e,n,r,o,i){var a=\"btoa\"in window&&\"function\"==typeof window.btoa;if(!a)return null;var s={v:[0,1],d:{ty:\"Browser\",ac:r,ap:o,id:t,tr:e,ti:n}};return i&&r!==i&&(s.d.tk=i),btoa(JSON.stringify(s))}function i(t){var e=!1,n=!1,r={};if(\"init\"in NREUM&&\"distributed_tracing\"in NREUM.init&&(r=NREUM.init.distributed_tracing,n=!!r.enabled),n)if(t.sameOrigin)e=!0;else if(r.allowed_origins instanceof Array)for(var o=0;o<r.allowed_origins.length;o++){var i=s(r.allowed_origins[o]);if(t.hostname===i.hostname&&t.protocol===i.protocol&&t.port===i.port){e=!0;break}}return n&&e}var a=t(22),s=t(17);e.exports={generateTracePayload:r,shouldGenerateTrace:i}},{}],16:[function(t,e,n){function r(t){var e=this.params,n=this.metrics;if(!this.ended){this.ended=!0;for(var r=0;r<l;r++)t.removeEventListener(p[r],this.listener,!1);e.aborted||(n.duration=s.now()-this.startTime,this.loadCaptureCalled||4!==t.readyState?null==e.status&&(e.status=0):a(this,t),n.cbTime=this.cbTime,d.emit(\"xhr-done\",[t],t),c(\"xhr\",[e,n,this.startTime]))}}function o(t,e){var n=t.responseType;if(\"json\"===n&&null!==e)return e;var r=\"arraybuffer\"===n||\"blob\"===n||\"json\"===n?t.response:t.responseText;return v(r)}function i(t,e){var n=f(e),r=t.params;r.host=n.hostname+\":\"+n.port,r.pathname=n.pathname,t.parsedOrigin=f(e),t.sameOrigin=t.parsedOrigin.sameOrigin}function a(t,e){t.params.status=e.status;var n=o(e,t.lastSize);if(n&&(t.metrics.rxSize=n),t.sameOrigin){var r=e.getResponseHeader(\"X-NewRelic-App-Data\");r&&(t.params.cat=r.split(\", \").pop())}t.loadCaptureCalled=!0}var s=t(\"loader\");if(s.xhrWrappable){var c=t(\"handle\"),f=t(17),u=t(15).generateTracePayload,d=t(\"ee\"),p=[\"load\",\"error\",\"abort\",\"timeout\"],l=p.length,h=t(\"id\"),m=t(20),v=t(19),w=window.XMLHttpRequest;s.features.xhr=!0,t(14),t(7),d.on(\"new-xhr\",function(t){var e=this;e.totalCbs=0,e.called=0,e.cbTime=0,e.end=r,e.ended=!1,e.xhrGuids={},e.lastSize=null,e.loadCaptureCalled=!1,t.addEventListener(\"load\",function(n){a(e,t)},!1),m&&(m>34||m<10)||window.opera||t.addEventListener(\"progress\",function(t){e.lastSize=t.loaded},!1)}),d.on(\"open-xhr-start\",function(t){this.params={method:t[0]},i(this,t[1]),this.metrics={}}),d.on(\"open-xhr-end\",function(t,e){\"loader_config\"in NREUM&&\"xpid\"in NREUM.loader_config&&this.sameOrigin&&e.setRequestHeader(\"X-NewRelic-ID\",NREUM.loader_config.xpid);var n=u(this.parsedOrigin);n&&n.header&&(e.setRequestHeader(\"newrelic\",n.header),this.dt=n)}),d.on(\"send-xhr-start\",function(t,e){var n=this.metrics,r=t[0],o=this;if(n&&r){var i=v(r);i&&(n.txSize=i)}this.startTime=s.now(),this.listener=function(t){try{\"abort\"!==t.type||o.loadCaptureCalled||(o.params.aborted=!0),(\"load\"!==t.type||o.called===o.totalCbs&&(o.onloadCalled||\"function\"!=typeof e.onload))&&o.end(e)}catch(n){try{d.emit(\"internal-error\",[n])}catch(r){}}};for(var a=0;a<l;a++)e.addEventListener(p[a],this.listener,!1)}),d.on(\"xhr-cb-time\",function(t,e,n){this.cbTime+=t,e?this.onloadCalled=!0:this.called+=1,this.called!==this.totalCbs||!this.onloadCalled&&\"function\"==typeof n.onload||this.end(n)}),d.on(\"xhr-load-added\",function(t,e){var n=\"\"+h(t)+!!e;this.xhrGuids&&!this.xhrGuids[n]&&(this.xhrGuids[n]=!0,this.totalCbs+=1)}),d.on(\"xhr-load-removed\",function(t,e){var n=\"\"+h(t)+!!e;this.xhrGuids&&this.xhrGuids[n]&&(delete this.xhrGuids[n],this.totalCbs-=1)}),d.on(\"addEventListener-end\",function(t,e){e instanceof w&&\"load\"===t[0]&&d.emit(\"xhr-load-added\",[t[1],t[2]],e)}),d.on(\"removeEventListener-end\",function(t,e){e instanceof w&&\"load\"===t[0]&&d.emit(\"xhr-load-removed\",[t[1],t[2]],e)}),d.on(\"fn-start\",function(t,e,n){e instanceof w&&(\"onload\"===n&&(this.onload=!0),(\"load\"===(t[0]&&t[0].type)||this.onload)&&(this.xhrCbStart=s.now()))}),d.on(\"fn-end\",function(t,e){this.xhrCbStart&&d.emit(\"xhr-cb-time\",[s.now()-this.xhrCbStart,this.onload,e],e)}),d.on(\"fetch-before-start\",function(t){var e,n=t[1]||{};\"string\"==typeof t[0]?e=t[0]:t[0]&&t[0].url&&(e=t[0].url),e&&(this.parsedOrigin=f(e),this.sameOrigin=this.parsedOrigin.sameOrigin);var r=u(this.parsedOrigin);if(r&&r.header){var o=r.header;if(\"string\"==typeof t[0]){var i={};for(var a in n)i[a]=n[a];i.headers=new Headers(n.headers||{}),i.headers.set(\"newrelic\",o),this.dt=r,t.length>1?t[1]=i:t.push(i)}else t[0]&&t[0].headers&&(t[0].headers.append(\"newrelic\",o),this.dt=r)}})}},{}],17:[function(t,e,n){var r={};e.exports=function(t){if(t in r)return r[t];var e=document.createElement(\"a\"),n=window.location,o={};e.href=t,o.port=e.port;var i=e.href.split(\"://\");!o.port&&i[1]&&(o.port=i[1].split(\"/\")[0].split(\"@\").pop().split(\":\")[1]),o.port&&\"0\"!==o.port||(o.port=\"https\"===i[0]?\"443\":\"80\"),o.hostname=e.hostname||n.hostname,o.pathname=e.pathname,o.protocol=i[0],\"/\"!==o.pathname.charAt(0)&&(o.pathname=\"/\"+o.pathname);var a=!e.protocol||\":\"===e.protocol||e.protocol===n.protocol,s=e.hostname===document.domain&&e.port===n.port;return o.sameOrigin=a&&(!e.hostname||s),\"/\"===o.pathname&&(r[t]=o),o}},{}],18:[function(t,e,n){function r(){}function o(t,e,n){return function(){return i(t,[f.now()].concat(s(arguments)),e?null:this,n),e?void 0:this}}var i=t(\"handle\"),a=t(24),s=t(25),c=t(\"ee\").get(\"tracer\"),f=t(\"loader\"),u=NREUM;\"undefined\"==typeof window.newrelic&&(newrelic=u);var d=[\"setPageViewName\",\"setCustomAttribute\",\"setErrorHandler\",\"finished\",\"addToTrace\",\"inlineHit\",\"addRelease\"],p=\"api-\",l=p+\"ixn-\";a(d,function(t,e){u[e]=o(p+e,!0,\"api\")}),u.addPageAction=o(p+\"addPageAction\",!0),u.setCurrentRouteName=o(p+\"routeName\",!0),e.exports=newrelic,u.interaction=function(){return(new r).get()};var h=r.prototype={createTracer:function(t,e){var n={},r=this,o=\"function\"==typeof e;return i(l+\"tracer\",[f.now(),t,n],r),function(){if(c.emit((o?\"\":\"no-\")+\"fn-start\",[f.now(),r,o],n),o)try{return e.apply(this,arguments)}catch(t){throw c.emit(\"fn-err\",[arguments,this,t],n),t}finally{c.emit(\"fn-end\",[f.now()],n)}}}};a(\"actionText,setName,setAttribute,save,ignore,onEnd,getContext,end,get\".split(\",\"),function(t,e){h[e]=o(l+e)}),newrelic.noticeError=function(t,e){\"string\"==typeof t&&(t=new Error(t)),i(\"err\",[t,f.now(),!1,e])}},{}],19:[function(t,e,n){e.exports=function(t){if(\"string\"==typeof t&&t.length)return t.length;if(\"object\"==typeof t){if(\"undefined\"!=typeof ArrayBuffer&&t instanceof ArrayBuffer&&t.byteLength)return t.byteLength;if(\"undefined\"!=typeof Blob&&t instanceof Blob&&t.size)return t.size;if(!(\"undefined\"!=typeof FormData&&t instanceof FormData))try{return JSON.stringify(t).length}catch(e){return}}}},{}],20:[function(t,e,n){var r=0,o=navigator.userAgent.match(/Firefox[\\\\/\\\\s](\\\\d+\\\\.\\\\d+)/);o&&(r=+o[1]),e.exports=r},{}],21:[function(t,e,n){function r(t,e){var n=t.getEntries();n.forEach(function(t){\"first-paint\"===t.name?a(\"timing\",[\"fp\",Math.floor(t.startTime)]):\"first-contentful-paint\"===t.name&&a(\"timing\",[\"fcp\",Math.floor(t.startTime)])})}function o(t){if(t instanceof c&&!u){var e,n=Math.round(t.timeStamp);e=n>1e12?Date.now()-n:s.now()-n,u=!0,a(\"timing\",[\"fi\",n,{type:t.type,fid:e}])}}if(!(\"init\"in NREUM&&\"page_view_timing\"in NREUM.init&&\"enabled\"in NREUM.init.page_view_timing&&NREUM.init.page_view_timing.enabled===!1)){var i,a=t(\"handle\"),s=t(\"loader\"),c=NREUM.o.EV;if(\"PerformanceObserver\"in window&&\"function\"==typeof window.PerformanceObserver){i=new PerformanceObserver(r);try{i.observe({entryTypes:[\"paint\"]})}catch(f){}}if(\"addEventListener\"in document){var u=!1,d=[\"click\",\"keydown\",\"mousedown\",\"pointerdown\",\"touchstart\"];d.forEach(function(t){document.addEventListener(t,o,!1)})}}},{}],22:[function(t,e,n){function r(){function t(){return e?15&e[n++]:16*Math.random()|0}var e=null,n=0,r=window.crypto||window.msCrypto;r&&r.getRandomValues&&(e=r.getRandomValues(new Uint8Array(31)));for(var o,i=\"xxxxxxxx-xxxx-4xxx-yxxx-xxxxxxxxxxxx\",a=\"\",s=0;s<i.length;s++)o=i[s],\"x\"===o?a+=t().toString(16):\"y\"===o?(o=3&t()|8,a+=o.toString(16)):a+=o;return a}function o(){function t(){return e?15&e[n++]:16*Math.random()|0}var e=null,n=0,r=window.crypto||window.msCrypto;r&&r.getRandomValues&&Uint8Array&&(e=r.getRandomValues(new Uint8Array(31)));for(var o=[],i=0;i<16;i++)o.push(t().toString(16));return o.join(\"\")}e.exports={generateUuid:r,generateCatId:o}},{}],23:[function(t,e,n){function r(t,e){if(!o)return!1;if(t!==o)return!1;if(!e)return!0;if(!i)return!1;for(var n=i.split(\".\"),r=e.split(\".\"),a=0;a<r.length;a++)if(r[a]!==n[a])return!1;return!0}var o=null,i=null,a=/Version\\\\/(\\\\S+)\\\\s+Safari/;if(navigator.userAgent){var s=navigator.userAgent,c=s.match(a);c&&s.indexOf(\"Chrome\")===-1&&s.indexOf(\"Chromium\")===-1&&(o=\"Safari\",i=c[1])}e.exports={agent:o,version:i,match:r}},{}],24:[function(t,e,n){function r(t,e){var n=[],r=\"\",i=0;for(r in t)o.call(t,r)&&(n[i]=e(r,t[r]),i+=1);return n}var o=Object.prototype.hasOwnProperty;e.exports=r},{}],25:[function(t,e,n){function r(t,e,n){e||(e=0),\"undefined\"==typeof n&&(n=t?t.length:0);for(var r=-1,o=n-e||0,i=Array(o<0?0:o);++r<o;)i[r]=t[e+r];return i}e.exports=r},{}],26:[function(t,e,n){e.exports={exists:\"undefined\"!=typeof window.performance&&window.performance.timing&&\"undefined\"!=typeof window.performance.timing.navigationStart}},{}],ee:[function(t,e,n){function r(){}function o(t){function e(t){return t&&t instanceof r?t:t?c(t,s,i):i()}function n(n,r,o,i){if(!p.aborted||i){t&&t(n,r,o);for(var a=e(o),s=m(n),c=s.length,f=0;f<c;f++)s[f].apply(a,r);var d=u[y[n]];return d&&d.push([x,n,r,a]),a}}function l(t,e){g[t]=m(t).concat(e)}function h(t,e){var n=g[t];if(n)for(var r=0;r<n.length;r++)n[r]===e&&n.splice(r,1)}function m(t){return g[t]||[]}function v(t){return d[t]=d[t]||o(n)}function w(t,e){f(t,function(t,n){e=e||\"feature\",y[n]=e,e in u||(u[e]=[])})}var g={},y={},x={on:l,addEventListener:l,removeEventListener:h,emit:n,get:v,listeners:m,context:e,buffer:w,abort:a,aborted:!1};return x}function i(){return new r}function a(){(u.api||u.feature)&&(p.aborted=!0,u=p.backlog={})}var s=\"nr@context\",c=t(\"gos\"),f=t(24),u={},d={},p=e.exports=o();p.backlog=u},{}],gos:[function(t,e,n){function r(t,e,n){if(o.call(t,e))return t[e];var r=n();if(Object.defineProperty&&Object.keys)try{return Object.defineProperty(t,e,{value:r,writable:!0,enumerable:!1}),r}catch(i){}return t[e]=r,r}var o=Object.prototype.hasOwnProperty;e.exports=r},{}],handle:[function(t,e,n){function r(t,e,n,r){o.buffer([t],r),o.emit(t,e,n)}var o=t(\"ee\").get(\"handle\");e.exports=r,r.ee=o},{}],id:[function(t,e,n){function r(t){var e=typeof t;return!t||\"object\"!==e&&\"function\"!==e?-1:t===window?0:a(t,i,function(){return o++})}var o=1,i=\"nr@id\",a=t(\"gos\");e.exports=r},{}],loader:[function(t,e,n){function r(){if(!E++){var t=b.info=NREUM.info,e=l.getElementsByTagName(\"script\")[0];if(setTimeout(u.abort,3e4),!(t&&t.licenseKey&&t.applicationID&&e))return u.abort();f(y,function(e,n){t[e]||(t[e]=n)}),c(\"mark\",[\"onload\",a()+b.offset],null,\"api\");var n=l.createElement(\"script\");n.src=\"https://\"+t.agent,e.parentNode.insertBefore(n,e)}}function o(){\"complete\"===l.readyState&&i()}function i(){c(\"mark\",[\"domContent\",a()+b.offset],null,\"api\")}function a(){return O.exists&&performance.now?Math.round(performance.now()):(s=Math.max((new Date).getTime(),s))-b.offset}var s=(new Date).getTime(),c=t(\"handle\"),f=t(24),u=t(\"ee\"),d=t(23),p=window,l=p.document,h=\"addEventListener\",m=\"attachEvent\",v=p.XMLHttpRequest,w=v&&v.prototype;NREUM.o={ST:setTimeout,SI:p.setImmediate,CT:clearTimeout,XHR:v,REQ:p.Request,EV:p.Event,PR:p.Promise,MO:p.MutationObserver};var g=\"\"+location,y={beacon:\"bam.nr-data.net\",errorBeacon:\"bam.nr-data.net\",agent:\"js-agent.newrelic.com/nr-spa-1158.min.js\"},x=v&&w&&w[h]&&!/CriOS/.test(navigator.userAgent),b=e.exports={offset:s,now:a,origin:g,features:{},xhrWrappable:x,userAgent:d};t(18),t(21),l[h]?(l[h](\"DOMContentLoaded\",i,!1),p[h](\"load\",r,!1)):(l[m](\"onreadystatechange\",o),p[m](\"onload\",r)),c(\"mark\",[\"firstbyte\",s],null,\"api\");var E=0,O=t(26)},{}],\"wrap-function\":[function(t,e,n){function r(t){return!(t&&t instanceof Function&&t.apply&&!t[a])}var o=t(\"ee\"),i=t(25),a=\"nr@original\",s=Object.prototype.hasOwnProperty,c=!1;e.exports=function(t,e){function n(t,e,n,o){function nrWrapper(){var r,a,s,c;try{a=this,r=i(arguments),s=\"function\"==typeof n?n(r,a):n||{}}catch(f){p([f,\"\",[r,a,o],s])}u(e+\"start\",[r,a,o],s);try{return c=t.apply(a,r)}catch(d){throw u(e+\"err\",[r,a,d],s),d}finally{u(e+\"end\",[r,a,c],s)}}return r(t)?t:(e||(e=\"\"),nrWrapper[a]=t,d(t,nrWrapper),nrWrapper)}function f(t,e,o,i){o||(o=\"\");var a,s,c,f=\"-\"===o.charAt(0);for(c=0;c<e.length;c++)s=e[c],a=t[s],r(a)||(t[s]=n(a,f?s+o:o,i,s))}function u(n,r,o){if(!c||e){var i=c;c=!0;try{t.emit(n,r,o,e)}catch(a){p([a,n,r,o])}c=i}}function d(t,e){if(Object.defineProperty&&Object.keys)try{var n=Object.keys(t);return n.forEach(function(n){Object.defineProperty(e,n,{get:function(){return t[n]},set:function(e){return t[n]=e,e}})}),e}catch(r){p([r])}for(var o in t)s.call(t,o)&&(e[o]=t[o]);return e}function p(e){try{t.emit(\"internal-error\",e)}catch(n){}}return t||(t=o),n.inPlace=f,n.flag=a,n}},{}]},{},[\"loader\",2,16,5,3,4]);\\n;NREUM.loader_config={accountID:\"1997682\",trustKey:\"1997682\",agentID:\"507167406\",licenseKey:\"df67590f5e\",applicationID:\"507167406\"}\\n;NREUM.info={beacon:\"bam.nr-data.net\",errorBeacon:\"bam.nr-data.net\",licenseKey:\"df67590f5e\",applicationID:\"507167406\",sa:1}\\n    </script>\\n\\n</body></html>'"
      ]
     },
     "execution_count": 15,
     "metadata": {},
     "output_type": "execute_result"
    }
   ],
   "source": [
    "# Get page source\n",
    "type(driver.page_source)\n",
    "driver.page_source"
   ]
  },
  {
   "cell_type": "code",
   "execution_count": 16,
   "metadata": {},
   "outputs": [],
   "source": [
    "# Refresh the page - \n",
    "time.sleep(4)\n",
    "driver.refresh() #reload or refresh the browser"
   ]
  },
  {
   "cell_type": "code",
   "execution_count": 17,
   "metadata": {},
   "outputs": [],
   "source": [
    "#back page \n",
    "\n",
    "time.sleep(4)\n",
    "driver.back()"
   ]
  },
  {
   "cell_type": "code",
   "execution_count": 14,
   "metadata": {},
   "outputs": [
    {
     "name": "stderr",
     "output_type": "stream",
     "text": [
      "C:\\Users\\Roberto\\AppData\\Local\\Temp\\ipykernel_12316\\1794020750.py:1: DeprecationWarning: executable_path has been deprecated, please pass in a Service object\n",
      "  driver = webdriver.Chrome(\"chromedriver.exe\")\n"
     ]
    }
   ],
   "source": [
    "driver = webdriver.Chrome(\"chromedriver.exe\")\n",
    "driver.maximize_window()\n",
    "\n",
    "url_2 = \"https://www.google.com/\"\n",
    "driver.get( url_2 )\n",
    "time.sleep(10)\n",
    "\n",
    "driver.back() #return page "
   ]
  },
  {
   "cell_type": "code",
   "execution_count": 18,
   "metadata": {},
   "outputs": [
    {
     "name": "stdout",
     "output_type": "stream",
     "text": [
      "\n"
     ]
    },
    {
     "name": "stderr",
     "output_type": "stream",
     "text": [
      "[WDM] - ====== WebDriver manager ======\n",
      "[WDM] - Current google-chrome version is 102.0.5005\n",
      "[WDM] - Get LATEST chromedriver version for 102.0.5005 google-chrome\n",
      "[WDM] - Driver [C:\\Users\\Roberto\\.wdm\\drivers\\chromedriver\\win32\\102.0.5005.61\\chromedriver.exe] found in cache\n",
      "C:\\Users\\Roberto\\AppData\\Local\\Temp\\ipykernel_25236\\2027117366.py:1: DeprecationWarning: executable_path has been deprecated, please pass in a Service object\n",
      "  driver1 = webdriver.Chrome( ChromeDriverManager().install() )\n"
     ]
    },
    {
     "name": "stdout",
     "output_type": "stream",
     "text": [
      "\n"
     ]
    },
    {
     "name": "stderr",
     "output_type": "stream",
     "text": [
      "[WDM] - ====== WebDriver manager ======\n",
      "[WDM] - Current google-chrome version is 102.0.5005\n",
      "[WDM] - Get LATEST chromedriver version for 102.0.5005 google-chrome\n",
      "[WDM] - Driver [C:\\Users\\Roberto\\.wdm\\drivers\\chromedriver\\win32\\102.0.5005.61\\chromedriver.exe] found in cache\n",
      "C:\\Users\\Roberto\\AppData\\Local\\Temp\\ipykernel_25236\\2027117366.py:8: DeprecationWarning: executable_path has been deprecated, please pass in a Service object\n",
      "  driver2 = webdriver.Chrome( ChromeDriverManager().install() )\n"
     ]
    }
   ],
   "source": [
    "driver1 = webdriver.Chrome( ChromeDriverManager().install() )\n",
    "driver1.maximize_window()\n",
    "\n",
    "url_1 = \"https://resultadoshistorico.onpe.gob.pe/EG2021/\"\n",
    "driver1.get( url_1 )\n",
    "time.sleep(3)\n",
    "\n",
    "driver2 = webdriver.Chrome( ChromeDriverManager().install() )\n",
    "driver2.maximize_window()\n",
    "\n",
    "\n",
    "url_2 = \"https://www.google.com/\"\n",
    "driver2.get( url_2 )\n",
    "time.sleep(3)\n",
    "\n",
    "#driver2.back()"
   ]
  },
  {
   "cell_type": "code",
   "execution_count": 19,
   "metadata": {},
   "outputs": [],
   "source": [
    "# Close web\n",
    "\n",
    "\n",
    "driver2.close()"
   ]
  },
  {
   "cell_type": "code",
   "execution_count": 20,
   "metadata": {},
   "outputs": [],
   "source": [
    "driver1.quit()"
   ]
  },
  {
   "cell_type": "markdown",
   "metadata": {},
   "source": [
    "![Quite and Close](Images/quite_close.png)"
   ]
  },
  {
   "cell_type": "code",
   "execution_count": 18,
   "metadata": {},
   "outputs": [
    {
     "data": {
      "text/plain": [
       "selenium.webdriver.chrome.webdriver.WebDriver"
      ]
     },
     "execution_count": 18,
     "metadata": {},
     "output_type": "execute_result"
    }
   ],
   "source": [
    "type(driver1)"
   ]
  },
  {
   "cell_type": "markdown",
   "metadata": {},
   "source": [
    "`driver` is an `selenium.webdriver.chrome.webdriver.WebDriver` object. This object has some attributes that will help us to navigate on the web."
   ]
  },
  {
   "cell_type": "markdown",
   "metadata": {},
   "source": [
    "Now, you can see in the driver that we are in [this link](https://www.convocatoriascas.com/)."
   ]
  },
  {
   "cell_type": "markdown",
   "metadata": {},
   "source": [
    "**Best Practices before working**"
   ]
  },
  {
   "cell_type": "markdown",
   "metadata": {},
   "source": [
    "1. Maximize the browser"
   ]
  },
  {
   "cell_type": "code",
   "execution_count": 24,
   "metadata": {},
   "outputs": [
    {
     "name": "stdout",
     "output_type": "stream",
     "text": [
      "\n"
     ]
    },
    {
     "name": "stderr",
     "output_type": "stream",
     "text": [
      "[WDM] - ====== WebDriver manager ======\n",
      "[WDM] - Current google-chrome version is 102.0.5005\n",
      "[WDM] - Get LATEST chromedriver version for 102.0.5005 google-chrome\n",
      "[WDM] - Driver [C:\\Users\\Roberto\\.wdm\\drivers\\chromedriver\\win32\\102.0.5005.61\\chromedriver.exe] found in cache\n",
      "C:\\Users\\Roberto\\AppData\\Local\\Temp\\ipykernel_12316\\3445412002.py:1: DeprecationWarning: executable_path has been deprecated, please pass in a Service object\n",
      "  driver2 = webdriver.Chrome( ChromeDriverManager().install() )\n"
     ]
    }
   ],
   "source": [
    "driver2 = webdriver.Chrome( ChromeDriverManager().install() )\n",
    "\n",
    "url = 'https://resultadoshistorico.onpe.gob.pe/EG2021/'\n",
    "driver2.get( url )\n",
    "\n",
    "driver2.maximize_window()"
   ]
  },
  {
   "cell_type": "code",
   "execution_count": 28,
   "metadata": {},
   "outputs": [
    {
     "name": "stdout",
     "output_type": "stream",
     "text": [
      "\n"
     ]
    },
    {
     "name": "stderr",
     "output_type": "stream",
     "text": [
      "[WDM] - ====== WebDriver manager ======\n",
      "[WDM] - Current google-chrome version is 102.0.5005\n",
      "[WDM] - Get LATEST chromedriver version for 102.0.5005 google-chrome\n",
      "[WDM] - Driver [C:\\Users\\Roberto\\.wdm\\drivers\\chromedriver\\win32\\102.0.5005.61\\chromedriver.exe] found in cache\n",
      "C:\\Users\\Roberto\\AppData\\Local\\Temp\\ipykernel_12316\\4293532490.py:1: DeprecationWarning: executable_path has been deprecated, please pass in a Service object\n",
      "  driver1 = webdriver.Chrome( ChromeDriverManager().install() )\n"
     ]
    }
   ],
   "source": [
    "driver1 = webdriver.Chrome( ChromeDriverManager().install() )\n",
    "\n",
    "url = 'https://resultadoshistorico.onpe.gob.pe/EG2021/'\n",
    "driver1.get( url )\n",
    "\n",
    "driver1.maximize_window()"
   ]
  },
  {
   "cell_type": "markdown",
   "metadata": {},
   "source": [
    "### 7.4.1. HTML\n",
    "HTML stands for HyperText Markup Language. You can deduce that it’s a language for creating web pages. It’s not a programming language like Python or Java, but it’s a markup language. It describes the elements of a page through tags characterized by angle brackets.\n",
    "\n",
    "1. The document always begins and ends using `<html>` and `</html>`.\n",
    "2. `<body></body>` constitutes the visible part of HTML document.\n",
    "3. `<h1>` to `<h3>` tags are defined for the headings."
   ]
  },
  {
   "cell_type": "markdown",
   "metadata": {},
   "source": [
    "#### 7.4.1.1. HTML Headings\n",
    "HTML headings are defined with the `<h1>` to `<h6>` tags.\n",
    "`<h1>` defines the most important heading. `<h6>` defines the least important heading.\n",
    "\n",
    "We can use text cells since markdown reads html tags."
   ]
  },
  {
   "cell_type": "markdown",
   "metadata": {},
   "source": [
    "<h1>This is heading 1</h1>\n",
    "<h2>This is heading 2</h2>\n",
    "<h3>This is heading 3</h3>"
   ]
  },
  {
   "cell_type": "markdown",
   "metadata": {},
   "source": [
    "#### 7.4.1.2. HTML Paragraphs\n",
    "HTML paragraphs are defined with the `<p>` tag.\n",
    "`<br>` tag is similar to `\"\\n\"`."
   ]
  },
  {
   "cell_type": "markdown",
   "metadata": {},
   "source": [
    "<br>\n",
    "<p>My first paragraph.</p> <br>\n",
    "<p>This is another paragraph for this text cell.</p>"
   ]
  },
  {
   "cell_type": "markdown",
   "metadata": {},
   "source": [
    "#### 7.4.1.3. HTML Links\n",
    "HTML links are defined with the <a> tag:"
   ]
  },
  {
   "cell_type": "markdown",
   "metadata": {},
   "source": [
    "<a href=\"http://bayes.cs.ucla.edu/jp_home.html\">This is a link for Judea Pearl Website</a> "
   ]
  },
  {
   "cell_type": "markdown",
   "metadata": {},
   "source": [
    "#### 7.4.1.3. Unordered HTML List\n",
    "An unordered list starts with the `<ul>` tag. Each list item starts with the `<li>` tag."
   ]
  },
  {
   "cell_type": "markdown",
   "metadata": {},
   "source": [
    "<ul>\n",
    "  <li>Coffee</li>\n",
    "  <li>Tea</li>\n",
    "  <li>Milk</li>\n",
    "</ul>"
   ]
  },
  {
   "cell_type": "markdown",
   "metadata": {},
   "source": [
    "#### 7.4.1.4. Ordered HTML List\n",
    "An ordered list starts with the `<ol>` tag. Each list item starts with the `<li>` tag."
   ]
  },
  {
   "cell_type": "markdown",
   "metadata": {},
   "source": [
    "<ol>\n",
    "  <li>Coffee</li>\n",
    "  <li>Tea</li>\n",
    "  <li>Milk</li>\n",
    "</ol>"
   ]
  },
  {
   "cell_type": "markdown",
   "metadata": {},
   "source": [
    "#### 7.4.1.4. HTML Tables\n",
    "\n",
    "A table in HTML consists of table cells inside rows and columns. Each table cell is defined by a `<td>` and a `</td>` tag. Each table row starts with a `<tr>` and end with a `</tr>` tag."
   ]
  },
  {
   "cell_type": "markdown",
   "metadata": {},
   "source": [
    "<table>\n",
    "  <tr>\n",
    "    <th>Manager</th>\n",
    "    <th>Club</th>\n",
    "    <th>Nationality</th>\n",
    "  </tr>\n",
    "    \n",
    "  <tr>\n",
    "    <td>Mikel Arteta</td>\n",
    "    <td>Arsenal</td>\n",
    "    <td>Spain</td>\n",
    "  </tr>\n",
    "    \n",
    "  <tr>\n",
    "    <td>Thomas Tuchel</td>\n",
    "    <td>Chelsea</td>\n",
    "    <td>Germany</td>\n",
    "  </tr>\n",
    "</table>"
   ]
  },
  {
   "cell_type": "markdown",
   "metadata": {},
   "source": [
    "#### 7.4.1.5. HTML Iframes\n",
    "\n",
    "An HTML iframe is used to display a web page within a web page."
   ]
  },
  {
   "cell_type": "markdown",
   "metadata": {},
   "source": [
    "\n",
    "<!DOCTYPE html>\n",
    "<html>\n",
    "  \n",
    "<head>\n",
    "    <title>1.0 HTML adrres </title>\n",
    "</head>\n",
    "  \n",
    "<body> style=\"text-align: center\">\n",
    "    <h1>Diploma</h1>\n",
    "    <h2>HTML iframe</h2>\n",
    "   \n",
    "   <p> Add personal information </p> \n",
    "   \n",
    " <address>\n",
    "     \n",
    "Written by <a href=\"mailto:webmaster@example.com\">Jon Doe</a>.<br> \n",
    "Visit us at:<br>\n",
    "Example.com<br>\n",
    "Box 564, Disneyland<br>\n",
    "USA\n",
    "</address>\n",
    "    \n",
    "</body>\n",
    "  \n",
    "</html>"
   ]
  },
  {
   "cell_type": "markdown",
   "metadata": {},
   "source": [
    "<!DOCTYPE html>\n",
    "<html>\n",
    "<head>\n",
    "<style>\n",
    "table, th, td {\n",
    "  border: 1px solid black;\n",
    "}\n",
    "</style>\n",
    "</head>\n",
    "<body>\n",
    "\n",
    "<h1>2.0 The td element</h1>\n",
    "\n",
    "<p>The td element defines a cell in a table:</p>\n",
    "\n",
    "<table>\n",
    "  <tr>\n",
    "    <td>Cell A</td>\n",
    "    <td>Cell B</td>\n",
    "  </tr>\n",
    "  <tr>\n",
    "    <td>Cell C</td>\n",
    "    <td>Cell D</td>\n",
    "  </tr>\n",
    "</table>\n",
    "\n",
    "</body>\n",
    "</html>\n"
   ]
  },
  {
   "cell_type": "markdown",
   "metadata": {},
   "source": [
    "<!DOCTYPE html>\n",
    "<html>\n",
    "<body>\n",
    "\n",
    "<h1>3.0 Bottom </h1>\n",
    "\n",
    "<p>Click the button below to display the hidden content from the template element.</p>\n",
    "\n",
    "<button onclick=\"showContent()\">Click here</button>\n",
    "\n"
   ]
  },
  {
   "cell_type": "markdown",
   "metadata": {},
   "source": [
    "<!DOCTYPE html>\n",
    "<html>\n",
    "<body>\n",
    "\n",
    "<h1>4.0 The form element</h1>\n",
    "\n",
    "<form action=\"/action_page.php\">\n",
    "  <label for=\"fname\">First name:</label>\n",
    "  <input type=\"text\" id=\"fname\" name=\"fname\"><br><br>\n",
    "  <label for=\"lname\">Last name:</label>\n",
    "  <input type=\"text\" id=\"lname\" name=\"lname\"><br><br>\n",
    "  <button onclick=\"showContent()\">Submit</button>\n",
    "</form>\n",
    "\n",
    "<p>Click the \"Submit\" button and the form-data will be sent to a page on the \n",
    "server called \"action_page.php\".</p>\n",
    "\n",
    "</body>\n",
    "</html>\n"
   ]
  },
  {
   "cell_type": "markdown",
   "metadata": {},
   "source": [
    "<!DOCTYPE html>\n",
    "<html>\n",
    "<body>\n",
    "\n",
    "<h1> 5.0 The label element</h1>\n",
    "\n",
    "<p>Click on one of the text labels to toggle the related radio button:</p>\n",
    "\n",
    "<form action=\"/action_page.php\">\n",
    "  <input type=\"radio\" id=\"html\" name=\"fav_language\" value=\"HTML\">\n",
    "  <label for=\"html\">HTML</label><br>\n",
    "  <input type=\"radio\" id=\"css\" name=\"fav_language\" value=\"CSS\">\n",
    "  <label for=\"css\">CSS</label><br>\n",
    "  <input type=\"radio\" id=\"javascript\" name=\"fav_language\" value=\"JavaScript\">\n",
    "  <label for=\"javascript\">JavaScript</label><br><br>\n",
    "\n",
    "  <button onclick=\"showContent()\">Submit</button>\n",
    "    \n",
    "</form>\n",
    "\n",
    "</body>\n",
    "</html>\n"
   ]
  },
  {
   "cell_type": "markdown",
   "metadata": {},
   "source": [
    "<!DOCTYPE html>\n",
    "<html>\n",
    "<body>\n",
    "\n",
    "<h1>6.0 The select element</h1>\n",
    "\n",
    "<p>The select element is used to create a drop-down list.</p>\n",
    "\n",
    "<form action=\"/action_page.php\">\n",
    "  <label for=\"cars\">Choose a car:</label>\n",
    "  <select name=\"cars\" id=\"cars\">\n",
    "    <option value=\"volvo\">Volvo</option>\n",
    "    <option value=\"saab\">Saab</option>\n",
    "    <option value=\"opel\">Opel</option>\n",
    "    <option value=\"audi\">Audi</option>\n",
    "  </select>\n",
    "  <br><br>\n",
    "</form>\n",
    "\n",
    "<button onclick=\"showContent()\">Show hidden content</button>\n",
    "    \n",
    "<p>Click the \"Submit\" button and the form-data will be sent to a page on the \n",
    "server called \"action_page.php\".</p>\n",
    "\n",
    "</body>\n",
    "</html>"
   ]
  },
  {
   "cell_type": "markdown",
   "metadata": {},
   "source": [
    "<!DOCTYPE html>\n",
    "<html>\n",
    " \n",
    "<h1>7.0 Class atribute</h1>    \n",
    "    \n",
    "<head>\n",
    "    <style>\n",
    "        .country {\n",
    "            background-color: black;\n",
    "            color: white;\n",
    "            padding: 8px;\n",
    "        }\n",
    "    </style>\n",
    "</head>\n",
    " \n",
    "<body>\n",
    " \n",
    "<h2 class=\"country\">CHINA</h2>\n",
    "     \n",
    "<p>China has the largest population\n",
    "       in the world.</p>\n",
    " \n",
    " \n",
    "<h2 class=\"country\">INDIA</h2>\n",
    "     \n",
    "<p>India has the second largest\n",
    "       population in the world.</p>\n",
    " \n",
    " \n",
    "<h2 class=\"country\">UNITED STATES</h2>\n",
    "     \n",
    "<p>United States has the third largest\n",
    "       population in the world.</p>\n",
    " \n",
    " \n",
    "</body>\n",
    " \n",
    "</html>\n"
   ]
  },
  {
   "cell_type": "markdown",
   "metadata": {},
   "source": [
    "<!DOCTYPE html>\n",
    "<html>\n",
    "    \n",
    "<h1> 8.0 Style</h1>   \n",
    "    \n",
    "<head>\n",
    "<style>\n",
    "h1 {color:red;}\n",
    "p {color:blue;}\n",
    "</style>\n",
    "</head>\n",
    "<body>\n",
    "\n",
    "<h1>This is a heading</h1>\n",
    "<p>This is a paragraph.</p>\n",
    "\n",
    "</body>\n",
    "</html>\n"
   ]
  },
  {
   "cell_type": "markdown",
   "metadata": {},
   "source": [
    "<!DOCTYPE html>\n",
    "<html>\n",
    "<head>\n",
    "<style>\n",
    "#myHeader {\n",
    "  background-color: lightblue;\n",
    "  color: black;\n",
    "  padding: 40px;\n",
    "  text-align: center;\n",
    "} \n",
    "</style>\n",
    "</head>\n",
    "<body>\n",
    "\n",
    "<h2> 9.0 The id Attribute</h2>\n",
    "<p>Use CSS to style an element with the id \"myHeader\":</p>\n",
    "\n",
    "<h1 id=\"myHeader\">My Header</h1>\n",
    "\n",
    "</body>\n",
    "</html>\n",
    "\n"
   ]
  },
  {
   "cell_type": "markdown",
   "metadata": {},
   "source": [
    "<html>\n",
    "<head>\n",
    "    \n",
    "<h1> 10.0 Div tagname </h1>   \n",
    "    \n",
    "<style>\n",
    ".myDiv {\n",
    "  border: 5px outset red;\n",
    "  background-color: lightblue;\n",
    "  text-align: center;\n",
    "}\n",
    "</style>\n",
    "</head>\n",
    "<body>\n",
    "\n",
    "<div class=\"myDiv\">\n",
    "  <h2>This is a heading in a div element</h2>\n",
    "  <p>This is some text in a div element.</p>\n",
    "</div>\n",
    "\n",
    "</body>\n",
    "</html>"
   ]
  },
  {
   "cell_type": "markdown",
   "metadata": {},
   "source": [
    "#### 7.4.1.6. HTML Tags - Key"
   ]
  },
  {
   "cell_type": "markdown",
   "metadata": {},
   "source": [
    "|Tag|Description|\n",
    "|---|---|\n",
    "|`<h1>` to `<h6>`|\tDefines HTML headings|\n",
    "|`<ul>`|\tDefines an unordered list|\n",
    "|`<ol>`|\tDefines an ordered list|\n",
    "|`<p>`|\tDefines a paragraph|\n",
    "|`<a>`|\tIt is termed as anchor tag and it creates a hyperlink or link.|\n",
    "|`<div>`|\tIt defines a division or section within HTML document.|\n",
    "|`<strong>`|\tIt is used to define important text.|\n",
    "|`<table>`|\tIt is used to present data in tabular form or to create a table within HTML document.|\n",
    "|`<td>`|\tIt is used to define cells of an HTML table which contains table data|\n",
    "|`<iframe>`|\tDefines an inline frame|"
   ]
  },
  {
   "cell_type": "markdown",
   "metadata": {},
   "source": [
    "### 7.4. Identifying elements in a web page\n",
    "\n",
    "To identify elements of a webpage, we need to inspect the webpage. Open the driver and press `Ctrl`+ `Shift` + `I`."
   ]
  },
  {
   "cell_type": "markdown",
   "metadata": {},
   "source": [
    "#### One Element\n",
    "|Method|Description|\n",
    "|---|---|\n",
    "|find_element_by_id| Use id.|\n",
    "|find_element_by_name| Use name.|\n",
    "|find_element_by_xpath| Use Xpath.|\n",
    "|find_element_by_tag_name| Use HTML tag.|\n",
    "|find_element_by_class_name| Use class name.|\n",
    "|find_element_by_css_selector| Use css selector.|"
   ]
  },
  {
   "cell_type": "markdown",
   "metadata": {},
   "source": [
    "#### Multiple  elements\n",
    "|Method|Description|\n",
    "|---|---|\n",
    "|find_elements_by_id| Use id.|\n",
    "|find_elements_by_name| Use name.|\n",
    "|find_elements_by_xpath| Use Xpath.|\n",
    "|find_elements_by_tag_name| Use HTML tag.|\n",
    "|find_elements_by_class_name| Use class name.|\n",
    "|find_elements_by_css_selector| Use css selector.|"
   ]
  },
  {
   "cell_type": "markdown",
   "metadata": {},
   "source": [
    "### 7.4.1. Xpath\n",
    "XPath in Selenium is an XML path used for navigation through the HTML structure of the page. It is a syntax or language for finding any element on a web page using XML path expression.\n",
    "\n",
    "The basic format of XPath in selenium is explained below with screen shot.\n",
    "<img src=\"../../_images/x_path.png\">"
   ]
  },
  {
   "cell_type": "markdown",
   "metadata": {},
   "source": [
    "**DO NOT COMPLICATE!**\n",
    "Finding the XPath of a element:\n",
    "1. Go to the element\n",
    "2. Right click\n",
    "3. Inspect - You may have to do it twice.\n",
    "4. Go to the selected line\n",
    "5. Right click\n",
    "7. Copy \n",
    "8. Copy Full Xpath"
   ]
  },
  {
   "cell_type": "markdown",
   "metadata": {},
   "source": [
    "**Example**\n",
    "\n",
    "Use `find_element_by_xpath` and click."
   ]
  },
  {
   "cell_type": "markdown",
   "metadata": {},
   "source": [
    "### https://www.selenium.dev/documentation/webdriver/elements/finders/"
   ]
  },
  {
   "cell_type": "code",
   "execution_count": 21,
   "metadata": {},
   "outputs": [
    {
     "name": "stdout",
     "output_type": "stream",
     "text": [
      "\n"
     ]
    },
    {
     "name": "stderr",
     "output_type": "stream",
     "text": [
      "[WDM] - ====== WebDriver manager ======\n",
      "[WDM] - Current google-chrome version is 102.0.5005\n",
      "[WDM] - Get LATEST chromedriver version for 102.0.5005 google-chrome\n",
      "[WDM] - Driver [C:\\Users\\Roberto\\.wdm\\drivers\\chromedriver\\win32\\102.0.5005.61\\chromedriver.exe] found in cache\n",
      "C:\\Users\\Roberto\\AppData\\Local\\Temp\\ipykernel_25236\\2590975132.py:1: DeprecationWarning: executable_path has been deprecated, please pass in a Service object\n",
      "  driver1 = webdriver.Chrome( ChromeDriverManager().install() )\n"
     ]
    }
   ],
   "source": [
    "driver1 = webdriver.Chrome( ChromeDriverManager().install() )\n",
    "\n",
    "url = 'https://resultadoshistorico.onpe.gob.pe/EG2021/'\n",
    "driver1.get( url )\n",
    "\n",
    "driver1.maximize_window()\n"
   ]
  },
  {
   "cell_type": "markdown",
   "metadata": {},
   "source": [
    "2. Set the Browser Zoom Level to 100 percent"
   ]
  },
  {
   "cell_type": "code",
   "execution_count": 44,
   "metadata": {},
   "outputs": [],
   "source": [
    "driver1.execute_script(\"document.body.style.zoom='100%'\")"
   ]
  },
  {
   "cell_type": "markdown",
   "metadata": {},
   "source": [
    "### <a id='2.'>1.0. Find element by Full xpath </a> "
   ]
  },
  {
   "cell_type": "code",
   "execution_count": 22,
   "metadata": {
    "scrolled": true
   },
   "outputs": [
    {
     "name": "stderr",
     "output_type": "stream",
     "text": [
      "C:\\Users\\Roberto\\AppData\\Local\\Temp\\ipykernel_25236\\1183717907.py:1: DeprecationWarning: find_element_by_xpath is deprecated. Please use find_element(by=By.XPATH, value=xpath) instead\n",
      "  results = driver1.find_element_by_xpath('/html/body/onpe-root/onpe-home-onpe/div[1]/div/div/div/div[2]/div[1]/div/div/a/div[1]/img')\n"
     ]
    }
   ],
   "source": [
    "results = driver1.find_element_by_xpath('/html/body/onpe-root/onpe-home-onpe/div[1]/div/div/div/div[2]/div[1]/div/div/a/div[1]/img')\n",
    "\n"
   ]
  },
  {
   "cell_type": "code",
   "execution_count": 23,
   "metadata": {},
   "outputs": [],
   "source": [
    "time.sleep(4)\n",
    "\n",
    "results.click()\n"
   ]
  },
  {
   "cell_type": "markdown",
   "metadata": {},
   "source": [
    "/html/body/onpe-root/onpe-home-onpe/div[2]/div/div/div/div[2]/div[1]/div/a/div[1]/img\n",
    "\n",
    "#### el Xpath extenso es sensible a cambios, por ello, su poca utilidad en la práctica"
   ]
  },
  {
   "cell_type": "markdown",
   "metadata": {},
   "source": [
    "### <a id='1.'>1.1. Code html </a> "
   ]
  },
  {
   "cell_type": "markdown",
   "metadata": {},
   "source": [
    "### code - html \n",
    "\n",
    "<div _ngcontent-yjv-c64=\"\" class=\"pic\">\n",
    "\n",
    "<img _ngcontent-yjv-c64=\"\" src=\"./assets/imagenes/presidencial.jpg\"></div> Directorio de la imagen "
   ]
  },
  {
   "cell_type": "code",
   "execution_count": 25,
   "metadata": {},
   "outputs": [
    {
     "name": "stderr",
     "output_type": "stream",
     "text": [
      "C:\\Users\\Roberto\\AppData\\Local\\Temp\\ipykernel_25236\\1888700101.py:1: DeprecationWarning: find_element_by_xpath is deprecated. Please use find_element(by=By.XPATH, value=xpath) instead\n",
      "  results = driver1.find_element_by_xpath(\"//div[@class='pic']\")\n"
     ]
    }
   ],
   "source": [
    "results = driver1.find_element_by_xpath(\"//div[@class='pic']\")\n"
   ]
  },
  {
   "cell_type": "code",
   "execution_count": 26,
   "metadata": {},
   "outputs": [],
   "source": [
    "results.click()"
   ]
  },
  {
   "cell_type": "markdown",
   "metadata": {},
   "source": [
    "### <a id='2.'>1.2. Find element by name </a> "
   ]
  },
  {
   "cell_type": "code",
   "execution_count": 55,
   "metadata": {},
   "outputs": [],
   "source": [
    "# Best practices\n",
    "\n",
    "# driver1.find_element_by_id('select_ambito')\n",
    "# driver1.find_element_by_name('cod_ambito')\n"
   ]
  },
  {
   "cell_type": "markdown",
   "metadata": {},
   "source": [
    "### XPtah\n",
    "\n",
    "//*[@id=\"select_ambito\"]\n",
    "\n",
    "### Full path\n",
    "\n",
    "/html/body/onpe-root/onpe-layout-container/onpe-onpe-epres-re/div[1]/div[3]/div[1]/div[1]/div/div/div/select\n",
    "\n",
    "### CSS Selector\n",
    "\n",
    "#select_ambito"
   ]
  },
  {
   "cell_type": "code",
   "execution_count": 27,
   "metadata": {},
   "outputs": [
    {
     "name": "stderr",
     "output_type": "stream",
     "text": [
      "C:\\Users\\Roberto\\AppData\\Local\\Temp\\ipykernel_25236\\3073463598.py:1: DeprecationWarning: find_element_by_name is deprecated. Please use find_element(by=By.NAME, value=name) instead\n",
      "  bottom1 = driver1.find_element_by_name('cod_ambito')\n"
     ]
    }
   ],
   "source": [
    "bottom1 = driver1.find_element_by_name('cod_ambito')\n",
    "\n",
    "bottom1.click()"
   ]
  },
  {
   "cell_type": "code",
   "execution_count": 57,
   "metadata": {},
   "outputs": [
    {
     "name": "stderr",
     "output_type": "stream",
     "text": [
      "C:\\Users\\Roberto\\AppData\\Local\\Temp\\ipykernel_12316\\540352325.py:1: DeprecationWarning: find_element_by_* commands are deprecated. Please use find_element() instead\n",
      "  bottom1 = driver1.find_element_by_id('select_ambito')\n"
     ]
    }
   ],
   "source": [
    "bottom1 = driver1.find_element_by_id('select_ambito')\n",
    "\n",
    "bottom1.click()"
   ]
  },
  {
   "cell_type": "code",
   "execution_count": 59,
   "metadata": {},
   "outputs": [
    {
     "name": "stderr",
     "output_type": "stream",
     "text": [
      "C:\\Users\\Roberto\\AppData\\Local\\Temp\\ipykernel_12316\\1019717384.py:1: DeprecationWarning: find_element_by_class_name is deprecated. Please use find_element(by=By.CLASS_NAME, value=name) instead\n",
      "  bottom2 = driver1.find_element_by_class_name('select_ubigeo')\n"
     ]
    }
   ],
   "source": [
    "bottom2 = driver1.find_element_by_class_name('select_ubigeo')\n",
    "\n",
    "bottom2.click()"
   ]
  },
  {
   "cell_type": "code",
   "execution_count": 28,
   "metadata": {
    "scrolled": true
   },
   "outputs": [
    {
     "data": {
      "text/plain": [
       "'TODOS\\nPERÚ\\nEXTRANJERO'"
      ]
     },
     "execution_count": 28,
     "metadata": {},
     "output_type": "execute_result"
    }
   ],
   "source": [
    "bottom1.text"
   ]
  },
  {
   "cell_type": "code",
   "execution_count": 30,
   "metadata": {},
   "outputs": [
    {
     "data": {
      "text/plain": [
       "'select'"
      ]
     },
     "execution_count": 30,
     "metadata": {},
     "output_type": "execute_result"
    }
   ],
   "source": [
    "bottom1.tag_name"
   ]
  },
  {
   "cell_type": "code",
   "execution_count": 32,
   "metadata": {},
   "outputs": [
    {
     "data": {
      "text/plain": [
       "'T'"
      ]
     },
     "execution_count": 32,
     "metadata": {},
     "output_type": "execute_result"
    }
   ],
   "source": [
    "bottom1.get_attribute('value')"
   ]
  },
  {
   "cell_type": "code",
   "execution_count": 34,
   "metadata": {},
   "outputs": [
    {
     "name": "stderr",
     "output_type": "stream",
     "text": [
      "C:\\Users\\Roberto\\AppData\\Local\\Temp\\ipykernel_25236\\2952012588.py:1: DeprecationWarning: find_element_by_* commands are deprecated. Please use find_element() instead\n",
      "  searchBox = driver1.find_element_by_id('select_ambito')\n"
     ]
    }
   ],
   "source": [
    "searchBox = driver1.find_element_by_id('select_ambito')\n",
    "\n",
    "# searchBox = driver.find_element_by_xpath('//*[@id=\"select_ambito\"]')\n",
    "# searchBox = driver.find_element_by_css_selector('#select_ambito')"
   ]
  },
  {
   "cell_type": "markdown",
   "metadata": {},
   "source": [
    "![Web Element](Images/Web_Elementpng.png)"
   ]
  },
  {
   "cell_type": "markdown",
   "metadata": {},
   "source": [
    "### Xpath ( relative path)\n",
    "\n",
    "//*[@id=\"select_ambito\"]/option[2]"
   ]
  },
  {
   "cell_type": "markdown",
   "metadata": {},
   "source": [
    "### SSC - selector\n",
    "\n",
    "#select_ambito > option:nth-child(2)"
   ]
  },
  {
   "cell_type": "code",
   "execution_count": 36,
   "metadata": {},
   "outputs": [
    {
     "name": "stderr",
     "output_type": "stream",
     "text": [
      "C:\\Users\\Roberto\\AppData\\Local\\Temp\\ipykernel_25236\\4265985678.py:1: DeprecationWarning: find_element_by_xpath is deprecated. Please use find_element(by=By.XPATH, value=xpath) instead\n",
      "  searchBox1 = driver1.find_element_by_xpath(\"//*[@id='select_ambito']/option[2]\")\n"
     ]
    }
   ],
   "source": [
    "searchBox1 = driver1.find_element_by_xpath(\"//*[@id='select_ambito']/option[2]\")\n",
    "searchBox1.click()"
   ]
  },
  {
   "cell_type": "code",
   "execution_count": 39,
   "metadata": {},
   "outputs": [],
   "source": [
    "#searchBox1"
   ]
  },
  {
   "cell_type": "code",
   "execution_count": 41,
   "metadata": {},
   "outputs": [],
   "source": [
    "#searchBox1.tag_name"
   ]
  },
  {
   "cell_type": "code",
   "execution_count": 43,
   "metadata": {},
   "outputs": [],
   "source": [
    "#searchBox1.get_attribute('value')"
   ]
  },
  {
   "cell_type": "code",
   "execution_count": 44,
   "metadata": {},
   "outputs": [
    {
     "name": "stderr",
     "output_type": "stream",
     "text": [
      "C:\\Users\\Roberto\\AppData\\Local\\Temp\\ipykernel_25236\\1950608585.py:1: DeprecationWarning: find_element_by_css_selector is deprecated. Please use find_element(by=By.CSS_SELECTOR, value=css_selector) instead\n",
      "  searchBox = driver1.find_element_by_css_selector('#select_ambito > option:nth-child(2)')\n"
     ]
    }
   ],
   "source": [
    "searchBox = driver1.find_element_by_css_selector('#select_ambito > option:nth-child(2)')"
   ]
  },
  {
   "cell_type": "code",
   "execution_count": 46,
   "metadata": {},
   "outputs": [],
   "source": [
    "searchBox.click()"
   ]
  },
  {
   "cell_type": "markdown",
   "metadata": {},
   "source": [
    "**Suggestion** <br>\n",
    "We do not recomend to use `tag` at first time since most web pages use nested tags and it is difficult to define a element using HTML tag. However, it is great to find elements that is inside another located element in the web. Let's see the example."
   ]
  },
  {
   "cell_type": "markdown",
   "metadata": {},
   "source": [
    "# EXAMPLE USING ONPE WEBPAGE"
   ]
  },
  {
   "cell_type": "markdown",
   "metadata": {},
   "source": [
    "## [First Round](https://resultadoshistorico.onpe.gob.pe/EG2021/ResumenGeneral/10/T)"
   ]
  },
  {
   "cell_type": "code",
   "execution_count": 11,
   "metadata": {},
   "outputs": [],
   "source": [
    "# !pip install lxml\n",
    "# !pip install lxmunidecodel"
   ]
  },
  {
   "cell_type": "code",
   "execution_count": 6,
   "metadata": {},
   "outputs": [],
   "source": [
    "from selenium import webdriver\n",
    "from selenium.webdriver.common.keys import Keys\n",
    "from selenium.common.exceptions import NoSuchElementException\n",
    "\n",
    "# ActionChains es una forma de automatizar interacciones de bajo nivel,\n",
    "#como movimientos del mouse, acciones de botones del mouse \n",
    "# o realizar acciones más complejas como pasar el cursor por encima y arrastrar y soltar.\n",
    "\n",
    "from selenium.webdriver import ActionChains\n",
    "import pandas as pd\n",
    "import numpy as np\n",
    "import os\n",
    "import time  \n",
    "import re # Regular expression \n",
    "import unidecode  # read Not ASCII text\n",
    "from selenium.webdriver.support.ui import Select\n",
    "from webdriver_manager.chrome import ChromeDriverManager"
   ]
  },
  {
   "cell_type": "markdown",
   "metadata": {},
   "source": [
    "## Unicode \n",
    "\n",
    "<a> https://pypi.org/project/Unidecode/ </a> "
   ]
  },
  {
   "cell_type": "markdown",
   "metadata": {},
   "source": [
    "# Driver Path Address"
   ]
  },
  {
   "cell_type": "code",
   "execution_count": 69,
   "metadata": {},
   "outputs": [
    {
     "name": "stdout",
     "output_type": "stream",
     "text": [
      "\n"
     ]
    },
    {
     "name": "stderr",
     "output_type": "stream",
     "text": [
      "[WDM] - ====== WebDriver manager ======\n",
      "[WDM] - Current google-chrome version is 102.0.5005\n",
      "[WDM] - Get LATEST chromedriver version for 102.0.5005 google-chrome\n",
      "[WDM] - Driver [C:\\Users\\Roberto\\.wdm\\drivers\\chromedriver\\win32\\102.0.5005.61\\chromedriver.exe] found in cache\n",
      "C:\\Users\\Roberto\\AppData\\Local\\Temp\\ipykernel_25236\\1283576619.py:1: DeprecationWarning: executable_path has been deprecated, please pass in a Service object\n",
      "  driver2 = webdriver.Chrome( ChromeDriverManager().install() )\n",
      "C:\\Users\\Roberto\\AppData\\Local\\Temp\\ipykernel_25236\\1283576619.py:9: DeprecationWarning: find_element_by_xpath is deprecated. Please use find_element(by=By.XPATH, value=xpath) instead\n",
      "  results = driver2.find_element_by_xpath(\"//div[@class='pic']\")\n"
     ]
    }
   ],
   "source": [
    "driver2 = webdriver.Chrome( ChromeDriverManager().install() )\n",
    "# Maximize window\n",
    "\n",
    "url = 'https://resultadoshistorico.onpe.gob.pe/EG2021/'\n",
    "driver2.get( url )\n",
    "\n",
    "driver2.maximize_window()\n",
    "\n",
    "results = driver2.find_element_by_xpath(\"//div[@class='pic']\")\n",
    "\n",
    "time.sleep(3)\n",
    "\n",
    "results.click()"
   ]
  },
  {
   "cell_type": "markdown",
   "metadata": {},
   "source": [
    "## Pesidential results"
   ]
  },
  {
   "cell_type": "markdown",
   "metadata": {},
   "source": [
    "//*[@id=\"navbarToggleExternalContent\"]/div/div[2]/a"
   ]
  },
  {
   "cell_type": "code",
   "execution_count": 70,
   "metadata": {},
   "outputs": [
    {
     "name": "stderr",
     "output_type": "stream",
     "text": [
      "C:\\Users\\Roberto\\AppData\\Local\\Temp\\ipykernel_25236\\2217643588.py:1: DeprecationWarning: find_element_by_xpath is deprecated. Please use find_element(by=By.XPATH, value=xpath) instead\n",
      "  presidential = driver2.find_element_by_xpath(\"//*[@id='navbarToggleExternalContent']/div/div[2]/a\")\n"
     ]
    }
   ],
   "source": [
    "presidential = driver2.find_element_by_xpath(\"//*[@id='navbarToggleExternalContent']/div/div[2]/a\")"
   ]
  },
  {
   "cell_type": "code",
   "execution_count": 71,
   "metadata": {},
   "outputs": [],
   "source": [
    "presidential.click()"
   ]
  },
  {
   "cell_type": "markdown",
   "metadata": {},
   "source": [
    "### Get all elements from all options"
   ]
  },
  {
   "cell_type": "code",
   "execution_count": 210,
   "metadata": {},
   "outputs": [],
   "source": [
    "# scope = driver.find_element_by_xpath( \"/html/body/onpe-root/onpe-layout-container/onpe-onpe-epres-re/div[1]/div[3]/div[1]/div[1]/div/div/div/select\" )\n",
    "# scope.click()"
   ]
  },
  {
   "cell_type": "code",
   "execution_count": 72,
   "metadata": {},
   "outputs": [
    {
     "name": "stdout",
     "output_type": "stream",
     "text": [
      "TODOS\n",
      "PERÚ\n",
      "EXTRANJERO\n"
     ]
    },
    {
     "name": "stderr",
     "output_type": "stream",
     "text": [
      "C:\\Users\\Roberto\\AppData\\Local\\Temp\\ipykernel_25236\\2802924893.py:1: DeprecationWarning: find_element_by_* commands are deprecated. Please use find_element() instead\n",
      "  scope= driver2.find_element_by_id('select_ambito')\n",
      "C:\\Users\\Roberto\\AppData\\Local\\Temp\\ipykernel_25236\\2802924893.py:2: DeprecationWarning: find_elements_by_tag_name is deprecated. Please use find_elements(by=By.TAG_NAME, value=name) instead\n",
      "  print(scope.find_elements_by_tag_name(\"option\")[0].text)\n",
      "C:\\Users\\Roberto\\AppData\\Local\\Temp\\ipykernel_25236\\2802924893.py:3: DeprecationWarning: find_elements_by_tag_name is deprecated. Please use find_elements(by=By.TAG_NAME, value=name) instead\n",
      "  print(scope.find_elements_by_tag_name(\"option\")[1].text)\n",
      "C:\\Users\\Roberto\\AppData\\Local\\Temp\\ipykernel_25236\\2802924893.py:4: DeprecationWarning: find_elements_by_tag_name is deprecated. Please use find_elements(by=By.TAG_NAME, value=name) instead\n",
      "  print(scope.find_elements_by_tag_name(\"option\")[2].text)\n"
     ]
    }
   ],
   "source": [
    "scope= driver2.find_element_by_id('select_ambito')\n",
    "print(scope.find_elements_by_tag_name(\"option\")[0].text)\n",
    "print(scope.find_elements_by_tag_name(\"option\")[1].text)\n",
    "print(scope.find_elements_by_tag_name(\"option\")[2].text)"
   ]
  },
  {
   "cell_type": "code",
   "execution_count": 73,
   "metadata": {},
   "outputs": [
    {
     "name": "stderr",
     "output_type": "stream",
     "text": [
      "C:\\Users\\Roberto\\AppData\\Local\\Temp\\ipykernel_25236\\2334473169.py:1: DeprecationWarning: find_elements_by_tag_name is deprecated. Please use find_elements(by=By.TAG_NAME, value=name) instead\n",
      "  scope_options = scope.find_elements_by_tag_name(\"option\")\n"
     ]
    }
   ],
   "source": [
    "scope_options = scope.find_elements_by_tag_name(\"option\")"
   ]
  },
  {
   "cell_type": "code",
   "execution_count": 59,
   "metadata": {},
   "outputs": [
    {
     "data": {
      "text/plain": [
       "[<selenium.webdriver.remote.webelement.WebElement (session=\"3682b77f3a4bdc7c2c221468b8e570f0\", element=\"d0dd9c46-feb5-41ff-927a-2af26bde7a6c\")>,\n",
       " <selenium.webdriver.remote.webelement.WebElement (session=\"3682b77f3a4bdc7c2c221468b8e570f0\", element=\"5e9b75e4-9e3a-4ddf-985c-03f67b25591f\")>,\n",
       " <selenium.webdriver.remote.webelement.WebElement (session=\"3682b77f3a4bdc7c2c221468b8e570f0\", element=\"4b865505-29f2-4e15-b6db-f15fcb4c02a8\")>]"
      ]
     },
     "execution_count": 59,
     "metadata": {},
     "output_type": "execute_result"
    }
   ],
   "source": [
    "scope_options"
   ]
  },
  {
   "cell_type": "code",
   "execution_count": 56,
   "metadata": {},
   "outputs": [
    {
     "data": {
      "text/plain": [
       "<selenium.webdriver.remote.webelement.WebElement (session=\"3682b77f3a4bdc7c2c221468b8e570f0\", element=\"5e9b75e4-9e3a-4ddf-985c-03f67b25591f\")>"
      ]
     },
     "execution_count": 56,
     "metadata": {},
     "output_type": "execute_result"
    }
   ],
   "source": [
    "scope_options[1]"
   ]
  },
  {
   "cell_type": "code",
   "execution_count": 57,
   "metadata": {},
   "outputs": [
    {
     "data": {
      "text/plain": [
       "'TODOS'"
      ]
     },
     "execution_count": 57,
     "metadata": {},
     "output_type": "execute_result"
    }
   ],
   "source": [
    "scope_options[0].text"
   ]
  },
  {
   "cell_type": "code",
   "execution_count": 74,
   "metadata": {},
   "outputs": [
    {
     "data": {
      "text/plain": [
       "{'TODOS': <selenium.webdriver.remote.webelement.WebElement (session=\"c819d553510d3d7d17ae32453c5224f0\", element=\"498106ce-4684-45b3-b994-cf4b3323400c\")>,\n",
       " 'PERÚ': <selenium.webdriver.remote.webelement.WebElement (session=\"c819d553510d3d7d17ae32453c5224f0\", element=\"6f124443-449c-4580-8c0c-4c31ad06ef01\")>,\n",
       " 'EXTRANJERO': <selenium.webdriver.remote.webelement.WebElement (session=\"c819d553510d3d7d17ae32453c5224f0\", element=\"1672d232-35bf-4614-8d0d-8db00f97eaee\")>}"
      ]
     },
     "execution_count": 74,
     "metadata": {},
     "output_type": "execute_result"
    }
   ],
   "source": [
    "dict_scope_options = { i.text : i for i in scope_options }\n",
    "dict_scope_options"
   ]
  },
  {
   "cell_type": "code",
   "execution_count": 61,
   "metadata": {},
   "outputs": [
    {
     "data": {
      "text/plain": [
       "{'TODOS': <selenium.webdriver.remote.webelement.WebElement (session=\"3682b77f3a4bdc7c2c221468b8e570f0\", element=\"d0dd9c46-feb5-41ff-927a-2af26bde7a6c\")>,\n",
       " 'PERÚ': <selenium.webdriver.remote.webelement.WebElement (session=\"3682b77f3a4bdc7c2c221468b8e570f0\", element=\"5e9b75e4-9e3a-4ddf-985c-03f67b25591f\")>,\n",
       " 'EXTRANJERO': <selenium.webdriver.remote.webelement.WebElement (session=\"3682b77f3a4bdc7c2c221468b8e570f0\", element=\"4b865505-29f2-4e15-b6db-f15fcb4c02a8\")>}"
      ]
     },
     "execution_count": 61,
     "metadata": {},
     "output_type": "execute_result"
    }
   ],
   "source": [
    "# There are three options\n",
    "dict_scope_options"
   ]
  },
  {
   "cell_type": "code",
   "execution_count": 67,
   "metadata": {},
   "outputs": [
    {
     "data": {
      "text/plain": [
       "dict_keys(['TODOS', 'PERÚ', 'EXTRANJERO'])"
      ]
     },
     "execution_count": 67,
     "metadata": {},
     "output_type": "execute_result"
    }
   ],
   "source": [
    "dict_scope_options.keys()"
   ]
  },
  {
   "cell_type": "code",
   "execution_count": 75,
   "metadata": {},
   "outputs": [],
   "source": [
    "dict_scope_options['PERÚ'].click()"
   ]
  },
  {
   "cell_type": "markdown",
   "metadata": {},
   "source": [
    "We have to be careful since everytime we make a click, the url changes."
   ]
  },
  {
   "cell_type": "markdown",
   "metadata": {},
   "source": [
    "### Loop over all departments"
   ]
  },
  {
   "cell_type": "code",
   "execution_count": 91,
   "metadata": {},
   "outputs": [
    {
     "name": "stderr",
     "output_type": "stream",
     "text": [
      "C:\\Users\\Roberto\\AppData\\Local\\Temp\\ipykernel_25236\\1130665088.py:4: DeprecationWarning: find_element_by_name is deprecated. Please use find_element(by=By.NAME, value=name) instead\n",
      "  dept_0 = driver2.find_element_by_name( \"cod_depa\" )\n"
     ]
    },
    {
     "data": {
      "text/plain": [
       "<selenium.webdriver.remote.webelement.WebElement (session=\"c819d553510d3d7d17ae32453c5224f0\", element=\"7522cce8-563b-4175-9de5-1157fbf6ffcb\")>"
      ]
     },
     "execution_count": 91,
     "metadata": {},
     "output_type": "execute_result"
    }
   ],
   "source": [
    "# Store all_tables\n",
    "all_tables = {}\n",
    "\n",
    "dept_0 = driver2.find_element_by_name( \"cod_depa\" )\n",
    "dept_0\n"
   ]
  },
  {
   "cell_type": "code",
   "execution_count": 92,
   "metadata": {},
   "outputs": [],
   "source": [
    "# All selenium objects in department select\n",
    "\n",
    "dpt = Select( dept_0 )\n",
    "#dpt.options[15].text"
   ]
  },
  {
   "cell_type": "code",
   "execution_count": 82,
   "metadata": {},
   "outputs": [
    {
     "data": {
      "text/plain": [
       "<selenium.webdriver.remote.webelement.WebElement (session=\"c819d553510d3d7d17ae32453c5224f0\", element=\"b1c189e1-10c0-4920-888f-f80d2d8e2aee\")>"
      ]
     },
     "execution_count": 82,
     "metadata": {},
     "output_type": "execute_result"
    }
   ],
   "source": [
    "dpt.options[1]"
   ]
  },
  {
   "cell_type": "code",
   "execution_count": 84,
   "metadata": {},
   "outputs": [
    {
     "data": {
      "text/plain": [
       "'AYACUCHO'"
      ]
     },
     "execution_count": 84,
     "metadata": {},
     "output_type": "execute_result"
    }
   ],
   "source": [
    "dpt.options[5].text"
   ]
  },
  {
   "cell_type": "code",
   "execution_count": 85,
   "metadata": {},
   "outputs": [],
   "source": [
    "dpt.options[5].click()"
   ]
  },
  {
   "cell_type": "code",
   "execution_count": 93,
   "metadata": {},
   "outputs": [
    {
     "data": {
      "text/plain": [
       "26"
      ]
     },
     "execution_count": 93,
     "metadata": {},
     "output_type": "execute_result"
    }
   ],
   "source": [
    "# Get number of total options\n",
    "num_prov_options = len( dpt.options )\n",
    "num_prov_options"
   ]
  },
  {
   "cell_type": "code",
   "execution_count": 94,
   "metadata": {},
   "outputs": [
    {
     "data": {
      "text/plain": [
       "range(0, 26)"
      ]
     },
     "execution_count": 94,
     "metadata": {},
     "output_type": "execute_result"
    }
   ],
   "source": [
    "range( num_prov_options )"
   ]
  },
  {
   "cell_type": "code",
   "execution_count": 95,
   "metadata": {},
   "outputs": [
    {
     "name": "stderr",
     "output_type": "stream",
     "text": [
      "C:\\Users\\Roberto\\AppData\\Local\\Temp\\ipykernel_25236\\1715727211.py:11: DeprecationWarning: find_element_by_* commands are deprecated. Please use find_element() instead\n",
      "  dpt = Select( driver2.find_element_by_id( \"select_departamento\" ) )\n"
     ]
    },
    {
     "name": "stdout",
     "output_type": "stream",
     "text": [
      "--TODOS--\n",
      "AMAZONAS\n",
      "ANCASH\n",
      "APURIMAC\n",
      "AREQUIPA\n",
      "AYACUCHO\n",
      "CAJAMARCA\n",
      "CALLAO\n",
      "CUSCO\n",
      "HUANCAVELICA\n",
      "HUANUCO\n",
      "ICA\n",
      "JUNIN\n",
      "LA LIBERTAD\n",
      "LAMBAYEQUE\n",
      "LIMA\n",
      "LORETO\n",
      "MADRE DE DIOS\n",
      "MOQUEGUA\n",
      "PASCO\n",
      "PIURA\n",
      "PUNO\n",
      "SAN MARTIN\n",
      "TACNA\n",
      "TUMBES\n",
      "UCAYALI\n"
     ]
    }
   ],
   "source": [
    "# we can loop over all departments\n",
    "# for dpt_idx in range( num_prov_options ):\n",
    "# but it will take too much time\n",
    "# We are going to do it over two departments\n",
    "for dpt_idx in range( num_prov_options ):\n",
    "    \n",
    "    # Get again all departments since HTML is refreshing\n",
    "    # all elements\n",
    "    # Click on one specific department\n",
    "    \n",
    "    dpt = Select( driver2.find_element_by_id( \"select_departamento\" ) )\n",
    "    department = dpt.options[ dpt_idx ]\n",
    "    \n",
    "    # Get departmant name\n",
    "    dpt_name = department.text\n",
    "    \n",
    "    print(dpt_name)"
   ]
  },
  {
   "cell_type": "code",
   "execution_count": 107,
   "metadata": {},
   "outputs": [
    {
     "name": "stderr",
     "output_type": "stream",
     "text": [
      "C:\\Users\\Roberto\\AppData\\Local\\Temp\\ipykernel_25236\\2141166747.py:12: DeprecationWarning: find_element_by_* commands are deprecated. Please use find_element() instead\n",
      "  dpt = Select( driver2.find_element_by_id( \"select_departamento\" ) )\n",
      "C:\\Users\\Roberto\\AppData\\Local\\Temp\\ipykernel_25236\\2141166747.py:27: DeprecationWarning: find_element_by_* commands are deprecated. Please use find_element() instead\n",
      "  prov = Select( driver2.find_element_by_id( \"cod_prov\" ) )\n"
     ]
    },
    {
     "name": "stdout",
     "output_type": "stream",
     "text": [
      "--TODOS--\n",
      "AMAZONAS\n"
     ]
    },
    {
     "name": "stderr",
     "output_type": "stream",
     "text": [
      "C:\\Users\\Roberto\\AppData\\Local\\Temp\\ipykernel_25236\\2141166747.py:35: DeprecationWarning: find_element_by_* commands are deprecated. Please use find_element() instead\n",
      "  prov = Select( driver2.find_element_by_id( \"cod_prov\" ) )\n",
      "C:\\Users\\Roberto\\AppData\\Local\\Temp\\ipykernel_25236\\2141166747.py:47: DeprecationWarning: find_element_by_* commands are deprecated. Please use find_element() instead\n",
      "  dist = Select( driver2.find_element_by_id( \"cod_dist\" ) )\n",
      "C:\\Users\\Roberto\\AppData\\Local\\Temp\\ipykernel_25236\\2141166747.py:54: DeprecationWarning: find_element_by_* commands are deprecated. Please use find_element() instead\n",
      "  dist = Select( driver2.find_element_by_id( \"cod_dist\" ) )\n",
      "C:\\Users\\Roberto\\AppData\\Local\\Temp\\ipykernel_25236\\2141166747.py:70: DeprecationWarning: find_element_by_xpath is deprecated. Please use find_element(by=By.XPATH, value=xpath) instead\n",
      "  table_path = driver2.find_element_by_xpath( \"/html/body/onpe-root/onpe-layout-container/onpe-onpe-epres-re/div[1]/div[4]/div[1]/div[3]/div\" )\n",
      "C:\\Users\\Roberto\\AppData\\Local\\Temp\\ipykernel_25236\\2141166747.py:54: DeprecationWarning: find_element_by_* commands are deprecated. Please use find_element() instead\n",
      "  dist = Select( driver2.find_element_by_id( \"cod_dist\" ) )\n",
      "C:\\Users\\Roberto\\AppData\\Local\\Temp\\ipykernel_25236\\2141166747.py:70: DeprecationWarning: find_element_by_xpath is deprecated. Please use find_element(by=By.XPATH, value=xpath) instead\n",
      "  table_path = driver2.find_element_by_xpath( \"/html/body/onpe-root/onpe-layout-container/onpe-onpe-epres-re/div[1]/div[4]/div[1]/div[3]/div\" )\n",
      "C:\\Users\\Roberto\\AppData\\Local\\Temp\\ipykernel_25236\\2141166747.py:54: DeprecationWarning: find_element_by_* commands are deprecated. Please use find_element() instead\n",
      "  dist = Select( driver2.find_element_by_id( \"cod_dist\" ) )\n",
      "C:\\Users\\Roberto\\AppData\\Local\\Temp\\ipykernel_25236\\2141166747.py:70: DeprecationWarning: find_element_by_xpath is deprecated. Please use find_element(by=By.XPATH, value=xpath) instead\n",
      "  table_path = driver2.find_element_by_xpath( \"/html/body/onpe-root/onpe-layout-container/onpe-onpe-epres-re/div[1]/div[4]/div[1]/div[3]/div\" )\n",
      "C:\\Users\\Roberto\\AppData\\Local\\Temp\\ipykernel_25236\\2141166747.py:54: DeprecationWarning: find_element_by_* commands are deprecated. Please use find_element() instead\n",
      "  dist = Select( driver2.find_element_by_id( \"cod_dist\" ) )\n",
      "C:\\Users\\Roberto\\AppData\\Local\\Temp\\ipykernel_25236\\2141166747.py:70: DeprecationWarning: find_element_by_xpath is deprecated. Please use find_element(by=By.XPATH, value=xpath) instead\n",
      "  table_path = driver2.find_element_by_xpath( \"/html/body/onpe-root/onpe-layout-container/onpe-onpe-epres-re/div[1]/div[4]/div[1]/div[3]/div\" )\n",
      "C:\\Users\\Roberto\\AppData\\Local\\Temp\\ipykernel_25236\\2141166747.py:54: DeprecationWarning: find_element_by_* commands are deprecated. Please use find_element() instead\n",
      "  dist = Select( driver2.find_element_by_id( \"cod_dist\" ) )\n",
      "C:\\Users\\Roberto\\AppData\\Local\\Temp\\ipykernel_25236\\2141166747.py:70: DeprecationWarning: find_element_by_xpath is deprecated. Please use find_element(by=By.XPATH, value=xpath) instead\n",
      "  table_path = driver2.find_element_by_xpath( \"/html/body/onpe-root/onpe-layout-container/onpe-onpe-epres-re/div[1]/div[4]/div[1]/div[3]/div\" )\n",
      "C:\\Users\\Roberto\\AppData\\Local\\Temp\\ipykernel_25236\\2141166747.py:54: DeprecationWarning: find_element_by_* commands are deprecated. Please use find_element() instead\n",
      "  dist = Select( driver2.find_element_by_id( \"cod_dist\" ) )\n",
      "C:\\Users\\Roberto\\AppData\\Local\\Temp\\ipykernel_25236\\2141166747.py:70: DeprecationWarning: find_element_by_xpath is deprecated. Please use find_element(by=By.XPATH, value=xpath) instead\n",
      "  table_path = driver2.find_element_by_xpath( \"/html/body/onpe-root/onpe-layout-container/onpe-onpe-epres-re/div[1]/div[4]/div[1]/div[3]/div\" )\n",
      "C:\\Users\\Roberto\\AppData\\Local\\Temp\\ipykernel_25236\\2141166747.py:35: DeprecationWarning: find_element_by_* commands are deprecated. Please use find_element() instead\n",
      "  prov = Select( driver2.find_element_by_id( \"cod_prov\" ) )\n",
      "C:\\Users\\Roberto\\AppData\\Local\\Temp\\ipykernel_25236\\2141166747.py:47: DeprecationWarning: find_element_by_* commands are deprecated. Please use find_element() instead\n",
      "  dist = Select( driver2.find_element_by_id( \"cod_dist\" ) )\n",
      "C:\\Users\\Roberto\\AppData\\Local\\Temp\\ipykernel_25236\\2141166747.py:54: DeprecationWarning: find_element_by_* commands are deprecated. Please use find_element() instead\n",
      "  dist = Select( driver2.find_element_by_id( \"cod_dist\" ) )\n",
      "C:\\Users\\Roberto\\AppData\\Local\\Temp\\ipykernel_25236\\2141166747.py:70: DeprecationWarning: find_element_by_xpath is deprecated. Please use find_element(by=By.XPATH, value=xpath) instead\n",
      "  table_path = driver2.find_element_by_xpath( \"/html/body/onpe-root/onpe-layout-container/onpe-onpe-epres-re/div[1]/div[4]/div[1]/div[3]/div\" )\n",
      "C:\\Users\\Roberto\\AppData\\Local\\Temp\\ipykernel_25236\\2141166747.py:54: DeprecationWarning: find_element_by_* commands are deprecated. Please use find_element() instead\n",
      "  dist = Select( driver2.find_element_by_id( \"cod_dist\" ) )\n",
      "C:\\Users\\Roberto\\AppData\\Local\\Temp\\ipykernel_25236\\2141166747.py:70: DeprecationWarning: find_element_by_xpath is deprecated. Please use find_element(by=By.XPATH, value=xpath) instead\n",
      "  table_path = driver2.find_element_by_xpath( \"/html/body/onpe-root/onpe-layout-container/onpe-onpe-epres-re/div[1]/div[4]/div[1]/div[3]/div\" )\n",
      "C:\\Users\\Roberto\\AppData\\Local\\Temp\\ipykernel_25236\\2141166747.py:54: DeprecationWarning: find_element_by_* commands are deprecated. Please use find_element() instead\n",
      "  dist = Select( driver2.find_element_by_id( \"cod_dist\" ) )\n",
      "C:\\Users\\Roberto\\AppData\\Local\\Temp\\ipykernel_25236\\2141166747.py:70: DeprecationWarning: find_element_by_xpath is deprecated. Please use find_element(by=By.XPATH, value=xpath) instead\n",
      "  table_path = driver2.find_element_by_xpath( \"/html/body/onpe-root/onpe-layout-container/onpe-onpe-epres-re/div[1]/div[4]/div[1]/div[3]/div\" )\n",
      "C:\\Users\\Roberto\\AppData\\Local\\Temp\\ipykernel_25236\\2141166747.py:54: DeprecationWarning: find_element_by_* commands are deprecated. Please use find_element() instead\n",
      "  dist = Select( driver2.find_element_by_id( \"cod_dist\" ) )\n",
      "C:\\Users\\Roberto\\AppData\\Local\\Temp\\ipykernel_25236\\2141166747.py:70: DeprecationWarning: find_element_by_xpath is deprecated. Please use find_element(by=By.XPATH, value=xpath) instead\n",
      "  table_path = driver2.find_element_by_xpath( \"/html/body/onpe-root/onpe-layout-container/onpe-onpe-epres-re/div[1]/div[4]/div[1]/div[3]/div\" )\n",
      "C:\\Users\\Roberto\\AppData\\Local\\Temp\\ipykernel_25236\\2141166747.py:54: DeprecationWarning: find_element_by_* commands are deprecated. Please use find_element() instead\n",
      "  dist = Select( driver2.find_element_by_id( \"cod_dist\" ) )\n",
      "C:\\Users\\Roberto\\AppData\\Local\\Temp\\ipykernel_25236\\2141166747.py:70: DeprecationWarning: find_element_by_xpath is deprecated. Please use find_element(by=By.XPATH, value=xpath) instead\n",
      "  table_path = driver2.find_element_by_xpath( \"/html/body/onpe-root/onpe-layout-container/onpe-onpe-epres-re/div[1]/div[4]/div[1]/div[3]/div\" )\n",
      "C:\\Users\\Roberto\\AppData\\Local\\Temp\\ipykernel_25236\\2141166747.py:54: DeprecationWarning: find_element_by_* commands are deprecated. Please use find_element() instead\n",
      "  dist = Select( driver2.find_element_by_id( \"cod_dist\" ) )\n",
      "C:\\Users\\Roberto\\AppData\\Local\\Temp\\ipykernel_25236\\2141166747.py:70: DeprecationWarning: find_element_by_xpath is deprecated. Please use find_element(by=By.XPATH, value=xpath) instead\n",
      "  table_path = driver2.find_element_by_xpath( \"/html/body/onpe-root/onpe-layout-container/onpe-onpe-epres-re/div[1]/div[4]/div[1]/div[3]/div\" )\n",
      "C:\\Users\\Roberto\\AppData\\Local\\Temp\\ipykernel_25236\\2141166747.py:54: DeprecationWarning: find_element_by_* commands are deprecated. Please use find_element() instead\n",
      "  dist = Select( driver2.find_element_by_id( \"cod_dist\" ) )\n",
      "C:\\Users\\Roberto\\AppData\\Local\\Temp\\ipykernel_25236\\2141166747.py:70: DeprecationWarning: find_element_by_xpath is deprecated. Please use find_element(by=By.XPATH, value=xpath) instead\n",
      "  table_path = driver2.find_element_by_xpath( \"/html/body/onpe-root/onpe-layout-container/onpe-onpe-epres-re/div[1]/div[4]/div[1]/div[3]/div\" )\n",
      "C:\\Users\\Roberto\\AppData\\Local\\Temp\\ipykernel_25236\\2141166747.py:54: DeprecationWarning: find_element_by_* commands are deprecated. Please use find_element() instead\n",
      "  dist = Select( driver2.find_element_by_id( \"cod_dist\" ) )\n"
     ]
    },
    {
     "name": "stderr",
     "output_type": "stream",
     "text": [
      "C:\\Users\\Roberto\\AppData\\Local\\Temp\\ipykernel_25236\\2141166747.py:70: DeprecationWarning: find_element_by_xpath is deprecated. Please use find_element(by=By.XPATH, value=xpath) instead\n",
      "  table_path = driver2.find_element_by_xpath( \"/html/body/onpe-root/onpe-layout-container/onpe-onpe-epres-re/div[1]/div[4]/div[1]/div[3]/div\" )\n",
      "C:\\Users\\Roberto\\AppData\\Local\\Temp\\ipykernel_25236\\2141166747.py:54: DeprecationWarning: find_element_by_* commands are deprecated. Please use find_element() instead\n",
      "  dist = Select( driver2.find_element_by_id( \"cod_dist\" ) )\n",
      "C:\\Users\\Roberto\\AppData\\Local\\Temp\\ipykernel_25236\\2141166747.py:70: DeprecationWarning: find_element_by_xpath is deprecated. Please use find_element(by=By.XPATH, value=xpath) instead\n",
      "  table_path = driver2.find_element_by_xpath( \"/html/body/onpe-root/onpe-layout-container/onpe-onpe-epres-re/div[1]/div[4]/div[1]/div[3]/div\" )\n",
      "C:\\Users\\Roberto\\AppData\\Local\\Temp\\ipykernel_25236\\2141166747.py:54: DeprecationWarning: find_element_by_* commands are deprecated. Please use find_element() instead\n",
      "  dist = Select( driver2.find_element_by_id( \"cod_dist\" ) )\n",
      "C:\\Users\\Roberto\\AppData\\Local\\Temp\\ipykernel_25236\\2141166747.py:70: DeprecationWarning: find_element_by_xpath is deprecated. Please use find_element(by=By.XPATH, value=xpath) instead\n",
      "  table_path = driver2.find_element_by_xpath( \"/html/body/onpe-root/onpe-layout-container/onpe-onpe-epres-re/div[1]/div[4]/div[1]/div[3]/div\" )\n",
      "C:\\Users\\Roberto\\AppData\\Local\\Temp\\ipykernel_25236\\2141166747.py:54: DeprecationWarning: find_element_by_* commands are deprecated. Please use find_element() instead\n",
      "  dist = Select( driver2.find_element_by_id( \"cod_dist\" ) )\n",
      "C:\\Users\\Roberto\\AppData\\Local\\Temp\\ipykernel_25236\\2141166747.py:70: DeprecationWarning: find_element_by_xpath is deprecated. Please use find_element(by=By.XPATH, value=xpath) instead\n",
      "  table_path = driver2.find_element_by_xpath( \"/html/body/onpe-root/onpe-layout-container/onpe-onpe-epres-re/div[1]/div[4]/div[1]/div[3]/div\" )\n",
      "C:\\Users\\Roberto\\AppData\\Local\\Temp\\ipykernel_25236\\2141166747.py:54: DeprecationWarning: find_element_by_* commands are deprecated. Please use find_element() instead\n",
      "  dist = Select( driver2.find_element_by_id( \"cod_dist\" ) )\n",
      "C:\\Users\\Roberto\\AppData\\Local\\Temp\\ipykernel_25236\\2141166747.py:70: DeprecationWarning: find_element_by_xpath is deprecated. Please use find_element(by=By.XPATH, value=xpath) instead\n",
      "  table_path = driver2.find_element_by_xpath( \"/html/body/onpe-root/onpe-layout-container/onpe-onpe-epres-re/div[1]/div[4]/div[1]/div[3]/div\" )\n",
      "C:\\Users\\Roberto\\AppData\\Local\\Temp\\ipykernel_25236\\2141166747.py:35: DeprecationWarning: find_element_by_* commands are deprecated. Please use find_element() instead\n",
      "  prov = Select( driver2.find_element_by_id( \"cod_prov\" ) )\n",
      "C:\\Users\\Roberto\\AppData\\Local\\Temp\\ipykernel_25236\\2141166747.py:47: DeprecationWarning: find_element_by_* commands are deprecated. Please use find_element() instead\n",
      "  dist = Select( driver2.find_element_by_id( \"cod_dist\" ) )\n",
      "C:\\Users\\Roberto\\AppData\\Local\\Temp\\ipykernel_25236\\2141166747.py:54: DeprecationWarning: find_element_by_* commands are deprecated. Please use find_element() instead\n",
      "  dist = Select( driver2.find_element_by_id( \"cod_dist\" ) )\n",
      "C:\\Users\\Roberto\\AppData\\Local\\Temp\\ipykernel_25236\\2141166747.py:70: DeprecationWarning: find_element_by_xpath is deprecated. Please use find_element(by=By.XPATH, value=xpath) instead\n",
      "  table_path = driver2.find_element_by_xpath( \"/html/body/onpe-root/onpe-layout-container/onpe-onpe-epres-re/div[1]/div[4]/div[1]/div[3]/div\" )\n",
      "C:\\Users\\Roberto\\AppData\\Local\\Temp\\ipykernel_25236\\2141166747.py:54: DeprecationWarning: find_element_by_* commands are deprecated. Please use find_element() instead\n",
      "  dist = Select( driver2.find_element_by_id( \"cod_dist\" ) )\n",
      "C:\\Users\\Roberto\\AppData\\Local\\Temp\\ipykernel_25236\\2141166747.py:70: DeprecationWarning: find_element_by_xpath is deprecated. Please use find_element(by=By.XPATH, value=xpath) instead\n",
      "  table_path = driver2.find_element_by_xpath( \"/html/body/onpe-root/onpe-layout-container/onpe-onpe-epres-re/div[1]/div[4]/div[1]/div[3]/div\" )\n",
      "C:\\Users\\Roberto\\AppData\\Local\\Temp\\ipykernel_25236\\2141166747.py:54: DeprecationWarning: find_element_by_* commands are deprecated. Please use find_element() instead\n",
      "  dist = Select( driver2.find_element_by_id( \"cod_dist\" ) )\n",
      "C:\\Users\\Roberto\\AppData\\Local\\Temp\\ipykernel_25236\\2141166747.py:70: DeprecationWarning: find_element_by_xpath is deprecated. Please use find_element(by=By.XPATH, value=xpath) instead\n",
      "  table_path = driver2.find_element_by_xpath( \"/html/body/onpe-root/onpe-layout-container/onpe-onpe-epres-re/div[1]/div[4]/div[1]/div[3]/div\" )\n",
      "C:\\Users\\Roberto\\AppData\\Local\\Temp\\ipykernel_25236\\2141166747.py:54: DeprecationWarning: find_element_by_* commands are deprecated. Please use find_element() instead\n",
      "  dist = Select( driver2.find_element_by_id( \"cod_dist\" ) )\n",
      "C:\\Users\\Roberto\\AppData\\Local\\Temp\\ipykernel_25236\\2141166747.py:70: DeprecationWarning: find_element_by_xpath is deprecated. Please use find_element(by=By.XPATH, value=xpath) instead\n",
      "  table_path = driver2.find_element_by_xpath( \"/html/body/onpe-root/onpe-layout-container/onpe-onpe-epres-re/div[1]/div[4]/div[1]/div[3]/div\" )\n",
      "C:\\Users\\Roberto\\AppData\\Local\\Temp\\ipykernel_25236\\2141166747.py:54: DeprecationWarning: find_element_by_* commands are deprecated. Please use find_element() instead\n",
      "  dist = Select( driver2.find_element_by_id( \"cod_dist\" ) )\n",
      "C:\\Users\\Roberto\\AppData\\Local\\Temp\\ipykernel_25236\\2141166747.py:70: DeprecationWarning: find_element_by_xpath is deprecated. Please use find_element(by=By.XPATH, value=xpath) instead\n",
      "  table_path = driver2.find_element_by_xpath( \"/html/body/onpe-root/onpe-layout-container/onpe-onpe-epres-re/div[1]/div[4]/div[1]/div[3]/div\" )\n",
      "C:\\Users\\Roberto\\AppData\\Local\\Temp\\ipykernel_25236\\2141166747.py:54: DeprecationWarning: find_element_by_* commands are deprecated. Please use find_element() instead\n",
      "  dist = Select( driver2.find_element_by_id( \"cod_dist\" ) )\n",
      "C:\\Users\\Roberto\\AppData\\Local\\Temp\\ipykernel_25236\\2141166747.py:70: DeprecationWarning: find_element_by_xpath is deprecated. Please use find_element(by=By.XPATH, value=xpath) instead\n",
      "  table_path = driver2.find_element_by_xpath( \"/html/body/onpe-root/onpe-layout-container/onpe-onpe-epres-re/div[1]/div[4]/div[1]/div[3]/div\" )\n",
      "C:\\Users\\Roberto\\AppData\\Local\\Temp\\ipykernel_25236\\2141166747.py:54: DeprecationWarning: find_element_by_* commands are deprecated. Please use find_element() instead\n",
      "  dist = Select( driver2.find_element_by_id( \"cod_dist\" ) )\n",
      "C:\\Users\\Roberto\\AppData\\Local\\Temp\\ipykernel_25236\\2141166747.py:70: DeprecationWarning: find_element_by_xpath is deprecated. Please use find_element(by=By.XPATH, value=xpath) instead\n",
      "  table_path = driver2.find_element_by_xpath( \"/html/body/onpe-root/onpe-layout-container/onpe-onpe-epres-re/div[1]/div[4]/div[1]/div[3]/div\" )\n",
      "C:\\Users\\Roberto\\AppData\\Local\\Temp\\ipykernel_25236\\2141166747.py:54: DeprecationWarning: find_element_by_* commands are deprecated. Please use find_element() instead\n",
      "  dist = Select( driver2.find_element_by_id( \"cod_dist\" ) )\n",
      "C:\\Users\\Roberto\\AppData\\Local\\Temp\\ipykernel_25236\\2141166747.py:70: DeprecationWarning: find_element_by_xpath is deprecated. Please use find_element(by=By.XPATH, value=xpath) instead\n",
      "  table_path = driver2.find_element_by_xpath( \"/html/body/onpe-root/onpe-layout-container/onpe-onpe-epres-re/div[1]/div[4]/div[1]/div[3]/div\" )\n",
      "C:\\Users\\Roberto\\AppData\\Local\\Temp\\ipykernel_25236\\2141166747.py:54: DeprecationWarning: find_element_by_* commands are deprecated. Please use find_element() instead\n",
      "  dist = Select( driver2.find_element_by_id( \"cod_dist\" ) )\n",
      "C:\\Users\\Roberto\\AppData\\Local\\Temp\\ipykernel_25236\\2141166747.py:70: DeprecationWarning: find_element_by_xpath is deprecated. Please use find_element(by=By.XPATH, value=xpath) instead\n",
      "  table_path = driver2.find_element_by_xpath( \"/html/body/onpe-root/onpe-layout-container/onpe-onpe-epres-re/div[1]/div[4]/div[1]/div[3]/div\" )\n",
      "C:\\Users\\Roberto\\AppData\\Local\\Temp\\ipykernel_25236\\2141166747.py:54: DeprecationWarning: find_element_by_* commands are deprecated. Please use find_element() instead\n",
      "  dist = Select( driver2.find_element_by_id( \"cod_dist\" ) )\n"
     ]
    },
    {
     "name": "stderr",
     "output_type": "stream",
     "text": [
      "C:\\Users\\Roberto\\AppData\\Local\\Temp\\ipykernel_25236\\2141166747.py:70: DeprecationWarning: find_element_by_xpath is deprecated. Please use find_element(by=By.XPATH, value=xpath) instead\n",
      "  table_path = driver2.find_element_by_xpath( \"/html/body/onpe-root/onpe-layout-container/onpe-onpe-epres-re/div[1]/div[4]/div[1]/div[3]/div\" )\n",
      "C:\\Users\\Roberto\\AppData\\Local\\Temp\\ipykernel_25236\\2141166747.py:54: DeprecationWarning: find_element_by_* commands are deprecated. Please use find_element() instead\n",
      "  dist = Select( driver2.find_element_by_id( \"cod_dist\" ) )\n",
      "C:\\Users\\Roberto\\AppData\\Local\\Temp\\ipykernel_25236\\2141166747.py:70: DeprecationWarning: find_element_by_xpath is deprecated. Please use find_element(by=By.XPATH, value=xpath) instead\n",
      "  table_path = driver2.find_element_by_xpath( \"/html/body/onpe-root/onpe-layout-container/onpe-onpe-epres-re/div[1]/div[4]/div[1]/div[3]/div\" )\n",
      "C:\\Users\\Roberto\\AppData\\Local\\Temp\\ipykernel_25236\\2141166747.py:54: DeprecationWarning: find_element_by_* commands are deprecated. Please use find_element() instead\n",
      "  dist = Select( driver2.find_element_by_id( \"cod_dist\" ) )\n",
      "C:\\Users\\Roberto\\AppData\\Local\\Temp\\ipykernel_25236\\2141166747.py:70: DeprecationWarning: find_element_by_xpath is deprecated. Please use find_element(by=By.XPATH, value=xpath) instead\n",
      "  table_path = driver2.find_element_by_xpath( \"/html/body/onpe-root/onpe-layout-container/onpe-onpe-epres-re/div[1]/div[4]/div[1]/div[3]/div\" )\n",
      "C:\\Users\\Roberto\\AppData\\Local\\Temp\\ipykernel_25236\\2141166747.py:54: DeprecationWarning: find_element_by_* commands are deprecated. Please use find_element() instead\n",
      "  dist = Select( driver2.find_element_by_id( \"cod_dist\" ) )\n",
      "C:\\Users\\Roberto\\AppData\\Local\\Temp\\ipykernel_25236\\2141166747.py:70: DeprecationWarning: find_element_by_xpath is deprecated. Please use find_element(by=By.XPATH, value=xpath) instead\n",
      "  table_path = driver2.find_element_by_xpath( \"/html/body/onpe-root/onpe-layout-container/onpe-onpe-epres-re/div[1]/div[4]/div[1]/div[3]/div\" )\n",
      "C:\\Users\\Roberto\\AppData\\Local\\Temp\\ipykernel_25236\\2141166747.py:54: DeprecationWarning: find_element_by_* commands are deprecated. Please use find_element() instead\n",
      "  dist = Select( driver2.find_element_by_id( \"cod_dist\" ) )\n",
      "C:\\Users\\Roberto\\AppData\\Local\\Temp\\ipykernel_25236\\2141166747.py:70: DeprecationWarning: find_element_by_xpath is deprecated. Please use find_element(by=By.XPATH, value=xpath) instead\n",
      "  table_path = driver2.find_element_by_xpath( \"/html/body/onpe-root/onpe-layout-container/onpe-onpe-epres-re/div[1]/div[4]/div[1]/div[3]/div\" )\n",
      "C:\\Users\\Roberto\\AppData\\Local\\Temp\\ipykernel_25236\\2141166747.py:54: DeprecationWarning: find_element_by_* commands are deprecated. Please use find_element() instead\n",
      "  dist = Select( driver2.find_element_by_id( \"cod_dist\" ) )\n",
      "C:\\Users\\Roberto\\AppData\\Local\\Temp\\ipykernel_25236\\2141166747.py:70: DeprecationWarning: find_element_by_xpath is deprecated. Please use find_element(by=By.XPATH, value=xpath) instead\n",
      "  table_path = driver2.find_element_by_xpath( \"/html/body/onpe-root/onpe-layout-container/onpe-onpe-epres-re/div[1]/div[4]/div[1]/div[3]/div\" )\n",
      "C:\\Users\\Roberto\\AppData\\Local\\Temp\\ipykernel_25236\\2141166747.py:54: DeprecationWarning: find_element_by_* commands are deprecated. Please use find_element() instead\n",
      "  dist = Select( driver2.find_element_by_id( \"cod_dist\" ) )\n",
      "C:\\Users\\Roberto\\AppData\\Local\\Temp\\ipykernel_25236\\2141166747.py:70: DeprecationWarning: find_element_by_xpath is deprecated. Please use find_element(by=By.XPATH, value=xpath) instead\n",
      "  table_path = driver2.find_element_by_xpath( \"/html/body/onpe-root/onpe-layout-container/onpe-onpe-epres-re/div[1]/div[4]/div[1]/div[3]/div\" )\n",
      "C:\\Users\\Roberto\\AppData\\Local\\Temp\\ipykernel_25236\\2141166747.py:54: DeprecationWarning: find_element_by_* commands are deprecated. Please use find_element() instead\n",
      "  dist = Select( driver2.find_element_by_id( \"cod_dist\" ) )\n",
      "C:\\Users\\Roberto\\AppData\\Local\\Temp\\ipykernel_25236\\2141166747.py:70: DeprecationWarning: find_element_by_xpath is deprecated. Please use find_element(by=By.XPATH, value=xpath) instead\n",
      "  table_path = driver2.find_element_by_xpath( \"/html/body/onpe-root/onpe-layout-container/onpe-onpe-epres-re/div[1]/div[4]/div[1]/div[3]/div\" )\n",
      "C:\\Users\\Roberto\\AppData\\Local\\Temp\\ipykernel_25236\\2141166747.py:54: DeprecationWarning: find_element_by_* commands are deprecated. Please use find_element() instead\n",
      "  dist = Select( driver2.find_element_by_id( \"cod_dist\" ) )\n",
      "C:\\Users\\Roberto\\AppData\\Local\\Temp\\ipykernel_25236\\2141166747.py:70: DeprecationWarning: find_element_by_xpath is deprecated. Please use find_element(by=By.XPATH, value=xpath) instead\n",
      "  table_path = driver2.find_element_by_xpath( \"/html/body/onpe-root/onpe-layout-container/onpe-onpe-epres-re/div[1]/div[4]/div[1]/div[3]/div\" )\n",
      "C:\\Users\\Roberto\\AppData\\Local\\Temp\\ipykernel_25236\\2141166747.py:54: DeprecationWarning: find_element_by_* commands are deprecated. Please use find_element() instead\n",
      "  dist = Select( driver2.find_element_by_id( \"cod_dist\" ) )\n",
      "C:\\Users\\Roberto\\AppData\\Local\\Temp\\ipykernel_25236\\2141166747.py:70: DeprecationWarning: find_element_by_xpath is deprecated. Please use find_element(by=By.XPATH, value=xpath) instead\n",
      "  table_path = driver2.find_element_by_xpath( \"/html/body/onpe-root/onpe-layout-container/onpe-onpe-epres-re/div[1]/div[4]/div[1]/div[3]/div\" )\n",
      "C:\\Users\\Roberto\\AppData\\Local\\Temp\\ipykernel_25236\\2141166747.py:54: DeprecationWarning: find_element_by_* commands are deprecated. Please use find_element() instead\n",
      "  dist = Select( driver2.find_element_by_id( \"cod_dist\" ) )\n",
      "C:\\Users\\Roberto\\AppData\\Local\\Temp\\ipykernel_25236\\2141166747.py:70: DeprecationWarning: find_element_by_xpath is deprecated. Please use find_element(by=By.XPATH, value=xpath) instead\n",
      "  table_path = driver2.find_element_by_xpath( \"/html/body/onpe-root/onpe-layout-container/onpe-onpe-epres-re/div[1]/div[4]/div[1]/div[3]/div\" )\n",
      "C:\\Users\\Roberto\\AppData\\Local\\Temp\\ipykernel_25236\\2141166747.py:54: DeprecationWarning: find_element_by_* commands are deprecated. Please use find_element() instead\n",
      "  dist = Select( driver2.find_element_by_id( \"cod_dist\" ) )\n",
      "C:\\Users\\Roberto\\AppData\\Local\\Temp\\ipykernel_25236\\2141166747.py:70: DeprecationWarning: find_element_by_xpath is deprecated. Please use find_element(by=By.XPATH, value=xpath) instead\n",
      "  table_path = driver2.find_element_by_xpath( \"/html/body/onpe-root/onpe-layout-container/onpe-onpe-epres-re/div[1]/div[4]/div[1]/div[3]/div\" )\n",
      "C:\\Users\\Roberto\\AppData\\Local\\Temp\\ipykernel_25236\\2141166747.py:35: DeprecationWarning: find_element_by_* commands are deprecated. Please use find_element() instead\n",
      "  prov = Select( driver2.find_element_by_id( \"cod_prov\" ) )\n",
      "C:\\Users\\Roberto\\AppData\\Local\\Temp\\ipykernel_25236\\2141166747.py:47: DeprecationWarning: find_element_by_* commands are deprecated. Please use find_element() instead\n",
      "  dist = Select( driver2.find_element_by_id( \"cod_dist\" ) )\n",
      "C:\\Users\\Roberto\\AppData\\Local\\Temp\\ipykernel_25236\\2141166747.py:54: DeprecationWarning: find_element_by_* commands are deprecated. Please use find_element() instead\n",
      "  dist = Select( driver2.find_element_by_id( \"cod_dist\" ) )\n",
      "C:\\Users\\Roberto\\AppData\\Local\\Temp\\ipykernel_25236\\2141166747.py:70: DeprecationWarning: find_element_by_xpath is deprecated. Please use find_element(by=By.XPATH, value=xpath) instead\n",
      "  table_path = driver2.find_element_by_xpath( \"/html/body/onpe-root/onpe-layout-container/onpe-onpe-epres-re/div[1]/div[4]/div[1]/div[3]/div\" )\n",
      "C:\\Users\\Roberto\\AppData\\Local\\Temp\\ipykernel_25236\\2141166747.py:54: DeprecationWarning: find_element_by_* commands are deprecated. Please use find_element() instead\n",
      "  dist = Select( driver2.find_element_by_id( \"cod_dist\" ) )\n",
      "C:\\Users\\Roberto\\AppData\\Local\\Temp\\ipykernel_25236\\2141166747.py:70: DeprecationWarning: find_element_by_xpath is deprecated. Please use find_element(by=By.XPATH, value=xpath) instead\n",
      "  table_path = driver2.find_element_by_xpath( \"/html/body/onpe-root/onpe-layout-container/onpe-onpe-epres-re/div[1]/div[4]/div[1]/div[3]/div\" )\n",
      "C:\\Users\\Roberto\\AppData\\Local\\Temp\\ipykernel_25236\\2141166747.py:54: DeprecationWarning: find_element_by_* commands are deprecated. Please use find_element() instead\n",
      "  dist = Select( driver2.find_element_by_id( \"cod_dist\" ) )\n"
     ]
    },
    {
     "name": "stderr",
     "output_type": "stream",
     "text": [
      "C:\\Users\\Roberto\\AppData\\Local\\Temp\\ipykernel_25236\\2141166747.py:70: DeprecationWarning: find_element_by_xpath is deprecated. Please use find_element(by=By.XPATH, value=xpath) instead\n",
      "  table_path = driver2.find_element_by_xpath( \"/html/body/onpe-root/onpe-layout-container/onpe-onpe-epres-re/div[1]/div[4]/div[1]/div[3]/div\" )\n",
      "C:\\Users\\Roberto\\AppData\\Local\\Temp\\ipykernel_25236\\2141166747.py:35: DeprecationWarning: find_element_by_* commands are deprecated. Please use find_element() instead\n",
      "  prov = Select( driver2.find_element_by_id( \"cod_prov\" ) )\n",
      "C:\\Users\\Roberto\\AppData\\Local\\Temp\\ipykernel_25236\\2141166747.py:47: DeprecationWarning: find_element_by_* commands are deprecated. Please use find_element() instead\n",
      "  dist = Select( driver2.find_element_by_id( \"cod_dist\" ) )\n",
      "C:\\Users\\Roberto\\AppData\\Local\\Temp\\ipykernel_25236\\2141166747.py:54: DeprecationWarning: find_element_by_* commands are deprecated. Please use find_element() instead\n",
      "  dist = Select( driver2.find_element_by_id( \"cod_dist\" ) )\n",
      "C:\\Users\\Roberto\\AppData\\Local\\Temp\\ipykernel_25236\\2141166747.py:70: DeprecationWarning: find_element_by_xpath is deprecated. Please use find_element(by=By.XPATH, value=xpath) instead\n",
      "  table_path = driver2.find_element_by_xpath( \"/html/body/onpe-root/onpe-layout-container/onpe-onpe-epres-re/div[1]/div[4]/div[1]/div[3]/div\" )\n",
      "C:\\Users\\Roberto\\AppData\\Local\\Temp\\ipykernel_25236\\2141166747.py:54: DeprecationWarning: find_element_by_* commands are deprecated. Please use find_element() instead\n",
      "  dist = Select( driver2.find_element_by_id( \"cod_dist\" ) )\n",
      "C:\\Users\\Roberto\\AppData\\Local\\Temp\\ipykernel_25236\\2141166747.py:70: DeprecationWarning: find_element_by_xpath is deprecated. Please use find_element(by=By.XPATH, value=xpath) instead\n",
      "  table_path = driver2.find_element_by_xpath( \"/html/body/onpe-root/onpe-layout-container/onpe-onpe-epres-re/div[1]/div[4]/div[1]/div[3]/div\" )\n",
      "C:\\Users\\Roberto\\AppData\\Local\\Temp\\ipykernel_25236\\2141166747.py:54: DeprecationWarning: find_element_by_* commands are deprecated. Please use find_element() instead\n",
      "  dist = Select( driver2.find_element_by_id( \"cod_dist\" ) )\n",
      "C:\\Users\\Roberto\\AppData\\Local\\Temp\\ipykernel_25236\\2141166747.py:70: DeprecationWarning: find_element_by_xpath is deprecated. Please use find_element(by=By.XPATH, value=xpath) instead\n",
      "  table_path = driver2.find_element_by_xpath( \"/html/body/onpe-root/onpe-layout-container/onpe-onpe-epres-re/div[1]/div[4]/div[1]/div[3]/div\" )\n",
      "C:\\Users\\Roberto\\AppData\\Local\\Temp\\ipykernel_25236\\2141166747.py:54: DeprecationWarning: find_element_by_* commands are deprecated. Please use find_element() instead\n",
      "  dist = Select( driver2.find_element_by_id( \"cod_dist\" ) )\n",
      "C:\\Users\\Roberto\\AppData\\Local\\Temp\\ipykernel_25236\\2141166747.py:70: DeprecationWarning: find_element_by_xpath is deprecated. Please use find_element(by=By.XPATH, value=xpath) instead\n",
      "  table_path = driver2.find_element_by_xpath( \"/html/body/onpe-root/onpe-layout-container/onpe-onpe-epres-re/div[1]/div[4]/div[1]/div[3]/div\" )\n",
      "C:\\Users\\Roberto\\AppData\\Local\\Temp\\ipykernel_25236\\2141166747.py:54: DeprecationWarning: find_element_by_* commands are deprecated. Please use find_element() instead\n",
      "  dist = Select( driver2.find_element_by_id( \"cod_dist\" ) )\n",
      "C:\\Users\\Roberto\\AppData\\Local\\Temp\\ipykernel_25236\\2141166747.py:70: DeprecationWarning: find_element_by_xpath is deprecated. Please use find_element(by=By.XPATH, value=xpath) instead\n",
      "  table_path = driver2.find_element_by_xpath( \"/html/body/onpe-root/onpe-layout-container/onpe-onpe-epres-re/div[1]/div[4]/div[1]/div[3]/div\" )\n",
      "C:\\Users\\Roberto\\AppData\\Local\\Temp\\ipykernel_25236\\2141166747.py:54: DeprecationWarning: find_element_by_* commands are deprecated. Please use find_element() instead\n",
      "  dist = Select( driver2.find_element_by_id( \"cod_dist\" ) )\n",
      "C:\\Users\\Roberto\\AppData\\Local\\Temp\\ipykernel_25236\\2141166747.py:70: DeprecationWarning: find_element_by_xpath is deprecated. Please use find_element(by=By.XPATH, value=xpath) instead\n",
      "  table_path = driver2.find_element_by_xpath( \"/html/body/onpe-root/onpe-layout-container/onpe-onpe-epres-re/div[1]/div[4]/div[1]/div[3]/div\" )\n",
      "C:\\Users\\Roberto\\AppData\\Local\\Temp\\ipykernel_25236\\2141166747.py:54: DeprecationWarning: find_element_by_* commands are deprecated. Please use find_element() instead\n",
      "  dist = Select( driver2.find_element_by_id( \"cod_dist\" ) )\n",
      "C:\\Users\\Roberto\\AppData\\Local\\Temp\\ipykernel_25236\\2141166747.py:70: DeprecationWarning: find_element_by_xpath is deprecated. Please use find_element(by=By.XPATH, value=xpath) instead\n",
      "  table_path = driver2.find_element_by_xpath( \"/html/body/onpe-root/onpe-layout-container/onpe-onpe-epres-re/div[1]/div[4]/div[1]/div[3]/div\" )\n",
      "C:\\Users\\Roberto\\AppData\\Local\\Temp\\ipykernel_25236\\2141166747.py:54: DeprecationWarning: find_element_by_* commands are deprecated. Please use find_element() instead\n",
      "  dist = Select( driver2.find_element_by_id( \"cod_dist\" ) )\n",
      "C:\\Users\\Roberto\\AppData\\Local\\Temp\\ipykernel_25236\\2141166747.py:70: DeprecationWarning: find_element_by_xpath is deprecated. Please use find_element(by=By.XPATH, value=xpath) instead\n",
      "  table_path = driver2.find_element_by_xpath( \"/html/body/onpe-root/onpe-layout-container/onpe-onpe-epres-re/div[1]/div[4]/div[1]/div[3]/div\" )\n",
      "C:\\Users\\Roberto\\AppData\\Local\\Temp\\ipykernel_25236\\2141166747.py:54: DeprecationWarning: find_element_by_* commands are deprecated. Please use find_element() instead\n",
      "  dist = Select( driver2.find_element_by_id( \"cod_dist\" ) )\n",
      "C:\\Users\\Roberto\\AppData\\Local\\Temp\\ipykernel_25236\\2141166747.py:70: DeprecationWarning: find_element_by_xpath is deprecated. Please use find_element(by=By.XPATH, value=xpath) instead\n",
      "  table_path = driver2.find_element_by_xpath( \"/html/body/onpe-root/onpe-layout-container/onpe-onpe-epres-re/div[1]/div[4]/div[1]/div[3]/div\" )\n",
      "C:\\Users\\Roberto\\AppData\\Local\\Temp\\ipykernel_25236\\2141166747.py:54: DeprecationWarning: find_element_by_* commands are deprecated. Please use find_element() instead\n",
      "  dist = Select( driver2.find_element_by_id( \"cod_dist\" ) )\n",
      "C:\\Users\\Roberto\\AppData\\Local\\Temp\\ipykernel_25236\\2141166747.py:70: DeprecationWarning: find_element_by_xpath is deprecated. Please use find_element(by=By.XPATH, value=xpath) instead\n",
      "  table_path = driver2.find_element_by_xpath( \"/html/body/onpe-root/onpe-layout-container/onpe-onpe-epres-re/div[1]/div[4]/div[1]/div[3]/div\" )\n",
      "C:\\Users\\Roberto\\AppData\\Local\\Temp\\ipykernel_25236\\2141166747.py:54: DeprecationWarning: find_element_by_* commands are deprecated. Please use find_element() instead\n",
      "  dist = Select( driver2.find_element_by_id( \"cod_dist\" ) )\n",
      "C:\\Users\\Roberto\\AppData\\Local\\Temp\\ipykernel_25236\\2141166747.py:70: DeprecationWarning: find_element_by_xpath is deprecated. Please use find_element(by=By.XPATH, value=xpath) instead\n",
      "  table_path = driver2.find_element_by_xpath( \"/html/body/onpe-root/onpe-layout-container/onpe-onpe-epres-re/div[1]/div[4]/div[1]/div[3]/div\" )\n",
      "C:\\Users\\Roberto\\AppData\\Local\\Temp\\ipykernel_25236\\2141166747.py:54: DeprecationWarning: find_element_by_* commands are deprecated. Please use find_element() instead\n",
      "  dist = Select( driver2.find_element_by_id( \"cod_dist\" ) )\n",
      "C:\\Users\\Roberto\\AppData\\Local\\Temp\\ipykernel_25236\\2141166747.py:70: DeprecationWarning: find_element_by_xpath is deprecated. Please use find_element(by=By.XPATH, value=xpath) instead\n",
      "  table_path = driver2.find_element_by_xpath( \"/html/body/onpe-root/onpe-layout-container/onpe-onpe-epres-re/div[1]/div[4]/div[1]/div[3]/div\" )\n",
      "C:\\Users\\Roberto\\AppData\\Local\\Temp\\ipykernel_25236\\2141166747.py:54: DeprecationWarning: find_element_by_* commands are deprecated. Please use find_element() instead\n",
      "  dist = Select( driver2.find_element_by_id( \"cod_dist\" ) )\n",
      "C:\\Users\\Roberto\\AppData\\Local\\Temp\\ipykernel_25236\\2141166747.py:70: DeprecationWarning: find_element_by_xpath is deprecated. Please use find_element(by=By.XPATH, value=xpath) instead\n",
      "  table_path = driver2.find_element_by_xpath( \"/html/body/onpe-root/onpe-layout-container/onpe-onpe-epres-re/div[1]/div[4]/div[1]/div[3]/div\" )\n",
      "C:\\Users\\Roberto\\AppData\\Local\\Temp\\ipykernel_25236\\2141166747.py:54: DeprecationWarning: find_element_by_* commands are deprecated. Please use find_element() instead\n",
      "  dist = Select( driver2.find_element_by_id( \"cod_dist\" ) )\n"
     ]
    },
    {
     "name": "stderr",
     "output_type": "stream",
     "text": [
      "C:\\Users\\Roberto\\AppData\\Local\\Temp\\ipykernel_25236\\2141166747.py:70: DeprecationWarning: find_element_by_xpath is deprecated. Please use find_element(by=By.XPATH, value=xpath) instead\n",
      "  table_path = driver2.find_element_by_xpath( \"/html/body/onpe-root/onpe-layout-container/onpe-onpe-epres-re/div[1]/div[4]/div[1]/div[3]/div\" )\n",
      "C:\\Users\\Roberto\\AppData\\Local\\Temp\\ipykernel_25236\\2141166747.py:54: DeprecationWarning: find_element_by_* commands are deprecated. Please use find_element() instead\n",
      "  dist = Select( driver2.find_element_by_id( \"cod_dist\" ) )\n",
      "C:\\Users\\Roberto\\AppData\\Local\\Temp\\ipykernel_25236\\2141166747.py:70: DeprecationWarning: find_element_by_xpath is deprecated. Please use find_element(by=By.XPATH, value=xpath) instead\n",
      "  table_path = driver2.find_element_by_xpath( \"/html/body/onpe-root/onpe-layout-container/onpe-onpe-epres-re/div[1]/div[4]/div[1]/div[3]/div\" )\n",
      "C:\\Users\\Roberto\\AppData\\Local\\Temp\\ipykernel_25236\\2141166747.py:54: DeprecationWarning: find_element_by_* commands are deprecated. Please use find_element() instead\n",
      "  dist = Select( driver2.find_element_by_id( \"cod_dist\" ) )\n",
      "C:\\Users\\Roberto\\AppData\\Local\\Temp\\ipykernel_25236\\2141166747.py:70: DeprecationWarning: find_element_by_xpath is deprecated. Please use find_element(by=By.XPATH, value=xpath) instead\n",
      "  table_path = driver2.find_element_by_xpath( \"/html/body/onpe-root/onpe-layout-container/onpe-onpe-epres-re/div[1]/div[4]/div[1]/div[3]/div\" )\n",
      "C:\\Users\\Roberto\\AppData\\Local\\Temp\\ipykernel_25236\\2141166747.py:54: DeprecationWarning: find_element_by_* commands are deprecated. Please use find_element() instead\n",
      "  dist = Select( driver2.find_element_by_id( \"cod_dist\" ) )\n",
      "C:\\Users\\Roberto\\AppData\\Local\\Temp\\ipykernel_25236\\2141166747.py:70: DeprecationWarning: find_element_by_xpath is deprecated. Please use find_element(by=By.XPATH, value=xpath) instead\n",
      "  table_path = driver2.find_element_by_xpath( \"/html/body/onpe-root/onpe-layout-container/onpe-onpe-epres-re/div[1]/div[4]/div[1]/div[3]/div\" )\n",
      "C:\\Users\\Roberto\\AppData\\Local\\Temp\\ipykernel_25236\\2141166747.py:54: DeprecationWarning: find_element_by_* commands are deprecated. Please use find_element() instead\n",
      "  dist = Select( driver2.find_element_by_id( \"cod_dist\" ) )\n",
      "C:\\Users\\Roberto\\AppData\\Local\\Temp\\ipykernel_25236\\2141166747.py:70: DeprecationWarning: find_element_by_xpath is deprecated. Please use find_element(by=By.XPATH, value=xpath) instead\n",
      "  table_path = driver2.find_element_by_xpath( \"/html/body/onpe-root/onpe-layout-container/onpe-onpe-epres-re/div[1]/div[4]/div[1]/div[3]/div\" )\n",
      "C:\\Users\\Roberto\\AppData\\Local\\Temp\\ipykernel_25236\\2141166747.py:54: DeprecationWarning: find_element_by_* commands are deprecated. Please use find_element() instead\n",
      "  dist = Select( driver2.find_element_by_id( \"cod_dist\" ) )\n",
      "C:\\Users\\Roberto\\AppData\\Local\\Temp\\ipykernel_25236\\2141166747.py:70: DeprecationWarning: find_element_by_xpath is deprecated. Please use find_element(by=By.XPATH, value=xpath) instead\n",
      "  table_path = driver2.find_element_by_xpath( \"/html/body/onpe-root/onpe-layout-container/onpe-onpe-epres-re/div[1]/div[4]/div[1]/div[3]/div\" )\n",
      "C:\\Users\\Roberto\\AppData\\Local\\Temp\\ipykernel_25236\\2141166747.py:54: DeprecationWarning: find_element_by_* commands are deprecated. Please use find_element() instead\n",
      "  dist = Select( driver2.find_element_by_id( \"cod_dist\" ) )\n",
      "C:\\Users\\Roberto\\AppData\\Local\\Temp\\ipykernel_25236\\2141166747.py:70: DeprecationWarning: find_element_by_xpath is deprecated. Please use find_element(by=By.XPATH, value=xpath) instead\n",
      "  table_path = driver2.find_element_by_xpath( \"/html/body/onpe-root/onpe-layout-container/onpe-onpe-epres-re/div[1]/div[4]/div[1]/div[3]/div\" )\n",
      "C:\\Users\\Roberto\\AppData\\Local\\Temp\\ipykernel_25236\\2141166747.py:54: DeprecationWarning: find_element_by_* commands are deprecated. Please use find_element() instead\n",
      "  dist = Select( driver2.find_element_by_id( \"cod_dist\" ) )\n",
      "C:\\Users\\Roberto\\AppData\\Local\\Temp\\ipykernel_25236\\2141166747.py:70: DeprecationWarning: find_element_by_xpath is deprecated. Please use find_element(by=By.XPATH, value=xpath) instead\n",
      "  table_path = driver2.find_element_by_xpath( \"/html/body/onpe-root/onpe-layout-container/onpe-onpe-epres-re/div[1]/div[4]/div[1]/div[3]/div\" )\n",
      "C:\\Users\\Roberto\\AppData\\Local\\Temp\\ipykernel_25236\\2141166747.py:54: DeprecationWarning: find_element_by_* commands are deprecated. Please use find_element() instead\n",
      "  dist = Select( driver2.find_element_by_id( \"cod_dist\" ) )\n",
      "C:\\Users\\Roberto\\AppData\\Local\\Temp\\ipykernel_25236\\2141166747.py:70: DeprecationWarning: find_element_by_xpath is deprecated. Please use find_element(by=By.XPATH, value=xpath) instead\n",
      "  table_path = driver2.find_element_by_xpath( \"/html/body/onpe-root/onpe-layout-container/onpe-onpe-epres-re/div[1]/div[4]/div[1]/div[3]/div\" )\n",
      "C:\\Users\\Roberto\\AppData\\Local\\Temp\\ipykernel_25236\\2141166747.py:54: DeprecationWarning: find_element_by_* commands are deprecated. Please use find_element() instead\n",
      "  dist = Select( driver2.find_element_by_id( \"cod_dist\" ) )\n",
      "C:\\Users\\Roberto\\AppData\\Local\\Temp\\ipykernel_25236\\2141166747.py:70: DeprecationWarning: find_element_by_xpath is deprecated. Please use find_element(by=By.XPATH, value=xpath) instead\n",
      "  table_path = driver2.find_element_by_xpath( \"/html/body/onpe-root/onpe-layout-container/onpe-onpe-epres-re/div[1]/div[4]/div[1]/div[3]/div\" )\n",
      "C:\\Users\\Roberto\\AppData\\Local\\Temp\\ipykernel_25236\\2141166747.py:35: DeprecationWarning: find_element_by_* commands are deprecated. Please use find_element() instead\n",
      "  prov = Select( driver2.find_element_by_id( \"cod_prov\" ) )\n",
      "C:\\Users\\Roberto\\AppData\\Local\\Temp\\ipykernel_25236\\2141166747.py:47: DeprecationWarning: find_element_by_* commands are deprecated. Please use find_element() instead\n",
      "  dist = Select( driver2.find_element_by_id( \"cod_dist\" ) )\n",
      "C:\\Users\\Roberto\\AppData\\Local\\Temp\\ipykernel_25236\\2141166747.py:54: DeprecationWarning: find_element_by_* commands are deprecated. Please use find_element() instead\n",
      "  dist = Select( driver2.find_element_by_id( \"cod_dist\" ) )\n",
      "C:\\Users\\Roberto\\AppData\\Local\\Temp\\ipykernel_25236\\2141166747.py:70: DeprecationWarning: find_element_by_xpath is deprecated. Please use find_element(by=By.XPATH, value=xpath) instead\n",
      "  table_path = driver2.find_element_by_xpath( \"/html/body/onpe-root/onpe-layout-container/onpe-onpe-epres-re/div[1]/div[4]/div[1]/div[3]/div\" )\n",
      "C:\\Users\\Roberto\\AppData\\Local\\Temp\\ipykernel_25236\\2141166747.py:54: DeprecationWarning: find_element_by_* commands are deprecated. Please use find_element() instead\n",
      "  dist = Select( driver2.find_element_by_id( \"cod_dist\" ) )\n",
      "C:\\Users\\Roberto\\AppData\\Local\\Temp\\ipykernel_25236\\2141166747.py:70: DeprecationWarning: find_element_by_xpath is deprecated. Please use find_element(by=By.XPATH, value=xpath) instead\n",
      "  table_path = driver2.find_element_by_xpath( \"/html/body/onpe-root/onpe-layout-container/onpe-onpe-epres-re/div[1]/div[4]/div[1]/div[3]/div\" )\n",
      "C:\\Users\\Roberto\\AppData\\Local\\Temp\\ipykernel_25236\\2141166747.py:54: DeprecationWarning: find_element_by_* commands are deprecated. Please use find_element() instead\n",
      "  dist = Select( driver2.find_element_by_id( \"cod_dist\" ) )\n",
      "C:\\Users\\Roberto\\AppData\\Local\\Temp\\ipykernel_25236\\2141166747.py:70: DeprecationWarning: find_element_by_xpath is deprecated. Please use find_element(by=By.XPATH, value=xpath) instead\n",
      "  table_path = driver2.find_element_by_xpath( \"/html/body/onpe-root/onpe-layout-container/onpe-onpe-epres-re/div[1]/div[4]/div[1]/div[3]/div\" )\n",
      "C:\\Users\\Roberto\\AppData\\Local\\Temp\\ipykernel_25236\\2141166747.py:54: DeprecationWarning: find_element_by_* commands are deprecated. Please use find_element() instead\n",
      "  dist = Select( driver2.find_element_by_id( \"cod_dist\" ) )\n",
      "C:\\Users\\Roberto\\AppData\\Local\\Temp\\ipykernel_25236\\2141166747.py:70: DeprecationWarning: find_element_by_xpath is deprecated. Please use find_element(by=By.XPATH, value=xpath) instead\n",
      "  table_path = driver2.find_element_by_xpath( \"/html/body/onpe-root/onpe-layout-container/onpe-onpe-epres-re/div[1]/div[4]/div[1]/div[3]/div\" )\n",
      "C:\\Users\\Roberto\\AppData\\Local\\Temp\\ipykernel_25236\\2141166747.py:54: DeprecationWarning: find_element_by_* commands are deprecated. Please use find_element() instead\n",
      "  dist = Select( driver2.find_element_by_id( \"cod_dist\" ) )\n"
     ]
    },
    {
     "name": "stderr",
     "output_type": "stream",
     "text": [
      "C:\\Users\\Roberto\\AppData\\Local\\Temp\\ipykernel_25236\\2141166747.py:70: DeprecationWarning: find_element_by_xpath is deprecated. Please use find_element(by=By.XPATH, value=xpath) instead\n",
      "  table_path = driver2.find_element_by_xpath( \"/html/body/onpe-root/onpe-layout-container/onpe-onpe-epres-re/div[1]/div[4]/div[1]/div[3]/div\" )\n",
      "C:\\Users\\Roberto\\AppData\\Local\\Temp\\ipykernel_25236\\2141166747.py:54: DeprecationWarning: find_element_by_* commands are deprecated. Please use find_element() instead\n",
      "  dist = Select( driver2.find_element_by_id( \"cod_dist\" ) )\n",
      "C:\\Users\\Roberto\\AppData\\Local\\Temp\\ipykernel_25236\\2141166747.py:70: DeprecationWarning: find_element_by_xpath is deprecated. Please use find_element(by=By.XPATH, value=xpath) instead\n",
      "  table_path = driver2.find_element_by_xpath( \"/html/body/onpe-root/onpe-layout-container/onpe-onpe-epres-re/div[1]/div[4]/div[1]/div[3]/div\" )\n",
      "C:\\Users\\Roberto\\AppData\\Local\\Temp\\ipykernel_25236\\2141166747.py:54: DeprecationWarning: find_element_by_* commands are deprecated. Please use find_element() instead\n",
      "  dist = Select( driver2.find_element_by_id( \"cod_dist\" ) )\n",
      "C:\\Users\\Roberto\\AppData\\Local\\Temp\\ipykernel_25236\\2141166747.py:70: DeprecationWarning: find_element_by_xpath is deprecated. Please use find_element(by=By.XPATH, value=xpath) instead\n",
      "  table_path = driver2.find_element_by_xpath( \"/html/body/onpe-root/onpe-layout-container/onpe-onpe-epres-re/div[1]/div[4]/div[1]/div[3]/div\" )\n",
      "C:\\Users\\Roberto\\AppData\\Local\\Temp\\ipykernel_25236\\2141166747.py:54: DeprecationWarning: find_element_by_* commands are deprecated. Please use find_element() instead\n",
      "  dist = Select( driver2.find_element_by_id( \"cod_dist\" ) )\n",
      "C:\\Users\\Roberto\\AppData\\Local\\Temp\\ipykernel_25236\\2141166747.py:70: DeprecationWarning: find_element_by_xpath is deprecated. Please use find_element(by=By.XPATH, value=xpath) instead\n",
      "  table_path = driver2.find_element_by_xpath( \"/html/body/onpe-root/onpe-layout-container/onpe-onpe-epres-re/div[1]/div[4]/div[1]/div[3]/div\" )\n",
      "C:\\Users\\Roberto\\AppData\\Local\\Temp\\ipykernel_25236\\2141166747.py:54: DeprecationWarning: find_element_by_* commands are deprecated. Please use find_element() instead\n",
      "  dist = Select( driver2.find_element_by_id( \"cod_dist\" ) )\n",
      "C:\\Users\\Roberto\\AppData\\Local\\Temp\\ipykernel_25236\\2141166747.py:70: DeprecationWarning: find_element_by_xpath is deprecated. Please use find_element(by=By.XPATH, value=xpath) instead\n",
      "  table_path = driver2.find_element_by_xpath( \"/html/body/onpe-root/onpe-layout-container/onpe-onpe-epres-re/div[1]/div[4]/div[1]/div[3]/div\" )\n",
      "C:\\Users\\Roberto\\AppData\\Local\\Temp\\ipykernel_25236\\2141166747.py:54: DeprecationWarning: find_element_by_* commands are deprecated. Please use find_element() instead\n",
      "  dist = Select( driver2.find_element_by_id( \"cod_dist\" ) )\n",
      "C:\\Users\\Roberto\\AppData\\Local\\Temp\\ipykernel_25236\\2141166747.py:70: DeprecationWarning: find_element_by_xpath is deprecated. Please use find_element(by=By.XPATH, value=xpath) instead\n",
      "  table_path = driver2.find_element_by_xpath( \"/html/body/onpe-root/onpe-layout-container/onpe-onpe-epres-re/div[1]/div[4]/div[1]/div[3]/div\" )\n",
      "C:\\Users\\Roberto\\AppData\\Local\\Temp\\ipykernel_25236\\2141166747.py:54: DeprecationWarning: find_element_by_* commands are deprecated. Please use find_element() instead\n",
      "  dist = Select( driver2.find_element_by_id( \"cod_dist\" ) )\n",
      "C:\\Users\\Roberto\\AppData\\Local\\Temp\\ipykernel_25236\\2141166747.py:70: DeprecationWarning: find_element_by_xpath is deprecated. Please use find_element(by=By.XPATH, value=xpath) instead\n",
      "  table_path = driver2.find_element_by_xpath( \"/html/body/onpe-root/onpe-layout-container/onpe-onpe-epres-re/div[1]/div[4]/div[1]/div[3]/div\" )\n",
      "C:\\Users\\Roberto\\AppData\\Local\\Temp\\ipykernel_25236\\2141166747.py:54: DeprecationWarning: find_element_by_* commands are deprecated. Please use find_element() instead\n",
      "  dist = Select( driver2.find_element_by_id( \"cod_dist\" ) )\n",
      "C:\\Users\\Roberto\\AppData\\Local\\Temp\\ipykernel_25236\\2141166747.py:70: DeprecationWarning: find_element_by_xpath is deprecated. Please use find_element(by=By.XPATH, value=xpath) instead\n",
      "  table_path = driver2.find_element_by_xpath( \"/html/body/onpe-root/onpe-layout-container/onpe-onpe-epres-re/div[1]/div[4]/div[1]/div[3]/div\" )\n",
      "C:\\Users\\Roberto\\AppData\\Local\\Temp\\ipykernel_25236\\2141166747.py:35: DeprecationWarning: find_element_by_* commands are deprecated. Please use find_element() instead\n",
      "  prov = Select( driver2.find_element_by_id( \"cod_prov\" ) )\n",
      "C:\\Users\\Roberto\\AppData\\Local\\Temp\\ipykernel_25236\\2141166747.py:47: DeprecationWarning: find_element_by_* commands are deprecated. Please use find_element() instead\n",
      "  dist = Select( driver2.find_element_by_id( \"cod_dist\" ) )\n",
      "C:\\Users\\Roberto\\AppData\\Local\\Temp\\ipykernel_25236\\2141166747.py:54: DeprecationWarning: find_element_by_* commands are deprecated. Please use find_element() instead\n",
      "  dist = Select( driver2.find_element_by_id( \"cod_dist\" ) )\n",
      "C:\\Users\\Roberto\\AppData\\Local\\Temp\\ipykernel_25236\\2141166747.py:70: DeprecationWarning: find_element_by_xpath is deprecated. Please use find_element(by=By.XPATH, value=xpath) instead\n",
      "  table_path = driver2.find_element_by_xpath( \"/html/body/onpe-root/onpe-layout-container/onpe-onpe-epres-re/div[1]/div[4]/div[1]/div[3]/div\" )\n",
      "C:\\Users\\Roberto\\AppData\\Local\\Temp\\ipykernel_25236\\2141166747.py:54: DeprecationWarning: find_element_by_* commands are deprecated. Please use find_element() instead\n",
      "  dist = Select( driver2.find_element_by_id( \"cod_dist\" ) )\n",
      "C:\\Users\\Roberto\\AppData\\Local\\Temp\\ipykernel_25236\\2141166747.py:70: DeprecationWarning: find_element_by_xpath is deprecated. Please use find_element(by=By.XPATH, value=xpath) instead\n",
      "  table_path = driver2.find_element_by_xpath( \"/html/body/onpe-root/onpe-layout-container/onpe-onpe-epres-re/div[1]/div[4]/div[1]/div[3]/div\" )\n",
      "C:\\Users\\Roberto\\AppData\\Local\\Temp\\ipykernel_25236\\2141166747.py:54: DeprecationWarning: find_element_by_* commands are deprecated. Please use find_element() instead\n",
      "  dist = Select( driver2.find_element_by_id( \"cod_dist\" ) )\n",
      "C:\\Users\\Roberto\\AppData\\Local\\Temp\\ipykernel_25236\\2141166747.py:70: DeprecationWarning: find_element_by_xpath is deprecated. Please use find_element(by=By.XPATH, value=xpath) instead\n",
      "  table_path = driver2.find_element_by_xpath( \"/html/body/onpe-root/onpe-layout-container/onpe-onpe-epres-re/div[1]/div[4]/div[1]/div[3]/div\" )\n",
      "C:\\Users\\Roberto\\AppData\\Local\\Temp\\ipykernel_25236\\2141166747.py:54: DeprecationWarning: find_element_by_* commands are deprecated. Please use find_element() instead\n",
      "  dist = Select( driver2.find_element_by_id( \"cod_dist\" ) )\n",
      "C:\\Users\\Roberto\\AppData\\Local\\Temp\\ipykernel_25236\\2141166747.py:70: DeprecationWarning: find_element_by_xpath is deprecated. Please use find_element(by=By.XPATH, value=xpath) instead\n",
      "  table_path = driver2.find_element_by_xpath( \"/html/body/onpe-root/onpe-layout-container/onpe-onpe-epres-re/div[1]/div[4]/div[1]/div[3]/div\" )\n",
      "C:\\Users\\Roberto\\AppData\\Local\\Temp\\ipykernel_25236\\2141166747.py:54: DeprecationWarning: find_element_by_* commands are deprecated. Please use find_element() instead\n",
      "  dist = Select( driver2.find_element_by_id( \"cod_dist\" ) )\n",
      "C:\\Users\\Roberto\\AppData\\Local\\Temp\\ipykernel_25236\\2141166747.py:70: DeprecationWarning: find_element_by_xpath is deprecated. Please use find_element(by=By.XPATH, value=xpath) instead\n",
      "  table_path = driver2.find_element_by_xpath( \"/html/body/onpe-root/onpe-layout-container/onpe-onpe-epres-re/div[1]/div[4]/div[1]/div[3]/div\" )\n",
      "C:\\Users\\Roberto\\AppData\\Local\\Temp\\ipykernel_25236\\2141166747.py:54: DeprecationWarning: find_element_by_* commands are deprecated. Please use find_element() instead\n",
      "  dist = Select( driver2.find_element_by_id( \"cod_dist\" ) )\n",
      "C:\\Users\\Roberto\\AppData\\Local\\Temp\\ipykernel_25236\\2141166747.py:70: DeprecationWarning: find_element_by_xpath is deprecated. Please use find_element(by=By.XPATH, value=xpath) instead\n",
      "  table_path = driver2.find_element_by_xpath( \"/html/body/onpe-root/onpe-layout-container/onpe-onpe-epres-re/div[1]/div[4]/div[1]/div[3]/div\" )\n",
      "C:\\Users\\Roberto\\AppData\\Local\\Temp\\ipykernel_25236\\2141166747.py:54: DeprecationWarning: find_element_by_* commands are deprecated. Please use find_element() instead\n",
      "  dist = Select( driver2.find_element_by_id( \"cod_dist\" ) )\n"
     ]
    },
    {
     "name": "stderr",
     "output_type": "stream",
     "text": [
      "C:\\Users\\Roberto\\AppData\\Local\\Temp\\ipykernel_25236\\2141166747.py:70: DeprecationWarning: find_element_by_xpath is deprecated. Please use find_element(by=By.XPATH, value=xpath) instead\n",
      "  table_path = driver2.find_element_by_xpath( \"/html/body/onpe-root/onpe-layout-container/onpe-onpe-epres-re/div[1]/div[4]/div[1]/div[3]/div\" )\n"
     ]
    }
   ],
   "source": [
    "# we can loop over all departments\n",
    "\n",
    "# for dpt_idx in range( num_prov_options ):\n",
    "# but it will take too much time\n",
    "# We are going to do it over two departments\n",
    "\n",
    "for dpt_idx in range( 2 ):\n",
    "    \n",
    "    # Get again all departments since HTML is refreshing\n",
    "    # all elements\n",
    "    # Click on one specific department\n",
    "    dpt = Select( driver2.find_element_by_id( \"select_departamento\" ) )\n",
    "    department = dpt.options[ dpt_idx ]\n",
    "    \n",
    "    # Get departmant name\n",
    "    dpt_name = department.text\n",
    "    \n",
    "    print(dpt_name)\n",
    "    \n",
    "    # We select a different department name\n",
    "    if dpt_name != \"--TODOS--\" :\n",
    "        \n",
    "        # click on department\n",
    "        department.click()\n",
    "        \n",
    "        # Get all elements of province\n",
    "        prov = Select( driver2.find_element_by_id( \"cod_prov\" ) )\n",
    "        num_prov_options = len( prov.options )\n",
    "        \n",
    "        for prov_idx in range( num_prov_options ):\n",
    "            \n",
    "            # Get again all districts since HTML is refreshing\n",
    "            # all elements\n",
    "            \n",
    "            prov = Select( driver2.find_element_by_id( \"cod_prov\" ) )\n",
    "            province = prov.options[ prov_idx ]\n",
    "                \n",
    "            # Get province name\n",
    "            prov_name = province.text\n",
    "            \n",
    "            if prov_name != \"--TODOS--\" :\n",
    "                \n",
    "                # click on province\n",
    "                province.click()\n",
    "                \n",
    "                # Get all elements from district\n",
    "                dist = Select( driver2.find_element_by_id( \"cod_dist\" ) )\n",
    "                num_dist_options = len( dist.options )\n",
    "                \n",
    "                for dist_idx in range( num_dist_options ):\n",
    "                    \n",
    "                    # Get again all districts since HTML is refreshing\n",
    "                    # all elements\n",
    "                    dist = Select( driver2.find_element_by_id( \"cod_dist\" ) )\n",
    "                    district = dist.options[ dist_idx ]\n",
    "                    \n",
    "                    # Get district name\n",
    "                    dist_name = district.text\n",
    "                    \n",
    "                    if dist_name != \"-- SELECCIONE --\" :\n",
    "                        \n",
    "                        # click on district\n",
    "                        district.click()\n",
    "                        \n",
    "                        # Get UBIGEO\n",
    "                        ubigeo = driver2.current_url.split(\"/\")[ -1 ]\n",
    "                        \n",
    "                        ## Get table of presidential votes\n",
    "                        # Get html at this point\n",
    "                        table_path = driver2.find_element_by_xpath( \"/html/body/onpe-root/onpe-layout-container/onpe-onpe-epres-re/div[1]/div[4]/div[1]/div[3]/div\" )\n",
    "                        table_html = table_path.get_attribute( 'innerHTML' )\n",
    "                        # Read the table using pandas\n",
    "                        table = pd.read_html( table_html )\n",
    "                        \n",
    "                        #/html/body/onpe-root/onpe-layout-container/onpe-onpe-epres-re/div[1]/div[4]/div[1]/div[3]/div\n",
    "                        \n",
    "                        # Cleaning tables\n",
    "                        row_new_columns = table[ 0 ].iloc[ 0 , 2: ]\n",
    "                        clean_columns = row_new_columns \\\n",
    "                                              .str.replace( \" \", \"_\") \\\n",
    "                                              .str.lower().str.replace( \"%\", \"share_\") \\\n",
    "                                              .apply( lambda x : unidecode.unidecode( x ) ) \\\n",
    "                                              .tolist()\n",
    "                        \n",
    "                        # Selecting specific columns\n",
    "                        table_clean = table[0].iloc[ 1:, 2: ].copy()\n",
    "                        \n",
    "                        # rename columns\n",
    "                        table_clean.columns = clean_columns\n",
    "                        \n",
    "                        # New values to columns \n",
    "                        table_clean[ 'department' ] = dpt_name\n",
    "                        table_clean[ 'province' ]   = prov_name\n",
    "                        table_clean[ 'district' ]   = dist_name\n",
    "                        table_clean[ 'ubigeo' ]     = ubigeo\n",
    "                        \n",
    "                        # store tables\n",
    "                        all_tables[ ubigeo ] = table_clean"
   ]
  },
  {
   "cell_type": "markdown",
   "metadata": {},
   "source": [
    "/html/body/onpe-root/onpe-layout-container/onpe-onpe-epres-re/div[1]/div[4]/div[1]/div[3]/div"
   ]
  },
  {
   "cell_type": "code",
   "execution_count": 109,
   "metadata": {},
   "outputs": [
    {
     "data": {
      "text/html": [
       "<div>\n",
       "<style scoped>\n",
       "    .dataframe tbody tr th:only-of-type {\n",
       "        vertical-align: middle;\n",
       "    }\n",
       "\n",
       "    .dataframe tbody tr th {\n",
       "        vertical-align: top;\n",
       "    }\n",
       "\n",
       "    .dataframe thead th {\n",
       "        text-align: right;\n",
       "    }\n",
       "</style>\n",
       "<table border=\"1\" class=\"dataframe\">\n",
       "  <thead>\n",
       "    <tr style=\"text-align: right;\">\n",
       "      <th></th>\n",
       "      <th>organizaciones_politicas</th>\n",
       "      <th>total</th>\n",
       "      <th>share_validos</th>\n",
       "      <th>share_emitidos</th>\n",
       "      <th>department</th>\n",
       "      <th>province</th>\n",
       "      <th>district</th>\n",
       "      <th>ubigeo</th>\n",
       "    </tr>\n",
       "  </thead>\n",
       "  <tbody>\n",
       "    <tr>\n",
       "      <th>1</th>\n",
       "      <td>PARTIDO NACIONALISTA PERUANO</td>\n",
       "      <td>356</td>\n",
       "      <td>9.327%</td>\n",
       "      <td>6.389%</td>\n",
       "      <td>AMAZONAS</td>\n",
       "      <td>BAGUA</td>\n",
       "      <td>ARAMANGO</td>\n",
       "      <td>010202</td>\n",
       "    </tr>\n",
       "    <tr>\n",
       "      <th>2</th>\n",
       "      <td>EL FRENTE AMPLIO POR JUSTICIA, VIDA Y LIBERTAD</td>\n",
       "      <td>13</td>\n",
       "      <td>0.341%</td>\n",
       "      <td>0.233%</td>\n",
       "      <td>AMAZONAS</td>\n",
       "      <td>BAGUA</td>\n",
       "      <td>ARAMANGO</td>\n",
       "      <td>010202</td>\n",
       "    </tr>\n",
       "    <tr>\n",
       "      <th>3</th>\n",
       "      <td>PARTIDO MORADO</td>\n",
       "      <td>41</td>\n",
       "      <td>1.074%</td>\n",
       "      <td>0.736%</td>\n",
       "      <td>AMAZONAS</td>\n",
       "      <td>BAGUA</td>\n",
       "      <td>ARAMANGO</td>\n",
       "      <td>010202</td>\n",
       "    </tr>\n",
       "    <tr>\n",
       "      <th>4</th>\n",
       "      <td>PERU PATRIA SEGURA</td>\n",
       "      <td>4</td>\n",
       "      <td>0.105%</td>\n",
       "      <td>0.072%</td>\n",
       "      <td>AMAZONAS</td>\n",
       "      <td>BAGUA</td>\n",
       "      <td>ARAMANGO</td>\n",
       "      <td>010202</td>\n",
       "    </tr>\n",
       "    <tr>\n",
       "      <th>5</th>\n",
       "      <td>VICTORIA NACIONAL</td>\n",
       "      <td>151</td>\n",
       "      <td>3.956%</td>\n",
       "      <td>2.710%</td>\n",
       "      <td>AMAZONAS</td>\n",
       "      <td>BAGUA</td>\n",
       "      <td>ARAMANGO</td>\n",
       "      <td>010202</td>\n",
       "    </tr>\n",
       "    <tr>\n",
       "      <th>6</th>\n",
       "      <td>ACCION POPULAR</td>\n",
       "      <td>267</td>\n",
       "      <td>6.995%</td>\n",
       "      <td>4.792%</td>\n",
       "      <td>AMAZONAS</td>\n",
       "      <td>BAGUA</td>\n",
       "      <td>ARAMANGO</td>\n",
       "      <td>010202</td>\n",
       "    </tr>\n",
       "    <tr>\n",
       "      <th>7</th>\n",
       "      <td>AVANZA PAIS - PARTIDO DE INTEGRACION SOCIAL</td>\n",
       "      <td>69</td>\n",
       "      <td>1.808%</td>\n",
       "      <td>1.238%</td>\n",
       "      <td>AMAZONAS</td>\n",
       "      <td>BAGUA</td>\n",
       "      <td>ARAMANGO</td>\n",
       "      <td>010202</td>\n",
       "    </tr>\n",
       "    <tr>\n",
       "      <th>8</th>\n",
       "      <td>PODEMOS PERU</td>\n",
       "      <td>265</td>\n",
       "      <td>6.943%</td>\n",
       "      <td>4.756%</td>\n",
       "      <td>AMAZONAS</td>\n",
       "      <td>BAGUA</td>\n",
       "      <td>ARAMANGO</td>\n",
       "      <td>010202</td>\n",
       "    </tr>\n",
       "    <tr>\n",
       "      <th>9</th>\n",
       "      <td>JUNTOS POR EL PERU</td>\n",
       "      <td>105</td>\n",
       "      <td>2.751%</td>\n",
       "      <td>1.884%</td>\n",
       "      <td>AMAZONAS</td>\n",
       "      <td>BAGUA</td>\n",
       "      <td>ARAMANGO</td>\n",
       "      <td>010202</td>\n",
       "    </tr>\n",
       "    <tr>\n",
       "      <th>10</th>\n",
       "      <td>PARTIDO POPULAR CRISTIANO - PPC</td>\n",
       "      <td>8</td>\n",
       "      <td>0.210%</td>\n",
       "      <td>0.144%</td>\n",
       "      <td>AMAZONAS</td>\n",
       "      <td>BAGUA</td>\n",
       "      <td>ARAMANGO</td>\n",
       "      <td>010202</td>\n",
       "    </tr>\n",
       "    <tr>\n",
       "      <th>11</th>\n",
       "      <td>FUERZA POPULAR</td>\n",
       "      <td>673</td>\n",
       "      <td>17.632%</td>\n",
       "      <td>12.078%</td>\n",
       "      <td>AMAZONAS</td>\n",
       "      <td>BAGUA</td>\n",
       "      <td>ARAMANGO</td>\n",
       "      <td>010202</td>\n",
       "    </tr>\n",
       "    <tr>\n",
       "      <th>12</th>\n",
       "      <td>UNION POR EL PERU</td>\n",
       "      <td>45</td>\n",
       "      <td>1.179%</td>\n",
       "      <td>0.808%</td>\n",
       "      <td>AMAZONAS</td>\n",
       "      <td>BAGUA</td>\n",
       "      <td>ARAMANGO</td>\n",
       "      <td>010202</td>\n",
       "    </tr>\n",
       "    <tr>\n",
       "      <th>13</th>\n",
       "      <td>RENOVACION POPULAR</td>\n",
       "      <td>252</td>\n",
       "      <td>6.602%</td>\n",
       "      <td>4.523%</td>\n",
       "      <td>AMAZONAS</td>\n",
       "      <td>BAGUA</td>\n",
       "      <td>ARAMANGO</td>\n",
       "      <td>010202</td>\n",
       "    </tr>\n",
       "    <tr>\n",
       "      <th>14</th>\n",
       "      <td>RENACIMIENTO UNIDO NACIONAL</td>\n",
       "      <td>42</td>\n",
       "      <td>1.100%</td>\n",
       "      <td>0.754%</td>\n",
       "      <td>AMAZONAS</td>\n",
       "      <td>BAGUA</td>\n",
       "      <td>ARAMANGO</td>\n",
       "      <td>010202</td>\n",
       "    </tr>\n",
       "    <tr>\n",
       "      <th>15</th>\n",
       "      <td>PARTIDO DEMOCRATICO SOMOS PERU</td>\n",
       "      <td>27</td>\n",
       "      <td>0.707%</td>\n",
       "      <td>0.485%</td>\n",
       "      <td>AMAZONAS</td>\n",
       "      <td>BAGUA</td>\n",
       "      <td>ARAMANGO</td>\n",
       "      <td>010202</td>\n",
       "    </tr>\n",
       "    <tr>\n",
       "      <th>16</th>\n",
       "      <td>PARTIDO POLITICO NACIONAL PERU LIBRE</td>\n",
       "      <td>1250</td>\n",
       "      <td>32.748%</td>\n",
       "      <td>22.434%</td>\n",
       "      <td>AMAZONAS</td>\n",
       "      <td>BAGUA</td>\n",
       "      <td>ARAMANGO</td>\n",
       "      <td>010202</td>\n",
       "    </tr>\n",
       "    <tr>\n",
       "      <th>17</th>\n",
       "      <td>DEMOCRACIA DIRECTA</td>\n",
       "      <td>8</td>\n",
       "      <td>0.210%</td>\n",
       "      <td>0.144%</td>\n",
       "      <td>AMAZONAS</td>\n",
       "      <td>BAGUA</td>\n",
       "      <td>ARAMANGO</td>\n",
       "      <td>010202</td>\n",
       "    </tr>\n",
       "    <tr>\n",
       "      <th>18</th>\n",
       "      <td>ALIANZA PARA EL PROGRESO</td>\n",
       "      <td>241</td>\n",
       "      <td>6.314%</td>\n",
       "      <td>4.325%</td>\n",
       "      <td>AMAZONAS</td>\n",
       "      <td>BAGUA</td>\n",
       "      <td>ARAMANGO</td>\n",
       "      <td>010202</td>\n",
       "    </tr>\n",
       "    <tr>\n",
       "      <th>19</th>\n",
       "      <td>TOTAL DE VOTOS VÁLIDOS</td>\n",
       "      <td>3817</td>\n",
       "      <td>100.000%</td>\n",
       "      <td>68.503%</td>\n",
       "      <td>AMAZONAS</td>\n",
       "      <td>BAGUA</td>\n",
       "      <td>ARAMANGO</td>\n",
       "      <td>010202</td>\n",
       "    </tr>\n",
       "    <tr>\n",
       "      <th>20</th>\n",
       "      <td>VOTOS EN BLANCO</td>\n",
       "      <td>1326</td>\n",
       "      <td>NaN</td>\n",
       "      <td>23.798%</td>\n",
       "      <td>AMAZONAS</td>\n",
       "      <td>BAGUA</td>\n",
       "      <td>ARAMANGO</td>\n",
       "      <td>010202</td>\n",
       "    </tr>\n",
       "    <tr>\n",
       "      <th>21</th>\n",
       "      <td>VOTOS NULOS</td>\n",
       "      <td>429</td>\n",
       "      <td>NaN</td>\n",
       "      <td>7.699%</td>\n",
       "      <td>AMAZONAS</td>\n",
       "      <td>BAGUA</td>\n",
       "      <td>ARAMANGO</td>\n",
       "      <td>010202</td>\n",
       "    </tr>\n",
       "    <tr>\n",
       "      <th>22</th>\n",
       "      <td>TOTAL DE VOTOS EMITIDOS</td>\n",
       "      <td>5572</td>\n",
       "      <td>NaN</td>\n",
       "      <td>100.000%</td>\n",
       "      <td>AMAZONAS</td>\n",
       "      <td>BAGUA</td>\n",
       "      <td>ARAMANGO</td>\n",
       "      <td>010202</td>\n",
       "    </tr>\n",
       "  </tbody>\n",
       "</table>\n",
       "</div>"
      ],
      "text/plain": [
       "                          organizaciones_politicas total share_validos  \\\n",
       "1                     PARTIDO NACIONALISTA PERUANO   356        9.327%   \n",
       "2   EL FRENTE AMPLIO POR JUSTICIA, VIDA Y LIBERTAD    13        0.341%   \n",
       "3                                   PARTIDO MORADO    41        1.074%   \n",
       "4                               PERU PATRIA SEGURA     4        0.105%   \n",
       "5                                VICTORIA NACIONAL   151        3.956%   \n",
       "6                                   ACCION POPULAR   267        6.995%   \n",
       "7      AVANZA PAIS - PARTIDO DE INTEGRACION SOCIAL    69        1.808%   \n",
       "8                                     PODEMOS PERU   265        6.943%   \n",
       "9                               JUNTOS POR EL PERU   105        2.751%   \n",
       "10                 PARTIDO POPULAR CRISTIANO - PPC     8        0.210%   \n",
       "11                                  FUERZA POPULAR   673       17.632%   \n",
       "12                               UNION POR EL PERU    45        1.179%   \n",
       "13                              RENOVACION POPULAR   252        6.602%   \n",
       "14                     RENACIMIENTO UNIDO NACIONAL    42        1.100%   \n",
       "15                  PARTIDO DEMOCRATICO SOMOS PERU    27        0.707%   \n",
       "16            PARTIDO POLITICO NACIONAL PERU LIBRE  1250       32.748%   \n",
       "17                              DEMOCRACIA DIRECTA     8        0.210%   \n",
       "18                        ALIANZA PARA EL PROGRESO   241        6.314%   \n",
       "19                          TOTAL DE VOTOS VÁLIDOS  3817      100.000%   \n",
       "20                                 VOTOS EN BLANCO  1326           NaN   \n",
       "21                                     VOTOS NULOS   429           NaN   \n",
       "22                         TOTAL DE VOTOS EMITIDOS  5572           NaN   \n",
       "\n",
       "   share_emitidos department province  district  ubigeo  \n",
       "1          6.389%   AMAZONAS    BAGUA  ARAMANGO  010202  \n",
       "2          0.233%   AMAZONAS    BAGUA  ARAMANGO  010202  \n",
       "3          0.736%   AMAZONAS    BAGUA  ARAMANGO  010202  \n",
       "4          0.072%   AMAZONAS    BAGUA  ARAMANGO  010202  \n",
       "5          2.710%   AMAZONAS    BAGUA  ARAMANGO  010202  \n",
       "6          4.792%   AMAZONAS    BAGUA  ARAMANGO  010202  \n",
       "7          1.238%   AMAZONAS    BAGUA  ARAMANGO  010202  \n",
       "8          4.756%   AMAZONAS    BAGUA  ARAMANGO  010202  \n",
       "9          1.884%   AMAZONAS    BAGUA  ARAMANGO  010202  \n",
       "10         0.144%   AMAZONAS    BAGUA  ARAMANGO  010202  \n",
       "11        12.078%   AMAZONAS    BAGUA  ARAMANGO  010202  \n",
       "12         0.808%   AMAZONAS    BAGUA  ARAMANGO  010202  \n",
       "13         4.523%   AMAZONAS    BAGUA  ARAMANGO  010202  \n",
       "14         0.754%   AMAZONAS    BAGUA  ARAMANGO  010202  \n",
       "15         0.485%   AMAZONAS    BAGUA  ARAMANGO  010202  \n",
       "16        22.434%   AMAZONAS    BAGUA  ARAMANGO  010202  \n",
       "17         0.144%   AMAZONAS    BAGUA  ARAMANGO  010202  \n",
       "18         4.325%   AMAZONAS    BAGUA  ARAMANGO  010202  \n",
       "19        68.503%   AMAZONAS    BAGUA  ARAMANGO  010202  \n",
       "20        23.798%   AMAZONAS    BAGUA  ARAMANGO  010202  \n",
       "21         7.699%   AMAZONAS    BAGUA  ARAMANGO  010202  \n",
       "22       100.000%   AMAZONAS    BAGUA  ARAMANGO  010202  "
      ]
     },
     "execution_count": 109,
     "metadata": {},
     "output_type": "execute_result"
    }
   ],
   "source": [
    "all_tables['010202']"
   ]
  },
  {
   "cell_type": "code",
   "execution_count": 110,
   "metadata": {},
   "outputs": [],
   "source": [
    "final_data = pd.concat( all_tables.values() ).reset_index( drop = True )"
   ]
  },
  {
   "cell_type": "code",
   "execution_count": 111,
   "metadata": {},
   "outputs": [
    {
     "data": {
      "text/html": [
       "<div>\n",
       "<style scoped>\n",
       "    .dataframe tbody tr th:only-of-type {\n",
       "        vertical-align: middle;\n",
       "    }\n",
       "\n",
       "    .dataframe tbody tr th {\n",
       "        vertical-align: top;\n",
       "    }\n",
       "\n",
       "    .dataframe thead th {\n",
       "        text-align: right;\n",
       "    }\n",
       "</style>\n",
       "<table border=\"1\" class=\"dataframe\">\n",
       "  <thead>\n",
       "    <tr style=\"text-align: right;\">\n",
       "      <th></th>\n",
       "      <th>organizaciones_politicas</th>\n",
       "      <th>total</th>\n",
       "      <th>share_validos</th>\n",
       "      <th>share_emitidos</th>\n",
       "      <th>department</th>\n",
       "      <th>province</th>\n",
       "      <th>district</th>\n",
       "      <th>ubigeo</th>\n",
       "    </tr>\n",
       "  </thead>\n",
       "  <tbody>\n",
       "    <tr>\n",
       "      <th>0</th>\n",
       "      <td>PARTIDO NACIONALISTA PERUANO</td>\n",
       "      <td>356</td>\n",
       "      <td>9.327%</td>\n",
       "      <td>6.389%</td>\n",
       "      <td>AMAZONAS</td>\n",
       "      <td>BAGUA</td>\n",
       "      <td>ARAMANGO</td>\n",
       "      <td>010202</td>\n",
       "    </tr>\n",
       "    <tr>\n",
       "      <th>1</th>\n",
       "      <td>EL FRENTE AMPLIO POR JUSTICIA, VIDA Y LIBERTAD</td>\n",
       "      <td>13</td>\n",
       "      <td>0.341%</td>\n",
       "      <td>0.233%</td>\n",
       "      <td>AMAZONAS</td>\n",
       "      <td>BAGUA</td>\n",
       "      <td>ARAMANGO</td>\n",
       "      <td>010202</td>\n",
       "    </tr>\n",
       "    <tr>\n",
       "      <th>2</th>\n",
       "      <td>PARTIDO MORADO</td>\n",
       "      <td>41</td>\n",
       "      <td>1.074%</td>\n",
       "      <td>0.736%</td>\n",
       "      <td>AMAZONAS</td>\n",
       "      <td>BAGUA</td>\n",
       "      <td>ARAMANGO</td>\n",
       "      <td>010202</td>\n",
       "    </tr>\n",
       "    <tr>\n",
       "      <th>3</th>\n",
       "      <td>PERU PATRIA SEGURA</td>\n",
       "      <td>4</td>\n",
       "      <td>0.105%</td>\n",
       "      <td>0.072%</td>\n",
       "      <td>AMAZONAS</td>\n",
       "      <td>BAGUA</td>\n",
       "      <td>ARAMANGO</td>\n",
       "      <td>010202</td>\n",
       "    </tr>\n",
       "    <tr>\n",
       "      <th>4</th>\n",
       "      <td>VICTORIA NACIONAL</td>\n",
       "      <td>151</td>\n",
       "      <td>3.956%</td>\n",
       "      <td>2.710%</td>\n",
       "      <td>AMAZONAS</td>\n",
       "      <td>BAGUA</td>\n",
       "      <td>ARAMANGO</td>\n",
       "      <td>010202</td>\n",
       "    </tr>\n",
       "    <tr>\n",
       "      <th>...</th>\n",
       "      <td>...</td>\n",
       "      <td>...</td>\n",
       "      <td>...</td>\n",
       "      <td>...</td>\n",
       "      <td>...</td>\n",
       "      <td>...</td>\n",
       "      <td>...</td>\n",
       "      <td>...</td>\n",
       "    </tr>\n",
       "    <tr>\n",
       "      <th>1843</th>\n",
       "      <td>ALIANZA PARA EL PROGRESO</td>\n",
       "      <td>66</td>\n",
       "      <td>6.414%</td>\n",
       "      <td>4.622%</td>\n",
       "      <td>AMAZONAS</td>\n",
       "      <td>UTCUBAMBA</td>\n",
       "      <td>YAMON</td>\n",
       "      <td>010707</td>\n",
       "    </tr>\n",
       "    <tr>\n",
       "      <th>1844</th>\n",
       "      <td>TOTAL DE VOTOS VÁLIDOS</td>\n",
       "      <td>1029</td>\n",
       "      <td>100.000%</td>\n",
       "      <td>72.059%</td>\n",
       "      <td>AMAZONAS</td>\n",
       "      <td>UTCUBAMBA</td>\n",
       "      <td>YAMON</td>\n",
       "      <td>010707</td>\n",
       "    </tr>\n",
       "    <tr>\n",
       "      <th>1845</th>\n",
       "      <td>VOTOS EN BLANCO</td>\n",
       "      <td>318</td>\n",
       "      <td>NaN</td>\n",
       "      <td>22.269%</td>\n",
       "      <td>AMAZONAS</td>\n",
       "      <td>UTCUBAMBA</td>\n",
       "      <td>YAMON</td>\n",
       "      <td>010707</td>\n",
       "    </tr>\n",
       "    <tr>\n",
       "      <th>1846</th>\n",
       "      <td>VOTOS NULOS</td>\n",
       "      <td>81</td>\n",
       "      <td>NaN</td>\n",
       "      <td>5.672%</td>\n",
       "      <td>AMAZONAS</td>\n",
       "      <td>UTCUBAMBA</td>\n",
       "      <td>YAMON</td>\n",
       "      <td>010707</td>\n",
       "    </tr>\n",
       "    <tr>\n",
       "      <th>1847</th>\n",
       "      <td>TOTAL DE VOTOS EMITIDOS</td>\n",
       "      <td>1428</td>\n",
       "      <td>NaN</td>\n",
       "      <td>100.000%</td>\n",
       "      <td>AMAZONAS</td>\n",
       "      <td>UTCUBAMBA</td>\n",
       "      <td>YAMON</td>\n",
       "      <td>010707</td>\n",
       "    </tr>\n",
       "  </tbody>\n",
       "</table>\n",
       "<p>1848 rows × 8 columns</p>\n",
       "</div>"
      ],
      "text/plain": [
       "                            organizaciones_politicas total share_validos  \\\n",
       "0                       PARTIDO NACIONALISTA PERUANO   356        9.327%   \n",
       "1     EL FRENTE AMPLIO POR JUSTICIA, VIDA Y LIBERTAD    13        0.341%   \n",
       "2                                     PARTIDO MORADO    41        1.074%   \n",
       "3                                 PERU PATRIA SEGURA     4        0.105%   \n",
       "4                                  VICTORIA NACIONAL   151        3.956%   \n",
       "...                                              ...   ...           ...   \n",
       "1843                        ALIANZA PARA EL PROGRESO    66        6.414%   \n",
       "1844                          TOTAL DE VOTOS VÁLIDOS  1029      100.000%   \n",
       "1845                                 VOTOS EN BLANCO   318           NaN   \n",
       "1846                                     VOTOS NULOS    81           NaN   \n",
       "1847                         TOTAL DE VOTOS EMITIDOS  1428           NaN   \n",
       "\n",
       "     share_emitidos department   province  district  ubigeo  \n",
       "0            6.389%   AMAZONAS      BAGUA  ARAMANGO  010202  \n",
       "1            0.233%   AMAZONAS      BAGUA  ARAMANGO  010202  \n",
       "2            0.736%   AMAZONAS      BAGUA  ARAMANGO  010202  \n",
       "3            0.072%   AMAZONAS      BAGUA  ARAMANGO  010202  \n",
       "4            2.710%   AMAZONAS      BAGUA  ARAMANGO  010202  \n",
       "...             ...        ...        ...       ...     ...  \n",
       "1843         4.622%   AMAZONAS  UTCUBAMBA     YAMON  010707  \n",
       "1844        72.059%   AMAZONAS  UTCUBAMBA     YAMON  010707  \n",
       "1845        22.269%   AMAZONAS  UTCUBAMBA     YAMON  010707  \n",
       "1846         5.672%   AMAZONAS  UTCUBAMBA     YAMON  010707  \n",
       "1847       100.000%   AMAZONAS  UTCUBAMBA     YAMON  010707  \n",
       "\n",
       "[1848 rows x 8 columns]"
      ]
     },
     "execution_count": 111,
     "metadata": {},
     "output_type": "execute_result"
    }
   ],
   "source": [
    "final_data"
   ]
  },
  {
   "cell_type": "code",
   "execution_count": 113,
   "metadata": {},
   "outputs": [],
   "source": [
    "final_data.to_excel( r'first_round.xlsx' , index = False )"
   ]
  },
  {
   "cell_type": "code",
   "execution_count": 304,
   "metadata": {},
   "outputs": [
    {
     "data": {
      "text/html": [
       "<div>\n",
       "<style scoped>\n",
       "    .dataframe tbody tr th:only-of-type {\n",
       "        vertical-align: middle;\n",
       "    }\n",
       "\n",
       "    .dataframe tbody tr th {\n",
       "        vertical-align: top;\n",
       "    }\n",
       "\n",
       "    .dataframe thead th {\n",
       "        text-align: right;\n",
       "    }\n",
       "</style>\n",
       "<table border=\"1\" class=\"dataframe\">\n",
       "  <thead>\n",
       "    <tr style=\"text-align: right;\">\n",
       "      <th></th>\n",
       "      <th>organizaciones_politicas</th>\n",
       "      <th>total</th>\n",
       "      <th>share_validos</th>\n",
       "      <th>share_emitidos</th>\n",
       "      <th>department</th>\n",
       "      <th>province</th>\n",
       "      <th>district</th>\n",
       "      <th>ubigeo</th>\n",
       "    </tr>\n",
       "  </thead>\n",
       "  <tbody>\n",
       "    <tr>\n",
       "      <th>1</th>\n",
       "      <td>PARTIDO NACIONALISTA PERUANO</td>\n",
       "      <td>356</td>\n",
       "      <td>9.327%</td>\n",
       "      <td>6.389%</td>\n",
       "      <td>AMAZONAS</td>\n",
       "      <td>BAGUA</td>\n",
       "      <td>ARAMANGO</td>\n",
       "      <td>010202</td>\n",
       "    </tr>\n",
       "    <tr>\n",
       "      <th>2</th>\n",
       "      <td>EL FRENTE AMPLIO POR JUSTICIA, VIDA Y LIBERTAD</td>\n",
       "      <td>13</td>\n",
       "      <td>0.341%</td>\n",
       "      <td>0.233%</td>\n",
       "      <td>AMAZONAS</td>\n",
       "      <td>BAGUA</td>\n",
       "      <td>ARAMANGO</td>\n",
       "      <td>010202</td>\n",
       "    </tr>\n",
       "    <tr>\n",
       "      <th>3</th>\n",
       "      <td>PARTIDO MORADO</td>\n",
       "      <td>41</td>\n",
       "      <td>1.074%</td>\n",
       "      <td>0.736%</td>\n",
       "      <td>AMAZONAS</td>\n",
       "      <td>BAGUA</td>\n",
       "      <td>ARAMANGO</td>\n",
       "      <td>010202</td>\n",
       "    </tr>\n",
       "    <tr>\n",
       "      <th>4</th>\n",
       "      <td>PERU PATRIA SEGURA</td>\n",
       "      <td>4</td>\n",
       "      <td>0.105%</td>\n",
       "      <td>0.072%</td>\n",
       "      <td>AMAZONAS</td>\n",
       "      <td>BAGUA</td>\n",
       "      <td>ARAMANGO</td>\n",
       "      <td>010202</td>\n",
       "    </tr>\n",
       "    <tr>\n",
       "      <th>5</th>\n",
       "      <td>VICTORIA NACIONAL</td>\n",
       "      <td>151</td>\n",
       "      <td>3.956%</td>\n",
       "      <td>2.710%</td>\n",
       "      <td>AMAZONAS</td>\n",
       "      <td>BAGUA</td>\n",
       "      <td>ARAMANGO</td>\n",
       "      <td>010202</td>\n",
       "    </tr>\n",
       "    <tr>\n",
       "      <th>6</th>\n",
       "      <td>ACCION POPULAR</td>\n",
       "      <td>267</td>\n",
       "      <td>6.995%</td>\n",
       "      <td>4.792%</td>\n",
       "      <td>AMAZONAS</td>\n",
       "      <td>BAGUA</td>\n",
       "      <td>ARAMANGO</td>\n",
       "      <td>010202</td>\n",
       "    </tr>\n",
       "    <tr>\n",
       "      <th>7</th>\n",
       "      <td>AVANZA PAIS - PARTIDO DE INTEGRACION SOCIAL</td>\n",
       "      <td>69</td>\n",
       "      <td>1.808%</td>\n",
       "      <td>1.238%</td>\n",
       "      <td>AMAZONAS</td>\n",
       "      <td>BAGUA</td>\n",
       "      <td>ARAMANGO</td>\n",
       "      <td>010202</td>\n",
       "    </tr>\n",
       "    <tr>\n",
       "      <th>8</th>\n",
       "      <td>PODEMOS PERU</td>\n",
       "      <td>265</td>\n",
       "      <td>6.943%</td>\n",
       "      <td>4.756%</td>\n",
       "      <td>AMAZONAS</td>\n",
       "      <td>BAGUA</td>\n",
       "      <td>ARAMANGO</td>\n",
       "      <td>010202</td>\n",
       "    </tr>\n",
       "    <tr>\n",
       "      <th>9</th>\n",
       "      <td>JUNTOS POR EL PERU</td>\n",
       "      <td>105</td>\n",
       "      <td>2.751%</td>\n",
       "      <td>1.884%</td>\n",
       "      <td>AMAZONAS</td>\n",
       "      <td>BAGUA</td>\n",
       "      <td>ARAMANGO</td>\n",
       "      <td>010202</td>\n",
       "    </tr>\n",
       "    <tr>\n",
       "      <th>10</th>\n",
       "      <td>PARTIDO POPULAR CRISTIANO - PPC</td>\n",
       "      <td>8</td>\n",
       "      <td>0.210%</td>\n",
       "      <td>0.144%</td>\n",
       "      <td>AMAZONAS</td>\n",
       "      <td>BAGUA</td>\n",
       "      <td>ARAMANGO</td>\n",
       "      <td>010202</td>\n",
       "    </tr>\n",
       "    <tr>\n",
       "      <th>11</th>\n",
       "      <td>FUERZA POPULAR</td>\n",
       "      <td>673</td>\n",
       "      <td>17.632%</td>\n",
       "      <td>12.078%</td>\n",
       "      <td>AMAZONAS</td>\n",
       "      <td>BAGUA</td>\n",
       "      <td>ARAMANGO</td>\n",
       "      <td>010202</td>\n",
       "    </tr>\n",
       "    <tr>\n",
       "      <th>12</th>\n",
       "      <td>UNION POR EL PERU</td>\n",
       "      <td>45</td>\n",
       "      <td>1.179%</td>\n",
       "      <td>0.808%</td>\n",
       "      <td>AMAZONAS</td>\n",
       "      <td>BAGUA</td>\n",
       "      <td>ARAMANGO</td>\n",
       "      <td>010202</td>\n",
       "    </tr>\n",
       "    <tr>\n",
       "      <th>13</th>\n",
       "      <td>RENOVACION POPULAR</td>\n",
       "      <td>252</td>\n",
       "      <td>6.602%</td>\n",
       "      <td>4.523%</td>\n",
       "      <td>AMAZONAS</td>\n",
       "      <td>BAGUA</td>\n",
       "      <td>ARAMANGO</td>\n",
       "      <td>010202</td>\n",
       "    </tr>\n",
       "    <tr>\n",
       "      <th>14</th>\n",
       "      <td>RENACIMIENTO UNIDO NACIONAL</td>\n",
       "      <td>42</td>\n",
       "      <td>1.100%</td>\n",
       "      <td>0.754%</td>\n",
       "      <td>AMAZONAS</td>\n",
       "      <td>BAGUA</td>\n",
       "      <td>ARAMANGO</td>\n",
       "      <td>010202</td>\n",
       "    </tr>\n",
       "    <tr>\n",
       "      <th>15</th>\n",
       "      <td>PARTIDO DEMOCRATICO SOMOS PERU</td>\n",
       "      <td>27</td>\n",
       "      <td>0.707%</td>\n",
       "      <td>0.485%</td>\n",
       "      <td>AMAZONAS</td>\n",
       "      <td>BAGUA</td>\n",
       "      <td>ARAMANGO</td>\n",
       "      <td>010202</td>\n",
       "    </tr>\n",
       "    <tr>\n",
       "      <th>16</th>\n",
       "      <td>PARTIDO POLITICO NACIONAL PERU LIBRE</td>\n",
       "      <td>1250</td>\n",
       "      <td>32.748%</td>\n",
       "      <td>22.434%</td>\n",
       "      <td>AMAZONAS</td>\n",
       "      <td>BAGUA</td>\n",
       "      <td>ARAMANGO</td>\n",
       "      <td>010202</td>\n",
       "    </tr>\n",
       "    <tr>\n",
       "      <th>17</th>\n",
       "      <td>DEMOCRACIA DIRECTA</td>\n",
       "      <td>8</td>\n",
       "      <td>0.210%</td>\n",
       "      <td>0.144%</td>\n",
       "      <td>AMAZONAS</td>\n",
       "      <td>BAGUA</td>\n",
       "      <td>ARAMANGO</td>\n",
       "      <td>010202</td>\n",
       "    </tr>\n",
       "    <tr>\n",
       "      <th>18</th>\n",
       "      <td>ALIANZA PARA EL PROGRESO</td>\n",
       "      <td>241</td>\n",
       "      <td>6.314%</td>\n",
       "      <td>4.325%</td>\n",
       "      <td>AMAZONAS</td>\n",
       "      <td>BAGUA</td>\n",
       "      <td>ARAMANGO</td>\n",
       "      <td>010202</td>\n",
       "    </tr>\n",
       "    <tr>\n",
       "      <th>19</th>\n",
       "      <td>TOTAL DE VOTOS VÁLIDOS</td>\n",
       "      <td>3817</td>\n",
       "      <td>100.000%</td>\n",
       "      <td>68.503%</td>\n",
       "      <td>AMAZONAS</td>\n",
       "      <td>BAGUA</td>\n",
       "      <td>ARAMANGO</td>\n",
       "      <td>010202</td>\n",
       "    </tr>\n",
       "    <tr>\n",
       "      <th>20</th>\n",
       "      <td>VOTOS EN BLANCO</td>\n",
       "      <td>1326</td>\n",
       "      <td>NaN</td>\n",
       "      <td>23.798%</td>\n",
       "      <td>AMAZONAS</td>\n",
       "      <td>BAGUA</td>\n",
       "      <td>ARAMANGO</td>\n",
       "      <td>010202</td>\n",
       "    </tr>\n",
       "    <tr>\n",
       "      <th>21</th>\n",
       "      <td>VOTOS NULOS</td>\n",
       "      <td>429</td>\n",
       "      <td>NaN</td>\n",
       "      <td>7.699%</td>\n",
       "      <td>AMAZONAS</td>\n",
       "      <td>BAGUA</td>\n",
       "      <td>ARAMANGO</td>\n",
       "      <td>010202</td>\n",
       "    </tr>\n",
       "    <tr>\n",
       "      <th>22</th>\n",
       "      <td>TOTAL DE VOTOS EMITIDOS</td>\n",
       "      <td>5572</td>\n",
       "      <td>NaN</td>\n",
       "      <td>100.000%</td>\n",
       "      <td>AMAZONAS</td>\n",
       "      <td>BAGUA</td>\n",
       "      <td>ARAMANGO</td>\n",
       "      <td>010202</td>\n",
       "    </tr>\n",
       "  </tbody>\n",
       "</table>\n",
       "</div>"
      ],
      "text/plain": [
       "                          organizaciones_politicas total share_validos  \\\n",
       "1                     PARTIDO NACIONALISTA PERUANO   356        9.327%   \n",
       "2   EL FRENTE AMPLIO POR JUSTICIA, VIDA Y LIBERTAD    13        0.341%   \n",
       "3                                   PARTIDO MORADO    41        1.074%   \n",
       "4                               PERU PATRIA SEGURA     4        0.105%   \n",
       "5                                VICTORIA NACIONAL   151        3.956%   \n",
       "6                                   ACCION POPULAR   267        6.995%   \n",
       "7      AVANZA PAIS - PARTIDO DE INTEGRACION SOCIAL    69        1.808%   \n",
       "8                                     PODEMOS PERU   265        6.943%   \n",
       "9                               JUNTOS POR EL PERU   105        2.751%   \n",
       "10                 PARTIDO POPULAR CRISTIANO - PPC     8        0.210%   \n",
       "11                                  FUERZA POPULAR   673       17.632%   \n",
       "12                               UNION POR EL PERU    45        1.179%   \n",
       "13                              RENOVACION POPULAR   252        6.602%   \n",
       "14                     RENACIMIENTO UNIDO NACIONAL    42        1.100%   \n",
       "15                  PARTIDO DEMOCRATICO SOMOS PERU    27        0.707%   \n",
       "16            PARTIDO POLITICO NACIONAL PERU LIBRE  1250       32.748%   \n",
       "17                              DEMOCRACIA DIRECTA     8        0.210%   \n",
       "18                        ALIANZA PARA EL PROGRESO   241        6.314%   \n",
       "19                          TOTAL DE VOTOS VÁLIDOS  3817      100.000%   \n",
       "20                                 VOTOS EN BLANCO  1326           NaN   \n",
       "21                                     VOTOS NULOS   429           NaN   \n",
       "22                         TOTAL DE VOTOS EMITIDOS  5572           NaN   \n",
       "\n",
       "   share_emitidos department province  district  ubigeo  \n",
       "1          6.389%   AMAZONAS    BAGUA  ARAMANGO  010202  \n",
       "2          0.233%   AMAZONAS    BAGUA  ARAMANGO  010202  \n",
       "3          0.736%   AMAZONAS    BAGUA  ARAMANGO  010202  \n",
       "4          0.072%   AMAZONAS    BAGUA  ARAMANGO  010202  \n",
       "5          2.710%   AMAZONAS    BAGUA  ARAMANGO  010202  \n",
       "6          4.792%   AMAZONAS    BAGUA  ARAMANGO  010202  \n",
       "7          1.238%   AMAZONAS    BAGUA  ARAMANGO  010202  \n",
       "8          4.756%   AMAZONAS    BAGUA  ARAMANGO  010202  \n",
       "9          1.884%   AMAZONAS    BAGUA  ARAMANGO  010202  \n",
       "10         0.144%   AMAZONAS    BAGUA  ARAMANGO  010202  \n",
       "11        12.078%   AMAZONAS    BAGUA  ARAMANGO  010202  \n",
       "12         0.808%   AMAZONAS    BAGUA  ARAMANGO  010202  \n",
       "13         4.523%   AMAZONAS    BAGUA  ARAMANGO  010202  \n",
       "14         0.754%   AMAZONAS    BAGUA  ARAMANGO  010202  \n",
       "15         0.485%   AMAZONAS    BAGUA  ARAMANGO  010202  \n",
       "16        22.434%   AMAZONAS    BAGUA  ARAMANGO  010202  \n",
       "17         0.144%   AMAZONAS    BAGUA  ARAMANGO  010202  \n",
       "18         4.325%   AMAZONAS    BAGUA  ARAMANGO  010202  \n",
       "19        68.503%   AMAZONAS    BAGUA  ARAMANGO  010202  \n",
       "20        23.798%   AMAZONAS    BAGUA  ARAMANGO  010202  \n",
       "21         7.699%   AMAZONAS    BAGUA  ARAMANGO  010202  \n",
       "22       100.000%   AMAZONAS    BAGUA  ARAMANGO  010202  "
      ]
     },
     "execution_count": 304,
     "metadata": {},
     "output_type": "execute_result"
    }
   ],
   "source": [
    "all_tables['010202']"
   ]
  },
  {
   "cell_type": "code",
   "execution_count": 161,
   "metadata": {},
   "outputs": [],
   "source": [
    "ubigeo = driver2.current_url.split(\"/\")[-1]"
   ]
  },
  {
   "cell_type": "code",
   "execution_count": 162,
   "metadata": {},
   "outputs": [
    {
     "data": {
      "text/plain": [
       "'090000'"
      ]
     },
     "execution_count": 162,
     "metadata": {},
     "output_type": "execute_result"
    }
   ],
   "source": [
    "ubigeo"
   ]
  },
  {
   "cell_type": "markdown",
   "metadata": {},
   "source": [
    "### Method to get table by district  in the Loop "
   ]
  },
  {
   "cell_type": "code",
   "execution_count": 96,
   "metadata": {},
   "outputs": [
    {
     "name": "stderr",
     "output_type": "stream",
     "text": [
      "C:\\Users\\Roberto\\AppData\\Local\\Temp\\ipykernel_25236\\2514081061.py:1: DeprecationWarning: find_element_by_xpath is deprecated. Please use find_element(by=By.XPATH, value=xpath) instead\n",
      "  table_path = driver2.find_element_by_xpath( \"/html/body/onpe-root/onpe-layout-container/onpe-onpe-epres-re/div[1]/div[4]/div[1]/div[3]/div\" )\n"
     ]
    }
   ],
   "source": [
    "table_path = driver2.find_element_by_xpath( \"/html/body/onpe-root/onpe-layout-container/onpe-onpe-epres-re/div[1]/div[4]/div[1]/div[3]/div\" )\n",
    "table_html = table_path.get_attribute( 'innerHTML' )\n",
    "# Read the table using pandas\n",
    "table = pd.read_html( table_html )"
   ]
  },
  {
   "cell_type": "code",
   "execution_count": 99,
   "metadata": {
    "scrolled": false
   },
   "outputs": [
    {
     "data": {
      "text/html": [
       "<div>\n",
       "<style scoped>\n",
       "    .dataframe tbody tr th:only-of-type {\n",
       "        vertical-align: middle;\n",
       "    }\n",
       "\n",
       "    .dataframe tbody tr th {\n",
       "        vertical-align: top;\n",
       "    }\n",
       "\n",
       "    .dataframe thead th {\n",
       "        text-align: right;\n",
       "    }\n",
       "</style>\n",
       "<table border=\"1\" class=\"dataframe\">\n",
       "  <thead>\n",
       "    <tr style=\"text-align: right;\">\n",
       "      <th></th>\n",
       "      <th>TOTAL DE VOTOS</th>\n",
       "      <th>TOTAL DE VOTOS.1</th>\n",
       "      <th>TOTAL DE VOTOS.2</th>\n",
       "      <th>TOTAL DE VOTOS.3</th>\n",
       "      <th>TOTAL DE VOTOS.4</th>\n",
       "      <th>TOTAL DE VOTOS.5</th>\n",
       "    </tr>\n",
       "  </thead>\n",
       "  <tbody>\n",
       "    <tr>\n",
       "      <th>0</th>\n",
       "      <td>ORGANIZACIONES POLÍTICAS</td>\n",
       "      <td>ORGANIZACIONES POLÍTICAS</td>\n",
       "      <td>ORGANIZACIONES POLÍTICAS</td>\n",
       "      <td>TOTAL</td>\n",
       "      <td>%VÁLIDOS</td>\n",
       "      <td>%EMITIDOS</td>\n",
       "    </tr>\n",
       "    <tr>\n",
       "      <th>1</th>\n",
       "      <td>NaN</td>\n",
       "      <td>NaN</td>\n",
       "      <td>PARTIDO NACIONALISTA PERUANO</td>\n",
       "      <td>1027</td>\n",
       "      <td>13.730%</td>\n",
       "      <td>9.396%</td>\n",
       "    </tr>\n",
       "    <tr>\n",
       "      <th>2</th>\n",
       "      <td>NaN</td>\n",
       "      <td>NaN</td>\n",
       "      <td>EL FRENTE AMPLIO POR JUSTICIA, VIDA Y LIBERTAD</td>\n",
       "      <td>30</td>\n",
       "      <td>0.401%</td>\n",
       "      <td>0.274%</td>\n",
       "    </tr>\n",
       "    <tr>\n",
       "      <th>3</th>\n",
       "      <td>NaN</td>\n",
       "      <td>NaN</td>\n",
       "      <td>PARTIDO MORADO</td>\n",
       "      <td>157</td>\n",
       "      <td>2.099%</td>\n",
       "      <td>1.436%</td>\n",
       "    </tr>\n",
       "    <tr>\n",
       "      <th>4</th>\n",
       "      <td>NaN</td>\n",
       "      <td>NaN</td>\n",
       "      <td>PERU PATRIA SEGURA</td>\n",
       "      <td>8</td>\n",
       "      <td>0.107%</td>\n",
       "      <td>0.073%</td>\n",
       "    </tr>\n",
       "    <tr>\n",
       "      <th>5</th>\n",
       "      <td>NaN</td>\n",
       "      <td>NaN</td>\n",
       "      <td>VICTORIA NACIONAL</td>\n",
       "      <td>107</td>\n",
       "      <td>1.430%</td>\n",
       "      <td>0.979%</td>\n",
       "    </tr>\n",
       "    <tr>\n",
       "      <th>6</th>\n",
       "      <td>NaN</td>\n",
       "      <td>NaN</td>\n",
       "      <td>ACCION POPULAR</td>\n",
       "      <td>208</td>\n",
       "      <td>2.781%</td>\n",
       "      <td>1.903%</td>\n",
       "    </tr>\n",
       "    <tr>\n",
       "      <th>7</th>\n",
       "      <td>NaN</td>\n",
       "      <td>NaN</td>\n",
       "      <td>AVANZA PAIS - PARTIDO DE INTEGRACION SOCIAL</td>\n",
       "      <td>68</td>\n",
       "      <td>0.909%</td>\n",
       "      <td>0.622%</td>\n",
       "    </tr>\n",
       "    <tr>\n",
       "      <th>8</th>\n",
       "      <td>NaN</td>\n",
       "      <td>NaN</td>\n",
       "      <td>PODEMOS PERU</td>\n",
       "      <td>1723</td>\n",
       "      <td>23.035%</td>\n",
       "      <td>15.764%</td>\n",
       "    </tr>\n",
       "    <tr>\n",
       "      <th>9</th>\n",
       "      <td>NaN</td>\n",
       "      <td>NaN</td>\n",
       "      <td>JUNTOS POR EL PERU</td>\n",
       "      <td>325</td>\n",
       "      <td>4.345%</td>\n",
       "      <td>2.973%</td>\n",
       "    </tr>\n",
       "    <tr>\n",
       "      <th>10</th>\n",
       "      <td>NaN</td>\n",
       "      <td>NaN</td>\n",
       "      <td>PARTIDO POPULAR CRISTIANO - PPC</td>\n",
       "      <td>11</td>\n",
       "      <td>0.147%</td>\n",
       "      <td>0.101%</td>\n",
       "    </tr>\n",
       "    <tr>\n",
       "      <th>11</th>\n",
       "      <td>NaN</td>\n",
       "      <td>NaN</td>\n",
       "      <td>FUERZA POPULAR</td>\n",
       "      <td>338</td>\n",
       "      <td>4.519%</td>\n",
       "      <td>3.092%</td>\n",
       "    </tr>\n",
       "    <tr>\n",
       "      <th>12</th>\n",
       "      <td>NaN</td>\n",
       "      <td>NaN</td>\n",
       "      <td>UNION POR EL PERU</td>\n",
       "      <td>408</td>\n",
       "      <td>5.455%</td>\n",
       "      <td>3.733%</td>\n",
       "    </tr>\n",
       "    <tr>\n",
       "      <th>13</th>\n",
       "      <td>NaN</td>\n",
       "      <td>NaN</td>\n",
       "      <td>RENOVACION POPULAR</td>\n",
       "      <td>252</td>\n",
       "      <td>3.369%</td>\n",
       "      <td>2.306%</td>\n",
       "    </tr>\n",
       "    <tr>\n",
       "      <th>14</th>\n",
       "      <td>NaN</td>\n",
       "      <td>NaN</td>\n",
       "      <td>RENACIMIENTO UNIDO NACIONAL</td>\n",
       "      <td>57</td>\n",
       "      <td>0.762%</td>\n",
       "      <td>0.522%</td>\n",
       "    </tr>\n",
       "    <tr>\n",
       "      <th>15</th>\n",
       "      <td>NaN</td>\n",
       "      <td>NaN</td>\n",
       "      <td>PARTIDO DEMOCRATICO SOMOS PERU</td>\n",
       "      <td>28</td>\n",
       "      <td>0.374%</td>\n",
       "      <td>0.256%</td>\n",
       "    </tr>\n",
       "    <tr>\n",
       "      <th>16</th>\n",
       "      <td>NaN</td>\n",
       "      <td>NaN</td>\n",
       "      <td>PARTIDO POLITICO NACIONAL PERU LIBRE</td>\n",
       "      <td>2365</td>\n",
       "      <td>31.618%</td>\n",
       "      <td>21.638%</td>\n",
       "    </tr>\n",
       "    <tr>\n",
       "      <th>17</th>\n",
       "      <td>NaN</td>\n",
       "      <td>NaN</td>\n",
       "      <td>DEMOCRACIA DIRECTA</td>\n",
       "      <td>9</td>\n",
       "      <td>0.120%</td>\n",
       "      <td>0.082%</td>\n",
       "    </tr>\n",
       "    <tr>\n",
       "      <th>18</th>\n",
       "      <td>NaN</td>\n",
       "      <td>NaN</td>\n",
       "      <td>ALIANZA PARA EL PROGRESO</td>\n",
       "      <td>359</td>\n",
       "      <td>4.799%</td>\n",
       "      <td>3.285%</td>\n",
       "    </tr>\n",
       "    <tr>\n",
       "      <th>19</th>\n",
       "      <td>NaN</td>\n",
       "      <td>NaN</td>\n",
       "      <td>TOTAL DE VOTOS VÁLIDOS</td>\n",
       "      <td>7480</td>\n",
       "      <td>100.000%</td>\n",
       "      <td>68.435%</td>\n",
       "    </tr>\n",
       "    <tr>\n",
       "      <th>20</th>\n",
       "      <td>NaN</td>\n",
       "      <td>NaN</td>\n",
       "      <td>VOTOS EN BLANCO</td>\n",
       "      <td>2697</td>\n",
       "      <td>NaN</td>\n",
       "      <td>24.675%</td>\n",
       "    </tr>\n",
       "    <tr>\n",
       "      <th>21</th>\n",
       "      <td>NaN</td>\n",
       "      <td>NaN</td>\n",
       "      <td>VOTOS NULOS</td>\n",
       "      <td>753</td>\n",
       "      <td>NaN</td>\n",
       "      <td>6.889%</td>\n",
       "    </tr>\n",
       "    <tr>\n",
       "      <th>22</th>\n",
       "      <td>NaN</td>\n",
       "      <td>NaN</td>\n",
       "      <td>TOTAL DE VOTOS EMITIDOS</td>\n",
       "      <td>10930</td>\n",
       "      <td>NaN</td>\n",
       "      <td>100.000%</td>\n",
       "    </tr>\n",
       "  </tbody>\n",
       "</table>\n",
       "</div>"
      ],
      "text/plain": [
       "              TOTAL DE VOTOS          TOTAL DE VOTOS.1  \\\n",
       "0   ORGANIZACIONES POLÍTICAS  ORGANIZACIONES POLÍTICAS   \n",
       "1                        NaN                       NaN   \n",
       "2                        NaN                       NaN   \n",
       "3                        NaN                       NaN   \n",
       "4                        NaN                       NaN   \n",
       "5                        NaN                       NaN   \n",
       "6                        NaN                       NaN   \n",
       "7                        NaN                       NaN   \n",
       "8                        NaN                       NaN   \n",
       "9                        NaN                       NaN   \n",
       "10                       NaN                       NaN   \n",
       "11                       NaN                       NaN   \n",
       "12                       NaN                       NaN   \n",
       "13                       NaN                       NaN   \n",
       "14                       NaN                       NaN   \n",
       "15                       NaN                       NaN   \n",
       "16                       NaN                       NaN   \n",
       "17                       NaN                       NaN   \n",
       "18                       NaN                       NaN   \n",
       "19                       NaN                       NaN   \n",
       "20                       NaN                       NaN   \n",
       "21                       NaN                       NaN   \n",
       "22                       NaN                       NaN   \n",
       "\n",
       "                                  TOTAL DE VOTOS.2 TOTAL DE VOTOS.3  \\\n",
       "0                         ORGANIZACIONES POLÍTICAS            TOTAL   \n",
       "1                     PARTIDO NACIONALISTA PERUANO             1027   \n",
       "2   EL FRENTE AMPLIO POR JUSTICIA, VIDA Y LIBERTAD               30   \n",
       "3                                   PARTIDO MORADO              157   \n",
       "4                               PERU PATRIA SEGURA                8   \n",
       "5                                VICTORIA NACIONAL              107   \n",
       "6                                   ACCION POPULAR              208   \n",
       "7      AVANZA PAIS - PARTIDO DE INTEGRACION SOCIAL               68   \n",
       "8                                     PODEMOS PERU             1723   \n",
       "9                               JUNTOS POR EL PERU              325   \n",
       "10                 PARTIDO POPULAR CRISTIANO - PPC               11   \n",
       "11                                  FUERZA POPULAR              338   \n",
       "12                               UNION POR EL PERU              408   \n",
       "13                              RENOVACION POPULAR              252   \n",
       "14                     RENACIMIENTO UNIDO NACIONAL               57   \n",
       "15                  PARTIDO DEMOCRATICO SOMOS PERU               28   \n",
       "16            PARTIDO POLITICO NACIONAL PERU LIBRE             2365   \n",
       "17                              DEMOCRACIA DIRECTA                9   \n",
       "18                        ALIANZA PARA EL PROGRESO              359   \n",
       "19                          TOTAL DE VOTOS VÁLIDOS             7480   \n",
       "20                                 VOTOS EN BLANCO             2697   \n",
       "21                                     VOTOS NULOS              753   \n",
       "22                         TOTAL DE VOTOS EMITIDOS            10930   \n",
       "\n",
       "   TOTAL DE VOTOS.4 TOTAL DE VOTOS.5  \n",
       "0          %VÁLIDOS        %EMITIDOS  \n",
       "1           13.730%           9.396%  \n",
       "2            0.401%           0.274%  \n",
       "3            2.099%           1.436%  \n",
       "4            0.107%           0.073%  \n",
       "5            1.430%           0.979%  \n",
       "6            2.781%           1.903%  \n",
       "7            0.909%           0.622%  \n",
       "8           23.035%          15.764%  \n",
       "9            4.345%           2.973%  \n",
       "10           0.147%           0.101%  \n",
       "11           4.519%           3.092%  \n",
       "12           5.455%           3.733%  \n",
       "13           3.369%           2.306%  \n",
       "14           0.762%           0.522%  \n",
       "15           0.374%           0.256%  \n",
       "16          31.618%          21.638%  \n",
       "17           0.120%           0.082%  \n",
       "18           4.799%           3.285%  \n",
       "19         100.000%          68.435%  \n",
       "20              NaN          24.675%  \n",
       "21              NaN           6.889%  \n",
       "22              NaN         100.000%  "
      ]
     },
     "execution_count": 99,
     "metadata": {},
     "output_type": "execute_result"
    }
   ],
   "source": [
    "table[0]"
   ]
  },
  {
   "cell_type": "code",
   "execution_count": 100,
   "metadata": {},
   "outputs": [],
   "source": [
    "row_new_columns = table[ 0 ].iloc[ 0 , 2: ]"
   ]
  },
  {
   "cell_type": "code",
   "execution_count": 101,
   "metadata": {},
   "outputs": [
    {
     "data": {
      "text/plain": [
       "TOTAL DE VOTOS.2    ORGANIZACIONES POLÍTICAS\n",
       "TOTAL DE VOTOS.3                       TOTAL\n",
       "TOTAL DE VOTOS.4                    %VÁLIDOS\n",
       "TOTAL DE VOTOS.5                   %EMITIDOS\n",
       "Name: 0, dtype: object"
      ]
     },
     "execution_count": 101,
     "metadata": {},
     "output_type": "execute_result"
    }
   ],
   "source": [
    "row_new_columns"
   ]
  },
  {
   "cell_type": "code",
   "execution_count": 102,
   "metadata": {},
   "outputs": [],
   "source": [
    "clean_columns = row_new_columns\\\n",
    "    .str.replace( \" \", \"_\")\\\n",
    "    .str.lower().str.replace( \"%\", \"share_\")\\\n",
    "    .apply( lambda x : unidecode.unidecode( x ) ).tolist()"
   ]
  },
  {
   "cell_type": "code",
   "execution_count": 103,
   "metadata": {},
   "outputs": [
    {
     "data": {
      "text/plain": [
       "['organizaciones_politicas', 'total', 'share_validos', 'share_emitidos']"
      ]
     },
     "execution_count": 103,
     "metadata": {},
     "output_type": "execute_result"
    }
   ],
   "source": [
    "clean_columns"
   ]
  },
  {
   "cell_type": "code",
   "execution_count": 104,
   "metadata": {},
   "outputs": [
    {
     "data": {
      "text/html": [
       "<div>\n",
       "<style scoped>\n",
       "    .dataframe tbody tr th:only-of-type {\n",
       "        vertical-align: middle;\n",
       "    }\n",
       "\n",
       "    .dataframe tbody tr th {\n",
       "        vertical-align: top;\n",
       "    }\n",
       "\n",
       "    .dataframe thead th {\n",
       "        text-align: right;\n",
       "    }\n",
       "</style>\n",
       "<table border=\"1\" class=\"dataframe\">\n",
       "  <thead>\n",
       "    <tr style=\"text-align: right;\">\n",
       "      <th></th>\n",
       "      <th>TOTAL DE VOTOS.2</th>\n",
       "      <th>TOTAL DE VOTOS.3</th>\n",
       "      <th>TOTAL DE VOTOS.4</th>\n",
       "      <th>TOTAL DE VOTOS.5</th>\n",
       "    </tr>\n",
       "  </thead>\n",
       "  <tbody>\n",
       "    <tr>\n",
       "      <th>1</th>\n",
       "      <td>PARTIDO NACIONALISTA PERUANO</td>\n",
       "      <td>1027</td>\n",
       "      <td>13.730%</td>\n",
       "      <td>9.396%</td>\n",
       "    </tr>\n",
       "    <tr>\n",
       "      <th>2</th>\n",
       "      <td>EL FRENTE AMPLIO POR JUSTICIA, VIDA Y LIBERTAD</td>\n",
       "      <td>30</td>\n",
       "      <td>0.401%</td>\n",
       "      <td>0.274%</td>\n",
       "    </tr>\n",
       "    <tr>\n",
       "      <th>3</th>\n",
       "      <td>PARTIDO MORADO</td>\n",
       "      <td>157</td>\n",
       "      <td>2.099%</td>\n",
       "      <td>1.436%</td>\n",
       "    </tr>\n",
       "    <tr>\n",
       "      <th>4</th>\n",
       "      <td>PERU PATRIA SEGURA</td>\n",
       "      <td>8</td>\n",
       "      <td>0.107%</td>\n",
       "      <td>0.073%</td>\n",
       "    </tr>\n",
       "    <tr>\n",
       "      <th>5</th>\n",
       "      <td>VICTORIA NACIONAL</td>\n",
       "      <td>107</td>\n",
       "      <td>1.430%</td>\n",
       "      <td>0.979%</td>\n",
       "    </tr>\n",
       "    <tr>\n",
       "      <th>6</th>\n",
       "      <td>ACCION POPULAR</td>\n",
       "      <td>208</td>\n",
       "      <td>2.781%</td>\n",
       "      <td>1.903%</td>\n",
       "    </tr>\n",
       "    <tr>\n",
       "      <th>7</th>\n",
       "      <td>AVANZA PAIS - PARTIDO DE INTEGRACION SOCIAL</td>\n",
       "      <td>68</td>\n",
       "      <td>0.909%</td>\n",
       "      <td>0.622%</td>\n",
       "    </tr>\n",
       "    <tr>\n",
       "      <th>8</th>\n",
       "      <td>PODEMOS PERU</td>\n",
       "      <td>1723</td>\n",
       "      <td>23.035%</td>\n",
       "      <td>15.764%</td>\n",
       "    </tr>\n",
       "    <tr>\n",
       "      <th>9</th>\n",
       "      <td>JUNTOS POR EL PERU</td>\n",
       "      <td>325</td>\n",
       "      <td>4.345%</td>\n",
       "      <td>2.973%</td>\n",
       "    </tr>\n",
       "    <tr>\n",
       "      <th>10</th>\n",
       "      <td>PARTIDO POPULAR CRISTIANO - PPC</td>\n",
       "      <td>11</td>\n",
       "      <td>0.147%</td>\n",
       "      <td>0.101%</td>\n",
       "    </tr>\n",
       "    <tr>\n",
       "      <th>11</th>\n",
       "      <td>FUERZA POPULAR</td>\n",
       "      <td>338</td>\n",
       "      <td>4.519%</td>\n",
       "      <td>3.092%</td>\n",
       "    </tr>\n",
       "    <tr>\n",
       "      <th>12</th>\n",
       "      <td>UNION POR EL PERU</td>\n",
       "      <td>408</td>\n",
       "      <td>5.455%</td>\n",
       "      <td>3.733%</td>\n",
       "    </tr>\n",
       "    <tr>\n",
       "      <th>13</th>\n",
       "      <td>RENOVACION POPULAR</td>\n",
       "      <td>252</td>\n",
       "      <td>3.369%</td>\n",
       "      <td>2.306%</td>\n",
       "    </tr>\n",
       "    <tr>\n",
       "      <th>14</th>\n",
       "      <td>RENACIMIENTO UNIDO NACIONAL</td>\n",
       "      <td>57</td>\n",
       "      <td>0.762%</td>\n",
       "      <td>0.522%</td>\n",
       "    </tr>\n",
       "    <tr>\n",
       "      <th>15</th>\n",
       "      <td>PARTIDO DEMOCRATICO SOMOS PERU</td>\n",
       "      <td>28</td>\n",
       "      <td>0.374%</td>\n",
       "      <td>0.256%</td>\n",
       "    </tr>\n",
       "    <tr>\n",
       "      <th>16</th>\n",
       "      <td>PARTIDO POLITICO NACIONAL PERU LIBRE</td>\n",
       "      <td>2365</td>\n",
       "      <td>31.618%</td>\n",
       "      <td>21.638%</td>\n",
       "    </tr>\n",
       "    <tr>\n",
       "      <th>17</th>\n",
       "      <td>DEMOCRACIA DIRECTA</td>\n",
       "      <td>9</td>\n",
       "      <td>0.120%</td>\n",
       "      <td>0.082%</td>\n",
       "    </tr>\n",
       "    <tr>\n",
       "      <th>18</th>\n",
       "      <td>ALIANZA PARA EL PROGRESO</td>\n",
       "      <td>359</td>\n",
       "      <td>4.799%</td>\n",
       "      <td>3.285%</td>\n",
       "    </tr>\n",
       "    <tr>\n",
       "      <th>19</th>\n",
       "      <td>TOTAL DE VOTOS VÁLIDOS</td>\n",
       "      <td>7480</td>\n",
       "      <td>100.000%</td>\n",
       "      <td>68.435%</td>\n",
       "    </tr>\n",
       "    <tr>\n",
       "      <th>20</th>\n",
       "      <td>VOTOS EN BLANCO</td>\n",
       "      <td>2697</td>\n",
       "      <td>NaN</td>\n",
       "      <td>24.675%</td>\n",
       "    </tr>\n",
       "    <tr>\n",
       "      <th>21</th>\n",
       "      <td>VOTOS NULOS</td>\n",
       "      <td>753</td>\n",
       "      <td>NaN</td>\n",
       "      <td>6.889%</td>\n",
       "    </tr>\n",
       "    <tr>\n",
       "      <th>22</th>\n",
       "      <td>TOTAL DE VOTOS EMITIDOS</td>\n",
       "      <td>10930</td>\n",
       "      <td>NaN</td>\n",
       "      <td>100.000%</td>\n",
       "    </tr>\n",
       "  </tbody>\n",
       "</table>\n",
       "</div>"
      ],
      "text/plain": [
       "                                  TOTAL DE VOTOS.2 TOTAL DE VOTOS.3  \\\n",
       "1                     PARTIDO NACIONALISTA PERUANO             1027   \n",
       "2   EL FRENTE AMPLIO POR JUSTICIA, VIDA Y LIBERTAD               30   \n",
       "3                                   PARTIDO MORADO              157   \n",
       "4                               PERU PATRIA SEGURA                8   \n",
       "5                                VICTORIA NACIONAL              107   \n",
       "6                                   ACCION POPULAR              208   \n",
       "7      AVANZA PAIS - PARTIDO DE INTEGRACION SOCIAL               68   \n",
       "8                                     PODEMOS PERU             1723   \n",
       "9                               JUNTOS POR EL PERU              325   \n",
       "10                 PARTIDO POPULAR CRISTIANO - PPC               11   \n",
       "11                                  FUERZA POPULAR              338   \n",
       "12                               UNION POR EL PERU              408   \n",
       "13                              RENOVACION POPULAR              252   \n",
       "14                     RENACIMIENTO UNIDO NACIONAL               57   \n",
       "15                  PARTIDO DEMOCRATICO SOMOS PERU               28   \n",
       "16            PARTIDO POLITICO NACIONAL PERU LIBRE             2365   \n",
       "17                              DEMOCRACIA DIRECTA                9   \n",
       "18                        ALIANZA PARA EL PROGRESO              359   \n",
       "19                          TOTAL DE VOTOS VÁLIDOS             7480   \n",
       "20                                 VOTOS EN BLANCO             2697   \n",
       "21                                     VOTOS NULOS              753   \n",
       "22                         TOTAL DE VOTOS EMITIDOS            10930   \n",
       "\n",
       "   TOTAL DE VOTOS.4 TOTAL DE VOTOS.5  \n",
       "1           13.730%           9.396%  \n",
       "2            0.401%           0.274%  \n",
       "3            2.099%           1.436%  \n",
       "4            0.107%           0.073%  \n",
       "5            1.430%           0.979%  \n",
       "6            2.781%           1.903%  \n",
       "7            0.909%           0.622%  \n",
       "8           23.035%          15.764%  \n",
       "9            4.345%           2.973%  \n",
       "10           0.147%           0.101%  \n",
       "11           4.519%           3.092%  \n",
       "12           5.455%           3.733%  \n",
       "13           3.369%           2.306%  \n",
       "14           0.762%           0.522%  \n",
       "15           0.374%           0.256%  \n",
       "16          31.618%          21.638%  \n",
       "17           0.120%           0.082%  \n",
       "18           4.799%           3.285%  \n",
       "19         100.000%          68.435%  \n",
       "20              NaN          24.675%  \n",
       "21              NaN           6.889%  \n",
       "22              NaN         100.000%  "
      ]
     },
     "execution_count": 104,
     "metadata": {},
     "output_type": "execute_result"
    }
   ],
   "source": [
    "table_clean = table[0].iloc[ 1:, 2: ].copy()\n",
    "table_clean"
   ]
  },
  {
   "cell_type": "code",
   "execution_count": 105,
   "metadata": {},
   "outputs": [],
   "source": [
    "                       \n",
    "        # rename columns\n",
    "        table_clean.columns = clean_columns"
   ]
  },
  {
   "cell_type": "code",
   "execution_count": 106,
   "metadata": {},
   "outputs": [
    {
     "data": {
      "text/html": [
       "<div>\n",
       "<style scoped>\n",
       "    .dataframe tbody tr th:only-of-type {\n",
       "        vertical-align: middle;\n",
       "    }\n",
       "\n",
       "    .dataframe tbody tr th {\n",
       "        vertical-align: top;\n",
       "    }\n",
       "\n",
       "    .dataframe thead th {\n",
       "        text-align: right;\n",
       "    }\n",
       "</style>\n",
       "<table border=\"1\" class=\"dataframe\">\n",
       "  <thead>\n",
       "    <tr style=\"text-align: right;\">\n",
       "      <th></th>\n",
       "      <th>organizaciones_politicas</th>\n",
       "      <th>total</th>\n",
       "      <th>share_validos</th>\n",
       "      <th>share_emitidos</th>\n",
       "    </tr>\n",
       "  </thead>\n",
       "  <tbody>\n",
       "    <tr>\n",
       "      <th>1</th>\n",
       "      <td>PARTIDO NACIONALISTA PERUANO</td>\n",
       "      <td>1027</td>\n",
       "      <td>13.730%</td>\n",
       "      <td>9.396%</td>\n",
       "    </tr>\n",
       "    <tr>\n",
       "      <th>2</th>\n",
       "      <td>EL FRENTE AMPLIO POR JUSTICIA, VIDA Y LIBERTAD</td>\n",
       "      <td>30</td>\n",
       "      <td>0.401%</td>\n",
       "      <td>0.274%</td>\n",
       "    </tr>\n",
       "    <tr>\n",
       "      <th>3</th>\n",
       "      <td>PARTIDO MORADO</td>\n",
       "      <td>157</td>\n",
       "      <td>2.099%</td>\n",
       "      <td>1.436%</td>\n",
       "    </tr>\n",
       "    <tr>\n",
       "      <th>4</th>\n",
       "      <td>PERU PATRIA SEGURA</td>\n",
       "      <td>8</td>\n",
       "      <td>0.107%</td>\n",
       "      <td>0.073%</td>\n",
       "    </tr>\n",
       "    <tr>\n",
       "      <th>5</th>\n",
       "      <td>VICTORIA NACIONAL</td>\n",
       "      <td>107</td>\n",
       "      <td>1.430%</td>\n",
       "      <td>0.979%</td>\n",
       "    </tr>\n",
       "    <tr>\n",
       "      <th>6</th>\n",
       "      <td>ACCION POPULAR</td>\n",
       "      <td>208</td>\n",
       "      <td>2.781%</td>\n",
       "      <td>1.903%</td>\n",
       "    </tr>\n",
       "    <tr>\n",
       "      <th>7</th>\n",
       "      <td>AVANZA PAIS - PARTIDO DE INTEGRACION SOCIAL</td>\n",
       "      <td>68</td>\n",
       "      <td>0.909%</td>\n",
       "      <td>0.622%</td>\n",
       "    </tr>\n",
       "    <tr>\n",
       "      <th>8</th>\n",
       "      <td>PODEMOS PERU</td>\n",
       "      <td>1723</td>\n",
       "      <td>23.035%</td>\n",
       "      <td>15.764%</td>\n",
       "    </tr>\n",
       "    <tr>\n",
       "      <th>9</th>\n",
       "      <td>JUNTOS POR EL PERU</td>\n",
       "      <td>325</td>\n",
       "      <td>4.345%</td>\n",
       "      <td>2.973%</td>\n",
       "    </tr>\n",
       "    <tr>\n",
       "      <th>10</th>\n",
       "      <td>PARTIDO POPULAR CRISTIANO - PPC</td>\n",
       "      <td>11</td>\n",
       "      <td>0.147%</td>\n",
       "      <td>0.101%</td>\n",
       "    </tr>\n",
       "    <tr>\n",
       "      <th>11</th>\n",
       "      <td>FUERZA POPULAR</td>\n",
       "      <td>338</td>\n",
       "      <td>4.519%</td>\n",
       "      <td>3.092%</td>\n",
       "    </tr>\n",
       "    <tr>\n",
       "      <th>12</th>\n",
       "      <td>UNION POR EL PERU</td>\n",
       "      <td>408</td>\n",
       "      <td>5.455%</td>\n",
       "      <td>3.733%</td>\n",
       "    </tr>\n",
       "    <tr>\n",
       "      <th>13</th>\n",
       "      <td>RENOVACION POPULAR</td>\n",
       "      <td>252</td>\n",
       "      <td>3.369%</td>\n",
       "      <td>2.306%</td>\n",
       "    </tr>\n",
       "    <tr>\n",
       "      <th>14</th>\n",
       "      <td>RENACIMIENTO UNIDO NACIONAL</td>\n",
       "      <td>57</td>\n",
       "      <td>0.762%</td>\n",
       "      <td>0.522%</td>\n",
       "    </tr>\n",
       "    <tr>\n",
       "      <th>15</th>\n",
       "      <td>PARTIDO DEMOCRATICO SOMOS PERU</td>\n",
       "      <td>28</td>\n",
       "      <td>0.374%</td>\n",
       "      <td>0.256%</td>\n",
       "    </tr>\n",
       "    <tr>\n",
       "      <th>16</th>\n",
       "      <td>PARTIDO POLITICO NACIONAL PERU LIBRE</td>\n",
       "      <td>2365</td>\n",
       "      <td>31.618%</td>\n",
       "      <td>21.638%</td>\n",
       "    </tr>\n",
       "    <tr>\n",
       "      <th>17</th>\n",
       "      <td>DEMOCRACIA DIRECTA</td>\n",
       "      <td>9</td>\n",
       "      <td>0.120%</td>\n",
       "      <td>0.082%</td>\n",
       "    </tr>\n",
       "    <tr>\n",
       "      <th>18</th>\n",
       "      <td>ALIANZA PARA EL PROGRESO</td>\n",
       "      <td>359</td>\n",
       "      <td>4.799%</td>\n",
       "      <td>3.285%</td>\n",
       "    </tr>\n",
       "    <tr>\n",
       "      <th>19</th>\n",
       "      <td>TOTAL DE VOTOS VÁLIDOS</td>\n",
       "      <td>7480</td>\n",
       "      <td>100.000%</td>\n",
       "      <td>68.435%</td>\n",
       "    </tr>\n",
       "    <tr>\n",
       "      <th>20</th>\n",
       "      <td>VOTOS EN BLANCO</td>\n",
       "      <td>2697</td>\n",
       "      <td>NaN</td>\n",
       "      <td>24.675%</td>\n",
       "    </tr>\n",
       "    <tr>\n",
       "      <th>21</th>\n",
       "      <td>VOTOS NULOS</td>\n",
       "      <td>753</td>\n",
       "      <td>NaN</td>\n",
       "      <td>6.889%</td>\n",
       "    </tr>\n",
       "    <tr>\n",
       "      <th>22</th>\n",
       "      <td>TOTAL DE VOTOS EMITIDOS</td>\n",
       "      <td>10930</td>\n",
       "      <td>NaN</td>\n",
       "      <td>100.000%</td>\n",
       "    </tr>\n",
       "  </tbody>\n",
       "</table>\n",
       "</div>"
      ],
      "text/plain": [
       "                          organizaciones_politicas  total share_validos  \\\n",
       "1                     PARTIDO NACIONALISTA PERUANO   1027       13.730%   \n",
       "2   EL FRENTE AMPLIO POR JUSTICIA, VIDA Y LIBERTAD     30        0.401%   \n",
       "3                                   PARTIDO MORADO    157        2.099%   \n",
       "4                               PERU PATRIA SEGURA      8        0.107%   \n",
       "5                                VICTORIA NACIONAL    107        1.430%   \n",
       "6                                   ACCION POPULAR    208        2.781%   \n",
       "7      AVANZA PAIS - PARTIDO DE INTEGRACION SOCIAL     68        0.909%   \n",
       "8                                     PODEMOS PERU   1723       23.035%   \n",
       "9                               JUNTOS POR EL PERU    325        4.345%   \n",
       "10                 PARTIDO POPULAR CRISTIANO - PPC     11        0.147%   \n",
       "11                                  FUERZA POPULAR    338        4.519%   \n",
       "12                               UNION POR EL PERU    408        5.455%   \n",
       "13                              RENOVACION POPULAR    252        3.369%   \n",
       "14                     RENACIMIENTO UNIDO NACIONAL     57        0.762%   \n",
       "15                  PARTIDO DEMOCRATICO SOMOS PERU     28        0.374%   \n",
       "16            PARTIDO POLITICO NACIONAL PERU LIBRE   2365       31.618%   \n",
       "17                              DEMOCRACIA DIRECTA      9        0.120%   \n",
       "18                        ALIANZA PARA EL PROGRESO    359        4.799%   \n",
       "19                          TOTAL DE VOTOS VÁLIDOS   7480      100.000%   \n",
       "20                                 VOTOS EN BLANCO   2697           NaN   \n",
       "21                                     VOTOS NULOS    753           NaN   \n",
       "22                         TOTAL DE VOTOS EMITIDOS  10930           NaN   \n",
       "\n",
       "   share_emitidos  \n",
       "1          9.396%  \n",
       "2          0.274%  \n",
       "3          1.436%  \n",
       "4          0.073%  \n",
       "5          0.979%  \n",
       "6          1.903%  \n",
       "7          0.622%  \n",
       "8         15.764%  \n",
       "9          2.973%  \n",
       "10         0.101%  \n",
       "11         3.092%  \n",
       "12         3.733%  \n",
       "13         2.306%  \n",
       "14         0.522%  \n",
       "15         0.256%  \n",
       "16        21.638%  \n",
       "17         0.082%  \n",
       "18         3.285%  \n",
       "19        68.435%  \n",
       "20        24.675%  \n",
       "21         6.889%  \n",
       "22       100.000%  "
      ]
     },
     "execution_count": 106,
     "metadata": {},
     "output_type": "execute_result"
    }
   ],
   "source": [
    "table_clean"
   ]
  },
  {
   "cell_type": "code",
   "execution_count": 477,
   "metadata": {},
   "outputs": [
    {
     "name": "stderr",
     "output_type": "stream",
     "text": [
      "C:\\Users\\Roberto\\AppData\\Local\\Temp\\ipykernel_12316\\1195297977.py:12: DeprecationWarning: find_element_by_* commands are deprecated. Please use find_element() instead\n",
      "  dpt = Select( driver2.find_element_by_id( \"select_departamento\" ) )\n",
      "C:\\Users\\Roberto\\AppData\\Local\\Temp\\ipykernel_12316\\1195297977.py:27: DeprecationWarning: find_element_by_* commands are deprecated. Please use find_element() instead\n",
      "  prov = Select( driver2.find_element_by_id( \"cod_prov\" ) )\n"
     ]
    },
    {
     "name": "stdout",
     "output_type": "stream",
     "text": [
      "--TODOS--\n",
      "AMAZONAS\n"
     ]
    },
    {
     "name": "stderr",
     "output_type": "stream",
     "text": [
      "C:\\Users\\Roberto\\AppData\\Local\\Temp\\ipykernel_12316\\1195297977.py:35: DeprecationWarning: find_element_by_* commands are deprecated. Please use find_element() instead\n",
      "  prov = Select( driver2.find_element_by_id( \"cod_prov\" ) )\n",
      "C:\\Users\\Roberto\\AppData\\Local\\Temp\\ipykernel_12316\\1195297977.py:47: DeprecationWarning: find_element_by_* commands are deprecated. Please use find_element() instead\n",
      "  dist = Select( driver2.find_element_by_id( \"cod_dist\" ) )\n",
      "C:\\Users\\Roberto\\AppData\\Local\\Temp\\ipykernel_12316\\1195297977.py:54: DeprecationWarning: find_element_by_* commands are deprecated. Please use find_element() instead\n",
      "  dist = Select( driver2.find_element_by_id( \"cod_dist\" ) )\n",
      "C:\\Users\\Roberto\\AppData\\Local\\Temp\\ipykernel_12316\\1195297977.py:70: DeprecationWarning: find_element_by_* commands are deprecated. Please use find_element() instead\n",
      "  table_path = driver2.find_element_by_id( \"table1\" )\n",
      "C:\\Users\\Roberto\\AppData\\Local\\Temp\\ipykernel_12316\\1195297977.py:54: DeprecationWarning: find_element_by_* commands are deprecated. Please use find_element() instead\n",
      "  dist = Select( driver2.find_element_by_id( \"cod_dist\" ) )\n",
      "C:\\Users\\Roberto\\AppData\\Local\\Temp\\ipykernel_12316\\1195297977.py:70: DeprecationWarning: find_element_by_* commands are deprecated. Please use find_element() instead\n",
      "  table_path = driver2.find_element_by_id( \"table1\" )\n",
      "C:\\Users\\Roberto\\AppData\\Local\\Temp\\ipykernel_12316\\1195297977.py:54: DeprecationWarning: find_element_by_* commands are deprecated. Please use find_element() instead\n",
      "  dist = Select( driver2.find_element_by_id( \"cod_dist\" ) )\n",
      "C:\\Users\\Roberto\\AppData\\Local\\Temp\\ipykernel_12316\\1195297977.py:70: DeprecationWarning: find_element_by_* commands are deprecated. Please use find_element() instead\n",
      "  table_path = driver2.find_element_by_id( \"table1\" )\n",
      "C:\\Users\\Roberto\\AppData\\Local\\Temp\\ipykernel_12316\\1195297977.py:54: DeprecationWarning: find_element_by_* commands are deprecated. Please use find_element() instead\n",
      "  dist = Select( driver2.find_element_by_id( \"cod_dist\" ) )\n",
      "C:\\Users\\Roberto\\AppData\\Local\\Temp\\ipykernel_12316\\1195297977.py:70: DeprecationWarning: find_element_by_* commands are deprecated. Please use find_element() instead\n",
      "  table_path = driver2.find_element_by_id( \"table1\" )\n",
      "C:\\Users\\Roberto\\AppData\\Local\\Temp\\ipykernel_12316\\1195297977.py:54: DeprecationWarning: find_element_by_* commands are deprecated. Please use find_element() instead\n",
      "  dist = Select( driver2.find_element_by_id( \"cod_dist\" ) )\n",
      "C:\\Users\\Roberto\\AppData\\Local\\Temp\\ipykernel_12316\\1195297977.py:70: DeprecationWarning: find_element_by_* commands are deprecated. Please use find_element() instead\n",
      "  table_path = driver2.find_element_by_id( \"table1\" )\n",
      "C:\\Users\\Roberto\\AppData\\Local\\Temp\\ipykernel_12316\\1195297977.py:54: DeprecationWarning: find_element_by_* commands are deprecated. Please use find_element() instead\n",
      "  dist = Select( driver2.find_element_by_id( \"cod_dist\" ) )\n",
      "C:\\Users\\Roberto\\AppData\\Local\\Temp\\ipykernel_12316\\1195297977.py:70: DeprecationWarning: find_element_by_* commands are deprecated. Please use find_element() instead\n",
      "  table_path = driver2.find_element_by_id( \"table1\" )\n",
      "C:\\Users\\Roberto\\AppData\\Local\\Temp\\ipykernel_12316\\1195297977.py:35: DeprecationWarning: find_element_by_* commands are deprecated. Please use find_element() instead\n",
      "  prov = Select( driver2.find_element_by_id( \"cod_prov\" ) )\n",
      "C:\\Users\\Roberto\\AppData\\Local\\Temp\\ipykernel_12316\\1195297977.py:47: DeprecationWarning: find_element_by_* commands are deprecated. Please use find_element() instead\n",
      "  dist = Select( driver2.find_element_by_id( \"cod_dist\" ) )\n",
      "C:\\Users\\Roberto\\AppData\\Local\\Temp\\ipykernel_12316\\1195297977.py:54: DeprecationWarning: find_element_by_* commands are deprecated. Please use find_element() instead\n",
      "  dist = Select( driver2.find_element_by_id( \"cod_dist\" ) )\n",
      "C:\\Users\\Roberto\\AppData\\Local\\Temp\\ipykernel_12316\\1195297977.py:70: DeprecationWarning: find_element_by_* commands are deprecated. Please use find_element() instead\n",
      "  table_path = driver2.find_element_by_id( \"table1\" )\n",
      "C:\\Users\\Roberto\\AppData\\Local\\Temp\\ipykernel_12316\\1195297977.py:54: DeprecationWarning: find_element_by_* commands are deprecated. Please use find_element() instead\n",
      "  dist = Select( driver2.find_element_by_id( \"cod_dist\" ) )\n",
      "C:\\Users\\Roberto\\AppData\\Local\\Temp\\ipykernel_12316\\1195297977.py:70: DeprecationWarning: find_element_by_* commands are deprecated. Please use find_element() instead\n",
      "  table_path = driver2.find_element_by_id( \"table1\" )\n",
      "C:\\Users\\Roberto\\AppData\\Local\\Temp\\ipykernel_12316\\1195297977.py:54: DeprecationWarning: find_element_by_* commands are deprecated. Please use find_element() instead\n",
      "  dist = Select( driver2.find_element_by_id( \"cod_dist\" ) )\n",
      "C:\\Users\\Roberto\\AppData\\Local\\Temp\\ipykernel_12316\\1195297977.py:70: DeprecationWarning: find_element_by_* commands are deprecated. Please use find_element() instead\n",
      "  table_path = driver2.find_element_by_id( \"table1\" )\n",
      "C:\\Users\\Roberto\\AppData\\Local\\Temp\\ipykernel_12316\\1195297977.py:54: DeprecationWarning: find_element_by_* commands are deprecated. Please use find_element() instead\n",
      "  dist = Select( driver2.find_element_by_id( \"cod_dist\" ) )\n",
      "C:\\Users\\Roberto\\AppData\\Local\\Temp\\ipykernel_12316\\1195297977.py:70: DeprecationWarning: find_element_by_* commands are deprecated. Please use find_element() instead\n",
      "  table_path = driver2.find_element_by_id( \"table1\" )\n",
      "C:\\Users\\Roberto\\AppData\\Local\\Temp\\ipykernel_12316\\1195297977.py:54: DeprecationWarning: find_element_by_* commands are deprecated. Please use find_element() instead\n",
      "  dist = Select( driver2.find_element_by_id( \"cod_dist\" ) )\n",
      "C:\\Users\\Roberto\\AppData\\Local\\Temp\\ipykernel_12316\\1195297977.py:70: DeprecationWarning: find_element_by_* commands are deprecated. Please use find_element() instead\n",
      "  table_path = driver2.find_element_by_id( \"table1\" )\n",
      "C:\\Users\\Roberto\\AppData\\Local\\Temp\\ipykernel_12316\\1195297977.py:54: DeprecationWarning: find_element_by_* commands are deprecated. Please use find_element() instead\n",
      "  dist = Select( driver2.find_element_by_id( \"cod_dist\" ) )\n",
      "C:\\Users\\Roberto\\AppData\\Local\\Temp\\ipykernel_12316\\1195297977.py:70: DeprecationWarning: find_element_by_* commands are deprecated. Please use find_element() instead\n",
      "  table_path = driver2.find_element_by_id( \"table1\" )\n",
      "C:\\Users\\Roberto\\AppData\\Local\\Temp\\ipykernel_12316\\1195297977.py:54: DeprecationWarning: find_element_by_* commands are deprecated. Please use find_element() instead\n",
      "  dist = Select( driver2.find_element_by_id( \"cod_dist\" ) )\n",
      "C:\\Users\\Roberto\\AppData\\Local\\Temp\\ipykernel_12316\\1195297977.py:70: DeprecationWarning: find_element_by_* commands are deprecated. Please use find_element() instead\n",
      "  table_path = driver2.find_element_by_id( \"table1\" )\n",
      "C:\\Users\\Roberto\\AppData\\Local\\Temp\\ipykernel_12316\\1195297977.py:54: DeprecationWarning: find_element_by_* commands are deprecated. Please use find_element() instead\n",
      "  dist = Select( driver2.find_element_by_id( \"cod_dist\" ) )\n",
      "C:\\Users\\Roberto\\AppData\\Local\\Temp\\ipykernel_12316\\1195297977.py:70: DeprecationWarning: find_element_by_* commands are deprecated. Please use find_element() instead\n",
      "  table_path = driver2.find_element_by_id( \"table1\" )\n",
      "C:\\Users\\Roberto\\AppData\\Local\\Temp\\ipykernel_12316\\1195297977.py:54: DeprecationWarning: find_element_by_* commands are deprecated. Please use find_element() instead\n",
      "  dist = Select( driver2.find_element_by_id( \"cod_dist\" ) )\n",
      "C:\\Users\\Roberto\\AppData\\Local\\Temp\\ipykernel_12316\\1195297977.py:70: DeprecationWarning: find_element_by_* commands are deprecated. Please use find_element() instead\n",
      "  table_path = driver2.find_element_by_id( \"table1\" )\n",
      "C:\\Users\\Roberto\\AppData\\Local\\Temp\\ipykernel_12316\\1195297977.py:54: DeprecationWarning: find_element_by_* commands are deprecated. Please use find_element() instead\n",
      "  dist = Select( driver2.find_element_by_id( \"cod_dist\" ) )\n",
      "C:\\Users\\Roberto\\AppData\\Local\\Temp\\ipykernel_12316\\1195297977.py:70: DeprecationWarning: find_element_by_* commands are deprecated. Please use find_element() instead\n",
      "  table_path = driver2.find_element_by_id( \"table1\" )\n",
      "C:\\Users\\Roberto\\AppData\\Local\\Temp\\ipykernel_12316\\1195297977.py:54: DeprecationWarning: find_element_by_* commands are deprecated. Please use find_element() instead\n",
      "  dist = Select( driver2.find_element_by_id( \"cod_dist\" ) )\n"
     ]
    },
    {
     "name": "stderr",
     "output_type": "stream",
     "text": [
      "C:\\Users\\Roberto\\AppData\\Local\\Temp\\ipykernel_12316\\1195297977.py:70: DeprecationWarning: find_element_by_* commands are deprecated. Please use find_element() instead\n",
      "  table_path = driver2.find_element_by_id( \"table1\" )\n",
      "C:\\Users\\Roberto\\AppData\\Local\\Temp\\ipykernel_12316\\1195297977.py:54: DeprecationWarning: find_element_by_* commands are deprecated. Please use find_element() instead\n",
      "  dist = Select( driver2.find_element_by_id( \"cod_dist\" ) )\n",
      "C:\\Users\\Roberto\\AppData\\Local\\Temp\\ipykernel_12316\\1195297977.py:70: DeprecationWarning: find_element_by_* commands are deprecated. Please use find_element() instead\n",
      "  table_path = driver2.find_element_by_id( \"table1\" )\n",
      "C:\\Users\\Roberto\\AppData\\Local\\Temp\\ipykernel_12316\\1195297977.py:35: DeprecationWarning: find_element_by_* commands are deprecated. Please use find_element() instead\n",
      "  prov = Select( driver2.find_element_by_id( \"cod_prov\" ) )\n",
      "C:\\Users\\Roberto\\AppData\\Local\\Temp\\ipykernel_12316\\1195297977.py:47: DeprecationWarning: find_element_by_* commands are deprecated. Please use find_element() instead\n",
      "  dist = Select( driver2.find_element_by_id( \"cod_dist\" ) )\n",
      "C:\\Users\\Roberto\\AppData\\Local\\Temp\\ipykernel_12316\\1195297977.py:54: DeprecationWarning: find_element_by_* commands are deprecated. Please use find_element() instead\n",
      "  dist = Select( driver2.find_element_by_id( \"cod_dist\" ) )\n",
      "C:\\Users\\Roberto\\AppData\\Local\\Temp\\ipykernel_12316\\1195297977.py:70: DeprecationWarning: find_element_by_* commands are deprecated. Please use find_element() instead\n",
      "  table_path = driver2.find_element_by_id( \"table1\" )\n",
      "C:\\Users\\Roberto\\AppData\\Local\\Temp\\ipykernel_12316\\1195297977.py:54: DeprecationWarning: find_element_by_* commands are deprecated. Please use find_element() instead\n",
      "  dist = Select( driver2.find_element_by_id( \"cod_dist\" ) )\n",
      "C:\\Users\\Roberto\\AppData\\Local\\Temp\\ipykernel_12316\\1195297977.py:70: DeprecationWarning: find_element_by_* commands are deprecated. Please use find_element() instead\n",
      "  table_path = driver2.find_element_by_id( \"table1\" )\n",
      "C:\\Users\\Roberto\\AppData\\Local\\Temp\\ipykernel_12316\\1195297977.py:54: DeprecationWarning: find_element_by_* commands are deprecated. Please use find_element() instead\n",
      "  dist = Select( driver2.find_element_by_id( \"cod_dist\" ) )\n",
      "C:\\Users\\Roberto\\AppData\\Local\\Temp\\ipykernel_12316\\1195297977.py:70: DeprecationWarning: find_element_by_* commands are deprecated. Please use find_element() instead\n",
      "  table_path = driver2.find_element_by_id( \"table1\" )\n",
      "C:\\Users\\Roberto\\AppData\\Local\\Temp\\ipykernel_12316\\1195297977.py:54: DeprecationWarning: find_element_by_* commands are deprecated. Please use find_element() instead\n",
      "  dist = Select( driver2.find_element_by_id( \"cod_dist\" ) )\n",
      "C:\\Users\\Roberto\\AppData\\Local\\Temp\\ipykernel_12316\\1195297977.py:70: DeprecationWarning: find_element_by_* commands are deprecated. Please use find_element() instead\n",
      "  table_path = driver2.find_element_by_id( \"table1\" )\n",
      "C:\\Users\\Roberto\\AppData\\Local\\Temp\\ipykernel_12316\\1195297977.py:54: DeprecationWarning: find_element_by_* commands are deprecated. Please use find_element() instead\n",
      "  dist = Select( driver2.find_element_by_id( \"cod_dist\" ) )\n",
      "C:\\Users\\Roberto\\AppData\\Local\\Temp\\ipykernel_12316\\1195297977.py:70: DeprecationWarning: find_element_by_* commands are deprecated. Please use find_element() instead\n",
      "  table_path = driver2.find_element_by_id( \"table1\" )\n",
      "C:\\Users\\Roberto\\AppData\\Local\\Temp\\ipykernel_12316\\1195297977.py:54: DeprecationWarning: find_element_by_* commands are deprecated. Please use find_element() instead\n",
      "  dist = Select( driver2.find_element_by_id( \"cod_dist\" ) )\n",
      "C:\\Users\\Roberto\\AppData\\Local\\Temp\\ipykernel_12316\\1195297977.py:70: DeprecationWarning: find_element_by_* commands are deprecated. Please use find_element() instead\n",
      "  table_path = driver2.find_element_by_id( \"table1\" )\n",
      "C:\\Users\\Roberto\\AppData\\Local\\Temp\\ipykernel_12316\\1195297977.py:54: DeprecationWarning: find_element_by_* commands are deprecated. Please use find_element() instead\n",
      "  dist = Select( driver2.find_element_by_id( \"cod_dist\" ) )\n",
      "C:\\Users\\Roberto\\AppData\\Local\\Temp\\ipykernel_12316\\1195297977.py:70: DeprecationWarning: find_element_by_* commands are deprecated. Please use find_element() instead\n",
      "  table_path = driver2.find_element_by_id( \"table1\" )\n",
      "C:\\Users\\Roberto\\AppData\\Local\\Temp\\ipykernel_12316\\1195297977.py:54: DeprecationWarning: find_element_by_* commands are deprecated. Please use find_element() instead\n",
      "  dist = Select( driver2.find_element_by_id( \"cod_dist\" ) )\n",
      "C:\\Users\\Roberto\\AppData\\Local\\Temp\\ipykernel_12316\\1195297977.py:70: DeprecationWarning: find_element_by_* commands are deprecated. Please use find_element() instead\n",
      "  table_path = driver2.find_element_by_id( \"table1\" )\n",
      "C:\\Users\\Roberto\\AppData\\Local\\Temp\\ipykernel_12316\\1195297977.py:54: DeprecationWarning: find_element_by_* commands are deprecated. Please use find_element() instead\n",
      "  dist = Select( driver2.find_element_by_id( \"cod_dist\" ) )\n",
      "C:\\Users\\Roberto\\AppData\\Local\\Temp\\ipykernel_12316\\1195297977.py:70: DeprecationWarning: find_element_by_* commands are deprecated. Please use find_element() instead\n",
      "  table_path = driver2.find_element_by_id( \"table1\" )\n",
      "C:\\Users\\Roberto\\AppData\\Local\\Temp\\ipykernel_12316\\1195297977.py:54: DeprecationWarning: find_element_by_* commands are deprecated. Please use find_element() instead\n",
      "  dist = Select( driver2.find_element_by_id( \"cod_dist\" ) )\n",
      "C:\\Users\\Roberto\\AppData\\Local\\Temp\\ipykernel_12316\\1195297977.py:70: DeprecationWarning: find_element_by_* commands are deprecated. Please use find_element() instead\n",
      "  table_path = driver2.find_element_by_id( \"table1\" )\n",
      "C:\\Users\\Roberto\\AppData\\Local\\Temp\\ipykernel_12316\\1195297977.py:54: DeprecationWarning: find_element_by_* commands are deprecated. Please use find_element() instead\n",
      "  dist = Select( driver2.find_element_by_id( \"cod_dist\" ) )\n",
      "C:\\Users\\Roberto\\AppData\\Local\\Temp\\ipykernel_12316\\1195297977.py:70: DeprecationWarning: find_element_by_* commands are deprecated. Please use find_element() instead\n",
      "  table_path = driver2.find_element_by_id( \"table1\" )\n",
      "C:\\Users\\Roberto\\AppData\\Local\\Temp\\ipykernel_12316\\1195297977.py:54: DeprecationWarning: find_element_by_* commands are deprecated. Please use find_element() instead\n",
      "  dist = Select( driver2.find_element_by_id( \"cod_dist\" ) )\n",
      "C:\\Users\\Roberto\\AppData\\Local\\Temp\\ipykernel_12316\\1195297977.py:70: DeprecationWarning: find_element_by_* commands are deprecated. Please use find_element() instead\n",
      "  table_path = driver2.find_element_by_id( \"table1\" )\n",
      "C:\\Users\\Roberto\\AppData\\Local\\Temp\\ipykernel_12316\\1195297977.py:54: DeprecationWarning: find_element_by_* commands are deprecated. Please use find_element() instead\n",
      "  dist = Select( driver2.find_element_by_id( \"cod_dist\" ) )\n",
      "C:\\Users\\Roberto\\AppData\\Local\\Temp\\ipykernel_12316\\1195297977.py:70: DeprecationWarning: find_element_by_* commands are deprecated. Please use find_element() instead\n",
      "  table_path = driver2.find_element_by_id( \"table1\" )\n",
      "C:\\Users\\Roberto\\AppData\\Local\\Temp\\ipykernel_12316\\1195297977.py:54: DeprecationWarning: find_element_by_* commands are deprecated. Please use find_element() instead\n",
      "  dist = Select( driver2.find_element_by_id( \"cod_dist\" ) )\n",
      "C:\\Users\\Roberto\\AppData\\Local\\Temp\\ipykernel_12316\\1195297977.py:70: DeprecationWarning: find_element_by_* commands are deprecated. Please use find_element() instead\n",
      "  table_path = driver2.find_element_by_id( \"table1\" )\n",
      "C:\\Users\\Roberto\\AppData\\Local\\Temp\\ipykernel_12316\\1195297977.py:54: DeprecationWarning: find_element_by_* commands are deprecated. Please use find_element() instead\n",
      "  dist = Select( driver2.find_element_by_id( \"cod_dist\" ) )\n",
      "C:\\Users\\Roberto\\AppData\\Local\\Temp\\ipykernel_12316\\1195297977.py:70: DeprecationWarning: find_element_by_* commands are deprecated. Please use find_element() instead\n",
      "  table_path = driver2.find_element_by_id( \"table1\" )\n",
      "C:\\Users\\Roberto\\AppData\\Local\\Temp\\ipykernel_12316\\1195297977.py:54: DeprecationWarning: find_element_by_* commands are deprecated. Please use find_element() instead\n",
      "  dist = Select( driver2.find_element_by_id( \"cod_dist\" ) )\n",
      "C:\\Users\\Roberto\\AppData\\Local\\Temp\\ipykernel_12316\\1195297977.py:70: DeprecationWarning: find_element_by_* commands are deprecated. Please use find_element() instead\n",
      "  table_path = driver2.find_element_by_id( \"table1\" )\n",
      "C:\\Users\\Roberto\\AppData\\Local\\Temp\\ipykernel_12316\\1195297977.py:54: DeprecationWarning: find_element_by_* commands are deprecated. Please use find_element() instead\n",
      "  dist = Select( driver2.find_element_by_id( \"cod_dist\" ) )\n"
     ]
    },
    {
     "name": "stderr",
     "output_type": "stream",
     "text": [
      "C:\\Users\\Roberto\\AppData\\Local\\Temp\\ipykernel_12316\\1195297977.py:70: DeprecationWarning: find_element_by_* commands are deprecated. Please use find_element() instead\n",
      "  table_path = driver2.find_element_by_id( \"table1\" )\n",
      "C:\\Users\\Roberto\\AppData\\Local\\Temp\\ipykernel_12316\\1195297977.py:54: DeprecationWarning: find_element_by_* commands are deprecated. Please use find_element() instead\n",
      "  dist = Select( driver2.find_element_by_id( \"cod_dist\" ) )\n",
      "C:\\Users\\Roberto\\AppData\\Local\\Temp\\ipykernel_12316\\1195297977.py:70: DeprecationWarning: find_element_by_* commands are deprecated. Please use find_element() instead\n",
      "  table_path = driver2.find_element_by_id( \"table1\" )\n",
      "C:\\Users\\Roberto\\AppData\\Local\\Temp\\ipykernel_12316\\1195297977.py:54: DeprecationWarning: find_element_by_* commands are deprecated. Please use find_element() instead\n",
      "  dist = Select( driver2.find_element_by_id( \"cod_dist\" ) )\n",
      "C:\\Users\\Roberto\\AppData\\Local\\Temp\\ipykernel_12316\\1195297977.py:70: DeprecationWarning: find_element_by_* commands are deprecated. Please use find_element() instead\n",
      "  table_path = driver2.find_element_by_id( \"table1\" )\n",
      "C:\\Users\\Roberto\\AppData\\Local\\Temp\\ipykernel_12316\\1195297977.py:54: DeprecationWarning: find_element_by_* commands are deprecated. Please use find_element() instead\n",
      "  dist = Select( driver2.find_element_by_id( \"cod_dist\" ) )\n",
      "C:\\Users\\Roberto\\AppData\\Local\\Temp\\ipykernel_12316\\1195297977.py:70: DeprecationWarning: find_element_by_* commands are deprecated. Please use find_element() instead\n",
      "  table_path = driver2.find_element_by_id( \"table1\" )\n",
      "C:\\Users\\Roberto\\AppData\\Local\\Temp\\ipykernel_12316\\1195297977.py:54: DeprecationWarning: find_element_by_* commands are deprecated. Please use find_element() instead\n",
      "  dist = Select( driver2.find_element_by_id( \"cod_dist\" ) )\n",
      "C:\\Users\\Roberto\\AppData\\Local\\Temp\\ipykernel_12316\\1195297977.py:70: DeprecationWarning: find_element_by_* commands are deprecated. Please use find_element() instead\n",
      "  table_path = driver2.find_element_by_id( \"table1\" )\n",
      "C:\\Users\\Roberto\\AppData\\Local\\Temp\\ipykernel_12316\\1195297977.py:35: DeprecationWarning: find_element_by_* commands are deprecated. Please use find_element() instead\n",
      "  prov = Select( driver2.find_element_by_id( \"cod_prov\" ) )\n",
      "C:\\Users\\Roberto\\AppData\\Local\\Temp\\ipykernel_12316\\1195297977.py:47: DeprecationWarning: find_element_by_* commands are deprecated. Please use find_element() instead\n",
      "  dist = Select( driver2.find_element_by_id( \"cod_dist\" ) )\n",
      "C:\\Users\\Roberto\\AppData\\Local\\Temp\\ipykernel_12316\\1195297977.py:54: DeprecationWarning: find_element_by_* commands are deprecated. Please use find_element() instead\n",
      "  dist = Select( driver2.find_element_by_id( \"cod_dist\" ) )\n",
      "C:\\Users\\Roberto\\AppData\\Local\\Temp\\ipykernel_12316\\1195297977.py:70: DeprecationWarning: find_element_by_* commands are deprecated. Please use find_element() instead\n",
      "  table_path = driver2.find_element_by_id( \"table1\" )\n",
      "C:\\Users\\Roberto\\AppData\\Local\\Temp\\ipykernel_12316\\1195297977.py:54: DeprecationWarning: find_element_by_* commands are deprecated. Please use find_element() instead\n",
      "  dist = Select( driver2.find_element_by_id( \"cod_dist\" ) )\n",
      "C:\\Users\\Roberto\\AppData\\Local\\Temp\\ipykernel_12316\\1195297977.py:70: DeprecationWarning: find_element_by_* commands are deprecated. Please use find_element() instead\n",
      "  table_path = driver2.find_element_by_id( \"table1\" )\n",
      "C:\\Users\\Roberto\\AppData\\Local\\Temp\\ipykernel_12316\\1195297977.py:54: DeprecationWarning: find_element_by_* commands are deprecated. Please use find_element() instead\n",
      "  dist = Select( driver2.find_element_by_id( \"cod_dist\" ) )\n",
      "C:\\Users\\Roberto\\AppData\\Local\\Temp\\ipykernel_12316\\1195297977.py:70: DeprecationWarning: find_element_by_* commands are deprecated. Please use find_element() instead\n",
      "  table_path = driver2.find_element_by_id( \"table1\" )\n",
      "C:\\Users\\Roberto\\AppData\\Local\\Temp\\ipykernel_12316\\1195297977.py:35: DeprecationWarning: find_element_by_* commands are deprecated. Please use find_element() instead\n",
      "  prov = Select( driver2.find_element_by_id( \"cod_prov\" ) )\n",
      "C:\\Users\\Roberto\\AppData\\Local\\Temp\\ipykernel_12316\\1195297977.py:47: DeprecationWarning: find_element_by_* commands are deprecated. Please use find_element() instead\n",
      "  dist = Select( driver2.find_element_by_id( \"cod_dist\" ) )\n",
      "C:\\Users\\Roberto\\AppData\\Local\\Temp\\ipykernel_12316\\1195297977.py:54: DeprecationWarning: find_element_by_* commands are deprecated. Please use find_element() instead\n",
      "  dist = Select( driver2.find_element_by_id( \"cod_dist\" ) )\n",
      "C:\\Users\\Roberto\\AppData\\Local\\Temp\\ipykernel_12316\\1195297977.py:70: DeprecationWarning: find_element_by_* commands are deprecated. Please use find_element() instead\n",
      "  table_path = driver2.find_element_by_id( \"table1\" )\n",
      "C:\\Users\\Roberto\\AppData\\Local\\Temp\\ipykernel_12316\\1195297977.py:54: DeprecationWarning: find_element_by_* commands are deprecated. Please use find_element() instead\n",
      "  dist = Select( driver2.find_element_by_id( \"cod_dist\" ) )\n",
      "C:\\Users\\Roberto\\AppData\\Local\\Temp\\ipykernel_12316\\1195297977.py:70: DeprecationWarning: find_element_by_* commands are deprecated. Please use find_element() instead\n",
      "  table_path = driver2.find_element_by_id( \"table1\" )\n",
      "C:\\Users\\Roberto\\AppData\\Local\\Temp\\ipykernel_12316\\1195297977.py:54: DeprecationWarning: find_element_by_* commands are deprecated. Please use find_element() instead\n",
      "  dist = Select( driver2.find_element_by_id( \"cod_dist\" ) )\n",
      "C:\\Users\\Roberto\\AppData\\Local\\Temp\\ipykernel_12316\\1195297977.py:70: DeprecationWarning: find_element_by_* commands are deprecated. Please use find_element() instead\n",
      "  table_path = driver2.find_element_by_id( \"table1\" )\n",
      "C:\\Users\\Roberto\\AppData\\Local\\Temp\\ipykernel_12316\\1195297977.py:54: DeprecationWarning: find_element_by_* commands are deprecated. Please use find_element() instead\n",
      "  dist = Select( driver2.find_element_by_id( \"cod_dist\" ) )\n",
      "C:\\Users\\Roberto\\AppData\\Local\\Temp\\ipykernel_12316\\1195297977.py:70: DeprecationWarning: find_element_by_* commands are deprecated. Please use find_element() instead\n",
      "  table_path = driver2.find_element_by_id( \"table1\" )\n",
      "C:\\Users\\Roberto\\AppData\\Local\\Temp\\ipykernel_12316\\1195297977.py:54: DeprecationWarning: find_element_by_* commands are deprecated. Please use find_element() instead\n",
      "  dist = Select( driver2.find_element_by_id( \"cod_dist\" ) )\n",
      "C:\\Users\\Roberto\\AppData\\Local\\Temp\\ipykernel_12316\\1195297977.py:70: DeprecationWarning: find_element_by_* commands are deprecated. Please use find_element() instead\n",
      "  table_path = driver2.find_element_by_id( \"table1\" )\n",
      "C:\\Users\\Roberto\\AppData\\Local\\Temp\\ipykernel_12316\\1195297977.py:54: DeprecationWarning: find_element_by_* commands are deprecated. Please use find_element() instead\n",
      "  dist = Select( driver2.find_element_by_id( \"cod_dist\" ) )\n",
      "C:\\Users\\Roberto\\AppData\\Local\\Temp\\ipykernel_12316\\1195297977.py:70: DeprecationWarning: find_element_by_* commands are deprecated. Please use find_element() instead\n",
      "  table_path = driver2.find_element_by_id( \"table1\" )\n",
      "C:\\Users\\Roberto\\AppData\\Local\\Temp\\ipykernel_12316\\1195297977.py:54: DeprecationWarning: find_element_by_* commands are deprecated. Please use find_element() instead\n",
      "  dist = Select( driver2.find_element_by_id( \"cod_dist\" ) )\n",
      "C:\\Users\\Roberto\\AppData\\Local\\Temp\\ipykernel_12316\\1195297977.py:70: DeprecationWarning: find_element_by_* commands are deprecated. Please use find_element() instead\n",
      "  table_path = driver2.find_element_by_id( \"table1\" )\n",
      "C:\\Users\\Roberto\\AppData\\Local\\Temp\\ipykernel_12316\\1195297977.py:54: DeprecationWarning: find_element_by_* commands are deprecated. Please use find_element() instead\n",
      "  dist = Select( driver2.find_element_by_id( \"cod_dist\" ) )\n",
      "C:\\Users\\Roberto\\AppData\\Local\\Temp\\ipykernel_12316\\1195297977.py:70: DeprecationWarning: find_element_by_* commands are deprecated. Please use find_element() instead\n",
      "  table_path = driver2.find_element_by_id( \"table1\" )\n",
      "C:\\Users\\Roberto\\AppData\\Local\\Temp\\ipykernel_12316\\1195297977.py:54: DeprecationWarning: find_element_by_* commands are deprecated. Please use find_element() instead\n",
      "  dist = Select( driver2.find_element_by_id( \"cod_dist\" ) )\n",
      "C:\\Users\\Roberto\\AppData\\Local\\Temp\\ipykernel_12316\\1195297977.py:70: DeprecationWarning: find_element_by_* commands are deprecated. Please use find_element() instead\n",
      "  table_path = driver2.find_element_by_id( \"table1\" )\n",
      "C:\\Users\\Roberto\\AppData\\Local\\Temp\\ipykernel_12316\\1195297977.py:54: DeprecationWarning: find_element_by_* commands are deprecated. Please use find_element() instead\n",
      "  dist = Select( driver2.find_element_by_id( \"cod_dist\" ) )\n"
     ]
    },
    {
     "name": "stderr",
     "output_type": "stream",
     "text": [
      "C:\\Users\\Roberto\\AppData\\Local\\Temp\\ipykernel_12316\\1195297977.py:70: DeprecationWarning: find_element_by_* commands are deprecated. Please use find_element() instead\n",
      "  table_path = driver2.find_element_by_id( \"table1\" )\n",
      "C:\\Users\\Roberto\\AppData\\Local\\Temp\\ipykernel_12316\\1195297977.py:54: DeprecationWarning: find_element_by_* commands are deprecated. Please use find_element() instead\n",
      "  dist = Select( driver2.find_element_by_id( \"cod_dist\" ) )\n",
      "C:\\Users\\Roberto\\AppData\\Local\\Temp\\ipykernel_12316\\1195297977.py:70: DeprecationWarning: find_element_by_* commands are deprecated. Please use find_element() instead\n",
      "  table_path = driver2.find_element_by_id( \"table1\" )\n",
      "C:\\Users\\Roberto\\AppData\\Local\\Temp\\ipykernel_12316\\1195297977.py:54: DeprecationWarning: find_element_by_* commands are deprecated. Please use find_element() instead\n",
      "  dist = Select( driver2.find_element_by_id( \"cod_dist\" ) )\n",
      "C:\\Users\\Roberto\\AppData\\Local\\Temp\\ipykernel_12316\\1195297977.py:70: DeprecationWarning: find_element_by_* commands are deprecated. Please use find_element() instead\n",
      "  table_path = driver2.find_element_by_id( \"table1\" )\n",
      "C:\\Users\\Roberto\\AppData\\Local\\Temp\\ipykernel_12316\\1195297977.py:54: DeprecationWarning: find_element_by_* commands are deprecated. Please use find_element() instead\n",
      "  dist = Select( driver2.find_element_by_id( \"cod_dist\" ) )\n",
      "C:\\Users\\Roberto\\AppData\\Local\\Temp\\ipykernel_12316\\1195297977.py:70: DeprecationWarning: find_element_by_* commands are deprecated. Please use find_element() instead\n",
      "  table_path = driver2.find_element_by_id( \"table1\" )\n",
      "C:\\Users\\Roberto\\AppData\\Local\\Temp\\ipykernel_12316\\1195297977.py:54: DeprecationWarning: find_element_by_* commands are deprecated. Please use find_element() instead\n",
      "  dist = Select( driver2.find_element_by_id( \"cod_dist\" ) )\n",
      "C:\\Users\\Roberto\\AppData\\Local\\Temp\\ipykernel_12316\\1195297977.py:70: DeprecationWarning: find_element_by_* commands are deprecated. Please use find_element() instead\n",
      "  table_path = driver2.find_element_by_id( \"table1\" )\n",
      "C:\\Users\\Roberto\\AppData\\Local\\Temp\\ipykernel_12316\\1195297977.py:54: DeprecationWarning: find_element_by_* commands are deprecated. Please use find_element() instead\n",
      "  dist = Select( driver2.find_element_by_id( \"cod_dist\" ) )\n",
      "C:\\Users\\Roberto\\AppData\\Local\\Temp\\ipykernel_12316\\1195297977.py:70: DeprecationWarning: find_element_by_* commands are deprecated. Please use find_element() instead\n",
      "  table_path = driver2.find_element_by_id( \"table1\" )\n",
      "C:\\Users\\Roberto\\AppData\\Local\\Temp\\ipykernel_12316\\1195297977.py:54: DeprecationWarning: find_element_by_* commands are deprecated. Please use find_element() instead\n",
      "  dist = Select( driver2.find_element_by_id( \"cod_dist\" ) )\n",
      "C:\\Users\\Roberto\\AppData\\Local\\Temp\\ipykernel_12316\\1195297977.py:70: DeprecationWarning: find_element_by_* commands are deprecated. Please use find_element() instead\n",
      "  table_path = driver2.find_element_by_id( \"table1\" )\n",
      "C:\\Users\\Roberto\\AppData\\Local\\Temp\\ipykernel_12316\\1195297977.py:54: DeprecationWarning: find_element_by_* commands are deprecated. Please use find_element() instead\n",
      "  dist = Select( driver2.find_element_by_id( \"cod_dist\" ) )\n",
      "C:\\Users\\Roberto\\AppData\\Local\\Temp\\ipykernel_12316\\1195297977.py:70: DeprecationWarning: find_element_by_* commands are deprecated. Please use find_element() instead\n",
      "  table_path = driver2.find_element_by_id( \"table1\" )\n",
      "C:\\Users\\Roberto\\AppData\\Local\\Temp\\ipykernel_12316\\1195297977.py:54: DeprecationWarning: find_element_by_* commands are deprecated. Please use find_element() instead\n",
      "  dist = Select( driver2.find_element_by_id( \"cod_dist\" ) )\n",
      "C:\\Users\\Roberto\\AppData\\Local\\Temp\\ipykernel_12316\\1195297977.py:70: DeprecationWarning: find_element_by_* commands are deprecated. Please use find_element() instead\n",
      "  table_path = driver2.find_element_by_id( \"table1\" )\n",
      "C:\\Users\\Roberto\\AppData\\Local\\Temp\\ipykernel_12316\\1195297977.py:54: DeprecationWarning: find_element_by_* commands are deprecated. Please use find_element() instead\n",
      "  dist = Select( driver2.find_element_by_id( \"cod_dist\" ) )\n",
      "C:\\Users\\Roberto\\AppData\\Local\\Temp\\ipykernel_12316\\1195297977.py:70: DeprecationWarning: find_element_by_* commands are deprecated. Please use find_element() instead\n",
      "  table_path = driver2.find_element_by_id( \"table1\" )\n",
      "C:\\Users\\Roberto\\AppData\\Local\\Temp\\ipykernel_12316\\1195297977.py:54: DeprecationWarning: find_element_by_* commands are deprecated. Please use find_element() instead\n",
      "  dist = Select( driver2.find_element_by_id( \"cod_dist\" ) )\n",
      "C:\\Users\\Roberto\\AppData\\Local\\Temp\\ipykernel_12316\\1195297977.py:70: DeprecationWarning: find_element_by_* commands are deprecated. Please use find_element() instead\n",
      "  table_path = driver2.find_element_by_id( \"table1\" )\n",
      "C:\\Users\\Roberto\\AppData\\Local\\Temp\\ipykernel_12316\\1195297977.py:54: DeprecationWarning: find_element_by_* commands are deprecated. Please use find_element() instead\n",
      "  dist = Select( driver2.find_element_by_id( \"cod_dist\" ) )\n",
      "C:\\Users\\Roberto\\AppData\\Local\\Temp\\ipykernel_12316\\1195297977.py:70: DeprecationWarning: find_element_by_* commands are deprecated. Please use find_element() instead\n",
      "  table_path = driver2.find_element_by_id( \"table1\" )\n",
      "C:\\Users\\Roberto\\AppData\\Local\\Temp\\ipykernel_12316\\1195297977.py:54: DeprecationWarning: find_element_by_* commands are deprecated. Please use find_element() instead\n",
      "  dist = Select( driver2.find_element_by_id( \"cod_dist\" ) )\n",
      "C:\\Users\\Roberto\\AppData\\Local\\Temp\\ipykernel_12316\\1195297977.py:70: DeprecationWarning: find_element_by_* commands are deprecated. Please use find_element() instead\n",
      "  table_path = driver2.find_element_by_id( \"table1\" )\n",
      "C:\\Users\\Roberto\\AppData\\Local\\Temp\\ipykernel_12316\\1195297977.py:54: DeprecationWarning: find_element_by_* commands are deprecated. Please use find_element() instead\n",
      "  dist = Select( driver2.find_element_by_id( \"cod_dist\" ) )\n",
      "C:\\Users\\Roberto\\AppData\\Local\\Temp\\ipykernel_12316\\1195297977.py:70: DeprecationWarning: find_element_by_* commands are deprecated. Please use find_element() instead\n",
      "  table_path = driver2.find_element_by_id( \"table1\" )\n",
      "C:\\Users\\Roberto\\AppData\\Local\\Temp\\ipykernel_12316\\1195297977.py:35: DeprecationWarning: find_element_by_* commands are deprecated. Please use find_element() instead\n",
      "  prov = Select( driver2.find_element_by_id( \"cod_prov\" ) )\n",
      "C:\\Users\\Roberto\\AppData\\Local\\Temp\\ipykernel_12316\\1195297977.py:47: DeprecationWarning: find_element_by_* commands are deprecated. Please use find_element() instead\n",
      "  dist = Select( driver2.find_element_by_id( \"cod_dist\" ) )\n",
      "C:\\Users\\Roberto\\AppData\\Local\\Temp\\ipykernel_12316\\1195297977.py:54: DeprecationWarning: find_element_by_* commands are deprecated. Please use find_element() instead\n",
      "  dist = Select( driver2.find_element_by_id( \"cod_dist\" ) )\n",
      "C:\\Users\\Roberto\\AppData\\Local\\Temp\\ipykernel_12316\\1195297977.py:70: DeprecationWarning: find_element_by_* commands are deprecated. Please use find_element() instead\n",
      "  table_path = driver2.find_element_by_id( \"table1\" )\n",
      "C:\\Users\\Roberto\\AppData\\Local\\Temp\\ipykernel_12316\\1195297977.py:54: DeprecationWarning: find_element_by_* commands are deprecated. Please use find_element() instead\n",
      "  dist = Select( driver2.find_element_by_id( \"cod_dist\" ) )\n",
      "C:\\Users\\Roberto\\AppData\\Local\\Temp\\ipykernel_12316\\1195297977.py:70: DeprecationWarning: find_element_by_* commands are deprecated. Please use find_element() instead\n",
      "  table_path = driver2.find_element_by_id( \"table1\" )\n",
      "C:\\Users\\Roberto\\AppData\\Local\\Temp\\ipykernel_12316\\1195297977.py:54: DeprecationWarning: find_element_by_* commands are deprecated. Please use find_element() instead\n",
      "  dist = Select( driver2.find_element_by_id( \"cod_dist\" ) )\n",
      "C:\\Users\\Roberto\\AppData\\Local\\Temp\\ipykernel_12316\\1195297977.py:70: DeprecationWarning: find_element_by_* commands are deprecated. Please use find_element() instead\n",
      "  table_path = driver2.find_element_by_id( \"table1\" )\n",
      "C:\\Users\\Roberto\\AppData\\Local\\Temp\\ipykernel_12316\\1195297977.py:54: DeprecationWarning: find_element_by_* commands are deprecated. Please use find_element() instead\n",
      "  dist = Select( driver2.find_element_by_id( \"cod_dist\" ) )\n",
      "C:\\Users\\Roberto\\AppData\\Local\\Temp\\ipykernel_12316\\1195297977.py:70: DeprecationWarning: find_element_by_* commands are deprecated. Please use find_element() instead\n",
      "  table_path = driver2.find_element_by_id( \"table1\" )\n",
      "C:\\Users\\Roberto\\AppData\\Local\\Temp\\ipykernel_12316\\1195297977.py:54: DeprecationWarning: find_element_by_* commands are deprecated. Please use find_element() instead\n",
      "  dist = Select( driver2.find_element_by_id( \"cod_dist\" ) )\n"
     ]
    },
    {
     "name": "stderr",
     "output_type": "stream",
     "text": [
      "C:\\Users\\Roberto\\AppData\\Local\\Temp\\ipykernel_12316\\1195297977.py:70: DeprecationWarning: find_element_by_* commands are deprecated. Please use find_element() instead\n",
      "  table_path = driver2.find_element_by_id( \"table1\" )\n",
      "C:\\Users\\Roberto\\AppData\\Local\\Temp\\ipykernel_12316\\1195297977.py:54: DeprecationWarning: find_element_by_* commands are deprecated. Please use find_element() instead\n",
      "  dist = Select( driver2.find_element_by_id( \"cod_dist\" ) )\n",
      "C:\\Users\\Roberto\\AppData\\Local\\Temp\\ipykernel_12316\\1195297977.py:70: DeprecationWarning: find_element_by_* commands are deprecated. Please use find_element() instead\n",
      "  table_path = driver2.find_element_by_id( \"table1\" )\n",
      "C:\\Users\\Roberto\\AppData\\Local\\Temp\\ipykernel_12316\\1195297977.py:54: DeprecationWarning: find_element_by_* commands are deprecated. Please use find_element() instead\n",
      "  dist = Select( driver2.find_element_by_id( \"cod_dist\" ) )\n",
      "C:\\Users\\Roberto\\AppData\\Local\\Temp\\ipykernel_12316\\1195297977.py:70: DeprecationWarning: find_element_by_* commands are deprecated. Please use find_element() instead\n",
      "  table_path = driver2.find_element_by_id( \"table1\" )\n",
      "C:\\Users\\Roberto\\AppData\\Local\\Temp\\ipykernel_12316\\1195297977.py:54: DeprecationWarning: find_element_by_* commands are deprecated. Please use find_element() instead\n",
      "  dist = Select( driver2.find_element_by_id( \"cod_dist\" ) )\n",
      "C:\\Users\\Roberto\\AppData\\Local\\Temp\\ipykernel_12316\\1195297977.py:70: DeprecationWarning: find_element_by_* commands are deprecated. Please use find_element() instead\n",
      "  table_path = driver2.find_element_by_id( \"table1\" )\n",
      "C:\\Users\\Roberto\\AppData\\Local\\Temp\\ipykernel_12316\\1195297977.py:54: DeprecationWarning: find_element_by_* commands are deprecated. Please use find_element() instead\n",
      "  dist = Select( driver2.find_element_by_id( \"cod_dist\" ) )\n",
      "C:\\Users\\Roberto\\AppData\\Local\\Temp\\ipykernel_12316\\1195297977.py:70: DeprecationWarning: find_element_by_* commands are deprecated. Please use find_element() instead\n",
      "  table_path = driver2.find_element_by_id( \"table1\" )\n",
      "C:\\Users\\Roberto\\AppData\\Local\\Temp\\ipykernel_12316\\1195297977.py:54: DeprecationWarning: find_element_by_* commands are deprecated. Please use find_element() instead\n",
      "  dist = Select( driver2.find_element_by_id( \"cod_dist\" ) )\n",
      "C:\\Users\\Roberto\\AppData\\Local\\Temp\\ipykernel_12316\\1195297977.py:70: DeprecationWarning: find_element_by_* commands are deprecated. Please use find_element() instead\n",
      "  table_path = driver2.find_element_by_id( \"table1\" )\n",
      "C:\\Users\\Roberto\\AppData\\Local\\Temp\\ipykernel_12316\\1195297977.py:54: DeprecationWarning: find_element_by_* commands are deprecated. Please use find_element() instead\n",
      "  dist = Select( driver2.find_element_by_id( \"cod_dist\" ) )\n",
      "C:\\Users\\Roberto\\AppData\\Local\\Temp\\ipykernel_12316\\1195297977.py:70: DeprecationWarning: find_element_by_* commands are deprecated. Please use find_element() instead\n",
      "  table_path = driver2.find_element_by_id( \"table1\" )\n",
      "C:\\Users\\Roberto\\AppData\\Local\\Temp\\ipykernel_12316\\1195297977.py:54: DeprecationWarning: find_element_by_* commands are deprecated. Please use find_element() instead\n",
      "  dist = Select( driver2.find_element_by_id( \"cod_dist\" ) )\n",
      "C:\\Users\\Roberto\\AppData\\Local\\Temp\\ipykernel_12316\\1195297977.py:70: DeprecationWarning: find_element_by_* commands are deprecated. Please use find_element() instead\n",
      "  table_path = driver2.find_element_by_id( \"table1\" )\n",
      "C:\\Users\\Roberto\\AppData\\Local\\Temp\\ipykernel_12316\\1195297977.py:35: DeprecationWarning: find_element_by_* commands are deprecated. Please use find_element() instead\n",
      "  prov = Select( driver2.find_element_by_id( \"cod_prov\" ) )\n",
      "C:\\Users\\Roberto\\AppData\\Local\\Temp\\ipykernel_12316\\1195297977.py:47: DeprecationWarning: find_element_by_* commands are deprecated. Please use find_element() instead\n",
      "  dist = Select( driver2.find_element_by_id( \"cod_dist\" ) )\n",
      "C:\\Users\\Roberto\\AppData\\Local\\Temp\\ipykernel_12316\\1195297977.py:54: DeprecationWarning: find_element_by_* commands are deprecated. Please use find_element() instead\n",
      "  dist = Select( driver2.find_element_by_id( \"cod_dist\" ) )\n",
      "C:\\Users\\Roberto\\AppData\\Local\\Temp\\ipykernel_12316\\1195297977.py:70: DeprecationWarning: find_element_by_* commands are deprecated. Please use find_element() instead\n",
      "  table_path = driver2.find_element_by_id( \"table1\" )\n",
      "C:\\Users\\Roberto\\AppData\\Local\\Temp\\ipykernel_12316\\1195297977.py:54: DeprecationWarning: find_element_by_* commands are deprecated. Please use find_element() instead\n",
      "  dist = Select( driver2.find_element_by_id( \"cod_dist\" ) )\n",
      "C:\\Users\\Roberto\\AppData\\Local\\Temp\\ipykernel_12316\\1195297977.py:70: DeprecationWarning: find_element_by_* commands are deprecated. Please use find_element() instead\n",
      "  table_path = driver2.find_element_by_id( \"table1\" )\n",
      "C:\\Users\\Roberto\\AppData\\Local\\Temp\\ipykernel_12316\\1195297977.py:54: DeprecationWarning: find_element_by_* commands are deprecated. Please use find_element() instead\n",
      "  dist = Select( driver2.find_element_by_id( \"cod_dist\" ) )\n",
      "C:\\Users\\Roberto\\AppData\\Local\\Temp\\ipykernel_12316\\1195297977.py:70: DeprecationWarning: find_element_by_* commands are deprecated. Please use find_element() instead\n",
      "  table_path = driver2.find_element_by_id( \"table1\" )\n",
      "C:\\Users\\Roberto\\AppData\\Local\\Temp\\ipykernel_12316\\1195297977.py:54: DeprecationWarning: find_element_by_* commands are deprecated. Please use find_element() instead\n",
      "  dist = Select( driver2.find_element_by_id( \"cod_dist\" ) )\n",
      "C:\\Users\\Roberto\\AppData\\Local\\Temp\\ipykernel_12316\\1195297977.py:70: DeprecationWarning: find_element_by_* commands are deprecated. Please use find_element() instead\n",
      "  table_path = driver2.find_element_by_id( \"table1\" )\n",
      "C:\\Users\\Roberto\\AppData\\Local\\Temp\\ipykernel_12316\\1195297977.py:54: DeprecationWarning: find_element_by_* commands are deprecated. Please use find_element() instead\n",
      "  dist = Select( driver2.find_element_by_id( \"cod_dist\" ) )\n",
      "C:\\Users\\Roberto\\AppData\\Local\\Temp\\ipykernel_12316\\1195297977.py:70: DeprecationWarning: find_element_by_* commands are deprecated. Please use find_element() instead\n",
      "  table_path = driver2.find_element_by_id( \"table1\" )\n",
      "C:\\Users\\Roberto\\AppData\\Local\\Temp\\ipykernel_12316\\1195297977.py:54: DeprecationWarning: find_element_by_* commands are deprecated. Please use find_element() instead\n",
      "  dist = Select( driver2.find_element_by_id( \"cod_dist\" ) )\n",
      "C:\\Users\\Roberto\\AppData\\Local\\Temp\\ipykernel_12316\\1195297977.py:70: DeprecationWarning: find_element_by_* commands are deprecated. Please use find_element() instead\n",
      "  table_path = driver2.find_element_by_id( \"table1\" )\n",
      "C:\\Users\\Roberto\\AppData\\Local\\Temp\\ipykernel_12316\\1195297977.py:54: DeprecationWarning: find_element_by_* commands are deprecated. Please use find_element() instead\n",
      "  dist = Select( driver2.find_element_by_id( \"cod_dist\" ) )\n",
      "C:\\Users\\Roberto\\AppData\\Local\\Temp\\ipykernel_12316\\1195297977.py:70: DeprecationWarning: find_element_by_* commands are deprecated. Please use find_element() instead\n",
      "  table_path = driver2.find_element_by_id( \"table1\" )\n"
     ]
    }
   ],
   "source": [
    "# we can loop over all departments\n",
    "\n",
    "# for dpt_idx in range( num_prov_options ):\n",
    "# but it will take too much time\n",
    "# We are going to do it over two departments\n",
    "\n",
    "for dpt_idx in range( 2 ):\n",
    "    \n",
    "    # Get again all departments since HTML is refreshing\n",
    "    # all elements\n",
    "    # Click on one specific department\n",
    "    dpt = Select( driver2.find_element_by_id( \"select_departamento\" ) )\n",
    "    department = dpt.options[ dpt_idx ]\n",
    "    \n",
    "    # Get departmant name\n",
    "    dpt_name = department.text\n",
    "    \n",
    "    print(dpt_name)\n",
    "    \n",
    "    # We select a different department name\n",
    "    if dpt_name != \"--TODOS--\" :\n",
    "        \n",
    "        # click on department\n",
    "        department.click()\n",
    "        \n",
    "        # Get all elements of province\n",
    "        prov = Select( driver2.find_element_by_id( \"cod_prov\" ) )\n",
    "        num_prov_options = len( prov.options )\n",
    "        \n",
    "        for prov_idx in range( num_prov_options ):\n",
    "            \n",
    "            # Get again all districts since HTML is refreshing\n",
    "            # all elements\n",
    "            \n",
    "            prov = Select( driver2.find_element_by_id( \"cod_prov\" ) )\n",
    "            province = prov.options[ prov_idx ]\n",
    "                \n",
    "            # Get province name\n",
    "            prov_name = province.text\n",
    "            \n",
    "            if prov_name != \"--TODOS--\" :\n",
    "                \n",
    "                # click on province\n",
    "                province.click()\n",
    "                \n",
    "                # Get all elements from district\n",
    "                dist = Select( driver2.find_element_by_id( \"cod_dist\" ) )\n",
    "                num_dist_options = len( dist.options )\n",
    "                \n",
    "                for dist_idx in range( num_dist_options ):\n",
    "                    \n",
    "                    # Get again all districts since HTML is refreshing\n",
    "                    # all elements\n",
    "                    dist = Select( driver2.find_element_by_id( \"cod_dist\" ) )\n",
    "                    district = dist.options[ dist_idx ]\n",
    "                    \n",
    "                    # Get district name\n",
    "                    dist_name = district.text\n",
    "                    \n",
    "                    if dist_name != \"-- SELECCIONE --\" :\n",
    "                        \n",
    "                        # click on district\n",
    "                        district.click()\n",
    "                        \n",
    "                        # Get UBIGEO\n",
    "                        ubigeo = driver2.current_url.split(\"/\")[ -1 ]\n",
    "                        \n",
    "                        ## Get table of presidential votes\n",
    "                        # Get html at this point\n",
    "                        table_path = driver2.find_element_by_id( \"table1\" )\n",
    "                        \n",
    "                        # Read the table using pandas\n",
    "                        \n",
    "                        data = table_path.text.split(\"\\n\")\n",
    "                        \n",
    "                        partidos_politicos = []\n",
    "                        for j in range(len(data[2:])):\n",
    "                            var1 = re.sub('[\\d\\.%]', ' ', data[2:][j])\n",
    "                            partidos_politicos.append(var1)\n",
    "                            \n",
    "                        total_votos = []\n",
    "                        for j in range(len(data[2:])):\n",
    "                            var2 = re.sub('[^\\d+\\s,.%]', ' ', data[2:][j])\\\n",
    "                            .split(\" \")[-3]\n",
    "                            total_votos.append(var2)\n",
    "        \n",
    "                        validos = []\n",
    "                        for j in range(len(data[2:])):\n",
    "                                var3 = re.sub('[^\\d+\\s,.%]', ' ', data[2:][j])\\\n",
    "                                .split(\" \")[-2]\n",
    "                                validos.append(var3)\n",
    "                        \n",
    "                        emitidos = []\n",
    "                        for j in range(len(data[2:])):\n",
    "                                var4 = re.sub('[^\\d+\\s,.%]', ' ', data[2:][j])\\\n",
    "                                .split(\" \")[-1]\n",
    "                                emitidos.append(var4)\n",
    "                        \n",
    "                        \n",
    "                        \n",
    "                        data = {'Partido_politico': partidos_politicos,\n",
    "                                'Tota_votos': total_votos,\n",
    "                                '%_validos': validos,\n",
    "                                '%_emitidos': emitidos\n",
    "                               }\n",
    "\n",
    "                        # Create DataFrame\n",
    "                        table_clean = pd.DataFrame(data)\n",
    "                        \n",
    "                        # New values to columns \n",
    "                        table_clean[ 'department' ] = dpt_name\n",
    "                        table_clean[ 'province' ]   = prov_name\n",
    "                        table_clean[ 'district' ]   = dist_name\n",
    "                        table_clean[ 'ubigeo' ]     = ubigeo\n",
    "                        \n",
    "                        # store tables\n",
    "                        all_tables[ ubigeo ] = table_clean"
   ]
  },
  {
   "cell_type": "code",
   "execution_count": 479,
   "metadata": {},
   "outputs": [],
   "source": [
    "final_data = pd.concat( all_tables.values() ).reset_index( drop = True )\n",
    "final_data.to_excel( r'first_round_second_version.xlsx' , index = False )"
   ]
  },
  {
   "cell_type": "markdown",
   "metadata": {},
   "source": [
    "## Second alternative"
   ]
  },
  {
   "cell_type": "code",
   "execution_count": 375,
   "metadata": {},
   "outputs": [
    {
     "name": "stderr",
     "output_type": "stream",
     "text": [
      "C:\\Users\\Roberto\\AppData\\Local\\Temp\\ipykernel_12316\\4252622345.py:1: DeprecationWarning: find_element_by_* commands are deprecated. Please use find_element() instead\n",
      "  table_path = driver2.find_element_by_id( \"table1\" )\n"
     ]
    }
   ],
   "source": [
    "table_path = driver2.find_element_by_id( \"table1\" )\n"
   ]
  },
  {
   "cell_type": "code",
   "execution_count": 376,
   "metadata": {},
   "outputs": [
    {
     "data": {
      "text/plain": [
       "'TOTAL DE VOTOS\\nORGANIZACIONES POLÍTICAS TOTAL %VÁLIDOS %EMITIDOS\\nPARTIDO NACIONALISTA PERUANO 133 12.925% 9.314%\\nEL FRENTE AMPLIO POR JUSTICIA, VIDA Y LIBERTAD 4 0.389% 0.280%\\nPARTIDO MORADO 8 0.777% 0.560%\\nPERU PATRIA SEGURA 1 0.097% 0.070%\\nVICTORIA NACIONAL 39 3.790% 2.731%\\nACCION POPULAR 105 10.204% 7.353%\\nAVANZA PAIS - PARTIDO DE INTEGRACION SOCIAL 24 2.332% 1.681%\\nPODEMOS PERU 4 0.389% 0.280%\\nJUNTOS POR EL PERU 101 9.815% 7.073%\\nPARTIDO POPULAR CRISTIANO - PPC 1 0.097% 0.070%\\nFUERZA POPULAR 145 14.091% 10.154%\\nUNION POR EL PERU 16 1.555% 1.120%\\nRENOVACION POPULAR 70 6.803% 4.902%\\nRENACIMIENTO UNIDO NACIONAL 6 0.583% 0.420%\\nPARTIDO DEMOCRATICO SOMOS PERU 8 0.777% 0.560%\\nPARTIDO POLITICO NACIONAL PERU LIBRE 288 27.988% 20.168%\\nDEMOCRACIA DIRECTA 10 0.972% 0.700%\\nALIANZA PARA EL PROGRESO 66 6.414% 4.622%\\nTOTAL DE VOTOS VÁLIDOS 1,029 100.000% 72.059%\\nVOTOS EN BLANCO 318 22.269%\\nVOTOS NULOS 81 5.672%\\nTOTAL DE VOTOS EMITIDOS 1,428 100.000%'"
      ]
     },
     "execution_count": 376,
     "metadata": {},
     "output_type": "execute_result"
    }
   ],
   "source": [
    "table_path.text"
   ]
  },
  {
   "cell_type": "code",
   "execution_count": 377,
   "metadata": {},
   "outputs": [],
   "source": [
    "data = table_path.text\n",
    "data = table_path.text.split(\"\\n\")"
   ]
  },
  {
   "cell_type": "code",
   "execution_count": 378,
   "metadata": {},
   "outputs": [
    {
     "data": {
      "text/plain": [
       "['TOTAL DE VOTOS',\n",
       " 'ORGANIZACIONES POLÍTICAS TOTAL %VÁLIDOS %EMITIDOS',\n",
       " 'PARTIDO NACIONALISTA PERUANO 133 12.925% 9.314%',\n",
       " 'EL FRENTE AMPLIO POR JUSTICIA, VIDA Y LIBERTAD 4 0.389% 0.280%',\n",
       " 'PARTIDO MORADO 8 0.777% 0.560%',\n",
       " 'PERU PATRIA SEGURA 1 0.097% 0.070%',\n",
       " 'VICTORIA NACIONAL 39 3.790% 2.731%',\n",
       " 'ACCION POPULAR 105 10.204% 7.353%',\n",
       " 'AVANZA PAIS - PARTIDO DE INTEGRACION SOCIAL 24 2.332% 1.681%',\n",
       " 'PODEMOS PERU 4 0.389% 0.280%',\n",
       " 'JUNTOS POR EL PERU 101 9.815% 7.073%',\n",
       " 'PARTIDO POPULAR CRISTIANO - PPC 1 0.097% 0.070%',\n",
       " 'FUERZA POPULAR 145 14.091% 10.154%',\n",
       " 'UNION POR EL PERU 16 1.555% 1.120%',\n",
       " 'RENOVACION POPULAR 70 6.803% 4.902%',\n",
       " 'RENACIMIENTO UNIDO NACIONAL 6 0.583% 0.420%',\n",
       " 'PARTIDO DEMOCRATICO SOMOS PERU 8 0.777% 0.560%',\n",
       " 'PARTIDO POLITICO NACIONAL PERU LIBRE 288 27.988% 20.168%',\n",
       " 'DEMOCRACIA DIRECTA 10 0.972% 0.700%',\n",
       " 'ALIANZA PARA EL PROGRESO 66 6.414% 4.622%',\n",
       " 'TOTAL DE VOTOS VÁLIDOS 1,029 100.000% 72.059%',\n",
       " 'VOTOS EN BLANCO 318 22.269%',\n",
       " 'VOTOS NULOS 81 5.672%',\n",
       " 'TOTAL DE VOTOS EMITIDOS 1,428 100.000%']"
      ]
     },
     "execution_count": 378,
     "metadata": {},
     "output_type": "execute_result"
    }
   ],
   "source": [
    "data"
   ]
  },
  {
   "cell_type": "code",
   "execution_count": 397,
   "metadata": {},
   "outputs": [
    {
     "data": {
      "text/plain": [
       "['PARTIDO NACIONALISTA PERUANO 133 12.925% 9.314%',\n",
       " 'EL FRENTE AMPLIO POR JUSTICIA, VIDA Y LIBERTAD 4 0.389% 0.280%',\n",
       " 'PARTIDO MORADO 8 0.777% 0.560%',\n",
       " 'PERU PATRIA SEGURA 1 0.097% 0.070%',\n",
       " 'VICTORIA NACIONAL 39 3.790% 2.731%',\n",
       " 'ACCION POPULAR 105 10.204% 7.353%',\n",
       " 'AVANZA PAIS - PARTIDO DE INTEGRACION SOCIAL 24 2.332% 1.681%',\n",
       " 'PODEMOS PERU 4 0.389% 0.280%',\n",
       " 'JUNTOS POR EL PERU 101 9.815% 7.073%',\n",
       " 'PARTIDO POPULAR CRISTIANO - PPC 1 0.097% 0.070%',\n",
       " 'FUERZA POPULAR 145 14.091% 10.154%',\n",
       " 'UNION POR EL PERU 16 1.555% 1.120%',\n",
       " 'RENOVACION POPULAR 70 6.803% 4.902%',\n",
       " 'RENACIMIENTO UNIDO NACIONAL 6 0.583% 0.420%',\n",
       " 'PARTIDO DEMOCRATICO SOMOS PERU 8 0.777% 0.560%',\n",
       " 'PARTIDO POLITICO NACIONAL PERU LIBRE 288 27.988% 20.168%',\n",
       " 'DEMOCRACIA DIRECTA 10 0.972% 0.700%',\n",
       " 'ALIANZA PARA EL PROGRESO 66 6.414% 4.622%',\n",
       " 'TOTAL DE VOTOS VÁLIDOS 1,029 100.000% 72.059%',\n",
       " 'VOTOS EN BLANCO 318 22.269%',\n",
       " 'VOTOS NULOS 81 5.672%',\n",
       " 'TOTAL DE VOTOS EMITIDOS 1,428 100.000%']"
      ]
     },
     "execution_count": 397,
     "metadata": {},
     "output_type": "execute_result"
    }
   ],
   "source": [
    "data[2:]"
   ]
  },
  {
   "cell_type": "code",
   "execution_count": 440,
   "metadata": {},
   "outputs": [
    {
     "data": {
      "text/plain": [
       "22"
      ]
     },
     "execution_count": 440,
     "metadata": {},
     "output_type": "execute_result"
    }
   ],
   "source": [
    "len(data[2:])"
   ]
  },
  {
   "cell_type": "code",
   "execution_count": 466,
   "metadata": {},
   "outputs": [
    {
     "data": {
      "text/plain": [
       "['', '1,428', '100.000%']"
      ]
     },
     "execution_count": 466,
     "metadata": {},
     "output_type": "execute_result"
    }
   ],
   "source": [
    "re.sub('[^\\d+\\s,.%]', '', data[2:][21])\\\n",
    "           .split(\" \")[-3:]"
   ]
  },
  {
   "cell_type": "code",
   "execution_count": 395,
   "metadata": {},
   "outputs": [
    {
     "data": {
      "text/plain": [
       "'PARTIDO NACIONALISTA PERUANO                   '"
      ]
     },
     "execution_count": 395,
     "metadata": {},
     "output_type": "execute_result"
    }
   ],
   "source": [
    "re.sub('[\\d\\.%]', ' ', data[2:][0])"
   ]
  },
  {
   "cell_type": "code",
   "execution_count": 441,
   "metadata": {},
   "outputs": [],
   "source": [
    "partidos_politicos = []\n",
    "for j in range(len(data[2:])):\n",
    "        var1 = re.sub('[\\d\\.%]', ' ', data[2:][j])\n",
    "        partidos_politicos.append(var1)"
   ]
  },
  {
   "cell_type": "code",
   "execution_count": 467,
   "metadata": {},
   "outputs": [],
   "source": [
    "total_votos = []\n",
    "for j in range(len(data[2:])):\n",
    "        var2 = re.sub('[^\\d+\\s,.%]', ' ', data[2:][j])\\\n",
    "        .split(\" \")[-3]\n",
    "        total_votos.append(var2)"
   ]
  },
  {
   "cell_type": "code",
   "execution_count": 469,
   "metadata": {},
   "outputs": [],
   "source": [
    "validos = []\n",
    "for j in range(len(data[2:])):\n",
    "        var3 = re.sub('[^\\d+\\s,.%]', ' ', data[2:][j])\\\n",
    "        .split(\" \")[-2]\n",
    "        validos.append(var3)"
   ]
  },
  {
   "cell_type": "code",
   "execution_count": 473,
   "metadata": {},
   "outputs": [],
   "source": [
    "emitidos = []\n",
    "for j in range(len(data[2:])):\n",
    "        var4 = re.sub('[^\\d+\\s,.%]', ' ', data[2:][j])\\\n",
    "        .split(\" \")[-1]\n",
    "        emitidos.append(var4)"
   ]
  },
  {
   "cell_type": "code",
   "execution_count": 474,
   "metadata": {},
   "outputs": [
    {
     "data": {
      "text/plain": [
       "['9.314%',\n",
       " '0.280%',\n",
       " '0.560%',\n",
       " '0.070%',\n",
       " '2.731%',\n",
       " '7.353%',\n",
       " '1.681%',\n",
       " '0.280%',\n",
       " '7.073%',\n",
       " '0.070%',\n",
       " '10.154%',\n",
       " '1.120%',\n",
       " '4.902%',\n",
       " '0.420%',\n",
       " '0.560%',\n",
       " '20.168%',\n",
       " '0.700%',\n",
       " '4.622%',\n",
       " '72.059%',\n",
       " '22.269%',\n",
       " '5.672%',\n",
       " '100.000%']"
      ]
     },
     "execution_count": 474,
     "metadata": {},
     "output_type": "execute_result"
    }
   ],
   "source": [
    "emitidos"
   ]
  },
  {
   "cell_type": "code",
   "execution_count": 475,
   "metadata": {},
   "outputs": [],
   "source": [
    "data = {'Partido_politico': partidos_politicos,\n",
    "        'Total_votos': total_votos,\n",
    "        '%_validos': validos,\n",
    "        '%_emitidos': emitidos\n",
    "       }\n",
    " \n",
    "# Create DataFrame\n",
    "df = pd.DataFrame(data)"
   ]
  },
  {
   "cell_type": "code",
   "execution_count": 476,
   "metadata": {},
   "outputs": [
    {
     "data": {
      "text/html": [
       "<div>\n",
       "<style scoped>\n",
       "    .dataframe tbody tr th:only-of-type {\n",
       "        vertical-align: middle;\n",
       "    }\n",
       "\n",
       "    .dataframe tbody tr th {\n",
       "        vertical-align: top;\n",
       "    }\n",
       "\n",
       "    .dataframe thead th {\n",
       "        text-align: right;\n",
       "    }\n",
       "</style>\n",
       "<table border=\"1\" class=\"dataframe\">\n",
       "  <thead>\n",
       "    <tr style=\"text-align: right;\">\n",
       "      <th></th>\n",
       "      <th>Partido_politico</th>\n",
       "      <th>Tota_votos</th>\n",
       "      <th>%_validos</th>\n",
       "      <th>%_emitidos</th>\n",
       "    </tr>\n",
       "  </thead>\n",
       "  <tbody>\n",
       "    <tr>\n",
       "      <th>0</th>\n",
       "      <td>PARTIDO NACIONALISTA PERUANO</td>\n",
       "      <td>133</td>\n",
       "      <td>12.925%</td>\n",
       "      <td>9.314%</td>\n",
       "    </tr>\n",
       "    <tr>\n",
       "      <th>1</th>\n",
       "      <td>EL FRENTE AMPLIO POR JUSTICIA, VIDA Y LIBERTAD...</td>\n",
       "      <td>4</td>\n",
       "      <td>0.389%</td>\n",
       "      <td>0.280%</td>\n",
       "    </tr>\n",
       "    <tr>\n",
       "      <th>2</th>\n",
       "      <td>PARTIDO MORADO</td>\n",
       "      <td>8</td>\n",
       "      <td>0.777%</td>\n",
       "      <td>0.560%</td>\n",
       "    </tr>\n",
       "    <tr>\n",
       "      <th>3</th>\n",
       "      <td>PERU PATRIA SEGURA</td>\n",
       "      <td>1</td>\n",
       "      <td>0.097%</td>\n",
       "      <td>0.070%</td>\n",
       "    </tr>\n",
       "    <tr>\n",
       "      <th>4</th>\n",
       "      <td>VICTORIA NACIONAL</td>\n",
       "      <td>39</td>\n",
       "      <td>3.790%</td>\n",
       "      <td>2.731%</td>\n",
       "    </tr>\n",
       "    <tr>\n",
       "      <th>5</th>\n",
       "      <td>ACCION POPULAR</td>\n",
       "      <td>105</td>\n",
       "      <td>10.204%</td>\n",
       "      <td>7.353%</td>\n",
       "    </tr>\n",
       "    <tr>\n",
       "      <th>6</th>\n",
       "      <td>AVANZA PAIS - PARTIDO DE INTEGRACION SOCIAL   ...</td>\n",
       "      <td>24</td>\n",
       "      <td>2.332%</td>\n",
       "      <td>1.681%</td>\n",
       "    </tr>\n",
       "    <tr>\n",
       "      <th>7</th>\n",
       "      <td>PODEMOS PERU</td>\n",
       "      <td>4</td>\n",
       "      <td>0.389%</td>\n",
       "      <td>0.280%</td>\n",
       "    </tr>\n",
       "    <tr>\n",
       "      <th>8</th>\n",
       "      <td>JUNTOS POR EL PERU</td>\n",
       "      <td>101</td>\n",
       "      <td>9.815%</td>\n",
       "      <td>7.073%</td>\n",
       "    </tr>\n",
       "    <tr>\n",
       "      <th>9</th>\n",
       "      <td>PARTIDO POPULAR CRISTIANO - PPC</td>\n",
       "      <td>1</td>\n",
       "      <td>0.097%</td>\n",
       "      <td>0.070%</td>\n",
       "    </tr>\n",
       "    <tr>\n",
       "      <th>10</th>\n",
       "      <td>FUERZA POPULAR</td>\n",
       "      <td>145</td>\n",
       "      <td>14.091%</td>\n",
       "      <td>10.154%</td>\n",
       "    </tr>\n",
       "    <tr>\n",
       "      <th>11</th>\n",
       "      <td>UNION POR EL PERU</td>\n",
       "      <td>16</td>\n",
       "      <td>1.555%</td>\n",
       "      <td>1.120%</td>\n",
       "    </tr>\n",
       "    <tr>\n",
       "      <th>12</th>\n",
       "      <td>RENOVACION POPULAR</td>\n",
       "      <td>70</td>\n",
       "      <td>6.803%</td>\n",
       "      <td>4.902%</td>\n",
       "    </tr>\n",
       "    <tr>\n",
       "      <th>13</th>\n",
       "      <td>RENACIMIENTO UNIDO NACIONAL</td>\n",
       "      <td>6</td>\n",
       "      <td>0.583%</td>\n",
       "      <td>0.420%</td>\n",
       "    </tr>\n",
       "    <tr>\n",
       "      <th>14</th>\n",
       "      <td>PARTIDO DEMOCRATICO SOMOS PERU</td>\n",
       "      <td>8</td>\n",
       "      <td>0.777%</td>\n",
       "      <td>0.560%</td>\n",
       "    </tr>\n",
       "    <tr>\n",
       "      <th>15</th>\n",
       "      <td>PARTIDO POLITICO NACIONAL PERU LIBRE          ...</td>\n",
       "      <td>288</td>\n",
       "      <td>27.988%</td>\n",
       "      <td>20.168%</td>\n",
       "    </tr>\n",
       "    <tr>\n",
       "      <th>16</th>\n",
       "      <td>DEMOCRACIA DIRECTA</td>\n",
       "      <td>10</td>\n",
       "      <td>0.972%</td>\n",
       "      <td>0.700%</td>\n",
       "    </tr>\n",
       "    <tr>\n",
       "      <th>17</th>\n",
       "      <td>ALIANZA PARA EL PROGRESO</td>\n",
       "      <td>66</td>\n",
       "      <td>6.414%</td>\n",
       "      <td>4.622%</td>\n",
       "    </tr>\n",
       "    <tr>\n",
       "      <th>18</th>\n",
       "      <td>TOTAL DE VOTOS VÁLIDOS  ,</td>\n",
       "      <td>1,029</td>\n",
       "      <td>100.000%</td>\n",
       "      <td>72.059%</td>\n",
       "    </tr>\n",
       "    <tr>\n",
       "      <th>19</th>\n",
       "      <td>VOTOS EN BLANCO</td>\n",
       "      <td></td>\n",
       "      <td>318</td>\n",
       "      <td>22.269%</td>\n",
       "    </tr>\n",
       "    <tr>\n",
       "      <th>20</th>\n",
       "      <td>VOTOS NULOS</td>\n",
       "      <td></td>\n",
       "      <td>81</td>\n",
       "      <td>5.672%</td>\n",
       "    </tr>\n",
       "    <tr>\n",
       "      <th>21</th>\n",
       "      <td>TOTAL DE VOTOS EMITIDOS  ,</td>\n",
       "      <td></td>\n",
       "      <td>1,428</td>\n",
       "      <td>100.000%</td>\n",
       "    </tr>\n",
       "  </tbody>\n",
       "</table>\n",
       "</div>"
      ],
      "text/plain": [
       "                                     Partido_politico Tota_votos %_validos  \\\n",
       "0     PARTIDO NACIONALISTA PERUANO                           133   12.925%   \n",
       "1   EL FRENTE AMPLIO POR JUSTICIA, VIDA Y LIBERTAD...          4    0.389%   \n",
       "2                      PARTIDO MORADO                          8    0.777%   \n",
       "3                  PERU PATRIA SEGURA                          1    0.097%   \n",
       "4                  VICTORIA NACIONAL                          39    3.790%   \n",
       "5                   ACCION POPULAR                           105   10.204%   \n",
       "6   AVANZA PAIS - PARTIDO DE INTEGRACION SOCIAL   ...         24    2.332%   \n",
       "7                        PODEMOS PERU                          4    0.389%   \n",
       "8                JUNTOS POR EL PERU                          101    9.815%   \n",
       "9     PARTIDO POPULAR CRISTIANO - PPC                          1    0.097%   \n",
       "10                 FUERZA POPULAR                            145   14.091%   \n",
       "11                 UNION POR EL PERU                          16    1.555%   \n",
       "12                RENOVACION POPULAR                          70    6.803%   \n",
       "13        RENACIMIENTO UNIDO NACIONAL                          6    0.583%   \n",
       "14     PARTIDO DEMOCRATICO SOMOS PERU                          8    0.777%   \n",
       "15  PARTIDO POLITICO NACIONAL PERU LIBRE          ...        288   27.988%   \n",
       "16                DEMOCRACIA DIRECTA                          10    0.972%   \n",
       "17          ALIANZA PARA EL PROGRESO                          66    6.414%   \n",
       "18      TOTAL DE VOTOS VÁLIDOS  ,                          1,029  100.000%   \n",
       "19                        VOTOS EN BLANCO                              318   \n",
       "20                              VOTOS NULOS                             81   \n",
       "21             TOTAL DE VOTOS EMITIDOS  ,                            1,428   \n",
       "\n",
       "   %_emitidos  \n",
       "0      9.314%  \n",
       "1      0.280%  \n",
       "2      0.560%  \n",
       "3      0.070%  \n",
       "4      2.731%  \n",
       "5      7.353%  \n",
       "6      1.681%  \n",
       "7      0.280%  \n",
       "8      7.073%  \n",
       "9      0.070%  \n",
       "10    10.154%  \n",
       "11     1.120%  \n",
       "12     4.902%  \n",
       "13     0.420%  \n",
       "14     0.560%  \n",
       "15    20.168%  \n",
       "16     0.700%  \n",
       "17     4.622%  \n",
       "18    72.059%  \n",
       "19    22.269%  \n",
       "20     5.672%  \n",
       "21   100.000%  "
      ]
     },
     "execution_count": 476,
     "metadata": {},
     "output_type": "execute_result"
    }
   ],
   "source": [
    "df"
   ]
  },
  {
   "cell_type": "markdown",
   "metadata": {},
   "source": [
    "# References \n",
    "\n",
    "https://pypi.org/project/webdriver-manager/\n",
    "\n",
    "https://selenium-python.readthedocs.io/installation.html#drivers\n",
    "\n",
    "### simulador HTML\n",
    "\n",
    "https://www.w3schools.com/tags/tryit.asp?filename=tryhtml_button_test\n",
    "\n",
    "### Class - HTML\n",
    "\n",
    "https://www.geeksforgeeks.org/html-class-attribute/#:~:text=Class%20in%20html%3A,with%20the%20specified%20class%20name."
   ]
  }
 ],
 "metadata": {
  "hide_input": false,
  "kernelspec": {
   "display_name": "Python 3 (ipykernel)",
   "language": "python",
   "name": "python3"
  },
  "language_info": {
   "codemirror_mode": {
    "name": "ipython",
    "version": 3
   },
   "file_extension": ".py",
   "mimetype": "text/x-python",
   "name": "python",
   "nbconvert_exporter": "python",
   "pygments_lexer": "ipython3",
   "version": "3.9.7"
  }
 },
 "nbformat": 4,
 "nbformat_minor": 4
}
