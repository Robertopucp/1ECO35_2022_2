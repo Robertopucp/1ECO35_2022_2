{
 "cells": [
  {
   "cell_type": "markdown",
   "id": "df69a4c0",
   "metadata": {},
   "source": [
    "## Web scraping \n",
    "\n"
   ]
  },
  {
   "cell_type": "code",
   "execution_count": 1,
   "id": "a25a4f54",
   "metadata": {},
   "outputs": [],
   "source": [
    "import pandas as pd\n",
    "\n",
    "\n",
    "from selenium import webdriver  # Nos permite navegar en la web\n",
    "import re\n",
    "import time \n",
    "import unidecode \n",
    "from selenium.webdriver.support.ui import Select\n",
    "from selenium.webdriver.common.by import By\n",
    "from selenium.webdriver.common.keys import Keys\n",
    "from selenium.common.exceptions import NoSuchElementException\n",
    "from tqdm import tqdm\n",
    "\n",
    "# simulador de webdriver \n",
    "from webdriver_manager.chrome import ChromeDriverManager"
   ]
  },
  {
   "cell_type": "markdown",
   "id": "4389bc22",
   "metadata": {},
   "source": [
    "### Selenium documentation\n",
    "\n",
    "https://www.selenium.dev/documentation/webdriver/interactions/"
   ]
  },
  {
   "cell_type": "code",
   "execution_count": 2,
   "id": "9d6467e8",
   "metadata": {},
   "outputs": [
    {
     "name": "stdout",
     "output_type": "stream",
     "text": [
      "\n"
     ]
    },
    {
     "name": "stderr",
     "output_type": "stream",
     "text": [
      "[WDM] - ====== WebDriver manager ======\n",
      "[WDM] - Current google-chrome version is 107.0.5304\n",
      "[WDM] - Get LATEST chromedriver version for 107.0.5304 google-chrome\n",
      "[WDM] - Driver [C:\\Users\\Roberto\\.wdm\\drivers\\chromedriver\\win32\\107.0.5304.62\\chromedriver.exe] found in cache\n",
      "C:\\Users\\Roberto\\AppData\\Local\\Temp\\ipykernel_9384\\3386737775.py:1: DeprecationWarning: executable_path has been deprecated, please pass in a Service object\n",
      "  driver = webdriver.Chrome( ChromeDriverManager().install() )\n"
     ]
    }
   ],
   "source": [
    "driver = webdriver.Chrome( ChromeDriverManager().install() )"
   ]
  },
  {
   "cell_type": "code",
   "execution_count": 5,
   "id": "43a2e700",
   "metadata": {},
   "outputs": [
    {
     "name": "stdout",
     "output_type": "stream",
     "text": [
      "\n"
     ]
    },
    {
     "name": "stderr",
     "output_type": "stream",
     "text": [
      "[WDM] - ====== WebDriver manager ======\n",
      "[WDM] - Current google-chrome version is 107.0.5304\n",
      "[WDM] - Get LATEST chromedriver version for 107.0.5304 google-chrome\n",
      "[WDM] - Driver [C:\\Users\\Roberto\\.wdm\\drivers\\chromedriver\\win32\\107.0.5304.62\\chromedriver.exe] found in cache\n",
      "C:\\Users\\Roberto\\AppData\\Local\\Temp\\ipykernel_31844\\562868582.py:6: DeprecationWarning: executable_path has been deprecated, please pass in a Service object\n",
      "  driver = webdriver.Chrome( ChromeDriverManager().install() , chrome_options=chrome_options )\n",
      "C:\\Users\\Roberto\\AppData\\Local\\Temp\\ipykernel_31844\\562868582.py:6: DeprecationWarning: use options instead of chrome_options\n",
      "  driver = webdriver.Chrome( ChromeDriverManager().install() , chrome_options=chrome_options )\n"
     ]
    }
   ],
   "source": [
    "# Estas opciones permiten ocultar el browser de Chrome \n",
    "\n",
    "chrome_options = webdriver.ChromeOptions()\n",
    "chrome_options.add_argument('headless')\n",
    "chrome_options.add_argument('window-size=1920x1080')\n",
    "chrome_options.add_argument(\"disable-gpu\")\n",
    "\n",
    "driver = webdriver.Chrome( ChromeDriverManager().install() , chrome_options=chrome_options )"
   ]
  },
  {
   "cell_type": "code",
   "execution_count": 3,
   "id": "20453241",
   "metadata": {},
   "outputs": [],
   "source": [
    "driver.maximize_window()\n",
    "\n",
    "url = 'https://www.bvl.com.pe/'\n",
    "\n",
    "driver.get( url )"
   ]
  },
  {
   "cell_type": "code",
   "execution_count": 4,
   "id": "d917d645",
   "metadata": {},
   "outputs": [
    {
     "name": "stdout",
     "output_type": "stream",
     "text": [
      "124\n",
      "235\n",
      "586\n",
      "24\n",
      "1\n",
      "1\n",
      "1\n",
      "1\n"
     ]
    }
   ],
   "source": [
    "# Cantidad de tags \"li\"\n",
    "\n",
    "print(  len(driver.find_elements(By.TAG_NAME, \"li\")) )\n",
    "\n",
    "print( len(driver.find_elements(By.TAG_NAME, \"a\")) )\n",
    "\n",
    "print( len(driver.find_elements(By.TAG_NAME, \"div\")) )\n",
    "\n",
    "print( len(driver.find_elements(By.TAG_NAME, \"ul\")) )\n",
    "\n",
    "print( len(driver.find_elements(By.TAG_NAME, \"table\")) )\n",
    "\n",
    "print( len(driver.find_elements(By.TAG_NAME, \"html\")) )\n",
    "\n",
    "print( len(driver.find_elements(By.TAG_NAME, \"body\")) )\n",
    "\n",
    "print( len(driver.find_elements(By.CLASS_NAME, 'banner-cookies--button'))) "
   ]
  },
  {
   "cell_type": "code",
   "execution_count": 5,
   "id": "50206263",
   "metadata": {},
   "outputs": [
    {
     "name": "stderr",
     "output_type": "stream",
     "text": [
      "C:\\Users\\Roberto\\AppData\\Local\\Temp\\ipykernel_9384\\3933877626.py:3: DeprecationWarning: find_element_by_class_name is deprecated. Please use find_element(by=By.CLASS_NAME, value=name) instead\n",
      "  accept_cookies = driver.find_element_by_class_name('banner-cookies--button')\n"
     ]
    }
   ],
   "source": [
    "# aceptar cookies\n",
    "\n",
    "accept_cookies = driver.find_element_by_class_name('banner-cookies--button')\n",
    "accept_cookies.click()"
   ]
  },
  {
   "cell_type": "code",
   "execution_count": null,
   "id": "6522c15e",
   "metadata": {},
   "outputs": [],
   "source": [
    "# Usando el Relative path (dirección)\n",
    "\n",
    "/html/body/bvl-root/bvl-main-layout/bvl-header/div/bvl-site-menu/nav/div/div[1]/ul/li[2]"
   ]
  },
  {
   "cell_type": "code",
   "execution_count": 44,
   "id": "7463f87b",
   "metadata": {},
   "outputs": [
    {
     "data": {
      "text/plain": [
       "[<selenium.webdriver.remote.webelement.WebElement (session=\"4d803a2f3915cdb424d8919a6d41e2ff\", element=\"4fad9c74-4cb1-4ec6-af11-9949bf23d1ea\")>,\n",
       " <selenium.webdriver.remote.webelement.WebElement (session=\"4d803a2f3915cdb424d8919a6d41e2ff\", element=\"277855d7-5045-4176-b8b2-e57d05c11d55\")>,\n",
       " <selenium.webdriver.remote.webelement.WebElement (session=\"4d803a2f3915cdb424d8919a6d41e2ff\", element=\"e723c3c4-fcf1-4dec-a01d-af3461372bdb\")>,\n",
       " <selenium.webdriver.remote.webelement.WebElement (session=\"4d803a2f3915cdb424d8919a6d41e2ff\", element=\"0f3f9679-841c-4581-bd27-04d3ee866841\")>,\n",
       " <selenium.webdriver.remote.webelement.WebElement (session=\"4d803a2f3915cdb424d8919a6d41e2ff\", element=\"ab32b2cf-2277-46cf-bec9-59323ccb2d00\")>,\n",
       " <selenium.webdriver.remote.webelement.WebElement (session=\"4d803a2f3915cdb424d8919a6d41e2ff\", element=\"bc2de1e0-f102-469a-98b1-d5139ec26200\")>,\n",
       " <selenium.webdriver.remote.webelement.WebElement (session=\"4d803a2f3915cdb424d8919a6d41e2ff\", element=\"d9b6c5ee-f6ac-46d9-b978-823db91ef456\")>]"
      ]
     },
     "execution_count": 44,
     "metadata": {},
     "output_type": "execute_result"
    }
   ],
   "source": [
    "# Construimos un Relative path menos extenso \n",
    "\n",
    "driver.find_elements(By.XPATH, \"//a[@ctrl='menuLink']\")"
   ]
  },
  {
   "cell_type": "code",
   "execution_count": 58,
   "id": "0dd6b7c9",
   "metadata": {},
   "outputs": [
    {
     "data": {
      "text/plain": [
       "[<selenium.webdriver.remote.webelement.WebElement (session=\"4d803a2f3915cdb424d8919a6d41e2ff\", element=\"39046a40-937e-415a-bb85-474a028a396b\")>,\n",
       " <selenium.webdriver.remote.webelement.WebElement (session=\"4d803a2f3915cdb424d8919a6d41e2ff\", element=\"3310125c-570e-47d0-8b87-528367cc7303\")>,\n",
       " <selenium.webdriver.remote.webelement.WebElement (session=\"4d803a2f3915cdb424d8919a6d41e2ff\", element=\"36abaf5a-3f65-4cdf-b012-a3f4c19f4f4c\")>,\n",
       " <selenium.webdriver.remote.webelement.WebElement (session=\"4d803a2f3915cdb424d8919a6d41e2ff\", element=\"de4bc623-71de-49d2-9f56-bbf78e8aa08e\")>,\n",
       " <selenium.webdriver.remote.webelement.WebElement (session=\"4d803a2f3915cdb424d8919a6d41e2ff\", element=\"97dc3b04-d32b-49e9-b2a2-1e207645aa96\")>,\n",
       " <selenium.webdriver.remote.webelement.WebElement (session=\"4d803a2f3915cdb424d8919a6d41e2ff\", element=\"ff1e60bf-7355-45de-9cf3-2c02e4b63fbb\")>,\n",
       " <selenium.webdriver.remote.webelement.WebElement (session=\"4d803a2f3915cdb424d8919a6d41e2ff\", element=\"85b4b79d-3764-47d4-941b-867981119472\")>]"
      ]
     },
     "execution_count": 58,
     "metadata": {},
     "output_type": "execute_result"
    }
   ],
   "source": [
    "driver.find_elements(By.XPATH, \"//li[@class='g-site-menu-item ng-star-inserted']\")"
   ]
  },
  {
   "cell_type": "code",
   "execution_count": 247,
   "id": "7e315db9",
   "metadata": {},
   "outputs": [],
   "source": [
    "lista_indices = driver.find_elements(By.XPATH, \"//a[@ctrl='menuLink']\")[1]\n",
    "lista_indices.click()"
   ]
  },
  {
   "cell_type": "code",
   "execution_count": 248,
   "id": "d3b1ac16",
   "metadata": {},
   "outputs": [],
   "source": [
    "mercado = driver.find_elements(By.XPATH, \"//a[@href='mercado/resumen-mercado']\")\n",
    "\n",
    "mercado[0]\n",
    "\n",
    "mercado[0].click()\n",
    "\n",
    "# Se puede observar que toma tiempo en cargar la página "
   ]
  },
  {
   "cell_type": "code",
   "execution_count": 9,
   "id": "cdf8acb9",
   "metadata": {},
   "outputs": [
    {
     "name": "stdout",
     "output_type": "stream",
     "text": [
      "2\n"
     ]
    }
   ],
   "source": [
    "print( len(driver.find_elements(By.TAG_NAME, \"table\")) )"
   ]
  },
  {
   "cell_type": "code",
   "execution_count": 118,
   "id": "ceac774a",
   "metadata": {},
   "outputs": [
    {
     "data": {
      "text/plain": [
       "<selenium.webdriver.remote.webelement.WebElement (session=\"f213fdfd09d3343a66cf2c6ec91aefa8\", element=\"2ba4b192-c07d-49f4-b0f0-ccf18e2ff5fd\")>"
      ]
     },
     "execution_count": 118,
     "metadata": {},
     "output_type": "execute_result"
    }
   ],
   "source": [
    "# driver.find_elements(By.TAG_NAME, \"tbody\")[0]"
   ]
  },
  {
   "cell_type": "code",
   "execution_count": 10,
   "id": "84cde8d0",
   "metadata": {},
   "outputs": [
    {
     "data": {
      "text/plain": [
       "[<selenium.webdriver.remote.webelement.WebElement (session=\"54b6ebd32d9175c88a617749312b0da5\", element=\"6c97c161-1c9d-4a19-b97f-5ddd4b2c438b\")>,\n",
       " <selenium.webdriver.remote.webelement.WebElement (session=\"54b6ebd32d9175c88a617749312b0da5\", element=\"0976f8e5-bf28-435b-b192-fafa77c56bb5\")>]"
      ]
     },
     "execution_count": 10,
     "metadata": {},
     "output_type": "execute_result"
    }
   ],
   "source": [
    "driver.find_elements(By.TAG_NAME, \"tbody\")\n"
   ]
  },
  {
   "cell_type": "code",
   "execution_count": 225,
   "id": "703b90aa",
   "metadata": {},
   "outputs": [
    {
     "data": {
      "text/plain": [
       "[]"
      ]
     },
     "execution_count": 225,
     "metadata": {},
     "output_type": "execute_result"
    }
   ],
   "source": [
    "table_path = driver.find_elements(By.XPATH, \"//div[@class='table-wrapper ng-tns-c6-0']\")\n",
    "table_path"
   ]
  },
  {
   "cell_type": "code",
   "execution_count": 171,
   "id": "a57078be",
   "metadata": {},
   "outputs": [
    {
     "data": {
      "text/plain": [
       "'<!--bindings={\\n  \"ng-reflect-ng-if\": \"3\",\\n  \"ng-reflect-ng-if-else\": \"[object Object]\"\\n}--><!----><table class=\"table-dark table ng-tns-c6-0 ng-star-inserted\" scrolledelement=\"\"><thead class=\"ng-tns-c6-0 head-green\" ng-reflect-ng-class=\"head-green\"><tr class=\"bvl-row\"><!--bindings={\\n  \"ng-reflect-ng-for-of\": \"[object Object],[object Object\"\\n}--><th class=\"ng-tns-c6-0 ng-star-inserted\" ng-reflect-ng-switch=\"[object Object]\"><!--bindings={\\n  \"ng-reflect-ng-switch-case\": \"inWatchlist\"\\n}--><!----><!----> Nemonicos <button class=\"btn btn-icon btn-sortBy ng-tns-c6-0 ng-star-inserted\" type=\"button\"><i class=\"icon-sort\"></i></button></th><th class=\"ng-tns-c6-0 ng-star-inserted\" ng-reflect-ng-switch=\"[object Object]\"><!--bindings={\\n  \"ng-reflect-ng-switch-case\": \"inWatchlist\"\\n}--><!----><!----> Última <button class=\"btn btn-icon btn-sortBy ng-tns-c6-0 ng-star-inserted\" type=\"button\"><i class=\"icon-sort\"></i></button></th><th class=\"ng-tns-c6-0 ng-star-inserted\" ng-reflect-ng-switch=\"[object Object]\"><!--bindings={\\n  \"ng-reflect-ng-switch-case\": \"inWatchlist\"\\n}--><!----><!----> Var% <button class=\"btn btn-icon btn-sortBy ng-tns-c6-0 ng-star-inserted\" type=\"button\"><i class=\"icon-sort\"></i></button></th></tr></thead><tbody class=\"ng-tns-c6-0\"><!--bindings={\\n  \"ng-reflect-ng-for-of\": \"[object Object],[object Object\"\\n}--><!----><tr class=\"bvl-row ng-tns-c6-0 ng-star-inserted\" ctrl=\"rowItem\" ng-reflect-klass=\"bvl-row\" ng-reflect-ng-class=\"[object Object]\"><!--bindings={\\n  \"ng-reflect-ng-for-of\": \"[object Object],[object Object\"\\n}--><td class=\"ng-tns-c6-0 ng-star-inserted\" ng-reflect-ng-switch=\"string\" style=\"cursor: pointer;\"><!--bindings={\\n  \"ng-reflect-ng-switch-case\": \"price\"\\n}--><!--bindings={\\n  \"ng-reflect-ng-switch-case\": \"percent\"\\n}--><!----><!----><span class=\"ng-tns-c6-0 ng-star-inserted\" title=\"BVN\">BVN</span></td><td class=\"ng-tns-c6-0 ng-star-inserted\" ng-reflect-ng-switch=\"price\" style=\"cursor: pointer;\"><!--bindings={\\n  \"ng-reflect-ng-switch-case\": \"price\"\\n}--><!----><span class=\"ng-tns-c6-0 ng-star-inserted\"> 7.73 </span><!--bindings={\\n  \"ng-reflect-ng-switch-case\": \"percent\"\\n}--><!----></td><td class=\"ng-tns-c6-0 ng-star-inserted\" ng-reflect-ng-switch=\"percent\" style=\"cursor: pointer;\"><!--bindings={\\n  \"ng-reflect-ng-switch-case\": \"price\"\\n}--><!--bindings={\\n  \"ng-reflect-ng-switch-case\": \"percent\"\\n}--><!----><!--bindings={\\n  \"ng-reflect-ng-if\": \"4.46\"\\n}--><bvl-amount-cell _nghost-c8=\"\" class=\"ng-tns-c6-0 ng-star-inserted\" ng-reflect-variation=\"4.46\"><span _ngcontent-c8=\"\" class=\"amount-cell rise with-icons\" ng-reflect-klass=\"amount-cell\" ng-reflect-ng-class=\"[object Object]\"> 4.46% </span></bvl-amount-cell><!----><!----></td></tr><tr class=\"details-row ng-tns-c6-0 ng-star-inserted\"><td class=\"ng-tns-c6-0\" ng-reflect-ng-class=\"[object Object]\" colspan=\"3\"><article class=\"element-details ng-trigger ng-trigger-detailExpand\" style=\"height:0px;min-height:0px;0:height;1:min-height;height:0px;min-height:0px;\"><header class=\"ng-tns-c6-0\"><h3 class=\"title\"></h3><button class=\"btn btn-close\"><span class=\"sr-only\">Close</span><i class=\"icon-close\"></i></button></header><div class=\"row no-gutters\"><div class=\"ng-tns-c6-0 col-md-12\" ng-reflect-ng-class=\"col-md-12\"><!--bindings={\\n  \"ng-reflect-ng-if\": \"true\",\\n  \"ng-reflect-ng-if-else\": \"[object Object]\"\\n}--><!----><div class=\"graphic-wrapper ng-tns-c6-0 ng-star-inserted\" id=\"graphic-Mayores Alzas-0\" style=\"\"></div><!----></div><div class=\"ng-tns-c6-0 col-md-12\" ng-reflect-ng-class=\"col-md-12\"><bvl-links-list class=\"ng-tns-c6-0\" _nghost-c9=\"\" ng-reflect-ga=\"[object Object],[object Object\" ng-reflect-links=\"[object Object],[object Object\"><!--bindings={\\n  \"ng-reflect-ng-if\": \"[object Object],[object Object\"\\n}--><ul _ngcontent-c9=\"\" class=\"link-list ng-star-inserted\" style=\"\"><!--bindings={\\n  \"ng-reflect-ng-for-of\": \"[object Object],[object Object\"\\n}--><li _ngcontent-c9=\"\" class=\"ng-star-inserted\"><a _ngcontent-c9=\"\" ctrl=\"linkListLink\" href=\"https://www.bvl.com.pe/emisores/detalle?companyCode=61200#info-corporativa\" title=\"Info corporativa\">Info corporativa</a></li><li _ngcontent-c9=\"\" class=\"ng-star-inserted\"><a _ngcontent-c9=\"\" ctrl=\"linkListLink\" href=\"https://www.bvl.com.pe/emisores/detalle?companyCode=61200#valores-inscritos\" title=\"Valores Inscritos\">Valores Inscritos</a></li><li _ngcontent-c9=\"\" class=\"ng-star-inserted\"><a _ngcontent-c9=\"\" ctrl=\"linkListLink\" href=\"https://www.bvl.com.pe/emisores/detalle?companyCode=61200#historico-de-cotizaciones\" title=\"Histórico de cotizaciones\">Histórico de cotizaciones</a></li><li _ngcontent-c9=\"\" class=\"ng-star-inserted\"><a _ngcontent-c9=\"\" ctrl=\"linkListLink\" href=\"https://www.bvl.com.pe/emisores/detalle?companyCode=61200#hechos-de-importancia\" title=\"Hechos de importancia\">Hechos de importancia</a></li><li _ngcontent-c9=\"\" class=\"ng-star-inserted\"><a _ngcontent-c9=\"\" ctrl=\"linkListLink\" href=\"https://www.bvl.com.pe/emisores/detalle?companyCode=61200#informacion-financiera\" title=\"Información financiera\">Información financiera</a></li><li _ngcontent-c9=\"\" class=\"ng-star-inserted\"><a _ngcontent-c9=\"\" ctrl=\"linkListLink\" href=\"https://www.bvl.com.pe/emisores/detalle?companyCode=61200#memorias\" title=\"Memorias\">Memorias</a></li></ul></bvl-links-list></div></div><!--bindings={\\n  \"ng-reflect-ng-if\": \"false\"\\n}--></article></td></tr><!----><tr class=\"bvl-row ng-tns-c6-0 ng-star-inserted\" ctrl=\"rowItem\" ng-reflect-klass=\"bvl-row\" ng-reflect-ng-class=\"[object Object]\"><!--bindings={\\n  \"ng-reflect-ng-for-of\": \"[object Object],[object Object\"\\n}--><td class=\"ng-tns-c6-0 ng-star-inserted\" ng-reflect-ng-switch=\"string\" style=\"cursor: pointer;\"><!--bindings={\\n  \"ng-reflect-ng-switch-case\": \"price\"\\n}--><!--bindings={\\n  \"ng-reflect-ng-switch-case\": \"percent\"\\n}--><!----><!----><span class=\"ng-tns-c6-0 ng-star-inserted\" title=\"MINSURI1\">MINSURI1</span></td><td class=\"ng-tns-c6-0 ng-star-inserted\" ng-reflect-ng-switch=\"price\" style=\"cursor: pointer;\"><!--bindings={\\n  \"ng-reflect-ng-switch-case\": \"price\"\\n}--><!----><span class=\"ng-tns-c6-0 ng-star-inserted\"> 3.70 </span><!--bindings={\\n  \"ng-reflect-ng-switch-case\": \"percent\"\\n}--><!----></td><td class=\"ng-tns-c6-0 ng-star-inserted\" ng-reflect-ng-switch=\"percent\" style=\"cursor: pointer;\"><!--bindings={\\n  \"ng-reflect-ng-switch-case\": \"price\"\\n}--><!--bindings={\\n  \"ng-reflect-ng-switch-case\": \"percent\"\\n}--><!----><!--bindings={\\n  \"ng-reflect-ng-if\": \"2.78\"\\n}--><bvl-amount-cell _nghost-c8=\"\" class=\"ng-tns-c6-0 ng-star-inserted\" ng-reflect-variation=\"2.78\"><span _ngcontent-c8=\"\" class=\"amount-cell rise with-icons\" ng-reflect-klass=\"amount-cell\" ng-reflect-ng-class=\"[object Object]\"> 2.78% </span></bvl-amount-cell><!----><!----></td></tr><tr class=\"details-row ng-tns-c6-0 ng-star-inserted\"><td class=\"ng-tns-c6-0\" ng-reflect-ng-class=\"[object Object]\" colspan=\"3\"><article class=\"element-details ng-trigger ng-trigger-detailExpand\" style=\"height:0px;min-height:0px;0:height;1:min-height;height:0px;min-height:0px;\"><header class=\"ng-tns-c6-0\"><h3 class=\"title\"></h3><button class=\"btn btn-close\"><span class=\"sr-only\">Close</span><i class=\"icon-close\"></i></button></header><div class=\"row no-gutters\"><div class=\"ng-tns-c6-0 col-md-12\" ng-reflect-ng-class=\"col-md-12\"><!--bindings={\\n  \"ng-reflect-ng-if\": \"true\",\\n  \"ng-reflect-ng-if-else\": \"[object Object]\"\\n}--><!----><div class=\"graphic-wrapper ng-tns-c6-0 ng-star-inserted\" id=\"graphic-Mayores Alzas-1\" style=\"\"></div><!----></div><div class=\"ng-tns-c6-0 col-md-12\" ng-reflect-ng-class=\"col-md-12\"><bvl-links-list class=\"ng-tns-c6-0\" _nghost-c9=\"\" ng-reflect-ga=\"[object Object],[object Object\" ng-reflect-links=\"[object Object],[object Object\"><!--bindings={\\n  \"ng-reflect-ng-if\": \"[object Object],[object Object\"\\n}--><ul _ngcontent-c9=\"\" class=\"link-list ng-star-inserted\" style=\"\"><!--bindings={\\n  \"ng-reflect-ng-for-of\": \"[object Object],[object Object\"\\n}--><li _ngcontent-c9=\"\" class=\"ng-star-inserted\"><a _ngcontent-c9=\"\" ctrl=\"linkListLink\" href=\"https://www.bvl.com.pe/emisores/detalle?companyCode=62200#info-corporativa\" title=\"Info corporativa\">Info corporativa</a></li><li _ngcontent-c9=\"\" class=\"ng-star-inserted\"><a _ngcontent-c9=\"\" ctrl=\"linkListLink\" href=\"https://www.bvl.com.pe/emisores/detalle?companyCode=62200#valores-inscritos\" title=\"Valores Inscritos\">Valores Inscritos</a></li><li _ngcontent-c9=\"\" class=\"ng-star-inserted\"><a _ngcontent-c9=\"\" ctrl=\"linkListLink\" href=\"https://www.bvl.com.pe/emisores/detalle?companyCode=62200#historico-de-cotizaciones\" title=\"Histórico de cotizaciones\">Histórico de cotizaciones</a></li><li _ngcontent-c9=\"\" class=\"ng-star-inserted\"><a _ngcontent-c9=\"\" ctrl=\"linkListLink\" href=\"https://www.bvl.com.pe/emisores/detalle?companyCode=62200#hechos-de-importancia\" title=\"Hechos de importancia\">Hechos de importancia</a></li><li _ngcontent-c9=\"\" class=\"ng-star-inserted\"><a _ngcontent-c9=\"\" ctrl=\"linkListLink\" href=\"https://www.bvl.com.pe/emisores/detalle?companyCode=62200#informacion-financiera\" title=\"Información financiera\">Información financiera</a></li><li _ngcontent-c9=\"\" class=\"ng-star-inserted\"><a _ngcontent-c9=\"\" ctrl=\"linkListLink\" href=\"https://www.bvl.com.pe/emisores/detalle?companyCode=62200#memorias\" title=\"Memorias\">Memorias</a></li></ul></bvl-links-list></div></div><!--bindings={\\n  \"ng-reflect-ng-if\": \"false\"\\n}--></article></td></tr><!----><tr class=\"bvl-row ng-tns-c6-0 ng-star-inserted\" ctrl=\"rowItem\" ng-reflect-klass=\"bvl-row\" ng-reflect-ng-class=\"[object Object]\"><!--bindings={\\n  \"ng-reflect-ng-for-of\": \"[object Object],[object Object\"\\n}--><td class=\"ng-tns-c6-0 ng-star-inserted\" ng-reflect-ng-switch=\"string\" style=\"cursor: pointer;\"><!--bindings={\\n  \"ng-reflect-ng-switch-case\": \"price\"\\n}--><!--bindings={\\n  \"ng-reflect-ng-switch-case\": \"percent\"\\n}--><!----><!----><span class=\"ng-tns-c6-0 ng-star-inserted\" title=\"SCCO\">SCCO</span></td><td class=\"ng-tns-c6-0 ng-star-inserted\" ng-reflect-ng-switch=\"price\" style=\"cursor: pointer;\"><!--bindings={\\n  \"ng-reflect-ng-switch-case\": \"price\"\\n}--><!----><span class=\"ng-tns-c6-0 ng-star-inserted\"> 54.00 </span><!--bindings={\\n  \"ng-reflect-ng-switch-case\": \"percent\"\\n}--><!----></td><td class=\"ng-tns-c6-0 ng-star-inserted\" ng-reflect-ng-switch=\"percent\" style=\"cursor: pointer;\"><!--bindings={\\n  \"ng-reflect-ng-switch-case\": \"price\"\\n}--><!--bindings={\\n  \"ng-reflect-ng-switch-case\": \"percent\"\\n}--><!----><!--bindings={\\n  \"ng-reflect-ng-if\": \"0.93\"\\n}--><bvl-amount-cell _nghost-c8=\"\" class=\"ng-tns-c6-0 ng-star-inserted\" ng-reflect-variation=\"0.93\"><span _ngcontent-c8=\"\" class=\"amount-cell rise with-icons\" ng-reflect-klass=\"amount-cell\" ng-reflect-ng-class=\"[object Object]\"> 0.93% </span></bvl-amount-cell><!----><!----></td></tr><tr class=\"details-row ng-tns-c6-0 ng-star-inserted\"><td class=\"ng-tns-c6-0\" ng-reflect-ng-class=\"[object Object]\" colspan=\"3\"><article class=\"element-details ng-trigger ng-trigger-detailExpand\" style=\"height:0px;min-height:0px;0:height;1:min-height;height:0px;min-height:0px;\"><header class=\"ng-tns-c6-0\"><h3 class=\"title\"></h3><button class=\"btn btn-close\"><span class=\"sr-only\">Close</span><i class=\"icon-close\"></i></button></header><div class=\"row no-gutters\"><div class=\"ng-tns-c6-0 col-md-12\" ng-reflect-ng-class=\"col-md-12\"><!--bindings={\\n  \"ng-reflect-ng-if\": \"true\",\\n  \"ng-reflect-ng-if-else\": \"[object Object]\"\\n}--><!----><div class=\"graphic-wrapper ng-tns-c6-0 ng-star-inserted\" id=\"graphic-Mayores Alzas-2\" style=\"\"></div><!----></div><div class=\"ng-tns-c6-0 col-md-12\" ng-reflect-ng-class=\"col-md-12\"><bvl-links-list class=\"ng-tns-c6-0\" _nghost-c9=\"\" ng-reflect-ga=\"[object Object],[object Object\" ng-reflect-links=\"[object Object],[object Object\"><!--bindings={\\n  \"ng-reflect-ng-if\": \"[object Object],[object Object\"\\n}--><ul _ngcontent-c9=\"\" class=\"link-list ng-star-inserted\" style=\"\"><!--bindings={\\n  \"ng-reflect-ng-for-of\": \"[object Object],[object Object\"\\n}--><li _ngcontent-c9=\"\" class=\"ng-star-inserted\"><a _ngcontent-c9=\"\" ctrl=\"linkListLink\" href=\"https://www.bvl.com.pe/emisores/detalle?companyCode=75850#info-corporativa\" title=\"Info corporativa\">Info corporativa</a></li><li _ngcontent-c9=\"\" class=\"ng-star-inserted\"><a _ngcontent-c9=\"\" ctrl=\"linkListLink\" href=\"https://www.bvl.com.pe/emisores/detalle?companyCode=75850#valores-inscritos\" title=\"Valores Inscritos\">Valores Inscritos</a></li><li _ngcontent-c9=\"\" class=\"ng-star-inserted\"><a _ngcontent-c9=\"\" ctrl=\"linkListLink\" href=\"https://www.bvl.com.pe/emisores/detalle?companyCode=75850#historico-de-cotizaciones\" title=\"Histórico de cotizaciones\">Histórico de cotizaciones</a></li><li _ngcontent-c9=\"\" class=\"ng-star-inserted\"><a _ngcontent-c9=\"\" ctrl=\"linkListLink\" href=\"https://www.bvl.com.pe/emisores/detalle?companyCode=75850#hechos-de-importancia\" title=\"Hechos de importancia\">Hechos de importancia</a></li><li _ngcontent-c9=\"\" class=\"ng-star-inserted\"><a _ngcontent-c9=\"\" ctrl=\"linkListLink\" href=\"https://www.bvl.com.pe/emisores/detalle?companyCode=75850#informacion-financiera\" title=\"Información financiera\">Información financiera</a></li><li _ngcontent-c9=\"\" class=\"ng-star-inserted\"><a _ngcontent-c9=\"\" ctrl=\"linkListLink\" href=\"https://www.bvl.com.pe/emisores/detalle?companyCode=75850#memorias\" title=\"Memorias\">Memorias</a></li></ul></bvl-links-list></div></div><!--bindings={\\n  \"ng-reflect-ng-if\": \"false\"\\n}--></article></td></tr></tbody></table><!---->'"
      ]
     },
     "execution_count": 171,
     "metadata": {},
     "output_type": "execute_result"
    }
   ],
   "source": [
    "table_html = table_path[0].get_attribute( 'innerHTML' )\n",
    "table_html"
   ]
  },
  {
   "cell_type": "code",
   "execution_count": 172,
   "id": "4b7292e9",
   "metadata": {},
   "outputs": [
    {
     "data": {
      "text/plain": [
       "[                                           Nemonicos  \\\n",
       " 0                                                BVN   \n",
       " 1  CloseInfo corporativaValores InscritosHistóric...   \n",
       " 2                                           MINSURI1   \n",
       " 3  CloseInfo corporativaValores InscritosHistóric...   \n",
       " 4                                               SCCO   \n",
       " 5  CloseInfo corporativaValores InscritosHistóric...   \n",
       " \n",
       "                                               Última  \\\n",
       " 0                                               7.73   \n",
       " 1  CloseInfo corporativaValores InscritosHistóric...   \n",
       " 2                                               3.70   \n",
       " 3  CloseInfo corporativaValores InscritosHistóric...   \n",
       " 4                                              54.00   \n",
       " 5  CloseInfo corporativaValores InscritosHistóric...   \n",
       " \n",
       "                                                 Var%  \n",
       " 0                                              4.46%  \n",
       " 1  CloseInfo corporativaValores InscritosHistóric...  \n",
       " 2                                              2.78%  \n",
       " 3  CloseInfo corporativaValores InscritosHistóric...  \n",
       " 4                                              0.93%  \n",
       " 5  CloseInfo corporativaValores InscritosHistóric...  ]"
      ]
     },
     "execution_count": 172,
     "metadata": {},
     "output_type": "execute_result"
    }
   ],
   "source": [
    "table = pd.read_html(table_html)\n",
    "table"
   ]
  },
  {
   "cell_type": "code",
   "execution_count": 173,
   "id": "281fa8b5",
   "metadata": {
    "scrolled": false
   },
   "outputs": [
    {
     "data": {
      "text/html": [
       "<div>\n",
       "<style scoped>\n",
       "    .dataframe tbody tr th:only-of-type {\n",
       "        vertical-align: middle;\n",
       "    }\n",
       "\n",
       "    .dataframe tbody tr th {\n",
       "        vertical-align: top;\n",
       "    }\n",
       "\n",
       "    .dataframe thead th {\n",
       "        text-align: right;\n",
       "    }\n",
       "</style>\n",
       "<table border=\"1\" class=\"dataframe\">\n",
       "  <thead>\n",
       "    <tr style=\"text-align: right;\">\n",
       "      <th></th>\n",
       "      <th>Nemonicos</th>\n",
       "      <th>Última</th>\n",
       "      <th>Var%</th>\n",
       "    </tr>\n",
       "  </thead>\n",
       "  <tbody>\n",
       "    <tr>\n",
       "      <th>0</th>\n",
       "      <td>BVN</td>\n",
       "      <td>7.73</td>\n",
       "      <td>4.46%</td>\n",
       "    </tr>\n",
       "    <tr>\n",
       "      <th>1</th>\n",
       "      <td>CloseInfo corporativaValores InscritosHistóric...</td>\n",
       "      <td>CloseInfo corporativaValores InscritosHistóric...</td>\n",
       "      <td>CloseInfo corporativaValores InscritosHistóric...</td>\n",
       "    </tr>\n",
       "    <tr>\n",
       "      <th>2</th>\n",
       "      <td>MINSURI1</td>\n",
       "      <td>3.70</td>\n",
       "      <td>2.78%</td>\n",
       "    </tr>\n",
       "    <tr>\n",
       "      <th>3</th>\n",
       "      <td>CloseInfo corporativaValores InscritosHistóric...</td>\n",
       "      <td>CloseInfo corporativaValores InscritosHistóric...</td>\n",
       "      <td>CloseInfo corporativaValores InscritosHistóric...</td>\n",
       "    </tr>\n",
       "    <tr>\n",
       "      <th>4</th>\n",
       "      <td>SCCO</td>\n",
       "      <td>54.00</td>\n",
       "      <td>0.93%</td>\n",
       "    </tr>\n",
       "    <tr>\n",
       "      <th>5</th>\n",
       "      <td>CloseInfo corporativaValores InscritosHistóric...</td>\n",
       "      <td>CloseInfo corporativaValores InscritosHistóric...</td>\n",
       "      <td>CloseInfo corporativaValores InscritosHistóric...</td>\n",
       "    </tr>\n",
       "  </tbody>\n",
       "</table>\n",
       "</div>"
      ],
      "text/plain": [
       "                                           Nemonicos  \\\n",
       "0                                                BVN   \n",
       "1  CloseInfo corporativaValores InscritosHistóric...   \n",
       "2                                           MINSURI1   \n",
       "3  CloseInfo corporativaValores InscritosHistóric...   \n",
       "4                                               SCCO   \n",
       "5  CloseInfo corporativaValores InscritosHistóric...   \n",
       "\n",
       "                                              Última  \\\n",
       "0                                               7.73   \n",
       "1  CloseInfo corporativaValores InscritosHistóric...   \n",
       "2                                               3.70   \n",
       "3  CloseInfo corporativaValores InscritosHistóric...   \n",
       "4                                              54.00   \n",
       "5  CloseInfo corporativaValores InscritosHistóric...   \n",
       "\n",
       "                                                Var%  \n",
       "0                                              4.46%  \n",
       "1  CloseInfo corporativaValores InscritosHistóric...  \n",
       "2                                              2.78%  \n",
       "3  CloseInfo corporativaValores InscritosHistóric...  \n",
       "4                                              0.93%  \n",
       "5  CloseInfo corporativaValores InscritosHistóric...  "
      ]
     },
     "execution_count": 173,
     "metadata": {},
     "output_type": "execute_result"
    }
   ],
   "source": [
    "table[0]"
   ]
  },
  {
   "cell_type": "code",
   "execution_count": 174,
   "id": "2d2af723",
   "metadata": {},
   "outputs": [
    {
     "data": {
      "text/html": [
       "<div>\n",
       "<style scoped>\n",
       "    .dataframe tbody tr th:only-of-type {\n",
       "        vertical-align: middle;\n",
       "    }\n",
       "\n",
       "    .dataframe tbody tr th {\n",
       "        vertical-align: top;\n",
       "    }\n",
       "\n",
       "    .dataframe thead th {\n",
       "        text-align: right;\n",
       "    }\n",
       "</style>\n",
       "<table border=\"1\" class=\"dataframe\">\n",
       "  <thead>\n",
       "    <tr style=\"text-align: right;\">\n",
       "      <th></th>\n",
       "      <th>Nemonicos</th>\n",
       "      <th>Última</th>\n",
       "      <th>Var%</th>\n",
       "    </tr>\n",
       "  </thead>\n",
       "  <tbody>\n",
       "    <tr>\n",
       "      <th>0</th>\n",
       "      <td>BVN</td>\n",
       "      <td>7.73</td>\n",
       "      <td>4.46%</td>\n",
       "    </tr>\n",
       "    <tr>\n",
       "      <th>1</th>\n",
       "      <td>MINSURI1</td>\n",
       "      <td>3.70</td>\n",
       "      <td>2.78%</td>\n",
       "    </tr>\n",
       "    <tr>\n",
       "      <th>2</th>\n",
       "      <td>SCCO</td>\n",
       "      <td>54.00</td>\n",
       "      <td>0.93%</td>\n",
       "    </tr>\n",
       "  </tbody>\n",
       "</table>\n",
       "</div>"
      ],
      "text/plain": [
       "  Nemonicos Última   Var%\n",
       "0       BVN   7.73  4.46%\n",
       "1  MINSURI1   3.70  2.78%\n",
       "2      SCCO  54.00  0.93%"
      ]
     },
     "execution_count": 174,
     "metadata": {},
     "output_type": "execute_result"
    }
   ],
   "source": [
    "base_bvl  = table[0].loc[table[0]['Var%'].str.contains('^\\d', na = False, regex = True)].reset_index()\n",
    "\n",
    "del base_bvl['index']\n",
    "\n",
    "base_bvl "
   ]
  },
  {
   "cell_type": "code",
   "execution_count": 33,
   "id": "3c32dff5",
   "metadata": {},
   "outputs": [
    {
     "data": {
      "text/plain": [
       "[<selenium.webdriver.remote.webelement.WebElement (session=\"54b6ebd32d9175c88a617749312b0da5\", element=\"0868280e-b9bb-44ba-ac0e-4c77eaefe3a2\")>,\n",
       " <selenium.webdriver.remote.webelement.WebElement (session=\"54b6ebd32d9175c88a617749312b0da5\", element=\"b89689c8-77fd-4dee-8cce-7a0ae4487467\")>,\n",
       " <selenium.webdriver.remote.webelement.WebElement (session=\"54b6ebd32d9175c88a617749312b0da5\", element=\"19584fcb-e750-4f24-8acb-455b03f8d124\")>,\n",
       " <selenium.webdriver.remote.webelement.WebElement (session=\"54b6ebd32d9175c88a617749312b0da5\", element=\"88af16bb-fc97-4a89-a826-c9a3ab5965ea\")>,\n",
       " <selenium.webdriver.remote.webelement.WebElement (session=\"54b6ebd32d9175c88a617749312b0da5\", element=\"caf76133-8d35-46de-a0f7-58c4fbf56738\")>,\n",
       " <selenium.webdriver.remote.webelement.WebElement (session=\"54b6ebd32d9175c88a617749312b0da5\", element=\"864013a4-0347-49f4-b19b-d511b8e5f7ed\")>,\n",
       " <selenium.webdriver.remote.webelement.WebElement (session=\"54b6ebd32d9175c88a617749312b0da5\", element=\"faca74df-04fd-415c-9ac0-41febbc309ce\")>,\n",
       " <selenium.webdriver.remote.webelement.WebElement (session=\"54b6ebd32d9175c88a617749312b0da5\", element=\"3f9af30a-db76-4daf-bdde-661a97ef6f7c\")>,\n",
       " <selenium.webdriver.remote.webelement.WebElement (session=\"54b6ebd32d9175c88a617749312b0da5\", element=\"c23bc7aa-4dea-4236-9206-3ecc7a2d9bc5\")>,\n",
       " <selenium.webdriver.remote.webelement.WebElement (session=\"54b6ebd32d9175c88a617749312b0da5\", element=\"149169b4-6190-42bf-b6e3-bfd495b86b19\")>]"
      ]
     },
     "execution_count": 33,
     "metadata": {},
     "output_type": "execute_result"
    }
   ],
   "source": [
    "driver.find_elements(By.XPATH, \"//div[@ctrl='selectSector']\")\n"
   ]
  },
  {
   "cell_type": "code",
   "execution_count": 69,
   "id": "5d933b1a",
   "metadata": {},
   "outputs": [
    {
     "data": {
      "text/plain": [
       "[<selenium.webdriver.remote.webelement.WebElement (session=\"54b6ebd32d9175c88a617749312b0da5\", element=\"187f052e-c106-42ab-a4ab-643e40cfdeea\")>]"
      ]
     },
     "execution_count": 69,
     "metadata": {},
     "output_type": "execute_result"
    }
   ],
   "source": [
    "driver.find_elements(By.XPATH, \"//div[@class='g-site-select--label']\")"
   ]
  },
  {
   "cell_type": "code",
   "execution_count": null,
   "id": "6791e7e0",
   "metadata": {},
   "outputs": [],
   "source": [
    "# path extenso: \n",
    "\n",
    "#//*[@id=\"page-view\"]/main/section[3]/div/bvl-market-table/section/div/bvl-market-table-header/div/div/div[2]/div/div[1]"
   ]
  },
  {
   "cell_type": "code",
   "execution_count": 71,
   "id": "e73175ff",
   "metadata": {},
   "outputs": [
    {
     "data": {
      "text/plain": [
       "1"
      ]
     },
     "execution_count": 71,
     "metadata": {},
     "output_type": "execute_result"
    }
   ],
   "source": [
    "# Un solo tag div que contiene el stilo class = 'g-site-select--label'\n",
    "\n",
    "len(driver.find_elements(By.XPATH, \"//div[@class='g-site-select--label']\"))"
   ]
  },
  {
   "cell_type": "code",
   "execution_count": 164,
   "id": "8c9ae54d",
   "metadata": {},
   "outputs": [],
   "source": [
    "# CLick en la listab despegable\n",
    "driver.find_elements(By.XPATH, \"//div[@class='g-site-select--label']\")[0].click()\n",
    "\n",
    "# extraer el nombre de los sectores \n",
    "\n",
    "sectors_names = driver.find_elements(By.XPATH, \"//div[@ctrl='selectSector']\")\n",
    "\n",
    "list_sector = []\n",
    "\n",
    "for sector in sectors_names:\n",
    "    list_sector.append(sector.text)"
   ]
  },
  {
   "cell_type": "code",
   "execution_count": 216,
   "id": "ee29e7c9",
   "metadata": {},
   "outputs": [
    {
     "data": {
      "text/plain": [
       "['>SECTOR',\n",
       " 'SEGUROS',\n",
       " 'DIVERSAS',\n",
       " 'ADMINISTRADORAS DE FONDOS DE PENSIONES',\n",
       " 'AGRARIO',\n",
       " 'FONDOS DE INVERSIÓN',\n",
       " 'MINERAS',\n",
       " 'SERVICIOS PÚBLICOS',\n",
       " 'BANCOS Y FINANCIERAS',\n",
       " 'INDUSTRIALES']"
      ]
     },
     "execution_count": 216,
     "metadata": {},
     "output_type": "execute_result"
    }
   ],
   "source": [
    "list_sector"
   ]
  },
  {
   "cell_type": "code",
   "execution_count": 223,
   "id": "b0e323aa",
   "metadata": {},
   "outputs": [],
   "source": [
    "# CLick en la listab despegable\n",
    "driver.find_elements(By.XPATH, \"//div[@class='g-site-select--label']\")[0].click()\n",
    "# Click en cada sector \n"
   ]
  },
  {
   "cell_type": "code",
   "execution_count": 209,
   "id": "0f48fa81",
   "metadata": {},
   "outputs": [],
   "source": [
    "sector = driver.find_elements(By.XPATH, \"//div[contains(text() , {})]\".format(f'\"{list_sector[6]}\"'))\n",
    "sector[0].click()"
   ]
  },
  {
   "cell_type": "code",
   "execution_count": 214,
   "id": "09fc87b2",
   "metadata": {},
   "outputs": [
    {
     "data": {
      "text/html": [
       "<div>\n",
       "<style scoped>\n",
       "    .dataframe tbody tr th:only-of-type {\n",
       "        vertical-align: middle;\n",
       "    }\n",
       "\n",
       "    .dataframe tbody tr th {\n",
       "        vertical-align: top;\n",
       "    }\n",
       "\n",
       "    .dataframe thead th {\n",
       "        text-align: right;\n",
       "    }\n",
       "</style>\n",
       "<table border=\"1\" class=\"dataframe\">\n",
       "  <thead>\n",
       "    <tr style=\"text-align: right;\">\n",
       "      <th></th>\n",
       "      <th>Nemonicos</th>\n",
       "      <th>Última</th>\n",
       "      <th>Var%</th>\n",
       "    </tr>\n",
       "  </thead>\n",
       "  <tbody>\n",
       "    <tr>\n",
       "      <th>0</th>\n",
       "      <td>DNT</td>\n",
       "      <td>0.123</td>\n",
       "      <td>-5.38%</td>\n",
       "    </tr>\n",
       "    <tr>\n",
       "      <th>1</th>\n",
       "      <td>ATACOBC1</td>\n",
       "      <td>0.065</td>\n",
       "      <td>-4.41%</td>\n",
       "    </tr>\n",
       "  </tbody>\n",
       "</table>\n",
       "</div>"
      ],
      "text/plain": [
       "  Nemonicos Última    Var%\n",
       "0       DNT  0.123  -5.38%\n",
       "1  ATACOBC1  0.065  -4.41%"
      ]
     },
     "execution_count": 214,
     "metadata": {},
     "output_type": "execute_result"
    }
   ],
   "source": [
    "table_path = driver.find_elements(By.XPATH, \"//div[@class='table-wrapper ng-tns-c6-0']\")\n",
    "table_html = table_path[1].get_attribute( 'innerHTML' )\n",
    "table = pd.read_html(table_html)\n",
    "base_bvl  = table[0].loc[table[0]['Var%'].str.contains('^[\\d\\-]', na = False, regex = True)].reset_index()\n",
    "\n",
    "del base_bvl['index']\n",
    "\n",
    "base_bvl "
   ]
  },
  {
   "cell_type": "code",
   "execution_count": 249,
   "id": "40006ca6",
   "metadata": {},
   "outputs": [],
   "source": [
    "# dict para almacenar los tables \n",
    "\n",
    "all_tables = {}\n",
    "\n",
    "variacion = ['Mayor alza','Mayor caída']"
   ]
  },
  {
   "cell_type": "code",
   "execution_count": null,
   "id": "374510b5",
   "metadata": {},
   "outputs": [
    {
     "name": "stdout",
     "output_type": "stream",
     "text": [
      "SEGUROS\n"
     ]
    }
   ],
   "source": [
    "# Loop para extraer tables por cada sector económico\n",
    "\n",
    "for sector in list_sector[1:]:\n",
    "    \n",
    "    print(sector)\n",
    "    \n",
    "    # CLick en la listab despegable\n",
    "    driver.find_elements(By.XPATH, \"//div[@class='g-site-select--label']\")[0].click()\n",
    "    driver.find_elements(By.XPATH, \"//div[contains(text() , {})]\".format(f'\"{sector}\"'))[0].click()\n",
    "    \n",
    "    try:\n",
    "        \n",
    "        table_path = driver.find_elements(By.XPATH, \"//div[@class='table-wrapper ng-tns-c6-0']\")\n",
    "        \n",
    "        print(len(table_path))\n",
    "        \n",
    "        for j in range(2):\n",
    "        \n",
    "        \n",
    "            try:\n",
    "\n",
    "                table_html = table_path[j].get_attribute( 'innerHTML' )\n",
    "                table = pd.read_html(table_html)\n",
    "                base_bvl  = table[0].loc[table[0]['Var%'].str.contains('^[\\d\\-]', na = False, regex = True)].reset_index()\n",
    "                base_bvl['sector'] = sector\n",
    "                ase_bvl['variacion'] = variacion[j]\n",
    "\n",
    "                del base_bvl['index']\n",
    "                \n",
    "                name_data = sector + \"_\" + variacion[j]\n",
    "\n",
    "                all_tables[ name_data ] = base_bvl \n",
    "                \n",
    "                print(j)\n",
    "\n",
    "            except:\n",
    "\n",
    "                pass\n",
    "    \n",
    "    \n",
    "\n",
    "    except:\n",
    "        \n",
    "        pass\n",
    "    \n",
    "    \n",
    "    \n",
    "    \n",
    "    "
   ]
  },
  {
   "cell_type": "code",
   "execution_count": 263,
   "id": "b98b1df1",
   "metadata": {},
   "outputs": [
    {
     "data": {
      "text/plain": [
       "{}"
      ]
     },
     "execution_count": 263,
     "metadata": {},
     "output_type": "execute_result"
    }
   ],
   "source": [
    "all_tables"
   ]
  },
  {
   "cell_type": "code",
   "execution_count": 220,
   "id": "d73a47b6",
   "metadata": {},
   "outputs": [
    {
     "ename": "ValueError",
     "evalue": "No objects to concatenate",
     "output_type": "error",
     "traceback": [
      "\u001b[1;31m---------------------------------------------------------------------------\u001b[0m",
      "\u001b[1;31mValueError\u001b[0m                                Traceback (most recent call last)",
      "Input \u001b[1;32mIn [220]\u001b[0m, in \u001b[0;36m<cell line: 1>\u001b[1;34m()\u001b[0m\n\u001b[1;32m----> 1\u001b[0m final_data \u001b[38;5;241m=\u001b[39m \u001b[43mpd\u001b[49m\u001b[38;5;241;43m.\u001b[39;49m\u001b[43mconcat\u001b[49m\u001b[43m(\u001b[49m\u001b[43m \u001b[49m\u001b[43mall_tables\u001b[49m\u001b[38;5;241;43m.\u001b[39;49m\u001b[43mvalues\u001b[49m\u001b[43m(\u001b[49m\u001b[43m)\u001b[49m\u001b[43m \u001b[49m\u001b[43m)\u001b[49m\u001b[38;5;241m.\u001b[39mreset_index( drop \u001b[38;5;241m=\u001b[39m \u001b[38;5;28;01mTrue\u001b[39;00m )\n\u001b[0;32m      2\u001b[0m final_data\n",
      "File \u001b[1;32m~\\anaconda3\\lib\\site-packages\\pandas\\util\\_decorators.py:311\u001b[0m, in \u001b[0;36mdeprecate_nonkeyword_arguments.<locals>.decorate.<locals>.wrapper\u001b[1;34m(*args, **kwargs)\u001b[0m\n\u001b[0;32m    305\u001b[0m \u001b[38;5;28;01mif\u001b[39;00m \u001b[38;5;28mlen\u001b[39m(args) \u001b[38;5;241m>\u001b[39m num_allow_args:\n\u001b[0;32m    306\u001b[0m     warnings\u001b[38;5;241m.\u001b[39mwarn(\n\u001b[0;32m    307\u001b[0m         msg\u001b[38;5;241m.\u001b[39mformat(arguments\u001b[38;5;241m=\u001b[39marguments),\n\u001b[0;32m    308\u001b[0m         \u001b[38;5;167;01mFutureWarning\u001b[39;00m,\n\u001b[0;32m    309\u001b[0m         stacklevel\u001b[38;5;241m=\u001b[39mstacklevel,\n\u001b[0;32m    310\u001b[0m     )\n\u001b[1;32m--> 311\u001b[0m \u001b[38;5;28;01mreturn\u001b[39;00m func(\u001b[38;5;241m*\u001b[39margs, \u001b[38;5;241m*\u001b[39m\u001b[38;5;241m*\u001b[39mkwargs)\n",
      "File \u001b[1;32m~\\anaconda3\\lib\\site-packages\\pandas\\core\\reshape\\concat.py:347\u001b[0m, in \u001b[0;36mconcat\u001b[1;34m(objs, axis, join, ignore_index, keys, levels, names, verify_integrity, sort, copy)\u001b[0m\n\u001b[0;32m    143\u001b[0m \u001b[38;5;129m@deprecate_nonkeyword_arguments\u001b[39m(version\u001b[38;5;241m=\u001b[39m\u001b[38;5;28;01mNone\u001b[39;00m, allowed_args\u001b[38;5;241m=\u001b[39m[\u001b[38;5;124m\"\u001b[39m\u001b[38;5;124mobjs\u001b[39m\u001b[38;5;124m\"\u001b[39m])\n\u001b[0;32m    144\u001b[0m \u001b[38;5;28;01mdef\u001b[39;00m \u001b[38;5;21mconcat\u001b[39m(\n\u001b[0;32m    145\u001b[0m     objs: Iterable[NDFrame] \u001b[38;5;241m|\u001b[39m Mapping[Hashable, NDFrame],\n\u001b[1;32m   (...)\u001b[0m\n\u001b[0;32m    154\u001b[0m     copy: \u001b[38;5;28mbool\u001b[39m \u001b[38;5;241m=\u001b[39m \u001b[38;5;28;01mTrue\u001b[39;00m,\n\u001b[0;32m    155\u001b[0m ) \u001b[38;5;241m-\u001b[39m\u001b[38;5;241m>\u001b[39m DataFrame \u001b[38;5;241m|\u001b[39m Series:\n\u001b[0;32m    156\u001b[0m     \u001b[38;5;124;03m\"\"\"\u001b[39;00m\n\u001b[0;32m    157\u001b[0m \u001b[38;5;124;03m    Concatenate pandas objects along a particular axis with optional set logic\u001b[39;00m\n\u001b[0;32m    158\u001b[0m \u001b[38;5;124;03m    along the other axes.\u001b[39;00m\n\u001b[1;32m   (...)\u001b[0m\n\u001b[0;32m    345\u001b[0m \u001b[38;5;124;03m    ValueError: Indexes have overlapping values: ['a']\u001b[39;00m\n\u001b[0;32m    346\u001b[0m \u001b[38;5;124;03m    \"\"\"\u001b[39;00m\n\u001b[1;32m--> 347\u001b[0m     op \u001b[38;5;241m=\u001b[39m \u001b[43m_Concatenator\u001b[49m\u001b[43m(\u001b[49m\n\u001b[0;32m    348\u001b[0m \u001b[43m        \u001b[49m\u001b[43mobjs\u001b[49m\u001b[43m,\u001b[49m\n\u001b[0;32m    349\u001b[0m \u001b[43m        \u001b[49m\u001b[43maxis\u001b[49m\u001b[38;5;241;43m=\u001b[39;49m\u001b[43maxis\u001b[49m\u001b[43m,\u001b[49m\n\u001b[0;32m    350\u001b[0m \u001b[43m        \u001b[49m\u001b[43mignore_index\u001b[49m\u001b[38;5;241;43m=\u001b[39;49m\u001b[43mignore_index\u001b[49m\u001b[43m,\u001b[49m\n\u001b[0;32m    351\u001b[0m \u001b[43m        \u001b[49m\u001b[43mjoin\u001b[49m\u001b[38;5;241;43m=\u001b[39;49m\u001b[43mjoin\u001b[49m\u001b[43m,\u001b[49m\n\u001b[0;32m    352\u001b[0m \u001b[43m        \u001b[49m\u001b[43mkeys\u001b[49m\u001b[38;5;241;43m=\u001b[39;49m\u001b[43mkeys\u001b[49m\u001b[43m,\u001b[49m\n\u001b[0;32m    353\u001b[0m \u001b[43m        \u001b[49m\u001b[43mlevels\u001b[49m\u001b[38;5;241;43m=\u001b[39;49m\u001b[43mlevels\u001b[49m\u001b[43m,\u001b[49m\n\u001b[0;32m    354\u001b[0m \u001b[43m        \u001b[49m\u001b[43mnames\u001b[49m\u001b[38;5;241;43m=\u001b[39;49m\u001b[43mnames\u001b[49m\u001b[43m,\u001b[49m\n\u001b[0;32m    355\u001b[0m \u001b[43m        \u001b[49m\u001b[43mverify_integrity\u001b[49m\u001b[38;5;241;43m=\u001b[39;49m\u001b[43mverify_integrity\u001b[49m\u001b[43m,\u001b[49m\n\u001b[0;32m    356\u001b[0m \u001b[43m        \u001b[49m\u001b[43mcopy\u001b[49m\u001b[38;5;241;43m=\u001b[39;49m\u001b[43mcopy\u001b[49m\u001b[43m,\u001b[49m\n\u001b[0;32m    357\u001b[0m \u001b[43m        \u001b[49m\u001b[43msort\u001b[49m\u001b[38;5;241;43m=\u001b[39;49m\u001b[43msort\u001b[49m\u001b[43m,\u001b[49m\n\u001b[0;32m    358\u001b[0m \u001b[43m    \u001b[49m\u001b[43m)\u001b[49m\n\u001b[0;32m    360\u001b[0m     \u001b[38;5;28;01mreturn\u001b[39;00m op\u001b[38;5;241m.\u001b[39mget_result()\n",
      "File \u001b[1;32m~\\anaconda3\\lib\\site-packages\\pandas\\core\\reshape\\concat.py:404\u001b[0m, in \u001b[0;36m_Concatenator.__init__\u001b[1;34m(self, objs, axis, join, keys, levels, names, ignore_index, verify_integrity, copy, sort)\u001b[0m\n\u001b[0;32m    401\u001b[0m     objs \u001b[38;5;241m=\u001b[39m \u001b[38;5;28mlist\u001b[39m(objs)\n\u001b[0;32m    403\u001b[0m \u001b[38;5;28;01mif\u001b[39;00m \u001b[38;5;28mlen\u001b[39m(objs) \u001b[38;5;241m==\u001b[39m \u001b[38;5;241m0\u001b[39m:\n\u001b[1;32m--> 404\u001b[0m     \u001b[38;5;28;01mraise\u001b[39;00m \u001b[38;5;167;01mValueError\u001b[39;00m(\u001b[38;5;124m\"\u001b[39m\u001b[38;5;124mNo objects to concatenate\u001b[39m\u001b[38;5;124m\"\u001b[39m)\n\u001b[0;32m    406\u001b[0m \u001b[38;5;28;01mif\u001b[39;00m keys \u001b[38;5;129;01mis\u001b[39;00m \u001b[38;5;28;01mNone\u001b[39;00m:\n\u001b[0;32m    407\u001b[0m     objs \u001b[38;5;241m=\u001b[39m \u001b[38;5;28mlist\u001b[39m(com\u001b[38;5;241m.\u001b[39mnot_none(\u001b[38;5;241m*\u001b[39mobjs))\n",
      "\u001b[1;31mValueError\u001b[0m: No objects to concatenate"
     ]
    }
   ],
   "source": [
    "final_data = pd.concat( all_tables.values() ).reset_index( drop = True )\n",
    "final_data"
   ]
  },
  {
   "cell_type": "code",
   "execution_count": null,
   "id": "8fd18eaf",
   "metadata": {},
   "outputs": [],
   "source": []
  },
  {
   "cell_type": "code",
   "execution_count": 143,
   "id": "5e793d58",
   "metadata": {},
   "outputs": [
    {
     "data": {
      "text/plain": [
       "\"//div[contains(text() ,'MINERAS')]\""
      ]
     },
     "execution_count": 143,
     "metadata": {},
     "output_type": "execute_result"
    }
   ],
   "source": [
    "\"//div[contains(text() ,'MINERAS')]\""
   ]
  },
  {
   "cell_type": "code",
   "execution_count": 146,
   "id": "c7e50e3e",
   "metadata": {},
   "outputs": [
    {
     "data": {
      "text/plain": [
       "'//div[contains(text() , MINERAS)]'"
      ]
     },
     "execution_count": 146,
     "metadata": {},
     "output_type": "execute_result"
    }
   ],
   "source": [
    "\"//div[contains(text() , {})]\".format(f\"{industry}\")"
   ]
  },
  {
   "cell_type": "code",
   "execution_count": 76,
   "id": "84538ded",
   "metadata": {},
   "outputs": [
    {
     "data": {
      "text/plain": [
       "'div'"
      ]
     },
     "execution_count": 76,
     "metadata": {},
     "output_type": "execute_result"
    }
   ],
   "source": [
    "# extraccción del tag name \n",
    "\n",
    "driver.find_elements(By.XPATH, \"//div[@ctrl='selectSector']\")[0].tag_name"
   ]
  },
  {
   "cell_type": "code",
   "execution_count": 80,
   "id": "28675c73",
   "metadata": {},
   "outputs": [
    {
     "data": {
      "text/plain": [
       "'selectSector'"
      ]
     },
     "execution_count": 80,
     "metadata": {},
     "output_type": "execute_result"
    }
   ],
   "source": [
    "# valor del atributo\n",
    "\n",
    "driver.find_elements(By.XPATH, \"//div[@ctrl='selectSector']\")[0].get_attribute('ctrl')"
   ]
  },
  {
   "cell_type": "code",
   "execution_count": null,
   "id": "47253ff5",
   "metadata": {},
   "outputs": [],
   "source": []
  },
  {
   "cell_type": "code",
   "execution_count": null,
   "id": "eef1657a",
   "metadata": {},
   "outputs": [],
   "source": []
  },
  {
   "cell_type": "code",
   "execution_count": null,
   "id": "87ce5dbb",
   "metadata": {},
   "outputs": [],
   "source": []
  },
  {
   "cell_type": "code",
   "execution_count": null,
   "id": "587b38ba",
   "metadata": {},
   "outputs": [],
   "source": []
  },
  {
   "cell_type": "code",
   "execution_count": null,
   "id": "ce7cbb38",
   "metadata": {},
   "outputs": [],
   "source": []
  },
  {
   "cell_type": "code",
   "execution_count": null,
   "id": "3eefe576",
   "metadata": {},
   "outputs": [],
   "source": []
  },
  {
   "cell_type": "code",
   "execution_count": null,
   "id": "b9ca0780",
   "metadata": {},
   "outputs": [],
   "source": []
  }
 ],
 "metadata": {
  "kernelspec": {
   "display_name": "Python 3 (ipykernel)",
   "language": "python",
   "name": "python3"
  },
  "language_info": {
   "codemirror_mode": {
    "name": "ipython",
    "version": 3
   },
   "file_extension": ".py",
   "mimetype": "text/x-python",
   "name": "python",
   "nbconvert_exporter": "python",
   "pygments_lexer": "ipython3",
   "version": "3.9.7"
  }
 },
 "nbformat": 4,
 "nbformat_minor": 5
}
