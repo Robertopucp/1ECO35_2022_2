{
 "cells": [
  {
   "cell_type": "code",
   "execution_count": 102,
   "id": "565f6a38",
   "metadata": {},
   "outputs": [],
   "source": [
    "#Library\n",
    "# ---\n",
    "# Librerias de selenium \n",
    "\n",
    "from selenium import webdriver\n",
    "from webdriver_manager.chrome import ChromeDriverManager\n",
    "from selenium.webdriver.support.ui import Select  # selccionar opciones de las lista desplegable\n",
    "from selenium.webdriver.common.by import By  # permite seleccionar los elementos en un html\n",
    "from selenium.webdriver.common.keys import Keys  # ingresar datos a un formulario\n",
    "from selenium.common.exceptions import NoSuchElementException\n",
    "# Opciones driver\n",
    "from selenium.webdriver.chrome.options import Options\n",
    "\n",
    "# dataframes\n",
    "import pandas as pd\n",
    "from pandas import json_normalize\n",
    "import numpy as np\n",
    "\n",
    "# Similamos comportamiento humano al añadir tiempos aleatorios\n",
    "import time\n",
    "from time import sleep\n",
    "import random\n",
    "from tqdm import tqdm\n",
    "\n",
    "# Limpear data (tildes sobretodo)\n",
    "import unidecode\n",
    "\n",
    "# Manipular Json files\n",
    "import json\n"
   ]
  },
  {
   "cell_type": "code",
   "execution_count": 150,
   "id": "82a9b18d",
   "metadata": {
    "scrolled": true
   },
   "outputs": [
    {
     "name": "stderr",
     "output_type": "stream",
     "text": [
      "C:\\Users\\Roberto\\AppData\\Local\\Temp\\ipykernel_22708\\2097753898.py:3: DeprecationWarning: executable_path has been deprecated, please pass in a Service object\n",
      "  driver = webdriver.Chrome(\"chromedriver_07.exe\")\n"
     ]
    }
   ],
   "source": [
    "# Open la página\n",
    "\n",
    "driver = webdriver.Chrome(\"chromedriver_07.exe\")\n",
    "driver.get(\"https://www.bumeran.com.pe/\")\n",
    "\n",
    "driver.maximize_window()"
   ]
  },
  {
   "cell_type": "code",
   "execution_count": 151,
   "id": "07e87240",
   "metadata": {},
   "outputs": [],
   "source": [
    "# Click en Puestos_ejecutivo\n",
    "\n",
    "# Full path //*[@id=\"root\"]/div/div[1]/div/div[2]/div/div/div[1]/ul/li[2]/a \n",
    "\n",
    "\n",
    "driver.find_elements(By.XPATH, '//a[@class=\"sc-gFaPwZ curEiY sc-fYxtnH ettxiZ\"]')[1].click()"
   ]
  },
  {
   "cell_type": "code",
   "execution_count": 152,
   "id": "3d94af3d",
   "metadata": {},
   "outputs": [],
   "source": [
    "# Se cambia el driver a nueva ventana abierta\n",
    "\n",
    "driver.switch_to.window(driver.window_handles[1])"
   ]
  },
  {
   "cell_type": "code",
   "execution_count": 153,
   "id": "12baa5eb",
   "metadata": {},
   "outputs": [
    {
     "data": {
      "text/plain": [
       "'https://www.bumeran.com.pe/empleos-seniority-gerencia-alta-gerencia-direccion.html?landing-puestos-ejecutivos=true'"
      ]
     },
     "execution_count": 153,
     "metadata": {},
     "output_type": "execute_result"
    }
   ],
   "source": [
    "# Se pude verificar que el url es de la nueva ventana\n",
    "driver.current_url"
   ]
  },
  {
   "cell_type": "code",
   "execution_count": 154,
   "id": "b1434145",
   "metadata": {},
   "outputs": [],
   "source": [
    "# Objeto que continene todos los avisos \n",
    "\n",
    "listado_de_avisos = driver.find_element(By.ID,\"listado-avisos\")"
   ]
  },
  {
   "cell_type": "code",
   "execution_count": 155,
   "id": "9ac284ee",
   "metadata": {},
   "outputs": [],
   "source": [
    "# almacenamos los urls de cada oferta laboral\n",
    "\n",
    "urls = []\n",
    "links = listado_de_avisos.find_elements(By.TAG_NAME,'a') \n",
    "for link in links[2:]:\n",
    "    urls.append(link.get_attribute('href')) # se extrae el atributo URL "
   ]
  },
  {
   "cell_type": "code",
   "execution_count": 156,
   "id": "5945213e",
   "metadata": {},
   "outputs": [
    {
     "data": {
      "text/plain": [
       "['https://www.bumeran.com.pe/empleos/gerente-comercial-millennials-investments-s.a.c.-1115514542.html',\n",
       " 'https://www.bumeran.com.pe/postulantes/productos/doctorcv',\n",
       " 'https://www.bumeran.com.pe/empleos/gerente-de-tienda-chilis-chiclayo-chilis-1115500497.html',\n",
       " 'https://www.bumeran.com.pe/empleos/gerente-general-sector-textil-y-manufactura-rcs-capital-humano-1115481433.html',\n",
       " 'https://www.bumeran.com.pe/empleos/jefe-de-mejora-operacional-plazo-fijo-minera-chinalco-1115463888.html',\n",
       " 'https://www.bumeran.com.pe/empleos/consultor-de-customer-experience-izo-peru-1115462151.html',\n",
       " 'https://www.bumeran.com.pe/empleos/gerente-de-operaciones-sector-seguridad-bumeran-selecta-1115438357.html',\n",
       " 'https://www.bumeran.com.pe/empleos/directora-general-institucion-educativa-virtus-headhunter-1115524138.html',\n",
       " 'https://www.bumeran.com.pe/empleos/gerente-comercial-trisur-consulting-group-s.a.c.-1115523364.html',\n",
       " 'https://www.bumeran.com.pe/empleos/consultor-de-customer-experience-izo-peru-1115523264.html',\n",
       " 'https://www.bumeran.com.pe/empleos/gerente-general-empresa-de-alimentos-en-lurin-1115523214.html',\n",
       " 'https://www.bumeran.com.pe/empleos/sub-gerente-logistico-experiencia-en-almacenes-1115522415.html',\n",
       " 'https://www.bumeran.com.pe/empleos/marketing-en-area-de-maquillajes-internacionales-san-borja-1115522382.html',\n",
       " 'https://www.bumeran.com.pe/empleos/marketing-en-area-de-maquillajes-internacionales-san-isidro-1115522377.html',\n",
       " 'https://www.bumeran.com.pe/empleos/ventas-en-productos-de-salud-y-belleza-mexicana-miraflores2-1115522375.html',\n",
       " 'https://www.bumeran.com.pe/empleos/digital-business-manager-kam-stefanini-peru-s.a-1115522288.html',\n",
       " 'https://www.bumeran.com.pe/empleos/gerente-comercial-agencia-de-carga-tci-cargo-group-s.a.c.-1115522037.html',\n",
       " 'https://www.bumeran.com.pe/empleos/ventas-en-productos-de-salud-y-belleza-mexicana-barranco-1115521852.html',\n",
       " 'https://www.bumeran.com.pe/empleos/ventas-en-productos-de-belleza-san-borja-1115521837.html',\n",
       " 'https://www.bumeran.com.pe/empleos/gerente-legal-cl-selection-s.a.c.-1115521048.html',\n",
       " 'https://www.bumeran.com.pe/empleos/ingeniero-asistente-residente-mina-subterranea-1115520171.html',\n",
       " 'https://www.bumeran.com.pe/empleos-seniority-gerencia-alta-gerencia-direccion.html?landing-puestos-ejecutivos=true#',\n",
       " 'https://www.bumeran.com.pe/empleos-seniority-gerencia-alta-gerencia-direccion.htmllanding-puestos-ejecutivos=true',\n",
       " 'https://www.bumeran.com.pe/empleos-seniority-gerencia-alta-gerencia-direccion.htmllanding-puestos-ejecutivos=true&page=2',\n",
       " 'https://www.bumeran.com.pe/empleos-seniority-gerencia-alta-gerencia-direccion.htmllanding-puestos-ejecutivos=true&page=3',\n",
       " 'https://www.bumeran.com.pe/empleos-seniority-gerencia-alta-gerencia-direccion.htmllanding-puestos-ejecutivos=true&page=4',\n",
       " 'https://www.bumeran.com.pe/empleos-seniority-gerencia-alta-gerencia-direccion.htmllanding-puestos-ejecutivos=true&page=5',\n",
       " 'https://www.bumeran.com.pe/empleos-seniority-gerencia-alta-gerencia-direccion.htmllanding-puestos-ejecutivos=true&page=7',\n",
       " 'https://www.bumeran.com.pe/empleos-seniority-gerencia-alta-gerencia-direccion.htmllanding-puestos-ejecutivos=true&page=2']"
      ]
     },
     "execution_count": 156,
     "metadata": {},
     "output_type": "execute_result"
    }
   ],
   "source": [
    "urls"
   ]
  },
  {
   "cell_type": "code",
   "execution_count": 157,
   "id": "97e818ca",
   "metadata": {},
   "outputs": [
    {
     "data": {
      "text/plain": [
       "['https://www.bumeran.com.pe/empleos/gerente-comercial-millennials-investments-s.a.c.-1115514542.html',\n",
       " 'https://www.bumeran.com.pe/empleos/gerente-de-tienda-chilis-chiclayo-chilis-1115500497.html',\n",
       " 'https://www.bumeran.com.pe/empleos/gerente-general-sector-textil-y-manufactura-rcs-capital-humano-1115481433.html',\n",
       " 'https://www.bumeran.com.pe/empleos/jefe-de-mejora-operacional-plazo-fijo-minera-chinalco-1115463888.html',\n",
       " 'https://www.bumeran.com.pe/empleos/consultor-de-customer-experience-izo-peru-1115462151.html',\n",
       " 'https://www.bumeran.com.pe/empleos/gerente-de-operaciones-sector-seguridad-bumeran-selecta-1115438357.html',\n",
       " 'https://www.bumeran.com.pe/empleos/directora-general-institucion-educativa-virtus-headhunter-1115524138.html',\n",
       " 'https://www.bumeran.com.pe/empleos/gerente-comercial-trisur-consulting-group-s.a.c.-1115523364.html',\n",
       " 'https://www.bumeran.com.pe/empleos/consultor-de-customer-experience-izo-peru-1115523264.html',\n",
       " 'https://www.bumeran.com.pe/empleos/gerente-general-empresa-de-alimentos-en-lurin-1115523214.html',\n",
       " 'https://www.bumeran.com.pe/empleos/sub-gerente-logistico-experiencia-en-almacenes-1115522415.html',\n",
       " 'https://www.bumeran.com.pe/empleos/marketing-en-area-de-maquillajes-internacionales-san-borja-1115522382.html',\n",
       " 'https://www.bumeran.com.pe/empleos/marketing-en-area-de-maquillajes-internacionales-san-isidro-1115522377.html',\n",
       " 'https://www.bumeran.com.pe/empleos/ventas-en-productos-de-salud-y-belleza-mexicana-miraflores2-1115522375.html',\n",
       " 'https://www.bumeran.com.pe/empleos/digital-business-manager-kam-stefanini-peru-s.a-1115522288.html',\n",
       " 'https://www.bumeran.com.pe/empleos/gerente-comercial-agencia-de-carga-tci-cargo-group-s.a.c.-1115522037.html',\n",
       " 'https://www.bumeran.com.pe/empleos/ventas-en-productos-de-salud-y-belleza-mexicana-barranco-1115521852.html',\n",
       " 'https://www.bumeran.com.pe/empleos/ventas-en-productos-de-belleza-san-borja-1115521837.html',\n",
       " 'https://www.bumeran.com.pe/empleos/gerente-legal-cl-selection-s.a.c.-1115521048.html',\n",
       " 'https://www.bumeran.com.pe/empleos/ingeniero-asistente-residente-mina-subterranea-1115520171.html']"
      ]
     },
     "execution_count": 157,
     "metadata": {},
     "output_type": "execute_result"
    }
   ],
   "source": [
    "# Urls de cada oferta laboral \n",
    "\n",
    "urls = [urls[0]] + urls[2:21] # retiramos el aviso de CV doctor \n",
    "urls \n",
    "\n",
    "# Solo nos quedamos con los links que contiene /empleos/ "
   ]
  },
  {
   "cell_type": "code",
   "execution_count": 14,
   "id": "b0e1d126",
   "metadata": {},
   "outputs": [],
   "source": [
    "# He hecho click en una de las ofertas laborales \n",
    "# Se cambia el driver a la nueva ventana \n",
    "\n",
    "driver.switch_to.window(driver.window_handles[1])"
   ]
  },
  {
   "cell_type": "code",
   "execution_count": 15,
   "id": "4af6f708",
   "metadata": {},
   "outputs": [],
   "source": [
    "# se extrae el titulo del empleo\n",
    "\n",
    "job = driver.find_element(By.XPATH, \"//h1[@class='sc-jxgvnK eOHPZp sc-jKJlTe PCuwg']\").text\n",
    "job = unidecode.unidecode(job).title() # se retira las tildes "
   ]
  },
  {
   "cell_type": "code",
   "execution_count": 18,
   "id": "de50f9af",
   "metadata": {},
   "outputs": [
    {
     "data": {
      "text/plain": [
       "'Gerente Comercial'"
      ]
     },
     "execution_count": 18,
     "metadata": {},
     "output_type": "execute_result"
    }
   ],
   "source": [
    "job "
   ]
  },
  {
   "cell_type": "code",
   "execution_count": 17,
   "id": "99e4e24d",
   "metadata": {},
   "outputs": [
    {
     "data": {
      "text/plain": [
       "'MILLENNIALS INVESTMENTS S.A.C.'"
      ]
     },
     "execution_count": 17,
     "metadata": {},
     "output_type": "execute_result"
    }
   ],
   "source": [
    "# Se extrae el nombre de la empresa \n",
    "\n",
    "company = driver.find_element(By.XPATH, \"//h3[@class='sc-duVqjH dczkmc']\").text\n",
    "company = unidecode.unidecode(company).upper()\n",
    "company"
   ]
  },
  {
   "cell_type": "code",
   "execution_count": 36,
   "id": "81203b73",
   "metadata": {},
   "outputs": [
    {
     "data": {
      "text/plain": [
       "'Publicado hace 5 días'"
      ]
     },
     "execution_count": 36,
     "metadata": {},
     "output_type": "execute_result"
    }
   ],
   "source": [
    "# Click en el icono de tiempo de publicación \n",
    "\n",
    "driver.find_elements(By.XPATH, \"//i[@name='icon-light-clock']/following-sibling::h2\")[0].text\n",
    "# tenemos dos opciones. La primera opción indica hace cuanto tiempo se publico la oferta laboral \n",
    "# accedemos al tag <h2></h2> dentro del tag del icino de tiempo con following-sibling::h2"
   ]
  },
  {
   "cell_type": "code",
   "execution_count": 35,
   "id": "27c8fa5a",
   "metadata": {},
   "outputs": [
    {
     "data": {
      "text/plain": [
       "'Santiago de Surco, Lima, Peru'"
      ]
     },
     "execution_count": 35,
     "metadata": {},
     "output_type": "execute_result"
    }
   ],
   "source": [
    "# Click en el icono ubicación\n",
    "\n",
    "driver.find_elements(By.XPATH, \"//i[@name='icon-light-location-pin']/following-sibling::h2\")[0].text\n",
    "\n",
    "# la primera opción correcponde a la ubicación de interés"
   ]
  },
  {
   "cell_type": "code",
   "execution_count": null,
   "id": "4293cd20",
   "metadata": {
    "scrolled": false
   },
   "outputs": [
    {
     "name": "stderr",
     "output_type": "stream",
     "text": [
      "\r",
      "  0%|                                                                                           | 0/20 [00:00<?, ?it/s]"
     ]
    },
    {
     "name": "stdout",
     "output_type": "stream",
     "text": [
      "Gerente Comercial\n"
     ]
    },
    {
     "name": "stderr",
     "output_type": "stream",
     "text": [
      "\r",
      "  5%|████▏                                                                              | 1/20 [00:06<02:12,  6.96s/it]"
     ]
    },
    {
     "name": "stdout",
     "output_type": "stream",
     "text": [
      "Gerente De Tienda Chili'S Chiclayo\n"
     ]
    },
    {
     "name": "stderr",
     "output_type": "stream",
     "text": [
      "\r",
      " 10%|████████▎                                                                          | 2/20 [00:13<02:03,  6.88s/it]"
     ]
    },
    {
     "name": "stdout",
     "output_type": "stream",
     "text": [
      "Gerente General - Sector Textil Y Manufactura\n"
     ]
    },
    {
     "name": "stderr",
     "output_type": "stream",
     "text": [
      "\r",
      " 15%|████████████▍                                                                      | 3/20 [00:21<02:04,  7.31s/it]"
     ]
    },
    {
     "name": "stdout",
     "output_type": "stream",
     "text": [
      "Jefe De Mejora Operacional - Plazo Fijo\n"
     ]
    },
    {
     "name": "stderr",
     "output_type": "stream",
     "text": [
      "\r",
      " 20%|████████████████▌                                                                  | 4/20 [00:29<01:59,  7.50s/it]"
     ]
    },
    {
     "name": "stdout",
     "output_type": "stream",
     "text": [
      "Consultor De Customer Experience\n"
     ]
    },
    {
     "name": "stderr",
     "output_type": "stream",
     "text": [
      "\r",
      " 25%|████████████████████▊                                                              | 5/20 [00:37<01:53,  7.58s/it]"
     ]
    },
    {
     "name": "stdout",
     "output_type": "stream",
     "text": [
      "Gerente De Operaciones - Sector Seguridad\n"
     ]
    },
    {
     "name": "stderr",
     "output_type": "stream",
     "text": [
      "\r",
      " 30%|████████████████████████▉                                                          | 6/20 [00:44<01:46,  7.64s/it]"
     ]
    },
    {
     "name": "stdout",
     "output_type": "stream",
     "text": [
      "Director(A) General - Institucion Educativa\n"
     ]
    },
    {
     "name": "stderr",
     "output_type": "stream",
     "text": [
      "\r",
      " 35%|█████████████████████████████                                                      | 7/20 [00:52<01:39,  7.67s/it]"
     ]
    },
    {
     "name": "stdout",
     "output_type": "stream",
     "text": [
      "Gerente Comercial\n"
     ]
    },
    {
     "name": "stderr",
     "output_type": "stream",
     "text": [
      "\r",
      " 40%|█████████████████████████████████▏                                                 | 8/20 [00:59<01:28,  7.35s/it]"
     ]
    },
    {
     "name": "stdout",
     "output_type": "stream",
     "text": [
      "Consultor De Customer Experience\n"
     ]
    },
    {
     "name": "stderr",
     "output_type": "stream",
     "text": [
      "\r",
      " 45%|█████████████████████████████████████▎                                             | 9/20 [01:08<01:25,  7.81s/it]"
     ]
    },
    {
     "name": "stdout",
     "output_type": "stream",
     "text": [
      "Gerente General - Empresa De Alimentos En Lurin\n"
     ]
    },
    {
     "name": "stderr",
     "output_type": "stream",
     "text": [
      "\r",
      " 50%|█████████████████████████████████████████                                         | 10/20 [01:14<01:14,  7.47s/it]"
     ]
    },
    {
     "name": "stdout",
     "output_type": "stream",
     "text": [
      "Sub Gerente Logistico - Experiencia En Almacenes\n"
     ]
    },
    {
     "name": "stderr",
     "output_type": "stream",
     "text": [
      "\r",
      " 55%|█████████████████████████████████████████████                                     | 11/20 [01:21<01:05,  7.24s/it]"
     ]
    },
    {
     "name": "stdout",
     "output_type": "stream",
     "text": [
      "Marketing En Area De Maquillajes Internacionales San Borja\n"
     ]
    },
    {
     "name": "stderr",
     "output_type": "stream",
     "text": [
      "\r",
      " 60%|█████████████████████████████████████████████████▏                                | 12/20 [01:30<01:01,  7.69s/it]"
     ]
    },
    {
     "name": "stdout",
     "output_type": "stream",
     "text": [
      "Marketing En Area De Maquillajes Internacionales San Isidro\n"
     ]
    },
    {
     "name": "stderr",
     "output_type": "stream",
     "text": [
      "\r",
      " 65%|█████████████████████████████████████████████████████▎                            | 13/20 [01:38<00:56,  8.01s/it]"
     ]
    },
    {
     "name": "stdout",
     "output_type": "stream",
     "text": [
      "Ventas En Productos De Salud Y Belleza Mexicana Miraflores2\n"
     ]
    },
    {
     "name": "stderr",
     "output_type": "stream",
     "text": [
      "\r",
      " 70%|█████████████████████████████████████████████████████████▍                        | 14/20 [01:45<00:45,  7.63s/it]"
     ]
    },
    {
     "name": "stdout",
     "output_type": "stream",
     "text": [
      "Digital Business Manager (Kam)\n"
     ]
    }
   ],
   "source": [
    "# Diccionario principal \n",
    "\n",
    "all_info = {}\n",
    "all_info['executive_jobs']=[] \n",
    "\n",
    "\n",
    "\n",
    "for url in tqdm(urls):\n",
    "    driver.get(url)\n",
    "    time.sleep(random.randint(3,5)) # tiempo aleatorio\n",
    "    \n",
    "    page = {}  # se crea un diccionaruo vacío \n",
    "    \n",
    "# ------------------------------     HEADERS    -------------------------\n",
    "\n",
    "\n",
    "    # Switch to new page \n",
    "    \n",
    "    \n",
    "    job = driver.find_element(By.XPATH, \"//h1[@class='sc-jxgvnK eOHPZp sc-jKJlTe PCuwg']\").text\n",
    "    job = unidecode.unidecode(job).title()\n",
    "    \n",
    "    print(job)\n",
    "    \n",
    "    # Append\n",
    "    page['JOB_AVAILABLE'] = job\n",
    "\n",
    "    # Location by xpath\n",
    "    company = driver.find_element(By.XPATH, \"//h3[@class='sc-duVqjH dczkmc']\").text\n",
    "    company = unidecode.unidecode(company).upper()  # mayuscula\n",
    "    \n",
    "    # Si la empresa es confidencias\n",
    "    \n",
    "    if company == \"CONFIDENCIAL\":\n",
    "        company = company.lower()\n",
    "\n",
    "    # Append\n",
    "    page['COMPANY'] = company\n",
    "    \n",
    "       \n",
    "# ------------------------------     SECTION RED    -------------------------\n",
    "\n",
    "    # Tiempo de publicación\n",
    "    \n",
    "    publication_date = driver.find_elements(By.XPATH, \"//i[@name='icon-light-clock']/following-sibling::h2\")[0].text\n",
    "    # Append\n",
    "    page['PUBLICATION_DATE'] = publication_date\n",
    "\n",
    "    # Ubicación\n",
    "    location = driver.find_elements(By.XPATH, \"//i[@name='icon-light-location-pin']/following-sibling::h2\")[0].text\n",
    "    location = unidecode.unidecode(location)\n",
    "\n",
    "    # Append\n",
    "    page['LOCATION'] = location\n",
    "    \n",
    "    try:\n",
    "        # Usando XPATH si la ofeta laboral esta dirigido a personas con alguna discapacidad\n",
    "        \n",
    "        disability = driver.find_element(By.XPATH, '//a[@href=\"/empleos-discapacitados-apto.html\"]').text\n",
    "        # Append\n",
    "        page['SUITABLE_FOR_PEOPLE_WITH_DISABILITIES'] = disability\n",
    "    except:\n",
    "        pass\n",
    "#  -------------------------------   SECTION BLUE   ------------------------------\n",
    "\n",
    "\n",
    "    # Tipo de empleo (Full time o part time)\n",
    "    page['SCHEDULES_AVAILABLE'] = driver.find_elements(By.XPATH, \"//i[@name='icon-light-clock']/following-sibling::h2\")[1].text\n",
    "\n",
    "    # Location by xpath using name\n",
    "    try:\n",
    "        money = driver.find_element(By.XPATH, '//i[@name=\"icon-light-money\"]/following-sibling::h2').text\n",
    "    # Append\n",
    "        page['SALARY'] = money\n",
    "        \n",
    "    except:\n",
    "        pass\n",
    "    \n",
    "    # Area laboral \n",
    "    area = driver.find_element(By.XPATH, '//i[@name=\"icon-light-cube\"]/following-sibling::h2').text\n",
    "    area = unidecode.unidecode(area)\n",
    "\n",
    "    # Append\n",
    "    page['AREA'] = area\n",
    "\n",
    "\n",
    "    # Modalidad (presencia o remoto, etc)\n",
    "    modality = driver.find_element(By.XPATH,'//i[@name=\"icon-light-office\"]/following-sibling::h2').text\n",
    "    modality = unidecode.unidecode(modality)\n",
    "    # Append\n",
    "    page['MODALITY_AVAILABLE'] = modality\n",
    "    \n",
    "    all_info['executive_jobs'].append(page) # se añade el diccionario page como un elemento de la lista all_info\n",
    "    \n",
    "   \n",
    "    \n",
    "    time.sleep(3)\n",
    "    \n",
    "driver.close()"
   ]
  },
  {
   "cell_type": "code",
   "execution_count": null,
   "id": "e09178a0",
   "metadata": {},
   "outputs": [],
   "source": [
    "data = json_normalize(all_info['executive_jobs']) # jsaon diccionario dentro de una lista\n",
    "data"
   ]
  },
  {
   "cell_type": "code",
   "execution_count": null,
   "id": "a4884db2",
   "metadata": {
    "scrolled": true
   },
   "outputs": [],
   "source": [
    "# Export df to excel\n",
    "data.to_excel('Bumeran_jobs.xlsx')"
   ]
  },
  {
   "cell_type": "code",
   "execution_count": null,
   "id": "1977cb16",
   "metadata": {},
   "outputs": [],
   "source": [
    "# Export df to Json\n",
    "data.to_json('Bumeran_jobs.json')"
   ]
  }
 ],
 "metadata": {
  "kernelspec": {
   "display_name": "Python 3 (ipykernel)",
   "language": "python",
   "name": "python3"
  },
  "language_info": {
   "codemirror_mode": {
    "name": "ipython",
    "version": 3
   },
   "file_extension": ".py",
   "mimetype": "text/x-python",
   "name": "python",
   "nbconvert_exporter": "python",
   "pygments_lexer": "ipython3",
   "version": "3.10.4"
  },
  "toc": {
   "base_numbering": 1,
   "nav_menu": {},
   "number_sections": true,
   "sideBar": true,
   "skip_h1_title": false,
   "title_cell": "Table of Contents",
   "title_sidebar": "Contents",
   "toc_cell": false,
   "toc_position": {},
   "toc_section_display": true,
   "toc_window_display": false
  }
 },
 "nbformat": 4,
 "nbformat_minor": 5
}
