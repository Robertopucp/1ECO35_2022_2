{
 "cells": [
  {
   "cell_type": "markdown",
   "id": "511b0998",
   "metadata": {},
   "source": [
    "## Web sracpping Página web consulta amigable (MEF)\n",
    "\n"
   ]
  },
  {
   "cell_type": "code",
   "execution_count": 1,
   "id": "9ced2cdf",
   "metadata": {},
   "outputs": [],
   "source": [
    "# import main packages\n",
    "\n",
    "import re  # regex or regular expresion \n",
    "import time  ### time library\n",
    "\n",
    "from selenium import webdriver\n",
    "from selenium.webdriver.common.by import By\n",
    "from selenium.webdriver.common.keys import Keys\n",
    "from selenium.webdriver.support.ui import Select\n",
    "\n",
    "from webdriver_manager.chrome import ChromeDriverManager   ## install Chrome driver simulator\n"
   ]
  },
  {
   "cell_type": "code",
   "execution_count": 5,
   "id": "671a7e54",
   "metadata": {},
   "outputs": [
    {
     "name": "stderr",
     "output_type": "stream",
     "text": [
      "C:\\Users\\Roberto\\AppData\\Local\\Temp\\ipykernel_19520\\2185176457.py:7: DeprecationWarning: executable_path has been deprecated, please pass in a Service object\n",
      "  wd = webdriver.Chrome(\"chromedriver.exe\")\n"
     ]
    }
   ],
   "source": [
    "##############################################################################\n",
    "############# GOBIERNO NACIONAL, REGIONAL Y LOCAL (AGREGADOS) ################\n",
    "\n",
    "# Entrando a ChromeDriver (se puede descargar de https://chromedriver.chromium.org/downloads)\n",
    "# Antes de eso, chequear bien la versión del Chrome que uno tiene\n",
    "\n",
    "wd = webdriver.Chrome(\"chromedriver.exe\")\n",
    "url = \"http://apps5.mineco.gob.pe/transparencia/Navegador/default.aspx\"\n",
    "wd.get( url )\n",
    "\n",
    "wd.maximize_window()"
   ]
  },
  {
   "cell_type": "code",
   "execution_count": 6,
   "id": "7f911a4f",
   "metadata": {},
   "outputs": [
    {
     "name": "stderr",
     "output_type": "stream",
     "text": [
      "C:\\Users\\Roberto\\AppData\\Local\\Temp\\ipykernel_19520\\566541331.py:2: DeprecationWarning: find_element_by_* commands are deprecated. Please use find_element() instead\n",
      "  idn =driver.find_element_by_id(\"ctl00_CPH1_DrpYear\")\n"
     ]
    },
    {
     "ename": "NoSuchWindowException",
     "evalue": "Message: no such window: target window already closed\nfrom unknown error: web view not found\n  (Session info: chrome=107.0.5304.107)\nStacktrace:\nBacktrace:\n\tOrdinal0 [0x00A9ACD3+2075859]\n\tOrdinal0 [0x00A2EE61+1633889]\n\tOrdinal0 [0x0092B7BD+571325]\n\tOrdinal0 [0x00912E1A+470554]\n\tOrdinal0 [0x0097AA0B+895499]\n\tOrdinal0 [0x0098AC96+961686]\n\tOrdinal0 [0x00977136+880950]\n\tOrdinal0 [0x0094FEFD+720637]\n\tOrdinal0 [0x00950F3F+724799]\n\tGetHandleVerifier [0x00D4EED2+2769538]\n\tGetHandleVerifier [0x00D40D95+2711877]\n\tGetHandleVerifier [0x00B2A03A+521194]\n\tGetHandleVerifier [0x00B28DA0+516432]\n\tOrdinal0 [0x00A3682C+1665068]\n\tOrdinal0 [0x00A3B128+1683752]\n\tOrdinal0 [0x00A3B215+1683989]\n\tOrdinal0 [0x00A46484+1729668]\n\tBaseThreadInitThunk [0x75A16939+25]\n\tRtlGetFullPathName_UEx [0x770E8FD2+1218]\n\tRtlGetFullPathName_UEx [0x770E8F9D+1165]\n",
     "output_type": "error",
     "traceback": [
      "\u001b[1;31m---------------------------------------------------------------------------\u001b[0m",
      "\u001b[1;31mNoSuchWindowException\u001b[0m                     Traceback (most recent call last)",
      "Input \u001b[1;32mIn [6]\u001b[0m, in \u001b[0;36m<cell line: 2>\u001b[1;34m()\u001b[0m\n\u001b[0;32m      1\u001b[0m \u001b[38;5;66;03m# bottom año \u001b[39;00m\n\u001b[1;32m----> 2\u001b[0m idn \u001b[38;5;241m=\u001b[39m\u001b[43mdriver\u001b[49m\u001b[38;5;241;43m.\u001b[39;49m\u001b[43mfind_element_by_id\u001b[49m\u001b[43m(\u001b[49m\u001b[38;5;124;43m\"\u001b[39;49m\u001b[38;5;124;43mctl00_CPH1_DrpYear\u001b[39;49m\u001b[38;5;124;43m\"\u001b[39;49m\u001b[43m)\u001b[49m\n",
      "File \u001b[1;32m~\\anaconda3\\lib\\site-packages\\selenium\\webdriver\\remote\\webdriver.py:478\u001b[0m, in \u001b[0;36mWebDriver.find_element_by_id\u001b[1;34m(self, id_)\u001b[0m\n\u001b[0;32m    457\u001b[0m \u001b[38;5;124;03m\"\"\"Finds an element by id.\u001b[39;00m\n\u001b[0;32m    458\u001b[0m \n\u001b[0;32m    459\u001b[0m \u001b[38;5;124;03m:Args:\u001b[39;00m\n\u001b[1;32m   (...)\u001b[0m\n\u001b[0;32m    471\u001b[0m \u001b[38;5;124;03m        element = driver.find_element_by_id('foo')\u001b[39;00m\n\u001b[0;32m    472\u001b[0m \u001b[38;5;124;03m\"\"\"\u001b[39;00m\n\u001b[0;32m    473\u001b[0m warnings\u001b[38;5;241m.\u001b[39mwarn(\n\u001b[0;32m    474\u001b[0m     \u001b[38;5;124m\"\u001b[39m\u001b[38;5;124mfind_element_by_* commands are deprecated. Please use find_element() instead\u001b[39m\u001b[38;5;124m\"\u001b[39m,\n\u001b[0;32m    475\u001b[0m     \u001b[38;5;167;01mDeprecationWarning\u001b[39;00m,\n\u001b[0;32m    476\u001b[0m     stacklevel\u001b[38;5;241m=\u001b[39m\u001b[38;5;241m2\u001b[39m,\n\u001b[0;32m    477\u001b[0m )\n\u001b[1;32m--> 478\u001b[0m \u001b[38;5;28;01mreturn\u001b[39;00m \u001b[38;5;28;43mself\u001b[39;49m\u001b[38;5;241;43m.\u001b[39;49m\u001b[43mfind_element\u001b[49m\u001b[43m(\u001b[49m\u001b[43mby\u001b[49m\u001b[38;5;241;43m=\u001b[39;49m\u001b[43mBy\u001b[49m\u001b[38;5;241;43m.\u001b[39;49m\u001b[43mID\u001b[49m\u001b[43m,\u001b[49m\u001b[43m \u001b[49m\u001b[43mvalue\u001b[49m\u001b[38;5;241;43m=\u001b[39;49m\u001b[43mid_\u001b[49m\u001b[43m)\u001b[49m\n",
      "File \u001b[1;32m~\\anaconda3\\lib\\site-packages\\selenium\\webdriver\\remote\\webdriver.py:1251\u001b[0m, in \u001b[0;36mWebDriver.find_element\u001b[1;34m(self, by, value)\u001b[0m\n\u001b[0;32m   1248\u001b[0m     by \u001b[38;5;241m=\u001b[39m By\u001b[38;5;241m.\u001b[39mCSS_SELECTOR\n\u001b[0;32m   1249\u001b[0m     value \u001b[38;5;241m=\u001b[39m \u001b[38;5;124m'\u001b[39m\u001b[38;5;124m[name=\u001b[39m\u001b[38;5;124m\"\u001b[39m\u001b[38;5;132;01m%s\u001b[39;00m\u001b[38;5;124m\"\u001b[39m\u001b[38;5;124m]\u001b[39m\u001b[38;5;124m'\u001b[39m \u001b[38;5;241m%\u001b[39m value\n\u001b[1;32m-> 1251\u001b[0m \u001b[38;5;28;01mreturn\u001b[39;00m \u001b[38;5;28;43mself\u001b[39;49m\u001b[38;5;241;43m.\u001b[39;49m\u001b[43mexecute\u001b[49m\u001b[43m(\u001b[49m\u001b[43mCommand\u001b[49m\u001b[38;5;241;43m.\u001b[39;49m\u001b[43mFIND_ELEMENT\u001b[49m\u001b[43m,\u001b[49m\u001b[43m \u001b[49m\u001b[43m{\u001b[49m\n\u001b[0;32m   1252\u001b[0m \u001b[43m    \u001b[49m\u001b[38;5;124;43m'\u001b[39;49m\u001b[38;5;124;43musing\u001b[39;49m\u001b[38;5;124;43m'\u001b[39;49m\u001b[43m:\u001b[49m\u001b[43m \u001b[49m\u001b[43mby\u001b[49m\u001b[43m,\u001b[49m\n\u001b[0;32m   1253\u001b[0m \u001b[43m    \u001b[49m\u001b[38;5;124;43m'\u001b[39;49m\u001b[38;5;124;43mvalue\u001b[39;49m\u001b[38;5;124;43m'\u001b[39;49m\u001b[43m:\u001b[49m\u001b[43m \u001b[49m\u001b[43mvalue\u001b[49m\u001b[43m}\u001b[49m\u001b[43m)\u001b[49m[\u001b[38;5;124m'\u001b[39m\u001b[38;5;124mvalue\u001b[39m\u001b[38;5;124m'\u001b[39m]\n",
      "File \u001b[1;32m~\\anaconda3\\lib\\site-packages\\selenium\\webdriver\\remote\\webdriver.py:430\u001b[0m, in \u001b[0;36mWebDriver.execute\u001b[1;34m(self, driver_command, params)\u001b[0m\n\u001b[0;32m    428\u001b[0m response \u001b[38;5;241m=\u001b[39m \u001b[38;5;28mself\u001b[39m\u001b[38;5;241m.\u001b[39mcommand_executor\u001b[38;5;241m.\u001b[39mexecute(driver_command, params)\n\u001b[0;32m    429\u001b[0m \u001b[38;5;28;01mif\u001b[39;00m response:\n\u001b[1;32m--> 430\u001b[0m     \u001b[38;5;28;43mself\u001b[39;49m\u001b[38;5;241;43m.\u001b[39;49m\u001b[43merror_handler\u001b[49m\u001b[38;5;241;43m.\u001b[39;49m\u001b[43mcheck_response\u001b[49m\u001b[43m(\u001b[49m\u001b[43mresponse\u001b[49m\u001b[43m)\u001b[49m\n\u001b[0;32m    431\u001b[0m     response[\u001b[38;5;124m'\u001b[39m\u001b[38;5;124mvalue\u001b[39m\u001b[38;5;124m'\u001b[39m] \u001b[38;5;241m=\u001b[39m \u001b[38;5;28mself\u001b[39m\u001b[38;5;241m.\u001b[39m_unwrap_value(\n\u001b[0;32m    432\u001b[0m         response\u001b[38;5;241m.\u001b[39mget(\u001b[38;5;124m'\u001b[39m\u001b[38;5;124mvalue\u001b[39m\u001b[38;5;124m'\u001b[39m, \u001b[38;5;28;01mNone\u001b[39;00m))\n\u001b[0;32m    433\u001b[0m     \u001b[38;5;28;01mreturn\u001b[39;00m response\n",
      "File \u001b[1;32m~\\anaconda3\\lib\\site-packages\\selenium\\webdriver\\remote\\errorhandler.py:247\u001b[0m, in \u001b[0;36mErrorHandler.check_response\u001b[1;34m(self, response)\u001b[0m\n\u001b[0;32m    245\u001b[0m         alert_text \u001b[38;5;241m=\u001b[39m value[\u001b[38;5;124m'\u001b[39m\u001b[38;5;124malert\u001b[39m\u001b[38;5;124m'\u001b[39m]\u001b[38;5;241m.\u001b[39mget(\u001b[38;5;124m'\u001b[39m\u001b[38;5;124mtext\u001b[39m\u001b[38;5;124m'\u001b[39m)\n\u001b[0;32m    246\u001b[0m     \u001b[38;5;28;01mraise\u001b[39;00m exception_class(message, screen, stacktrace, alert_text)  \u001b[38;5;66;03m# type: ignore[call-arg]  # mypy is not smart enough here\u001b[39;00m\n\u001b[1;32m--> 247\u001b[0m \u001b[38;5;28;01mraise\u001b[39;00m exception_class(message, screen, stacktrace)\n",
      "\u001b[1;31mNoSuchWindowException\u001b[0m: Message: no such window: target window already closed\nfrom unknown error: web view not found\n  (Session info: chrome=107.0.5304.107)\nStacktrace:\nBacktrace:\n\tOrdinal0 [0x00A9ACD3+2075859]\n\tOrdinal0 [0x00A2EE61+1633889]\n\tOrdinal0 [0x0092B7BD+571325]\n\tOrdinal0 [0x00912E1A+470554]\n\tOrdinal0 [0x0097AA0B+895499]\n\tOrdinal0 [0x0098AC96+961686]\n\tOrdinal0 [0x00977136+880950]\n\tOrdinal0 [0x0094FEFD+720637]\n\tOrdinal0 [0x00950F3F+724799]\n\tGetHandleVerifier [0x00D4EED2+2769538]\n\tGetHandleVerifier [0x00D40D95+2711877]\n\tGetHandleVerifier [0x00B2A03A+521194]\n\tGetHandleVerifier [0x00B28DA0+516432]\n\tOrdinal0 [0x00A3682C+1665068]\n\tOrdinal0 [0x00A3B128+1683752]\n\tOrdinal0 [0x00A3B215+1683989]\n\tOrdinal0 [0x00A46484+1729668]\n\tBaseThreadInitThunk [0x75A16939+25]\n\tRtlGetFullPathName_UEx [0x770E8FD2+1218]\n\tRtlGetFullPathName_UEx [0x770E8F9D+1165]\n"
     ]
    }
   ],
   "source": [
    "# bottom año \n",
    "idn =driver.find_element_by_id(\"ctl00_CPH1_DrpYear\")\n",
    "\n",
    "# Error por que el contenido estpa dentro de otra página web "
   ]
  },
  {
   "cell_type": "code",
   "execution_count": 7,
   "id": "11388519",
   "metadata": {},
   "outputs": [
    {
     "name": "stderr",
     "output_type": "stream",
     "text": [
      "C:\\Users\\Roberto\\AppData\\Local\\Temp\\ipykernel_19520\\2771775919.py:3: DeprecationWarning: find_element_by_* commands are deprecated. Please use find_element() instead\n",
      "  frame = wd.find_element_by_id(\"frame0\")\n",
      "C:\\Users\\Roberto\\AppData\\Local\\Temp\\ipykernel_19520\\2771775919.py:10: DeprecationWarning: find_element_by_* commands are deprecated. Please use find_element() instead\n",
      "  periodo = Select(wd.find_element_by_id(\"ctl00_CPH1_DrpYear\"))\n",
      "C:\\Users\\Roberto\\AppData\\Local\\Temp\\ipykernel_19520\\2771775919.py:18: DeprecationWarning: find_element_by_* commands are deprecated. Please use find_element() instead\n",
      "  frame = wd.find_element_by_id(\"frame0\")\n"
     ]
    }
   ],
   "source": [
    "# select Frame and select year option \n",
    "\n",
    "frame = wd.find_element_by_id(\"frame0\")\n",
    "wd.switch_to.frame(frame)\n",
    "\n",
    "time.sleep(1.5)\n",
    "\n",
    "# selecionamos el año 2016\n",
    "\n",
    "periodo = Select(wd.find_element_by_id(\"ctl00_CPH1_DrpYear\"))\n",
    "periodo.select_by_value(str(2016))\n",
    "\n",
    "\n",
    "time.sleep(2)\n",
    "\n",
    "# Se debe seleccionar la pagina web interna otr avez \n",
    "\n",
    "frame = wd.find_element_by_id(\"frame0\")\n",
    "wd.switch_to.frame(frame)"
   ]
  },
  {
   "cell_type": "code",
   "execution_count": 9,
   "id": "f650bb32",
   "metadata": {},
   "outputs": [
    {
     "name": "stderr",
     "output_type": "stream",
     "text": [
      "C:\\Users\\Roberto\\AppData\\Local\\Temp\\ipykernel_19520\\2116795948.py:3: DeprecationWarning: find_element_by_name is deprecated. Please use find_element(by=By.NAME, value=name) instead\n",
      "  niv_gob = wd.find_element_by_name(\"ctl00$CPH1$BtnTipoGobierno\")\n",
      "C:\\Users\\Roberto\\AppData\\Local\\Temp\\ipykernel_19520\\2116795948.py:10: DeprecationWarning: find_element_by_xpath is deprecated. Please use find_element(by=By.XPATH, value=xpath) instead\n",
      "  wd.find_element_by_xpath(\"//*[@id='tr0']/td[1]\").click()\n"
     ]
    }
   ],
   "source": [
    "# click en el tipo de gobierno \n",
    "\n",
    "niv_gob = wd.find_element_by_name(\"ctl00$CPH1$BtnTipoGobierno\")\n",
    "niv_gob.click()\n",
    "\n",
    "time.sleep(1.5)\n",
    "\n",
    "# Seleccion en gobierno locales\n",
    "\n",
    "wd.find_element_by_xpath(\"//*[@id='tr0']/td[2]\").click()"
   ]
  },
  {
   "cell_type": "code",
   "execution_count": 12,
   "id": "7fe5160f",
   "metadata": {},
   "outputs": [
    {
     "name": "stderr",
     "output_type": "stream",
     "text": [
      "C:\\Users\\Roberto\\AppData\\Local\\Temp\\ipykernel_19520\\3061119188.py:2: DeprecationWarning: executable_path has been deprecated, please pass in a Service object\n",
      "  wd = webdriver.Chrome(\"chromedriver.exe\")\n"
     ]
    },
    {
     "name": "stdout",
     "output_type": "stream",
     "text": [
      "2015\n"
     ]
    },
    {
     "name": "stderr",
     "output_type": "stream",
     "text": [
      "C:\\Users\\Roberto\\AppData\\Local\\Temp\\ipykernel_19520\\3061119188.py:11: DeprecationWarning: find_element_by_* commands are deprecated. Please use find_element() instead\n",
      "  frame = wd.find_element_by_id(\"frame0\")\n",
      "C:\\Users\\Roberto\\AppData\\Local\\Temp\\ipykernel_19520\\3061119188.py:14: DeprecationWarning: find_element_by_* commands are deprecated. Please use find_element() instead\n",
      "  periodo = Select(wd.find_element_by_id(\"ctl00_CPH1_DrpYear\"))\n",
      "C:\\Users\\Roberto\\AppData\\Local\\Temp\\ipykernel_19520\\3061119188.py:19: DeprecationWarning: find_element_by_* commands are deprecated. Please use find_element() instead\n",
      "  frame = wd.find_element_by_id(\"frame0\")\n",
      "C:\\Users\\Roberto\\AppData\\Local\\Temp\\ipykernel_19520\\3061119188.py:22: DeprecationWarning: find_element_by_name is deprecated. Please use find_element(by=By.NAME, value=name) instead\n",
      "  niv_gob = wd.find_element_by_name(\"ctl00$CPH1$BtnTipoGobierno\")\n",
      "C:\\Users\\Roberto\\AppData\\Local\\Temp\\ipykernel_19520\\3061119188.py:27: DeprecationWarning: find_element_by_xpath is deprecated. Please use find_element(by=By.XPATH, value=xpath) instead\n",
      "  gob_nac = wd.find_element_by_xpath(\"//*[@id='tr0']/td[2]\").click()\n",
      "C:\\Users\\Roberto\\AppData\\Local\\Temp\\ipykernel_19520\\3061119188.py:33: DeprecationWarning: find_element_by_* commands are deprecated. Please use find_element() instead\n",
      "  wd.find_element_by_id(\"ctl00_CPH1_BtnFuncion\").click()\n",
      "C:\\Users\\Roberto\\AppData\\Local\\Temp\\ipykernel_19520\\3061119188.py:39: DeprecationWarning: find_element_by_xpath is deprecated. Please use find_element(by=By.XPATH, value=xpath) instead\n",
      "  funcion = wd.find_element_by_xpath(\"//*[@id='tr6']/td[1]\").click()\n",
      "C:\\Users\\Roberto\\AppData\\Local\\Temp\\ipykernel_19520\\3061119188.py:46: DeprecationWarning: find_element_by_name is deprecated. Please use find_element(by=By.NAME, value=name) instead\n",
      "  dptos = wd.find_element_by_name(\"ctl00$CPH1$BtnDepartamentoMeta\")\n",
      "C:\\Users\\Roberto\\AppData\\Local\\Temp\\ipykernel_19520\\3061119188.py:57: DeprecationWarning: find_element_by_xpath is deprecated. Please use find_element(by=By.XPATH, value=xpath) instead\n",
      "  region = wd.find_element_by_xpath(\"//*[@id='tr\"+str(i)+\"']/td[2]\").text\n",
      "C:\\Users\\Roberto\\AppData\\Local\\Temp\\ipykernel_19520\\3061119188.py:60: DeprecationWarning: find_element_by_* commands are deprecated. Please use find_element() instead\n",
      "  wd.find_element_by_id(\"tr\"+str(i)+\"\").click()\n"
     ]
    },
    {
     "name": "stdout",
     "output_type": "stream",
     "text": [
      "03: APURIMAC\n"
     ]
    },
    {
     "name": "stderr",
     "output_type": "stream",
     "text": [
      "C:\\Users\\Roberto\\AppData\\Local\\Temp\\ipykernel_19520\\3061119188.py:68: DeprecationWarning: find_element_by_* commands are deprecated. Please use find_element() instead\n",
      "  wd.find_element_by_id(\"ctl00_CPH1_BtnProdProy\").click()\n",
      "C:\\Users\\Roberto\\AppData\\Local\\Temp\\ipykernel_19520\\3061119188.py:71: DeprecationWarning: find_element_by_* commands are deprecated. Please use find_element() instead\n",
      "  d_excel = wd.find_element_by_id(\"ctl00_CPH1_lbtnExportar\").click()\n",
      "C:\\Users\\Roberto\\AppData\\Local\\Temp\\ipykernel_19520\\3061119188.py:76: DeprecationWarning: find_element_by_xpath is deprecated. Please use find_element(by=By.XPATH, value=xpath) instead\n",
      "  otro_dep = wd.find_element_by_xpath('//*[@id=\"ctl00_CPH1_RptHistory_ctl04_TD0\"]')\n"
     ]
    },
    {
     "name": "stdout",
     "output_type": "stream",
     "text": [
      "05: AYACUCHO\n",
      "06: CAJAMARCA\n",
      "2016\n"
     ]
    },
    {
     "ename": "KeyboardInterrupt",
     "evalue": "",
     "output_type": "error",
     "traceback": [
      "\u001b[1;31m---------------------------------------------------------------------------\u001b[0m",
      "\u001b[1;31mKeyboardInterrupt\u001b[0m                         Traceback (most recent call last)",
      "Input \u001b[1;32mIn [12]\u001b[0m, in \u001b[0;36m<cell line: 5>\u001b[1;34m()\u001b[0m\n\u001b[0;32m     31\u001b[0m \u001b[38;5;66;03m# Seleccionando Función (en este caso: Agropecuaria)\u001b[39;00m\n\u001b[0;32m     33\u001b[0m wd\u001b[38;5;241m.\u001b[39mfind_element_by_id(\u001b[38;5;124m\"\u001b[39m\u001b[38;5;124mctl00_CPH1_BtnFuncion\u001b[39m\u001b[38;5;124m\"\u001b[39m)\u001b[38;5;241m.\u001b[39mclick()\n\u001b[1;32m---> 35\u001b[0m \u001b[43mtime\u001b[49m\u001b[38;5;241;43m.\u001b[39;49m\u001b[43msleep\u001b[49m\u001b[43m(\u001b[49m\u001b[38;5;241;43m2\u001b[39;49m\u001b[43m)\u001b[49m\n\u001b[0;32m     37\u001b[0m \u001b[38;5;66;03m# Seleccionar agropecuaria \u001b[39;00m\n\u001b[0;32m     39\u001b[0m funcion \u001b[38;5;241m=\u001b[39m wd\u001b[38;5;241m.\u001b[39mfind_element_by_xpath(\u001b[38;5;124m\"\u001b[39m\u001b[38;5;124m//*[@id=\u001b[39m\u001b[38;5;124m'\u001b[39m\u001b[38;5;124mtr6\u001b[39m\u001b[38;5;124m'\u001b[39m\u001b[38;5;124m]/td[1]\u001b[39m\u001b[38;5;124m\"\u001b[39m)\u001b[38;5;241m.\u001b[39mclick() \n",
      "\u001b[1;31mKeyboardInterrupt\u001b[0m: "
     ]
    }
   ],
   "source": [
    "\n",
    "# Preparando el bucle: Gobierno Local\n",
    "wd = webdriver.Chrome(\"chromedriver.exe\")\n",
    "wd.maximize_window()\n",
    "\n",
    "for k in range(2015, 2021): # En este caso se colocaron los años 2015 - 2020\n",
    "    wd.get(\"http://apps5.mineco.gob.pe/transparencia/Navegador/default.aspx\")\n",
    "    \n",
    "    print(k)    \n",
    "    \n",
    "    # Escogiendo el año en el desplegable (luego hacer bucle por año)\n",
    "    frame = wd.find_element_by_id(\"frame0\")\n",
    "    wd.switch_to.frame(frame)\n",
    "    \n",
    "    periodo = Select(wd.find_element_by_id(\"ctl00_CPH1_DrpYear\"))\n",
    "    \n",
    "    periodo.select_by_value(str(k))\n",
    "    \n",
    "    # Para escoger el nivel de gobierno que ejecuta los proyectos: Nacional\n",
    "    frame = wd.find_element_by_id(\"frame0\")\n",
    "    wd.switch_to.frame(frame)\n",
    "    \n",
    "    niv_gob = wd.find_element_by_name(\"ctl00$CPH1$BtnTipoGobierno\")\n",
    "    niv_gob.click()\n",
    "    \n",
    "    time.sleep(1.5)\n",
    "    \n",
    "    gob_nac = wd.find_element_by_xpath(\"//*[@id='tr0']/td[2]\").click()\n",
    "    \n",
    "    time.sleep(1.5)\n",
    "    \n",
    "    # Seleccionando Función (en este caso: Agropecuaria)\n",
    "    \n",
    "    wd.find_element_by_id(\"ctl00_CPH1_BtnFuncion\").click()\n",
    "    \n",
    "    time.sleep(2)\n",
    "    \n",
    "    # Seleccionar agropecuaria \n",
    "    \n",
    "    funcion = wd.find_element_by_xpath(\"//*[@id='tr6']/td[1]\").click() \n",
    "\n",
    "    time.sleep(1.5)\n",
    "    \n",
    "    # Seleccionando Función Agropecuaria (por orden alfabético)\n",
    "   \n",
    "    # Seleccionando opción de Departamento\n",
    "    dptos = wd.find_element_by_name(\"ctl00$CPH1$BtnDepartamentoMeta\")\n",
    "    dptos.click()\n",
    "     \n",
    "        \n",
    "    time.sleep(2)\n",
    "        \n",
    "    lista_regiones = [2, 4, 5] # En este caso se seleccionaron 3 departamentos: Apurímac, Ayacucho y Cajamarca\n",
    "\n",
    "    \n",
    "    # Preparando bucle para ir por cada departamento\n",
    "    for i in lista_regiones: \n",
    "        region = wd.find_element_by_xpath(\"//*[@id='tr\"+str(i)+\"']/td[2]\").text\n",
    "        print(region) # Extrae el texto de la opción y lo muestra en la consola (para orden)\n",
    "        \n",
    "        wd.find_element_by_id(\"tr\"+str(i)+\"\").click()\n",
    "              \n",
    "        time.sleep(3)\n",
    "        \n",
    "        # Seleccionando Proyectos\n",
    "        \n",
    "        time.sleep(3)\n",
    "        \n",
    "        wd.find_element_by_id(\"ctl00_CPH1_BtnProdProy\").click()\n",
    "        \n",
    "        # Descargando los archivos de Excel\n",
    "        d_excel = wd.find_element_by_id(\"ctl00_CPH1_lbtnExportar\").click()\n",
    "       \n",
    "        time.sleep(3)\n",
    "    \n",
    "        # Volver para cambiar de Departamento\n",
    "        otro_dep = wd.find_element_by_xpath('//*[@id=\"ctl00_CPH1_RptHistory_ctl04_TD0\"]')\n",
    "        otro_dep.click()\n",
    "        \n",
    "        time.sleep(3)\n",
    "        \n"
   ]
  }
 ],
 "metadata": {
  "kernelspec": {
   "display_name": "Python 3 (ipykernel)",
   "language": "python",
   "name": "python3"
  },
  "language_info": {
   "codemirror_mode": {
    "name": "ipython",
    "version": 3
   },
   "file_extension": ".py",
   "mimetype": "text/x-python",
   "name": "python",
   "nbconvert_exporter": "python",
   "pygments_lexer": "ipython3",
   "version": "3.9.7"
  }
 },
 "nbformat": 4,
 "nbformat_minor": 5
}
