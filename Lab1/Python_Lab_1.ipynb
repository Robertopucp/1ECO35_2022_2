{
 "cells": [
  {
   "cell_type": "markdown",
   "metadata": {},
   "source": [
    "# Laboratorio 1 Python\n",
    "\n",
    "## <a id='1.0'> 1.0 Types of variables  </a> \n"
   ]
  },
  {
   "cell_type": "code",
   "execution_count": 12,
   "metadata": {
    "scrolled": false
   },
   "outputs": [
    {
     "data": {
      "text/plain": [
       "float"
      ]
     },
     "execution_count": 12,
     "metadata": {},
     "output_type": "execute_result"
    }
   ],
   "source": [
    "a1 = 3.141\n",
    "a1 = 3.141\n",
    "a1 = 3.141\n",
    "a1 = 3.141\n",
    "a1 = 3.141\n",
    "a1 = 3.141\n",
    "a1 = 3.141\n",
    "a1 = 3.141\n",
    "a1 = 3.141\n",
    "\n",
    "type(a1)\n",
    "\n",
    "## Ctrl + Enter"
   ]
  },
  {
   "cell_type": "code",
   "execution_count": null,
   "metadata": {},
   "outputs": [],
   "source": [
    "# Añadir nueva liena de codigo botón: B \n",
    "# Borrar linea de codigo con: DD\n",
    "# recuperar : Z\n",
    "\n",
    "# pasar de código a comentario : Ctrl + /\n",
    "\n",
    "# unir celdas de código : Shift + M\n",
    "# dividir celdas de código : Ctrl + Shit + -\n",
    "\n",
    "# seleccionar varias lineas de codigo  Shift + tecla hacia abajo o arriba \n"
   ]
  },
  {
   "cell_type": "code",
   "execution_count": 17,
   "metadata": {},
   "outputs": [
    {
     "data": {
      "text/plain": [
       "int"
      ]
     },
     "execution_count": 17,
     "metadata": {},
     "output_type": "execute_result"
    }
   ],
   "source": [
    "# from float to int \n",
    "\n",
    "c = int(a1)\n",
    "type(c)"
   ]
  },
  {
   "cell_type": "code",
   "execution_count": 18,
   "metadata": {},
   "outputs": [
    {
     "data": {
      "text/plain": [
       "int"
      ]
     },
     "execution_count": 18,
     "metadata": {},
     "output_type": "execute_result"
    }
   ],
   "source": [
    "b1 = 10000\n",
    "type(b1)\n",
    "\n",
    "# from int to float \n",
    "\n",
    "float(b1)\n",
    "\n",
    "b2 = 8\n",
    "type(b2)"
   ]
  },
  {
   "cell_type": "code",
   "execution_count": 20,
   "metadata": {},
   "outputs": [
    {
     "name": "stdout",
     "output_type": "stream",
     "text": [
      "My first python code\n"
     ]
    },
    {
     "data": {
      "text/plain": [
       "str"
      ]
     },
     "execution_count": 20,
     "metadata": {},
     "output_type": "execute_result"
    }
   ],
   "source": [
    "c1 = \"My first python code\"  # \"My first python code\" usando doble comilla\n",
    "print(c1)  # show that varaible's content\n",
    "type(c1) # providing varaibles's type "
   ]
  },
  {
   "cell_type": "code",
   "execution_count": 21,
   "metadata": {},
   "outputs": [
    {
     "name": "stdout",
     "output_type": "stream",
     "text": [
      "First python code \n",
      " at R y python Class\n"
     ]
    }
   ],
   "source": [
    "# including a space using \\n\n",
    "\n",
    "c1 = \"First python code\"\n",
    "c2 = \"at R y python Class\"\n",
    "print(c1,'\\n',c2)"
   ]
  },
  {
   "cell_type": "code",
   "execution_count": 22,
   "metadata": {},
   "outputs": [
    {
     "name": "stdout",
     "output_type": "stream",
     "text": [
      "First python code : at R y python Class\n"
     ]
    }
   ],
   "source": [
    "# join string \n",
    "\n",
    "print(c1 + \" : \" + c2)"
   ]
  },
  {
   "cell_type": "code",
   "execution_count": 23,
   "metadata": {},
   "outputs": [
    {
     "name": "stdout",
     "output_type": "stream",
     "text": [
      "First python code : semester 2022-1\n"
     ]
    }
   ],
   "source": [
    "# f-string\n",
    "\n",
    "print(f'{c1} : semester 2022-1')\n",
    "\n"
   ]
  },
  {
   "cell_type": "code",
   "execution_count": 24,
   "metadata": {},
   "outputs": [],
   "source": [
    "d = 2022"
   ]
  },
  {
   "cell_type": "code",
   "execution_count": 25,
   "metadata": {
    "scrolled": true
   },
   "outputs": [
    {
     "name": "stdout",
     "output_type": "stream",
     "text": [
      "First python code : semester 2022-1\n"
     ]
    }
   ],
   "source": [
    "print(f'{c1} : semester {d}-1')"
   ]
  },
  {
   "cell_type": "code",
   "execution_count": 23,
   "metadata": {},
   "outputs": [
    {
     "name": "stdout",
     "output_type": "stream",
     "text": [
      "First python code : semester 2022-1\n"
     ]
    }
   ],
   "source": [
    "print('{} : semester {}-1'.format(c1,d))"
   ]
  },
  {
   "cell_type": "code",
   "execution_count": 25,
   "metadata": {},
   "outputs": [
    {
     "data": {
      "text/plain": [
       "'First'"
      ]
     },
     "execution_count": 25,
     "metadata": {},
     "output_type": "execute_result"
    }
   ],
   "source": [
    "# Substr elements from string\n",
    "\n",
    "c1[0:5]"
   ]
  },
  {
   "cell_type": "code",
   "execution_count": 17,
   "metadata": {},
   "outputs": [
    {
     "name": "stdout",
     "output_type": "stream",
     "text": [
      "Fisrt letter is : F\n"
     ]
    }
   ],
   "source": [
    "#first character\n",
    "print('Fisrt letter is :',c1[0])"
   ]
  },
  {
   "cell_type": "code",
   "execution_count": 35,
   "metadata": {},
   "outputs": [
    {
     "name": "stdout",
     "output_type": "stream",
     "text": [
      "Fisrt word is : First\n"
     ]
    }
   ],
   "source": [
    "#first word\n",
    "print('Fisrt word is :',c1[0:5])"
   ]
  },
  {
   "cell_type": "markdown",
   "metadata": {},
   "source": [
    "## <a id='1.2'> 1.2 Boolean  </a> \n",
    "\n",
    "It’s used to represent the truth value of an expression."
   ]
  },
  {
   "cell_type": "code",
   "execution_count": 26,
   "metadata": {
    "scrolled": false
   },
   "outputs": [
    {
     "data": {
      "text/plain": [
       "True"
      ]
     },
     "execution_count": 26,
     "metadata": {},
     "output_type": "execute_result"
    }
   ],
   "source": [
    "\"a\" == \"a\""
   ]
  },
  {
   "cell_type": "code",
   "execution_count": 27,
   "metadata": {},
   "outputs": [
    {
     "data": {
      "text/plain": [
       "False"
      ]
     },
     "execution_count": 27,
     "metadata": {},
     "output_type": "execute_result"
    }
   ],
   "source": [
    "1 > 1"
   ]
  },
  {
   "cell_type": "code",
   "execution_count": 28,
   "metadata": {},
   "outputs": [
    {
     "data": {
      "text/plain": [
       "True"
      ]
     },
     "execution_count": 28,
     "metadata": {},
     "output_type": "execute_result"
    }
   ],
   "source": [
    "z1 = (1==1)\n",
    "z1 "
   ]
  },
  {
   "cell_type": "code",
   "execution_count": 29,
   "metadata": {},
   "outputs": [
    {
     "data": {
      "text/plain": [
       "1"
      ]
     },
     "execution_count": 29,
     "metadata": {},
     "output_type": "execute_result"
    }
   ],
   "source": [
    "int(z1)  # true is 1 in numerical system"
   ]
  },
  {
   "cell_type": "code",
   "execution_count": 30,
   "metadata": {},
   "outputs": [
    {
     "data": {
      "text/plain": [
       "0"
      ]
     },
     "execution_count": 30,
     "metadata": {},
     "output_type": "execute_result"
    }
   ],
   "source": [
    "z2 = (10 > 20) \n",
    "int(z2) # false is 0 in numerical system"
   ]
  },
  {
   "cell_type": "markdown",
   "metadata": {},
   "source": [
    "## <a id='1.3'> 1.3 Tuple  </a> \n",
    "\n",
    "It is an ordered and immutable Python object"
   ]
  },
  {
   "cell_type": "code",
   "execution_count": 31,
   "metadata": {},
   "outputs": [
    {
     "data": {
      "text/plain": [
       "tuple"
      ]
     },
     "execution_count": 31,
     "metadata": {},
     "output_type": "execute_result"
    }
   ],
   "source": [
    "T1 = (1,4,8,10,20,15,4,5,3,8)\n",
    "\n",
    "type(T1)"
   ]
  },
  {
   "cell_type": "code",
   "execution_count": 52,
   "metadata": {},
   "outputs": [
    {
     "name": "stdout",
     "output_type": "stream",
     "text": [
      "Suma: 78 \n",
      " Minimo: 1 \n",
      " Maximo: 20\n"
     ]
    }
   ],
   "source": [
    "# aritmethic operations\n",
    "\n",
    "print('Suma:', sum(T1),\"\\n\", \"Minimo:\", min(T1), '\\n', \"Maximo:\", max(T1))"
   ]
  },
  {
   "cell_type": "code",
   "execution_count": 53,
   "metadata": {},
   "outputs": [
    {
     "data": {
      "text/plain": [
       "10"
      ]
     },
     "execution_count": 53,
     "metadata": {},
     "output_type": "execute_result"
    }
   ],
   "source": [
    "len(T1) # lenght of tuple"
   ]
  },
  {
   "cell_type": "markdown",
   "metadata": {},
   "source": [
    "### Indexing Tuple"
   ]
  },
  {
   "cell_type": "code",
   "execution_count": 32,
   "metadata": {},
   "outputs": [
    {
     "data": {
      "text/plain": [
       "4"
      ]
     },
     "execution_count": 32,
     "metadata": {},
     "output_type": "execute_result"
    }
   ],
   "source": [
    "T1 = (1,4,8,10,20,15,4,5,3,8)\n",
    "\n",
    "####  0,1,2, 3, 4 \n",
    "\n",
    "T1[0]\n",
    "\n"
   ]
  },
  {
   "cell_type": "code",
   "execution_count": 62,
   "metadata": {},
   "outputs": [
    {
     "data": {
      "text/plain": [
       "(1, 4, 8, 10, 20)"
      ]
     },
     "execution_count": 62,
     "metadata": {},
     "output_type": "execute_result"
    }
   ],
   "source": [
    "T1[0:5] # desde la posición 0 hasta el 4 "
   ]
  },
  {
   "cell_type": "code",
   "execution_count": 30,
   "metadata": {},
   "outputs": [
    {
     "data": {
      "text/plain": [
       "4"
      ]
     },
     "execution_count": 30,
     "metadata": {},
     "output_type": "execute_result"
    }
   ],
   "source": [
    "T1[1] # get tuple's element "
   ]
  },
  {
   "cell_type": "code",
   "execution_count": 31,
   "metadata": {},
   "outputs": [
    {
     "data": {
      "text/plain": [
       "(1, 4, 8)"
      ]
     },
     "execution_count": 31,
     "metadata": {},
     "output_type": "execute_result"
    }
   ],
   "source": [
    "T1[0:3]\n"
   ]
  },
  {
   "cell_type": "code",
   "execution_count": 33,
   "metadata": {},
   "outputs": [
    {
     "ename": "TypeError",
     "evalue": "'tuple' object does not support item assignment",
     "output_type": "error",
     "traceback": [
      "\u001b[1;31m---------------------------------------------------------------------------\u001b[0m",
      "\u001b[1;31mTypeError\u001b[0m                                 Traceback (most recent call last)",
      "Input \u001b[1;32mIn [33]\u001b[0m, in \u001b[0;36m<cell line: 2>\u001b[1;34m()\u001b[0m\n\u001b[0;32m      1\u001b[0m \u001b[38;5;66;03m# It is not possible to change\u001b[39;00m\n\u001b[1;32m----> 2\u001b[0m T1[\u001b[38;5;241m0\u001b[39m] \u001b[38;5;241m=\u001b[39m \u001b[38;5;241m4\u001b[39m\n",
      "\u001b[1;31mTypeError\u001b[0m: 'tuple' object does not support item assignment"
     ]
    }
   ],
   "source": [
    "# It is not possible to change\n",
    "T1[0] = 4"
   ]
  },
  {
   "cell_type": "code",
   "execution_count": 35,
   "metadata": {},
   "outputs": [
    {
     "data": {
      "text/plain": [
       "(5, 3)"
      ]
     },
     "execution_count": 35,
     "metadata": {},
     "output_type": "execute_result"
    }
   ],
   "source": [
    "T1 = (1,4,8,10,20,15,4,5,3,8)\n",
    "#                   -3,-2,-1\n",
    "T1[-3:-1]"
   ]
  },
  {
   "cell_type": "code",
   "execution_count": 36,
   "metadata": {},
   "outputs": [
    {
     "data": {
      "text/plain": [
       "2"
      ]
     },
     "execution_count": 36,
     "metadata": {},
     "output_type": "execute_result"
    }
   ],
   "source": [
    "#position\n",
    "T1.index(8)"
   ]
  },
  {
   "cell_type": "markdown",
   "metadata": {},
   "source": [
    "## <a id='1.4'> 1.4 List  </a> \n",
    "\n",
    "#### It is an ordered and mutable Python container."
   ]
  },
  {
   "cell_type": "code",
   "execution_count": 31,
   "metadata": {},
   "outputs": [
    {
     "name": "stdout",
     "output_type": "stream",
     "text": [
      "[]\n"
     ]
    },
    {
     "data": {
      "text/plain": [
       "list"
      ]
     },
     "execution_count": 31,
     "metadata": {},
     "output_type": "execute_result"
    }
   ],
   "source": [
    "L1 = []\n",
    "print(L1)\n",
    "type(L1)"
   ]
  },
  {
   "cell_type": "code",
   "execution_count": 37,
   "metadata": {},
   "outputs": [
    {
     "data": {
      "text/plain": [
       "['ATE', 'BARRANCO', 'BREÑA', 'CALLAO', 'CARABAYLLO']"
      ]
     },
     "execution_count": 37,
     "metadata": {},
     "output_type": "execute_result"
    }
   ],
   "source": [
    "dis1 = [ \"ATE\", 'BARRANCO','BREÑA', 'CALLAO', 'CARABAYLLO' ] \n",
    "dis1"
   ]
  },
  {
   "cell_type": "code",
   "execution_count": 38,
   "metadata": {},
   "outputs": [],
   "source": [
    "dis2 = ['ATE', 'BARRANCO','BREÑA', 'CALLAO', 'CARABAYLLO','CHACLACAYO','CHORRILLOS','CIENEGUILLA'\n",
    "        ,'COMAS','EL_AGUSTINO','INDEPENDENCIA']"
   ]
  },
  {
   "cell_type": "code",
   "execution_count": 39,
   "metadata": {},
   "outputs": [
    {
     "data": {
      "text/plain": [
       "11"
      ]
     },
     "execution_count": 39,
     "metadata": {},
     "output_type": "execute_result"
    }
   ],
   "source": [
    "len(dis2) # numero de elementos "
   ]
  },
  {
   "cell_type": "code",
   "execution_count": 40,
   "metadata": {
    "scrolled": false
   },
   "outputs": [
    {
     "name": "stdout",
     "output_type": "stream",
     "text": [
      "['CALLAO', 'BARRANCO', 'BREÑA', 'CALLAO', 'CARABAYLLO', 'CHACLACAYO', 'CHORRILLOS', 'CIENEGUILLA', 'COMAS', 'EL_AGUSTINO', 'INDEPENDENCIA']\n"
     ]
    }
   ],
   "source": [
    "dis2[0] = \"CALLAO\"\n",
    "print(dis2)"
   ]
  },
  {
   "cell_type": "code",
   "execution_count": 41,
   "metadata": {},
   "outputs": [
    {
     "name": "stdout",
     "output_type": "stream",
     "text": [
      "BARRANCO\n"
     ]
    }
   ],
   "source": [
    "# Idenxing\n",
    "\n",
    "print(dis2[1])"
   ]
  },
  {
   "cell_type": "code",
   "execution_count": 42,
   "metadata": {},
   "outputs": [
    {
     "data": {
      "text/plain": [
       "['BREÑA', 'CALLAO', 'CARABAYLLO']"
      ]
     },
     "execution_count": 42,
     "metadata": {},
     "output_type": "execute_result"
    }
   ],
   "source": [
    "dis2[2:5]   # (5-1=4)"
   ]
  },
  {
   "cell_type": "code",
   "execution_count": 83,
   "metadata": {},
   "outputs": [
    {
     "data": {
      "text/plain": [
       "['CALLAO', 'CARABAYLLO', 'CHACLACAYO', 'CHORRILLOS']"
      ]
     },
     "execution_count": 83,
     "metadata": {},
     "output_type": "execute_result"
    }
   ],
   "source": [
    "dis2[3:7]"
   ]
  },
  {
   "cell_type": "code",
   "execution_count": 44,
   "metadata": {},
   "outputs": [
    {
     "data": {
      "text/plain": [
       "['CHORRILLOS', 'CIENEGUILLA', 'COMAS', 'EL_AGUSTINO']"
      ]
     },
     "execution_count": 44,
     "metadata": {},
     "output_type": "execute_result"
    }
   ],
   "source": [
    "dis2[-5:-1]"
   ]
  },
  {
   "cell_type": "code",
   "execution_count": 43,
   "metadata": {},
   "outputs": [
    {
     "name": "stdout",
     "output_type": "stream",
     "text": [
      "[1, 5, 5, 5, 8, 8, 9, 10, 13, 13, 20]\n"
     ]
    }
   ],
   "source": [
    "num = [13,5,5,8,9,10,5,8,13,1,20]\n",
    "num.sort()\n",
    "print(num)"
   ]
  },
  {
   "cell_type": "code",
   "execution_count": 44,
   "metadata": {},
   "outputs": [
    {
     "name": "stdout",
     "output_type": "stream",
     "text": [
      "[1, 5, 5, 5, 8, 8, 9, 10, 13, 13, 20, 102]\n"
     ]
    }
   ],
   "source": [
    "# append new elements \n",
    "\n",
    "num.append(102)\n",
    "\n",
    "print(num)"
   ]
  },
  {
   "cell_type": "code",
   "execution_count": 45,
   "metadata": {},
   "outputs": [
    {
     "name": "stdout",
     "output_type": "stream",
     "text": [
      "[1, 5, 5, 5, 8, 8, 9, 10, 13, 13, 20, 102, 10, 20, 30]\n"
     ]
    }
   ],
   "source": [
    "# append new list\n",
    "\n",
    "num2 = [10,20,30]\n",
    "num.extend(num2)\n",
    "print(num)"
   ]
  },
  {
   "cell_type": "code",
   "execution_count": 46,
   "metadata": {},
   "outputs": [
    {
     "name": "stdout",
     "output_type": "stream",
     "text": [
      "11\n"
     ]
    }
   ],
   "source": [
    "print(num.index(102))"
   ]
  },
  {
   "cell_type": "code",
   "execution_count": 47,
   "metadata": {
    "scrolled": true
   },
   "outputs": [
    {
     "name": "stdout",
     "output_type": "stream",
     "text": [
      "Suma: 259 \n",
      " Minimo: 1 \n",
      " Maximo: 102\n"
     ]
    }
   ],
   "source": [
    "print(\"Suma:\", sum(num),'\\n', \"Minimo:\", min(num), '\\n', \"Maximo:\", max(num))"
   ]
  },
  {
   "cell_type": "markdown",
   "metadata": {},
   "source": [
    "## <a id='1.5'> 1.5 Diccionario  </a> \n"
   ]
  },
  {
   "cell_type": "code",
   "execution_count": 64,
   "metadata": {},
   "outputs": [
    {
     "data": {
      "text/plain": [
       "dict"
      ]
     },
     "execution_count": 64,
     "metadata": {},
     "output_type": "execute_result"
    }
   ],
   "source": [
    "Postal_code = { 'Majes': 40520 , 'Mollendo': 40701, 'Islay': 40704, 'Cotahuasi': 40801, 'Alca': 40802  }\n",
    "\n",
    "type(Postal_code)\n",
    "\n",
    "# dict de diccionario \n",
    "# 'Majes', 'Mollendo' son llaves "
   ]
  },
  {
   "cell_type": "code",
   "execution_count": 49,
   "metadata": {},
   "outputs": [
    {
     "data": {
      "text/plain": [
       "{'Majes': 40520,\n",
       " 'Mollendo': 40701,\n",
       " 'Islay': 40704,\n",
       " 'Cotahuasi': 40801,\n",
       " 'Alca': 40802}"
      ]
     },
     "execution_count": 49,
     "metadata": {},
     "output_type": "execute_result"
    }
   ],
   "source": [
    "Postal_code"
   ]
  },
  {
   "cell_type": "code",
   "execution_count": 50,
   "metadata": {},
   "outputs": [
    {
     "data": {
      "text/plain": [
       "dict_keys(['Majes', 'Mollendo', 'Islay', 'Cotahuasi', 'Alca'])"
      ]
     },
     "execution_count": 50,
     "metadata": {},
     "output_type": "execute_result"
    }
   ],
   "source": [
    "Postal_code.keys()"
   ]
  },
  {
   "cell_type": "code",
   "execution_count": 51,
   "metadata": {},
   "outputs": [
    {
     "data": {
      "text/plain": [
       "40802"
      ]
     },
     "execution_count": 51,
     "metadata": {},
     "output_type": "execute_result"
    }
   ],
   "source": [
    "# Get information from key\n",
    "Postal_code['Alca']"
   ]
  },
  {
   "cell_type": "code",
   "execution_count": 52,
   "metadata": {},
   "outputs": [
    {
     "data": {
      "text/plain": [
       "40802"
      ]
     },
     "execution_count": 52,
     "metadata": {},
     "output_type": "execute_result"
    }
   ],
   "source": [
    "# Get information from key\n",
    "Postal_code.get('Alca')"
   ]
  },
  {
   "cell_type": "code",
   "execution_count": 53,
   "metadata": {},
   "outputs": [
    {
     "data": {
      "text/plain": [
       "{'Majes': 40520, 'Mollendo': 40701, 'Cotahuasi': 40801, 'Alca': 40802}"
      ]
     },
     "execution_count": 53,
     "metadata": {},
     "output_type": "execute_result"
    }
   ],
   "source": [
    "# Drop key\n",
    "Postal_code.pop('Islay')\n",
    "Postal_code"
   ]
  },
  {
   "cell_type": "code",
   "execution_count": 57,
   "metadata": {},
   "outputs": [],
   "source": [
    "# add new elements \n",
    "\n",
    "Postal_code.update( { \"CHARCANA\" :  [1,2] } )\n",
    "\n",
    "#diccioanrio dentro de otro diccionario\n",
    "Postal_code.update( {\"LOMAS\": {\"UBIGEO\": 40311, \"Poverty Rate\" : \"18.2%\", \"Population\" : \"20 mil\"}})\n"
   ]
  },
  {
   "cell_type": "code",
   "execution_count": 58,
   "metadata": {},
   "outputs": [
    {
     "data": {
      "text/plain": [
       "{'Majes': 40520,\n",
       " 'Mollendo': 40701,\n",
       " 'Islay': 40704,\n",
       " 'Cotahuasi': 40801,\n",
       " 'Alca': 40802,\n",
       " 'CHARCANA': [1, 2],\n",
       " 'LOMAS': {'UBIGEO': 40311, 'Poverty Rate': '18.2%', 'Population': '20 mil'}}"
      ]
     },
     "execution_count": 58,
     "metadata": {},
     "output_type": "execute_result"
    }
   ],
   "source": [
    "Postal_code"
   ]
  },
  {
   "cell_type": "code",
   "execution_count": 62,
   "metadata": {},
   "outputs": [
    {
     "data": {
      "text/plain": [
       "'18.2%'"
      ]
     },
     "execution_count": 62,
     "metadata": {},
     "output_type": "execute_result"
    }
   ],
   "source": [
    "Postal_code.get('LOMAS').get('Poverty Rate')"
   ]
  },
  {
   "cell_type": "code",
   "execution_count": 63,
   "metadata": {},
   "outputs": [
    {
     "data": {
      "text/plain": [
       "'18.2%'"
      ]
     },
     "execution_count": 63,
     "metadata": {},
     "output_type": "execute_result"
    }
   ],
   "source": [
    "Postal_code['LOMAS']['Poverty Rate'] # forna mas usada "
   ]
  },
  {
   "cell_type": "code",
   "execution_count": 62,
   "metadata": {},
   "outputs": [
    {
     "data": {
      "text/plain": [
       "'18.2%'"
      ]
     },
     "execution_count": 62,
     "metadata": {},
     "output_type": "execute_result"
    }
   ],
   "source": [
    "Postal_code['LOMAS']\n",
    "\n",
    "['Poverty Rate']"
   ]
  },
  {
   "cell_type": "code",
   "execution_count": 62,
   "metadata": {},
   "outputs": [],
   "source": [
    "# keys\n",
    "cities = ['Fray Martin','Santa Rosa de Puquio','Cuchicorral','Santiago de Punchauca','La Cruz (11 Amigos)','Cerro Cañon','Cabaña Suche','San Lorenzo','Jose Carlos Mariategui','Pascal','La Esperanza','Fundo Pancha Paula','Olfa','Rio Seco','Paraiso','El Rosario','Cerro Puquio','La Campana','Las Animas','Vetancio','Roma Alta','San Jose','San Pedro de Carabayllo','Huacoy','Fundo Pampa Libre','Ex Fundo Santa Ines','Reposo','Carmelito','Santa Elena','Don Luis','Santa Ines Parcela','Asociacion Santa Ines','Roma Baja','Residencial Santa Lucia','San Francisco','Santa Margarita - Molinos','Sipan Peru','Fundo Cuadros','Bello Horizonte','El Hueco','Ex Fundo Mariategui','Naranjito','Vista Hermosa','El Sabroso de Jose Carlos Mariategui','Granja Carabayllo','Agropecuario Valle el Chillon','Camino Real','Copacabana','El Trebol','Tablada la Virgen','San Fernando de Carabayllo','San Fernando de Copacabana','La Manzana','Chacra Grande','Torres de Copacabana','San Pedro de Carabayllo','San Lorenzo','Chaclacayo','Chorrillos','Cieneguilla','Lindero','Pichicato','San Isidro','San Vicente','Piedra Liza','Santa Rosa de Chontay (Chontay)','La Libertad','El Agustino','Independencia','Jesus Maria','La Molina','La Victoria','Lince','Las Palmeras','Chosica','Lurin','Los Almacigos','Rinconada del Puruhuay','Fundo Santa Genoveva','Los Maderos','Casco Viejo','Vista Alegre','Buena Vista Alta','Lomas Pucara','Fundo la Querencia','Magdalena del Mar','Pueblo Libre','Miraflores','Pachacamac','Puente Manchay','Tambo Inga','Pampa Flores','Manchay Alto Lote B','Invasion Cementerio','Manchay Bajo','Santa Rosa de Mal Paso','Cardal','Jatosisa','Tomina','Pucusana','Honda','Quipa','Los Pelicanos','Playa Puerto Bello','Ñaves','Granja Santa Elena','Alvatroz II','Poseidon - Lobo Varado','Playa Minka Mar','Playa Acantilado','Puente Piedra','Punta Hermosa','Capilla Lucumo','Cucuya','Pampapacta','Avicola San Cirilo de Loma Negra - 03','Avicola San Cirilo de Loma Negra - 02','Avicola San Cirilo de Loma Negra - 01','Pampa Mamay','Cerro Botija','Agricultores y Ganaderos','Pampa Malanche Avicola Puma','Punta Negra','Chancheria','Rimac','San Bartolo','Plantel 41','Granja 4','Granja 5','Granja 07','Granja 44','Granja 47','Santa Maria I','Las Torres Santa Fe','San Francisco de Borja','San Isidro','San Juan de Lurigancho','Ciudad de Dios','San Luis','Barrio Obrero Industrial','San Miguel','Santa Anita - los Ficus','Santa Maria del Mar','Don Bruno','Santa Rosa','Santiago de Surco','Surquillo','Villa el Salvador','Villa Maria del Triunfo', 'Pueblo libre']\n",
    "# values\n",
    "postal_code1 = [15001,15003,15004,15006,15018,15019,15046,15072,15079,15081,15082,15083,15088,15123,15004,15011,15012,15019,15022,15023,15026,15476,15479,15483,15487,15491,15494,15498,15047,15049,15063,15082,15083,15121,15122,15313,15316,15318,15319,15320,15321,15324,15320,15320,15320,15320,15320,15320,15121,15320,15320,15121,15320,15320,15121,15121,15122,15122,15121,15121,15121,15320,15320,15320,15320,15320,15320,15121,15121,15121,15320,15121,15319,15121,15121,15121,15320,15320,15121,15121,15121,15121,15320,15320,15320,15122,15122,15122,15122,15122,15122,15122,15122,15121,15121,15122,15122,15121,15121,15122,15122,15121,15122,15122,15122,15472,15476,15054,15056,15057,15058,15063,15064,15066,15067,15593,15594,15593,15593,15593,15593,15593,15593,15593,15311,15312,15313,15314,15316,15324,15326,15327,15328,15332,15003,15004,15006,15007,15008,15009,15011,15018,15022,15311,15328,15331,15332,15333,15046, 15001]"
   ]
  },
  {
   "cell_type": "code",
   "execution_count": 63,
   "metadata": {},
   "outputs": [],
   "source": [
    "# Return a dictionarie\n",
    "ct_pc = dict( zip( cities , postal_code1) )"
   ]
  },
  {
   "cell_type": "code",
   "execution_count": 64,
   "metadata": {
    "scrolled": true
   },
   "outputs": [
    {
     "data": {
      "text/plain": [
       "{'Fray Martin': 15001,\n",
       " 'Santa Rosa de Puquio': 15003,\n",
       " 'Cuchicorral': 15004,\n",
       " 'Santiago de Punchauca': 15006,\n",
       " 'La Cruz (11 Amigos)': 15018,\n",
       " 'Cerro Cañon': 15019,\n",
       " 'Cabaña Suche': 15046,\n",
       " 'San Lorenzo': 15122,\n",
       " 'Jose Carlos Mariategui': 15079,\n",
       " 'Pascal': 15081,\n",
       " 'La Esperanza': 15082,\n",
       " 'Fundo Pancha Paula': 15083,\n",
       " 'Olfa': 15088,\n",
       " 'Rio Seco': 15123,\n",
       " 'Paraiso': 15004,\n",
       " 'El Rosario': 15011,\n",
       " 'Cerro Puquio': 15012,\n",
       " 'La Campana': 15019,\n",
       " 'Las Animas': 15022,\n",
       " 'Vetancio': 15023,\n",
       " 'Roma Alta': 15026,\n",
       " 'San Jose': 15476,\n",
       " 'San Pedro de Carabayllo': 15121,\n",
       " 'Huacoy': 15483,\n",
       " 'Fundo Pampa Libre': 15487,\n",
       " 'Ex Fundo Santa Ines': 15491,\n",
       " 'Reposo': 15494,\n",
       " 'Carmelito': 15498,\n",
       " 'Santa Elena': 15047,\n",
       " 'Don Luis': 15049,\n",
       " 'Santa Ines Parcela': 15063,\n",
       " 'Asociacion Santa Ines': 15082,\n",
       " 'Roma Baja': 15083,\n",
       " 'Residencial Santa Lucia': 15121,\n",
       " 'San Francisco': 15122,\n",
       " 'Santa Margarita - Molinos': 15313,\n",
       " 'Sipan Peru': 15316,\n",
       " 'Fundo Cuadros': 15318,\n",
       " 'Bello Horizonte': 15319,\n",
       " 'El Hueco': 15320,\n",
       " 'Ex Fundo Mariategui': 15321,\n",
       " 'Naranjito': 15324,\n",
       " 'Vista Hermosa': 15320,\n",
       " 'El Sabroso de Jose Carlos Mariategui': 15320,\n",
       " 'Granja Carabayllo': 15320,\n",
       " 'Agropecuario Valle el Chillon': 15320,\n",
       " 'Camino Real': 15320,\n",
       " 'Copacabana': 15320,\n",
       " 'El Trebol': 15121,\n",
       " 'Tablada la Virgen': 15320,\n",
       " 'San Fernando de Carabayllo': 15320,\n",
       " 'San Fernando de Copacabana': 15121,\n",
       " 'La Manzana': 15320,\n",
       " 'Chacra Grande': 15320,\n",
       " 'Torres de Copacabana': 15121,\n",
       " 'Chaclacayo': 15122,\n",
       " 'Chorrillos': 15121,\n",
       " 'Cieneguilla': 15121,\n",
       " 'Lindero': 15121,\n",
       " 'Pichicato': 15320,\n",
       " 'San Isidro': 15004,\n",
       " 'San Vicente': 15320,\n",
       " 'Piedra Liza': 15320,\n",
       " 'Santa Rosa de Chontay (Chontay)': 15320,\n",
       " 'La Libertad': 15320,\n",
       " 'El Agustino': 15121,\n",
       " 'Independencia': 15121,\n",
       " 'Jesus Maria': 15121,\n",
       " 'La Molina': 15320,\n",
       " 'La Victoria': 15121,\n",
       " 'Lince': 15319,\n",
       " 'Las Palmeras': 15121,\n",
       " 'Chosica': 15121,\n",
       " 'Lurin': 15121,\n",
       " 'Los Almacigos': 15320,\n",
       " 'Rinconada del Puruhuay': 15320,\n",
       " 'Fundo Santa Genoveva': 15121,\n",
       " 'Los Maderos': 15121,\n",
       " 'Casco Viejo': 15121,\n",
       " 'Vista Alegre': 15121,\n",
       " 'Buena Vista Alta': 15320,\n",
       " 'Lomas Pucara': 15320,\n",
       " 'Fundo la Querencia': 15320,\n",
       " 'Magdalena del Mar': 15122,\n",
       " 'Pueblo Libre': 15122,\n",
       " 'Miraflores': 15122,\n",
       " 'Pachacamac': 15122,\n",
       " 'Puente Manchay': 15122,\n",
       " 'Tambo Inga': 15122,\n",
       " 'Pampa Flores': 15122,\n",
       " 'Manchay Alto Lote B': 15122,\n",
       " 'Invasion Cementerio': 15121,\n",
       " 'Manchay Bajo': 15121,\n",
       " 'Santa Rosa de Mal Paso': 15122,\n",
       " 'Cardal': 15122,\n",
       " 'Jatosisa': 15121,\n",
       " 'Tomina': 15121,\n",
       " 'Pucusana': 15122,\n",
       " 'Honda': 15122,\n",
       " 'Quipa': 15121,\n",
       " 'Los Pelicanos': 15122,\n",
       " 'Playa Puerto Bello': 15122,\n",
       " 'Ñaves': 15122,\n",
       " 'Granja Santa Elena': 15472,\n",
       " 'Alvatroz II': 15476,\n",
       " 'Poseidon - Lobo Varado': 15054,\n",
       " 'Playa Minka Mar': 15056,\n",
       " 'Playa Acantilado': 15057,\n",
       " 'Puente Piedra': 15058,\n",
       " 'Punta Hermosa': 15063,\n",
       " 'Capilla Lucumo': 15064,\n",
       " 'Cucuya': 15066,\n",
       " 'Pampapacta': 15067,\n",
       " 'Avicola San Cirilo de Loma Negra - 03': 15593,\n",
       " 'Avicola San Cirilo de Loma Negra - 02': 15594,\n",
       " 'Avicola San Cirilo de Loma Negra - 01': 15593,\n",
       " 'Pampa Mamay': 15593,\n",
       " 'Cerro Botija': 15593,\n",
       " 'Agricultores y Ganaderos': 15593,\n",
       " 'Pampa Malanche Avicola Puma': 15593,\n",
       " 'Punta Negra': 15593,\n",
       " 'Chancheria': 15593,\n",
       " 'Rimac': 15311,\n",
       " 'San Bartolo': 15312,\n",
       " 'Plantel 41': 15313,\n",
       " 'Granja 4': 15314,\n",
       " 'Granja 5': 15316,\n",
       " 'Granja 07': 15324,\n",
       " 'Granja 44': 15326,\n",
       " 'Granja 47': 15327,\n",
       " 'Santa Maria I': 15328,\n",
       " 'Las Torres Santa Fe': 15332,\n",
       " 'San Francisco de Borja': 15003,\n",
       " 'San Juan de Lurigancho': 15006,\n",
       " 'Ciudad de Dios': 15007,\n",
       " 'San Luis': 15008,\n",
       " 'Barrio Obrero Industrial': 15009,\n",
       " 'San Miguel': 15011,\n",
       " 'Santa Anita - los Ficus': 15018,\n",
       " 'Santa Maria del Mar': 15022,\n",
       " 'Don Bruno': 15311,\n",
       " 'Santa Rosa': 15328,\n",
       " 'Santiago de Surco': 15331,\n",
       " 'Surquillo': 15332,\n",
       " 'Villa el Salvador': 15333,\n",
       " 'Villa Maria del Triunfo': 15046,\n",
       " 'Pueblo libre': 15001}"
      ]
     },
     "execution_count": 64,
     "metadata": {},
     "output_type": "execute_result"
    }
   ],
   "source": [
    "ct_pc"
   ]
  },
  {
   "cell_type": "markdown",
   "metadata": {},
   "source": [
    "## <a id='1.6'> 1.6 Arrays and Matrix  </a> \n"
   ]
  },
  {
   "cell_type": "code",
   "execution_count": 1,
   "metadata": {},
   "outputs": [
    {
     "data": {
      "text/plain": [
       "array([1, 2, 3, 4, 5])"
      ]
     },
     "execution_count": 1,
     "metadata": {},
     "output_type": "execute_result"
    }
   ],
   "source": [
    "import numpy as np\n",
    "\n",
    "np.array( [1, 2, 3, 4, 5] )\n",
    "\n",
    "# A library is a collection of modules or a single module. Libraries are the tools we will use to make our program."
   ]
  },
  {
   "cell_type": "code",
   "execution_count": 67,
   "metadata": {},
   "outputs": [
    {
     "name": "stdout",
     "output_type": "stream",
     "text": [
      "[1 2 3 4 5]\n"
     ]
    }
   ],
   "source": [
    "# 1D array (vector)\n",
    "a = np.array( [1, 2, 3, 4, 5] )\n",
    "\n",
    "\n",
    "print(a)"
   ]
  },
  {
   "cell_type": "code",
   "execution_count": 68,
   "metadata": {},
   "outputs": [
    {
     "data": {
      "text/plain": [
       "numpy.ndarray"
      ]
     },
     "execution_count": 68,
     "metadata": {},
     "output_type": "execute_result"
    }
   ],
   "source": [
    "type(a)"
   ]
  },
  {
   "cell_type": "code",
   "execution_count": 80,
   "metadata": {
    "scrolled": true
   },
   "outputs": [
    {
     "data": {
      "text/plain": [
       "15"
      ]
     },
     "execution_count": 80,
     "metadata": {},
     "output_type": "execute_result"
    }
   ],
   "source": [
    "np.mean(a)\n",
    "np.sum(a)"
   ]
  },
  {
   "cell_type": "code",
   "execution_count": 72,
   "metadata": {},
   "outputs": [
    {
     "data": {
      "text/plain": [
       "1.4142135623730951"
      ]
     },
     "execution_count": 72,
     "metadata": {},
     "output_type": "execute_result"
    }
   ],
   "source": [
    "np.std(a)"
   ]
  },
  {
   "cell_type": "markdown",
   "metadata": {},
   "source": [
    "Standar deviation in Python by default\n",
    "\n",
    "\\begin{equation}\n",
    " sd(x) = \\sqrt{\\frac{\\sum(x_i-\\bar{x})^2}{N-1}}\n",
    "\\end{equation}"
   ]
  },
  {
   "cell_type": "code",
   "execution_count": 73,
   "metadata": {},
   "outputs": [
    {
     "data": {
      "text/plain": [
       "1.5811388300841898"
      ]
     },
     "execution_count": 73,
     "metadata": {},
     "output_type": "execute_result"
    }
   ],
   "source": [
    "np.std(a,ddof=1)"
   ]
  },
  {
   "cell_type": "markdown",
   "metadata": {},
   "source": [
    "Standar deviation in Python by default\n",
    "\n",
    "\\begin{equation}\n",
    " sd(x) = \\sqrt{\\frac{\\sum(x_i-\\bar{x})^2}{N}}\n",
    "\\end{equation}"
   ]
  },
  {
   "cell_type": "code",
   "execution_count": 74,
   "metadata": {},
   "outputs": [
    {
     "name": "stdout",
     "output_type": "stream",
     "text": [
      "[[1 2 3]\n",
      " [4 5 6]]\n"
     ]
    }
   ],
   "source": [
    "# 2D array\n",
    "M = np.array( [ [1, 2, 3], [4, 5, 6] ] )\n",
    "\n",
    "print(M)"
   ]
  },
  {
   "cell_type": "code",
   "execution_count": 78,
   "metadata": {},
   "outputs": [
    {
     "data": {
      "text/plain": [
       "(2, 3)"
      ]
     },
     "execution_count": 78,
     "metadata": {},
     "output_type": "execute_result"
    }
   ],
   "source": [
    "# dimensiones\n",
    "\n",
    "M.shape # numero de filas "
   ]
  },
  {
   "cell_type": "code",
   "execution_count": 77,
   "metadata": {},
   "outputs": [
    {
     "name": "stdout",
     "output_type": "stream",
     "text": [
      "Rows: 2 \n",
      " Columns:  3\n"
     ]
    }
   ],
   "source": [
    "print(\"Rows:\",M.shape[0],\"\\n\", \"Columns: \", M.shape[1])\n"
   ]
  },
  {
   "cell_type": "code",
   "execution_count": 86,
   "metadata": {},
   "outputs": [
    {
     "name": "stdout",
     "output_type": "stream",
     "text": [
      "[ 0  2  4  6  8 10 12 14 16 18]\n"
     ]
    }
   ],
   "source": [
    "# Create a 1D NumPy array with values from 0 to 20 (exclusively) incremented by 2:\n",
    "y = np.arange( 0, 20, 2 )\n",
    "print(y)"
   ]
  },
  {
   "cell_type": "code",
   "execution_count": 90,
   "metadata": {},
   "outputs": [
    {
     "name": "stdout",
     "output_type": "stream",
     "text": [
      "[ 1  2  3  4  5  6  7  8  9 10]\n"
     ]
    },
    {
     "data": {
      "text/plain": [
       "[0, 1, 2, 3, 4, 5, 6, 7, 8, 9, 10]"
      ]
     },
     "execution_count": 90,
     "metadata": {},
     "output_type": "execute_result"
    }
   ],
   "source": [
    "# deafult one by one \n",
    "\n",
    "y = np.arange( 1, 11)\n",
    "print(y)\n",
    "\n",
    "list(range(11))\n"
   ]
  },
  {
   "cell_type": "code",
   "execution_count": 92,
   "metadata": {},
   "outputs": [
    {
     "name": "stdout",
     "output_type": "stream",
     "text": [
      "[2 2 2 2]\n",
      "[ 0  0  0  0  1  1  1  1  2  2  2  2  3  3  3  3  4  4  4  4  5  5  5  5\n",
      "  6  6  6  6  7  7  7  7  8  8  8  8  9  9  9  9 10 10 10 10]\n"
     ]
    }
   ],
   "source": [
    "# rep() equivalent in python\n",
    "\n",
    "print( np.repeat(2, 4) )\n",
    "\n",
    "print( np.repeat(range(11), 4) )"
   ]
  },
  {
   "cell_type": "code",
   "execution_count": 96,
   "metadata": {},
   "outputs": [
    {
     "name": "stdout",
     "output_type": "stream",
     "text": [
      "[0 1 0 1 0 1 0 1]\n"
     ]
    },
    {
     "data": {
      "text/plain": [
       "[array([0, 1, 2]), array([3, 4, 5]), array([6, 7]), array([8, 9])]"
      ]
     },
     "execution_count": 96,
     "metadata": {},
     "output_type": "execute_result"
    }
   ],
   "source": [
    "print( np.tile(np.array([0,1]), 4) )\n",
    "\n",
    "\n",
    "# split array\n",
    "\n",
    "np.array_split(np.arange( 0, 10), 4)"
   ]
  },
  {
   "cell_type": "markdown",
   "metadata": {},
   "source": [
    "### Matrix"
   ]
  },
  {
   "cell_type": "code",
   "execution_count": 97,
   "metadata": {},
   "outputs": [],
   "source": [
    "A = np.array([ np.arange(0,10), np.arange(10,20), np.arange(30,40), np.arange(-20,-10), np.arange(2,21,2)])"
   ]
  },
  {
   "cell_type": "code",
   "execution_count": 98,
   "metadata": {},
   "outputs": [
    {
     "data": {
      "text/plain": [
       "array([[  0,   1,   2,   3,   4,   5,   6,   7,   8,   9],\n",
       "       [ 10,  11,  12,  13,  14,  15,  16,  17,  18,  19],\n",
       "       [ 30,  31,  32,  33,  34,  35,  36,  37,  38,  39],\n",
       "       [-20, -19, -18, -17, -16, -15, -14, -13, -12, -11],\n",
       "       [  2,   4,   6,   8,  10,  12,  14,  16,  18,  20]])"
      ]
     },
     "execution_count": 98,
     "metadata": {},
     "output_type": "execute_result"
    }
   ],
   "source": [
    "A"
   ]
  },
  {
   "cell_type": "code",
   "execution_count": 99,
   "metadata": {},
   "outputs": [
    {
     "data": {
      "text/plain": [
       "array([[ 30,  31,  32,  33,  34,  35,  36,  37,  38,  39],\n",
       "       [-20, -19, -18, -17, -16, -15, -14, -13, -12, -11],\n",
       "       [  2,   4,   6,   8,  10,  12,  14,  16,  18,  20]])"
      ]
     },
     "execution_count": 99,
     "metadata": {},
     "output_type": "execute_result"
    }
   ],
   "source": [
    "A[2:5,:]  # rows selecrtion\n"
   ]
  },
  {
   "cell_type": "code",
   "execution_count": 100,
   "metadata": {},
   "outputs": [
    {
     "data": {
      "text/plain": [
       "array([[  0,   1,   2,   3,   4,   5],\n",
       "       [ 10,  11,  12,  13,  14,  15],\n",
       "       [ 30,  31,  32,  33,  34,  35],\n",
       "       [-20, -19, -18, -17, -16, -15],\n",
       "       [  2,   4,   6,   8,  10,  12]])"
      ]
     },
     "execution_count": 100,
     "metadata": {},
     "output_type": "execute_result"
    }
   ],
   "source": [
    "A[:,0:6]  # columns selecrtion"
   ]
  },
  {
   "cell_type": "code",
   "execution_count": 101,
   "metadata": {},
   "outputs": [
    {
     "name": "stdout",
     "output_type": "stream",
     "text": [
      "[[0. 0.]\n",
      " [0. 0.]\n",
      " [0. 0.]\n",
      " [0. 0.]\n",
      " [0. 0.]\n",
      " [0. 0.]\n",
      " [0. 0.]\n",
      " [0. 0.]]\n"
     ]
    }
   ],
   "source": [
    "M1 = np.zeros( (8, 2) )\n",
    "print(M1)"
   ]
  },
  {
   "cell_type": "code",
   "execution_count": 102,
   "metadata": {
    "scrolled": false
   },
   "outputs": [
    {
     "name": "stdout",
     "output_type": "stream",
     "text": [
      "[[1. 1. 1. 1.]\n",
      " [1. 1. 1. 1.]\n",
      " [1. 1. 1. 1.]\n",
      " [1. 1. 1. 1.]\n",
      " [1. 1. 1. 1.]\n",
      " [1. 1. 1. 1.]\n",
      " [1. 1. 1. 1.]\n",
      " [1. 1. 1. 1.]]\n"
     ]
    }
   ],
   "source": [
    "M2 = np.ones( (8, 4) )\n",
    "print(M2)"
   ]
  },
  {
   "cell_type": "markdown",
   "metadata": {},
   "source": [
    "## Join matrix"
   ]
  },
  {
   "cell_type": "code",
   "execution_count": 103,
   "metadata": {
    "scrolled": true
   },
   "outputs": [
    {
     "data": {
      "text/plain": [
       "array([[0., 0., 1., 1., 1., 1.],\n",
       "       [0., 0., 1., 1., 1., 1.],\n",
       "       [0., 0., 1., 1., 1., 1.],\n",
       "       [0., 0., 1., 1., 1., 1.],\n",
       "       [0., 0., 1., 1., 1., 1.],\n",
       "       [0., 0., 1., 1., 1., 1.],\n",
       "       [0., 0., 1., 1., 1., 1.],\n",
       "       [0., 0., 1., 1., 1., 1.]])"
      ]
     },
     "execution_count": 103,
     "metadata": {},
     "output_type": "execute_result"
    }
   ],
   "source": [
    "M3 = np.hstack((M1,M2))  # stack horizontal \n",
    "M3"
   ]
  },
  {
   "cell_type": "code",
   "execution_count": 104,
   "metadata": {},
   "outputs": [
    {
     "name": "stdout",
     "output_type": "stream",
     "text": [
      "[[2 2 3 4 5 1]\n",
      " [1 5 5 9 8 2]]\n"
     ]
    }
   ],
   "source": [
    "M4 = np.array([[2,2,3,4,5,1],[1,5,5,9,8,2]])\n",
    "print(M4)"
   ]
  },
  {
   "cell_type": "code",
   "execution_count": 89,
   "metadata": {},
   "outputs": [
    {
     "name": "stdout",
     "output_type": "stream",
     "text": [
      "[[0. 0. 1. 1. 1. 1.]\n",
      " [0. 0. 1. 1. 1. 1.]\n",
      " [0. 0. 1. 1. 1. 1.]\n",
      " [0. 0. 1. 1. 1. 1.]\n",
      " [0. 0. 1. 1. 1. 1.]\n",
      " [0. 0. 1. 1. 1. 1.]\n",
      " [0. 0. 1. 1. 1. 1.]\n",
      " [0. 0. 1. 1. 1. 1.]\n",
      " [2. 2. 3. 4. 5. 1.]\n",
      " [1. 5. 5. 9. 8. 2.]]\n"
     ]
    },
    {
     "data": {
      "text/plain": [
       "array([[0., 0., 0., 0., 0., 0., 0., 0., 2., 1.],\n",
       "       [0., 0., 0., 0., 0., 0., 0., 0., 2., 5.],\n",
       "       [1., 1., 1., 1., 1., 1., 1., 1., 3., 5.],\n",
       "       [1., 1., 1., 1., 1., 1., 1., 1., 4., 9.],\n",
       "       [1., 1., 1., 1., 1., 1., 1., 1., 5., 8.],\n",
       "       [1., 1., 1., 1., 1., 1., 1., 1., 1., 2.]])"
      ]
     },
     "execution_count": 89,
     "metadata": {},
     "output_type": "execute_result"
    }
   ],
   "source": [
    "M5 = np.vstack((M3,M4)) # stack vertical \n",
    "print(M5)\n",
    "M5.T"
   ]
  },
  {
   "cell_type": "code",
   "execution_count": 90,
   "metadata": {},
   "outputs": [
    {
     "name": "stdout",
     "output_type": "stream",
     "text": [
      "[1. 1. 1. 1. 1. 1. 1. 1. 1. 1.]\n"
     ]
    }
   ],
   "source": [
    "# Create a 1D NumPy array of ones of length 10:\n",
    "w = np.ones(10)\n",
    "print(w)"
   ]
  },
  {
   "cell_type": "code",
   "execution_count": 105,
   "metadata": {
    "scrolled": true
   },
   "outputs": [
    {
     "name": "stdout",
     "output_type": "stream",
     "text": [
      "[[1. 0. 0. 0. 0. 0. 0. 0.]\n",
      " [0. 1. 0. 0. 0. 0. 0. 0.]\n",
      " [0. 0. 1. 0. 0. 0. 0. 0.]\n",
      " [0. 0. 0. 1. 0. 0. 0. 0.]\n",
      " [0. 0. 0. 0. 1. 0. 0. 0.]\n",
      " [0. 0. 0. 0. 0. 1. 0. 0.]\n",
      " [0. 0. 0. 0. 0. 0. 1. 0.]\n",
      " [0. 0. 0. 0. 0. 0. 0. 1.]]\n"
     ]
    }
   ],
   "source": [
    "# Create the identity matrix of size 8:\n",
    "I = np.eye(8)\n",
    "print(I)"
   ]
  },
  {
   "cell_type": "code",
   "execution_count": 106,
   "metadata": {
    "scrolled": true
   },
   "outputs": [
    {
     "name": "stdout",
     "output_type": "stream",
     "text": [
      "[[1. 0.]\n",
      " [0. 0.]\n",
      " [0. 0.]\n",
      " [0. 0.]\n",
      " [0. 1.]\n",
      " [0. 0.]\n",
      " [0. 0.]\n",
      " [0. 0.]\n",
      " [0. 0.]\n",
      " [1. 0.]\n",
      " [0. 0.]\n",
      " [0. 0.]\n",
      " [0. 0.]\n",
      " [0. 1.]\n",
      " [0. 0.]\n",
      " [0. 0.]\n",
      " [0. 0.]\n",
      " [0. 0.]\n",
      " [1. 0.]\n",
      " [0. 0.]\n",
      " [0. 0.]\n",
      " [0. 0.]\n",
      " [0. 1.]\n",
      " [0. 0.]\n",
      " [0. 0.]\n",
      " [0. 0.]\n",
      " [0. 0.]\n",
      " [1. 0.]\n",
      " [0. 0.]\n",
      " [0. 0.]\n",
      " [0. 0.]\n",
      " [0. 1.]]\n"
     ]
    }
   ],
   "source": [
    "I3 = I.reshape(32, 2)\n",
    "print(I3)"
   ]
  },
  {
   "cell_type": "code",
   "execution_count": 9,
   "metadata": {
    "scrolled": false
   },
   "outputs": [],
   "source": [
    "np.random.seed(175) # semilla aleatoria para producir numeros aleatorios \n",
    "#  permite que los numeros aleatorios no cambien al correr los códigos\n",
    "# numpy random permite generar números aleatorios unicos \n",
    "\n",
    "x1 = np.random.rand(500) \n",
    "x2 = np.random.rand(500) # uniform distribution [0,1]\n",
    "x3 = np.random.rand(500) # uniform distribution [0,1]\n",
    "x4 = np.random.rand(500) # uniform distribution [0,1]\n",
    "e = np.random.normal(0,1,500) # normal distribution mean = 0 and sd = 1\n",
    "\n",
    "# Poblacional regression (Data Generating Process GDP)\n",
    "\n",
    "Y = 1 + 0.8*x1 + 1.2*x2 + 0.5*x3 + 1.5*x4 + e"
   ]
  },
  {
   "cell_type": "code",
   "execution_count": 151,
   "metadata": {},
   "outputs": [
    {
     "data": {
      "text/plain": [
       "array([[1.        , 0.04475417, 0.40772643, 0.34264416, 0.02414698],\n",
       "       [1.        , 0.28733056, 0.37711362, 0.50872145, 0.44327971],\n",
       "       [1.        , 0.07313766, 0.12851589, 0.82887389, 0.42140717],\n",
       "       ...,\n",
       "       [1.        , 0.45844518, 0.72689186, 0.10918985, 0.68319966],\n",
       "       [1.        , 0.03768319, 0.24451085, 0.94042077, 0.94862136],\n",
       "       [1.        , 0.35377639, 0.60304925, 0.82421856, 0.49296456]])"
      ]
     },
     "execution_count": 151,
     "metadata": {},
     "output_type": "execute_result"
    }
   ],
   "source": [
    "X = np.column_stack((np.ones(500),x1,x2,x3,x4))\n",
    "X"
   ]
  },
  {
   "cell_type": "code",
   "execution_count": 152,
   "metadata": {},
   "outputs": [
    {
     "name": "stdout",
     "output_type": "stream",
     "text": [
      "[0.96104291 0.91288635 1.08981519 0.47300876 1.53537517]\n"
     ]
    }
   ],
   "source": [
    "beta = np.linalg.inv(X.T @ X) @ ((X.T) @ Y )\n",
    "print(beta)"
   ]
  },
  {
   "cell_type": "markdown",
   "metadata": {},
   "source": [
    "# References\n",
    "\n",
    "## Numpy \n",
    "https://numpy.org/doc/stable/reference/arrays.html\n",
    "\n",
    "https://www.kaggle.com/code/hkumls/intensive-python-tutorial-numpy/notebook"
   ]
  }
 ],
 "metadata": {
  "kernelspec": {
   "display_name": "Python 3 (ipykernel)",
   "language": "python",
   "name": "python3"
  },
  "language_info": {
   "codemirror_mode": {
    "name": "ipython",
    "version": 3
   },
   "file_extension": ".py",
   "mimetype": "text/x-python",
   "name": "python",
   "nbconvert_exporter": "python",
   "pygments_lexer": "ipython3",
   "version": "3.9.7"
  }
 },
 "nbformat": 4,
 "nbformat_minor": 4
}
