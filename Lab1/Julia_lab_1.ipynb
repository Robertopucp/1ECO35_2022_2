{
 "cells": [
  {
   "cell_type": "markdown",
   "metadata": {},
   "source": [
    "# Laboratorio 1 - Julia \n",
    "\n",
    "### @author : Roberto Mendoza\n",
    "\n"
   ]
  },
  {
   "cell_type": "markdown",
   "metadata": {},
   "source": [
    "<!--  -->\n",
    "## <a id='1.0'> 1.0 Types of variables  </a> "
   ]
  },
  {
   "cell_type": "code",
   "execution_count": 4,
   "metadata": {},
   "outputs": [],
   "source": [
    "# cargamos las librerias, similar a install.packages(\"nombre de liberia\")\n",
    "\n",
    "# import Pkg \n",
    "\n",
    "# Pkg.add(\"LinearAlgebra\")\n",
    "# Pkg.add(\"Random\")\n",
    "# Pkg.add(\"Distributions\")\n",
    "# Pkg.add(\"Statistics\")\n",
    "\n",
    "# Una vez instalado no se necesita cargar nuevamente \n",
    "\n",
    "using LinearAlgebra, Random, Distributions, Statistics # similar a library(\"nombre de libreria\")"
   ]
  },
  {
   "cell_type": "code",
   "execution_count": 1,
   "metadata": {
    "scrolled": true
   },
   "outputs": [
    {
     "name": "stdout",
     "output_type": "stream",
     "text": [
      "3.1614"
     ]
    },
    {
     "data": {
      "text/plain": [
       "Float64"
      ]
     },
     "execution_count": 1,
     "metadata": {},
     "output_type": "execute_result"
    }
   ],
   "source": [
    "a2 = 3.1614\n",
    "print(a2)\n",
    "typeof(a2)"
   ]
  },
  {
   "cell_type": "code",
   "execution_count": 2,
   "metadata": {},
   "outputs": [
    {
     "data": {
      "text/plain": [
       "Float64"
      ]
     },
     "execution_count": 2,
     "metadata": {},
     "output_type": "execute_result"
    }
   ],
   "source": [
    "typeof(floor(a2)) # Entero menor más cercano "
   ]
  },
  {
   "cell_type": "code",
   "execution_count": 3,
   "metadata": {},
   "outputs": [
    {
     "data": {
      "text/plain": [
       "3"
      ]
     },
     "execution_count": 3,
     "metadata": {},
     "output_type": "execute_result"
    }
   ],
   "source": [
    "Int(floor(a2))"
   ]
  },
  {
   "cell_type": "code",
   "execution_count": 4,
   "metadata": {},
   "outputs": [
    {
     "data": {
      "text/plain": [
       "Int64"
      ]
     },
     "execution_count": 4,
     "metadata": {},
     "output_type": "execute_result"
    }
   ],
   "source": [
    "b1 = 10000\n",
    "typeof(b1)"
   ]
  },
  {
   "cell_type": "code",
   "execution_count": 5,
   "metadata": {},
   "outputs": [
    {
     "data": {
      "text/plain": [
       "10000.0"
      ]
     },
     "execution_count": 5,
     "metadata": {},
     "output_type": "execute_result"
    }
   ],
   "source": [
    "# Int to float\n",
    "\n",
    "convert(Float64,b1)"
   ]
  },
  {
   "cell_type": "code",
   "execution_count": 6,
   "metadata": {},
   "outputs": [
    {
     "name": "stdout",
     "output_type": "stream",
     "text": [
      "a"
     ]
    },
    {
     "data": {
      "text/plain": [
       "Symbol"
      ]
     },
     "execution_count": 6,
     "metadata": {},
     "output_type": "execute_result"
    }
   ],
   "source": [
    "# Symbol type \n",
    "\n",
    "print(:a)\n",
    "typeof(:a)"
   ]
  },
  {
   "cell_type": "code",
   "execution_count": 7,
   "metadata": {},
   "outputs": [
    {
     "name": "stdout",
     "output_type": "stream",
     "text": [
      "My first python code"
     ]
    },
    {
     "data": {
      "text/plain": [
       "String"
      ]
     },
     "execution_count": 7,
     "metadata": {},
     "output_type": "execute_result"
    }
   ],
   "source": [
    "c1 = \"My first python code\"\n",
    "print(c1)\n",
    "typeof(c1)"
   ]
  },
  {
   "cell_type": "code",
   "execution_count": 8,
   "metadata": {},
   "outputs": [
    {
     "name": "stdout",
     "output_type": "stream",
     "text": [
      "First python code\n",
      "\n"
     ]
    }
   ],
   "source": [
    "c1 = \"First python code\"\n",
    "print(c1, '\\n','\\n')"
   ]
  },
  {
   "cell_type": "code",
   "execution_count": 9,
   "metadata": {},
   "outputs": [
    {
     "name": "stdout",
     "output_type": "stream",
     "text": [
      "First python code : Lab1 Pucp"
     ]
    }
   ],
   "source": [
    "c2 = \"Lab1 Pucp\"\n",
    "print(c1,\" : \",c2)"
   ]
  },
  {
   "cell_type": "code",
   "execution_count": 10,
   "metadata": {},
   "outputs": [
    {
     "name": "stdout",
     "output_type": "stream",
     "text": [
      "First python code : semester 2022-1"
     ]
    }
   ],
   "source": [
    "print(\"$c1 : semester 2022-1\")"
   ]
  },
  {
   "cell_type": "code",
   "execution_count": 11,
   "metadata": {},
   "outputs": [
    {
     "name": "stdout",
     "output_type": "stream",
     "text": [
      "First python code : semester 2022-1"
     ]
    }
   ],
   "source": [
    "# f-string\n",
    "\n",
    "d = 2022\n",
    "print(\"$c1 : semester $d-1\")"
   ]
  },
  {
   "cell_type": "code",
   "execution_count": 12,
   "metadata": {},
   "outputs": [
    {
     "name": "stdout",
     "output_type": "stream",
     "text": [
      "First letter is :F"
     ]
    }
   ],
   "source": [
    "#first character\n",
    "print(\"First letter is :\", c1[1]  )"
   ]
  },
  {
   "cell_type": "code",
   "execution_count": 13,
   "metadata": {},
   "outputs": [
    {
     "name": "stdout",
     "output_type": "stream",
     "text": [
      "First word is :First"
     ]
    }
   ],
   "source": [
    "#first word\n",
    "print(\"First word is :\", c1[1:5]  )"
   ]
  },
  {
   "cell_type": "markdown",
   "metadata": {},
   "source": [
    "## <a id='2.0'> 2.0 Boolean  </a> \n",
    "\n",
    "It’s used to represent the truth value of an expression."
   ]
  },
  {
   "cell_type": "code",
   "execution_count": 15,
   "metadata": {},
   "outputs": [
    {
     "data": {
      "text/plain": [
       "true"
      ]
     },
     "execution_count": 15,
     "metadata": {},
     "output_type": "execute_result"
    }
   ],
   "source": [
    "\"a\" == \"a\""
   ]
  },
  {
   "cell_type": "code",
   "execution_count": 16,
   "metadata": {},
   "outputs": [
    {
     "data": {
      "text/plain": [
       "Bool"
      ]
     },
     "execution_count": 16,
     "metadata": {},
     "output_type": "execute_result"
    }
   ],
   "source": [
    "z1 = (1==1)\n",
    "typeof(z1)"
   ]
  },
  {
   "cell_type": "code",
   "execution_count": 17,
   "metadata": {},
   "outputs": [
    {
     "name": "stdout",
     "output_type": "stream",
     "text": [
      "1"
     ]
    }
   ],
   "source": [
    "z1 = Int(z1)\n",
    "print(z1)"
   ]
  },
  {
   "cell_type": "code",
   "execution_count": 18,
   "metadata": {},
   "outputs": [
    {
     "data": {
      "text/plain": [
       "0"
      ]
     },
     "execution_count": 18,
     "metadata": {},
     "output_type": "execute_result"
    }
   ],
   "source": [
    "z2 = (10 > 20)\n",
    "Int(z2)"
   ]
  },
  {
   "cell_type": "code",
   "execution_count": 19,
   "metadata": {},
   "outputs": [
    {
     "data": {
      "text/plain": [
       "Int64"
      ]
     },
     "execution_count": 19,
     "metadata": {},
     "output_type": "execute_result"
    }
   ],
   "source": [
    "z3 = (100 != 100)\n",
    "z3 = Int(z3)\n",
    "typeof(z3)"
   ]
  },
  {
   "cell_type": "markdown",
   "metadata": {},
   "source": [
    "## <a id='1.3'> 1.3 List  </a> "
   ]
  },
  {
   "cell_type": "code",
   "execution_count": 21,
   "metadata": {
    "scrolled": true
   },
   "outputs": [
    {
     "data": {
      "text/plain": [
       "Any[]"
      ]
     },
     "execution_count": 21,
     "metadata": {},
     "output_type": "execute_result"
    }
   ],
   "source": [
    "L1 = []"
   ]
  },
  {
   "cell_type": "code",
   "execution_count": 22,
   "metadata": {},
   "outputs": [
    {
     "data": {
      "text/plain": [
       "5-element Vector{String}:\n",
       " \"ATE\"\n",
       " \"BARRANCO\"\n",
       " \"BREÑA\"\n",
       " \"CALLAO\"\n",
       " \"CARABAYLLO\""
      ]
     },
     "execution_count": 22,
     "metadata": {},
     "output_type": "execute_result"
    }
   ],
   "source": [
    "#double quote is mandatory\n",
    "\n",
    "dis1 = [\"ATE\", \"BARRANCO\",\"BREÑA\", \"CALLAO\", \"CARABAYLLO\"]\n",
    "dis1"
   ]
  },
  {
   "cell_type": "code",
   "execution_count": 23,
   "metadata": {},
   "outputs": [
    {
     "data": {
      "text/plain": [
       "Vector{String} (alias for Array{String, 1})"
      ]
     },
     "execution_count": 23,
     "metadata": {},
     "output_type": "execute_result"
    }
   ],
   "source": [
    "typeof(dis1)"
   ]
  },
  {
   "cell_type": "code",
   "execution_count": 24,
   "metadata": {
    "scrolled": true
   },
   "outputs": [
    {
     "data": {
      "text/plain": [
       "11-element Vector{String}:\n",
       " \"ATE\"\n",
       " \"BARRANCO\"\n",
       " \"BREÑA\"\n",
       " \"CALLAO\"\n",
       " \"CARABAYLLO\"\n",
       " \"CHACLACAYO\"\n",
       " \"CHORRILLOS\"\n",
       " \"CIENEGUILLA\"\n",
       " \"COMAS\"\n",
       " \"EL_AGUSTINO\"\n",
       " \"INDEPENDENCIA\""
      ]
     },
     "execution_count": 24,
     "metadata": {},
     "output_type": "execute_result"
    }
   ],
   "source": [
    "dis2 = [\"ATE\", \"BARRANCO\",\"BREÑA\", \"CALLAO\", \"CARABAYLLO\",\"CHACLACAYO\",\"CHORRILLOS\",\"CIENEGUILLA\"\n",
    "            ,\"COMAS\",\"EL_AGUSTINO\",\"INDEPENDENCIA\"]\n",
    "dis2"
   ]
  },
  {
   "cell_type": "code",
   "execution_count": 25,
   "metadata": {},
   "outputs": [
    {
     "data": {
      "text/plain": [
       "\"ATE\""
      ]
     },
     "execution_count": 25,
     "metadata": {},
     "output_type": "execute_result"
    }
   ],
   "source": [
    "dis1[1]"
   ]
  },
  {
   "cell_type": "code",
   "execution_count": 26,
   "metadata": {},
   "outputs": [
    {
     "data": {
      "text/plain": [
       "4-element Vector{String}:\n",
       " \"BARRANCO\"\n",
       " \"BREÑA\"\n",
       " \"CALLAO\"\n",
       " \"CARABAYLLO\""
      ]
     },
     "execution_count": 26,
     "metadata": {},
     "output_type": "execute_result"
    }
   ],
   "source": [
    "dis1[2:5]"
   ]
  },
  {
   "cell_type": "code",
   "execution_count": 27,
   "metadata": {},
   "outputs": [
    {
     "data": {
      "text/plain": [
       "11-element Vector{Int64}:\n",
       " 13\n",
       "  5\n",
       "  5\n",
       "  8\n",
       "  9\n",
       " 10\n",
       "  5\n",
       "  8\n",
       " 13\n",
       "  1\n",
       " 20"
      ]
     },
     "execution_count": 27,
     "metadata": {},
     "output_type": "execute_result"
    }
   ],
   "source": [
    "num = [13,5,5,8,9,10,5,8,13,1,20]"
   ]
  },
  {
   "cell_type": "code",
   "execution_count": 28,
   "metadata": {},
   "outputs": [
    {
     "name": "stdout",
     "output_type": "stream",
     "text": [
      "[1, 5, 5, 5, 8, 8, 9, 10, 13, 13, 20]"
     ]
    },
    {
     "data": {
      "text/plain": [
       "20"
      ]
     },
     "execution_count": 28,
     "metadata": {},
     "output_type": "execute_result"
    }
   ],
   "source": [
    "a = sort(num)\n",
    "print(a)\n",
    "a[11]"
   ]
  },
  {
   "cell_type": "code",
   "execution_count": 29,
   "metadata": {},
   "outputs": [
    {
     "data": {
      "text/plain": [
       "20"
      ]
     },
     "execution_count": 29,
     "metadata": {},
     "output_type": "execute_result"
    }
   ],
   "source": [
    "maximum(num)"
   ]
  },
  {
   "cell_type": "code",
   "execution_count": 30,
   "metadata": {},
   "outputs": [
    {
     "data": {
      "text/plain": [
       "11"
      ]
     },
     "execution_count": 30,
     "metadata": {},
     "output_type": "execute_result"
    }
   ],
   "source": [
    "length(dis2)"
   ]
  },
  {
   "cell_type": "code",
   "execution_count": 31,
   "metadata": {},
   "outputs": [
    {
     "data": {
      "text/plain": [
       "12-element Vector{Int64}:\n",
       "  13\n",
       "   5\n",
       "   5\n",
       "   8\n",
       "   9\n",
       "  10\n",
       "   5\n",
       "   8\n",
       "  13\n",
       "   1\n",
       "  20\n",
       " 102"
      ]
     },
     "execution_count": 31,
     "metadata": {},
     "output_type": "execute_result"
    }
   ],
   "source": [
    "# ! permite alterar el objeto sin asignar nuevamente\n",
    "\n",
    "push!(num, 102)"
   ]
  },
  {
   "cell_type": "code",
   "execution_count": 33,
   "metadata": {},
   "outputs": [
    {
     "data": {
      "text/plain": [
       "15-element Vector{Int64}:\n",
       "  13\n",
       "   5\n",
       "   5\n",
       "   8\n",
       "   9\n",
       "  10\n",
       "   5\n",
       "   8\n",
       "  13\n",
       "   1\n",
       "  20\n",
       " 102\n",
       "  10\n",
       "  20\n",
       "  30"
      ]
     },
     "execution_count": 33,
     "metadata": {},
     "output_type": "execute_result"
    }
   ],
   "source": [
    "num2 = [10,20,30]\n",
    "append!(num, num2)"
   ]
  },
  {
   "cell_type": "code",
   "execution_count": 34,
   "metadata": {},
   "outputs": [
    {
     "name": "stdout",
     "output_type": "stream",
     "text": [
      "Suma:259\n",
      "Minimo:1\n",
      "Maximo:102"
     ]
    }
   ],
   "source": [
    "print(\"Suma:\", sum(num),'\\n', \"Minimo:\", minimum(num), '\\n', \"Maximo:\", maximum(num))"
   ]
  },
  {
   "cell_type": "markdown",
   "metadata": {},
   "source": [
    "## 3.0 Dictionary "
   ]
  },
  {
   "cell_type": "code",
   "execution_count": 1,
   "metadata": {},
   "outputs": [
    {
     "name": "stdout",
     "output_type": "stream",
     "text": [
      "Dict{String, Any}(\"Islay\" => 40704, \"Majes\" => \"string\", \"Cotahuasi\" => 40801, \"Mollendo\" => 40701, \"Alca\" => 40802)"
     ]
    }
   ],
   "source": [
    "Postal_code = Dict(\"Majes\" => \"string\", \"Mollendo\" => 40701, \"Islay\" => 40704, \"Cotahuasi\" => 40801, \"Alca\" => 40802 )\n",
    "print(Postal_code)\n",
    "\n"
   ]
  },
  {
   "cell_type": "code",
   "execution_count": 67,
   "metadata": {},
   "outputs": [
    {
     "data": {
      "text/plain": [
       "KeySet for a Dict{String, Int64} with 5 entries. Keys:\n",
       "  \"Islay\"\n",
       "  \"Majes\"\n",
       "  \"Cotahuasi\"\n",
       "  \"Mollendo\"\n",
       "  \"Alca\""
      ]
     },
     "execution_count": 67,
     "metadata": {},
     "output_type": "execute_result"
    }
   ],
   "source": [
    "keys(Postal_code)"
   ]
  },
  {
   "cell_type": "code",
   "execution_count": 2,
   "metadata": {},
   "outputs": [
    {
     "ename": "LoadError",
     "evalue": "MethodError: \u001b[0mCannot `convert` an object of type \u001b[92mInt64\u001b[39m\u001b[0m to an object of type \u001b[91mString\u001b[39m\n\u001b[0mClosest candidates are:\n\u001b[0m  convert(::Type{String}, \u001b[91m::String\u001b[39m) at C:\\Users\\Roberto\\AppData\\Local\\Programs\\Julia-1.7.3\\share\\julia\\base\\essentials.jl:223\n\u001b[0m  convert(::Type{T}, \u001b[91m::T\u001b[39m) where T<:AbstractString at C:\\Users\\Roberto\\AppData\\Local\\Programs\\Julia-1.7.3\\share\\julia\\base\\strings\\basic.jl:231\n\u001b[0m  convert(::Type{T}, \u001b[91m::AbstractString\u001b[39m) where T<:AbstractString at C:\\Users\\Roberto\\AppData\\Local\\Programs\\Julia-1.7.3\\share\\julia\\base\\strings\\basic.jl:232\n\u001b[0m  ...",
     "output_type": "error",
     "traceback": [
      "MethodError: \u001b[0mCannot `convert` an object of type \u001b[92mInt64\u001b[39m\u001b[0m to an object of type \u001b[91mString\u001b[39m\n\u001b[0mClosest candidates are:\n\u001b[0m  convert(::Type{String}, \u001b[91m::String\u001b[39m) at C:\\Users\\Roberto\\AppData\\Local\\Programs\\Julia-1.7.3\\share\\julia\\base\\essentials.jl:223\n\u001b[0m  convert(::Type{T}, \u001b[91m::T\u001b[39m) where T<:AbstractString at C:\\Users\\Roberto\\AppData\\Local\\Programs\\Julia-1.7.3\\share\\julia\\base\\strings\\basic.jl:231\n\u001b[0m  convert(::Type{T}, \u001b[91m::AbstractString\u001b[39m) where T<:AbstractString at C:\\Users\\Roberto\\AppData\\Local\\Programs\\Julia-1.7.3\\share\\julia\\base\\strings\\basic.jl:232\n\u001b[0m  ...",
      "",
      "Stacktrace:",
      " [1] setindex!(h::Dict{String, String}, v0::Int64, key::String)",
      "   @ Base .\\dict.jl:381",
      " [2] Dict{String, String}(::Pair{String, Int64}, ::Vararg{Pair{String, Int64}})",
      "   @ Base .\\dict.jl:113",
      " [3] top-level scope",
      "   @ In[2]:1",
      " [4] eval",
      "   @ .\\boot.jl:373 [inlined]",
      " [5] include_string(mapexpr::typeof(REPL.softscope), mod::Module, code::String, filename::String)",
      "   @ Base .\\loading.jl:1196"
     ]
    }
   ],
   "source": [
    "Postal_code = Dict{String,String}(\"Majes\" => 40520, \"Mollendo\" => 40701, \n",
    "    \"Islay\" => 40704, \"Cotahuasi\" => 40801, \"Alca\" => 40802 )\n",
    "\n",
    "print(Postal_code)"
   ]
  },
  {
   "cell_type": "code",
   "execution_count": 75,
   "metadata": {},
   "outputs": [
    {
     "name": "stdout",
     "output_type": "stream",
     "text": [
      "Dict{String, Any}(\"Islay\" => 40704, \"Majes\" => 40520, \"Cotahuasi\" => 40801, \"Mollendo\" => 40701, \"Alca\" => 40802)"
     ]
    }
   ],
   "source": [
    "# Declarando el tipo de variable en cada llave del diccionario\n",
    "Postal_code = Dict{String, Any}(\"Majes\" => 40520, \"Mollendo\" => 40701, \n",
    "    \"Islay\" => 40704, \"Cotahuasi\" => 40801, \"Alca\" => 40802 )\n",
    "print(Postal_code)"
   ]
  },
  {
   "cell_type": "code",
   "execution_count": 76,
   "metadata": {},
   "outputs": [
    {
     "data": {
      "text/plain": [
       "40704"
      ]
     },
     "execution_count": 76,
     "metadata": {},
     "output_type": "execute_result"
    }
   ],
   "source": [
    "Postal_code[\"Islay\"]"
   ]
  },
  {
   "cell_type": "code",
   "execution_count": 77,
   "metadata": {},
   "outputs": [
    {
     "data": {
      "text/plain": [
       "7-element Vector{Pair{String, Any}}:\n",
       "     \"Islay\" => 40704\n",
       "  \"CHARCANA\" => 40803\n",
       "     \"Majes\" => 40520\n",
       " \"Cotahuasi\" => 40801\n",
       "  \"Mollendo\" => 40701\n",
       "      \"Alca\" => 40802\n",
       "     \"LOMAS\" => Dict{String, Any}(\"Poverty Rate\" => \"18.2%\", \"UBIGEO\" => 40311, \"Population\" => \"20 mil\")"
      ]
     },
     "execution_count": 77,
     "metadata": {},
     "output_type": "execute_result"
    }
   ],
   "source": [
    "# add new element\n",
    "\n",
    "merge!(Postal_code, Dict(\"CHARCANA\"=> 40803))\n",
    "\n",
    "# add dictionary \n",
    "dt1 = Dict{String,Any}(\"LOMAS\" => Dict(\"UBIGEO\" => 40311, \"Poverty Rate\" => \"18.2%\", \"Population\" => \"20 mil\"))\n",
    "union(Postal_code, dt1)\n"
   ]
  },
  {
   "cell_type": "code",
   "execution_count": 61,
   "metadata": {},
   "outputs": [
    {
     "data": {
      "text/plain": [
       "Dict{String, Int64} with 10 entries:\n",
       "  \"Santa Rosa de Puquio\"   => 15003\n",
       "  \"Fray Martin\"            => 15001\n",
       "  \"La Cruz (11 Amigos)\"    => 15018\n",
       "  \"San Lorenzo\"            => 15072\n",
       "  \"Cuchicorral\"            => 15004\n",
       "  \"Santiago de Punchauca\"  => 15006\n",
       "  \"Cabaña Suche\"           => 15046\n",
       "  \"Pascal\"                 => 15081\n",
       "  \"Cerro Cañon\"            => 15019\n",
       "  \"Jose Carlos Mariategui\" => 15079"
      ]
     },
     "execution_count": 61,
     "metadata": {},
     "output_type": "execute_result"
    }
   ],
   "source": [
    "# keys\n",
    "cities = [\"Fray Martin\",\"Santa Rosa de Puquio\",\"Cuchicorral\",\"Santiago de Punchauca\",\"La Cruz (11 Amigos)\",\"Cerro Cañon\",\n",
    "            \"Cabaña Suche\",\"San Lorenzo\",\"Jose Carlos Mariategui\",\"Pascal\"]\n",
    "\n",
    "# values\n",
    "postal_code1 = [15001,15003,15004,15006,15018,15019,15046,15072,15079,15081]\n",
    "\n",
    "ct_pc = Dict( zip( cities , postal_code1) )"
   ]
  },
  {
   "cell_type": "code",
   "execution_count": 62,
   "metadata": {},
   "outputs": [
    {
     "data": {
      "text/plain": [
       "15003"
      ]
     },
     "execution_count": 62,
     "metadata": {},
     "output_type": "execute_result"
    }
   ],
   "source": [
    "ct_pc[\"Santa Rosa de Puquio\"]"
   ]
  },
  {
   "cell_type": "markdown",
   "metadata": {},
   "source": [
    "## 6.0 Array and Matrix\n",
    "    "
   ]
  },
  {
   "cell_type": "code",
   "execution_count": 79,
   "metadata": {},
   "outputs": [
    {
     "data": {
      "text/plain": [
       "5-element Vector{Float64}:\n",
       " 1.0\n",
       " 2.0\n",
       " 3.0\n",
       " 4.0\n",
       " 5.2"
      ]
     },
     "execution_count": 79,
     "metadata": {},
     "output_type": "execute_result"
    }
   ],
   "source": [
    "# 1D array\n",
    "a = [1, 2, 3, 4, 5.2]\n",
    "typeof(a)\n",
    "a"
   ]
  },
  {
   "cell_type": "code",
   "execution_count": 80,
   "metadata": {},
   "outputs": [
    {
     "name": "stdout",
     "output_type": "stream",
     "text": [
      "3.0\n",
      "1.5811388300841898"
     ]
    }
   ],
   "source": [
    "using Statistics\n",
    "\n",
    "a = [1 2 3 4 5]\n",
    "\n",
    "print(mean(a), \"\\n\")\n",
    "print(std(a))\n",
    "\n"
   ]
  },
  {
   "cell_type": "code",
   "execution_count": 81,
   "metadata": {},
   "outputs": [
    {
     "data": {
      "text/plain": [
       "2×3 Matrix{Int64}:\n",
       " 1  2  3\n",
       " 4  5  6"
      ]
     },
     "execution_count": 81,
     "metadata": {},
     "output_type": "execute_result"
    }
   ],
   "source": [
    "# 2D array\n",
    "M = [1 2 3; 4 5 6]\n",
    "\n",
    "typeof(M)\n",
    "size(M)\n",
    "M"
   ]
  },
  {
   "cell_type": "code",
   "execution_count": 12,
   "metadata": {},
   "outputs": [
    {
     "name": "stdout",
     "output_type": "stream",
     "text": [
      "[2.5 3.5 4.5]\n",
      "[2.0; 5.0;;]"
     ]
    }
   ],
   "source": [
    "print(mean(M, dims =1), \"\\n\")  # by coloumn\n",
    "print(mean(M, dims =2))  # by row"
   ]
  },
  {
   "cell_type": "code",
   "execution_count": 216,
   "metadata": {},
   "outputs": [
    {
     "name": "stdout",
     "output_type": "stream",
     "text": [
      "Rows:2\n",
      "Columns: 3"
     ]
    }
   ],
   "source": [
    "#rows\n",
    "print(\"Rows:\",size(M,1),\"\\n\", \"Columns: \", size(M,2))\n"
   ]
  },
  {
   "cell_type": "code",
   "execution_count": 82,
   "metadata": {},
   "outputs": [
    {
     "name": "stdout",
     "output_type": "stream",
     "text": [
      "[0, 2, 4, 6, 8, 10, 12, 14, 16, 18]"
     ]
    },
    {
     "data": {
      "text/plain": [
       "Vector{Int64} (alias for Array{Int64, 1})"
      ]
     },
     "execution_count": 82,
     "metadata": {},
     "output_type": "execute_result"
    }
   ],
   "source": [
    "# Create a 1D NumPy array with values from 0 to 20 (exclusively) incremented by 2.5:\n",
    "y = collect(0:2:19)\n",
    "print(y)\n",
    "typeof(y)"
   ]
  },
  {
   "cell_type": "code",
   "execution_count": 83,
   "metadata": {},
   "outputs": [
    {
     "name": "stdout",
     "output_type": "stream",
     "text": [
      "[0, 1, 2, 3, 4, 5, 6, 7, 8, 9, 10]"
     ]
    }
   ],
   "source": [
    "y = collect(0:10)\n",
    "print(y)"
   ]
  },
  {
   "cell_type": "code",
   "execution_count": 84,
   "metadata": {},
   "outputs": [
    {
     "name": "stdout",
     "output_type": "stream",
     "text": [
      "[0.0 0.0; 0.0 0.0; 0.0 0.0; 0.0 0.0; 0.0 0.0; 0.0 0.0; 0.0 0.0; 0.0 0.0]"
     ]
    },
    {
     "data": {
      "text/plain": [
       "8×2 Matrix{Float64}:\n",
       " 0.0  0.0\n",
       " 0.0  0.0\n",
       " 0.0  0.0\n",
       " 0.0  0.0\n",
       " 0.0  0.0\n",
       " 0.0  0.0\n",
       " 0.0  0.0\n",
       " 0.0  0.0"
      ]
     },
     "execution_count": 84,
     "metadata": {},
     "output_type": "execute_result"
    }
   ],
   "source": [
    "M1 = zeros(8, 2)\n",
    "print(M1)"
   ]
  },
  {
   "cell_type": "code",
   "execution_count": 85,
   "metadata": {},
   "outputs": [
    {
     "data": {
      "text/plain": [
       "8×4 Matrix{Float64}:\n",
       " 1.0  1.0  1.0  1.0\n",
       " 1.0  1.0  1.0  1.0\n",
       " 1.0  1.0  1.0  1.0\n",
       " 1.0  1.0  1.0  1.0\n",
       " 1.0  1.0  1.0  1.0\n",
       " 1.0  1.0  1.0  1.0\n",
       " 1.0  1.0  1.0  1.0\n",
       " 1.0  1.0  1.0  1.0"
      ]
     },
     "execution_count": 85,
     "metadata": {},
     "output_type": "execute_result"
    }
   ],
   "source": [
    "M2 = ones(8, 4)\n",
    "M2"
   ]
  },
  {
   "cell_type": "code",
   "execution_count": 86,
   "metadata": {},
   "outputs": [
    {
     "data": {
      "text/plain": [
       "8×6 Matrix{Float64}:\n",
       " 0.0  0.0  1.0  1.0  1.0  1.0\n",
       " 0.0  0.0  1.0  1.0  1.0  1.0\n",
       " 0.0  0.0  1.0  1.0  1.0  1.0\n",
       " 0.0  0.0  1.0  1.0  1.0  1.0\n",
       " 0.0  0.0  1.0  1.0  1.0  1.0\n",
       " 0.0  0.0  1.0  1.0  1.0  1.0\n",
       " 0.0  0.0  1.0  1.0  1.0  1.0\n",
       " 0.0  0.0  1.0  1.0  1.0  1.0"
      ]
     },
     "execution_count": 86,
     "metadata": {},
     "output_type": "execute_result"
    }
   ],
   "source": [
    "M3 = hcat(M1,M2)\n",
    "size(M3)\n",
    "M3"
   ]
  },
  {
   "cell_type": "code",
   "execution_count": 87,
   "metadata": {},
   "outputs": [
    {
     "data": {
      "text/plain": [
       "2×6 Matrix{Int64}:\n",
       " 2  2  3  4  5  1\n",
       " 1  5  5  9  8  2"
      ]
     },
     "execution_count": 87,
     "metadata": {},
     "output_type": "execute_result"
    }
   ],
   "source": [
    "M4 = [[2 2 3 4 5 1];[1 5 5 9 8 2]]\n",
    "M4"
   ]
  },
  {
   "cell_type": "code",
   "execution_count": 88,
   "metadata": {},
   "outputs": [
    {
     "data": {
      "text/plain": [
       "6×10 transpose(::Matrix{Float64}) with eltype Float64:\n",
       " 0.0  0.0  0.0  0.0  0.0  0.0  0.0  0.0  2.0  1.0\n",
       " 0.0  0.0  0.0  0.0  0.0  0.0  0.0  0.0  2.0  5.0\n",
       " 1.0  1.0  1.0  1.0  1.0  1.0  1.0  1.0  3.0  5.0\n",
       " 1.0  1.0  1.0  1.0  1.0  1.0  1.0  1.0  4.0  9.0\n",
       " 1.0  1.0  1.0  1.0  1.0  1.0  1.0  1.0  5.0  8.0\n",
       " 1.0  1.0  1.0  1.0  1.0  1.0  1.0  1.0  1.0  2.0"
      ]
     },
     "execution_count": 88,
     "metadata": {},
     "output_type": "execute_result"
    }
   ],
   "source": [
    "M5 = vcat(M3,M4)\n",
    "\n",
    "M5\n",
    "transpose(M5)"
   ]
  },
  {
   "cell_type": "code",
   "execution_count": 89,
   "metadata": {
    "scrolled": true
   },
   "outputs": [
    {
     "data": {
      "text/plain": [
       "10-element Vector{Float64}:\n",
       " 1.0\n",
       " 1.0\n",
       " 1.0\n",
       " 1.0\n",
       " 1.0\n",
       " 1.0\n",
       " 1.0\n",
       " 1.0\n",
       " 1.0\n",
       " 1.0"
      ]
     },
     "execution_count": 89,
     "metadata": {},
     "output_type": "execute_result"
    }
   ],
   "source": [
    "w = ones(10)"
   ]
  },
  {
   "cell_type": "code",
   "execution_count": 90,
   "metadata": {},
   "outputs": [
    {
     "data": {
      "text/plain": [
       "8×8 Matrix{Int64}:\n",
       " 1  0  0  0  0  0  0  0\n",
       " 0  1  0  0  0  0  0  0\n",
       " 0  0  1  0  0  0  0  0\n",
       " 0  0  0  1  0  0  0  0\n",
       " 0  0  0  0  1  0  0  0\n",
       " 0  0  0  0  0  1  0  0\n",
       " 0  0  0  0  0  0  1  0\n",
       " 0  0  0  0  0  0  0  1"
      ]
     },
     "execution_count": 90,
     "metadata": {},
     "output_type": "execute_result"
    }
   ],
   "source": [
    "using LinearAlgebra\n",
    "\n",
    "Iden = Matrix(1I,8,8)"
   ]
  },
  {
   "cell_type": "code",
   "execution_count": 91,
   "metadata": {},
   "outputs": [
    {
     "data": {
      "text/plain": [
       "32×2 Matrix{Int64}:\n",
       " 1  0\n",
       " 0  0\n",
       " 0  0\n",
       " 0  0\n",
       " 0  1\n",
       " 0  0\n",
       " 0  0\n",
       " 0  0\n",
       " 0  0\n",
       " 1  0\n",
       " 0  0\n",
       " 0  0\n",
       " 0  0\n",
       " ⋮  \n",
       " 0  0\n",
       " 0  0\n",
       " 0  1\n",
       " 0  0\n",
       " 0  0\n",
       " 0  0\n",
       " 0  0\n",
       " 1  0\n",
       " 0  0\n",
       " 0  0\n",
       " 0  0\n",
       " 0  1"
      ]
     },
     "execution_count": 91,
     "metadata": {},
     "output_type": "execute_result"
    }
   ],
   "source": [
    "I3 = reshape(Iden, 32, 2)\n",
    "I3"
   ]
  },
  {
   "cell_type": "code",
   "execution_count": 92,
   "metadata": {
    "scrolled": true
   },
   "outputs": [
    {
     "name": "stdout",
     "output_type": "stream",
     "text": [
      "[1 0 0 0 0 0 0 0 0 1 0 0 0 0 0 0 0 0 1 0 0 0 0 0 0 0 0 1 0 0 0 0; 0 0 0 0 1 0 0 0 0 0 0 0 0 1 0 0 0 0 0 0 0 0 1 0 0 0 0 0 0 0 0 1]"
     ]
    },
    {
     "data": {
      "text/plain": [
       "(2, 32)"
      ]
     },
     "execution_count": 92,
     "metadata": {},
     "output_type": "execute_result"
    }
   ],
   "source": [
    "print(I3') # transpose\n",
    "size(I3')"
   ]
  },
  {
   "cell_type": "code",
   "execution_count": 8,
   "metadata": {},
   "outputs": [
    {
     "data": {
      "text/plain": [
       "500-element Vector{Float64}:\n",
       " 1.896566070281705\n",
       " 4.621974431654904\n",
       " 3.526833836299257\n",
       " 0.10837079046204412\n",
       " 0.6527452719436257\n",
       " 1.412358539595111\n",
       " 2.06859432331957\n",
       " 2.4565096841391636\n",
       " 3.9559135914316514\n",
       " 2.4897010290426653\n",
       " 2.322449429266815\n",
       " 0.9847006960490069\n",
       " 3.3249652391864455\n",
       " ⋮\n",
       " 4.488724947070592\n",
       " 2.1546739990899377\n",
       " 3.505306608738553\n",
       " 3.111049918149344\n",
       " 4.607534071526726\n",
       " 3.2385856370553174\n",
       " 4.20976100605967\n",
       " 0.8433212962236212\n",
       " 2.998832343279894\n",
       " 5.203629452752528\n",
       " 3.895110270410055\n",
       " 0.9342847527281901"
      ]
     },
     "execution_count": 8,
     "metadata": {},
     "output_type": "execute_result"
    }
   ],
   "source": [
    "using Random\n",
    "using Distributions\n",
    "Random.seed!(756)\n",
    "\n",
    "x1 = rand(500)  # uniform distribution\n",
    "x2 = rand(500) # uniform distribution\n",
    "x3 = rand(500) # uniform distribution\n",
    "x4 = rand(500) # uniform distribution\n",
    "\n",
    "e = randn(500) # normal dsitribution mean = 0 y sd = 1\n",
    "\n",
    "# DGP\n",
    "\n",
    "Y = ones(500) + 0.8.*x1 + 1.2.*x2 + 0.5.*x3 + 1.5.*x4 + e"
   ]
  },
  {
   "cell_type": "code",
   "execution_count": 94,
   "metadata": {
    "scrolled": true
   },
   "outputs": [
    {
     "data": {
      "text/plain": [
       "500×5 Matrix{Float64}:\n",
       " 1.0  0.69395    0.230708   0.755381    0.114891\n",
       " 1.0  0.342808   0.391855   0.509551    0.864573\n",
       " 1.0  0.878973   0.688652   0.400967    0.569701\n",
       " 1.0  0.437436   0.0768201  0.885261    0.123005\n",
       " 1.0  0.189015   0.399809   0.407279    0.394585\n",
       " 1.0  0.218179   0.109448   0.00840352  0.108008\n",
       " 1.0  0.544024   0.205616   0.267832    0.0436557\n",
       " 1.0  0.962239   0.925667   0.216082    0.352726\n",
       " 1.0  0.502289   0.480901   0.288146    0.917227\n",
       " 1.0  0.0176643  0.874951   0.452493    0.725432\n",
       " 1.0  0.702488   0.203521   0.835733    0.277678\n",
       " 1.0  0.387177   0.185274   0.630065    0.00152385\n",
       " 1.0  0.75172    0.170344   0.887998    0.0214684\n",
       " ⋮                                      \n",
       " 1.0  0.517387   0.0729328  0.315226    0.189123\n",
       " 1.0  0.32472    0.409452   0.256903    0.110878\n",
       " 1.0  0.848717   0.0184663  0.557234    0.792108\n",
       " 1.0  0.839263   0.819206   0.587164    0.0276174\n",
       " 1.0  0.296967   0.375418   0.44435     0.955923\n",
       " 1.0  0.461611   0.392524   0.155386    0.329141\n",
       " 1.0  0.652895   0.973743   0.164328    0.56274\n",
       " 1.0  0.422581   0.780213   0.350788    0.626888\n",
       " 1.0  0.471142   0.635874   0.0478847   0.641411\n",
       " 1.0  0.243467   0.652978   0.630408    0.26652\n",
       " 1.0  0.21262    0.738478   0.286239    0.69063\n",
       " 1.0  0.19871    0.16188    0.645123    0.29906"
      ]
     },
     "execution_count": 94,
     "metadata": {},
     "output_type": "execute_result"
    }
   ],
   "source": [
    "# joint vectors to matrix \n",
    "\n",
    "X = hcat(ones(500),x1,x2,x3,x4)"
   ]
  },
  {
   "cell_type": "code",
   "execution_count": 95,
   "metadata": {},
   "outputs": [
    {
     "data": {
      "text/plain": [
       "5-element Vector{Float64}:\n",
       " 0.975872412578692\n",
       " 0.862370979221387\n",
       " 1.385111654309122\n",
       " 0.5676058489648621\n",
       " 1.3399985203750866"
      ]
     },
     "execution_count": 95,
     "metadata": {},
     "output_type": "execute_result"
    }
   ],
   "source": [
    "# OLS method\n",
    "\n",
    "beta = inv(transpose(X) * X) * (transpose(X) * Y)"
   ]
  },
  {
   "cell_type": "markdown",
   "metadata": {},
   "source": [
    "## References\n",
    "\n",
    "\n",
    "https://docs.julialang.org/en/v1/manual/arrays/\n",
    "\n",
    "\n",
    "https://fncbook.github.io/fnc/linsys/demos/matrices-julia.html\n"
   ]
  }
 ],
 "metadata": {
  "kernelspec": {
   "display_name": "Julia 1.7.3",
   "language": "julia",
   "name": "julia-1.7"
  },
  "language_info": {
   "file_extension": ".jl",
   "mimetype": "application/julia",
   "name": "julia",
   "version": "1.7.3"
  }
 },
 "nbformat": 4,
 "nbformat_minor": 4
}
