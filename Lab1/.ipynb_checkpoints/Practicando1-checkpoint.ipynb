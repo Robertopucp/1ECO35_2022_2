{
 "cells": [
  {
   "cell_type": "markdown",
   "id": "d00500bd",
   "metadata": {},
   "source": [
    "<ht> Mi primera practica "
   ]
  },
  {
   "cell_type": "markdown",
   "id": "af035293",
   "metadata": {},
   "source": [
    "# Mi primera práctica sobre laboraorio 1 Python"
   ]
  },
  {
   "cell_type": "markdown",
   "id": "44f62b81",
   "metadata": {},
   "source": [
    "## 1.0 Types of variables"
   ]
  },
  {
   "cell_type": "code",
   "execution_count": 2,
   "id": "6c78d1a9",
   "metadata": {},
   "outputs": [
    {
     "data": {
      "text/plain": [
       "float"
      ]
     },
     "execution_count": 2,
     "metadata": {},
     "output_type": "execute_result"
    }
   ],
   "source": [
    "h1 = 2.110\n",
    "h1 = 2.110\n",
    "h1 = 2.110\n",
    "h1 = 2.110\n",
    "h1 = 2.110\n",
    "\n",
    "type(h1)"
   ]
  },
  {
   "cell_type": "code",
   "execution_count": 6,
   "id": "b078e99c",
   "metadata": {},
   "outputs": [
    {
     "data": {
      "text/plain": [
       "float"
      ]
     },
     "execution_count": 6,
     "metadata": {},
     "output_type": "execute_result"
    }
   ],
   "source": [
    "e= int(h1)\n",
    "type(h1)"
   ]
  },
  {
   "cell_type": "code",
   "execution_count": 7,
   "id": "363d3cc0",
   "metadata": {},
   "outputs": [
    {
     "data": {
      "text/plain": [
       "int"
      ]
     },
     "execution_count": 7,
     "metadata": {},
     "output_type": "execute_result"
    }
   ],
   "source": [
    "a2 = 2000\n",
    "type(a2)\n"
   ]
  },
  {
   "cell_type": "code",
   "execution_count": 8,
   "id": "4baa8332",
   "metadata": {},
   "outputs": [
    {
     "data": {
      "text/plain": [
       "2000.0"
      ]
     },
     "execution_count": 8,
     "metadata": {},
     "output_type": "execute_result"
    }
   ],
   "source": [
    "float(a2)"
   ]
  },
  {
   "cell_type": "code",
   "execution_count": 16,
   "id": "572ec366",
   "metadata": {},
   "outputs": [
    {
     "name": "stdout",
     "output_type": "stream",
     "text": [
      "the first python code's Hayra\n"
     ]
    },
    {
     "data": {
      "text/plain": [
       "str"
      ]
     },
     "execution_count": 16,
     "metadata": {},
     "output_type": "execute_result"
    }
   ],
   "source": [
    "c1 = \"the first python code's Hayra\"\n",
    "print(c1)\n",
    "type(c1)"
   ]
  },
  {
   "cell_type": "code",
   "execution_count": 17,
   "id": "e39aa106",
   "metadata": {},
   "outputs": [
    {
     "name": "stdout",
     "output_type": "stream",
     "text": [
      "the first python code's Hayra \n",
      " at R y phyton Class\n"
     ]
    }
   ],
   "source": [
    "c1 = \"the first python code's Hayra\"\n",
    "c2 = \"at R y phyton Class\"\n",
    "\n",
    "print(c1,'\\n',c2)"
   ]
  },
  {
   "cell_type": "code",
   "execution_count": 18,
   "id": "59f3838f",
   "metadata": {},
   "outputs": [
    {
     "name": "stdout",
     "output_type": "stream",
     "text": [
      "the first python code's Hayra : at R y phyton Class\n"
     ]
    }
   ],
   "source": [
    "print(c1 + \" : \" + c2)"
   ]
  },
  {
   "cell_type": "code",
   "execution_count": 19,
   "id": "694645e3",
   "metadata": {},
   "outputs": [
    {
     "name": "stdout",
     "output_type": "stream",
     "text": [
      "the first python code's Hayra : semester 2022-1\n"
     ]
    }
   ],
   "source": [
    "print(f'{c1} : semester 2022-1')"
   ]
  },
  {
   "cell_type": "code",
   "execution_count": null,
   "id": "5a44abd8",
   "metadata": {},
   "outputs": [],
   "source": [
    "d = 2022"
   ]
  },
  {
   "cell_type": "code",
   "execution_count": null,
   "id": "319f23b6",
   "metadata": {},
   "outputs": [],
   "source": [
    "print(f'{})"
   ]
  },
  {
   "cell_type": "code",
   "execution_count": null,
   "id": "88b2cc77",
   "metadata": {},
   "outputs": [],
   "source": []
  },
  {
   "cell_type": "code",
   "execution_count": null,
   "id": "7b9e94ec",
   "metadata": {},
   "outputs": [],
   "source": []
  },
  {
   "cell_type": "code",
   "execution_count": null,
   "id": "ec113a1c",
   "metadata": {},
   "outputs": [],
   "source": []
  }
 ],
 "metadata": {
  "kernelspec": {
   "display_name": "Python 3 (ipykernel)",
   "language": "python",
   "name": "python3"
  },
  "language_info": {
   "codemirror_mode": {
    "name": "ipython",
    "version": 3
   },
   "file_extension": ".py",
   "mimetype": "text/x-python",
   "name": "python",
   "nbconvert_exporter": "python",
   "pygments_lexer": "ipython3",
   "version": "3.9.12"
  }
 },
 "nbformat": 4,
 "nbformat_minor": 5
}
