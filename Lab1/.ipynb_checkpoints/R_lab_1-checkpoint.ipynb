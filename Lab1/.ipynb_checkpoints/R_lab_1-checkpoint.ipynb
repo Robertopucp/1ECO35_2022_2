{
 "cells": [
  {
   "cell_type": "markdown",
   "metadata": {},
   "source": [
    "# R introduction"
   ]
  },
  {
   "cell_type": "code",
   "execution_count": 1,
   "metadata": {
    "scrolled": false
   },
   "outputs": [
    {
     "data": {
      "text/html": [
       "'C:/PROGRA~1/R/R-41~1.3'"
      ],
      "text/latex": [
       "'C:/PROGRA\\textasciitilde{}1/R/R-41\\textasciitilde{}1.3'"
      ],
      "text/markdown": [
       "'C:/PROGRA~1/R/R-41~1.3'"
      ],
      "text/plain": [
       "[1] \"C:/PROGRA~1/R/R-41~1.3\""
      ]
     },
     "metadata": {},
     "output_type": "display_data"
    }
   ],
   "source": [
    "R.home()"
   ]
  },
  {
   "cell_type": "code",
   "execution_count": 2,
   "metadata": {
    "scrolled": false
   },
   "outputs": [
    {
     "data": {
      "text/plain": [
       "               _                           \n",
       "platform       x86_64-w64-mingw32          \n",
       "arch           x86_64                      \n",
       "os             mingw32                     \n",
       "system         x86_64, mingw32             \n",
       "status                                     \n",
       "major          4                           \n",
       "minor          1.3                         \n",
       "year           2022                        \n",
       "month          03                          \n",
       "day            10                          \n",
       "svn rev        81868                       \n",
       "language       R                           \n",
       "version.string R version 4.1.3 (2022-03-10)\n",
       "nickname       One Push-Up                 "
      ]
     },
     "metadata": {},
     "output_type": "display_data"
    }
   ],
   "source": [
    "R.version"
   ]
  },
  {
   "cell_type": "markdown",
   "metadata": {},
   "source": [
    "### Not use = for asignment, use <-"
   ]
  },
  {
   "cell_type": "code",
   "execution_count": 44,
   "metadata": {},
   "outputs": [
    {
     "ename": "ERROR",
     "evalue": "Error in a <- b = 4: no se pudo encontrar la función \"<-<-\"\n",
     "output_type": "error",
     "traceback": [
      "Error in a <- b = 4: no se pudo encontrar la función \"<-<-\"\nTraceback:\n"
     ]
    }
   ],
   "source": [
    "a <- b = 4"
   ]
  },
  {
   "cell_type": "code",
   "execution_count": 45,
   "metadata": {},
   "outputs": [
    {
     "data": {
      "text/html": [
       "5"
      ],
      "text/latex": [
       "5"
      ],
      "text/markdown": [
       "5"
      ],
      "text/plain": [
       "[1] 5"
      ]
     },
     "metadata": {},
     "output_type": "display_data"
    }
   ],
   "source": [
    "a <- b <-5\n",
    "a"
   ]
  },
  {
   "cell_type": "code",
   "execution_count": 8,
   "metadata": {},
   "outputs": [
    {
     "name": "stdout",
     "output_type": "stream",
     "text": [
      "[1] 52\n"
     ]
    },
    {
     "data": {
      "text/html": [
       "'double'"
      ],
      "text/latex": [
       "'double'"
      ],
      "text/markdown": [
       "'double'"
      ],
      "text/plain": [
       "[1] \"double\""
      ]
     },
     "metadata": {},
     "output_type": "display_data"
    },
    {
     "data": {
      "text/html": [
       "'numeric'"
      ],
      "text/latex": [
       "'numeric'"
      ],
      "text/markdown": [
       "'numeric'"
      ],
      "text/plain": [
       "[1] \"numeric\""
      ]
     },
     "metadata": {},
     "output_type": "display_data"
    }
   ],
   "source": [
    "a1 <- 52\n",
    "print(a1)\n",
    "typeof(a1)  \n",
    "class(a1)\n",
    "\n",
    "# \"typeof\" how the object is stored and \"class\" is the type of object \n",
    "\n",
    "# double use more memory than float \n",
    "\n",
    "# integer, single precision and double precision"
   ]
  },
  {
   "cell_type": "code",
   "execution_count": 9,
   "metadata": {},
   "outputs": [
    {
     "name": "stdout",
     "output_type": "stream",
     "text": [
      "[1] 3.1614\n"
     ]
    },
    {
     "data": {
      "text/html": [
       "'double'"
      ],
      "text/latex": [
       "'double'"
      ],
      "text/markdown": [
       "'double'"
      ],
      "text/plain": [
       "[1] \"double\""
      ]
     },
     "metadata": {},
     "output_type": "display_data"
    }
   ],
   "source": [
    "a2 <- 3.1614\n",
    "print(a2)\n",
    "typeof(a2)"
   ]
  },
  {
   "cell_type": "code",
   "execution_count": 47,
   "metadata": {},
   "outputs": [
    {
     "data": {
      "text/html": [
       "'integer'"
      ],
      "text/latex": [
       "'integer'"
      ],
      "text/markdown": [
       "'integer'"
      ],
      "text/plain": [
       "[1] \"integer\""
      ]
     },
     "metadata": {},
     "output_type": "display_data"
    },
    {
     "data": {
      "text/html": [
       "'integer'"
      ],
      "text/latex": [
       "'integer'"
      ],
      "text/markdown": [
       "'integer'"
      ],
      "text/plain": [
       "[1] \"integer\""
      ]
     },
     "metadata": {},
     "output_type": "display_data"
    }
   ],
   "source": [
    "a2 <- as.integer(a2)\n",
    "typeof(a2)\n",
    "class(a2)"
   ]
  },
  {
   "cell_type": "code",
   "execution_count": 14,
   "metadata": {},
   "outputs": [
    {
     "data": {
      "text/html": [
       "'double'"
      ],
      "text/latex": [
       "'double'"
      ],
      "text/markdown": [
       "'double'"
      ],
      "text/plain": [
       "[1] \"double\""
      ]
     },
     "metadata": {},
     "output_type": "display_data"
    }
   ],
   "source": [
    "b1 <- 10000\n",
    "typeof(b1)"
   ]
  },
  {
   "cell_type": "code",
   "execution_count": 18,
   "metadata": {},
   "outputs": [
    {
     "data": {
      "text/html": [
       "'double'"
      ],
      "text/latex": [
       "'double'"
      ],
      "text/markdown": [
       "'double'"
      ],
      "text/plain": [
       "[1] \"double\""
      ]
     },
     "metadata": {},
     "output_type": "display_data"
    }
   ],
   "source": [
    "b2 <- 8\n",
    "typeof(b2)"
   ]
  },
  {
   "cell_type": "code",
   "execution_count": 16,
   "metadata": {},
   "outputs": [
    {
     "name": "stdout",
     "output_type": "stream",
     "text": [
      "[1] \"My first python code\"\n"
     ]
    },
    {
     "data": {
      "text/html": [
       "'character'"
      ],
      "text/latex": [
       "'character'"
      ],
      "text/markdown": [
       "'character'"
      ],
      "text/plain": [
       "[1] \"character\""
      ]
     },
     "metadata": {},
     "output_type": "display_data"
    },
    {
     "data": {
      "text/html": [
       "'character'"
      ],
      "text/latex": [
       "'character'"
      ],
      "text/markdown": [
       "'character'"
      ],
      "text/plain": [
       "[1] \"character\""
      ]
     },
     "metadata": {},
     "output_type": "display_data"
    }
   ],
   "source": [
    "c1 <- \"My first python code\"\n",
    "print(c1)\n",
    "typeof(c1)\n",
    "class(c1)"
   ]
  },
  {
   "cell_type": "code",
   "execution_count": 19,
   "metadata": {},
   "outputs": [
    {
     "name": "stdout",
     "output_type": "stream",
     "text": [
      "First python code \n",
      " \n"
     ]
    }
   ],
   "source": [
    "c1 <- \"First python code\"\n",
    "cat(c1, '\\n','\\n')"
   ]
  },
  {
   "cell_type": "code",
   "execution_count": 20,
   "metadata": {
    "scrolled": false
   },
   "outputs": [
    {
     "name": "stdout",
     "output_type": "stream",
     "text": [
      "First python code  :  Lab1 Pucp"
     ]
    }
   ],
   "source": [
    "c2 <- 'Lab1 Pucp'\n",
    "cat(c1,\" : \",c2)"
   ]
  },
  {
   "cell_type": "code",
   "execution_count": 21,
   "metadata": {},
   "outputs": [
    {
     "name": "stderr",
     "output_type": "stream",
     "text": [
      "Installing package into 'C:/Users/Roberto Carlos/Documents/R/win-library/4.1'\n",
      "(as 'lib' is unspecified)\n",
      "\n"
     ]
    },
    {
     "name": "stdout",
     "output_type": "stream",
     "text": [
      "package 'devtools' successfully unpacked and MD5 sums checked\n",
      "\n",
      "The downloaded binary packages are in\n",
      "\tC:\\Users\\Roberto Carlos\\AppData\\Local\\Temp\\RtmpcHPuc3\\downloaded_packages\n"
     ]
    }
   ],
   "source": [
    "#install.packages(\"devtools\")\n",
    "library(glue)\n",
    "a <- glue('{c1} : semester 2022-1')"
   ]
  },
  {
   "cell_type": "code",
   "execution_count": 23,
   "metadata": {},
   "outputs": [
    {
     "data": {
      "text/html": [
       "'character'"
      ],
      "text/latex": [
       "'character'"
      ],
      "text/markdown": [
       "'character'"
      ],
      "text/plain": [
       "[1] \"character\""
      ]
     },
     "metadata": {},
     "output_type": "display_data"
    },
    {
     "data": {
      "text/html": [
       "<style>\n",
       ".list-inline {list-style: none; margin:0; padding: 0}\n",
       ".list-inline>li {display: inline-block}\n",
       ".list-inline>li:not(:last-child)::after {content: \"\\00b7\"; padding: 0 .5ex}\n",
       "</style>\n",
       "<ol class=list-inline><li>'glue'</li><li>'character'</li></ol>\n"
      ],
      "text/latex": [
       "\\begin{enumerate*}\n",
       "\\item 'glue'\n",
       "\\item 'character'\n",
       "\\end{enumerate*}\n"
      ],
      "text/markdown": [
       "1. 'glue'\n",
       "2. 'character'\n",
       "\n",
       "\n"
      ],
      "text/plain": [
       "[1] \"glue\"      \"character\""
      ]
     },
     "metadata": {},
     "output_type": "display_data"
    }
   ],
   "source": [
    "typeof(a)\n",
    "class(a)"
   ]
  },
  {
   "cell_type": "code",
   "execution_count": 24,
   "metadata": {},
   "outputs": [
    {
     "data": {
      "text/html": [
       "'First python code : semester 2022-1'"
      ],
      "text/latex": [
       "'First python code : semester 2022-1'"
      ],
      "text/markdown": [
       "'First python code : semester 2022-1'"
      ],
      "text/plain": [
       "First python code : semester 2022-1"
      ]
     },
     "metadata": {},
     "output_type": "display_data"
    }
   ],
   "source": [
    "d <- 2022\n",
    "glue('{c1} : semester {d}-1')"
   ]
  },
  {
   "cell_type": "code",
   "execution_count": 25,
   "metadata": {},
   "outputs": [
    {
     "data": {
      "text/html": [
       "' First python code. : 2022.-1'"
      ],
      "text/latex": [
       "' First python code. : 2022.-1'"
      ],
      "text/markdown": [
       "' First python code. : 2022.-1'"
      ],
      "text/plain": [
       "[1] \" First python code. : 2022.-1\""
      ]
     },
     "metadata": {},
     "output_type": "display_data"
    }
   ],
   "source": [
    "sprintf(\" %s. : %s.-1\", c1, d)\n"
   ]
  },
  {
   "cell_type": "code",
   "execution_count": 26,
   "metadata": {
    "scrolled": true
   },
   "outputs": [
    {
     "name": "stdout",
     "output_type": "stream",
     "text": [
      "Fisrt letter is : F"
     ]
    }
   ],
   "source": [
    "#first character\n",
    "cat('Fisrt letter is :', substr(c1, 1,1)  )"
   ]
  },
  {
   "cell_type": "code",
   "execution_count": 27,
   "metadata": {},
   "outputs": [
    {
     "name": "stdout",
     "output_type": "stream",
     "text": [
      "Fisrt word is : First"
     ]
    }
   ],
   "source": [
    "#first word\n",
    "cat('Fisrt word is :', substr(c1, 1,5)  )"
   ]
  },
  {
   "cell_type": "markdown",
   "metadata": {},
   "source": [
    "## 2.0 Logical variables\n",
    "\n",
    "It’s used to represent the truth value of an expression."
   ]
  },
  {
   "cell_type": "code",
   "execution_count": 28,
   "metadata": {},
   "outputs": [
    {
     "data": {
      "text/html": [
       "TRUE"
      ],
      "text/latex": [
       "TRUE"
      ],
      "text/markdown": [
       "TRUE"
      ],
      "text/plain": [
       "[1] TRUE"
      ]
     },
     "metadata": {},
     "output_type": "display_data"
    }
   ],
   "source": [
    "a == a"
   ]
  },
  {
   "cell_type": "code",
   "execution_count": 29,
   "metadata": {},
   "outputs": [
    {
     "data": {
      "text/html": [
       "TRUE"
      ],
      "text/latex": [
       "TRUE"
      ],
      "text/markdown": [
       "TRUE"
      ],
      "text/plain": [
       "[1] TRUE"
      ]
     },
     "metadata": {},
     "output_type": "display_data"
    }
   ],
   "source": [
    "1 == 1"
   ]
  },
  {
   "cell_type": "code",
   "execution_count": 32,
   "metadata": {},
   "outputs": [
    {
     "data": {
      "text/html": [
       "'logical'"
      ],
      "text/latex": [
       "'logical'"
      ],
      "text/markdown": [
       "'logical'"
      ],
      "text/plain": [
       "[1] \"logical\""
      ]
     },
     "metadata": {},
     "output_type": "display_data"
    },
    {
     "data": {
      "text/html": [
       "'logical'"
      ],
      "text/latex": [
       "'logical'"
      ],
      "text/markdown": [
       "'logical'"
      ],
      "text/plain": [
       "[1] \"logical\""
      ]
     },
     "metadata": {},
     "output_type": "display_data"
    }
   ],
   "source": [
    "z1 <- (1==1)\n",
    "typeof(z1)\n",
    "class(z1)"
   ]
  },
  {
   "cell_type": "code",
   "execution_count": 33,
   "metadata": {},
   "outputs": [
    {
     "name": "stdout",
     "output_type": "stream",
     "text": [
      "[1] 1\n"
     ]
    },
    {
     "data": {
      "text/html": [
       "'integer'"
      ],
      "text/latex": [
       "'integer'"
      ],
      "text/markdown": [
       "'integer'"
      ],
      "text/plain": [
       "[1] \"integer\""
      ]
     },
     "metadata": {},
     "output_type": "display_data"
    }
   ],
   "source": [
    "z1 <- as.integer(z1)\n",
    "print(z1)\n",
    "class(z1)"
   ]
  },
  {
   "cell_type": "code",
   "execution_count": 21,
   "metadata": {},
   "outputs": [
    {
     "data": {
      "text/html": [
       "0"
      ],
      "text/latex": [
       "0"
      ],
      "text/markdown": [
       "0"
      ],
      "text/plain": [
       "[1] 0"
      ]
     },
     "metadata": {},
     "output_type": "display_data"
    }
   ],
   "source": [
    "z2 <- (10 > 20)\n",
    "as.integer(z2)"
   ]
  },
  {
   "cell_type": "code",
   "execution_count": 22,
   "metadata": {},
   "outputs": [
    {
     "data": {
      "text/html": [
       "'integer'"
      ],
      "text/latex": [
       "'integer'"
      ],
      "text/markdown": [
       "'integer'"
      ],
      "text/plain": [
       "[1] \"integer\""
      ]
     },
     "metadata": {},
     "output_type": "display_data"
    }
   ],
   "source": [
    "z3 <- (100 != 100)\n",
    "z3 <- as.integer(z3)\n",
    "typeof(z3)"
   ]
  },
  {
   "cell_type": "markdown",
   "metadata": {},
   "source": [
    "## 3.0 List\n"
   ]
  },
  {
   "cell_type": "code",
   "execution_count": 48,
   "metadata": {},
   "outputs": [],
   "source": [
    "L1 <- list()"
   ]
  },
  {
   "cell_type": "code",
   "execution_count": 49,
   "metadata": {},
   "outputs": [
    {
     "data": {
      "text/html": [
       "<ol>\n",
       "\t<li>'ATE'</li>\n",
       "\t<li>'BARRANCO'</li>\n",
       "\t<li>'BREÑA'</li>\n",
       "\t<li>'CALLAO'</li>\n",
       "\t<li>'CARABAYLLO'</li>\n",
       "</ol>\n"
      ],
      "text/latex": [
       "\\begin{enumerate}\n",
       "\\item 'ATE'\n",
       "\\item 'BARRANCO'\n",
       "\\item 'BREÑA'\n",
       "\\item 'CALLAO'\n",
       "\\item 'CARABAYLLO'\n",
       "\\end{enumerate}\n"
      ],
      "text/markdown": [
       "1. 'ATE'\n",
       "2. 'BARRANCO'\n",
       "3. 'BREÑA'\n",
       "4. 'CALLAO'\n",
       "5. 'CARABAYLLO'\n",
       "\n",
       "\n"
      ],
      "text/plain": [
       "[[1]]\n",
       "[1] \"ATE\"\n",
       "\n",
       "[[2]]\n",
       "[1] \"BARRANCO\"\n",
       "\n",
       "[[3]]\n",
       "[1] \"BREÑA\"\n",
       "\n",
       "[[4]]\n",
       "[1] \"CALLAO\"\n",
       "\n",
       "[[5]]\n",
       "[1] \"CARABAYLLO\"\n"
      ]
     },
     "metadata": {},
     "output_type": "display_data"
    }
   ],
   "source": [
    "dis1 <- list('ATE', 'BARRANCO','BREÑA', 'CALLAO', 'CARABAYLLO')\n",
    "dis1"
   ]
  },
  {
   "cell_type": "code",
   "execution_count": 50,
   "metadata": {},
   "outputs": [
    {
     "data": {
      "text/html": [
       "'list'"
      ],
      "text/latex": [
       "'list'"
      ],
      "text/markdown": [
       "'list'"
      ],
      "text/plain": [
       "[1] \"list\""
      ]
     },
     "metadata": {},
     "output_type": "display_data"
    },
    {
     "data": {
      "text/html": [
       "'list'"
      ],
      "text/latex": [
       "'list'"
      ],
      "text/markdown": [
       "'list'"
      ],
      "text/plain": [
       "[1] \"list\""
      ]
     },
     "metadata": {},
     "output_type": "display_data"
    }
   ],
   "source": [
    "typeof(dis1)\n",
    "class(dis1)"
   ]
  },
  {
   "cell_type": "code",
   "execution_count": 63,
   "metadata": {
    "scrolled": true
   },
   "outputs": [
    {
     "data": {
      "text/html": [
       "<ol>\n",
       "\t<li>'ATE'</li>\n",
       "\t<li>'BARRANCO'</li>\n",
       "\t<li>'BREÑA'</li>\n",
       "\t<li>'CALLAO'</li>\n",
       "\t<li>'CARABAYLLO'</li>\n",
       "\t<li>'CHACLACAYO'</li>\n",
       "\t<li>'CHORRILLOS'</li>\n",
       "\t<li>'CIENEGUILLA'</li>\n",
       "\t<li>'COMAS'</li>\n",
       "\t<li>'EL_AGUSTINO'</li>\n",
       "\t<li>'INDEPENDENCIA'</li>\n",
       "</ol>\n"
      ],
      "text/latex": [
       "\\begin{enumerate}\n",
       "\\item 'ATE'\n",
       "\\item 'BARRANCO'\n",
       "\\item 'BREÑA'\n",
       "\\item 'CALLAO'\n",
       "\\item 'CARABAYLLO'\n",
       "\\item 'CHACLACAYO'\n",
       "\\item 'CHORRILLOS'\n",
       "\\item 'CIENEGUILLA'\n",
       "\\item 'COMAS'\n",
       "\\item 'EL\\_AGUSTINO'\n",
       "\\item 'INDEPENDENCIA'\n",
       "\\end{enumerate}\n"
      ],
      "text/markdown": [
       "1. 'ATE'\n",
       "2. 'BARRANCO'\n",
       "3. 'BREÑA'\n",
       "4. 'CALLAO'\n",
       "5. 'CARABAYLLO'\n",
       "6. 'CHACLACAYO'\n",
       "7. 'CHORRILLOS'\n",
       "8. 'CIENEGUILLA'\n",
       "9. 'COMAS'\n",
       "10. 'EL_AGUSTINO'\n",
       "11. 'INDEPENDENCIA'\n",
       "\n",
       "\n"
      ],
      "text/plain": [
       "[[1]]\n",
       "[1] \"ATE\"\n",
       "\n",
       "[[2]]\n",
       "[1] \"BARRANCO\"\n",
       "\n",
       "[[3]]\n",
       "[1] \"BREÑA\"\n",
       "\n",
       "[[4]]\n",
       "[1] \"CALLAO\"\n",
       "\n",
       "[[5]]\n",
       "[1] \"CARABAYLLO\"\n",
       "\n",
       "[[6]]\n",
       "[1] \"CHACLACAYO\"\n",
       "\n",
       "[[7]]\n",
       "[1] \"CHORRILLOS\"\n",
       "\n",
       "[[8]]\n",
       "[1] \"CIENEGUILLA\"\n",
       "\n",
       "[[9]]\n",
       "[1] \"COMAS\"\n",
       "\n",
       "[[10]]\n",
       "[1] \"EL_AGUSTINO\"\n",
       "\n",
       "[[11]]\n",
       "[1] \"INDEPENDENCIA\"\n"
      ]
     },
     "metadata": {},
     "output_type": "display_data"
    }
   ],
   "source": [
    "dis2 <- list('ATE', 'BARRANCO','BREÑA', 'CALLAO', 'CARABAYLLO','CHACLACAYO','CHORRILLOS','CIENEGUILLA'\n",
    "            ,'COMAS','EL_AGUSTINO','INDEPENDENCIA')\n",
    "dis2"
   ]
  },
  {
   "cell_type": "code",
   "execution_count": 27,
   "metadata": {},
   "outputs": [
    {
     "data": {
      "text/html": [
       "<ol>\n",
       "\t<li>'ATE'</li>\n",
       "</ol>\n"
      ],
      "text/latex": [
       "\\begin{enumerate}\n",
       "\\item 'ATE'\n",
       "\\end{enumerate}\n"
      ],
      "text/markdown": [
       "1. 'ATE'\n",
       "\n",
       "\n"
      ],
      "text/plain": [
       "[[1]]\n",
       "[1] \"ATE\"\n"
      ]
     },
     "metadata": {},
     "output_type": "display_data"
    }
   ],
   "source": [
    "dis1[1]"
   ]
  },
  {
   "cell_type": "code",
   "execution_count": 51,
   "metadata": {},
   "outputs": [
    {
     "data": {
      "text/html": [
       "'list'"
      ],
      "text/latex": [
       "'list'"
      ],
      "text/markdown": [
       "'list'"
      ],
      "text/plain": [
       "[1] \"list\""
      ]
     },
     "metadata": {},
     "output_type": "display_data"
    },
    {
     "data": {
      "text/html": [
       "'list'"
      ],
      "text/latex": [
       "'list'"
      ],
      "text/markdown": [
       "'list'"
      ],
      "text/plain": [
       "[1] \"list\""
      ]
     },
     "metadata": {},
     "output_type": "display_data"
    }
   ],
   "source": [
    "typeof(dis1[1])\n",
    "class(dis1[1])"
   ]
  },
  {
   "cell_type": "code",
   "execution_count": 52,
   "metadata": {},
   "outputs": [
    {
     "data": {
      "text/html": [
       "'character'"
      ],
      "text/latex": [
       "'character'"
      ],
      "text/markdown": [
       "'character'"
      ],
      "text/plain": [
       "[1] \"character\""
      ]
     },
     "metadata": {},
     "output_type": "display_data"
    }
   ],
   "source": [
    "#double [] to get a singular object \n",
    "\n",
    "typeof(dis1[[1]])"
   ]
  },
  {
   "cell_type": "code",
   "execution_count": 53,
   "metadata": {},
   "outputs": [
    {
     "data": {
      "text/html": [
       "<ol>\n",
       "\t<li>'BARRANCO'</li>\n",
       "\t<li>'BREÑA'</li>\n",
       "\t<li>'CALLAO'</li>\n",
       "\t<li>'CARABAYLLO'</li>\n",
       "</ol>\n"
      ],
      "text/latex": [
       "\\begin{enumerate}\n",
       "\\item 'BARRANCO'\n",
       "\\item 'BREÑA'\n",
       "\\item 'CALLAO'\n",
       "\\item 'CARABAYLLO'\n",
       "\\end{enumerate}\n"
      ],
      "text/markdown": [
       "1. 'BARRANCO'\n",
       "2. 'BREÑA'\n",
       "3. 'CALLAO'\n",
       "4. 'CARABAYLLO'\n",
       "\n",
       "\n"
      ],
      "text/plain": [
       "[[1]]\n",
       "[1] \"BARRANCO\"\n",
       "\n",
       "[[2]]\n",
       "[1] \"BREÑA\"\n",
       "\n",
       "[[3]]\n",
       "[1] \"CALLAO\"\n",
       "\n",
       "[[4]]\n",
       "[1] \"CARABAYLLO\"\n"
      ]
     },
     "metadata": {},
     "output_type": "display_data"
    }
   ],
   "source": [
    "#dis1 <- list('ATE', 'BARRANCO','BREÑA', 'CALLAO', 'CARABAYLLO')\n",
    "\n",
    "dis1[2:5]"
   ]
  },
  {
   "cell_type": "code",
   "execution_count": 55,
   "metadata": {},
   "outputs": [
    {
     "data": {
      "text/html": [
       "<ol>\n",
       "\t<li>'BREÑA'</li>\n",
       "\t<li>'CALLAO'</li>\n",
       "\t<li>'CARABAYLLO'</li>\n",
       "</ol>\n"
      ],
      "text/latex": [
       "\\begin{enumerate}\n",
       "\\item 'BREÑA'\n",
       "\\item 'CALLAO'\n",
       "\\item 'CARABAYLLO'\n",
       "\\end{enumerate}\n"
      ],
      "text/markdown": [
       "1. 'BREÑA'\n",
       "2. 'CALLAO'\n",
       "3. 'CARABAYLLO'\n",
       "\n",
       "\n"
      ],
      "text/plain": [
       "[[1]]\n",
       "[1] \"BREÑA\"\n",
       "\n",
       "[[2]]\n",
       "[1] \"CALLAO\"\n",
       "\n",
       "[[3]]\n",
       "[1] \"CARABAYLLO\"\n"
      ]
     },
     "metadata": {},
     "output_type": "display_data"
    }
   ],
   "source": [
    "dis1[-1:-2]"
   ]
  },
  {
   "cell_type": "code",
   "execution_count": 56,
   "metadata": {},
   "outputs": [
    {
     "data": {
      "text/html": [
       "<ol>\n",
       "\t<li>'ATE'</li>\n",
       "\t<li>'BARRANCO'</li>\n",
       "\t<li>'BREÑA'</li>\n",
       "\t<li>'CALLAO'</li>\n",
       "</ol>\n"
      ],
      "text/latex": [
       "\\begin{enumerate}\n",
       "\\item 'ATE'\n",
       "\\item 'BARRANCO'\n",
       "\\item 'BREÑA'\n",
       "\\item 'CALLAO'\n",
       "\\end{enumerate}\n"
      ],
      "text/markdown": [
       "1. 'ATE'\n",
       "2. 'BARRANCO'\n",
       "3. 'BREÑA'\n",
       "4. 'CALLAO'\n",
       "\n",
       "\n"
      ],
      "text/plain": [
       "[[1]]\n",
       "[1] \"ATE\"\n",
       "\n",
       "[[2]]\n",
       "[1] \"BARRANCO\"\n",
       "\n",
       "[[3]]\n",
       "[1] \"BREÑA\"\n",
       "\n",
       "[[4]]\n",
       "[1] \"CALLAO\"\n"
      ]
     },
     "metadata": {},
     "output_type": "display_data"
    }
   ],
   "source": [
    "dis1[-5]"
   ]
  },
  {
   "cell_type": "code",
   "execution_count": 58,
   "metadata": {
    "scrolled": true
   },
   "outputs": [
    {
     "data": {
      "text/html": [
       "11"
      ],
      "text/latex": [
       "11"
      ],
      "text/markdown": [
       "11"
      ],
      "text/plain": [
       "[1] 11"
      ]
     },
     "metadata": {},
     "output_type": "display_data"
    },
    {
     "data": {
      "text/html": [
       "'double'"
      ],
      "text/latex": [
       "'double'"
      ],
      "text/markdown": [
       "'double'"
      ],
      "text/plain": [
       "[1] \"double\""
      ]
     },
     "metadata": {},
     "output_type": "display_data"
    },
    {
     "name": "stdout",
     "output_type": "stream",
     "text": [
      "[1] 20\n"
     ]
    }
   ],
   "source": [
    "num <- list(13,5,5,8,9,10,5,8,13,1,20)\n",
    "#print(num)\n",
    "\n",
    "length(num) # number of elements \n",
    "\n",
    "typeof(num[[11]])\n",
    "print(num[[11]])"
   ]
  },
  {
   "cell_type": "code",
   "execution_count": 60,
   "metadata": {},
   "outputs": [
    {
     "name": "stdout",
     "output_type": "stream",
     "text": [
      "[[1]]\n",
      " [1]  1  5  5  5  8  8  9 10 13 13 20\n",
      "\n"
     ]
    },
    {
     "data": {
      "text/html": [
       "20"
      ],
      "text/latex": [
       "20"
      ],
      "text/markdown": [
       "20"
      ],
      "text/plain": [
       "[1] 20"
      ]
     },
     "metadata": {},
     "output_type": "display_data"
    }
   ],
   "source": [
    "# unlist to order, then covert list again \n",
    "\n",
    "a <- sort(unlist(num))\n",
    "print(list(a))\n",
    "a[11]"
   ]
  },
  {
   "cell_type": "code",
   "execution_count": 61,
   "metadata": {},
   "outputs": [
    {
     "data": {
      "text/html": [
       "20"
      ],
      "text/latex": [
       "20"
      ],
      "text/markdown": [
       "20"
      ],
      "text/plain": [
       "[1] 20"
      ]
     },
     "metadata": {},
     "output_type": "display_data"
    }
   ],
   "source": [
    "max(unlist(num))"
   ]
  },
  {
   "cell_type": "code",
   "execution_count": 64,
   "metadata": {
    "scrolled": true
   },
   "outputs": [
    {
     "data": {
      "text/html": [
       "11"
      ],
      "text/latex": [
       "11"
      ],
      "text/markdown": [
       "11"
      ],
      "text/plain": [
       "[1] 11"
      ]
     },
     "metadata": {},
     "output_type": "display_data"
    }
   ],
   "source": [
    "#dis2 <- list('ATE', 'BARRANCO','BREÑA', 'CALLAO', 'CARABAYLLO','CHACLACAYO','CHORRILLOS','CIENEGUILLA'\n",
    "#            ,'COMAS','EL_AGUSTINO','INDEPENDENCIA')\n",
    "\n",
    "length(dis2)"
   ]
  },
  {
   "cell_type": "code",
   "execution_count": 71,
   "metadata": {
    "scrolled": false
   },
   "outputs": [],
   "source": [
    "#add a single element\n",
    "\n",
    "num <- append(num, 102)"
   ]
  },
  {
   "cell_type": "code",
   "execution_count": 72,
   "metadata": {},
   "outputs": [
    {
     "data": {
      "text/html": [
       "<ol>\n",
       "\t<li>13</li>\n",
       "\t<li>5</li>\n",
       "\t<li>5</li>\n",
       "\t<li>8</li>\n",
       "\t<li>9</li>\n",
       "\t<li>10</li>\n",
       "\t<li>5</li>\n",
       "\t<li>8</li>\n",
       "\t<li>13</li>\n",
       "\t<li>1</li>\n",
       "\t<li>20</li>\n",
       "\t<li>102</li>\n",
       "</ol>\n"
      ],
      "text/latex": [
       "\\begin{enumerate}\n",
       "\\item 13\n",
       "\\item 5\n",
       "\\item 5\n",
       "\\item 8\n",
       "\\item 9\n",
       "\\item 10\n",
       "\\item 5\n",
       "\\item 8\n",
       "\\item 13\n",
       "\\item 1\n",
       "\\item 20\n",
       "\\item 102\n",
       "\\end{enumerate}\n"
      ],
      "text/markdown": [
       "1. 13\n",
       "2. 5\n",
       "3. 5\n",
       "4. 8\n",
       "5. 9\n",
       "6. 10\n",
       "7. 5\n",
       "8. 8\n",
       "9. 13\n",
       "10. 1\n",
       "11. 20\n",
       "12. 102\n",
       "\n",
       "\n"
      ],
      "text/plain": [
       "[[1]]\n",
       "[1] 13\n",
       "\n",
       "[[2]]\n",
       "[1] 5\n",
       "\n",
       "[[3]]\n",
       "[1] 5\n",
       "\n",
       "[[4]]\n",
       "[1] 8\n",
       "\n",
       "[[5]]\n",
       "[1] 9\n",
       "\n",
       "[[6]]\n",
       "[1] 10\n",
       "\n",
       "[[7]]\n",
       "[1] 5\n",
       "\n",
       "[[8]]\n",
       "[1] 8\n",
       "\n",
       "[[9]]\n",
       "[1] 13\n",
       "\n",
       "[[10]]\n",
       "[1] 1\n",
       "\n",
       "[[11]]\n",
       "[1] 20\n",
       "\n",
       "[[12]]\n",
       "[1] 102\n"
      ]
     },
     "metadata": {},
     "output_type": "display_data"
    }
   ],
   "source": [
    "num"
   ]
  },
  {
   "cell_type": "code",
   "execution_count": 73,
   "metadata": {},
   "outputs": [
    {
     "data": {
      "text/html": [
       "<ol>\n",
       "\t<li>13</li>\n",
       "\t<li>5</li>\n",
       "\t<li>5</li>\n",
       "\t<li>8</li>\n",
       "\t<li>9</li>\n",
       "\t<li>10</li>\n",
       "\t<li>5</li>\n",
       "\t<li>8</li>\n",
       "\t<li>13</li>\n",
       "\t<li>1</li>\n",
       "\t<li>20</li>\n",
       "\t<li>102</li>\n",
       "\t<li>10</li>\n",
       "\t<li>20</li>\n",
       "\t<li>30</li>\n",
       "</ol>\n"
      ],
      "text/latex": [
       "\\begin{enumerate}\n",
       "\\item 13\n",
       "\\item 5\n",
       "\\item 5\n",
       "\\item 8\n",
       "\\item 9\n",
       "\\item 10\n",
       "\\item 5\n",
       "\\item 8\n",
       "\\item 13\n",
       "\\item 1\n",
       "\\item 20\n",
       "\\item 102\n",
       "\\item 10\n",
       "\\item 20\n",
       "\\item 30\n",
       "\\end{enumerate}\n"
      ],
      "text/markdown": [
       "1. 13\n",
       "2. 5\n",
       "3. 5\n",
       "4. 8\n",
       "5. 9\n",
       "6. 10\n",
       "7. 5\n",
       "8. 8\n",
       "9. 13\n",
       "10. 1\n",
       "11. 20\n",
       "12. 102\n",
       "13. 10\n",
       "14. 20\n",
       "15. 30\n",
       "\n",
       "\n"
      ],
      "text/plain": [
       "[[1]]\n",
       "[1] 13\n",
       "\n",
       "[[2]]\n",
       "[1] 5\n",
       "\n",
       "[[3]]\n",
       "[1] 5\n",
       "\n",
       "[[4]]\n",
       "[1] 8\n",
       "\n",
       "[[5]]\n",
       "[1] 9\n",
       "\n",
       "[[6]]\n",
       "[1] 10\n",
       "\n",
       "[[7]]\n",
       "[1] 5\n",
       "\n",
       "[[8]]\n",
       "[1] 8\n",
       "\n",
       "[[9]]\n",
       "[1] 13\n",
       "\n",
       "[[10]]\n",
       "[1] 1\n",
       "\n",
       "[[11]]\n",
       "[1] 20\n",
       "\n",
       "[[12]]\n",
       "[1] 102\n",
       "\n",
       "[[13]]\n",
       "[1] 10\n",
       "\n",
       "[[14]]\n",
       "[1] 20\n",
       "\n",
       "[[15]]\n",
       "[1] 30\n"
      ]
     },
     "metadata": {},
     "output_type": "display_data"
    }
   ],
   "source": [
    "# add a list \n",
    "\n",
    "num2 <- list(10,20,30)\n",
    "append(num, num2)"
   ]
  },
  {
   "cell_type": "code",
   "execution_count": 74,
   "metadata": {
    "scrolled": true
   },
   "outputs": [
    {
     "name": "stdout",
     "output_type": "stream",
     "text": [
      "Suma: 199 \n",
      " Minimo: 1 \n",
      " Maximo: 102"
     ]
    }
   ],
   "source": [
    "\n",
    "cat(\"Suma:\", sum(unlist(num)),'\\n', \"Minimo:\", min(unlist(num)), '\\n', \"Maximo:\", max(unlist(num)))"
   ]
  },
  {
   "cell_type": "code",
   "execution_count": 76,
   "metadata": {},
   "outputs": [
    {
     "name": "stdout",
     "output_type": "stream",
     "text": [
      "[[1]]\n",
      "[1] 1 2 3\n",
      "\n",
      "[[2]]\n",
      "[1] \"R \"\n",
      "\n",
      "[[3]]\n",
      "[1] 120\n",
      "\n"
     ]
    }
   ],
   "source": [
    "# add type of objects\n",
    "\n",
    "new_list <- list(c(1,2,3),         \n",
    "                 \"R \", \n",
    "                 120)\n",
    "print(new_list)"
   ]
  },
  {
   "cell_type": "markdown",
   "metadata": {},
   "source": [
    "## List part 2 - dictionary"
   ]
  },
  {
   "cell_type": "code",
   "execution_count": 84,
   "metadata": {
    "scrolled": true
   },
   "outputs": [
    {
     "name": "stdout",
     "output_type": "stream",
     "text": [
      "$Majes\n",
      "[1] 40520\n",
      "\n",
      "$Mollendo\n",
      "[1] 40701\n",
      "\n",
      "$Islay\n",
      "[1] 40704\n",
      "\n",
      "$Cotahuasi\n",
      "[1] 40801\n",
      "\n",
      "$Alca\n",
      "[1] 40802\n",
      "\n"
     ]
    }
   ],
   "source": [
    "# using list as dictionary in python \n",
    "\n",
    "Postal_code <- list(Majes = 40520, Mollendo = 40701, Islay = 40704, Cotahuasi = 40801, Alca = 40802 )\n",
    "print(Postal_code)"
   ]
  },
  {
   "cell_type": "code",
   "execution_count": 85,
   "metadata": {
    "scrolled": true
   },
   "outputs": [],
   "source": [
    "# add package to make operations \n",
    "\n",
    "#install.packages(\"rlist\")\n",
    "library(rlist)\n"
   ]
  },
  {
   "cell_type": "code",
   "execution_count": 86,
   "metadata": {},
   "outputs": [],
   "source": [
    "# empty list \n",
    "\n",
    "a <- list()"
   ]
  },
  {
   "cell_type": "code",
   "execution_count": 95,
   "metadata": {},
   "outputs": [
    {
     "data": {
      "text/html": [],
      "text/latex": [],
      "text/markdown": [],
      "text/plain": [
       "numeric(0)"
      ]
     },
     "metadata": {},
     "output_type": "display_data"
    }
   ],
   "source": [
    "#make empty\n",
    "Postal_code <- list.remove(Postal_code)\n",
    "Postal_code"
   ]
  },
  {
   "cell_type": "code",
   "execution_count": 97,
   "metadata": {
    "scrolled": true
   },
   "outputs": [
    {
     "name": "stdout",
     "output_type": "stream",
     "text": [
      "$Majes\n",
      "[1] 40520\n",
      "\n",
      "$Mollendo\n",
      "[1] 40701\n",
      "\n",
      "$Islay\n",
      "[1] 40704\n",
      "\n",
      "$Cotahuasi\n",
      "[1] 40801\n",
      "\n",
      "$Alca\n",
      "[1] 40802\n",
      "\n"
     ]
    }
   ],
   "source": [
    "Postal_code <- list(Majes = 40520, Mollendo = 40701, \n",
    "                   Islay = 40704, Cotahuasi = 40801, Alca = 40802 )\n",
    "print(Postal_code)"
   ]
  },
  {
   "cell_type": "code",
   "execution_count": 98,
   "metadata": {},
   "outputs": [
    {
     "data": {
      "text/html": [
       "40704"
      ],
      "text/latex": [
       "40704"
      ],
      "text/markdown": [
       "40704"
      ],
      "text/plain": [
       "[1] 40704"
      ]
     },
     "metadata": {},
     "output_type": "display_data"
    }
   ],
   "source": [
    "Postal_code$Islay"
   ]
  },
  {
   "cell_type": "code",
   "execution_count": 99,
   "metadata": {},
   "outputs": [
    {
     "data": {
      "text/html": [
       "<dl>\n",
       "\t<dt>$Majes</dt>\n",
       "\t\t<dd>40520</dd>\n",
       "\t<dt>$Mollendo</dt>\n",
       "\t\t<dd>40701</dd>\n",
       "\t<dt>$Cotahuasi</dt>\n",
       "\t\t<dd>40801</dd>\n",
       "\t<dt>$Alca</dt>\n",
       "\t\t<dd>40802</dd>\n",
       "</dl>\n"
      ],
      "text/latex": [
       "\\begin{description}\n",
       "\\item[\\$Majes] 40520\n",
       "\\item[\\$Mollendo] 40701\n",
       "\\item[\\$Cotahuasi] 40801\n",
       "\\item[\\$Alca] 40802\n",
       "\\end{description}\n"
      ],
      "text/markdown": [
       "$Majes\n",
       ":   40520\n",
       "$Mollendo\n",
       ":   40701\n",
       "$Cotahuasi\n",
       ":   40801\n",
       "$Alca\n",
       ":   40802\n",
       "\n",
       "\n"
      ],
      "text/plain": [
       "$Majes\n",
       "[1] 40520\n",
       "\n",
       "$Mollendo\n",
       "[1] 40701\n",
       "\n",
       "$Cotahuasi\n",
       "[1] 40801\n",
       "\n",
       "$Alca\n",
       "[1] 40802\n"
      ]
     },
     "metadata": {},
     "output_type": "display_data"
    }
   ],
   "source": [
    "a <- list.remove(Postal_code,\"Islay\")\n",
    "a"
   ]
  },
  {
   "cell_type": "code",
   "execution_count": 100,
   "metadata": {},
   "outputs": [
    {
     "data": {
      "text/html": [
       "<dl>\n",
       "\t<dt>$Majes</dt>\n",
       "\t\t<dd>40520</dd>\n",
       "\t<dt>$Mollendo</dt>\n",
       "\t\t<dd>40701</dd>\n",
       "\t<dt>$Islay</dt>\n",
       "\t\t<dd>40704</dd>\n",
       "\t<dt>$Cotahuasi</dt>\n",
       "\t\t<dd>40801</dd>\n",
       "\t<dt>$Alca</dt>\n",
       "\t\t<dd>40802</dd>\n",
       "\t<dt>$CHARCANA</dt>\n",
       "\t\t<dd>40803</dd>\n",
       "</dl>\n"
      ],
      "text/latex": [
       "\\begin{description}\n",
       "\\item[\\$Majes] 40520\n",
       "\\item[\\$Mollendo] 40701\n",
       "\\item[\\$Islay] 40704\n",
       "\\item[\\$Cotahuasi] 40801\n",
       "\\item[\\$Alca] 40802\n",
       "\\item[\\$CHARCANA] 40803\n",
       "\\end{description}\n"
      ],
      "text/markdown": [
       "$Majes\n",
       ":   40520\n",
       "$Mollendo\n",
       ":   40701\n",
       "$Islay\n",
       ":   40704\n",
       "$Cotahuasi\n",
       ":   40801\n",
       "$Alca\n",
       ":   40802\n",
       "$CHARCANA\n",
       ":   40803\n",
       "\n",
       "\n"
      ],
      "text/plain": [
       "$Majes\n",
       "[1] 40520\n",
       "\n",
       "$Mollendo\n",
       "[1] 40701\n",
       "\n",
       "$Islay\n",
       "[1] 40704\n",
       "\n",
       "$Cotahuasi\n",
       "[1] 40801\n",
       "\n",
       "$Alca\n",
       "[1] 40802\n",
       "\n",
       "$CHARCANA\n",
       "[1] 40803\n"
      ]
     },
     "metadata": {},
     "output_type": "display_data"
    }
   ],
   "source": [
    "# add new key\n",
    "\n",
    "Postal_code <- append(Postal_code, list(CHARCANA =  40803 ))\n",
    "Postal_code"
   ]
  },
  {
   "cell_type": "code",
   "execution_count": 101,
   "metadata": {
    "scrolled": true
   },
   "outputs": [
    {
     "data": {
      "text/html": [
       "<dl>\n",
       "\t<dt>$Majes</dt>\n",
       "\t\t<dd>40520</dd>\n",
       "\t<dt>$Mollendo</dt>\n",
       "\t\t<dd>40701</dd>\n",
       "\t<dt>$Islay</dt>\n",
       "\t\t<dd>40704</dd>\n",
       "\t<dt>$Cotahuasi</dt>\n",
       "\t\t<dd>40801</dd>\n",
       "\t<dt>$Alca</dt>\n",
       "\t\t<dd>40802</dd>\n",
       "\t<dt>$CHARCANA</dt>\n",
       "\t\t<dd>40803</dd>\n",
       "\t<dt>$LOMAS</dt>\n",
       "\t\t<dd><dl>\n",
       "\t<dt>$UBIGEO</dt>\n",
       "\t\t<dd>40311</dd>\n",
       "\t<dt>$Poverty_Rate</dt>\n",
       "\t\t<dd>'18.2%'</dd>\n",
       "\t<dt>$Population</dt>\n",
       "\t\t<dd>'20 mil'</dd>\n",
       "</dl>\n",
       "</dd>\n",
       "</dl>\n"
      ],
      "text/latex": [
       "\\begin{description}\n",
       "\\item[\\$Majes] 40520\n",
       "\\item[\\$Mollendo] 40701\n",
       "\\item[\\$Islay] 40704\n",
       "\\item[\\$Cotahuasi] 40801\n",
       "\\item[\\$Alca] 40802\n",
       "\\item[\\$CHARCANA] 40803\n",
       "\\item[\\$LOMAS] \\begin{description}\n",
       "\\item[\\$UBIGEO] 40311\n",
       "\\item[\\$Poverty\\_Rate] '18.2\\%'\n",
       "\\item[\\$Population] '20 mil'\n",
       "\\end{description}\n",
       "\n",
       "\\end{description}\n"
      ],
      "text/markdown": [
       "$Majes\n",
       ":   40520\n",
       "$Mollendo\n",
       ":   40701\n",
       "$Islay\n",
       ":   40704\n",
       "$Cotahuasi\n",
       ":   40801\n",
       "$Alca\n",
       ":   40802\n",
       "$CHARCANA\n",
       ":   40803\n",
       "$LOMAS\n",
       ":   $UBIGEO\n",
       ":   40311\n",
       "$Poverty_Rate\n",
       ":   '18.2%'\n",
       "$Population\n",
       ":   '20 mil'\n",
       "\n",
       "\n",
       "\n",
       "\n",
       "\n"
      ],
      "text/plain": [
       "$Majes\n",
       "[1] 40520\n",
       "\n",
       "$Mollendo\n",
       "[1] 40701\n",
       "\n",
       "$Islay\n",
       "[1] 40704\n",
       "\n",
       "$Cotahuasi\n",
       "[1] 40801\n",
       "\n",
       "$Alca\n",
       "[1] 40802\n",
       "\n",
       "$CHARCANA\n",
       "[1] 40803\n",
       "\n",
       "$LOMAS\n",
       "$LOMAS$UBIGEO\n",
       "[1] 40311\n",
       "\n",
       "$LOMAS$Poverty_Rate\n",
       "[1] \"18.2%\"\n",
       "\n",
       "$LOMAS$Population\n",
       "[1] \"20 mil\"\n",
       "\n"
      ]
     },
     "metadata": {},
     "output_type": "display_data"
    }
   ],
   "source": [
    "Postal_code <- append(Postal_code, list(LOMAS =  list(UBIGEO = 40311, Poverty_Rate = \"18.2%\", Population = \"20 mil\")))\n",
    "\n",
    "Postal_code"
   ]
  },
  {
   "cell_type": "code",
   "execution_count": 53,
   "metadata": {
    "scrolled": true
   },
   "outputs": [
    {
     "data": {
      "text/html": [
       "'18.2%'"
      ],
      "text/latex": [
       "'18.2\\%'"
      ],
      "text/markdown": [
       "'18.2%'"
      ],
      "text/plain": [
       "[1] \"18.2%\""
      ]
     },
     "metadata": {},
     "output_type": "display_data"
    }
   ],
   "source": [
    "Postal_code$LOMAS$Poverty_Rate"
   ]
  },
  {
   "cell_type": "markdown",
   "metadata": {},
   "source": [
    "### 3.0 Array and Matrices"
   ]
  },
  {
   "cell_type": "code",
   "execution_count": 105,
   "metadata": {},
   "outputs": [
    {
     "name": "stdout",
     "output_type": "stream",
     "text": [
      "[1] 1 2 3 4 5\n"
     ]
    },
    {
     "data": {
      "text/html": [
       "'double'"
      ],
      "text/latex": [
       "'double'"
      ],
      "text/markdown": [
       "'double'"
      ],
      "text/plain": [
       "[1] \"double\""
      ]
     },
     "metadata": {},
     "output_type": "display_data"
    },
    {
     "data": {
      "text/html": [
       "'numeric'"
      ],
      "text/latex": [
       "'numeric'"
      ],
      "text/markdown": [
       "'numeric'"
      ],
      "text/plain": [
       "[1] \"numeric\""
      ]
     },
     "metadata": {},
     "output_type": "display_data"
    }
   ],
   "source": [
    "# 1D numeric array\n",
    "\n",
    "a <- c(1,2,3,4,5)\n",
    "print(a)\n",
    "typeof(a)\n",
    "class(a)"
   ]
  },
  {
   "cell_type": "code",
   "execution_count": 106,
   "metadata": {},
   "outputs": [
    {
     "name": "stdout",
     "output_type": "stream",
     "text": [
      "[1] 3\n",
      "[1] 1.581139\n"
     ]
    }
   ],
   "source": [
    "print(mean(a))\n",
    "print(sd(a))"
   ]
  },
  {
   "cell_type": "markdown",
   "metadata": {},
   "source": [
    "Standar deviation in R\n",
    "\n",
    "\\begin{equation}\n",
    " sd(x) = \\sqrt{\\frac{\\sum(x_i-\\bar{x})}{N-1}}\n",
    "\\end{equation}"
   ]
  },
  {
   "cell_type": "code",
   "execution_count": 107,
   "metadata": {},
   "outputs": [
    {
     "name": "stdout",
     "output_type": "stream",
     "text": [
      "[1] 1.414214\n"
     ]
    }
   ],
   "source": [
    "# take care standar deviation formula\n",
    "\n",
    "n <- length(a)\n",
    "\n",
    "print(sd(a)*sqrt((n-1)/n))"
   ]
  },
  {
   "cell_type": "code",
   "execution_count": 108,
   "metadata": {},
   "outputs": [
    {
     "name": "stdout",
     "output_type": "stream",
     "text": [
      "     [,1] [,2] [,3]\n",
      "[1,]    1    2    3\n",
      "[2,]    4    5    6\n"
     ]
    },
    {
     "data": {
      "text/html": [
       "'double'"
      ],
      "text/latex": [
       "'double'"
      ],
      "text/markdown": [
       "'double'"
      ],
      "text/plain": [
       "[1] \"double\""
      ]
     },
     "metadata": {},
     "output_type": "display_data"
    },
    {
     "data": {
      "text/html": [
       "<style>\n",
       ".list-inline {list-style: none; margin:0; padding: 0}\n",
       ".list-inline>li {display: inline-block}\n",
       ".list-inline>li:not(:last-child)::after {content: \"\\00b7\"; padding: 0 .5ex}\n",
       "</style>\n",
       "<ol class=list-inline><li>2.5</li><li>3.5</li><li>4.5</li></ol>\n"
      ],
      "text/latex": [
       "\\begin{enumerate*}\n",
       "\\item 2.5\n",
       "\\item 3.5\n",
       "\\item 4.5\n",
       "\\end{enumerate*}\n"
      ],
      "text/markdown": [
       "1. 2.5\n",
       "2. 3.5\n",
       "3. 4.5\n",
       "\n",
       "\n"
      ],
      "text/plain": [
       "[1] 2.5 3.5 4.5"
      ]
     },
     "metadata": {},
     "output_type": "display_data"
    },
    {
     "data": {
      "text/html": [
       "<style>\n",
       ".list-inline {list-style: none; margin:0; padding: 0}\n",
       ".list-inline>li {display: inline-block}\n",
       ".list-inline>li:not(:last-child)::after {content: \"\\00b7\"; padding: 0 .5ex}\n",
       "</style>\n",
       "<ol class=list-inline><li>2</li><li>5</li></ol>\n"
      ],
      "text/latex": [
       "\\begin{enumerate*}\n",
       "\\item 2\n",
       "\\item 5\n",
       "\\end{enumerate*}\n"
      ],
      "text/markdown": [
       "1. 2\n",
       "2. 5\n",
       "\n",
       "\n"
      ],
      "text/plain": [
       "[1] 2 5"
      ]
     },
     "metadata": {},
     "output_type": "display_data"
    }
   ],
   "source": [
    "# 2D array numeric\n",
    "\n",
    "M <- matrix(c(1,2,3,4,5,6), nrow = 2, byrow =TRUE)\n",
    "\n",
    "print(M)\n",
    "typeof(M)\n",
    "\n",
    "colMeans(M)\n",
    "rowMeans(M)\n",
    "#cat(colMeans(M, dim = 1), \"\\n\", colMeans(M, dim = 2))"
   ]
  },
  {
   "cell_type": "code",
   "execution_count": 109,
   "metadata": {},
   "outputs": [
    {
     "name": "stdout",
     "output_type": "stream",
     "text": [
      "     [,1] [,2] [,3]\n",
      "[1,]    1    3    5\n",
      "[2,]    2    4    6\n"
     ]
    }
   ],
   "source": [
    "M <- matrix(c(1,2,3,4,5,6), nrow = 2, byrow =FALSE)\n",
    "print(M)"
   ]
  },
  {
   "cell_type": "code",
   "execution_count": 110,
   "metadata": {},
   "outputs": [
    {
     "name": "stdout",
     "output_type": "stream",
     "text": [
      "rows:  2 \n",
      " Columns:  3"
     ]
    }
   ],
   "source": [
    "cat(\"rows: \", dim(M)[1], '\\n', \"Columns: \", dim(M)[2])"
   ]
  },
  {
   "cell_type": "code",
   "execution_count": 111,
   "metadata": {},
   "outputs": [
    {
     "data": {
      "text/html": [
       "<style>\n",
       ".list-inline {list-style: none; margin:0; padding: 0}\n",
       ".list-inline>li {display: inline-block}\n",
       ".list-inline>li:not(:last-child)::after {content: \"\\00b7\"; padding: 0 .5ex}\n",
       "</style>\n",
       "<ol class=list-inline><li>'matrix'</li><li>'array'</li></ol>\n"
      ],
      "text/latex": [
       "\\begin{enumerate*}\n",
       "\\item 'matrix'\n",
       "\\item 'array'\n",
       "\\end{enumerate*}\n"
      ],
      "text/markdown": [
       "1. 'matrix'\n",
       "2. 'array'\n",
       "\n",
       "\n"
      ],
      "text/plain": [
       "[1] \"matrix\" \"array\" "
      ]
     },
     "metadata": {},
     "output_type": "display_data"
    },
    {
     "name": "stdout",
     "output_type": "stream",
     "text": [
      "      [,1]\n",
      " [1,]    0\n",
      " [2,]    2\n",
      " [3,]    4\n",
      " [4,]    6\n",
      " [5,]    8\n",
      " [6,]   10\n",
      " [7,]   12\n",
      " [8,]   14\n",
      " [9,]   16\n",
      "[10,]   18\n"
     ]
    },
    {
     "data": {
      "text/html": [
       "'double'"
      ],
      "text/latex": [
       "'double'"
      ],
      "text/markdown": [
       "'double'"
      ],
      "text/plain": [
       "[1] \"double\""
      ]
     },
     "metadata": {},
     "output_type": "display_data"
    }
   ],
   "source": [
    "# Create a 1D NumPy array with values from 0 to 20 (exclusively) incremented by 2.5:\n",
    "\n",
    "y <- matrix(seq(0,19,2))\n",
    "class(y)\n",
    "print(y)\n",
    "typeof(y)"
   ]
  },
  {
   "cell_type": "code",
   "execution_count": 60,
   "metadata": {},
   "outputs": [
    {
     "data": {
      "text/html": [
       "0"
      ],
      "text/latex": [
       "0"
      ],
      "text/markdown": [
       "0"
      ],
      "text/plain": [
       "[1] 0"
      ]
     },
     "metadata": {},
     "output_type": "display_data"
    }
   ],
   "source": [
    "y[1]"
   ]
  },
  {
   "cell_type": "code",
   "execution_count": 61,
   "metadata": {},
   "outputs": [
    {
     "name": "stdout",
     "output_type": "stream",
     "text": [
      "      [,1]\n",
      " [1,]    1\n",
      " [2,]    2\n",
      " [3,]    3\n",
      " [4,]    4\n",
      " [5,]    5\n",
      " [6,]    6\n",
      " [7,]    7\n",
      " [8,]    8\n",
      " [9,]    9\n",
      "[10,]   10\n"
     ]
    }
   ],
   "source": [
    "y <- matrix(seq( 1, 10))\n",
    "print(y)"
   ]
  },
  {
   "cell_type": "code",
   "execution_count": 62,
   "metadata": {},
   "outputs": [
    {
     "name": "stdout",
     "output_type": "stream",
     "text": [
      "[1] 1\n",
      "[1] 2\n",
      "[1] 3\n",
      "[1] 4\n",
      "[1] 5\n",
      "[1] 6\n",
      "[1] 7\n",
      "[1] 8\n",
      "[1] 9\n",
      "[1] 10\n"
     ]
    }
   ],
   "source": [
    "for (i in y) {\n",
    "  print(i)    \n",
    "}"
   ]
  },
  {
   "cell_type": "code",
   "execution_count": 22,
   "metadata": {},
   "outputs": [
    {
     "data": {
      "text/html": [
       "<table class=\"dataframe\">\n",
       "<caption>A matrix: 5 × 10 of type dbl</caption>\n",
       "<tbody>\n",
       "\t<tr><td>  0</td><td>  1</td><td>  2</td><td>  3</td><td>  4</td><td>  5</td><td>  6</td><td>  7</td><td>  8</td><td>  9</td></tr>\n",
       "\t<tr><td> 10</td><td> 11</td><td> 12</td><td> 13</td><td> 14</td><td> 15</td><td> 16</td><td> 17</td><td> 18</td><td> 19</td></tr>\n",
       "\t<tr><td> 30</td><td> 31</td><td> 32</td><td> 33</td><td> 34</td><td> 35</td><td> 36</td><td> 37</td><td> 38</td><td> 39</td></tr>\n",
       "\t<tr><td>-20</td><td>-19</td><td>-18</td><td>-17</td><td>-16</td><td>-15</td><td>-14</td><td>-13</td><td>-12</td><td>-11</td></tr>\n",
       "\t<tr><td>  2</td><td>  4</td><td>  6</td><td>  8</td><td> 10</td><td> 12</td><td> 14</td><td> 16</td><td> 18</td><td> 20</td></tr>\n",
       "</tbody>\n",
       "</table>\n"
      ],
      "text/latex": [
       "A matrix: 5 × 10 of type dbl\n",
       "\\begin{tabular}{llllllllll}\n",
       "\t   0 &   1 &   2 &   3 &   4 &   5 &   6 &   7 &   8 &   9\\\\\n",
       "\t  10 &  11 &  12 &  13 &  14 &  15 &  16 &  17 &  18 &  19\\\\\n",
       "\t  30 &  31 &  32 &  33 &  34 &  35 &  36 &  37 &  38 &  39\\\\\n",
       "\t -20 & -19 & -18 & -17 & -16 & -15 & -14 & -13 & -12 & -11\\\\\n",
       "\t   2 &   4 &   6 &   8 &  10 &  12 &  14 &  16 &  18 &  20\\\\\n",
       "\\end{tabular}\n"
      ],
      "text/markdown": [
       "\n",
       "A matrix: 5 × 10 of type dbl\n",
       "\n",
       "|   0 |   1 |   2 |   3 |   4 |   5 |   6 |   7 |   8 |   9 |\n",
       "|  10 |  11 |  12 |  13 |  14 |  15 |  16 |  17 |  18 |  19 |\n",
       "|  30 |  31 |  32 |  33 |  34 |  35 |  36 |  37 |  38 |  39 |\n",
       "| -20 | -19 | -18 | -17 | -16 | -15 | -14 | -13 | -12 | -11 |\n",
       "|   2 |   4 |   6 |   8 |  10 |  12 |  14 |  16 |  18 |  20 |\n",
       "\n"
      ],
      "text/plain": [
       "     [,1] [,2] [,3] [,4] [,5] [,6] [,7] [,8] [,9] [,10]\n",
       "[1,]   0    1    2    3    4    5    6    7    8    9  \n",
       "[2,]  10   11   12   13   14   15   16   17   18   19  \n",
       "[3,]  30   31   32   33   34   35   36   37   38   39  \n",
       "[4,] -20  -19  -18  -17  -16  -15  -14  -13  -12  -11  \n",
       "[5,]   2    4    6    8   10   12   14   16   18   20  "
      ]
     },
     "metadata": {},
     "output_type": "display_data"
    }
   ],
   "source": [
    "A <- matrix(c(seq(0, 9), seq( 10, 19), seq( 30, 39), seq( -20, -11), seq( 2, 20,2)), nrow = 5, byrow =TRUE)\n",
    "A"
   ]
  },
  {
   "cell_type": "code",
   "execution_count": 25,
   "metadata": {},
   "outputs": [
    {
     "data": {
      "text/html": [
       "<table class=\"dataframe\">\n",
       "<caption>A matrix: 3 × 10 of type dbl</caption>\n",
       "<tbody>\n",
       "\t<tr><td> 10</td><td> 11</td><td> 12</td><td> 13</td><td> 14</td><td> 15</td><td> 16</td><td> 17</td><td> 18</td><td> 19</td></tr>\n",
       "\t<tr><td> 30</td><td> 31</td><td> 32</td><td> 33</td><td> 34</td><td> 35</td><td> 36</td><td> 37</td><td> 38</td><td> 39</td></tr>\n",
       "\t<tr><td>-20</td><td>-19</td><td>-18</td><td>-17</td><td>-16</td><td>-15</td><td>-14</td><td>-13</td><td>-12</td><td>-11</td></tr>\n",
       "</tbody>\n",
       "</table>\n"
      ],
      "text/latex": [
       "A matrix: 3 × 10 of type dbl\n",
       "\\begin{tabular}{llllllllll}\n",
       "\t  10 &  11 &  12 &  13 &  14 &  15 &  16 &  17 &  18 &  19\\\\\n",
       "\t  30 &  31 &  32 &  33 &  34 &  35 &  36 &  37 &  38 &  39\\\\\n",
       "\t -20 & -19 & -18 & -17 & -16 & -15 & -14 & -13 & -12 & -11\\\\\n",
       "\\end{tabular}\n"
      ],
      "text/markdown": [
       "\n",
       "A matrix: 3 × 10 of type dbl\n",
       "\n",
       "|  10 |  11 |  12 |  13 |  14 |  15 |  16 |  17 |  18 |  19 |\n",
       "|  30 |  31 |  32 |  33 |  34 |  35 |  36 |  37 |  38 |  39 |\n",
       "| -20 | -19 | -18 | -17 | -16 | -15 | -14 | -13 | -12 | -11 |\n",
       "\n"
      ],
      "text/plain": [
       "     [,1] [,2] [,3] [,4] [,5] [,6] [,7] [,8] [,9] [,10]\n",
       "[1,]  10   11   12   13   14   15   16   17   18   19  \n",
       "[2,]  30   31   32   33   34   35   36   37   38   39  \n",
       "[3,] -20  -19  -18  -17  -16  -15  -14  -13  -12  -11  "
      ]
     },
     "metadata": {},
     "output_type": "display_data"
    }
   ],
   "source": [
    "A[2:4,] # rows selecrtion"
   ]
  },
  {
   "cell_type": "code",
   "execution_count": 29,
   "metadata": {},
   "outputs": [
    {
     "data": {
      "text/html": [
       "<table class=\"dataframe\">\n",
       "<caption>A matrix: 5 × 6 of type dbl</caption>\n",
       "<tbody>\n",
       "\t<tr><td>  0</td><td>  1</td><td>  2</td><td>  3</td><td>  4</td><td>  5</td></tr>\n",
       "\t<tr><td> 10</td><td> 11</td><td> 12</td><td> 13</td><td> 14</td><td> 15</td></tr>\n",
       "\t<tr><td> 30</td><td> 31</td><td> 32</td><td> 33</td><td> 34</td><td> 35</td></tr>\n",
       "\t<tr><td>-20</td><td>-19</td><td>-18</td><td>-17</td><td>-16</td><td>-15</td></tr>\n",
       "\t<tr><td>  2</td><td>  4</td><td>  6</td><td>  8</td><td> 10</td><td> 12</td></tr>\n",
       "</tbody>\n",
       "</table>\n"
      ],
      "text/latex": [
       "A matrix: 5 × 6 of type dbl\n",
       "\\begin{tabular}{llllll}\n",
       "\t   0 &   1 &   2 &   3 &   4 &   5\\\\\n",
       "\t  10 &  11 &  12 &  13 &  14 &  15\\\\\n",
       "\t  30 &  31 &  32 &  33 &  34 &  35\\\\\n",
       "\t -20 & -19 & -18 & -17 & -16 & -15\\\\\n",
       "\t   2 &   4 &   6 &   8 &  10 &  12\\\\\n",
       "\\end{tabular}\n"
      ],
      "text/markdown": [
       "\n",
       "A matrix: 5 × 6 of type dbl\n",
       "\n",
       "|   0 |   1 |   2 |   3 |   4 |   5 |\n",
       "|  10 |  11 |  12 |  13 |  14 |  15 |\n",
       "|  30 |  31 |  32 |  33 |  34 |  35 |\n",
       "| -20 | -19 | -18 | -17 | -16 | -15 |\n",
       "|   2 |   4 |   6 |   8 |  10 |  12 |\n",
       "\n"
      ],
      "text/plain": [
       "     [,1] [,2] [,3] [,4] [,5] [,6]\n",
       "[1,]   0    1    2    3    4    5 \n",
       "[2,]  10   11   12   13   14   15 \n",
       "[3,]  30   31   32   33   34   35 \n",
       "[4,] -20  -19  -18  -17  -16  -15 \n",
       "[5,]   2    4    6    8   10   12 "
      ]
     },
     "metadata": {},
     "output_type": "display_data"
    }
   ],
   "source": [
    "A[,1:6]  # columns selecrtion"
   ]
  },
  {
   "cell_type": "markdown",
   "metadata": {},
   "source": [
    "# Join matrix and special Matrix"
   ]
  },
  {
   "cell_type": "code",
   "execution_count": 63,
   "metadata": {},
   "outputs": [
    {
     "name": "stdout",
     "output_type": "stream",
     "text": [
      "     [,1] [,2]\n",
      "[1,]    0    0\n",
      "[2,]    0    0\n",
      "[3,]    0    0\n",
      "[4,]    0    0\n",
      "[5,]    0    0\n",
      "[6,]    0    0\n",
      "[7,]    0    0\n",
      "[8,]    0    0\n"
     ]
    }
   ],
   "source": [
    "M1 <- matrix(0,8,2)\n",
    "\n",
    "print(M1)"
   ]
  },
  {
   "cell_type": "code",
   "execution_count": 64,
   "metadata": {},
   "outputs": [
    {
     "name": "stdout",
     "output_type": "stream",
     "text": [
      "     [,1] [,2] [,3] [,4]\n",
      "[1,]    1    1    1    1\n",
      "[2,]    1    1    1    1\n",
      "[3,]    1    1    1    1\n",
      "[4,]    1    1    1    1\n",
      "[5,]    1    1    1    1\n",
      "[6,]    1    1    1    1\n",
      "[7,]    1    1    1    1\n",
      "[8,]    1    1    1    1\n"
     ]
    }
   ],
   "source": [
    "M2 <- matrix(1,8, 4) \n",
    "print(M2)"
   ]
  },
  {
   "cell_type": "code",
   "execution_count": 65,
   "metadata": {
    "scrolled": true
   },
   "outputs": [
    {
     "data": {
      "text/html": [
       "<table class=\"dataframe\">\n",
       "<caption>A matrix: 8 × 6 of type dbl</caption>\n",
       "<tbody>\n",
       "\t<tr><td>0</td><td>0</td><td>1</td><td>1</td><td>1</td><td>1</td></tr>\n",
       "\t<tr><td>0</td><td>0</td><td>1</td><td>1</td><td>1</td><td>1</td></tr>\n",
       "\t<tr><td>0</td><td>0</td><td>1</td><td>1</td><td>1</td><td>1</td></tr>\n",
       "\t<tr><td>0</td><td>0</td><td>1</td><td>1</td><td>1</td><td>1</td></tr>\n",
       "\t<tr><td>0</td><td>0</td><td>1</td><td>1</td><td>1</td><td>1</td></tr>\n",
       "\t<tr><td>0</td><td>0</td><td>1</td><td>1</td><td>1</td><td>1</td></tr>\n",
       "\t<tr><td>0</td><td>0</td><td>1</td><td>1</td><td>1</td><td>1</td></tr>\n",
       "\t<tr><td>0</td><td>0</td><td>1</td><td>1</td><td>1</td><td>1</td></tr>\n",
       "</tbody>\n",
       "</table>\n"
      ],
      "text/latex": [
       "A matrix: 8 × 6 of type dbl\n",
       "\\begin{tabular}{llllll}\n",
       "\t 0 & 0 & 1 & 1 & 1 & 1\\\\\n",
       "\t 0 & 0 & 1 & 1 & 1 & 1\\\\\n",
       "\t 0 & 0 & 1 & 1 & 1 & 1\\\\\n",
       "\t 0 & 0 & 1 & 1 & 1 & 1\\\\\n",
       "\t 0 & 0 & 1 & 1 & 1 & 1\\\\\n",
       "\t 0 & 0 & 1 & 1 & 1 & 1\\\\\n",
       "\t 0 & 0 & 1 & 1 & 1 & 1\\\\\n",
       "\t 0 & 0 & 1 & 1 & 1 & 1\\\\\n",
       "\\end{tabular}\n"
      ],
      "text/markdown": [
       "\n",
       "A matrix: 8 × 6 of type dbl\n",
       "\n",
       "| 0 | 0 | 1 | 1 | 1 | 1 |\n",
       "| 0 | 0 | 1 | 1 | 1 | 1 |\n",
       "| 0 | 0 | 1 | 1 | 1 | 1 |\n",
       "| 0 | 0 | 1 | 1 | 1 | 1 |\n",
       "| 0 | 0 | 1 | 1 | 1 | 1 |\n",
       "| 0 | 0 | 1 | 1 | 1 | 1 |\n",
       "| 0 | 0 | 1 | 1 | 1 | 1 |\n",
       "| 0 | 0 | 1 | 1 | 1 | 1 |\n",
       "\n"
      ],
      "text/plain": [
       "     [,1] [,2] [,3] [,4] [,5] [,6]\n",
       "[1,] 0    0    1    1    1    1   \n",
       "[2,] 0    0    1    1    1    1   \n",
       "[3,] 0    0    1    1    1    1   \n",
       "[4,] 0    0    1    1    1    1   \n",
       "[5,] 0    0    1    1    1    1   \n",
       "[6,] 0    0    1    1    1    1   \n",
       "[7,] 0    0    1    1    1    1   \n",
       "[8,] 0    0    1    1    1    1   "
      ]
     },
     "metadata": {},
     "output_type": "display_data"
    }
   ],
   "source": [
    "M3 <- cbind(M1,M2)\n",
    "M3"
   ]
  },
  {
   "cell_type": "code",
   "execution_count": 66,
   "metadata": {},
   "outputs": [
    {
     "name": "stdout",
     "output_type": "stream",
     "text": [
      "     [,1] [,2] [,3] [,4] [,5] [,6]\n",
      "[1,]    2    2    3    4    5    1\n",
      "[2,]    1    5    5    9    8    2\n"
     ]
    }
   ],
   "source": [
    "M4 = matrix(c(2,2,3,4,5,1,1,5,5,9,8,2), nrow =2, byrow = TRUE)\n",
    "print(M4)"
   ]
  },
  {
   "cell_type": "code",
   "execution_count": 67,
   "metadata": {
    "scrolled": true
   },
   "outputs": [
    {
     "name": "stdout",
     "output_type": "stream",
     "text": [
      "      [,1] [,2] [,3] [,4] [,5] [,6]\n",
      " [1,]    0    0    1    1    1    1\n",
      " [2,]    0    0    1    1    1    1\n",
      " [3,]    0    0    1    1    1    1\n",
      " [4,]    0    0    1    1    1    1\n",
      " [5,]    0    0    1    1    1    1\n",
      " [6,]    0    0    1    1    1    1\n",
      " [7,]    0    0    1    1    1    1\n",
      " [8,]    0    0    1    1    1    1\n",
      " [9,]    2    2    3    4    5    1\n",
      "[10,]    1    5    5    9    8    2\n",
      "     [,1] [,2] [,3] [,4] [,5] [,6] [,7] [,8] [,9] [,10]\n",
      "[1,]    0    0    0    0    0    0    0    0    2     1\n",
      "[2,]    0    0    0    0    0    0    0    0    2     5\n",
      "[3,]    1    1    1    1    1    1    1    1    3     5\n",
      "[4,]    1    1    1    1    1    1    1    1    4     9\n",
      "[5,]    1    1    1    1    1    1    1    1    5     8\n",
      "[6,]    1    1    1    1    1    1    1    1    1     2\n"
     ]
    }
   ],
   "source": [
    "\n",
    "print(t(M5))\n"
   ]
  },
  {
   "cell_type": "code",
   "execution_count": 68,
   "metadata": {},
   "outputs": [
    {
     "name": "stdout",
     "output_type": "stream",
     "text": [
      "     [,1] [,2] [,3] [,4] [,5] [,6] [,7] [,8]\n",
      "[1,]    1    0    0    0    0    0    0    0\n",
      "[2,]    0    1    0    0    0    0    0    0\n",
      "[3,]    0    0    1    0    0    0    0    0\n",
      "[4,]    0    0    0    1    0    0    0    0\n",
      "[5,]    0    0    0    0    1    0    0    0\n",
      "[6,]    0    0    0    0    0    1    0    0\n",
      "[7,]    0    0    0    0    0    0    1    0\n",
      "[8,]    0    0    0    0    0    0    0    1\n"
     ]
    }
   ],
   "source": [
    "I <- diag(8)\n",
    "print(I)"
   ]
  },
  {
   "cell_type": "code",
   "execution_count": 69,
   "metadata": {
    "scrolled": false
   },
   "outputs": [
    {
     "name": "stdout",
     "output_type": "stream",
     "text": [
      "      [,1] [,2]\n",
      " [1,]    1    0\n",
      " [2,]    0    0\n",
      " [3,]    0    0\n",
      " [4,]    0    0\n",
      " [5,]    0    1\n",
      " [6,]    0    0\n",
      " [7,]    0    0\n",
      " [8,]    0    0\n",
      " [9,]    0    0\n",
      "[10,]    1    0\n",
      "[11,]    0    0\n",
      "[12,]    0    0\n",
      "[13,]    0    0\n",
      "[14,]    0    1\n",
      "[15,]    0    0\n",
      "[16,]    0    0\n",
      "[17,]    0    0\n",
      "[18,]    0    0\n",
      "[19,]    1    0\n",
      "[20,]    0    0\n",
      "[21,]    0    0\n",
      "[22,]    0    0\n",
      "[23,]    0    1\n",
      "[24,]    0    0\n",
      "[25,]    0    0\n",
      "[26,]    0    0\n",
      "[27,]    0    0\n",
      "[28,]    1    0\n",
      "[29,]    0    0\n",
      "[30,]    0    0\n",
      "[31,]    0    0\n",
      "[32,]    0    1\n"
     ]
    },
    {
     "data": {
      "text/html": [
       "'double'"
      ],
      "text/latex": [
       "'double'"
      ],
      "text/markdown": [
       "'double'"
      ],
      "text/plain": [
       "[1] \"double\""
      ]
     },
     "metadata": {},
     "output_type": "display_data"
    }
   ],
   "source": [
    "I3 <- matrix(I, nrow = 32, ncol = 2)\n",
    "print(I3)\n",
    "typeof(I3)"
   ]
  },
  {
   "cell_type": "code",
   "execution_count": 112,
   "metadata": {},
   "outputs": [],
   "source": [
    "set.seed(756)\n",
    "\n",
    "#x1 = runif(500, min = 0, max = 1)\n",
    "x1 <- runif(500)\n",
    "x2 <- runif(500)\n",
    "x3 <- runif(500)\n",
    "x4 <- runif(500)\n",
    "#random.seed(123)\n",
    "e <- rnorm(500)\n",
    "\n",
    "# Poblacional regression (Data Generating Process GDP)\n",
    "\n",
    "Y <- 1 + 0.8*x1 + 1.2*x2 + 0.5*x3 + 1.5*x4 + e\n"
   ]
  },
  {
   "cell_type": "code",
   "execution_count": 114,
   "metadata": {},
   "outputs": [
    {
     "data": {
      "text/html": [
       "<table class=\"dataframe\">\n",
       "<caption>A matrix: 500 × 5 of type dbl</caption>\n",
       "<thead>\n",
       "\t<tr><th scope=col></th><th scope=col>x1</th><th scope=col>x2</th><th scope=col>x3</th><th scope=col>x4</th></tr>\n",
       "</thead>\n",
       "<tbody>\n",
       "\t<tr><td>1</td><td>0.18667121</td><td>0.14026657</td><td>0.94280410</td><td>0.10649518</td></tr>\n",
       "\t<tr><td>1</td><td>0.94443903</td><td>0.13706934</td><td>0.52276689</td><td>0.52940151</td></tr>\n",
       "\t<tr><td>1</td><td>0.92838826</td><td>0.71164475</td><td>0.64336073</td><td>0.71860641</td></tr>\n",
       "\t<tr><td>1</td><td>0.95917710</td><td>0.18051582</td><td>0.69677409</td><td>0.25410129</td></tr>\n",
       "\t<tr><td>1</td><td>0.52417646</td><td>0.08842863</td><td>0.19106442</td><td>0.40701648</td></tr>\n",
       "\t<tr><td>1</td><td>0.76715036</td><td>0.21311299</td><td>0.76912339</td><td>0.23444981</td></tr>\n",
       "\t<tr><td>1</td><td>0.11651188</td><td>0.23825413</td><td>0.93014166</td><td>0.99164182</td></tr>\n",
       "\t<tr><td>1</td><td>0.22528155</td><td>0.07474239</td><td>0.94627987</td><td>0.67382932</td></tr>\n",
       "\t<tr><td>1</td><td>0.50887578</td><td>0.59305166</td><td>0.19104230</td><td>0.68902774</td></tr>\n",
       "\t<tr><td>1</td><td>0.48288501</td><td>0.43254095</td><td>0.65083054</td><td>0.12949274</td></tr>\n",
       "\t<tr><td>1</td><td>0.99894565</td><td>0.69434619</td><td>0.01480160</td><td>0.42898919</td></tr>\n",
       "\t<tr><td>1</td><td>0.05084642</td><td>0.91495662</td><td>0.33351877</td><td>0.63241673</td></tr>\n",
       "\t<tr><td>1</td><td>0.06691185</td><td>0.19109222</td><td>0.08920029</td><td>0.76341623</td></tr>\n",
       "\t<tr><td>1</td><td>0.11794333</td><td>0.35745388</td><td>0.81815994</td><td>0.66611022</td></tr>\n",
       "\t<tr><td>1</td><td>0.68559683</td><td>0.27811306</td><td>0.66970300</td><td>0.05112475</td></tr>\n",
       "\t<tr><td>1</td><td>0.71863128</td><td>0.46288762</td><td>0.80392381</td><td>0.89823474</td></tr>\n",
       "\t<tr><td>1</td><td>0.06124421</td><td>0.84306605</td><td>0.37011961</td><td>0.92389927</td></tr>\n",
       "\t<tr><td>1</td><td>0.62285430</td><td>0.31216241</td><td>0.98473847</td><td>0.79780304</td></tr>\n",
       "\t<tr><td>1</td><td>0.55798855</td><td>0.75144188</td><td>0.52716798</td><td>0.65260034</td></tr>\n",
       "\t<tr><td>1</td><td>0.90502225</td><td>0.22930374</td><td>0.39986640</td><td>0.91896482</td></tr>\n",
       "\t<tr><td>1</td><td>0.92542007</td><td>0.65874796</td><td>0.69178055</td><td>0.09224323</td></tr>\n",
       "\t<tr><td>1</td><td>0.08820010</td><td>0.14306197</td><td>0.03249294</td><td>0.14938501</td></tr>\n",
       "\t<tr><td>1</td><td>0.31211653</td><td>0.56704057</td><td>0.32759226</td><td>0.80864499</td></tr>\n",
       "\t<tr><td>1</td><td>0.20291122</td><td>0.42337361</td><td>0.09160377</td><td>0.86773079</td></tr>\n",
       "\t<tr><td>1</td><td>0.71595446</td><td>0.59810639</td><td>0.30404230</td><td>0.34511233</td></tr>\n",
       "\t<tr><td>1</td><td>0.90460165</td><td>0.45845377</td><td>0.65259555</td><td>0.88972366</td></tr>\n",
       "\t<tr><td>1</td><td>0.46766476</td><td>0.52513082</td><td>0.71309737</td><td>0.16936588</td></tr>\n",
       "\t<tr><td>1</td><td>0.64029220</td><td>0.56341941</td><td>0.47951154</td><td>0.72864526</td></tr>\n",
       "\t<tr><td>1</td><td>0.96117897</td><td>0.44741020</td><td>0.60329951</td><td>0.69625929</td></tr>\n",
       "\t<tr><td>1</td><td>0.06439775</td><td>0.81046488</td><td>0.52349975</td><td>0.54737779</td></tr>\n",
       "\t<tr><td>...</td><td>...</td><td>...</td><td>...</td><td>...</td></tr>\n",
       "\t<tr><td>1</td><td>0.95949565</td><td>0.675293292</td><td>0.8533642</td><td>0.02793749</td></tr>\n",
       "\t<tr><td>1</td><td>0.97966608</td><td>0.039872393</td><td>0.9416000</td><td>0.72198486</td></tr>\n",
       "\t<tr><td>1</td><td>0.52690660</td><td>0.977472335</td><td>0.6314807</td><td>0.56772196</td></tr>\n",
       "\t<tr><td>1</td><td>0.04598748</td><td>0.317146298</td><td>0.7144303</td><td>0.44446465</td></tr>\n",
       "\t<tr><td>1</td><td>0.90023072</td><td>0.205296297</td><td>0.6285209</td><td>0.60478397</td></tr>\n",
       "\t<tr><td>1</td><td>0.32258687</td><td>0.194069347</td><td>0.1173722</td><td>0.98242966</td></tr>\n",
       "\t<tr><td>1</td><td>0.40783653</td><td>0.555588038</td><td>0.5186564</td><td>0.50368648</td></tr>\n",
       "\t<tr><td>1</td><td>0.99673296</td><td>0.999136477</td><td>0.7249953</td><td>0.92376843</td></tr>\n",
       "\t<tr><td>1</td><td>0.91272255</td><td>0.241522007</td><td>0.7817168</td><td>0.99709942</td></tr>\n",
       "\t<tr><td>1</td><td>0.29021141</td><td>0.710598734</td><td>0.2612493</td><td>0.48444181</td></tr>\n",
       "\t<tr><td>1</td><td>0.69542780</td><td>0.276058567</td><td>0.9691086</td><td>0.17449112</td></tr>\n",
       "\t<tr><td>1</td><td>0.04131045</td><td>0.276989744</td><td>0.8094209</td><td>0.15243695</td></tr>\n",
       "\t<tr><td>1</td><td>0.71684108</td><td>0.512455887</td><td>0.8306769</td><td>0.01123611</td></tr>\n",
       "\t<tr><td>1</td><td>0.76262139</td><td>0.059084704</td><td>0.3211154</td><td>0.45001308</td></tr>\n",
       "\t<tr><td>1</td><td>0.15972753</td><td>0.833049576</td><td>0.2579192</td><td>0.15601347</td></tr>\n",
       "\t<tr><td>1</td><td>0.92483975</td><td>0.936467176</td><td>0.4144494</td><td>0.94711103</td></tr>\n",
       "\t<tr><td>1</td><td>0.81208558</td><td>0.555141241</td><td>0.3050448</td><td>0.66984936</td></tr>\n",
       "\t<tr><td>1</td><td>0.77316963</td><td>0.337681846</td><td>0.1429613</td><td>0.95666772</td></tr>\n",
       "\t<tr><td>1</td><td>0.35355523</td><td>0.450951844</td><td>0.3189683</td><td>0.73501092</td></tr>\n",
       "\t<tr><td>1</td><td>0.12435475</td><td>0.560914025</td><td>0.7513311</td><td>0.43392086</td></tr>\n",
       "\t<tr><td>1</td><td>0.88780212</td><td>0.681851396</td><td>0.3224342</td><td>0.22024524</td></tr>\n",
       "\t<tr><td>1</td><td>0.85313819</td><td>0.875375814</td><td>0.8255444</td><td>0.34645350</td></tr>\n",
       "\t<tr><td>1</td><td>0.84449228</td><td>0.617045320</td><td>0.8734211</td><td>0.16636795</td></tr>\n",
       "\t<tr><td>1</td><td>0.34172408</td><td>0.725208323</td><td>0.2835125</td><td>0.16518848</td></tr>\n",
       "\t<tr><td>1</td><td>0.28166291</td><td>0.007400454</td><td>0.3206765</td><td>0.12923063</td></tr>\n",
       "\t<tr><td>1</td><td>0.12384033</td><td>0.899060817</td><td>0.9858464</td><td>0.85039734</td></tr>\n",
       "\t<tr><td>1</td><td>0.73414969</td><td>0.561721307</td><td>0.3043357</td><td>0.91251808</td></tr>\n",
       "\t<tr><td>1</td><td>0.77999513</td><td>0.101500033</td><td>0.7807000</td><td>0.07230745</td></tr>\n",
       "\t<tr><td>1</td><td>0.92141159</td><td>0.072265238</td><td>0.8283349</td><td>0.79017804</td></tr>\n",
       "\t<tr><td>1</td><td>0.06351236</td><td>0.507830425</td><td>0.9885709</td><td>0.24619645</td></tr>\n",
       "</tbody>\n",
       "</table>\n"
      ],
      "text/latex": [
       "A matrix: 500 × 5 of type dbl\n",
       "\\begin{tabular}{lllll}\n",
       "  & x1 & x2 & x3 & x4\\\\\n",
       "\\hline\n",
       "\t 1 & 0.18667121 & 0.14026657 & 0.94280410 & 0.10649518\\\\\n",
       "\t 1 & 0.94443903 & 0.13706934 & 0.52276689 & 0.52940151\\\\\n",
       "\t 1 & 0.92838826 & 0.71164475 & 0.64336073 & 0.71860641\\\\\n",
       "\t 1 & 0.95917710 & 0.18051582 & 0.69677409 & 0.25410129\\\\\n",
       "\t 1 & 0.52417646 & 0.08842863 & 0.19106442 & 0.40701648\\\\\n",
       "\t 1 & 0.76715036 & 0.21311299 & 0.76912339 & 0.23444981\\\\\n",
       "\t 1 & 0.11651188 & 0.23825413 & 0.93014166 & 0.99164182\\\\\n",
       "\t 1 & 0.22528155 & 0.07474239 & 0.94627987 & 0.67382932\\\\\n",
       "\t 1 & 0.50887578 & 0.59305166 & 0.19104230 & 0.68902774\\\\\n",
       "\t 1 & 0.48288501 & 0.43254095 & 0.65083054 & 0.12949274\\\\\n",
       "\t 1 & 0.99894565 & 0.69434619 & 0.01480160 & 0.42898919\\\\\n",
       "\t 1 & 0.05084642 & 0.91495662 & 0.33351877 & 0.63241673\\\\\n",
       "\t 1 & 0.06691185 & 0.19109222 & 0.08920029 & 0.76341623\\\\\n",
       "\t 1 & 0.11794333 & 0.35745388 & 0.81815994 & 0.66611022\\\\\n",
       "\t 1 & 0.68559683 & 0.27811306 & 0.66970300 & 0.05112475\\\\\n",
       "\t 1 & 0.71863128 & 0.46288762 & 0.80392381 & 0.89823474\\\\\n",
       "\t 1 & 0.06124421 & 0.84306605 & 0.37011961 & 0.92389927\\\\\n",
       "\t 1 & 0.62285430 & 0.31216241 & 0.98473847 & 0.79780304\\\\\n",
       "\t 1 & 0.55798855 & 0.75144188 & 0.52716798 & 0.65260034\\\\\n",
       "\t 1 & 0.90502225 & 0.22930374 & 0.39986640 & 0.91896482\\\\\n",
       "\t 1 & 0.92542007 & 0.65874796 & 0.69178055 & 0.09224323\\\\\n",
       "\t 1 & 0.08820010 & 0.14306197 & 0.03249294 & 0.14938501\\\\\n",
       "\t 1 & 0.31211653 & 0.56704057 & 0.32759226 & 0.80864499\\\\\n",
       "\t 1 & 0.20291122 & 0.42337361 & 0.09160377 & 0.86773079\\\\\n",
       "\t 1 & 0.71595446 & 0.59810639 & 0.30404230 & 0.34511233\\\\\n",
       "\t 1 & 0.90460165 & 0.45845377 & 0.65259555 & 0.88972366\\\\\n",
       "\t 1 & 0.46766476 & 0.52513082 & 0.71309737 & 0.16936588\\\\\n",
       "\t 1 & 0.64029220 & 0.56341941 & 0.47951154 & 0.72864526\\\\\n",
       "\t 1 & 0.96117897 & 0.44741020 & 0.60329951 & 0.69625929\\\\\n",
       "\t 1 & 0.06439775 & 0.81046488 & 0.52349975 & 0.54737779\\\\\n",
       "\t ... & ... & ... & ... & ...\\\\\n",
       "\t 1 & 0.95949565 & 0.675293292 & 0.8533642 & 0.02793749\\\\\n",
       "\t 1 & 0.97966608 & 0.039872393 & 0.9416000 & 0.72198486\\\\\n",
       "\t 1 & 0.52690660 & 0.977472335 & 0.6314807 & 0.56772196\\\\\n",
       "\t 1 & 0.04598748 & 0.317146298 & 0.7144303 & 0.44446465\\\\\n",
       "\t 1 & 0.90023072 & 0.205296297 & 0.6285209 & 0.60478397\\\\\n",
       "\t 1 & 0.32258687 & 0.194069347 & 0.1173722 & 0.98242966\\\\\n",
       "\t 1 & 0.40783653 & 0.555588038 & 0.5186564 & 0.50368648\\\\\n",
       "\t 1 & 0.99673296 & 0.999136477 & 0.7249953 & 0.92376843\\\\\n",
       "\t 1 & 0.91272255 & 0.241522007 & 0.7817168 & 0.99709942\\\\\n",
       "\t 1 & 0.29021141 & 0.710598734 & 0.2612493 & 0.48444181\\\\\n",
       "\t 1 & 0.69542780 & 0.276058567 & 0.9691086 & 0.17449112\\\\\n",
       "\t 1 & 0.04131045 & 0.276989744 & 0.8094209 & 0.15243695\\\\\n",
       "\t 1 & 0.71684108 & 0.512455887 & 0.8306769 & 0.01123611\\\\\n",
       "\t 1 & 0.76262139 & 0.059084704 & 0.3211154 & 0.45001308\\\\\n",
       "\t 1 & 0.15972753 & 0.833049576 & 0.2579192 & 0.15601347\\\\\n",
       "\t 1 & 0.92483975 & 0.936467176 & 0.4144494 & 0.94711103\\\\\n",
       "\t 1 & 0.81208558 & 0.555141241 & 0.3050448 & 0.66984936\\\\\n",
       "\t 1 & 0.77316963 & 0.337681846 & 0.1429613 & 0.95666772\\\\\n",
       "\t 1 & 0.35355523 & 0.450951844 & 0.3189683 & 0.73501092\\\\\n",
       "\t 1 & 0.12435475 & 0.560914025 & 0.7513311 & 0.43392086\\\\\n",
       "\t 1 & 0.88780212 & 0.681851396 & 0.3224342 & 0.22024524\\\\\n",
       "\t 1 & 0.85313819 & 0.875375814 & 0.8255444 & 0.34645350\\\\\n",
       "\t 1 & 0.84449228 & 0.617045320 & 0.8734211 & 0.16636795\\\\\n",
       "\t 1 & 0.34172408 & 0.725208323 & 0.2835125 & 0.16518848\\\\\n",
       "\t 1 & 0.28166291 & 0.007400454 & 0.3206765 & 0.12923063\\\\\n",
       "\t 1 & 0.12384033 & 0.899060817 & 0.9858464 & 0.85039734\\\\\n",
       "\t 1 & 0.73414969 & 0.561721307 & 0.3043357 & 0.91251808\\\\\n",
       "\t 1 & 0.77999513 & 0.101500033 & 0.7807000 & 0.07230745\\\\\n",
       "\t 1 & 0.92141159 & 0.072265238 & 0.8283349 & 0.79017804\\\\\n",
       "\t 1 & 0.06351236 & 0.507830425 & 0.9885709 & 0.24619645\\\\\n",
       "\\end{tabular}\n"
      ],
      "text/markdown": [
       "\n",
       "A matrix: 500 × 5 of type dbl\n",
       "\n",
       "| <!----> | x1 | x2 | x3 | x4 |\n",
       "|---|---|---|---|---|\n",
       "| 1 | 0.18667121 | 0.14026657 | 0.94280410 | 0.10649518 |\n",
       "| 1 | 0.94443903 | 0.13706934 | 0.52276689 | 0.52940151 |\n",
       "| 1 | 0.92838826 | 0.71164475 | 0.64336073 | 0.71860641 |\n",
       "| 1 | 0.95917710 | 0.18051582 | 0.69677409 | 0.25410129 |\n",
       "| 1 | 0.52417646 | 0.08842863 | 0.19106442 | 0.40701648 |\n",
       "| 1 | 0.76715036 | 0.21311299 | 0.76912339 | 0.23444981 |\n",
       "| 1 | 0.11651188 | 0.23825413 | 0.93014166 | 0.99164182 |\n",
       "| 1 | 0.22528155 | 0.07474239 | 0.94627987 | 0.67382932 |\n",
       "| 1 | 0.50887578 | 0.59305166 | 0.19104230 | 0.68902774 |\n",
       "| 1 | 0.48288501 | 0.43254095 | 0.65083054 | 0.12949274 |\n",
       "| 1 | 0.99894565 | 0.69434619 | 0.01480160 | 0.42898919 |\n",
       "| 1 | 0.05084642 | 0.91495662 | 0.33351877 | 0.63241673 |\n",
       "| 1 | 0.06691185 | 0.19109222 | 0.08920029 | 0.76341623 |\n",
       "| 1 | 0.11794333 | 0.35745388 | 0.81815994 | 0.66611022 |\n",
       "| 1 | 0.68559683 | 0.27811306 | 0.66970300 | 0.05112475 |\n",
       "| 1 | 0.71863128 | 0.46288762 | 0.80392381 | 0.89823474 |\n",
       "| 1 | 0.06124421 | 0.84306605 | 0.37011961 | 0.92389927 |\n",
       "| 1 | 0.62285430 | 0.31216241 | 0.98473847 | 0.79780304 |\n",
       "| 1 | 0.55798855 | 0.75144188 | 0.52716798 | 0.65260034 |\n",
       "| 1 | 0.90502225 | 0.22930374 | 0.39986640 | 0.91896482 |\n",
       "| 1 | 0.92542007 | 0.65874796 | 0.69178055 | 0.09224323 |\n",
       "| 1 | 0.08820010 | 0.14306197 | 0.03249294 | 0.14938501 |\n",
       "| 1 | 0.31211653 | 0.56704057 | 0.32759226 | 0.80864499 |\n",
       "| 1 | 0.20291122 | 0.42337361 | 0.09160377 | 0.86773079 |\n",
       "| 1 | 0.71595446 | 0.59810639 | 0.30404230 | 0.34511233 |\n",
       "| 1 | 0.90460165 | 0.45845377 | 0.65259555 | 0.88972366 |\n",
       "| 1 | 0.46766476 | 0.52513082 | 0.71309737 | 0.16936588 |\n",
       "| 1 | 0.64029220 | 0.56341941 | 0.47951154 | 0.72864526 |\n",
       "| 1 | 0.96117897 | 0.44741020 | 0.60329951 | 0.69625929 |\n",
       "| 1 | 0.06439775 | 0.81046488 | 0.52349975 | 0.54737779 |\n",
       "| ... | ... | ... | ... | ... |\n",
       "| 1 | 0.95949565 | 0.675293292 | 0.8533642 | 0.02793749 |\n",
       "| 1 | 0.97966608 | 0.039872393 | 0.9416000 | 0.72198486 |\n",
       "| 1 | 0.52690660 | 0.977472335 | 0.6314807 | 0.56772196 |\n",
       "| 1 | 0.04598748 | 0.317146298 | 0.7144303 | 0.44446465 |\n",
       "| 1 | 0.90023072 | 0.205296297 | 0.6285209 | 0.60478397 |\n",
       "| 1 | 0.32258687 | 0.194069347 | 0.1173722 | 0.98242966 |\n",
       "| 1 | 0.40783653 | 0.555588038 | 0.5186564 | 0.50368648 |\n",
       "| 1 | 0.99673296 | 0.999136477 | 0.7249953 | 0.92376843 |\n",
       "| 1 | 0.91272255 | 0.241522007 | 0.7817168 | 0.99709942 |\n",
       "| 1 | 0.29021141 | 0.710598734 | 0.2612493 | 0.48444181 |\n",
       "| 1 | 0.69542780 | 0.276058567 | 0.9691086 | 0.17449112 |\n",
       "| 1 | 0.04131045 | 0.276989744 | 0.8094209 | 0.15243695 |\n",
       "| 1 | 0.71684108 | 0.512455887 | 0.8306769 | 0.01123611 |\n",
       "| 1 | 0.76262139 | 0.059084704 | 0.3211154 | 0.45001308 |\n",
       "| 1 | 0.15972753 | 0.833049576 | 0.2579192 | 0.15601347 |\n",
       "| 1 | 0.92483975 | 0.936467176 | 0.4144494 | 0.94711103 |\n",
       "| 1 | 0.81208558 | 0.555141241 | 0.3050448 | 0.66984936 |\n",
       "| 1 | 0.77316963 | 0.337681846 | 0.1429613 | 0.95666772 |\n",
       "| 1 | 0.35355523 | 0.450951844 | 0.3189683 | 0.73501092 |\n",
       "| 1 | 0.12435475 | 0.560914025 | 0.7513311 | 0.43392086 |\n",
       "| 1 | 0.88780212 | 0.681851396 | 0.3224342 | 0.22024524 |\n",
       "| 1 | 0.85313819 | 0.875375814 | 0.8255444 | 0.34645350 |\n",
       "| 1 | 0.84449228 | 0.617045320 | 0.8734211 | 0.16636795 |\n",
       "| 1 | 0.34172408 | 0.725208323 | 0.2835125 | 0.16518848 |\n",
       "| 1 | 0.28166291 | 0.007400454 | 0.3206765 | 0.12923063 |\n",
       "| 1 | 0.12384033 | 0.899060817 | 0.9858464 | 0.85039734 |\n",
       "| 1 | 0.73414969 | 0.561721307 | 0.3043357 | 0.91251808 |\n",
       "| 1 | 0.77999513 | 0.101500033 | 0.7807000 | 0.07230745 |\n",
       "| 1 | 0.92141159 | 0.072265238 | 0.8283349 | 0.79017804 |\n",
       "| 1 | 0.06351236 | 0.507830425 | 0.9885709 | 0.24619645 |\n",
       "\n"
      ],
      "text/plain": [
       "          x1         x2          x3         x4        \n",
       " [1,] 1   0.18667121 0.14026657  0.94280410 0.10649518\n",
       " [2,] 1   0.94443903 0.13706934  0.52276689 0.52940151\n",
       " [3,] 1   0.92838826 0.71164475  0.64336073 0.71860641\n",
       " [4,] 1   0.95917710 0.18051582  0.69677409 0.25410129\n",
       " [5,] 1   0.52417646 0.08842863  0.19106442 0.40701648\n",
       " [6,] 1   0.76715036 0.21311299  0.76912339 0.23444981\n",
       " [7,] 1   0.11651188 0.23825413  0.93014166 0.99164182\n",
       " [8,] 1   0.22528155 0.07474239  0.94627987 0.67382932\n",
       " [9,] 1   0.50887578 0.59305166  0.19104230 0.68902774\n",
       "[10,] 1   0.48288501 0.43254095  0.65083054 0.12949274\n",
       "[11,] 1   0.99894565 0.69434619  0.01480160 0.42898919\n",
       "[12,] 1   0.05084642 0.91495662  0.33351877 0.63241673\n",
       "[13,] 1   0.06691185 0.19109222  0.08920029 0.76341623\n",
       "[14,] 1   0.11794333 0.35745388  0.81815994 0.66611022\n",
       "[15,] 1   0.68559683 0.27811306  0.66970300 0.05112475\n",
       "[16,] 1   0.71863128 0.46288762  0.80392381 0.89823474\n",
       "[17,] 1   0.06124421 0.84306605  0.37011961 0.92389927\n",
       "[18,] 1   0.62285430 0.31216241  0.98473847 0.79780304\n",
       "[19,] 1   0.55798855 0.75144188  0.52716798 0.65260034\n",
       "[20,] 1   0.90502225 0.22930374  0.39986640 0.91896482\n",
       "[21,] 1   0.92542007 0.65874796  0.69178055 0.09224323\n",
       "[22,] 1   0.08820010 0.14306197  0.03249294 0.14938501\n",
       "[23,] 1   0.31211653 0.56704057  0.32759226 0.80864499\n",
       "[24,] 1   0.20291122 0.42337361  0.09160377 0.86773079\n",
       "[25,] 1   0.71595446 0.59810639  0.30404230 0.34511233\n",
       "[26,] 1   0.90460165 0.45845377  0.65259555 0.88972366\n",
       "[27,] 1   0.46766476 0.52513082  0.71309737 0.16936588\n",
       "[28,] 1   0.64029220 0.56341941  0.47951154 0.72864526\n",
       "[29,] 1   0.96117897 0.44741020  0.60329951 0.69625929\n",
       "[30,] 1   0.06439775 0.81046488  0.52349975 0.54737779\n",
       "[31,] ... ...        ...         ...        ...       \n",
       "[32,] 1   0.95949565 0.675293292 0.8533642  0.02793749\n",
       "[33,] 1   0.97966608 0.039872393 0.9416000  0.72198486\n",
       "[34,] 1   0.52690660 0.977472335 0.6314807  0.56772196\n",
       "[35,] 1   0.04598748 0.317146298 0.7144303  0.44446465\n",
       "[36,] 1   0.90023072 0.205296297 0.6285209  0.60478397\n",
       "[37,] 1   0.32258687 0.194069347 0.1173722  0.98242966\n",
       "[38,] 1   0.40783653 0.555588038 0.5186564  0.50368648\n",
       "[39,] 1   0.99673296 0.999136477 0.7249953  0.92376843\n",
       "[40,] 1   0.91272255 0.241522007 0.7817168  0.99709942\n",
       "[41,] 1   0.29021141 0.710598734 0.2612493  0.48444181\n",
       "[42,] 1   0.69542780 0.276058567 0.9691086  0.17449112\n",
       "[43,] 1   0.04131045 0.276989744 0.8094209  0.15243695\n",
       "[44,] 1   0.71684108 0.512455887 0.8306769  0.01123611\n",
       "[45,] 1   0.76262139 0.059084704 0.3211154  0.45001308\n",
       "[46,] 1   0.15972753 0.833049576 0.2579192  0.15601347\n",
       "[47,] 1   0.92483975 0.936467176 0.4144494  0.94711103\n",
       "[48,] 1   0.81208558 0.555141241 0.3050448  0.66984936\n",
       "[49,] 1   0.77316963 0.337681846 0.1429613  0.95666772\n",
       "[50,] 1   0.35355523 0.450951844 0.3189683  0.73501092\n",
       "[51,] 1   0.12435475 0.560914025 0.7513311  0.43392086\n",
       "[52,] 1   0.88780212 0.681851396 0.3224342  0.22024524\n",
       "[53,] 1   0.85313819 0.875375814 0.8255444  0.34645350\n",
       "[54,] 1   0.84449228 0.617045320 0.8734211  0.16636795\n",
       "[55,] 1   0.34172408 0.725208323 0.2835125  0.16518848\n",
       "[56,] 1   0.28166291 0.007400454 0.3206765  0.12923063\n",
       "[57,] 1   0.12384033 0.899060817 0.9858464  0.85039734\n",
       "[58,] 1   0.73414969 0.561721307 0.3043357  0.91251808\n",
       "[59,] 1   0.77999513 0.101500033 0.7807000  0.07230745\n",
       "[60,] 1   0.92141159 0.072265238 0.8283349  0.79017804\n",
       "[61,] 1   0.06351236 0.507830425 0.9885709  0.24619645"
      ]
     },
     "metadata": {},
     "output_type": "display_data"
    }
   ],
   "source": [
    "#M1 <- matrix(0,8,2)\n",
    "\n",
    "X <- cbind(matrix(1,500), x1,x2,x3,x4)\n",
    "X"
   ]
  },
  {
   "cell_type": "code",
   "execution_count": 122,
   "metadata": {
    "scrolled": true
   },
   "outputs": [
    {
     "data": {
      "text/html": [
       "<table class=\"dataframe\">\n",
       "<caption>A matrix: 5 × 1 of type dbl</caption>\n",
       "<tbody>\n",
       "\t<tr><td>1.1294824</td></tr>\n",
       "\t<tr><td>0.9372554</td></tr>\n",
       "\t<tr><td>1.0652353</td></tr>\n",
       "\t<tr><td>0.3915020</td></tr>\n",
       "\t<tr><td>1.3708117</td></tr>\n",
       "</tbody>\n",
       "</table>\n"
      ],
      "text/latex": [
       "A matrix: 5 × 1 of type dbl\n",
       "\\begin{tabular}{l}\n",
       "\t 1.1294824\\\\\n",
       "\t 0.9372554\\\\\n",
       "\t 1.0652353\\\\\n",
       "\t 0.3915020\\\\\n",
       "\t 1.3708117\\\\\n",
       "\\end{tabular}\n"
      ],
      "text/markdown": [
       "\n",
       "A matrix: 5 × 1 of type dbl\n",
       "\n",
       "| 1.1294824 |\n",
       "| 0.9372554 |\n",
       "| 1.0652353 |\n",
       "| 0.3915020 |\n",
       "| 1.3708117 |\n",
       "\n"
      ],
      "text/plain": [
       "     [,1]     \n",
       "[1,] 1.1294824\n",
       "[2,] 0.9372554\n",
       "[3,] 1.0652353\n",
       "[4,] 0.3915020\n",
       "[5,] 1.3708117"
      ]
     },
     "metadata": {},
     "output_type": "display_data"
    }
   ],
   "source": [
    "#install.packages(\"matlib\")\n",
    "#library(matlib)\n",
    "\n",
    "#inv(X) or solve (X)\n",
    "\n",
    "beta <- inv(t(X) %*% X) %*% (t(X) %*% Y)\n",
    "beta"
   ]
  },
  {
   "cell_type": "markdown",
   "metadata": {},
   "source": [
    "### Matriz generadora de residuos \n",
    "\n",
    "\\begin{equation}\n",
    " M = I - X(X'X)^{-1}X\n",
    "\\end{equation}"
   ]
  }
 ],
 "metadata": {
  "kernelspec": {
   "display_name": "R 4.1.3",
   "language": "R",
   "name": "r413"
  },
  "language_info": {
   "codemirror_mode": "r",
   "file_extension": ".r",
   "mimetype": "text/x-r-source",
   "name": "R",
   "pygments_lexer": "r",
   "version": "4.1.3"
  }
 },
 "nbformat": 4,
 "nbformat_minor": 5
}
