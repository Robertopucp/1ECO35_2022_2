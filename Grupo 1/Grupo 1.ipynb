{
 "cells": [
  {
   "cell_type": "code",
   "execution_count": 14,
   "id": "93d55ab8",
   "metadata": {},
   "outputs": [],
   "source": [
    "# **Miembros del grupo**\n",
    "# 20163197, Enrique Alfonso Pazos \n",
    "# 20191894, Ilenia Ttito\n",
    "# 20151595, Rodrigo Ramos\n",
    "# 20193469, Luis Eguzquiza \n",
    "# 20163377, Jean Niño de Guzmán"
   ]
  },
  {
   "cell_type": "code",
   "execution_count": 13,
   "id": "e57d351b",
   "metadata": {
    "scrolled": true
   },
   "outputs": [
    {
     "name": "stderr",
     "output_type": "stream",
     "text": [
      "\u001b[32m\u001b[1m   Resolving\u001b[22m\u001b[39m package versions...\n",
      "\u001b[32m\u001b[1m  No Changes\u001b[22m\u001b[39m to `C:\\Users\\Jean M\\.julia\\environments\\v1.6\\Project.toml`\n",
      "\u001b[32m\u001b[1m  No Changes\u001b[22m\u001b[39m to `C:\\Users\\Jean M\\.julia\\environments\\v1.6\\Manifest.toml`\n",
      "\u001b[32m\u001b[1mPrecompiling\u001b[22m\u001b[39m project...\n",
      "\u001b[33m  ✓ \u001b[39mIJulia\n",
      "  1 dependency successfully precompiled in 9 seconds (55 already precompiled)\n",
      "  \u001b[33m1\u001b[39m dependency precompiled but a different version is currently loaded. Restart julia to access the new version\n",
      "\u001b[32m\u001b[1m   Resolving\u001b[22m\u001b[39m package versions...\n",
      "\u001b[32m\u001b[1m  No Changes\u001b[22m\u001b[39m to `C:\\Users\\Jean M\\.julia\\environments\\v1.6\\Project.toml`\n",
      "\u001b[32m\u001b[1m  No Changes\u001b[22m\u001b[39m to `C:\\Users\\Jean M\\.julia\\environments\\v1.6\\Manifest.toml`\n",
      "\u001b[32m\u001b[1mPrecompiling\u001b[22m\u001b[39m project...\n",
      "\u001b[33m  ✓ \u001b[39mIJulia\n",
      "  1 dependency successfully precompiled in 8 seconds (55 already precompiled)\n",
      "  \u001b[33m1\u001b[39m dependency precompiled but a different version is currently loaded. Restart julia to access the new version\n",
      "\u001b[32m\u001b[1m   Resolving\u001b[22m\u001b[39m package versions...\n",
      "\u001b[32m\u001b[1m  No Changes\u001b[22m\u001b[39m to `C:\\Users\\Jean M\\.julia\\environments\\v1.6\\Project.toml`\n",
      "\u001b[32m\u001b[1m  No Changes\u001b[22m\u001b[39m to `C:\\Users\\Jean M\\.julia\\environments\\v1.6\\Manifest.toml`\n",
      "\u001b[32m\u001b[1mPrecompiling\u001b[22m\u001b[39m project...\n",
      "\u001b[33m  ✓ \u001b[39mIJulia\n",
      "  1 dependency successfully precompiled in 8 seconds (55 already precompiled)\n",
      "  \u001b[33m1\u001b[39m dependency precompiled but a different version is currently loaded. Restart julia to access the new version\n",
      "\u001b[32m\u001b[1m   Resolving\u001b[22m\u001b[39m package versions...\n",
      "\u001b[32m\u001b[1m  No Changes\u001b[22m\u001b[39m to `C:\\Users\\Jean M\\.julia\\environments\\v1.6\\Project.toml`\n",
      "\u001b[32m\u001b[1m  No Changes\u001b[22m\u001b[39m to `C:\\Users\\Jean M\\.julia\\environments\\v1.6\\Manifest.toml`\n",
      "\u001b[32m\u001b[1mPrecompiling\u001b[22m\u001b[39m project...\n",
      "\u001b[33m  ✓ \u001b[39mIJulia\n",
      "  1 dependency successfully precompiled in 8 seconds (55 already precompiled)\n",
      "  \u001b[33m1\u001b[39m dependency precompiled but a different version is currently loaded. Restart julia to access the new version\n",
      "\u001b[32m\u001b[1m   Resolving\u001b[22m\u001b[39m package versions...\n",
      "\u001b[32m\u001b[1m  No Changes\u001b[22m\u001b[39m to `C:\\Users\\Jean M\\.julia\\environments\\v1.6\\Project.toml`\n",
      "\u001b[32m\u001b[1m  No Changes\u001b[22m\u001b[39m to `C:\\Users\\Jean M\\.julia\\environments\\v1.6\\Manifest.toml`\n",
      "\u001b[32m\u001b[1mPrecompiling\u001b[22m\u001b[39m project...\n",
      "\u001b[33m  ✓ \u001b[39mIJulia\n",
      "  1 dependency successfully precompiled in 8 seconds (55 already precompiled)\n",
      "  \u001b[33m1\u001b[39m dependency precompiled but a different version is currently loaded. Restart julia to access the new version\n"
     ]
    }
   ],
   "source": [
    "# Instalamos paquetes e importamos librerías\n",
    "import Pkg\n",
    "Pkg.add(\"LinearAlgebra\")\n",
    "Pkg.add(\"Random\")\n",
    "Pkg.add(\"Distributions\")\n",
    "Pkg.add(\"Statistics\")\n",
    "Pkg.add(\"DataFrames\")\n",
    "\n"
   ]
  },
  {
   "cell_type": "code",
   "execution_count": 19,
   "id": "5b97e655",
   "metadata": {},
   "outputs": [
    {
     "ename": "LoadError",
     "evalue": "syntax: missing comma or ) in argument list",
     "output_type": "error",
     "traceback": [
      "syntax: missing comma or ) in argument list",
      "",
      "Stacktrace:",
      " [1] top-level scope",
      "   @ In[19]:38",
      " [2] eval",
      "   @ .\\boot.jl:360 [inlined]",
      " [3] include_string(mapexpr::typeof(REPL.softscope), mod::Module, code::String, filename::String)",
      "   @ Base .\\loading.jl:1116"
     ]
    }
   ],
   "source": [
    "using LinearAlgebra, Random, Distributions, Statistics,DataFrames\n",
    "\n",
    "\n",
    "Random.seed!(175)\n",
    "\n",
    "x1 = rand(500) \n",
    "x2 = rand(500) \n",
    "x3 = rand(500) \n",
    "x4 = rand(500) \n",
    "e = randn(500)\n",
    "\n",
    "X = hcat(ones(500),x1,x2,x3,x4)\n",
    "Y = ones(500) + 0.8.*x1 + 1.2.*x2 + 0.5.*x3 + 1.5.*x4 + e\n",
    "#PGD\n",
    "\n",
    "function ols(M::Matrix, Y::Matrix, standar::Bool = True, Pvalue::Bool = True , instrumento = nothing, index = nothing)\n",
    "\n",
    "    if standar && Pvalue && isnothing(instrumento) && isnothing(instrumento)\n",
    "        \n",
    "        beta = inv(transpose(X) * X) * (transpose(X) * Y)\n",
    "        y_est =  X * beta\n",
    "        n = size(M,1)\n",
    "        k = size(M,2) - 1\n",
    "        nk = n - k\n",
    "        sigma =  sum( map((x) -> x^2, (Y-y_est) )) / nk\n",
    "        Var = sigma*inv(transpose(X) * X)\n",
    "        dVar=diag(Var)\n",
    "        sd = dVar.^0.5\n",
    "        t_est = abs.(beta/sd)\n",
    "        \n",
    "        test = 3.5\n",
    "        dist = TDist(nk)  # n-k grados de libertad\n",
    "        Pvalue = 2*(1 - cdf(dist, test)) \n",
    "        \n",
    "        df = DataFrame(Betas = beta, ErrorStand = sd, P_value=pvalue )    \n",
    "         \n",
    "    \n",
    "    elseif (not instrumento is None) and (not index is None) :\n",
    "        \n",
    "        beta = np.linalg.inv(X.T @ X) @ ((X.T) @ Y )\n",
    "    \n",
    "        index = index  - 1 \n",
    "        Z = X\n",
    "        Z[:,index] = z\n",
    "        beta_x = np.linalg.inv(Z.T @ Z) @ ((Z.T) @ X[:,index] ) \n",
    "        x_est  = Z @ beta_x\n",
    "        X[:,index] = x_est\n",
    "        beta_iv = np.linalg.inv(X.T @ X) @ ((X.T) @ Y )\n",
    "        df = pd.DataFrame( {\"OLS\": beta , \"OLS_IV\" : beta_iv})  \n",
    "    \n",
    "    return df\n",
    "\n",
    "    print(ols(M,Y))\n",
    "            "
   ]
  },
  {
   "cell_type": "code",
   "execution_count": 10,
   "id": "8f14a137",
   "metadata": {},
   "outputs": [
    {
     "data": {
      "text/plain": [
       "3-element Vector{Int64}:\n",
       " 1\n",
       " 4\n",
       " 9"
      ]
     },
     "execution_count": 10,
     "metadata": {},
     "output_type": "execute_result"
    }
   ],
   "source": [
    "a=[-1,-4,-9]\n",
    "\n",
    "abs.(a)"
   ]
  }
 ],
 "metadata": {
  "kernelspec": {
   "display_name": "Julia 1.6.7",
   "language": "julia",
   "name": "julia-1.6"
  },
  "language_info": {
   "file_extension": ".jl",
   "mimetype": "application/julia",
   "name": "julia",
   "version": "1.6.7"
  }
 },
 "nbformat": 4,
 "nbformat_minor": 5
}
