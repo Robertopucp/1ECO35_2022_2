{
 "cells": [
  {
   "cell_type": "markdown",
   "id": "cc5e242e",
   "metadata": {},
   "source": [
    "### <a id='1.0'> 1.0 Linear regression, Plots and Coefplot  </a> "
   ]
  },
  {
   "cell_type": "code",
   "execution_count": 51,
   "id": "1721d6d0",
   "metadata": {},
   "outputs": [],
   "source": [
    "import pandas as pd\n",
    "import numpy as np\n",
    "import math\n",
    "\n",
    "#plots library\n",
    "import matplotlib.pyplot as plt\n",
    "import seaborn as sns\n",
    "\n",
    "# import linear models library\n",
    "\n",
    "import statsmodels.api as sm\n",
    "import statsmodels.formula.api as smf\n",
    "import patsy"
   ]
  },
  {
   "cell_type": "markdown",
   "id": "8947c073",
   "metadata": {},
   "source": [
    "#### Pasty documentation\n",
    "\n",
    "https://patsy.readthedocs.io/en/latest/quickstart.html"
   ]
  },
  {
   "cell_type": "code",
   "execution_count": 52,
   "id": "871ca150",
   "metadata": {},
   "outputs": [],
   "source": [
    "# Cargamos la base de datos \n",
    "\n",
    "data = pd.read_stata(\"../data/Pesos/peso.dta\")"
   ]
  },
  {
   "cell_type": "code",
   "execution_count": 53,
   "id": "8fd637be",
   "metadata": {},
   "outputs": [
    {
     "data": {
      "text/html": [
       "<div>\n",
       "<style scoped>\n",
       "    .dataframe tbody tr th:only-of-type {\n",
       "        vertical-align: middle;\n",
       "    }\n",
       "\n",
       "    .dataframe tbody tr th {\n",
       "        vertical-align: top;\n",
       "    }\n",
       "\n",
       "    .dataframe thead th {\n",
       "        text-align: right;\n",
       "    }\n",
       "</style>\n",
       "<table border=\"1\" class=\"dataframe\">\n",
       "  <thead>\n",
       "    <tr style=\"text-align: right;\">\n",
       "      <th></th>\n",
       "      <th>faminc</th>\n",
       "      <th>cigtax</th>\n",
       "      <th>cigprice</th>\n",
       "      <th>bwght</th>\n",
       "      <th>fatheduc</th>\n",
       "      <th>motheduc</th>\n",
       "      <th>parity</th>\n",
       "      <th>male</th>\n",
       "      <th>white</th>\n",
       "      <th>cigs</th>\n",
       "      <th>lbwght</th>\n",
       "      <th>bwghtlbs</th>\n",
       "      <th>packs</th>\n",
       "      <th>lfaminc</th>\n",
       "    </tr>\n",
       "  </thead>\n",
       "  <tbody>\n",
       "    <tr>\n",
       "      <th>0</th>\n",
       "      <td>13.5</td>\n",
       "      <td>16.5</td>\n",
       "      <td>122.300003</td>\n",
       "      <td>109.0</td>\n",
       "      <td>12.0</td>\n",
       "      <td>12.0</td>\n",
       "      <td>1.0</td>\n",
       "      <td>1.0</td>\n",
       "      <td>1.0</td>\n",
       "      <td>0.0</td>\n",
       "      <td>4.691348</td>\n",
       "      <td>6.8125</td>\n",
       "      <td>0.0</td>\n",
       "      <td>2.602690</td>\n",
       "    </tr>\n",
       "    <tr>\n",
       "      <th>1</th>\n",
       "      <td>7.5</td>\n",
       "      <td>16.5</td>\n",
       "      <td>122.300003</td>\n",
       "      <td>133.0</td>\n",
       "      <td>6.0</td>\n",
       "      <td>12.0</td>\n",
       "      <td>2.0</td>\n",
       "      <td>1.0</td>\n",
       "      <td>0.0</td>\n",
       "      <td>0.0</td>\n",
       "      <td>4.890349</td>\n",
       "      <td>8.3125</td>\n",
       "      <td>0.0</td>\n",
       "      <td>2.014903</td>\n",
       "    </tr>\n",
       "    <tr>\n",
       "      <th>2</th>\n",
       "      <td>0.5</td>\n",
       "      <td>16.5</td>\n",
       "      <td>122.300003</td>\n",
       "      <td>129.0</td>\n",
       "      <td>NaN</td>\n",
       "      <td>12.0</td>\n",
       "      <td>2.0</td>\n",
       "      <td>0.0</td>\n",
       "      <td>0.0</td>\n",
       "      <td>0.0</td>\n",
       "      <td>4.859812</td>\n",
       "      <td>8.0625</td>\n",
       "      <td>0.0</td>\n",
       "      <td>-0.693147</td>\n",
       "    </tr>\n",
       "    <tr>\n",
       "      <th>3</th>\n",
       "      <td>15.5</td>\n",
       "      <td>16.5</td>\n",
       "      <td>122.300003</td>\n",
       "      <td>126.0</td>\n",
       "      <td>12.0</td>\n",
       "      <td>12.0</td>\n",
       "      <td>2.0</td>\n",
       "      <td>1.0</td>\n",
       "      <td>0.0</td>\n",
       "      <td>0.0</td>\n",
       "      <td>4.836282</td>\n",
       "      <td>7.8750</td>\n",
       "      <td>0.0</td>\n",
       "      <td>2.740840</td>\n",
       "    </tr>\n",
       "    <tr>\n",
       "      <th>4</th>\n",
       "      <td>27.5</td>\n",
       "      <td>16.5</td>\n",
       "      <td>122.300003</td>\n",
       "      <td>134.0</td>\n",
       "      <td>14.0</td>\n",
       "      <td>12.0</td>\n",
       "      <td>2.0</td>\n",
       "      <td>1.0</td>\n",
       "      <td>1.0</td>\n",
       "      <td>0.0</td>\n",
       "      <td>4.897840</td>\n",
       "      <td>8.3750</td>\n",
       "      <td>0.0</td>\n",
       "      <td>3.314186</td>\n",
       "    </tr>\n",
       "    <tr>\n",
       "      <th>...</th>\n",
       "      <td>...</td>\n",
       "      <td>...</td>\n",
       "      <td>...</td>\n",
       "      <td>...</td>\n",
       "      <td>...</td>\n",
       "      <td>...</td>\n",
       "      <td>...</td>\n",
       "      <td>...</td>\n",
       "      <td>...</td>\n",
       "      <td>...</td>\n",
       "      <td>...</td>\n",
       "      <td>...</td>\n",
       "      <td>...</td>\n",
       "      <td>...</td>\n",
       "    </tr>\n",
       "    <tr>\n",
       "      <th>1383</th>\n",
       "      <td>27.5</td>\n",
       "      <td>30.0</td>\n",
       "      <td>138.300003</td>\n",
       "      <td>110.0</td>\n",
       "      <td>12.0</td>\n",
       "      <td>12.0</td>\n",
       "      <td>4.0</td>\n",
       "      <td>1.0</td>\n",
       "      <td>1.0</td>\n",
       "      <td>0.0</td>\n",
       "      <td>4.700480</td>\n",
       "      <td>6.8750</td>\n",
       "      <td>0.0</td>\n",
       "      <td>3.314186</td>\n",
       "    </tr>\n",
       "    <tr>\n",
       "      <th>1384</th>\n",
       "      <td>5.5</td>\n",
       "      <td>30.0</td>\n",
       "      <td>138.300003</td>\n",
       "      <td>146.0</td>\n",
       "      <td>NaN</td>\n",
       "      <td>16.0</td>\n",
       "      <td>2.0</td>\n",
       "      <td>1.0</td>\n",
       "      <td>1.0</td>\n",
       "      <td>0.0</td>\n",
       "      <td>4.983607</td>\n",
       "      <td>9.1250</td>\n",
       "      <td>0.0</td>\n",
       "      <td>1.704748</td>\n",
       "    </tr>\n",
       "    <tr>\n",
       "      <th>1385</th>\n",
       "      <td>65.0</td>\n",
       "      <td>8.0</td>\n",
       "      <td>118.599998</td>\n",
       "      <td>135.0</td>\n",
       "      <td>18.0</td>\n",
       "      <td>16.0</td>\n",
       "      <td>2.0</td>\n",
       "      <td>0.0</td>\n",
       "      <td>1.0</td>\n",
       "      <td>0.0</td>\n",
       "      <td>4.905275</td>\n",
       "      <td>8.4375</td>\n",
       "      <td>0.0</td>\n",
       "      <td>4.174387</td>\n",
       "    </tr>\n",
       "    <tr>\n",
       "      <th>1386</th>\n",
       "      <td>27.5</td>\n",
       "      <td>8.0</td>\n",
       "      <td>118.599998</td>\n",
       "      <td>118.0</td>\n",
       "      <td>NaN</td>\n",
       "      <td>14.0</td>\n",
       "      <td>2.0</td>\n",
       "      <td>0.0</td>\n",
       "      <td>1.0</td>\n",
       "      <td>0.0</td>\n",
       "      <td>4.770685</td>\n",
       "      <td>7.3750</td>\n",
       "      <td>0.0</td>\n",
       "      <td>3.314186</td>\n",
       "    </tr>\n",
       "    <tr>\n",
       "      <th>1387</th>\n",
       "      <td>37.5</td>\n",
       "      <td>8.0</td>\n",
       "      <td>118.599998</td>\n",
       "      <td>111.0</td>\n",
       "      <td>16.0</td>\n",
       "      <td>13.0</td>\n",
       "      <td>2.0</td>\n",
       "      <td>0.0</td>\n",
       "      <td>1.0</td>\n",
       "      <td>0.0</td>\n",
       "      <td>4.709530</td>\n",
       "      <td>6.9375</td>\n",
       "      <td>0.0</td>\n",
       "      <td>3.624341</td>\n",
       "    </tr>\n",
       "  </tbody>\n",
       "</table>\n",
       "<p>1388 rows × 14 columns</p>\n",
       "</div>"
      ],
      "text/plain": [
       "      faminc  cigtax    cigprice  bwght  fatheduc  motheduc  parity  male  \\\n",
       "0       13.5    16.5  122.300003  109.0      12.0      12.0     1.0   1.0   \n",
       "1        7.5    16.5  122.300003  133.0       6.0      12.0     2.0   1.0   \n",
       "2        0.5    16.5  122.300003  129.0       NaN      12.0     2.0   0.0   \n",
       "3       15.5    16.5  122.300003  126.0      12.0      12.0     2.0   1.0   \n",
       "4       27.5    16.5  122.300003  134.0      14.0      12.0     2.0   1.0   \n",
       "...      ...     ...         ...    ...       ...       ...     ...   ...   \n",
       "1383    27.5    30.0  138.300003  110.0      12.0      12.0     4.0   1.0   \n",
       "1384     5.5    30.0  138.300003  146.0       NaN      16.0     2.0   1.0   \n",
       "1385    65.0     8.0  118.599998  135.0      18.0      16.0     2.0   0.0   \n",
       "1386    27.5     8.0  118.599998  118.0       NaN      14.0     2.0   0.0   \n",
       "1387    37.5     8.0  118.599998  111.0      16.0      13.0     2.0   0.0   \n",
       "\n",
       "      white  cigs    lbwght  bwghtlbs  packs   lfaminc  \n",
       "0       1.0   0.0  4.691348    6.8125    0.0  2.602690  \n",
       "1       0.0   0.0  4.890349    8.3125    0.0  2.014903  \n",
       "2       0.0   0.0  4.859812    8.0625    0.0 -0.693147  \n",
       "3       0.0   0.0  4.836282    7.8750    0.0  2.740840  \n",
       "4       1.0   0.0  4.897840    8.3750    0.0  3.314186  \n",
       "...     ...   ...       ...       ...    ...       ...  \n",
       "1383    1.0   0.0  4.700480    6.8750    0.0  3.314186  \n",
       "1384    1.0   0.0  4.983607    9.1250    0.0  1.704748  \n",
       "1385    1.0   0.0  4.905275    8.4375    0.0  4.174387  \n",
       "1386    1.0   0.0  4.770685    7.3750    0.0  3.314186  \n",
       "1387    1.0   0.0  4.709530    6.9375    0.0  3.624341  \n",
       "\n",
       "[1388 rows x 14 columns]"
      ]
     },
     "execution_count": 53,
     "metadata": {},
     "output_type": "execute_result"
    }
   ],
   "source": [
    "data"
   ]
  },
  {
   "cell_type": "markdown",
   "id": "14c31f6d",
   "metadata": {},
   "source": [
    "### <a id='1.1'> 1.1 Histogram and Distribution </a> "
   ]
  },
  {
   "cell_type": "code",
   "execution_count": 54,
   "id": "6807eacb",
   "metadata": {},
   "outputs": [],
   "source": [
    "# Dummy variable \n",
    "\n",
    "data['Dummy'] =  np.where(data['cigs'] > 0 , 1, 0)\n",
    "\n",
    "#Correción si ubiera missings en cigs\n",
    "\n",
    "data['Dummy'].mask(data['cigs'].isna(), np.nan, inplace=True)\n",
    "\n",
    "# si data['cigs'] es missing en alguna fila, entonces en coloca na en esa observación para la columna Dummy"
   ]
  },
  {
   "cell_type": "code",
   "execution_count": 55,
   "id": "b78a99bb",
   "metadata": {},
   "outputs": [
    {
     "data": {
      "text/plain": [
       "Text(0.5, 0, '')"
      ]
     },
     "execution_count": 55,
     "metadata": {},
     "output_type": "execute_result"
    },
    {
     "data": {
      "image/png": "[encoded data removed]",
      "text/plain": [
       "<Figure size 576x360 with 1 Axes>"
      ]
     },
     "metadata": {
      "needs_background": "light"
     },
     "output_type": "display_data"
    }
   ],
   "source": [
    "fig = plt.subplots(figsize=(8,5))\n",
    "\n",
    "# Histograma de frecuencia absoluta \n",
    "\n",
    "sns.histplot(data = data,  # base de datos\n",
    "            x = 'bwghtlbs',\n",
    "            alpha = 0.6,  # grado de transperencia\n",
    "            hue = 'Dummy', # se crea dos histograma para cada valor de la Dummy (1,0)\n",
    "            palette=['white','blue'], # color para cada histograma\n",
    "            edgecolor=\"0.1\",  # color del borde de cada barra\n",
    "            linewidth=1, # ancho del borde de cada barra\n",
    "             binwidth=0.5 # ancho de cada barra de 0.5\n",
    "            )\n",
    "\n",
    "plt.legend(labels=['Smoking','No smoking'],  title = \"\", frameon=True, bbox_to_anchor=(1.0, 0.98)) # Leyenda\n",
    "plt.title('Smoking status and newborn weight (lbs)', size=11)\n",
    "plt.ylabel('Absolute frequency')\n",
    "plt.xlabel('')"
   ]
  },
  {
   "cell_type": "code",
   "execution_count": 56,
   "id": "1210d782",
   "metadata": {},
   "outputs": [
    {
     "data": {
      "text/plain": [
       "Text(0.5, 0, '')"
      ]
     },
     "execution_count": 56,
     "metadata": {},
     "output_type": "execute_result"
    },
    {
     "data": {
      "image/png": "[encoded data removed]",
      "text/plain": [
       "<Figure size 576x360 with 1 Axes>"
      ]
     },
     "metadata": {
      "needs_background": "light"
     },
     "output_type": "display_data"
    }
   ],
   "source": [
    "# Histograma de frecuencia relativa\n",
    "\n",
    "fig = plt.subplots(figsize=(8,5))\n",
    "\n",
    "# El caso de madres no fumadoras\n",
    "\n",
    "sns.histplot(data = data[data.Dummy == 0],\n",
    "            x = 'bwghtlbs',\n",
    "            alpha = 0.6,\n",
    "            edgecolor=\"0.1\",\n",
    "            linewidth=1,\n",
    "             stat = \"percent\",  # percent indica que se grafica un histograma de frecuencia relativa\n",
    "             binwidth=0.5\n",
    "            )\n",
    "\n",
    "# El caso de madres fumadoras\n",
    "\n",
    "sns.histplot(data = data[data.Dummy == 1],\n",
    "            x = 'bwghtlbs',\n",
    "            alpha = 0.2,\n",
    "            edgecolor=\"0.1\",\n",
    "            linewidth=1,\n",
    "             stat = \"percent\",\n",
    "             binwidth=0.5,\n",
    "             color = 'red'  # color \n",
    "            )\n",
    "\n",
    "plt.legend(labels=['No smoking','Smoking'],  title = \"\", frameon=True, bbox_to_anchor=(1.0, 0.98))\n",
    "plt.title('Smoking status and newborn weight (lbs)', size=11)\n",
    "plt.ylabel('Relative frequency')\n",
    "plt.xlabel('')\n",
    "\n",
    "# Histograma ligeramente hacia la izquierda"
   ]
  },
  {
   "cell_type": "code",
   "execution_count": 57,
   "id": "5b08fbd0",
   "metadata": {},
   "outputs": [
    {
     "data": {
      "text/plain": [
       "Text(0.5, 0, '')"
      ]
     },
     "execution_count": 57,
     "metadata": {},
     "output_type": "execute_result"
    },
    {
     "data": {
      "image/png": "[encoded data removed]",
      "text/plain": [
       "<Figure size 576x360 with 1 Axes>"
      ]
     },
     "metadata": {
      "needs_background": "light"
     },
     "output_type": "display_data"
    }
   ],
   "source": [
    "# Gráfico de densidad \n",
    "\n",
    "fig = plt.subplots(figsize=(8,5))\n",
    "\n",
    "sns.kdeplot(data = data[data.Dummy == 0],\n",
    "            x = 'bwghtlbs',\n",
    "            alpha = 0.6,\n",
    "            edgecolor=\"0.1\",\n",
    "            linewidth=1,\n",
    "             fill=True\n",
    "            )\n",
    "\n",
    "sns.kdeplot(data = data[data.Dummy == 1],\n",
    "            x = 'bwghtlbs',\n",
    "            alpha = 0.2,\n",
    "            edgecolor=\"0.1\",\n",
    "            linewidth=1,\n",
    "            fill=True,\n",
    "             color = 'red'\n",
    "            )\n",
    "\n",
    "plt.legend(labels=['No smoking','Smoking'],  title = \"\", frameon=True, bbox_to_anchor=(1.0, 0.98))\n",
    "plt.title('Smoking status and newborn weight (lbs)', size=11)\n",
    "plt.ylabel('Kernel Density')\n",
    "plt.xlabel('')"
   ]
  },
  {
   "cell_type": "markdown",
   "id": "8adf1293",
   "metadata": {},
   "source": [
    "### <a id='1.2'> 1.2 Linear Regression </a> "
   ]
  },
  {
   "cell_type": "markdown",
   "id": "7de0857e",
   "metadata": {},
   "source": [
    "### Variables\n",
    "\n",
    "- lbwght: logaritmo del peso del bebé en libras\n",
    "- motheduc: educación de la madre\n",
    "- lfaminc: logaritmo del imgreso familair real mensual\n",
    "- white: Dummy igual a 1 si la madre es caucácica"
   ]
  },
  {
   "cell_type": "code",
   "execution_count": 58,
   "id": "144b7928",
   "metadata": {},
   "outputs": [],
   "source": [
    "# First Model\n",
    "\n",
    "model1 = smf.ols('lbwght ~ Dummy', data).fit(cov_type = 'HC1').summary2().tables[1]\n",
    "model1_coef = model1.iloc[1,0] # coeficiente\n",
    "model1_coef_se = model1.iloc[1,1] # error estandar\n",
    "model1_lower = model1.iloc[1,4] # limite inferior del itnervalo de confianza\n",
    "model1_upper = model1.iloc[1,5] # limite superior del intervalo de confianza"
   ]
  },
  {
   "cell_type": "code",
   "execution_count": 59,
   "id": "867da087",
   "metadata": {},
   "outputs": [
    {
     "data": {
      "text/html": [
       "<div>\n",
       "<style scoped>\n",
       "    .dataframe tbody tr th:only-of-type {\n",
       "        vertical-align: middle;\n",
       "    }\n",
       "\n",
       "    .dataframe tbody tr th {\n",
       "        vertical-align: top;\n",
       "    }\n",
       "\n",
       "    .dataframe thead th {\n",
       "        text-align: right;\n",
       "    }\n",
       "</style>\n",
       "<table border=\"1\" class=\"dataframe\">\n",
       "  <thead>\n",
       "    <tr style=\"text-align: right;\">\n",
       "      <th></th>\n",
       "      <th>Coef.</th>\n",
       "      <th>Std.Err.</th>\n",
       "      <th>z</th>\n",
       "      <th>P&gt;|z|</th>\n",
       "      <th>[0.025</th>\n",
       "      <th>0.975]</th>\n",
       "    </tr>\n",
       "  </thead>\n",
       "  <tbody>\n",
       "    <tr>\n",
       "      <th>Intercept</th>\n",
       "      <td>4.771778</td>\n",
       "      <td>0.005531</td>\n",
       "      <td>862.764316</td>\n",
       "      <td>0.000000e+00</td>\n",
       "      <td>4.760938</td>\n",
       "      <td>4.782619</td>\n",
       "    </tr>\n",
       "    <tr>\n",
       "      <th>Dummy</th>\n",
       "      <td>-0.076913</td>\n",
       "      <td>0.013751</td>\n",
       "      <td>-5.593088</td>\n",
       "      <td>2.230664e-08</td>\n",
       "      <td>-0.103865</td>\n",
       "      <td>-0.049960</td>\n",
       "    </tr>\n",
       "  </tbody>\n",
       "</table>\n",
       "</div>"
      ],
      "text/plain": [
       "              Coef.  Std.Err.           z         P>|z|    [0.025    0.975]\n",
       "Intercept  4.771778  0.005531  862.764316  0.000000e+00  4.760938  4.782619\n",
       "Dummy     -0.076913  0.013751   -5.593088  2.230664e-08 -0.103865 -0.049960"
      ]
     },
     "execution_count": 59,
     "metadata": {},
     "output_type": "execute_result"
    }
   ],
   "source": [
    "model1"
   ]
  },
  {
   "cell_type": "code",
   "execution_count": 60,
   "id": "0ef053c4",
   "metadata": {},
   "outputs": [],
   "source": [
    "# Second Model\n",
    "\n",
    "model2 = smf.ols('lbwght ~ Dummy + motheduc', data).fit(cov_type = 'HC1').summary2().tables[1]\n",
    "model2_coef = model2.iloc[1,0]\n",
    "model2_coef_se = model2.iloc[1,1]\n",
    "\n",
    "model2_lower = model2.iloc[1,4]\n",
    "model2_upper = model2.iloc[1,5]\n",
    "\n",
    "\n",
    "# Third Model\n",
    "\n",
    "model3 = smf.ols('lbwght ~ Dummy + motheduc + lfaminc + white + Dummy:(motheduc + lfaminc + white)', data).fit(cov_type = 'HC1').summary2().tables[1]\n",
    "\n",
    "model3_coef = model3.iloc[1,0]\n",
    "model3_coef_se = model3.iloc[1,1]\n",
    "\n",
    "model3_lower = model3.iloc[1,4]\n",
    "model3_upper = model3.iloc[1,5]"
   ]
  },
  {
   "cell_type": "code",
   "execution_count": 61,
   "id": "8ba60f40",
   "metadata": {},
   "outputs": [
    {
     "data": {
      "text/plain": [
       "'Dummy:(motheduc + lfaminc + white) = Dummy*motheduc + Dummy*lfaminc +  Dummy*white'"
      ]
     },
     "execution_count": 61,
     "metadata": {},
     "output_type": "execute_result"
    }
   ],
   "source": [
    "## Intercación entre variables\n",
    "\n",
    "\"Dummy:(motheduc + lfaminc + white) = Dummy*motheduc + Dummy*lfaminc +  Dummy*white\""
   ]
  },
  {
   "cell_type": "code",
   "execution_count": 62,
   "id": "8833bbd4",
   "metadata": {},
   "outputs": [],
   "source": [
    "y, model_X = patsy.dmatrices(\" lbwght ~ -1 + Dummy:(motheduc + lfaminc + white)\", data, return_type='dataframe')\n",
    "\n",
    "# -1 para retirar el intercepto que por default se incluye\n",
    "# patsy.dmatrices genera dos resulados: la variable dependiente , las explicativas o independiente"
   ]
  },
  {
   "cell_type": "code",
   "execution_count": 63,
   "id": "91de6efd",
   "metadata": {},
   "outputs": [
    {
     "data": {
      "text/html": [
       "<div>\n",
       "<style scoped>\n",
       "    .dataframe tbody tr th:only-of-type {\n",
       "        vertical-align: middle;\n",
       "    }\n",
       "\n",
       "    .dataframe tbody tr th {\n",
       "        vertical-align: top;\n",
       "    }\n",
       "\n",
       "    .dataframe thead th {\n",
       "        text-align: right;\n",
       "    }\n",
       "</style>\n",
       "<table border=\"1\" class=\"dataframe\">\n",
       "  <thead>\n",
       "    <tr style=\"text-align: right;\">\n",
       "      <th></th>\n",
       "      <th>Dummy:motheduc</th>\n",
       "      <th>Dummy:lfaminc</th>\n",
       "      <th>Dummy:white</th>\n",
       "    </tr>\n",
       "  </thead>\n",
       "  <tbody>\n",
       "    <tr>\n",
       "      <th>0</th>\n",
       "      <td>0.0</td>\n",
       "      <td>0.0</td>\n",
       "      <td>0.0</td>\n",
       "    </tr>\n",
       "    <tr>\n",
       "      <th>1</th>\n",
       "      <td>0.0</td>\n",
       "      <td>0.0</td>\n",
       "      <td>0.0</td>\n",
       "    </tr>\n",
       "    <tr>\n",
       "      <th>2</th>\n",
       "      <td>0.0</td>\n",
       "      <td>-0.0</td>\n",
       "      <td>0.0</td>\n",
       "    </tr>\n",
       "    <tr>\n",
       "      <th>3</th>\n",
       "      <td>0.0</td>\n",
       "      <td>0.0</td>\n",
       "      <td>0.0</td>\n",
       "    </tr>\n",
       "    <tr>\n",
       "      <th>4</th>\n",
       "      <td>0.0</td>\n",
       "      <td>0.0</td>\n",
       "      <td>0.0</td>\n",
       "    </tr>\n",
       "    <tr>\n",
       "      <th>...</th>\n",
       "      <td>...</td>\n",
       "      <td>...</td>\n",
       "      <td>...</td>\n",
       "    </tr>\n",
       "    <tr>\n",
       "      <th>1383</th>\n",
       "      <td>0.0</td>\n",
       "      <td>0.0</td>\n",
       "      <td>0.0</td>\n",
       "    </tr>\n",
       "    <tr>\n",
       "      <th>1384</th>\n",
       "      <td>0.0</td>\n",
       "      <td>0.0</td>\n",
       "      <td>0.0</td>\n",
       "    </tr>\n",
       "    <tr>\n",
       "      <th>1385</th>\n",
       "      <td>0.0</td>\n",
       "      <td>0.0</td>\n",
       "      <td>0.0</td>\n",
       "    </tr>\n",
       "    <tr>\n",
       "      <th>1386</th>\n",
       "      <td>0.0</td>\n",
       "      <td>0.0</td>\n",
       "      <td>0.0</td>\n",
       "    </tr>\n",
       "    <tr>\n",
       "      <th>1387</th>\n",
       "      <td>0.0</td>\n",
       "      <td>0.0</td>\n",
       "      <td>0.0</td>\n",
       "    </tr>\n",
       "  </tbody>\n",
       "</table>\n",
       "<p>1387 rows × 3 columns</p>\n",
       "</div>"
      ],
      "text/plain": [
       "      Dummy:motheduc  Dummy:lfaminc  Dummy:white\n",
       "0                0.0            0.0          0.0\n",
       "1                0.0            0.0          0.0\n",
       "2                0.0           -0.0          0.0\n",
       "3                0.0            0.0          0.0\n",
       "4                0.0            0.0          0.0\n",
       "...              ...            ...          ...\n",
       "1383             0.0            0.0          0.0\n",
       "1384             0.0            0.0          0.0\n",
       "1385             0.0            0.0          0.0\n",
       "1386             0.0            0.0          0.0\n",
       "1387             0.0            0.0          0.0\n",
       "\n",
       "[1387 rows x 3 columns]"
      ]
     },
     "execution_count": 63,
     "metadata": {},
     "output_type": "execute_result"
    }
   ],
   "source": [
    "model_X # hemos creado la base de datos a partir de una formula de regresión\n",
    "\n",
    "# Es util pues hay modelos que no admiten formulas sino solo matrices\n",
    "# Permite crear nuevas variable de manera rápida"
   ]
  },
  {
   "cell_type": "code",
   "execution_count": 64,
   "id": "2725e61c",
   "metadata": {},
   "outputs": [
    {
     "data": {
      "text/html": [
       "<div>\n",
       "<style scoped>\n",
       "    .dataframe tbody tr th:only-of-type {\n",
       "        vertical-align: middle;\n",
       "    }\n",
       "\n",
       "    .dataframe tbody tr th {\n",
       "        vertical-align: top;\n",
       "    }\n",
       "\n",
       "    .dataframe thead th {\n",
       "        text-align: right;\n",
       "    }\n",
       "</style>\n",
       "<table border=\"1\" class=\"dataframe\">\n",
       "  <thead>\n",
       "    <tr style=\"text-align: right;\">\n",
       "      <th></th>\n",
       "      <th>Model</th>\n",
       "      <th>Estimate</th>\n",
       "      <th>Std. Error</th>\n",
       "      <th>Lower_bound</th>\n",
       "      <th>Upper_bound</th>\n",
       "    </tr>\n",
       "  </thead>\n",
       "  <tbody>\n",
       "    <tr>\n",
       "      <th>0</th>\n",
       "      <td>OLS baseline</td>\n",
       "      <td>-0.076913</td>\n",
       "      <td>0.013751</td>\n",
       "      <td>-0.103865</td>\n",
       "      <td>-0.049960</td>\n",
       "    </tr>\n",
       "    <tr>\n",
       "      <th>1</th>\n",
       "      <td>OLS with controls</td>\n",
       "      <td>-0.073028</td>\n",
       "      <td>0.014156</td>\n",
       "      <td>-0.100773</td>\n",
       "      <td>-0.045284</td>\n",
       "    </tr>\n",
       "    <tr>\n",
       "      <th>2</th>\n",
       "      <td>OLS interactive model</td>\n",
       "      <td>0.012595</td>\n",
       "      <td>0.089136</td>\n",
       "      <td>-0.162109</td>\n",
       "      <td>0.187299</td>\n",
       "    </tr>\n",
       "  </tbody>\n",
       "</table>\n",
       "</div>"
      ],
      "text/plain": [
       "                   Model  Estimate  Std. Error  Lower_bound  Upper_bound\n",
       "0           OLS baseline -0.076913    0.013751    -0.103865    -0.049960\n",
       "1      OLS with controls -0.073028    0.014156    -0.100773    -0.045284\n",
       "2  OLS interactive model  0.012595    0.089136    -0.162109     0.187299"
      ]
     },
     "execution_count": 64,
     "metadata": {},
     "output_type": "execute_result"
    }
   ],
   "source": [
    "# Creamos una Dataframe con el coeficiente estimado, error estadnar robusta e intervalo de confianza\n",
    "# Creamos una matriz 3x4\n",
    "\n",
    "table = np.zeros( ( 3, 4 ) )\n",
    "\n",
    "table[0,0] = model1_coef\n",
    "table[0,1] = model1_coef_se \n",
    "table[0,2] = model1_lower\n",
    "table[0,3] = model1_upper \n",
    "\n",
    "table[1,0] = model2_coef\n",
    "table[1,1] = model2_coef_se  \n",
    "table[1,2] = model2_lower\n",
    "table[1,3] = model2_upper \n",
    "\n",
    "table[2,0] = model3_coef\n",
    "table[2,1] = model3_coef_se  \n",
    "table[2,2] = model3_lower\n",
    "table[2,3] = model3_upper \n",
    "\n",
    "\n",
    "# Convertimos la matrix a DataFrame. Se asigna los nombre de als columnas \n",
    "\n",
    "table_pandas = pd.DataFrame( table, columns = [ \"Estimate\",\"Std. Error\",\"Lower_bound\" , \"Upper_bound\"])\n",
    "\n",
    "# Nombre de los indices \n",
    "\n",
    "table_pandas.index = [ \"OLS baseline\",\"OLS with controls\", \"OLS interactive model\"]\n",
    "\n",
    "table_pandas.reset_index(inplace = True) # Se pasa de índices a \n",
    "table_pandas.rename(columns = {\"index\" : \"Model\"}, inplace = True)\n",
    "\n",
    "table_pandas.round(8)"
   ]
  },
  {
   "cell_type": "code",
   "execution_count": 77,
   "id": "7728198e",
   "metadata": {},
   "outputs": [
    {
     "name": "stdout",
     "output_type": "stream",
     "text": [
      "\\begin{tabular}{llrrrr}\n",
      "\\toprule\n",
      "{} &                  Model &  Estimate &  Std. Error &  Lower\\_bound &  Upper\\_bound \\\\\n",
      "\\midrule\n",
      "0 &           OLS baseline & -0.076913 &    0.013751 &    -0.103865 &    -0.049960 \\\\\n",
      "1 &      OLS with controls & -0.073028 &    0.014156 &    -0.100773 &    -0.045284 \\\\\n",
      "2 &  OLS interactive model &  0.012595 &    0.089136 &    -0.162109 &     0.187299 \\\\\n",
      "\\bottomrule\n",
      "\\end{tabular}\n",
      "\n"
     ]
    },
    {
     "name": "stderr",
     "output_type": "stream",
     "text": [
      "C:\\Users\\Roberto\\AppData\\Local\\Temp\\ipykernel_492\\2061269471.py:1: FutureWarning: In future versions `DataFrame.to_latex` is expected to utilise the base implementation of `Styler.to_latex` for formatting and rendering. The arguments signature may therefore change. It is recommended instead to use `DataFrame.style.to_latex` which also contains additional functionality.\n",
      "  print(table_pandas.to_latex())\n"
     ]
    }
   ],
   "source": [
    "print(table_pandas.to_latex())"
   ]
  },
  {
   "cell_type": "markdown",
   "id": "e5232c52",
   "metadata": {},
   "source": [
    "### <a id='1.3'> 1.3 Coefplot </a> "
   ]
  },
  {
   "cell_type": "code",
   "execution_count": 73,
   "id": "2c043cbc",
   "metadata": {},
   "outputs": [
    {
     "data": {
      "text/plain": [
       "Text(0.5, 1.0, 'Smoking Coefficient (95% CI)')"
      ]
     },
     "execution_count": 73,
     "metadata": {},
     "output_type": "execute_result"
    },
    {
     "data": {
      "image/png": "[encoded data removed]",
      "text/plain": [
       "<Figure size 504x432 with 1 Axes>"
      ]
     },
     "metadata": {
      "needs_background": "light"
     },
     "output_type": "display_data"
    }
   ],
   "source": [
    "fig, ax = plt.subplots(figsize=(7, 6))  # objeto figura, ejex, tamaño de imagen \n",
    "\n",
    "ax.scatter(x=table_pandas['Model'], # eje x\n",
    "         marker='o', s=40,   # marker o\n",
    "         y=table_pandas['Estimate'], color = \"red\")  # dato en el eje y , color rojo \n",
    "\n",
    "eb1 = plt.errorbar(x=table_pandas['Model'], y=table_pandas['Estimate'],\n",
    "            yerr = 0.5*(table_pandas['Upper_bound']- table_pandas['Lower_bound']), # longitud del intervalo de confianza\n",
    "            color = 'darkblue', ls='', capsize = 4)\n",
    "\n",
    "plt.axhline(y=0, color = 'black').set_linestyle('--') # linea horizontal en \"y\" igual a cero\n",
    "\n",
    "eb1[-1][0].set_linestyle('--') # estilo de lineas punteadas\n",
    "\n",
    "# Set title & labels\n",
    "\n",
    "plt.title('Smoking Coefficient (95% CI)',fontsize=12)\n",
    "\n",
    "\n",
    "# plt.errorbar: error bar para el intervalo de confianza"
   ]
  }
 ],
 "metadata": {
  "kernelspec": {
   "display_name": "Python 3 (ipykernel)",
   "language": "python",
   "name": "python3"
  },
  "language_info": {
   "codemirror_mode": {
    "name": "ipython",
    "version": 3
   },
   "file_extension": ".py",
   "mimetype": "text/x-python",
   "name": "python",
   "nbconvert_exporter": "python",
   "pygments_lexer": "ipython3",
   "version": "3.9.7"
  }
 },
 "nbformat": 4,
 "nbformat_minor": 5
}
