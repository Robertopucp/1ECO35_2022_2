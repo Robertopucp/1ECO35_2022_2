{
 "cells": [
  {
   "cell_type": "markdown",
   "id": "ac63d53e",
   "metadata": {},
   "source": [
    "#  Laboratorio 2 - Python\n",
    "## @author: Roberto Mendoza "
   ]
  },
  {
   "cell_type": "code",
   "execution_count": 4,
   "id": "447ac1fd",
   "metadata": {},
   "outputs": [],
   "source": [
    "import Pkg\n",
    "# Pkg.add(\"LinearAlgebra\")\n",
    "# Pkg.add(\"Random\")\n",
    "# Pkg.add(\"Distributions\")\n",
    "# Pkg.add(\"Statistics\")\n",
    "# Pkg.add(\"DataFrames\")\n",
    "\n"
   ]
  },
  {
   "cell_type": "code",
   "execution_count": 5,
   "id": "03f64812",
   "metadata": {},
   "outputs": [],
   "source": [
    "using Random  \n",
    "using Statistics \n",
    "using Distributions, LinearAlgebra"
   ]
  },
  {
   "cell_type": "markdown",
   "id": "b1ed8656",
   "metadata": {},
   "source": [
    "## <a id='1.0'> 1.0 if statement </a> "
   ]
  },
  {
   "cell_type": "code",
   "execution_count": 13,
   "id": "2c73569d",
   "metadata": {},
   "outputs": [
    {
     "name": "stdout",
     "output_type": "stream",
     "text": [
      "0"
     ]
    }
   ],
   "source": [
    "\"\"\"\n",
    "Se podrá observar que los condiciones, funciones, loops , poseen una estrucutura similar a Python, pero \n",
    "se requiere colocal end al cerrar la estructura del código. \n",
    "\"\"\"\n",
    "y = rand(-10:10,10) # 10 números aleatorios entre los enteros de -10 : 10\n",
    "\n",
    "if mean(y) > 0\n",
    "    dummy =1\n",
    "    print(dummy)\n",
    "else\n",
    "    dummy =0\n",
    "    print(dummy)\n",
    "end"
   ]
  },
  {
   "cell_type": "markdown",
   "id": "ccc89c1d",
   "metadata": {},
   "source": [
    "## <a id='1.1'> 1.1 Nested if statement </a> "
   ]
  },
  {
   "cell_type": "code",
   "execution_count": 14,
   "id": "23dd54ee",
   "metadata": {},
   "outputs": [
    {
     "name": "stdout",
     "output_type": "stream",
     "text": [
      "true es un boolean"
     ]
    }
   ],
   "source": [
    "\n",
    "# v = 2\n",
    "# v = missing\n",
    "# v = \"PUCP\"\n",
    "v = true\n",
    "\n",
    "if v isa Int\n",
    "   print(v, \" es numero entero (no missing)\") \n",
    "elseif v isa Missing \n",
    "    print(v, \" es un missing\")\n",
    "elseif v isa String \n",
    "    print(v, \" es un string\")\n",
    "elseif v isa Bool \n",
    "    print(v, \" es un boolean\")\n",
    "else\n",
    "   print(\"Sin resultado\")  \n",
    "end "
   ]
  },
  {
   "cell_type": "markdown",
   "id": "222eaedb",
   "metadata": {},
   "source": [
    "### If I have my savings today of S/.1,000.00. How much will my savings be worth in 10 years at an interest rate of 2.5%?\n",
    "\n",
    "$$\n",
    "    S_{y+1}\t=S_{y}(1+i)\n",
    "$$"
   ]
  },
  {
   "cell_type": "code",
   "execution_count": 17,
   "id": "6062b242",
   "metadata": {},
   "outputs": [
    {
     "name": "stdout",
     "output_type": "stream",
     "text": [
      "2 : 1025.0\n",
      "3 : 1050.625\n",
      "4 : 1076.890625\n",
      "5 : 1103.812890625\n",
      "6 : 1131.4082128906248\n",
      "7 : 1159.6934182128903\n",
      "8 : 1188.6857536682123\n",
      "9 : 1218.4028975099175\n",
      "10 : 1248.8629699476653\n"
     ]
    }
   ],
   "source": [
    "#  save\n",
    "S = 1000\n",
    "\n",
    "# Periods\n",
    "n = 10\n",
    "\n",
    "# interes rate\n",
    "i = 0.025\n",
    "\n",
    "year = 1\n",
    "while year < n\n",
    "    S =  S * (1+i)\n",
    "    year += 1\n",
    "   print( year, \" : \" ,S, \"\\n\")\n",
    "    \n",
    "end    "
   ]
  },
  {
   "cell_type": "markdown",
   "id": "4695742e",
   "metadata": {},
   "source": [
    "## <a id='1.2'> 1.2 For Loop </a> "
   ]
  },
  {
   "cell_type": "code",
   "execution_count": 6,
   "id": "24acb1c4",
   "metadata": {},
   "outputs": [
    {
     "name": "stdout",
     "output_type": "stream",
     "text": [
      "31\n",
      "33\n",
      "35\n",
      "34\n",
      "30\n"
     ]
    }
   ],
   "source": [
    "#### For Loop ##\n",
    "\n",
    "ages = [21, 23, 25, 24, 20]\n",
    "\n",
    "for age in ages\n",
    "    print(age+10, \"\\n\" )  \n",
    "end    "
   ]
  },
  {
   "cell_type": "code",
   "execution_count": 8,
   "id": "767df966",
   "metadata": {},
   "outputs": [
    {
     "name": "stdout",
     "output_type": "stream",
     "text": [
      "Ejecutanto 1\n",
      "Ejecutanto 2\n",
      "Ejecutanto 3\n",
      "Ejecutanto 4\n",
      "Ejecutanto 5\n",
      "Ejecutanto 6\n",
      "Ejecutanto 7\n",
      "Ejecutanto 8\n",
      "Ejecutanto 9\n",
      "Ejecutanto 10\n",
      "Ejecutanto 11\n",
      "Ejecutanto 12\n",
      "Ejecutanto 13\n",
      "Ejecutanto 14\n",
      "Ejecutanto 21\n",
      "Ejecutanto 22\n",
      "Ejecutanto 23\n",
      "Ejecutanto 24\n",
      "Ejecutanto 25\n",
      "Ejecutanto 26\n",
      "Ejecutanto 27\n",
      "Ejecutanto 28\n",
      "Ejecutanto 29\n",
      "Ejecutanto 30\n",
      "Ejecutanto 31\n",
      "Ejecutanto 32\n",
      "Ejecutanto 33\n",
      "Ejecutanto 34\n",
      "Ejecutanto 35\n",
      "Ejecutanto 36\n",
      "Ejecutanto 37\n",
      "Ejecutanto 38\n",
      "Ejecutanto 39\n",
      "Ejecutanto 40\n",
      "Ejecutanto 41\n",
      "Ejecutanto 42\n",
      "Ejecutanto 43\n",
      "Ejecutanto 44\n",
      "Ejecutanto 45\n",
      "Ejecutanto 46\n",
      "Ejecutanto 47\n",
      "Ejecutanto 48\n",
      "Ejecutanto 49\n",
      "Ejecutanto 50\n",
      "1\n",
      "2\n",
      "3\n",
      "4\n",
      "5\n",
      "6\n",
      "7\n",
      "8\n",
      "9\n",
      "10\n",
      "11\n",
      "12\n",
      "13\n",
      "14\n",
      "15\n",
      "16\n",
      "17\n",
      "18\n",
      "19\n",
      "20\n"
     ]
    }
   ],
   "source": [
    "## Loop + if - statement\n",
    "\n",
    "for i in collect(1:50)\n",
    "    if i in collect(15:20)\n",
    "        nothing # equivalente None python y R\n",
    "    else \n",
    "        print(\"Ejecutanto \",i,\"\\n\") #\\enter\n",
    "    end\n",
    "end\n",
    "\n",
    "## Loop + break\n",
    "\n",
    "for j in collect(1:100)\n",
    "    \n",
    "    if j > 20\n",
    "        \n",
    "        break\n",
    "        \n",
    "    end\n",
    "    \n",
    "    print(j,\"\\n\")\n",
    "    \n",
    "end"
   ]
  },
  {
   "cell_type": "code",
   "execution_count": 7,
   "id": "6c3686e6",
   "metadata": {},
   "outputs": [
    {
     "data": {
      "text/plain": [
       "50-element Vector{Int64}:\n",
       "  1\n",
       "  2\n",
       "  3\n",
       "  4\n",
       "  5\n",
       "  6\n",
       "  7\n",
       "  8\n",
       "  9\n",
       " 10\n",
       " 11\n",
       " 12\n",
       " 13\n",
       "  ⋮\n",
       " 39\n",
       " 40\n",
       " 41\n",
       " 42\n",
       " 43\n",
       " 44\n",
       " 45\n",
       " 46\n",
       " 47\n",
       " 48\n",
       " 49\n",
       " 50"
      ]
     },
     "execution_count": 7,
     "metadata": {},
     "output_type": "execute_result"
    }
   ],
   "source": [
    "collect(1:50) # similar range(1,51) - Python, seq(1,50) en R"
   ]
  },
  {
   "cell_type": "markdown",
   "id": "0b634622",
   "metadata": {},
   "source": [
    "## <a id='1.3'> 1.3 Function </a> "
   ]
  },
  {
   "cell_type": "code",
   "execution_count": 11,
   "id": "cd0ba2b0",
   "metadata": {},
   "outputs": [
    {
     "data": {
      "text/plain": [
       "902970"
      ]
     },
     "execution_count": 11,
     "metadata": {},
     "output_type": "execute_result"
    }
   ],
   "source": [
    "function calculator(x,y,z)\n",
    "    result = x*y*z\n",
    "    \n",
    "    return result\n",
    "end \n",
    "\n",
    "calculator( 158, 381 ,15)"
   ]
  },
  {
   "cell_type": "code",
   "execution_count": 14,
   "id": "52d30558",
   "metadata": {},
   "outputs": [
    {
     "name": "stdout",
     "output_type": "stream",
     "text": [
      "(144, 9, \"La multiplicación del cuadrado es: 144\")"
     ]
    },
    {
     "data": {
      "text/plain": [
       "9"
      ]
     },
     "execution_count": 14,
     "metadata": {},
     "output_type": "execute_result"
    }
   ],
   "source": [
    "### return multiple\n",
    "\n",
    "function calculator_square( x, y )\n",
    "    x2 = x * x\n",
    "    y2 = y * y\n",
    "    \n",
    "    result = x2 * y2\n",
    "    \n",
    "    return result, x2, \"La multiplicación del cuadrado es: $result\" # $ equivalente de f-string de python \n",
    "end\n",
    "\n",
    "print( calculator_square(3, 4) )\n",
    "calculator_square(3, 4)[2]"
   ]
  },
  {
   "cell_type": "code",
   "execution_count": 46,
   "id": "603c0238",
   "metadata": {},
   "outputs": [
    {
     "name": "stdout",
     "output_type": "stream",
     "text": [
      "(144, 9, \"La multiplicación del cuadrado es: 144\")"
     ]
    },
    {
     "data": {
      "text/plain": [
       "\"La multiplicación del cuadrado es: 144\""
      ]
     },
     "execution_count": 46,
     "metadata": {},
     "output_type": "execute_result"
    }
   ],
   "source": [
    "function calculator(x,y,z)\n",
    "    result = x*y*z\n",
    "    \n",
    "    return result\n",
    "end \n",
    "\n",
    "calculator( 158, 381 ,10)\n",
    "\n",
    "### return multiple\n",
    "\n",
    "function calculator_square( x, y )\n",
    "    x2 = x * x\n",
    "    y2 = y * y\n",
    "    \n",
    "    result = x2 * y2\n",
    "    \n",
    "    return result, x2, \"La multiplicación del cuadrado es: $result\"\n",
    "end\n",
    "\n",
    "print(calculator_square(3, 4))\n",
    "calculator_square(3, 4)[3]"
   ]
  },
  {
   "cell_type": "code",
   "execution_count": 16,
   "id": "cdacc7c9",
   "metadata": {},
   "outputs": [
    {
     "data": {
      "text/plain": [
       "\"Large number. Get only the result variable 0\""
      ]
     },
     "execution_count": 16,
     "metadata": {},
     "output_type": "execute_result"
    }
   ],
   "source": [
    "# #### IF statement and return \n",
    "\n",
    "function calculator_square_2( x, y )\n",
    "    x2 = x * x\n",
    "    y2 = y * y\n",
    "    \n",
    "    result = x2 * y2 \n",
    "    \n",
    "    if result <= 200\n",
    "           return \"Large number. Get only the result variable $result\"\n",
    "    else\n",
    "           return  print( \"Too large number. Do not return variables!\")    \n",
    "    end\n",
    "end\n",
    "\n",
    "calculator_square_2(0, 4)"
   ]
  },
  {
   "cell_type": "code",
   "execution_count": 18,
   "id": "ed61bcba",
   "metadata": {},
   "outputs": [
    {
     "name": "stdout",
     "output_type": "stream",
     "text": [
      "77.44000000000001"
     ]
    },
    {
     "data": {
      "text/plain": [
       "77"
      ]
     },
     "execution_count": 18,
     "metadata": {},
     "output_type": "execute_result"
    }
   ],
   "source": [
    "### function y tipo de variable predefinido \n",
    "\n",
    "\"\"\"\n",
    "Float output\n",
    "\"\"\"\n",
    "\n",
    "function calculator_base_5(x::Int64, y::Float64)::Float64\n",
    "\n",
    "    x2 = x * x\n",
    "    y2 = y * y\n",
    "    \n",
    "    result = x2 * y2\n",
    "    \n",
    "    return result\n",
    "end\n",
    "\n",
    "print( calculator_base_5(4, 2.2) )   \n",
    "\n",
    "\"\"\"\n",
    "Int output\n",
    "\"\"\"\n",
    "\n",
    "function calculator_base_5(x::Int64, y::Float64)::Int64\n",
    "\n",
    "    x2 = x * x\n",
    "    y2 = y * y\n",
    "    \n",
    "    result = floor(x2 * y2)  # floor: el entero inferior más cercano \n",
    "    \n",
    "    return result\n",
    "end\n",
    "\n",
    "calculator_base_5(4, 2.2)   "
   ]
  },
  {
   "cell_type": "code",
   "execution_count": 21,
   "id": "b97eed79",
   "metadata": {},
   "outputs": [
    {
     "data": {
      "text/plain": [
       "6×2 Matrix{Float64}:\n",
       " -0.566139  -1.26491\n",
       " -0.566139   0.0\n",
       "  0.113228   0.0\n",
       "  0.792594   1.26491\n",
       "  1.47196    0.948683\n",
       " -1.2455    -0.948683"
      ]
     },
     "execution_count": 21,
     "metadata": {},
     "output_type": "execute_result"
    }
   ],
   "source": [
    "# #### Function y valore predeterminados de parámetros\n",
    "\n",
    "function transpose_2(M::Matrix , est::Bool = true, z=nothing)\n",
    "\n",
    "        if est && isnothing(z) # V y V: V\n",
    "        \n",
    "            M = transpose(M)\n",
    "        \n",
    "            A = mean(M, dims = 1) # dims = 1 para aplicar promedio por columna , dim = 2 (aplica el promedio a cada fila)\n",
    "            B = std(M, dims = 1)\n",
    "            Z = zeros(Float64, size(M,1), size(M,2))  # matrix con elementos tipo Float \n",
    "        \n",
    "            for i in 1:size(M,2) # cantidad de columnas \n",
    "            \n",
    "                Z[:,i] = (M[:,i] .- A[i])./B[i]  # .- permite realizar operaciones elementos por elemento \n",
    "                \n",
    "            end\n",
    "        \n",
    "            return Z\n",
    "        \n",
    "        elseif !isnothing(z) # ! simbolo de negación en Julia \n",
    "              return M*z \n",
    "        end\n",
    "end \n",
    "\n",
    "M4 = [[2 2 3 4 5 1];[1 5 5 9 8 2]]\n",
    "\n",
    "transpose_2(M4)\n",
    "\n"
   ]
  },
  {
   "cell_type": "code",
   "execution_count": null,
   "id": "ad002bef",
   "metadata": {},
   "outputs": [],
   "source": [
    "transpose_2()\n"
   ]
  },
  {
   "cell_type": "code",
   "execution_count": 20,
   "id": "1523826a",
   "metadata": {},
   "outputs": [
    {
     "data": {
      "text/plain": [
       "2×1 Matrix{Float64}:\n",
       " 2.8333333333333335\n",
       " 5.0"
      ]
     },
     "execution_count": 20,
     "metadata": {},
     "output_type": "execute_result"
    }
   ],
   "source": [
    " A = mean(M4, dims = 2) # dim =2 aplica la función promedio a cada fila "
   ]
  },
  {
   "cell_type": "markdown",
   "id": "ab5f0683",
   "metadata": {},
   "source": [
    "## <a id='2.0'> 2.0 OLS </a> "
   ]
  },
  {
   "cell_type": "code",
   "execution_count": 33,
   "id": "45dd8601",
   "metadata": {},
   "outputs": [
    {
     "data": {
      "text/plain": [
       "18"
      ]
     },
     "execution_count": 33,
     "metadata": {},
     "output_type": "execute_result"
    }
   ],
   "source": [
    "## Cuadrado de los elementos de un vector\n",
    "\n",
    "[1, 2, 3, 4, 5.2].^2\n",
    "\n",
    "## Diagonal principal de una matriz y raiz cuadrada \n",
    "\n",
    "M2 = [[2 2 3 4 5 1];[2 2 3 4 5 1];[2 2 3 4 5 1];[2 10 3 5 5 1];[2 12 3 4 5 1];[2 11 3 4 20 1]]\n",
    "\n",
    "sum(M2[ diagind(M2) ])"
   ]
  },
  {
   "cell_type": "code",
   "execution_count": 24,
   "id": "758f8bb9",
   "metadata": {},
   "outputs": [
    {
     "data": {
      "text/plain": [
       "6×6 Matrix{Int64}:\n",
       " 2   2  3  4   5  1\n",
       " 2   2  3  4   5  1\n",
       " 2   2  3  4   5  1\n",
       " 2  10  3  5   5  1\n",
       " 2  12  3  4   5  1\n",
       " 2  11  3  4  20  1"
      ]
     },
     "execution_count": 24,
     "metadata": {},
     "output_type": "execute_result"
    }
   ],
   "source": [
    "M2"
   ]
  },
  {
   "cell_type": "code",
   "execution_count": null,
   "id": "58563113",
   "metadata": {},
   "outputs": [],
   "source": [
    "## P-value que corresponde a un percentil = 3.5 de la distribución t -student\n",
    "\n",
    "test = 3.5\n",
    "dist = TDist(4)  # 4 grados de libertad\n",
    "Pvalue = 2*(1 - cdf(dist, test)) "
   ]
  },
  {
   "cell_type": "code",
   "execution_count": 31,
   "id": "069fdfac",
   "metadata": {},
   "outputs": [],
   "source": [
    "## Dataframe \n",
    "\n",
    "using DataFrames # recordar install DataFrame"
   ]
  },
  {
   "cell_type": "code",
   "execution_count": 32,
   "id": "b4a15b23",
   "metadata": {},
   "outputs": [
    {
     "data": {
      "text/html": [
       "<div class=\"data-frame\"><p>6 rows × 2 columns</p><table class=\"data-frame\"><thead><tr><th></th><th>var1</th><th>var2</th></tr><tr><th></th><th title=\"Int64\">Int64</th><th title=\"Int64\">Int64</th></tr></thead><tbody><tr><th>1</th><td>2</td><td>1</td></tr><tr><th>2</th><td>2</td><td>2</td></tr><tr><th>3</th><td>3</td><td>3</td></tr><tr><th>4</th><td>4</td><td>4</td></tr><tr><th>5</th><td>5</td><td>5</td></tr><tr><th>6</th><td>1</td><td>6</td></tr></tbody></table></div>"
      ],
      "text/latex": [
       "\\begin{tabular}{r|cc}\n",
       "\t& var1 & var2\\\\\n",
       "\t\\hline\n",
       "\t& Int64 & Int64\\\\\n",
       "\t\\hline\n",
       "\t1 & 2 & 1 \\\\\n",
       "\t2 & 2 & 2 \\\\\n",
       "\t3 & 3 & 3 \\\\\n",
       "\t4 & 4 & 4 \\\\\n",
       "\t5 & 5 & 5 \\\\\n",
       "\t6 & 1 & 6 \\\\\n",
       "\\end{tabular}\n"
      ],
      "text/plain": [
       "\u001b[1m6×2 DataFrame\u001b[0m\n",
       "\u001b[1m Row \u001b[0m│\u001b[1m var1  \u001b[0m\u001b[1m var2  \u001b[0m\n",
       "\u001b[1m     \u001b[0m│\u001b[90m Int64 \u001b[0m\u001b[90m Int64 \u001b[0m\n",
       "─────┼──────────────\n",
       "   1 │     2      1\n",
       "   2 │     2      2\n",
       "   3 │     3      3\n",
       "   4 │     4      4\n",
       "   5 │     5      5\n",
       "   6 │     1      6"
      ]
     },
     "execution_count": 32,
     "metadata": {},
     "output_type": "execute_result"
    }
   ],
   "source": [
    "DataFrame(var1 =[2, 2, 3 ,4, 5 ,1], var2 =collect(1:6) )"
   ]
  },
  {
   "cell_type": "markdown",
   "id": "1b6f6c52",
   "metadata": {},
   "source": [
    "### Conocer los inputs de una función en Julia \n",
    "\n",
    "\\begin{equation}\n",
    "\\hat{\\beta}_{ols}\n",
    "\\end{equation}"
   ]
  },
  {
   "cell_type": "code",
   "execution_count": 22,
   "id": "a466e0ef",
   "metadata": {},
   "outputs": [
    {
     "data": {
      "text/plain": [
       "2×6 Matrix{Int64}:\n",
       " 4   4   6   8  10  2\n",
       " 2  10  10  18  16  4"
      ]
     },
     "execution_count": 22,
     "metadata": {},
     "output_type": "execute_result"
    }
   ],
   "source": [
    "transpose_2(M4, false, 2)\n",
    "\n",
    "# Shift + Tab\n"
   ]
  }
 ],
 "metadata": {
  "celltoolbar": "Raw Cell Format",
  "kernelspec": {
   "display_name": "Julia 1.7.3",
   "language": "julia",
   "name": "julia-1.7"
  },
  "language_info": {
   "file_extension": ".jl",
   "mimetype": "application/julia",
   "name": "julia",
   "version": "1.7.3"
  }
 },
 "nbformat": 4,
 "nbformat_minor": 5
}
