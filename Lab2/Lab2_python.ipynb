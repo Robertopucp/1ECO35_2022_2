{
 "cells": [
  {
   "cell_type": "markdown",
   "id": "e92d036b",
   "metadata": {},
   "source": [
    "#  Laboratorio 2 - Python\n",
    "## @author: Roberto Mendoza "
   ]
  },
  {
   "cell_type": "code",
   "execution_count": null,
   "id": "8db08323",
   "metadata": {},
   "outputs": [],
   "source": [
    "import random\n",
    "import numpy as np\n",
    "import math\n",
    "\n",
    "y = np.random.randint(-10, 10, 10)\n",
    "\n",
    "if np.mean(y) > 0 :\n",
    "    \n",
    "    dummy = 1\n",
    "    \n",
    "else :\n",
    "    dummy = 1\n",
    "        \n",
    "print(dummy)"
   ]
  },
  {
   "cell_type": "code",
   "execution_count": 1,
   "id": "900ee2e0",
   "metadata": {},
   "outputs": [
    {
     "name": "stdout",
     "output_type": "stream",
     "text": [
      "1\n",
      "nan  es un missing\n"
     ]
    }
   ],
   "source": [
    "# v = 2\n",
    "# v = np.nan\n",
    "# v = \"String\"\n",
    "# v = False\n",
    "\n",
    "if isinstance( v, int ):\n",
    "    print(v, \" es numero entero (no missing)\")\n",
    "elif math.isnan(v):\n",
    "    print(v, \" es un missing\")\n",
    "elif isinstance( v, str ):\n",
    "    print(v, \" es un string\") \n",
    "elif isinstance( v, bool ):\n",
    "    print(v, \" es un logical\")     \n",
    "else:\n",
    "    print(\"Sin resultado\")        "
   ]
  },
  {
   "cell_type": "markdown",
   "id": "5be0bb17",
   "metadata": {},
   "source": [
    "### If I have my savings today of S/.1,000.00. How much will my savings be worth in 10 years at an interest rate of 2.5%?\n",
    "\n",
    "$$\n",
    "    S_{y+1}\t=S_{y}(1+i)\n",
    "$$"
   ]
  },
  {
   "cell_type": "code",
   "execution_count": 6,
   "id": "6bbab811",
   "metadata": {},
   "outputs": [],
   "source": [
    "#  sasve\n",
    "S = 1000\n",
    "\n",
    "# Periods\n",
    "n = 10\n",
    "\n",
    "# interes rate\n",
    "i = 0.025"
   ]
  },
  {
   "cell_type": "code",
   "execution_count": 7,
   "id": "2475c96f",
   "metadata": {},
   "outputs": [
    {
     "name": "stdout",
     "output_type": "stream",
     "text": [
      "2 1025.0\n",
      "3 1050.625\n",
      "4 1076.890625\n",
      "5 1103.812890625\n",
      "6 1131.4082128906248\n",
      "7 1159.6934182128903\n",
      "8 1188.6857536682123\n",
      "9 1218.4028975099175\n",
      "10 1248.8629699476653\n"
     ]
    }
   ],
   "source": [
    "year = 1\n",
    "while year < n:\n",
    "    S =  S * (1+i)\n",
    "    year += 1\n",
    "    print( year, S)"
   ]
  },
  {
   "cell_type": "code",
   "execution_count": null,
   "id": "aad1a3c3",
   "metadata": {},
   "outputs": [],
   "source": []
  },
  {
   "cell_type": "code",
   "execution_count": null,
   "id": "3e8d448b",
   "metadata": {},
   "outputs": [],
   "source": []
  },
  {
   "cell_type": "code",
   "execution_count": null,
   "id": "382d5cb0",
   "metadata": {},
   "outputs": [],
   "source": []
  },
  {
   "cell_type": "code",
   "execution_count": null,
   "id": "cb78e1c0",
   "metadata": {},
   "outputs": [],
   "source": []
  }
 ],
 "metadata": {
  "kernelspec": {
   "display_name": "Python 3 (ipykernel)",
   "language": "python",
   "name": "python3"
  },
  "language_info": {
   "codemirror_mode": {
    "name": "ipython",
    "version": 3
   },
   "file_extension": ".py",
   "mimetype": "text/x-python",
   "name": "python",
   "nbconvert_exporter": "python",
   "pygments_lexer": "ipython3",
   "version": "3.9.7"
  }
 },
 "nbformat": 4,
 "nbformat_minor": 5
}
