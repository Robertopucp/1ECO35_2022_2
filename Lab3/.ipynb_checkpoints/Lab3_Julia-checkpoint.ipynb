{
 "cells": [
  {
   "cell_type": "code",
   "execution_count": 1,
   "id": "e085f9fe",
   "metadata": {},
   "outputs": [],
   "source": [
    "import Pkg\n",
    "\n",
    "#Pkg.add(\"CSV\")\n",
    "#Pkg.add(\"DataFrames\")\n",
    "\n",
    "# Una vez importado nos e necesita cargar nuevamente.  Esto evitará conflsitos de versiones, pues Julia actualiza \n",
    "# cosntantemente sus librerias"
   ]
  },
  {
   "cell_type": "code",
   "execution_count": 2,
   "id": "7f81289c",
   "metadata": {
    "scrolled": true
   },
   "outputs": [],
   "source": [
    "#\n",
    "#Importar librerias\n",
    "#- DataFrame para base de datos y CSV para manipular este tipo de archivos \n",
    "#\n",
    "using CSV, DataFrames"
   ]
  },
  {
   "cell_type": "code",
   "execution_count": 3,
   "id": "1efd1fd1",
   "metadata": {},
   "outputs": [
    {
     "data": {
      "text/html": [
       "<div class=\"data-frame\"><p>7,787 rows × 12 columns (omitted printing of 8 columns)</p><table class=\"data-frame\"><thead><tr><th></th><th>show_id</th><th>type</th><th>title</th><th>director</th></tr><tr><th></th><th title=\"String7\">String7</th><th title=\"String7\">String7</th><th title=\"String\">String</th><th title=\"Union{Missing, String}\">String?</th></tr></thead><tbody><tr><th>1</th><td>s1</td><td>TV Show</td><td>3%</td><td><em>missing</em></td></tr><tr><th>2</th><td>s2</td><td>Movie</td><td>7:19</td><td>Jorge Michel Grau</td></tr><tr><th>3</th><td>s3</td><td>Movie</td><td>23:59</td><td>Gilbert Chan</td></tr><tr><th>4</th><td>s4</td><td>Movie</td><td>9</td><td>Shane Acker</td></tr><tr><th>5</th><td>s5</td><td>Movie</td><td>21</td><td>Robert Luketic</td></tr><tr><th>6</th><td>s6</td><td>TV Show</td><td>46</td><td>Serdar Akar</td></tr><tr><th>7</th><td>s7</td><td>Movie</td><td>122</td><td>Yasir Al Yasiri</td></tr><tr><th>8</th><td>s8</td><td>Movie</td><td>187</td><td>Kevin Reynolds</td></tr><tr><th>9</th><td>s9</td><td>Movie</td><td>706</td><td>Shravan Kumar</td></tr><tr><th>10</th><td>s10</td><td>Movie</td><td>1920</td><td>Vikram Bhatt</td></tr><tr><th>11</th><td>s11</td><td>Movie</td><td>1922</td><td>Zak Hilditch</td></tr><tr><th>12</th><td>s12</td><td>TV Show</td><td>1983</td><td><em>missing</em></td></tr><tr><th>13</th><td>s13</td><td>TV Show</td><td>1994</td><td>Diego Enrique Osorno</td></tr><tr><th>14</th><td>s14</td><td>Movie</td><td>2,215</td><td>Nottapon Boonprakob</td></tr><tr><th>15</th><td>s15</td><td>Movie</td><td>3022</td><td>John Suits</td></tr><tr><th>16</th><td>s16</td><td>Movie</td><td>Oct-01</td><td>Kunle Afolayan</td></tr><tr><th>17</th><td>s17</td><td>TV Show</td><td>Feb-09</td><td><em>missing</em></td></tr><tr><th>18</th><td>s18</td><td>Movie</td><td>22-Jul</td><td>Paul Greengrass</td></tr><tr><th>19</th><td>s19</td><td>Movie</td><td>15-Aug</td><td>Swapnaneel Jayakar</td></tr><tr><th>20</th><td>s20</td><td>Movie</td><td>&apos;89</td><td><em>missing</em></td></tr><tr><th>21</th><td>s21</td><td>Movie</td><td>\\u200b\\u200bKuch Bheege Alfaaz</td><td>Onir</td></tr><tr><th>22</th><td>s22</td><td>Movie</td><td>\\u200bGoli Soda 2</td><td>Vijay Milton</td></tr><tr><th>23</th><td>s23</td><td>Movie</td><td>\\u200bMaj Rati \\u200b\\u200bKeteki</td><td>Santwana Bardoloi</td></tr><tr><th>24</th><td>s24</td><td>Movie</td><td>\\u200bMayurakshi</td><td>Atanu Ghosh</td></tr><tr><th>25</th><td>s25</td><td>TV Show</td><td>\\u200bSAINT SEIYA: Knights of the Zodiac</td><td><em>missing</em></td></tr><tr><th>26</th><td>s26</td><td>Movie</td><td>(T)ERROR</td><td>Lyric R. Cabral, David Felix Sutcliffe</td></tr><tr><th>27</th><td>s27</td><td>TV Show</td><td>(Un)Well</td><td><em>missing</em></td></tr><tr><th>28</th><td>s28</td><td>Movie</td><td>#Alive</td><td>Cho Il</td></tr><tr><th>29</th><td>s29</td><td>Movie</td><td>#AnneFrank - Parallel Stories</td><td>Sabina Fedeli, Anna Migotto</td></tr><tr><th>30</th><td>s30</td><td>TV Show</td><td>#blackAF</td><td><em>missing</em></td></tr><tr><th>&vellip;</th><td>&vellip;</td><td>&vellip;</td><td>&vellip;</td><td>&vellip;</td></tr></tbody></table></div>"
      ],
      "text/latex": [
       "\\begin{tabular}{r|ccccc}\n",
       "\t& show\\_id & type & title & director & \\\\\n",
       "\t\\hline\n",
       "\t& String7 & String7 & String & String? & \\\\\n",
       "\t\\hline\n",
       "\t1 & s1 & TV Show & 3\\% & \\emph{missing} & $\\dots$ \\\\\n",
       "\t2 & s2 & Movie & 7:19 & Jorge Michel Grau & $\\dots$ \\\\\n",
       "\t3 & s3 & Movie & 23:59 & Gilbert Chan & $\\dots$ \\\\\n",
       "\t4 & s4 & Movie & 9 & Shane Acker & $\\dots$ \\\\\n",
       "\t5 & s5 & Movie & 21 & Robert Luketic & $\\dots$ \\\\\n",
       "\t6 & s6 & TV Show & 46 & Serdar Akar & $\\dots$ \\\\\n",
       "\t7 & s7 & Movie & 122 & Yasir Al Yasiri & $\\dots$ \\\\\n",
       "\t8 & s8 & Movie & 187 & Kevin Reynolds & $\\dots$ \\\\\n",
       "\t9 & s9 & Movie & 706 & Shravan Kumar & $\\dots$ \\\\\n",
       "\t10 & s10 & Movie & 1920 & Vikram Bhatt & $\\dots$ \\\\\n",
       "\t11 & s11 & Movie & 1922 & Zak Hilditch & $\\dots$ \\\\\n",
       "\t12 & s12 & TV Show & 1983 & \\emph{missing} & $\\dots$ \\\\\n",
       "\t13 & s13 & TV Show & 1994 & Diego Enrique Osorno & $\\dots$ \\\\\n",
       "\t14 & s14 & Movie & 2,215 & Nottapon Boonprakob & $\\dots$ \\\\\n",
       "\t15 & s15 & Movie & 3022 & John Suits & $\\dots$ \\\\\n",
       "\t16 & s16 & Movie & Oct-01 & Kunle Afolayan & $\\dots$ \\\\\n",
       "\t17 & s17 & TV Show & Feb-09 & \\emph{missing} & $\\dots$ \\\\\n",
       "\t18 & s18 & Movie & 22-Jul & Paul Greengrass & $\\dots$ \\\\\n",
       "\t19 & s19 & Movie & 15-Aug & Swapnaneel Jayakar & $\\dots$ \\\\\n",
       "\t20 & s20 & Movie & '89 & \\emph{missing} & $\\dots$ \\\\\n",
       "\t21 & s21 & Movie & \\textbackslash{}u200b\\textbackslash{}u200bKuch Bheege Alfaaz & Onir & $\\dots$ \\\\\n",
       "\t22 & s22 & Movie & \\textbackslash{}u200bGoli Soda 2 & Vijay Milton & $\\dots$ \\\\\n",
       "\t23 & s23 & Movie & \\textbackslash{}u200bMaj Rati \\textbackslash{}u200b\\textbackslash{}u200bKeteki & Santwana Bardoloi & $\\dots$ \\\\\n",
       "\t24 & s24 & Movie & \\textbackslash{}u200bMayurakshi & Atanu Ghosh & $\\dots$ \\\\\n",
       "\t25 & s25 & TV Show & \\textbackslash{}u200bSAINT SEIYA: Knights of the Zodiac & \\emph{missing} & $\\dots$ \\\\\n",
       "\t26 & s26 & Movie & (T)ERROR & Lyric R. Cabral, David Felix Sutcliffe & $\\dots$ \\\\\n",
       "\t27 & s27 & TV Show & (Un)Well & \\emph{missing} & $\\dots$ \\\\\n",
       "\t28 & s28 & Movie & \\#Alive & Cho Il & $\\dots$ \\\\\n",
       "\t29 & s29 & Movie & \\#AnneFrank - Parallel Stories & Sabina Fedeli, Anna Migotto & $\\dots$ \\\\\n",
       "\t30 & s30 & TV Show & \\#blackAF & \\emph{missing} & $\\dots$ \\\\\n",
       "\t$\\dots$ & $\\dots$ & $\\dots$ & $\\dots$ & $\\dots$ &  \\\\\n",
       "\\end{tabular}\n"
      ],
      "text/plain": [
       "\u001b[1m7787×12 DataFrame\u001b[0m\n",
       "\u001b[1m  Row \u001b[0m│\u001b[1m show_id \u001b[0m\u001b[1m type    \u001b[0m\u001b[1m title                             \u001b[0m\u001b[1m director         \u001b[0m ⋯\n",
       "\u001b[1m      \u001b[0m│\u001b[90m String7 \u001b[0m\u001b[90m String7 \u001b[0m\u001b[90m String                            \u001b[0m\u001b[90m String?          \u001b[0m ⋯\n",
       "──────┼─────────────────────────────────────────────────────────────────────────\n",
       "    1 │ s1       TV Show  3%                                \u001b[90m missing          \u001b[0m ⋯\n",
       "    2 │ s2       Movie    7:19                               Jorge Michel Grau\n",
       "    3 │ s3       Movie    23:59                              Gilbert Chan\n",
       "    4 │ s4       Movie    9                                  Shane Acker\n",
       "    5 │ s5       Movie    21                                 Robert Luketic    ⋯\n",
       "    6 │ s6       TV Show  46                                 Serdar Akar\n",
       "    7 │ s7       Movie    122                                Yasir Al Yasiri\n",
       "    8 │ s8       Movie    187                                Kevin Reynolds\n",
       "    9 │ s9       Movie    706                                Shravan Kumar     ⋯\n",
       "   10 │ s10      Movie    1920                               Vikram Bhatt\n",
       "   11 │ s11      Movie    1922                               Zak Hilditch\n",
       "  ⋮   │    ⋮        ⋮                     ⋮                                  ⋮ ⋱\n",
       " 7778 │ s7778    TV Show  Zombie Dumb                       \u001b[90m missing\u001b[0m\n",
       " 7779 │ s7779    Movie    Zombieland                         Ruben Fleischer   ⋯\n",
       " 7780 │ s7780    TV Show  Zona Rosa                         \u001b[90m missing\u001b[0m\n",
       " 7781 │ s7781    Movie    Zoo                                Shlok Sharma\n",
       " 7782 │ s7782    Movie    Zoom                               Peter Hewitt\n",
       " 7783 │ s7783    Movie    Zozo                               Josef Fares       ⋯\n",
       " 7784 │ s7784    Movie    Zubaan                             Mozez Singh\n",
       " 7785 │ s7785    Movie    Zulu Man in Japan                 \u001b[90m missing\u001b[0m\n",
       " 7786 │ s7786    TV Show  Zumbo's Just Desserts             \u001b[90m missing\u001b[0m\n",
       " 7787 │ s7787    Movie    ZZ TOP: THAT LITTLE OL' BAND FRO…  Sam Dunn          ⋯\n",
       "\u001b[36m                                                 9 columns and 7766 rows omitted\u001b[0m"
      ]
     },
     "execution_count": 3,
     "metadata": {},
     "output_type": "execute_result"
    }
   ],
   "source": [
    "netflix = CSV.read(\"../data/netflix_titles.csv\", DataFrame)\n",
    "\n",
    "# missing es NA o NULL en R y nan en Python "
   ]
  },
  {
   "cell_type": "code",
   "execution_count": 4,
   "id": "ab7e45f0",
   "metadata": {},
   "outputs": [
    {
     "data": {
      "text/html": [
       "<div class=\"data-frame\"><p>10 rows × 12 columns (omitted printing of 7 columns)</p><table class=\"data-frame\"><thead><tr><th></th><th>show_id</th><th>type</th><th>title</th><th>director</th><th>cast</th></tr><tr><th></th><th title=\"String7\">String7</th><th title=\"String7\">String7</th><th title=\"String\">String</th><th title=\"Union{Missing, String}\">String?</th><th title=\"Union{Missing, String}\">String?</th></tr></thead><tbody><tr><th>1</th><td>s1</td><td>TV Show</td><td>3%</td><td><em>missing</em></td><td>João Miguel, Bianca Comparato, Michel Gomes, Rodolfo Valente, Vaneza Oliveira, Rafael Lozano, Viviane Porto, Mel Fronckowiak, Sergio Mamberti, Zezé Motta, Celso Frateschi</td></tr><tr><th>2</th><td>s2</td><td>Movie</td><td>7:19</td><td>Jorge Michel Grau</td><td>Demián Bichir, Héctor Bonilla, Oscar Serrano, Azalia Ortiz, Octavio Michel, Carmen Beato</td></tr><tr><th>3</th><td>s3</td><td>Movie</td><td>23:59</td><td>Gilbert Chan</td><td>Tedd Chan, Stella Chung, Henley Hii, Lawrence Koh, Tommy Kuan, Josh Lai, Mark Lee, Susan Leong, Benjamin Lim</td></tr><tr><th>4</th><td>s4</td><td>Movie</td><td>9</td><td>Shane Acker</td><td>Elijah Wood, John C. Reilly, Jennifer Connelly, Christopher Plummer, Crispin Glover, Martin Landau, Fred Tatasciore, Alan Oppenheimer, Tom Kane</td></tr><tr><th>5</th><td>s5</td><td>Movie</td><td>21</td><td>Robert Luketic</td><td>Jim Sturgess, Kevin Spacey, Kate Bosworth, Aaron Yoo, Liza Lapira, Jacob Pitts, Laurence Fishburne, Jack McGee, Josh Gad, Sam Golzari, Helen Carey, Jack Gilpin</td></tr><tr><th>6</th><td>s6</td><td>TV Show</td><td>46</td><td>Serdar Akar</td><td>Erdal Beşikçioğlu, Yasemin Allen, Melis Birkan, Saygın Soysal, Berkan Şal, Metin Belgin, Ayça Eren, Selin Uludoğan, Özay Fecht, Suna Yıldızoğlu</td></tr><tr><th>7</th><td>s7</td><td>Movie</td><td>122</td><td>Yasir Al Yasiri</td><td>Amina Khalil, Ahmed Dawood, Tarek Lotfy, Ahmed El Fishawy, Mahmoud Hijazi, Jihane Khalil, Asmaa Galal, Tara Emad</td></tr><tr><th>8</th><td>s8</td><td>Movie</td><td>187</td><td>Kevin Reynolds</td><td>Samuel L. Jackson, John Heard, Kelly Rowan, Clifton Collins Jr., Tony Plana</td></tr><tr><th>9</th><td>s9</td><td>Movie</td><td>706</td><td>Shravan Kumar</td><td>Divya Dutta, Atul Kulkarni, Mohan Agashe, Anupam Shyam, Raayo S. Bakhirta, Yashvit Sancheti, Greeva Kansara, Archan Trivedi, Rajiv Pathak</td></tr><tr><th>10</th><td>s10</td><td>Movie</td><td>1920</td><td>Vikram Bhatt</td><td>Rajneesh Duggal, Adah Sharma, Indraneil Sengupta, Anjori Alagh, Rajendranath Zutshi, Vipin Sharma, Amin Hajee, Shri Vallabh Vyas</td></tr></tbody></table></div>"
      ],
      "text/latex": [
       "\\begin{tabular}{r|cccccc}\n",
       "\t& show\\_id & type & title & director & cast & \\\\\n",
       "\t\\hline\n",
       "\t& String7 & String7 & String & String? & String? & \\\\\n",
       "\t\\hline\n",
       "\t1 & s1 & TV Show & 3\\% & \\emph{missing} & João Miguel, Bianca Comparato, Michel Gomes, Rodolfo Valente, Vaneza Oliveira, Rafael Lozano, Viviane Porto, Mel Fronckowiak, Sergio Mamberti, Zezé Motta, Celso Frateschi & $\\dots$ \\\\\n",
       "\t2 & s2 & Movie & 7:19 & Jorge Michel Grau & Demián Bichir, Héctor Bonilla, Oscar Serrano, Azalia Ortiz, Octavio Michel, Carmen Beato & $\\dots$ \\\\\n",
       "\t3 & s3 & Movie & 23:59 & Gilbert Chan & Tedd Chan, Stella Chung, Henley Hii, Lawrence Koh, Tommy Kuan, Josh Lai, Mark Lee, Susan Leong, Benjamin Lim & $\\dots$ \\\\\n",
       "\t4 & s4 & Movie & 9 & Shane Acker & Elijah Wood, John C. Reilly, Jennifer Connelly, Christopher Plummer, Crispin Glover, Martin Landau, Fred Tatasciore, Alan Oppenheimer, Tom Kane & $\\dots$ \\\\\n",
       "\t5 & s5 & Movie & 21 & Robert Luketic & Jim Sturgess, Kevin Spacey, Kate Bosworth, Aaron Yoo, Liza Lapira, Jacob Pitts, Laurence Fishburne, Jack McGee, Josh Gad, Sam Golzari, Helen Carey, Jack Gilpin & $\\dots$ \\\\\n",
       "\t6 & s6 & TV Show & 46 & Serdar Akar & Erdal Beşikçioğlu, Yasemin Allen, Melis Birkan, Saygın Soysal, Berkan Şal, Metin Belgin, Ayça Eren, Selin Uludoğan, Özay Fecht, Suna Yıldızoğlu & $\\dots$ \\\\\n",
       "\t7 & s7 & Movie & 122 & Yasir Al Yasiri & Amina Khalil, Ahmed Dawood, Tarek Lotfy, Ahmed El Fishawy, Mahmoud Hijazi, Jihane Khalil, Asmaa Galal, Tara Emad & $\\dots$ \\\\\n",
       "\t8 & s8 & Movie & 187 & Kevin Reynolds & Samuel L. Jackson, John Heard, Kelly Rowan, Clifton Collins Jr., Tony Plana & $\\dots$ \\\\\n",
       "\t9 & s9 & Movie & 706 & Shravan Kumar & Divya Dutta, Atul Kulkarni, Mohan Agashe, Anupam Shyam, Raayo S. Bakhirta, Yashvit Sancheti, Greeva Kansara, Archan Trivedi, Rajiv Pathak & $\\dots$ \\\\\n",
       "\t10 & s10 & Movie & 1920 & Vikram Bhatt & Rajneesh Duggal, Adah Sharma, Indraneil Sengupta, Anjori Alagh, Rajendranath Zutshi, Vipin Sharma, Amin Hajee, Shri Vallabh Vyas & $\\dots$ \\\\\n",
       "\\end{tabular}\n"
      ],
      "text/plain": [
       "\u001b[1m10×12 DataFrame\u001b[0m\n",
       "\u001b[1m Row \u001b[0m│\u001b[1m show_id \u001b[0m\u001b[1m type    \u001b[0m\u001b[1m title  \u001b[0m\u001b[1m director          \u001b[0m\u001b[1m cast                      \u001b[0m ⋯\n",
       "\u001b[1m     \u001b[0m│\u001b[90m String7 \u001b[0m\u001b[90m String7 \u001b[0m\u001b[90m String \u001b[0m\u001b[90m String?           \u001b[0m\u001b[90m String?                   \u001b[0m ⋯\n",
       "─────┼──────────────────────────────────────────────────────────────────────────\n",
       "   1 │ s1       TV Show  3%     \u001b[90m missing           \u001b[0m João Miguel, Bianca Compar ⋯\n",
       "   2 │ s2       Movie    7:19    Jorge Michel Grau  Demián Bichir, Héctor Boni\n",
       "   3 │ s3       Movie    23:59   Gilbert Chan       Tedd Chan, Stella Chung, H\n",
       "   4 │ s4       Movie    9       Shane Acker        Elijah Wood, John C. Reill\n",
       "   5 │ s5       Movie    21      Robert Luketic     Jim Sturgess, Kevin Spacey ⋯\n",
       "   6 │ s6       TV Show  46      Serdar Akar        Erdal Beşikçioğlu, Yasemin\n",
       "   7 │ s7       Movie    122     Yasir Al Yasiri    Amina Khalil, Ahmed Dawood\n",
       "   8 │ s8       Movie    187     Kevin Reynolds     Samuel L. Jackson, John He\n",
       "   9 │ s9       Movie    706     Shravan Kumar      Divya Dutta, Atul Kulkarni ⋯\n",
       "  10 │ s10      Movie    1920    Vikram Bhatt       Rajneesh Duggal, Adah Shar\n",
       "\u001b[36m                                                               8 columns omitted\u001b[0m"
      ]
     },
     "execution_count": 4,
     "metadata": {},
     "output_type": "execute_result"
    }
   ],
   "source": [
    "# print las primeras 10 observaciones\n",
    "\n",
    "first(netflix,10)"
   ]
  },
  {
   "cell_type": "code",
   "execution_count": 5,
   "id": "f375f1f7",
   "metadata": {},
   "outputs": [
    {
     "data": {
      "text/plain": [
       "12-element Vector{String}:\n",
       " \"show_id\"\n",
       " \"type\"\n",
       " \"title\"\n",
       " \"director\"\n",
       " \"cast\"\n",
       " \"country\"\n",
       " \"date_added\"\n",
       " \"release_year\"\n",
       " \"rating\"\n",
       " \"duration\"\n",
       " \"listed_in\"\n",
       " \"description\""
      ]
     },
     "execution_count": 5,
     "metadata": {},
     "output_type": "execute_result"
    }
   ],
   "source": [
    "# lista de nombres de las varaibles en formato vector. Elementos string, texto, character\n",
    "\n",
    "names(netflix)"
   ]
  },
  {
   "cell_type": "code",
   "execution_count": 6,
   "id": "83beff19",
   "metadata": {},
   "outputs": [
    {
     "data": {
      "text/html": [
       "<div class=\"data-frame\"><p>12 rows × 2 columns</p><table class=\"data-frame\"><thead><tr><th></th><th>variable</th><th>eltype</th></tr><tr><th></th><th title=\"Symbol\">Symbol</th><th title=\"Type\">Type</th></tr></thead><tbody><tr><th>1</th><td>show_id</td><td>String7</td></tr><tr><th>2</th><td>type</td><td>String7</td></tr><tr><th>3</th><td>title</td><td>String</td></tr><tr><th>4</th><td>director</td><td>Union{Missing, String}</td></tr><tr><th>5</th><td>cast</td><td>Union{Missing, String}</td></tr><tr><th>6</th><td>country</td><td>Union{Missing, String}</td></tr><tr><th>7</th><td>date_added</td><td>Union{Missing, String31}</td></tr><tr><th>8</th><td>release_year</td><td>Int64</td></tr><tr><th>9</th><td>rating</td><td>Union{Missing, String15}</td></tr><tr><th>10</th><td>duration</td><td>String15</td></tr><tr><th>11</th><td>listed_in</td><td>String</td></tr><tr><th>12</th><td>description</td><td>String</td></tr></tbody></table></div>"
      ],
      "text/latex": [
       "\\begin{tabular}{r|cc}\n",
       "\t& variable & eltype\\\\\n",
       "\t\\hline\n",
       "\t& Symbol & Type\\\\\n",
       "\t\\hline\n",
       "\t1 & show\\_id & String7 \\\\\n",
       "\t2 & type & String7 \\\\\n",
       "\t3 & title & String \\\\\n",
       "\t4 & director & Union\\{Missing, String\\} \\\\\n",
       "\t5 & cast & Union\\{Missing, String\\} \\\\\n",
       "\t6 & country & Union\\{Missing, String\\} \\\\\n",
       "\t7 & date\\_added & Union\\{Missing, String31\\} \\\\\n",
       "\t8 & release\\_year & Int64 \\\\\n",
       "\t9 & rating & Union\\{Missing, String15\\} \\\\\n",
       "\t10 & duration & String15 \\\\\n",
       "\t11 & listed\\_in & String \\\\\n",
       "\t12 & description & String \\\\\n",
       "\\end{tabular}\n"
      ],
      "text/plain": [
       "\u001b[1m12×2 DataFrame\u001b[0m\n",
       "\u001b[1m Row \u001b[0m│\u001b[1m variable     \u001b[0m\u001b[1m eltype                   \u001b[0m\n",
       "\u001b[1m     \u001b[0m│\u001b[90m Symbol       \u001b[0m\u001b[90m Type                     \u001b[0m\n",
       "─────┼────────────────────────────────────────\n",
       "   1 │ show_id       String7\n",
       "   2 │ type          String7\n",
       "   3 │ title         String\n",
       "   4 │ director      Union{Missing, String}\n",
       "   5 │ cast          Union{Missing, String}\n",
       "   6 │ country       Union{Missing, String}\n",
       "   7 │ date_added    Union{Missing, String31}\n",
       "   8 │ release_year  Int64\n",
       "   9 │ rating        Union{Missing, String15}\n",
       "  10 │ duration      String15\n",
       "  11 │ listed_in     String\n",
       "  12 │ description   String"
      ]
     },
     "execution_count": 6,
     "metadata": {},
     "output_type": "execute_result"
    }
   ],
   "source": [
    "# Tipo de variable \n",
    "# Notese la presencia de variables del tipo String unión Missing\n",
    "\n",
    "describe(netflix)[:,[1,7]]\n",
    "\n",
    "# Notese que el nombre de las variables son del tipo Symbol :objeto"
   ]
  },
  {
   "cell_type": "code",
   "execution_count": 7,
   "id": "c4f78922",
   "metadata": {},
   "outputs": [
    {
     "data": {
      "text/plain": [
       "12-element Vector{Type}:\n",
       " String7\n",
       " String7\n",
       " String\n",
       " Union{Missing, String}\n",
       " Union{Missing, String}\n",
       " Union{Missing, String}\n",
       " Union{Missing, String31}\n",
       " Int64\n",
       " Union{Missing, String15}\n",
       " String15\n",
       " String\n",
       " String"
      ]
     },
     "execution_count": 7,
     "metadata": {},
     "output_type": "execute_result"
    }
   ],
   "source": [
    "[eltype(col) for col = eachcol(netflix)]"
   ]
  },
  {
   "cell_type": "code",
   "execution_count": 8,
   "id": "5de3039d",
   "metadata": {},
   "outputs": [
    {
     "data": {
      "text/plain": [
       "(7787, 12)"
      ]
     },
     "execution_count": 8,
     "metadata": {},
     "output_type": "execute_result"
    }
   ],
   "source": [
    "# cantidad de columnas y filas\n",
    "\n",
    "size(netflix)"
   ]
  },
  {
   "cell_type": "code",
   "execution_count": 15,
   "id": "2f57588c",
   "metadata": {},
   "outputs": [
    {
     "name": "stdout",
     "output_type": "stream",
     "text": [
      "String7[\"s1\", \"s2\", \"s3\", \"s4\", \"s5\", \"s6\", \"s7\", \"s8\", \"s9\", \"s10\", \"s11\", \"s12\", \"s13\", \"s14\", \"s15\", \"s16\", \"s17\", \"s18\", \"s19\", \"s20\", \"s21\", \"s22\", \"s23\", \"s24\", \"s25\", \"s26\", \"s27\", \"s28\", \"s29\", \"s30\", \"s31\", \"s32\", \"s33\", \"s34\", \"s35\", \"s36\", \"s37\", \"s38\", \"s39\", \"s40\", \"s41\", \"s42\", \"s43\", \"s44\", \"s45\", \"s46\", \"s47\", \"s48\", \"s49\", \"s50\", \"s51\", \"s52\", \"s53\", \"s54\", \"s55\", \"s56\", \"s57\", \"s58\", \"s59\", \"s60\", \"s61\", \"s62\", \"s63\", \"s64\", \"s65\", \"s66\", \"s67\", \"s68\", \"s69\", \"s70\", \"s71\", \"s72\", \"s73\", \"s74\", \"s75\", \"s76\", \"s77\", \"s78\", \"s79\", \"s80\", \"s81\", \"s82\", \"s83\", \"s84\", \"s85\", \"s86\", \"s87\", \"s88\", \"s89\", \"s90\", \"s91\", \"s92\", \"s93\", \"s94\", \"s95\", \"s96\", \"s97\", \"s98\", \"s99\", \"s100\", \"s101\", \"s102\", \"s103\", \"s104\", \"s105\", \"s106\", \"s107\", \"s108\", \"s109\", \"s110\", \"s111\", \"s112\", \"s113\", \"s114\", \"s115\", \"s116\", \"s117\", \"s118\", \"s119\", \"s120\", \"s121\", \"s122\", \"s123\", \"s124\", \"s125\", \"s126\", \"s127\", \"s128\", \"s129\", \"s130\", \"s131\", \"s132\", \"s133\", \"s134\", \"s135\", \"s136\", \"s137\", \"s138\", \"s139\", \"s140\", \"s141\", \"s142\", \"s143\", \"s144\", \"s145\", \"s146\", \"s147\", \"s148\", \"s149\", \"s150\", \"s151\", \"s152\", \"s153\", \"s154\", \"s155\", \"s156\", \"s157\", \"s158\", \"s159\", \"s160\", \"s161\", \"s162\", \"s163\", \"s164\", \"s165\", \"s166\", \"s167\", \"s168\", \"s169\", \"s170\", \"s171\", \"s172\", \"s173\", \"s174\", \"s175\", \"s176\", \"s177\", \"s178\", \"s179\", \"s180\", \"s181\", \"s182\", \"s183\", \"s184\", \"s185\", \"s186\", \"s187\", \"s188\", \"s189\", \"s190\", \"s191\", \"s192\", \"s193\", \"s194\", \"s195\", \"s196\", \"s197\", \"s198\", \"s199\", \"s200\", \"s201\", \"s202\", \"s203\", \"s204\", \"s205\", \"s206\", \"s207\", \"s208\", \"s209\", \"s210\", \"s211\", \"s212\", \"s213\", \"s214\", \"s215\", \"s216\", \"s217\", \"s218\", \"s219\", \"s220\", \"s221\", \"s222\", \"s223\", \"s224\", \"s225\", \"s226\", \"s227\", \"s228\", \"s229\", \"s230\", \"s231\", \"s232\", \"s233\", \"s234\", \"s235\", \"s236\", \"s237\", \"s238\", \"s239\", \"s240\", \"s241\", \"s242\", \"s243\", \"s244\", \"s245\", \"s246\", \"s247\", \"s248\", \"s249\", \"s250\", \"s251\", \"s252\", \"s253\", \"s254\", \"s255\", \"s256\", \"s257\", \"s258\", \"s259\", \"s260\", \"s261\", \"s262\", \"s263\", \"s264\", \"s265\", \"s266\", \"s267\", \"s268\", \"s269\", \"s270\", \"s271\", \"s272\", \"s273\", \"s274\", \"s275\", \"s276\", \"s277\", \"s278\", \"s279\", \"s280\", \"s281\", \"s282\", \"s283\", \"s284\", \"s285\", \"s286\", \"s287\", \"s288\", \"s289\", \"s290\", \"s291\", \"s292\", \"s293\", \"s294\", \"s295\", \"s296\", \"s297\", \"s298\", \"s299\", \"s300\", \"s301\", \"s302\", \"s303\", \"s304\", \"s305\", \"s306\", \"s307\", \"s308\", \"s309\", \"s310\", \"s311\", \"s312\", \"s313\", \"s314\", \"s315\", \"s316\", \"s317\", \"s318\", \"s319\", \"s320\", \"s321\", \"s322\", \"s323\", \"s324\", \"s325\", \"s326\", \"s327\", \"s328\", \"s329\", \"s330\", \"s331\", \"s332\", \"s333\", \"s334\", \"s335\", \"s336\", \"s337\", \"s338\", \"s339\", \"s340\", \"s341\", \"s342\", \"s343\", \"s344\", \"s345\", \"s346\", \"s347\", \"s348\", \"s349\", \"s350\", \"s351\", \"s352\", \"s353\", \"s354\", \"s355\", \"s356\", \"s357\", \"s358\", \"s359\", \"s360\", \"s361\", \"s362\", \"s363\", \"s364\", \"s365\", \"s366\", \"s367\", \"s368\", \"s369\", \"s370\", \"s371\", \"s372\", \"s373\", \"s374\", \"s375\", \"s376\", \"s377\", \"s378\", \"s379\", \"s380\", \"s381\", \"s382\", \"s383\", \"s384\", \"s385\", \"s386\", \"s387\", \"s388\", \"s389\", \"s390\", \"s391\", \"s392\", \"s393\", \"s394\", \"s395\", \"s396\", \"s397\", \"s398\", \"s399\", \"s400\", \"s401\", \"s402\", \"s403\", \"s404\", \"s405\", \"s406\", \"s407\", \"s408\", \"s409\", \"s410\", \"s411\", \"s412\", \"s413\", \"s414\", \"s415\", \"s416\", \"s417\", \"s418\", \"s419\", \"s420\", \"s421\", \"s422\", \"s423\", \"s424\", \"s425\", \"s426\", \"s427\", \"s428\", \"s429\", \"s430\", \"s431\", \"s432\", \"s433\", \"s434\", \"s435\", \"s436\", \"s437\", \"s438\", \"s439\", \"s440\", \"s441\", \"s442\", \"s443\", \"s444\", \"s445\", \"s446\", \"s447\", \"s448\", \"s449\", \"s450\", \"s451\", \"s452\", \"s453\", \"s454\", \"s455\", \"s456\", \"s457\", \"s458\", \"s459\", \"s460\", \"s461\", \"s462\", \"s463\", \"s464\", \"s465\", \"s466\", \"s467\", \"s468\", \"s469\", \"s470\", \"s471\", \"s472\", \"s473\", \"s474\", \"s475\", \"s476\", \"s477\", \"s478\", \"s479\", \"s480\", \"s481\", \"s482\", \"s483\", \"s484\", \"s485\", \"s486\", \"s487\", \"s488\", \"s489\", \"s490\", \"s491\", \"s492\", \"s493\", \"s494\", \"s495\", \"s496\", \"s497\", \"s498\", \"s499\", \"s500\", \"s501\", \"s502\", \"s503\", \"s504\", \"s505\", \"s506\", \"s507\", \"s508\", \"s509\", \"s510\", \"s511\", \"s512\", \"s513\", \"s514\", \"s515\", \"s516\", \"s517\", \"s518\", \"s519\", \"s520\", \"s521\", \"s522\", \"s523\", \"s524\", \"s525\", \"s526\", \"s527\", \"s528\", \"s529\", \"s530\", \"s531\", \"s532\", \"s533\", \"s534\", \"s535\", \"s536\", \"s537\", \"s538\", \"s539\", \"s540\", \"s541\", \"s542\", \"s543\", \"s544\", \"s545\", \"s546\", \"s547\", \"s548\", \"s549\", \"s550\", \"s551\", \"s552\", \"s553\", \"s554\", \"s555\", \"s556\", \"s557\", \"s558\", \"s559\", \"s560\", \"s561\", \"s562\", \"s563\", \"s564\", \"s565\", \"s566\", \"s567\", \"s568\", \"s569\", \"s570\", \"s571\", \"s572\", \"s573\", \"s574\", \"s575\", \"s576\", \"s577\", \"s578\", \"s579\", \"s580\", \"s581\", \"s582\", \"s583\", \"s584\", \"s585\", \"s586\", \"s587\", \"s588\", \"s589\", \"s590\", \"s591\", \"s592\", \"s593\", \"s594\", \"s595\", \"s596\", \"s597\", \"s598\", \"s599\", \"s600\", \"s601\", \"s602\", \"s603\", \"s604\", \"s605\", \"s606\", \"s607\", \"s608\", \"s609\", \"s610\", \"s611\", \"s612\", \"s613\", \"s614\", \"s615\", \"s616\", \"s617\", \"s618\", \"s619\", \"s620\", \"s621\", \"s622\", \"s623\", \"s624\", \"s625\", \"s626\", \"s627\", \"s628\", \"s629\", \"s630\", \"s631\", \"s632\", \"s633\", \"s634\", \"s635\", \"s636\", \"s637\", \"s638\", \"s639\", \"s640\", \"s641\", \"s642\", \"s643\", \"s644\", \"s645\", \"s646\", \"s647\", \"s648\", \"s649\", \"s650\", \"s651\", \"s652\", \"s653\", \"s654\", \"s655\", \"s656\", \"s657\", \"s658\", \"s659\", \"s660\", \"s661\", \"s662\", \"s663\", \"s664\", \"s665\", \"s666\", \"s667\", \"s668\", \"s669\", \"s670\", \"s671\", \"s672\", \"s673\", \"s674\", \"s675\", \"s676\", \"s677\", \"s678\", \"s679\", \"s680\", \"s681\", \"s682\", \"s683\", \"s684\", \"s685\", \"s686\", \"s687\", \"s688\", \"s689\", \"s690\", \"s691\", \"s692\", \"s693\", \"s694\", \"s695\", \"s696\", \"s697\", \"s698\", \"s699\", \"s700\", \"s701\", \"s702\", \"s703\", \"s704\", \"s705\", \"s706\", \"s707\", \"s708\", \"s709\", \"s710\", \"s711\", \"s712\", \"s713\", \"s714\", \"s715\", \"s716\", \"s717\", \"s718\", \"s719\", \"s720\", \"s721\", \"s722\", \"s723\", \"s724\", \"s725\", \"s726\", \"s727\", \"s728\", \"s729\", \"s730\", \"s731\", \"s732\", \"s733\", \"s734\", \"s735\", \"s736\", \"s737\", \"s738\", \"s739\", \"s740\", \"s741\", \"s742\", \"s743\", \"s744\", \"s745\", \"s746\", \"s747\", \"s748\", \"s749\", \"s750\", \"s751\", \"s752\", \"s753\", \"s754\", \"s755\", \"s756\", \"s757\", \"s758\", \"s759\", \"s760\", \"s761\", \"s762\", \"s763\", \"s764\", \"s765\", \"s766\", \"s767\", \"s768\", \"s769\", \"s770\", \"s771\", \"s772\", \"s773\", \"s774\", \"s775\", \"s776\", \"s777\", \"s778\", \"s779\", \"s780\", \"s781\", \"s782\", \"s783\", \"s784\", \"s785\", \"s786\", \"s787\", \"s788\", \"s789\", \"s790\", \"s791\", \"s792\", \"s793\", \"s794\", \"s795\", \"s796\", \"s797\", \"s798\", \"s799\", \"s800\", \"s801\", \"s802\", \"s803\", \"s804\", \"s805\", \"s806\", \"s807\", \"s808\", \"s809\", \"s810\", \"s811\", \"s812\", \"s813\", \"s814\", \"s815\", \"s816\", \"s817\", \"s818\", \"s819\", \"s820\", \"s821\", \"s822\", \"s823\", \"s824\", \"s825\", \"s826\", \"s827\", \"s828\", \"s829\", \"s830\", \"s831\", \"s832\", \"s833\", \"s834\", \"s835\", \"s836\", \"s837\", \"s838\", \"s839\", \"s840\", \"s841\", \"s842\", \"s843\", \"s844\", \"s845\", \"s846\", \"s847\", \"s848\", \"s849\", \"s850\", \"s851\", \"s852\", \"s853\", \"s854\", \"s855\", \"s856\", \"s857\", \"s858\", \"s859\", \"s860\", \"s861\", \"s862\", \"s863\", \"s864\", \"s865\", \"s866\", \"s867\", \"s868\", \"s869\", \"s870\", \"s871\", \"s872\", \"s873\", \"s874\", \"s875\", \"s876\", \"s877\", \"s878\", \"s879\", \"s880\", \"s881\", \"s882\", \"s883\", \"s884\", \"s885\", \"s886\", \"s887\", \"s888\", \"s889\", \"s890\", \"s891\", \"s892\", \"s893\", \"s894\", \"s895\", \"s896\", \"s897\", \"s898\", \"s899\", \"s900\", \"s901\", \"s902\", \"s903\", \"s904\", \"s905\", \"s906\", \"s907\", \"s908\", \"s909\", \"s910\", \"s911\", \"s912\", \"s913\", \"s914\", \"s915\", \"s916\", \"s917\", \"s918\", \"s919\", \"s920\", \"s921\", \"s922\", \"s923\", \"s924\", \"s925\", \"s926\", \"s927\", \"s928\", \"s929\", \"s930\", \"s931\", \"s932\", \"s933\", \"s934\", \"s935\", \"s936\", \"s937\", \"s938\", \"s939\", \"s940\", \"s941\", \"s942\", \"s943\", \"s944\", \"s945\", \"s946\", \"s947\", \"s948\", \"s949\", \"s950\", \"s951\", \"s952\", \"s953\", \"s954\", \"s955\", \"s956\", \"s957\", \"s958\", \"s959\", \"s960\", \"s961\", \"s962\", \"s963\", \"s964\", \"s965\", \"s966\", \"s967\", \"s968\", \"s969\", \"s970\", \"s971\", \"s972\", \"s973\", \"s974\", \"s975\", \"s976\", \"s977\", \"s978\", \"s979\", \"s980\", \"s981\", \"s982\", \"s983\", \"s984\", \"s985\", \"s986\", \"s987\", \"s988\", \"s989\", \"s990\", \"s991\", \"s992\", \"s993\", \"s994\", \"s995\", \"s996\", \"s997\", \"s998\", \"s999\", \"s1000\", \"s1001\", \"s1002\", \"s1003\", \"s1004\", \"s1005\", \"s1006\", \"s1007\", \"s1008\", \"s1009\", \"s1010\", \"s1011\", \"s1012\", \"s1013\", \"s1014\", \"s1015\", \"s1016\", \"s1017\", \"s1018\", \"s1019\", \"s1020\", \"s1021\", \"s1022\", \"s1023\", \"s1024\", \"s1025\", \"s1026\", \"s1027\", \"s1028\", \"s1029\", \"s1030\", \"s1031\", \"s1032\", \"s1033\", \"s1034\", \"s1035\", \"s1036\", \"s1037\", \"s1038\", \"s1039\", \"s1040\", \"s1041\", \"s1042\", \"s1043\", \"s1044\", \"s1045\", \"s1046\", \"s1047\", \"s1048\", \"s1049\", \"s1050\", \"s1051\", \"s1052\", \"s1053\", \"s1054\", \"s1055\", \"s1056\", \"s1057\", \"s1058\", \"s1059\", \"s1060\", \"s1061\", \"s1062\", \"s1063\", \"s1064\", \"s1065\", \"s1066\", \"s1067\", \"s1068\", \"s1069\", \"s1070\", \"s1071\", \"s1072\", \"s1073\", \"s1074\", \"s1075\", \"s1076\", \"s1077\", \"s1078\", \"s1079\", \"s1080\", \"s1081\", \"s1082\", \"s1083\", \"s1084\", \"s1085\", \"s1086\", \"s1087\", \"s1088\", \"s1089\", \"s1090\", \"s1091\", \"s1092\", \"s1093\", \"s1094\", \"s1095\", \"s1096\", \"s1097\", \"s1098\", \"s1099\", \"s1100\", \"s1101\", \"s1102\", \"s1103\", \"s1104\", \"s1105\", \"s1106\", \"s1107\", \"s1108\", \"s1109\", \"s1110\", \"s1111\", \"s1112\", \"s1113\", \"s1114\", \"s1115\", \"s1116\", \"s1117\", \"s1118\", \"s1119\", \"s1120\", \"s1121\", \"s1122\", \"s1123\", \"s1124\", \"s1125\", \"s1126\", \"s1127\", \"s1128\", \"s1129\", \"s1130\", \"s1131\", \"s1132\", \"s1133\", \"s1134\", \"s1135\", \"s1136\", \"s1137\", \"s1138\", \"s1139\", \"s1140\", \"s1141\", \"s1142\", \"s1143\", \"s1144\", \"s1145\", \"s1146\", \"s1147\", \"s1148\", \"s1149\", \"s1150\", \"s1151\", \"s1152\", \"s1153\", \"s1154\", \"s1155\", \"s1156\", \"s1157\", \"s1158\", \"s1159\", \"s1160\", \"s1161\", \"s1162\", \"s1163\", \"s1164\", \"s1165\", \"s1166\", \"s1167\", \"s1168\", \"s1169\", \"s1170\", \"s1171\", \"s1172\", \"s1173\", \"s1174\", \"s1175\", \"s1176\", \"s1177\", \"s1178\", \"s1179\", \"s1180\", \"s1181\", \"s1182\", \"s1183\", \"s1184\", \"s1185\", \"s1186\", \"s1187\", \"s1188\", \"s1189\", \"s1190\", \"s1191\", \"s1192\", \"s1193\", \"s1194\", \"s1195\", \"s1196\", \"s1197\", \"s1198\", \"s1199\", \"s1200\", \"s1201\", \"s1202\", \"s1203\", \"s1204\", \"s1205\", \"s1206\", \"s1207\", \"s1208\", \"s1209\", \"s1210\", \"s1211\", \"s1212\", \"s1213\", \"s1214\", \"s1215\", \"s1216\", \"s1217\", \"s1218\", \"s1219\", \"s1220\", \"s1221\", \"s1222\", \"s1223\", \"s1224\", \"s1225\", \"s1226\", \"s1227\", \"s1228\", \"s1229\", \"s1230\", \"s1231\", \"s1232\", \"s1233\", \"s1234\", \"s1235\", \"s1236\", \"s1237\", \"s1238\", \"s1239\", \"s1240\", \"s1241\", \"s1242\", \"s1243\", \"s1244\", \"s1245\", \"s1246\", \"s1247\", \"s1248\", \"s1249\", \"s1250\", \"s1251\", \"s1252\", \"s1253\", \"s1254\", \"s1255\", \"s1256\", \"s1257\", \"s1258\", \"s1259\", \"s1260\", \"s1261\", \"s1262\", \"s1263\", \"s1264\", \"s1265\", \"s1266\", \"s1267\", \"s1268\", \"s1269\", \"s1270\", \"s1271\", \"s1272\", \"s1273\", \"s1274\", \"s1275\", \"s1276\", \"s1277\", \"s1278\", \"s1279\", \"s1280\", \"s1281\", \"s1282\", \"s1283\", \"s1284\", \"s1285\", \"s1286\", \"s1287\", \"s1288\", \"s1289\", \"s1290\", \"s1291\", \"s1292\", \"s1293\", \"s1294\", \"s1295\", \"s1296\", \"s1297\", \"s1298\", \"s1299\", \"s1300\", \"s1301\", \"s1302\", \"s1303\", \"s1304\", \"s1305\", \"s1306\", \"s1307\", \"s1308\", \"s1309\", \"s1310\", \"s1311\", \"s1312\", \"s1313\", \"s1314\", \"s1315\", \"s1316\", \"s1317\", \"s1318\", \"s1319\", \"s1320\", \"s1321\", \"s1322\", \"s1323\", \"s1324\", \"s1325\", \"s1326\", \"s1327\", \"s1328\", \"s1329\", \"s1330\", \"s1331\", \"s1332\", \"s1333\", \"s1334\", \"s1335\", \"s1336\", \"s1337\", \"s1338\", \"s1339\", \"s1340\", \"s1341\", \"s1342\", \"s1343\", \"s1344\", \"s1345\", \"s1346\", \"s1347\", \"s1348\", \"s1349\", \"s1350\", \"s1351\", \"s1352\", \"s1353\", \"s1354\", \"s1355\", \"s1356\", \"s1357\", \"s1358\", \"s1359\", \"s1360\", \"s1361\", \"s1362\", \"s1363\", \"s1364\", \"s1365\", \"s1366\", \"s1367\", \"s1368\", \"s1369\", \"s1370\", \"s1371\", \"s1372\", \"s1373\", \"s1374\", \"s1375\", \"s1376\", \"s1377\", \"s1378\", \"s1379\", \"s1380\", \"s1381\", \"s1382\", \"s1383\", \"s1384\", \"s1385\", \"s1386\", \"s1387\", \"s1388\", \"s1389\", \"s1390\", \"s1391\", \"s1392\", \"s1393\", \"s1394\", \"s1395\", \"s1396\", \"s1397\", \"s1398\", \"s1399\", \"s1400\", \"s1401\", \"s1402\", \"s1403\", \"s1404\", \"s1405\", \"s1406\", \"s1407\", \"s1408\", \"s1409\", \"s1410\", \"s1411\", \"s1412\", \"s1413\", \"s1414\", \"s1415\", \"s1416\", \"s1417\", \"s1418\", \"s1419\", \"s1420\", \"s1421\", \"s1422\", \"s1423\", \"s1424\", \"s1425\", \"s1426\", \"s1427\", \"s1428\", \"s1429\", \"s1430\", \"s1431\", \"s1432\", \"s1433\", \"s1434\", \"s1435\", \"s1436\", \"s1437\", \"s1438\", \"s1439\", \"s1440\", \"s1441\", \"s1442\", \"s1443\", \"s1444\", \"s1445\", \"s1446\", \"s1447\", \"s1448\", \"s1449\", \"s1450\", \"s1451\", \"s1452\", \"s1453\", \"s1454\", \"s1455\", \"s1456\", \"s1457\", \"s1458\", \"s1459\", \"s1460\", \"s1461\", \"s1462\", \"s1463\", \"s1464\", \"s1465\", \"s1466\", \"s1467\", \"s1468\", \"s1469\", \"s1470\", \"s1471\", \"s1472\", \"s1473\", \"s1474\", \"s1475\", \"s1476\", \"s1477\", \"s1478\", \"s1479\", \"s1480\", \"s1481\", \"s1482\", \"s1483\", \"s1484\", \"s1485\", \"s1486\", \"s1487\", \"s1488\", \"s1489\", \"s1490\", \"s1491\", \"s1492\", \"s1493\", \"s1494\", \"s1495\", \"s1496\", \"s1497\", \"s1498\", \"s1499\", \"s1500\", \"s1501\", \"s1502\", \"s1503\", \"s1504\", \"s1505\", \"s1506\", \"s1507\", \"s1508\", \"s1509\", \"s1510\", \"s1511\", \"s1512\", \"s1513\", \"s1514\", \"s1515\", \"s1516\", \"s1517\", \"s1518\", \"s1519\", \"s1520\", \"s1521\", \"s1522\", \"s1523\", \"s1524\", \"s1525\", \"s1526\", \"s1527\", \"s1528\", \"s1529\", \"s1530\", \"s1531\", \"s1532\", \"s1533\", \"s1534\", \"s1535\", \"s1536\", \"s1537\", \"s1538\", \"s1539\", \"s1540\", \"s1541\", \"s1542\", \"s1543\", \"s1544\", \"s1545\", \"s1546\", \"s1547\", \"s1548\", \"s1549\", \"s1550\", \"s1551\", \"s1552\", \"s1553\", \"s1554\", \"s1555\", \"s1556\", \"s1557\", \"s1558\", \"s1559\", \"s1560\", \"s1561\", \"s1562\", \"s1563\", \"s1564\", \"s1565\", \"s1566\", \"s1567\", \"s1568\", \"s1569\", \"s1570\", \"s1571\", \"s1572\", \"s1573\", \"s1574\", \"s1575\", \"s1576\", \"s1577\", \"s1578\", \"s1579\", \"s1580\", \"s1581\", \"s1582\", \"s1583\", \"s1584\", \"s1585\", \"s1586\", \"s1587\", \"s1588\", \"s1589\", \"s1590\", \"s1591\", \"s1592\", \"s1593\", \"s1594\", \"s1595\", \"s1596\", \"s1597\", \"s1598\", \"s1599\", \"s1600\", \"s1601\", \"s1602\", \"s1603\", \"s1604\", \"s1605\", \"s1606\", \"s1607\", \"s1608\", \"s1609\", \"s1610\", \"s1611\", \"s1612\", \"s1613\", \"s1614\", \"s1615\", \"s1616\", \"s1617\", \"s1618\", \"s1619\", \"s1620\", \"s1621\", \"s1622\", \"s1623\", \"s1624\", \"s1625\", \"s1626\", \"s1627\", \"s1628\", \"s1629\", \"s1630\", \"s1631\", \"s1632\", \"s1633\", \"s1634\", \"s1635\", \"s1636\", \"s1637\", \"s1638\", \"s1639\", \"s1640\", \"s1641\", \"s1642\", \"s1643\", \"s1644\", \"s1645\", \"s1646\", \"s1647\", \"s1648\", \"s1649\", \"s1650\", \"s1651\", \"s1652\", \"s1653\", \"s1654\", \"s1655\", \"s1656\", \"s1657\", \"s1658\", \"s1659\", \"s1660\", \"s1661\", \"s1662\", \"s1663\", \"s1664\", \"s1665\", \"s1666\", \"s1667\", \"s1668\", \"s1669\", \"s1670\", \"s1671\", \"s1672\", \"s1673\", \"s1674\", \"s1675\", \"s1676\", \"s1677\", \"s1678\", \"s1679\", \"s1680\", \"s1681\", \"s1682\", \"s1683\", \"s1684\", \"s1685\", \"s1686\", \"s1687\", \"s1688\", \"s1689\", \"s1690\", \"s1691\", \"s1692\", \"s1693\", \"s1694\", \"s1695\", \"s1696\", \"s1697\", \"s1698\", \"s1699\", \"s1700\", \"s1701\", \"s1702\", \"s1703\", \"s1704\", \"s1705\", \"s1706\", \"s1707\", \"s1708\", \"s1709\", \"s1710\", \"s1711\", \"s1712\", \"s1713\", \"s1714\", \"s1715\", \"s1716\", \"s1717\", \"s1718\", \"s1719\", \"s1720\", \"s1721\", \"s1722\", \"s1723\", \"s1724\", \"s1725\", \"s1726\", \"s1727\", \"s1728\", \"s1729\", \"s1730\", \"s1731\", \"s1732\", \"s1733\", \"s1734\", \"s1735\", \"s1736\", \"s1737\", \"s1738\", \"s1739\", \"s1740\", \"s1741\", \"s1742\", \"s1743\", \"s1744\", \"s1745\", \"s1746\", \"s1747\", \"s1748\", \"s1749\", \"s1750\", \"s1751\", \"s1752\", \"s1753\", \"s1754\", \"s1755\", \"s1756\", \"s1757\", \"s1758\", \"s1759\", \"s1760\", \"s1761\", \"s1762\", \"s1763\", \"s1764\", \"s1765\", \"s1766\", \"s1767\", \"s1768\", \"s1769\", \"s1770\", \"s1771\", \"s1772\", \"s1773\", \"s1774\", \"s1775\", \"s1776\", \"s1777\", \"s1778\", \"s1779\", \"s1780\", \"s1781\", \"s1782\", \"s1783\", \"s1784\", \"s1785\", \"s1786\", \"s1787\", \"s1788\", \"s1789\", \"s1790\", \"s1791\", \"s1792\", \"s1793\", \"s1794\", \"s1795\", \"s1796\", \"s1797\", \"s1798\", \"s1799\", \"s1800\", \"s1801\", \"s1802\", \"s1803\", \"s1804\", \"s1805\", \"s1806\", \"s1807\", \"s1808\", \"s1809"
     ]
    },
    {
     "name": "stdout",
     "output_type": "stream",
     "text": [
      "\", \"s1810\", \"s1811\", \"s1812\", \"s1813\", \"s1814\", \"s1815\", \"s1816\", \"s1817\", \"s1818\", \"s1819\", \"s1820\", \"s1821\", \"s1822\", \"s1823\", \"s1824\", \"s1825\", \"s1826\", \"s1827\", \"s1828\", \"s1829\", \"s1830\", \"s1831\", \"s1832\", \"s1833\", \"s1834\", \"s1835\", \"s1836\", \"s1837\", \"s1838\", \"s1839\", \"s1840\", \"s1841\", \"s1842\", \"s1843\", \"s1844\", \"s1845\", \"s1846\", \"s1847\", \"s1848\", \"s1849\", \"s1850\", \"s1851\", \"s1852\", \"s1853\", \"s1854\", \"s1855\", \"s1856\", \"s1857\", \"s1858\", \"s1859\", \"s1860\", \"s1861\", \"s1862\", \"s1863\", \"s1864\", \"s1865\", \"s1866\", \"s1867\", \"s1868\", \"s1869\", \"s1870\", \"s1871\", \"s1872\", \"s1873\", \"s1874\", \"s1875\", \"s1876\", \"s1877\", \"s1878\", \"s1879\", \"s1880\", \"s1881\", \"s1882\", \"s1883\", \"s1884\", \"s1885\", \"s1886\", \"s1887\", \"s1888\", \"s1889\", \"s1890\", \"s1891\", \"s1892\", \"s1893\", \"s1894\", \"s1895\", \"s1896\", \"s1897\", \"s1898\", \"s1899\", \"s1900\", \"s1901\", \"s1902\", \"s1903\", \"s1904\", \"s1905\", \"s1906\", \"s1907\", \"s1908\", \"s1909\", \"s1910\", \"s1911\", \"s1912\", \"s1913\", \"s1914\", \"s1915\", \"s1916\", \"s1917\", \"s1918\", \"s1919\", \"s1920\", \"s1921\", \"s1922\", \"s1923\", \"s1924\", \"s1925\", \"s1926\", \"s1927\", \"s1928\", \"s1929\", \"s1930\", \"s1931\", \"s1932\", \"s1933\", \"s1934\", \"s1935\", \"s1936\", \"s1937\", \"s1938\", \"s1939\", \"s1940\", \"s1941\", \"s1942\", \"s1943\", \"s1944\", \"s1945\", \"s1946\", \"s1947\", \"s1948\", \"s1949\", \"s1950\", \"s1951\", \"s1952\", \"s1953\", \"s1954\", \"s1955\", \"s1956\", \"s1957\", \"s1958\", \"s1959\", \"s1960\", \"s1961\", \"s1962\", \"s1963\", \"s1964\", \"s1965\", \"s1966\", \"s1967\", \"s1968\", \"s1969\", \"s1970\", \"s1971\", \"s1972\", \"s1973\", \"s1974\", \"s1975\", \"s1976\", \"s1977\", \"s1978\", \"s1979\", \"s1980\", \"s1981\", \"s1982\", \"s1983\", \"s1984\", \"s1985\", \"s1986\", \"s1987\", \"s1988\", \"s1989\", \"s1990\", \"s1991\", \"s1992\", \"s1993\", \"s1994\", \"s1995\", \"s1996\", \"s1997\", \"s1998\", \"s1999\", \"s2000\", \"s2001\", \"s2002\", \"s2003\", \"s2004\", \"s2005\", \"s2006\", \"s2007\", \"s2008\", \"s2009\", \"s2010\", \"s2011\", \"s2012\", \"s2013\", \"s2014\", \"s2015\", \"s2016\", \"s2017\", \"s2018\", \"s2019\", \"s2020\", \"s2021\", \"s2022\", \"s2023\", \"s2024\", \"s2025\", \"s2026\", \"s2027\", \"s2028\", \"s2029\", \"s2030\", \"s2031\", \"s2032\", \"s2033\", \"s2034\", \"s2035\", \"s2036\", \"s2037\", \"s2038\", \"s2039\", \"s2040\", \"s2041\", \"s2042\", \"s2043\", \"s2044\", \"s2045\", \"s2046\", \"s2047\", \"s2048\", \"s2049\", \"s2050\", \"s2051\", \"s2052\", \"s2053\", \"s2054\", \"s2055\", \"s2056\", \"s2057\", \"s2058\", \"s2059\", \"s2060\", \"s2061\", \"s2062\", \"s2063\", \"s2064\", \"s2065\", \"s2066\", \"s2067\", \"s2068\", \"s2069\", \"s2070\", \"s2071\", \"s2072\", \"s2073\", \"s2074\", \"s2075\", \"s2076\", \"s2077\", \"s2078\", \"s2079\", \"s2080\", \"s2081\", \"s2082\", \"s2083\", \"s2084\", \"s2085\", \"s2086\", \"s2087\", \"s2088\", \"s2089\", \"s2090\", \"s2091\", \"s2092\", \"s2093\", \"s2094\", \"s2095\", \"s2096\", \"s2097\", \"s2098\", \"s2099\", \"s2100\", \"s2101\", \"s2102\", \"s2103\", \"s2104\", \"s2105\", \"s2106\", \"s2107\", \"s2108\", \"s2109\", \"s2110\", \"s2111\", \"s2112\", \"s2113\", \"s2114\", \"s2115\", \"s2116\", \"s2117\", \"s2118\", \"s2119\", \"s2120\", \"s2121\", \"s2122\", \"s2123\", \"s2124\", \"s2125\", \"s2126\", \"s2127\", \"s2128\", \"s2129\", \"s2130\", \"s2131\", \"s2132\", \"s2133\", \"s2134\", \"s2135\", \"s2136\", \"s2137\", \"s2138\", \"s2139\", \"s2140\", \"s2141\", \"s2142\", \"s2143\", \"s2144\", \"s2145\", \"s2146\", \"s2147\", \"s2148\", \"s2149\", \"s2150\", \"s2151\", \"s2152\", \"s2153\", \"s2154\", \"s2155\", \"s2156\", \"s2157\", \"s2158\", \"s2159\", \"s2160\", \"s2161\", \"s2162\", \"s2163\", \"s2164\", \"s2165\", \"s2166\", \"s2167\", \"s2168\", \"s2169\", \"s2170\", \"s2171\", \"s2172\", \"s2173\", \"s2174\", \"s2175\", \"s2176\", \"s2177\", \"s2178\", \"s2179\", \"s2180\", \"s2181\", \"s2182\", \"s2183\", \"s2184\", \"s2185\", \"s2186\", \"s2187\", \"s2188\", \"s2189\", \"s2190\", \"s2191\", \"s2192\", \"s2193\", \"s2194\", \"s2195\", \"s2196\", \"s2197\", \"s2198\", \"s2199\", \"s2200\", \"s2201\", \"s2202\", \"s2203\", \"s2204\", \"s2205\", \"s2206\", \"s2207\", \"s2208\", \"s2209\", \"s2210\", \"s2211\", \"s2212\", \"s2213\", \"s2214\", \"s2215\", \"s2216\", \"s2217\", \"s2218\", \"s2219\", \"s2220\", \"s2221\", \"s2222\", \"s2223\", \"s2224\", \"s2225\", \"s2226\", \"s2227\", \"s2228\", \"s2229\", \"s2230\", \"s2231\", \"s2232\", \"s2233\", \"s2234\", \"s2235\", \"s2236\", \"s2237\", \"s2238\", \"s2239\", \"s2240\", \"s2241\", \"s2242\", \"s2243\", \"s2244\", \"s2245\", \"s2246\", \"s2247\", \"s2248\", \"s2249\", \"s2250\", \"s2251\", \"s2252\", \"s2253\", \"s2254\", \"s2255\", \"s2256\", \"s2257\", \"s2258\", \"s2259\", \"s2260\", \"s2261\", \"s2262\", \"s2263\", \"s2264\", \"s2265\", \"s2266\", \"s2267\", \"s2268\", \"s2269\", \"s2270\", \"s2271\", \"s2272\", \"s2273\", \"s2274\", \"s2275\", \"s2276\", \"s2277\", \"s2278\", \"s2279\", \"s2280\", \"s2281\", \"s2282\", \"s2283\", \"s2284\", \"s2285\", \"s2286\", \"s2287\", \"s2288\", \"s2289\", \"s2290\", \"s2291\", \"s2292\", \"s2293\", \"s2294\", \"s2295\", \"s2296\", \"s2297\", \"s2298\", \"s2299\", \"s2300\", \"s2301\", \"s2302\", \"s2303\", \"s2304\", \"s2305\", \"s2306\", \"s2307\", \"s2308\", \"s2309\", \"s2310\", \"s2311\", \"s2312\", \"s2313\", \"s2314\", \"s2315\", \"s2316\", \"s2317\", \"s2318\", \"s2319\", \"s2320\", \"s2321\", \"s2322\", \"s2323\", \"s2324\", \"s2325\", \"s2326\", \"s2327\", \"s2328\", \"s2329\", \"s2330\", \"s2331\", \"s2332\", \"s2333\", \"s2334\", \"s2335\", \"s2336\", \"s2337\", \"s2338\", \"s2339\", \"s2340\", \"s2341\", \"s2342\", \"s2343\", \"s2344\", \"s2345\", \"s2346\", \"s2347\", \"s2348\", \"s2349\", \"s2350\", \"s2351\", \"s2352\", \"s2353\", \"s2354\", \"s2355\", \"s2356\", \"s2357\", \"s2358\", \"s2359\", \"s2360\", \"s2361\", \"s2362\", \"s2363\", \"s2364\", \"s2365\", \"s2366\", \"s2367\", \"s2368\", \"s2369\", \"s2370\", \"s2371\", \"s2372\", \"s2373\", \"s2374\", \"s2375\", \"s2376\", \"s2377\", \"s2378\", \"s2379\", \"s2380\", \"s2381\", \"s2382\", \"s2383\", \"s2384\", \"s2385\", \"s2386\", \"s2387\", \"s2388\", \"s2389\", \"s2390\", \"s2391\", \"s2392\", \"s2393\", \"s2394\", \"s2395\", \"s2396\", \"s2397\", \"s2398\", \"s2399\", \"s2400\", \"s2401\", \"s2402\", \"s2403\", \"s2404\", \"s2405\", \"s2406\", \"s2407\", \"s2408\", \"s2409\", \"s2410\", \"s2411\", \"s2412\", \"s2413\", \"s2414\", \"s2415\", \"s2416\", \"s2417\", \"s2418\", \"s2419\", \"s2420\", \"s2421\", \"s2422\", \"s2423\", \"s2424\", \"s2425\", \"s2426\", \"s2427\", \"s2428\", \"s2429\", \"s2430\", \"s2431\", \"s2432\", \"s2433\", \"s2434\", \"s2435\", \"s2436\", \"s2437\", \"s2438\", \"s2439\", \"s2440\", \"s2441\", \"s2442\", \"s2443\", \"s2444\", \"s2445\", \"s2446\", \"s2447\", \"s2448\", \"s2449\", \"s2450\", \"s2451\", \"s2452\", \"s2453\", \"s2454\", \"s2455\", \"s2456\", \"s2457\", \"s2458\", \"s2459\", \"s2460\", \"s2461\", \"s2462\", \"s2463\", \"s2464\", \"s2465\", \"s2466\", \"s2467\", \"s2468\", \"s2469\", \"s2470\", \"s2471\", \"s2472\", \"s2473\", \"s2474\", \"s2475\", \"s2476\", \"s2477\", \"s2478\", \"s2479\", \"s2480\", \"s2481\", \"s2482\", \"s2483\", \"s2484\", \"s2485\", \"s2486\", \"s2487\", \"s2488\", \"s2489\", \"s2490\", \"s2491\", \"s2492\", \"s2493\", \"s2494\", \"s2495\", \"s2496\", \"s2497\", \"s2498\", \"s2499\", \"s2500\", \"s2501\", \"s2502\", \"s2503\", \"s2504\", \"s2505\", \"s2506\", \"s2507\", \"s2508\", \"s2509\", \"s2510\", \"s2511\", \"s2512\", \"s2513\", \"s2514\", \"s2515\", \"s2516\", \"s2517\", \"s2518\", \"s2519\", \"s2520\", \"s2521\", \"s2522\", \"s2523\", \"s2524\", \"s2525\", \"s2526\", \"s2527\", \"s2528\", \"s2529\", \"s2530\", \"s2531\", \"s2532\", \"s2533\", \"s2534\", \"s2535\", \"s2536\", \"s2537\", \"s2538\", \"s2539\", \"s2540\", \"s2541\", \"s2542\", \"s2543\", \"s2544\", \"s2545\", \"s2546\", \"s2547\", \"s2548\", \"s2549\", \"s2550\", \"s2551\", \"s2552\", \"s2553\", \"s2554\", \"s2555\", \"s2556\", \"s2557\", \"s2558\", \"s2559\", \"s2560\", \"s2561\", \"s2562\", \"s2563\", \"s2564\", \"s2565\", \"s2566\", \"s2567\", \"s2568\", \"s2569\", \"s2570\", \"s2571\", \"s2572\", \"s2573\", \"s2574\", \"s2575\", \"s2576\", \"s2577\", \"s2578\", \"s2579\", \"s2580\", \"s2581\", \"s2582\", \"s2583\", \"s2584\", \"s2585\", \"s2586\", \"s2587\", \"s2588\", \"s2589\", \"s2590\", \"s2591\", \"s2592\", \"s2593\", \"s2594\", \"s2595\", \"s2596\", \"s2597\", \"s2598\", \"s2599\", \"s2600\", \"s2601\", \"s2602\", \"s2603\", \"s2604\", \"s2605\", \"s2606\", \"s2607\", \"s2608\", \"s2609\", \"s2610\", \"s2611\", \"s2612\", \"s2613\", \"s2614\", \"s2615\", \"s2616\", \"s2617\", \"s2618\", \"s2619\", \"s2620\", \"s2621\", \"s2622\", \"s2623\", \"s2624\", \"s2625\", \"s2626\", \"s2627\", \"s2628\", \"s2629\", \"s2630\", \"s2631\", \"s2632\", \"s2633\", \"s2634\", \"s2635\", \"s2636\", \"s2637\", \"s2638\", \"s2639\", \"s2640\", \"s2641\", \"s2642\", \"s2643\", \"s2644\", \"s2645\", \"s2646\", \"s2647\", \"s2648\", \"s2649\", \"s2650\", \"s2651\", \"s2652\", \"s2653\", \"s2654\", \"s2655\", \"s2656\", \"s2657\", \"s2658\", \"s2659\", \"s2660\", \"s2661\", \"s2662\", \"s2663\", \"s2664\", \"s2665\", \"s2666\", \"s2667\", \"s2668\", \"s2669\", \"s2670\", \"s2671\", \"s2672\", \"s2673\", \"s2674\", \"s2675\", \"s2676\", \"s2677\", \"s2678\", \"s2679\", \"s2680\", \"s2681\", \"s2682\", \"s2683\", \"s2684\", \"s2685\", \"s2686\", \"s2687\", \"s2688\", \"s2689\", \"s2690\", \"s2691\", \"s2692\", \"s2693\", \"s2694\", \"s2695\", \"s2696\", \"s2697\", \"s2698\", \"s2699\", \"s2700\", \"s2701\", \"s2702\", \"s2703\", \"s2704\", \"s2705\", \"s2706\", \"s2707\", \"s2708\", \"s2709\", \"s2710\", \"s2711\", \"s2712\", \"s2713\", \"s2714\", \"s2715\", \"s2716\", \"s2717\", \"s2718\", \"s2719\", \"s2720\", \"s2721\", \"s2722\", \"s2723\", \"s2724\", \"s2725\", \"s2726\", \"s2727\", \"s2728\", \"s2729\", \"s2730\", \"s2731\", \"s2732\", \"s2733\", \"s2734\", \"s2735\", \"s2736\", \"s2737\", \"s2738\", \"s2739\", \"s2740\", \"s2741\", \"s2742\", \"s2743\", \"s2744\", \"s2745\", \"s2746\", \"s2747\", \"s2748\", \"s2749\", \"s2750\", \"s2751\", \"s2752\", \"s2753\", \"s2754\", \"s2755\", \"s2756\", \"s2757\", \"s2758\", \"s2759\", \"s2760\", \"s2761\", \"s2762\", \"s2763\", \"s2764\", \"s2765\", \"s2766\", \"s2767\", \"s2768\", \"s2769\", \"s2770\", \"s2771\", \"s2772\", \"s2773\", \"s2774\", \"s2775\", \"s2776\", \"s2777\", \"s2778\", \"s2779\", \"s2780\", \"s2781\", \"s2782\", \"s2783\", \"s2784\", \"s2785\", \"s2786\", \"s2787\", \"s2788\", \"s2789\", \"s2790\", \"s2791\", \"s2792\", \"s2793\", \"s2794\", \"s2795\", \"s2796\", \"s2797\", \"s2798\", \"s2799\", \"s2800\", \"s2801\", \"s2802\", \"s2803\", \"s2804\", \"s2805\", \"s2806\", \"s2807\", \"s2808\", \"s2809\", \"s2810\", \"s2811\", \"s2812\", \"s2813\", \"s2814\", \"s2815\", \"s2816\", \"s2817\", \"s2818\", \"s2819\", \"s2820\", \"s2821\", \"s2822\", \"s2823\", \"s2824\", \"s2825\", \"s2826\", \"s2827\", \"s2828\", \"s2829\", \"s2830\", \"s2831\", \"s2832\", \"s2833\", \"s2834\", \"s2835\", \"s2836\", \"s2837\", \"s2838\", \"s2839\", \"s2840\", \"s2841\", \"s2842\", \"s2843\", \"s2844\", \"s2845\", \"s2846\", \"s2847\", \"s2848\", \"s2849\", \"s2850\", \"s2851\", \"s2852\", \"s2853\", \"s2854\", \"s2855\", \"s2856\", \"s2857\", \"s2858\", \"s2859\", \"s2860\", \"s2861\", \"s2862\", \"s2863\", \"s2864\", \"s2865\", \"s2866\", \"s2867\", \"s2868\", \"s2869\", \"s2870\", \"s2871\", \"s2872\", \"s2873\", \"s2874\", \"s2875\", \"s2876\", \"s2877\", \"s2878\", \"s2879\", \"s2880\", \"s2881\", \"s2882\", \"s2883\", \"s2884\", \"s2885\", \"s2886\", \"s2887\", \"s2888\", \"s2889\", \"s2890\", \"s2891\", \"s2892\", \"s2893\", \"s2894\", \"s2895\", \"s2896\", \"s2897\", \"s2898\", \"s2899\", \"s2900\", \"s2901\", \"s2902\", \"s2903\", \"s2904\", \"s2905\", \"s2906\", \"s2907\", \"s2908\", \"s2909\", \"s2910\", \"s2911\", \"s2912\", \"s2913\", \"s2914\", \"s2915\", \"s2916\", \"s2917\", \"s2918\", \"s2919\", \"s2920\", \"s2921\", \"s2922\", \"s2923\", \"s2924\", \"s2925\", \"s2926\", \"s2927\", \"s2928\", \"s2929\", \"s2930\", \"s2931\", \"s2932\", \"s2933\", \"s2934\", \"s2935\", \"s2936\", \"s2937\", \"s2938\", \"s2939\", \"s2940\", \"s2941\", \"s2942\", \"s2943\", \"s2944\", \"s2945\", \"s2946\", \"s2947\", \"s2948\", \"s2949\", \"s2950\", \"s2951\", \"s2952\", \"s2953\", \"s2954\", \"s2955\", \"s2956\", \"s2957\", \"s2958\", \"s2959\", \"s2960\", \"s2961\", \"s2962\", \"s2963\", \"s2964\", \"s2965\", \"s2966\", \"s2967\", \"s2968\", \"s2969\", \"s2970\", \"s2971\", \"s2972\", \"s2973\", \"s2974\", \"s2975\", \"s2976\", \"s2977\", \"s2978\", \"s2979\", \"s2980\", \"s2981\", \"s2982\", \"s2983\", \"s2984\", \"s2985\", \"s2986\", \"s2987\", \"s2988\", \"s2989\", \"s2990\", \"s2991\", \"s2992\", \"s2993\", \"s2994\", \"s2995\", \"s2996\", \"s2997\", \"s2998\", \"s2999\", \"s3000\", \"s3001\", \"s3002\", \"s3003\", \"s3004\", \"s3005\", \"s3006\", \"s3007\", \"s3008\", \"s3009\", \"s3010\", \"s3011\", \"s3012\", \"s3013\", \"s3014\", \"s3015\", \"s3016\", \"s3017\", \"s3018\", \"s3019\", \"s3020\", \"s3021\", \"s3022\", \"s3023\", \"s3024\", \"s3025\", \"s3026\", \"s3027\", \"s3028\", \"s3029\", \"s3030\", \"s3031\", \"s3032\", \"s3033\", \"s3034\", \"s3035\", \"s3036\", \"s3037\", \"s3038\", \"s3039\", \"s3040\", \"s3041\", \"s3042\", \"s3043\", \"s3044\", \"s3045\", \"s3046\", \"s3047\", \"s3048\", \"s3049\", \"s3050\", \"s3051\", \"s3052\", \"s3053\", \"s3054\", \"s3055\", \"s3056\", \"s3057\", \"s3058\", \"s3059\", \"s3060\", \"s3061\", \"s3062\", \"s3063\", \"s3064\", \"s3065\", \"s3066\", \"s3067\", \"s3068\", \"s3069\", \"s3070\", \"s3071\", \"s3072\", \"s3073\", \"s3074\", \"s3075\", \"s3076\", \"s3077\", \"s3078\", \"s3079\", \"s3080\", \"s3081\", \"s3082\", \"s3083\", \"s3084\", \"s3085\", \"s3086\", \"s3087\", \"s3088\", \"s3089\", \"s3090\", \"s3091\", \"s3092\", \"s3093\", \"s3094\", \"s3095\", \"s3096\", \"s3097\", \"s3098\", \"s3099\", \"s3100\", \"s3101\", \"s3102\", \"s3103\", \"s3104\", \"s3105\", \"s3106\", \"s3107\", \"s3108\", \"s3109\", \"s3110\", \"s3111\", \"s3112\", \"s3113\", \"s3114\", \"s3115\", \"s3116\", \"s3117\", \"s3118\", \"s3119\", \"s3120\", \"s3121\", \"s3122\", \"s3123\", \"s3124\", \"s3125\", \"s3126\", \"s3127\", \"s3128\", \"s3129\", \"s3130\", \"s3131\", \"s3132\", \"s3133\", \"s3134\", \"s3135\", \"s3136\", \"s3137\", \"s3138\", \"s3139\", \"s3140\", \"s3141\", \"s3142\", \"s3143\", \"s3144\", \"s3145\", \"s3146\", \"s3147\", \"s3148\", \"s3149\", \"s3150\", \"s3151\", \"s3152\", \"s3153\", \"s3154\", \"s3155\", \"s3156\", \"s3157\", \"s3158\", \"s3159\", \"s3160\", \"s3161\", \"s3162\", \"s3163\", \"s3164\", \"s3165\", \"s3166\", \"s3167\", \"s3168\", \"s3169\", \"s3170\", \"s3171\", \"s3172\", \"s3173\", \"s3174\", \"s3175\", \"s3176\", \"s3177\", \"s3178\", \"s3179\", \"s3180\", \"s3181\", \"s3182\", \"s3183\", \"s3184\", \"s3185\", \"s3186\", \"s3187\", \"s3188\", \"s3189\", \"s3190\", \"s3191\", \"s3192\", \"s3193\", \"s3194\", \"s3195\", \"s3196\", \"s3197\", \"s3198\", \"s3199\", \"s3200\", \"s3201\", \"s3202\", \"s3203\", \"s3204\", \"s3205\", \"s3206\", \"s3207\", \"s3208\", \"s3209\", \"s3210\", \"s3211\", \"s3212\", \"s3213\", \"s3214\", \"s3215\", \"s3216\", \"s3217\", \"s3218\", \"s3219\", \"s3220\", \"s3221\", \"s3222\", \"s3223\", \"s3224\", \"s3225\", \"s3226\", \"s3227\", \"s3228\", \"s3229\", \"s3230\", \"s3231\", \"s3232\", \"s3233\", \"s3234\", \"s3235\", \"s3236\", \"s3237\", \"s3238\", \"s3239\", \"s3240\", \"s3241\", \"s3242\", \"s3243\", \"s3244\", \"s3245\", \"s3246\", \"s3247\", \"s3248\", \"s3249\", \"s3250\", \"s3251\", \"s3252\", \"s3253\", \"s3254\", \"s3255\", \"s3256\", \"s3257\", \"s3258\", \"s3259\", \"s3260\", \"s3261\", \"s3262\", \"s3263\", \"s3264\", \"s3265\", \"s3266\", \"s3267\", \"s3268\", \"s3269\", \"s3270\", \"s3271\", \"s3272\", \"s3273\", \"s3274\", \"s3275\", \"s3276\", \"s3277\", \"s3278\", \"s3279\", \"s3280\", \"s3281\", \"s3282\", \"s3283\", \"s3284\", \"s3285\", \"s3286\", \"s3287\", \"s3288\", \"s3289\", \"s3290\", \"s3291\", \"s3292\", \"s3293\", \"s3294\", \"s3295\", \"s3296\", \"s3297\", \"s3298\", \"s3299\", \"s3300\", \"s3301\", \"s3302\", \"s3303\", \"s3304\", \"s3305\", \"s3306\", \"s3307\", \"s3308\", \"s3309\", \"s3310\", \"s3311\", \"s3312\", \"s3313\", \"s3314\", \"s3315\", \"s3316\", \"s3317\", \"s3318\", \"s3319\", \"s3320\", \"s3321\", \"s3322\", \"s3323\", \"s3324\", \"s3325\", \"s3326\", \"s3327\", \"s3328\", \"s3329\", \"s3330\", \"s3331\", \"s3332\", \"s3333\", \"s3334\", \"s3335\", \"s3336\", \"s3337\", \"s3338\", \"s3339\", \"s3340\", \"s3341\", \"s3342\", \"s3343\", \"s3344\", \"s3345\", \"s3346\", \"s3347\", \"s3348\", \"s3349\", \"s3350\", \"s3351\", \"s3352\", \"s3353\", \"s3354\", \"s3355\", \"s3356\", \"s3357\", \"s3358\", \"s3359\", \"s3360\", \"s3361\", \"s3362\", \"s3363\", \"s3364\", \"s3365\", \"s3366\", \"s3367\", \"s3368\", \"s3369\", \"s3370\", \"s3371\", \"s3372\", \"s3373\", \"s3374\", \"s3375\", \"s3376\", \"s3377\", \"s3378\", \"s3379\", \"s3380\", \"s3381\", \"s3382\", \"s3383\", \"s3384\", \"s3385\", \"s3386\", \"s3387\", \"s3388\", \"s3389\", \"s3390\", \"s3391\", \"s3392\", \"s3393\", \"s3394\", \"s3395\", \"s3396\", \"s3397\", \"s3398\", \"s3399\", \"s3400\", \"s3401\", \"s3402\", \"s3403\", \"s3404\", \"s3405\", \"s3406\", \"s3407\", \"s3408\", \"s3409\", \"s3410\", \"s3411\", \"s3412\", \"s3413\", \"s3414\", \"s3415\", \"s3416\", \"s3417\", \"s3418\", \"s3419\", \"s3420\", \"s3421\", \"s3422\", \"s3423\", \"s3424\", \"s3425\", \"s3426\", \"s3427\", \"s3428\", \"s3429\", \"s3430\", \"s3431\", \"s3432\", \"s3433\", \"s3434\", \"s3435\", \"s3436\", \"s3437\", \"s3438\", \"s3439\", \"s3440\", \"s3441\", \"s3442\", \"s3443\", \"s3444\", \"s3445\", \"s3446\", \"s3447\", \"s3448\", \"s3449\", \"s3450\", \"s3451\", \"s3452\", \"s3453\", \"s3454\", \"s3455\", \"s3456\", \"s3457\", \"s3458\", \"s3459\", \"s3460\", \"s3461\", \"s3462\", \"s3463\", \"s3464\", \"s3465\", \"s3466\", \"s3467\", \"s3468\", \"s3469\", \"s3470\", \"s3471\", \"s3472\", \"s3473\", \"s3474\", \"s3475\", \"s3476\", \"s3477\", \"s3478\", \"s3479\", \"s3480\", \"s3481\", \"s3482\", \"s3483\", \"s3484\", \"s3485\", \"s3486\", \"s3487\", \"s3488\", \"s3489\", \"s3490\", \"s3491\", \"s3492\", \"s3493\", \"s3494\", \"s3495\", \"s3496\", \"s3497\", \"s3498\", \"s3499\", \"s3500\", \"s3501\", \"s3502\", \"s3503\", \"s3504\", \"s3505\", \"s3506\", \"s3507\", \"s3508\", \"s3509\", \"s3510\", \"s3511\", \"s3512\", \"s3513\", \"s3514\", \"s3515\", \"s3516\", \"s3517\", \"s3518\", \"s3519\", \"s3520\", \"s3521\", \"s3522\", \"s3523\", \"s3524\", \"s3525\", \"s3526\", \"s3527\", \"s3528\", \"s3529\", \"s3530\", \"s3531\", \"s3532\", \"s3533\", \"s3534\", \"s3535\", \"s3536\", \"s3537\", \"s3538\", \"s3539\", \"s3540\", \"s3541\", \"s3542\", \"s3543\", \"s3544\", \"s3545\", \"s3546\", \"s3547\", \"s3548\", \"s3549\", \"s3550\", \"s3551\", \"s3552\", \"s3553\", \"s3554\", \"s3555\", \"s3556\", \"s3557\", \"s3558\", \"s3559\", \"s3560\", \"s3561\", \"s3562\","
     ]
    },
    {
     "name": "stdout",
     "output_type": "stream",
     "text": [
      " \"s3563\", \"s3564\", \"s3565\", \"s3566\", \"s3567\", \"s3568\", \"s3569\", \"s3570\", \"s3571\", \"s3572\", \"s3573\", \"s3574\", \"s3575\", \"s3576\", \"s3577\", \"s3578\", \"s3579\", \"s3580\", \"s3581\", \"s3582\", \"s3583\", \"s3584\", \"s3585\", \"s3586\", \"s3587\", \"s3588\", \"s3589\", \"s3590\", \"s3591\", \"s3592\", \"s3593\", \"s3594\", \"s3595\", \"s3596\", \"s3597\", \"s3598\", \"s3599\", \"s3600\", \"s3601\", \"s3602\", \"s3603\", \"s3604\", \"s3605\", \"s3606\", \"s3607\", \"s3608\", \"s3609\", \"s3610\", \"s3611\", \"s3612\", \"s3613\", \"s3614\", \"s3615\", \"s3616\", \"s3617\", \"s3618\", \"s3619\", \"s3620\", \"s3621\", \"s3622\", \"s3623\", \"s3624\", \"s3625\", \"s3626\", \"s3627\", \"s3628\", \"s3629\", \"s3630\", \"s3631\", \"s3632\", \"s3633\", \"s3634\", \"s3635\", \"s3636\", \"s3637\", \"s3638\", \"s3639\", \"s3640\", \"s3641\", \"s3642\", \"s3643\", \"s3644\", \"s3645\", \"s3646\", \"s3647\", \"s3648\", \"s3649\", \"s3650\", \"s3651\", \"s3652\", \"s3653\", \"s3654\", \"s3655\", \"s3656\", \"s3657\", \"s3658\", \"s3659\", \"s3660\", \"s3661\", \"s3662\", \"s3663\", \"s3664\", \"s3665\", \"s3666\", \"s3667\", \"s3668\", \"s3669\", \"s3670\", \"s3671\", \"s3672\", \"s3673\", \"s3674\", \"s3675\", \"s3676\", \"s3677\", \"s3678\", \"s3679\", \"s3680\", \"s3681\", \"s3682\", \"s3683\", \"s3684\", \"s3685\", \"s3686\", \"s3687\", \"s3688\", \"s3689\", \"s3690\", \"s3691\", \"s3692\", \"s3693\", \"s3694\", \"s3695\", \"s3696\", \"s3697\", \"s3698\", \"s3699\", \"s3700\", \"s3701\", \"s3702\", \"s3703\", \"s3704\", \"s3705\", \"s3706\", \"s3707\", \"s3708\", \"s3709\", \"s3710\", \"s3711\", \"s3712\", \"s3713\", \"s3714\", \"s3715\", \"s3716\", \"s3717\", \"s3718\", \"s3719\", \"s3720\", \"s3721\", \"s3722\", \"s3723\", \"s3724\", \"s3725\", \"s3726\", \"s3727\", \"s3728\", \"s3729\", \"s3730\", \"s3731\", \"s3732\", \"s3733\", \"s3734\", \"s3735\", \"s3736\", \"s3737\", \"s3738\", \"s3739\", \"s3740\", \"s3741\", \"s3742\", \"s3743\", \"s3744\", \"s3745\", \"s3746\", \"s3747\", \"s3748\", \"s3749\", \"s3750\", \"s3751\", \"s3752\", \"s3753\", \"s3754\", \"s3755\", \"s3756\", \"s3757\", \"s3758\", \"s3759\", \"s3760\", \"s3761\", \"s3762\", \"s3763\", \"s3764\", \"s3765\", \"s3766\", \"s3767\", \"s3768\", \"s3769\", \"s3770\", \"s3771\", \"s3772\", \"s3773\", \"s3774\", \"s3775\", \"s3776\", \"s3777\", \"s3778\", \"s3779\", \"s3780\", \"s3781\", \"s3782\", \"s3783\", \"s3784\", \"s3785\", \"s3786\", \"s3787\", \"s3788\", \"s3789\", \"s3790\", \"s3791\", \"s3792\", \"s3793\", \"s3794\", \"s3795\", \"s3796\", \"s3797\", \"s3798\", \"s3799\", \"s3800\", \"s3801\", \"s3802\", \"s3803\", \"s3804\", \"s3805\", \"s3806\", \"s3807\", \"s3808\", \"s3809\", \"s3810\", \"s3811\", \"s3812\", \"s3813\", \"s3814\", \"s3815\", \"s3816\", \"s3817\", \"s3818\", \"s3819\", \"s3820\", \"s3821\", \"s3822\", \"s3823\", \"s3824\", \"s3825\", \"s3826\", \"s3827\", \"s3828\", \"s3829\", \"s3830\", \"s3831\", \"s3832\", \"s3833\", \"s3834\", \"s3835\", \"s3836\", \"s3837\", \"s3838\", \"s3839\", \"s3840\", \"s3841\", \"s3842\", \"s3843\", \"s3844\", \"s3845\", \"s3846\", \"s3847\", \"s3848\", \"s3849\", \"s3850\", \"s3851\", \"s3852\", \"s3853\", \"s3854\", \"s3855\", \"s3856\", \"s3857\", \"s3858\", \"s3859\", \"s3860\", \"s3861\", \"s3862\", \"s3863\", \"s3864\", \"s3865\", \"s3866\", \"s3867\", \"s3868\", \"s3869\", \"s3870\", \"s3871\", \"s3872\", \"s3873\", \"s3874\", \"s3875\", \"s3876\", \"s3877\", \"s3878\", \"s3879\", \"s3880\", \"s3881\", \"s3882\", \"s3883\", \"s3884\", \"s3885\", \"s3886\", \"s3887\", \"s3888\", \"s3889\", \"s3890\", \"s3891\", \"s3892\", \"s3893\", \"s3894\", \"s3895\", \"s3896\", \"s3897\", \"s3898\", \"s3899\", \"s3900\", \"s3901\", \"s3902\", \"s3903\", \"s3904\", \"s3905\", \"s3906\", \"s3907\", \"s3908\", \"s3909\", \"s3910\", \"s3911\", \"s3912\", \"s3913\", \"s3914\", \"s3915\", \"s3916\", \"s3917\", \"s3918\", \"s3919\", \"s3920\", \"s3921\", \"s3922\", \"s3923\", \"s3924\", \"s3925\", \"s3926\", \"s3927\", \"s3928\", \"s3929\", \"s3930\", \"s3931\", \"s3932\", \"s3933\", \"s3934\", \"s3935\", \"s3936\", \"s3937\", \"s3938\", \"s3939\", \"s3940\", \"s3941\", \"s3942\", \"s3943\", \"s3944\", \"s3945\", \"s3946\", \"s3947\", \"s3948\", \"s3949\", \"s3950\", \"s3951\", \"s3952\", \"s3953\", \"s3954\", \"s3955\", \"s3956\", \"s3957\", \"s3958\", \"s3959\", \"s3960\", \"s3961\", \"s3962\", \"s3963\", \"s3964\", \"s3965\", \"s3966\", \"s3967\", \"s3968\", \"s3969\", \"s3970\", \"s3971\", \"s3972\", \"s3973\", \"s3974\", \"s3975\", \"s3976\", \"s3977\", \"s3978\", \"s3979\", \"s3980\", \"s3981\", \"s3982\", \"s3983\", \"s3984\", \"s3985\", \"s3986\", \"s3987\", \"s3988\", \"s3989\", \"s3990\", \"s3991\", \"s3992\", \"s3993\", \"s3994\", \"s3995\", \"s3996\", \"s3997\", \"s3998\", \"s3999\", \"s4000\", \"s4001\", \"s4002\", \"s4003\", \"s4004\", \"s4005\", \"s4006\", \"s4007\", \"s4008\", \"s4009\", \"s4010\", \"s4011\", \"s4012\", \"s4013\", \"s4014\", \"s4015\", \"s4016\", \"s4017\", \"s4018\", \"s4019\", \"s4020\", \"s4021\", \"s4022\", \"s4023\", \"s4024\", \"s4025\", \"s4026\", \"s4027\", \"s4028\", \"s4029\", \"s4030\", \"s4031\", \"s4032\", \"s4033\", \"s4034\", \"s4035\", \"s4036\", \"s4037\", \"s4038\", \"s4039\", \"s4040\", \"s4041\", \"s4042\", \"s4043\", \"s4044\", \"s4045\", \"s4046\", \"s4047\", \"s4048\", \"s4049\", \"s4050\", \"s4051\", \"s4052\", \"s4053\", \"s4054\", \"s4055\", \"s4056\", \"s4057\", \"s4058\", \"s4059\", \"s4060\", \"s4061\", \"s4062\", \"s4063\", \"s4064\", \"s4065\", \"s4066\", \"s4067\", \"s4068\", \"s4069\", \"s4070\", \"s4071\", \"s4072\", \"s4073\", \"s4074\", \"s4075\", \"s4076\", \"s4077\", \"s4078\", \"s4079\", \"s4080\", \"s4081\", \"s4082\", \"s4083\", \"s4084\", \"s4085\", \"s4086\", \"s4087\", \"s4088\", \"s4089\", \"s4090\", \"s4091\", \"s4092\", \"s4093\", \"s4094\", \"s4095\", \"s4096\", \"s4097\", \"s4098\", \"s4099\", \"s4100\", \"s4101\", \"s4102\", \"s4103\", \"s4104\", \"s4105\", \"s4106\", \"s4107\", \"s4108\", \"s4109\", \"s4110\", \"s4111\", \"s4112\", \"s4113\", \"s4114\", \"s4115\", \"s4116\", \"s4117\", \"s4118\", \"s4119\", \"s4120\", \"s4121\", \"s4122\", \"s4123\", \"s4124\", \"s4125\", \"s4126\", \"s4127\", \"s4128\", \"s4129\", \"s4130\", \"s4131\", \"s4132\", \"s4133\", \"s4134\", \"s4135\", \"s4136\", \"s4137\", \"s4138\", \"s4139\", \"s4140\", \"s4141\", \"s4142\", \"s4143\", \"s4144\", \"s4145\", \"s4146\", \"s4147\", \"s4148\", \"s4149\", \"s4150\", \"s4151\", \"s4152\", \"s4153\", \"s4154\", \"s4155\", \"s4156\", \"s4157\", \"s4158\", \"s4159\", \"s4160\", \"s4161\", \"s4162\", \"s4163\", \"s4164\", \"s4165\", \"s4166\", \"s4167\", \"s4168\", \"s4169\", \"s4170\", \"s4171\", \"s4172\", \"s4173\", \"s4174\", \"s4175\", \"s4176\", \"s4177\", \"s4178\", \"s4179\", \"s4180\", \"s4181\", \"s4182\", \"s4183\", \"s4184\", \"s4185\", \"s4186\", \"s4187\", \"s4188\", \"s4189\", \"s4190\", \"s4191\", \"s4192\", \"s4193\", \"s4194\", \"s4195\", \"s4196\", \"s4197\", \"s4198\", \"s4199\", \"s4200\", \"s4201\", \"s4202\", \"s4203\", \"s4204\", \"s4205\", \"s4206\", \"s4207\", \"s4208\", \"s4209\", \"s4210\", \"s4211\", \"s4212\", \"s4213\", \"s4214\", \"s4215\", \"s4216\", \"s4217\", \"s4218\", \"s4219\", \"s4220\", \"s4221\", \"s4222\", \"s4223\", \"s4224\", \"s4225\", \"s4226\", \"s4227\", \"s4228\", \"s4229\", \"s4230\", \"s4231\", \"s4232\", \"s4233\", \"s4234\", \"s4235\", \"s4236\", \"s4237\", \"s4238\", \"s4239\", \"s4240\", \"s4241\", \"s4242\", \"s4243\", \"s4244\", \"s4245\", \"s4246\", \"s4247\", \"s4248\", \"s4249\", \"s4250\", \"s4251\", \"s4252\", \"s4253\", \"s4254\", \"s4255\", \"s4256\", \"s4257\", \"s4258\", \"s4259\", \"s4260\", \"s4261\", \"s4262\", \"s4263\", \"s4264\", \"s4265\", \"s4266\", \"s4267\", \"s4268\", \"s4269\", \"s4270\", \"s4271\", \"s4272\", \"s4273\", \"s4274\", \"s4275\", \"s4276\", \"s4277\", \"s4278\", \"s4279\", \"s4280\", \"s4281\", \"s4282\", \"s4283\", \"s4284\", \"s4285\", \"s4286\", \"s4287\", \"s4288\", \"s4289\", \"s4290\", \"s4291\", \"s4292\", \"s4293\", \"s4294\", \"s4295\", \"s4296\", \"s4297\", \"s4298\", \"s4299\", \"s4300\", \"s4301\", \"s4302\", \"s4303\", \"s4304\", \"s4305\", \"s4306\", \"s4307\", \"s4308\", \"s4309\", \"s4310\", \"s4311\", \"s4312\", \"s4313\", \"s4314\", \"s4315\", \"s4316\", \"s4317\", \"s4318\", \"s4319\", \"s4320\", \"s4321\", \"s4322\", \"s4323\", \"s4324\", \"s4325\", \"s4326\", \"s4327\", \"s4328\", \"s4329\", \"s4330\", \"s4331\", \"s4332\", \"s4333\", \"s4334\", \"s4335\", \"s4336\", \"s4337\", \"s4338\", \"s4339\", \"s4340\", \"s4341\", \"s4342\", \"s4343\", \"s4344\", \"s4345\", \"s4346\", \"s4347\", \"s4348\", \"s4349\", \"s4350\", \"s4351\", \"s4352\", \"s4353\", \"s4354\", \"s4355\", \"s4356\", \"s4357\", \"s4358\", \"s4359\", \"s4360\", \"s4361\", \"s4362\", \"s4363\", \"s4364\", \"s4365\", \"s4366\", \"s4367\", \"s4368\", \"s4369\", \"s4370\", \"s4371\", \"s4372\", \"s4373\", \"s4374\", \"s4375\", \"s4376\", \"s4377\", \"s4378\", \"s4379\", \"s4380\", \"s4381\", \"s4382\", \"s4383\", \"s4384\", \"s4385\", \"s4386\", \"s4387\", \"s4388\", \"s4389\", \"s4390\", \"s4391\", \"s4392\", \"s4393\", \"s4394\", \"s4395\", \"s4396\", \"s4397\", \"s4398\", \"s4399\", \"s4400\", \"s4401\", \"s4402\", \"s4403\", \"s4404\", \"s4405\", \"s4406\", \"s4407\", \"s4408\", \"s4409\", \"s4410\", \"s4411\", \"s4412\", \"s4413\", \"s4414\", \"s4415\", \"s4416\", \"s4417\", \"s4418\", \"s4419\", \"s4420\", \"s4421\", \"s4422\", \"s4423\", \"s4424\", \"s4425\", \"s4426\", \"s4427\", \"s4428\", \"s4429\", \"s4430\", \"s4431\", \"s4432\", \"s4433\", \"s4434\", \"s4435\", \"s4436\", \"s4437\", \"s4438\", \"s4439\", \"s4440\", \"s4441\", \"s4442\", \"s4443\", \"s4444\", \"s4445\", \"s4446\", \"s4447\", \"s4448\", \"s4449\", \"s4450\", \"s4451\", \"s4452\", \"s4453\", \"s4454\", \"s4455\", \"s4456\", \"s4457\", \"s4458\", \"s4459\", \"s4460\", \"s4461\", \"s4462\", \"s4463\", \"s4464\", \"s4465\", \"s4466\", \"s4467\", \"s4468\", \"s4469\", \"s4470\", \"s4471\", \"s4472\", \"s4473\", \"s4474\", \"s4475\", \"s4476\", \"s4477\", \"s4478\", \"s4479\", \"s4480\", \"s4481\", \"s4482\", \"s4483\", \"s4484\", \"s4485\", \"s4486\", \"s4487\", \"s4488\", \"s4489\", \"s4490\", \"s4491\", \"s4492\", \"s4493\", \"s4494\", \"s4495\", \"s4496\", \"s4497\", \"s4498\", \"s4499\", \"s4500\", \"s4501\", \"s4502\", \"s4503\", \"s4504\", \"s4505\", \"s4506\", \"s4507\", \"s4508\", \"s4509\", \"s4510\", \"s4511\", \"s4512\", \"s4513\", \"s4514\", \"s4515\", \"s4516\", \"s4517\", \"s4518\", \"s4519\", \"s4520\", \"s4521\", \"s4522\", \"s4523\", \"s4524\", \"s4525\", \"s4526\", \"s4527\", \"s4528\", \"s4529\", \"s4530\", \"s4531\", \"s4532\", \"s4533\", \"s4534\", \"s4535\", \"s4536\", \"s4537\", \"s4538\", \"s4539\", \"s4540\", \"s4541\", \"s4542\", \"s4543\", \"s4544\", \"s4545\", \"s4546\", \"s4547\", \"s4548\", \"s4549\", \"s4550\", \"s4551\", \"s4552\", \"s4553\", \"s4554\", \"s4555\", \"s4556\", \"s4557\", \"s4558\", \"s4559\", \"s4560\", \"s4561\", \"s4562\", \"s4563\", \"s4564\", \"s4565\", \"s4566\", \"s4567\", \"s4568\", \"s4569\", \"s4570\", \"s4571\", \"s4572\", \"s4573\", \"s4574\", \"s4575\", \"s4576\", \"s4577\", \"s4578\", \"s4579\", \"s4580\", \"s4581\", \"s4582\", \"s4583\", \"s4584\", \"s4585\", \"s4586\", \"s4587\", \"s4588\", \"s4589\", \"s4590\", \"s4591\", \"s4592\", \"s4593\", \"s4594\", \"s4595\", \"s4596\", \"s4597\", \"s4598\", \"s4599\", \"s4600\", \"s4601\", \"s4602\", \"s4603\", \"s4604\", \"s4605\", \"s4606\", \"s4607\", \"s4608\", \"s4609\", \"s4610\", \"s4611\", \"s4612\", \"s4613\", \"s4614\", \"s4615\", \"s4616\", \"s4617\", \"s4618\", \"s4619\", \"s4620\", \"s4621\", \"s4622\", \"s4623\", \"s4624\", \"s4625\", \"s4626\", \"s4627\", \"s4628\", \"s4629\", \"s4630\", \"s4631\", \"s4632\", \"s4633\", \"s4634\", \"s4635\", \"s4636\", \"s4637\", \"s4638\", \"s4639\", \"s4640\", \"s4641\", \"s4642\", \"s4643\", \"s4644\", \"s4645\", \"s4646\", \"s4647\", \"s4648\", \"s4649\", \"s4650\", \"s4651\", \"s4652\", \"s4653\", \"s4654\", \"s4655\", \"s4656\", \"s4657\", \"s4658\", \"s4659\", \"s4660\", \"s4661\", \"s4662\", \"s4663\", \"s4664\", \"s4665\", \"s4666\", \"s4667\", \"s4668\", \"s4669\", \"s4670\", \"s4671\", \"s4672\", \"s4673\", \"s4674\", \"s4675\", \"s4676\", \"s4677\", \"s4678\", \"s4679\", \"s4680\", \"s4681\", \"s4682\", \"s4683\", \"s4684\", \"s4685\", \"s4686\", \"s4687\", \"s4688\", \"s4689\", \"s4690\", \"s4691\", \"s4692\", \"s4693\", \"s4694\", \"s4695\", \"s4696\", \"s4697\", \"s4698\", \"s4699\", \"s4700\", \"s4701\", \"s4702\", \"s4703\", \"s4704\", \"s4705\", \"s4706\", \"s4707\", \"s4708\", \"s4709\", \"s4710\", \"s4711\", \"s4712\", \"s4713\", \"s4714\", \"s4715\", \"s4716\", \"s4717\", \"s4718\", \"s4719\", \"s4720\", \"s4721\", \"s4722\", \"s4723\", \"s4724\", \"s4725\", \"s4726\", \"s4727\", \"s4728\", \"s4729\", \"s4730\", \"s4731\", \"s4732\", \"s4733\", \"s4734\", \"s4735\", \"s4736\", \"s4737\", \"s4738\", \"s4739\", \"s4740\", \"s4741\", \"s4742\", \"s4743\", \"s4744\", \"s4745\", \"s4746\", \"s4747\", \"s4748\", \"s4749\", \"s4750\", \"s4751\", \"s4752\", \"s4753\", \"s4754\", \"s4755\", \"s4756\", \"s4757\", \"s4758\", \"s4759\", \"s4760\", \"s4761\", \"s4762\", \"s4763\", \"s4764\", \"s4765\", \"s4766\", \"s4767\", \"s4768\", \"s4769\", \"s4770\", \"s4771\", \"s4772\", \"s4773\", \"s4774\", \"s4775\", \"s4776\", \"s4777\", \"s4778\", \"s4779\", \"s4780\", \"s4781\", \"s4782\", \"s4783\", \"s4784\", \"s4785\", \"s4786\", \"s4787\", \"s4788\", \"s4789\", \"s4790\", \"s4791\", \"s4792\", \"s4793\", \"s4794\", \"s4795\", \"s4796\", \"s4797\", \"s4798\", \"s4799\", \"s4800\", \"s4801\", \"s4802\", \"s4803\", \"s4804\", \"s4805\", \"s4806\", \"s4807\", \"s4808\", \"s4809\", \"s4810\", \"s4811\", \"s4812\", \"s4813\", \"s4814\", \"s4815\", \"s4816\", \"s4817\", \"s4818\", \"s4819\", \"s4820\", \"s4821\", \"s4822\", \"s4823\", \"s4824\", \"s4825\", \"s4826\", \"s4827\", \"s4828\", \"s4829\", \"s4830\", \"s4831\", \"s4832\", \"s4833\", \"s4834\", \"s4835\", \"s4836\", \"s4837\", \"s4838\", \"s4839\", \"s4840\", \"s4841\", \"s4842\", \"s4843\", \"s4844\", \"s4845\", \"s4846\", \"s4847\", \"s4848\", \"s4849\", \"s4850\", \"s4851\", \"s4852\", \"s4853\", \"s4854\", \"s4855\", \"s4856\", \"s4857\", \"s4858\", \"s4859\", \"s4860\", \"s4861\", \"s4862\", \"s4863\", \"s4864\", \"s4865\", \"s4866\", \"s4867\", \"s4868\", \"s4869\", \"s4870\", \"s4871\", \"s4872\", \"s4873\", \"s4874\", \"s4875\", \"s4876\", \"s4877\", \"s4878\", \"s4879\", \"s4880\", \"s4881\", \"s4882\", \"s4883\", \"s4884\", \"s4885\", \"s4886\", \"s4887\", \"s4888\", \"s4889\", \"s4890\", \"s4891\", \"s4892\", \"s4893\", \"s4894\", \"s4895\", \"s4896\", \"s4897\", \"s4898\", \"s4899\", \"s4900\", \"s4901\", \"s4902\", \"s4903\", \"s4904\", \"s4905\", \"s4906\", \"s4907\", \"s4908\", \"s4909\", \"s4910\", \"s4911\", \"s4912\", \"s4913\", \"s4914\", \"s4915\", \"s4916\", \"s4917\", \"s4918\", \"s4919\", \"s4920\", \"s4921\", \"s4922\", \"s4923\", \"s4924\", \"s4925\", \"s4926\", \"s4927\", \"s4928\", \"s4929\", \"s4930\", \"s4931\", \"s4932\", \"s4933\", \"s4934\", \"s4935\", \"s4936\", \"s4937\", \"s4938\", \"s4939\", \"s4940\", \"s4941\", \"s4942\", \"s4943\", \"s4944\", \"s4945\", \"s4946\", \"s4947\", \"s4948\", \"s4949\", \"s4950\", \"s4951\", \"s4952\", \"s4953\", \"s4954\", \"s4955\", \"s4956\", \"s4957\", \"s4958\", \"s4959\", \"s4960\", \"s4961\", \"s4962\", \"s4963\", \"s4964\", \"s4965\", \"s4966\", \"s4967\", \"s4968\", \"s4969\", \"s4970\", \"s4971\", \"s4972\", \"s4973\", \"s4974\", \"s4975\", \"s4976\", \"s4977\", \"s4978\", \"s4979\", \"s4980\", \"s4981\", \"s4982\", \"s4983\", \"s4984\", \"s4985\", \"s4986\", \"s4987\", \"s4988\", \"s4989\", \"s4990\", \"s4991\", \"s4992\", \"s4993\", \"s4994\", \"s4995\", \"s4996\", \"s4997\", \"s4998\", \"s4999\", \"s5000\", \"s5001\", \"s5002\", \"s5003\", \"s5004\", \"s5005\", \"s5006\", \"s5007\", \"s5008\", \"s5009\", \"s5010\", \"s5011\", \"s5012\", \"s5013\", \"s5014\", \"s5015\", \"s5016\", \"s5017\", \"s5018\", \"s5019\", \"s5020\", \"s5021\", \"s5022\", \"s5023\", \"s5024\", \"s5025\", \"s5026\", \"s5027\", \"s5028\", \"s5029\", \"s5030\", \"s5031\", \"s5032\", \"s5033\", \"s5034\", \"s5035\", \"s5036\", \"s5037\", \"s5038\", \"s5039\", \"s5040\", \"s5041\", \"s5042\", \"s5043\", \"s5044\", \"s5045\", \"s5046\", \"s5047\", \"s5048\", \"s5049\", \"s5050\", \"s5051\", \"s5052\", \"s5053\", \"s5054\", \"s5055\", \"s5056\", \"s5057\", \"s5058\", \"s5059\", \"s5060\", \"s5061\", \"s5062\", \"s5063\", \"s5064\", \"s5065\", \"s5066\", \"s5067\", \"s5068\", \"s5069\", \"s5070\", \"s5071\", \"s5072\", \"s5073\", \"s5074\", \"s5075\", \"s5076\", \"s5077\", \"s5078\", \"s5079\", \"s5080\", \"s5081\", \"s5082\", \"s5083\", \"s5084\", \"s5085\", \"s5086\", \"s5087\", \"s5088\", \"s5089\", \"s5090\", \"s5091\", \"s5092\", \"s5093\", \"s5094\", \"s5095\", \"s5096\", \"s5097\", \"s5098\", \"s5099\", \"s5100\", \"s5101\", \"s5102\", \"s5103\", \"s5104\", \"s5105\", \"s5106\", \"s5107\", \"s5108\", \"s5109\", \"s5110\", \"s5111\", \"s5112\", \"s5113\", \"s5114\", \"s5115\", \"s5116\", \"s5117\", \"s5118\", \"s5119\", \"s5120\", \"s5121\", \"s5122\", \"s5123\", \"s5124\", \"s5125\", \"s5126\", \"s5127\", \"s5128\", \"s5129\", \"s5130\", \"s5131\", \"s5132\", \"s5133\", \"s5134\", \"s5135\", \"s5136\", \"s5137\", \"s5138\", \"s5139\", \"s5140\", \"s5141\", \"s5142\", \"s5143\", \"s5144\", \"s5145\", \"s5146\", \"s5147\", \"s5148\", \"s5149\", \"s5150\", \"s5151\", \"s5152\", \"s5153\", \"s5154\", \"s5155\", \"s5156\", \"s5157\", \"s5158\", \"s5159\", \"s5160\", \"s5161\", \"s5162\", \"s5163\", \"s5164\", \"s5165\", \"s5166\", \"s5167\", \"s5168\", \"s5169\", \"s5170\", \"s5171\", \"s5172\", \"s5173\", \"s5174\", \"s5175\", \"s5176\", \"s5177\", \"s5178\", \"s5179\", \"s5180\", \"s5181\", \"s5182\", \"s5183\", \"s5184\", \"s5185\", \"s5186\", \"s5187\", \"s5188\", \"s5189\", \"s5190\", \"s5191\", \"s5192\", \"s5193\", \"s5194\", \"s5195\", \"s5196\", \"s5197\", \"s5198\", \"s5199\", \"s5200\", \"s5201\", \"s5202\", \"s5203\", \"s5204\", \"s5205\", \"s5206\", \"s5207\", \"s5208\", \"s5209\", \"s5210\", \"s5211\", \"s5212\", \"s5213\", \"s5214\", \"s5215\", \"s5216\", \"s5217\", \"s5218\", \"s5219\", \"s5220\", \"s5221\", \"s5222\", \"s5223\", \"s5224\", \"s5225\", \"s5226\", \"s5227\", \"s5228\", \"s5229\", \"s5230\", \"s5231\", \"s5232\", \"s5233\", \"s5234\", \"s5235\", \"s5236\", \"s5237\", \"s5238\", \"s5239\", \"s5240\", \"s5241\", \"s5242\", \"s5243\", \"s5244\", \"s5245\", \"s5246\", \"s5247\", \"s5248\", \"s5249\", \"s5250\", \"s5251\", \"s5252\", \"s5253\", \"s5254\", \"s5255\", \"s5256\", \"s5257\", \"s5258\", \"s5259\", \"s5260\", \"s5261\", \"s5262\", \"s5263\", \"s5264\", \"s5265\", \"s5266\", \"s5267\", \"s5268\", \"s5269\", \"s5270\", \"s5271\", \"s5272\", \"s5273\", \"s5274\", \"s5275\", \"s5276\", \"s5277\", \"s5278\", \"s5279\", \"s5280\", \"s5281\", \"s5282\", \"s5283\", \"s5284\", \"s5285\", \"s5286\", \"s5287\", \"s5288\", \"s5289\", \"s5290\", \"s5291\", \"s5292\", \"s5293\", \"s5294\", \"s5295\", \"s5296\", \"s5297\", \"s5298\", \"s5299\", \"s5300\", \"s5301\", \"s5302\", \"s5303\", \"s5304\", \"s5305\", \"s5306\", \"s5307\", \"s5308\", \"s5309\", \"s5310\", \"s5311\", \"s5312\", \"s5313\", \"s5314\", \"s5315\", \"s5316\", \"s5317\", \"s5318\", \"s5319\", \"s5320\", \"s5321\", \"s5322\", \"s5323\", \"s5324\", \"s5325\", \"s5326\", \"s5327\", \"s5328\", \"s5329\", \"s5330\", \"s5331\", \"s5332\", \"s5333\", \"s5334\""
     ]
    },
    {
     "name": "stdout",
     "output_type": "stream",
     "text": [
      ", \"s5335\", \"s5336\", \"s5337\", \"s5338\", \"s5339\", \"s5340\", \"s5341\", \"s5342\", \"s5343\", \"s5344\", \"s5345\", \"s5346\", \"s5347\", \"s5348\", \"s5349\", \"s5350\", \"s5351\", \"s5352\", \"s5353\", \"s5354\", \"s5355\", \"s5356\", \"s5357\", \"s5358\", \"s5359\", \"s5360\", \"s5361\", \"s5362\", \"s5363\", \"s5364\", \"s5365\", \"s5366\", \"s5367\", \"s5368\", \"s5369\", \"s5370\", \"s5371\", \"s5372\", \"s5373\", \"s5374\", \"s5375\", \"s5376\", \"s5377\", \"s5378\", \"s5379\", \"s5380\", \"s5381\", \"s5382\", \"s5383\", \"s5384\", \"s5385\", \"s5386\", \"s5387\", \"s5388\", \"s5389\", \"s5390\", \"s5391\", \"s5392\", \"s5393\", \"s5394\", \"s5395\", \"s5396\", \"s5397\", \"s5398\", \"s5399\", \"s5400\", \"s5401\", \"s5402\", \"s5403\", \"s5404\", \"s5405\", \"s5406\", \"s5407\", \"s5408\", \"s5409\", \"s5410\", \"s5411\", \"s5412\", \"s5413\", \"s5414\", \"s5415\", \"s5416\", \"s5417\", \"s5418\", \"s5419\", \"s5420\", \"s5421\", \"s5422\", \"s5423\", \"s5424\", \"s5425\", \"s5426\", \"s5427\", \"s5428\", \"s5429\", \"s5430\", \"s5431\", \"s5432\", \"s5433\", \"s5434\", \"s5435\", \"s5436\", \"s5437\", \"s5438\", \"s5439\", \"s5440\", \"s5441\", \"s5442\", \"s5443\", \"s5444\", \"s5445\", \"s5446\", \"s5447\", \"s5448\", \"s5449\", \"s5450\", \"s5451\", \"s5452\", \"s5453\", \"s5454\", \"s5455\", \"s5456\", \"s5457\", \"s5458\", \"s5459\", \"s5460\", \"s5461\", \"s5462\", \"s5463\", \"s5464\", \"s5465\", \"s5466\", \"s5467\", \"s5468\", \"s5469\", \"s5470\", \"s5471\", \"s5472\", \"s5473\", \"s5474\", \"s5475\", \"s5476\", \"s5477\", \"s5478\", \"s5479\", \"s5480\", \"s5481\", \"s5482\", \"s5483\", \"s5484\", \"s5485\", \"s5486\", \"s5487\", \"s5488\", \"s5489\", \"s5490\", \"s5491\", \"s5492\", \"s5493\", \"s5494\", \"s5495\", \"s5496\", \"s5497\", \"s5498\", \"s5499\", \"s5500\", \"s5501\", \"s5502\", \"s5503\", \"s5504\", \"s5505\", \"s5506\", \"s5507\", \"s5508\", \"s5509\", \"s5510\", \"s5511\", \"s5512\", \"s5513\", \"s5514\", \"s5515\", \"s5516\", \"s5517\", \"s5518\", \"s5519\", \"s5520\", \"s5521\", \"s5522\", \"s5523\", \"s5524\", \"s5525\", \"s5526\", \"s5527\", \"s5528\", \"s5529\", \"s5530\", \"s5531\", \"s5532\", \"s5533\", \"s5534\", \"s5535\", \"s5536\", \"s5537\", \"s5538\", \"s5539\", \"s5540\", \"s5541\", \"s5542\", \"s5543\", \"s5544\", \"s5545\", \"s5546\", \"s5547\", \"s5548\", \"s5549\", \"s5550\", \"s5551\", \"s5552\", \"s5553\", \"s5554\", \"s5555\", \"s5556\", \"s5557\", \"s5558\", \"s5559\", \"s5560\", \"s5561\", \"s5562\", \"s5563\", \"s5564\", \"s5565\", \"s5566\", \"s5567\", \"s5568\", \"s5569\", \"s5570\", \"s5571\", \"s5572\", \"s5573\", \"s5574\", \"s5575\", \"s5576\", \"s5577\", \"s5578\", \"s5579\", \"s5580\", \"s5581\", \"s5582\", \"s5583\", \"s5584\", \"s5585\", \"s5586\", \"s5587\", \"s5588\", \"s5589\", \"s5590\", \"s5591\", \"s5592\", \"s5593\", \"s5594\", \"s5595\", \"s5596\", \"s5597\", \"s5598\", \"s5599\", \"s5600\", \"s5601\", \"s5602\", \"s5603\", \"s5604\", \"s5605\", \"s5606\", \"s5607\", \"s5608\", \"s5609\", \"s5610\", \"s5611\", \"s5612\", \"s5613\", \"s5614\", \"s5615\", \"s5616\", \"s5617\", \"s5618\", \"s5619\", \"s5620\", \"s5621\", \"s5622\", \"s5623\", \"s5624\", \"s5625\", \"s5626\", \"s5627\", \"s5628\", \"s5629\", \"s5630\", \"s5631\", \"s5632\", \"s5633\", \"s5634\", \"s5635\", \"s5636\", \"s5637\", \"s5638\", \"s5639\", \"s5640\", \"s5641\", \"s5642\", \"s5643\", \"s5644\", \"s5645\", \"s5646\", \"s5647\", \"s5648\", \"s5649\", \"s5650\", \"s5651\", \"s5652\", \"s5653\", \"s5654\", \"s5655\", \"s5656\", \"s5657\", \"s5658\", \"s5659\", \"s5660\", \"s5661\", \"s5662\", \"s5663\", \"s5664\", \"s5665\", \"s5666\", \"s5667\", \"s5668\", \"s5669\", \"s5670\", \"s5671\", \"s5672\", \"s5673\", \"s5674\", \"s5675\", \"s5676\", \"s5677\", \"s5678\", \"s5679\", \"s5680\", \"s5681\", \"s5682\", \"s5683\", \"s5684\", \"s5685\", \"s5686\", \"s5687\", \"s5688\", \"s5689\", \"s5690\", \"s5691\", \"s5692\", \"s5693\", \"s5694\", \"s5695\", \"s5696\", \"s5697\", \"s5698\", \"s5699\", \"s5700\", \"s5701\", \"s5702\", \"s5703\", \"s5704\", \"s5705\", \"s5706\", \"s5707\", \"s5708\", \"s5709\", \"s5710\", \"s5711\", \"s5712\", \"s5713\", \"s5714\", \"s5715\", \"s5716\", \"s5717\", \"s5718\", \"s5719\", \"s5720\", \"s5721\", \"s5722\", \"s5723\", \"s5724\", \"s5725\", \"s5726\", \"s5727\", \"s5728\", \"s5729\", \"s5730\", \"s5731\", \"s5732\", \"s5733\", \"s5734\", \"s5735\", \"s5736\", \"s5737\", \"s5738\", \"s5739\", \"s5740\", \"s5741\", \"s5742\", \"s5743\", \"s5744\", \"s5745\", \"s5746\", \"s5747\", \"s5748\", \"s5749\", \"s5750\", \"s5751\", \"s5752\", \"s5753\", \"s5754\", \"s5755\", \"s5756\", \"s5757\", \"s5758\", \"s5759\", \"s5760\", \"s5761\", \"s5762\", \"s5763\", \"s5764\", \"s5765\", \"s5766\", \"s5767\", \"s5768\", \"s5769\", \"s5770\", \"s5771\", \"s5772\", \"s5773\", \"s5774\", \"s5775\", \"s5776\", \"s5777\", \"s5778\", \"s5779\", \"s5780\", \"s5781\", \"s5782\", \"s5783\", \"s5784\", \"s5785\", \"s5786\", \"s5787\", \"s5788\", \"s5789\", \"s5790\", \"s5791\", \"s5792\", \"s5793\", \"s5794\", \"s5795\", \"s5796\", \"s5797\", \"s5798\", \"s5799\", \"s5800\", \"s5801\", \"s5802\", \"s5803\", \"s5804\", \"s5805\", \"s5806\", \"s5807\", \"s5808\", \"s5809\", \"s5810\", \"s5811\", \"s5812\", \"s5813\", \"s5814\", \"s5815\", \"s5816\", \"s5817\", \"s5818\", \"s5819\", \"s5820\", \"s5821\", \"s5822\", \"s5823\", \"s5824\", \"s5825\", \"s5826\", \"s5827\", \"s5828\", \"s5829\", \"s5830\", \"s5831\", \"s5832\", \"s5833\", \"s5834\", \"s5835\", \"s5836\", \"s5837\", \"s5838\", \"s5839\", \"s5840\", \"s5841\", \"s5842\", \"s5843\", \"s5844\", \"s5845\", \"s5846\", \"s5847\", \"s5848\", \"s5849\", \"s5850\", \"s5851\", \"s5852\", \"s5853\", \"s5854\", \"s5855\", \"s5856\", \"s5857\", \"s5858\", \"s5859\", \"s5860\", \"s5861\", \"s5862\", \"s5863\", \"s5864\", \"s5865\", \"s5866\", \"s5867\", \"s5868\", \"s5869\", \"s5870\", \"s5871\", \"s5872\", \"s5873\", \"s5874\", \"s5875\", \"s5876\", \"s5877\", \"s5878\", \"s5879\", \"s5880\", \"s5881\", \"s5882\", \"s5883\", \"s5884\", \"s5885\", \"s5886\", \"s5887\", \"s5888\", \"s5889\", \"s5890\", \"s5891\", \"s5892\", \"s5893\", \"s5894\", \"s5895\", \"s5896\", \"s5897\", \"s5898\", \"s5899\", \"s5900\", \"s5901\", \"s5902\", \"s5903\", \"s5904\", \"s5905\", \"s5906\", \"s5907\", \"s5908\", \"s5909\", \"s5910\", \"s5911\", \"s5912\", \"s5913\", \"s5914\", \"s5915\", \"s5916\", \"s5917\", \"s5918\", \"s5919\", \"s5920\", \"s5921\", \"s5922\", \"s5923\", \"s5924\", \"s5925\", \"s5926\", \"s5927\", \"s5928\", \"s5929\", \"s5930\", \"s5931\", \"s5932\", \"s5933\", \"s5934\", \"s5935\", \"s5936\", \"s5937\", \"s5938\", \"s5939\", \"s5940\", \"s5941\", \"s5942\", \"s5943\", \"s5944\", \"s5945\", \"s5946\", \"s5947\", \"s5948\", \"s5949\", \"s5950\", \"s5951\", \"s5952\", \"s5953\", \"s5954\", \"s5955\", \"s5956\", \"s5957\", \"s5958\", \"s5959\", \"s5960\", \"s5961\", \"s5962\", \"s5963\", \"s5964\", \"s5965\", \"s5966\", \"s5967\", \"s5968\", \"s5969\", \"s5970\", \"s5971\", \"s5972\", \"s5973\", \"s5974\", \"s5975\", \"s5976\", \"s5977\", \"s5978\", \"s5979\", \"s5980\", \"s5981\", \"s5982\", \"s5983\", \"s5984\", \"s5985\", \"s5986\", \"s5987\", \"s5988\", \"s5989\", \"s5990\", \"s5991\", \"s5992\", \"s5993\", \"s5994\", \"s5995\", \"s5996\", \"s5997\", \"s5998\", \"s5999\", \"s6000\", \"s6001\", \"s6002\", \"s6003\", \"s6004\", \"s6005\", \"s6006\", \"s6007\", \"s6008\", \"s6009\", \"s6010\", \"s6011\", \"s6012\", \"s6013\", \"s6014\", \"s6015\", \"s6016\", \"s6017\", \"s6018\", \"s6019\", \"s6020\", \"s6021\", \"s6022\", \"s6023\", \"s6024\", \"s6025\", \"s6026\", \"s6027\", \"s6028\", \"s6029\", \"s6030\", \"s6031\", \"s6032\", \"s6033\", \"s6034\", \"s6035\", \"s6036\", \"s6037\", \"s6038\", \"s6039\", \"s6040\", \"s6041\", \"s6042\", \"s6043\", \"s6044\", \"s6045\", \"s6046\", \"s6047\", \"s6048\", \"s6049\", \"s6050\", \"s6051\", \"s6052\", \"s6053\", \"s6054\", \"s6055\", \"s6056\", \"s6057\", \"s6058\", \"s6059\", \"s6060\", \"s6061\", \"s6062\", \"s6063\", \"s6064\", \"s6065\", \"s6066\", \"s6067\", \"s6068\", \"s6069\", \"s6070\", \"s6071\", \"s6072\", \"s6073\", \"s6074\", \"s6075\", \"s6076\", \"s6077\", \"s6078\", \"s6079\", \"s6080\", \"s6081\", \"s6082\", \"s6083\", \"s6084\", \"s6085\", \"s6086\", \"s6087\", \"s6088\", \"s6089\", \"s6090\", \"s6091\", \"s6092\", \"s6093\", \"s6094\", \"s6095\", \"s6096\", \"s6097\", \"s6098\", \"s6099\", \"s6100\", \"s6101\", \"s6102\", \"s6103\", \"s6104\", \"s6105\", \"s6106\", \"s6107\", \"s6108\", \"s6109\", \"s6110\", \"s6111\", \"s6112\", \"s6113\", \"s6114\", \"s6115\", \"s6116\", \"s6117\", \"s6118\", \"s6119\", \"s6120\", \"s6121\", \"s6122\", \"s6123\", \"s6124\", \"s6125\", \"s6126\", \"s6127\", \"s6128\", \"s6129\", \"s6130\", \"s6131\", \"s6132\", \"s6133\", \"s6134\", \"s6135\", \"s6136\", \"s6137\", \"s6138\", \"s6139\", \"s6140\", \"s6141\", \"s6142\", \"s6143\", \"s6144\", \"s6145\", \"s6146\", \"s6147\", \"s6148\", \"s6149\", \"s6150\", \"s6151\", \"s6152\", \"s6153\", \"s6154\", \"s6155\", \"s6156\", \"s6157\", \"s6158\", \"s6159\", \"s6160\", \"s6161\", \"s6162\", \"s6163\", \"s6164\", \"s6165\", \"s6166\", \"s6167\", \"s6168\", \"s6169\", \"s6170\", \"s6171\", \"s6172\", \"s6173\", \"s6174\", \"s6175\", \"s6176\", \"s6177\", \"s6178\", \"s6179\", \"s6180\", \"s6181\", \"s6182\", \"s6183\", \"s6184\", \"s6185\", \"s6186\", \"s6187\", \"s6188\", \"s6189\", \"s6190\", \"s6191\", \"s6192\", \"s6193\", \"s6194\", \"s6195\", \"s6196\", \"s6197\", \"s6198\", \"s6199\", \"s6200\", \"s6201\", \"s6202\", \"s6203\", \"s6204\", \"s6205\", \"s6206\", \"s6207\", \"s6208\", \"s6209\", \"s6210\", \"s6211\", \"s6212\", \"s6213\", \"s6214\", \"s6215\", \"s6216\", \"s6217\", \"s6218\", \"s6219\", \"s6220\", \"s6221\", \"s6222\", \"s6223\", \"s6224\", \"s6225\", \"s6226\", \"s6227\", \"s6228\", \"s6229\", \"s6230\", \"s6231\", \"s6232\", \"s6233\", \"s6234\", \"s6235\", \"s6236\", \"s6237\", \"s6238\", \"s6239\", \"s6240\", \"s6241\", \"s6242\", \"s6243\", \"s6244\", \"s6245\", \"s6246\", \"s6247\", \"s6248\", \"s6249\", \"s6250\", \"s6251\", \"s6252\", \"s6253\", \"s6254\", \"s6255\", \"s6256\", \"s6257\", \"s6258\", \"s6259\", \"s6260\", \"s6261\", \"s6262\", \"s6263\", \"s6264\", \"s6265\", \"s6266\", \"s6267\", \"s6268\", \"s6269\", \"s6270\", \"s6271\", \"s6272\", \"s6273\", \"s6274\", \"s6275\", \"s6276\", \"s6277\", \"s6278\", \"s6279\", \"s6280\", \"s6281\", \"s6282\", \"s6283\", \"s6284\", \"s6285\", \"s6286\", \"s6287\", \"s6288\", \"s6289\", \"s6290\", \"s6291\", \"s6292\", \"s6293\", \"s6294\", \"s6295\", \"s6296\", \"s6297\", \"s6298\", \"s6299\", \"s6300\", \"s6301\", \"s6302\", \"s6303\", \"s6304\", \"s6305\", \"s6306\", \"s6307\", \"s6308\", \"s6309\", \"s6310\", \"s6311\", \"s6312\", \"s6313\", \"s6314\", \"s6315\", \"s6316\", \"s6317\", \"s6318\", \"s6319\", \"s6320\", \"s6321\", \"s6322\", \"s6323\", \"s6324\", \"s6325\", \"s6326\", \"s6327\", \"s6328\", \"s6329\", \"s6330\", \"s6331\", \"s6332\", \"s6333\", \"s6334\", \"s6335\", \"s6336\", \"s6337\", \"s6338\", \"s6339\", \"s6340\", \"s6341\", \"s6342\", \"s6343\", \"s6344\", \"s6345\", \"s6346\", \"s6347\", \"s6348\", \"s6349\", \"s6350\", \"s6351\", \"s6352\", \"s6353\", \"s6354\", \"s6355\", \"s6356\", \"s6357\", \"s6358\", \"s6359\", \"s6360\", \"s6361\", \"s6362\", \"s6363\", \"s6364\", \"s6365\", \"s6366\", \"s6367\", \"s6368\", \"s6369\", \"s6370\", \"s6371\", \"s6372\", \"s6373\", \"s6374\", \"s6375\", \"s6376\", \"s6377\", \"s6378\", \"s6379\", \"s6380\", \"s6381\", \"s6382\", \"s6383\", \"s6384\", \"s6385\", \"s6386\", \"s6387\", \"s6388\", \"s6389\", \"s6390\", \"s6391\", \"s6392\", \"s6393\", \"s6394\", \"s6395\", \"s6396\", \"s6397\", \"s6398\", \"s6399\", \"s6400\", \"s6401\", \"s6402\", \"s6403\", \"s6404\", \"s6405\", \"s6406\", \"s6407\", \"s6408\", \"s6409\", \"s6410\", \"s6411\", \"s6412\", \"s6413\", \"s6414\", \"s6415\", \"s6416\", \"s6417\", \"s6418\", \"s6419\", \"s6420\", \"s6421\", \"s6422\", \"s6423\", \"s6424\", \"s6425\", \"s6426\", \"s6427\", \"s6428\", \"s6429\", \"s6430\", \"s6431\", \"s6432\", \"s6433\", \"s6434\", \"s6435\", \"s6436\", \"s6437\", \"s6438\", \"s6439\", \"s6440\", \"s6441\", \"s6442\", \"s6443\", \"s6444\", \"s6445\", \"s6446\", \"s6447\", \"s6448\", \"s6449\", \"s6450\", \"s6451\", \"s6452\", \"s6453\", \"s6454\", \"s6455\", \"s6456\", \"s6457\", \"s6458\", \"s6459\", \"s6460\", \"s6461\", \"s6462\", \"s6463\", \"s6464\", \"s6465\", \"s6466\", \"s6467\", \"s6468\", \"s6469\", \"s6470\", \"s6471\", \"s6472\", \"s6473\", \"s6474\", \"s6475\", \"s6476\", \"s6477\", \"s6478\", \"s6479\", \"s6480\", \"s6481\", \"s6482\", \"s6483\", \"s6484\", \"s6485\", \"s6486\", \"s6487\", \"s6488\", \"s6489\", \"s6490\", \"s6491\", \"s6492\", \"s6493\", \"s6494\", \"s6495\", \"s6496\", \"s6497\", \"s6498\", \"s6499\", \"s6500\", \"s6501\", \"s6502\", \"s6503\", \"s6504\", \"s6505\", \"s6506\", \"s6507\", \"s6508\", \"s6509\", \"s6510\", \"s6511\", \"s6512\", \"s6513\", \"s6514\", \"s6515\", \"s6516\", \"s6517\", \"s6518\", \"s6519\", \"s6520\", \"s6521\", \"s6522\", \"s6523\", \"s6524\", \"s6525\", \"s6526\", \"s6527\", \"s6528\", \"s6529\", \"s6530\", \"s6531\", \"s6532\", \"s6533\", \"s6534\", \"s6535\", \"s6536\", \"s6537\", \"s6538\", \"s6539\", \"s6540\", \"s6541\", \"s6542\", \"s6543\", \"s6544\", \"s6545\", \"s6546\", \"s6547\", \"s6548\", \"s6549\", \"s6550\", \"s6551\", \"s6552\", \"s6553\", \"s6554\", \"s6555\", \"s6556\", \"s6557\", \"s6558\", \"s6559\", \"s6560\", \"s6561\", \"s6562\", \"s6563\", \"s6564\", \"s6565\", \"s6566\", \"s6567\", \"s6568\", \"s6569\", \"s6570\", \"s6571\", \"s6572\", \"s6573\", \"s6574\", \"s6575\", \"s6576\", \"s6577\", \"s6578\", \"s6579\", \"s6580\", \"s6581\", \"s6582\", \"s6583\", \"s6584\", \"s6585\", \"s6586\", \"s6587\", \"s6588\", \"s6589\", \"s6590\", \"s6591\", \"s6592\", \"s6593\", \"s6594\", \"s6595\", \"s6596\", \"s6597\", \"s6598\", \"s6599\", \"s6600\", \"s6601\", \"s6602\", \"s6603\", \"s6604\", \"s6605\", \"s6606\", \"s6607\", \"s6608\", \"s6609\", \"s6610\", \"s6611\", \"s6612\", \"s6613\", \"s6614\", \"s6615\", \"s6616\", \"s6617\", \"s6618\", \"s6619\", \"s6620\", \"s6621\", \"s6622\", \"s6623\", \"s6624\", \"s6625\", \"s6626\", \"s6627\", \"s6628\", \"s6629\", \"s6630\", \"s6631\", \"s6632\", \"s6633\", \"s6634\", \"s6635\", \"s6636\", \"s6637\", \"s6638\", \"s6639\", \"s6640\", \"s6641\", \"s6642\", \"s6643\", \"s6644\", \"s6645\", \"s6646\", \"s6647\", \"s6648\", \"s6649\", \"s6650\", \"s6651\", \"s6652\", \"s6653\", \"s6654\", \"s6655\", \"s6656\", \"s6657\", \"s6658\", \"s6659\", \"s6660\", \"s6661\", \"s6662\", \"s6663\", \"s6664\", \"s6665\", \"s6666\", \"s6667\", \"s6668\", \"s6669\", \"s6670\", \"s6671\", \"s6672\", \"s6673\", \"s6674\", \"s6675\", \"s6676\", \"s6677\", \"s6678\", \"s6679\", \"s6680\", \"s6681\", \"s6682\", \"s6683\", \"s6684\", \"s6685\", \"s6686\", \"s6687\", \"s6688\", \"s6689\", \"s6690\", \"s6691\", \"s6692\", \"s6693\", \"s6694\", \"s6695\", \"s6696\", \"s6697\", \"s6698\", \"s6699\", \"s6700\", \"s6701\", \"s6702\", \"s6703\", \"s6704\", \"s6705\", \"s6706\", \"s6707\", \"s6708\", \"s6709\", \"s6710\", \"s6711\", \"s6712\", \"s6713\", \"s6714\", \"s6715\", \"s6716\", \"s6717\", \"s6718\", \"s6719\", \"s6720\", \"s6721\", \"s6722\", \"s6723\", \"s6724\", \"s6725\", \"s6726\", \"s6727\", \"s6728\", \"s6729\", \"s6730\", \"s6731\", \"s6732\", \"s6733\", \"s6734\", \"s6735\", \"s6736\", \"s6737\", \"s6738\", \"s6739\", \"s6740\", \"s6741\", \"s6742\", \"s6743\", \"s6744\", \"s6745\", \"s6746\", \"s6747\", \"s6748\", \"s6749\", \"s6750\", \"s6751\", \"s6752\", \"s6753\", \"s6754\", \"s6755\", \"s6756\", \"s6757\", \"s6758\", \"s6759\", \"s6760\", \"s6761\", \"s6762\", \"s6763\", \"s6764\", \"s6765\", \"s6766\", \"s6767\", \"s6768\", \"s6769\", \"s6770\", \"s6771\", \"s6772\", \"s6773\", \"s6774\", \"s6775\", \"s6776\", \"s6777\", \"s6778\", \"s6779\", \"s6780\", \"s6781\", \"s6782\", \"s6783\", \"s6784\", \"s6785\", \"s6786\", \"s6787\", \"s6788\", \"s6789\", \"s6790\", \"s6791\", \"s6792\", \"s6793\", \"s6794\", \"s6795\", \"s6796\", \"s6797\", \"s6798\", \"s6799\", \"s6800\", \"s6801\", \"s6802\", \"s6803\", \"s6804\", \"s6805\", \"s6806\", \"s6807\", \"s6808\", \"s6809\", \"s6810\", \"s6811\", \"s6812\", \"s6813\", \"s6814\", \"s6815\", \"s6816\", \"s6817\", \"s6818\", \"s6819\", \"s6820\", \"s6821\", \"s6822\", \"s6823\", \"s6824\", \"s6825\", \"s6826\", \"s6827\", \"s6828\", \"s6829\", \"s6830\", \"s6831\", \"s6832\", \"s6833\", \"s6834\", \"s6835\", \"s6836\", \"s6837\", \"s6838\", \"s6839\", \"s6840\", \"s6841\", \"s6842\", \"s6843\", \"s6844\", \"s6845\", \"s6846\", \"s6847\", \"s6848\", \"s6849\", \"s6850\", \"s6851\", \"s6852\", \"s6853\", \"s6854\", \"s6855\", \"s6856\", \"s6857\", \"s6858\", \"s6859\", \"s6860\", \"s6861\", \"s6862\", \"s6863\", \"s6864\", \"s6865\", \"s6866\", \"s6867\", \"s6868\", \"s6869\", \"s6870\", \"s6871\", \"s6872\", \"s6873\", \"s6874\", \"s6875\", \"s6876\", \"s6877\", \"s6878\", \"s6879\", \"s6880\", \"s6881\", \"s6882\", \"s6883\", \"s6884\", \"s6885\", \"s6886\", \"s6887\", \"s6888\", \"s6889\", \"s6890\", \"s6891\", \"s6892\", \"s6893\", \"s6894\", \"s6895\", \"s6896\", \"s6897\", \"s6898\", \"s6899\", \"s6900\", \"s6901\", \"s6902\", \"s6903\", \"s6904\", \"s6905\", \"s6906\", \"s6907\", \"s6908\", \"s6909\", \"s6910\", \"s6911\", \"s6912\", \"s6913\", \"s6914\", \"s6915\", \"s6916\", \"s6917\", \"s6918\", \"s6919\", \"s6920\", \"s6921\", \"s6922\", \"s6923\", \"s6924\", \"s6925\", \"s6926\", \"s6927\", \"s6928\", \"s6929\", \"s6930\", \"s6931\", \"s6932\", \"s6933\", \"s6934\", \"s6935\", \"s6936\", \"s6937\", \"s6938\", \"s6939\", \"s6940\", \"s6941\", \"s6942\", \"s6943\", \"s6944\", \"s6945\", \"s6946\", \"s6947\", \"s6948\", \"s6949\", \"s6950\", \"s6951\", \"s6952\", \"s6953\", \"s6954\", \"s6955\", \"s6956\", \"s6957\", \"s6958\", \"s6959\", \"s6960\", \"s6961\", \"s6962\", \"s6963\", \"s6964\", \"s6965\", \"s6966\", \"s6967\", \"s6968\", \"s6969\", \"s6970\", \"s6971\", \"s6972\", \"s6973\", \"s6974\", \"s6975\", \"s6976\", \"s6977\", \"s6978\", \"s6979\", \"s6980\", \"s6981\", \"s6982\", \"s6983\", \"s6984\", \"s6985\", \"s6986\", \"s6987\", \"s6988\", \"s6989\", \"s6990\", \"s6991\", \"s6992\", \"s6993\", \"s6994\", \"s6995\", \"s6996\", \"s6997\", \"s6998\", \"s6999\", \"s7000\", \"s7001\", \"s7002\", \"s7003\", \"s7004\", \"s7005\", \"s7006\", \"s7007\", \"s7008\", \"s7009\", \"s7010\", \"s7011\", \"s7012\", \"s7013\", \"s7014\", \"s7015\", \"s7016\", \"s7017\", \"s7018\", \"s7019\", \"s7020\", \"s7021\", \"s7022\", \"s7023\", \"s7024\", \"s7025\", \"s7026\", \"s7027\", \"s7028\", \"s7029\", \"s7030\", \"s7031\", \"s7032\", \"s7033\", \"s7034\", \"s7035\", \"s7036\", \"s7037\", \"s7038\", \"s7039\", \"s7040\", \"s7041\", \"s7042\", \"s7043\", \"s"
     ]
    },
    {
     "name": "stdout",
     "output_type": "stream",
     "text": [
      "7044\", \"s7045\", \"s7046\", \"s7047\", \"s7048\", \"s7049\", \"s7050\", \"s7051\", \"s7052\", \"s7053\", \"s7054\", \"s7055\", \"s7056\", \"s7057\", \"s7058\", \"s7059\", \"s7060\", \"s7061\", \"s7062\", \"s7063\", \"s7064\", \"s7065\", \"s7066\", \"s7067\", \"s7068\", \"s7069\", \"s7070\", \"s7071\", \"s7072\", \"s7073\", \"s7074\", \"s7075\", \"s7076\", \"s7077\", \"s7078\", \"s7079\", \"s7080\", \"s7081\", \"s7082\", \"s7083\", \"s7084\", \"s7085\", \"s7086\", \"s7087\", \"s7088\", \"s7089\", \"s7090\", \"s7091\", \"s7092\", \"s7093\", \"s7094\", \"s7095\", \"s7096\", \"s7097\", \"s7098\", \"s7099\", \"s7100\", \"s7101\", \"s7102\", \"s7103\", \"s7104\", \"s7105\", \"s7106\", \"s7107\", \"s7108\", \"s7109\", \"s7110\", \"s7111\", \"s7112\", \"s7113\", \"s7114\", \"s7115\", \"s7116\", \"s7117\", \"s7118\", \"s7119\", \"s7120\", \"s7121\", \"s7122\", \"s7123\", \"s7124\", \"s7125\", \"s7126\", \"s7127\", \"s7128\", \"s7129\", \"s7130\", \"s7131\", \"s7132\", \"s7133\", \"s7134\", \"s7135\", \"s7136\", \"s7137\", \"s7138\", \"s7139\", \"s7140\", \"s7141\", \"s7142\", \"s7143\", \"s7144\", \"s7145\", \"s7146\", \"s7147\", \"s7148\", \"s7149\", \"s7150\", \"s7151\", \"s7152\", \"s7153\", \"s7154\", \"s7155\", \"s7156\", \"s7157\", \"s7158\", \"s7159\", \"s7160\", \"s7161\", \"s7162\", \"s7163\", \"s7164\", \"s7165\", \"s7166\", \"s7167\", \"s7168\", \"s7169\", \"s7170\", \"s7171\", \"s7172\", \"s7173\", \"s7174\", \"s7175\", \"s7176\", \"s7177\", \"s7178\", \"s7179\", \"s7180\", \"s7181\", \"s7182\", \"s7183\", \"s7184\", \"s7185\", \"s7186\", \"s7187\", \"s7188\", \"s7189\", \"s7190\", \"s7191\", \"s7192\", \"s7193\", \"s7194\", \"s7195\", \"s7196\", \"s7197\", \"s7198\", \"s7199\", \"s7200\", \"s7201\", \"s7202\", \"s7203\", \"s7204\", \"s7205\", \"s7206\", \"s7207\", \"s7208\", \"s7209\", \"s7210\", \"s7211\", \"s7212\", \"s7213\", \"s7214\", \"s7215\", \"s7216\", \"s7217\", \"s7218\", \"s7219\", \"s7220\", \"s7221\", \"s7222\", \"s7223\", \"s7224\", \"s7225\", \"s7226\", \"s7227\", \"s7228\", \"s7229\", \"s7230\", \"s7231\", \"s7232\", \"s7233\", \"s7234\", \"s7235\", \"s7236\", \"s7237\", \"s7238\", \"s7239\", \"s7240\", \"s7241\", \"s7242\", \"s7243\", \"s7244\", \"s7245\", \"s7246\", \"s7247\", \"s7248\", \"s7249\", \"s7250\", \"s7251\", \"s7252\", \"s7253\", \"s7254\", \"s7255\", \"s7256\", \"s7257\", \"s7258\", \"s7259\", \"s7260\", \"s7261\", \"s7262\", \"s7263\", \"s7264\", \"s7265\", \"s7266\", \"s7267\", \"s7268\", \"s7269\", \"s7270\", \"s7271\", \"s7272\", \"s7273\", \"s7274\", \"s7275\", \"s7276\", \"s7277\", \"s7278\", \"s7279\", \"s7280\", \"s7281\", \"s7282\", \"s7283\", \"s7284\", \"s7285\", \"s7286\", \"s7287\", \"s7288\", \"s7289\", \"s7290\", \"s7291\", \"s7292\", \"s7293\", \"s7294\", \"s7295\", \"s7296\", \"s7297\", \"s7298\", \"s7299\", \"s7300\", \"s7301\", \"s7302\", \"s7303\", \"s7304\", \"s7305\", \"s7306\", \"s7307\", \"s7308\", \"s7309\", \"s7310\", \"s7311\", \"s7312\", \"s7313\", \"s7314\", \"s7315\", \"s7316\", \"s7317\", \"s7318\", \"s7319\", \"s7320\", \"s7321\", \"s7322\", \"s7323\", \"s7324\", \"s7325\", \"s7326\", \"s7327\", \"s7328\", \"s7329\", \"s7330\", \"s7331\", \"s7332\", \"s7333\", \"s7334\", \"s7335\", \"s7336\", \"s7337\", \"s7338\", \"s7339\", \"s7340\", \"s7341\", \"s7342\", \"s7343\", \"s7344\", \"s7345\", \"s7346\", \"s7347\", \"s7348\", \"s7349\", \"s7350\", \"s7351\", \"s7352\", \"s7353\", \"s7354\", \"s7355\", \"s7356\", \"s7357\", \"s7358\", \"s7359\", \"s7360\", \"s7361\", \"s7362\", \"s7363\", \"s7364\", \"s7365\", \"s7366\", \"s7367\", \"s7368\", \"s7369\", \"s7370\", \"s7371\", \"s7372\", \"s7373\", \"s7374\", \"s7375\", \"s7376\", \"s7377\", \"s7378\", \"s7379\", \"s7380\", \"s7381\", \"s7382\", \"s7383\", \"s7384\", \"s7385\", \"s7386\", \"s7387\", \"s7388\", \"s7389\", \"s7390\", \"s7391\", \"s7392\", \"s7393\", \"s7394\", \"s7395\", \"s7396\", \"s7397\", \"s7398\", \"s7399\", \"s7400\", \"s7401\", \"s7402\", \"s7403\", \"s7404\", \"s7405\", \"s7406\", \"s7407\", \"s7408\", \"s7409\", \"s7410\", \"s7411\", \"s7412\", \"s7413\", \"s7414\", \"s7415\", \"s7416\", \"s7417\", \"s7418\", \"s7419\", \"s7420\", \"s7421\", \"s7422\", \"s7423\", \"s7424\", \"s7425\", \"s7426\", \"s7427\", \"s7428\", \"s7429\", \"s7430\", \"s7431\", \"s7432\", \"s7433\", \"s7434\", \"s7435\", \"s7436\", \"s7437\", \"s7438\", \"s7439\", \"s7440\", \"s7441\", \"s7442\", \"s7443\", \"s7444\", \"s7445\", \"s7446\", \"s7447\", \"s7448\", \"s7449\", \"s7450\", \"s7451\", \"s7452\", \"s7453\", \"s7454\", \"s7455\", \"s7456\", \"s7457\", \"s7458\", \"s7459\", \"s7460\", \"s7461\", \"s7462\", \"s7463\", \"s7464\", \"s7465\", \"s7466\", \"s7467\", \"s7468\", \"s7469\", \"s7470\", \"s7471\", \"s7472\", \"s7473\", \"s7474\", \"s7475\", \"s7476\", \"s7477\", \"s7478\", \"s7479\", \"s7480\", \"s7481\", \"s7482\", \"s7483\", \"s7484\", \"s7485\", \"s7486\", \"s7487\", \"s7488\", \"s7489\", \"s7490\", \"s7491\", \"s7492\", \"s7493\", \"s7494\", \"s7495\", \"s7496\", \"s7497\", \"s7498\", \"s7499\", \"s7500\", \"s7501\", \"s7502\", \"s7503\", \"s7504\", \"s7505\", \"s7506\", \"s7507\", \"s7508\", \"s7509\", \"s7510\", \"s7511\", \"s7512\", \"s7513\", \"s7514\", \"s7515\", \"s7516\", \"s7517\", \"s7518\", \"s7519\", \"s7520\", \"s7521\", \"s7522\", \"s7523\", \"s7524\", \"s7525\", \"s7526\", \"s7527\", \"s7528\", \"s7529\", \"s7530\", \"s7531\", \"s7532\", \"s7533\", \"s7534\", \"s7535\", \"s7536\", \"s7537\", \"s7538\", \"s7539\", \"s7540\", \"s7541\", \"s7542\", \"s7543\", \"s7544\", \"s7545\", \"s7546\", \"s7547\", \"s7548\", \"s7549\", \"s7550\", \"s7551\", \"s7552\", \"s7553\", \"s7554\", \"s7555\", \"s7556\", \"s7557\", \"s7558\", \"s7559\", \"s7560\", \"s7561\", \"s7562\", \"s7563\", \"s7564\", \"s7565\", \"s7566\", \"s7567\", \"s7568\", \"s7569\", \"s7570\", \"s7571\", \"s7572\", \"s7573\", \"s7574\", \"s7575\", \"s7576\", \"s7577\", \"s7578\", \"s7579\", \"s7580\", \"s7581\", \"s7582\", \"s7583\", \"s7584\", \"s7585\", \"s7586\", \"s7587\", \"s7588\", \"s7589\", \"s7590\", \"s7591\", \"s7592\", \"s7593\", \"s7594\", \"s7595\", \"s7596\", \"s7597\", \"s7598\", \"s7599\", \"s7600\", \"s7601\", \"s7602\", \"s7603\", \"s7604\", \"s7605\", \"s7606\", \"s7607\", \"s7608\", \"s7609\", \"s7610\", \"s7611\", \"s7612\", \"s7613\", \"s7614\", \"s7615\", \"s7616\", \"s7617\", \"s7618\", \"s7619\", \"s7620\", \"s7621\", \"s7622\", \"s7623\", \"s7624\", \"s7625\", \"s7626\", \"s7627\", \"s7628\", \"s7629\", \"s7630\", \"s7631\", \"s7632\", \"s7633\", \"s7634\", \"s7635\", \"s7636\", \"s7637\", \"s7638\", \"s7639\", \"s7640\", \"s7641\", \"s7642\", \"s7643\", \"s7644\", \"s7645\", \"s7646\", \"s7647\", \"s7648\", \"s7649\", \"s7650\", \"s7651\", \"s7652\", \"s7653\", \"s7654\", \"s7655\", \"s7656\", \"s7657\", \"s7658\", \"s7659\", \"s7660\", \"s7661\", \"s7662\", \"s7663\", \"s7664\", \"s7665\", \"s7666\", \"s7667\", \"s7668\", \"s7669\", \"s7670\", \"s7671\", \"s7672\", \"s7673\", \"s7674\", \"s7675\", \"s7676\", \"s7677\", \"s7678\", \"s7679\", \"s7680\", \"s7681\", \"s7682\", \"s7683\", \"s7684\", \"s7685\", \"s7686\", \"s7687\", \"s7688\", \"s7689\", \"s7690\", \"s7691\", \"s7692\", \"s7693\", \"s7694\", \"s7695\", \"s7696\", \"s7697\", \"s7698\", \"s7699\", \"s7700\", \"s7701\", \"s7702\", \"s7703\", \"s7704\", \"s7705\", \"s7706\", \"s7707\", \"s7708\", \"s7709\", \"s7710\", \"s7711\", \"s7712\", \"s7713\", \"s7714\", \"s7715\", \"s7716\", \"s7717\", \"s7718\", \"s7719\", \"s7720\", \"s7721\", \"s7722\", \"s7723\", \"s7724\", \"s7725\", \"s7726\", \"s7727\", \"s7728\", \"s7729\", \"s7730\", \"s7731\", \"s7732\", \"s7733\", \"s7734\", \"s7735\", \"s7736\", \"s7737\", \"s7738\", \"s7739\", \"s7740\", \"s7741\", \"s7742\", \"s7743\", \"s7744\", \"s7745\", \"s7746\", \"s7747\", \"s7748\", \"s7749\", \"s7750\", \"s7751\", \"s7752\", \"s7753\", \"s7754\", \"s7755\", \"s7756\", \"s7757\", \"s7758\", \"s7759\", \"s7760\", \"s7761\", \"s7762\", \"s7763\", \"s7764\", \"s7765\", \"s7766\", \"s7767\", \"s7768\", \"s7769\", \"s7770\", \"s7771\", \"s7772\", \"s7773\", \"s7774\", \"s7775\", \"s7776\", \"s7777\", \"s7778\", \"s7779\", \"s7780\", \"s7781\", \"s7782\", \"s7783\", \"s7784\", \"s7785\", \"s7786\", \"s7787\"]"
     ]
    },
    {
     "data": {
      "text/plain": [
       "7787"
      ]
     },
     "execution_count": 15,
     "metadata": {},
     "output_type": "execute_result"
    }
   ],
   "source": [
    "## Verificando ID\n",
    "\n",
    "print( unique(netflix.show_id) )\n",
    "length( unique(netflix.show_id) ) "
   ]
  },
  {
   "cell_type": "markdown",
   "id": "fcb1e436",
   "metadata": {},
   "source": [
    "### ***Exploring a DataFrame***:"
   ]
  },
  {
   "cell_type": "code",
   "execution_count": 21,
   "id": "18961fc0",
   "metadata": {},
   "outputs": [
    {
     "ename": "LoadError",
     "evalue": "ArgumentError: syntax df[column] is not supported use df[!, column] instead",
     "output_type": "error",
     "traceback": [
      "ArgumentError: syntax df[column] is not supported use df[!, column] instead",
      "",
      "Stacktrace:",
      " [1] getindex(#unused#::DataFrame, #unused#::String)",
      "   @ DataFrames C:\\Users\\rmend\\.julia\\packages\\DataFrames\\zqFGs\\src\\abstractdataframe\\abstractdataframe.jl:2257",
      " [2] top-level scope",
      "   @ In[21]:1",
      " [3] eval",
      "   @ .\\boot.jl:373 [inlined]",
      " [4] include_string(mapexpr::typeof(REPL.softscope), mod::Module, code::String, filename::String)",
      "   @ Base .\\loading.jl:1196"
     ]
    }
   ],
   "source": [
    "netflix[\"director\"]\n",
    "netflix[!,\"director\"]"
   ]
  },
  {
   "cell_type": "code",
   "execution_count": 22,
   "id": "2b1a2fe9",
   "metadata": {},
   "outputs": [
    {
     "ename": "LoadError",
     "evalue": "ArgumentError: syntax df[column] is not supported use df[!, column] instead",
     "output_type": "error",
     "traceback": [
      "ArgumentError: syntax df[column] is not supported use df[!, column] instead",
      "",
      "Stacktrace:",
      " [1] getindex(#unused#::DataFrame, #unused#::Symbol)",
      "   @ DataFrames C:\\Users\\rmend\\.julia\\packages\\DataFrames\\zqFGs\\src\\abstractdataframe\\abstractdataframe.jl:2257",
      " [2] top-level scope",
      "   @ In[22]:1",
      " [3] eval",
      "   @ .\\boot.jl:373 [inlined]",
      " [4] include_string(mapexpr::typeof(REPL.softscope), mod::Module, code::String, filename::String)",
      "   @ Base .\\loading.jl:1196"
     ]
    }
   ],
   "source": [
    "netflix[:director]"
   ]
  },
  {
   "cell_type": "code",
   "execution_count": 34,
   "id": "c60135a3",
   "metadata": {},
   "outputs": [
    {
     "data": {
      "text/plain": [
       "7787-element SentinelArrays.SentinelVector{String, UndefInitializer, Missing, Vector{String}}:\n",
       " missing\n",
       " \"Jorge Michel Grau\"\n",
       " \"Gilbert Chan\"\n",
       " \"Shane Acker\"\n",
       " \"Robert Luketic\"\n",
       " \"Serdar Akar\"\n",
       " \"Yasir Al Yasiri\"\n",
       " \"Kevin Reynolds\"\n",
       " \"Shravan Kumar\"\n",
       " \"Vikram Bhatt\"\n",
       " \"Zak Hilditch\"\n",
       " missing\n",
       " \"Diego Enrique Osorno\"\n",
       " ⋮\n",
       " missing\n",
       " \"Satyajit Bhatkal\"\n",
       " missing\n",
       " \"Ruben Fleischer\"\n",
       " missing\n",
       " \"Shlok Sharma\"\n",
       " \"Peter Hewitt\"\n",
       " \"Josef Fares\"\n",
       " \"Mozez Singh\"\n",
       " missing\n",
       " missing\n",
       " \"Sam Dunn\""
      ]
     },
     "execution_count": 34,
     "metadata": {},
     "output_type": "execute_result"
    }
   ],
   "source": [
    "netflix[!,:director] "
   ]
  },
  {
   "cell_type": "code",
   "execution_count": 33,
   "id": "6c9adf42",
   "metadata": {},
   "outputs": [
    {
     "data": {
      "text/plain": [
       "7787-element Vector{Union{Missing, String}}:\n",
       " missing\n",
       " \"Jorge Michel Grau\"\n",
       " \"Gilbert Chan\"\n",
       " \"Shane Acker\"\n",
       " \"Robert Luketic\"\n",
       " \"Serdar Akar\"\n",
       " \"Yasir Al Yasiri\"\n",
       " \"Kevin Reynolds\"\n",
       " \"Shravan Kumar\"\n",
       " \"Vikram Bhatt\"\n",
       " \"Zak Hilditch\"\n",
       " missing\n",
       " \"Diego Enrique Osorno\"\n",
       " ⋮\n",
       " missing\n",
       " \"Satyajit Bhatkal\"\n",
       " missing\n",
       " \"Ruben Fleischer\"\n",
       " missing\n",
       " \"Shlok Sharma\"\n",
       " \"Peter Hewitt\"\n",
       " \"Josef Fares\"\n",
       " \"Mozez Singh\"\n",
       " missing\n",
       " missing\n",
       " \"Sam Dunn\""
      ]
     },
     "execution_count": 33,
     "metadata": {},
     "output_type": "execute_result"
    }
   ],
   "source": [
    "# cambiado de formato a Vecctor {}\n",
    "\n",
    "Vector(netflix[!,:director] )"
   ]
  },
  {
   "cell_type": "code",
   "execution_count": 44,
   "id": "0d464ae7",
   "metadata": {},
   "outputs": [
    {
     "data": {
      "text/plain": [
       "5193-element Vector{String}:\n",
       " \"Jorge Michel Grau\"\n",
       " \"Gilbert Chan\"\n",
       " \"Shane Acker\"\n",
       " \"Robert Luketic\"\n",
       " \"Serdar Akar\"\n",
       " \"Yasir Al Yasiri\"\n",
       " \"Kevin Reynolds\"\n",
       " \"Shravan Kumar\"\n",
       " \"Vikram Bhatt\"\n",
       " \"Zak Hilditch\"\n",
       " \"Diego Enrique Osorno\"\n",
       " \"Nottapon Boonprakob\"\n",
       " \"John Suits\"\n",
       " ⋮\n",
       " \"Majid Al Ansari\"\n",
       " \"Floyd Russ\"\n",
       " \"Oskar Santos\"\n",
       " \"Rodrigo Guardiola, Gabriel Cruz Rivas\"\n",
       " \"David Fincher\"\n",
       " \"Satyajit Bhatkal\"\n",
       " \"Ruben Fleischer\"\n",
       " \"Shlok Sharma\"\n",
       " \"Peter Hewitt\"\n",
       " \"Josef Fares\"\n",
       " \"Mozez Singh\"\n",
       " \"Sam Dunn\""
      ]
     },
     "execution_count": 44,
     "metadata": {},
     "output_type": "execute_result"
    }
   ],
   "source": [
    "netflix.director"
   ]
  },
  {
   "cell_type": "code",
   "execution_count": 31,
   "id": "d4a7ce0f",
   "metadata": {},
   "outputs": [
    {
     "data": {
      "text/plain": [
       "SentinelVector{String, UndefInitializer, Missing, Vector{String}} (alias for SentinelArrays.SentinelArray{String, 1, UndefInitializer, Missing, Array{String, 1}})"
      ]
     },
     "execution_count": 31,
     "metadata": {},
     "output_type": "execute_result"
    }
   ],
   "source": [
    "typeof( netflix[!,:director] )"
   ]
  },
  {
   "cell_type": "code",
   "execution_count": 32,
   "id": "bd16be0e",
   "metadata": {},
   "outputs": [
    {
     "data": {
      "text/html": [
       "<div class=\"data-frame\"><p>7,787 rows × 1 columns</p><table class=\"data-frame\"><thead><tr><th></th><th>director</th></tr><tr><th></th><th title=\"Union{Missing, String}\">String?</th></tr></thead><tbody><tr><th>1</th><td><em>missing</em></td></tr><tr><th>2</th><td>Jorge Michel Grau</td></tr><tr><th>3</th><td>Gilbert Chan</td></tr><tr><th>4</th><td>Shane Acker</td></tr><tr><th>5</th><td>Robert Luketic</td></tr><tr><th>6</th><td>Serdar Akar</td></tr><tr><th>7</th><td>Yasir Al Yasiri</td></tr><tr><th>8</th><td>Kevin Reynolds</td></tr><tr><th>9</th><td>Shravan Kumar</td></tr><tr><th>10</th><td>Vikram Bhatt</td></tr><tr><th>11</th><td>Zak Hilditch</td></tr><tr><th>12</th><td><em>missing</em></td></tr><tr><th>13</th><td>Diego Enrique Osorno</td></tr><tr><th>14</th><td>Nottapon Boonprakob</td></tr><tr><th>15</th><td>John Suits</td></tr><tr><th>16</th><td>Kunle Afolayan</td></tr><tr><th>17</th><td><em>missing</em></td></tr><tr><th>18</th><td>Paul Greengrass</td></tr><tr><th>19</th><td>Swapnaneel Jayakar</td></tr><tr><th>20</th><td><em>missing</em></td></tr><tr><th>21</th><td>Onir</td></tr><tr><th>22</th><td>Vijay Milton</td></tr><tr><th>23</th><td>Santwana Bardoloi</td></tr><tr><th>24</th><td>Atanu Ghosh</td></tr><tr><th>25</th><td><em>missing</em></td></tr><tr><th>26</th><td>Lyric R. Cabral, David Felix Sutcliffe</td></tr><tr><th>27</th><td><em>missing</em></td></tr><tr><th>28</th><td>Cho Il</td></tr><tr><th>29</th><td>Sabina Fedeli, Anna Migotto</td></tr><tr><th>30</th><td><em>missing</em></td></tr><tr><th>&vellip;</th><td>&vellip;</td></tr></tbody></table></div>"
      ],
      "text/latex": [
       "\\begin{tabular}{r|c}\n",
       "\t& director\\\\\n",
       "\t\\hline\n",
       "\t& String?\\\\\n",
       "\t\\hline\n",
       "\t1 & \\emph{missing} \\\\\n",
       "\t2 & Jorge Michel Grau \\\\\n",
       "\t3 & Gilbert Chan \\\\\n",
       "\t4 & Shane Acker \\\\\n",
       "\t5 & Robert Luketic \\\\\n",
       "\t6 & Serdar Akar \\\\\n",
       "\t7 & Yasir Al Yasiri \\\\\n",
       "\t8 & Kevin Reynolds \\\\\n",
       "\t9 & Shravan Kumar \\\\\n",
       "\t10 & Vikram Bhatt \\\\\n",
       "\t11 & Zak Hilditch \\\\\n",
       "\t12 & \\emph{missing} \\\\\n",
       "\t13 & Diego Enrique Osorno \\\\\n",
       "\t14 & Nottapon Boonprakob \\\\\n",
       "\t15 & John Suits \\\\\n",
       "\t16 & Kunle Afolayan \\\\\n",
       "\t17 & \\emph{missing} \\\\\n",
       "\t18 & Paul Greengrass \\\\\n",
       "\t19 & Swapnaneel Jayakar \\\\\n",
       "\t20 & \\emph{missing} \\\\\n",
       "\t21 & Onir \\\\\n",
       "\t22 & Vijay Milton \\\\\n",
       "\t23 & Santwana Bardoloi \\\\\n",
       "\t24 & Atanu Ghosh \\\\\n",
       "\t25 & \\emph{missing} \\\\\n",
       "\t26 & Lyric R. Cabral, David Felix Sutcliffe \\\\\n",
       "\t27 & \\emph{missing} \\\\\n",
       "\t28 & Cho Il \\\\\n",
       "\t29 & Sabina Fedeli, Anna Migotto \\\\\n",
       "\t30 & \\emph{missing} \\\\\n",
       "\t$\\dots$ & $\\dots$ \\\\\n",
       "\\end{tabular}\n"
      ],
      "text/plain": [
       "\u001b[1m7787×1 DataFrame\u001b[0m\n",
       "\u001b[1m  Row \u001b[0m│\u001b[1m director                          \u001b[0m\n",
       "\u001b[1m      \u001b[0m│\u001b[90m String?                           \u001b[0m\n",
       "──────┼───────────────────────────────────\n",
       "    1 │\u001b[90m missing                           \u001b[0m\n",
       "    2 │ Jorge Michel Grau\n",
       "    3 │ Gilbert Chan\n",
       "    4 │ Shane Acker\n",
       "    5 │ Robert Luketic\n",
       "    6 │ Serdar Akar\n",
       "    7 │ Yasir Al Yasiri\n",
       "    8 │ Kevin Reynolds\n",
       "    9 │ Shravan Kumar\n",
       "   10 │ Vikram Bhatt\n",
       "   11 │ Zak Hilditch\n",
       "  ⋮   │                 ⋮\n",
       " 7778 │\u001b[90m missing                           \u001b[0m\n",
       " 7779 │ Ruben Fleischer\n",
       " 7780 │\u001b[90m missing                           \u001b[0m\n",
       " 7781 │ Shlok Sharma\n",
       " 7782 │ Peter Hewitt\n",
       " 7783 │ Josef Fares\n",
       " 7784 │ Mozez Singh\n",
       " 7785 │\u001b[90m missing                           \u001b[0m\n",
       " 7786 │\u001b[90m missing                           \u001b[0m\n",
       " 7787 │ Sam Dunn\n",
       "\u001b[36m                         7766 rows omitted\u001b[0m"
      ]
     },
     "execution_count": 32,
     "metadata": {},
     "output_type": "execute_result"
    }
   ],
   "source": [
    "netflix[!,[:director]] # Dataframe outcome"
   ]
  },
  {
   "cell_type": "code",
   "execution_count": 40,
   "id": "54f32b34",
   "metadata": {},
   "outputs": [
    {
     "name": "stdout",
     "output_type": "stream",
     "text": [
      "(4808, 12)"
     ]
    },
    {
     "data": {
      "text/html": [
       "<div class=\"data-frame\"><p>5,193 rows × 12 columns (omitted printing of 8 columns)</p><table class=\"data-frame\"><thead><tr><th></th><th>show_id</th><th>type</th><th>title</th><th>director</th></tr><tr><th></th><th title=\"String7\">String7</th><th title=\"String7\">String7</th><th title=\"String\">String</th><th title=\"String\">String</th></tr></thead><tbody><tr><th>1</th><td>s2</td><td>Movie</td><td>7:19</td><td>Jorge Michel Grau</td></tr><tr><th>2</th><td>s3</td><td>Movie</td><td>23:59</td><td>Gilbert Chan</td></tr><tr><th>3</th><td>s4</td><td>Movie</td><td>9</td><td>Shane Acker</td></tr><tr><th>4</th><td>s5</td><td>Movie</td><td>21</td><td>Robert Luketic</td></tr><tr><th>5</th><td>s6</td><td>TV Show</td><td>46</td><td>Serdar Akar</td></tr><tr><th>6</th><td>s7</td><td>Movie</td><td>122</td><td>Yasir Al Yasiri</td></tr><tr><th>7</th><td>s8</td><td>Movie</td><td>187</td><td>Kevin Reynolds</td></tr><tr><th>8</th><td>s9</td><td>Movie</td><td>706</td><td>Shravan Kumar</td></tr><tr><th>9</th><td>s10</td><td>Movie</td><td>1920</td><td>Vikram Bhatt</td></tr><tr><th>10</th><td>s11</td><td>Movie</td><td>1922</td><td>Zak Hilditch</td></tr><tr><th>11</th><td>s13</td><td>TV Show</td><td>1994</td><td>Diego Enrique Osorno</td></tr><tr><th>12</th><td>s14</td><td>Movie</td><td>2,215</td><td>Nottapon Boonprakob</td></tr><tr><th>13</th><td>s15</td><td>Movie</td><td>3022</td><td>John Suits</td></tr><tr><th>14</th><td>s16</td><td>Movie</td><td>Oct-01</td><td>Kunle Afolayan</td></tr><tr><th>15</th><td>s18</td><td>Movie</td><td>22-Jul</td><td>Paul Greengrass</td></tr><tr><th>16</th><td>s19</td><td>Movie</td><td>15-Aug</td><td>Swapnaneel Jayakar</td></tr><tr><th>17</th><td>s21</td><td>Movie</td><td>\\u200b\\u200bKuch Bheege Alfaaz</td><td>Onir</td></tr><tr><th>18</th><td>s22</td><td>Movie</td><td>\\u200bGoli Soda 2</td><td>Vijay Milton</td></tr><tr><th>19</th><td>s23</td><td>Movie</td><td>\\u200bMaj Rati \\u200b\\u200bKeteki</td><td>Santwana Bardoloi</td></tr><tr><th>20</th><td>s24</td><td>Movie</td><td>\\u200bMayurakshi</td><td>Atanu Ghosh</td></tr><tr><th>21</th><td>s26</td><td>Movie</td><td>(T)ERROR</td><td>Lyric R. Cabral, David Felix Sutcliffe</td></tr><tr><th>22</th><td>s28</td><td>Movie</td><td>#Alive</td><td>Cho Il</td></tr><tr><th>23</th><td>s29</td><td>Movie</td><td>#AnneFrank - Parallel Stories</td><td>Sabina Fedeli, Anna Migotto</td></tr><tr><th>24</th><td>s31</td><td>Movie</td><td>#cats_the_mewvie</td><td>Michael Margolis</td></tr><tr><th>25</th><td>s32</td><td>Movie</td><td>#FriendButMarried</td><td>Rako Prijanto</td></tr><tr><th>26</th><td>s33</td><td>Movie</td><td>#FriendButMarried 2</td><td>Rako Prijanto</td></tr><tr><th>27</th><td>s34</td><td>Movie</td><td>#realityhigh</td><td>Fernando Lebrija</td></tr><tr><th>28</th><td>s35</td><td>Movie</td><td>#Roxy</td><td>Michael Kennedy</td></tr><tr><th>29</th><td>s36</td><td>Movie</td><td>#Rucker50</td><td>Robert McCullough Jr.</td></tr><tr><th>30</th><td>s37</td><td>Movie</td><td>#Selfie</td><td>Cristina Jacob</td></tr><tr><th>&vellip;</th><td>&vellip;</td><td>&vellip;</td><td>&vellip;</td><td>&vellip;</td></tr></tbody></table></div>"
      ],
      "text/latex": [
       "\\begin{tabular}{r|ccccc}\n",
       "\t& show\\_id & type & title & director & \\\\\n",
       "\t\\hline\n",
       "\t& String7 & String7 & String & String & \\\\\n",
       "\t\\hline\n",
       "\t1 & s2 & Movie & 7:19 & Jorge Michel Grau & $\\dots$ \\\\\n",
       "\t2 & s3 & Movie & 23:59 & Gilbert Chan & $\\dots$ \\\\\n",
       "\t3 & s4 & Movie & 9 & Shane Acker & $\\dots$ \\\\\n",
       "\t4 & s5 & Movie & 21 & Robert Luketic & $\\dots$ \\\\\n",
       "\t5 & s6 & TV Show & 46 & Serdar Akar & $\\dots$ \\\\\n",
       "\t6 & s7 & Movie & 122 & Yasir Al Yasiri & $\\dots$ \\\\\n",
       "\t7 & s8 & Movie & 187 & Kevin Reynolds & $\\dots$ \\\\\n",
       "\t8 & s9 & Movie & 706 & Shravan Kumar & $\\dots$ \\\\\n",
       "\t9 & s10 & Movie & 1920 & Vikram Bhatt & $\\dots$ \\\\\n",
       "\t10 & s11 & Movie & 1922 & Zak Hilditch & $\\dots$ \\\\\n",
       "\t11 & s13 & TV Show & 1994 & Diego Enrique Osorno & $\\dots$ \\\\\n",
       "\t12 & s14 & Movie & 2,215 & Nottapon Boonprakob & $\\dots$ \\\\\n",
       "\t13 & s15 & Movie & 3022 & John Suits & $\\dots$ \\\\\n",
       "\t14 & s16 & Movie & Oct-01 & Kunle Afolayan & $\\dots$ \\\\\n",
       "\t15 & s18 & Movie & 22-Jul & Paul Greengrass & $\\dots$ \\\\\n",
       "\t16 & s19 & Movie & 15-Aug & Swapnaneel Jayakar & $\\dots$ \\\\\n",
       "\t17 & s21 & Movie & \\textbackslash{}u200b\\textbackslash{}u200bKuch Bheege Alfaaz & Onir & $\\dots$ \\\\\n",
       "\t18 & s22 & Movie & \\textbackslash{}u200bGoli Soda 2 & Vijay Milton & $\\dots$ \\\\\n",
       "\t19 & s23 & Movie & \\textbackslash{}u200bMaj Rati \\textbackslash{}u200b\\textbackslash{}u200bKeteki & Santwana Bardoloi & $\\dots$ \\\\\n",
       "\t20 & s24 & Movie & \\textbackslash{}u200bMayurakshi & Atanu Ghosh & $\\dots$ \\\\\n",
       "\t21 & s26 & Movie & (T)ERROR & Lyric R. Cabral, David Felix Sutcliffe & $\\dots$ \\\\\n",
       "\t22 & s28 & Movie & \\#Alive & Cho Il & $\\dots$ \\\\\n",
       "\t23 & s29 & Movie & \\#AnneFrank - Parallel Stories & Sabina Fedeli, Anna Migotto & $\\dots$ \\\\\n",
       "\t24 & s31 & Movie & \\#cats\\_the\\_mewvie & Michael Margolis & $\\dots$ \\\\\n",
       "\t25 & s32 & Movie & \\#FriendButMarried & Rako Prijanto & $\\dots$ \\\\\n",
       "\t26 & s33 & Movie & \\#FriendButMarried 2 & Rako Prijanto & $\\dots$ \\\\\n",
       "\t27 & s34 & Movie & \\#realityhigh & Fernando Lebrija & $\\dots$ \\\\\n",
       "\t28 & s35 & Movie & \\#Roxy & Michael Kennedy & $\\dots$ \\\\\n",
       "\t29 & s36 & Movie & \\#Rucker50 & Robert McCullough Jr. & $\\dots$ \\\\\n",
       "\t30 & s37 & Movie & \\#Selfie & Cristina Jacob & $\\dots$ \\\\\n",
       "\t$\\dots$ & $\\dots$ & $\\dots$ & $\\dots$ & $\\dots$ &  \\\\\n",
       "\\end{tabular}\n"
      ],
      "text/plain": [
       "\u001b[1m5193×12 DataFrame\u001b[0m\n",
       "\u001b[1m  Row \u001b[0m│\u001b[1m show_id \u001b[0m\u001b[1m type    \u001b[0m\u001b[1m title                             \u001b[0m\u001b[1m director         \u001b[0m ⋯\n",
       "\u001b[1m      \u001b[0m│\u001b[90m String7 \u001b[0m\u001b[90m String7 \u001b[0m\u001b[90m String                            \u001b[0m\u001b[90m String           \u001b[0m ⋯\n",
       "──────┼─────────────────────────────────────────────────────────────────────────\n",
       "    1 │ s2       Movie    7:19                               Jorge Michel Grau ⋯\n",
       "    2 │ s3       Movie    23:59                              Gilbert Chan\n",
       "    3 │ s4       Movie    9                                  Shane Acker\n",
       "    4 │ s5       Movie    21                                 Robert Luketic\n",
       "    5 │ s6       TV Show  46                                 Serdar Akar       ⋯\n",
       "    6 │ s7       Movie    122                                Yasir Al Yasiri\n",
       "    7 │ s8       Movie    187                                Kevin Reynolds\n",
       "    8 │ s9       Movie    706                                Shravan Kumar\n",
       "    9 │ s10      Movie    1920                               Vikram Bhatt      ⋯\n",
       "   10 │ s11      Movie    1922                               Zak Hilditch\n",
       "   11 │ s13      TV Show  1994                               Diego Enrique Oso\n",
       "  ⋮   │    ⋮        ⋮                     ⋮                                  ⋮ ⋱\n",
       " 5184 │ s7773    Movie    Zipi & Zape y la Isla del Capitan  Oskar Santos\n",
       " 5185 │ s7774    Movie    Zoé: Panoramas                     Rodrigo Guardiola ⋯\n",
       " 5186 │ s7775    Movie    Zodiac                             David Fincher\n",
       " 5187 │ s7777    Movie    Zokkomon                           Satyajit Bhatkal\n",
       " 5188 │ s7779    Movie    Zombieland                         Ruben Fleischer\n",
       " 5189 │ s7781    Movie    Zoo                                Shlok Sharma      ⋯\n",
       " 5190 │ s7782    Movie    Zoom                               Peter Hewitt\n",
       " 5191 │ s7783    Movie    Zozo                               Josef Fares\n",
       " 5192 │ s7784    Movie    Zubaan                             Mozez Singh\n",
       " 5193 │ s7787    Movie    ZZ TOP: THAT LITTLE OL' BAND FRO…  Sam Dunn          ⋯\n",
       "\u001b[36m                                                 9 columns and 5172 rows omitted\u001b[0m"
      ]
     },
     "execution_count": 40,
     "metadata": {},
     "output_type": "execute_result"
    }
   ],
   "source": [
    "# Manicuplando missign values\n",
    "\n",
    "netflix2 = dropmissing(netflix) # drop las filas que presenten al menos un missing \n",
    "print( size(netflix2) )\n",
    "\n",
    "dropmissing(netflix, :director)  # borra los missing de una variable\n",
    "\n",
    "dropmissing(netflix, [:director,:country])  # borra los missing de más de una variables"
   ]
  },
  {
   "cell_type": "code",
   "execution_count": 41,
   "id": "c4c4965a",
   "metadata": {},
   "outputs": [
    {
     "data": {
      "text/html": [
       "<div class=\"data-frame\"><p>5,193 rows × 12 columns (omitted printing of 8 columns)</p><table class=\"data-frame\"><thead><tr><th></th><th>show_id</th><th>type</th><th>title</th><th>director</th></tr><tr><th></th><th title=\"String7\">String7</th><th title=\"String7\">String7</th><th title=\"String\">String</th><th title=\"String\">String</th></tr></thead><tbody><tr><th>1</th><td>s2</td><td>Movie</td><td>7:19</td><td>Jorge Michel Grau</td></tr><tr><th>2</th><td>s3</td><td>Movie</td><td>23:59</td><td>Gilbert Chan</td></tr><tr><th>3</th><td>s4</td><td>Movie</td><td>9</td><td>Shane Acker</td></tr><tr><th>4</th><td>s5</td><td>Movie</td><td>21</td><td>Robert Luketic</td></tr><tr><th>5</th><td>s6</td><td>TV Show</td><td>46</td><td>Serdar Akar</td></tr><tr><th>6</th><td>s7</td><td>Movie</td><td>122</td><td>Yasir Al Yasiri</td></tr><tr><th>7</th><td>s8</td><td>Movie</td><td>187</td><td>Kevin Reynolds</td></tr><tr><th>8</th><td>s9</td><td>Movie</td><td>706</td><td>Shravan Kumar</td></tr><tr><th>9</th><td>s10</td><td>Movie</td><td>1920</td><td>Vikram Bhatt</td></tr><tr><th>10</th><td>s11</td><td>Movie</td><td>1922</td><td>Zak Hilditch</td></tr><tr><th>11</th><td>s13</td><td>TV Show</td><td>1994</td><td>Diego Enrique Osorno</td></tr><tr><th>12</th><td>s14</td><td>Movie</td><td>2,215</td><td>Nottapon Boonprakob</td></tr><tr><th>13</th><td>s15</td><td>Movie</td><td>3022</td><td>John Suits</td></tr><tr><th>14</th><td>s16</td><td>Movie</td><td>Oct-01</td><td>Kunle Afolayan</td></tr><tr><th>15</th><td>s18</td><td>Movie</td><td>22-Jul</td><td>Paul Greengrass</td></tr><tr><th>16</th><td>s19</td><td>Movie</td><td>15-Aug</td><td>Swapnaneel Jayakar</td></tr><tr><th>17</th><td>s21</td><td>Movie</td><td>\\u200b\\u200bKuch Bheege Alfaaz</td><td>Onir</td></tr><tr><th>18</th><td>s22</td><td>Movie</td><td>\\u200bGoli Soda 2</td><td>Vijay Milton</td></tr><tr><th>19</th><td>s23</td><td>Movie</td><td>\\u200bMaj Rati \\u200b\\u200bKeteki</td><td>Santwana Bardoloi</td></tr><tr><th>20</th><td>s24</td><td>Movie</td><td>\\u200bMayurakshi</td><td>Atanu Ghosh</td></tr><tr><th>21</th><td>s26</td><td>Movie</td><td>(T)ERROR</td><td>Lyric R. Cabral, David Felix Sutcliffe</td></tr><tr><th>22</th><td>s28</td><td>Movie</td><td>#Alive</td><td>Cho Il</td></tr><tr><th>23</th><td>s29</td><td>Movie</td><td>#AnneFrank - Parallel Stories</td><td>Sabina Fedeli, Anna Migotto</td></tr><tr><th>24</th><td>s31</td><td>Movie</td><td>#cats_the_mewvie</td><td>Michael Margolis</td></tr><tr><th>25</th><td>s32</td><td>Movie</td><td>#FriendButMarried</td><td>Rako Prijanto</td></tr><tr><th>26</th><td>s33</td><td>Movie</td><td>#FriendButMarried 2</td><td>Rako Prijanto</td></tr><tr><th>27</th><td>s34</td><td>Movie</td><td>#realityhigh</td><td>Fernando Lebrija</td></tr><tr><th>28</th><td>s35</td><td>Movie</td><td>#Roxy</td><td>Michael Kennedy</td></tr><tr><th>29</th><td>s36</td><td>Movie</td><td>#Rucker50</td><td>Robert McCullough Jr.</td></tr><tr><th>30</th><td>s37</td><td>Movie</td><td>#Selfie</td><td>Cristina Jacob</td></tr><tr><th>&vellip;</th><td>&vellip;</td><td>&vellip;</td><td>&vellip;</td><td>&vellip;</td></tr></tbody></table></div>"
      ],
      "text/latex": [
       "\\begin{tabular}{r|ccccc}\n",
       "\t& show\\_id & type & title & director & \\\\\n",
       "\t\\hline\n",
       "\t& String7 & String7 & String & String & \\\\\n",
       "\t\\hline\n",
       "\t1 & s2 & Movie & 7:19 & Jorge Michel Grau & $\\dots$ \\\\\n",
       "\t2 & s3 & Movie & 23:59 & Gilbert Chan & $\\dots$ \\\\\n",
       "\t3 & s4 & Movie & 9 & Shane Acker & $\\dots$ \\\\\n",
       "\t4 & s5 & Movie & 21 & Robert Luketic & $\\dots$ \\\\\n",
       "\t5 & s6 & TV Show & 46 & Serdar Akar & $\\dots$ \\\\\n",
       "\t6 & s7 & Movie & 122 & Yasir Al Yasiri & $\\dots$ \\\\\n",
       "\t7 & s8 & Movie & 187 & Kevin Reynolds & $\\dots$ \\\\\n",
       "\t8 & s9 & Movie & 706 & Shravan Kumar & $\\dots$ \\\\\n",
       "\t9 & s10 & Movie & 1920 & Vikram Bhatt & $\\dots$ \\\\\n",
       "\t10 & s11 & Movie & 1922 & Zak Hilditch & $\\dots$ \\\\\n",
       "\t11 & s13 & TV Show & 1994 & Diego Enrique Osorno & $\\dots$ \\\\\n",
       "\t12 & s14 & Movie & 2,215 & Nottapon Boonprakob & $\\dots$ \\\\\n",
       "\t13 & s15 & Movie & 3022 & John Suits & $\\dots$ \\\\\n",
       "\t14 & s16 & Movie & Oct-01 & Kunle Afolayan & $\\dots$ \\\\\n",
       "\t15 & s18 & Movie & 22-Jul & Paul Greengrass & $\\dots$ \\\\\n",
       "\t16 & s19 & Movie & 15-Aug & Swapnaneel Jayakar & $\\dots$ \\\\\n",
       "\t17 & s21 & Movie & \\textbackslash{}u200b\\textbackslash{}u200bKuch Bheege Alfaaz & Onir & $\\dots$ \\\\\n",
       "\t18 & s22 & Movie & \\textbackslash{}u200bGoli Soda 2 & Vijay Milton & $\\dots$ \\\\\n",
       "\t19 & s23 & Movie & \\textbackslash{}u200bMaj Rati \\textbackslash{}u200b\\textbackslash{}u200bKeteki & Santwana Bardoloi & $\\dots$ \\\\\n",
       "\t20 & s24 & Movie & \\textbackslash{}u200bMayurakshi & Atanu Ghosh & $\\dots$ \\\\\n",
       "\t21 & s26 & Movie & (T)ERROR & Lyric R. Cabral, David Felix Sutcliffe & $\\dots$ \\\\\n",
       "\t22 & s28 & Movie & \\#Alive & Cho Il & $\\dots$ \\\\\n",
       "\t23 & s29 & Movie & \\#AnneFrank - Parallel Stories & Sabina Fedeli, Anna Migotto & $\\dots$ \\\\\n",
       "\t24 & s31 & Movie & \\#cats\\_the\\_mewvie & Michael Margolis & $\\dots$ \\\\\n",
       "\t25 & s32 & Movie & \\#FriendButMarried & Rako Prijanto & $\\dots$ \\\\\n",
       "\t26 & s33 & Movie & \\#FriendButMarried 2 & Rako Prijanto & $\\dots$ \\\\\n",
       "\t27 & s34 & Movie & \\#realityhigh & Fernando Lebrija & $\\dots$ \\\\\n",
       "\t28 & s35 & Movie & \\#Roxy & Michael Kennedy & $\\dots$ \\\\\n",
       "\t29 & s36 & Movie & \\#Rucker50 & Robert McCullough Jr. & $\\dots$ \\\\\n",
       "\t30 & s37 & Movie & \\#Selfie & Cristina Jacob & $\\dots$ \\\\\n",
       "\t$\\dots$ & $\\dots$ & $\\dots$ & $\\dots$ & $\\dots$ &  \\\\\n",
       "\\end{tabular}\n"
      ],
      "text/plain": [
       "\u001b[1m5193×12 DataFrame\u001b[0m\n",
       "\u001b[1m  Row \u001b[0m│\u001b[1m show_id \u001b[0m\u001b[1m type    \u001b[0m\u001b[1m title                             \u001b[0m\u001b[1m director         \u001b[0m ⋯\n",
       "\u001b[1m      \u001b[0m│\u001b[90m String7 \u001b[0m\u001b[90m String7 \u001b[0m\u001b[90m String                            \u001b[0m\u001b[90m String           \u001b[0m ⋯\n",
       "──────┼─────────────────────────────────────────────────────────────────────────\n",
       "    1 │ s2       Movie    7:19                               Jorge Michel Grau ⋯\n",
       "    2 │ s3       Movie    23:59                              Gilbert Chan\n",
       "    3 │ s4       Movie    9                                  Shane Acker\n",
       "    4 │ s5       Movie    21                                 Robert Luketic\n",
       "    5 │ s6       TV Show  46                                 Serdar Akar       ⋯\n",
       "    6 │ s7       Movie    122                                Yasir Al Yasiri\n",
       "    7 │ s8       Movie    187                                Kevin Reynolds\n",
       "    8 │ s9       Movie    706                                Shravan Kumar\n",
       "    9 │ s10      Movie    1920                               Vikram Bhatt      ⋯\n",
       "   10 │ s11      Movie    1922                               Zak Hilditch\n",
       "   11 │ s13      TV Show  1994                               Diego Enrique Oso\n",
       "  ⋮   │    ⋮        ⋮                     ⋮                                  ⋮ ⋱\n",
       " 5184 │ s7773    Movie    Zipi & Zape y la Isla del Capitan  Oskar Santos\n",
       " 5185 │ s7774    Movie    Zoé: Panoramas                     Rodrigo Guardiola ⋯\n",
       " 5186 │ s7775    Movie    Zodiac                             David Fincher\n",
       " 5187 │ s7777    Movie    Zokkomon                           Satyajit Bhatkal\n",
       " 5188 │ s7779    Movie    Zombieland                         Ruben Fleischer\n",
       " 5189 │ s7781    Movie    Zoo                                Shlok Sharma      ⋯\n",
       " 5190 │ s7782    Movie    Zoom                               Peter Hewitt\n",
       " 5191 │ s7783    Movie    Zozo                               Josef Fares\n",
       " 5192 │ s7784    Movie    Zubaan                             Mozez Singh\n",
       " 5193 │ s7787    Movie    ZZ TOP: THAT LITTLE OL' BAND FRO…  Sam Dunn          ⋯\n",
       "\u001b[36m                                                 9 columns and 5172 rows omitted\u001b[0m"
      ]
     },
     "execution_count": 41,
     "metadata": {},
     "output_type": "execute_result"
    }
   ],
   "source": [
    "dropmissing!(netflix, [:director,:country]) \n",
    "\n",
    "# version de Inplace = True de Python en Julia. Se usa el simbolo \"!\" luego de la fución. \n",
    "# Esto tambien aplica para el caso de vectores. "
   ]
  },
  {
   "cell_type": "code",
   "execution_count": 42,
   "id": "a5abdcb0",
   "metadata": {},
   "outputs": [
    {
     "data": {
      "text/html": [
       "<div class=\"data-frame\"><p>5,193 rows × 12 columns (omitted printing of 8 columns)</p><table class=\"data-frame\"><thead><tr><th></th><th>show_id</th><th>type</th><th>title</th><th>director</th></tr><tr><th></th><th title=\"String7\">String7</th><th title=\"String7\">String7</th><th title=\"String\">String</th><th title=\"String\">String</th></tr></thead><tbody><tr><th>1</th><td>s2</td><td>Movie</td><td>7:19</td><td>Jorge Michel Grau</td></tr><tr><th>2</th><td>s3</td><td>Movie</td><td>23:59</td><td>Gilbert Chan</td></tr><tr><th>3</th><td>s4</td><td>Movie</td><td>9</td><td>Shane Acker</td></tr><tr><th>4</th><td>s5</td><td>Movie</td><td>21</td><td>Robert Luketic</td></tr><tr><th>5</th><td>s6</td><td>TV Show</td><td>46</td><td>Serdar Akar</td></tr><tr><th>6</th><td>s7</td><td>Movie</td><td>122</td><td>Yasir Al Yasiri</td></tr><tr><th>7</th><td>s8</td><td>Movie</td><td>187</td><td>Kevin Reynolds</td></tr><tr><th>8</th><td>s9</td><td>Movie</td><td>706</td><td>Shravan Kumar</td></tr><tr><th>9</th><td>s10</td><td>Movie</td><td>1920</td><td>Vikram Bhatt</td></tr><tr><th>10</th><td>s11</td><td>Movie</td><td>1922</td><td>Zak Hilditch</td></tr><tr><th>11</th><td>s13</td><td>TV Show</td><td>1994</td><td>Diego Enrique Osorno</td></tr><tr><th>12</th><td>s14</td><td>Movie</td><td>2,215</td><td>Nottapon Boonprakob</td></tr><tr><th>13</th><td>s15</td><td>Movie</td><td>3022</td><td>John Suits</td></tr><tr><th>14</th><td>s16</td><td>Movie</td><td>Oct-01</td><td>Kunle Afolayan</td></tr><tr><th>15</th><td>s18</td><td>Movie</td><td>22-Jul</td><td>Paul Greengrass</td></tr><tr><th>16</th><td>s19</td><td>Movie</td><td>15-Aug</td><td>Swapnaneel Jayakar</td></tr><tr><th>17</th><td>s21</td><td>Movie</td><td>\\u200b\\u200bKuch Bheege Alfaaz</td><td>Onir</td></tr><tr><th>18</th><td>s22</td><td>Movie</td><td>\\u200bGoli Soda 2</td><td>Vijay Milton</td></tr><tr><th>19</th><td>s23</td><td>Movie</td><td>\\u200bMaj Rati \\u200b\\u200bKeteki</td><td>Santwana Bardoloi</td></tr><tr><th>20</th><td>s24</td><td>Movie</td><td>\\u200bMayurakshi</td><td>Atanu Ghosh</td></tr><tr><th>21</th><td>s26</td><td>Movie</td><td>(T)ERROR</td><td>Lyric R. Cabral, David Felix Sutcliffe</td></tr><tr><th>22</th><td>s28</td><td>Movie</td><td>#Alive</td><td>Cho Il</td></tr><tr><th>23</th><td>s29</td><td>Movie</td><td>#AnneFrank - Parallel Stories</td><td>Sabina Fedeli, Anna Migotto</td></tr><tr><th>24</th><td>s31</td><td>Movie</td><td>#cats_the_mewvie</td><td>Michael Margolis</td></tr><tr><th>25</th><td>s32</td><td>Movie</td><td>#FriendButMarried</td><td>Rako Prijanto</td></tr><tr><th>26</th><td>s33</td><td>Movie</td><td>#FriendButMarried 2</td><td>Rako Prijanto</td></tr><tr><th>27</th><td>s34</td><td>Movie</td><td>#realityhigh</td><td>Fernando Lebrija</td></tr><tr><th>28</th><td>s35</td><td>Movie</td><td>#Roxy</td><td>Michael Kennedy</td></tr><tr><th>29</th><td>s36</td><td>Movie</td><td>#Rucker50</td><td>Robert McCullough Jr.</td></tr><tr><th>30</th><td>s37</td><td>Movie</td><td>#Selfie</td><td>Cristina Jacob</td></tr><tr><th>&vellip;</th><td>&vellip;</td><td>&vellip;</td><td>&vellip;</td><td>&vellip;</td></tr></tbody></table></div>"
      ],
      "text/latex": [
       "\\begin{tabular}{r|ccccc}\n",
       "\t& show\\_id & type & title & director & \\\\\n",
       "\t\\hline\n",
       "\t& String7 & String7 & String & String & \\\\\n",
       "\t\\hline\n",
       "\t1 & s2 & Movie & 7:19 & Jorge Michel Grau & $\\dots$ \\\\\n",
       "\t2 & s3 & Movie & 23:59 & Gilbert Chan & $\\dots$ \\\\\n",
       "\t3 & s4 & Movie & 9 & Shane Acker & $\\dots$ \\\\\n",
       "\t4 & s5 & Movie & 21 & Robert Luketic & $\\dots$ \\\\\n",
       "\t5 & s6 & TV Show & 46 & Serdar Akar & $\\dots$ \\\\\n",
       "\t6 & s7 & Movie & 122 & Yasir Al Yasiri & $\\dots$ \\\\\n",
       "\t7 & s8 & Movie & 187 & Kevin Reynolds & $\\dots$ \\\\\n",
       "\t8 & s9 & Movie & 706 & Shravan Kumar & $\\dots$ \\\\\n",
       "\t9 & s10 & Movie & 1920 & Vikram Bhatt & $\\dots$ \\\\\n",
       "\t10 & s11 & Movie & 1922 & Zak Hilditch & $\\dots$ \\\\\n",
       "\t11 & s13 & TV Show & 1994 & Diego Enrique Osorno & $\\dots$ \\\\\n",
       "\t12 & s14 & Movie & 2,215 & Nottapon Boonprakob & $\\dots$ \\\\\n",
       "\t13 & s15 & Movie & 3022 & John Suits & $\\dots$ \\\\\n",
       "\t14 & s16 & Movie & Oct-01 & Kunle Afolayan & $\\dots$ \\\\\n",
       "\t15 & s18 & Movie & 22-Jul & Paul Greengrass & $\\dots$ \\\\\n",
       "\t16 & s19 & Movie & 15-Aug & Swapnaneel Jayakar & $\\dots$ \\\\\n",
       "\t17 & s21 & Movie & \\textbackslash{}u200b\\textbackslash{}u200bKuch Bheege Alfaaz & Onir & $\\dots$ \\\\\n",
       "\t18 & s22 & Movie & \\textbackslash{}u200bGoli Soda 2 & Vijay Milton & $\\dots$ \\\\\n",
       "\t19 & s23 & Movie & \\textbackslash{}u200bMaj Rati \\textbackslash{}u200b\\textbackslash{}u200bKeteki & Santwana Bardoloi & $\\dots$ \\\\\n",
       "\t20 & s24 & Movie & \\textbackslash{}u200bMayurakshi & Atanu Ghosh & $\\dots$ \\\\\n",
       "\t21 & s26 & Movie & (T)ERROR & Lyric R. Cabral, David Felix Sutcliffe & $\\dots$ \\\\\n",
       "\t22 & s28 & Movie & \\#Alive & Cho Il & $\\dots$ \\\\\n",
       "\t23 & s29 & Movie & \\#AnneFrank - Parallel Stories & Sabina Fedeli, Anna Migotto & $\\dots$ \\\\\n",
       "\t24 & s31 & Movie & \\#cats\\_the\\_mewvie & Michael Margolis & $\\dots$ \\\\\n",
       "\t25 & s32 & Movie & \\#FriendButMarried & Rako Prijanto & $\\dots$ \\\\\n",
       "\t26 & s33 & Movie & \\#FriendButMarried 2 & Rako Prijanto & $\\dots$ \\\\\n",
       "\t27 & s34 & Movie & \\#realityhigh & Fernando Lebrija & $\\dots$ \\\\\n",
       "\t28 & s35 & Movie & \\#Roxy & Michael Kennedy & $\\dots$ \\\\\n",
       "\t29 & s36 & Movie & \\#Rucker50 & Robert McCullough Jr. & $\\dots$ \\\\\n",
       "\t30 & s37 & Movie & \\#Selfie & Cristina Jacob & $\\dots$ \\\\\n",
       "\t$\\dots$ & $\\dots$ & $\\dots$ & $\\dots$ & $\\dots$ &  \\\\\n",
       "\\end{tabular}\n"
      ],
      "text/plain": [
       "\u001b[1m5193×12 DataFrame\u001b[0m\n",
       "\u001b[1m  Row \u001b[0m│\u001b[1m show_id \u001b[0m\u001b[1m type    \u001b[0m\u001b[1m title                             \u001b[0m\u001b[1m director         \u001b[0m ⋯\n",
       "\u001b[1m      \u001b[0m│\u001b[90m String7 \u001b[0m\u001b[90m String7 \u001b[0m\u001b[90m String                            \u001b[0m\u001b[90m String           \u001b[0m ⋯\n",
       "──────┼─────────────────────────────────────────────────────────────────────────\n",
       "    1 │ s2       Movie    7:19                               Jorge Michel Grau ⋯\n",
       "    2 │ s3       Movie    23:59                              Gilbert Chan\n",
       "    3 │ s4       Movie    9                                  Shane Acker\n",
       "    4 │ s5       Movie    21                                 Robert Luketic\n",
       "    5 │ s6       TV Show  46                                 Serdar Akar       ⋯\n",
       "    6 │ s7       Movie    122                                Yasir Al Yasiri\n",
       "    7 │ s8       Movie    187                                Kevin Reynolds\n",
       "    8 │ s9       Movie    706                                Shravan Kumar\n",
       "    9 │ s10      Movie    1920                               Vikram Bhatt      ⋯\n",
       "   10 │ s11      Movie    1922                               Zak Hilditch\n",
       "   11 │ s13      TV Show  1994                               Diego Enrique Oso\n",
       "  ⋮   │    ⋮        ⋮                     ⋮                                  ⋮ ⋱\n",
       " 5184 │ s7773    Movie    Zipi & Zape y la Isla del Capitan  Oskar Santos\n",
       " 5185 │ s7774    Movie    Zoé: Panoramas                     Rodrigo Guardiola ⋯\n",
       " 5186 │ s7775    Movie    Zodiac                             David Fincher\n",
       " 5187 │ s7777    Movie    Zokkomon                           Satyajit Bhatkal\n",
       " 5188 │ s7779    Movie    Zombieland                         Ruben Fleischer\n",
       " 5189 │ s7781    Movie    Zoo                                Shlok Sharma      ⋯\n",
       " 5190 │ s7782    Movie    Zoom                               Peter Hewitt\n",
       " 5191 │ s7783    Movie    Zozo                               Josef Fares\n",
       " 5192 │ s7784    Movie    Zubaan                             Mozez Singh\n",
       " 5193 │ s7787    Movie    ZZ TOP: THAT LITTLE OL' BAND FRO…  Sam Dunn          ⋯\n",
       "\u001b[36m                                                 9 columns and 5172 rows omitted\u001b[0m"
      ]
     },
     "execution_count": 42,
     "metadata": {},
     "output_type": "execute_result"
    }
   ],
   "source": [
    "netflix"
   ]
  },
  {
   "cell_type": "code",
   "execution_count": 47,
   "id": "6afd5d48",
   "metadata": {},
   "outputs": [
    {
     "data": {
      "text/plain": [
       "5193-element PooledArrays.PooledVector{Union{Missing, String15}, UInt32, Vector{UInt32}}:\n",
       " \"TV-MA\"\n",
       " \"R\"\n",
       " \"PG-13\"\n",
       " \"PG-13\"\n",
       " \"TV-MA\"\n",
       " \"TV-MA\"\n",
       " \"R\"\n",
       " \"TV-14\"\n",
       " \"TV-MA\"\n",
       " \"TV-MA\"\n",
       " \"TV-MA\"\n",
       " \"TV-MA\"\n",
       " \"R\"\n",
       " ⋮\n",
       " \"TV-MA\"\n",
       " \"TV-PG\"\n",
       " \"TV-PG\"\n",
       " \"TV-MA\"\n",
       " \"R\"\n",
       " \"PG\"\n",
       " \"R\"\n",
       " \"TV-MA\"\n",
       " \"PG\"\n",
       " \"TV-MA\"\n",
       " \"TV-14\"\n",
       " \"TV-MA\""
      ]
     },
     "execution_count": 47,
     "metadata": {},
     "output_type": "execute_result"
    }
   ],
   "source": [
    " # Reemplazar missing values de la columna rating con la palabra \"Sin información\"\n",
    "\n",
    "replace!(netflix.rating, missing => \"Sin información\")\n",
    "netflix[!,:rating]"
   ]
  },
  {
   "cell_type": "code",
   "execution_count": 60,
   "id": "a49e502b",
   "metadata": {},
   "outputs": [
    {
     "data": {
      "text/plain": [
       "13-element Vector{String}:\n",
       " \"show_id\"\n",
       " \"type\"\n",
       " \"title\"\n",
       " \"director\"\n",
       " \"cast\"\n",
       " \"country\"\n",
       " \"date_added\"\n",
       " \"release_year\"\n",
       " \"rating\"\n",
       " \"duration\"\n",
       " \"listed_in\"\n",
       " \"description\"\n",
       " \"new_col\""
      ]
     },
     "execution_count": 60,
     "metadata": {},
     "output_type": "execute_result"
    }
   ],
   "source": [
    "# Create new variable\n",
    "\n",
    "netflix.new_col = collect(1:size(netflix)[1]) # creat new varaible \n",
    "names(netflix)"
   ]
  },
  {
   "cell_type": "markdown",
   "id": "bb2bd262",
   "metadata": {},
   "source": [
    "### ***Filter columns and rows***"
   ]
  },
  {
   "cell_type": "code",
   "execution_count": 76,
   "id": "445bbcc7",
   "metadata": {},
   "outputs": [
    {
     "data": {
      "text/html": [
       "<div class=\"data-frame\"><p>3 rows × 2 columns</p><table class=\"data-frame\"><thead><tr><th></th><th>show_id</th><th>date_added</th></tr><tr><th></th><th title=\"String7\">String7</th><th title=\"Union{Missing, String31}\">String31?</th></tr></thead><tbody><tr><th>1</th><td>s2</td><td>December 23, 2016</td></tr><tr><th>2</th><td>s129</td><td>September 8, 2015</td></tr><tr><th>3</th><td>s400</td><td>November 20, 2020</td></tr></tbody></table></div>"
      ],
      "text/latex": [
       "\\begin{tabular}{r|cc}\n",
       "\t& show\\_id & date\\_added\\\\\n",
       "\t\\hline\n",
       "\t& String7 & String31?\\\\\n",
       "\t\\hline\n",
       "\t1 & s2 & December 23, 2016 \\\\\n",
       "\t2 & s129 & September 8, 2015 \\\\\n",
       "\t3 & s400 & November 20, 2020 \\\\\n",
       "\\end{tabular}\n"
      ],
      "text/plain": [
       "\u001b[1m3×2 DataFrame\u001b[0m\n",
       "\u001b[1m Row \u001b[0m│\u001b[1m show_id \u001b[0m\u001b[1m date_added        \u001b[0m\n",
       "\u001b[1m     \u001b[0m│\u001b[90m String7 \u001b[0m\u001b[90m String31?         \u001b[0m\n",
       "─────┼────────────────────────────\n",
       "   1 │ s2       December 23, 2016\n",
       "   2 │ s129     September 8, 2015\n",
       "   3 │ s400     November 20, 2020"
      ]
     },
     "execution_count": 76,
     "metadata": {},
     "output_type": "execute_result"
    }
   ],
   "source": [
    "# filter rows \n",
    "\n",
    "netflix[1:100,:]   # : selecciona todas las columnas\n",
    "\n",
    "netflix[210:500,:] \n",
    "\n",
    "netflix[210:end,:] \n",
    "\n",
    "# filter columns \n",
    "\n",
    "netflix[:,[:show_id,:type,:description]]\n",
    "\n",
    "netflix[1000:2000,[:show_id,:type,:description]]\n",
    "\n",
    "netflix[1000:2000,[1,7]]  ## seleccionado filas y columnas 1 y 7\n",
    "\n",
    "netflix[[1,100,300],[1,7]]  ## seleccionado filas 1, 100 y 300, asi como las columnas 1 y 7"
   ]
  },
  {
   "cell_type": "markdown",
   "id": "929ed644",
   "metadata": {},
   "source": [
    "### ***Sorting and Subsetting***"
   ]
  },
  {
   "cell_type": "code",
   "execution_count": 77,
   "id": "d62976bf",
   "metadata": {},
   "outputs": [
    {
     "data": {
      "text/html": [
       "<div class=\"data-frame\"><p>5,193 rows × 13 columns (omitted printing of 9 columns)</p><table class=\"data-frame\"><thead><tr><th></th><th>show_id</th><th>type</th><th>title</th><th>director</th></tr><tr><th></th><th title=\"String7\">String7</th><th title=\"String7\">String7</th><th title=\"String\">String</th><th title=\"String\">String</th></tr></thead><tbody><tr><th>1</th><td>s4961</td><td>Movie</td><td>Prelude to War</td><td>Frank Capra</td></tr><tr><th>2</th><td>s6118</td><td>Movie</td><td>The Battle of Midway</td><td>John Ford</td></tr><tr><th>3</th><td>s7343</td><td>Movie</td><td>Undercover: How to Operate Behind Enemy Lines</td><td>John Ford</td></tr><tr><th>4</th><td>s7617</td><td>Movie</td><td>Why We Fight: The Battle of Russia</td><td>Frank Capra, Anatole Litvak</td></tr><tr><th>5</th><td>s7680</td><td>Movie</td><td>WWII: Report from the Aleutians</td><td>John Huston</td></tr><tr><th>6</th><td>s6658</td><td>Movie</td><td>The Memphis Belle: A Story of a\\r\\nFlying Fortress</td><td>William Wyler</td></tr><tr><th>7</th><td>s6700</td><td>Movie</td><td>The Negro Soldier</td><td>Stuart Heisler</td></tr><tr><th>8</th><td>s7269</td><td>Movie</td><td>Tunisian Victory</td><td>Frank Capra, John Huston, Hugh Stewart, Roy Boulting, Anthony Veiller</td></tr><tr><th>9</th><td>s3426</td><td>Movie</td><td>Know Your Enemy - Japan</td><td>Frank Capra, Joris Ivens</td></tr><tr><th>10</th><td>s4437</td><td>Movie</td><td>Nazi Concentration Camps</td><td>George Stevens</td></tr><tr><th>11</th><td>s5372</td><td>Movie</td><td>San Pietro</td><td>John Huston</td></tr><tr><th>12</th><td>s3609</td><td>Movie</td><td>Let There Be Light</td><td>John Huston</td></tr><tr><th>13</th><td>s4867</td><td>TV Show</td><td>Pioneers of African-American Cinema</td><td>Oscar Micheaux, Spencer Williams, Richard E. Norman, Richard Maurice</td></tr><tr><th>14</th><td>s7073</td><td>Movie</td><td>Thunderbolt</td><td>William Wyler, John Sturges</td></tr><tr><th>15</th><td>s6142</td><td>Movie</td><td>The Blazing Sun</td><td>Youssef Chahine</td></tr><tr><th>16</th><td>s7596</td><td>Movie</td><td>White Christmas</td><td>Michael Curtiz</td></tr><tr><th>17</th><td>s5123</td><td>Movie</td><td>Rebel Without a Cause</td><td>Nicholas Ray</td></tr><tr><th>18</th><td>s5426</td><td>Movie</td><td>Scandal in Sorrento</td><td>Dino Risi</td></tr><tr><th>19</th><td>s6869</td><td>Movie</td><td>The Sign of Venus</td><td>Dino Risi</td></tr><tr><th>20</th><td>s1621</td><td>Movie</td><td>Dark Waters</td><td>Youssef Chahine</td></tr><tr><th>21</th><td>s2234</td><td>Movie</td><td>Forbidden Planet</td><td>Fred M. Wilcox</td></tr><tr><th>22</th><td>s1170</td><td>Movie</td><td>Cairo Station</td><td>Youssef Chahine</td></tr><tr><th>23</th><td>s1242</td><td>Movie</td><td>Cat on a Hot Tin Roof</td><td>Richard Brooks</td></tr><tr><th>24</th><td>s2411</td><td>Movie</td><td>Gigi</td><td>Vincente Minnelli, Charles Walters</td></tr><tr><th>25</th><td>s7303</td><td>Movie</td><td>Ujala</td><td>Naresh Saigal</td></tr><tr><th>26</th><td>s1153</td><td>Movie</td><td>Butterfield 8</td><td>Daniel Mann</td></tr><tr><th>27</th><td>s4564</td><td>Movie</td><td>Ocean&apos;s Eleven</td><td>Lewis Milestone</td></tr><tr><th>28</th><td>s5625</td><td>Movie</td><td>Singapore</td><td>Shakti Samanta</td></tr><tr><th>29</th><td>s3708</td><td>Movie</td><td>Lolita</td><td>Stanley Kubrick</td></tr><tr><th>30</th><td>s4301</td><td>Movie</td><td>Mutiny on the Bounty</td><td>Lewis Milestone, Carol Reed</td></tr><tr><th>&vellip;</th><td>&vellip;</td><td>&vellip;</td><td>&vellip;</td><td>&vellip;</td></tr></tbody></table></div>"
      ],
      "text/latex": [
       "\\begin{tabular}{r|ccccc}\n",
       "\t& show\\_id & type & title & director & \\\\\n",
       "\t\\hline\n",
       "\t& String7 & String7 & String & String & \\\\\n",
       "\t\\hline\n",
       "\t1 & s4961 & Movie & Prelude to War & Frank Capra & $\\dots$ \\\\\n",
       "\t2 & s6118 & Movie & The Battle of Midway & John Ford & $\\dots$ \\\\\n",
       "\t3 & s7343 & Movie & Undercover: How to Operate Behind Enemy Lines & John Ford & $\\dots$ \\\\\n",
       "\t4 & s7617 & Movie & Why We Fight: The Battle of Russia & Frank Capra, Anatole Litvak & $\\dots$ \\\\\n",
       "\t5 & s7680 & Movie & WWII: Report from the Aleutians & John Huston & $\\dots$ \\\\\n",
       "\t6 & s6658 & Movie & The Memphis Belle: A Story of a\\textbackslash{}r\\textbackslash{}nFlying Fortress & William Wyler & $\\dots$ \\\\\n",
       "\t7 & s6700 & Movie & The Negro Soldier & Stuart Heisler & $\\dots$ \\\\\n",
       "\t8 & s7269 & Movie & Tunisian Victory & Frank Capra, John Huston, Hugh Stewart, Roy Boulting, Anthony Veiller & $\\dots$ \\\\\n",
       "\t9 & s3426 & Movie & Know Your Enemy - Japan & Frank Capra, Joris Ivens & $\\dots$ \\\\\n",
       "\t10 & s4437 & Movie & Nazi Concentration Camps & George Stevens & $\\dots$ \\\\\n",
       "\t11 & s5372 & Movie & San Pietro & John Huston & $\\dots$ \\\\\n",
       "\t12 & s3609 & Movie & Let There Be Light & John Huston & $\\dots$ \\\\\n",
       "\t13 & s4867 & TV Show & Pioneers of African-American Cinema & Oscar Micheaux, Spencer Williams, Richard E. Norman, Richard Maurice & $\\dots$ \\\\\n",
       "\t14 & s7073 & Movie & Thunderbolt & William Wyler, John Sturges & $\\dots$ \\\\\n",
       "\t15 & s6142 & Movie & The Blazing Sun & Youssef Chahine & $\\dots$ \\\\\n",
       "\t16 & s7596 & Movie & White Christmas & Michael Curtiz & $\\dots$ \\\\\n",
       "\t17 & s5123 & Movie & Rebel Without a Cause & Nicholas Ray & $\\dots$ \\\\\n",
       "\t18 & s5426 & Movie & Scandal in Sorrento & Dino Risi & $\\dots$ \\\\\n",
       "\t19 & s6869 & Movie & The Sign of Venus & Dino Risi & $\\dots$ \\\\\n",
       "\t20 & s1621 & Movie & Dark Waters & Youssef Chahine & $\\dots$ \\\\\n",
       "\t21 & s2234 & Movie & Forbidden Planet & Fred M. Wilcox & $\\dots$ \\\\\n",
       "\t22 & s1170 & Movie & Cairo Station & Youssef Chahine & $\\dots$ \\\\\n",
       "\t23 & s1242 & Movie & Cat on a Hot Tin Roof & Richard Brooks & $\\dots$ \\\\\n",
       "\t24 & s2411 & Movie & Gigi & Vincente Minnelli, Charles Walters & $\\dots$ \\\\\n",
       "\t25 & s7303 & Movie & Ujala & Naresh Saigal & $\\dots$ \\\\\n",
       "\t26 & s1153 & Movie & Butterfield 8 & Daniel Mann & $\\dots$ \\\\\n",
       "\t27 & s4564 & Movie & Ocean's Eleven & Lewis Milestone & $\\dots$ \\\\\n",
       "\t28 & s5625 & Movie & Singapore & Shakti Samanta & $\\dots$ \\\\\n",
       "\t29 & s3708 & Movie & Lolita & Stanley Kubrick & $\\dots$ \\\\\n",
       "\t30 & s4301 & Movie & Mutiny on the Bounty & Lewis Milestone, Carol Reed & $\\dots$ \\\\\n",
       "\t$\\dots$ & $\\dots$ & $\\dots$ & $\\dots$ & $\\dots$ &  \\\\\n",
       "\\end{tabular}\n"
      ],
      "text/plain": [
       "\u001b[1m5193×13 DataFrame\u001b[0m\n",
       "\u001b[1m  Row \u001b[0m│\u001b[1m show_id \u001b[0m\u001b[1m type    \u001b[0m\u001b[1m title                             \u001b[0m\u001b[1m director         \u001b[0m ⋯\n",
       "\u001b[1m      \u001b[0m│\u001b[90m String7 \u001b[0m\u001b[90m String7 \u001b[0m\u001b[90m String                            \u001b[0m\u001b[90m String           \u001b[0m ⋯\n",
       "──────┼─────────────────────────────────────────────────────────────────────────\n",
       "    1 │ s4961    Movie    Prelude to War                     Frank Capra       ⋯\n",
       "    2 │ s6118    Movie    The Battle of Midway               John Ford\n",
       "    3 │ s7343    Movie    Undercover: How to Operate Behin…  John Ford\n",
       "    4 │ s7617    Movie    Why We Fight: The Battle of Russ…  Frank Capra, Anat\n",
       "    5 │ s7680    Movie    WWII: Report from the Aleutians    John Huston       ⋯\n",
       "    6 │ s6658    Movie    The Memphis Belle: A Story of a\\…  William Wyler\n",
       "    7 │ s6700    Movie    The Negro Soldier                  Stuart Heisler\n",
       "    8 │ s7269    Movie    Tunisian Victory                   Frank Capra, John\n",
       "    9 │ s3426    Movie    Know Your Enemy - Japan            Frank Capra, Jori ⋯\n",
       "   10 │ s4437    Movie    Nazi Concentration Camps           George Stevens\n",
       "   11 │ s5372    Movie    San Pietro                         John Huston\n",
       "  ⋮   │    ⋮        ⋮                     ⋮                                  ⋮ ⋱\n",
       " 5184 │ s7711    Movie    Yes, God, Yes                      Karen Maine\n",
       " 5185 │ s7723    Movie    You Are My Home                    Amanda Raymond    ⋯\n",
       " 5186 │ s7735    Movie    You've Got This                    Salvador Espinosa\n",
       " 5187 │ s7742    Movie    Your Name Engraved Herein          Liu Kuang-hui\n",
       " 5188 │ s7745    Movie    Yours Sincerely, Kanan Gill        Neville Shah\n",
       " 5189 │ s1286    Movie    Charming                           Ross Venokur      ⋯\n",
       " 5190 │ s1515    Movie    Crack: Cocaine, Corruption & Con…  Stanley Nelson\n",
       " 5191 │ s6478    TV Show  The Idhun Chronicles               Maite Ruiz De Aus\n",
       " 5192 │ s7552    Movie    What Happened to Mr. Cha?          Kim Dong-kyu\n",
       " 5193 │ s7570    Movie    What Would Sophia Loren Do?        Ross Kauffman     ⋯\n",
       "\u001b[36m                                                10 columns and 5172 rows omitted\u001b[0m"
      ]
     },
     "execution_count": 77,
     "metadata": {},
     "output_type": "execute_result"
    }
   ],
   "source": [
    "sort(netflix, [:release_year, :new_col ]) # ordenamiento ascendente"
   ]
  },
  {
   "cell_type": "code",
   "execution_count": 79,
   "id": "af952a70",
   "metadata": {},
   "outputs": [
    {
     "data": {
      "text/html": [
       "<div class=\"data-frame\"><p>5,193 rows × 13 columns (omitted printing of 9 columns)</p><table class=\"data-frame\"><thead><tr><th></th><th>show_id</th><th>type</th><th>title</th><th>director</th></tr><tr><th></th><th title=\"String7\">String7</th><th title=\"String7\">String7</th><th title=\"String\">String</th><th title=\"String\">String</th></tr></thead><tbody><tr><th>1</th><td>s4961</td><td>Movie</td><td>Prelude to War</td><td>Frank Capra</td></tr><tr><th>2</th><td>s6118</td><td>Movie</td><td>The Battle of Midway</td><td>John Ford</td></tr><tr><th>3</th><td>s7343</td><td>Movie</td><td>Undercover: How to Operate Behind Enemy Lines</td><td>John Ford</td></tr><tr><th>4</th><td>s7617</td><td>Movie</td><td>Why We Fight: The Battle of Russia</td><td>Frank Capra, Anatole Litvak</td></tr><tr><th>5</th><td>s7680</td><td>Movie</td><td>WWII: Report from the Aleutians</td><td>John Huston</td></tr><tr><th>6</th><td>s6658</td><td>Movie</td><td>The Memphis Belle: A Story of a\\r\\nFlying Fortress</td><td>William Wyler</td></tr><tr><th>7</th><td>s6700</td><td>Movie</td><td>The Negro Soldier</td><td>Stuart Heisler</td></tr><tr><th>8</th><td>s7269</td><td>Movie</td><td>Tunisian Victory</td><td>Frank Capra, John Huston, Hugh Stewart, Roy Boulting, Anthony Veiller</td></tr><tr><th>9</th><td>s3426</td><td>Movie</td><td>Know Your Enemy - Japan</td><td>Frank Capra, Joris Ivens</td></tr><tr><th>10</th><td>s4437</td><td>Movie</td><td>Nazi Concentration Camps</td><td>George Stevens</td></tr><tr><th>11</th><td>s5372</td><td>Movie</td><td>San Pietro</td><td>John Huston</td></tr><tr><th>12</th><td>s3609</td><td>Movie</td><td>Let There Be Light</td><td>John Huston</td></tr><tr><th>13</th><td>s4867</td><td>TV Show</td><td>Pioneers of African-American Cinema</td><td>Oscar Micheaux, Spencer Williams, Richard E. Norman, Richard Maurice</td></tr><tr><th>14</th><td>s7073</td><td>Movie</td><td>Thunderbolt</td><td>William Wyler, John Sturges</td></tr><tr><th>15</th><td>s6142</td><td>Movie</td><td>The Blazing Sun</td><td>Youssef Chahine</td></tr><tr><th>16</th><td>s7596</td><td>Movie</td><td>White Christmas</td><td>Michael Curtiz</td></tr><tr><th>17</th><td>s5123</td><td>Movie</td><td>Rebel Without a Cause</td><td>Nicholas Ray</td></tr><tr><th>18</th><td>s5426</td><td>Movie</td><td>Scandal in Sorrento</td><td>Dino Risi</td></tr><tr><th>19</th><td>s6869</td><td>Movie</td><td>The Sign of Venus</td><td>Dino Risi</td></tr><tr><th>20</th><td>s1621</td><td>Movie</td><td>Dark Waters</td><td>Youssef Chahine</td></tr><tr><th>21</th><td>s2234</td><td>Movie</td><td>Forbidden Planet</td><td>Fred M. Wilcox</td></tr><tr><th>22</th><td>s1170</td><td>Movie</td><td>Cairo Station</td><td>Youssef Chahine</td></tr><tr><th>23</th><td>s1242</td><td>Movie</td><td>Cat on a Hot Tin Roof</td><td>Richard Brooks</td></tr><tr><th>24</th><td>s2411</td><td>Movie</td><td>Gigi</td><td>Vincente Minnelli, Charles Walters</td></tr><tr><th>25</th><td>s7303</td><td>Movie</td><td>Ujala</td><td>Naresh Saigal</td></tr><tr><th>26</th><td>s1153</td><td>Movie</td><td>Butterfield 8</td><td>Daniel Mann</td></tr><tr><th>27</th><td>s4564</td><td>Movie</td><td>Ocean&apos;s Eleven</td><td>Lewis Milestone</td></tr><tr><th>28</th><td>s5625</td><td>Movie</td><td>Singapore</td><td>Shakti Samanta</td></tr><tr><th>29</th><td>s3708</td><td>Movie</td><td>Lolita</td><td>Stanley Kubrick</td></tr><tr><th>30</th><td>s4301</td><td>Movie</td><td>Mutiny on the Bounty</td><td>Lewis Milestone, Carol Reed</td></tr><tr><th>&vellip;</th><td>&vellip;</td><td>&vellip;</td><td>&vellip;</td><td>&vellip;</td></tr></tbody></table></div>"
      ],
      "text/latex": [
       "\\begin{tabular}{r|ccccc}\n",
       "\t& show\\_id & type & title & director & \\\\\n",
       "\t\\hline\n",
       "\t& String7 & String7 & String & String & \\\\\n",
       "\t\\hline\n",
       "\t1 & s4961 & Movie & Prelude to War & Frank Capra & $\\dots$ \\\\\n",
       "\t2 & s6118 & Movie & The Battle of Midway & John Ford & $\\dots$ \\\\\n",
       "\t3 & s7343 & Movie & Undercover: How to Operate Behind Enemy Lines & John Ford & $\\dots$ \\\\\n",
       "\t4 & s7617 & Movie & Why We Fight: The Battle of Russia & Frank Capra, Anatole Litvak & $\\dots$ \\\\\n",
       "\t5 & s7680 & Movie & WWII: Report from the Aleutians & John Huston & $\\dots$ \\\\\n",
       "\t6 & s6658 & Movie & The Memphis Belle: A Story of a\\textbackslash{}r\\textbackslash{}nFlying Fortress & William Wyler & $\\dots$ \\\\\n",
       "\t7 & s6700 & Movie & The Negro Soldier & Stuart Heisler & $\\dots$ \\\\\n",
       "\t8 & s7269 & Movie & Tunisian Victory & Frank Capra, John Huston, Hugh Stewart, Roy Boulting, Anthony Veiller & $\\dots$ \\\\\n",
       "\t9 & s3426 & Movie & Know Your Enemy - Japan & Frank Capra, Joris Ivens & $\\dots$ \\\\\n",
       "\t10 & s4437 & Movie & Nazi Concentration Camps & George Stevens & $\\dots$ \\\\\n",
       "\t11 & s5372 & Movie & San Pietro & John Huston & $\\dots$ \\\\\n",
       "\t12 & s3609 & Movie & Let There Be Light & John Huston & $\\dots$ \\\\\n",
       "\t13 & s4867 & TV Show & Pioneers of African-American Cinema & Oscar Micheaux, Spencer Williams, Richard E. Norman, Richard Maurice & $\\dots$ \\\\\n",
       "\t14 & s7073 & Movie & Thunderbolt & William Wyler, John Sturges & $\\dots$ \\\\\n",
       "\t15 & s6142 & Movie & The Blazing Sun & Youssef Chahine & $\\dots$ \\\\\n",
       "\t16 & s7596 & Movie & White Christmas & Michael Curtiz & $\\dots$ \\\\\n",
       "\t17 & s5123 & Movie & Rebel Without a Cause & Nicholas Ray & $\\dots$ \\\\\n",
       "\t18 & s5426 & Movie & Scandal in Sorrento & Dino Risi & $\\dots$ \\\\\n",
       "\t19 & s6869 & Movie & The Sign of Venus & Dino Risi & $\\dots$ \\\\\n",
       "\t20 & s1621 & Movie & Dark Waters & Youssef Chahine & $\\dots$ \\\\\n",
       "\t21 & s2234 & Movie & Forbidden Planet & Fred M. Wilcox & $\\dots$ \\\\\n",
       "\t22 & s1170 & Movie & Cairo Station & Youssef Chahine & $\\dots$ \\\\\n",
       "\t23 & s1242 & Movie & Cat on a Hot Tin Roof & Richard Brooks & $\\dots$ \\\\\n",
       "\t24 & s2411 & Movie & Gigi & Vincente Minnelli, Charles Walters & $\\dots$ \\\\\n",
       "\t25 & s7303 & Movie & Ujala & Naresh Saigal & $\\dots$ \\\\\n",
       "\t26 & s1153 & Movie & Butterfield 8 & Daniel Mann & $\\dots$ \\\\\n",
       "\t27 & s4564 & Movie & Ocean's Eleven & Lewis Milestone & $\\dots$ \\\\\n",
       "\t28 & s5625 & Movie & Singapore & Shakti Samanta & $\\dots$ \\\\\n",
       "\t29 & s3708 & Movie & Lolita & Stanley Kubrick & $\\dots$ \\\\\n",
       "\t30 & s4301 & Movie & Mutiny on the Bounty & Lewis Milestone, Carol Reed & $\\dots$ \\\\\n",
       "\t$\\dots$ & $\\dots$ & $\\dots$ & $\\dots$ & $\\dots$ &  \\\\\n",
       "\\end{tabular}\n"
      ],
      "text/plain": [
       "\u001b[1m5193×13 DataFrame\u001b[0m\n",
       "\u001b[1m  Row \u001b[0m│\u001b[1m show_id \u001b[0m\u001b[1m type    \u001b[0m\u001b[1m title                             \u001b[0m\u001b[1m director         \u001b[0m ⋯\n",
       "\u001b[1m      \u001b[0m│\u001b[90m String7 \u001b[0m\u001b[90m String7 \u001b[0m\u001b[90m String                            \u001b[0m\u001b[90m String           \u001b[0m ⋯\n",
       "──────┼─────────────────────────────────────────────────────────────────────────\n",
       "    1 │ s4961    Movie    Prelude to War                     Frank Capra       ⋯\n",
       "    2 │ s6118    Movie    The Battle of Midway               John Ford\n",
       "    3 │ s7343    Movie    Undercover: How to Operate Behin…  John Ford\n",
       "    4 │ s7617    Movie    Why We Fight: The Battle of Russ…  Frank Capra, Anat\n",
       "    5 │ s7680    Movie    WWII: Report from the Aleutians    John Huston       ⋯\n",
       "    6 │ s6658    Movie    The Memphis Belle: A Story of a\\…  William Wyler\n",
       "    7 │ s6700    Movie    The Negro Soldier                  Stuart Heisler\n",
       "    8 │ s7269    Movie    Tunisian Victory                   Frank Capra, John\n",
       "    9 │ s3426    Movie    Know Your Enemy - Japan            Frank Capra, Jori ⋯\n",
       "   10 │ s4437    Movie    Nazi Concentration Camps           George Stevens\n",
       "   11 │ s5372    Movie    San Pietro                         John Huston\n",
       "  ⋮   │    ⋮        ⋮                     ⋮                                  ⋮ ⋱\n",
       " 5184 │ s7711    Movie    Yes, God, Yes                      Karen Maine\n",
       " 5185 │ s7723    Movie    You Are My Home                    Amanda Raymond    ⋯\n",
       " 5186 │ s7735    Movie    You've Got This                    Salvador Espinosa\n",
       " 5187 │ s7742    Movie    Your Name Engraved Herein          Liu Kuang-hui\n",
       " 5188 │ s7745    Movie    Yours Sincerely, Kanan Gill        Neville Shah\n",
       " 5189 │ s1286    Movie    Charming                           Ross Venokur      ⋯\n",
       " 5190 │ s1515    Movie    Crack: Cocaine, Corruption & Con…  Stanley Nelson\n",
       " 5191 │ s6478    TV Show  The Idhun Chronicles               Maite Ruiz De Aus\n",
       " 5192 │ s7552    Movie    What Happened to Mr. Cha?          Kim Dong-kyu\n",
       " 5193 │ s7570    Movie    What Would Sophia Loren Do?        Ross Kauffman     ⋯\n",
       "\u001b[36m                                                10 columns and 5172 rows omitted\u001b[0m"
      ]
     },
     "execution_count": 79,
     "metadata": {},
     "output_type": "execute_result"
    }
   ],
   "source": [
    "sort!(netflix, [:release_year, :new_col ]) # ordenamiento y guardar \"!\""
   ]
  },
  {
   "cell_type": "code",
   "execution_count": 80,
   "id": "a7da48d9",
   "metadata": {},
   "outputs": [
    {
     "data": {
      "text/plain": [
       "5193-element Vector{Int64}:\n",
       " 1942\n",
       " 1942\n",
       " 1943\n",
       " 1943\n",
       " 1943\n",
       " 1944\n",
       " 1944\n",
       " 1944\n",
       " 1945\n",
       " 1945\n",
       " 1945\n",
       " 1946\n",
       " 1946\n",
       "    ⋮\n",
       " 2020\n",
       " 2020\n",
       " 2020\n",
       " 2020\n",
       " 2020\n",
       " 2020\n",
       " 2020\n",
       " 2021\n",
       " 2021\n",
       " 2021\n",
       " 2021\n",
       " 2021"
      ]
     },
     "execution_count": 80,
     "metadata": {},
     "output_type": "execute_result"
    }
   ],
   "source": [
    "netflix.release_year"
   ]
  },
  {
   "cell_type": "code",
   "execution_count": 81,
   "id": "95a2de9d",
   "metadata": {},
   "outputs": [
    {
     "data": {
      "text/plain": [
       "5193-element Vector{Int64}:\n",
       " 2021\n",
       " 2021\n",
       " 2021\n",
       " 2021\n",
       " 2021\n",
       " 2020\n",
       " 2020\n",
       " 2020\n",
       " 2020\n",
       " 2020\n",
       " 2020\n",
       " 2020\n",
       " 2020\n",
       "    ⋮\n",
       " 1946\n",
       " 1945\n",
       " 1945\n",
       " 1945\n",
       " 1944\n",
       " 1944\n",
       " 1944\n",
       " 1943\n",
       " 1943\n",
       " 1943\n",
       " 1942\n",
       " 1942"
      ]
     },
     "execution_count": 81,
     "metadata": {},
     "output_type": "execute_result"
    }
   ],
   "source": [
    "sort!(netflix, [:release_year, :new_col], rev=[true, false])  # release_year descendente y new_col ascendente\n",
    "\n",
    "netflix.release_year"
   ]
  },
  {
   "cell_type": "markdown",
   "id": "2c84d478",
   "metadata": {},
   "source": [
    "### ***Subsetting columns***"
   ]
  },
  {
   "cell_type": "code",
   "execution_count": 83,
   "id": "973c8110",
   "metadata": {},
   "outputs": [
    {
     "data": {
      "text/html": [
       "<div class=\"data-frame\"><p>10 rows × 2 columns</p><table class=\"data-frame\"><thead><tr><th></th><th>director</th><th>cast</th></tr><tr><th></th><th title=\"String\">String</th><th title=\"Union{Missing, String}\">String?</th></tr></thead><tbody><tr><th>1</th><td>Ross Venokur</td><td>Wilmer Valderrama, Demi Lovato, Sia, Nia Vardalos, Ashley Tisdale, Avril Lavigne, G.E.M., John Cleese, Chris Harrison, Dee Bradley Baker, Carlos Alazraqui</td></tr><tr><th>2</th><td>Stanley Nelson</td><td><em>missing</em></td></tr><tr><th>3</th><td>Maite Ruiz De Austri</td><td>Michelle Jenner, Itzan Escamilla, Sergio Mur, Nico Romero, Carlos Cuevas</td></tr><tr><th>4</th><td>Kim Dong-kyu</td><td>Cha In-pyo, Cho Dal-hwan, Song Jae-ryong</td></tr><tr><th>5</th><td>Ross Kauffman</td><td>Nancy &quot;Vincenza Careri&quot; Kulik, Sophia Loren</td></tr><tr><th>6</th><td>Cho Il</td><td>Yoo Ah-in, Park Shin-hye</td></tr><tr><th>7</th><td>Michael Margolis</td><td><em>missing</em></td></tr><tr><th>8</th><td>Rako Prijanto</td><td>Adipati Dolken, Mawar de Jongh, Sari Nila, Vonny Cornellya, Clay Gribble, Ivan Leonardy, Sarah Sechan, Jourdy Pranata</td></tr><tr><th>9</th><td>Kenneth Gyang</td><td>Beverly Osu, Sharon Ooja, Omowunmi Dada, Pearl Okorie, Wofai Samuel, Ikechukwu Onunaku, Kemi Lala Akindoju, Blossom Chukwujekwu, Adebukola Oladipupo, Omoni Oboli, Segun Arinze, Ada Ameh, Sambasa Nzeribe, Patrick Doyle, Gregory Ojefua</td></tr><tr><th>10</th><td>Jastis Arimba</td><td>Anisa Rahma, Ariyo Wahab, Anandito Dwis, Fitria Rasyidi, Arafah Rianti, Kinaryosih</td></tr></tbody></table></div>"
      ],
      "text/latex": [
       "\\begin{tabular}{r|cc}\n",
       "\t& director & cast\\\\\n",
       "\t\\hline\n",
       "\t& String & String?\\\\\n",
       "\t\\hline\n",
       "\t1 & Ross Venokur & Wilmer Valderrama, Demi Lovato, Sia, Nia Vardalos, Ashley Tisdale, Avril Lavigne, G.E.M., John Cleese, Chris Harrison, Dee Bradley Baker, Carlos Alazraqui \\\\\n",
       "\t2 & Stanley Nelson & \\emph{missing} \\\\\n",
       "\t3 & Maite Ruiz De Austri & Michelle Jenner, Itzan Escamilla, Sergio Mur, Nico Romero, Carlos Cuevas \\\\\n",
       "\t4 & Kim Dong-kyu & Cha In-pyo, Cho Dal-hwan, Song Jae-ryong \\\\\n",
       "\t5 & Ross Kauffman & Nancy \"Vincenza Careri\" Kulik, Sophia Loren \\\\\n",
       "\t6 & Cho Il & Yoo Ah-in, Park Shin-hye \\\\\n",
       "\t7 & Michael Margolis & \\emph{missing} \\\\\n",
       "\t8 & Rako Prijanto & Adipati Dolken, Mawar de Jongh, Sari Nila, Vonny Cornellya, Clay Gribble, Ivan Leonardy, Sarah Sechan, Jourdy Pranata \\\\\n",
       "\t9 & Kenneth Gyang & Beverly Osu, Sharon Ooja, Omowunmi Dada, Pearl Okorie, Wofai Samuel, Ikechukwu Onunaku, Kemi Lala Akindoju, Blossom Chukwujekwu, Adebukola Oladipupo, Omoni Oboli, Segun Arinze, Ada Ameh, Sambasa Nzeribe, Patrick Doyle, Gregory Ojefua \\\\\n",
       "\t10 & Jastis Arimba & Anisa Rahma, Ariyo Wahab, Anandito Dwis, Fitria Rasyidi, Arafah Rianti, Kinaryosih \\\\\n",
       "\\end{tabular}\n"
      ],
      "text/plain": [
       "\u001b[1m10×2 DataFrame\u001b[0m\n",
       "\u001b[1m Row \u001b[0m│\u001b[1m director             \u001b[0m\u001b[1m cast                              \u001b[0m\n",
       "\u001b[1m     \u001b[0m│\u001b[90m String               \u001b[0m\u001b[90m String?                           \u001b[0m\n",
       "─────┼─────────────────────────────────────────────────────────\n",
       "   1 │ Ross Venokur          Wilmer Valderrama, Demi Lovato, …\n",
       "   2 │ Stanley Nelson       \u001b[90m missing                           \u001b[0m\n",
       "   3 │ Maite Ruiz De Austri  Michelle Jenner, Itzan Escamilla…\n",
       "   4 │ Kim Dong-kyu          Cha In-pyo, Cho Dal-hwan, Song J…\n",
       "   5 │ Ross Kauffman         Nancy \"Vincenza Careri\" Kulik, S…\n",
       "   6 │ Cho Il                Yoo Ah-in, Park Shin-hye\n",
       "   7 │ Michael Margolis     \u001b[90m missing                           \u001b[0m\n",
       "   8 │ Rako Prijanto         Adipati Dolken, Mawar de Jongh, …\n",
       "   9 │ Kenneth Gyang         Beverly Osu, Sharon Ooja, Omowun…\n",
       "  10 │ Jastis Arimba         Anisa Rahma, Ariyo Wahab, Anandi…"
      ]
     },
     "execution_count": 83,
     "metadata": {},
     "output_type": "execute_result"
    }
   ],
   "source": [
    "first(netflix[!,[:director,:cast]], 10)"
   ]
  },
  {
   "cell_type": "code",
   "execution_count": 99,
   "id": "41569069",
   "metadata": {},
   "outputs": [
    {
     "data": {
      "text/html": [
       "<div class=\"data-frame\"><p>5,193 rows × 3 columns (omitted printing of 1 columns)</p><table class=\"data-frame\"><thead><tr><th></th><th>director</th><th>country</th></tr><tr><th></th><th title=\"String\">String</th><th title=\"String\">String</th></tr></thead><tbody><tr><th>1</th><td>Ross Venokur</td><td>Canada, United States, Cayman Islands</td></tr><tr><th>2</th><td>Stanley Nelson</td><td>United States</td></tr><tr><th>3</th><td>Maite Ruiz De Austri</td><td>Spain</td></tr><tr><th>4</th><td>Kim Dong-kyu</td><td>South Korea</td></tr><tr><th>5</th><td>Ross Kauffman</td><td>United States</td></tr><tr><th>6</th><td>Cho Il</td><td>South Korea</td></tr><tr><th>7</th><td>Michael Margolis</td><td>Canada</td></tr><tr><th>8</th><td>Rako Prijanto</td><td>Indonesia</td></tr><tr><th>9</th><td>Kenneth Gyang</td><td>Nigeria</td></tr><tr><th>10</th><td>Jastis Arimba</td><td>Indonesia</td></tr><tr><th>11</th><td>Francesco Amato</td><td>Italy</td></tr><tr><th>12</th><td>Barbara Białowąs, Tomasz Mandes</td><td>Poland</td></tr><tr><th>13</th><td>Hikari</td><td>Japan</td></tr><tr><th>14</th><td>Rachel Talalay</td><td>United States</td></tr><tr><th>15</th><td>Shaun Paul Piccinino</td><td>United States</td></tr><tr><th>16</th><td>Kevin Ko, Peter Tsi</td><td>Taiwan</td></tr><tr><th>17</th><td>Tyler Perry</td><td>United States</td></tr><tr><th>18</th><td>Stanley Moore, Alex Woo</td><td>United States</td></tr><tr><th>19</th><td>Francisco Macri</td><td>Argentina</td></tr><tr><th>20</th><td>Sophia Nahli Allison</td><td>United States</td></tr><tr><th>21</th><td>Otoja Abit</td><td>United States</td></tr><tr><th>22</th><td>Carla Barros</td><td>Brazil</td></tr><tr><th>23</th><td>Chris Bolan</td><td>United States</td></tr><tr><th>24</th><td>Richard Phelan, Will Becher</td><td>United Kingdom, France, Belgium, United States, China</td></tr><tr><th>25</th><td>Ravishankar Venkateswaran</td><td>India</td></tr><tr><th>26</th><td>Junichi Sato, Tomotaka Shibayama</td><td>Japan</td></tr><tr><th>27</th><td>Salvador Calvo</td><td>Spain</td></tr><tr><th>28</th><td>Junior Carelli, Rudge Campos</td><td>Brazil</td></tr><tr><th>29</th><td>Roger Kumble</td><td>United States</td></tr><tr><th>30</th><td>Takeshi Fukunaga</td><td>United States, Japan</td></tr><tr><th>&vellip;</th><td>&vellip;</td><td>&vellip;</td></tr></tbody></table></div>"
      ],
      "text/latex": [
       "\\begin{tabular}{r|ccc}\n",
       "\t& director & country & \\\\\n",
       "\t\\hline\n",
       "\t& String & String & \\\\\n",
       "\t\\hline\n",
       "\t1 & Ross Venokur & Canada, United States, Cayman Islands & $\\dots$ \\\\\n",
       "\t2 & Stanley Nelson & United States & $\\dots$ \\\\\n",
       "\t3 & Maite Ruiz De Austri & Spain & $\\dots$ \\\\\n",
       "\t4 & Kim Dong-kyu & South Korea & $\\dots$ \\\\\n",
       "\t5 & Ross Kauffman & United States & $\\dots$ \\\\\n",
       "\t6 & Cho Il & South Korea & $\\dots$ \\\\\n",
       "\t7 & Michael Margolis & Canada & $\\dots$ \\\\\n",
       "\t8 & Rako Prijanto & Indonesia & $\\dots$ \\\\\n",
       "\t9 & Kenneth Gyang & Nigeria & $\\dots$ \\\\\n",
       "\t10 & Jastis Arimba & Indonesia & $\\dots$ \\\\\n",
       "\t11 & Francesco Amato & Italy & $\\dots$ \\\\\n",
       "\t12 & Barbara Białowąs, Tomasz Mandes & Poland & $\\dots$ \\\\\n",
       "\t13 & Hikari & Japan & $\\dots$ \\\\\n",
       "\t14 & Rachel Talalay & United States & $\\dots$ \\\\\n",
       "\t15 & Shaun Paul Piccinino & United States & $\\dots$ \\\\\n",
       "\t16 & Kevin Ko, Peter Tsi & Taiwan & $\\dots$ \\\\\n",
       "\t17 & Tyler Perry & United States & $\\dots$ \\\\\n",
       "\t18 & Stanley Moore, Alex Woo & United States & $\\dots$ \\\\\n",
       "\t19 & Francisco Macri & Argentina & $\\dots$ \\\\\n",
       "\t20 & Sophia Nahli Allison & United States & $\\dots$ \\\\\n",
       "\t21 & Otoja Abit & United States & $\\dots$ \\\\\n",
       "\t22 & Carla Barros & Brazil & $\\dots$ \\\\\n",
       "\t23 & Chris Bolan & United States & $\\dots$ \\\\\n",
       "\t24 & Richard Phelan, Will Becher & United Kingdom, France, Belgium, United States, China & $\\dots$ \\\\\n",
       "\t25 & Ravishankar Venkateswaran & India & $\\dots$ \\\\\n",
       "\t26 & Junichi Sato, Tomotaka Shibayama & Japan & $\\dots$ \\\\\n",
       "\t27 & Salvador Calvo & Spain & $\\dots$ \\\\\n",
       "\t28 & Junior Carelli, Rudge Campos & Brazil & $\\dots$ \\\\\n",
       "\t29 & Roger Kumble & United States & $\\dots$ \\\\\n",
       "\t30 & Takeshi Fukunaga & United States, Japan & $\\dots$ \\\\\n",
       "\t$\\dots$ & $\\dots$ & $\\dots$ &  \\\\\n",
       "\\end{tabular}\n"
      ],
      "text/plain": [
       "\u001b[1m5193×3 DataFrame\u001b[0m\n",
       "\u001b[1m  Row \u001b[0m│\u001b[1m director                          \u001b[0m\u001b[1m country                           \u001b[0m\u001b[1m \u001b[0m ⋯\n",
       "\u001b[1m      \u001b[0m│\u001b[90m String                            \u001b[0m\u001b[90m String                            \u001b[0m\u001b[90m \u001b[0m ⋯\n",
       "──────┼─────────────────────────────────────────────────────────────────────────\n",
       "    1 │ Ross Venokur                       Canada, United States, Cayman Is…   ⋯\n",
       "    2 │ Stanley Nelson                     United States\n",
       "    3 │ Maite Ruiz De Austri               Spain\n",
       "    4 │ Kim Dong-kyu                       South Korea\n",
       "    5 │ Ross Kauffman                      United States                       ⋯\n",
       "    6 │ Cho Il                             South Korea\n",
       "    7 │ Michael Margolis                   Canada\n",
       "    8 │ Rako Prijanto                      Indonesia\n",
       "    9 │ Kenneth Gyang                      Nigeria                             ⋯\n",
       "   10 │ Jastis Arimba                      Indonesia\n",
       "   11 │ Francesco Amato                    Italy\n",
       "  ⋮   │                 ⋮                                  ⋮                   ⋱\n",
       " 5184 │ George Stevens                     United States\n",
       " 5185 │ John Huston                        United States                       ⋯\n",
       " 5186 │ William Wyler                      United States\n",
       " 5187 │ Stuart Heisler                     United States\n",
       " 5188 │ Frank Capra, John Huston, Hugh S…  United States, United Kingdom\n",
       " 5189 │ John Ford                          United States                       ⋯\n",
       " 5190 │ Frank Capra, Anatole Litvak        United States\n",
       " 5191 │ John Huston                        United States\n",
       " 5192 │ Frank Capra                        United States\n",
       " 5193 │ John Ford                          United States                       ⋯\n",
       "\u001b[36m                                                  1 column and 5172 rows omitted\u001b[0m"
      ]
     },
     "execution_count": 99,
     "metadata": {},
     "output_type": "execute_result"
    }
   ],
   "source": [
    "netflix2 = select(netflix, [\"director\",\"country\",\"type\"])"
   ]
  },
  {
   "cell_type": "markdown",
   "id": "f5aa06b7",
   "metadata": {},
   "source": [
    "### ***Subsetting rows***"
   ]
  },
  {
   "cell_type": "code",
   "execution_count": 86,
   "id": "05832518",
   "metadata": {},
   "outputs": [
    {
     "data": {
      "text/html": [
       "<div class=\"data-frame\"><p>10 rows × 13 columns (omitted printing of 8 columns)</p><table class=\"data-frame\"><thead><tr><th></th><th>show_id</th><th>type</th><th>title</th><th>director</th><th>cast</th></tr><tr><th></th><th title=\"String7\">String7</th><th title=\"String7\">String7</th><th title=\"String\">String</th><th title=\"String\">String</th><th title=\"Union{Missing, String}\">String?</th></tr></thead><tbody><tr><th>1</th><td>s43</td><td>Movie</td><td>Çok Filim Hareketler Bunlar</td><td>Ozan Açıktan</td><td>Ayça Erturan, Aydan Taş, Ayşegül Akdemir, Burcu Gönder, Bülent Emrah Parlak, Büşra Pekin, Emre Canpolat, Ersin Korkut, Eser Yenenler, Gizem Tuğral, Gülhan Tekin, Gülsüm Alkan, Hamdi Kahraman, İbrahim Büyükak, Metin Keçeci</td></tr><tr><th>2</th><td>s69</td><td>Movie</td><td>14 Blades</td><td>Daniel Lee</td><td>Donnie Yen, Zhao Wei, Wu Chun, Law Kar-Ying, Kate Tsui, Yuwu Qi, Wu Ma, Chen Kuan Tai, Sammo Kam-Bo Hung, Chen Zhi Hui, Damian Lau, Xiang Dong Xu</td></tr><tr><th>3</th><td>s273</td><td>Movie</td><td>Aashayein</td><td>Nagesh Kukunoor</td><td>John Abraham, Sonal Sehgal, Prateeksha Lonkar, Girish Karnad, Farida Jalal, Ashwin Chitale, Anaitha Nair, Vikram Inamdar, Vipin Bhali, Poonam Chitale, Nagesh Kukunoor</td></tr><tr><th>4</th><td>s275</td><td>Movie</td><td>Aata Pita</td><td>Uttung Shelar</td><td>Sanjay Narvekar, Bharat Jadhav, Satish Phulekar, Ashwini Apte</td></tr><tr><th>5</th><td>s300</td><td>Movie</td><td>Act of Vengeance</td><td>Mahsun Kırmızıgül</td><td>Haluk Bilginer, Mahsun Kırmızıgül, Mustafa Sandal, Gina Gershon, Robert Patrick, Danny Glover, Engin Altan Düzyatan, Scott William Winters, Sharrieff Pugh</td></tr><tr><th>6</th><td>s301</td><td>Movie</td><td>Action Replayy</td><td>Vipul Amrutlal Shah</td><td>Akshay Kumar, Aishwarya Rai Bachchan, Om Puri, Kiron Kher, Neha Dhupia, Rannvijay Singh, Aditya Roy Kapur, Sudeepa Singh, Randhir Kapoor, Rajpal Yadav</td></tr><tr><th>7</th><td>s504</td><td>Movie</td><td>Anchor Baby</td><td>Lonzo Nzekwe</td><td>Omoni Oboli, Sam Sarpong, Terri Oliver, Colin Paradine, Mark Cassius</td></tr><tr><th>8</th><td>s623</td><td>Movie</td><td>Aurora</td><td>Cristi Puiu</td><td>Cristi Puiu, Clara Voda, Catrinel Dumitrescu, Luminita Gheorghiu, Valentin Popescu, Gheorghe Ifrim, Ileana Puiu, Valeria Seciu, Gelu Colceag</td></tr><tr><th>9</th><td>s719</td><td>Movie</td><td>Bang Rajan 2</td><td>Tanit Jitnukul</td><td>Puri Hiranyapluek, Paradorn Srichaphan, Chatchai Plengpanich</td></tr><tr><th>10</th><td>s738</td><td>Movie</td><td>Barbie in A Mermaid Tale</td><td>Adam Wood</td><td>Kelly Sheridan, Kathleen Barr, Tabitha St. Germain, Peter Mel, Nakia Burrise, Maryke Hendrikse, Emma Pierson, Ciara Janson, Garry Chalk, Nicole Oliver</td></tr></tbody></table></div>"
      ],
      "text/latex": [
       "\\begin{tabular}{r|cccccc}\n",
       "\t& show\\_id & type & title & director & cast & \\\\\n",
       "\t\\hline\n",
       "\t& String7 & String7 & String & String & String? & \\\\\n",
       "\t\\hline\n",
       "\t1 & s43 & Movie & Çok Filim Hareketler Bunlar & Ozan Açıktan & Ayça Erturan, Aydan Taş, Ayşegül Akdemir, Burcu Gönder, Bülent Emrah Parlak, Büşra Pekin, Emre Canpolat, Ersin Korkut, Eser Yenenler, Gizem Tuğral, Gülhan Tekin, Gülsüm Alkan, Hamdi Kahraman, İbrahim Büyükak, Metin Keçeci & $\\dots$ \\\\\n",
       "\t2 & s69 & Movie & 14 Blades & Daniel Lee & Donnie Yen, Zhao Wei, Wu Chun, Law Kar-Ying, Kate Tsui, Yuwu Qi, Wu Ma, Chen Kuan Tai, Sammo Kam-Bo Hung, Chen Zhi Hui, Damian Lau, Xiang Dong Xu & $\\dots$ \\\\\n",
       "\t3 & s273 & Movie & Aashayein & Nagesh Kukunoor & John Abraham, Sonal Sehgal, Prateeksha Lonkar, Girish Karnad, Farida Jalal, Ashwin Chitale, Anaitha Nair, Vikram Inamdar, Vipin Bhali, Poonam Chitale, Nagesh Kukunoor & $\\dots$ \\\\\n",
       "\t4 & s275 & Movie & Aata Pita & Uttung Shelar & Sanjay Narvekar, Bharat Jadhav, Satish Phulekar, Ashwini Apte & $\\dots$ \\\\\n",
       "\t5 & s300 & Movie & Act of Vengeance & Mahsun Kırmızıgül & Haluk Bilginer, Mahsun Kırmızıgül, Mustafa Sandal, Gina Gershon, Robert Patrick, Danny Glover, Engin Altan Düzyatan, Scott William Winters, Sharrieff Pugh & $\\dots$ \\\\\n",
       "\t6 & s301 & Movie & Action Replayy & Vipul Amrutlal Shah & Akshay Kumar, Aishwarya Rai Bachchan, Om Puri, Kiron Kher, Neha Dhupia, Rannvijay Singh, Aditya Roy Kapur, Sudeepa Singh, Randhir Kapoor, Rajpal Yadav & $\\dots$ \\\\\n",
       "\t7 & s504 & Movie & Anchor Baby & Lonzo Nzekwe & Omoni Oboli, Sam Sarpong, Terri Oliver, Colin Paradine, Mark Cassius & $\\dots$ \\\\\n",
       "\t8 & s623 & Movie & Aurora & Cristi Puiu & Cristi Puiu, Clara Voda, Catrinel Dumitrescu, Luminita Gheorghiu, Valentin Popescu, Gheorghe Ifrim, Ileana Puiu, Valeria Seciu, Gelu Colceag & $\\dots$ \\\\\n",
       "\t9 & s719 & Movie & Bang Rajan 2 & Tanit Jitnukul & Puri Hiranyapluek, Paradorn Srichaphan, Chatchai Plengpanich & $\\dots$ \\\\\n",
       "\t10 & s738 & Movie & Barbie in A Mermaid Tale & Adam Wood & Kelly Sheridan, Kathleen Barr, Tabitha St. Germain, Peter Mel, Nakia Burrise, Maryke Hendrikse, Emma Pierson, Ciara Janson, Garry Chalk, Nicole Oliver & $\\dots$ \\\\\n",
       "\\end{tabular}\n"
      ],
      "text/plain": [
       "\u001b[1m10×13 DataFrame\u001b[0m\n",
       "\u001b[1m Row \u001b[0m│\u001b[1m show_id \u001b[0m\u001b[1m type    \u001b[0m\u001b[1m title                       \u001b[0m\u001b[1m director            \u001b[0m\u001b[1m cas\u001b[0m ⋯\n",
       "\u001b[1m     \u001b[0m│\u001b[90m String7 \u001b[0m\u001b[90m String7 \u001b[0m\u001b[90m String                      \u001b[0m\u001b[90m String              \u001b[0m\u001b[90m Str\u001b[0m ⋯\n",
       "─────┼──────────────────────────────────────────────────────────────────────────\n",
       "   1 │ s43      Movie    Çok Filim Hareketler Bunlar  Ozan Açıktan         Ayç ⋯\n",
       "   2 │ s69      Movie    14 Blades                    Daniel Lee           Don\n",
       "   3 │ s273     Movie    Aashayein                    Nagesh Kukunoor      Joh\n",
       "   4 │ s275     Movie    Aata Pita                    Uttung Shelar        San\n",
       "   5 │ s300     Movie    Act of Vengeance             Mahsun Kırmızıgül    Hal ⋯\n",
       "   6 │ s301     Movie    Action Replayy               Vipul Amrutlal Shah  Aks\n",
       "   7 │ s504     Movie    Anchor Baby                  Lonzo Nzekwe         Omo\n",
       "   8 │ s623     Movie    Aurora                       Cristi Puiu          Cri\n",
       "   9 │ s719     Movie    Bang Rajan 2                 Tanit Jitnukul       Pur ⋯\n",
       "  10 │ s738     Movie    Barbie in A Mermaid Tale     Adam Wood            Kel\n",
       "\u001b[36m                                                               9 columns omitted\u001b[0m"
      ]
     },
     "execution_count": 86,
     "metadata": {},
     "output_type": "execute_result"
    }
   ],
   "source": [
    "first(filter(row -> row.release_year < 2011, netflix), 10)"
   ]
  },
  {
   "cell_type": "code",
   "execution_count": 93,
   "id": "7099efd2",
   "metadata": {},
   "outputs": [
    {
     "data": {
      "text/html": [
       "<div class=\"data-frame\"><p>10 rows × 13 columns (omitted printing of 9 columns)</p><table class=\"data-frame\"><thead><tr><th></th><th>show_id</th><th>type</th><th>title</th><th>director</th></tr><tr><th></th><th title=\"String7\">String7</th><th title=\"String7\">String7</th><th title=\"String\">String</th><th title=\"String\">String</th></tr></thead><tbody><tr><th>1</th><td>s2991</td><td>Movie</td><td>Indiana Jones and the Kingdom of the Crystal Skull</td><td>Steven Spielberg</td></tr><tr><th>2</th><td>s3048</td><td>Movie</td><td>Ip Man</td><td>Wilson Yip</td></tr><tr><th>3</th><td>s6121</td><td>Movie</td><td>The Beast Stalker</td><td>Dante Lam</td></tr><tr><th>4</th><td>s6082</td><td>Movie</td><td>The Amityville Horror</td><td>Andrew Douglas</td></tr><tr><th>5</th><td>s6119</td><td>Movie</td><td>The Beach Loafer</td><td>Ali Ragab</td></tr><tr><th>6</th><td>s3041</td><td>Movie</td><td>InuYasha: The Movie 2: The Castle Beyond the Looking Glass</td><td>Toshiya Shinohara</td></tr><tr><th>7</th><td>s3040</td><td>Movie</td><td>InuYasha the Movie: Affections Touching Across Time</td><td>Toshiya Shinohara</td></tr><tr><th>8</th><td>s6081</td><td>Movie</td><td>The American President</td><td>Rob Reiner</td></tr><tr><th>9</th><td>s6114</td><td>Movie</td><td>The Bare-Footed Kid</td><td>Johnnie To</td></tr><tr><th>10</th><td>s2992</td><td>Movie</td><td>Indiana Jones and the Last Crusade</td><td>Steven Spielberg</td></tr></tbody></table></div>"
      ],
      "text/latex": [
       "\\begin{tabular}{r|ccccc}\n",
       "\t& show\\_id & type & title & director & \\\\\n",
       "\t\\hline\n",
       "\t& String7 & String7 & String & String & \\\\\n",
       "\t\\hline\n",
       "\t1 & s2991 & Movie & Indiana Jones and the Kingdom of the Crystal Skull & Steven Spielberg & $\\dots$ \\\\\n",
       "\t2 & s3048 & Movie & Ip Man & Wilson Yip & $\\dots$ \\\\\n",
       "\t3 & s6121 & Movie & The Beast Stalker & Dante Lam & $\\dots$ \\\\\n",
       "\t4 & s6082 & Movie & The Amityville Horror & Andrew Douglas & $\\dots$ \\\\\n",
       "\t5 & s6119 & Movie & The Beach Loafer & Ali Ragab & $\\dots$ \\\\\n",
       "\t6 & s3041 & Movie & InuYasha: The Movie 2: The Castle Beyond the Looking Glass & Toshiya Shinohara & $\\dots$ \\\\\n",
       "\t7 & s3040 & Movie & InuYasha the Movie: Affections Touching Across Time & Toshiya Shinohara & $\\dots$ \\\\\n",
       "\t8 & s6081 & Movie & The American President & Rob Reiner & $\\dots$ \\\\\n",
       "\t9 & s6114 & Movie & The Bare-Footed Kid & Johnnie To & $\\dots$ \\\\\n",
       "\t10 & s2992 & Movie & Indiana Jones and the Last Crusade & Steven Spielberg & $\\dots$ \\\\\n",
       "\\end{tabular}\n"
      ],
      "text/plain": [
       "\u001b[1m10×13 DataFrame\u001b[0m\n",
       "\u001b[1m Row \u001b[0m│\u001b[1m show_id \u001b[0m\u001b[1m type    \u001b[0m\u001b[1m title                             \u001b[0m\u001b[1m director          \u001b[0m\u001b[1m\u001b[0m ⋯\n",
       "\u001b[1m     \u001b[0m│\u001b[90m String7 \u001b[0m\u001b[90m String7 \u001b[0m\u001b[90m String                            \u001b[0m\u001b[90m String            \u001b[0m\u001b[90m\u001b[0m ⋯\n",
       "─────┼──────────────────────────────────────────────────────────────────────────\n",
       "   1 │ s2991    Movie    Indiana Jones and the Kingdom of…  Steven Spielberg   ⋯\n",
       "   2 │ s3048    Movie    Ip Man                             Wilson Yip\n",
       "   3 │ s6121    Movie    The Beast Stalker                  Dante Lam\n",
       "   4 │ s6082    Movie    The Amityville Horror              Andrew Douglas\n",
       "   5 │ s6119    Movie    The Beach Loafer                   Ali Ragab          ⋯\n",
       "   6 │ s3041    Movie    InuYasha: The Movie 2: The Castl…  Toshiya Shinohara\n",
       "   7 │ s3040    Movie    InuYasha the Movie: Affections T…  Toshiya Shinohara\n",
       "   8 │ s6081    Movie    The American President             Rob Reiner\n",
       "   9 │ s6114    Movie    The Bare-Footed Kid                Johnnie To         ⋯\n",
       "  10 │ s2992    Movie    Indiana Jones and the Last Crusa…  Steven Spielberg\n",
       "\u001b[36m                                                               9 columns omitted\u001b[0m"
      ]
     },
     "execution_count": 93,
     "metadata": {},
     "output_type": "execute_result"
    }
   ],
   "source": [
    "first(filter(row -> row.release_year < 2011 & row.new_col >  20, netflix), 10)"
   ]
  },
  {
   "cell_type": "code",
   "execution_count": 97,
   "id": "afe8faff",
   "metadata": {},
   "outputs": [
    {
     "data": {
      "text/html": [
       "<div class=\"data-frame\"><p>10 rows × 13 columns (omitted printing of 9 columns)</p><table class=\"data-frame\"><thead><tr><th></th><th>show_id</th><th>type</th><th>title</th><th>director</th></tr><tr><th></th><th title=\"String7\">String7</th><th title=\"String7\">String7</th><th title=\"String\">String</th><th title=\"String\">String</th></tr></thead><tbody><tr><th>1</th><td>s1286</td><td>Movie</td><td>Charming</td><td>Ross Venokur</td></tr><tr><th>2</th><td>s1515</td><td>Movie</td><td>Crack: Cocaine, Corruption &amp; Conspiracy</td><td>Stanley Nelson</td></tr><tr><th>3</th><td>s6478</td><td>TV Show</td><td>The Idhun Chronicles</td><td>Maite Ruiz De Austri</td></tr><tr><th>4</th><td>s7552</td><td>Movie</td><td>What Happened to Mr. Cha?</td><td>Kim Dong-kyu</td></tr><tr><th>5</th><td>s7570</td><td>Movie</td><td>What Would Sophia Loren Do?</td><td>Ross Kauffman</td></tr><tr><th>6</th><td>s28</td><td>Movie</td><td>#Alive</td><td>Cho Il</td></tr><tr><th>7</th><td>s31</td><td>Movie</td><td>#cats_the_mewvie</td><td>Michael Margolis</td></tr><tr><th>8</th><td>s33</td><td>Movie</td><td>#FriendButMarried 2</td><td>Rako Prijanto</td></tr><tr><th>9</th><td>s44</td><td>Movie</td><td>Òlòtūré</td><td>Kenneth Gyang</td></tr><tr><th>10</th><td>s58</td><td>Movie</td><td>100% Halal</td><td>Jastis Arimba</td></tr></tbody></table></div>"
      ],
      "text/latex": [
       "\\begin{tabular}{r|ccccc}\n",
       "\t& show\\_id & type & title & director & \\\\\n",
       "\t\\hline\n",
       "\t& String7 & String7 & String & String & \\\\\n",
       "\t\\hline\n",
       "\t1 & s1286 & Movie & Charming & Ross Venokur & $\\dots$ \\\\\n",
       "\t2 & s1515 & Movie & Crack: Cocaine, Corruption \\& Conspiracy & Stanley Nelson & $\\dots$ \\\\\n",
       "\t3 & s6478 & TV Show & The Idhun Chronicles & Maite Ruiz De Austri & $\\dots$ \\\\\n",
       "\t4 & s7552 & Movie & What Happened to Mr. Cha? & Kim Dong-kyu & $\\dots$ \\\\\n",
       "\t5 & s7570 & Movie & What Would Sophia Loren Do? & Ross Kauffman & $\\dots$ \\\\\n",
       "\t6 & s28 & Movie & \\#Alive & Cho Il & $\\dots$ \\\\\n",
       "\t7 & s31 & Movie & \\#cats\\_the\\_mewvie & Michael Margolis & $\\dots$ \\\\\n",
       "\t8 & s33 & Movie & \\#FriendButMarried 2 & Rako Prijanto & $\\dots$ \\\\\n",
       "\t9 & s44 & Movie & Òlòtūré & Kenneth Gyang & $\\dots$ \\\\\n",
       "\t10 & s58 & Movie & 100\\% Halal & Jastis Arimba & $\\dots$ \\\\\n",
       "\\end{tabular}\n"
      ],
      "text/plain": [
       "\u001b[1m10×13 DataFrame\u001b[0m\n",
       "\u001b[1m Row \u001b[0m│\u001b[1m show_id \u001b[0m\u001b[1m type    \u001b[0m\u001b[1m title                             \u001b[0m\u001b[1m director          \u001b[0m ⋯\n",
       "\u001b[1m     \u001b[0m│\u001b[90m String7 \u001b[0m\u001b[90m String7 \u001b[0m\u001b[90m String                            \u001b[0m\u001b[90m String            \u001b[0m ⋯\n",
       "─────┼──────────────────────────────────────────────────────────────────────────\n",
       "   1 │ s1286    Movie    Charming                           Ross Venokur       ⋯\n",
       "   2 │ s1515    Movie    Crack: Cocaine, Corruption & Con…  Stanley Nelson\n",
       "   3 │ s6478    TV Show  The Idhun Chronicles               Maite Ruiz De Aust\n",
       "   4 │ s7552    Movie    What Happened to Mr. Cha?          Kim Dong-kyu\n",
       "   5 │ s7570    Movie    What Would Sophia Loren Do?        Ross Kauffman      ⋯\n",
       "   6 │ s28      Movie    #Alive                             Cho Il\n",
       "   7 │ s31      Movie    #cats_the_mewvie                   Michael Margolis\n",
       "   8 │ s33      Movie    #FriendButMarried 2                Rako Prijanto\n",
       "   9 │ s44      Movie    Òlòtūré                            Kenneth Gyang      ⋯\n",
       "  10 │ s58      Movie    100% Halal                         Jastis Arimba\n",
       "\u001b[36m                                                              10 columns omitted\u001b[0m"
      ]
     },
     "execution_count": 97,
     "metadata": {},
     "output_type": "execute_result"
    }
   ],
   "source": [
    "first(filter(row -> row.release_year < 2011 | row.release_year > 2000, netflix), 10)"
   ]
  },
  {
   "cell_type": "markdown",
   "id": "9eacf2a6",
   "metadata": {},
   "source": [
    "### ***Subsetting based on text data***"
   ]
  },
  {
   "cell_type": "code",
   "execution_count": null,
   "id": "30333e83",
   "metadata": {},
   "outputs": [],
   "source": [
    "filter(row -> row.country == \"Peru\", netflix)"
   ]
  },
  {
   "cell_type": "code",
   "execution_count": 100,
   "id": "a02a045d",
   "metadata": {},
   "outputs": [
    {
     "data": {
      "text/html": [
       "<div class=\"data-frame\"><p>4,701 rows × 13 columns (omitted printing of 9 columns)</p><table class=\"data-frame\"><thead><tr><th></th><th>show_id</th><th>type</th><th>title</th><th>director</th></tr><tr><th></th><th title=\"String7\">String7</th><th title=\"String7\">String7</th><th title=\"String\">String</th><th title=\"String\">String</th></tr></thead><tbody><tr><th>1</th><td>s1286</td><td>Movie</td><td>Charming</td><td>Ross Venokur</td></tr><tr><th>2</th><td>s1515</td><td>Movie</td><td>Crack: Cocaine, Corruption &amp; Conspiracy</td><td>Stanley Nelson</td></tr><tr><th>3</th><td>s6478</td><td>TV Show</td><td>The Idhun Chronicles</td><td>Maite Ruiz De Austri</td></tr><tr><th>4</th><td>s7552</td><td>Movie</td><td>What Happened to Mr. Cha?</td><td>Kim Dong-kyu</td></tr><tr><th>5</th><td>s7570</td><td>Movie</td><td>What Would Sophia Loren Do?</td><td>Ross Kauffman</td></tr><tr><th>6</th><td>s28</td><td>Movie</td><td>#Alive</td><td>Cho Il</td></tr><tr><th>7</th><td>s31</td><td>Movie</td><td>#cats_the_mewvie</td><td>Michael Margolis</td></tr><tr><th>8</th><td>s33</td><td>Movie</td><td>#FriendButMarried 2</td><td>Rako Prijanto</td></tr><tr><th>9</th><td>s44</td><td>Movie</td><td>Òlòtūré</td><td>Kenneth Gyang</td></tr><tr><th>10</th><td>s58</td><td>Movie</td><td>100% Halal</td><td>Jastis Arimba</td></tr><tr><th>11</th><td>s74</td><td>Movie</td><td>18 Presents</td><td>Francesco Amato</td></tr><tr><th>12</th><td>s107</td><td>Movie</td><td>365 Days</td><td>Barbara Białowąs, Tomasz Mandes</td></tr><tr><th>13</th><td>s108</td><td>Movie</td><td>37 Seconds</td><td>Hikari</td></tr><tr><th>14</th><td>s148</td><td>Movie</td><td>A Babysitter&apos;s Guide to Monster Hunting</td><td>Rachel Talalay</td></tr><tr><th>15</th><td>s155</td><td>Movie</td><td>A California Christmas</td><td>Shaun Paul Piccinino</td></tr><tr><th>16</th><td>s158</td><td>Movie</td><td>A Choo</td><td>Kevin Ko, Peter Tsi</td></tr><tr><th>17</th><td>s169</td><td>Movie</td><td>A Fall from Grace</td><td>Tyler Perry</td></tr><tr><th>18</th><td>s178</td><td>Movie</td><td>A Go! Go! Cory Carson Christmas</td><td>Stanley Moore, Alex Woo</td></tr><tr><th>19</th><td>s195</td><td>Movie</td><td>A Life of Speed: The Juan Manuel Fangio Story</td><td>Francisco Macri</td></tr><tr><th>20</th><td>s201</td><td>Movie</td><td>A Love Song for Latasha</td><td>Sophia Nahli Allison</td></tr><tr><th>21</th><td>s210</td><td>Movie</td><td>A New York Christmas Wedding</td><td>Otoja Abit</td></tr><tr><th>22</th><td>s219</td><td>TV Show</td><td>A Queen Is Born</td><td>Carla Barros</td></tr><tr><th>23</th><td>s224</td><td>Movie</td><td>A Secret Love</td><td>Chris Bolan</td></tr><tr><th>24</th><td>s228</td><td>Movie</td><td>A Shaun the Sheep Movie: Farmageddon</td><td>Richard Phelan, Will Becher</td></tr><tr><th>25</th><td>s245</td><td>Movie</td><td>A truthful Mother</td><td>Ravishankar Venkateswaran</td></tr><tr><th>26</th><td>s254</td><td>Movie</td><td>A Whisker Away</td><td>Junichi Sato, Tomotaka Shibayama</td></tr><tr><th>27</th><td>s305</td><td>Movie</td><td>Adú</td><td>Salvador Calvo</td></tr><tr><th>28</th><td>s321</td><td>Movie</td><td>Afonso Padilha: Classless</td><td>Junior Carelli, Rudge Campos</td></tr><tr><th>29</th><td>s330</td><td>Movie</td><td>After We Collided</td><td>Roger Kumble</td></tr><tr><th>30</th><td>s352</td><td>Movie</td><td>Ainu Mosir</td><td>Takeshi Fukunaga</td></tr><tr><th>&vellip;</th><td>&vellip;</td><td>&vellip;</td><td>&vellip;</td><td>&vellip;</td></tr></tbody></table></div>"
      ],
      "text/latex": [
       "\\begin{tabular}{r|ccccc}\n",
       "\t& show\\_id & type & title & director & \\\\\n",
       "\t\\hline\n",
       "\t& String7 & String7 & String & String & \\\\\n",
       "\t\\hline\n",
       "\t1 & s1286 & Movie & Charming & Ross Venokur & $\\dots$ \\\\\n",
       "\t2 & s1515 & Movie & Crack: Cocaine, Corruption \\& Conspiracy & Stanley Nelson & $\\dots$ \\\\\n",
       "\t3 & s6478 & TV Show & The Idhun Chronicles & Maite Ruiz De Austri & $\\dots$ \\\\\n",
       "\t4 & s7552 & Movie & What Happened to Mr. Cha? & Kim Dong-kyu & $\\dots$ \\\\\n",
       "\t5 & s7570 & Movie & What Would Sophia Loren Do? & Ross Kauffman & $\\dots$ \\\\\n",
       "\t6 & s28 & Movie & \\#Alive & Cho Il & $\\dots$ \\\\\n",
       "\t7 & s31 & Movie & \\#cats\\_the\\_mewvie & Michael Margolis & $\\dots$ \\\\\n",
       "\t8 & s33 & Movie & \\#FriendButMarried 2 & Rako Prijanto & $\\dots$ \\\\\n",
       "\t9 & s44 & Movie & Òlòtūré & Kenneth Gyang & $\\dots$ \\\\\n",
       "\t10 & s58 & Movie & 100\\% Halal & Jastis Arimba & $\\dots$ \\\\\n",
       "\t11 & s74 & Movie & 18 Presents & Francesco Amato & $\\dots$ \\\\\n",
       "\t12 & s107 & Movie & 365 Days & Barbara Białowąs, Tomasz Mandes & $\\dots$ \\\\\n",
       "\t13 & s108 & Movie & 37 Seconds & Hikari & $\\dots$ \\\\\n",
       "\t14 & s148 & Movie & A Babysitter's Guide to Monster Hunting & Rachel Talalay & $\\dots$ \\\\\n",
       "\t15 & s155 & Movie & A California Christmas & Shaun Paul Piccinino & $\\dots$ \\\\\n",
       "\t16 & s158 & Movie & A Choo & Kevin Ko, Peter Tsi & $\\dots$ \\\\\n",
       "\t17 & s169 & Movie & A Fall from Grace & Tyler Perry & $\\dots$ \\\\\n",
       "\t18 & s178 & Movie & A Go! Go! Cory Carson Christmas & Stanley Moore, Alex Woo & $\\dots$ \\\\\n",
       "\t19 & s195 & Movie & A Life of Speed: The Juan Manuel Fangio Story & Francisco Macri & $\\dots$ \\\\\n",
       "\t20 & s201 & Movie & A Love Song for Latasha & Sophia Nahli Allison & $\\dots$ \\\\\n",
       "\t21 & s210 & Movie & A New York Christmas Wedding & Otoja Abit & $\\dots$ \\\\\n",
       "\t22 & s219 & TV Show & A Queen Is Born & Carla Barros & $\\dots$ \\\\\n",
       "\t23 & s224 & Movie & A Secret Love & Chris Bolan & $\\dots$ \\\\\n",
       "\t24 & s228 & Movie & A Shaun the Sheep Movie: Farmageddon & Richard Phelan, Will Becher & $\\dots$ \\\\\n",
       "\t25 & s245 & Movie & A truthful Mother & Ravishankar Venkateswaran & $\\dots$ \\\\\n",
       "\t26 & s254 & Movie & A Whisker Away & Junichi Sato, Tomotaka Shibayama & $\\dots$ \\\\\n",
       "\t27 & s305 & Movie & Adú & Salvador Calvo & $\\dots$ \\\\\n",
       "\t28 & s321 & Movie & Afonso Padilha: Classless & Junior Carelli, Rudge Campos & $\\dots$ \\\\\n",
       "\t29 & s330 & Movie & After We Collided & Roger Kumble & $\\dots$ \\\\\n",
       "\t30 & s352 & Movie & Ainu Mosir & Takeshi Fukunaga & $\\dots$ \\\\\n",
       "\t$\\dots$ & $\\dots$ & $\\dots$ & $\\dots$ & $\\dots$ &  \\\\\n",
       "\\end{tabular}\n"
      ],
      "text/plain": [
       "\u001b[1m4701×13 DataFrame\u001b[0m\n",
       "\u001b[1m  Row \u001b[0m│\u001b[1m show_id \u001b[0m\u001b[1m type    \u001b[0m\u001b[1m title                             \u001b[0m\u001b[1m director         \u001b[0m ⋯\n",
       "\u001b[1m      \u001b[0m│\u001b[90m String7 \u001b[0m\u001b[90m String7 \u001b[0m\u001b[90m String                            \u001b[0m\u001b[90m String           \u001b[0m ⋯\n",
       "──────┼─────────────────────────────────────────────────────────────────────────\n",
       "    1 │ s1286    Movie    Charming                           Ross Venokur      ⋯\n",
       "    2 │ s1515    Movie    Crack: Cocaine, Corruption & Con…  Stanley Nelson\n",
       "    3 │ s6478    TV Show  The Idhun Chronicles               Maite Ruiz De Aus\n",
       "    4 │ s7552    Movie    What Happened to Mr. Cha?          Kim Dong-kyu\n",
       "    5 │ s7570    Movie    What Would Sophia Loren Do?        Ross Kauffman     ⋯\n",
       "    6 │ s28      Movie    #Alive                             Cho Il\n",
       "    7 │ s31      Movie    #cats_the_mewvie                   Michael Margolis\n",
       "    8 │ s33      Movie    #FriendButMarried 2                Rako Prijanto\n",
       "    9 │ s44      Movie    Òlòtūré                            Kenneth Gyang     ⋯\n",
       "   10 │ s58      Movie    100% Halal                         Jastis Arimba\n",
       "   11 │ s74      Movie    18 Presents                        Francesco Amato\n",
       "  ⋮   │    ⋮        ⋮                     ⋮                                  ⋮ ⋱\n",
       " 4692 │ s4437    Movie    Nazi Concentration Camps           George Stevens\n",
       " 4693 │ s5372    Movie    San Pietro                         John Huston       ⋯\n",
       " 4694 │ s6658    Movie    The Memphis Belle: A Story of a\\…  William Wyler\n",
       " 4695 │ s6700    Movie    The Negro Soldier                  Stuart Heisler\n",
       " 4696 │ s7269    Movie    Tunisian Victory                   Frank Capra, John\n",
       " 4697 │ s7343    Movie    Undercover: How to Operate Behin…  John Ford         ⋯\n",
       " 4698 │ s7617    Movie    Why We Fight: The Battle of Russ…  Frank Capra, Anat\n",
       " 4699 │ s7680    Movie    WWII: Report from the Aleutians    John Huston\n",
       " 4700 │ s4961    Movie    Prelude to War                     Frank Capra\n",
       " 4701 │ s6118    Movie    The Battle of Midway               John Ford         ⋯\n",
       "\u001b[36m                                                10 columns and 4680 rows omitted\u001b[0m"
      ]
     },
     "execution_count": 100,
     "metadata": {},
     "output_type": "execute_result"
    }
   ],
   "source": [
    "filter!(row -> row.release_year < 2011 | row.release_year > 2000, netflix) \n",
    "\n",
    "#filter!(row -> row.release_year < 2011 | row.release_year > 2000, netflix) actualiar la base de datos"
   ]
  },
  {
   "cell_type": "code",
   "execution_count": 104,
   "id": "30c822d8",
   "metadata": {},
   "outputs": [
    {
     "data": {
      "text/html": [
       "<div class=\"data-frame\"><p>4,701 rows × 13 columns (omitted printing of 9 columns)</p><table class=\"data-frame\"><thead><tr><th></th><th>show_id</th><th>type</th><th>titulo</th><th>director</th></tr><tr><th></th><th title=\"String7\">String7</th><th title=\"String7\">String7</th><th title=\"String\">String</th><th title=\"String\">String</th></tr></thead><tbody><tr><th>1</th><td>s1286</td><td>Movie</td><td>Charming</td><td>Ross Venokur</td></tr><tr><th>2</th><td>s1515</td><td>Movie</td><td>Crack: Cocaine, Corruption &amp; Conspiracy</td><td>Stanley Nelson</td></tr><tr><th>3</th><td>s6478</td><td>TV Show</td><td>The Idhun Chronicles</td><td>Maite Ruiz De Austri</td></tr><tr><th>4</th><td>s7552</td><td>Movie</td><td>What Happened to Mr. Cha?</td><td>Kim Dong-kyu</td></tr><tr><th>5</th><td>s7570</td><td>Movie</td><td>What Would Sophia Loren Do?</td><td>Ross Kauffman</td></tr><tr><th>6</th><td>s28</td><td>Movie</td><td>#Alive</td><td>Cho Il</td></tr><tr><th>7</th><td>s31</td><td>Movie</td><td>#cats_the_mewvie</td><td>Michael Margolis</td></tr><tr><th>8</th><td>s33</td><td>Movie</td><td>#FriendButMarried 2</td><td>Rako Prijanto</td></tr><tr><th>9</th><td>s44</td><td>Movie</td><td>Òlòtūré</td><td>Kenneth Gyang</td></tr><tr><th>10</th><td>s58</td><td>Movie</td><td>100% Halal</td><td>Jastis Arimba</td></tr><tr><th>11</th><td>s74</td><td>Movie</td><td>18 Presents</td><td>Francesco Amato</td></tr><tr><th>12</th><td>s107</td><td>Movie</td><td>365 Days</td><td>Barbara Białowąs, Tomasz Mandes</td></tr><tr><th>13</th><td>s108</td><td>Movie</td><td>37 Seconds</td><td>Hikari</td></tr><tr><th>14</th><td>s148</td><td>Movie</td><td>A Babysitter&apos;s Guide to Monster Hunting</td><td>Rachel Talalay</td></tr><tr><th>15</th><td>s155</td><td>Movie</td><td>A California Christmas</td><td>Shaun Paul Piccinino</td></tr><tr><th>16</th><td>s158</td><td>Movie</td><td>A Choo</td><td>Kevin Ko, Peter Tsi</td></tr><tr><th>17</th><td>s169</td><td>Movie</td><td>A Fall from Grace</td><td>Tyler Perry</td></tr><tr><th>18</th><td>s178</td><td>Movie</td><td>A Go! Go! Cory Carson Christmas</td><td>Stanley Moore, Alex Woo</td></tr><tr><th>19</th><td>s195</td><td>Movie</td><td>A Life of Speed: The Juan Manuel Fangio Story</td><td>Francisco Macri</td></tr><tr><th>20</th><td>s201</td><td>Movie</td><td>A Love Song for Latasha</td><td>Sophia Nahli Allison</td></tr><tr><th>21</th><td>s210</td><td>Movie</td><td>A New York Christmas Wedding</td><td>Otoja Abit</td></tr><tr><th>22</th><td>s219</td><td>TV Show</td><td>A Queen Is Born</td><td>Carla Barros</td></tr><tr><th>23</th><td>s224</td><td>Movie</td><td>A Secret Love</td><td>Chris Bolan</td></tr><tr><th>24</th><td>s228</td><td>Movie</td><td>A Shaun the Sheep Movie: Farmageddon</td><td>Richard Phelan, Will Becher</td></tr><tr><th>25</th><td>s245</td><td>Movie</td><td>A truthful Mother</td><td>Ravishankar Venkateswaran</td></tr><tr><th>26</th><td>s254</td><td>Movie</td><td>A Whisker Away</td><td>Junichi Sato, Tomotaka Shibayama</td></tr><tr><th>27</th><td>s305</td><td>Movie</td><td>Adú</td><td>Salvador Calvo</td></tr><tr><th>28</th><td>s321</td><td>Movie</td><td>Afonso Padilha: Classless</td><td>Junior Carelli, Rudge Campos</td></tr><tr><th>29</th><td>s330</td><td>Movie</td><td>After We Collided</td><td>Roger Kumble</td></tr><tr><th>30</th><td>s352</td><td>Movie</td><td>Ainu Mosir</td><td>Takeshi Fukunaga</td></tr><tr><th>&vellip;</th><td>&vellip;</td><td>&vellip;</td><td>&vellip;</td><td>&vellip;</td></tr></tbody></table></div>"
      ],
      "text/latex": [
       "\\begin{tabular}{r|ccccc}\n",
       "\t& show\\_id & type & titulo & director & \\\\\n",
       "\t\\hline\n",
       "\t& String7 & String7 & String & String & \\\\\n",
       "\t\\hline\n",
       "\t1 & s1286 & Movie & Charming & Ross Venokur & $\\dots$ \\\\\n",
       "\t2 & s1515 & Movie & Crack: Cocaine, Corruption \\& Conspiracy & Stanley Nelson & $\\dots$ \\\\\n",
       "\t3 & s6478 & TV Show & The Idhun Chronicles & Maite Ruiz De Austri & $\\dots$ \\\\\n",
       "\t4 & s7552 & Movie & What Happened to Mr. Cha? & Kim Dong-kyu & $\\dots$ \\\\\n",
       "\t5 & s7570 & Movie & What Would Sophia Loren Do? & Ross Kauffman & $\\dots$ \\\\\n",
       "\t6 & s28 & Movie & \\#Alive & Cho Il & $\\dots$ \\\\\n",
       "\t7 & s31 & Movie & \\#cats\\_the\\_mewvie & Michael Margolis & $\\dots$ \\\\\n",
       "\t8 & s33 & Movie & \\#FriendButMarried 2 & Rako Prijanto & $\\dots$ \\\\\n",
       "\t9 & s44 & Movie & Òlòtūré & Kenneth Gyang & $\\dots$ \\\\\n",
       "\t10 & s58 & Movie & 100\\% Halal & Jastis Arimba & $\\dots$ \\\\\n",
       "\t11 & s74 & Movie & 18 Presents & Francesco Amato & $\\dots$ \\\\\n",
       "\t12 & s107 & Movie & 365 Days & Barbara Białowąs, Tomasz Mandes & $\\dots$ \\\\\n",
       "\t13 & s108 & Movie & 37 Seconds & Hikari & $\\dots$ \\\\\n",
       "\t14 & s148 & Movie & A Babysitter's Guide to Monster Hunting & Rachel Talalay & $\\dots$ \\\\\n",
       "\t15 & s155 & Movie & A California Christmas & Shaun Paul Piccinino & $\\dots$ \\\\\n",
       "\t16 & s158 & Movie & A Choo & Kevin Ko, Peter Tsi & $\\dots$ \\\\\n",
       "\t17 & s169 & Movie & A Fall from Grace & Tyler Perry & $\\dots$ \\\\\n",
       "\t18 & s178 & Movie & A Go! Go! Cory Carson Christmas & Stanley Moore, Alex Woo & $\\dots$ \\\\\n",
       "\t19 & s195 & Movie & A Life of Speed: The Juan Manuel Fangio Story & Francisco Macri & $\\dots$ \\\\\n",
       "\t20 & s201 & Movie & A Love Song for Latasha & Sophia Nahli Allison & $\\dots$ \\\\\n",
       "\t21 & s210 & Movie & A New York Christmas Wedding & Otoja Abit & $\\dots$ \\\\\n",
       "\t22 & s219 & TV Show & A Queen Is Born & Carla Barros & $\\dots$ \\\\\n",
       "\t23 & s224 & Movie & A Secret Love & Chris Bolan & $\\dots$ \\\\\n",
       "\t24 & s228 & Movie & A Shaun the Sheep Movie: Farmageddon & Richard Phelan, Will Becher & $\\dots$ \\\\\n",
       "\t25 & s245 & Movie & A truthful Mother & Ravishankar Venkateswaran & $\\dots$ \\\\\n",
       "\t26 & s254 & Movie & A Whisker Away & Junichi Sato, Tomotaka Shibayama & $\\dots$ \\\\\n",
       "\t27 & s305 & Movie & Adú & Salvador Calvo & $\\dots$ \\\\\n",
       "\t28 & s321 & Movie & Afonso Padilha: Classless & Junior Carelli, Rudge Campos & $\\dots$ \\\\\n",
       "\t29 & s330 & Movie & After We Collided & Roger Kumble & $\\dots$ \\\\\n",
       "\t30 & s352 & Movie & Ainu Mosir & Takeshi Fukunaga & $\\dots$ \\\\\n",
       "\t$\\dots$ & $\\dots$ & $\\dots$ & $\\dots$ & $\\dots$ &  \\\\\n",
       "\\end{tabular}\n"
      ],
      "text/plain": [
       "\u001b[1m4701×13 DataFrame\u001b[0m\n",
       "\u001b[1m  Row \u001b[0m│\u001b[1m show_id \u001b[0m\u001b[1m type    \u001b[0m\u001b[1m titulo                            \u001b[0m\u001b[1m director         \u001b[0m ⋯\n",
       "\u001b[1m      \u001b[0m│\u001b[90m String7 \u001b[0m\u001b[90m String7 \u001b[0m\u001b[90m String                            \u001b[0m\u001b[90m String           \u001b[0m ⋯\n",
       "──────┼─────────────────────────────────────────────────────────────────────────\n",
       "    1 │ s1286    Movie    Charming                           Ross Venokur      ⋯\n",
       "    2 │ s1515    Movie    Crack: Cocaine, Corruption & Con…  Stanley Nelson\n",
       "    3 │ s6478    TV Show  The Idhun Chronicles               Maite Ruiz De Aus\n",
       "    4 │ s7552    Movie    What Happened to Mr. Cha?          Kim Dong-kyu\n",
       "    5 │ s7570    Movie    What Would Sophia Loren Do?        Ross Kauffman     ⋯\n",
       "    6 │ s28      Movie    #Alive                             Cho Il\n",
       "    7 │ s31      Movie    #cats_the_mewvie                   Michael Margolis\n",
       "    8 │ s33      Movie    #FriendButMarried 2                Rako Prijanto\n",
       "    9 │ s44      Movie    Òlòtūré                            Kenneth Gyang     ⋯\n",
       "   10 │ s58      Movie    100% Halal                         Jastis Arimba\n",
       "   11 │ s74      Movie    18 Presents                        Francesco Amato\n",
       "  ⋮   │    ⋮        ⋮                     ⋮                                  ⋮ ⋱\n",
       " 4692 │ s4437    Movie    Nazi Concentration Camps           George Stevens\n",
       " 4693 │ s5372    Movie    San Pietro                         John Huston       ⋯\n",
       " 4694 │ s6658    Movie    The Memphis Belle: A Story of a\\…  William Wyler\n",
       " 4695 │ s6700    Movie    The Negro Soldier                  Stuart Heisler\n",
       " 4696 │ s7269    Movie    Tunisian Victory                   Frank Capra, John\n",
       " 4697 │ s7343    Movie    Undercover: How to Operate Behin…  John Ford         ⋯\n",
       " 4698 │ s7617    Movie    Why We Fight: The Battle of Russ…  Frank Capra, Anat\n",
       " 4699 │ s7680    Movie    WWII: Report from the Aleutians    John Huston\n",
       " 4700 │ s4961    Movie    Prelude to War                     Frank Capra\n",
       " 4701 │ s6118    Movie    The Battle of Midway               John Ford         ⋯\n",
       "\u001b[36m                                                10 columns and 4680 rows omitted\u001b[0m"
      ]
     },
     "execution_count": 104,
     "metadata": {},
     "output_type": "execute_result"
    }
   ],
   "source": [
    "# rename varaibles\n",
    "\n",
    "rename!(netflix, [:title, :duration] .=>  [:titulo, :Duration_movie])"
   ]
  },
  {
   "cell_type": "code",
   "execution_count": 107,
   "id": "f91d6912",
   "metadata": {},
   "outputs": [
    {
     "data": {
      "text/plain": [
       "\"../data/export_julia.xls\""
      ]
     },
     "execution_count": 107,
     "metadata": {},
     "output_type": "execute_result"
    }
   ],
   "source": [
    "CSV.write(\"../data/export_julia.csv\", netflix) \n",
    "\n",
    "CSV.write(\"../data/export_julia.xls\", netflix) "
   ]
  },
  {
   "cell_type": "markdown",
   "id": "c9e23082",
   "metadata": {},
   "source": [
    "## References \n",
    "\n",
    "https://dataframes.juliadata.org/stable/man/missing/"
   ]
  }
 ],
 "metadata": {
  "kernelspec": {
   "display_name": "Julia 1.7.3",
   "language": "julia",
   "name": "julia-1.7"
  },
  "language_info": {
   "file_extension": ".jl",
   "mimetype": "application/julia",
   "name": "julia",
   "version": "1.7.3"
  }
 },
 "nbformat": 4,
 "nbformat_minor": 5
}
